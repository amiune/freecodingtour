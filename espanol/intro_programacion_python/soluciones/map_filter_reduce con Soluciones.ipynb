{
 "cells": [
  {
   "cell_type": "markdown",
   "id": "f94fd7d2-3217-4ee0-b0fc-971d6c6f8378",
   "metadata": {},
   "source": [
    "# Map, Filter, Reduce"
   ]
  },
  {
   "cell_type": "markdown",
   "id": "6a8e69e6-4448-4e7d-9fdc-86dced120c11",
   "metadata": {},
   "source": [
    "## Map"
   ]
  },
  {
   "cell_type": "code",
   "execution_count": 2,
   "id": "a7e1b123-3972-4035-b0fc-75d89c20df65",
   "metadata": {},
   "outputs": [
    {
     "data": {
      "text/plain": [
       "[11, 21, 31, 41, 51, 61, 71, 81, 91]"
      ]
     },
     "execution_count": 2,
     "metadata": {},
     "output_type": "execute_result"
    }
   ],
   "source": [
    "def sumar1(x):\n",
    "    return x+1\n",
    "\n",
    "a = [10,20,30,40,50,60,70,80,90]\n",
    "\n",
    "list(map(sumar1, a))"
   ]
  },
  {
   "cell_type": "code",
   "execution_count": 12,
   "id": "f91922a0-d4fb-44fa-b6ac-b63089ad0ac5",
   "metadata": {},
   "outputs": [
    {
     "data": {
      "text/plain": [
       "[11, 21, 31, 41, 51, 61, 71, 81, 91]"
      ]
     },
     "execution_count": 12,
     "metadata": {},
     "output_type": "execute_result"
    }
   ],
   "source": [
    "a = [10,20,30,40,50,60,70,80,90]\n",
    "\n",
    "list(map(lambda x: x+1, a))"
   ]
  },
  {
   "cell_type": "code",
   "execution_count": 41,
   "id": "576b708d-eecc-4ad1-8561-fcd265dc6a43",
   "metadata": {},
   "outputs": [
    {
     "data": {
      "text/plain": [
       "[11, 22, 33, 44, 55, 66, 77, 88, 99]"
      ]
     },
     "execution_count": 41,
     "metadata": {},
     "output_type": "execute_result"
    }
   ],
   "source": [
    "def sumar_dos_listas(x, y):\n",
    "    return x + y\n",
    "\n",
    "a = [1,2,3,4,5,6,7,8,9]\n",
    "b = [10,20,30,40,50,60,70,80,90]\n",
    "\n",
    "list(map(sumar_dos_listas, a, b))"
   ]
  },
  {
   "cell_type": "markdown",
   "id": "81d63344-5af7-4212-bf44-b80d0f43d661",
   "metadata": {},
   "source": [
    "### Ejercicio 1\n",
    "\n",
    "Usar map para obtener la raiz cuadrada de cada elemento de la siguiente lista:\n",
    "\n",
    "a = [1,4,9,16,25,36,49]"
   ]
  },
  {
   "cell_type": "code",
   "execution_count": 34,
   "id": "61a0c39c-12fd-4427-9091-e17f8e836631",
   "metadata": {},
   "outputs": [
    {
     "data": {
      "text/plain": [
       "[1.0, 2.0, 3.0, 4.0, 5.0, 6.0, 7.0]"
      ]
     },
     "execution_count": 34,
     "metadata": {},
     "output_type": "execute_result"
    }
   ],
   "source": [
    "from math import sqrt\n",
    "a = [1,4,9,16,25,36,49]\n",
    "list(map(sqrt,a))"
   ]
  },
  {
   "cell_type": "markdown",
   "id": "0476ebb5-07fd-4934-aa1b-c58e2dca6986",
   "metadata": {},
   "source": [
    "### Ejercicio 2\n",
    "\n",
    "Usar map para obtener la palabra en minusculas de cada elemento de la siguiente lista:\n",
    "\n",
    "a = [\"ALFA\", \"BETA\", \"GAMA\", \"DELTA\"]"
   ]
  },
  {
   "cell_type": "code",
   "execution_count": 35,
   "id": "d2cfac14-3eb3-4e97-a148-6708619abecc",
   "metadata": {},
   "outputs": [
    {
     "data": {
      "text/plain": [
       "['alfa', 'beta', 'gama', 'delta']"
      ]
     },
     "execution_count": 35,
     "metadata": {},
     "output_type": "execute_result"
    }
   ],
   "source": [
    "a = [\"ALFA\", \"BETA\", \"GAMA\", \"DELTA\"]\n",
    "list(map(str.lower,a))"
   ]
  },
  {
   "cell_type": "markdown",
   "id": "65032162-93b0-4a64-a9f6-2ba0d3604b73",
   "metadata": {},
   "source": [
    "## Filter"
   ]
  },
  {
   "cell_type": "code",
   "execution_count": 3,
   "id": "766736e8-fa5c-46ba-8db2-2961de41a084",
   "metadata": {},
   "outputs": [
    {
     "data": {
      "text/plain": [
       "[20, 40, 60, 80]"
      ]
     },
     "execution_count": 3,
     "metadata": {},
     "output_type": "execute_result"
    }
   ],
   "source": [
    "def pares(x):\n",
    "    if x%2==0:\n",
    "        return True\n",
    "    else:\n",
    "        return False\n",
    "\n",
    "a = [11,20,31,40,51,60,71,80,91]\n",
    "\n",
    "list(filter(pares, a))"
   ]
  },
  {
   "cell_type": "code",
   "execution_count": 13,
   "id": "f57f56e0-28db-4c1e-958e-5f0d23bc52d0",
   "metadata": {},
   "outputs": [
    {
     "data": {
      "text/plain": [
       "[20, 40, 60, 80]"
      ]
     },
     "execution_count": 13,
     "metadata": {},
     "output_type": "execute_result"
    }
   ],
   "source": [
    "a = [11,20,31,40,51,60,71,80,91]\n",
    "\n",
    "list(filter(lambda x: x%2==0, a))"
   ]
  },
  {
   "cell_type": "markdown",
   "id": "190d4c3f-a7e0-4bfb-914e-2b2f9a06dfe2",
   "metadata": {},
   "source": [
    "### Ejercicio 1\n",
    "\n",
    "Usar filter para obtener solo las palabras que contengan solo letras de la siguiente lista:\n",
    "\n",
    "a = [\"a\", \"4\", \"ab\", \"x3\", \"6x\"]"
   ]
  },
  {
   "cell_type": "code",
   "execution_count": 36,
   "id": "d12945bf-ceba-45f5-b264-b6489e7f295c",
   "metadata": {},
   "outputs": [
    {
     "data": {
      "text/plain": [
       "['a', 'ab']"
      ]
     },
     "execution_count": 36,
     "metadata": {},
     "output_type": "execute_result"
    }
   ],
   "source": [
    "a = [\"a\", \"4\", \"ab\", \"x3\", \"6x\"]\n",
    "list(filter(str.isalpha,a))"
   ]
  },
  {
   "cell_type": "markdown",
   "id": "30ad1cce-101b-401b-b371-367e0c836eaa",
   "metadata": {},
   "source": [
    "### Ejercicio 2\n",
    "\n",
    "Usar filter para obtener solo los numeros entre 0 y 10 de la siguiente lista:\n",
    "\n",
    "a = [-3, 1, 5, 11, 4, 22, -1]"
   ]
  },
  {
   "cell_type": "code",
   "execution_count": 37,
   "id": "cf3b5c0f-4233-48cf-8cc6-bb90140dfde8",
   "metadata": {},
   "outputs": [
    {
     "data": {
      "text/plain": [
       "[1, 5, 4]"
      ]
     },
     "execution_count": 37,
     "metadata": {},
     "output_type": "execute_result"
    }
   ],
   "source": [
    "a = [-3, 1, 5, 11, 4, 22, -1]\n",
    "list(filter(lambda x: x>0 and x<10, a))"
   ]
  },
  {
   "cell_type": "markdown",
   "id": "3311abb6-0eff-4802-bf45-feca778c9f6a",
   "metadata": {},
   "source": [
    "## Reduce"
   ]
  },
  {
   "cell_type": "code",
   "execution_count": 5,
   "id": "b03ef91c-027a-40a8-a009-b278ee8f03eb",
   "metadata": {},
   "outputs": [],
   "source": [
    "from functools import reduce"
   ]
  },
  {
   "cell_type": "code",
   "execution_count": 8,
   "id": "59241c31-5cbd-43a8-8937-0a992c6ac21a",
   "metadata": {},
   "outputs": [
    {
     "data": {
      "text/plain": [
       "15"
      ]
     },
     "execution_count": 8,
     "metadata": {},
     "output_type": "execute_result"
    }
   ],
   "source": [
    "def sumar(x, y):\n",
    "    return x+y\n",
    "\n",
    "a = [1,2,3,4,5]\n",
    "\n",
    "reduce(sumar, a, 0)"
   ]
  },
  {
   "cell_type": "code",
   "execution_count": 14,
   "id": "01290f68-137a-4ac2-8c82-bbe3a29a37d7",
   "metadata": {},
   "outputs": [
    {
     "data": {
      "text/plain": [
       "15"
      ]
     },
     "execution_count": 14,
     "metadata": {},
     "output_type": "execute_result"
    }
   ],
   "source": [
    "a = [1,2,3,4,5]\n",
    "\n",
    "reduce(lambda x, y: x+y, a, 0)"
   ]
  },
  {
   "cell_type": "code",
   "execution_count": 11,
   "id": "eceadce1-e077-42d8-89d7-3d9a5b2c470b",
   "metadata": {},
   "outputs": [
    {
     "data": {
      "text/plain": [
       "10"
      ]
     },
     "execution_count": 11,
     "metadata": {},
     "output_type": "execute_result"
    }
   ],
   "source": [
    "def maximo(x, y):\n",
    "    return x if x>y else y\n",
    "\n",
    "a = [1,2,3,4,5]\n",
    "\n",
    "reduce(maximo, a)"
   ]
  },
  {
   "cell_type": "code",
   "execution_count": 15,
   "id": "506d2ba9-3a12-4069-927e-3fc87db17c79",
   "metadata": {},
   "outputs": [
    {
     "data": {
      "text/plain": [
       "5"
      ]
     },
     "execution_count": 15,
     "metadata": {},
     "output_type": "execute_result"
    }
   ],
   "source": [
    "reduce(lambda x, y: x if x>y else y, a)"
   ]
  },
  {
   "cell_type": "markdown",
   "id": "411d40ef-670d-4113-a17b-a291a6f2e865",
   "metadata": {},
   "source": [
    "### Ejercicio 1\n",
    "\n",
    "Usar reduce para multiplicar los elementos de la sigiuiente lista\n",
    "\n",
    "a = [1,2,3,4,5,6,7,8,9,10]"
   ]
  },
  {
   "cell_type": "code",
   "execution_count": 23,
   "id": "8478f7f0-6315-4a30-a1cc-7eedfe94efdb",
   "metadata": {},
   "outputs": [
    {
     "data": {
      "text/plain": [
       "3628800"
      ]
     },
     "execution_count": 23,
     "metadata": {},
     "output_type": "execute_result"
    }
   ],
   "source": [
    "a = [1,2,3,4,5,6,7,8,9,10]\n",
    "reduce(lambda x, y: x * y, a)"
   ]
  },
  {
   "cell_type": "markdown",
   "id": "1c4cccfe-2069-432c-a360-076a3d3db307",
   "metadata": {},
   "source": [
    "### Ejercicio 2\n",
    "\n",
    "Usar reduce para concatenar de la sigiuiente lista\n",
    "\n",
    "a = [\"h\",\"ell\",\"o w\",\"orl\",\"d\"]"
   ]
  },
  {
   "cell_type": "code",
   "execution_count": 27,
   "id": "340d9346-4e19-4985-9342-9b3decf5abe8",
   "metadata": {},
   "outputs": [
    {
     "data": {
      "text/plain": [
       "'hello world'"
      ]
     },
     "execution_count": 27,
     "metadata": {},
     "output_type": "execute_result"
    }
   ],
   "source": [
    "a = [\"h\",\"ell\",\"o w\",\"orl\",\"d\"]\n",
    "reduce(lambda s1, s2: s1 + s2, a)"
   ]
  },
  {
   "cell_type": "markdown",
   "id": "ef613f02-e5f0-4065-894b-d812d790e295",
   "metadata": {},
   "source": [
    "## Combinando map, filter, reduce"
   ]
  },
  {
   "cell_type": "markdown",
   "id": "7e499e60-7f98-46f0-abc4-32693a3fe655",
   "metadata": {},
   "source": [
    "### Ejercicio 1\n",
    "\n",
    "Dados los coeficientes de un polinomio y el valor de x en las siguientes listas:\n",
    "\n",
    "c = [2, 4, 1, 0, 3]\n",
    "\n",
    "x = 4\n",
    "\n",
    "Calcular el resultado utilizando map y reduce"
   ]
  },
  {
   "cell_type": "code",
   "execution_count": 38,
   "id": "14c73e3a-c338-44dc-a389-d3f412711ea2",
   "metadata": {},
   "outputs": [],
   "source": [
    "import operator\n",
    "def evaluar_polinomio(c, x):\n",
    "    xi = map(lambda i: x**i, range(0, len(c)))\n",
    "    axi = map(operator.mul, c, xi)\n",
    "    return reduce(operator.add, axi, 0)"
   ]
  },
  {
   "cell_type": "code",
   "execution_count": 39,
   "id": "f9992612-2875-4a4e-a24a-c44bf3391a7c",
   "metadata": {},
   "outputs": [
    {
     "data": {
      "text/plain": [
       "802"
      ]
     },
     "execution_count": 39,
     "metadata": {},
     "output_type": "execute_result"
    }
   ],
   "source": [
    "c = [2, 4, 1, 0, 3]\n",
    "x = 4\n",
    "\n",
    "evaluar_polinomio(c, x)"
   ]
  },
  {
   "cell_type": "markdown",
   "id": "bca5e7fe-dce2-4f3a-b158-8c2edc586ae0",
   "metadata": {},
   "source": [
    "### Ejercicio 2\n",
    "\n",
    "Dados los siguientes objetos obtenidos de una base de datos usar map, filter y reduce para obtener el Automovil marca Renault que tiene la mayor velocidad maxima"
   ]
  },
  {
   "cell_type": "code",
   "execution_count": 43,
   "id": "ec318cf7-de4e-416c-bd35-cb5d1aba5c9c",
   "metadata": {},
   "outputs": [],
   "source": [
    "class Automovil:\n",
    "    def __init__(self, marca, modelo, velocidad_max):\n",
    "        self.marca = marca\n",
    "        self.modelo = modelo\n",
    "        self.velocidad_max = velocidad_max\n",
    "\n",
    "autos = []\n",
    "autos.append(Automovil(\"Renault\", \"Twingo\", 140))\n",
    "autos.append(Automovil(\"Ferrari\", \"F50\", 300))\n",
    "autos.append(Automovil(\"Renault\", \"Megane\", 180))"
   ]
  },
  {
   "cell_type": "code",
   "execution_count": 50,
   "id": "d89e39e8-5c72-46d1-8bb6-4620992967db",
   "metadata": {},
   "outputs": [
    {
     "data": {
      "text/plain": [
       "180"
      ]
     },
     "execution_count": 50,
     "metadata": {},
     "output_type": "execute_result"
    }
   ],
   "source": [
    "reduce(max, map(lambda x: x.velocidad_max, filter(lambda c: c.marca == \"Renault\", autos)))"
   ]
  },
  {
   "cell_type": "code",
   "execution_count": null,
   "id": "8e653026-e19b-48c9-b1b8-03331ccc607a",
   "metadata": {},
   "outputs": [],
   "source": []
  }
 ],
 "metadata": {
  "kernelspec": {
   "display_name": "base",
   "language": "python",
   "name": "base"
  },
  "language_info": {
   "codemirror_mode": {
    "name": "ipython",
    "version": 3
   },
   "file_extension": ".py",
   "mimetype": "text/x-python",
   "name": "python",
   "nbconvert_exporter": "python",
   "pygments_lexer": "ipython3",
   "version": "3.9.7"
  }
 },
 "nbformat": 4,
 "nbformat_minor": 5
}
