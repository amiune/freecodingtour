{
 "cells": [
  {
   "cell_type": "code",
   "execution_count": null,
   "id": "984203b6-9d6a-40c2-b14e-5de094c08d1a",
   "metadata": {},
   "outputs": [],
   "source": [
    "#https://docs.python.org/3/library/exceptions.html#exception-hierarchy"
   ]
  },
  {
   "cell_type": "code",
   "execution_count": 1,
   "id": "61cc1017-8242-4453-9e2e-8b709a1e4775",
   "metadata": {},
   "outputs": [
    {
     "ename": "ZeroDivisionError",
     "evalue": "division by zero",
     "output_type": "error",
     "traceback": [
      "\u001b[0;31m---------------------------------------------------------------------------\u001b[0m",
      "\u001b[0;31mZeroDivisionError\u001b[0m                         Traceback (most recent call last)",
      "\u001b[0;32m/var/folders/hx/lt8x1jn57x32723b5rfcjnmw0000gn/T/ipykernel_59242/2734145047.py\u001b[0m in \u001b[0;36m<module>\u001b[0;34m\u001b[0m\n\u001b[1;32m      1\u001b[0m \u001b[0ma\u001b[0m \u001b[0;34m=\u001b[0m \u001b[0;36m4\u001b[0m\u001b[0;34m\u001b[0m\u001b[0;34m\u001b[0m\u001b[0m\n\u001b[1;32m      2\u001b[0m \u001b[0mb\u001b[0m \u001b[0;34m=\u001b[0m \u001b[0;36m0\u001b[0m\u001b[0;34m\u001b[0m\u001b[0;34m\u001b[0m\u001b[0m\n\u001b[0;32m----> 3\u001b[0;31m \u001b[0mc\u001b[0m \u001b[0;34m=\u001b[0m \u001b[0ma\u001b[0m\u001b[0;34m/\u001b[0m\u001b[0mb\u001b[0m\u001b[0;34m\u001b[0m\u001b[0;34m\u001b[0m\u001b[0m\n\u001b[0m",
      "\u001b[0;31mZeroDivisionError\u001b[0m: division by zero"
     ]
    }
   ],
   "source": [
    "a = 4\n",
    "b = 0\n",
    "c = a/b"
   ]
  },
  {
   "cell_type": "code",
   "execution_count": 5,
   "id": "fec2d816-7c8f-4cd8-bea5-d9d38346a29e",
   "metadata": {},
   "outputs": [
    {
     "name": "stdout",
     "output_type": "stream",
     "text": [
      "Error\n"
     ]
    }
   ],
   "source": [
    "try:\n",
    "    a = 4\n",
    "    b = 0\n",
    "    c = a/b\n",
    "except:\n",
    "    print(\"Error\")"
   ]
  },
  {
   "cell_type": "code",
   "execution_count": 46,
   "id": "12f1cf46-3236-4aa9-b3d9-5827066fc3e2",
   "metadata": {},
   "outputs": [
    {
     "name": "stdout",
     "output_type": "stream",
     "text": [
      "Comienza Try\n",
      "Cualquier error\n",
      "Finalmente\n"
     ]
    }
   ],
   "source": [
    "try:\n",
    "    print(\"Comienza Try\")\n",
    "    a = 4\n",
    "    b = 0\n",
    "    c = a/b\n",
    "    print(\"Finaliza Try\")\n",
    "except:\n",
    "    print(\"Cualquier error\")\n",
    "finally:\n",
    "    print(\"Finalmente\")"
   ]
  },
  {
   "cell_type": "code",
   "execution_count": 47,
   "id": "2ce99a5c-d47c-46cf-a032-8756628c96b8",
   "metadata": {},
   "outputs": [
    {
     "name": "stdout",
     "output_type": "stream",
     "text": [
      "Comienza Try\n",
      "Finaliza Try\n",
      "Finalmente\n"
     ]
    }
   ],
   "source": [
    "try:\n",
    "    print(\"Comienza Try\")\n",
    "    a = 4\n",
    "    b = 1\n",
    "    c = a/b\n",
    "    print(\"Finaliza Try\")\n",
    "except:\n",
    "    print(\"Cualquier error\")\n",
    "finally:\n",
    "    print(\"Finalmente\")"
   ]
  },
  {
   "cell_type": "code",
   "execution_count": 15,
   "id": "40216297-875d-4649-a6e5-d4e95c098242",
   "metadata": {},
   "outputs": [
    {
     "ename": "Exception",
     "evalue": "Estas haciendo todo mal",
     "output_type": "error",
     "traceback": [
      "\u001b[0;31m---------------------------------------------------------------------------\u001b[0m",
      "\u001b[0;31mException\u001b[0m                                 Traceback (most recent call last)",
      "\u001b[0;32m/var/folders/hx/lt8x1jn57x32723b5rfcjnmw0000gn/T/ipykernel_59242/487060652.py\u001b[0m in \u001b[0;36m<module>\u001b[0;34m\u001b[0m\n\u001b[1;32m      1\u001b[0m \u001b[0;32mif\u001b[0m \u001b[0mb\u001b[0m \u001b[0;34m==\u001b[0m \u001b[0;36m0\u001b[0m\u001b[0;34m:\u001b[0m\u001b[0;34m\u001b[0m\u001b[0;34m\u001b[0m\u001b[0m\n\u001b[0;32m----> 2\u001b[0;31m     \u001b[0;32mraise\u001b[0m \u001b[0mException\u001b[0m\u001b[0;34m(\u001b[0m\u001b[0;34m\"Estas haciendo todo mal\"\u001b[0m\u001b[0;34m)\u001b[0m\u001b[0;34m\u001b[0m\u001b[0;34m\u001b[0m\u001b[0m\n\u001b[0m",
      "\u001b[0;31mException\u001b[0m: Estas haciendo todo mal"
     ]
    }
   ],
   "source": [
    "if b == 0:\n",
    "    raise Exception(\"Estas haciendo todo mal\")"
   ]
  },
  {
   "cell_type": "code",
   "execution_count": 28,
   "id": "ba1e5af5-5406-46ae-82e5-068b23895d05",
   "metadata": {},
   "outputs": [
    {
     "name": "stdout",
     "output_type": "stream",
     "text": [
      "<class 'ArithmeticError'>\n"
     ]
    }
   ],
   "source": [
    "try:\n",
    "    a = 4\n",
    "    b = 0\n",
    "    c = a/b\n",
    "except ArithmeticError:\n",
    "    print(ArithmeticError)"
   ]
  },
  {
   "cell_type": "code",
   "execution_count": 27,
   "id": "b55eb865-4c05-40d9-828e-901c23cbcedb",
   "metadata": {},
   "outputs": [
    {
     "name": "stdout",
     "output_type": "stream",
     "text": [
      "<class 'ZeroDivisionError'>\n"
     ]
    }
   ],
   "source": [
    "try:\n",
    "    a = 4\n",
    "    b = 0\n",
    "    c = a/b\n",
    "except ZeroDivisionError:\n",
    "    print(ZeroDivisionError)"
   ]
  },
  {
   "cell_type": "code",
   "execution_count": 11,
   "id": "df2379b2-d8e2-40e4-9049-2f19aa78c416",
   "metadata": {},
   "outputs": [
    {
     "ename": "ZeroDivisionError",
     "evalue": "division by zero",
     "output_type": "error",
     "traceback": [
      "\u001b[0;31m---------------------------------------------------------------------------\u001b[0m",
      "\u001b[0;31mZeroDivisionError\u001b[0m                         Traceback (most recent call last)",
      "\u001b[0;32m/var/folders/hx/lt8x1jn57x32723b5rfcjnmw0000gn/T/ipykernel_59242/1279525562.py\u001b[0m in \u001b[0;36m<module>\u001b[0;34m\u001b[0m\n\u001b[1;32m      2\u001b[0m     \u001b[0ma\u001b[0m \u001b[0;34m=\u001b[0m \u001b[0;36m4\u001b[0m\u001b[0;34m\u001b[0m\u001b[0;34m\u001b[0m\u001b[0m\n\u001b[1;32m      3\u001b[0m     \u001b[0mb\u001b[0m \u001b[0;34m=\u001b[0m \u001b[0;36m0\u001b[0m\u001b[0;34m\u001b[0m\u001b[0;34m\u001b[0m\u001b[0m\n\u001b[0;32m----> 4\u001b[0;31m     \u001b[0mc\u001b[0m \u001b[0;34m=\u001b[0m \u001b[0ma\u001b[0m\u001b[0;34m/\u001b[0m\u001b[0mb\u001b[0m\u001b[0;34m\u001b[0m\u001b[0;34m\u001b[0m\u001b[0m\n\u001b[0m\u001b[1;32m      5\u001b[0m \u001b[0;32mexcept\u001b[0m \u001b[0mAssertionError\u001b[0m\u001b[0;34m:\u001b[0m\u001b[0;34m\u001b[0m\u001b[0;34m\u001b[0m\u001b[0m\n\u001b[1;32m      6\u001b[0m     \u001b[0mprint\u001b[0m\u001b[0;34m(\u001b[0m\u001b[0mAssertionError\u001b[0m\u001b[0;34m)\u001b[0m\u001b[0;34m\u001b[0m\u001b[0;34m\u001b[0m\u001b[0m\n",
      "\u001b[0;31mZeroDivisionError\u001b[0m: division by zero"
     ]
    }
   ],
   "source": [
    "try:\n",
    "    a = 4\n",
    "    b = 0\n",
    "    c = a/b\n",
    "except AssertionError:\n",
    "    print(AssertionError)"
   ]
  },
  {
   "cell_type": "code",
   "execution_count": 29,
   "id": "80afb2b2-648c-4cd6-b20f-305e207c5abb",
   "metadata": {},
   "outputs": [
    {
     "name": "stdout",
     "output_type": "stream",
     "text": [
      "Cualquier error\n"
     ]
    }
   ],
   "source": [
    "try:\n",
    "    a = 4\n",
    "    b = 0\n",
    "    c = a/b\n",
    "except AssertionError:\n",
    "    print(\"Solo Assertion errors\")\n",
    "except:\n",
    "    print(\"Cualquier error\")"
   ]
  },
  {
   "cell_type": "code",
   "execution_count": 41,
   "id": "dc8bb033-58cb-40a2-a286-66524f7e0b51",
   "metadata": {},
   "outputs": [],
   "source": [
    "class MiError(Exception):\n",
    "    def __init__(self, message=\"Algo anda mal\"):\n",
    "        self.message = message\n",
    "        super().__init__(self.message)"
   ]
  },
  {
   "cell_type": "code",
   "execution_count": 42,
   "id": "bf7f51bb-3ccd-40ba-9309-04fd157fdc8c",
   "metadata": {},
   "outputs": [
    {
     "ename": "MiError",
     "evalue": "Algo anda mal",
     "output_type": "error",
     "traceback": [
      "\u001b[0;31m---------------------------------------------------------------------------\u001b[0m",
      "\u001b[0;31mMiError\u001b[0m                                   Traceback (most recent call last)",
      "\u001b[0;32m/var/folders/hx/lt8x1jn57x32723b5rfcjnmw0000gn/T/ipykernel_59242/1165709633.py\u001b[0m in \u001b[0;36m<module>\u001b[0;34m\u001b[0m\n\u001b[0;32m----> 1\u001b[0;31m \u001b[0;32mraise\u001b[0m \u001b[0mMiError\u001b[0m\u001b[0;34m(\u001b[0m\u001b[0;34m)\u001b[0m\u001b[0;34m\u001b[0m\u001b[0;34m\u001b[0m\u001b[0m\n\u001b[0m",
      "\u001b[0;31mMiError\u001b[0m: Algo anda mal"
     ]
    }
   ],
   "source": [
    "raise MiError()"
   ]
  },
  {
   "cell_type": "code",
   "execution_count": 43,
   "id": "7532476e-48c2-43fd-9345-5ba2e53fb7d0",
   "metadata": {},
   "outputs": [
    {
     "ename": "MiError",
     "evalue": "Que pasa guey?",
     "output_type": "error",
     "traceback": [
      "\u001b[0;31m---------------------------------------------------------------------------\u001b[0m",
      "\u001b[0;31mMiError\u001b[0m                                   Traceback (most recent call last)",
      "\u001b[0;32m/var/folders/hx/lt8x1jn57x32723b5rfcjnmw0000gn/T/ipykernel_59242/2834077942.py\u001b[0m in \u001b[0;36m<module>\u001b[0;34m\u001b[0m\n\u001b[0;32m----> 1\u001b[0;31m \u001b[0;32mraise\u001b[0m \u001b[0mMiError\u001b[0m\u001b[0;34m(\u001b[0m\u001b[0;34m\"Que pasa guey?\"\u001b[0m\u001b[0;34m)\u001b[0m\u001b[0;34m\u001b[0m\u001b[0;34m\u001b[0m\u001b[0m\n\u001b[0m",
      "\u001b[0;31mMiError\u001b[0m: Que pasa guey?"
     ]
    }
   ],
   "source": [
    "raise MiError(\"Que pasa guey?\")"
   ]
  },
  {
   "cell_type": "code",
   "execution_count": null,
   "id": "b63757d8-4fd3-4e10-8aa5-ea8f838f8e86",
   "metadata": {},
   "outputs": [],
   "source": []
  }
 ],
 "metadata": {
  "kernelspec": {
   "display_name": "base",
   "language": "python",
   "name": "base"
  },
  "language_info": {
   "codemirror_mode": {
    "name": "ipython",
    "version": 3
   },
   "file_extension": ".py",
   "mimetype": "text/x-python",
   "name": "python",
   "nbconvert_exporter": "python",
   "pygments_lexer": "ipython3",
   "version": "3.9.7"
  }
 },
 "nbformat": 4,
 "nbformat_minor": 5
}
