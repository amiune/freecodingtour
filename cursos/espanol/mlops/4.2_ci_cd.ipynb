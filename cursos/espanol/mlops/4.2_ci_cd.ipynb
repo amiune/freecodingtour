{
 "cells": [
  {
   "cell_type": "markdown",
   "id": "7ce7c733-ffa5-4bb0-8689-34290b3aadd9",
   "metadata": {
    "id": "7ce7c733-ffa5-4bb0-8689-34290b3aadd9"
   },
   "source": [
    "# Integracion Continua\n",
    "\n",
    "La integración continua (CI) es una práctica de software que implica realizar commits frecuentes de código en un repositorio compartido. Esto ayuda a detectar errores más rápidamente y reduce el tiempo empleado en la correccion de errores. También facilita la fusión de cambios de diferentes desarrolladores. Al hacer commits se puede probar continuamente para asegurarse de que no se introduzcan errores, utilizando herramientas como linters, pruebas de seguridad y de funcionalidad. Estas operaciones pueden realizarse localmente o en un servidor CI que monitorea los nuevos commits de código en el repositorio.\n",
    "\n",
    "Para realizar integracion continua podemos escribir nuestro propio codigo para automatizar pero ya existe software y servicios que lo hacen por nosotros como:\n",
    "- [GitHub Actions](https://docs.github.com/es/actions/writing-workflows/quickstart)\n",
    "- [Jenkins](https://www.jenkins.io/)"
   ]
  },
  {
   "cell_type": "markdown",
   "id": "c1983337-9789-454d-b840-5339b8feae96",
   "metadata": {},
   "source": [
    "## Integracion Continua con GitHub Actions\n",
    "\n",
    "GitHub nos permite hacer integracion continua a traves de un servicio llamado [GitHub Actions](https://docs.github.com/es/actions/writing-workflows/quickstart) en donde en un fichero de configuracion definimos que funciones o programas se deben ejecutar cada vez que sucede un evento como por ejemplo que un desarrollador haga push en el repositorio.\n",
    "\n",
    "Veamos un ejemplo:"
   ]
  },
  {
   "cell_type": "code",
   "execution_count": null,
   "id": "fff05930-d831-4b17-9e85-d175331f1c87",
   "metadata": {},
   "outputs": [],
   "source": [
    "%%file github-actions-demo.yml\n",
    "\n",
    "name: GitHub Actions Demo\n",
    "run-name: ${{ github.actor }} is testing out GitHub Actions 🚀\n",
    "on: [push]\n",
    "jobs:\n",
    "  Explore-GitHub-Actions:\n",
    "    runs-on: ubuntu-latest\n",
    "    steps:\n",
    "      - run: echo \"🎉 Esta accion ha sido disparada por el evento ${{ github.event_name }}.\"\n",
    "      - run: echo \"🐧 Esta accion se ejecuta en ${{ runner.os }} alojado en GitHub!\"\n",
    "      - run: echo \"🔎 La rama es ${{ github.ref }} y el repositorio ${{ github.repository }}.\"\n",
    "      - name: Check out repository code\n",
    "        uses: actions/checkout@v4\n",
    "      - run: echo \"💡 El repositorio ${{ github.repository }} ha sido clonado.\"\n",
    "      - run: echo \"🖥️ Ya se pueden ejecutar los tests.\"\n",
    "      - name: List files in the repository\n",
    "        run: |\n",
    "          ls ${{ github.workspace }}\n",
    "      - run: echo \"🍏 El estado de esta accion es ${{ job.status }}.\""
   ]
  },
  {
   "cell_type": "markdown",
   "id": "ca7a75ae-d5c2-4bf7-a826-c08bb6801aa0",
   "metadata": {},
   "source": [
    "## Ficheros de Configuracion\n",
    "\n",
    "Los ficheros de configuracion usan formatos estandar para definir la configuracion y como queremos que funcione un software especifico.\n",
    "\n",
    "Los tres formatos de ficheros de configuracion mas utilizados son:\n",
    "- [TOML](https://toml.io/en/)\n",
    "- [YAML](https://yaml.org/)\n",
    "- [JSON](https://www.json.org/json-es.html)\n",
    "\n",
    "Veamos una comparacion rapida de estos:"
   ]
  },
  {
   "cell_type": "code",
   "execution_count": null,
   "id": "db9bbca5-963a-4522-8a82-3ca1bfd521bb",
   "metadata": {},
   "outputs": [],
   "source": [
    "%%file config.toml\n",
    "\n",
    "[[personas]]\n",
    "nombre = \"Juan\"\n",
    "edad = 28\n",
    "ciudad = \"Madrid\"\n",
    "\n",
    "[[personas]]\n",
    "nombre = \"Ana\"\n",
    "edad = 34\n",
    "ciudad = \"Barcelona\""
   ]
  },
  {
   "cell_type": "code",
   "execution_count": null,
   "id": "08e8e53f-6f6e-4916-8c52-85739d4f2127",
   "metadata": {},
   "outputs": [],
   "source": [
    "%%file config.yml\n",
    "\n",
    "personas:\n",
    "  - nombre: \"Juan\"\n",
    "    edad: 28\n",
    "    ciudad: \"Madrid\"\n",
    "  - nombre: \"Ana\"\n",
    "    edad: 34\n",
    "    ciudad: \"Barcelona\""
   ]
  },
  {
   "cell_type": "code",
   "execution_count": null,
   "id": "ae404269-0c0c-487f-8609-64805b590b7d",
   "metadata": {},
   "outputs": [],
   "source": [
    "%%file config.json\n",
    "\n",
    "{\n",
    "  \"personas\": [\n",
    "    {\n",
    "      \"nombre\": \"Juan\",\n",
    "      \"edad\": 28,\n",
    "      \"ciudad\": \"Madrid\"\n",
    "    },\n",
    "    {\n",
    "      \"nombre\": \"Ana\",\n",
    "      \"edad\": 34,\n",
    "      \"ciudad\": \"Barcelona\"\n",
    "    }\n",
    "  ]\n",
    "}"
   ]
  },
  {
   "cell_type": "markdown",
   "id": "6bfb7016-6cd7-4835-860c-9eefd90e2255",
   "metadata": {
    "id": "a02fc9c6-42dc-4e18-81c3-f623b1e12928"
   },
   "source": [
    "# Fin: [Volver al contenido del curso](https://www.freecodingtour.com/cursos/espanol/mlops/mlops.html)"
   ]
  },
  {
   "cell_type": "markdown",
   "id": "c3c6cb97",
   "metadata": {
    "id": "c3c6cb97"
   },
   "source": [
    "## Referencias:\n",
    "\n",
    "- [Integracion Continua](https://docs.github.com/es/actions/about-github-actions/about-continuous-integration)\n",
    "- [GitHub Actions](https://docs.github.com/es/actions/writing-workflows/quickstart)\n",
    "- [Workflows](https://docs.github.com/es/actions/writing-workflows)"
   ]
  }
 ],
 "metadata": {
  "colab": {
   "provenance": []
  },
  "kernelspec": {
   "display_name": "Python 3 (ipykernel)",
   "language": "python",
   "name": "python3"
  },
  "language_info": {
   "codemirror_mode": {
    "name": "ipython",
    "version": 3
   },
   "file_extension": ".py",
   "mimetype": "text/x-python",
   "name": "python",
   "nbconvert_exporter": "python",
   "pygments_lexer": "ipython3",
   "version": "3.12.4"
  }
 },
 "nbformat": 4,
 "nbformat_minor": 5
}
