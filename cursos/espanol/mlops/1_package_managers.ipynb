{
 "cells": [
  {
   "cell_type": "markdown",
   "id": "7ce7c733-ffa5-4bb0-8689-34290b3aadd9",
   "metadata": {},
   "source": [
    "# Package Managers\n",
    "\n",
    "Python se ha convertido en el lenguaje mas utilizado para data science y machine learning, su fortaleza radica en que existe un repositorio con mas de medio millon de librerias (y sigue creciendo) para que podamos descargar y empezar a usar. Esta beneficio de python tambien tiene sus contras y la principal contra es que las distintas librerias dependen de una version especifica de otras librerias y a su vez tambien de una version especifica de python por lo cual si quiero que mi proyecto funcione correctamente tengo que instalar las versiones adecuadas de python y de cada libreria y que no entren en conflicto con otras versiones de python o librerias que ya tengo instaladas en mi ordenador. Para resolver este problema existen las herramientas que veremos a continuacion."
   ]
  },
  {
   "cell_type": "markdown",
   "id": "4506b9fd-a892-4799-b07e-ea5a123efb54",
   "metadata": {},
   "source": [
    "## Directorios Virtuales, Instaladores y Manejadores de Librerias\n",
    "\n",
    "\n",
    "### Directorios Virtuales (Virtual Environments)\n",
    "\n",
    "Permiten crear directorios virtuales donde podemos instalar las librerias necesarias para un proyecto y que no generen conflicto con otras librerias de otros proyectos siempre que estos se encuentren en otros directorios virtuales.\n",
    "\n",
    "#### [venv](https://docs.python.org/3/library/venv.html)\n",
    "\n",
    "Esta herramienta ya viene incluida con python. Permite crear y activar y desactivar directorios virtuales. Una vez activados todo lo que instalemos alli quedara aislado del resto de las instalaciones que realicemos en el ordenador.\n",
    "\n",
    "Comandos:\n",
    "- `python -m venv <venv_path>`: crea el directorio virtual. ej:`python -m venv /mi_proyecto`\n",
    "- `source <venv_path>/bin/activate`: activa el directorio virtual. ej:`source /mi_proyecto/bin/activate`\n",
    "- `deactivate`: desactiva el directorio virtual\n",
    "\n",
    "#### [virtualenv](https://virtualenv.pypa.io/en/latest/)\n",
    "\n",
    "Realiza lo mismo que venv y ademas tiene mas funcionalidades, de hecho venv nace a partir de virtualenv. Puedes ver las diferencias entre ambos [aqui](https://virtualenv.pypa.io/en/latest/)\n",
    "\n",
    "Comandos:\n",
    "- `virtualenv <venv_path>`: crea el directorio virtual. ej:`virtualenv /mi_proyecto`\n",
    "- `source <venv_path>/bin/activate`: activa el directorio virtual. ej:`source /mi_proyecto/bin/activate`\n",
    "- `deactivate`: desactiva el directorio virtual\n",
    "\n",
    "### Versiones de Python\n",
    "\n",
    "#### [pyenv](https://github.com/pyenv/pyenv)\n",
    "\n",
    "Esta herramienta permite instalar distintas versiones de python en un mismo ordenador sin que haya conflictos y permite cambiar de version en version segun se necesite\n",
    "\n",
    "[Comandos](https://github.com/pyenv/pyenv/blob/master/COMMANDS.md):\n",
    "- `pyenv install -l`: muestra una lista de las versiones de python instaladas\n",
    "- [`pyenv install 3.10.4`]((https://github.com/pyenv/pyenv/blob/master/COMMANDS.md#pyenv-install)): instala una version especifica (3.10.4 en este caso)\n",
    "- [`pyenv shell <version>`](https://github.com/pyenv/pyenv/blob/master/COMMANDS.md#pyenv-shell):selecciona la version de python para la sesion de shell actual\n",
    "- [`pyenv local <version>`](https://github.com/pyenv/pyenv/blob/master/COMMANDS.md#pyenv-local): selecciona la version de python para el directorio actual\n",
    "- [`pyenv global <version>`](https://github.com/pyenv/pyenv/blob/master/COMMANDS.md#pyenv-shell): selecciona la version de python globalmente para el usuario actual\n",
    "\n",
    "### Administradores de Librerias\n",
    "\n",
    "#### [pip](https://pip.pypa.io/en/stable/)\n",
    "\n",
    "pip es quizas el administrador de librerias mas conocido por los usuarios de python ya que puede instalar cualquier libreria del ecosistema [pypi que provee mas de 500k librerias](https://pypi.org/)\n",
    "\n",
    "Comandos:\n",
    "\n",
    "- [`pip install SomePackage`](https://pip.pypa.io/en/stable/user_guide/#installing-packages): instala la ultima version de la libreria SomePackage\n",
    "- [`pip install SomePackage==1.0.4`](https://pip.pypa.io/en/stable/user_guide/#installing-packages): instala la version especificada de la libreria SomePackage\n",
    "- [`pip uninstall SomePackage`](https://pip.pypa.io/en/stable/user_guide/#uninstalling-packages): desintala la libreria SomePackage\n",
    "\n",
    "\n",
    "### Todo en uno\n",
    "\n",
    "Son programas que permiten realizar todas las funciones mencionadas anteriormente y mas. El mas conocido es Conda que permite crear directorios virtuales y ademas posee su propio instalador y ecosistema de librerias. Poetry y Rye estan ganando popularidad y Pixi es similar a Poetry pero incluye tambien el ecosistema de Conda. Como profesor recomiendo utilizar Poetry o Rye ya que son mas modernos y he visto a Conda generar muchos problemas, en caso de querer utilizar el ecosistema Conda me inclinaria por utilizar Pixi.\n",
    "\n",
    "\n",
    "#### [Poetry](https://python-poetry.org/)\n",
    "\n",
    "[Comandos](https://python-poetry.org/docs/basic-usage/):\n",
    "\n",
    "- [`poetry new poetry-demo`](): crea un nuevo proyecto y su directorio virtual\n",
    "- [`poetry add numpy`](): agrega una libreria al proyecto\n",
    "- [`poetry install`](): instala las librerias\n",
    "- [`poetry run python your_script.py`](): ejecuta el script dentro del directorio virtual\n",
    "- [`poetry shell`](): activa el directorio virtual\n",
    "- [`deactivate`](): desactiva el directorio virtual\n",
    "\n",
    "\n",
    "#### [Rye](https://rye.astral.sh/)\n",
    "\n",
    "[Comandos](https://rye.astral.sh/guide/basics/):\n",
    "\n",
    "- [`rye init my-project`](): crea un nuevo proyecto, luego ingresamos con `cd my-project`\n",
    "- [`rye init --script my-project`](): crea un nuevo proyecto ejecutable, luego ingresamos con `cd my-project`\n",
    "- [`rye pin 3.10`](): establece la version de python\n",
    "- [`rye sync`](): crea el directorio virtual y escribe el lock file\n",
    "- [`rye add \"flask>=2.0\"`](): agrega una libreria y `rye sync` la instala\n",
    "- [`rye remove flask`](): elimina una libreria\n",
    "- [`rye run my-proyect`](): ejecuta el proyecto dentro del directorio virtual\n",
    "- [`rye run jupyter lab`](): ejecuta ejecutables dentro del directorio virtual\n",
    "- [`source ./bin/activate`](): activa el directorio virtual\n",
    "- [`deactivate`](): desactiva el directorio virtual\n",
    "\n",
    "#### [Pixi](https://prefix.dev/)\n",
    "\n",
    "[Comandos](https://pixi.sh/latest/basic_usage/):\n",
    "\n",
    "- [`pixi init pixi-hello-world`](): crea un proyecto nuevo, luego ingresamos con `cd pixi-hello-world`\n",
    "- [`pixi add numpy`](): instala librerias desde conda\n",
    "- [`pixi add --pypi numpy`](): instala librerias desde pypi\n",
    "- [`pixi run jupyter lab`](): ejecuta codigo dentro del directorio virtual del proyecto\n",
    "\n",
    "#### [Conda](https://docs.conda.io/en/latest/)\n",
    "\n",
    "[Comandos](https://docs.conda.io/projects/conda/en/stable/commands/index.html#conda-vs-pip-vs-virtualenv-commands):\n",
    "\n",
    "- [`conda create --name $ENVIRONMENT_NAME python`](https://docs.conda.io/projects/conda/en/stable/commands/env/create.html): crea un directorio virtual\n",
    "- [`conda activate $ENVIRONMENT_NAME`](): activa el directorio virtual\n",
    "- [`conda deactivate`](): desactiva el directorio virtual\n",
    "- [`conda install $PACKAGE_NAME`](https://docs.conda.io/projects/conda/en/stable/commands/install.html): instala una libreria\n",
    "- [`conda remove --name $ENVIRONMENT_NAME $PACKAGE_NAME`](): elimina una libreria\n"
   ]
  },
  {
   "cell_type": "markdown",
   "id": "4fa951c0-7984-4aba-9972-2f811e7186d1",
   "metadata": {},
   "source": [
    "## Ejercicios:\n",
    "\n",
    "Para realizar los ejercicios necesitamos ejecutar comandos de linux para ello podemos utilizar la consola de shell o terminal que se ve de la siguiente manera en nuestro ordenador:\n",
    "\n",
    "<div style=\"text-align:center\">\n",
    "<img src=\"./img/shell.png\" alt=\"consola shell\" width=\"500\"/>\n",
    "</div>\n",
    "\n",
    "Como en este curso trabajamos todo online en las maquinas virtuales que provee google a traves de [google colab](https://research.google.com/colaboratory/intl/es/faq.html) utilizaremos la instruccion `%%bash` al inicio de la celda para decir que el codigo siguiente no debe ser interpretado como codigo de python sino que debe ser interpretado como comandos de linux. De esta manera podemos utilizar las celdas de codigo como si fueran nuestra consola o terminal del ordenador."
   ]
  },
  {
   "cell_type": "code",
   "execution_count": 1,
   "id": "4462c07a-5fb7-4d43-a081-6d23063dbbe0",
   "metadata": {},
   "outputs": [
    {
     "name": "stdout",
     "output_type": "stream",
     "text": [
      "0_intro.ipynb\n",
      "1_package_managers.ipynb\n",
      "2_functions_and_testing.ipynb\n",
      "3_docker.ipynb\n",
      "4_git.ipynb\n",
      "5_etl_pipelines_frameworks.ipynb\n",
      "\u001b[34mimg\u001b[m\u001b[m\n"
     ]
    }
   ],
   "source": [
    "%%bash\n",
    "\n",
    "ls"
   ]
  },
  {
   "cell_type": "markdown",
   "id": "6691e11d-14fa-4933-a845-42296cf4baeb",
   "metadata": {},
   "source": [
    "Antes de empezar a usar las herramientas antes mencionadas veamos algunos comandos utiles de linux:\n",
    "\n",
    "### Useful commands\n",
    "\n",
    "#### Directories\n",
    "\n",
    "- `pwd` : tells you where you currently are (the path)\n",
    "- `mkdir` _dirname_ : create a new directory\n",
    "- `cd`  _dirname_ : change directory\n",
    "\n",
    "#### Files\n",
    "\n",
    "- `ls` : list files\n",
    "- `rm` _filename_ : remove a file\n",
    "- `mv` _filename1_ _filename2_ : rename a file\n",
    "- `diff` _filename1_ _filename2_ : compare two files\n",
    "- `cat` _filename(s)_ : print file(s) contents\n",
    "- `which` : shows path of a command\n",
    "- `find [args]` : find files\n",
    "- `echo` : write to standard output"
   ]
  },
  {
   "cell_type": "code",
   "execution_count": 4,
   "id": "3b8f68af-5355-45a8-81cf-b05812c9048c",
   "metadata": {},
   "outputs": [
    {
     "name": "stdout",
     "output_type": "stream",
     "text": [
      "/Users/hernanamiune/Documents/freecodingtour/cursos/espanol/mlops\n"
     ]
    }
   ],
   "source": [
    "%%bash\n",
    "\n",
    "pwd"
   ]
  },
  {
   "cell_type": "code",
   "execution_count": 5,
   "id": "fa278c86-1af9-49ee-9010-3d180901e418",
   "metadata": {},
   "outputs": [
    {
     "name": "stdout",
     "output_type": "stream",
     "text": [
      "/Users/hernanamiune/Documents/freecodingtour/cursos/espanol/mlops/img\n"
     ]
    }
   ],
   "source": [
    "%%bash\n",
    "\n",
    "cd img\n",
    "pwd"
   ]
  },
  {
   "cell_type": "code",
   "execution_count": 6,
   "id": "58b5f506-f20e-472b-a326-6a3668b12d81",
   "metadata": {},
   "outputs": [
    {
     "name": "stdout",
     "output_type": "stream",
     "text": [
      "/Users/hernanamiune/Documents/freecodingtour/cursos/espanol/mlops\n"
     ]
    }
   ],
   "source": [
    "%%bash\n",
    "\n",
    "pwd"
   ]
  },
  {
   "cell_type": "markdown",
   "id": "18dc6e94-213c-44d0-9d0a-8fd5e86e32ef",
   "metadata": {},
   "source": [
    "Si solamente queremos escribir una sola linea de un comando de linux tambien podemos utilizar las siguientes sintaxis:\n",
    "1. `!pip install numpy`\n",
    "2. `%pip install numpy`"
   ]
  },
  {
   "cell_type": "markdown",
   "id": "3e909d40-8c94-4bb4-93d9-fe6b1dae7c61",
   "metadata": {},
   "source": [
    "## Referencias:\n",
    "\n",
    "- [An unbiased evaluation of environment management and packaging tools](https://alpopkes.com/posts/python/packaging_tools/)\n",
    "- [Video](https://www.youtube.com/watch?v=sxN-Iu-okdo)"
   ]
  }
 ],
 "metadata": {
  "kernelspec": {
   "display_name": "Python 3 (ipykernel)",
   "language": "python",
   "name": "python3"
  },
  "language_info": {
   "codemirror_mode": {
    "name": "ipython",
    "version": 3
   },
   "file_extension": ".py",
   "mimetype": "text/x-python",
   "name": "python",
   "nbconvert_exporter": "python",
   "pygments_lexer": "ipython3",
   "version": "3.12.4"
  }
 },
 "nbformat": 4,
 "nbformat_minor": 5
}
