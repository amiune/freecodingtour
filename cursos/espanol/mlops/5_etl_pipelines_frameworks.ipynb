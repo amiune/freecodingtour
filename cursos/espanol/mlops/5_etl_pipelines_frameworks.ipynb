{
 "cells": [
  {
   "cell_type": "markdown",
   "id": "7ce7c733-ffa5-4bb0-8689-34290b3aadd9",
   "metadata": {},
   "source": [
    "# Pipelines y Frameworks\n",
    "\n",
    "Aqui veremos algunas de las herramientas que nos permiten organizar nuestro codigo para el ciclo completo de Machine Learning. Esta unidad es opcional. Muchas veces se le llama MLOps solo a esta parte del proceso pero la verdad es que esto es opcional y puede ser implementado con las herramientas vistas anteriormente por ello en esta seccion solo definiremos el concepto de Pipeline y que herramientas nos podrian ayudar a implementar un Pipeline de ML en produccion pero no entraremos en detalle con ninguna de estas herramientas."
   ]
  },
  {
   "cell_type": "markdown",
   "id": "3607c2b4-a791-466c-af96-f3b67e915efd",
   "metadata": {},
   "source": [
    "## Pipelines\n",
    "\n",
    "Un pipeline es una secuencia de pasos que queremos automatizar.\n",
    "\n",
    "En el caso de la integracion continua por ejemplo queremos que cuando algun desarrollador del equipo haga modificaciones al codigo sucedan los siguientes pasos:\n",
    "1. Desarrollador hace modificaciones al codigo\n",
    "2. Se ejecutan todos los tests para ver que el nuevo codigo no rompa el anterior\n",
    "3. Se mueve el nuevo codigo a produccion para que sea utilizado por los usuarios\n",
    "\n",
    "Estos pasos serian un pipeline y queremos automatizarlos.\n",
    "\n",
    "En el caso de Machine Learning generalmente queremos automatizar todo el proceso de limpieza y transformacion de los datos para luego reentrenar nuestro modelo cada vez que ingresan nuevos datos. Entonces nuestros pipelines podrian verse algo asi:\n",
    "1. Ingresan nuevos datos\n",
    "2. Se ejecutan los procesos de limpieza y transformacion\n",
    "3. Se ejecuta el reentrenamiento del modelo\n",
    "4. Se mueve el nuevo modelo a produccion para que sea utilizado por los usuarios\n",
    "\n",
    "Estos pasos serian un pipeline y queremos automatizarlos.\n",
    "\n",
    "Para lograr esto vienen muchas herramientas que nos simplifican el proceso de no tener que escribir esta automatizacion a mano pero tambien hay que tener en cuenta que cada proyecto es un mundo muy particular y no hay una herramienta que resuelva todo, muchas veces estas herramientas pueden ser demasiado para lo que necesitamos y algunas veces nuestro caso particular requerira desarrollar nuestro propio automatizador."
   ]
  },
  {
   "cell_type": "markdown",
   "id": "65288976",
   "metadata": {},
   "source": [
    "## ETL Pipelines y Frameworks\n",
    "\n",
    "Codigo:\n",
    "\n",
    "- https://www.jenkins.io/doc/book/pipeline/\n",
    "\n",
    "Data: \n",
    "\n",
    "- https://airflow.apache.org/docs/apache-airflow/2.2.3/tutorial.html\n",
    "- https://github.com/ploomber/ploomber\n",
    "- https://amphi.ai/\n",
    "- https://dlthub.com/\n",
    "- https://hub.meltano.com/\n",
    "- https://www.definite.app/"
   ]
  },
  {
   "cell_type": "code",
   "execution_count": null,
   "id": "dd99d34f-db35-4c79-98ad-f5ddc07e106e",
   "metadata": {},
   "outputs": [],
   "source": [
    "%% file\n",
    "\n",
    "from airflow.models import DAG\n",
    "from airflow.operators.dummy_operator import DummyOperator\n",
    "from airflow.operators.bash_operator import BashOperator\n",
    "from airflow.operators.python_operator import PythonOperator\n",
    "\n",
    "default_args = {\n",
    "    'owner': 'MyNameHere'\n",
    "}\n",
    "\n",
    "def hello_world_loop():\n",
    "    for palabra in ['hello', 'world']:\n",
    "        print(palabra)\n",
    "\n",
    "with DAG(\n",
    "    dag_id='hello_world',\n",
    "    default_args = default_args,\n",
    "    description='Un ejemplo simple de DAG',\n",
    "    schedule_interval=timedelta(days=1),\n",
    "    start_date=datetime(2025, 1, 1),\n",
    ") as dag:\n",
    "\n",
    "    ejecutar_inicio = DummyOperator(task_id='ejecutar_inicio')\n",
    "\n",
    "    ejecutar_python = PythonOperator(task_id='ejecutar_python', \n",
    "                                     python_callable=hello_world_loop)\n",
    "\n",
    "    ejecutar_bash =  BashOperator(task_id='ejecutar_bash', \n",
    "                                  bash_command='echo Hello World!')\n",
    "\n",
    "ejecutar_inicio >> ejecutar_python >> ejecutar_bash"
   ]
  },
  {
   "cell_type": "code",
   "execution_count": null,
   "id": "a02fc9c6-42dc-4e18-81c3-f623b1e12928",
   "metadata": {},
   "outputs": [],
   "source": []
  }
 ],
 "metadata": {
  "kernelspec": {
   "display_name": "Python 3 (ipykernel)",
   "language": "python",
   "name": "python3"
  },
  "language_info": {
   "codemirror_mode": {
    "name": "ipython",
    "version": 3
   },
   "file_extension": ".py",
   "mimetype": "text/x-python",
   "name": "python",
   "nbconvert_exporter": "python",
   "pygments_lexer": "ipython3",
   "version": "3.12.4"
  }
 },
 "nbformat": 4,
 "nbformat_minor": 5
}
