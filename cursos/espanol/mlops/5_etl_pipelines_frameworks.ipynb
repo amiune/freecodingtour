{
 "cells": [
  {
   "cell_type": "markdown",
   "id": "7ce7c733-ffa5-4bb0-8689-34290b3aadd9",
   "metadata": {},
   "source": [
    "# Machine Learning Operations con Python\n",
    "\n",
    "Lo que hay que saber para desarrollar apps de machine learning en python que funcionen en ambientes de produccion."
   ]
  },
  {
   "cell_type": "markdown",
   "id": "4506b9fd-a892-4799-b07e-ea5a123efb54",
   "metadata": {},
   "source": [
    "## Explicacion de instaladores, directorios virtuales y manejadores de librerias\n",
    "- [An unbiased evaluation of environment management and packaging tools](https://alpopkes.com/posts/python/packaging_tools/)\n",
    "- [Video](https://www.youtube.com/watch?v=sxN-Iu-okdo)\n",
    "\n",
    "\n",
    "### Directorios Virtuales (Virtual Environments)\n",
    "\n",
    "Permiten crear directorios virtuales donde podemos instalar las librerias necesarias para un proyecto y que no generen conflicto con otras librerias de otros proyectos siempre que estos se encuentren en otros directorios virtuales.\n",
    "\n",
    "#### [venv](https://docs.python.org/3/library/venv.html)\n",
    "\n",
    "Comandos:\n",
    "- `python -m venv <venv_path>`: crea el directorio virtual. ej:`python -m venv /mi_proyecto`\n",
    "- `source <venv_path>/bin/activate`: activa el directorio virtual. ej:`source /mi_proyecto/bin/activate`\n",
    "- `deactivate`: desactiva el directorio virtual\n",
    "\n",
    "#### [virtualenv](https://virtualenv.pypa.io/en/latest/)\n",
    "\n",
    "Comandos:\n",
    "- `virtualenv <venv_path>`: crea el directorio virtual. ej:`virtualenv /mi_proyecto`\n",
    "- `source <venv_path>/bin/activate`: activa el directorio virtual. ej:`source /mi_proyecto/bin/activate`\n",
    "- `deactivate`: desactiva el directorio virtual\n",
    "\n",
    "### Versiones de Python\n",
    "\n",
    "\n",
    "Estos permiten instalar distintas versiones de python en un mismo ordenador sin que haya conflictos y permite cambiar de version en version segun se necesite\n",
    "\n",
    "#### [pyenv](https://github.com/pyenv/pyenv)\n",
    "\n",
    "[Comandos](https://github.com/pyenv/pyenv/blob/master/COMMANDS.md):\n",
    "- `pyenv install -l`: muestra una lista de las versiones de python instaladas\n",
    "- [`pyenv install 3.10.4`]((https://github.com/pyenv/pyenv/blob/master/COMMANDS.md#pyenv-install)): instala una version especifica (3.10.4 en este caso)\n",
    "- [`pyenv shell <version>`](https://github.com/pyenv/pyenv/blob/master/COMMANDS.md#pyenv-shell):selecciona la version de python para la sesion de shell actual\n",
    "- [`pyenv local <version>`](https://github.com/pyenv/pyenv/blob/master/COMMANDS.md#pyenv-local): selecciona la version de python para el directorio actual\n",
    "- [`pyenv global <version>`](https://github.com/pyenv/pyenv/blob/master/COMMANDS.md#pyenv-shell): selecciona la version de python globalmente para el usuario actual\n",
    "\n",
    "### Administradores de Librerias\n",
    "\n",
    "#### [pip](https://pip.pypa.io/en/stable/)\n",
    "\n",
    "pip es quizas el administrador de librerias mas conocido por los usuarios de python ya que puede instalar cualquier libreria del ecosistema [pypi que provee mas de 500k librerias](https://pypi.org/)\n",
    "\n",
    "Comandos:\n",
    "\n",
    "- [`pip install SomePackage`](https://pip.pypa.io/en/stable/user_guide/#installing-packages): instala la ultima version de la libreria SomePackage\n",
    "- [`pip install SomePackage==1.0.4`](https://pip.pypa.io/en/stable/user_guide/#installing-packages): instala la version especificada de la libreria SomePackage\n",
    "- [`pip uninstall SomePackage`](https://pip.pypa.io/en/stable/user_guide/#uninstalling-packages): desintala la libreria SomePackage\n",
    "\n",
    "\n",
    "### Todo en uno\n",
    "\n",
    "Son programas que permiten realizar todas las funciones mencionadas anteriormente y mas. El mas conocido es Conda que permite crear directorios virtuales y ademas posee su propio instalador y ecosistema de librerias. Poetry y Rye estan ganando popularidad y Pixi es similar a Poetry pero incluye tambien el ecosistema de Conda. Como profesor recomiendo utilizar Poetry o Rye ya que son mas modernos y he visto a Conda generar muchos problemas, en caso de querer utilizar el ecosistema Conda \n",
    "\n",
    "\n",
    "#### [Poetry](https://python-poetry.org/)\n",
    "\n",
    "[Comandos](https://python-poetry.org/docs/basic-usage/):\n",
    "\n",
    "- [`poetry new poetry-demo`](): crea un nuevo proyecto y su directorio virtual\n",
    "- [`poetry add numpy`](): agrega una libreria al proyecto\n",
    "- [`poetry install`](): instala las librerias\n",
    "- [`poetry run python your_script.py`](): ejecuta el script dentro del directorio virtual\n",
    "- [`poetry shell`](): activa el directorio virtual\n",
    "- [`deactivate`](): desactiva el directorio virtual\n",
    "\n",
    "\n",
    "#### [Rye](https://rye.astral.sh/)\n",
    "\n",
    "[Comandos](https://rye.astral.sh/guide/basics/):\n",
    "\n",
    "- [`rye init my-project`](): crea un nuevo proyecto, luego ingresamos con `cd my-project`\n",
    "- [`rye init --script my-project`](): crea un nuevo proyecto ejecutable, luego ingresamos con `cd my-project`\n",
    "- [`rye pin 3.10`](): establece la version de python\n",
    "- [`rye sync`](): crea el directorio virtual y escribe el lock file\n",
    "- [`rye add \"flask>=2.0\"`](): agrega una libreria y `rye sync` la instala\n",
    "- [`rye remove flask`](): elimina una libreria\n",
    "- [`rye run my-proyect`](): ejecuta el proyecto dentro del directorio virtual\n",
    "- [`rye run jupyter lab`](): ejecuta ejecutables dentro del directorio virtual\n",
    "- [`source ./bin/activate`](): activa el directorio virtual\n",
    "- [`deactivate`](): desactiva el directorio virtual\n",
    "\n",
    "#### [Pixi](https://prefix.dev/)\n",
    "\n",
    "[Comandos](https://pixi.sh/latest/basic_usage/):\n",
    "\n",
    "- [`pixi init pixi-hello-world`](): crea un proyecto nuevo, luego ingresamos con `cd pixi-hello-world`\n",
    "- [`pixi add numpy`](): instala librerias desde conda\n",
    "- [`pixi add --pypi numpy`](): instala librerias desde pypi\n",
    "- [`pixi run jupyter lab`](): ejecuta codigo dentro del directorio virtual del proyecto\n",
    "\n",
    "#### [Conda](https://docs.conda.io/en/latest/)\n",
    "\n",
    "[Comandos](https://docs.conda.io/projects/conda/en/stable/commands/index.html#conda-vs-pip-vs-virtualenv-commands):\n",
    "\n",
    "- [`conda create --name $ENVIRONMENT_NAME python`](https://docs.conda.io/projects/conda/en/stable/commands/env/create.html): crea un directorio virtual\n",
    "- [`conda activate $ENVIRONMENT_NAME`](): activa el directorio virtual\n",
    "- [`conda deactivate`](): desactiva el directorio virtual\n",
    "- [`conda install $PACKAGE_NAME`](https://docs.conda.io/projects/conda/en/stable/commands/install.html): instala una libreria\n",
    "- [`conda remove --name $ENVIRONMENT_NAME $PACKAGE_NAME`](): elimina una libreria\n"
   ]
  },
  {
   "cell_type": "markdown",
   "id": "c3c6cb97",
   "metadata": {},
   "source": [
    "## Git\n",
    "\n",
    "- [Tutorial](https://colab.research.google.com/drive/11EPXUjESxiT1RV6p1pkeKYS8PJFkRNpk)"
   ]
  },
  {
   "cell_type": "markdown",
   "id": "9e1f5aaa-9250-46a4-aa53-1be3b2b71b98",
   "metadata": {},
   "source": [
    "## Testing\n",
    "\n",
    "- https://colab.research.google.com/drive/1Rmk_5jEhuefqFavpDLtteGqE8-R1qmZv\n",
    "- [Unit testing](https://docs.python.org/3/library/unittest.html)\n",
    "- [PyTest](https://github.com/pytest-dev/pytest/)\n",
    "- [Integracion continua con GitHub Actions](https://docs.github.com/es/enterprise-cloud@latest/actions/automating-builds-and-tests/building-and-testing-python)\n",
    "- [Integracion continua con GitHub Actions En ingles](https://docs.github.com/en/actions/automating-builds-and-tests/building-and-testing-python)\n",
    "- [Testing con Rye](https://rye.astral.sh/guide/commands/test/)"
   ]
  },
  {
   "cell_type": "markdown",
   "id": "5bc35de8",
   "metadata": {},
   "source": [
    "## Docker\n",
    "\n",
    "- https://www.docker.com/play-with-docker/\n",
    "- https://training.play-with-docker.com/\n",
    "- https://labs.leaningtech.com/blog/mini-webvm-your-linux-box-from-dockerfile-via-wasm\n",
    "\n",
    "Optional:\n",
    "- https://github.com/indigo-dc/udocker\n",
    "- https://anvil.works/learn/tutorials/google-colab-web-service\n",
    "- https://biplobsd.me/blogs/view/run-swirl-open-source-search-engine-on-google-colab.md"
   ]
  },
  {
   "cell_type": "markdown",
   "id": "65288976",
   "metadata": {},
   "source": [
    "## ETL Pipelines y Frameworks\n",
    "\n",
    "- https://news.ycombinator.com/item?id=40723356\n",
    "- https://amphi.ai/\n",
    "- https://dlthub.com/\n",
    "- https://hub.meltano.com/\n",
    "- https://www.definite.app/"
   ]
  },
  {
   "cell_type": "markdown",
   "id": "b0d5b287",
   "metadata": {},
   "source": [
    "# Otros enlaces de interes:\n",
    "\n",
    "- https://harvard-edge.github.io/cs249r_book/"
   ]
  },
  {
   "cell_type": "code",
   "execution_count": null,
   "id": "a02fc9c6-42dc-4e18-81c3-f623b1e12928",
   "metadata": {},
   "outputs": [],
   "source": []
  }
 ],
 "metadata": {
  "kernelspec": {
   "display_name": "Python 3 (ipykernel)",
   "language": "python",
   "name": "python3"
  },
  "language_info": {
   "codemirror_mode": {
    "name": "ipython",
    "version": 3
   },
   "file_extension": ".py",
   "mimetype": "text/x-python",
   "name": "python",
   "nbconvert_exporter": "python",
   "pygments_lexer": "ipython3",
   "version": "3.12.4"
  }
 },
 "nbformat": 4,
 "nbformat_minor": 5
}
