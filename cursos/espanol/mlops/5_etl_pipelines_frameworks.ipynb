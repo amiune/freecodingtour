{
 "cells": [
  {
   "cell_type": "markdown",
   "id": "7ce7c733-ffa5-4bb0-8689-34290b3aadd9",
   "metadata": {},
   "source": [
    "# Pipelines y Frameworks\n",
    "\n",
    "Aqui veremos algunas de las herramientas que nos permiten organizar nuestro codigo para el ciclo completo de Machine Learning. Esta unidad es opcional. Muchas veces se le llama MLOps solo a esta parte del proceso pero la verdad es que esto es opcional y puede ser implementado con las herramientas vistas anteriormente. "
   ]
  },
  {
   "cell_type": "markdown",
   "id": "65288976",
   "metadata": {},
   "source": [
    "## ETL Pipelines y Frameworks\n",
    "\n",
    "- https://news.ycombinator.com/item?id=40723356\n",
    "- https://amphi.ai/\n",
    "- https://dlthub.com/\n",
    "- https://hub.meltano.com/\n",
    "- https://www.definite.app/"
   ]
  },
  {
   "cell_type": "code",
   "execution_count": null,
   "id": "a02fc9c6-42dc-4e18-81c3-f623b1e12928",
   "metadata": {},
   "outputs": [],
   "source": []
  }
 ],
 "metadata": {
  "kernelspec": {
   "display_name": "Python 3 (ipykernel)",
   "language": "python",
   "name": "python3"
  },
  "language_info": {
   "codemirror_mode": {
    "name": "ipython",
    "version": 3
   },
   "file_extension": ".py",
   "mimetype": "text/x-python",
   "name": "python",
   "nbconvert_exporter": "python",
   "pygments_lexer": "ipython3",
   "version": "3.12.4"
  }
 },
 "nbformat": 4,
 "nbformat_minor": 5
}
