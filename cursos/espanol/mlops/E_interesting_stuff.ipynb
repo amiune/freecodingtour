{
 "cells": [
  {
   "cell_type": "markdown",
   "metadata": {},
   "source": [
    "# Articulos Interesantes\n",
    "\n",
    "- [How we built ngrok's data platform](https://ngrok.com/blog-post/how-we-built-ngroks-data-platform)\n",
    "- [StackOverflow Tech survey](https://survey.stackoverflow.co/2024/technology#most-popular-technologies)"
   ]
  }
 ],
 "metadata": {
  "language_info": {
   "name": "python"
  }
 },
 "nbformat": 4,
 "nbformat_minor": 2
}
