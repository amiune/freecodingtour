{
 "cells": [
  {
   "cell_type": "markdown",
   "metadata": {},
   "source": [
    "# Cursos\n",
    "\n",
    "- [Data Engineering Zoomcamp: A Free 9-Week Course on Data Engineering Fundamentals](https://github.com/DataTalksClub/data-engineering-zoomcamp)\n",
    "- [Snowflake Tutorial](https://github.com/suresh/snowflake-tutorial)\n",
    "- [dbt Fundamentals](https://github.com/gbourniq/dbt-fundamentals)\n",
    "- [Learning Containers, Kubernetes, and Backend Development](https://iximiuz.com/en/)\n",
    "- [LLM Twin Course: Building Your Production-Ready AI Replica](https://github.com/decodingml/llm-twin-course)\n",
    "\n",
    "# Articulos Interesantes\n",
    "\n",
    "- [How we built ngrok's data platform](https://ngrok.com/blog-post/how-we-built-ngroks-data-platform)\n",
    "- [StackOverflow Tech survey](https://survey.stackoverflow.co/2024/technology#most-popular-technologies)\n",
    "- [ML in Go with a Python Sidecar](https://news.ycombinator.com/item?id=42108933)\n",
    "- [SST](https://sst.dev)\n",
    "- [Terraform](https://www.terraform.io)\n",
    "- [Apache Kafka](https://kafka.apache.org)\n",
    "- [Model Monitoring](https://dagshub.com/glossary/mlops-monitoring/)\n",
    "- [KataLog](https://kata-log.rocks/)\n"
   ]
  }
 ],
 "metadata": {
  "language_info": {
   "name": "python"
  }
 },
 "nbformat": 4,
 "nbformat_minor": 2
}
