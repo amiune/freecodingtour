{
 "cells": [
  {
   "cell_type": "markdown",
   "metadata": {},
   "source": [
    "# Articulos Interesantes\n",
    "\n",
    "- [How we built ngrok's data platform](https://ngrok.com/blog-post/how-we-built-ngroks-data-platform)\n",
    "- [StackOverflow Tech survey](https://survey.stackoverflow.co/2024/technology#most-popular-technologies)\n",
    "- [ML in Go with a Python Sidecar](https://news.ycombinator.com/item?id=42108933)\n",
    "- [SST](https://sst.dev)\n",
    "- [Terraform](https://www.terraform.io)\n",
    "- [Apache Kafka](https://kafka.apache.org)\n",
    "- [Model Monitoring](https://dagshub.com/glossary/mlops-monitoring/)\n",
    "- [KataLog](https://kata-log.rocks/)"
   ]
  }
 ],
 "metadata": {
  "language_info": {
   "name": "python"
  }
 },
 "nbformat": 4,
 "nbformat_minor": 2
}
