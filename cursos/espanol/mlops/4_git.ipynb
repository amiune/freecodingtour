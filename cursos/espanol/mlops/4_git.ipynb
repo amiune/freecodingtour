{
  "cells": [
    {
      "cell_type": "markdown",
      "id": "7ce7c733-ffa5-4bb0-8689-34290b3aadd9",
      "metadata": {
        "id": "7ce7c733-ffa5-4bb0-8689-34290b3aadd9"
      },
      "source": [
        "# Git\n",
        "\n",
        "Git es un software que nos permite guardar y crear distintas versiones de nuestro codigo y ademas nos permite trabajar con otras personas en el mismo codigo evitando que las modificaciones que haga una persona causen problemas al resto del equipo. Se ha vuelto un estandar en el desarrollo de software y todas las empresas y equipos de desarrollo lo utilizan.\n",
        "\n",
        "git ya viene instalado en linux y macos y para utilizarlos solo debemos escribir el comando git con sus diferentes funciones.\n"
      ]
    },
    {
      "cell_type": "markdown",
      "source": [
        "## git config\n",
        "\n",
        "Utilizaremos el comando `git config` para decir quien es el usuario que lo va a utilizar. En este caso utilizare mi nombre:"
      ],
      "metadata": {
        "id": "ru42v7NHwk1q"
      },
      "id": "ru42v7NHwk1q"
    },
    {
      "cell_type": "code",
      "source": [
        "%%bash\n",
        "\n",
        "git config --global user.email \"hernan@amiune.com\"\n",
        "git config --global user.name \"Hernan Amiune\""
      ],
      "metadata": {
        "id": "5Vxz02u0DH_c"
      },
      "id": "5Vxz02u0DH_c",
      "execution_count": null,
      "outputs": []
    },
    {
      "cell_type": "markdown",
      "source": [
        "Ahora a modo de ejemplo crearemos un directorio llamado `mi_proyecto` en donde vamos a guardar distintos ficheros y que vamos a ir controlando sus diferentes cambios y versiones utilizando git"
      ],
      "metadata": {
        "id": "fF4VrcYfwy3B"
      },
      "id": "fF4VrcYfwy3B"
    },
    {
      "cell_type": "code",
      "source": [
        "%%bash\n",
        "\n",
        "mkdir mi_proyecto"
      ],
      "metadata": {
        "id": "C39TbWHwBk7Q"
      },
      "id": "C39TbWHwBk7Q",
      "execution_count": null,
      "outputs": []
    },
    {
      "cell_type": "markdown",
      "source": [
        "Nos posicionamos dentro de este directorio"
      ],
      "metadata": {
        "id": "iLAsxJQzxOt_"
      },
      "id": "iLAsxJQzxOt_"
    },
    {
      "cell_type": "code",
      "source": [
        "%cd mi_proyecto"
      ],
      "metadata": {
        "id": "Mu0PU9k4BrL3",
        "outputId": "41cc2d78-a5aa-4a7f-bc1c-5d7beb6bc801",
        "colab": {
          "base_uri": "https://localhost:8080/"
        }
      },
      "id": "Mu0PU9k4BrL3",
      "execution_count": null,
      "outputs": [
        {
          "output_type": "stream",
          "name": "stdout",
          "text": [
            "/content/mi_proyecto\n"
          ]
        }
      ]
    },
    {
      "cell_type": "markdown",
      "source": [
        "## git init\n",
        "\n",
        "Inicializamos git utilizando el comando `git init`. Este comando crea un directorio especial oculto llamado `.git` donde git guardara toda la informacion necesaria para ir controlando todos los cambios y versiones de mis ficheros."
      ],
      "metadata": {
        "id": "M9lw1lmcxSf3"
      },
      "id": "M9lw1lmcxSf3"
    },
    {
      "cell_type": "code",
      "source": [
        "%%bash\n",
        "\n",
        "git init"
      ],
      "metadata": {
        "colab": {
          "base_uri": "https://localhost:8080/"
        },
        "id": "c0dUaJK64b0R",
        "outputId": "cd58d342-389e-4099-e6f7-d31830e31cc2"
      },
      "id": "c0dUaJK64b0R",
      "execution_count": null,
      "outputs": [
        {
          "output_type": "stream",
          "name": "stdout",
          "text": [
            "Initialized empty Git repository in /content/mi_proyecto/.git/\n"
          ]
        },
        {
          "output_type": "stream",
          "name": "stderr",
          "text": [
            "hint: Using 'master' as the name for the initial branch. This default branch name\n",
            "hint: is subject to change. To configure the initial branch name to use in all\n",
            "hint: of your new repositories, which will suppress this warning, call:\n",
            "hint: \n",
            "hint: \tgit config --global init.defaultBranch <name>\n",
            "hint: \n",
            "hint: Names commonly chosen instead of 'master' are 'main', 'trunk' and\n",
            "hint: 'development'. The just-created branch can be renamed via this command:\n",
            "hint: \n",
            "hint: \tgit branch -m <name>\n"
          ]
        }
      ]
    },
    {
      "cell_type": "markdown",
      "source": [
        "Veamos el contenido del directorio oculto .git:"
      ],
      "metadata": {
        "id": "0tIW7x3XxlVR"
      },
      "id": "0tIW7x3XxlVR"
    },
    {
      "cell_type": "code",
      "source": [
        "%%bash\n",
        "\n",
        "ls -l .git"
      ],
      "metadata": {
        "colab": {
          "base_uri": "https://localhost:8080/"
        },
        "id": "-wz10cJb4uko",
        "outputId": "35c85f72-4774-4a6e-c292-7e57eb1326e9"
      },
      "id": "-wz10cJb4uko",
      "execution_count": null,
      "outputs": [
        {
          "output_type": "stream",
          "name": "stdout",
          "text": [
            "total 32\n",
            "drwxr-xr-x 2 root root 4096 Jul 30 14:27 branches\n",
            "-rw-r--r-- 1 root root   92 Jul 30 14:27 config\n",
            "-rw-r--r-- 1 root root   73 Jul 30 14:27 description\n",
            "-rw-r--r-- 1 root root   23 Jul 30 14:27 HEAD\n",
            "drwxr-xr-x 2 root root 4096 Jul 30 14:27 hooks\n",
            "drwxr-xr-x 2 root root 4096 Jul 30 14:27 info\n",
            "drwxr-xr-x 4 root root 4096 Jul 30 14:27 objects\n",
            "drwxr-xr-x 4 root root 4096 Jul 30 14:27 refs\n"
          ]
        }
      ]
    },
    {
      "cell_type": "markdown",
      "source": [
        "El contenido de este directorio no nos debe importar ya que sera manejado por git."
      ],
      "metadata": {
        "id": "cse7Rl0kxvYe"
      },
      "id": "cse7Rl0kxvYe"
    },
    {
      "cell_type": "markdown",
      "source": [
        "## git status\n",
        "\n",
        "Veamos ahora el estado del repositorio utilizando el comando `git status`. Este comando nos informa que cambios todavia no han sido confirmados en el repositorio. Por el momento no tenemos ningun cambio a confirmar."
      ],
      "metadata": {
        "id": "CYa0jnUZzO0v"
      },
      "id": "CYa0jnUZzO0v"
    },
    {
      "cell_type": "code",
      "source": [
        "%%bash\n",
        "\n",
        "git status"
      ],
      "metadata": {
        "colab": {
          "base_uri": "https://localhost:8080/"
        },
        "id": "e6iiO3GNCnKh",
        "outputId": "695eb530-606e-4329-c8fc-89be6735d025"
      },
      "id": "e6iiO3GNCnKh",
      "execution_count": null,
      "outputs": [
        {
          "output_type": "stream",
          "name": "stdout",
          "text": [
            "On branch master\n",
            "\n",
            "No commits yet\n",
            "\n",
            "nothing to commit (create/copy files and use \"git add\" to track)\n"
          ]
        }
      ]
    },
    {
      "cell_type": "markdown",
      "source": [
        "Agreguemos ahor un fichero llamado fiesta.txt"
      ],
      "metadata": {
        "id": "vvjOvbDVz4_h"
      },
      "id": "vvjOvbDVz4_h"
    },
    {
      "cell_type": "code",
      "source": [
        "%%file fiesta.txt\n",
        "\n",
        "Invitados confirmados:\n",
        "\n",
        "Alicia\n",
        "Bob\n",
        "Carolina"
      ],
      "metadata": {
        "id": "kMGjMVQ040uO",
        "colab": {
          "base_uri": "https://localhost:8080/"
        },
        "outputId": "9d421445-c71e-4d0d-fdf5-9ebcb6755b34"
      },
      "id": "kMGjMVQ040uO",
      "execution_count": null,
      "outputs": [
        {
          "output_type": "stream",
          "name": "stdout",
          "text": [
            "Writing fiesta.txt\n"
          ]
        }
      ]
    },
    {
      "cell_type": "markdown",
      "source": [
        "Veamos nuevamente el estado con `git status`. Veremos que ahora nos muestra que existe un nuevo fichero que no esta agregado al control de versiones de git (\"Untracked files\")"
      ],
      "metadata": {
        "id": "J_6FKjSqz9lg"
      },
      "id": "J_6FKjSqz9lg"
    },
    {
      "cell_type": "code",
      "source": [
        "%%bash\n",
        "\n",
        "git status"
      ],
      "metadata": {
        "colab": {
          "base_uri": "https://localhost:8080/"
        },
        "id": "wtEkv8WyC4q8",
        "outputId": "42542cb1-7aad-46df-a83d-18aad8be76d8"
      },
      "id": "wtEkv8WyC4q8",
      "execution_count": null,
      "outputs": [
        {
          "output_type": "stream",
          "name": "stdout",
          "text": [
            "On branch master\n",
            "\n",
            "No commits yet\n",
            "\n",
            "Untracked files:\n",
            "  (use \"git add <file>...\" to include in what will be committed)\n",
            "\tfiesta.txt\n",
            "\n",
            "nothing added to commit but untracked files present (use \"git add\" to track)\n"
          ]
        }
      ]
    },
    {
      "cell_type": "markdown",
      "source": [
        "## git add\n",
        "\n",
        "Agreguemos ese fichero al control de versiones de git utilizando el comando `git add fiesta.txt`"
      ],
      "metadata": {
        "id": "yuriNIzz0PIC"
      },
      "id": "yuriNIzz0PIC"
    },
    {
      "cell_type": "code",
      "source": [
        "%%bash\n",
        "\n",
        "git add fiesta.txt"
      ],
      "metadata": {
        "id": "XcsDcM8gC4z4"
      },
      "id": "XcsDcM8gC4z4",
      "execution_count": null,
      "outputs": []
    },
    {
      "cell_type": "markdown",
      "source": [
        "Veamos nuevamente el estado. Veremos que fue agregado al control de versiones pero no fue aun confirmado al repositorio."
      ],
      "metadata": {
        "id": "E1coMk1r0YBB"
      },
      "id": "E1coMk1r0YBB"
    },
    {
      "cell_type": "code",
      "source": [
        "%%bash\n",
        "\n",
        "git status"
      ],
      "metadata": {
        "colab": {
          "base_uri": "https://localhost:8080/"
        },
        "id": "JvlBUEEkC42e",
        "outputId": "4e9704c8-77d5-4eb8-be38-cec1af40262b"
      },
      "id": "JvlBUEEkC42e",
      "execution_count": null,
      "outputs": [
        {
          "output_type": "stream",
          "name": "stdout",
          "text": [
            "On branch master\n",
            "\n",
            "No commits yet\n",
            "\n",
            "Changes to be committed:\n",
            "  (use \"git rm --cached <file>...\" to unstage)\n",
            "\tnew file:   fiesta.txt\n",
            "\n"
          ]
        }
      ]
    },
    {
      "cell_type": "markdown",
      "source": [
        "## git commit\n",
        "\n",
        "Utilizaremos ahora el comando `git commit -m \"Invitados confirmados\"` que le dira a git que confirme los ficheros que hemos agregado (en este caso solo agregamos un fichero) y que a esta confirmacion la guarde con la descripcion de \"Invitados confirmados\""
      ],
      "metadata": {
        "id": "3-cVg_yW0jMa"
      },
      "id": "3-cVg_yW0jMa"
    },
    {
      "cell_type": "code",
      "source": [
        "%%bash\n",
        "\n",
        "git commit -m \"Invitados confirmados\""
      ],
      "metadata": {
        "colab": {
          "base_uri": "https://localhost:8080/"
        },
        "id": "E4hJ3qI9C446",
        "outputId": "8d30ee55-2e70-4527-9e43-738ab61bb1ee"
      },
      "id": "E4hJ3qI9C446",
      "execution_count": null,
      "outputs": [
        {
          "output_type": "stream",
          "name": "stdout",
          "text": [
            "[master (root-commit) eb73802] Invitados confirmados\n",
            " 1 file changed, 6 insertions(+)\n",
            " create mode 100644 fiesta.txt\n"
          ]
        }
      ]
    },
    {
      "cell_type": "markdown",
      "source": [
        "Veamos nuevamente el estado. Otra vez no tenemos ningun cambio por confirmar."
      ],
      "metadata": {
        "id": "_dCNbfPp1Ce-"
      },
      "id": "_dCNbfPp1Ce-"
    },
    {
      "cell_type": "code",
      "source": [
        "%%bash\n",
        "\n",
        "git status"
      ],
      "metadata": {
        "colab": {
          "base_uri": "https://localhost:8080/"
        },
        "id": "Kd4yhxC2ENaP",
        "outputId": "0a197da5-257a-481c-d460-0bb8fb4e449d"
      },
      "id": "Kd4yhxC2ENaP",
      "execution_count": null,
      "outputs": [
        {
          "output_type": "stream",
          "name": "stdout",
          "text": [
            "On branch master\n",
            "nothing to commit, working tree clean\n"
          ]
        }
      ]
    },
    {
      "cell_type": "markdown",
      "source": [
        "## git log\n",
        "\n",
        "El comando `git log` nos mostrara todas las veces que hemos ejecutado el comando `git commit` confirmando cambios al repositorio"
      ],
      "metadata": {
        "id": "UZ3nXX8b1cOH"
      },
      "id": "UZ3nXX8b1cOH"
    },
    {
      "cell_type": "code",
      "source": [
        "%%bash\n",
        "\n",
        "git log"
      ],
      "metadata": {
        "colab": {
          "base_uri": "https://localhost:8080/"
        },
        "id": "yBWz2r6SEPGv",
        "outputId": "7f085a43-cf3b-429d-f574-428f613db0e8"
      },
      "id": "yBWz2r6SEPGv",
      "execution_count": null,
      "outputs": [
        {
          "output_type": "stream",
          "name": "stdout",
          "text": [
            "commit eb73802784a05a18ac7409a2df7f428f337f117a\n",
            "Author: Hernan Amiune <hernan@amiune.com>\n",
            "Date:   Tue Jul 30 14:32:42 2024 +0000\n",
            "\n",
            "    Invitados confirmados\n"
          ]
        }
      ]
    },
    {
      "cell_type": "markdown",
      "source": [
        "## Modifico mis ficheros\n",
        "\n",
        "Veamos que sucede cuando modifico mis ficheros"
      ],
      "metadata": {
        "id": "BEMg4HUPEq_x"
      },
      "id": "BEMg4HUPEq_x"
    },
    {
      "cell_type": "code",
      "source": [
        "%%file fiesta.txt\n",
        "\n",
        "Invitados confirmados:\n",
        "\n",
        "Alicia\n",
        "Bob\n",
        "Carolina\n",
        "David"
      ],
      "metadata": {
        "colab": {
          "base_uri": "https://localhost:8080/"
        },
        "id": "kdOyKypxEtGD",
        "outputId": "c8b6961c-df6c-42d2-ff8f-04f56b337c76"
      },
      "id": "kdOyKypxEtGD",
      "execution_count": null,
      "outputs": [
        {
          "output_type": "stream",
          "name": "stdout",
          "text": [
            "Overwriting fiesta.txt\n"
          ]
        }
      ]
    },
    {
      "cell_type": "markdown",
      "source": [
        "Una vez que ha sido modificado un fichero que esta confirmado en el repositorio `git status` nos mostrara que ha cambiado y que espera la confirmacion a la desestimacion de los cambios"
      ],
      "metadata": {
        "id": "azjf8V581u4g"
      },
      "id": "azjf8V581u4g"
    },
    {
      "cell_type": "code",
      "source": [
        "%%bash\n",
        "\n",
        "git status"
      ],
      "metadata": {
        "colab": {
          "base_uri": "https://localhost:8080/"
        },
        "id": "2jQ43xGVEtIU",
        "outputId": "035ad8ae-d2cd-4c2d-8b10-b635a0e8af7a"
      },
      "id": "2jQ43xGVEtIU",
      "execution_count": null,
      "outputs": [
        {
          "output_type": "stream",
          "name": "stdout",
          "text": [
            "On branch master\n",
            "Changes not staged for commit:\n",
            "  (use \"git add <file>...\" to update what will be committed)\n",
            "  (use \"git restore <file>...\" to discard changes in working directory)\n",
            "\tmodified:   fiesta.txt\n",
            "\n",
            "no changes added to commit (use \"git add\" and/or \"git commit -a\")\n"
          ]
        }
      ]
    },
    {
      "cell_type": "markdown",
      "source": [
        "## git diff\n",
        "\n",
        "El comando `git diff` nos mostrara cuales son los cambios que ha habido en cada fichero."
      ],
      "metadata": {
        "id": "k6XtgTMo2Ae4"
      },
      "id": "k6XtgTMo2Ae4"
    },
    {
      "cell_type": "code",
      "source": [
        "%%bash\n",
        "\n",
        "git diff"
      ],
      "metadata": {
        "colab": {
          "base_uri": "https://localhost:8080/"
        },
        "id": "r6EkhZw3FSps",
        "outputId": "b234959e-f686-4f59-c052-d6d950705b0d"
      },
      "id": "r6EkhZw3FSps",
      "execution_count": null,
      "outputs": [
        {
          "output_type": "stream",
          "name": "stdout",
          "text": [
            "diff --git a/fiesta.txt b/fiesta.txt\n",
            "index 6e6cb4d..7c607d7 100644\n",
            "--- a/fiesta.txt\n",
            "+++ b/fiesta.txt\n",
            "@@ -4,3 +4,4 @@ Invitados confirmados:\n",
            " Alicia\n",
            " Bob\n",
            " Carolina\n",
            "+David\n"
          ]
        }
      ]
    },
    {
      "cell_type": "markdown",
      "source": [
        "## git restore\n",
        "\n",
        "Este comando me permite volver atras y eliminar los cambios que he hecho en un fichero que todavia no ha sido confirmado\n"
      ],
      "metadata": {
        "id": "YWQ1OQdBE-48"
      },
      "id": "YWQ1OQdBE-48"
    },
    {
      "cell_type": "code",
      "source": [
        "%%bash\n",
        "\n",
        "git restore fiesta.txt"
      ],
      "metadata": {
        "id": "z3oomiC-EtK7"
      },
      "id": "z3oomiC-EtK7",
      "execution_count": null,
      "outputs": []
    },
    {
      "cell_type": "markdown",
      "source": [
        "Veamos el contenido del fichero luego de haber ejecutado `git restore`"
      ],
      "metadata": {
        "id": "MJ1mog-B2cn-"
      },
      "id": "MJ1mog-B2cn-"
    },
    {
      "cell_type": "code",
      "source": [
        "!cat fiesta.txt"
      ],
      "metadata": {
        "colab": {
          "base_uri": "https://localhost:8080/"
        },
        "id": "biwTUcsAFJeP",
        "outputId": "628b9b52-c48b-480f-a6df-42fe5c37fa6f"
      },
      "id": "biwTUcsAFJeP",
      "execution_count": null,
      "outputs": [
        {
          "output_type": "stream",
          "name": "stdout",
          "text": [
            "\n",
            "Invitados confirmados:\n",
            "\n",
            "Alicia\n",
            "Bob\n",
            "Carolina\n"
          ]
        }
      ]
    },
    {
      "cell_type": "markdown",
      "source": [
        "### Ahora quiero añadir mis cambios\n",
        "\n",
        "Para confirmar los cambios ejecuto los comandos `git add` y `git commit` como hicimos anteriormente.\n",
        "\n"
      ],
      "metadata": {
        "id": "tnOCAxR2FYMy"
      },
      "id": "tnOCAxR2FYMy"
    },
    {
      "cell_type": "code",
      "source": [
        "%%file fiesta.txt\n",
        "\n",
        "Invitados confirmados:\n",
        "\n",
        "Alicia\n",
        "Barbara\n",
        "Bob\n",
        "Carolina"
      ],
      "metadata": {
        "colab": {
          "base_uri": "https://localhost:8080/"
        },
        "id": "hkywWD3aFd8i",
        "outputId": "9312f8ad-31da-4059-fefa-4a089b2165e3"
      },
      "id": "hkywWD3aFd8i",
      "execution_count": null,
      "outputs": [
        {
          "output_type": "stream",
          "name": "stdout",
          "text": [
            "Overwriting fiesta.txt\n"
          ]
        }
      ]
    },
    {
      "cell_type": "code",
      "source": [
        "%%bash\n",
        "\n",
        "git add fiesta.txt"
      ],
      "metadata": {
        "id": "U6Mm7XQeFd_J"
      },
      "id": "U6Mm7XQeFd_J",
      "execution_count": null,
      "outputs": []
    },
    {
      "cell_type": "code",
      "source": [
        "%%bash\n",
        "\n",
        "git commit -m \"Barbara confirmada\""
      ],
      "metadata": {
        "colab": {
          "base_uri": "https://localhost:8080/"
        },
        "id": "r-mr0zFpFeCI",
        "outputId": "c25c122d-8e78-4a58-b212-ec98add05a86"
      },
      "id": "r-mr0zFpFeCI",
      "execution_count": null,
      "outputs": [
        {
          "output_type": "stream",
          "name": "stdout",
          "text": [
            "[master 9d50f74] Barbara confirmada\n",
            " 1 file changed, 1 insertion(+)\n"
          ]
        }
      ]
    },
    {
      "cell_type": "markdown",
      "source": [
        "Veamos el log de commits:"
      ],
      "metadata": {
        "id": "1SzhD19A2zns"
      },
      "id": "1SzhD19A2zns"
    },
    {
      "cell_type": "code",
      "source": [
        "%%bash\n",
        "\n",
        "git log"
      ],
      "metadata": {
        "colab": {
          "base_uri": "https://localhost:8080/"
        },
        "id": "uyVZoqq0F8Ln",
        "outputId": "5591f8a5-6cba-4a61-aa2c-3d89e71583a6"
      },
      "id": "uyVZoqq0F8Ln",
      "execution_count": null,
      "outputs": [
        {
          "output_type": "stream",
          "name": "stdout",
          "text": [
            "commit 9d50f7423817385b9d2cf36103bf701633e0c005\n",
            "Author: Hernan Amiune <hernan@amiune.com>\n",
            "Date:   Tue Jul 30 14:42:17 2024 +0000\n",
            "\n",
            "    Barbara confirmada\n",
            "\n",
            "commit eb73802784a05a18ac7409a2df7f428f337f117a\n",
            "Author: Hernan Amiune <hernan@amiune.com>\n",
            "Date:   Tue Jul 30 14:32:42 2024 +0000\n",
            "\n",
            "    Invitados confirmados\n"
          ]
        }
      ]
    },
    {
      "cell_type": "markdown",
      "source": [
        "## Branches (Ramas)\n",
        "\n",
        "Las ramas son \"como copias\" de mi repositorio que me permiten trabajar paralelamente sin afectar al repositorio principal. Es una buena practica crear una rama nueva cada vez que queremos:\n",
        "- agregar una nueva funcionalidad a un proyecto\n",
        "- corregir un bug de un proyecto"
      ],
      "metadata": {
        "id": "lZghdxksES5j"
      },
      "id": "lZghdxksES5j"
    },
    {
      "cell_type": "markdown",
      "source": [
        "## git branch\n",
        "\n",
        "Para ver todas las ramas de mi repositorio utilizamos el comando `git branch`"
      ],
      "metadata": {
        "id": "AYPXHo8k4RYI"
      },
      "id": "AYPXHo8k4RYI"
    },
    {
      "cell_type": "code",
      "source": [
        "%%bash\n",
        "\n",
        "git branch"
      ],
      "metadata": {
        "colab": {
          "base_uri": "https://localhost:8080/"
        },
        "id": "K4EYX5dOEVf7",
        "outputId": "e97f8f11-860c-454d-d749-2da186a3ffb5"
      },
      "id": "K4EYX5dOEVf7",
      "execution_count": null,
      "outputs": [
        {
          "output_type": "stream",
          "name": "stdout",
          "text": [
            "* master\n"
          ]
        }
      ]
    },
    {
      "cell_type": "markdown",
      "source": [
        "Para crear una nueva rama utilizamos el comando `git branch nombre-rama`"
      ],
      "metadata": {
        "id": "jMoGo4vf4WvG"
      },
      "id": "jMoGo4vf4WvG"
    },
    {
      "cell_type": "code",
      "source": [
        "%%bash\n",
        "\n",
        "git branch en-duda"
      ],
      "metadata": {
        "id": "4V8UKBTkEViJ"
      },
      "id": "4V8UKBTkEViJ",
      "execution_count": null,
      "outputs": []
    },
    {
      "cell_type": "code",
      "source": [
        "%%bash\n",
        "\n",
        "git branch"
      ],
      "metadata": {
        "colab": {
          "base_uri": "https://localhost:8080/"
        },
        "id": "6107r1rgEVkc",
        "outputId": "7369909d-f54b-4175-fe76-ebf1faf96387"
      },
      "id": "6107r1rgEVkc",
      "execution_count": null,
      "outputs": [
        {
          "output_type": "stream",
          "name": "stdout",
          "text": [
            "  en-duda\n",
            "* master\n"
          ]
        }
      ]
    },
    {
      "cell_type": "markdown",
      "source": [
        "## git checkout\n",
        "\n",
        "Para cambiar de rama utilizamos el comando `git checkout nombre-rama`"
      ],
      "metadata": {
        "id": "4SgmnhED4fZ5"
      },
      "id": "4SgmnhED4fZ5"
    },
    {
      "cell_type": "code",
      "source": [
        "%%bash\n",
        "\n",
        "git checkout en-duda"
      ],
      "metadata": {
        "colab": {
          "base_uri": "https://localhost:8080/"
        },
        "id": "q3ZQdQg8Gj12",
        "outputId": "3969207b-123c-4af0-bc0e-84cc62607890"
      },
      "id": "q3ZQdQg8Gj12",
      "execution_count": null,
      "outputs": [
        {
          "output_type": "stream",
          "name": "stderr",
          "text": [
            "Switched to branch 'en-duda'\n"
          ]
        }
      ]
    },
    {
      "cell_type": "code",
      "source": [
        "%%bash\n",
        "\n",
        "git branch"
      ],
      "metadata": {
        "colab": {
          "base_uri": "https://localhost:8080/"
        },
        "id": "H6cSBQvOGw6F",
        "outputId": "2445c589-3e06-4d16-f312-653e763e6d01"
      },
      "id": "H6cSBQvOGw6F",
      "execution_count": null,
      "outputs": [
        {
          "output_type": "stream",
          "name": "stdout",
          "text": [
            "* en-duda\n",
            "  master\n"
          ]
        }
      ]
    },
    {
      "cell_type": "code",
      "source": [
        "%%file fiesta.txt\n",
        "\n",
        "Invitados confirmados:\n",
        "\n",
        "Alicia\n",
        "Barbara\n",
        "Bob\n",
        "Carolina\n",
        "\n",
        "Invitados en duda:\n",
        "Daniel\n",
        "Elsa\n",
        "Fernanda"
      ],
      "metadata": {
        "colab": {
          "base_uri": "https://localhost:8080/"
        },
        "id": "sStxmnaNGyWk",
        "outputId": "a4d84c52-be75-4658-a74c-fa40e33f6a7f"
      },
      "id": "sStxmnaNGyWk",
      "execution_count": null,
      "outputs": [
        {
          "output_type": "stream",
          "name": "stdout",
          "text": [
            "Overwriting fiesta.txt\n"
          ]
        }
      ]
    },
    {
      "cell_type": "code",
      "source": [
        "%%bash\n",
        "\n",
        "git status"
      ],
      "metadata": {
        "colab": {
          "base_uri": "https://localhost:8080/"
        },
        "id": "ISd_-E1jHDOa",
        "outputId": "51fe69fa-61a2-4abe-944a-dfb37d14b432"
      },
      "id": "ISd_-E1jHDOa",
      "execution_count": null,
      "outputs": [
        {
          "output_type": "stream",
          "name": "stdout",
          "text": [
            "On branch en-duda\n",
            "Changes not staged for commit:\n",
            "  (use \"git add <file>...\" to update what will be committed)\n",
            "  (use \"git restore <file>...\" to discard changes in working directory)\n",
            "\tmodified:   fiesta.txt\n",
            "\n",
            "no changes added to commit (use \"git add\" and/or \"git commit -a\")\n"
          ]
        }
      ]
    },
    {
      "cell_type": "code",
      "source": [
        "%%bash\n",
        "\n",
        "git add fiesta.txt\n",
        "git commit -m \"Invitados en duda\""
      ],
      "metadata": {
        "colab": {
          "base_uri": "https://localhost:8080/"
        },
        "id": "JMlGvwdaHKk-",
        "outputId": "140a55b2-ac21-4fc3-d2e0-d0a6c36a8fe5"
      },
      "id": "JMlGvwdaHKk-",
      "execution_count": null,
      "outputs": [
        {
          "output_type": "stream",
          "name": "stdout",
          "text": [
            "[en-duda 8c59ca1] Invitados en duda\n",
            " 1 file changed, 5 insertions(+)\n"
          ]
        }
      ]
    },
    {
      "cell_type": "code",
      "source": [
        "%%bash\n",
        "\n",
        "git log"
      ],
      "metadata": {
        "colab": {
          "base_uri": "https://localhost:8080/"
        },
        "id": "pJwlh-euHPVF",
        "outputId": "c3d04a6f-55a8-40e9-c52b-072e50af8277"
      },
      "id": "pJwlh-euHPVF",
      "execution_count": null,
      "outputs": [
        {
          "output_type": "stream",
          "name": "stdout",
          "text": [
            "commit 8c59ca143b7f72540a52d29ed36ca5cf3bf3e3fd\n",
            "Author: Hernan Amiune <hernan@amiune.com>\n",
            "Date:   Tue Jul 30 14:48:10 2024 +0000\n",
            "\n",
            "    Invitados en duda\n",
            "\n",
            "commit 9d50f7423817385b9d2cf36103bf701633e0c005\n",
            "Author: Hernan Amiune <hernan@amiune.com>\n",
            "Date:   Tue Jul 30 14:42:17 2024 +0000\n",
            "\n",
            "    Barbara confirmada\n",
            "\n",
            "commit eb73802784a05a18ac7409a2df7f428f337f117a\n",
            "Author: Hernan Amiune <hernan@amiune.com>\n",
            "Date:   Tue Jul 30 14:32:42 2024 +0000\n",
            "\n",
            "    Invitados confirmados\n"
          ]
        }
      ]
    },
    {
      "cell_type": "code",
      "source": [
        "%%bash\n",
        "\n",
        "cat fiesta.txt"
      ],
      "metadata": {
        "colab": {
          "base_uri": "https://localhost:8080/"
        },
        "id": "FZ-KPTJXHTik",
        "outputId": "ad318c18-9331-4a32-ab42-d06228fbab69"
      },
      "id": "FZ-KPTJXHTik",
      "execution_count": null,
      "outputs": [
        {
          "output_type": "stream",
          "name": "stdout",
          "text": [
            "\n",
            "Invitados confirmados:\n",
            "\n",
            "Alicia\n",
            "Barbara\n",
            "Bob\n",
            "Carolina\n",
            "\n",
            "Invitados en duda:\n",
            "Daniel\n",
            "Elsa\n",
            "Fernanda\n"
          ]
        }
      ]
    },
    {
      "cell_type": "code",
      "source": [
        "%%bash\n",
        "\n",
        "git checkout master"
      ],
      "metadata": {
        "colab": {
          "base_uri": "https://localhost:8080/"
        },
        "id": "Si-bPKmVHWNx",
        "outputId": "8746d000-d4bd-4980-c843-e239c74921c4"
      },
      "id": "Si-bPKmVHWNx",
      "execution_count": null,
      "outputs": [
        {
          "output_type": "stream",
          "name": "stderr",
          "text": [
            "Switched to branch 'master'\n"
          ]
        }
      ]
    },
    {
      "cell_type": "code",
      "source": [
        "%%bash\n",
        "\n",
        "git log"
      ],
      "metadata": {
        "colab": {
          "base_uri": "https://localhost:8080/"
        },
        "id": "L8lfXAcLHWae",
        "outputId": "82ada485-cd5a-4756-f114-30379e7cc636"
      },
      "id": "L8lfXAcLHWae",
      "execution_count": null,
      "outputs": [
        {
          "output_type": "stream",
          "name": "stdout",
          "text": [
            "commit 9d50f7423817385b9d2cf36103bf701633e0c005\n",
            "Author: Hernan Amiune <hernan@amiune.com>\n",
            "Date:   Tue Jul 30 14:42:17 2024 +0000\n",
            "\n",
            "    Barbara confirmada\n",
            "\n",
            "commit eb73802784a05a18ac7409a2df7f428f337f117a\n",
            "Author: Hernan Amiune <hernan@amiune.com>\n",
            "Date:   Tue Jul 30 14:32:42 2024 +0000\n",
            "\n",
            "    Invitados confirmados\n"
          ]
        }
      ]
    },
    {
      "cell_type": "code",
      "source": [
        "%%bash\n",
        "\n",
        "cat fiesta.txt"
      ],
      "metadata": {
        "colab": {
          "base_uri": "https://localhost:8080/"
        },
        "id": "YuvhjtCDHayH",
        "outputId": "cf9b3233-feba-4514-997b-8cdd62c7cd36"
      },
      "id": "YuvhjtCDHayH",
      "execution_count": null,
      "outputs": [
        {
          "output_type": "stream",
          "name": "stdout",
          "text": [
            "\n",
            "Invitados confirmados:\n",
            "\n",
            "Alicia\n",
            "Barbara\n",
            "Bob\n",
            "Carolina\n"
          ]
        }
      ]
    },
    {
      "cell_type": "code",
      "source": [
        "%%bash\n",
        "\n",
        "git merge en-duda"
      ],
      "metadata": {
        "colab": {
          "base_uri": "https://localhost:8080/"
        },
        "id": "GiISWS7EHeDd",
        "outputId": "d0da5523-2fd7-4c17-8e25-1e7419c6d1fc"
      },
      "id": "GiISWS7EHeDd",
      "execution_count": null,
      "outputs": [
        {
          "output_type": "stream",
          "name": "stdout",
          "text": [
            "Updating 9d50f74..8c59ca1\n",
            "Fast-forward\n",
            " fiesta.txt | 5 +++++\n",
            " 1 file changed, 5 insertions(+)\n"
          ]
        }
      ]
    },
    {
      "cell_type": "code",
      "source": [
        "%%bash\n",
        "\n",
        "git log"
      ],
      "metadata": {
        "id": "LZgKvP8wHxRb",
        "outputId": "655e0724-331b-4888-c67a-63104989aba5",
        "colab": {
          "base_uri": "https://localhost:8080/"
        }
      },
      "id": "LZgKvP8wHxRb",
      "execution_count": null,
      "outputs": [
        {
          "output_type": "stream",
          "name": "stdout",
          "text": [
            "commit 8c59ca143b7f72540a52d29ed36ca5cf3bf3e3fd\n",
            "Author: Hernan Amiune <hernan@amiune.com>\n",
            "Date:   Tue Jul 30 14:48:10 2024 +0000\n",
            "\n",
            "    Invitados en duda\n",
            "\n",
            "commit 9d50f7423817385b9d2cf36103bf701633e0c005\n",
            "Author: Hernan Amiune <hernan@amiune.com>\n",
            "Date:   Tue Jul 30 14:42:17 2024 +0000\n",
            "\n",
            "    Barbara confirmada\n",
            "\n",
            "commit eb73802784a05a18ac7409a2df7f428f337f117a\n",
            "Author: Hernan Amiune <hernan@amiune.com>\n",
            "Date:   Tue Jul 30 14:32:42 2024 +0000\n",
            "\n",
            "    Invitados confirmados\n"
          ]
        }
      ]
    },
    {
      "cell_type": "code",
      "source": [
        "%%bash\n",
        "\n",
        "cat fiesta.txt"
      ],
      "metadata": {
        "id": "GD7jf0wXH1Zz",
        "outputId": "63fb6e88-b590-4b2e-e31a-12a03db7778d",
        "colab": {
          "base_uri": "https://localhost:8080/"
        }
      },
      "id": "GD7jf0wXH1Zz",
      "execution_count": null,
      "outputs": [
        {
          "output_type": "stream",
          "name": "stdout",
          "text": [
            "\n",
            "Invitados confirmados:\n",
            "\n",
            "Alicia\n",
            "Barbara\n",
            "Bob\n",
            "Carolina\n",
            "\n",
            "Invitados en duda:\n",
            "Daniel\n",
            "Elsa\n",
            "Fernanda\n"
          ]
        }
      ]
    },
    {
      "cell_type": "markdown",
      "source": [
        "# Resumen de Comandos\n",
        "\n",
        "| Comando | Descripcion |\n",
        "| ----- | ----- |\n",
        "| `git init` | Inicializa el repositorio |\n",
        "| `git add` | Agrega los ficheros al area de staging |\n",
        "| `git commit` | Agrega los ficheros del area de staging al repositorio |\n",
        "| `git log` | Muestra el log de commits |\n",
        "| `git merge` | Trae los ficheros de la rama especificada a la actual |\n",
        "\n",
        "Para una descripcion completa ir a la [documentacion oficial de git](https://git-scm.com/docs)"
      ],
      "metadata": {
        "id": "CHyiMdodyDfk"
      },
      "id": "CHyiMdodyDfk"
    },
    {
      "cell_type": "markdown",
      "source": [
        "# Repositorios Remotos\n",
        "\n",
        "Cuando el repositorio es no esta en mi ordenador sino que se encuentra alojado en un ordenador remoto entonces necesitaremos algunos comandos nuevos que veremos en la siguiente unidad."
      ],
      "metadata": {
        "id": "BshpsUaZzcck"
      },
      "id": "BshpsUaZzcck"
    },
    {
      "cell_type": "markdown",
      "id": "c3c6cb97",
      "metadata": {
        "id": "c3c6cb97"
      },
      "source": [
        "## Referencias:\n",
        "\n",
        "- [Documentacion oficial de git](https://git-scm.com/docs)\n",
        "- [Tutorial](https://colab.research.google.com/drive/11EPXUjESxiT1RV6p1pkeKYS8PJFkRNpk)"
      ]
    },
    {
      "cell_type": "code",
      "execution_count": null,
      "id": "a02fc9c6-42dc-4e18-81c3-f623b1e12928",
      "metadata": {
        "id": "a02fc9c6-42dc-4e18-81c3-f623b1e12928"
      },
      "outputs": [],
      "source": []
    }
  ],
  "metadata": {
    "kernelspec": {
      "display_name": "Python 3 (ipykernel)",
      "language": "python",
      "name": "python3"
    },
    "language_info": {
      "codemirror_mode": {
        "name": "ipython",
        "version": 3
      },
      "file_extension": ".py",
      "mimetype": "text/x-python",
      "name": "python",
      "nbconvert_exporter": "python",
      "pygments_lexer": "ipython3",
      "version": "3.12.4"
    },
    "colab": {
      "provenance": []
    }
  },
  "nbformat": 4,
  "nbformat_minor": 5
}