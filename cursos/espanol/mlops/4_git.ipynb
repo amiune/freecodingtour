{
 "cells": [
  {
   "cell_type": "markdown",
   "id": "7ce7c733-ffa5-4bb0-8689-34290b3aadd9",
   "metadata": {
    "id": "7ce7c733-ffa5-4bb0-8689-34290b3aadd9"
   },
   "source": [
    "# Git\n",
    "\n",
    "Git es un software que nos permite guardar y crear distintas versiones de nuestro codigo y ademas nos permite trabajar con otras personas en el mismo codigo evitando que las modificaciones que haga una persona causen problemas al resto del equipo. Se ha vuelto un estandar en el desarrollo de software y todas las empresas y equipos de desarrollo lo utilizan.\n",
    "\n",
    "git ya viene instalado en linux y macos y para utilizarlos solo debemos escribir el comando git con sus diferentes funciones.\n"
   ]
  },
  {
   "cell_type": "markdown",
   "id": "95221ca9-9e60-483d-bb8d-aa1ee276d99c",
   "metadata": {},
   "source": [
    "Para no tener que recordar todos los comandos que veremos a continuacion podemos utilizar una interfaz de usuario como [github desktop](https://github.com/apps/desktop):\n",
    "\n",
    "<div style=\"text-align:center\">\n",
    "<img src=\"./img/githubdesktop.png\" alt=\"github desktop\" width=\"500\"/>\n",
    "</div>\n",
    "\n",
    "Otras interfaces conocidas son:\n",
    "- [Sourcetree](https://www.sourcetreeapp.com/)\n",
    "- [GitKraken](https://www.gitkraken.com/)\n",
    "- [Fork](https://git-fork.com/)\n",
    "- [Mas...](https://git-scm.com/downloads/guis)"
   ]
  },
  {
   "cell_type": "markdown",
   "id": "ru42v7NHwk1q",
   "metadata": {
    "id": "ru42v7NHwk1q"
   },
   "source": [
    "## [git config](https://git-scm.com/docs/git-config)\n",
    "\n",
    "Utilizaremos el comando `git config` para decir quien es el usuario que lo va a utilizar. En este caso utilizare mi nombre:"
   ]
  },
  {
   "cell_type": "code",
   "execution_count": null,
   "id": "5Vxz02u0DH_c",
   "metadata": {
    "id": "5Vxz02u0DH_c"
   },
   "outputs": [],
   "source": [
    "%%bash\n",
    "\n",
    "git config --global user.email \"hernan@amiune.com\"\n",
    "git config --global user.name \"Hernan Amiune\""
   ]
  },
  {
   "cell_type": "markdown",
   "id": "fF4VrcYfwy3B",
   "metadata": {
    "id": "fF4VrcYfwy3B"
   },
   "source": [
    "Ahora a modo de ejemplo crearemos un directorio llamado `mi_proyecto` en donde vamos a guardar distintos ficheros y que vamos a ir controlando sus diferentes cambios y versiones utilizando git"
   ]
  },
  {
   "cell_type": "code",
   "execution_count": null,
   "id": "C39TbWHwBk7Q",
   "metadata": {
    "id": "C39TbWHwBk7Q"
   },
   "outputs": [],
   "source": [
    "%%bash\n",
    "\n",
    "mkdir mi_proyecto"
   ]
  },
  {
   "cell_type": "markdown",
   "id": "iLAsxJQzxOt_",
   "metadata": {
    "id": "iLAsxJQzxOt_"
   },
   "source": [
    "Nos posicionamos dentro de este directorio"
   ]
  },
  {
   "cell_type": "code",
   "execution_count": null,
   "id": "Mu0PU9k4BrL3",
   "metadata": {
    "colab": {
     "base_uri": "https://localhost:8080/"
    },
    "id": "Mu0PU9k4BrL3",
    "outputId": "41cc2d78-a5aa-4a7f-bc1c-5d7beb6bc801"
   },
   "outputs": [
    {
     "name": "stdout",
     "output_type": "stream",
     "text": [
      "/content/mi_proyecto\n"
     ]
    }
   ],
   "source": [
    "%cd mi_proyecto"
   ]
  },
  {
   "cell_type": "markdown",
   "id": "M9lw1lmcxSf3",
   "metadata": {
    "id": "M9lw1lmcxSf3"
   },
   "source": [
    "## [git init](https://git-scm.com/docs/git-init)\n",
    "\n",
    "Inicializamos git utilizando el comando `git init`. Este comando crea un directorio especial oculto llamado `.git` donde git guardara toda la informacion necesaria para ir controlando todos los cambios y versiones de mis ficheros."
   ]
  },
  {
   "cell_type": "code",
   "execution_count": null,
   "id": "c0dUaJK64b0R",
   "metadata": {
    "colab": {
     "base_uri": "https://localhost:8080/"
    },
    "id": "c0dUaJK64b0R",
    "outputId": "cd58d342-389e-4099-e6f7-d31830e31cc2"
   },
   "outputs": [
    {
     "name": "stdout",
     "output_type": "stream",
     "text": [
      "Initialized empty Git repository in /content/mi_proyecto/.git/\n"
     ]
    },
    {
     "name": "stderr",
     "output_type": "stream",
     "text": [
      "hint: Using 'master' as the name for the initial branch. This default branch name\n",
      "hint: is subject to change. To configure the initial branch name to use in all\n",
      "hint: of your new repositories, which will suppress this warning, call:\n",
      "hint: \n",
      "hint: \tgit config --global init.defaultBranch <name>\n",
      "hint: \n",
      "hint: Names commonly chosen instead of 'master' are 'main', 'trunk' and\n",
      "hint: 'development'. The just-created branch can be renamed via this command:\n",
      "hint: \n",
      "hint: \tgit branch -m <name>\n"
     ]
    }
   ],
   "source": [
    "%%bash\n",
    "\n",
    "git init"
   ]
  },
  {
   "cell_type": "markdown",
   "id": "0tIW7x3XxlVR",
   "metadata": {
    "id": "0tIW7x3XxlVR"
   },
   "source": [
    "Veamos el contenido del directorio oculto .git:"
   ]
  },
  {
   "cell_type": "code",
   "execution_count": null,
   "id": "-wz10cJb4uko",
   "metadata": {
    "colab": {
     "base_uri": "https://localhost:8080/"
    },
    "id": "-wz10cJb4uko",
    "outputId": "35c85f72-4774-4a6e-c292-7e57eb1326e9"
   },
   "outputs": [
    {
     "name": "stdout",
     "output_type": "stream",
     "text": [
      "total 32\n",
      "drwxr-xr-x 2 root root 4096 Jul 30 14:27 branches\n",
      "-rw-r--r-- 1 root root   92 Jul 30 14:27 config\n",
      "-rw-r--r-- 1 root root   73 Jul 30 14:27 description\n",
      "-rw-r--r-- 1 root root   23 Jul 30 14:27 HEAD\n",
      "drwxr-xr-x 2 root root 4096 Jul 30 14:27 hooks\n",
      "drwxr-xr-x 2 root root 4096 Jul 30 14:27 info\n",
      "drwxr-xr-x 4 root root 4096 Jul 30 14:27 objects\n",
      "drwxr-xr-x 4 root root 4096 Jul 30 14:27 refs\n"
     ]
    }
   ],
   "source": [
    "%%bash\n",
    "\n",
    "ls -l .git"
   ]
  },
  {
   "cell_type": "markdown",
   "id": "cse7Rl0kxvYe",
   "metadata": {
    "id": "cse7Rl0kxvYe"
   },
   "source": [
    "El contenido de este directorio no nos debe importar ya que sera manejado por git."
   ]
  },
  {
   "cell_type": "markdown",
   "id": "CYa0jnUZzO0v",
   "metadata": {
    "id": "CYa0jnUZzO0v"
   },
   "source": [
    "## [git status](https://git-scm.com/docs/git-status)\n",
    "\n",
    "Veamos ahora el estado del repositorio utilizando el comando `git status`. Este comando nos informa que cambios todavia no han sido confirmados en el repositorio. Por el momento no tenemos ningun cambio a confirmar."
   ]
  },
  {
   "cell_type": "code",
   "execution_count": null,
   "id": "e6iiO3GNCnKh",
   "metadata": {
    "colab": {
     "base_uri": "https://localhost:8080/"
    },
    "id": "e6iiO3GNCnKh",
    "outputId": "695eb530-606e-4329-c8fc-89be6735d025"
   },
   "outputs": [
    {
     "name": "stdout",
     "output_type": "stream",
     "text": [
      "On branch master\n",
      "\n",
      "No commits yet\n",
      "\n",
      "nothing to commit (create/copy files and use \"git add\" to track)\n"
     ]
    }
   ],
   "source": [
    "%%bash\n",
    "\n",
    "git status"
   ]
  },
  {
   "cell_type": "markdown",
   "id": "vvjOvbDVz4_h",
   "metadata": {
    "id": "vvjOvbDVz4_h"
   },
   "source": [
    "Agreguemos ahor un fichero llamado fiesta.txt"
   ]
  },
  {
   "cell_type": "code",
   "execution_count": null,
   "id": "kMGjMVQ040uO",
   "metadata": {
    "colab": {
     "base_uri": "https://localhost:8080/"
    },
    "id": "kMGjMVQ040uO",
    "outputId": "9d421445-c71e-4d0d-fdf5-9ebcb6755b34"
   },
   "outputs": [
    {
     "name": "stdout",
     "output_type": "stream",
     "text": [
      "Writing fiesta.txt\n"
     ]
    }
   ],
   "source": [
    "%%file fiesta.txt\n",
    "\n",
    "Invitados confirmados:\n",
    "\n",
    "Alicia\n",
    "Bob\n",
    "Carolina"
   ]
  },
  {
   "cell_type": "markdown",
   "id": "J_6FKjSqz9lg",
   "metadata": {
    "id": "J_6FKjSqz9lg"
   },
   "source": [
    "Veamos nuevamente el estado con `git status`. Veremos que ahora nos muestra que existe un nuevo fichero que no esta agregado al control de versiones de git (\"Untracked files\")"
   ]
  },
  {
   "cell_type": "code",
   "execution_count": null,
   "id": "wtEkv8WyC4q8",
   "metadata": {
    "colab": {
     "base_uri": "https://localhost:8080/"
    },
    "id": "wtEkv8WyC4q8",
    "outputId": "42542cb1-7aad-46df-a83d-18aad8be76d8"
   },
   "outputs": [
    {
     "name": "stdout",
     "output_type": "stream",
     "text": [
      "On branch master\n",
      "\n",
      "No commits yet\n",
      "\n",
      "Untracked files:\n",
      "  (use \"git add <file>...\" to include in what will be committed)\n",
      "\tfiesta.txt\n",
      "\n",
      "nothing added to commit but untracked files present (use \"git add\" to track)\n"
     ]
    }
   ],
   "source": [
    "%%bash\n",
    "\n",
    "git status"
   ]
  },
  {
   "cell_type": "markdown",
   "id": "yuriNIzz0PIC",
   "metadata": {
    "id": "yuriNIzz0PIC"
   },
   "source": [
    "## [git add](https://git-scm.com/docs/git-add)\n",
    "\n",
    "Agreguemos ese fichero al control de versiones de git utilizando el comando `git add fiesta.txt`"
   ]
  },
  {
   "cell_type": "code",
   "execution_count": null,
   "id": "XcsDcM8gC4z4",
   "metadata": {
    "id": "XcsDcM8gC4z4"
   },
   "outputs": [],
   "source": [
    "%%bash\n",
    "\n",
    "git add fiesta.txt"
   ]
  },
  {
   "cell_type": "markdown",
   "id": "E1coMk1r0YBB",
   "metadata": {
    "id": "E1coMk1r0YBB"
   },
   "source": [
    "Veamos nuevamente el estado. Veremos que fue agregado al control de versiones pero no fue aun confirmado al repositorio."
   ]
  },
  {
   "cell_type": "code",
   "execution_count": null,
   "id": "JvlBUEEkC42e",
   "metadata": {
    "colab": {
     "base_uri": "https://localhost:8080/"
    },
    "id": "JvlBUEEkC42e",
    "outputId": "4e9704c8-77d5-4eb8-be38-cec1af40262b"
   },
   "outputs": [
    {
     "name": "stdout",
     "output_type": "stream",
     "text": [
      "On branch master\n",
      "\n",
      "No commits yet\n",
      "\n",
      "Changes to be committed:\n",
      "  (use \"git rm --cached <file>...\" to unstage)\n",
      "\tnew file:   fiesta.txt\n",
      "\n"
     ]
    }
   ],
   "source": [
    "%%bash\n",
    "\n",
    "git status"
   ]
  },
  {
   "cell_type": "markdown",
   "id": "3-cVg_yW0jMa",
   "metadata": {
    "id": "3-cVg_yW0jMa"
   },
   "source": [
    "## [git commit](https://git-scm.com/docs/git-commit)\n",
    "\n",
    "Utilizaremos ahora el comando `git commit -m \"Invitados confirmados\"` que le dira a git que confirme los ficheros que hemos agregado (en este caso solo agregamos un fichero) y que a esta confirmacion la guarde con la descripcion de \"Invitados confirmados\""
   ]
  },
  {
   "cell_type": "code",
   "execution_count": null,
   "id": "E4hJ3qI9C446",
   "metadata": {
    "colab": {
     "base_uri": "https://localhost:8080/"
    },
    "id": "E4hJ3qI9C446",
    "outputId": "8d30ee55-2e70-4527-9e43-738ab61bb1ee"
   },
   "outputs": [
    {
     "name": "stdout",
     "output_type": "stream",
     "text": [
      "[master (root-commit) eb73802] Invitados confirmados\n",
      " 1 file changed, 6 insertions(+)\n",
      " create mode 100644 fiesta.txt\n"
     ]
    }
   ],
   "source": [
    "%%bash\n",
    "\n",
    "git commit -m \"Invitados confirmados\""
   ]
  },
  {
   "cell_type": "markdown",
   "id": "_dCNbfPp1Ce-",
   "metadata": {
    "id": "_dCNbfPp1Ce-"
   },
   "source": [
    "Veamos nuevamente el estado. Otra vez no tenemos ningun cambio por confirmar."
   ]
  },
  {
   "cell_type": "code",
   "execution_count": null,
   "id": "Kd4yhxC2ENaP",
   "metadata": {
    "colab": {
     "base_uri": "https://localhost:8080/"
    },
    "id": "Kd4yhxC2ENaP",
    "outputId": "0a197da5-257a-481c-d460-0bb8fb4e449d"
   },
   "outputs": [
    {
     "name": "stdout",
     "output_type": "stream",
     "text": [
      "On branch master\n",
      "nothing to commit, working tree clean\n"
     ]
    }
   ],
   "source": [
    "%%bash\n",
    "\n",
    "git status"
   ]
  },
  {
   "cell_type": "markdown",
   "id": "UZ3nXX8b1cOH",
   "metadata": {
    "id": "UZ3nXX8b1cOH"
   },
   "source": [
    "## [git log](https://git-scm.com/docs/git-log)\n",
    "\n",
    "El comando `git log` nos mostrara todas las veces que hemos ejecutado el comando `git commit` confirmando cambios al repositorio"
   ]
  },
  {
   "cell_type": "code",
   "execution_count": null,
   "id": "yBWz2r6SEPGv",
   "metadata": {
    "colab": {
     "base_uri": "https://localhost:8080/"
    },
    "id": "yBWz2r6SEPGv",
    "outputId": "7f085a43-cf3b-429d-f574-428f613db0e8"
   },
   "outputs": [
    {
     "name": "stdout",
     "output_type": "stream",
     "text": [
      "commit eb73802784a05a18ac7409a2df7f428f337f117a\n",
      "Author: Hernan Amiune <hernan@amiune.com>\n",
      "Date:   Tue Jul 30 14:32:42 2024 +0000\n",
      "\n",
      "    Invitados confirmados\n"
     ]
    }
   ],
   "source": [
    "%%bash\n",
    "\n",
    "git log"
   ]
  },
  {
   "cell_type": "markdown",
   "id": "BEMg4HUPEq_x",
   "metadata": {
    "id": "BEMg4HUPEq_x"
   },
   "source": [
    "## Modifico mis ficheros\n",
    "\n",
    "Veamos que sucede cuando modifico mis ficheros"
   ]
  },
  {
   "cell_type": "code",
   "execution_count": null,
   "id": "kdOyKypxEtGD",
   "metadata": {
    "colab": {
     "base_uri": "https://localhost:8080/"
    },
    "id": "kdOyKypxEtGD",
    "outputId": "c8b6961c-df6c-42d2-ff8f-04f56b337c76"
   },
   "outputs": [
    {
     "name": "stdout",
     "output_type": "stream",
     "text": [
      "Overwriting fiesta.txt\n"
     ]
    }
   ],
   "source": [
    "%%file fiesta.txt\n",
    "\n",
    "Invitados confirmados:\n",
    "\n",
    "Alicia\n",
    "Bob\n",
    "Carolina\n",
    "David"
   ]
  },
  {
   "cell_type": "markdown",
   "id": "azjf8V581u4g",
   "metadata": {
    "id": "azjf8V581u4g"
   },
   "source": [
    "Una vez que ha sido modificado un fichero que esta confirmado en el repositorio `git status` nos mostrara que ha cambiado y que espera la confirmacion a la desestimacion de los cambios"
   ]
  },
  {
   "cell_type": "code",
   "execution_count": null,
   "id": "2jQ43xGVEtIU",
   "metadata": {
    "colab": {
     "base_uri": "https://localhost:8080/"
    },
    "id": "2jQ43xGVEtIU",
    "outputId": "035ad8ae-d2cd-4c2d-8b10-b635a0e8af7a"
   },
   "outputs": [
    {
     "name": "stdout",
     "output_type": "stream",
     "text": [
      "On branch master\n",
      "Changes not staged for commit:\n",
      "  (use \"git add <file>...\" to update what will be committed)\n",
      "  (use \"git restore <file>...\" to discard changes in working directory)\n",
      "\tmodified:   fiesta.txt\n",
      "\n",
      "no changes added to commit (use \"git add\" and/or \"git commit -a\")\n"
     ]
    }
   ],
   "source": [
    "%%bash\n",
    "\n",
    "git status"
   ]
  },
  {
   "cell_type": "markdown",
   "id": "k6XtgTMo2Ae4",
   "metadata": {
    "id": "k6XtgTMo2Ae4"
   },
   "source": [
    "## [git diff](https://git-scm.com/docs/git-diff)\n",
    "\n",
    "El comando `git diff` nos mostrara cuales son los cambios que ha habido en cada fichero."
   ]
  },
  {
   "cell_type": "code",
   "execution_count": null,
   "id": "r6EkhZw3FSps",
   "metadata": {
    "colab": {
     "base_uri": "https://localhost:8080/"
    },
    "id": "r6EkhZw3FSps",
    "outputId": "b234959e-f686-4f59-c052-d6d950705b0d"
   },
   "outputs": [
    {
     "name": "stdout",
     "output_type": "stream",
     "text": [
      "diff --git a/fiesta.txt b/fiesta.txt\n",
      "index 6e6cb4d..7c607d7 100644\n",
      "--- a/fiesta.txt\n",
      "+++ b/fiesta.txt\n",
      "@@ -4,3 +4,4 @@ Invitados confirmados:\n",
      " Alicia\n",
      " Bob\n",
      " Carolina\n",
      "+David\n"
     ]
    }
   ],
   "source": [
    "%%bash\n",
    "\n",
    "git diff"
   ]
  },
  {
   "cell_type": "markdown",
   "id": "YWQ1OQdBE-48",
   "metadata": {
    "id": "YWQ1OQdBE-48"
   },
   "source": [
    "## [git restore](https://git-scm.com/docs/git-restore)\n",
    "\n",
    "Este comando me permite volver atras y eliminar los cambios que he hecho en un fichero que todavia no ha sido confirmado\n"
   ]
  },
  {
   "cell_type": "code",
   "execution_count": null,
   "id": "z3oomiC-EtK7",
   "metadata": {
    "id": "z3oomiC-EtK7"
   },
   "outputs": [],
   "source": [
    "%%bash\n",
    "\n",
    "git restore fiesta.txt"
   ]
  },
  {
   "cell_type": "markdown",
   "id": "MJ1mog-B2cn-",
   "metadata": {
    "id": "MJ1mog-B2cn-"
   },
   "source": [
    "Veamos el contenido del fichero luego de haber ejecutado `git restore`"
   ]
  },
  {
   "cell_type": "code",
   "execution_count": null,
   "id": "biwTUcsAFJeP",
   "metadata": {
    "colab": {
     "base_uri": "https://localhost:8080/"
    },
    "id": "biwTUcsAFJeP",
    "outputId": "628b9b52-c48b-480f-a6df-42fe5c37fa6f"
   },
   "outputs": [
    {
     "name": "stdout",
     "output_type": "stream",
     "text": [
      "\n",
      "Invitados confirmados:\n",
      "\n",
      "Alicia\n",
      "Bob\n",
      "Carolina\n"
     ]
    }
   ],
   "source": [
    "!cat fiesta.txt"
   ]
  },
  {
   "cell_type": "markdown",
   "id": "tnOCAxR2FYMy",
   "metadata": {
    "id": "tnOCAxR2FYMy"
   },
   "source": [
    "### Ahora quiero añadir mis cambios\n",
    "\n",
    "Para confirmar los cambios ejecuto los comandos `git add` y `git commit` como hicimos anteriormente.\n",
    "\n"
   ]
  },
  {
   "cell_type": "code",
   "execution_count": null,
   "id": "hkywWD3aFd8i",
   "metadata": {
    "colab": {
     "base_uri": "https://localhost:8080/"
    },
    "id": "hkywWD3aFd8i",
    "outputId": "9312f8ad-31da-4059-fefa-4a089b2165e3"
   },
   "outputs": [
    {
     "name": "stdout",
     "output_type": "stream",
     "text": [
      "Overwriting fiesta.txt\n"
     ]
    }
   ],
   "source": [
    "%%file fiesta.txt\n",
    "\n",
    "Invitados confirmados:\n",
    "\n",
    "Alicia\n",
    "Barbara\n",
    "Bob\n",
    "Carolina"
   ]
  },
  {
   "cell_type": "code",
   "execution_count": null,
   "id": "U6Mm7XQeFd_J",
   "metadata": {
    "id": "U6Mm7XQeFd_J"
   },
   "outputs": [],
   "source": [
    "%%bash\n",
    "\n",
    "git add fiesta.txt"
   ]
  },
  {
   "cell_type": "code",
   "execution_count": null,
   "id": "r-mr0zFpFeCI",
   "metadata": {
    "colab": {
     "base_uri": "https://localhost:8080/"
    },
    "id": "r-mr0zFpFeCI",
    "outputId": "c25c122d-8e78-4a58-b212-ec98add05a86"
   },
   "outputs": [
    {
     "name": "stdout",
     "output_type": "stream",
     "text": [
      "[master 9d50f74] Barbara confirmada\n",
      " 1 file changed, 1 insertion(+)\n"
     ]
    }
   ],
   "source": [
    "%%bash\n",
    "\n",
    "git commit -m \"Barbara confirmada\""
   ]
  },
  {
   "cell_type": "markdown",
   "id": "1SzhD19A2zns",
   "metadata": {
    "id": "1SzhD19A2zns"
   },
   "source": [
    "Veamos el log de commits:"
   ]
  },
  {
   "cell_type": "code",
   "execution_count": null,
   "id": "uyVZoqq0F8Ln",
   "metadata": {
    "colab": {
     "base_uri": "https://localhost:8080/"
    },
    "id": "uyVZoqq0F8Ln",
    "outputId": "5591f8a5-6cba-4a61-aa2c-3d89e71583a6"
   },
   "outputs": [
    {
     "name": "stdout",
     "output_type": "stream",
     "text": [
      "commit 9d50f7423817385b9d2cf36103bf701633e0c005\n",
      "Author: Hernan Amiune <hernan@amiune.com>\n",
      "Date:   Tue Jul 30 14:42:17 2024 +0000\n",
      "\n",
      "    Barbara confirmada\n",
      "\n",
      "commit eb73802784a05a18ac7409a2df7f428f337f117a\n",
      "Author: Hernan Amiune <hernan@amiune.com>\n",
      "Date:   Tue Jul 30 14:32:42 2024 +0000\n",
      "\n",
      "    Invitados confirmados\n"
     ]
    }
   ],
   "source": [
    "%%bash\n",
    "\n",
    "git log"
   ]
  },
  {
   "cell_type": "markdown",
   "id": "lZghdxksES5j",
   "metadata": {
    "id": "lZghdxksES5j"
   },
   "source": [
    "## Branches (Ramas)\n",
    "\n",
    "Las ramas son \"como copias\" de mi repositorio que me permiten trabajar paralelamente sin afectar al repositorio principal. Es una buena practica crear una rama nueva cada vez que queremos:\n",
    "- agregar una nueva funcionalidad a un proyecto\n",
    "- corregir un bug de un proyecto"
   ]
  },
  {
   "cell_type": "markdown",
   "id": "AYPXHo8k4RYI",
   "metadata": {
    "id": "AYPXHo8k4RYI"
   },
   "source": [
    "## [git branch](https://git-scm.com/docs/git-branch)\n",
    "\n",
    "Para ver todas las ramas de mi repositorio utilizamos el comando `git branch`"
   ]
  },
  {
   "cell_type": "code",
   "execution_count": null,
   "id": "K4EYX5dOEVf7",
   "metadata": {
    "colab": {
     "base_uri": "https://localhost:8080/"
    },
    "id": "K4EYX5dOEVf7",
    "outputId": "e97f8f11-860c-454d-d749-2da186a3ffb5"
   },
   "outputs": [
    {
     "name": "stdout",
     "output_type": "stream",
     "text": [
      "* master\n"
     ]
    }
   ],
   "source": [
    "%%bash\n",
    "\n",
    "git branch"
   ]
  },
  {
   "cell_type": "markdown",
   "id": "jMoGo4vf4WvG",
   "metadata": {
    "id": "jMoGo4vf4WvG"
   },
   "source": [
    "Para crear una nueva rama utilizamos el comando `git branch nombre-rama`"
   ]
  },
  {
   "cell_type": "code",
   "execution_count": null,
   "id": "4V8UKBTkEViJ",
   "metadata": {
    "id": "4V8UKBTkEViJ"
   },
   "outputs": [],
   "source": [
    "%%bash\n",
    "\n",
    "git branch en-duda"
   ]
  },
  {
   "cell_type": "code",
   "execution_count": null,
   "id": "6107r1rgEVkc",
   "metadata": {
    "colab": {
     "base_uri": "https://localhost:8080/"
    },
    "id": "6107r1rgEVkc",
    "outputId": "7369909d-f54b-4175-fe76-ebf1faf96387"
   },
   "outputs": [
    {
     "name": "stdout",
     "output_type": "stream",
     "text": [
      "  en-duda\n",
      "* master\n"
     ]
    }
   ],
   "source": [
    "%%bash\n",
    "\n",
    "git branch"
   ]
  },
  {
   "cell_type": "markdown",
   "id": "4SgmnhED4fZ5",
   "metadata": {
    "id": "4SgmnhED4fZ5"
   },
   "source": [
    "## [git checkout](https://git-scm.com/docs/git-checkout)\n",
    "\n",
    "Para cambiar de rama utilizamos el comando `git checkout nombre-rama`"
   ]
  },
  {
   "cell_type": "code",
   "execution_count": null,
   "id": "q3ZQdQg8Gj12",
   "metadata": {
    "colab": {
     "base_uri": "https://localhost:8080/"
    },
    "id": "q3ZQdQg8Gj12",
    "outputId": "3969207b-123c-4af0-bc0e-84cc62607890"
   },
   "outputs": [
    {
     "name": "stderr",
     "output_type": "stream",
     "text": [
      "Switched to branch 'en-duda'\n"
     ]
    }
   ],
   "source": [
    "%%bash\n",
    "\n",
    "git checkout en-duda"
   ]
  },
  {
   "cell_type": "markdown",
   "id": "3d51428d-413e-4271-9084-ccfe51330989",
   "metadata": {},
   "source": [
    "Confirmamos que cambiamos de rama utilizando `git branch`"
   ]
  },
  {
   "cell_type": "code",
   "execution_count": null,
   "id": "H6cSBQvOGw6F",
   "metadata": {
    "colab": {
     "base_uri": "https://localhost:8080/"
    },
    "id": "H6cSBQvOGw6F",
    "outputId": "2445c589-3e06-4d16-f312-653e763e6d01"
   },
   "outputs": [
    {
     "name": "stdout",
     "output_type": "stream",
     "text": [
      "* en-duda\n",
      "  master\n"
     ]
    }
   ],
   "source": [
    "%%bash\n",
    "\n",
    "git branch"
   ]
  },
  {
   "cell_type": "markdown",
   "id": "62de72a3-73e5-4e7b-880f-df10d669f0b3",
   "metadata": {},
   "source": [
    "Modificamos el fichero fichero fiesta.txt **pero solo en la rama en-duda** "
   ]
  },
  {
   "cell_type": "code",
   "execution_count": null,
   "id": "sStxmnaNGyWk",
   "metadata": {
    "colab": {
     "base_uri": "https://localhost:8080/"
    },
    "id": "sStxmnaNGyWk",
    "outputId": "a4d84c52-be75-4658-a74c-fa40e33f6a7f"
   },
   "outputs": [
    {
     "name": "stdout",
     "output_type": "stream",
     "text": [
      "Overwriting fiesta.txt\n"
     ]
    }
   ],
   "source": [
    "%%file fiesta.txt\n",
    "\n",
    "Invitados confirmados:\n",
    "\n",
    "Alicia\n",
    "Barbara\n",
    "Bob\n",
    "Carolina\n",
    "\n",
    "Invitados en duda:\n",
    "Daniel\n",
    "Elsa\n",
    "Fernanda"
   ]
  },
  {
   "cell_type": "markdown",
   "id": "02b17a7d-9c11-4fed-8c85-fe1574186d56",
   "metadata": {},
   "source": [
    "Utilizamos git status para ver los cambios"
   ]
  },
  {
   "cell_type": "code",
   "execution_count": null,
   "id": "ISd_-E1jHDOa",
   "metadata": {
    "colab": {
     "base_uri": "https://localhost:8080/"
    },
    "id": "ISd_-E1jHDOa",
    "outputId": "51fe69fa-61a2-4abe-944a-dfb37d14b432"
   },
   "outputs": [
    {
     "name": "stdout",
     "output_type": "stream",
     "text": [
      "On branch en-duda\n",
      "Changes not staged for commit:\n",
      "  (use \"git add <file>...\" to update what will be committed)\n",
      "  (use \"git restore <file>...\" to discard changes in working directory)\n",
      "\tmodified:   fiesta.txt\n",
      "\n",
      "no changes added to commit (use \"git add\" and/or \"git commit -a\")\n"
     ]
    }
   ],
   "source": [
    "%%bash\n",
    "\n",
    "git status"
   ]
  },
  {
   "cell_type": "markdown",
   "id": "51ddd0e5-2263-4a16-9720-6b659ec7f930",
   "metadata": {},
   "source": [
    "Confirmamos los cambios"
   ]
  },
  {
   "cell_type": "code",
   "execution_count": null,
   "id": "JMlGvwdaHKk-",
   "metadata": {
    "colab": {
     "base_uri": "https://localhost:8080/"
    },
    "id": "JMlGvwdaHKk-",
    "outputId": "140a55b2-ac21-4fc3-d2e0-d0a6c36a8fe5"
   },
   "outputs": [
    {
     "name": "stdout",
     "output_type": "stream",
     "text": [
      "[en-duda 8c59ca1] Invitados en duda\n",
      " 1 file changed, 5 insertions(+)\n"
     ]
    }
   ],
   "source": [
    "%%bash\n",
    "\n",
    "git add fiesta.txt\n",
    "git commit -m \"Invitados en duda\""
   ]
  },
  {
   "cell_type": "markdown",
   "id": "7c91b48b-ab68-4b25-a38c-c9256770e567",
   "metadata": {},
   "source": [
    "Vemos el log de nuestra rama **en-duda**"
   ]
  },
  {
   "cell_type": "code",
   "execution_count": null,
   "id": "pJwlh-euHPVF",
   "metadata": {
    "colab": {
     "base_uri": "https://localhost:8080/"
    },
    "id": "pJwlh-euHPVF",
    "outputId": "c3d04a6f-55a8-40e9-c52b-072e50af8277"
   },
   "outputs": [
    {
     "name": "stdout",
     "output_type": "stream",
     "text": [
      "commit 8c59ca143b7f72540a52d29ed36ca5cf3bf3e3fd\n",
      "Author: Hernan Amiune <hernan@amiune.com>\n",
      "Date:   Tue Jul 30 14:48:10 2024 +0000\n",
      "\n",
      "    Invitados en duda\n",
      "\n",
      "commit 9d50f7423817385b9d2cf36103bf701633e0c005\n",
      "Author: Hernan Amiune <hernan@amiune.com>\n",
      "Date:   Tue Jul 30 14:42:17 2024 +0000\n",
      "\n",
      "    Barbara confirmada\n",
      "\n",
      "commit eb73802784a05a18ac7409a2df7f428f337f117a\n",
      "Author: Hernan Amiune <hernan@amiune.com>\n",
      "Date:   Tue Jul 30 14:32:42 2024 +0000\n",
      "\n",
      "    Invitados confirmados\n"
     ]
    }
   ],
   "source": [
    "%%bash\n",
    "\n",
    "git log"
   ]
  },
  {
   "cell_type": "markdown",
   "id": "10500932-dca7-49d5-8d8d-c61d2e217b3a",
   "metadata": {},
   "source": [
    "Vemos el contenido de nuestro fichero fiesta.txt"
   ]
  },
  {
   "cell_type": "code",
   "execution_count": null,
   "id": "FZ-KPTJXHTik",
   "metadata": {
    "colab": {
     "base_uri": "https://localhost:8080/"
    },
    "id": "FZ-KPTJXHTik",
    "outputId": "ad318c18-9331-4a32-ab42-d06228fbab69"
   },
   "outputs": [
    {
     "name": "stdout",
     "output_type": "stream",
     "text": [
      "\n",
      "Invitados confirmados:\n",
      "\n",
      "Alicia\n",
      "Barbara\n",
      "Bob\n",
      "Carolina\n",
      "\n",
      "Invitados en duda:\n",
      "Daniel\n",
      "Elsa\n",
      "Fernanda\n"
     ]
    }
   ],
   "source": [
    "%%bash\n",
    "\n",
    "cat fiesta.txt"
   ]
  },
  {
   "cell_type": "markdown",
   "id": "422acae8-42d0-46a0-a2cc-2211a90b3cfe",
   "metadata": {},
   "source": [
    "Volvemos a la rama principal **master**"
   ]
  },
  {
   "cell_type": "code",
   "execution_count": null,
   "id": "Si-bPKmVHWNx",
   "metadata": {
    "colab": {
     "base_uri": "https://localhost:8080/"
    },
    "id": "Si-bPKmVHWNx",
    "outputId": "8746d000-d4bd-4980-c843-e239c74921c4"
   },
   "outputs": [
    {
     "name": "stderr",
     "output_type": "stream",
     "text": [
      "Switched to branch 'master'\n"
     ]
    }
   ],
   "source": [
    "%%bash\n",
    "\n",
    "git checkout master"
   ]
  },
  {
   "cell_type": "markdown",
   "id": "1d8bed67-cf0f-446b-9c51-2c26fc9401f5",
   "metadata": {},
   "source": [
    "Vemos que en el log no esta el ultimo commit que hicimos en la rama **en-duda**"
   ]
  },
  {
   "cell_type": "code",
   "execution_count": null,
   "id": "L8lfXAcLHWae",
   "metadata": {
    "colab": {
     "base_uri": "https://localhost:8080/"
    },
    "id": "L8lfXAcLHWae",
    "outputId": "82ada485-cd5a-4756-f114-30379e7cc636"
   },
   "outputs": [
    {
     "name": "stdout",
     "output_type": "stream",
     "text": [
      "commit 9d50f7423817385b9d2cf36103bf701633e0c005\n",
      "Author: Hernan Amiune <hernan@amiune.com>\n",
      "Date:   Tue Jul 30 14:42:17 2024 +0000\n",
      "\n",
      "    Barbara confirmada\n",
      "\n",
      "commit eb73802784a05a18ac7409a2df7f428f337f117a\n",
      "Author: Hernan Amiune <hernan@amiune.com>\n",
      "Date:   Tue Jul 30 14:32:42 2024 +0000\n",
      "\n",
      "    Invitados confirmados\n"
     ]
    }
   ],
   "source": [
    "%%bash\n",
    "\n",
    "git log"
   ]
  },
  {
   "cell_type": "markdown",
   "id": "9d2d16fc-3c0b-4373-8b53-1dfe15e14995",
   "metadata": {},
   "source": [
    "Tampoco estan los cambios que realizamos en el fichero fiesta.txt \n",
    "\n",
    "Esto que es lo que queriamos, poder trabajar en una copia de nuestro proyecto sin modificar el principal"
   ]
  },
  {
   "cell_type": "code",
   "execution_count": null,
   "id": "YuvhjtCDHayH",
   "metadata": {
    "colab": {
     "base_uri": "https://localhost:8080/"
    },
    "id": "YuvhjtCDHayH",
    "outputId": "cf9b3233-feba-4514-997b-8cdd62c7cd36"
   },
   "outputs": [
    {
     "name": "stdout",
     "output_type": "stream",
     "text": [
      "\n",
      "Invitados confirmados:\n",
      "\n",
      "Alicia\n",
      "Barbara\n",
      "Bob\n",
      "Carolina\n"
     ]
    }
   ],
   "source": [
    "%%bash\n",
    "\n",
    "cat fiesta.txt"
   ]
  },
  {
   "cell_type": "markdown",
   "id": "144c28f7-01fd-4523-b050-9b451f9057d6",
   "metadata": {},
   "source": [
    "## [git merge](https://git-scm.com/docs/git-merge)\n",
    "\n",
    "Ahora que sabemos que todo esta correcto podemos unir las dos ramas en una utilizando el comando `git merge`"
   ]
  },
  {
   "cell_type": "code",
   "execution_count": null,
   "id": "GiISWS7EHeDd",
   "metadata": {
    "colab": {
     "base_uri": "https://localhost:8080/"
    },
    "id": "GiISWS7EHeDd",
    "outputId": "d0da5523-2fd7-4c17-8e25-1e7419c6d1fc"
   },
   "outputs": [
    {
     "name": "stdout",
     "output_type": "stream",
     "text": [
      "Updating 9d50f74..8c59ca1\n",
      "Fast-forward\n",
      " fiesta.txt | 5 +++++\n",
      " 1 file changed, 5 insertions(+)\n"
     ]
    }
   ],
   "source": [
    "%%bash\n",
    "\n",
    "git merge en-duda"
   ]
  },
  {
   "cell_type": "markdown",
   "id": "5aeee14a-0328-4d8e-84fe-d817b6b856e0",
   "metadata": {},
   "source": [
    "Vemos ahora que nuestra rama **master** tiene ahora los commits heredados de la otra rama"
   ]
  },
  {
   "cell_type": "code",
   "execution_count": null,
   "id": "LZgKvP8wHxRb",
   "metadata": {
    "colab": {
     "base_uri": "https://localhost:8080/"
    },
    "id": "LZgKvP8wHxRb",
    "outputId": "655e0724-331b-4888-c67a-63104989aba5"
   },
   "outputs": [
    {
     "name": "stdout",
     "output_type": "stream",
     "text": [
      "commit 8c59ca143b7f72540a52d29ed36ca5cf3bf3e3fd\n",
      "Author: Hernan Amiune <hernan@amiune.com>\n",
      "Date:   Tue Jul 30 14:48:10 2024 +0000\n",
      "\n",
      "    Invitados en duda\n",
      "\n",
      "commit 9d50f7423817385b9d2cf36103bf701633e0c005\n",
      "Author: Hernan Amiune <hernan@amiune.com>\n",
      "Date:   Tue Jul 30 14:42:17 2024 +0000\n",
      "\n",
      "    Barbara confirmada\n",
      "\n",
      "commit eb73802784a05a18ac7409a2df7f428f337f117a\n",
      "Author: Hernan Amiune <hernan@amiune.com>\n",
      "Date:   Tue Jul 30 14:32:42 2024 +0000\n",
      "\n",
      "    Invitados confirmados\n"
     ]
    }
   ],
   "source": [
    "%%bash\n",
    "\n",
    "git log"
   ]
  },
  {
   "cell_type": "markdown",
   "id": "74991a8f-532b-48de-88d1-34adfd730b36",
   "metadata": {},
   "source": [
    "Tambien observamos que nuestro fichero ha cambiado"
   ]
  },
  {
   "cell_type": "code",
   "execution_count": null,
   "id": "GD7jf0wXH1Zz",
   "metadata": {
    "colab": {
     "base_uri": "https://localhost:8080/"
    },
    "id": "GD7jf0wXH1Zz",
    "outputId": "63fb6e88-b590-4b2e-e31a-12a03db7778d"
   },
   "outputs": [
    {
     "name": "stdout",
     "output_type": "stream",
     "text": [
      "\n",
      "Invitados confirmados:\n",
      "\n",
      "Alicia\n",
      "Barbara\n",
      "Bob\n",
      "Carolina\n",
      "\n",
      "Invitados en duda:\n",
      "Daniel\n",
      "Elsa\n",
      "Fernanda\n"
     ]
    }
   ],
   "source": [
    "%%bash\n",
    "\n",
    "cat fiesta.txt"
   ]
  },
  {
   "cell_type": "markdown",
   "id": "CHyiMdodyDfk",
   "metadata": {
    "id": "CHyiMdodyDfk"
   },
   "source": [
    "# Resumen de Comandos\n",
    "\n",
    "| Comando | Descripcion |\n",
    "| ----- | ----- |\n",
    "| `git init` | Inicializa el repositorio |\n",
    "| `git add` | Agrega los ficheros al area de staging |\n",
    "| `git commit` | Agrega los ficheros del area de staging al repositorio |\n",
    "| `git log` | Muestra el log de commits |\n",
    "| `git merge` | Trae los ficheros de la rama especificada a la actual |\n",
    "\n",
    "Para una descripcion completa ir a la [documentacion oficial de git](https://git-scm.com/docs)"
   ]
  },
  {
   "cell_type": "markdown",
   "id": "BshpsUaZzcck",
   "metadata": {
    "id": "BshpsUaZzcck"
   },
   "source": [
    "# Repositorios Remotos\n",
    "\n",
    "Cuando el repositorio no esta en mi ordenador sino que se encuentra alojado en un ordenador remoto entonces necesitaremos algunos comandos nuevos que veremos en la siguiente unidad."
   ]
  },
  {
   "cell_type": "markdown",
   "id": "6bfb7016-6cd7-4835-860c-9eefd90e2255",
   "metadata": {
    "id": "a02fc9c6-42dc-4e18-81c3-f623b1e12928"
   },
   "source": [
    "# Fin: [Volver al contenido del curso](https://www.freecodingtour.com/cursos/espanol/mlops/mlops.html)"
   ]
  },
  {
   "cell_type": "markdown",
   "id": "c3c6cb97",
   "metadata": {
    "id": "c3c6cb97"
   },
   "source": [
    "## Referencias:\n",
    "\n",
    "- [Documentacion oficial de git](https://git-scm.com/docs)\n",
    "- [Tutorial](https://colab.research.google.com/drive/11EPXUjESxiT1RV6p1pkeKYS8PJFkRNpk)"
   ]
  }
 ],
 "metadata": {
  "colab": {
   "provenance": []
  },
  "kernelspec": {
   "display_name": "Python 3 (ipykernel)",
   "language": "python",
   "name": "python3"
  },
  "language_info": {
   "codemirror_mode": {
    "name": "ipython",
    "version": 3
   },
   "file_extension": ".py",
   "mimetype": "text/x-python",
   "name": "python",
   "nbconvert_exporter": "python",
   "pygments_lexer": "ipython3",
   "version": "3.12.4"
  }
 },
 "nbformat": 4,
 "nbformat_minor": 5
}
