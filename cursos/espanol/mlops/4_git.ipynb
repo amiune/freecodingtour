{
 "cells": [
  {
   "cell_type": "markdown",
   "id": "7ce7c733-ffa5-4bb0-8689-34290b3aadd9",
   "metadata": {},
   "source": [
    "# Git\n",
    "\n",
    "Git es un software que nos permite guardar y crear distintas versiones de nuestro codigo y ademas nos permite trabajar con otras personas en el mismo codigo evitando que las modificaciones que haga una persona causen problemas al resto del equipo. Se ha vuelto un estandar en el desarrollo de software y todas las empresas y equipos de desarrollo lo utilizan."
   ]
  },
  {
   "cell_type": "markdown",
   "id": "c3c6cb97",
   "metadata": {},
   "source": [
    "## Git\n",
    "\n",
    "- [Tutorial](https://colab.research.google.com/drive/11EPXUjESxiT1RV6p1pkeKYS8PJFkRNpk)"
   ]
  },
  {
   "cell_type": "code",
   "execution_count": null,
   "id": "a02fc9c6-42dc-4e18-81c3-f623b1e12928",
   "metadata": {},
   "outputs": [],
   "source": []
  }
 ],
 "metadata": {
  "kernelspec": {
   "display_name": "Python 3 (ipykernel)",
   "language": "python",
   "name": "python3"
  },
  "language_info": {
   "codemirror_mode": {
    "name": "ipython",
    "version": 3
   },
   "file_extension": ".py",
   "mimetype": "text/x-python",
   "name": "python",
   "nbconvert_exporter": "python",
   "pygments_lexer": "ipython3",
   "version": "3.12.4"
  }
 },
 "nbformat": 4,
 "nbformat_minor": 5
}
