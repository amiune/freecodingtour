{
 "cells": [
  {
   "cell_type": "markdown",
   "id": "7ce7c733-ffa5-4bb0-8689-34290b3aadd9",
   "metadata": {
    "id": "7ce7c733-ffa5-4bb0-8689-34290b3aadd9"
   },
   "source": [
    "# Git Remoto\n",
    "\n",
    "Cuando el repositorio no esta en mi ordenador sino que se encuentra alojado en un ordenador remoto entonces necesitaremos algunos comandos nuevos que veremos a continuacion.\n",
    "\n",
    "[GitHub](https://github.com/) es el lugar mas conocido para almacenar repositorios de git remotamente y en esta guia utilizaremos un repositorio alojado en github."
   ]
  },
  {
   "cell_type": "markdown",
   "id": "0624f97c-1699-49b5-9f1d-e4831e268133",
   "metadata": {},
   "source": [
    "Para no tener que recordar todos los comandos que veremos a continuacion podemos utilizar una interfaz de usuario como [github desktop](https://github.com/apps/desktop):\n",
    "\n",
    "<div style=\"text-align:center\">\n",
    "<img src=\"./img/githubdesktop.png\" alt=\"github desktop\" width=\"500\"/>\n",
    "</div>\n",
    "\n",
    "Otras interfaces conocidas son:\n",
    "- [Sourcetree](https://www.sourcetreeapp.com/)\n",
    "- [GitKraken](https://www.gitkraken.com/)\n",
    "- [Fork](https://git-fork.com/)\n",
    "- [Mas...](https://git-scm.com/downloads/guis)"
   ]
  },
  {
   "cell_type": "markdown",
   "id": "ru42v7NHwk1q",
   "metadata": {
    "id": "ru42v7NHwk1q"
   },
   "source": [
    "## [git config](https://git-scm.com/docs/git-config)\n",
    "\n",
    "Utilizaremos el comando `git config` como en la unidad anterior ya que en google colab usamos maquinas virtuales temporales y tenemos que configurarlas cada vez que iniciamos una nueva."
   ]
  },
  {
   "cell_type": "code",
   "execution_count": null,
   "id": "5Vxz02u0DH_c",
   "metadata": {
    "id": "5Vxz02u0DH_c"
   },
   "outputs": [],
   "source": [
    "%%bash\n",
    "\n",
    "git config --global user.email \"hernan@amiune.com\"\n",
    "git config --global user.name \"Hernan Amiune\""
   ]
  },
  {
   "cell_type": "markdown",
   "id": "79d51545-983a-42bb-a271-41150a6591fc",
   "metadata": {},
   "source": [
    "Ademas para que los siguientes comandos funcionen deberemos configuar algun metodo para autenticar que nosotros estamos habilitados para modificar ese repositorio remoto, esto puede ser mediante la utilizacion de un [TOKEN](https://docs.github.com/en/authentication/keeping-your-account-and-data-secure/managing-your-personal-access-tokens) o mediante el uso de [SSH](https://docs.github.com/en/authentication/connecting-to-github-with-ssh)\n",
    "\n",
    "En github puedes crear tus tokens [aqui](https://github.com/settings/tokens) y tus claves SSH [aqui](https://github.com/settings/keys)"
   ]
  },
  {
   "cell_type": "markdown",
   "id": "M9lw1lmcxSf3",
   "metadata": {
    "id": "M9lw1lmcxSf3"
   },
   "source": [
    "## [git clone](https://git-scm.com/docs/git-clone)\n",
    "\n",
    "Clonamos un proyecto `git init`. Este comando crea en nuestro ordenador un directorio con el nombre de nuestro repositorio remoto y con todos sus ficheros. \n",
    "\n",
    "*Como este repositorio remoto es publico no hace falta autenticacion para el comando `git clone`.*"
   ]
  },
  {
   "cell_type": "code",
   "execution_count": null,
   "id": "c0dUaJK64b0R",
   "metadata": {
    "colab": {
     "base_uri": "https://localhost:8080/"
    },
    "id": "c0dUaJK64b0R",
    "outputId": "cd58d342-389e-4099-e6f7-d31830e31cc2"
   },
   "outputs": [],
   "source": [
    "%%bash\n",
    "\n",
    "git clone https://github.com/amiune/repo-ejemplo"
   ]
  },
  {
   "cell_type": "markdown",
   "id": "0tIW7x3XxlVR",
   "metadata": {
    "id": "0tIW7x3XxlVR"
   },
   "source": [
    "Veamos el contenido del directorio creado:"
   ]
  },
  {
   "cell_type": "code",
   "execution_count": null,
   "id": "672b2540-7d69-439a-9fd8-ad9319582041",
   "metadata": {},
   "outputs": [],
   "source": [
    "%%bash\n",
    "\n",
    "cd repo-ejemplo\n",
    "ls"
   ]
  },
  {
   "cell_type": "markdown",
   "id": "978c3e76-a029-4961-9ee4-278156ba84e3",
   "metadata": {},
   "source": [
    "## [git fetch](https://git-scm.com/docs/git-fetch)\n",
    "\n",
    "Si los ficheros del repositorio remoto han cambiado entonces podemos actualizar nuestro repositorio local utilizando el comando `git fetch`\n",
    "\n",
    "*Como este repositorio remoto es publico no hace falta autenticacion para el comando `git fetch`.*"
   ]
  },
  {
   "cell_type": "code",
   "execution_count": null,
   "id": "a24342d8-6412-4a50-8927-caf306bce5ff",
   "metadata": {},
   "outputs": [],
   "source": [
    "%%bash\n",
    "\n",
    "git fetch"
   ]
  },
  {
   "cell_type": "markdown",
   "id": "1f742845-cbe8-4447-b11e-30ecef5fc1a2",
   "metadata": {},
   "source": [
    "## [git pull](https://git-scm.com/docs/git-pull)\n",
    "\n",
    "El comando `git pull` hace lo mismo que fetch pero ademas confirma los cambios uniendolos a nuestra rama haciendo tambien `git merge`.\n",
    "\n",
    "Es decir, `git pull` ejecuta dos comandos consecutivos:\n",
    "1. `git fetch`\n",
    "2. `git merge`\n",
    "\n",
    "*Como este repositorio remotot es publico no hace falta autenticacion para el comando `git pull`.*"
   ]
  },
  {
   "cell_type": "markdown",
   "id": "938e4d1a-9099-44f9-846b-a78cf09d8457",
   "metadata": {},
   "source": [
    "## [git push](https://git-scm.com/docs/git-push)\n",
    "\n",
    "Finalmente cuando hemos hecho modificaciones a nuestro repositorio local y las queremos enviar al repositorio remoto utilizaremos el comando `git push`\n",
    "\n",
    "*Para modificar el repositorio remoto si hace falta autenticacion.*"
   ]
  },
  {
   "cell_type": "code",
   "execution_count": null,
   "id": "d946c470-ff55-424c-ae82-7d2742956dfa",
   "metadata": {},
   "outputs": [],
   "source": [
    "USUARIO = \"amiune\"\n",
    "TOKEN = \"token\" #obtengo el token desde los secretos de google colab\n",
    "\n",
    "!git push https://{USUARIO}:{TOKEN}github.com/amiune/repo-ejemplo"
   ]
  },
  {
   "cell_type": "markdown",
   "id": "93ded21a-d009-431d-94ef-856a97ffd4c7",
   "metadata": {},
   "source": [
    "# [Pull Request](https://docs.github.com/en/pull-requests/collaborating-with-pull-requests/proposing-changes-to-your-work-with-pull-requests/creating-a-pull-request?tool=webui)\n",
    "\n",
    "Si quieres colaborar sobre un repositorio publico en con cual no tienes permiso de escritura puedes solicitar un **Pull Request**. Esto es pedirle a los administradores del repositorio que revisen tus cambios realizados en tu repositorio local y si consideran que estan bien los incorporen a su repositorio. De esta manera puedes colaborar en proyectos open source."
   ]
  },
  {
   "cell_type": "markdown",
   "id": "6bfb7016-6cd7-4835-860c-9eefd90e2255",
   "metadata": {
    "id": "a02fc9c6-42dc-4e18-81c3-f623b1e12928"
   },
   "source": [
    "# Fin: [Volver al contenido del curso](https://www.freecodingtour.com/cursos/espanol/mlops/mlops.html)"
   ]
  },
  {
   "cell_type": "markdown",
   "id": "c3c6cb97",
   "metadata": {
    "id": "c3c6cb97"
   },
   "source": [
    "## Referencias:\n",
    "\n",
    "- [Documentacion oficial de git](https://git-scm.com/docs)\n",
    "- [Tutorial](https://colab.research.google.com/drive/11EPXUjESxiT1RV6p1pkeKYS8PJFkRNpk)"
   ]
  }
 ],
 "metadata": {
  "colab": {
   "provenance": []
  },
  "kernelspec": {
   "display_name": "Python 3 (ipykernel)",
   "language": "python",
   "name": "python3"
  },
  "language_info": {
   "codemirror_mode": {
    "name": "ipython",
    "version": 3
   },
   "file_extension": ".py",
   "mimetype": "text/x-python",
   "name": "python",
   "nbconvert_exporter": "python",
   "pygments_lexer": "ipython3",
   "version": "3.12.4"
  }
 },
 "nbformat": 4,
 "nbformat_minor": 5
}
