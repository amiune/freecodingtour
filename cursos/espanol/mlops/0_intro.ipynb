{
 "cells": [
  {
   "cell_type": "markdown",
   "id": "7ce7c733-ffa5-4bb0-8689-34290b3aadd9",
   "metadata": {},
   "source": [
    "# Machine Learning Operations (MLOps) con Python\n",
    "\n",
    "MLOps se refiere a lo que hay que saber para desarrollar apps de machine learning en python que funcionen en ambientes de produccion.\n",
    "\n",
    "En el [curso de programacion para Machine Learning](https://www.freecodingtour.com/cursos/espanol/programacion/programacion.html) nos enfocamos en dos cuestiones fundamentales que son las [funciones](https://colab.research.google.com/github/amiune/freecodingtour/blob/main/cursos/espanol/programacion/6.1_funciones.ipynb) y los [tests](https://colab.research.google.com/github/amiune/freecodingtour/blob/main/cursos/espanol/programacion/6.2_funciones_ejercicios.ipynb). Estos dos conceptos nos dan la base para poder llevar nuestro codigo a produccion.\n",
    "\n",
    "Ahora ampliaremos estos conceptos y ademas introduciremos algunos nuevos como los manejadores de librerias en python, el manejo de versiones de codigo con git, el uso de docker para asegurarnos de que nuestro codigo funcione en cualquier otro ordenador y finalmente una breve introduccion a los pipelines de ML y algunos frameworks. "
   ]
  },
  {
   "cell_type": "markdown",
   "id": "8ea061a8-75c1-4863-9b04-d9caa7d82908",
   "metadata": {},
   "source": [
    "## Comandos de Linux:\n",
    "\n",
    "Para realizar los ejercicios necesitamos ejecutar comandos de linux para ello podemos utilizar la consola de shell o terminal que se ve de la siguiente manera en nuestro ordenador:\n",
    "\n",
    "<div style=\"text-align:center\">\n",
    "<img src=\"./img/shell.png\" alt=\"consola shell\" width=\"500\"/>\n",
    "</div>\n",
    "\n",
    "Como en este curso trabajamos todo online en las maquinas virtuales que provee google a traves de [google colab](https://research.google.com/colaboratory/intl/es/faq.html) utilizaremos la instruccion `%%bash` al inicio de la celda para decir que el codigo siguiente no debe ser interpretado como codigo de python sino que debe ser interpretado como comandos de linux. De esta manera podemos utilizar las celdas de codigo como si fueran nuestra consola o terminal del ordenador."
   ]
  },
  {
   "cell_type": "code",
   "execution_count": null,
   "id": "887ab8ed-fce9-4aa5-8638-a3568e9698dd",
   "metadata": {},
   "outputs": [],
   "source": [
    "%%bash\n",
    "\n",
    "ls"
   ]
  },
  {
   "cell_type": "markdown",
   "id": "ff328bb6-d7bf-4c22-94ff-f0616edb1c20",
   "metadata": {},
   "source": [
    "Para crear ficheros en google colab utilizaremos la instruccion `%%file nombre_fichero.txt`."
   ]
  },
  {
   "cell_type": "code",
   "execution_count": null,
   "id": "762b52e7-3e8a-4e23-9c46-4833c2d7a257",
   "metadata": {},
   "outputs": [],
   "source": [
    "%%file mifichero.txt\n",
    "\n",
    "Hola este es el contenido de un fichero de texto"
   ]
  },
  {
   "cell_type": "markdown",
   "id": "408a0603-86ce-43ba-9ff9-deea4df4b9c9",
   "metadata": {},
   "source": [
    "Recordemos que un fichero de texto puede contener codigo de python"
   ]
  },
  {
   "cell_type": "code",
   "execution_count": null,
   "id": "e45eb9d0-87f1-4d72-b012-7a0cdfe18d45",
   "metadata": {},
   "outputs": [],
   "source": [
    "%%file miscriptdepython.txt\n",
    "\n",
    "for i in range(5):\n",
    "    print(\"Hola Mundo!!\")"
   ]
  },
  {
   "cell_type": "markdown",
   "id": "9e08a159-33b6-44e1-8cdd-1d2229ab587c",
   "metadata": {},
   "source": [
    "### Comandos utiles de linux\n",
    "\n",
    "Antes de empezar a usar las herramientas antes mencionadas veamos algunos comandos utiles de linux:\n",
    "\n",
    "#### Para directorios\n",
    "\n",
    "- `pwd` : nos dice en que directorio (path) estamos\n",
    "- `mkdir` _dirname_ : crea un nuevo directorio\n",
    "- `cd`  _dirname_ : cambia de directorio\n",
    "\n",
    "#### Para ficheros\n",
    "\n",
    "- `ls` : lista los ficheros\n",
    "- `rm` _filename_ : elimina un fichero\n",
    "- `mv` _filename1_ _filename2_ : cambia el path de un fichero\n",
    "- `diff` _filename1_ _filename2_ : compara las diferencias de dos ficheros\n",
    "- `cat` _filename(s)_ : muestra el contenido de uno o mas ficheros\n",
    "- `which` : muestra el path de un comando\n",
    "- `find [args]` : busca ficheros\n",
    "- `echo` : escribe algo a la salida estandar"
   ]
  },
  {
   "cell_type": "code",
   "execution_count": null,
   "id": "be7a3849-b72c-4550-a6be-e985f859e57a",
   "metadata": {},
   "outputs": [],
   "source": [
    "%%bash\n",
    "\n",
    "pwd"
   ]
  },
  {
   "cell_type": "code",
   "execution_count": null,
   "id": "cedf149a-266a-4e42-8ea5-c40d2f576daa",
   "metadata": {},
   "outputs": [],
   "source": [
    "%%bash\n",
    "\n",
    "mkdir mi_proyecto\n",
    "cd mi_proyecto\n",
    "pwd"
   ]
  },
  {
   "cell_type": "code",
   "execution_count": null,
   "id": "c5286e20-abe0-4362-86c5-0ff68ffee9ae",
   "metadata": {},
   "outputs": [],
   "source": [
    "%%bash\n",
    "\n",
    "pwd"
   ]
  },
  {
   "cell_type": "markdown",
   "id": "c5fa9a3c-08b7-4db0-bd7f-3aa51d9b7ea6",
   "metadata": {},
   "source": [
    "Si solamente queremos escribir una sola linea de un comando de linux tambien podemos utilizar las siguientes sintaxis:\n",
    "1. `!cd mi_proyecto`\n",
    "2. `%cd mi_proyecto`\n",
    "\n",
    "En el segundo el cambio de directorio quedara fijo"
   ]
  },
  {
   "cell_type": "code",
   "execution_count": null,
   "id": "1f57b433-e2e7-4065-8e35-64df16c3147f",
   "metadata": {},
   "outputs": [],
   "source": [
    "%cd mi_proyecto"
   ]
  },
  {
   "cell_type": "code",
   "execution_count": null,
   "id": "3b7e6624-0c6e-4f0d-9347-4ca37cb83e57",
   "metadata": {},
   "outputs": [],
   "source": [
    "%%bash\n",
    "\n",
    "pwd"
   ]
  },
  {
   "cell_type": "markdown",
   "id": "abbd9984-0e28-4812-974d-e9dc7b846210",
   "metadata": {},
   "source": [
    "# Fin: [Volver al contenido del curso](https://www.freecodingtour.com/cursos/espanol/mlops/mlops.html)"
   ]
  },
  {
   "cell_type": "markdown",
   "id": "a0d7fdd1-c0ed-4473-8b46-d1d304757ae9",
   "metadata": {},
   "source": [
    "# Referencias:\n",
    "\n",
    "- [The Linux command line for beginners](https://ubuntu.com/tutorials/command-line-for-beginners)\n",
    "- [101 Linux commands Open-source eBook](https://sugatoray.github.io/101-linux-commands-ebook/)"
   ]
  }
 ],
 "metadata": {
  "kernelspec": {
   "display_name": "Python 3 (ipykernel)",
   "language": "python",
   "name": "python3"
  },
  "language_info": {
   "codemirror_mode": {
    "name": "ipython",
    "version": 3
   },
   "file_extension": ".py",
   "mimetype": "text/x-python",
   "name": "python",
   "nbconvert_exporter": "python",
   "pygments_lexer": "ipython3",
   "version": "3.12.4"
  }
 },
 "nbformat": 4,
 "nbformat_minor": 5
}
