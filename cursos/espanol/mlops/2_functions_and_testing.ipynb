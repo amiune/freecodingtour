{
 "cells": [
  {
   "cell_type": "markdown",
   "id": "7ce7c733-ffa5-4bb0-8689-34290b3aadd9",
   "metadata": {},
   "source": [
    "# Funciones y Testing\n",
    "\n",
    "Como vimos en el [curso de programacion para Machine Learning](https://www.freecodingtour.com/cursos/espanol/programacion/programacion.html) nos enfocamos en dos cuestiones fundamentales que son las [funciones](https://colab.research.google.com/github/amiune/freecodingtour/blob/main/cursos/espanol/programacion/6.1_funciones.ipynb) y los [tests](https://colab.research.google.com/github/amiune/freecodingtour/blob/main/cursos/espanol/programacion/6.2_funciones_ejercicios.ipynb). Estos dos conceptos nos dan la base para poder llevar nuestro codigo a produccion.\n",
    "\n",
    "En esta unidad veremos como realizar tests de manera mas profesional."
   ]
  },
  {
   "cell_type": "markdown",
   "id": "9e1f5aaa-9250-46a4-aa53-1be3b2b71b98",
   "metadata": {},
   "source": [
    "## Testing\n",
    "\n",
    "- https://colab.research.google.com/drive/1Rmk_5jEhuefqFavpDLtteGqE8-R1qmZv\n",
    "- [Unit testing](https://docs.python.org/3/library/unittest.html)\n",
    "- [PyTest](https://github.com/pytest-dev/pytest/)\n",
    "- [Integracion continua con GitHub Actions](https://docs.github.com/es/enterprise-cloud@latest/actions/automating-builds-and-tests/building-and-testing-python)\n",
    "- [Integracion continua con GitHub Actions En ingles](https://docs.github.com/en/actions/automating-builds-and-tests/building-and-testing-python)\n",
    "- [Testing con Rye](https://rye.astral.sh/guide/commands/test/)"
   ]
  },
  {
   "cell_type": "code",
   "execution_count": null,
   "id": "a02fc9c6-42dc-4e18-81c3-f623b1e12928",
   "metadata": {},
   "outputs": [],
   "source": []
  }
 ],
 "metadata": {
  "kernelspec": {
   "display_name": "Python 3 (ipykernel)",
   "language": "python",
   "name": "python3"
  },
  "language_info": {
   "codemirror_mode": {
    "name": "ipython",
    "version": 3
   },
   "file_extension": ".py",
   "mimetype": "text/x-python",
   "name": "python",
   "nbconvert_exporter": "python",
   "pygments_lexer": "ipython3",
   "version": "3.12.4"
  }
 },
 "nbformat": 4,
 "nbformat_minor": 5
}
