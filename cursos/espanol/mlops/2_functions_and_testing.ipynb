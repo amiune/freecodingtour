{
 "cells": [
  {
   "cell_type": "markdown",
   "id": "7ce7c733-ffa5-4bb0-8689-34290b3aadd9",
   "metadata": {
    "id": "7ce7c733-ffa5-4bb0-8689-34290b3aadd9"
   },
   "source": [
    "# Testing\n",
    "\n",
    "Como vimos en el [curso de programacion para Machine Learning](https://www.freecodingtour.com/cursos/espanol/programacion/programacion.html) nos enfocamos en dos cuestiones fundamentales que son las [funciones](https://colab.research.google.com/github/amiune/freecodingtour/blob/main/cursos/espanol/programacion/6.1_funciones.ipynb) y los [tests](https://colab.research.google.com/github/amiune/freecodingtour/blob/main/cursos/espanol/programacion/6.2_funciones_ejercicios.ipynb). Estos dos conceptos nos dan la base para poder llevar nuestro codigo a produccion.\n",
    "\n",
    "En esta unidad veremos como realizar tests de manera mas profesional.\n",
    "\n",
    "Para realizar tests python trae incluida la libreria [unitest](https://docs.python.org/3/library/unittest.html) pero aqui veremos la libreria mas moderna y completa llamada [pytest](https://github.com/pytest-dev/pytest/)"
   ]
  },
  {
   "cell_type": "markdown",
   "id": "5ecbeae7-129f-4379-beff-3d32bec39160",
   "metadata": {
    "id": "5ecbeae7-129f-4379-beff-3d32bec39160"
   },
   "source": [
    "## Instalar PyTest\n",
    "\n",
    "Primero instalaremos pytest y el complemento pytest-sugar que nos dara un resumen de los tests mas bonito y facil de leer\n",
    "\n",
    "`!pip -q install pytest pytest-sugar`"
   ]
  },
  {
   "cell_type": "code",
   "execution_count": null,
   "id": "efba8d2d-48e9-4775-a992-9176a2aaf87e",
   "metadata": {
    "id": "efba8d2d-48e9-4775-a992-9176a2aaf87e"
   },
   "outputs": [],
   "source": [
    "!pip -q install pytest pytest-sugar"
   ]
  },
  {
   "cell_type": "markdown",
   "id": "7069a43d-00df-4daa-afaa-7921cba22628",
   "metadata": {
    "id": "7069a43d-00df-4daa-afaa-7921cba22628"
   },
   "source": [
    "## Como pytest descubre donde hemos escrito los tests\n",
    "\n",
    "PyTest usa la siguiente [convencion](https://docs.pytest.org/en/latest/goodpractices.html#conventions-for-python-test-discovery) para descubrir nuestros tests:\n",
    "  \n",
    "1. Busca los ficheros llamados `test_*.py` o `*_test.py `\n",
    "2. Las funciones de test deben comenzar con `test_`"
   ]
  },
  {
   "cell_type": "markdown",
   "id": "190cc12d-2a93-4e61-bef7-35a0590ba14d",
   "metadata": {
    "id": "190cc12d-2a93-4e61-bef7-35a0590ba14d"
   },
   "source": [
    "### Creando los ficheros de test\n",
    "\n",
    "Como dijimos necesitamos crear ficheros llamados `test_*.py` o `*_test.py ` y para lograr esto en google colab utilizaremos `%%file mi_fichero_de_test.py` al comienzo de una celda. Cuando ejecutemos esta celda se creara un fichero con el contenido de esa celda. Si estas trabajando en tu ordenador solo crea el fichero con el editor de texto que mas te guste.\n",
    "\n",
    "A continuacion crearemos un fichero de test para probar distintas funciones estadisticas:"
   ]
  },
  {
   "cell_type": "code",
   "execution_count": null,
   "id": "e603b166-0eda-4b50-8d4f-0c8207c6f5d6",
   "metadata": {
    "colab": {
     "base_uri": "https://localhost:8080/"
    },
    "id": "e603b166-0eda-4b50-8d4f-0c8207c6f5d6",
    "outputId": "9356d0c6-656f-41f6-fd71-3a040ec43d38"
   },
   "outputs": [
    {
     "name": "stdout",
     "output_type": "stream",
     "text": [
      "Writing test_statistics.py\n"
     ]
    }
   ],
   "source": [
    "%%file test_statistics.py\n",
    "\n",
    "import statistics as stats\n",
    "def test_promedio():\n",
    "    assert stats.mean([2,4,4,4,6,6,8,10]) == 5.5\n",
    "\n",
    "def test_moda():\n",
    "    assert stats.mode([2,4,4,4,6,6,8,10]) == 4\n",
    "\n",
    "def test_mediana():\n",
    "    assert stats.median([2,4,4,4,6,6,8,10]) == 5.0"
   ]
  },
  {
   "cell_type": "markdown",
   "id": "Q19SzEskPEFo",
   "metadata": {
    "id": "Q19SzEskPEFo"
   },
   "source": [
    "### Ejecutando nuestros tests\n",
    "\n",
    "Utilizaremos el `python -m pytest` para ejecutar nuestros tests. Si queremos ejecutar solamente los tests de un solo fichero podemos especificar el nombre del fichero, en este caso `python -m pytest test_math.py`"
   ]
  },
  {
   "cell_type": "code",
   "execution_count": null,
   "id": "27ed870a-ee81-4d9f-b798-e557e66e83e4",
   "metadata": {
    "colab": {
     "base_uri": "https://localhost:8080/"
    },
    "id": "27ed870a-ee81-4d9f-b798-e557e66e83e4",
    "outputId": "53a73b48-336b-47fc-8541-f3a6142b9694"
   },
   "outputs": [
    {
     "name": "stdout",
     "output_type": "stream",
     "text": [
      "\u001b[1mTest session starts (platform: linux, Python 3.10.12, pytest 7.4.4, pytest-sugar 1.0.0)\u001b[0m\n",
      "rootdir: /content\n",
      "plugins: sugar-1.0.0, typeguard-4.3.0, anyio-3.7.1\n",
      "\u001b[1mcollecting ... \u001b[0m\u001b[1m\r",
      "collected 5 items                                                                                  \u001b[0m\n",
      "\r\n",
      "\r",
      " \u001b[36m\u001b[0mtest_statistics.py\u001b[0m \u001b[32m✓\u001b[0m                                                                 \u001b[32m20% \u001b[0m\u001b[40m\u001b[32m█\u001b[0m\u001b[40m\u001b[32m█        \u001b[0m\r",
      " \u001b[36m\u001b[0mtest_statistics.py\u001b[0m \u001b[32m✓\u001b[0m\u001b[32m✓\u001b[0m                                                                \u001b[32m40% \u001b[0m\u001b[40m\u001b[32m█\u001b[0m\u001b[40m\u001b[32m█\u001b[0m\u001b[40m\u001b[32m█\u001b[0m\u001b[40m\u001b[32m█      \u001b[0m\r",
      " \u001b[36m\u001b[0mtest_statistics.py\u001b[0m \u001b[32m✓\u001b[0m\u001b[32m✓\u001b[0m\u001b[32m✓\u001b[0m                                                               \u001b[32m60% \u001b[0m\u001b[40m\u001b[32m█\u001b[0m\u001b[40m\u001b[32m█\u001b[0m\u001b[40m\u001b[32m█\u001b[0m\u001b[40m\u001b[32m█\u001b[0m\u001b[40m\u001b[32m█\u001b[0m\u001b[40m\u001b[32m█    \u001b[0m\r\n",
      "\r",
      " \u001b[36m\u001b[0mtest_suma_lista.py\u001b[0m \u001b[32m✓\u001b[0m                                                                 \u001b[32m80% \u001b[0m\u001b[40m\u001b[32m█\u001b[0m\u001b[40m\u001b[32m█\u001b[0m\u001b[40m\u001b[32m█\u001b[0m\u001b[40m\u001b[32m█\u001b[0m\u001b[40m\u001b[32m█\u001b[0m\u001b[40m\u001b[32m█\u001b[0m\u001b[40m\u001b[32m█\u001b[0m\u001b[40m\u001b[32m█  \u001b[0m\r",
      " \u001b[36m\u001b[0mtest_suma_lista.py\u001b[0m \u001b[32m✓\u001b[0m\u001b[32m✓\u001b[0m                                                               \u001b[32m100% \u001b[0m\u001b[40m\u001b[32m█\u001b[0m\u001b[40m\u001b[32m█\u001b[0m\u001b[40m\u001b[32m█\u001b[0m\u001b[40m\u001b[32m█\u001b[0m\u001b[40m\u001b[32m█\u001b[0m\u001b[40m\u001b[32m█\u001b[0m\u001b[40m\u001b[32m█\u001b[0m\u001b[40m\u001b[32m█\u001b[0m\u001b[40m\u001b[32m█\u001b[0m\u001b[40m\u001b[32m█\u001b[0m\n",
      "\n",
      "Results (0.03s):\n",
      "\u001b[32m       5 passed\u001b[0m\n"
     ]
    }
   ],
   "source": [
    "!python -m pytest"
   ]
  },
  {
   "cell_type": "markdown",
   "id": "uBVOnggxQHZw",
   "metadata": {
    "id": "uBVOnggxQHZw"
   },
   "source": [
    "## Probemos nuestra propia funcion"
   ]
  },
  {
   "cell_type": "code",
   "execution_count": null,
   "id": "DTipuWpnPpyx",
   "metadata": {
    "colab": {
     "base_uri": "https://localhost:8080/"
    },
    "id": "DTipuWpnPpyx",
    "outputId": "60a35f7d-de1b-41cb-b7b2-6778e19ebfa2"
   },
   "outputs": [
    {
     "name": "stdout",
     "output_type": "stream",
     "text": [
      "Overwriting suma_de_elementos_de_lista.py\n"
     ]
    }
   ],
   "source": [
    "%%file suma_de_elementos_de_lista.py\n",
    "\n",
    "def suma_de_elementos_de_lista(lista):\n",
    "    \"\"\"\n",
    "    suma los elementos de una lista\n",
    "    \"\"\"\n",
    "    suma = 1\n",
    "    for elemento in lista:\n",
    "        suma += elemento\n",
    "    return suma"
   ]
  },
  {
   "cell_type": "code",
   "execution_count": null,
   "id": "sWBip3Y_QGLs",
   "metadata": {
    "colab": {
     "base_uri": "https://localhost:8080/"
    },
    "id": "sWBip3Y_QGLs",
    "outputId": "8a729dde-73b2-45b3-dd4d-b5e37d72dd3d"
   },
   "outputs": [
    {
     "name": "stdout",
     "output_type": "stream",
     "text": [
      "Overwriting test_suma_lista.py\n"
     ]
    }
   ],
   "source": [
    "%%file test_suma_lista.py\n",
    "\n",
    "from suma_de_elementos_de_lista import suma_de_elementos_de_lista\n",
    "\n",
    "def test_lista_vacia():\n",
    "    assert suma_de_elementos_de_lista([]) == 0\n",
    "\n",
    "def test_suma1():\n",
    "    assert suma_de_elementos_de_lista([1,1,1]) == 3"
   ]
  },
  {
   "cell_type": "code",
   "execution_count": null,
   "id": "OhDtuJ0wQs84",
   "metadata": {
    "colab": {
     "base_uri": "https://localhost:8080/"
    },
    "id": "OhDtuJ0wQs84",
    "outputId": "84f693a9-704c-4f2c-e60a-ff54713a9d2a"
   },
   "outputs": [
    {
     "name": "stdout",
     "output_type": "stream",
     "text": [
      "\u001b[1mTest session starts (platform: linux, Python 3.10.12, pytest 7.4.4, pytest-sugar 1.0.0)\u001b[0m\n",
      "rootdir: /content\n",
      "plugins: sugar-1.0.0, typeguard-4.3.0, anyio-3.7.1\n",
      "\u001b[1mcollecting ... \u001b[0m\u001b[1m\r",
      "collected 2 items                                                                                  \u001b[0m\n",
      "\r\n",
      "\r",
      " \u001b[36m\u001b[0mtest_suma_lista.py\u001b[0m \u001b[32m✓\u001b[0m                                                                 \u001b[32m50% \u001b[0m\u001b[40m\u001b[32m█\u001b[0m\u001b[40m\u001b[32m████     \u001b[0m\r",
      " \u001b[36m\u001b[0mtest_suma_lista.py\u001b[0m \u001b[32m✓\u001b[0m\u001b[32m✓\u001b[0m                                                               \u001b[32m100% \u001b[0m\u001b[40m\u001b[32m█\u001b[0m\u001b[40m\u001b[32m████\u001b[0m\u001b[40m\u001b[32m█\u001b[0m\u001b[40m\u001b[32m████\u001b[0m\n",
      "\n",
      "Results (0.02s):\n",
      "\u001b[32m       2 passed\u001b[0m\n"
     ]
    }
   ],
   "source": [
    "!python -m pytest test_suma_lista.py"
   ]
  },
  {
   "cell_type": "markdown",
   "id": "Cp-6T4IovMTF",
   "metadata": {
    "id": "Cp-6T4IovMTF"
   },
   "source": [
    "### Ejercicio: Corrige el programa"
   ]
  },
  {
   "cell_type": "code",
   "execution_count": null,
   "id": "Y_4F6bJAvLnL",
   "metadata": {
    "colab": {
     "base_uri": "https://localhost:8080/"
    },
    "id": "Y_4F6bJAvLnL",
    "outputId": "3ae88108-c289-4ff6-8e55-307acab01878"
   },
   "outputs": [
    {
     "name": "stdout",
     "output_type": "stream",
     "text": [
      "Writing suma_de_elementos_de_lista.py\n"
     ]
    }
   ],
   "source": [
    "%%file suma_de_elementos_de_lista.py\n",
    "\n",
    "def suma_de_elementos_de_lista(lista):\n",
    "    \"\"\"\n",
    "    suma los elementos de una lista\n",
    "    \"\"\"\n",
    "    suma = 0\n",
    "    for elemento in lista:\n",
    "        suma += elemento\n",
    "    return suma"
   ]
  },
  {
   "cell_type": "code",
   "execution_count": null,
   "id": "6SfyHTAMvTSn",
   "metadata": {
    "colab": {
     "base_uri": "https://localhost:8080/"
    },
    "id": "6SfyHTAMvTSn",
    "outputId": "987bab5f-3b50-4741-c9ba-d549fbd6d983"
   },
   "outputs": [
    {
     "name": "stdout",
     "output_type": "stream",
     "text": [
      "\u001b[1mTest session starts (platform: linux, Python 3.10.12, pytest 7.4.4, pytest-sugar 1.0.0)\u001b[0m\n",
      "rootdir: /content\n",
      "plugins: sugar-1.0.0, typeguard-4.3.0, anyio-3.7.1\n",
      "\u001b[1mcollecting ... \u001b[0m\u001b[1m\r",
      "collected 0 items                                                                                  \u001b[0m\n",
      "\n",
      "\n",
      "Results (0.02s):\n"
     ]
    }
   ],
   "source": [
    "!python -m pytest test_suma_lista.py"
   ]
  },
  {
   "cell_type": "markdown",
   "id": "J5Tgk2SWvbwu",
   "metadata": {
    "id": "J5Tgk2SWvbwu"
   },
   "source": [
    "### Ejecuta todos los tests"
   ]
  },
  {
   "cell_type": "code",
   "execution_count": null,
   "id": "Jg9SVw8Mvdv0",
   "metadata": {
    "colab": {
     "base_uri": "https://localhost:8080/"
    },
    "id": "Jg9SVw8Mvdv0",
    "outputId": "dc0001cd-1662-4812-8ef5-1c6bf20b1d64"
   },
   "outputs": [
    {
     "name": "stdout",
     "output_type": "stream",
     "text": [
      "\u001b[1mTest session starts (platform: linux, Python 3.10.12, pytest 7.4.4, pytest-sugar 1.0.0)\u001b[0m\n",
      "rootdir: /content\n",
      "plugins: sugar-1.0.0, typeguard-4.3.0, anyio-3.7.1\n",
      "\u001b[1mcollecting ... \u001b[0m\u001b[1m\r",
      "collected 5 items                                                                                  \u001b[0m\n",
      "\r\n",
      "\r",
      " \u001b[36m\u001b[0mtest_statistics.py\u001b[0m \u001b[32m✓\u001b[0m                                                                 \u001b[32m20% \u001b[0m\u001b[40m\u001b[32m█\u001b[0m\u001b[40m\u001b[32m█        \u001b[0m\r",
      " \u001b[36m\u001b[0mtest_statistics.py\u001b[0m \u001b[32m✓\u001b[0m\u001b[32m✓\u001b[0m                                                                \u001b[32m40% \u001b[0m\u001b[40m\u001b[32m█\u001b[0m\u001b[40m\u001b[32m█\u001b[0m\u001b[40m\u001b[32m█\u001b[0m\u001b[40m\u001b[32m█      \u001b[0m\r",
      " \u001b[36m\u001b[0mtest_statistics.py\u001b[0m \u001b[32m✓\u001b[0m\u001b[32m✓\u001b[0m\u001b[32m✓\u001b[0m                                                               \u001b[32m60% \u001b[0m\u001b[40m\u001b[32m█\u001b[0m\u001b[40m\u001b[32m█\u001b[0m\u001b[40m\u001b[32m█\u001b[0m\u001b[40m\u001b[32m█\u001b[0m\u001b[40m\u001b[32m█\u001b[0m\u001b[40m\u001b[32m█    \u001b[0m\r\n",
      "\r",
      " \u001b[36m\u001b[0mtest_suma_lista.py\u001b[0m \u001b[32m✓\u001b[0m                                                                 \u001b[32m80% \u001b[0m\u001b[40m\u001b[32m█\u001b[0m\u001b[40m\u001b[32m█\u001b[0m\u001b[40m\u001b[32m█\u001b[0m\u001b[40m\u001b[32m█\u001b[0m\u001b[40m\u001b[32m█\u001b[0m\u001b[40m\u001b[32m█\u001b[0m\u001b[40m\u001b[32m█\u001b[0m\u001b[40m\u001b[32m█  \u001b[0m\r",
      " \u001b[36m\u001b[0mtest_suma_lista.py\u001b[0m \u001b[32m✓\u001b[0m\u001b[32m✓\u001b[0m                                                               \u001b[32m100% \u001b[0m\u001b[40m\u001b[32m█\u001b[0m\u001b[40m\u001b[32m█\u001b[0m\u001b[40m\u001b[32m█\u001b[0m\u001b[40m\u001b[32m█\u001b[0m\u001b[40m\u001b[32m█\u001b[0m\u001b[40m\u001b[32m█\u001b[0m\u001b[40m\u001b[32m█\u001b[0m\u001b[40m\u001b[32m█\u001b[0m\u001b[40m\u001b[32m█\u001b[0m\u001b[40m\u001b[32m█\u001b[0m\n",
      "\n",
      "Results (0.04s):\n",
      "\u001b[32m       5 passed\u001b[0m\n"
     ]
    }
   ],
   "source": [
    "!python -m pytest"
   ]
  },
  {
   "cell_type": "markdown",
   "id": "oUqKjsSjs4Y2",
   "metadata": {
    "id": "oUqKjsSjs4Y2"
   },
   "source": [
    "## Comparando Errores en Conjuntos y Strings\n",
    "\n",
    "pytest muestra con detalle cuales son las diferencias entre conjuntos y strings. Veamos un par de ejemplos:"
   ]
  },
  {
   "cell_type": "code",
   "execution_count": null,
   "id": "dUUumCNgoYIW",
   "metadata": {
    "colab": {
     "base_uri": "https://localhost:8080/"
    },
    "id": "dUUumCNgoYIW",
    "outputId": "0297e774-9718-4beb-97b0-084c3350fb8f"
   },
   "outputs": [
    {
     "name": "stdout",
     "output_type": "stream",
     "text": [
      "Overwriting test_sets_strings.py\n"
     ]
    }
   ],
   "source": [
    "%%file test_sets_strings.py\n",
    "\n",
    "def test_set_comparison():\n",
    "    x_train_columns = set(['Name', 'Sex', 'Age', 'SibSp', 'Parch', 'Ticket', 'Fare', 'Cabin', 'Embarked'])\n",
    "    x_test_columns = set(['Pclass', 'Name', 'Sex', 'Age', 'Parch', 'Ticket', 'Fare', 'Embarked'])\n",
    "    assert x_train_columns == x_test_columns\n",
    "\n",
    "def test_string_comparison():\n",
    "    positive_review1 = \"La comida es excelente y la atencion espectacular!\"\n",
    "    positive_review2 = \"la comida es Excelente y la atencion espectacular!!!  \"\n",
    "    assert positive_review1 == positive_review2"
   ]
  },
  {
   "cell_type": "code",
   "execution_count": null,
   "id": "5eeAkReXsV9U",
   "metadata": {
    "colab": {
     "base_uri": "https://localhost:8080/"
    },
    "id": "5eeAkReXsV9U",
    "outputId": "4ae25c3c-4af0-4fad-db23-8452b911bbc8"
   },
   "outputs": [
    {
     "name": "stdout",
     "output_type": "stream",
     "text": [
      "\u001b[1mTest session starts (platform: linux, Python 3.10.12, pytest 7.4.4, pytest-sugar 1.0.0)\u001b[0m\n",
      "rootdir: /content\n",
      "plugins: sugar-1.0.0, typeguard-4.3.0, anyio-3.7.1\n",
      "\u001b[1mcollecting ... \u001b[0m\u001b[1m\r",
      "collected 2 items                                                                                  \u001b[0m\n",
      "\n",
      "\n",
      "――――――――――――――――――――――――――――――――――――――― test_set_comparison ――――――――――――――――――――――――――――――――――――――――\n",
      "\n",
      "    \u001b[94mdef\u001b[39;49;00m \u001b[92mtest_set_comparison\u001b[39;49;00m():\u001b[90m\u001b[39;49;00m\n",
      "        x_train_columns = \u001b[96mset\u001b[39;49;00m([\u001b[33m'\u001b[39;49;00m\u001b[33mName\u001b[39;49;00m\u001b[33m'\u001b[39;49;00m, \u001b[33m'\u001b[39;49;00m\u001b[33mSex\u001b[39;49;00m\u001b[33m'\u001b[39;49;00m, \u001b[33m'\u001b[39;49;00m\u001b[33mAge\u001b[39;49;00m\u001b[33m'\u001b[39;49;00m, \u001b[33m'\u001b[39;49;00m\u001b[33mSibSp\u001b[39;49;00m\u001b[33m'\u001b[39;49;00m, \u001b[33m'\u001b[39;49;00m\u001b[33mParch\u001b[39;49;00m\u001b[33m'\u001b[39;49;00m, \u001b[33m'\u001b[39;49;00m\u001b[33mTicket\u001b[39;49;00m\u001b[33m'\u001b[39;49;00m, \u001b[33m'\u001b[39;49;00m\u001b[33mFare\u001b[39;49;00m\u001b[33m'\u001b[39;49;00m, \u001b[33m'\u001b[39;49;00m\u001b[33mCabin\u001b[39;49;00m\u001b[33m'\u001b[39;49;00m, \u001b[33m'\u001b[39;49;00m\u001b[33mEmbarked\u001b[39;49;00m\u001b[33m'\u001b[39;49;00m])\u001b[90m\u001b[39;49;00m\n",
      "        x_test_columns = \u001b[96mset\u001b[39;49;00m([\u001b[33m'\u001b[39;49;00m\u001b[33mPclass\u001b[39;49;00m\u001b[33m'\u001b[39;49;00m, \u001b[33m'\u001b[39;49;00m\u001b[33mName\u001b[39;49;00m\u001b[33m'\u001b[39;49;00m, \u001b[33m'\u001b[39;49;00m\u001b[33mSex\u001b[39;49;00m\u001b[33m'\u001b[39;49;00m, \u001b[33m'\u001b[39;49;00m\u001b[33mAge\u001b[39;49;00m\u001b[33m'\u001b[39;49;00m, \u001b[33m'\u001b[39;49;00m\u001b[33mParch\u001b[39;49;00m\u001b[33m'\u001b[39;49;00m, \u001b[33m'\u001b[39;49;00m\u001b[33mTicket\u001b[39;49;00m\u001b[33m'\u001b[39;49;00m, \u001b[33m'\u001b[39;49;00m\u001b[33mFare\u001b[39;49;00m\u001b[33m'\u001b[39;49;00m, \u001b[33m'\u001b[39;49;00m\u001b[33mEmbarked\u001b[39;49;00m\u001b[33m'\u001b[39;49;00m])\u001b[90m\u001b[39;49;00m\n",
      ">       \u001b[94massert\u001b[39;49;00m x_train_columns == x_test_columns\u001b[90m\u001b[39;49;00m\n",
      "\u001b[1m\u001b[31mE       AssertionError: assert {'Age', 'Cabi... 'Parch', ...} == {'Age', 'Emba...'Pclass', ...}\u001b[0m\n",
      "\u001b[1m\u001b[31mE         Extra items in the left set:\u001b[0m\n",
      "\u001b[1m\u001b[31mE         'Cabin'\u001b[0m\n",
      "\u001b[1m\u001b[31mE         'SibSp'\u001b[0m\n",
      "\u001b[1m\u001b[31mE         Extra items in the right set:\u001b[0m\n",
      "\u001b[1m\u001b[31mE         'Pclass'\u001b[0m\n",
      "\u001b[1m\u001b[31mE         Use -v to get more diff\u001b[0m\n",
      "\n",
      "\u001b[1m\u001b[31mtest_sets_strings.py\u001b[0m:5: AssertionError\n",
      "\r\n",
      "\r",
      " \u001b[36m\u001b[0mtest_sets_strings.py\u001b[0m \u001b[31m⨯\u001b[0m                                                               \u001b[31m50% \u001b[0m\u001b[40m\u001b[31m█\u001b[0m\u001b[40m\u001b[31m████     \u001b[0m\n",
      "\n",
      "―――――――――――――――――――――――――――――――――――――― test_string_comparison ――――――――――――――――――――――――――――――――――――――\n",
      "\n",
      "    \u001b[94mdef\u001b[39;49;00m \u001b[92mtest_string_comparison\u001b[39;49;00m():\u001b[90m\u001b[39;49;00m\n",
      "        positive_review1 = \u001b[33m\"\u001b[39;49;00m\u001b[33mLa comida es excelente y la atencion espectacular!\u001b[39;49;00m\u001b[33m\"\u001b[39;49;00m\u001b[90m\u001b[39;49;00m\n",
      "        positive_review2 = \u001b[33m\"\u001b[39;49;00m\u001b[33mLa comida es excelente. La atencion espectacular!!!\u001b[39;49;00m\u001b[33m\"\u001b[39;49;00m\u001b[90m\u001b[39;49;00m\n",
      ">       \u001b[94massert\u001b[39;49;00m positive_review1 == positive_review2\u001b[90m\u001b[39;49;00m\n",
      "\u001b[1m\u001b[31mE       AssertionError: assert 'La comida es...espectacular!' == 'La comida es...pectacular!!!'\u001b[0m\n",
      "\u001b[1m\u001b[31mE         - La comida es excelente. La atencion espectacular!!!\u001b[0m\n",
      "\u001b[1m\u001b[31mE         ?                       ^^^                        --\u001b[0m\n",
      "\u001b[1m\u001b[31mE         + La comida es excelente y la atencion espectacular!\u001b[0m\n",
      "\u001b[1m\u001b[31mE         ?                       ^^^^\u001b[0m\n",
      "\n",
      "\u001b[1m\u001b[31mtest_sets_strings.py\u001b[0m:10: AssertionError\n",
      "\r\n",
      "\r",
      " \u001b[36m\u001b[0mtest_sets_strings.py\u001b[0m \u001b[31m⨯\u001b[0m                                                              \u001b[31m100% \u001b[0m\u001b[40m\u001b[31m█\u001b[0m\u001b[40m\u001b[31m████\u001b[0m\u001b[40m\u001b[31m█\u001b[0m\u001b[40m\u001b[31m████\u001b[0m\n",
      "\u001b[36m\u001b[1m===================================== short test summary info ======================================\u001b[0m\n",
      "\u001b[31mFAILED\u001b[0m test_sets_strings.py::\u001b[1mtest_set_comparison\u001b[0m - AssertionError: assert {'Age', 'Cabi... 'Parch', ...} == {'Age', 'Emba...'Pclass', ...}\n",
      "\u001b[31mFAILED\u001b[0m test_sets_strings.py::\u001b[1mtest_string_comparison\u001b[0m - AssertionError: assert 'La comida es...espectacular!' == 'La comida es...pectacular!!!'\n",
      "\n",
      "Results (0.12s):\n",
      "\u001b[31m       2 failed\u001b[0m\n",
      "         - \u001b[36m\u001b[0mtest_sets_strings.py\u001b[0m:2 \u001b[31mtest_set_comparison\u001b[0m\n",
      "         - \u001b[36m\u001b[0mtest_sets_strings.py\u001b[0m:7 \u001b[31mtest_string_comparison\u001b[0m\n"
     ]
    }
   ],
   "source": [
    "!python -m pytest test_sets_strings.py"
   ]
  },
  {
   "cell_type": "markdown",
   "id": "Id0yegk5tBBV",
   "metadata": {
    "id": "Id0yegk5tBBV"
   },
   "source": [
    "## Fixtures:\n",
    "\n",
    "Cuando hacemos tests probablemente necesitemos primero conectarnos a alguna base de datos o configurar ciertas propiedades del ordenador que pueden llevar mucho tiempo o computo y que las necesitaremos para varios tests. Para ello podemos utilizar los fixtures que son funciones que se encargan de eso y nos facilitan realizar los tests de forma mas simple y entendible.\n",
    "\n",
    "Referencias:\n",
    "- [PyTest Fixtures](https://docs.pytest.org/en/stable/explanation/fixtures.html)\n",
    "- [Como utilizarlos](https://docs.pytest.org/en/stable/how-to/fixtures.html)\n",
    "- [Mas motivos para usar fixtures](https://stackoverflow.com/questions/62376252/when-to-use-pytest-fixtures)"
   ]
  },
  {
   "cell_type": "code",
   "execution_count": 13,
   "id": "NbG92ehptAfA",
   "metadata": {
    "colab": {
     "base_uri": "https://localhost:8080/"
    },
    "id": "NbG92ehptAfA",
    "outputId": "dd2a2545-f160-401a-f09d-9a2a1b220f75"
   },
   "outputs": [
    {
     "name": "stdout",
     "output_type": "stream",
     "text": [
      "Overwriting test_fixtures.py\n"
     ]
    }
   ],
   "source": [
    "%%file test_fixtures.py\n",
    "\n",
    "from time import sleep\n",
    "import pytest\n",
    "\n",
    "@pytest.fixture(scope=\"module\")\n",
    "def busqueda_en_base_datos():\n",
    "    sleep(10) # simulacion de algo que tarda mucho tiempo\n",
    "    return [1,2,3]\n",
    "\n",
    "def test_a(busqueda_en_base_datos):\n",
    "    assert busqueda_en_base_datos == [1,2,3]\n",
    "\n",
    "def test_b(busqueda_en_base_datos):\n",
    "    busqueda_en_base_datos.append(5)\n",
    "    assert busqueda_en_base_datos == [1,2,3,5]"
   ]
  },
  {
   "cell_type": "code",
   "execution_count": 14,
   "id": "JX_8z0g4tAnh",
   "metadata": {
    "colab": {
     "base_uri": "https://localhost:8080/"
    },
    "id": "JX_8z0g4tAnh",
    "outputId": "0a971a26-7c13-46f9-a45d-f378aa1f6e9b"
   },
   "outputs": [
    {
     "name": "stdout",
     "output_type": "stream",
     "text": [
      "\u001b[1m======================================= test session starts ========================================\u001b[0m\n",
      "platform linux -- Python 3.10.12, pytest-7.4.4, pluggy-1.5.0\n",
      "rootdir: /content\n",
      "plugins: typeguard-4.3.0, anyio-3.7.1\n",
      "\u001b[1mcollecting ... \u001b[0m\u001b[1m\r",
      "collected 2 items                                                                                  \u001b[0m\n",
      "\n",
      "test_fixtures.py \u001b[32m.\u001b[0m\u001b[32m.\u001b[0m\u001b[32m                                                                          [100%]\u001b[0m\n",
      "\n",
      "\u001b[32m======================================== \u001b[32m\u001b[1m2 passed\u001b[0m\u001b[32m in 10.02s\u001b[0m\u001b[32m ========================================\u001b[0m\n"
     ]
    }
   ],
   "source": [
    "!python -m pytest test_fixtures.py"
   ]
  },
  {
   "cell_type": "markdown",
   "id": "F2ES4VCs_4qb",
   "metadata": {
    "id": "F2ES4VCs_4qb"
   },
   "source": [
    "Tambien podemos utilizar parametros en los fixtures para realizar mas de un test sobre una misma funcion:"
   ]
  },
  {
   "cell_type": "code",
   "execution_count": 19,
   "id": "tz3YAiW9-mob",
   "metadata": {
    "colab": {
     "base_uri": "https://localhost:8080/"
    },
    "id": "tz3YAiW9-mob",
    "outputId": "7616460b-173a-4005-dd5d-b4414192d699"
   },
   "outputs": [
    {
     "name": "stdout",
     "output_type": "stream",
     "text": [
      "Overwriting test_primos.py\n"
     ]
    }
   ],
   "source": [
    "%%file test_primos.py\n",
    "\n",
    "import pytest\n",
    "import math\n",
    "\n",
    "def es_primo(x):\n",
    "  for divisor in range(2, int(x/2)):\n",
    "    if x % divisor == 0:\n",
    "      return False\n",
    "  return True\n",
    "\n",
    "@pytest.fixture(params=[2,3,5,7,11,13,17,19,23])\n",
    "def numero_primo(request):\n",
    "    return request.param\n",
    "\n",
    "def test_primos(numero_primo):\n",
    "    assert es_primo(numero_primo) == True"
   ]
  },
  {
   "cell_type": "code",
   "execution_count": 21,
   "id": "rcET4-dq_E5Q",
   "metadata": {
    "colab": {
     "base_uri": "https://localhost:8080/"
    },
    "id": "rcET4-dq_E5Q",
    "outputId": "ffcb74af-e358-428c-b321-d27c13531dcd"
   },
   "outputs": [
    {
     "name": "stdout",
     "output_type": "stream",
     "text": [
      "\u001b[1m======================================= test session starts ========================================\u001b[0m\n",
      "platform linux -- Python 3.10.12, pytest-7.4.4, pluggy-1.5.0 -- /usr/bin/python3\n",
      "cachedir: .pytest_cache\n",
      "rootdir: /content\n",
      "plugins: typeguard-4.3.0, anyio-3.7.1\n",
      "\u001b[1mcollecting ... \u001b[0m\u001b[1m\r",
      "collected 9 items                                                                                  \u001b[0m\n",
      "\n",
      "test_primos.py::test_primos[2] \u001b[32mPASSED\u001b[0m\u001b[32m                                                        [ 11%]\u001b[0m\n",
      "test_primos.py::test_primos[3] \u001b[32mPASSED\u001b[0m\u001b[32m                                                        [ 22%]\u001b[0m\n",
      "test_primos.py::test_primos[5] \u001b[32mPASSED\u001b[0m\u001b[32m                                                        [ 33%]\u001b[0m\n",
      "test_primos.py::test_primos[7] \u001b[32mPASSED\u001b[0m\u001b[32m                                                        [ 44%]\u001b[0m\n",
      "test_primos.py::test_primos[11] \u001b[32mPASSED\u001b[0m\u001b[32m                                                       [ 55%]\u001b[0m\n",
      "test_primos.py::test_primos[13] \u001b[32mPASSED\u001b[0m\u001b[32m                                                       [ 66%]\u001b[0m\n",
      "test_primos.py::test_primos[17] \u001b[32mPASSED\u001b[0m\u001b[32m                                                       [ 77%]\u001b[0m\n",
      "test_primos.py::test_primos[19] \u001b[32mPASSED\u001b[0m\u001b[32m                                                       [ 88%]\u001b[0m\n",
      "test_primos.py::test_primos[23] \u001b[32mPASSED\u001b[0m\u001b[32m                                                       [100%]\u001b[0m\n",
      "\n",
      "\u001b[32m======================================== \u001b[32m\u001b[1m9 passed\u001b[0m\u001b[32m in 0.03s\u001b[0m\u001b[32m =========================================\u001b[0m\n"
     ]
    }
   ],
   "source": [
    "!python -m pytest test_primos.py --verbose"
   ]
  },
  {
   "cell_type": "markdown",
   "id": "f32b933e-fa5c-4822-8e3a-11a5cfe6e243",
   "metadata": {},
   "source": [
    "# Fin: [Volver al contenido del curso](https://www.freecodingtour.com/cursos/espanol/mlops/mlops.html)"
   ]
  },
  {
   "cell_type": "markdown",
   "id": "9e1f5aaa-9250-46a4-aa53-1be3b2b71b98",
   "metadata": {
    "id": "9e1f5aaa-9250-46a4-aa53-1be3b2b71b98"
   },
   "source": [
    "## Referencias:\n",
    "\n",
    "- https://colab.research.google.com/drive/1Rmk_5jEhuefqFavpDLtteGqE8-R1qmZv\n",
    "- [Unit testing](https://docs.python.org/3/library/unittest.html)\n",
    "- [PyTest](https://github.com/pytest-dev/pytest/)\n",
    "- [Integracion continua con GitHub Actions](https://docs.github.com/es/enterprise-cloud@latest/actions/automating-builds-and-tests/building-and-testing-python)\n",
    "- [Integracion continua con GitHub Actions En ingles](https://docs.github.com/en/actions/automating-builds-and-tests/building-and-testing-python)\n",
    "- [Testing con Rye](https://rye.astral.sh/guide/commands/test/)"
   ]
  }
 ],
 "metadata": {
  "colab": {
   "provenance": []
  },
  "kernelspec": {
   "display_name": "Python 3 (ipykernel)",
   "language": "python",
   "name": "python3"
  },
  "language_info": {
   "codemirror_mode": {
    "name": "ipython",
    "version": 3
   },
   "file_extension": ".py",
   "mimetype": "text/x-python",
   "name": "python",
   "nbconvert_exporter": "python",
   "pygments_lexer": "ipython3",
   "version": "3.12.4"
  }
 },
 "nbformat": 4,
 "nbformat_minor": 5
}
