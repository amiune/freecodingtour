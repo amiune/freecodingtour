{
 "cells": [
  {
   "cell_type": "markdown",
   "id": "7ce7c733-ffa5-4bb0-8689-34290b3aadd9",
   "metadata": {},
   "source": [
    "# Machine Learning Operations\n",
    "\n",
    "Lo que hay que saber para desarrollar apps de machine learning que funcionen en ambientes de produccion"
   ]
  },
  {
   "cell_type": "markdown",
   "id": "4506b9fd-a892-4799-b07e-ea5a123efb54",
   "metadata": {},
   "source": [
    "## Explicacion de instaladores, directorios virtuales y manejadores de librerias\n",
    "- [An unbiased evaluation of environment management and packaging tools](https://alpopkes.com/posts/python/packaging_tools/)\n",
    "- [Video](https://www.youtube.com/watch?v=sxN-Iu-okdo)\n",
    "\n",
    "## Python versions\n",
    "- [pyenv](https://github.com/pyenv/pyenv)\n",
    "\n",
    "## Virtual Environments\n",
    "- [venv](https://docs.python.org/3/library/venv.html)\n",
    "\n",
    "## Instaladores\n",
    "- [pip](https://pip.pypa.io/en/stable/)\n",
    "- [pipx](https://pipx.pypa.io/stable/installation/)\n",
    "\n",
    "## All in one\n",
    "- [Conda](https://docs.conda.io/en/latest/)\n",
    "- [Poetry](https://python-poetry.org/)\n",
    "- [Pixi](https://prefix.dev/)\n",
    "- [Rye](https://rye.astral.sh/)\n",
    "- [Hatch](https://hatch.pypa.io/latest/)"
   ]
  },
  {
   "cell_type": "code",
   "execution_count": null,
   "id": "2bca4d5b-8293-4ab5-b166-94621db6c4cf",
   "metadata": {},
   "outputs": [],
   "source": []
  }
 ],
 "metadata": {
  "kernelspec": {
   "display_name": "Python 3 (ipykernel)",
   "language": "python",
   "name": "python3"
  },
  "language_info": {
   "codemirror_mode": {
    "name": "ipython",
    "version": 3
   },
   "file_extension": ".py",
   "mimetype": "text/x-python",
   "name": "python",
   "nbconvert_exporter": "python",
   "pygments_lexer": "ipython3",
   "version": "3.12.4"
  }
 },
 "nbformat": 4,
 "nbformat_minor": 5
}
