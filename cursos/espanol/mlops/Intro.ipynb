{
 "cells": [
  {
   "cell_type": "markdown",
   "id": "7ce7c733-ffa5-4bb0-8689-34290b3aadd9",
   "metadata": {},
   "source": [
    "# Machine Learning Operations\n",
    "\n",
    "Lo que hay que saber para desarrollar apps de machine learning que funcionen en ambientes de produccion\n",
    "\n",
    "https://harvard-edge.github.io/cs249r_book/"
   ]
  },
  {
   "cell_type": "markdown",
   "id": "4506b9fd-a892-4799-b07e-ea5a123efb54",
   "metadata": {},
   "source": [
    "## Explicacion de instaladores, directorios virtuales y manejadores de librerias\n",
    "- [An unbiased evaluation of environment management and packaging tools](https://alpopkes.com/posts/python/packaging_tools/)\n",
    "- [Video](https://www.youtube.com/watch?v=sxN-Iu-okdo)\n",
    "\n",
    "### Python versions\n",
    "- [pyenv](https://github.com/pyenv/pyenv)\n",
    "\n",
    "### Virtual Environments\n",
    "- [venv](https://docs.python.org/3/library/venv.html)\n",
    "\n",
    "### Instaladores\n",
    "- [pip](https://pip.pypa.io/en/stable/)\n",
    "- [pipx](https://pipx.pypa.io/stable/installation/)\n",
    "\n",
    "### All in one\n",
    "- [Conda](https://docs.conda.io/en/latest/)\n",
    "- [Poetry](https://python-poetry.org/)\n",
    "- [Pixi](https://prefix.dev/)\n",
    "- [Rye](https://rye.astral.sh/)\n",
    "- [Hatch](https://hatch.pypa.io/latest/)"
   ]
  },
  {
   "cell_type": "markdown",
   "id": "c3c6cb97",
   "metadata": {},
   "source": [
    "## Git\n",
    "\n",
    "- [Tutorial](https://colab.research.google.com/drive/11EPXUjESxiT1RV6p1pkeKYS8PJFkRNpk)"
   ]
  },
  {
   "cell_type": "markdown",
   "id": "5bc35de8",
   "metadata": {},
   "source": [
    "## Docker\n",
    "\n",
    "- https://www.docker.com/play-with-docker/\n",
    "- https://training.play-with-docker.com/\n",
    "- https://labs.leaningtech.com/blog/mini-webvm-your-linux-box-from-dockerfile-via-wasm"
   ]
  },
  {
   "cell_type": "markdown",
   "id": "65288976",
   "metadata": {},
   "source": [
    "## ETL Frameworks\n",
    "\n",
    "- https://news.ycombinator.com/item?id=40723356\n",
    "- https://amphi.ai/\n",
    "- https://dlthub.com/\n",
    "- https://hub.meltano.com/\n",
    "- https://www.definite.app/"
   ]
  },
  {
   "cell_type": "markdown",
   "id": "b0d5b287",
   "metadata": {},
   "source": []
  }
 ],
 "metadata": {
  "kernelspec": {
   "display_name": "Python 3 (ipykernel)",
   "language": "python",
   "name": "python3"
  },
  "language_info": {
   "codemirror_mode": {
    "name": "ipython",
    "version": 3
   },
   "file_extension": ".py",
   "mimetype": "text/x-python",
   "name": "python",
   "nbconvert_exporter": "python",
   "pygments_lexer": "ipython3",
   "version": "3.12.4"
  }
 },
 "nbformat": 4,
 "nbformat_minor": 5
}
