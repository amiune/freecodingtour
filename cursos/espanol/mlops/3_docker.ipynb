{
 "cells": [
  {
   "cell_type": "markdown",
   "id": "7ce7c733-ffa5-4bb0-8689-34290b3aadd9",
   "metadata": {},
   "source": [
    "# Docker\n",
    "\n",
    "Docker es un software que nos permite asegurarnos de que si nuestros programas funcionan en nuestro ordenador entonces van a funcionar en cualquier otro ordenador que posea Docker. Dados los problemas que mencionamos de conflictos de versiones de librerias y otros que pueden surgir por la diferente configuracion de cada ordenador, Docker se ha vueltacasi indispensable para hacer funcionar un programa de Python en produccion."
   ]
  },
  {
   "cell_type": "markdown",
   "id": "5bc35de8",
   "metadata": {},
   "source": [
    "## Docker\n",
    "\n",
    "- https://www.docker.com/play-with-docker/\n",
    "- https://training.play-with-docker.com/\n",
    "- https://labs.leaningtech.com/blog/mini-webvm-your-linux-box-from-dockerfile-via-wasm\n",
    "\n",
    "Optional:\n",
    "- https://github.com/indigo-dc/udocker\n",
    "- https://anvil.works/learn/tutorials/google-colab-web-service\n",
    "- https://biplobsd.me/blogs/view/run-swirl-open-source-search-engine-on-google-colab.md"
   ]
  },
  {
   "cell_type": "code",
   "execution_count": null,
   "id": "a02fc9c6-42dc-4e18-81c3-f623b1e12928",
   "metadata": {},
   "outputs": [],
   "source": []
  }
 ],
 "metadata": {
  "kernelspec": {
   "display_name": "Python 3 (ipykernel)",
   "language": "python",
   "name": "python3"
  },
  "language_info": {
   "codemirror_mode": {
    "name": "ipython",
    "version": 3
   },
   "file_extension": ".py",
   "mimetype": "text/x-python",
   "name": "python",
   "nbconvert_exporter": "python",
   "pygments_lexer": "ipython3",
   "version": "3.12.4"
  }
 },
 "nbformat": 4,
 "nbformat_minor": 5
}
