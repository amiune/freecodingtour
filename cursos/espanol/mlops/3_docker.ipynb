{
 "cells": [
  {
   "cell_type": "markdown",
   "id": "7ce7c733-ffa5-4bb0-8689-34290b3aadd9",
   "metadata": {},
   "source": [
    "# Docker\n",
    "\n",
    "Docker es un software que nos permite asegurarnos de que si nuestros programas funcionan en nuestro ordenador entonces van a funcionar en cualquier otro ordenador que posea Docker. Dados los problemas que mencionamos de conflictos de versiones de librerias y otros que pueden surgir por la diferente configuracion de cada ordenador, Docker se ha vuelto casi indispensable para hacer funcionar un programa de Python en produccion."
   ]
  },
  {
   "cell_type": "markdown",
   "id": "ee9610da-ad7b-48a0-acfc-61f2f4300cd2",
   "metadata": {},
   "source": [
    "## Como logra Docker que nuestro programa funcione en cualquier ordenador?\n",
    "\n",
    "Si instalamos docker en nuestro ordenador y ejecutamos nuestro programa a traves de docker entonces esto nos garantiza que cualquier otro ordenar que tenga instalado docker va a poder ejecutar nuestro programa y funcionara correctamente.\n",
    "\n",
    "Para ello luego de instalar docker debemos agregar a nuestro programa un fichero de configuracion llamado `Dockerfile`, este fichero le dira a docker:\n",
    "1. que version de python necesita para que nuestro programa funcione\n",
    "2. que librerias necesita para que nuestro programa funcione\n",
    "3. que comando debe ejecutar para que nuestro programa funcione\n",
    "\n",
    "Una vez creado este fichero podremos ejecutar nuestro programa en cualquier ordenar a traves de los siguientes comandos:\n",
    "\n",
    "1. `docker build -t mi_imagen .`\n",
    "2. `docker run mi_imagen`\n",
    "\n",
    "[`docker build`](https://docs.docker.com/reference/cli/docker/buildx/build/) creara lo que se llama una imagen de docker\n",
    "\n",
    "[`docker run`](https://docs.docker.com/reference/cli/docker/container/run/) creara lo que se llama un container a partir de la imagen y ejecutara nuestro programa\n",
    "   "
   ]
  },
  {
   "cell_type": "markdown",
   "id": "e8ff3bfa-8d6e-434d-8161-3ac0006e67f6",
   "metadata": {},
   "source": [
    "## Ejemplo"
   ]
  },
  {
   "cell_type": "code",
   "execution_count": null,
   "id": "4f285af9-1655-4d08-938c-12e83f60ee4e",
   "metadata": {},
   "outputs": [],
   "source": [
    "%% file mi_programa.py\n",
    "\n",
    "import numpy as np\n",
    "import pandas as pd\n",
    "\n",
    "df = pd.DataFrame({\"Id\":np.arange(10),\"Feature\":np.random.rand(10)})\n",
    "\n",
    "print(\"Mi Dataframe:\")\n",
    "print(df)"
   ]
  },
  {
   "cell_type": "code",
   "execution_count": null,
   "id": "e0d031fc-2a43-4d5d-aaa5-0208d76493c9",
   "metadata": {},
   "outputs": [],
   "source": [
    "%% file Dockerfile\n",
    "\n",
    "# Definir el software base que necesito\n",
    "# En nuestro caso definimos la version de python que necesitamos\n",
    "FROM python:3.9\n",
    "\n",
    "# Definir el directorio donde funcionara mi programa\n",
    "WORKDIR /codigo\n",
    "\n",
    "# Instalar las librerias necesarias\n",
    "RUN pip install numpy\n",
    "RUN pip install pandas\n",
    "\n",
    "# Copiar mi codigo al container de Docker\n",
    "COPY ./ /codigo/\n",
    "\n",
    "# Ejecutar el comando que inicia mi programa\n",
    "CMD [\"python\", \"mi_programa.py\"]"
   ]
  },
  {
   "cell_type": "markdown",
   "id": "55bfccbd-6a67-4283-b398-1b7b31b74a37",
   "metadata": {},
   "source": [
    "Finalmente ejecutamos este programa con docker mediante:\n",
    "\n",
    "```shell\n",
    "docker build -t la_imagen_de_mi_programa .\n",
    "docker run la_imagen_de_mi_programa\n",
    "```"
   ]
  },
  {
   "cell_type": "markdown",
   "id": "b63ffe03-7c2d-4508-a8e1-05d7d15432dc",
   "metadata": {},
   "source": [
    "### Para cada libreria siempre leer la documentacion de como crear el Dockerfile\n",
    "\n",
    "No hace falta ser un experto en Docker, basta con saber los aspectos basicos y luego aprender segun lo que necesitemos hacer:\n",
    "\n",
    "- [FastApi](https://fastapi.tiangolo.com/deployment/docker/)\n",
    "- [Gradio](https://www.gradio.app/guides/deploying-gradio-with-docker)\n",
    "- [Generative AI stack](https://github.com/amiune/genai-stack)\n"
   ]
  },
  {
   "cell_type": "markdown",
   "id": "533448c3-c578-4e45-95ca-2d23a6433a02",
   "metadata": {},
   "source": [
    "## Ejercicio\n",
    "\n",
    "Ejecutar una app de [Gradio utilizando Docker](https://www.gradio.app/guides/deploying-gradio-with-docker)"
   ]
  },
  {
   "cell_type": "markdown",
   "id": "132d7907-fc96-4f3d-ac61-1827cd3ac2c5",
   "metadata": {},
   "source": [
    "# Fin: [Volver al contenido del curso](https://www.freecodingtour.com/cursos/espanol/mlops/mlops.html)"
   ]
  },
  {
   "cell_type": "markdown",
   "id": "5bc35de8",
   "metadata": {},
   "source": [
    "## Referencias:\n",
    "\n",
    "- https://anvil.works/learn/tutorials/google-colab-web-service\n",
    "- https://www.docker.com/play-with-docker/\n",
    "- https://training.play-with-docker.com/\n",
    "- https://labs.leaningtech.com/blog/mini-webvm-your-linux-box-from-dockerfile-via-wasm\n",
    "\n",
    "Extras raros:\n",
    "- https://github.com/indigo-dc/udocker\n",
    "- https://biplobsd.me/blogs/view/run-swirl-open-source-search-engine-on-google-colab.md"
   ]
  }
 ],
 "metadata": {
  "kernelspec": {
   "display_name": "Python 3 (ipykernel)",
   "language": "python",
   "name": "python3"
  },
  "language_info": {
   "codemirror_mode": {
    "name": "ipython",
    "version": 3
   },
   "file_extension": ".py",
   "mimetype": "text/x-python",
   "name": "python",
   "nbconvert_exporter": "python",
   "pygments_lexer": "ipython3",
   "version": "3.12.4"
  }
 },
 "nbformat": 4,
 "nbformat_minor": 5
}
