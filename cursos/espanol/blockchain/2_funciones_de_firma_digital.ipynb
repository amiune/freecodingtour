{
  "nbformat": 4,
  "nbformat_minor": 0,
  "metadata": {
    "colab": {
      "provenance": []
    },
    "kernelspec": {
      "name": "python3",
      "display_name": "Python 3"
    },
    "language_info": {
      "name": "python"
    }
  },
  "cells": [
    {
      "cell_type": "markdown",
      "source": [
        "# Funciones de Firma Digital\n",
        "\n",
        "¿Cómo funciona la firma digital?\n",
        "\n",
        "Consta de tres funciones:\n",
        "1. Una funcion `generate_keys()` para generar un par de claves, una secreta y una publica\n",
        "2. Una funcion `sign(message, secret_key)` para generar la firma de un mensaje\n",
        "3. Una funcion `verify(message, signature, public_key)` para saber si un mensaje ha sido firmado por quien dice firmarlo.\n",
        "\n",
        "*Nota: la clave publica, la clave secreta y la firma son numeros que pueden ser expresados en distantas bases: decimal, hexadecimal, base64, etc.*\n",
        "```\n",
        "secret_key, public_key = generate_keys()\n",
        "signature = sign(message, secret_key)\n",
        "is_valid = verify(message, signature, public_key)\n",
        "```\n",
        "\n",
        "Que funcion de firma digital utiliza Bitcoin?\n",
        "\n",
        "Bitcoin utiliza criptografía de curva elíptica para generar las claves:\n",
        "- https://en.wikipedia.org/wiki/Elliptic-curve_cryptography\n",
        "\n",
        "Propiedades de las firmas digitales:\n",
        "- Las firmas verdaderas se pueden verificar:\n",
        "`verify(message, signature, public_key) == True`\n",
        "- Nadie puede falsificar una firma:\n",
        "alguien que puede ver `pk` y todos los mensajes firmados que quiera no puede falsificar esa firma en un mensaje nuevo\n"
      ],
      "metadata": {
        "id": "4jS7e0uc_Dzj"
      }
    },
    {
      "cell_type": "markdown",
      "source": [
        "## Veamos como funciona una implementacion en python de la firma digital\n",
        "\n",
        "Instalamos bitcoinlib:\n",
        "- [pip install](https://pypi.org/project/bitcoinlib/)\n",
        "- [documentacion](https://bitcoinlib.readthedocs.io/en/latest/)\n",
        "- [github repo](https://github.com/1200wd/bitcoinlib)"
      ],
      "metadata": {
        "id": "G5eTArJY2lSs"
      }
    },
    {
      "cell_type": "code",
      "source": [
        "!sudo apt install -qq build-essential python3-dev libgmp3-dev > /dev/null\n",
        "!pip install bitcoinlib -U -q"
      ],
      "metadata": {
        "colab": {
          "base_uri": "https://localhost:8080/"
        },
        "id": "37w160bm8u7b",
        "outputId": "42546626-ec0d-4b01-b5b9-35927f770a30"
      },
      "execution_count": null,
      "outputs": [
        {
          "output_type": "stream",
          "name": "stdout",
          "text": [
            "\n",
            "WARNING: apt does not have a stable CLI interface. Use with caution in scripts.\n",
            "\n"
          ]
        }
      ]
    },
    {
      "cell_type": "markdown",
      "source": [
        "### Generamos el par de claves: secreta y publica\n",
        "\n",
        "Este par de claves es unico."
      ],
      "metadata": {
        "id": "w2n4wt0XWeju"
      }
    },
    {
      "cell_type": "code",
      "execution_count": null,
      "metadata": {
        "colab": {
          "base_uri": "https://localhost:8080/"
        },
        "id": "Mq9uYB1n-d1k",
        "outputId": "f9c90df5-6bc9-4b68-ebf3-32cc9f68518d"
      },
      "outputs": [
        {
          "output_type": "stream",
          "name": "stdout",
          "text": [
            "Secret Key: 22599353647577282964278189193355568377322138684067962480166634917755452150041\n",
            "Public Key: 03200b3f537075f94ece9a8bc5c04d17b6c06b4e1632d3b335e01373daa295143f\n"
          ]
        }
      ],
      "source": [
        "from bitcoinlib.keys import Key, sign, verify\n",
        "k = Key()\n",
        "sk, pk = k.secret, k.public()\n",
        "\n",
        "print(f\"Secret Key: {sk}\")\n",
        "print(f\"Public Key: {pk}\")"
      ]
    },
    {
      "cell_type": "markdown",
      "source": [
        "### Firmamos un mensaje"
      ],
      "metadata": {
        "id": "DHJSjXieWiyD"
      }
    },
    {
      "cell_type": "code",
      "source": [
        "sig = sign(b\"Hola mi nombre es Alicia\", sk)\n",
        "print(sig)"
      ],
      "metadata": {
        "colab": {
          "base_uri": "https://localhost:8080/"
        },
        "id": "r7Dcrs273VDW",
        "outputId": "b13738d5-6e50-484f-81b0-6823d7f0a188"
      },
      "execution_count": null,
      "outputs": [
        {
          "output_type": "stream",
          "name": "stdout",
          "text": [
            "304402205ba10069848486512e1518d1c4f2e44b38b83f5e3e7da2b89e966a5de745520a02205b1630550dbd72a58eceddebcc6a7f51d8c021c2b70bc9d966f8c3f4ee9732d401\n"
          ]
        }
      ]
    },
    {
      "cell_type": "markdown",
      "source": [
        "### Verificamos que ese mensaje ha sido firmado correctamente\n",
        "\n",
        "Con esta funcion verificamos que quien ha firmado es quien posee la clave secreta que corresponde a la clave public `pk`"
      ],
      "metadata": {
        "id": "7-jZAzEmWn5E"
      }
    },
    {
      "cell_type": "code",
      "source": [
        "is_valid = verify(b\"Hola mi nombre es Alicia\", sig, pk)\n",
        "print(is_valid)"
      ],
      "metadata": {
        "colab": {
          "base_uri": "https://localhost:8080/"
        },
        "id": "7Tqx9Kvc4A1P",
        "outputId": "37ef8e7b-e702-485f-94f7-2dc2e81b4617"
      },
      "execution_count": null,
      "outputs": [
        {
          "output_type": "stream",
          "name": "stdout",
          "text": [
            "True\n"
          ]
        }
      ]
    },
    {
      "cell_type": "markdown",
      "source": [
        "#### Ejercicio 1:\n",
        "\n",
        "Intercambiar dos mensajes (uno firmado correctamente y otro que no) con un compañera/o para que verifique cual de los dos esta firmado correctamente y cual no."
      ],
      "metadata": {
        "id": "LRKmgFl_5tyl"
      }
    },
    {
      "cell_type": "code",
      "source": [],
      "metadata": {
        "id": "_yTAJS_w7ig3"
      },
      "execution_count": null,
      "outputs": []
    },
    {
      "cell_type": "code",
      "source": [
        "from bitcoinlib.keys import Key, sign, verify\n",
        "k = Key()\n",
        "sk, pk = k.secret, k.public()\n",
        "\n",
        "print(f\"Secret Key: {sk}\")\n",
        "print(f\"Public Key: {pk}\")\n",
        "\n",
        "msg1 = b'Este mensaje sera el correcto'\n",
        "sig = sign(msg1, sk)\n",
        "print(sig)\n",
        "# Envio msg,sig,pk correctamente\n",
        "is_valid = verify(msg1, sig, pk)\n",
        "print(is_valid)\n",
        "\n",
        "msg2 = b'Este mensaje sera el incorrecto'\n",
        "sig = sign(msg2, sk)\n",
        "print(sig)\n",
        "msg2_modificado = b'Este mensaje sera el incorrecto.'\n",
        "# Envio el mensaje modificado\n",
        "is_valid = verify(msg2_modificado, sig, pk)\n",
        "print(is_valid)"
      ],
      "metadata": {
        "colab": {
          "base_uri": "https://localhost:8080/"
        },
        "id": "UUgw8IJS6Ngp",
        "outputId": "0845988d-f271-4842-d8dc-8bff65747229"
      },
      "execution_count": null,
      "outputs": [
        {
          "output_type": "stream",
          "name": "stdout",
          "text": [
            "Secret Key: 32141181897061305939248719836056720905338209942178190460644486087954133075399\n",
            "Public Key: 0385cbc0375b97d4958fc9262e03e24873f49ac4f2ccfa7ff0fb69d36dcb25db5f\n",
            "304402205d2c92881173e0fb95170f6301bfe173688f5147567fce1cc0549222a3a4d38d022066b9c8c101da20ba2a79ac5e49342a76afc0f87788f3f95cc6874ae931dd6e3601\n",
            "True\n",
            "3044022048fd6db6bcd1d9e55468239cf798cbaeb4fe5afae6f332878909e097062a0cb402207dd84f703fb07ce0de0cb3f79cdd01a4e1e7e2194f9be5d81d39ddfafb4410b201\n",
            "False\n"
          ]
        }
      ]
    },
    {
      "cell_type": "markdown",
      "source": [
        "Por una cuestion de performance y seguridad es mejor firmar el hash de un mensaje en vez del mensaje en si.\n",
        "\n",
        "Supongamos que tenemos un documento de 100 paginas. En vez de firmar dicho documento podemos primero utilizar una funcion criptografica de hash como por ejemplo sha256 y luego firmar el hash de dicho documento ya que como dijimos en la unidad anterior cada documento tendra su hash unico, el hash sirve como un identificador para un documento."
      ],
      "metadata": {
        "id": "Hm1RiuV96Dv0"
      }
    },
    {
      "cell_type": "markdown",
      "source": [
        "#### Ejercicio 2:\n",
        "\n",
        "Repetir el Ejercicio 1 pero esta vez firmando el hash en vez del mensaje."
      ],
      "metadata": {
        "id": "lYydsUQkQ1CC"
      }
    },
    {
      "cell_type": "code",
      "source": [],
      "metadata": {
        "id": "UvGoee4e9MAV"
      },
      "execution_count": null,
      "outputs": []
    },
    {
      "cell_type": "code",
      "source": [
        "import hashlib\n",
        "from bitcoinlib.keys import Key, sign, verify\n",
        "k = Key()\n",
        "sk, pk = k.secret, k.public()\n",
        "\n",
        "print(f\"Secret Key: {sk}\")\n",
        "print(f\"Public Key: {pk}\")\n",
        "\n",
        "msg1 = 'Este mensaje sera el correcto'\n",
        "msg_hash1 = hashlib.sha256(msg1.encode()).digest()\n",
        "sig = sign(msg_hash1, sk)\n",
        "print(sig)\n",
        "# Envio hash(msg),sig,pk correctamente\n",
        "is_valid = verify(msg_hash1, sig, pk)\n",
        "print(is_valid)\n",
        "\n",
        "msg2 = 'Este mensaje sera el incorrecto'\n",
        "msg_hash2 = hashlib.sha256(msg2.encode()).digest()\n",
        "sig = sign(msg_hash2, sk)\n",
        "print(sig)\n",
        "# Envio el hash de otro mensaje\n",
        "is_valid = verify(msg_hash1, sig, pk)\n",
        "print(is_valid)"
      ],
      "metadata": {
        "colab": {
          "base_uri": "https://localhost:8080/"
        },
        "id": "CQFajSI3SwOE",
        "outputId": "ff80ab19-29f4-4ba2-81d5-fbfe7bfc7193"
      },
      "execution_count": null,
      "outputs": [
        {
          "output_type": "stream",
          "name": "stdout",
          "text": [
            "Secret Key: 9864170368127870296833013991316029682036480546584096623318836772867260581673\n",
            "Public Key: 02b7ad02dd9f08a189165b83de3ac749b90d38c3ef3722ccd251ec529da3597bad\n",
            "3045022100ad7d28df8b4a0d61426a6a42f2b30f853b8516ab59fdd524a3023c43fd7994a402203708f8ecc561a1e068b765b9cf966850fba63b0036c14bc464277ceeb79b592301\n",
            "True\n",
            "30450221009c96d1e3d8ffa8831def5f1540d0b35af47cb37f9fb69df51e0ce286b91eb7cc022029cd9f5d362a16ddb80987f9dd1cf067d8d50f937ad6577012ca6da8bf784f7501\n",
            "False\n"
          ]
        }
      ]
    },
    {
      "cell_type": "markdown",
      "source": [
        "## Ejercicio extra:\n",
        "\n",
        "### Utilizar la funcion de firma digital para subir fotografias a instagram u otra plataforma y que nuestros seguidores puedan confirmar que son nuestras y no subidas por un hacker.\n",
        "\n",
        "### Pensar posibles soluciones y problemas. Discutir en clase."
      ],
      "metadata": {
        "id": "wRcUlSBHZ_dG"
      }
    }
  ]
}