{
 "cells": [
  {
   "cell_type": "markdown",
   "metadata": {
    "id": "4jS7e0uc_Dzj"
   },
   "source": [
    "# Funciones de Firma Digital\n",
    "\n",
    "¿Cómo funciona la firma digital?\n",
    "\n",
    "Consta de tres funciones:\n",
    "1. Una funcion `generate_keys()` para generar un par de claves, una secreta y una publica\n",
    "2. Una funcion `sign(message, secret_key)` para generar la firma de un mensaje\n",
    "3. Una funcion `verify(message, signature, public_key)` para saber si un mensaje ha sido firmado por quien dice firmarlo.\n",
    "\n",
    "*Nota: la clave publica, la clave secreta y la firma son numeros que pueden ser expresados en distantas bases: decimal, hexadecimal, base64, etc.*\n",
    "```\n",
    "secret_key, public_key = generate_keys()\n",
    "signature = sign(message, secret_key)\n",
    "is_valid = verify(message, signature, public_key)\n",
    "```\n",
    "\n",
    "Que funcion de firma digital utiliza Bitcoin?\n",
    "\n",
    "Bitcoin utiliza criptografía de curva elíptica para generar las claves:\n",
    "- https://en.wikipedia.org/wiki/Elliptic-curve_cryptography\n",
    "\n",
    "Propiedades de las firmas digitales:\n",
    "- Las firmas verdaderas se pueden verificar:\n",
    "`verify(message, signature, public_key) == True`\n",
    "- Nadie puede falsificar una firma:\n",
    "alguien que puede ver `pk` y todos los mensajes firmados que quiera no puede falsificar esa firma en un mensaje nuevo\n"
   ]
  },
  {
   "cell_type": "markdown",
   "metadata": {
    "id": "G5eTArJY2lSs"
   },
   "source": [
    "## Veamos como funciona una implementacion en python de la firma digital\n",
    "\n",
    "Instalamos bitcoinlib:\n",
    "- [pip install](https://pypi.org/project/bitcoinlib/)\n",
    "- [documentacion](https://bitcoinlib.readthedocs.io/en/latest/)\n",
    "- [github repo](https://github.com/1200wd/bitcoinlib)"
   ]
  },
  {
   "cell_type": "code",
   "execution_count": null,
   "metadata": {
    "colab": {
     "base_uri": "https://localhost:8080/"
    },
    "id": "37w160bm8u7b",
    "outputId": "42546626-ec0d-4b01-b5b9-35927f770a30"
   },
   "outputs": [],
   "source": [
    "!sudo apt install -qq build-essential python3-dev libgmp3-dev > /dev/null\n",
    "!pip install bitcoinlib -U -q"
   ]
  },
  {
   "cell_type": "markdown",
   "metadata": {
    "id": "w2n4wt0XWeju"
   },
   "source": [
    "### Generamos el par de claves: secreta y publica\n",
    "\n",
    "Este par de claves es unico."
   ]
  },
  {
   "cell_type": "code",
   "execution_count": null,
   "metadata": {
    "colab": {
     "base_uri": "https://localhost:8080/"
    },
    "id": "Mq9uYB1n-d1k",
    "outputId": "f9c90df5-6bc9-4b68-ebf3-32cc9f68518d"
   },
   "outputs": [],
   "source": [
    "from bitcoinlib.keys import Key, sign, verify\n",
    "k = Key()\n",
    "sk, pk = k.secret, k.public()\n",
    "\n",
    "print(f\"Secret Key: {sk}\")\n",
    "print(f\"Public Key: {pk}\")"
   ]
  },
  {
   "cell_type": "markdown",
   "metadata": {
    "id": "DHJSjXieWiyD"
   },
   "source": [
    "### Firmamos un mensaje"
   ]
  },
  {
   "cell_type": "code",
   "execution_count": null,
   "metadata": {
    "colab": {
     "base_uri": "https://localhost:8080/"
    },
    "id": "r7Dcrs273VDW",
    "outputId": "b13738d5-6e50-484f-81b0-6823d7f0a188"
   },
   "outputs": [],
   "source": [
    "sig = sign(b\"Hola mi nombre es Alicia\", sk)\n",
    "print(sig)"
   ]
  },
  {
   "cell_type": "markdown",
   "metadata": {
    "id": "7-jZAzEmWn5E"
   },
   "source": [
    "### Verificamos que ese mensaje ha sido firmado correctamente\n",
    "\n",
    "Con esta funcion verificamos que quien ha firmado es quien posee la clave secreta que corresponde a la clave public `pk`"
   ]
  },
  {
   "cell_type": "code",
   "execution_count": null,
   "metadata": {
    "colab": {
     "base_uri": "https://localhost:8080/"
    },
    "id": "7Tqx9Kvc4A1P",
    "outputId": "37ef8e7b-e702-485f-94f7-2dc2e81b4617"
   },
   "outputs": [],
   "source": [
    "is_valid = verify(b\"Hola mi nombre es Alicia\", sig, pk)\n",
    "print(is_valid)"
   ]
  },
  {
   "cell_type": "markdown",
   "metadata": {
    "id": "LRKmgFl_5tyl"
   },
   "source": [
    "#### Ejercicio 1:\n",
    "\n",
    "Intercambiar dos mensajes (uno firmado correctamente y otro que no) con un compañera/o para que verifique cual de los dos esta firmado correctamente y cual no."
   ]
  },
  {
   "cell_type": "code",
   "execution_count": null,
   "metadata": {
    "id": "_yTAJS_w7ig3"
   },
   "outputs": [],
   "source": []
  },
  {
   "cell_type": "code",
   "execution_count": null,
   "metadata": {
    "colab": {
     "base_uri": "https://localhost:8080/"
    },
    "id": "UUgw8IJS6Ngp",
    "outputId": "0845988d-f271-4842-d8dc-8bff65747229"
   },
   "outputs": [],
   "source": [
    "from bitcoinlib.keys import Key, sign, verify\n",
    "k = Key()\n",
    "sk, pk = k.secret, k.public()\n",
    "\n",
    "print(f\"Secret Key: {sk}\")\n",
    "print(f\"Public Key: {pk}\")\n",
    "\n",
    "msg1 = b'Este mensaje sera el correcto'\n",
    "sig = sign(msg1, sk)\n",
    "print(sig)\n",
    "# Envio msg,sig,pk correctamente\n",
    "is_valid = verify(msg1, sig, pk)\n",
    "print(is_valid)\n",
    "\n",
    "msg2 = b'Este mensaje sera el incorrecto'\n",
    "sig = sign(msg2, sk)\n",
    "print(sig)\n",
    "msg2_modificado = b'Este mensaje sera el incorrecto.'\n",
    "# Envio el mensaje modificado\n",
    "is_valid = verify(msg2_modificado, sig, pk)\n",
    "print(is_valid)"
   ]
  },
  {
   "cell_type": "markdown",
   "metadata": {
    "id": "Hm1RiuV96Dv0"
   },
   "source": [
    "Por una cuestion de performance y seguridad es mejor firmar el hash de un mensaje en vez del mensaje en si.\n",
    "\n",
    "Supongamos que tenemos un documento de 100 paginas. En vez de firmar dicho documento podemos primero utilizar una funcion criptografica de hash como por ejemplo sha256 y luego firmar el hash de dicho documento ya que como dijimos en la unidad anterior cada documento tendra su hash unico, el hash sirve como un identificador para un documento."
   ]
  },
  {
   "cell_type": "markdown",
   "metadata": {
    "id": "lYydsUQkQ1CC"
   },
   "source": [
    "#### Ejercicio 2:\n",
    "\n",
    "Repetir el Ejercicio 1 pero esta vez firmando el hash en vez del mensaje."
   ]
  },
  {
   "cell_type": "code",
   "execution_count": null,
   "metadata": {
    "id": "UvGoee4e9MAV"
   },
   "outputs": [],
   "source": []
  },
  {
   "cell_type": "code",
   "execution_count": null,
   "metadata": {
    "colab": {
     "base_uri": "https://localhost:8080/"
    },
    "id": "CQFajSI3SwOE",
    "outputId": "ff80ab19-29f4-4ba2-81d5-fbfe7bfc7193"
   },
   "outputs": [],
   "source": [
    "import hashlib\n",
    "from bitcoinlib.keys import Key, sign, verify\n",
    "k = Key()\n",
    "sk, pk = k.secret, k.public()\n",
    "\n",
    "print(f\"Secret Key: {sk}\")\n",
    "print(f\"Public Key: {pk}\")\n",
    "\n",
    "msg1 = 'Este mensaje sera el correcto'\n",
    "msg_hash1 = hashlib.sha256(msg1.encode()).digest()\n",
    "sig = sign(msg_hash1, sk)\n",
    "print(sig)\n",
    "# Envio hash(msg),sig,pk correctamente\n",
    "is_valid = verify(msg_hash1, sig, pk)\n",
    "print(is_valid)\n",
    "\n",
    "msg2 = 'Este mensaje sera el incorrecto'\n",
    "msg_hash2 = hashlib.sha256(msg2.encode()).digest()\n",
    "sig = sign(msg_hash2, sk)\n",
    "print(sig)\n",
    "# Envio el hash de otro mensaje\n",
    "is_valid = verify(msg_hash1, sig, pk)\n",
    "print(is_valid)"
   ]
  },
  {
   "cell_type": "markdown",
   "metadata": {
    "id": "wRcUlSBHZ_dG"
   },
   "source": [
    "## Ejercicio extra:\n",
    "\n",
    "### Utilizar la funcion de firma digital para subir fotografias a instagram u otra plataforma y que nuestros seguidores puedan confirmar que son nuestras y no subidas por un hacker.\n",
    "\n",
    "### Pensar posibles soluciones y problemas. Discutir en clase."
   ]
  }
 ],
 "metadata": {
  "colab": {
   "provenance": []
  },
  "kernelspec": {
   "display_name": "Python 3 (ipykernel)",
   "language": "python",
   "name": "python3"
  },
  "language_info": {
   "codemirror_mode": {
    "name": "ipython",
    "version": 3
   },
   "file_extension": ".py",
   "mimetype": "text/x-python",
   "name": "python",
   "nbconvert_exporter": "python",
   "pygments_lexer": "ipython3",
   "version": "3.12.4"
  }
 },
 "nbformat": 4,
 "nbformat_minor": 4
}
