{
 "cells": [
  {
   "cell_type": "markdown",
   "metadata": {
    "id": "JI07iq0W_ZJA"
   },
   "source": [
    "# Funciones Hash Criptograficas"
   ]
  },
  {
   "cell_type": "markdown",
   "metadata": {
    "id": "gZNmF2kS_c7E"
   },
   "source": [
    "## Funcion Hash\n",
    "\n",
    "Es una unción que toma como entrada un string de largo variable y devuelve como salida un string de largo fijo.\n",
    "\n",
    "*Nota: podemos reemplazar string por secuencia de bytes o bits en la definicion para hacerla mas generica.*\n",
    "\n",
    "Para que una funcion hash sea util debe ser fácil de calcular por un ordenador, es decir, no debe tomar mucho tiempo poder calcular su salida.\n",
    "\n",
    "A continuacion un ejemplo de funcion hash que recibe un string"
   ]
  },
  {
   "cell_type": "code",
   "execution_count": null,
   "metadata": {
    "colab": {
     "base_uri": "https://localhost:8080/"
    },
    "id": "xJgRX-WRA3vi",
    "outputId": "47c887bf-eb98-4eb5-b822-e536ec6a6531"
   },
   "outputs": [],
   "source": [
    "def naive_hash(s):\n",
    "    \"\"\"\n",
    "    Suma los valores ASCII de cada caracter y toma el modulo.\n",
    "\n",
    "    :param str s: La string a ser hasheada\n",
    "    :return: El hash en hexadecimal con 4 caracteres\n",
    "    :rtype: string\n",
    "    \"\"\"\n",
    "    mod = 10000\n",
    "    hash = sum(ord(char) for char in s) % mod\n",
    "    return f'{hash:04x}'\n",
    "\n",
    "# Ejemplos\n",
    "inputs = [\"Hola\", \"hola\", \"olah\", \"Hola!\", \"Hola Mundo\", \"Holaaaaa\", \"Chau\"]\n",
    "hashes = {s: naive_hash(s) for s in inputs}\n",
    "\n",
    "hashes\n"
   ]
  },
  {
   "cell_type": "markdown",
   "metadata": {
    "id": "SVk5AL0wA1JW"
   },
   "source": [
    "\n",
    "## Funcion hash criptografica\n",
    "\n",
    "Para que la funcion hash sea criptografica debe cumplir las siguiente propiedades de seguridad:\n",
    "- **Pre-image resistance**\n",
    "- **Second pre-image resistance**\n",
    "- **Collision resistance**\n",
    "\n",
    "Una funcion que cumple estas propiedades es por ejemplo [SHA256](https://emn178.github.io/online-tools/sha256.html) que es la utilizada en bitcoin."
   ]
  },
  {
   "cell_type": "markdown",
   "metadata": {
    "id": "0OLEuxPHvxOx"
   },
   "source": [
    "### Pre-image resistance\n",
    "\n",
    "**Dado:** `hash(m1)`\n",
    "\n",
    "**Es dificil de encontrar:** `m2` tal que  `hash(m2) == hash(m1)`"
   ]
  },
  {
   "cell_type": "markdown",
   "metadata": {
    "id": "3KpEcut5EOKw"
   },
   "source": [
    "#### Ejercicio 1a:\n",
    "\n",
    "Dado: `naive_hash(m1) == 049e`\n",
    "\n",
    "Mostrar que la funcion creada anteriormente `naive_hash()` no cumple con la condicion pre-image resistance"
   ]
  },
  {
   "cell_type": "code",
   "execution_count": null,
   "metadata": {
    "id": "YAsiWSHiT46k"
   },
   "outputs": [],
   "source": []
  },
  {
   "cell_type": "code",
   "execution_count": null,
   "metadata": {
    "colab": {
     "base_uri": "https://localhost:8080/"
    },
    "id": "3q96YcE8DQs9",
    "outputId": "c163e550-5bf7-4ffd-d55c-eefe4657ed39"
   },
   "outputs": [],
   "source": [
    "#@title Solucion Ejercicio 1a {display-mode:\"form\"}\n",
    "\n",
    "#naive_hash(\"helicoptero\") == '049e'\n",
    "decimal = int('049e', 16)\n",
    "print(decimal)\n",
    "# 'd' == 100 y 'R' == 82\n",
    "m2 = 'd' * 11 + 'R'\n",
    "print(naive_hash(m2))"
   ]
  },
  {
   "cell_type": "markdown",
   "metadata": {
    "id": "ZteKq1CHFVRN"
   },
   "source": [
    "#### Ejercicio 1b:\n",
    "\n",
    "Encontrar palabras en castellano que colisionen con el Hash `049e` de la funcion `naive_hash()`\n",
    "\n",
    "Ayuda: https://github.com/webpwnized/byepass/blob/master/dictionaries/top-10000-spanish-words.txt"
   ]
  },
  {
   "cell_type": "code",
   "execution_count": null,
   "metadata": {
    "id": "pbKgZ9JRFkqk"
   },
   "outputs": [],
   "source": []
  },
  {
   "cell_type": "markdown",
   "metadata": {
    "id": "mBvc_IvgwCI2"
   },
   "source": [
    "### Second pre-image resistance\n",
    "\n",
    "**Dado:** `m1`\n",
    "\n",
    "**Es dificil encontrar:** `m2` donde `m1 != m2` tal que `hash(m1) = hash(m2)`"
   ]
  },
  {
   "cell_type": "markdown",
   "metadata": {
    "id": "N7olQzdnPOao"
   },
   "source": [
    "#### Ejercicio 2:\n",
    "\n",
    "Dado: `m1='Hola'`\n",
    "\n",
    "Mostrar que la funcion creada anteriormente `naive_hash()` no cumple con la condicion Second pre-image resistance"
   ]
  },
  {
   "cell_type": "code",
   "execution_count": null,
   "metadata": {
    "id": "KKWVfw8NWOD2"
   },
   "outputs": [],
   "source": []
  },
  {
   "cell_type": "code",
   "execution_count": null,
   "metadata": {
    "colab": {
     "base_uri": "https://localhost:8080/"
    },
    "id": "vHnb-BA3PNfH",
    "outputId": "7e0ff67f-c7bc-4a8b-b6d8-4d58b3467a90"
   },
   "outputs": [],
   "source": [
    "#@title Solucion Ejercicio 2 {display-mode:\"form\"}\n",
    "\n",
    "print(\"Hola\", \"=\", naive_hash(\"Hola\"))\n",
    "print(\"olaH\", \"=\", naive_hash(\"olaH\"))\n",
    "print(\"aloH\", \"=\", naive_hash(\"aloH\"))\n",
    "print(\"Halo\", \"=\", naive_hash(\"aloH\"))"
   ]
  },
  {
   "cell_type": "markdown",
   "metadata": {
    "id": "94WwQg-FO2aw"
   },
   "source": [
    "### Collision resistance\n",
    "\n",
    "**Es dificil encontrar:** `m1` y `m2` donde `m1 != m2` tal que `hash(m1) = hash(m2)`"
   ]
  },
  {
   "cell_type": "code",
   "execution_count": null,
   "metadata": {
    "id": "FeDxeqkM_DWf"
   },
   "outputs": [],
   "source": []
  },
  {
   "cell_type": "markdown",
   "metadata": {
    "id": "i4Z8sjYLVjmc"
   },
   "source": [
    "#### Ejercicio:\n",
    "\n",
    "Utilizar la libreria [hashlib](https://docs.python.org/3/library/hashlib.html) para crear el hash de tu nombre utilizando la funcion sha256.\n",
    "\n",
    "El resultado del hash sera en bytes utiliza distintas codificaciones para mostrarlo. Por ejemplo hexadecimal, base16, base32 y base64."
   ]
  },
  {
   "cell_type": "code",
   "execution_count": null,
   "metadata": {
    "id": "umyPa3_r6r5X"
   },
   "outputs": [],
   "source": []
  },
  {
   "cell_type": "code",
   "execution_count": null,
   "metadata": {
    "colab": {
     "base_uri": "https://localhost:8080/"
    },
    "id": "ywvWOg-dVuRp",
    "outputId": "ecf3384e-e368-42ff-8d39-8c2e49fd8df8"
   },
   "outputs": [],
   "source": [
    "import hashlib\n",
    "x = hashlib.sha256(b\"Alicia\")\n",
    "print(f'{\"Hash en bytes:\":<21}{x.digest()}')\n",
    "print(f'{\"Hash en hexadecimal:\":<21}{x.hexdigest()}')\n",
    "import base64\n",
    "print(f'{\"Hash en base16:\":<21}{base64.b16encode(x.digest())}')\n",
    "print(f'{\"Hash en base32:\":<21}{base64.b32encode(x.digest())}')\n",
    "print(f'{\"Hash en base64:\":<21}{base64.b64encode(x.digest())}')"
   ]
  },
  {
   "cell_type": "markdown",
   "metadata": {
    "id": "ojCMe6Fr_EA-"
   },
   "source": [
    "## Uso de estas propiedades en Bitcoin\n",
    "\n",
    "Las funciones hash son muy utilizadas en las cadenas de bloques (blockchains) como Bitcoin y otras similares.\n",
    "\n",
    "Para que se utilizan?\n",
    "- Relacionar cada bloque de la blockchain con el siguiente bloque\n",
    "- Para el puzzle del proof of work\n",
    "- Para la estructura de merkle tree de las transacciones\n",
    "\n",
    "El las siguientes unidades veremos estos puntos en detalle."
   ]
  },
  {
   "cell_type": "markdown",
   "metadata": {
    "id": "afSrgzy98Skp"
   },
   "source": [
    "#### Ejercicio E1:\n",
    "\n",
    "- Supongamos que tenemos un dado de seis lados y queremos hashear su resultado.\n",
    "- Tenemos 6 hashes, uno para cada cara del dado. m puede ser: `[\"uno\",\"dos\",\"tres\",\"cuatro\",\"cinco\",\"seis\"]`\n",
    "- Utilizo `naive_hash(s)`\n",
    "\n",
    "Si sabemos que el resultado de una tirada del dado es 028e, adivinar que cara del dado salió"
   ]
  },
  {
   "cell_type": "code",
   "execution_count": null,
   "metadata": {
    "id": "TKCLzT6NaBz7"
   },
   "outputs": [],
   "source": []
  },
  {
   "cell_type": "code",
   "execution_count": null,
   "metadata": {
    "colab": {
     "base_uri": "https://localhost:8080/"
    },
    "id": "OOAHEBJy8aMw",
    "outputId": "cef18526-91a7-4878-d5b4-407e3b9d4578"
   },
   "outputs": [],
   "source": [
    "#@title Solucion Ejercicio E1 {display-mode:\"form\"}\n",
    "\n",
    "for item in [\"uno\",\"dos\",\"tres\",\"cuatro\",\"cinco\",\"seis\"]:\n",
    "  print(item,\"=\", naive_hash(item))"
   ]
  },
  {
   "cell_type": "markdown",
   "metadata": {
    "id": "852zR1S25RBl"
   },
   "source": [
    "#### Ejercicio E2:\n",
    "\n",
    "- Supongamos que tenemos un dado de seis lados y queremos hashear su resultado.\n",
    "- Tenemos 6 hashes, uno para cada cara del dado. m puede ser: `[\"uno\",\"dos\",\"tres\",\"cuatro\",\"cinco\",\"seis\"]`\n",
    "- Tenemos un [secreto r](https://en.wikipedia.org/wiki/Salt_(cryptography)) de 3 letras minusculas (`'abcdefghijklmnopqrstuvwxyz'`)\n",
    "- Utilizo `naive_hash(s+r)` donde s+r es s concatenado con r\n",
    "\n",
    "Si sabemos que el resultado de una tirada del dado es 0377, adivinar que cara del dado salió"
   ]
  },
  {
   "cell_type": "code",
   "execution_count": null,
   "metadata": {
    "id": "QtZp3-iEZaKN"
   },
   "outputs": [],
   "source": []
  },
  {
   "cell_type": "code",
   "execution_count": null,
   "metadata": {
    "colab": {
     "base_uri": "https://localhost:8080/"
    },
    "id": "GAGCnyNX5dwb",
    "outputId": "3154c2a1-0692-46d8-9213-c58e9d8ff02b"
   },
   "outputs": [],
   "source": [
    "#@title Solucion Ejercicio E2 {display-mode:\"form\"}\n",
    "\n",
    "ascii_lowercase = 'abcdefghijklmnopqrstuvwxyz'\n",
    "for item in [\"uno\",\"dos\",\"tres\",\"cuatro\",\"cinco\",\"seis\"]:\n",
    "  for l1 in ascii_lowercase:\n",
    "    for l2 in ascii_lowercase:\n",
    "      for l3 in ascii_lowercase:\n",
    "        salt = l1 + l2 + l3\n",
    "        tmp = item + salt\n",
    "        h = naive_hash(tmp)\n",
    "        if h == \"0377\":\n",
    "            print(item, salt,\"=\", h)"
   ]
  },
  {
   "cell_type": "markdown",
   "metadata": {
    "id": "ktaxOXD7kQ73"
   },
   "source": [
    "#### Ejercicio E3:\n",
    "\n",
    "Usar la función hash SHA256 para crear una url única para una página web [Ayuda](https://developers.cloudflare.com/web3/ipfs-gateway/concepts/ipfs/#:~:text=Every%20file%20added%20to%20IPFS,used%20into%20a%20single%20string.)"
   ]
  },
  {
   "cell_type": "code",
   "execution_count": null,
   "metadata": {
    "id": "kbZ8mQGE7Srp"
   },
   "outputs": [],
   "source": []
  },
  {
   "cell_type": "code",
   "execution_count": null,
   "metadata": {
    "colab": {
     "base_uri": "https://localhost:8080/"
    },
    "id": "iaFV4NYvS8xM",
    "outputId": "dfeb8281-0ab9-4c26-838b-4e10b3990a65"
   },
   "outputs": [],
   "source": [
    "import hashlib\n",
    "import requests\n",
    "r = requests.get('https://www.freecodingtour.com/links.html')\n",
    "x = hashlib.sha256(r.content)\n",
    "print(x.digest())\n",
    "print(x.hexdigest())"
   ]
  },
  {
   "cell_type": "markdown",
   "metadata": {
    "id": "5TrDU9TI7TQR"
   },
   "source": [
    "#### Ejercicio E4:\n",
    "\n",
    "Utilizar un secreto (salt) para cifrar la respuesta a un puzzle, publicar nuestra prediccion hasheada en algun lugar publico (twitter) y luego los ganadores revelar su prediccion y secreto para comprobar quien gano."
   ]
  },
  {
   "cell_type": "code",
   "execution_count": null,
   "metadata": {
    "id": "vGoYYTmf7T9u"
   },
   "outputs": [],
   "source": []
  },
  {
   "cell_type": "code",
   "execution_count": null,
   "metadata": {
    "id": "45aaeenE7T07"
   },
   "outputs": [],
   "source": []
  },
  {
   "cell_type": "markdown",
   "metadata": {
    "id": "mLWExnXTCmTw"
   },
   "source": [
    "## Como crear funciones hash?\n",
    "\n",
    "La respuesta a esta pregunta sobrepasa el alcance de este curso, pero aqui dejamos algunos links de interes:\n",
    "\n",
    "- https://ocw.mit.edu/courses/6-046j-design-and-analysis-of-algorithms-spring-2015/resources/lecture-21-cryptography-hash-functions/\n",
    "- https://iacr.org/archive/fse2004/30170373/30170373.pdf\n",
    "- https://en.wikipedia.org/w/index.php?title=SHA-1&oldid=1161401043#Example_hashes\n",
    "- https://en.wikipedia.org/wiki/MD5#Pseudocode\n",
    "\n",
    "### Si tuviesemos un ordenador cuantico podriamos encontrar colisiones mas rapido?\n",
    "\n",
    "No mucho debido a que las funciones hash no son estructuradas:\n",
    "- https://crypto.stackexchange.com/questions/44386/are-cryptographic-hash-functions-quantum-secure"
   ]
  }
 ],
 "metadata": {
  "colab": {
   "provenance": []
  },
  "kernelspec": {
   "display_name": "Python 3 (ipykernel)",
   "language": "python",
   "name": "python3"
  },
  "language_info": {
   "codemirror_mode": {
    "name": "ipython",
    "version": 3
   },
   "file_extension": ".py",
   "mimetype": "text/x-python",
   "name": "python",
   "nbconvert_exporter": "python",
   "pygments_lexer": "ipython3",
   "version": "3.9.18"
  }
 },
 "nbformat": 4,
 "nbformat_minor": 4
}
