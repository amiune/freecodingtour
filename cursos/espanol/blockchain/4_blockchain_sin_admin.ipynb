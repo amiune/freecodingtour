{
 "cells": [
  {
   "cell_type": "markdown",
   "metadata": {
    "id": "NAfxJr_VakQR"
   },
   "source": [
    "# Blockchain sin Admin\n",
    "\n",
    "En la unidad anterior implementamos una blockchain completamente funcional cuyo funcionamiento esta basado en dos funciones criptograficas que nos permiten de forma segura y verificable saber que toda la informacion que esta alli es confiable y no ha sido modificada. Esto siempre que confiemos en el Administrador."
   ]
  },
  {
   "cell_type": "markdown",
   "metadata": {
    "id": "3_i-kRRTdbyS"
   },
   "source": [
    "## Como hacer que esta tecnologia a que funcione sin Administrador?\n",
    "\n",
    "Para que esta tecnologia funcione sin Admin, es decir, de forma descentralizada, debemos permitir que cualquier persona pueda crear bloques en la blockchain y que el resto de los participantes los acepte. Esto es realmente un reto mayusculo y para ello no van a alcanzar las funciones criptograficas. Tenemos que idear un protocolo que todos los participantes acepten y darle incentivos a los participantes para que no intenten actuar en contra del sistema.\n",
    "\n",
    "Como vemos aqui termina la seguridad matematica y criptografica y pasamos al terreno de la economia y el comportamiento social marcado por incentivos y protocolos."
   ]
  },
  {
   "cell_type": "markdown",
   "metadata": {
    "id": "cBhCC7xNcgql"
   },
   "source": [
    "## El protocolo: Una loteria\n",
    "\n",
    "El protocolo consiste en una loteria. Elegiremos a quien va a escribir el proximo bloque de la blockchain por sorteo. Pero sera un sorteo muy especial ya que recordemos que no hay administrador por lo tanto no podemos confiar en que nadie saque la bolilla ganadora.\n",
    "\n",
    "**Entonces como elegimos al ganador del sorteo?**\n",
    "\n",
    "Utilizaremos una vez mas las funciones hash para lograr esto.\n",
    "\n",
    "Esta forma de elegir al ganador del sorteo se conoce como **Proof of Work**"
   ]
  },
  {
   "cell_type": "code",
   "execution_count": null,
   "metadata": {
    "id": "dHrSaQgC-wwP"
   },
   "outputs": [],
   "source": []
  },
  {
   "cell_type": "markdown",
   "metadata": {
    "id": "gsiG2flU-1zw"
   },
   "source": [
    "#### Ejercicio: Encontrar el NONCE\n",
    "\n",
    "Encontrar un NONCE que puesto antes del texto \"Alicia -> Bob 15 euros\" de un hash de sha256 que comience con 8 ceros\n",
    "\n",
    "**Ejemplo:** uno que comienza con 5 ceros\n",
    "```\n",
    "695703Alicia -> Bob 15 euros\n",
    "Hash hex: 00000171f062f8751089a0c77817e7a6b21fa9579e3dd03c519d558e1804757b\n",
    "```\n",
    "\n",
    "Como respuesta enviar el nonce y el código utilizado para encontrar dicho nonce.\n"
   ]
  },
  {
   "cell_type": "code",
   "execution_count": null,
   "metadata": {
    "id": "jxYdJiL4-198"
   },
   "outputs": [],
   "source": [
    "import time\n",
    "import hashlib\n",
    "def find_nonce(data, zeros=\"0000000\"):\n",
    "  start = time.time()\n",
    "  for i in range(40000000000):\n",
    "      if i % 60000000 == 0:\n",
    "          print(\"Step:\" + str(i))\n",
    "          print(\"Time elapsed: \" + str(time.time() - start))\n",
    "      tmp = str(i) + data\n",
    "      x = hashlib.sha256(tmp.encode('UTF-8')).hexdigest()\n",
    "      if x[0:len(zeros)] == zeros:\n",
    "          print(x)\n",
    "          print(i)\n",
    "          break\n",
    "  end = time.time()\n",
    "  print(end - start)"
   ]
  },
  {
   "cell_type": "code",
   "execution_count": null,
   "metadata": {
    "id": "jb-5RwdV-9rk"
   },
   "outputs": [],
   "source": [
    "data = \"Alicia -> Bob 15 euros\"\n",
    "find_nonce(data, \"00000\")"
   ]
  },
  {
   "cell_type": "markdown",
   "metadata": {
    "id": "YwjDWmdjeEMM"
   },
   "source": [
    "## Incentivos\n",
    "\n",
    "Los incentivos para que participen en el sorteo tratando de encontrar el numero ganador esta dado por el protocolo que dice que el que encuentre el numero ganador podra:\n",
    "\n",
    "1. Crear X monedas para si mismo.\n",
    "2. Se quedara con todas las comisiones de cada transaccion de ese bloque. (Los participantes que que hacen transacciones pueden dejar o no comisiones para el que gane el sorteo)\n",
    "\n",
    "Cuando el ganador escriba el nuevo bloque creara sus propias monedas y se enviara las comisiones de las transacciones a si mismo.\n",
    "\n",
    "Seguramente aqui surgen varias preguntas:\n",
    "\n",
    "1. Por que el que gana el sorteo no crea todas las monedas que quiere y no solamente X como dice el protocolo?\n",
    "  - Porque el resto de los participantes no se lo aceptaria y si el resto de los participantes no lo acepta el bloque no es considerado valido.\n",
    "  \n",
    "2. Por que los participantes que hacen transacciones dejarian comisiones para el ganador del sorteo?\n",
    "  - Porque a nivel mundial habra miles de transacciones y todos querran que sus transacciones se confirmen lo antes posible y como hay un limite de transacciones que se pueden escribir por bloque entonces el ganador del sorteo va a elegir escribir primero las que le den mas comision\n"
   ]
  },
  {
   "cell_type": "markdown",
   "metadata": {
    "id": "0rRad_gxgDRl"
   },
   "source": [
    "## Ejercicio seleccionar las 3 transacciones con mas comision"
   ]
  },
  {
   "cell_type": "code",
   "execution_count": null,
   "metadata": {
    "id": "xfqpXb2FgCmM"
   },
   "outputs": [],
   "source": []
  },
  {
   "cell_type": "markdown",
   "metadata": {
    "id": "YJvDfbl7gKIU"
   },
   "source": [
    "## Que pasa si hay mas de un ganador del sorteo?\n",
    "\n",
    "Va a predominar el que sea mas aceptado por la mayoria de los participantes de la red."
   ]
  },
  {
   "cell_type": "markdown",
   "metadata": {
    "id": "7chDz8sUbZa-"
   },
   "source": [
    "### Ejercicio:\n",
    "\n",
    "Simular los distintos escenarios de forks:\n",
    "\n",
    "- https://ocw.mit.edu/courses/mas-s62-cryptocurrency-engineering-and-design-spring-2018/resources/mas-s62s18-lec10/"
   ]
  }
 ],
 "metadata": {
  "colab": {
   "authorship_tag": "ABX9TyOUuguFYPt+Aq12auu+nQ/X",
   "provenance": []
  },
  "kernelspec": {
   "display_name": "Python 3 (ipykernel)",
   "language": "python",
   "name": "python3"
  },
  "language_info": {
   "codemirror_mode": {
    "name": "ipython",
    "version": 3
   },
   "file_extension": ".py",
   "mimetype": "text/x-python",
   "name": "python",
   "nbconvert_exporter": "python",
   "pygments_lexer": "ipython3",
   "version": "3.12.4"
  }
 },
 "nbformat": 4,
 "nbformat_minor": 4
}
