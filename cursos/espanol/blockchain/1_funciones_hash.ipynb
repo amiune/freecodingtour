{
  "nbformat": 4,
  "nbformat_minor": 0,
  "metadata": {
    "colab": {
      "provenance": []
    },
    "kernelspec": {
      "name": "python3",
      "display_name": "Python 3"
    },
    "language_info": {
      "name": "python"
    }
  },
  "cells": [
    {
      "cell_type": "markdown",
      "source": [
        "# Funciones Hash Criptograficas"
      ],
      "metadata": {
        "id": "JI07iq0W_ZJA"
      }
    },
    {
      "cell_type": "markdown",
      "source": [
        "## Funcion Hash\n",
        "\n",
        "Es una unción que toma como entrada un string de largo variable y devuelve como salida un string de largo fijo.\n",
        "\n",
        "*Nota: podemos reemplazar string por secuencia de bytes o bits en la definicion para hacerla mas generica.*\n",
        "\n",
        "Para que una funcion hash sea util debe ser fácil de calcular por un ordenador, es decir, no debe tomar mucho tiempo poder calcular su salida.\n",
        "\n",
        "A continuacion un ejemplo de funcion hash que recibe un string"
      ],
      "metadata": {
        "id": "gZNmF2kS_c7E"
      }
    },
    {
      "cell_type": "code",
      "source": [
        "def naive_hash(s):\n",
        "    \"\"\"\n",
        "    Suma los valores ASCII de cada caracter y toma el modulo.\n",
        "\n",
        "    :param str s: La string a ser hasheada\n",
        "    :return: El hash en hexadecimal con 4 caracteres\n",
        "    :rtype: string\n",
        "    \"\"\"\n",
        "    mod = 10000\n",
        "    hash = sum(ord(char) for char in s) % mod\n",
        "    return f'{hash:04x}'\n",
        "\n",
        "# Ejemplos\n",
        "inputs = [\"Hola\", \"hola\", \"olah\", \"Hola!\", \"Hola Mundo\", \"Holaaaaa\", \"Chau\"]\n",
        "hashes = {s: naive_hash(s) for s in inputs}\n",
        "\n",
        "hashes\n"
      ],
      "metadata": {
        "colab": {
          "base_uri": "https://localhost:8080/"
        },
        "id": "xJgRX-WRA3vi",
        "outputId": "47c887bf-eb98-4eb5-b822-e536ec6a6531"
      },
      "execution_count": null,
      "outputs": [
        {
          "output_type": "execute_result",
          "data": {
            "text/plain": [
              "{'Hola': '0184',\n",
              " 'hola': '01a4',\n",
              " 'olah': '01a4',\n",
              " 'Hola!': '01a5',\n",
              " 'Hola Mundo': '03a7',\n",
              " 'Holaaaaa': '0308',\n",
              " 'Chau': '0181'}"
            ]
          },
          "metadata": {},
          "execution_count": 11
        }
      ]
    },
    {
      "cell_type": "markdown",
      "source": [
        "\n",
        "## Funcion hash criptografica\n",
        "\n",
        "Para que la funcion hash sea criptografica debe cumplir las siguiente propiedades de seguridad:\n",
        "- **Pre-image resistance**\n",
        "- **Second pre-image resistance**\n",
        "- **Collision resistance**\n",
        "\n",
        "Una funcion que cumple estas propiedades es por ejemplo [SHA256](https://emn178.github.io/online-tools/sha256.html) que es la utilizada en bitcoin."
      ],
      "metadata": {
        "id": "SVk5AL0wA1JW"
      }
    },
    {
      "cell_type": "markdown",
      "source": [
        "### Pre-image resistance\n",
        "\n",
        "**Dado:** `hash(m1)`\n",
        "\n",
        "**Es dificil de encontrar:** `m2` tal que  `hash(m2) == hash(m1)`"
      ],
      "metadata": {
        "id": "0OLEuxPHvxOx"
      }
    },
    {
      "cell_type": "markdown",
      "source": [
        "#### Ejercicio 1a:\n",
        "\n",
        "Dado: `naive_hash(m1) == 049e`\n",
        "\n",
        "Mostrar que la funcion creada anteriormente `naive_hash()` no cumple con la condicion pre-image resistance"
      ],
      "metadata": {
        "id": "3KpEcut5EOKw"
      }
    },
    {
      "cell_type": "code",
      "source": [],
      "metadata": {
        "id": "YAsiWSHiT46k"
      },
      "execution_count": null,
      "outputs": []
    },
    {
      "cell_type": "code",
      "source": [
        "#@title Solucion Ejercicio 1a {display-mode:\"form\"}\n",
        "\n",
        "#naive_hash(\"helicoptero\") == '049e'\n",
        "decimal = int('049e', 16)\n",
        "print(decimal)\n",
        "# 'd' == 100 y 'R' == 82\n",
        "m2 = 'd' * 11 + 'R'\n",
        "print(naive_hash(m2))"
      ],
      "metadata": {
        "colab": {
          "base_uri": "https://localhost:8080/"
        },
        "id": "3q96YcE8DQs9",
        "outputId": "c163e550-5bf7-4ffd-d55c-eefe4657ed39"
      },
      "execution_count": null,
      "outputs": [
        {
          "output_type": "stream",
          "name": "stdout",
          "text": [
            "1182\n",
            "049e\n"
          ]
        }
      ]
    },
    {
      "cell_type": "markdown",
      "source": [
        "#### Ejercicio 1b:\n",
        "\n",
        "Encontrar palabras en castellano que colisionen con el Hash `049e` de la funcion `naive_hash()`\n",
        "\n",
        "Ayuda: https://github.com/webpwnized/byepass/blob/master/dictionaries/top-10000-spanish-words.txt"
      ],
      "metadata": {
        "id": "ZteKq1CHFVRN"
      }
    },
    {
      "cell_type": "code",
      "source": [],
      "metadata": {
        "id": "pbKgZ9JRFkqk"
      },
      "execution_count": null,
      "outputs": []
    },
    {
      "cell_type": "markdown",
      "source": [
        "### Second pre-image resistance\n",
        "\n",
        "**Dado:** `m1`\n",
        "\n",
        "**Es dificil encontrar:** `m2` donde `m1 != m2` tal que `hash(m1) = hash(m2)`"
      ],
      "metadata": {
        "id": "mBvc_IvgwCI2"
      }
    },
    {
      "cell_type": "markdown",
      "source": [
        "#### Ejercicio 2:\n",
        "\n",
        "Dado: `m1='Hola'`\n",
        "\n",
        "Mostrar que la funcion creada anteriormente `naive_hash()` no cumple con la condicion Second pre-image resistance"
      ],
      "metadata": {
        "id": "N7olQzdnPOao"
      }
    },
    {
      "cell_type": "code",
      "source": [],
      "metadata": {
        "id": "KKWVfw8NWOD2"
      },
      "execution_count": null,
      "outputs": []
    },
    {
      "cell_type": "code",
      "source": [
        "#@title Solucion Ejercicio 2 {display-mode:\"form\"}\n",
        "\n",
        "print(\"Hola\", \"=\", naive_hash(\"Hola\"))\n",
        "print(\"olaH\", \"=\", naive_hash(\"olaH\"))\n",
        "print(\"aloH\", \"=\", naive_hash(\"aloH\"))\n",
        "print(\"Halo\", \"=\", naive_hash(\"aloH\"))"
      ],
      "metadata": {
        "id": "vHnb-BA3PNfH",
        "colab": {
          "base_uri": "https://localhost:8080/"
        },
        "outputId": "7e0ff67f-c7bc-4a8b-b6d8-4d58b3467a90"
      },
      "execution_count": null,
      "outputs": [
        {
          "output_type": "stream",
          "name": "stdout",
          "text": [
            "Hola = 0184\n",
            "olaH = 0184\n",
            "aloH = 0184\n",
            "Halo = 0184\n"
          ]
        }
      ]
    },
    {
      "cell_type": "markdown",
      "source": [
        "### Collision resistance\n",
        "\n",
        "**Es dificil encontrar:** `m1` y `m2` donde `m1 != m2` tal que `hash(m1) = hash(m2)`"
      ],
      "metadata": {
        "id": "94WwQg-FO2aw"
      }
    },
    {
      "cell_type": "code",
      "source": [],
      "metadata": {
        "id": "FeDxeqkM_DWf"
      },
      "execution_count": null,
      "outputs": []
    },
    {
      "cell_type": "markdown",
      "source": [
        "#### Ejercicio:\n",
        "\n",
        "Utilizar la libreria [hashlib](https://docs.python.org/3/library/hashlib.html) para crear el hash de tu nombre utilizando la funcion sha256.\n",
        "\n",
        "El resultado del hash sera en bytes utiliza distintas codificaciones para mostrarlo. Por ejemplo hexadecimal, base16, base32 y base64."
      ],
      "metadata": {
        "id": "i4Z8sjYLVjmc"
      }
    },
    {
      "cell_type": "code",
      "source": [],
      "metadata": {
        "id": "umyPa3_r6r5X"
      },
      "execution_count": null,
      "outputs": []
    },
    {
      "cell_type": "code",
      "source": [
        "import hashlib\n",
        "x = hashlib.sha256(b\"Alicia\")\n",
        "print(f'{\"Hash en bytes:\":<21}{x.digest()}')\n",
        "print(f'{\"Hash en hexadecimal:\":<21}{x.hexdigest()}')\n",
        "import base64\n",
        "print(f'{\"Hash en base16:\":<21}{base64.b16encode(x.digest())}')\n",
        "print(f'{\"Hash en base32:\":<21}{base64.b32encode(x.digest())}')\n",
        "print(f'{\"Hash en base64:\":<21}{base64.b64encode(x.digest())}')"
      ],
      "metadata": {
        "colab": {
          "base_uri": "https://localhost:8080/"
        },
        "id": "ywvWOg-dVuRp",
        "outputId": "ecf3384e-e368-42ff-8d39-8c2e49fd8df8"
      },
      "execution_count": null,
      "outputs": [
        {
          "output_type": "stream",
          "name": "stdout",
          "text": [
            "Hash en bytes:       b'*O\\x07\\x9d,;\\xd9y\\xaeQ\\x9d\\xc0\\x9f\\xdb\\xe9\\xb7\\xef;\\x919\\x96\\xa0\\xb5\\xd9p\\xab5\\xab\\xe8\\x95\"O'\n",
            "Hash en hexadecimal: 2a4f079d2c3bd979ae519dc09fdbe9b7ef3b913996a0b5d970ab35abe895224f\n",
            "Hash en base16:      b'2A4F079D2C3BD979AE519DC09FDBE9B7EF3B913996A0B5D970AB35ABE895224F'\n",
            "Hash en base32:      b'FJHQPHJMHPMXTLSRTXAJ7W7JW7XTXEJZS2QLLWLQVM22X2EVEJHQ===='\n",
            "Hash en base64:      b'Kk8HnSw72XmuUZ3An9vpt+87kTmWoLXZcKs1q+iVIk8='\n"
          ]
        }
      ]
    },
    {
      "cell_type": "markdown",
      "source": [
        "## Uso de estas propiedades en Bitcoin\n",
        "\n",
        "Las funciones hash son muy utilizadas en las cadenas de bloques (blockchains) como Bitcoin y otras similares.\n",
        "\n",
        "Para que se utilizan?\n",
        "- Relacionar cada bloque de la blockchain con el siguiente bloque\n",
        "- Para el puzzle del proof of work\n",
        "- Para la estructura de merkle tree de las transacciones\n",
        "\n",
        "El las siguientes unidades veremos estos puntos en detalle."
      ],
      "metadata": {
        "id": "ojCMe6Fr_EA-"
      }
    },
    {
      "cell_type": "markdown",
      "source": [
        "#### Ejercicio E1:\n",
        "\n",
        "- Supongamos que tenemos un dado de seis lados y queremos hashear su resultado.\n",
        "- Tenemos 6 hashes, uno para cada cara del dado. m puede ser: `[\"uno\",\"dos\",\"tres\",\"cuatro\",\"cinco\",\"seis\"]`\n",
        "- Utilizo `naive_hash(s)`\n",
        "\n",
        "Si sabemos que el resultado de una tirada del dado es 028e, adivinar que cara del dado salió"
      ],
      "metadata": {
        "id": "afSrgzy98Skp"
      }
    },
    {
      "cell_type": "code",
      "source": [],
      "metadata": {
        "id": "TKCLzT6NaBz7"
      },
      "execution_count": null,
      "outputs": []
    },
    {
      "cell_type": "code",
      "source": [
        "#@title Solucion Ejercicio E1 {display-mode:\"form\"}\n",
        "\n",
        "for item in [\"uno\",\"dos\",\"tres\",\"cuatro\",\"cinco\",\"seis\"]:\n",
        "  print(item,\"=\", naive_hash(item))"
      ],
      "metadata": {
        "id": "OOAHEBJy8aMw",
        "colab": {
          "base_uri": "https://localhost:8080/"
        },
        "outputId": "cef18526-91a7-4878-d5b4-407e3b9d4578"
      },
      "execution_count": null,
      "outputs": [
        {
          "output_type": "stream",
          "name": "stdout",
          "text": [
            "uno = 0152\n",
            "dos = 0146\n",
            "tres = 01be\n",
            "cuatro = 028e\n",
            "cinco = 020c\n",
            "seis = 01b4\n"
          ]
        }
      ]
    },
    {
      "cell_type": "markdown",
      "source": [
        "#### Ejercicio E2:\n",
        "\n",
        "- Supongamos que tenemos un dado de seis lados y queremos hashear su resultado.\n",
        "- Tenemos 6 hashes, uno para cada cara del dado. m puede ser: `[\"uno\",\"dos\",\"tres\",\"cuatro\",\"cinco\",\"seis\"]`\n",
        "- Tenemos un [secreto r](https://en.wikipedia.org/wiki/Salt_(cryptography)) de 3 letras minusculas (`'abcdefghijklmnopqrstuvwxyz'`)\n",
        "- Utilizo `naive_hash(s+r)` donde s+r es s concatenado con r\n",
        "\n",
        "Si sabemos que el resultado de una tirada del dado es 0377, adivinar que cara del dado salió"
      ],
      "metadata": {
        "id": "852zR1S25RBl"
      }
    },
    {
      "cell_type": "code",
      "source": [],
      "metadata": {
        "id": "QtZp3-iEZaKN"
      },
      "execution_count": null,
      "outputs": []
    },
    {
      "cell_type": "code",
      "source": [
        "#@title Solucion Ejercicio E2 {display-mode:\"form\"}\n",
        "\n",
        "ascii_lowercase = 'abcdefghijklmnopqrstuvwxyz'\n",
        "for item in [\"uno\",\"dos\",\"tres\",\"cuatro\",\"cinco\",\"seis\"]:\n",
        "  for l1 in ascii_lowercase:\n",
        "    for l2 in ascii_lowercase:\n",
        "      for l3 in ascii_lowercase:\n",
        "        salt = l1 + l2 + l3\n",
        "        tmp = item + salt\n",
        "        h = naive_hash(tmp)\n",
        "        if h == \"0377\":\n",
        "            print(item, salt,\"=\", h)"
      ],
      "metadata": {
        "id": "GAGCnyNX5dwb",
        "colab": {
          "base_uri": "https://localhost:8080/"
        },
        "outputId": "3154c2a1-0692-46d8-9213-c58e9d8ff02b"
      },
      "execution_count": null,
      "outputs": [
        {
          "output_type": "stream",
          "name": "stdout",
          "text": [
            "cinco wzz = 0377\n",
            "cinco xyz = 0377\n",
            "cinco xzy = 0377\n",
            "cinco yxz = 0377\n",
            "cinco yyy = 0377\n",
            "cinco yzx = 0377\n",
            "cinco zwz = 0377\n",
            "cinco zxy = 0377\n",
            "cinco zyx = 0377\n",
            "cinco zzw = 0377\n"
          ]
        }
      ]
    },
    {
      "cell_type": "markdown",
      "source": [
        "#### Ejercicio E3:\n",
        "\n",
        "Usar la función hash SHA256 para crear una url única para una página web [Ayuda](https://developers.cloudflare.com/web3/ipfs-gateway/concepts/ipfs/#:~:text=Every%20file%20added%20to%20IPFS,used%20into%20a%20single%20string.)"
      ],
      "metadata": {
        "id": "ktaxOXD7kQ73"
      }
    },
    {
      "cell_type": "code",
      "source": [],
      "metadata": {
        "id": "kbZ8mQGE7Srp"
      },
      "execution_count": null,
      "outputs": []
    },
    {
      "cell_type": "code",
      "source": [
        "import hashlib\n",
        "import requests\n",
        "r = requests.get('https://www.freecodingtour.com/links.html')\n",
        "x = hashlib.sha256(r.content)\n",
        "print(x.digest())\n",
        "print(x.hexdigest())"
      ],
      "metadata": {
        "colab": {
          "base_uri": "https://localhost:8080/"
        },
        "id": "iaFV4NYvS8xM",
        "outputId": "dfeb8281-0ab9-4c26-838b-4e10b3990a65"
      },
      "execution_count": null,
      "outputs": [
        {
          "output_type": "stream",
          "name": "stdout",
          "text": [
            "b\"\\x97\\xfd\\x8b.\\x99s\\x1a\\x8f~\\xf3gq\\xa6\\xb7+J\\xb0\\xd7fS\\r\\x1c\\xb8k*\\xd1\\xfd\\xca\\xa5\\xd1'\\xac\"\n",
            "97fd8b2e99731a8f7ef36771a6b72b4ab0d766530d1cb86b2ad1fdcaa5d127ac\n"
          ]
        }
      ]
    },
    {
      "cell_type": "markdown",
      "source": [
        "#### Ejercicio E4:\n",
        "\n",
        "Utilizar un secreto (salt) para cifrar la respuesta a un puzzle, publicar nuestra prediccion hasheada en algun lugar publico (twitter) y luego los ganadores revelar su prediccion y secreto para comprobar quien gano."
      ],
      "metadata": {
        "id": "5TrDU9TI7TQR"
      }
    },
    {
      "cell_type": "code",
      "source": [],
      "metadata": {
        "id": "vGoYYTmf7T9u"
      },
      "execution_count": null,
      "outputs": []
    },
    {
      "cell_type": "code",
      "source": [],
      "metadata": {
        "id": "45aaeenE7T07"
      },
      "execution_count": null,
      "outputs": []
    },
    {
      "cell_type": "markdown",
      "source": [
        "## Como crear funciones hash?\n",
        "\n",
        "La respuesta a esta pregunta sobrepasa el alcance de este curso, pero aqui dejamos algunos links de interes:\n",
        "\n",
        "- https://ocw.mit.edu/courses/6-046j-design-and-analysis-of-algorithms-spring-2015/resources/lecture-21-cryptography-hash-functions/\n",
        "- https://iacr.org/archive/fse2004/30170373/30170373.pdf\n",
        "- https://en.wikipedia.org/w/index.php?title=SHA-1&oldid=1161401043#Example_hashes\n",
        "- https://en.wikipedia.org/wiki/MD5#Pseudocode\n",
        "\n",
        "### Si tuviesemos un ordenador cuantico podriamos encontrar colisiones mas rapido?\n",
        "\n",
        "No mucho debido a que las funciones hash no son estructuradas:\n",
        "- https://crypto.stackexchange.com/questions/44386/are-cryptographic-hash-functions-quantum-secure"
      ],
      "metadata": {
        "id": "mLWExnXTCmTw"
      }
    }
  ]
}