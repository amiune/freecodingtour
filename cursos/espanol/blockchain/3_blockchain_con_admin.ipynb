{
  "nbformat": 4,
  "nbformat_minor": 0,
  "metadata": {
    "colab": {
      "provenance": []
    },
    "kernelspec": {
      "name": "python3",
      "display_name": "Python 3"
    },
    "language_info": {
      "name": "python"
    }
  },
  "cells": [
    {
      "cell_type": "markdown",
      "source": [
        "# Blockchain\n",
        "\n",
        "La blockchain o cadena de bloques es una serie de documentos en donde cada uno esta relacionado con el anterior mediante su hash. Esto es, el segundo bloque tendra el hash del primero, el tercero tendra el hash del segundo y asi sucesivamente.\n",
        "\n",
        "Veamos un ejemplo:\n"
      ],
      "metadata": {
        "id": "G3i37-x7U9Sw"
      }
    },
    {
      "cell_type": "markdown",
      "source": [
        "#### Ejercicio 1:\n",
        "\n",
        "Reproducir el ejemplo de la imagen utilizando python y las librerias hashlib y base64:\n",
        "- hashlib para obtener el hash en bytes `hashlib.sha256(...).digest()`\n",
        "- base64 para convertir los bytes en una string legible `base64.b64encode(...)`"
      ],
      "metadata": {
        "id": "L5pTUnLRC5c-"
      }
    },
    {
      "cell_type": "code",
      "source": [],
      "metadata": {
        "id": "4ZLv3qpvD4Zz"
      },
      "execution_count": null,
      "outputs": []
    },
    {
      "cell_type": "code",
      "source": [
        "import hashlib\n",
        "import base64\n",
        "\n",
        "bloque1 = \"Hola! Soy el primer bloque\"\n",
        "hash_bloque1 = bytearray(hashlib.sha256(bloque1.encode()).digest())\n",
        "hash_bloque1_b64 = base64.b64encode(hash_bloque1)\n",
        "print(f\"Contenido bloque1:\\n{bloque1}\\n\")\n",
        "print(f\"Hash bloque 1:\\n{hash_bloque1_b64.decode()}\")\n",
        "print()\n",
        "\n",
        "bloque2 = hash_bloque1_b64.decode() + \"\\nSoy el segundo bloque\"\n",
        "hash_bloque2 = hashlib.sha256(bloque2.encode()).digest()\n",
        "hash_bloque2_b64 = base64.b64encode(hash_bloque2)\n",
        "print(f\"Contenido bloque2:\\n{bloque2}\\n\")\n",
        "print(f\"Hash bloque 2:\\n{hash_bloque2_b64.decode()}\")\n",
        "print()\n",
        "\n",
        "bloque3 = hash_bloque2_b64.decode() + \"\\nSoy el segundo bloque\"\n",
        "hash_bloque3 = hashlib.sha256(bloque3.encode()).digest()\n",
        "hash_bloque3_b64 = base64.b64encode(hash_bloque3)\n",
        "print(f\"Contenido bloque3:\\n{bloque3}\\n\")\n",
        "print(f\"Hash bloque 3:\\n{hash_bloque3_b64.decode()}\")\n",
        "print()"
      ],
      "metadata": {
        "id": "oEWqdmKXU9CH",
        "colab": {
          "base_uri": "https://localhost:8080/"
        },
        "outputId": "ae07a109-9efa-4d49-8d68-b365b8a7e21f"
      },
      "execution_count": null,
      "outputs": [
        {
          "output_type": "stream",
          "name": "stdout",
          "text": [
            "Contenido bloque1:\n",
            "Hola! Soy el primer bloque\n",
            "\n",
            "Hash bloque 1:\n",
            "5IYgYW/LfPCFnvs5a7I0+RhoUgx5RLrogLCYSpbiA88=\n",
            "\n",
            "Contenido bloque2:\n",
            "5IYgYW/LfPCFnvs5a7I0+RhoUgx5RLrogLCYSpbiA88=\n",
            "Soy el segundo bloque\n",
            "\n",
            "Hash bloque 2:\n",
            "om59dTjc9SP9q6X31/4DnGOA2z/BBToMkIBev3xC5B0=\n",
            "\n",
            "Contenido bloque3:\n",
            "om59dTjc9SP9q6X31/4DnGOA2z/BBToMkIBev3xC5B0=\n",
            "Soy el segundo bloque\n",
            "\n",
            "Hash bloque 3:\n",
            "fYnjq5EOPahXI6QpXfrz1V58fP92HIxtTI5+jFKlKiY=\n",
            "\n"
          ]
        }
      ]
    },
    {
      "cell_type": "markdown",
      "source": [
        "Las criptomonedas digitales usan la blockchain para guardar en dichos bloques transacciones de una persona a otra o mejor dicho de una wallet a otra.\n",
        "Entonces ahora guardaremos esas transacciones."
      ],
      "metadata": {
        "id": "a2hV3nwOCiPu"
      }
    },
    {
      "cell_type": "markdown",
      "source": [
        "#### Ejercicio 2:\n",
        "\n",
        "Repetir el ejercicio 1 pero esta vez guardando transacciones en los bloques. Guardaremos las transacciones como un string sin ningun formato especial, por ejemplo:\n",
        "- Admin crea 10 monedas para Alicia\n",
        "- Alicia le da a Bob 3 monedas\n",
        "- Bob le da a Carolina 2 monedas\n",
        "- Bob le da a Alicia 1 moneda"
      ],
      "metadata": {
        "id": "vNi2XIreDXrC"
      }
    },
    {
      "cell_type": "code",
      "source": [],
      "metadata": {
        "id": "9LhCsTaOD3wy"
      },
      "execution_count": null,
      "outputs": []
    },
    {
      "cell_type": "code",
      "source": [],
      "metadata": {
        "id": "G8UDMuhKD3y5"
      },
      "execution_count": null,
      "outputs": []
    },
    {
      "cell_type": "markdown",
      "source": [
        "Para verificar si las monedas que estoy recibiendo son validas puedo ver todos los bloques de la blockchain y verificar que quien me esta dando las monedas realmente las recibio antes y todavia no las ha gastado.\n",
        "\n",
        "Pero si cualquier persona puede agregar bloques a la cadena aparece el problema del doble gasto. Las personas van a querer hacer trampa y querer gastar mas de una vez sus monedas. Entonces por el momento elegiremos a una Administradora de la red que se encargue de las siguientes tareas:\n",
        "\n",
        "La Administradora aprobará las transacciones sólo si se cumplen las siguientes reglas:\n",
        "1. Las monedas usadas son válidas, esto es, fueron creadas en una transacción previa.\n",
        "2. Las monedas usadas no fueron usadas en una transacción previa. O lo que es lo mismo no se esta realizando doble gasto.\n",
        "3. El total de las monedas de la salida de una transacción es igual al total de monedas de entrada a dicha transacción. Solo la Administradora puede crear monedas nuevas.\n",
        "4. La transacción está correctamente firmada por los dueños de las monedas usadas.\n",
        "\n",
        "Una vez verificado esto, la Administradora publicara el bloque y lo firmara para que todos sepan que esta validado por ella.\n"
      ],
      "metadata": {
        "id": "eSS7MEd5FGb-"
      }
    },
    {
      "cell_type": "markdown",
      "source": [
        "# Ejercicio X:\n",
        "\n",
        "Publicar tres bloques en un archivo Readme.md de GitHub. Cada bloque del archivo comenzara con Bloque N y finalizara con 10 guiones ---------- y contendra sus respectivas transacciones escritas en texto plano y firmadas por cada participante. Finalmente cada bloque debe ser firmado por el administrador que garantiza que es valido.\n",
        "\n",
        "Ejemplo del archivo Readme.md\n",
        "\n",
        "```\n",
        "Bloque 0:\n",
        "(hash = 000000000000000)\n",
        "Se crean 10 monedas para Alicia\n",
        "(firma Admin)\n",
        "----------\n",
        "Bloque 1:\n",
        "(hash Bloque 0)\n",
        "Alicia le envia 3 modenas a Bob (firma Alicia)\n",
        "(firma Admin)\n",
        "----------\n",
        "Bloque 2:\n",
        "(hash Bloque 1)\n",
        "Alicia le envia 4 modenas a Carolina (firma Alicia)\n",
        "Bob le envia 2 modenas a Carolina (firma Bob)\n",
        "(firma Admin)\n",
        "----------\n",
        "```\n"
      ],
      "metadata": {
        "id": "2EKbbGsxPK0f"
      }
    },
    {
      "cell_type": "code",
      "source": [],
      "metadata": {
        "id": "tIksw8h1U7sL"
      },
      "execution_count": null,
      "outputs": []
    },
    {
      "cell_type": "code",
      "source": [
        "!pip install PyGithub -U -q\n",
        "\n",
        "from google.colab import userdata\n",
        "from github import Github, Auth\n",
        "\n",
        "auth = Auth.Token(userdata.get(\"GITHUB_BLOCKCHAIN_TOKEN\"))\n",
        "g = Github(auth=auth)\n",
        "\n",
        "# Add file to github repo\n",
        "repo = g.get_repo(\"amiune/miblockchainprivada\")\n",
        "repo.create_file(\"Readme.md\", \"create readme\", \"readme file added\", branch=\"main\")\n",
        "\n",
        "# Modify file to github repo\n",
        "repo = g.get_repo(\"amiune/miblockchainprivada\")\n",
        "contents = repo.get_contents(\"Readme.md\")\n",
        "repo.update_file(contents.path, \"modified readme\", \"# Hello World!\", contents.sha, branch=\"main\")\n",
        "\n",
        "g.close()"
      ],
      "metadata": {
        "id": "noBa5Gs8VYSy"
      },
      "execution_count": null,
      "outputs": []
    },
    {
      "cell_type": "markdown",
      "source": [
        "#Merkle Tree\n",
        "\n",
        "El Merkle Tree es una estructura de datos que se usa en las criptomonedas como bitcoin para guardar las transacciones y que luego sea pueda de forma eficiente verificar si una transaccion esta incluida en dicho arbol o no y si alguna de las transacciones ha sido modificada. Debido a la estructura de arbol, si tenenmos n transacciones, podremos hacerlo en tiempo O(logn).\n",
        "\n",
        "[Ver implementacion](https://github.com/droid76/Merkle-Tree)"
      ],
      "metadata": {
        "id": "uab56A2kXdNM"
      }
    },
    {
      "cell_type": "code",
      "source": [],
      "metadata": {
        "id": "fc2rvGKoZ48i"
      },
      "execution_count": null,
      "outputs": []
    }
  ]
}