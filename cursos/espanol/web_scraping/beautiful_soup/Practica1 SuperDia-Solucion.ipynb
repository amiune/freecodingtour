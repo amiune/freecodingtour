{
 "cells": [
  {
   "cell_type": "markdown",
   "id": "29aa4613-f18f-40ed-9805-bf8e5062fc67",
   "metadata": {},
   "source": [
    "# Web scrapping de Supermercados Dia\n",
    "\n",
    "Guardar la informacion (descripcion, precio y formato) de las cervezas nacionales en un dataframe de pandas"
   ]
  },
  {
   "cell_type": "code",
   "execution_count": 10,
   "id": "7bc2cfdf-bf96-4387-bc27-8737d07f7cdb",
   "metadata": {},
   "outputs": [],
   "source": [
    "import pandas as pd\n",
    "from bs4 import BeautifulSoup\n",
    "import requests"
   ]
  },
  {
   "cell_type": "code",
   "execution_count": 11,
   "id": "0bbe9f6f-52dc-4596-8211-8c8d24f84ccf",
   "metadata": {},
   "outputs": [],
   "source": [
    "URL = \"https://www.dia.es/compra-online/bebidas/cervezas/nacionales/cf\""
   ]
  },
  {
   "cell_type": "code",
   "execution_count": 12,
   "id": "de4ed7a7-cffb-4b23-b84d-58b1159647fa",
   "metadata": {},
   "outputs": [
    {
     "data": {
      "text/plain": [
       "200"
      ]
     },
     "execution_count": 12,
     "metadata": {},
     "output_type": "execute_result"
    }
   ],
   "source": [
    "response = requests.get(URL)\n",
    "response.status_code"
   ]
  },
  {
   "cell_type": "code",
   "execution_count": 13,
   "id": "b960202b-c1d0-4314-b2e2-8915e937b792",
   "metadata": {},
   "outputs": [],
   "source": [
    "soup = BeautifulSoup(response.content, \"html.parser\")"
   ]
  },
  {
   "cell_type": "code",
   "execution_count": 14,
   "id": "1250597e-1c59-41da-ad95-b853586fa2c8",
   "metadata": {},
   "outputs": [
    {
     "name": "stdout",
     "output_type": "stream",
     "text": [
      "20\n"
     ]
    }
   ],
   "source": [
    "productos = soup.find_all(\"li\", attrs={\"data-test-id\":\"product-card-list-item\"})\n",
    "print(len(productos))"
   ]
  },
  {
   "cell_type": "code",
   "execution_count": 15,
   "id": "8447377b-80fe-4c61-a713-07a581c14805",
   "metadata": {},
   "outputs": [
    {
     "data": {
      "text/html": [
       "<div>\n",
       "<style scoped>\n",
       "    .dataframe tbody tr th:only-of-type {\n",
       "        vertical-align: middle;\n",
       "    }\n",
       "\n",
       "    .dataframe tbody tr th {\n",
       "        vertical-align: top;\n",
       "    }\n",
       "\n",
       "    .dataframe thead th {\n",
       "        text-align: right;\n",
       "    }\n",
       "</style>\n",
       "<table border=\"1\" class=\"dataframe\">\n",
       "  <thead>\n",
       "    <tr style=\"text-align: right;\">\n",
       "      <th></th>\n",
       "      <th>Articulo</th>\n",
       "      <th>Precio</th>\n",
       "      <th>Formato</th>\n",
       "    </tr>\n",
       "  </thead>\n",
       "  <tbody>\n",
       "    <tr>\n",
       "      <th>0</th>\n",
       "      <td>Cerveza lager Ramblers de Dia lata 12 x 33 cl</td>\n",
       "      <td>3,72 €</td>\n",
       "      <td>(0,94 €/LITRO)</td>\n",
       "    </tr>\n",
       "    <tr>\n",
       "      <th>1</th>\n",
       "      <td>Cerveza lager  Ramblers de Dia lata 24 x 33 cl</td>\n",
       "      <td>7,44 €</td>\n",
       "      <td>(0,94 €/LITRO)</td>\n",
       "    </tr>\n",
       "    <tr>\n",
       "      <th>2</th>\n",
       "      <td>Cerveza Mahou 5 Estrellas lata 12 x 33 cl</td>\n",
       "      <td>7,69 €</td>\n",
       "      <td>(1,94 €/LITRO)</td>\n",
       "    </tr>\n",
       "    <tr>\n",
       "      <th>3</th>\n",
       "      <td>Cerveza San Miguel lata 12 x 33 cl</td>\n",
       "      <td>8,40 €</td>\n",
       "      <td>(2,12 €/LITRO)</td>\n",
       "    </tr>\n",
       "    <tr>\n",
       "      <th>4</th>\n",
       "      <td>Cerveza lager Ramblers de Dia lata 33 cl</td>\n",
       "      <td>0,31 €</td>\n",
       "      <td>(0,94 €/LITRO)</td>\n",
       "    </tr>\n",
       "    <tr>\n",
       "      <th>5</th>\n",
       "      <td>Cerveza lager Ramblers de Dia botella 6 x 25 cl</td>\n",
       "      <td>1,67 €</td>\n",
       "      <td>(1,11 €/LITRO)</td>\n",
       "    </tr>\n",
       "    <tr>\n",
       "      <th>6</th>\n",
       "      <td>Cerveza clásica Mahou lata 12 x 33 cl</td>\n",
       "      <td>8,64 €</td>\n",
       "      <td>(2,18 €/LITRO)</td>\n",
       "    </tr>\n",
       "    <tr>\n",
       "      <th>7</th>\n",
       "      <td>Cerveza especial Estrella Galicia lata 33 cl</td>\n",
       "      <td>0,87 €</td>\n",
       "      <td>(2,64 €/LITRO)</td>\n",
       "    </tr>\n",
       "    <tr>\n",
       "      <th>8</th>\n",
       "      <td>Cerveza especial Ramblers de Dia lata 33 cl</td>\n",
       "      <td>0,37 €</td>\n",
       "      <td>(1,12 €/LITRO)</td>\n",
       "    </tr>\n",
       "    <tr>\n",
       "      <th>9</th>\n",
       "      <td>Cerveza especial Alhambra botella 6 x 25 cl</td>\n",
       "      <td>3,99 €</td>\n",
       "      <td>(2,66 €/LITRO)</td>\n",
       "    </tr>\n",
       "  </tbody>\n",
       "</table>\n",
       "</div>"
      ],
      "text/plain": [
       "                                          Articulo  Precio         Formato\n",
       "0    Cerveza lager Ramblers de Dia lata 12 x 33 cl  3,72 €  (0,94 €/LITRO)\n",
       "1   Cerveza lager  Ramblers de Dia lata 24 x 33 cl  7,44 €  (0,94 €/LITRO)\n",
       "2        Cerveza Mahou 5 Estrellas lata 12 x 33 cl  7,69 €  (1,94 €/LITRO)\n",
       "3               Cerveza San Miguel lata 12 x 33 cl  8,40 €  (2,12 €/LITRO)\n",
       "4         Cerveza lager Ramblers de Dia lata 33 cl  0,31 €  (0,94 €/LITRO)\n",
       "5  Cerveza lager Ramblers de Dia botella 6 x 25 cl  1,67 €  (1,11 €/LITRO)\n",
       "6            Cerveza clásica Mahou lata 12 x 33 cl  8,64 €  (2,18 €/LITRO)\n",
       "7     Cerveza especial Estrella Galicia lata 33 cl  0,87 €  (2,64 €/LITRO)\n",
       "8      Cerveza especial Ramblers de Dia lata 33 cl  0,37 €  (1,12 €/LITRO)\n",
       "9      Cerveza especial Alhambra botella 6 x 25 cl  3,99 €  (2,66 €/LITRO)"
      ]
     },
     "execution_count": 15,
     "metadata": {},
     "output_type": "execute_result"
    }
   ],
   "source": [
    "descripciones = []\n",
    "precios = []\n",
    "formatos = []\n",
    "for p in productos:\n",
    "    try:\n",
    "        descripciones.append(p.find(\"p\",attrs={\"class\":\"search-product-card__product-name\"}).text.strip())\n",
    "        precios.append(p.find(\"p\",attrs={\"data-test-id\":\"search-product-card-unit-price\"}).text.strip())\n",
    "        formatos.append(p.find(\"p\",attrs={\"data-test-id\":\"search-product-card-kilo-price\"}).text.strip())\n",
    "    except:\n",
    "        pass\n",
    "                  \n",
    "df = pd.DataFrame({\"Articulo\":descripciones,\"Precio\":precios,\"Formato\":formatos})\n",
    "df"
   ]
  },
  {
   "cell_type": "code",
   "execution_count": null,
   "id": "5ccbf121-4edd-4663-9e63-75389df40c5e",
   "metadata": {},
   "outputs": [],
   "source": []
  }
 ],
 "metadata": {
  "kernelspec": {
   "display_name": "base",
   "language": "python",
   "name": "base"
  },
  "language_info": {
   "codemirror_mode": {
    "name": "ipython",
    "version": 3
   },
   "file_extension": ".py",
   "mimetype": "text/x-python",
   "name": "python",
   "nbconvert_exporter": "python",
   "pygments_lexer": "ipython3",
   "version": "3.9.18"
  }
 },
 "nbformat": 4,
 "nbformat_minor": 5
}
