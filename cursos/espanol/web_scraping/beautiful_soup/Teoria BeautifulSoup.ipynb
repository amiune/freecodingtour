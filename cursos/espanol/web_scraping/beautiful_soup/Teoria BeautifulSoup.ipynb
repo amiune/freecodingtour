{
 "cells": [
  {
   "cell_type": "code",
   "execution_count": 46,
   "id": "fe4f2fc1-fcf2-41dd-b896-c7c08e1fcae2",
   "metadata": {},
   "outputs": [],
   "source": [
    "import numpy as np\n",
    "import matplotlib.pyplot as plt\n",
    "import pandas as pd\n",
    "import seaborn as sns\n",
    "import time"
   ]
  },
  {
   "cell_type": "code",
   "execution_count": 47,
   "id": "50a16adb-5042-4ee6-aff1-8b44193be2f4",
   "metadata": {},
   "outputs": [],
   "source": [
    "import requests\n",
    "from bs4 import BeautifulSoup"
   ]
  },
  {
   "cell_type": "markdown",
   "id": "b2a0c351-8061-4a94-8b06-f220d7284e28",
   "metadata": {},
   "source": [
    "# Arquitectura cliente - servidor\n",
    "\n",
    "Intercambio mensajes entre dos ordenadores, un cliente y un servidor mediante la libreria requests.\n",
    "\n",
    "Como funciona http y https: https://tb-manual.torproject.org/es/secure-connections/\n",
    "\n",
    "Como cliente envio un mensaje utilizando request y obtendre una respuesta del servidor (response)."
   ]
  },
  {
   "cell_type": "code",
   "execution_count": 48,
   "id": "f4224a34-7158-4e0d-b7c4-30a2fc67ead0",
   "metadata": {},
   "outputs": [],
   "source": [
    "url = \"https://es.wikipedia.org/wiki/Flat_white\"\n",
    "response = requests.get(url)"
   ]
  },
  {
   "cell_type": "markdown",
   "id": "57353fef-3582-4e4f-90c5-494587fe0c29",
   "metadata": {},
   "source": [
    "- Si el codigo comienza con 2, significa que el request ha sido exitoso.\n",
    "- Si el codigo comienza con 4, significa que hubo un error en el cliente (nosotros). Ejemplo: un codigo 404 File Not Found error significa que solicitamos una direccion que no existe en el servidor.\n",
    "- Si el codigo comienza con 5, significa que hubo un error en el servidor\n",
    "\n",
    "Mas informacion sobre los codigos: https://developer.mozilla.org/en-US/docs/Web/HTTP/Status"
   ]
  },
  {
   "cell_type": "code",
   "execution_count": 49,
   "id": "cf361808-93bf-4396-a6fc-b03de88f7b18",
   "metadata": {},
   "outputs": [
    {
     "data": {
      "text/plain": [
       "200"
      ]
     },
     "execution_count": 49,
     "metadata": {},
     "output_type": "execute_result"
    }
   ],
   "source": [
    "response.status_code"
   ]
  },
  {
   "cell_type": "code",
   "execution_count": 50,
   "id": "e6226183-2f2a-40bd-a858-e259cda89ff7",
   "metadata": {},
   "outputs": [
    {
     "data": {
      "text/plain": [
       "'<!DOCTYPE html>\\n<html class=\"client-nojs vector-feature-language-in-header-enabled vector-feature-language-in-main-page-header-disabled vector-feature-sticky-header-disabled vector-feature-page-tools-pinned-disabled vector-feature-toc-pinned-clientpref-1 vector-feature-main-menu-pinned-disabled vector-feature-limited-width-clientpref-1 vector-feature-limited-width-content-enabled vector-feature-custom-font-size-clientpref-1 vector-feature-appearance-enabled vector-feature-appearance-pinned-clientpref-1 vector-feature-night-mode-disabled skin-theme-clientpref-day vector-toc-available\" lang=\"es\" dir=\"ltr\">\\n<head>\\n<meta charset=\"UTF-8\">\\n<title>Flat white - Wikipedia, la enciclopedia libre</title>\\n<script>(function(){var className=\"client-js vector-feature-language-in-header-enabled vector-feature-language-in-main-page-header-disabled vector-feature-sticky-header-disabled vector-feature-page-tools-pinned-disabled vector-feature-toc-pinned-clientpref-1 vector-feature-main-menu-pinned-disabl'"
      ]
     },
     "execution_count": 50,
     "metadata": {},
     "output_type": "execute_result"
    }
   ],
   "source": [
    "response.text[0:1000] #text Unicode format"
   ]
  },
  {
   "cell_type": "markdown",
   "id": "ec3d734e-9759-490a-b158-8e62b4d5663e",
   "metadata": {},
   "source": [
    "# HTML\n",
    "\n",
    "![html](./html.png)\n",
    "\n",
    "![html-tag](./html-tag.png)"
   ]
  },
  {
   "cell_type": "markdown",
   "id": "840a5f01-dcb4-49c4-849a-166ac130d433",
   "metadata": {},
   "source": [
    "# Beautiful Soup\n",
    "\n",
    "https://beautiful-soup-4.readthedocs.io/en/latest/"
   ]
  },
  {
   "cell_type": "code",
   "execution_count": 52,
   "id": "3211033a-e032-4a58-b2d5-1908bef2f053",
   "metadata": {},
   "outputs": [],
   "source": [
    "soup = BeautifulSoup(response.text, \"html.parser\")"
   ]
  },
  {
   "cell_type": "code",
   "execution_count": 53,
   "id": "93459312-e0bb-4924-8768-1b2ba39eaf86",
   "metadata": {},
   "outputs": [
    {
     "data": {
      "text/plain": [
       "bs4.BeautifulSoup"
      ]
     },
     "execution_count": 53,
     "metadata": {},
     "output_type": "execute_result"
    }
   ],
   "source": [
    "type(soup)"
   ]
  },
  {
   "cell_type": "code",
   "execution_count": 68,
   "id": "5e3fef67-e84b-4c69-8b8a-d110855eccde",
   "metadata": {},
   "outputs": [
    {
     "data": {
      "text/plain": [
       "'\\n\\n\\n\\nFlat white - Wikipedia, la enciclopedia libre\\n\\n\\n\\n\\n\\n\\n\\n\\n\\n\\n\\n\\n\\n\\n\\n\\n\\n\\n\\n\\n\\n\\n\\n\\n\\n\\n\\n\\n\\n\\n\\n\\n\\n\\n\\n\\n\\nIr al contenido\\n\\n\\n\\n\\n\\n\\n\\nMenú principal\\n\\n\\n\\n\\n\\nMenú principal\\nmover a la barra lateral\\nocultar\\n\\n\\n\\n\\t\\tNavegación\\n\\t\\n\\n\\nPortadaPortal de la comunidadActualidadCambios recientesPáginas nuevasPágina aleatoriaAyudaDonacionesNotificar un error\\n\\n\\n\\n\\n\\n\\n\\n\\n\\n\\n\\n\\n\\n\\n\\n\\n\\n\\n\\nBuscar\\n\\n\\n\\n\\n\\n\\n\\n\\n\\n\\n\\nBuscar\\n\\n\\n\\n\\n\\n\\n\\n\\n\\n\\n\\n\\n\\n\\n\\n\\n\\n\\n\\n\\n\\n\\nApariencia\\n\\n\\n\\n\\n\\n\\n\\n\\n\\n\\n\\n\\n\\n\\n\\n\\nCrear una cuenta\\n\\nAcceder\\n\\n\\n\\n\\n\\n\\n\\n\\nHerramientas personales\\n\\n\\n\\n\\n\\n Crear una cuenta Acceder\\n\\n\\n\\n\\n\\n\\t\\tPáginas para editores desconectados más información\\n\\n\\n\\nContribucionesDiscusión\\n\\n\\n\\n\\n\\n\\n\\n\\n\\n\\n\\n\\n\\n\\n\\n\\n\\n\\n\\n\\n\\n\\n\\n\\n\\n\\n\\n\\nContenidos\\nmover a la barra lateral\\nocultar\\n\\n\\n\\n\\nInicio\\n\\n\\n\\n\\n\\n1\\nDescripción\\n\\n\\n\\n\\n\\n\\n\\n\\n2\\nOrígenes\\n\\n\\n\\n\\n\\n\\n\\n\\n3\\nCafés similares\\n\\n\\n\\n\\n\\n\\n\\n\\n4\\nInternacionalización\\n\\n\\n\\n\\n\\n\\n\\n\\n5\\nVéase también\\n\\n\\n\\n\\n\\n\\n\\n\\n6\\nReferencias\\n\\n\\n\\n\\n\\n\\n\\n\\n\\n\\n\\n\\n\\n\\n\\n\\n\\n\\nCambiar a la tabla de contenidos\\n\\n\\n\\n\\n\\n\\n\\nFlat white\\n\\n\\n\\n22 idiomas\\n\\n\\n\\n\\nالعربيةČeštinaCymraegDeutschΕλληνικάEnglishفارسیFrançaisItaliano日本語한국어LietuviųNederlandsPapiamentuPolsk'"
      ]
     },
     "execution_count": 68,
     "metadata": {},
     "output_type": "execute_result"
    }
   ],
   "source": [
    "soup.text[0:1000] # solo texto sin tags (etiquetas <> </>)"
   ]
  },
  {
   "cell_type": "code",
   "execution_count": 55,
   "id": "0a8d36b1-5964-4923-a736-550ffbebb346",
   "metadata": {},
   "outputs": [
    {
     "data": {
      "text/plain": [
       "<head>\n",
       "<meta charset=\"utf-8\"/>\n",
       "<title>Flat white - Wikipedia, la enciclopedia libre</title>\n",
       "<script>(function(){var className=\"client-js vector-feature-language-in-header-enabled vector-feature-language-in-main-page-header-disabled vector-feature-sticky-header-disabled vector-feature-page-tools-pinned-disabled vector-feature-toc-pinned-clientpref-1 vector-feature-main-menu-pinned-disabled vector-feature-limited-width-clientpref-1 vector-feature-limited-width-content-enabled vector-feature-custom-font-size-clientpref-1 vector-feature-appearance-enabled vector-feature-appearance-pinned-clientpref-1 vector-feature-night-mode-disabled skin-theme-clientpref-day vector-toc-available\";var cookie=document.cookie.match(/(?:^|; )eswikimwclientpreferences=([^;]+)/);if(cookie){cookie[1].split('%2C').forEach(function(pref){className=className.replace(new RegExp('(^| )'+pref.replace(/-clientpref-\\w+$|[^\\w-]+/g,'')+'-clientpref-\\\\w+( |$)'),'$1'+pref+'$2');});}document.documentElement.className=className;}());RLCONF={\"wgBreakFrames\":false,\"wgSeparatorTransformTable\":[\",\\t.\",\" \\t,\"],\n",
       "\"wgDigitTransformTable\":[\"\",\"\"],\"wgDefaultDateFormat\":\"dmy\",\"wgMonthNames\":[\"\",\"enero\",\"febrero\",\"marzo\",\"abril\",\"mayo\",\"junio\",\"julio\",\"agosto\",\"septiembre\",\"octubre\",\"noviembre\",\"diciembre\"],\"wgRequestId\":\"f800aa9c-92b7-40bc-a6d8-b26c363df8f9\",\"wgCanonicalNamespace\":\"\",\"wgCanonicalSpecialPageName\":false,\"wgNamespaceNumber\":0,\"wgPageName\":\"Flat_white\",\"wgTitle\":\"Flat white\",\"wgCurRevisionId\":158730175,\"wgRevisionId\":158730175,\"wgArticleId\":6865104,\"wgIsArticle\":true,\"wgIsRedirect\":false,\"wgAction\":\"view\",\"wgUserName\":null,\"wgUserGroups\":[\"*\"],\"wgCategories\":[\"Inventos de Australia\"],\"wgPageViewLanguage\":\"es\",\"wgPageContentLanguage\":\"es\",\"wgPageContentModel\":\"wikitext\",\"wgRelevantPageName\":\"Flat_white\",\"wgRelevantArticleId\":6865104,\"wgIsProbablyEditable\":true,\"wgRelevantPageIsProbablyEditable\":true,\"wgRestrictionEdit\":[],\"wgRestrictionMove\":[],\"wgNoticeProject\":\"wikipedia\",\"wgCiteReferencePreviewsActive\":false,\"wgMediaViewerOnClick\":true,\"wgMediaViewerEnabledByDefault\":true,\n",
       "\"wgPopupsFlags\":6,\"wgVisualEditor\":{\"pageLanguageCode\":\"es\",\"pageLanguageDir\":\"ltr\",\"pageVariantFallbacks\":\"es\"},\"wgMFDisplayWikibaseDescriptions\":{\"search\":true,\"watchlist\":true,\"tagline\":true,\"nearby\":true},\"wgWMESchemaEditAttemptStepOversample\":false,\"wgWMEPageLength\":8000,\"wgULSCurrentAutonym\":\"español\",\"wgCentralAuthMobileDomain\":false,\"wgEditSubmitButtonLabelPublish\":true,\"wgULSPosition\":\"interlanguage\",\"wgULSisCompactLinksEnabled\":false,\"wgVector2022LanguageInHeader\":true,\"wgULSisLanguageSelectorEmpty\":false,\"wgWikibaseItemId\":\"Q62449\",\"wgCheckUserClientHintsHeadersJsApi\":[\"architecture\",\"bitness\",\"brands\",\"fullVersionList\",\"mobile\",\"model\",\"platform\",\"platformVersion\"],\"GEHomepageSuggestedEditsEnableTopics\":true,\"wgGETopicsMatchModeEnabled\":true,\"wgGEStructuredTaskRejectionReasonTextInputEnabled\":false,\"wgGELevelingUpEnabledForUser\":false};RLSTATE={\"ext.gadget.imagenesinfobox\":\"ready\",\"ext.globalCssJs.user.styles\":\"ready\",\"site.styles\":\"ready\",\"user.styles\":\"ready\",\n",
       "\"ext.globalCssJs.user\":\"ready\",\"user\":\"ready\",\"user.options\":\"loading\",\"ext.cite.styles\":\"ready\",\"skins.vector.search.codex.styles\":\"ready\",\"skins.vector.styles\":\"ready\",\"skins.vector.icons\":\"ready\",\"ext.wikimediamessages.styles\":\"ready\",\"ext.visualEditor.desktopArticleTarget.noscript\":\"ready\",\"ext.uls.interlanguage\":\"ready\",\"wikibase.client.init\":\"ready\",\"ext.wikimediaBadges\":\"ready\"};RLPAGEMODULES=[\"ext.cite.ux-enhancements\",\"mediawiki.page.media\",\"site\",\"mediawiki.page.ready\",\"mediawiki.toc\",\"skins.vector.js\",\"ext.centralNotice.geoIP\",\"ext.centralNotice.startUp\",\"ext.gadget.a-commons-directo\",\"ext.gadget.ReferenceTooltips\",\"ext.gadget.refToolbar\",\"ext.gadget.switcher\",\"ext.urlShortener.toolbar\",\"ext.centralauth.centralautologin\",\"mmv.head\",\"mmv.bootstrap.autostart\",\"ext.popups\",\"ext.visualEditor.desktopArticleTarget.init\",\"ext.visualEditor.targetLoader\",\"ext.echo.centralauth\",\"ext.eventLogging\",\"ext.wikimediaEvents\",\"ext.navigationTiming\",\"ext.uls.interface\",\n",
       "\"ext.cx.eventlogging.campaigns\",\"ext.cx.uls.quick.actions\",\"wikibase.client.vector-2022\",\"ext.checkUser.clientHints\",\"ext.quicksurveys.init\",\"ext.growthExperiments.SuggestedEditSession\"];</script>\n",
       "<script>(RLQ=window.RLQ||[]).push(function(){mw.loader.impl(function(){return[\"user.options@12s5i\",function($,jQuery,require,module){mw.user.tokens.set({\"patrolToken\":\"+\\\\\",\"watchToken\":\"+\\\\\",\"csrfToken\":\"+\\\\\"});\n",
       "}];});});</script>\n",
       "<link href=\"/w/load.php?lang=es&amp;modules=ext.cite.styles%7Cext.uls.interlanguage%7Cext.visualEditor.desktopArticleTarget.noscript%7Cext.wikimediaBadges%7Cext.wikimediamessages.styles%7Cskins.vector.icons%2Cstyles%7Cskins.vector.search.codex.styles%7Cwikibase.client.init&amp;only=styles&amp;skin=vector-2022\" rel=\"stylesheet\"/>\n",
       "<script async=\"\" src=\"/w/load.php?lang=es&amp;modules=startup&amp;only=scripts&amp;raw=1&amp;skin=vector-2022\"></script>\n",
       "<meta content=\"\" name=\"ResourceLoaderDynamicStyles\"/>\n",
       "<link href=\"/w/load.php?lang=es&amp;modules=ext.gadget.imagenesinfobox&amp;only=styles&amp;skin=vector-2022\" rel=\"stylesheet\"/>\n",
       "<link href=\"/w/load.php?lang=es&amp;modules=site.styles&amp;only=styles&amp;skin=vector-2022\" rel=\"stylesheet\"/>\n",
       "<noscript><link href=\"/w/load.php?lang=es&amp;modules=noscript&amp;only=styles&amp;skin=vector-2022\" rel=\"stylesheet\"/></noscript>\n",
       "<meta content=\"MediaWiki 1.43.0-wmf.8\" name=\"generator\"/>\n",
       "<meta content=\"origin\" name=\"referrer\"/>\n",
       "<meta content=\"origin-when-cross-origin\" name=\"referrer\"/>\n",
       "<meta content=\"max-image-preview:standard\" name=\"robots\"/>\n",
       "<meta content=\"telephone=no\" name=\"format-detection\"/>\n",
       "<meta content=\"https://upload.wikimedia.org/wikipedia/commons/2/2d/Flat_White_Coffee.png\" property=\"og:image\"/>\n",
       "<meta content=\"1200\" property=\"og:image:width\"/>\n",
       "<meta content=\"900\" property=\"og:image:height\"/>\n",
       "<meta content=\"https://upload.wikimedia.org/wikipedia/commons/2/2d/Flat_White_Coffee.png\" property=\"og:image\"/>\n",
       "<meta content=\"800\" property=\"og:image:width\"/>\n",
       "<meta content=\"600\" property=\"og:image:height\"/>\n",
       "<meta content=\"640\" property=\"og:image:width\"/>\n",
       "<meta content=\"480\" property=\"og:image:height\"/>\n",
       "<meta content=\"width=1000\" name=\"viewport\"/>\n",
       "<meta content=\"Flat white - Wikipedia, la enciclopedia libre\" property=\"og:title\"/>\n",
       "<meta content=\"website\" property=\"og:type\"/>\n",
       "<link href=\"//upload.wikimedia.org\" rel=\"preconnect\"/>\n",
       "<link href=\"//es.m.wikipedia.org/wiki/Flat_white\" media=\"only screen and (max-width: 720px)\" rel=\"alternate\"/>\n",
       "<link href=\"/w/index.php?title=Flat_white&amp;action=edit\" rel=\"alternate\" title=\"Editar\" type=\"application/x-wiki\"/>\n",
       "<link href=\"/static/apple-touch/wikipedia.png\" rel=\"apple-touch-icon\"/>\n",
       "<link href=\"/static/favicon/wikipedia.ico\" rel=\"icon\"/>\n",
       "<link href=\"/w/rest.php/v1/search\" rel=\"search\" title=\"Wikipedia (es)\" type=\"application/opensearchdescription+xml\"/>\n",
       "<link href=\"//es.wikipedia.org/w/api.php?action=rsd\" rel=\"EditURI\" type=\"application/rsd+xml\"/>\n",
       "<link href=\"https://es.wikipedia.org/wiki/Flat_white\" rel=\"canonical\"/>\n",
       "<link href=\"https://creativecommons.org/licenses/by-sa/4.0/deed.es\" rel=\"license\"/>\n",
       "<link href=\"/w/index.php?title=Especial:CambiosRecientes&amp;feed=atom\" rel=\"alternate\" title=\"Canal Atom de Wikipedia\" type=\"application/atom+xml\"/>\n",
       "<link href=\"//meta.wikimedia.org\" rel=\"dns-prefetch\">\n",
       "<link href=\"//login.wikimedia.org\" rel=\"dns-prefetch\"/>\n",
       "</link></head>"
      ]
     },
     "execution_count": 55,
     "metadata": {},
     "output_type": "execute_result"
    }
   ],
   "source": [
    "soup.head # solo el encabezado"
   ]
  },
  {
   "cell_type": "markdown",
   "id": "68a20ea7-e911-497f-8ef8-7ac5b3eaa9c7",
   "metadata": {},
   "source": [
    "## Puedo acceder a una etiqueta a traves de su nombre"
   ]
  },
  {
   "cell_type": "code",
   "execution_count": 10,
   "id": "8b29365f-3594-4962-a9d7-d3ce4f2844eb",
   "metadata": {},
   "outputs": [
    {
     "data": {
      "text/plain": [
       "<title>Flat white - Wikipedia, la enciclopedia libre</title>"
      ]
     },
     "execution_count": 10,
     "metadata": {},
     "output_type": "execute_result"
    }
   ],
   "source": [
    "soup.title"
   ]
  },
  {
   "cell_type": "code",
   "execution_count": 35,
   "id": "22c27690-76ad-445c-8321-b244f959663b",
   "metadata": {},
   "outputs": [
    {
     "data": {
      "text/plain": [
       "<p>Según una encuesta realizada a expertos de la industria del café, un flat white tiene varias características definitorias, siendo la principal una capa fina de leche caliente o microespuma (de ahí \"flat\" en flat white), en oposición a la capa relativamente gruesa de espuma en un capuchino.<sup class=\"reference separada\" id=\"cite_ref-Hunter_7-0\"><a href=\"#cite_note-Hunter-7\"><span class=\"corchete-llamada\">[</span>7<span class=\"corchete-llamada\">]</span></a></sup>​<sup class=\"reference separada\" id=\"cite_ref-8\"><a href=\"#cite_note-8\"><span class=\"corchete-llamada\">[</span>8<span class=\"corchete-llamada\">]</span></a></sup>​ \n",
       "</p>"
      ]
     },
     "execution_count": 35,
     "metadata": {},
     "output_type": "execute_result"
    }
   ],
   "source": [
    "soup.p"
   ]
  },
  {
   "cell_type": "code",
   "execution_count": 15,
   "id": "e78c53dd-0b25-4747-9948-e6dcc71e6b3f",
   "metadata": {},
   "outputs": [
    {
     "data": {
      "text/plain": [
       "<li class=\"mw-list-item\" id=\"n-mainpage-description\"><a accesskey=\"z\" href=\"/wiki/Wikipedia:Portada\" title=\"Visitar la página principal [z]\"><span>Portada</span></a></li>"
      ]
     },
     "execution_count": 15,
     "metadata": {},
     "output_type": "execute_result"
    }
   ],
   "source": [
    "soup.li"
   ]
  },
  {
   "cell_type": "markdown",
   "id": "b7e4d90b-1734-4860-b9bc-523686ee0722",
   "metadata": {},
   "source": [
    "## Puedo acceder a los atributos de una etiqueta"
   ]
  },
  {
   "cell_type": "code",
   "execution_count": 70,
   "id": "1cf278aa-edaf-45ba-ac81-e2e2ce71f71c",
   "metadata": {},
   "outputs": [
    {
     "data": {
      "text/plain": [
       "['mw-list-item']"
      ]
     },
     "execution_count": 70,
     "metadata": {},
     "output_type": "execute_result"
    }
   ],
   "source": [
    "soup.li.attrs['class']"
   ]
  },
  {
   "cell_type": "markdown",
   "id": "7fbb8535-ef81-406a-958d-087f0c835b96",
   "metadata": {},
   "source": [
    "## Puedo acceder al texto de una etiqueta"
   ]
  },
  {
   "cell_type": "code",
   "execution_count": 71,
   "id": "b1a93f90-23f9-48bf-8f1e-ae2481f4db8e",
   "metadata": {},
   "outputs": [
    {
     "data": {
      "text/plain": [
       "'Portada'"
      ]
     },
     "execution_count": 71,
     "metadata": {},
     "output_type": "execute_result"
    }
   ],
   "source": [
    "soup.li.text"
   ]
  },
  {
   "cell_type": "markdown",
   "id": "248a4c41-c702-4052-b9cd-552baaa16c01",
   "metadata": {},
   "source": [
    "## Una etiqueta (tag) puede tener un solo padre (parent)"
   ]
  },
  {
   "cell_type": "code",
   "execution_count": 62,
   "id": "02357e69-1cae-4f45-bf9f-f0b01407c23a",
   "metadata": {},
   "outputs": [
    {
     "data": {
      "text/plain": [
       "'head'"
      ]
     },
     "execution_count": 62,
     "metadata": {},
     "output_type": "execute_result"
    }
   ],
   "source": [
    "soup.title.parent.name"
   ]
  },
  {
   "cell_type": "markdown",
   "id": "df06bf36-7e11-4a79-9668-8b9c51506c11",
   "metadata": {},
   "source": [
    "## Una etiqueta (tag) puede tener muchos hijos (children)"
   ]
  },
  {
   "cell_type": "code",
   "execution_count": 61,
   "id": "e148afee-fdc1-4712-9e68-de2577d49313",
   "metadata": {},
   "outputs": [
    {
     "name": "stdout",
     "output_type": "stream",
     "text": [
      "74\n"
     ]
    }
   ],
   "source": [
    "contador = 0\n",
    "for hijo in soup.head.children:\n",
    "    contador += 1\n",
    "print(contador)"
   ]
  },
  {
   "cell_type": "markdown",
   "id": "d6cd23c3-2330-4d27-bbdc-7743aea2aec4",
   "metadata": {},
   "source": [
    "## Puedo buscar la primer etiqueta con un nombre especifico"
   ]
  },
  {
   "cell_type": "code",
   "execution_count": 77,
   "id": "4882ab1a-4fad-4495-b532-f22d4cae6299",
   "metadata": {},
   "outputs": [
    {
     "data": {
      "text/plain": [
       "<p>Según una encuesta realizada a expertos de la industria del café, un flat white tiene varias características definitorias, siendo la principal una capa fina de leche caliente o microespuma (de ahí \"flat\" en flat white), en oposición a la capa relativamente gruesa de espuma en un capuchino.<sup class=\"reference separada\" id=\"cite_ref-Hunter_7-0\"><a href=\"#cite_note-Hunter-7\"><span class=\"corchete-llamada\">[</span>7<span class=\"corchete-llamada\">]</span></a></sup>​<sup class=\"reference separada\" id=\"cite_ref-8\"><a href=\"#cite_note-8\"><span class=\"corchete-llamada\">[</span>8<span class=\"corchete-llamada\">]</span></a></sup>​ \n",
       "</p>"
      ]
     },
     "execution_count": 77,
     "metadata": {},
     "output_type": "execute_result"
    }
   ],
   "source": [
    "soup.find('p')"
   ]
  },
  {
   "cell_type": "markdown",
   "id": "67ba9436-678b-4a25-8698-ff28e68a7fd3",
   "metadata": {},
   "source": [
    "## Puedo buscar todas las etiquetas con un nombre especifico"
   ]
  },
  {
   "cell_type": "code",
   "execution_count": 74,
   "id": "d501c2c4-5eec-4139-a934-5b4c4a77105e",
   "metadata": {},
   "outputs": [
    {
     "data": {
      "text/plain": [
       "[<p>Según una encuesta realizada a expertos de la industria del café, un flat white tiene varias características definitorias, siendo la principal una capa fina de leche caliente o microespuma (de ahí \"flat\" en flat white), en oposición a la capa relativamente gruesa de espuma en un capuchino.<sup class=\"reference separada\" id=\"cite_ref-Hunter_7-0\"><a href=\"#cite_note-Hunter-7\"><span class=\"corchete-llamada\">[</span>7<span class=\"corchete-llamada\">]</span></a></sup>​<sup class=\"reference separada\" id=\"cite_ref-8\"><a href=\"#cite_note-8\"><span class=\"corchete-llamada\">[</span>8<span class=\"corchete-llamada\">]</span></a></sup>​ \n",
       " </p>,\n",
       " <p>Fuera de Australia y Nueva Zelanda, el flat white ha sido exportado al Reino Unido desde 2005, y en 2010 comenzó a ser comercializado por <a href=\"/wiki/Starbucks\" title=\"Starbucks\">Starbucks</a> en este país.<sup class=\"reference separada\" id=\"cite_ref-11\"><a href=\"#cite_note-11\"><span class=\"corchete-llamada\">[</span>11<span class=\"corchete-llamada\">]</span></a></sup>​ En 2013 el flat white empezó a servirse en cafeterías australianas de Nueva York, con <a href=\"/wiki/Hugh_Jackman\" title=\"Hugh Jackman\">Hugh Jackman</a> como copropietario de una de ellas y apoyando este tipo de café.<sup class=\"reference separada\" id=\"cite_ref-Jumpertz_12-0\"><a href=\"#cite_note-Jumpertz-12\"><span class=\"corchete-llamada\">[</span>12<span class=\"corchete-llamada\">]</span></a></sup>​\n",
       " </p>,\n",
       " <p>Con la popularización del flat white en todo el mundo, cadenas de café como <a href=\"/wiki/Starbucks\" title=\"Starbucks\">Starbucks</a><a href=\"/wiki/Starbucks\" title=\"Starbucks\"></a>, <a href=\"/wiki/Costa_Coffee\" title=\"Costa Coffee\">Costa Café</a>, <a href=\"/wiki/Caff%C3%A8_Nero\" title=\"Caffè Nero\">Caffè Nero</a> y <a href=\"/wiki/Pret_a_Manger\" title=\"Pret a Manger\">Pret a Manger</a> lo han añadido a sus cartas. En Estados Unidos, Starbucks comenzó a servir flat whites en sus cafeterías en enero de 2015.<sup class=\"reference separada\" id=\"cite_ref-13\"><a href=\"#cite_note-13\"><span class=\"corchete-llamada\">[</span>13<span class=\"corchete-llamada\">]</span></a></sup>​\n",
       " </p>]"
      ]
     },
     "execution_count": 74,
     "metadata": {},
     "output_type": "execute_result"
    }
   ],
   "source": [
    "soup.find_all('p')"
   ]
  },
  {
   "cell_type": "markdown",
   "id": "e6887a98-dfbc-42bd-8f2f-a01003af16a6",
   "metadata": {},
   "source": [
    "## Puedo buscar todas las etiquetas con un nombre especifico filtrando por nombres y valores de atributos"
   ]
  },
  {
   "cell_type": "code",
   "execution_count": 76,
   "id": "5f386417-38d9-4d23-88c1-dbf102fd7936",
   "metadata": {},
   "outputs": [
    {
     "data": {
      "text/plain": [
       "<div class=\"vector-menu-heading\">\n",
       "\t\tNavegación\n",
       "\t</div>"
      ]
     },
     "execution_count": 76,
     "metadata": {},
     "output_type": "execute_result"
    }
   ],
   "source": [
    "soup.find(\"div\", attrs={'class':'vector-menu-heading'})"
   ]
  },
  {
   "cell_type": "markdown",
   "id": "8900b2df-e81a-421e-98b5-82cf0a3c7b82",
   "metadata": {},
   "source": [
    "### Los resultados de estas operaciones devuelven objetos de Beautiful Soup sobre los que puedo seguir haciendo nuevas busquedas y operaciones"
   ]
  },
  {
   "cell_type": "code",
   "execution_count": 66,
   "id": "39115e4c-04f1-4d11-ae3d-387b375a052e",
   "metadata": {},
   "outputs": [
    {
     "data": {
      "text/plain": [
       "bs4.element.ResultSet"
      ]
     },
     "execution_count": 66,
     "metadata": {},
     "output_type": "execute_result"
    }
   ],
   "source": [
    "type(soup.find_all('a'))"
   ]
  },
  {
   "cell_type": "code",
   "execution_count": 39,
   "id": "d1f9ff6a-7b38-4732-b116-f1f83578b578",
   "metadata": {},
   "outputs": [
    {
     "name": "stdout",
     "output_type": "stream",
     "text": [
      "https://www.wikidata.org/wiki/Special:EntityPage/Q62449\n",
      "https://commons.wikimedia.org/wiki/Category:Flat_white\n",
      "https://web.archive.org/web/20150416150438/http://www.3news.co.nz/world/baristas-battle-to-claim-flat-white-as-their-own-2015011318\n",
      "https://web.archive.org/web/20110704220420/http://coffeegeek.com/guides/frothingguide/milk\n",
      "https://www.wikidata.org/wiki/Q62449\n",
      "https://commons.wikimedia.org/wiki/Category:Flat_white\n",
      "https://commons.wikimedia.org/wiki/Special:MediaSearch?type=image&search=%22Q62449%22\n",
      "https://www.wikidata.org/wiki/Q62449\n",
      "https://commons.wikimedia.org/wiki/Category:Flat_white\n",
      "https://commons.wikimedia.org/wiki/Special:MediaSearch?type=image&search=%22Q62449%22\n",
      "https://creativecommons.org/licenses/by-sa/4.0/deed.es\n",
      "https://foundation.wikimedia.org/wiki/Policy:Terms_of_Use/es\n",
      "https://foundation.wikimedia.org/wiki/Policy:Privacy_policy/es\n",
      "https://wikimediafoundation.org/es/\n",
      "https://foundation.wikimedia.org/wiki/Special:MyLanguage/Policy:Privacy_policy/es\n",
      "https://foundation.wikimedia.org/wiki/Special:MyLanguage/Policy:Universal_Code_of_Conduct\n",
      "https://developer.wikimedia.org\n",
      "https://foundation.wikimedia.org/wiki/Special:MyLanguage/Policy:Cookie_statement/es\n",
      "https://wikimediafoundation.org/\n",
      "https://www.mediawiki.org/\n"
     ]
    }
   ],
   "source": [
    "for link in soup.find_all('a', href=True):\n",
    "    url = link.get('href')\n",
    "    if url.startswith(\"https\") and \"wikipedia\" not in url:\n",
    "        print(url)"
   ]
  },
  {
   "cell_type": "code",
   "execution_count": 42,
   "id": "b2a6013c-6e3a-4916-8ed8-07937673930b",
   "metadata": {},
   "outputs": [
    {
     "data": {
      "text/plain": [
       "'#cite_note-Hunter-7'"
      ]
     },
     "execution_count": 42,
     "metadata": {},
     "output_type": "execute_result"
    }
   ],
   "source": [
    "soup.find('p').find('a').attrs['href']"
   ]
  },
  {
   "cell_type": "code",
   "execution_count": 23,
   "id": "57eee0d3-c09d-4d7f-86c4-95d2e0eae752",
   "metadata": {},
   "outputs": [
    {
     "data": {
      "text/plain": [
       "'[7]'"
      ]
     },
     "execution_count": 23,
     "metadata": {},
     "output_type": "execute_result"
    }
   ],
   "source": [
    "soup.find('p').find('a').text.strip()"
   ]
  },
  {
   "cell_type": "code",
   "execution_count": null,
   "id": "8dcdbb40-3267-4b6f-9a36-157b3d2df9a6",
   "metadata": {},
   "outputs": [],
   "source": []
  }
 ],
 "metadata": {
  "kernelspec": {
   "display_name": "base",
   "language": "python",
   "name": "base"
  },
  "language_info": {
   "codemirror_mode": {
    "name": "ipython",
    "version": 3
   },
   "file_extension": ".py",
   "mimetype": "text/x-python",
   "name": "python",
   "nbconvert_exporter": "python",
   "pygments_lexer": "ipython3",
   "version": "3.9.18"
  }
 },
 "nbformat": 4,
 "nbformat_minor": 5
}
