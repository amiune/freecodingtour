{
 "cells": [
  {
   "cell_type": "markdown",
   "id": "acae38b3-e0de-4f95-b707-ad5c4d49a719",
   "metadata": {},
   "source": [
    "# Enviar datos en un formulario request.post()\n",
    "\n",
    "Utilizar la funcion request.post() para obtener el resultado html de la pagina web a la que te envia el siguiente formulario: https://testpages.eviltester.com/styled/basic-html-form-test.html"
   ]
  },
  {
   "cell_type": "code",
   "execution_count": null,
   "id": "8c37adf1-efc3-4ad7-a173-18365650faf5",
   "metadata": {},
   "outputs": [],
   "source": []
  }
 ],
 "metadata": {
  "kernelspec": {
   "display_name": "base",
   "language": "python",
   "name": "base"
  },
  "language_info": {
   "codemirror_mode": {
    "name": "ipython",
    "version": 3
   },
   "file_extension": ".py",
   "mimetype": "text/x-python",
   "name": "python",
   "nbconvert_exporter": "python",
   "pygments_lexer": "ipython3",
   "version": "3.9.18"
  }
 },
 "nbformat": 4,
 "nbformat_minor": 5
}
