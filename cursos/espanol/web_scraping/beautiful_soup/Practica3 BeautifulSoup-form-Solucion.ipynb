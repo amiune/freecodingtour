{
 "cells": [
  {
   "cell_type": "code",
   "execution_count": 1,
   "id": "26db48c1-dd51-4210-9985-1e2e7de8c1c8",
   "metadata": {},
   "outputs": [],
   "source": [
    "from bs4 import BeautifulSoup\n",
    "import requests"
   ]
  },
  {
   "cell_type": "code",
   "execution_count": 2,
   "id": "5cc403be-2061-49e5-b972-8306a2a8dae9",
   "metadata": {},
   "outputs": [
    {
     "data": {
      "text/plain": [
       "200"
      ]
     },
     "execution_count": 11,
     "metadata": {},
     "output_type": "execute_result"
    }
   ],
   "source": [
    "url = 'https://testpages.herokuapp.com/styled/the_form_processor.php'\n",
    "response = requests.get(url)\n",
    "response.status_code"
   ]
  },
  {
   "cell_type": "code",
   "execution_count": 3,
   "id": "54044467-deea-465f-9f60-2f1b69c89da6",
   "metadata": {},
   "outputs": [],
   "source": [
    "#https://testpages.herokuapp.com/styled/basic-html-form-test.html\n",
    "url = 'https://testpages.herokuapp.com/styled/the_form_processor.php'\n",
    "data = {'username':'Hernan',\n",
    "         'password':'1234'}\n",
    "\n",
    "response = requests.post(url, data=data)"
   ]
  },
  {
   "cell_type": "code",
   "execution_count": 38,
   "id": "09b20094-fd55-437a-ad10-858e1d7ab9dd",
   "metadata": {},
   "outputs": [
    {
     "data": {
      "text/plain": [
       "200"
      ]
     },
     "execution_count": 38,
     "metadata": {},
     "output_type": "execute_result"
    }
   ],
   "source": [
    "response.status_code"
   ]
  },
  {
   "cell_type": "code",
   "execution_count": 39,
   "id": "2fbc5a17-f551-4b4d-a12e-d8a0e0432c68",
   "metadata": {},
   "outputs": [
    {
     "data": {
      "text/plain": [
       "<!DOCTYPE html>\n",
       "\n",
       "<html>\n",
       "<head>\n",
       "<title>Processed Form Details</title>\n",
       "<link href=\"/css/testpages.css\" rel=\"stylesheet\"/>\n",
       "<!-- HEAD -->\n",
       "</head>\n",
       "<body>\n",
       "<div class=\"page-body\">\n",
       "<div class=\"page-navigation\">\n",
       "<a href=\"/styled/index.html\">Index</a>\n",
       "</div>\n",
       "<h1>Processed Form Details</h1>\n",
       "<div class=\"explanation\">\n",
       "<p>You submitted a form. The details below show the values you entered for processing.\n",
       "        </p>\n",
       "</div><div class=\"centered form-results\">\n",
       "<p id=\"_valuesubmitbutton\">You did not click the submit button</p>\n",
       "<h2>Submitted Values</h2>\n",
       "<div id=\"_username\">\n",
       "<p name=\"_username\"><strong>username</strong></p>\n",
       "<ul>\n",
       "<li id=\"_valueusername\">Hernan</li>\n",
       "</ul>\n",
       "</div>\n",
       "<div id=\"_password\">\n",
       "<p name=\"_password\"><strong>password</strong></p>\n",
       "<ul>\n",
       "<li id=\"_valuepassword\">1234</li>\n",
       "</ul>\n",
       "</div>\n",
       "<div class=\"form-label\">\n",
       "<a class=\"styled-click-button\" href=\"#\" id=\"back_to_form\" onclick=\"window.history.back()\">Go back</a>\n",
       "</div>\n",
       "</div>\n",
       "<div class=\"page-footer\">\n",
       "<p><a href=\"https://eviltester.com\" rel=\"noopener noreferrer\" target=\"_blank\">EvilTester.com</a>,\n",
       "            <a href=\"https://compendiumdev.co.uk\" rel=\"noopener noreferrer\" target=\"_blank\">Compendium Developments</a></p>\n",
       "</div>\n",
       "</div>\n",
       "<!-- BODY END -->\n",
       "</body>\n",
       "</html>"
      ]
     },
     "execution_count": 39,
     "metadata": {},
     "output_type": "execute_result"
    }
   ],
   "source": [
    "soup = BeautifulSoup(response.content, \"html.parser\")\n",
    "soup"
   ]
  },
  {
   "cell_type": "code",
   "execution_count": 4,
   "id": "43d7d630-d8b3-4c7b-a87d-b3af6e7301f8",
   "metadata": {},
   "outputs": [],
   "source": [
    "#https://testpages.herokuapp.com/styled/basic-html-form-test.html\n",
    "url = 'https://testpages.herokuapp.com/styled/the_form_processor.php'\n",
    "data = {'username':'Hernan',\n",
    "         'password':'1234',\n",
    "         'comments':'',\n",
    "         'filename':'',\n",
    "         'hiddenField':'',\n",
    "         'checkboxes[]':'cb3',\n",
    "         'radioval':'rd2',\n",
    "         'multipleselect[]':'ms4',\n",
    "         'dropdown':'dd3',\n",
    "         'submitbutton':'submit',\n",
    "         'reportmissingparams':'',\n",
    "         'form_return':''}\n",
    "\n",
    "response = requests.post(url, data = data)"
   ]
  },
  {
   "cell_type": "code",
   "execution_count": 5,
   "id": "fb2d0dee-d51e-4279-94c5-96b865e9ade3",
   "metadata": {},
   "outputs": [
    {
     "data": {
      "text/plain": [
       "<!DOCTYPE html>\n",
       "\n",
       "<html>\n",
       "<head>\n",
       "<title>Processed Form Details</title>\n",
       "<link href=\"/css/testpages.css\" rel=\"stylesheet\"/>\n",
       "<link href=\"/favicon.ico\" rel=\"shortcut icon\"/>\n",
       "<script data-domain=\"testpages.eviltester.com\" defer=\"\" src=\"https://plausible.io/js/script.js\"></script>\n",
       "<!-- HEAD -->\n",
       "</head>\n",
       "<body>\n",
       "<div class=\"page-body\">\n",
       "<div class=\"navigation\">\n",
       "<div class=\"page-navigation\">\n",
       "<a href=\"/styled/index.html\">Index</a>\n",
       "</div>\n",
       "<div class=\"app-navigation\">\n",
       "<!-- APPNAVIGATION CONTENT -->\n",
       "</div>\n",
       "</div>\n",
       "<h1>Processed Form Details</h1>\n",
       "<div class=\"explanation\">\n",
       "<p>You submitted a form. The details below show the values you entered for processing.\n",
       "        </p>\n",
       "</div><div class=\"centered form-results\">\n",
       "<h2>Submitted Values</h2>\n",
       "<div data-hasvalue=\"yes\" id=\"_username\">\n",
       "<p data-hasvalue=\"yes\" name=\"_username\"><strong>username</strong></p>\n",
       "<ul>\n",
       "<li id=\"_valueusername\">Hernan</li>\n",
       "</ul>\n",
       "</div>\n",
       "<div data-hasvalue=\"yes\" id=\"_password\">\n",
       "<p data-hasvalue=\"yes\" name=\"_password\"><strong>password</strong></p>\n",
       "<ul>\n",
       "<li id=\"_valuepassword\">1234</li>\n",
       "</ul>\n",
       "</div>\n",
       "<div data-hasvalue=\"no\" id=\"_comments\">\n",
       "<p data-hasvalue=\"no\" name=\"_comments\"><strong>No Value for comments</strong></p>\n",
       "</div>\n",
       "<div data-hasvalue=\"no\" id=\"_filename\">\n",
       "<p data-hasvalue=\"no\" name=\"_filename\"><strong>No Value for filename</strong></p>\n",
       "</div>\n",
       "<div data-hasvalue=\"no\" id=\"_hiddenField\">\n",
       "<p data-hasvalue=\"no\" name=\"_hiddenField\"><strong>No Value for hiddenField</strong></p>\n",
       "</div>\n",
       "<div data-hasvalue=\"yes\" id=\"_checkboxes\">\n",
       "<p data-hasvalue=\"yes\" name=\"_checkboxes\"><strong>checkboxes</strong></p>\n",
       "<ul>\n",
       "<li id=\"_valuecheckboxes0\">cb3,cb4</li>\n",
       "</ul>\n",
       "</div>\n",
       "<div data-hasvalue=\"yes\" id=\"_radioval\">\n",
       "<p data-hasvalue=\"yes\" name=\"_radioval\"><strong>radioval</strong></p>\n",
       "<ul>\n",
       "<li id=\"_valueradioval\">rd2</li>\n",
       "</ul>\n",
       "</div>\n",
       "<div data-hasvalue=\"yes\" id=\"_multipleselect\">\n",
       "<p data-hasvalue=\"yes\" name=\"_multipleselect\"><strong>multipleselect</strong></p>\n",
       "<ul>\n",
       "<li id=\"_valuemultipleselect0\">ms4</li>\n",
       "</ul>\n",
       "</div>\n",
       "<div data-hasvalue=\"yes\" id=\"_dropdown\">\n",
       "<p data-hasvalue=\"yes\" name=\"_dropdown\"><strong>dropdown</strong></p>\n",
       "<ul>\n",
       "<li id=\"_valuedropdown\">dd3</li>\n",
       "</ul>\n",
       "</div>\n",
       "<div data-hasvalue=\"yes\" id=\"_submitbutton\">\n",
       "<p data-hasvalue=\"yes\" name=\"_submitbutton\"><strong>submitbutton</strong></p>\n",
       "<ul>\n",
       "<li id=\"_valuesubmitbutton\">submit</li>\n",
       "</ul>\n",
       "</div>\n",
       "<p><strong>No Value for </strong></p>\n",
       "<div class=\"form-label\">\n",
       "<a class=\"styled-click-button\" href=\"\" id=\"back_to_form\">Go back to the form</a>\n",
       "</div>\n",
       "</div>\n",
       "<div class=\"page-footer\">\n",
       "<p><a href=\"https://eviltester.com\" rel=\"noopener noreferrer\" target=\"_blank\">EvilTester.com</a>,\n",
       "            <a href=\"https://compendiumdev.co.uk\" rel=\"noopener noreferrer\" target=\"_blank\">Compendium Developments</a></p>\n",
       "</div>\n",
       "</div>\n",
       "<!-- BODY END -->\n",
       "</body>\n",
       "</html>"
      ]
     },
     "execution_count": 5,
     "metadata": {},
     "output_type": "execute_result"
    }
   ],
   "source": [
    "BeautifulSoup(response.content, \"html.parser\")"
   ]
  },
  {
   "cell_type": "code",
   "execution_count": 46,
   "id": "1aba3d8c-cd0d-49a5-a42d-360306d617e6",
   "metadata": {},
   "outputs": [
    {
     "data": {
      "text/plain": [
       "<!DOCTYPE html>\n",
       "\n",
       "<html>\n",
       "<head>\n",
       "<title>Pagina cool</title>\n",
       "</head>\n",
       "<body>\n",
       "<h1 id=\"tituloh1\">Titulo H1</h1>\n",
       "<h2>Titulo H2</h2>\n",
       "<h3>Titulo H3</h3>\n",
       "<p>Parrafo</p>\n",
       "<ol>Lista Ordenada\n",
       "    <li>Elemento 1 de la lista ordenada</li>\n",
       "<li>Elemento 2 de la lista ordenada</li>\n",
       "<li>Elemento 3 de la lista ordenada</li>\n",
       "</ol>\n",
       "<ul>Lista No Ordenada\n",
       "    <li>Elemento 1 de la lista no ordenada</li>\n",
       "<li>Elemento 2 de la lista no ordenada</li>\n",
       "<li>Elemento 3 de la lista no ordenada</li>\n",
       "</ul>\n",
       "<a href=\"https://www.google.com\"> Link a google</a>\n",
       "<br/> <!-- -->\n",
       "<a href=\"#tituloh1\" title=\"info extra\"> Link a marcador en la pagina</a>\n",
       "<br/>\n",
       "<br/>\n",
       "<img alt=\"este es un texto alternativo a la imagen\" height=\"130\" src=\"html5.png\" width=\"120\"/>\n",
       "<p style=\"color:red;\">Parrafo de color rojo</p>\n",
       "<p><b>Negrita</b><i>Italica</i><mark>Marcado</mark></p>\n",
       "<iframe src=\"https://www.wikipedia.com\" title=\"una pagina dentro de otra pagina\"></iframe>\n",
       "<div id=\"jsdemo\"></div>\n",
       "<script>\n",
       "    document.getElementById(\"jsdemo\").innerHTML = \"Hola JavaScript!\";\n",
       "    function mostrarHora(){\n",
       "        document.getElementById('jsdemo').innerHTML = Date();\n",
       "        console.log(\"Hola consola\");\n",
       "    }\n",
       "</script>\n",
       "<button onclick=\"mostrarHora()\" type=\"button\"> Click para ver la hora</button>\n",
       "</body>\n",
       "</html>"
      ]
     },
     "execution_count": 46,
     "metadata": {},
     "output_type": "execute_result"
    }
   ],
   "source": [
    "BeautifulSoup(response.content, \"html.parser\")"
   ]
  },
  {
   "cell_type": "code",
   "execution_count": null,
   "id": "be625dab-6155-46c9-97f1-222cbe5927c7",
   "metadata": {},
   "outputs": [],
   "source": []
  }
 ],
 "metadata": {
  "kernelspec": {
   "display_name": "base",
   "language": "python",
   "name": "base"
  },
  "language_info": {
   "codemirror_mode": {
    "name": "ipython",
    "version": 3
   },
   "file_extension": ".py",
   "mimetype": "text/x-python",
   "name": "python",
   "nbconvert_exporter": "python",
   "pygments_lexer": "ipython3",
   "version": "3.9.18"
  }
 },
 "nbformat": 4,
 "nbformat_minor": 5
}
