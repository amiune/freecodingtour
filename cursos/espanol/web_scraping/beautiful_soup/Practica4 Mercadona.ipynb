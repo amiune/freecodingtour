{
 "cells": [
  {
   "cell_type": "markdown",
   "id": "849c6504-bc8a-4276-9661-aa9859b1e966",
   "metadata": {},
   "source": [
    "# Web scrapping de Mercadona\n",
    "\n",
    "Guardar la informacion (descripcion, precio y formato) de los aceites de oliva en un dataframe de pandas"
   ]
  },
  {
   "cell_type": "code",
   "execution_count": 27,
   "id": "09d1720f-a3b4-45d5-b8c7-6dfe21f76252",
   "metadata": {},
   "outputs": [],
   "source": [
    "URL = \"https://tienda.mercadona.es/categories/112\""
   ]
  },
  {
   "cell_type": "code",
   "execution_count": 57,
   "id": "1272c134-a5d1-4848-8e30-6407a62369ca",
   "metadata": {},
   "outputs": [
    {
     "data": {
      "text/html": [
       "<div>\n",
       "<style scoped>\n",
       "    .dataframe tbody tr th:only-of-type {\n",
       "        vertical-align: middle;\n",
       "    }\n",
       "\n",
       "    .dataframe tbody tr th {\n",
       "        vertical-align: top;\n",
       "    }\n",
       "\n",
       "    .dataframe thead th {\n",
       "        text-align: right;\n",
       "    }\n",
       "</style>\n",
       "<table border=\"1\" class=\"dataframe\">\n",
       "  <thead>\n",
       "    <tr style=\"text-align: right;\">\n",
       "      <th></th>\n",
       "      <th>Articulo</th>\n",
       "      <th>Formato</th>\n",
       "      <th>Precio</th>\n",
       "    </tr>\n",
       "  </thead>\n",
       "  <tbody>\n",
       "    <tr>\n",
       "      <th>0</th>\n",
       "      <td>Aceite de oliva 0,4º Hacendado</td>\n",
       "      <td>5 L</td>\n",
       "      <td>26,25 €</td>\n",
       "    </tr>\n",
       "    <tr>\n",
       "      <th>1</th>\n",
       "      <td>Aceite de oliva 0,4º Hacendado</td>\n",
       "      <td>1 L</td>\n",
       "      <td>5,40 €</td>\n",
       "    </tr>\n",
       "    <tr>\n",
       "      <th>2</th>\n",
       "      <td>Aceite de oliva virgen extra Hacendado</td>\n",
       "      <td>3 L</td>\n",
       "      <td>19,10 €</td>\n",
       "    </tr>\n",
       "    <tr>\n",
       "      <th>3</th>\n",
       "      <td>Aceite de oliva virgen extra Hacendado</td>\n",
       "      <td>1 L</td>\n",
       "      <td>6,45 €</td>\n",
       "    </tr>\n",
       "    <tr>\n",
       "      <th>4</th>\n",
       "      <td>Aceite de oliva virgen extra Hacendado Gran Se...</td>\n",
       "      <td>750 ml</td>\n",
       "      <td>5,85 €</td>\n",
       "    </tr>\n",
       "    <tr>\n",
       "      <th>5</th>\n",
       "      <td>Aceite de oliva 1º Hacendado</td>\n",
       "      <td>5 L</td>\n",
       "      <td>26,25 €</td>\n",
       "    </tr>\n",
       "    <tr>\n",
       "      <th>6</th>\n",
       "      <td>Aceite de oliva 1º Hacendado</td>\n",
       "      <td>1 L</td>\n",
       "      <td>5,40 €</td>\n",
       "    </tr>\n",
       "    <tr>\n",
       "      <th>7</th>\n",
       "      <td>Aceite de oliva virgen Hacendado</td>\n",
       "      <td>3 L</td>\n",
       "      <td>17,35 €</td>\n",
       "    </tr>\n",
       "    <tr>\n",
       "      <th>8</th>\n",
       "      <td>Aceite de oliva virgen Hacendado</td>\n",
       "      <td>1 L</td>\n",
       "      <td>5,90 €</td>\n",
       "    </tr>\n",
       "    <tr>\n",
       "      <th>9</th>\n",
       "      <td>Aceite de oliva virgen extra Hacendado</td>\n",
       "      <td>200 ml</td>\n",
       "      <td>2,70 €</td>\n",
       "    </tr>\n",
       "    <tr>\n",
       "      <th>10</th>\n",
       "      <td>Aceite de oliva virgen extra Picual Casa Juncal</td>\n",
       "      <td>500 ml</td>\n",
       "      <td>4,68 €</td>\n",
       "    </tr>\n",
       "  </tbody>\n",
       "</table>\n",
       "</div>"
      ],
      "text/plain": [
       "                                             Articulo Formato   Precio\n",
       "0                      Aceite de oliva 0,4º Hacendado     5 L  26,25 €\n",
       "1                      Aceite de oliva 0,4º Hacendado     1 L   5,40 €\n",
       "2              Aceite de oliva virgen extra Hacendado     3 L  19,10 €\n",
       "3              Aceite de oliva virgen extra Hacendado     1 L   6,45 €\n",
       "4   Aceite de oliva virgen extra Hacendado Gran Se...  750 ml   5,85 €\n",
       "5                        Aceite de oliva 1º Hacendado     5 L  26,25 €\n",
       "6                        Aceite de oliva 1º Hacendado     1 L   5,40 €\n",
       "7                    Aceite de oliva virgen Hacendado     3 L  17,35 €\n",
       "8                    Aceite de oliva virgen Hacendado     1 L   5,90 €\n",
       "9              Aceite de oliva virgen extra Hacendado  200 ml   2,70 €\n",
       "10    Aceite de oliva virgen extra Picual Casa Juncal  500 ml   4,68 €"
      ]
     },
     "execution_count": 57,
     "metadata": {},
     "output_type": "execute_result"
    }
   ],
   "source": []
  },
  {
   "cell_type": "code",
   "execution_count": null,
   "id": "cf8a7013-a01a-4092-90d5-d38c10e01795",
   "metadata": {},
   "outputs": [],
   "source": []
  }
 ],
 "metadata": {
  "kernelspec": {
   "display_name": "base",
   "language": "python",
   "name": "base"
  },
  "language_info": {
   "codemirror_mode": {
    "name": "ipython",
    "version": 3
   },
   "file_extension": ".py",
   "mimetype": "text/x-python",
   "name": "python",
   "nbconvert_exporter": "python",
   "pygments_lexer": "ipython3",
   "version": "3.9.18"
  }
 },
 "nbformat": 4,
 "nbformat_minor": 5
}
