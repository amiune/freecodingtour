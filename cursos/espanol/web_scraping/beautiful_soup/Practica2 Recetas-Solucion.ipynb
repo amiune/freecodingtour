{
 "cells": [
  {
   "cell_type": "markdown",
   "metadata": {},
   "source": [
    "# Ejercicio de obtener las recetas de ensaladas de recetasgratis.net"
   ]
  },
  {
   "cell_type": "code",
   "execution_count": 26,
   "metadata": {},
   "outputs": [],
   "source": [
    "import numpy as np\n",
    "import requests\n",
    "from bs4 import BeautifulSoup\n",
    "import pandas as pd\n",
    "import re"
   ]
  },
  {
   "cell_type": "markdown",
   "metadata": {},
   "source": [
    "### Analizar que pasa cuando hago request a una url que si existe"
   ]
  },
  {
   "cell_type": "code",
   "execution_count": 27,
   "metadata": {},
   "outputs": [],
   "source": [
    "url = \"https://www.recetasgratis.net/Recetas-de-Ensaladas-listado_receta-4_1.html\"\n",
    "response = requests.get(url)"
   ]
  },
  {
   "cell_type": "code",
   "execution_count": 28,
   "metadata": {},
   "outputs": [
    {
     "data": {
      "text/plain": [
       "200"
      ]
     },
     "execution_count": 28,
     "metadata": {},
     "output_type": "execute_result"
    }
   ],
   "source": [
    "response.status_code"
   ]
  },
  {
   "cell_type": "markdown",
   "metadata": {},
   "source": [
    "### Analizar que pasa cuando hago request a una url que no existe"
   ]
  },
  {
   "cell_type": "code",
   "execution_count": 29,
   "metadata": {},
   "outputs": [],
   "source": [
    "url = \"https://www.recetasgratis.net/Recetas-de-Ensaladas-listado_receta-4_1000.html\"\n",
    "response = requests.get(url)"
   ]
  },
  {
   "cell_type": "code",
   "execution_count": 30,
   "metadata": {},
   "outputs": [
    {
     "data": {
      "text/plain": [
       "200"
      ]
     },
     "execution_count": 30,
     "metadata": {},
     "output_type": "execute_result"
    }
   ],
   "source": [
    "response.status_code"
   ]
  },
  {
   "cell_type": "code",
   "execution_count": 31,
   "metadata": {},
   "outputs": [
    {
     "data": {
      "text/plain": [
       "'https://www.recetasgratis.net/Recetas-de-Ensaladas-listado_receta-4_1.html'"
      ]
     },
     "execution_count": 31,
     "metadata": {},
     "output_type": "execute_result"
    }
   ],
   "source": [
    "response.url"
   ]
  },
  {
   "cell_type": "markdown",
   "metadata": {},
   "source": [
    "El status code es correcto pero me ha redireccionado a otra url diferente"
   ]
  },
  {
   "cell_type": "code",
   "execution_count": 32,
   "metadata": {},
   "outputs": [],
   "source": [
    "soup = BeautifulSoup(response.text, \"html.parser\")"
   ]
  },
  {
   "cell_type": "markdown",
   "metadata": {},
   "source": [
    "### Obtener las recetas de ensalada de la primera pagina "
   ]
  },
  {
   "cell_type": "code",
   "execution_count": 33,
   "metadata": {},
   "outputs": [
    {
     "name": "stdout",
     "output_type": "stream",
     "text": [
      "50\n"
     ]
    }
   ],
   "source": [
    "recetas_de_una_pagina = soup.find_all(\"div\", attrs={\"data-js-selector\":\"resultado\"})\n",
    "print(len(recetas_de_una_pagina))"
   ]
  },
  {
   "cell_type": "code",
   "execution_count": 34,
   "metadata": {},
   "outputs": [
    {
     "name": "stdout",
     "output_type": "stream",
     "text": [
      "Dificultad baja\n",
      "\n",
      "\n",
      "Receta de Ensalada coleslaw\n",
      "\n",
      "Dificultad baja\n",
      "\n",
      "\n",
      "1\n",
      "15m\n",
      "Acompañamiento\n",
      "\n",
      "\n",
      "La ensalada \n",
      "Dificultad baja\n",
      "\n",
      "\n",
      "Receta de Ensalada de quinoa y verduras\n",
      "\n",
      "Dificultad baja\n",
      "\n",
      "\n",
      "3\n",
      "45m\n",
      "Plato principal\n",
      "\n",
      "\n"
     ]
    }
   ],
   "source": [
    "for receta in recetas_de_una_pagina[0:2]:\n",
    "    print(receta.get_text().strip()[:100])"
   ]
  },
  {
   "cell_type": "markdown",
   "metadata": {},
   "source": [
    "### Crear una función para automatizar"
   ]
  },
  {
   "cell_type": "code",
   "execution_count": 67,
   "metadata": {},
   "outputs": [],
   "source": [
    "def obtener_recetas_de_una_pagina(url):\n",
    "    response = requests.get(url)\n",
    "    if response.status_code == 200 and response.url == url:\n",
    "        soup = BeautifulSoup(response.text, \"html.parser\")\n",
    "        recetas = soup.find_all(\"div\", attrs={\"data-js-selector\":\"resultado\"})\n",
    "        return recetas\n",
    "    else:\n",
    "        return -1"
   ]
  },
  {
   "cell_type": "code",
   "execution_count": 36,
   "metadata": {},
   "outputs": [
    {
     "name": "stdout",
     "output_type": "stream",
     "text": [
      "50\n"
     ]
    }
   ],
   "source": [
    "url = \"https://www.recetasgratis.net/Recetas-de-Ensaladas-listado_receta-4_1.html\"\n",
    "recetas = obtener_recetas_de_una_pagina(url)\n",
    "print(len(recetas))"
   ]
  },
  {
   "cell_type": "code",
   "execution_count": 68,
   "metadata": {},
   "outputs": [
    {
     "name": "stdout",
     "output_type": "stream",
     "text": [
      "50\n"
     ]
    }
   ],
   "source": [
    "url = \"https://www.recetasgratis.net/Recetas-de-Ensaladas-listado_receta-4_2.html\"\n",
    "recetas = obtener_recetas_de_una_pagina(url)\n",
    "print(len(recetas))"
   ]
  },
  {
   "cell_type": "markdown",
   "metadata": {},
   "source": [
    "### Obtener la info (link, titulo, porciones, tiempo) de una sola receta"
   ]
  },
  {
   "cell_type": "code",
   "execution_count": 37,
   "metadata": {},
   "outputs": [],
   "source": [
    "url = \"https://www.recetasgratis.net/Recetas-de-Ensaladas-listado_receta-4_1.html\"\n",
    "recetas = obtener_recetas_de_una_pagina(url)\n",
    "link = np.nan\n",
    "titulo = np.nan\n",
    "porciones = np.nan\n",
    "tiempo = np.nan\n",
    "\n",
    "try:\n",
    "    link = receta.find(\"a\",attrs={\"class\":\"titulo\"}).attrs['href'].strip()\n",
    "except:\n",
    "    pass\n",
    "try:\n",
    "    titulo = receta.find(\"a\",attrs={\"class\":\"titulo\"}).get_text().strip()\n",
    "except:\n",
    "    pass\n",
    "try:\n",
    "    porciones = receta.find(\"span\",attrs={\"class\":\"comensales\"}).get_text().strip()\n",
    "except:\n",
    "    pass\n",
    "try:\n",
    "    tiempo = receta.find(\"span\",attrs={\"class\":\"duracion\"}).get_text().strip()\n",
    "except:\n",
    "    pass"
   ]
  },
  {
   "cell_type": "code",
   "execution_count": 38,
   "metadata": {},
   "outputs": [
    {
     "name": "stdout",
     "output_type": "stream",
     "text": [
      "Receta de Ensalada de quinoa y verduras https://www.recetasgratis.net/receta-de-ensalada-de-quinoa-y-verduras-77158.html 3 45m\n"
     ]
    }
   ],
   "source": [
    "print(titulo, link, porciones, tiempo)"
   ]
  },
  {
   "cell_type": "markdown",
   "metadata": {},
   "source": [
    "### Crear una función para automatizar"
   ]
  },
  {
   "cell_type": "code",
   "execution_count": 39,
   "metadata": {},
   "outputs": [],
   "source": [
    "def obtener_datos_receta(receta):\n",
    "    \n",
    "    link = np.nan\n",
    "    titulo = np.nan\n",
    "    porciones = np.nan\n",
    "    tiempo = np.nan\n",
    "    \n",
    "    try:\n",
    "        link = receta.find(\"a\",attrs={\"class\":\"titulo\"}).attrs['href'].strip()\n",
    "    except:\n",
    "        pass\n",
    "    try:\n",
    "        titulo = receta.find(\"a\",attrs={\"class\":\"titulo\"}).text.strip()\n",
    "    except:\n",
    "        pass\n",
    "    try:\n",
    "        porciones = receta.find(\"span\",attrs={\"class\":\"comensales\"}).text.strip()\n",
    "    except:\n",
    "        pass\n",
    "    try:\n",
    "        tiempo = receta.find(\"span\",attrs={\"class\":\"duracion\"}).text.strip()\n",
    "    except:\n",
    "        pass\n",
    "        \n",
    "    return (link, titulo, porciones, tiempo)"
   ]
  },
  {
   "cell_type": "code",
   "execution_count": 40,
   "metadata": {},
   "outputs": [
    {
     "data": {
      "text/plain": [
       "('https://www.recetasgratis.net/receta-de-ensalada-coleslaw-77205.html',\n",
       " 'Receta de Ensalada coleslaw',\n",
       " '1',\n",
       " '15m')"
      ]
     },
     "execution_count": 40,
     "metadata": {},
     "output_type": "execute_result"
    }
   ],
   "source": [
    "obtener_datos_receta(recetas[0])"
   ]
  },
  {
   "cell_type": "code",
   "execution_count": 41,
   "metadata": {},
   "outputs": [
    {
     "data": {
      "text/plain": [
       "('https://www.recetasgratis.net/receta-de-ensalada-de-pasta-con-atun-76932.html',\n",
       " 'Receta de Ensalada de pasta con atún',\n",
       " '5',\n",
       " '30m')"
      ]
     },
     "execution_count": 41,
     "metadata": {},
     "output_type": "execute_result"
    }
   ],
   "source": [
    "obtener_datos_receta(recetas[4])"
   ]
  },
  {
   "cell_type": "markdown",
   "metadata": {},
   "source": [
    "### Recorrer las distintas paginas utilizando las funciones anteriores y obtener todas las recetas en un dataframe"
   ]
  },
  {
   "cell_type": "code",
   "execution_count": 74,
   "metadata": {},
   "outputs": [],
   "source": [
    "lista_de_links = []\n",
    "lista_de_titulos = []\n",
    "lista_de_porciones = []\n",
    "lista_de_tiempos = []"
   ]
  },
  {
   "cell_type": "code",
   "execution_count": 77,
   "metadata": {},
   "outputs": [],
   "source": [
    "for i in range(1,100):\n",
    "    url = f\"https://www.recetasgratis.net/Recetas-de-Ensaladas-listado_receta-4_{i}.html\"\n",
    "    recetas = obtener_recetas_de_una_pagina(url)\n",
    "    if recetas == -1:\n",
    "        break\n",
    "    for receta in recetas:\n",
    "        link, titulo, porciones, tiempo = obtener_datos_receta(receta)\n",
    "        lista_de_links.append(link)\n",
    "        lista_de_titulos.append(titulo)\n",
    "        lista_de_porciones.append(porciones)\n",
    "        lista_de_tiempos.append(tiempo)"
   ]
  },
  {
   "cell_type": "code",
   "execution_count": 76,
   "metadata": {},
   "outputs": [
    {
     "data": {
      "text/html": [
       "<div>\n",
       "<style scoped>\n",
       "    .dataframe tbody tr th:only-of-type {\n",
       "        vertical-align: middle;\n",
       "    }\n",
       "\n",
       "    .dataframe tbody tr th {\n",
       "        vertical-align: top;\n",
       "    }\n",
       "\n",
       "    .dataframe thead th {\n",
       "        text-align: right;\n",
       "    }\n",
       "</style>\n",
       "<table border=\"1\" class=\"dataframe\">\n",
       "  <thead>\n",
       "    <tr style=\"text-align: right;\">\n",
       "      <th></th>\n",
       "      <th>Link</th>\n",
       "      <th>Titulo</th>\n",
       "      <th>Porciones</th>\n",
       "      <th>Tiempo</th>\n",
       "    </tr>\n",
       "  </thead>\n",
       "  <tbody>\n",
       "    <tr>\n",
       "      <th>0</th>\n",
       "      <td>https://www.recetasgratis.net/receta-de-ensala...</td>\n",
       "      <td>Receta de Ensalada coleslaw</td>\n",
       "      <td>1</td>\n",
       "      <td>15m</td>\n",
       "    </tr>\n",
       "    <tr>\n",
       "      <th>1</th>\n",
       "      <td>https://www.recetasgratis.net/receta-de-ensala...</td>\n",
       "      <td>Receta de Ensalada de quinoa y verduras</td>\n",
       "      <td>3</td>\n",
       "      <td>45m</td>\n",
       "    </tr>\n",
       "    <tr>\n",
       "      <th>2</th>\n",
       "      <td>https://www.recetasgratis.net/articulo-ensalad...</td>\n",
       "      <td>Ensaladas especiales para fiestas</td>\n",
       "      <td>NaN</td>\n",
       "      <td>NaN</td>\n",
       "    </tr>\n",
       "    <tr>\n",
       "      <th>3</th>\n",
       "      <td>https://www.recetasgratis.net/receta-de-ensala...</td>\n",
       "      <td>Receta de Ensalada navideña peruana</td>\n",
       "      <td>10</td>\n",
       "      <td>30m</td>\n",
       "    </tr>\n",
       "    <tr>\n",
       "      <th>4</th>\n",
       "      <td>https://www.recetasgratis.net/receta-de-ensala...</td>\n",
       "      <td>Receta de Ensalada de pasta con atún</td>\n",
       "      <td>5</td>\n",
       "      <td>30m</td>\n",
       "    </tr>\n",
       "    <tr>\n",
       "      <th>...</th>\n",
       "      <td>...</td>\n",
       "      <td>...</td>\n",
       "      <td>...</td>\n",
       "      <td>...</td>\n",
       "    </tr>\n",
       "    <tr>\n",
       "      <th>733</th>\n",
       "      <td>https://www.recetasgratis.net/receta-de-salpic...</td>\n",
       "      <td>Receta de Salpicón de mariscos con Thermomix</td>\n",
       "      <td>6</td>\n",
       "      <td>10m</td>\n",
       "    </tr>\n",
       "    <tr>\n",
       "      <th>734</th>\n",
       "      <td>https://www.recetasgratis.net/receta-de-ensala...</td>\n",
       "      <td>Receta de Ensalada de granos</td>\n",
       "      <td>4</td>\n",
       "      <td>30m</td>\n",
       "    </tr>\n",
       "    <tr>\n",
       "      <th>735</th>\n",
       "      <td>https://www.recetasgratis.net/receta-de-ensala...</td>\n",
       "      <td>Receta de Ensalada de coditos con queso</td>\n",
       "      <td>2</td>\n",
       "      <td>30m</td>\n",
       "    </tr>\n",
       "    <tr>\n",
       "      <th>736</th>\n",
       "      <td>https://www.recetasgratis.net/receta-de-ensala...</td>\n",
       "      <td>Receta de Ensalada de zanahorias con piña y pasas</td>\n",
       "      <td>NaN</td>\n",
       "      <td>NaN</td>\n",
       "    </tr>\n",
       "    <tr>\n",
       "      <th>737</th>\n",
       "      <td>https://www.recetasgratis.net/receta-de-ensala...</td>\n",
       "      <td>Receta de Ensalada azteca</td>\n",
       "      <td>NaN</td>\n",
       "      <td>NaN</td>\n",
       "    </tr>\n",
       "  </tbody>\n",
       "</table>\n",
       "<p>738 rows × 4 columns</p>\n",
       "</div>"
      ],
      "text/plain": [
       "                                                  Link  \\\n",
       "0    https://www.recetasgratis.net/receta-de-ensala...   \n",
       "1    https://www.recetasgratis.net/receta-de-ensala...   \n",
       "2    https://www.recetasgratis.net/articulo-ensalad...   \n",
       "3    https://www.recetasgratis.net/receta-de-ensala...   \n",
       "4    https://www.recetasgratis.net/receta-de-ensala...   \n",
       "..                                                 ...   \n",
       "733  https://www.recetasgratis.net/receta-de-salpic...   \n",
       "734  https://www.recetasgratis.net/receta-de-ensala...   \n",
       "735  https://www.recetasgratis.net/receta-de-ensala...   \n",
       "736  https://www.recetasgratis.net/receta-de-ensala...   \n",
       "737  https://www.recetasgratis.net/receta-de-ensala...   \n",
       "\n",
       "                                                Titulo Porciones Tiempo  \n",
       "0                          Receta de Ensalada coleslaw         1    15m  \n",
       "1              Receta de Ensalada de quinoa y verduras         3    45m  \n",
       "2                    Ensaladas especiales para fiestas       NaN    NaN  \n",
       "3                  Receta de Ensalada navideña peruana        10    30m  \n",
       "4                 Receta de Ensalada de pasta con atún         5    30m  \n",
       "..                                                 ...       ...    ...  \n",
       "733       Receta de Salpicón de mariscos con Thermomix         6    10m  \n",
       "734                       Receta de Ensalada de granos         4    30m  \n",
       "735            Receta de Ensalada de coditos con queso         2    30m  \n",
       "736  Receta de Ensalada de zanahorias con piña y pasas       NaN    NaN  \n",
       "737                          Receta de Ensalada azteca       NaN    NaN  \n",
       "\n",
       "[738 rows x 4 columns]"
      ]
     },
     "execution_count": 76,
     "metadata": {},
     "output_type": "execute_result"
    }
   ],
   "source": [
    "df = pd.DataFrame({\"Link\":lista_de_links,\n",
    "                   \"Titulo\":lista_de_titulos,\n",
    "                   \"Porciones\":lista_de_porciones,\n",
    "                   \"Tiempo\":lista_de_tiempos})\n",
    "df"
   ]
  },
  {
   "cell_type": "code",
   "execution_count": null,
   "metadata": {},
   "outputs": [],
   "source": []
  }
 ],
 "metadata": {
  "kernelspec": {
   "display_name": "Python 3 (ipykernel)",
   "language": "python",
   "name": "python3"
  },
  "language_info": {
   "codemirror_mode": {
    "name": "ipython",
    "version": 3
   },
   "file_extension": ".py",
   "mimetype": "text/x-python",
   "name": "python",
   "nbconvert_exporter": "python",
   "pygments_lexer": "ipython3",
   "version": "3.9.18"
  }
 },
 "nbformat": 4,
 "nbformat_minor": 4
}
