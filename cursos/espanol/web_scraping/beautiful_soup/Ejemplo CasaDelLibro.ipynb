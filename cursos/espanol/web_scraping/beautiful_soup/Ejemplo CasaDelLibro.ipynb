{
 "cells": [
  {
   "cell_type": "markdown",
   "id": "6912b74d-3e03-488b-8390-47f66305d428",
   "metadata": {},
   "source": [
    "# Ejemplo Web Scrapping \n",
    "\n",
    "### Encontrar los diez libros mas vendidos de ficcion en:\n",
    "https://www.casadellibro.com/libros-mas-vendidos\n",
    "\n",
    "Guardar el titulo, la direccion url y la direccion de la imagen de los libros en un dataframe de pandas"
   ]
  },
  {
   "cell_type": "code",
   "execution_count": 1,
   "id": "01119067-9f8b-4590-9fbc-f0dcfb02f7b1",
   "metadata": {},
   "outputs": [],
   "source": [
    "import pandas as pd\n",
    "from bs4 import BeautifulSoup\n",
    "import requests"
   ]
  },
  {
   "cell_type": "code",
   "execution_count": 2,
   "id": "7d71b8c8-0c05-4691-b6cc-f22f3287931f",
   "metadata": {},
   "outputs": [],
   "source": [
    "URL = \"https://www.casadellibro.com/libros-mas-vendidos\""
   ]
  },
  {
   "cell_type": "code",
   "execution_count": 3,
   "id": "e1832e2b-691e-4404-9e72-8d09f4f9426f",
   "metadata": {},
   "outputs": [],
   "source": [
    "response = requests.get(URL)"
   ]
  },
  {
   "cell_type": "code",
   "execution_count": 4,
   "id": "80d5943b-1776-4ed3-a175-b8f98c67ec19",
   "metadata": {},
   "outputs": [
    {
     "data": {
      "text/plain": [
       "403"
      ]
     },
     "execution_count": 4,
     "metadata": {},
     "output_type": "execute_result"
    }
   ],
   "source": [
    "response.status_code"
   ]
  },
  {
   "cell_type": "code",
   "execution_count": 5,
   "id": "d50830a2-97fc-4ca1-9160-17226b834f95",
   "metadata": {},
   "outputs": [
    {
     "data": {
      "text/plain": [
       "'<HTML><HEAD>\\n<TITLE>Access Denied</TITLE>\\n</HEAD><BODY>\\n<H1>Access Denied</H1>\\n \\nYou don\\'t have permission to access \"http&#58;&#47;&#47;www&#46;casadellibro&#46;com&#47;libros&#45;mas&#45;vendidos\" on this server.<P>\\nReference&#32;&#35;18&#46;34b62bb9&#46;1718182914&#46;19948418\\n<P>https&#58;&#47;&#47;errors&#46;edgesuite&#46;net&#47;18&#46;34b62bb9&#46;1718182914&#46;19948418</P>\\n</BODY>\\n</HTML>\\n'"
      ]
     },
     "execution_count": 5,
     "metadata": {},
     "output_type": "execute_result"
    }
   ],
   "source": [
    "response.text[0:1000]"
   ]
  },
  {
   "cell_type": "code",
   "execution_count": 42,
   "id": "fd82cfc2-1ecd-4dfa-a9dd-02a974517ac1",
   "metadata": {},
   "outputs": [],
   "source": [
    "soup = BeautifulSoup(response.content, \"html.parser\")"
   ]
  },
  {
   "cell_type": "code",
   "execution_count": 43,
   "id": "9a09b708-844f-4110-b563-8f2b1aaea895",
   "metadata": {},
   "outputs": [
    {
     "name": "stdout",
     "output_type": "stream",
     "text": [
      "ATLAS: LA HISTORIA DE PA SALT (LAS SIETE HERMANAS 8) - 9788401028052 - LUCINDA RILEY\n",
      "/libro-atlas-la-historia-de-pa-salt-las-siete-hermanas-8/9788401028052/13301257\n",
      "https://imagessl2.casadellibro.com/a/l/t5/52/9788401028052.jpg\n"
     ]
    }
   ],
   "source": [
    "mv_ficcion = soup.find(attrs={\"id\":\"ficcion23\"})\n",
    "tmp = mv_ficcion.find(\"div\", attrs={\"class\":\"compact-product\"})\n",
    "print(tmp.find('a').attrs['title'])\n",
    "print(tmp.find('a').attrs['href'])\n",
    "print(tmp.find('img').attrs['src'])"
   ]
  },
  {
   "cell_type": "code",
   "execution_count": 44,
   "id": "7ffb7106-495c-4019-a7ac-380af2b25d1b",
   "metadata": {},
   "outputs": [],
   "source": [
    "titulos = []\n",
    "urls = []\n",
    "imagenes = []\n",
    "for libro in mv_ficcion.find_all(\"div\", attrs={\"class\":\"compact-product\"}):\n",
    "    titulos.append(libro.find('a').attrs['title'])\n",
    "    urls.append(URL + libro.find('a').attrs['href'])\n",
    "    imagenes.append(libro.find('img').attrs['src'])"
   ]
  },
  {
   "cell_type": "code",
   "execution_count": 45,
   "id": "712cf4f3-19e0-4f8c-9016-9eeea8b168b5",
   "metadata": {},
   "outputs": [],
   "source": [
    "df = pd.DataFrame({\"Titulo\":titulos,\"URL\":urls,\"Imagen\":imagenes})"
   ]
  },
  {
   "cell_type": "code",
   "execution_count": 36,
   "id": "ce096352-a1fb-4f96-8183-d18242c3423f",
   "metadata": {},
   "outputs": [
    {
     "data": {
      "text/html": [
       "<div>\n",
       "<style scoped>\n",
       "    .dataframe tbody tr th:only-of-type {\n",
       "        vertical-align: middle;\n",
       "    }\n",
       "\n",
       "    .dataframe tbody tr th {\n",
       "        vertical-align: top;\n",
       "    }\n",
       "\n",
       "    .dataframe thead th {\n",
       "        text-align: right;\n",
       "    }\n",
       "</style>\n",
       "<table border=\"1\" class=\"dataframe\">\n",
       "  <thead>\n",
       "    <tr style=\"text-align: right;\">\n",
       "      <th></th>\n",
       "      <th>Titulo</th>\n",
       "      <th>URL</th>\n",
       "      <th>Imagen</th>\n",
       "    </tr>\n",
       "  </thead>\n",
       "  <tbody>\n",
       "    <tr>\n",
       "      <th>0</th>\n",
       "      <td>ATLAS: LA HISTORIA DE PA SALT (LAS SIETE HERMA...</td>\n",
       "      <td>https://www.casadellibro.com/libros-mas-vendid...</td>\n",
       "      <td>https://imagessl2.casadellibro.com/a/l/t5/52/9...</td>\n",
       "    </tr>\n",
       "    <tr>\n",
       "      <th>1</th>\n",
       "      <td>PUA - 9788423363261 - LORENZO SILVA</td>\n",
       "      <td>https://www.casadellibro.com/libros-mas-vendid...</td>\n",
       "      <td>https://imagessl1.casadellibro.com/a/l/t5/61/9...</td>\n",
       "    </tr>\n",
       "    <tr>\n",
       "      <th>2</th>\n",
       "      <td>ÉXTASIS - 9788466672863 - NOEMI CASQUET</td>\n",
       "      <td>https://www.casadellibro.com/libros-mas-vendid...</td>\n",
       "      <td>https://imagessl3.casadellibro.com/a/l/t5/63/9...</td>\n",
       "    </tr>\n",
       "    <tr>\n",
       "      <th>3</th>\n",
       "      <td>EL ANGEL DE LA CIUDAD (SERIE KRAKEN 2) - 97884...</td>\n",
       "      <td>https://www.casadellibro.com/libros-mas-vendid...</td>\n",
       "      <td>https://imagessl3.casadellibro.com/a/l/t5/23/9...</td>\n",
       "    </tr>\n",
       "    <tr>\n",
       "      <th>4</th>\n",
       "      <td>COMO (NO) ESCRIBI NUESTRA HISTORIA - 978849129...</td>\n",
       "      <td>https://www.casadellibro.com/libros-mas-vendid...</td>\n",
       "      <td>https://imagessl6.casadellibro.com/a/l/t5/46/9...</td>\n",
       "    </tr>\n",
       "  </tbody>\n",
       "</table>\n",
       "</div>"
      ],
      "text/plain": [
       "                                              Titulo  \\\n",
       "0  ATLAS: LA HISTORIA DE PA SALT (LAS SIETE HERMA...   \n",
       "1                PUA - 9788423363261 - LORENZO SILVA   \n",
       "2            ÉXTASIS - 9788466672863 - NOEMI CASQUET   \n",
       "3  EL ANGEL DE LA CIUDAD (SERIE KRAKEN 2) - 97884...   \n",
       "4  COMO (NO) ESCRIBI NUESTRA HISTORIA - 978849129...   \n",
       "\n",
       "                                                 URL  \\\n",
       "0  https://www.casadellibro.com/libros-mas-vendid...   \n",
       "1  https://www.casadellibro.com/libros-mas-vendid...   \n",
       "2  https://www.casadellibro.com/libros-mas-vendid...   \n",
       "3  https://www.casadellibro.com/libros-mas-vendid...   \n",
       "4  https://www.casadellibro.com/libros-mas-vendid...   \n",
       "\n",
       "                                              Imagen  \n",
       "0  https://imagessl2.casadellibro.com/a/l/t5/52/9...  \n",
       "1  https://imagessl1.casadellibro.com/a/l/t5/61/9...  \n",
       "2  https://imagessl3.casadellibro.com/a/l/t5/63/9...  \n",
       "3  https://imagessl3.casadellibro.com/a/l/t5/23/9...  \n",
       "4  https://imagessl6.casadellibro.com/a/l/t5/46/9...  "
      ]
     },
     "execution_count": 36,
     "metadata": {},
     "output_type": "execute_result"
    }
   ],
   "source": [
    "df.head()"
   ]
  },
  {
   "cell_type": "code",
   "execution_count": null,
   "id": "7acaa8ff-8799-480d-b494-9a106f18f025",
   "metadata": {},
   "outputs": [],
   "source": []
  }
 ],
 "metadata": {
  "kernelspec": {
   "display_name": "base",
   "language": "python",
   "name": "base"
  },
  "language_info": {
   "codemirror_mode": {
    "name": "ipython",
    "version": 3
   },
   "file_extension": ".py",
   "mimetype": "text/x-python",
   "name": "python",
   "nbconvert_exporter": "python",
   "pygments_lexer": "ipython3",
   "version": "3.9.18"
  }
 },
 "nbformat": 4,
 "nbformat_minor": 5
}
