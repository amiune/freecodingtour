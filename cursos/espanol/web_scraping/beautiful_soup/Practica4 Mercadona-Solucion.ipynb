{
 "cells": [
  {
   "cell_type": "markdown",
   "id": "849c6504-bc8a-4276-9661-aa9859b1e966",
   "metadata": {},
   "source": [
    "# Web scrapping de Mercadona\n",
    "\n",
    "Guardar la informacion (descripcion, precio y formato) de los aceites de oliva en un dataframe de pandas"
   ]
  },
  {
   "cell_type": "code",
   "execution_count": 1,
   "id": "b59c1cc8-70a2-40a9-8ec2-b6359ce776dc",
   "metadata": {},
   "outputs": [],
   "source": [
    "import numpy as np\n",
    "import pandas as pd\n",
    "from bs4 import BeautifulSoup\n",
    "import requests\n",
    "from selenium import webdriver"
   ]
  },
  {
   "cell_type": "code",
   "execution_count": 2,
   "id": "09d1720f-a3b4-45d5-b8c7-6dfe21f76252",
   "metadata": {},
   "outputs": [],
   "source": [
    "URL = \"https://tienda.mercadona.es/categories/112\""
   ]
  },
  {
   "cell_type": "code",
   "execution_count": 11,
   "id": "9cc5fff5-377c-49f1-a165-3ad91bfdfd38",
   "metadata": {},
   "outputs": [],
   "source": [
    "driver = webdriver.Firefox()\n",
    "driver.get(URL)"
   ]
  },
  {
   "cell_type": "code",
   "execution_count": 18,
   "id": "625b56cd-4ad2-4668-9c4f-e4489fb8a798",
   "metadata": {},
   "outputs": [],
   "source": [
    "html = driver.page_source"
   ]
  },
  {
   "cell_type": "code",
   "execution_count": 19,
   "id": "dd3924a3-31c1-4811-99f9-5f444e5e8b0b",
   "metadata": {},
   "outputs": [],
   "source": [
    "soup = BeautifulSoup(html)"
   ]
  },
  {
   "cell_type": "code",
   "execution_count": 20,
   "id": "f292f384-60d4-444b-9da3-035cd0c9e068",
   "metadata": {},
   "outputs": [],
   "source": [
    "productos = soup.find_all(\"div\", attrs={\"class\":\"product-cell\"})"
   ]
  },
  {
   "cell_type": "code",
   "execution_count": 21,
   "id": "87625cab-9a45-45a9-9a2a-ac3b810cec9d",
   "metadata": {},
   "outputs": [],
   "source": [
    "descripciones = []\n",
    "formatos = []\n",
    "precios = []\n",
    "for producto in productos:\n",
    "    descripcion = producto.find(attrs={\"data-testid\":\"product-cell-name\"}).get_text()\n",
    "    if \"oliva\" in descripcion:\n",
    "        descripciones.append(descripcion)\n",
    "        formato = producto.find(attrs={\"class\":\"product-format\"}).find_all(\"span\")\n",
    "        if(len(formato)>1):\n",
    "            formatos.append(formato[1].get_text())\n",
    "        else:\n",
    "            formatos.append(np.nan)\n",
    "        precios.append(producto.find(attrs={\"data-testid\":\"product-price\"}).get_text())"
   ]
  },
  {
   "cell_type": "code",
   "execution_count": 22,
   "id": "d260ca52-864c-49fe-83c3-93569b590ae2",
   "metadata": {},
   "outputs": [],
   "source": [
    "df = pd.DataFrame({\"Articulo\":descripciones,\"Formato\":formatos,\"Precio\":precios})"
   ]
  },
  {
   "cell_type": "code",
   "execution_count": 23,
   "id": "1272c134-a5d1-4848-8e30-6407a62369ca",
   "metadata": {},
   "outputs": [
    {
     "data": {
      "text/html": [
       "<div>\n",
       "<style scoped>\n",
       "    .dataframe tbody tr th:only-of-type {\n",
       "        vertical-align: middle;\n",
       "    }\n",
       "\n",
       "    .dataframe tbody tr th {\n",
       "        vertical-align: top;\n",
       "    }\n",
       "\n",
       "    .dataframe thead th {\n",
       "        text-align: right;\n",
       "    }\n",
       "</style>\n",
       "<table border=\"1\" class=\"dataframe\">\n",
       "  <thead>\n",
       "    <tr style=\"text-align: right;\">\n",
       "      <th></th>\n",
       "      <th>Articulo</th>\n",
       "      <th>Formato</th>\n",
       "      <th>Precio</th>\n",
       "    </tr>\n",
       "  </thead>\n",
       "  <tbody>\n",
       "  </tbody>\n",
       "</table>\n",
       "</div>"
      ],
      "text/plain": [
       "Empty DataFrame\n",
       "Columns: [Articulo, Formato, Precio]\n",
       "Index: []"
      ]
     },
     "execution_count": 23,
     "metadata": {},
     "output_type": "execute_result"
    }
   ],
   "source": [
    "df.dropna()"
   ]
  },
  {
   "cell_type": "code",
   "execution_count": 24,
   "id": "cf8a7013-a01a-4092-90d5-d38c10e01795",
   "metadata": {},
   "outputs": [],
   "source": [
    "driver.close()"
   ]
  },
  {
   "cell_type": "code",
   "execution_count": null,
   "id": "a4cc10cf-9218-4d5f-bcf9-d6cc971c2868",
   "metadata": {},
   "outputs": [],
   "source": []
  }
 ],
 "metadata": {
  "kernelspec": {
   "display_name": "base",
   "language": "python",
   "name": "base"
  },
  "language_info": {
   "codemirror_mode": {
    "name": "ipython",
    "version": 3
   },
   "file_extension": ".py",
   "mimetype": "text/x-python",
   "name": "python",
   "nbconvert_exporter": "python",
   "pygments_lexer": "ipython3",
   "version": "3.9.18"
  }
 },
 "nbformat": 4,
 "nbformat_minor": 5
}
