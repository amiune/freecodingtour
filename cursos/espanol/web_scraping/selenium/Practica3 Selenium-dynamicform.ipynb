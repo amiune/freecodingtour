{
 "cells": [
  {
   "cell_type": "markdown",
   "id": "9e0a934b-27f0-4812-8fcf-094dd5c980d5",
   "metadata": {},
   "source": [
    "URL a probar: https://testpages.herokuapp.com/styled/basic-ajax-test.html\n",
    "\n",
    "Los select box son rellenados mediante javascript con una llamada ajax al servidor. La parte dificil de la automatizacion es esperar la respuesta del servidor y sincronizar la seleccion del segundo select.\n",
    "Hay un problema con la forma en que ha sido programado. Detectar el problema y pensar una forma para testear todos los casos. \n",
    "\n",
    "Tips:\n",
    " - [Select](https://www.selenium.dev/selenium/docs/api/py/webdriver_support/selenium.webdriver.support.select.html)\n",
    " - [Expect Conditions](https://www.selenium.dev/selenium/docs/api/py/webdriver_support/selenium.webdriver.support.expected_conditions.html)\n",
    " - [Wait](https://www.selenium.dev/selenium/docs/api/py/webdriver_support/selenium.webdriver.support.wait.html)"
   ]
  },
  {
   "cell_type": "code",
   "execution_count": null,
   "id": "54044467-deea-465f-9f60-2f1b69c89da6",
   "metadata": {},
   "outputs": [],
   "source": []
  },
  {
   "cell_type": "code",
   "execution_count": null,
   "id": "2fbc5a17-f551-4b4d-a12e-d8a0e0432c68",
   "metadata": {},
   "outputs": [],
   "source": []
  }
 ],
 "metadata": {
  "kernelspec": {
   "display_name": "base",
   "language": "python",
   "name": "base"
  },
  "language_info": {
   "codemirror_mode": {
    "name": "ipython",
    "version": 3
   },
   "file_extension": ".py",
   "mimetype": "text/x-python",
   "name": "python",
   "nbconvert_exporter": "python",
   "pygments_lexer": "ipython3",
   "version": "3.9.18"
  }
 },
 "nbformat": 4,
 "nbformat_minor": 5
}
