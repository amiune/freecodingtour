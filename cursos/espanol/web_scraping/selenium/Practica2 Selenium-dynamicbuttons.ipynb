{
 "cells": [
  {
   "cell_type": "markdown",
   "id": "d1c99981-27b2-49c4-a7c7-cfea8ed9b827",
   "metadata": {},
   "source": [
    "URL: https://testpages.herokuapp.com/styled/dynamic-buttons-simple.html\n",
    "\n",
    "Esta pagina crea botones dinamicamente. Cuando se hace clic en uno otro se genera. Hay un delay entre el clic y la aparicion del nuevo boton. Lograr tocar todos los botones\n",
    "\n",
    "Tips:\n",
    " - [Expect Conditions](https://www.selenium.dev/selenium/docs/api/py/webdriver_support/selenium.webdriver.support.expected_conditions.html)\n",
    " - [Wait](https://www.selenium.dev/selenium/docs/api/py/webdriver_support/selenium.webdriver.support.wait.html)\n"
   ]
  },
  {
   "cell_type": "code",
   "execution_count": null,
   "id": "494e369f-b252-47cf-b419-264611fd62e1",
   "metadata": {},
   "outputs": [],
   "source": []
  }
 ],
 "metadata": {
  "kernelspec": {
   "display_name": "base",
   "language": "python",
   "name": "base"
  },
  "language_info": {
   "codemirror_mode": {
    "name": "ipython",
    "version": 3
   },
   "file_extension": ".py",
   "mimetype": "text/x-python",
   "name": "python",
   "nbconvert_exporter": "python",
   "pygments_lexer": "ipython3",
   "version": "3.9.18"
  }
 },
 "nbformat": 4,
 "nbformat_minor": 5
}
