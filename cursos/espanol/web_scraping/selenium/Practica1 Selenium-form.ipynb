{
 "cells": [
  {
   "cell_type": "markdown",
   "id": "c88013c9-9b8f-41c6-83e3-3c02353d4c93",
   "metadata": {},
   "source": [
    "URL: https://testpages.herokuapp.com/styled/basic-html-form-test.html\n",
    "\n",
    "Enviar el formulario completando algunos campos.\n",
    "Probar distintas formas de envio como:\n",
    "1. Click en el boton.\n",
    "2. Ejecutando el submit del elemento form.\n",
    "3. Presionando la tecla enter."
   ]
  },
  {
   "cell_type": "code",
   "execution_count": null,
   "id": "227ebd3c-a927-4872-a5fe-35409570b984",
   "metadata": {},
   "outputs": [],
   "source": []
  }
 ],
 "metadata": {
  "kernelspec": {
   "display_name": "base",
   "language": "python",
   "name": "base"
  },
  "language_info": {
   "codemirror_mode": {
    "name": "ipython",
    "version": 3
   },
   "file_extension": ".py",
   "mimetype": "text/x-python",
   "name": "python",
   "nbconvert_exporter": "python",
   "pygments_lexer": "ipython3",
   "version": "3.9.18"
  }
 },
 "nbformat": 4,
 "nbformat_minor": 5
}
