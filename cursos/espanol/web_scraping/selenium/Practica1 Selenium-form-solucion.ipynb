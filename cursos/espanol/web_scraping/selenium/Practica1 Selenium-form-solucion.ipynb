{
 "cells": [
  {
   "cell_type": "code",
   "execution_count": 55,
   "id": "26db48c1-dd51-4210-9985-1e2e7de8c1c8",
   "metadata": {},
   "outputs": [
    {
     "name": "stdout",
     "output_type": "stream",
     "text": [
      "HTML Form Elements\n"
     ]
    }
   ],
   "source": [
    "from selenium import webdriver\n",
    "from selenium.webdriver.common.keys import Keys\n",
    "from selenium.webdriver.common.by import By\n",
    "\n",
    "driver = webdriver.Firefox()\n",
    "driver.get(\"https://testpages.herokuapp.com/styled/basic-html-form-test.html\")\n",
    "print(driver.title)"
   ]
  },
  {
   "cell_type": "code",
   "execution_count": 56,
   "id": "c200512a-0c46-4c13-b07b-1d0bed59e5e3",
   "metadata": {},
   "outputs": [],
   "source": [
    "username = driver.find_element(By.NAME, \"username\")\n",
    "username.clear()\n",
    "username.send_keys(\"soy_un_hacker\")"
   ]
  },
  {
   "cell_type": "code",
   "execution_count": 57,
   "id": "3ebbb1d0-6805-40ac-aad1-0a07e73b800b",
   "metadata": {},
   "outputs": [],
   "source": [
    "password = driver.find_element(By.NAME, \"password\")\n",
    "password.clear()\n",
    "password.send_keys(\"1234\")"
   ]
  },
  {
   "cell_type": "code",
   "execution_count": 58,
   "id": "eca35316-92e8-4374-abd0-f25e1c4af95c",
   "metadata": {},
   "outputs": [],
   "source": [
    "comments = driver.find_element(By.NAME, \"comments\")\n",
    "comments.clear()\n",
    "comments.send_keys(\"aaaaaaaaaaaa\")"
   ]
  },
  {
   "cell_type": "code",
   "execution_count": 51,
   "id": "6adbd06e-ad94-40e9-a1c3-148bb99c392b",
   "metadata": {},
   "outputs": [],
   "source": [
    "#password.send_keys(Keys.RETURN)"
   ]
  },
  {
   "cell_type": "code",
   "execution_count": 60,
   "id": "d8f27da5-48b7-4441-9157-4843559ab1af",
   "metadata": {},
   "outputs": [],
   "source": [
    "submit_button = driver.find_element(By.XPATH, f\"//*[@name='submitbutton' and @value='submit']\")"
   ]
  },
  {
   "cell_type": "code",
   "execution_count": 61,
   "id": "623c0c3d-adf8-4f91-b1a2-365a0f3f17b4",
   "metadata": {},
   "outputs": [],
   "source": [
    "submit_button.click()"
   ]
  },
  {
   "cell_type": "code",
   "execution_count": 33,
   "id": "62fc636d-8436-478b-a1e0-c4d210c0aff9",
   "metadata": {},
   "outputs": [],
   "source": [
    "#form = driver.find_element(By.ID, 'HTMLFormElements')\n",
    "#form.submit()"
   ]
  },
  {
   "cell_type": "code",
   "execution_count": 2,
   "id": "54044467-deea-465f-9f60-2f1b69c89da6",
   "metadata": {},
   "outputs": [],
   "source": [
    "html = driver.page_source"
   ]
  },
  {
   "cell_type": "code",
   "execution_count": 3,
   "id": "38b7d6cd-977a-424b-ac93-bc61b42dc1ee",
   "metadata": {},
   "outputs": [
    {
     "data": {
      "text/plain": [
       "'<html><head>\\n    <title>Processed Form Details</title>\\n    <link rel=\"stylesheet\" href=\"/css/testpages.css\">\\n    <link rel=\"shortcut icon\" href=\"/favicon.ico\">\\n    <script defer=\"\" data-domain=\"testpages.eviltester.com\" src=\"https://plausible.io/js/script.js\"></script>\\n\\n    <!-- HEAD -->\\n\\n</head>\\n\\n<body>\\n\\n<div class=\"page-body\">\\n\\n\\n    <div class=\"navigation\">\\n        <div class=\"page-navigation\">\\n            <a href=\"/styled/index.html\">Index</a>\\n        </div>\\n        <div class=\"app-navigation\">\\n            <!-- APPNAVIGATION CONTENT -->\\n        </div>\\n    </div>\\n\\n    <h1>Processed Form Details</h1>\\n\\n    <div class=\"explanation\">\\n        <p>You submitted a form. The details below show the values you entered for processing.\\n        </p>\\n    </div><div class=\"centered form-results\">\\n<p id=\"_valuesubmitbutton\">You did not click the submit button</p>\\n<h2>Submitted Values</h2>\\n<div id=\"_username\" data-hasvalue=\"yes\">\\n<p name=\"_username\" data-hasvalue=\"yes\"><strong>username</strong></p>\\n<ul>\\n<li id=\"_valueusername\">soy_un_hacker</li>\\n</ul>\\n</div>\\n<div id=\"_password\" data-hasvalue=\"yes\">\\n<p name=\"_password\" data-hasvalue=\"yes\"><strong>password</strong></p>\\n<ul>\\n<li id=\"_valuepassword\">1234</li>\\n</ul>\\n</div>\\n<div id=\"_comments\" data-hasvalue=\"yes\">\\n<p name=\"_comments\" data-hasvalue=\"yes\"><strong>comments</strong></p>\\n<ul>\\n<li id=\"_valuecomments\">Comments...</li>\\n</ul>\\n</div>\\n<div id=\"_filename\" data-hasvalue=\"no\">\\n<p name=\"_filename\" data-hasvalue=\"no\"><strong>No Value for filename</strong></p>\\n</div>\\n<div id=\"_hiddenField\" data-hasvalue=\"yes\">\\n<p name=\"_hiddenField\" data-hasvalue=\"yes\"><strong>hiddenField</strong></p>\\n<ul>\\n<li id=\"_valuehiddenField\">Hidden Field Value</li>\\n</ul>\\n</div>\\n<div id=\"_checkboxes\" data-hasvalue=\"yes\">\\n<p name=\"_checkboxes\" data-hasvalue=\"yes\"><strong>checkboxes</strong></p>\\n<ul>\\n<li id=\"_valuecheckboxes0\">cb3</li>\\n</ul>\\n</div>\\n<div id=\"_radioval\" data-hasvalue=\"yes\">\\n<p name=\"_radioval\" data-hasvalue=\"yes\"><strong>radioval</strong></p>\\n<ul>\\n<li id=\"_valueradioval\">rd2</li>\\n</ul>\\n</div>\\n<div id=\"_multipleselect\" data-hasvalue=\"yes\">\\n<p name=\"_multipleselect\" data-hasvalue=\"yes\"><strong>multipleselect</strong></p>\\n<ul>\\n<li id=\"_valuemultipleselect0\">ms4</li>\\n</ul>\\n</div>\\n<div id=\"_dropdown\" data-hasvalue=\"yes\">\\n<p name=\"_dropdown\" data-hasvalue=\"yes\"><strong>dropdown</strong></p>\\n<ul>\\n<li id=\"_valuedropdown\">dd3</li>\\n</ul>\\n</div>\\n<div class=\"form-label\">\\n<a href=\"/styled/basic-html-form-test.html\" class=\"styled-click-button\" id=\"back_to_form\">Go back to the form</a>\\n</div>\\n</div>\\n\\n\\n\\n    <div class=\"page-footer\">\\n        <p><a target=\"_blank\" rel=\"noopener noreferrer\" href=\"https://eviltester.com\">EvilTester.com</a>,\\n            <a target=\"_blank\" rel=\"noopener noreferrer\" href=\"https://compendiumdev.co.uk\">Compendium Developments</a></p>\\n    </div>\\n\\n</div>\\n\\n<!-- BODY END -->\\n\\n\\n</body></html>'"
      ]
     },
     "execution_count": 3,
     "metadata": {},
     "output_type": "execute_result"
    }
   ],
   "source": [
    "html"
   ]
  },
  {
   "cell_type": "code",
   "execution_count": null,
   "id": "2fbc5a17-f551-4b4d-a12e-d8a0e0432c68",
   "metadata": {},
   "outputs": [],
   "source": [
    "driver.close()"
   ]
  }
 ],
 "metadata": {
  "kernelspec": {
   "display_name": "base",
   "language": "python",
   "name": "base"
  },
  "language_info": {
   "codemirror_mode": {
    "name": "ipython",
    "version": 3
   },
   "file_extension": ".py",
   "mimetype": "text/x-python",
   "name": "python",
   "nbconvert_exporter": "python",
   "pygments_lexer": "ipython3",
   "version": "3.9.18"
  }
 },
 "nbformat": 4,
 "nbformat_minor": 5
}
