{
 "cells": [
  {
   "cell_type": "code",
   "execution_count": 1,
   "id": "c94583e5-c057-4db1-b97f-90d4a8a1276b",
   "metadata": {},
   "outputs": [],
   "source": [
    "#https://selenium-python.readthedocs.io/\n",
    "#https://testpages.herokuapp.com/styled/index.html\n",
    "#https://www.selenium.dev/selenium/docs/api/py/webdriver_support/selenium.webdriver.support.expected_conditions.html"
   ]
  },
  {
   "cell_type": "code",
   "execution_count": 2,
   "id": "26db48c1-dd51-4210-9985-1e2e7de8c1c8",
   "metadata": {},
   "outputs": [
    {
     "name": "stdout",
     "output_type": "stream",
     "text": [
      "Dynamic Buttons\n"
     ]
    }
   ],
   "source": [
    "from selenium import webdriver\n",
    "from selenium.webdriver.common.keys import Keys\n",
    "from selenium.webdriver.common.by import By\n",
    "from selenium.webdriver.support.wait import WebDriverWait\n",
    "from selenium.webdriver.support import expected_conditions as EC\n",
    "\n",
    "driver = webdriver.Firefox()\n",
    "driver.get(\"https://testpages.herokuapp.com/styled/dynamic-buttons-simple.html\")\n",
    "print(driver.title)\n",
    "elem = driver.find_element(By.ID, \"button00\").click()\n",
    "element = WebDriverWait(driver, 10).until(\n",
    "        EC.presence_of_element_located((By.ID, \"button01\"))\n",
    "    )\n",
    "elem = driver.find_element(By.ID, \"button01\").click()\n",
    "element = WebDriverWait(driver, 10).until(\n",
    "        EC.presence_of_element_located((By.ID, \"button02\"))\n",
    "    )\n",
    "elem = driver.find_element(By.ID, \"button02\").click()\n",
    "element = WebDriverWait(driver, 10).until(\n",
    "        EC.presence_of_element_located((By.ID, \"button03\"))\n",
    "    )\n",
    "elem = driver.find_element(By.ID, \"button03\").click()"
   ]
  },
  {
   "cell_type": "code",
   "execution_count": null,
   "id": "54044467-deea-465f-9f60-2f1b69c89da6",
   "metadata": {},
   "outputs": [],
   "source": [
    "html = driver.page_source"
   ]
  },
  {
   "cell_type": "code",
   "execution_count": null,
   "id": "2fbc5a17-f551-4b4d-a12e-d8a0e0432c68",
   "metadata": {},
   "outputs": [],
   "source": [
    "driver.close()"
   ]
  }
 ],
 "metadata": {
  "kernelspec": {
   "display_name": "base",
   "language": "python",
   "name": "base"
  },
  "language_info": {
   "codemirror_mode": {
    "name": "ipython",
    "version": 3
   },
   "file_extension": ".py",
   "mimetype": "text/x-python",
   "name": "python",
   "nbconvert_exporter": "python",
   "pygments_lexer": "ipython3",
   "version": "3.9.18"
  }
 },
 "nbformat": 4,
 "nbformat_minor": 5
}
