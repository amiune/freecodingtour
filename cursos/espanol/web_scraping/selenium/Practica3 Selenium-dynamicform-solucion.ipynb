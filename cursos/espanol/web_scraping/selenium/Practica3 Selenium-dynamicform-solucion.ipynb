{
 "cells": [
  {
   "cell_type": "code",
   "execution_count": null,
   "id": "ced3dc1f-9c84-4e96-a44d-c8e1d4045a85",
   "metadata": {},
   "outputs": [],
   "source": [
    "#https://www.selenium.dev/selenium/docs/api/py/webdriver_support/selenium.webdriver.support.select.html\n",
    "#https://www.selenium.dev/selenium/docs/api/py/webdriver_support/selenium.webdriver.support.expected_conditions.html"
   ]
  },
  {
   "cell_type": "code",
   "execution_count": 1,
   "id": "26db48c1-dd51-4210-9985-1e2e7de8c1c8",
   "metadata": {},
   "outputs": [
    {
     "name": "stdout",
     "output_type": "stream",
     "text": [
      "Test Page For Basic Ajax Example\n",
      "1 Web\n",
      "2 Desktop\n",
      "3 Server\n",
      "10 C++\n",
      "11 Assembler\n",
      "12 C\n",
      "13 Visual Basic\n"
     ]
    }
   ],
   "source": [
    "from selenium import webdriver\n",
    "from selenium.webdriver.common.keys import Keys\n",
    "from selenium.webdriver.common.by import By\n",
    "from selenium.webdriver.support.ui import Select\n",
    "from selenium.webdriver.support.wait import WebDriverWait\n",
    "from selenium.webdriver.support import expected_conditions as EC\n",
    "\n",
    "driver = webdriver.Firefox()\n",
    "driver.get(\"https://testpages.herokuapp.com/styled/basic-ajax-test.html\")\n",
    "print(driver.title)\n",
    "selectElement = driver.find_element(By.ID, \"combo1\")\n",
    "select = Select(selectElement)\n",
    "for opt in select.options:\n",
    "    print(opt.get_attribute('value'), opt.text)\n",
    "select.select_by_value('2')\n",
    "\n",
    "element = WebDriverWait(driver, 10).until(\n",
    "EC.invisibility_of_element(driver.find_element(By.ID, \"ajaxBusy\"))\n",
    ")\n",
    "\n",
    "selectElement = driver.find_element(By.ID, \"combo2\")\n",
    "select = Select(selectElement)\n",
    "for opt in select.options:\n",
    "    print(opt.get_attribute('value'), opt.text)\n",
    "\n",
    "\n",
    "#elem.send_keys(Keys.RETURN)\n",
    "driver.find_element(By.NAME, \"submitbutton\").click()\n",
    "#driver.quit()"
   ]
  },
  {
   "cell_type": "code",
   "execution_count": null,
   "id": "54044467-deea-465f-9f60-2f1b69c89da6",
   "metadata": {},
   "outputs": [],
   "source": [
    "html = driver.page_source"
   ]
  },
  {
   "cell_type": "code",
   "execution_count": null,
   "id": "2fbc5a17-f551-4b4d-a12e-d8a0e0432c68",
   "metadata": {},
   "outputs": [],
   "source": [
    "driver.close()"
   ]
  }
 ],
 "metadata": {
  "kernelspec": {
   "display_name": "base",
   "language": "python",
   "name": "base"
  },
  "language_info": {
   "codemirror_mode": {
    "name": "ipython",
    "version": 3
   },
   "file_extension": ".py",
   "mimetype": "text/x-python",
   "name": "python",
   "nbconvert_exporter": "python",
   "pygments_lexer": "ipython3",
   "version": "3.9.18"
  }
 },
 "nbformat": 4,
 "nbformat_minor": 5
}
