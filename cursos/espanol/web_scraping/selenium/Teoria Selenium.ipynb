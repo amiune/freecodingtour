{
 "cells": [
  {
   "cell_type": "markdown",
   "id": "0cbd5df5-2222-49e5-a45a-032e67993df6",
   "metadata": {},
   "source": [
    "# Selenium\n",
    "\n",
    "Aqui no voy a trabajar con la respuesta de un request si no manipulando un browser como Chrome o Firefox, es decir, voy a decirle al browser lo que quiero que haga como por ejemplo: mover el mouse, hacer click en un boton, presionar una tecla en un cuadro de texto, y luego voy a analizar el contenido del mismo que seria exactamente lo que veo en el broser cuando hago click derecho -> inspeccionar."
   ]
  },
  {
   "cell_type": "code",
   "execution_count": 8,
   "id": "70f80b1d-4933-401a-a881-05b3de1c1d9b",
   "metadata": {},
   "outputs": [],
   "source": [
    "#https://selenium-python.readthedocs.io/\n",
    "#https://testpages.herokuapp.com/styled/index.html"
   ]
  },
  {
   "cell_type": "markdown",
   "id": "e8334f1f-c96d-4782-8bcd-ff5078b04b99",
   "metadata": {},
   "source": [
    "## Ejemplo:"
   ]
  },
  {
   "cell_type": "code",
   "execution_count": 1,
   "id": "adebcf2b-5327-4a2f-a0ca-6396739aaa82",
   "metadata": {},
   "outputs": [],
   "source": [
    "from selenium import webdriver\n",
    "from selenium.webdriver.common.keys import Keys\n",
    "from selenium.webdriver.common.by import By"
   ]
  },
  {
   "cell_type": "markdown",
   "id": "e08023ed-d367-425c-a71d-1b5486957d18",
   "metadata": {},
   "source": [
    "### Inicializar el driver para controlar firefox\n",
    "\n",
    "Asegurarse de que el driver este instalado correctamente"
   ]
  },
  {
   "cell_type": "code",
   "execution_count": 2,
   "id": "65c8dce1-867b-4794-af00-bf41d6caf273",
   "metadata": {},
   "outputs": [],
   "source": [
    "driver = webdriver.Firefox()"
   ]
  },
  {
   "cell_type": "markdown",
   "id": "078cfe50-c927-4f8e-bb0c-3ba57f3d0429",
   "metadata": {},
   "source": [
    "### Hacer que firefox ingrese a www.python.org"
   ]
  },
  {
   "cell_type": "code",
   "execution_count": 3,
   "id": "0adb0631-a338-4009-8f34-49437fda1f43",
   "metadata": {},
   "outputs": [],
   "source": [
    "driver.get(\"http://www.python.org\")"
   ]
  },
  {
   "cell_type": "markdown",
   "id": "7bb2cade-418e-4283-87bb-db2a8e260ec8",
   "metadata": {},
   "source": [
    "### Verificar que en el titulo esta la palabra Python"
   ]
  },
  {
   "cell_type": "code",
   "execution_count": 4,
   "id": "cb198602-5d3b-4c3f-a6a0-626e74c95fab",
   "metadata": {},
   "outputs": [],
   "source": [
    "assert \"Python\" in driver.title"
   ]
  },
  {
   "cell_type": "code",
   "execution_count": 5,
   "id": "9b2eda7e-43a5-4d6f-80db-4352be8293f2",
   "metadata": {},
   "outputs": [
    {
     "data": {
      "text/plain": [
       "'Welcome to Python.org'"
      ]
     },
     "execution_count": 5,
     "metadata": {},
     "output_type": "execute_result"
    }
   ],
   "source": [
    "driver.title"
   ]
  },
  {
   "cell_type": "markdown",
   "id": "050aa59f-84d7-422f-870c-f66717323474",
   "metadata": {},
   "source": [
    "### Encontrar el cuadro de texto para hacer una busqueda y limpiarlo"
   ]
  },
  {
   "cell_type": "code",
   "execution_count": 7,
   "id": "f6a9d420-e0c3-426d-b288-60d94e936783",
   "metadata": {},
   "outputs": [],
   "source": [
    "elem = driver.find_element(By.NAME, \"q\")\n",
    "elem.clear()"
   ]
  },
  {
   "cell_type": "markdown",
   "id": "fd0506fc-a5a5-4627-b4b2-bacd25d8420c",
   "metadata": {},
   "source": [
    "### Simular presionar las teclas \"pycon\" y Return"
   ]
  },
  {
   "cell_type": "code",
   "execution_count": 8,
   "id": "76a80337-b545-4502-b968-ad390184efb1",
   "metadata": {},
   "outputs": [],
   "source": [
    "elem.send_keys(\"pycon\")"
   ]
  },
  {
   "cell_type": "code",
   "execution_count": 9,
   "id": "1331225d-a35d-4d32-ac07-fc1574e8315f",
   "metadata": {},
   "outputs": [],
   "source": [
    "elem.send_keys(Keys.RETURN)"
   ]
  },
  {
   "cell_type": "markdown",
   "id": "7c6264ba-2ee8-4f12-9518-7a4cdbe0b02f",
   "metadata": {},
   "source": [
    "### Verificar que la busqueda ha encontrado resultados"
   ]
  },
  {
   "cell_type": "code",
   "execution_count": 9,
   "id": "1e11c6e3-5cb4-4300-b61d-f2750f29b700",
   "metadata": {},
   "outputs": [],
   "source": [
    "assert \"No results found.\" not in driver.page_source"
   ]
  },
  {
   "cell_type": "markdown",
   "id": "c0e6c8fe-fa89-4c7d-8159-12dcc49f2dca",
   "metadata": {},
   "source": [
    "### Cerrar firefox"
   ]
  },
  {
   "cell_type": "code",
   "execution_count": 10,
   "id": "7f7fed25-11a2-4b92-ba13-84076aebaecf",
   "metadata": {},
   "outputs": [],
   "source": [
    "driver.close()"
   ]
  },
  {
   "cell_type": "code",
   "execution_count": null,
   "id": "721838fe-1a57-45df-a8bb-5e0cee27702d",
   "metadata": {},
   "outputs": [],
   "source": []
  }
 ],
 "metadata": {
  "kernelspec": {
   "display_name": "base",
   "language": "python",
   "name": "base"
  },
  "language_info": {
   "codemirror_mode": {
    "name": "ipython",
    "version": 3
   },
   "file_extension": ".py",
   "mimetype": "text/x-python",
   "name": "python",
   "nbconvert_exporter": "python",
   "pygments_lexer": "ipython3",
   "version": "3.9.18"
  }
 },
 "nbformat": 4,
 "nbformat_minor": 5
}
