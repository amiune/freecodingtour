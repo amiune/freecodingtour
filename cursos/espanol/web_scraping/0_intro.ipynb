{
 "cells": [
  {
   "cell_type": "markdown",
   "metadata": {},
   "source": [
    "# Intro to Web Scrapping\n",
    "\n",
    "## Beautiful Soup\n",
    "\n",
    "Esta libreria es muy simple y permite parsear HTML\n",
    "\n",
    "## Selenium\n",
    "\n",
    "Esta libreria permite controlar el browser (Chrome,Firefox,Safari) mediante codigo en python\n",
    "\n",
    "https://github.com/seleniumbase/SeleniumBase\n",
    "\n",
    "## Scrappy\n",
    "\n",
    "Esta libreria es mas compleja y pensada para produccion\n",
    "\n",
    "## LLMs\n",
    "\n",
    "Los LLMs al entender lenguaje natural pueden ser muy utiles para automatizar el webscrapping sobre todo teniendo en cuenta que las paginas web cambian constantemente y estan pensadas para humanos y no para bots.\n",
    "\n"
   ]
  }
 ],
 "metadata": {
  "language_info": {
   "name": "python"
  }
 },
 "nbformat": 4,
 "nbformat_minor": 2
}
