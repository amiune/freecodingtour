{
 "cells": [
  {
   "cell_type": "markdown",
   "id": "cb0e414c",
   "metadata": {},
   "source": [
    "# Referencias:\n",
    "\n",
    "- [Stanford Course](https://web.stanford.edu/class/cs234/index.html) - [[Videos]](https://www.youtube.com/watch?v=E3f2Camj0Is&list=PLoROMvodv4rOSOPzutgyCTapiGlY2Nd8u) - [[Code]](https://github.com/tallamjr/stanford-cs234/tree/master)\n",
    "- [Kaggle RL Course](https://www.kaggle.com/learn/intro-to-game-ai-and-reinforcement-learning)\n",
    "- [HuggingFace RL Course](https://huggingface.co/learn/deep-rl-course/)\n",
    "- [Deep Mind RL Video Series](https://www.youtube.com/playlist?list=PLqYmG7hTraZCRwoyGxvQkqVrZgDQi4m-5)\n",
    "- [More](https://www.kaggle.com/learn/intro-to-game-ai-and-reinforcement-learning/discussion/499257)"
   ]
  }
 ],
 "metadata": {
  "kernelspec": {
   "display_name": "Python 3 (ipykernel)",
   "language": "python",
   "name": "python3"
  },
  "language_info": {
   "codemirror_mode": {
    "name": "ipython",
    "version": 3
   },
   "file_extension": ".py",
   "mimetype": "text/x-python",
   "name": "python",
   "nbconvert_exporter": "python",
   "pygments_lexer": "ipython3",
   "version": "3.12.4"
  }
 },
 "nbformat": 4,
 "nbformat_minor": 5
}
