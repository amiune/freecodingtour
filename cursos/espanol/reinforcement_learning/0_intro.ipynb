{
 "cells": [
  {
   "cell_type": "markdown",
   "id": "dc6d1e87",
   "metadata": {},
   "source": [
    "# Intro\n",
    "\n",
    "\n",
    "En este caso la entrada sera el mundo, o el medioambiente (enviroment en ingles) y la salida sera una accion de un robot ya sea virtual o fisico al que llamaremos agente (agent en ingles).\n",
    "\n",
    "Analicemos como pueden ser cada uno de estos elementos, la entrada, el proceso y la salida:\n",
    "\n",
    "## La entrada\n",
    "\n",
    "Como dijimos la entrada es el mundo, en el caso mas complejo la entrada seran imagenes, sonidos, olores, datos de sensores tactiles y cualquier otro tipo de sensor que nos imaginemos para obtener la mayor informacion posible del mundo que nos rodea (environment).\n",
    "\n",
    "Comenzaremos con ejemplos de mundos muy simples que van a ser tableros de 3x3 de un juego de laberinto donde hay que encontrar la salida. Luego iremos complejizando el mundo incorporante adversarios y objetos que aparecen que no conociamos y que veremos por primera vez mientras jugamos.\n",
    "\n",
    "## El algoritmo de aprendizaje\n",
    "\n",
    "Pod\n"
   ]
  },
  {
   "cell_type": "markdown",
   "id": "cb0e414c",
   "metadata": {},
   "source": [
    "# Referencias:\n",
    "\n",
    "- [OpenAI RL educational resource](https://spinningup.openai.com/en/latest/spinningup/rl_intro.html)\n",
    "- [Stanford Course](https://web.stanford.edu/class/cs234/index.html) - [[Videos]](https://www.youtube.com/watch?v=E3f2Camj0Is&list=PLoROMvodv4rOSOPzutgyCTapiGlY2Nd8u) - [[Code]](https://github.com/tallamjr/stanford-cs234/tree/master)\n",
    "- [Bevan Smith Intro to RL videos](https://www.youtube.com/watch?v=aldWdgUaYRA&list=PLuVnJWOCzbxXcpYnL4WCxRwp8kqHgBoIF)\n",
    "- [Kaggle RL Course](https://www.kaggle.com/learn/intro-to-game-ai-and-reinforcement-learning)\n",
    "- [HuggingFace RL Course](https://huggingface.co/learn/deep-rl-course/)\n",
    "- [Deep Mind RL Video Series](https://www.youtube.com/playlist?list=PLqYmG7hTraZCRwoyGxvQkqVrZgDQi4m-5)\n",
    "- [Temporal Difference Learning by Rich Sutton video series](https://videolectures.net/deeplearning2017_sutton_td_learning/)\n",
    "- [More](https://www.kaggle.com/learn/intro-to-game-ai-and-reinforcement-learning/discussion/499257)\n",
    "- [Another AI Stanford Course](https://www.youtube.com/watch?v=ZiwogMtbjr4&list=PLoROMvodv4rOca_Ovz1DvdtWuz8BfSWL2)\n",
    "- [Wikipedia](https://en.wikipedia.org/wiki/Q-learning)\n",
    "\n",
    "---------------------\n",
    "Simple Q learning implementations:\n",
    "- [Tic Tac Toe](https://colab.research.google.com/drive/1p1Fdhk0NzWNkogy2KjMz2MV2_yMxV_Bm#scrollTo=Z2uk3Aa8zISC)\n",
    "- [Maze](https://github.com/abhijitmajumdar/Simple_Q_Learning)\n",
    "\n",
    "---------------------\n",
    "Hugging Face RL Course\n",
    "\n",
    "- [HF Certification Progress](https://huggingface.co/spaces/ThomasSimonini/Check-my-progress-Deep-RL-Course)\n",
    "- [Certification Process](https://huggingface.co/learn/deep-rl-course/en/communication/certification)\n",
    "- [Leaderboard](https://huggingface.co/spaces/huggingface-projects/Deep-Reinforcement-Learning-Leaderboard)\n",
    "- [AI vs AI](https://huggingface.co/learn/deep-rl-course/unit7/introduction?fw=pt)"
   ]
  },
  {
   "cell_type": "markdown",
   "id": "c4a7fc73",
   "metadata": {},
   "source": []
  }
 ],
 "metadata": {
  "kernelspec": {
   "display_name": "Python 3 (ipykernel)",
   "language": "python",
   "name": "python3"
  },
  "language_info": {
   "codemirror_mode": {
    "name": "ipython",
    "version": 3
   },
   "file_extension": ".py",
   "mimetype": "text/x-python",
   "name": "python",
   "nbconvert_exporter": "python",
   "pygments_lexer": "ipython3",
   "version": "3.12.4"
  }
 },
 "nbformat": 4,
 "nbformat_minor": 5
}
