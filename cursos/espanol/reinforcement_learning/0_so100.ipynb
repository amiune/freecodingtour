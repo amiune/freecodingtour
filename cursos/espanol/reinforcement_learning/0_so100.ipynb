{
 "cells": [
  {
   "cell_type": "markdown",
   "metadata": {},
   "source": [
    "# SO-100\n",
    "\n",
    "- [MuJoCo format model](https://huggingface.co/spaces/alexis779/slobot-genesis-image/tree/main)\n",
    "- [URDF files](https://github.com/TheRobotStudio/SO-ARM100/tree/main/URDF)\n",
    "- [ROS2 and Gazebo simulation](https://github.com/brukg/SO-100-arm)\n",
    "\n",
    "\n",
    "## urdf and mujoco\n",
    "- [urdf2mjcf](https://docs.kscale.dev/docs/urdf2mjcf)\n",
    "- [mujoco modeling docs](https://mujoco.readthedocs.io/en/latest/modeling.html)\n",
    "\n",
    "\n",
    "# Advance AI models for SO100\n",
    "- [Pi0 docs from phospho](https://docs.phospho.ai/basic-usage/inference)\n",
    "- [Pi0 code from phospho](https://github.com/phospho-app/phosphobot/blob/main/scripts/quickstart_ai_pi0.py)\n",
    "- [Combine with Gemini Flash](https://x.com/shreyasgite/status/1903035448085139606?s=46&t=DE4WqQ5WssaAhsiVWEBnvw)"
   ]
  }
 ],
 "metadata": {
  "language_info": {
   "name": "python"
  }
 },
 "nbformat": 4,
 "nbformat_minor": 2
}
