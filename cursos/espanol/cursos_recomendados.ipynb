{
 "cells": [
  {
   "cell_type": "markdown",
   "id": "e56007bb-97af-4304-b3f9-78cd2be4ef35",
   "metadata": {},
   "source": [
    "# Cursos Recomendados:\n",
    "\n",
    "- https://michaelpyrcz.com/my-resources\n",
    "- https://probml.github.io/pml-book/\n",
    "- https://atcold.github.io/NYU-AISP24/"
   ]
  }
 ],
 "metadata": {
  "kernelspec": {
   "display_name": "Python 3 (ipykernel)",
   "language": "python",
   "name": "python3"
  },
  "language_info": {
   "codemirror_mode": {
    "name": "ipython",
    "version": 3
   },
   "file_extension": ".py",
   "mimetype": "text/x-python",
   "name": "python",
   "nbconvert_exporter": "python",
   "pygments_lexer": "ipython3",
   "version": "3.12.4"
  }
 },
 "nbformat": 4,
 "nbformat_minor": 5
}
