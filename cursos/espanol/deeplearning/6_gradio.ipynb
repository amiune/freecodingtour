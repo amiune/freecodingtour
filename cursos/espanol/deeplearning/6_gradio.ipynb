{
 "cells": [
  {
   "cell_type": "markdown",
   "id": "d9470ac8-092d-48ec-b597-d0fcf2788709",
   "metadata": {},
   "source": [
    "# Gradio\n",
    "\n",
    "Aqui veremos como utilizar la libreria Gradio para poder crear un Chat Bot para proveer nuestros servicios de Deep Learning mediante una pagina web."
   ]
  },
  {
   "cell_type": "code",
   "execution_count": null,
   "id": "0d7d151f-3384-4fdb-a67a-f2d0ba902764",
   "metadata": {},
   "outputs": [],
   "source": [
    "!pip install gradio -q -U"
   ]
  },
  {
   "cell_type": "code",
   "execution_count": null,
   "id": "ae0a1cbe-8ef5-4946-b891-0ca5d14c5390",
   "metadata": {},
   "outputs": [],
   "source": [
    "import gradio as gr"
   ]
  },
  {
   "cell_type": "markdown",
   "id": "07691bbb-2282-4256-8330-ce6ef5612f12",
   "metadata": {},
   "source": [
    "## Ejemplo simple"
   ]
  },
  {
   "cell_type": "code",
   "execution_count": null,
   "id": "1fe65e54-120b-4543-95fa-df7ff324e345",
   "metadata": {},
   "outputs": [],
   "source": [
    "import random\n",
    "import gradio as gr\n",
    "\n",
    "def alternatingly_agree(message, history):\n",
    "    if len(history) % 2 == 0:\n",
    "        return f\"Yes, I do think that '{message}'\"\n",
    "    else:\n",
    "        return \"I don't think so\"\n",
    "\n",
    "gr.ChatInterface(alternatingly_agree).launch()"
   ]
  },
  {
   "cell_type": "markdown",
   "id": "68c5813b-6e44-4836-9126-6c06d1418496",
   "metadata": {},
   "source": [
    "## Personalizar el ChatBot\n",
    "\n",
    "https://www.gradio.app/guides/creating-a-chatbot-fast#customizing-your-chatbot"
   ]
  },
  {
   "cell_type": "code",
   "execution_count": null,
   "id": "dca7311f-402b-43b5-8fce-868053d68684",
   "metadata": {},
   "outputs": [],
   "source": [
    "import gradio as gr\n",
    "\n",
    "def yes_man(message, history):\n",
    "    if message.endswith(\"?\"):\n",
    "        return \"Yes\"\n",
    "    else:\n",
    "        return \"Ask me anything!\"\n",
    "\n",
    "demo = gr.ChatInterface(\n",
    "    yes_man,\n",
    "    chatbot=gr.Chatbot(height=300),\n",
    "    textbox=gr.Textbox(placeholder=\"Ask me a yes or no question\", container=False, scale=7),\n",
    "    title=\"Yes Man\",\n",
    "    description=\"Ask Yes Man any question\",\n",
    "    theme=\"soft\",\n",
    "    examples=[\"Hello\", \"Am I cool?\", \"Are tomatoes vegetables?\"],\n",
    "    cache_examples=True,\n",
    "    retry_btn=None,\n",
    "    undo_btn=\"Delete Previous\",\n",
    "    clear_btn=\"Clear\",\n",
    ")\n",
    "\n",
    "demo.launch()"
   ]
  },
  {
   "cell_type": "markdown",
   "id": "07f825c7-9f94-41e0-9a61-ceb492550196",
   "metadata": {},
   "source": [
    "## Añadir la posibilidad de subir archivos\n",
    "\n",
    "https://www.gradio.app/guides/creating-a-chatbot-fast#add-multimodal-capability-to-your-chatbot"
   ]
  },
  {
   "cell_type": "code",
   "execution_count": null,
   "id": "79895d57-32df-4361-9640-f9c06a58617b",
   "metadata": {},
   "outputs": [],
   "source": [
    "import gradio as gr\n",
    "import time\n",
    "\n",
    "def count_files(message, history):\n",
    "    num_files = len(message[\"files\"])\n",
    "    return f\"You uploaded {num_files} files\"\n",
    "\n",
    "demo = gr.ChatInterface(fn=count_files, \n",
    "                        examples=[{\"text\": \"Hello\", \"files\": []}], \n",
    "                        title=\"Echo Bot\", \n",
    "                        multimodal=True)\n",
    "\n",
    "demo.launch()"
   ]
  },
  {
   "cell_type": "markdown",
   "id": "01bef726-00cf-48c7-900a-54f505d3daea",
   "metadata": {},
   "source": [
    "## Personalizar el Chat Bot con Bloques\n",
    "\n",
    "Aqui podemos ver como personalizar el chatbot con bloques de gradio:\n",
    "\n",
    "https://www.gradio.app/guides/creating-a-custom-chatbot-with-blocks"
   ]
  },
  {
   "cell_type": "code",
   "execution_count": null,
   "id": "74d8cef6-ef64-40e9-8e70-2429973d15c5",
   "metadata": {},
   "outputs": [],
   "source": [
    "import gradio as gr\n",
    "\n",
    "def add_message(history, message):\n",
    "    for x in message[\"files\"]:\n",
    "        history.append(((x,), None))\n",
    "    if message[\"text\"] is not None:\n",
    "        history.append((message[\"text\"], None))\n",
    "    return history, gr.MultimodalTextbox(value=None, interactive=False)\n",
    "\n",
    "def bot(history):\n",
    "    history[-1][1] = \"Cool!\"\n",
    "    return history\n",
    "\n",
    "with gr.Blocks(fill_height=True) as demo:\n",
    "    chatbot = gr.Chatbot(\n",
    "        elem_id=\"chatbot\",\n",
    "        bubble_full_width=False,\n",
    "        scale=1,\n",
    "    )\n",
    "\n",
    "    chat_input = gr.MultimodalTextbox(interactive=True,\n",
    "                                      file_count=\"multiple\",\n",
    "                                      placeholder=\"Enter message or upload file...\", show_label=False)\n",
    "\n",
    "    chat_msg = chat_input.submit(add_message, [chatbot, chat_input], [chatbot, chat_input])\n",
    "    bot_msg = chat_msg.then(bot, chatbot, chatbot, api_name=\"bot_response\")\n",
    "    bot_msg.then(lambda: gr.MultimodalTextbox(interactive=True), None, [chat_input])\n",
    "\n",
    "demo.queue()\n",
    "demo.launch()"
   ]
  },
  {
   "cell_type": "markdown",
   "id": "a1569eb1-a179-488b-9dfc-20d69f01b990",
   "metadata": {},
   "source": [
    "# Como hacer que nuestra app funcione permanentemente con HuggingFace Spaces\n",
    "\n",
    "Crear nuestro gradio Space en:\n",
    "https://huggingface.co/spaces\n",
    "\n",
    "Pegar el codigo de nuestra app en un archivo app.py:\n",
    "```python\n",
    "# importamos gradio\n",
    "import gradio as gr\n",
    "\n",
    "# funcion para procesamiento de los datos\n",
    "def saludo(nombre, intensidad):\n",
    "    return \"Hola, \" + nombre + \"!\" * int(intensidad)\n",
    "\n",
    "# interfaz\n",
    "demo = gr.Interface(\n",
    "    fn=saludo,\n",
    "    inputs=[\"text\", \"slider\"],\n",
    "    outputs=[\"text\"],\n",
    "    allow_flagging='never'\n",
    ")\n",
    "\n",
    "# inicio de la app\n",
    "demo.launch()\n",
    "```\n",
    "El codigo debe contener cuatro partes esenciales:\n",
    "- El import de gradio\n",
    "- La funcion con nuestro procesamiento que convierte los datos de entrada en una salida\n",
    "- La interfaz que queremos mostrar al usuario final\n",
    "- inicio de la app\n",
    "\n",
    "Una vez que hagamos commit nuestra app estara disponible en:\n",
    "https://nombredeusuario-nombredelspace.hf.space/"
   ]
  },
  {
   "cell_type": "code",
   "execution_count": null,
   "id": "8c513f3e-8889-4417-87e5-25cc05b92517",
   "metadata": {},
   "outputs": [],
   "source": []
  }
 ],
 "metadata": {
  "kernelspec": {
   "display_name": "Python 3 (ipykernel)",
   "language": "python",
   "name": "python3"
  },
  "language_info": {
   "codemirror_mode": {
    "name": "ipython",
    "version": 3
   },
   "file_extension": ".py",
   "mimetype": "text/x-python",
   "name": "python",
   "nbconvert_exporter": "python",
   "pygments_lexer": "ipython3",
   "version": "3.9.18"
  }
 },
 "nbformat": 4,
 "nbformat_minor": 5
}
