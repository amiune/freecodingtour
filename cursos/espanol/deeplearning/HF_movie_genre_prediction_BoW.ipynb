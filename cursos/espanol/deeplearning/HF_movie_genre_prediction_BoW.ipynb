{
 "cells": [
  {
   "cell_type": "markdown",
   "id": "7e8e8877-0df8-48bb-9a49-50439411e8fb",
   "metadata": {},
   "source": [
    "# Prediccion del Genero de una Pelicula\n",
    "\n",
    "## Solucion Bag of Words"
   ]
  },
  {
   "cell_type": "code",
   "execution_count": 1,
   "id": "ca3bad83-5c22-41fe-b09a-90c49ad51f71",
   "metadata": {},
   "outputs": [],
   "source": [
    "import pandas as pd"
   ]
  },
  {
   "cell_type": "code",
   "execution_count": 2,
   "id": "e4feb535-309e-4679-ae4b-08323c556ab2",
   "metadata": {},
   "outputs": [],
   "source": [
    "df_train = pd.read_parquet('https://github.com/amiune/freecodingtour/raw/main/cursos/espanol/deeplearning/data/train.parquet', engine='pyarrow')\n",
    "df_test = pd.read_parquet('https://github.com/amiune/freecodingtour/raw/main/cursos/espanol/deeplearning/data/test.parquet', engine='pyarrow')"
   ]
  },
  {
   "cell_type": "code",
   "execution_count": 5,
   "id": "f7da1477-476a-4298-9c3b-45958ade4389",
   "metadata": {},
   "outputs": [
    {
     "data": {
      "text/plain": [
       "['fantasy',\n",
       " 'horror',\n",
       " 'family',\n",
       " 'scifi',\n",
       " 'action',\n",
       " 'crime',\n",
       " 'adventure',\n",
       " 'mystery',\n",
       " 'romance',\n",
       " 'thriller']"
      ]
     },
     "execution_count": 5,
     "metadata": {},
     "output_type": "execute_result"
    }
   ],
   "source": [
    "genres_list = list(df_train.genre.unique())\n",
    "genres_list"
   ]
  },
  {
   "cell_type": "markdown",
   "id": "a9392f5c-1ff3-41c2-be07-26c1ab077d0f",
   "metadata": {},
   "source": [
    "### Concateno el titulo y la sinopsis "
   ]
  },
  {
   "cell_type": "code",
   "execution_count": 9,
   "id": "e583deab-a6ee-489b-84ec-3609aa8c9bc1",
   "metadata": {},
   "outputs": [
    {
     "data": {
      "text/html": [
       "<div>\n",
       "<style scoped>\n",
       "    .dataframe tbody tr th:only-of-type {\n",
       "        vertical-align: middle;\n",
       "    }\n",
       "\n",
       "    .dataframe tbody tr th {\n",
       "        vertical-align: top;\n",
       "    }\n",
       "\n",
       "    .dataframe thead th {\n",
       "        text-align: right;\n",
       "    }\n",
       "</style>\n",
       "<table border=\"1\" class=\"dataframe\">\n",
       "  <thead>\n",
       "    <tr style=\"text-align: right;\">\n",
       "      <th></th>\n",
       "      <th>id</th>\n",
       "      <th>movie_name</th>\n",
       "      <th>synopsis</th>\n",
       "      <th>genre</th>\n",
       "      <th>text</th>\n",
       "    </tr>\n",
       "  </thead>\n",
       "  <tbody>\n",
       "    <tr>\n",
       "      <th>0</th>\n",
       "      <td>44978</td>\n",
       "      <td>Super Me</td>\n",
       "      <td>A young scriptwriter starts bringing valuable ...</td>\n",
       "      <td>fantasy</td>\n",
       "      <td>super me a young scriptwriter starts bringing ...</td>\n",
       "    </tr>\n",
       "    <tr>\n",
       "      <th>1</th>\n",
       "      <td>50185</td>\n",
       "      <td>Entity Project</td>\n",
       "      <td>A director and her friends renting a haunted h...</td>\n",
       "      <td>horror</td>\n",
       "      <td>entity project a director and her friends rent...</td>\n",
       "    </tr>\n",
       "    <tr>\n",
       "      <th>2</th>\n",
       "      <td>34131</td>\n",
       "      <td>Behavioral Family Therapy for Serious Psychiat...</td>\n",
       "      <td>This is an educational video for families and ...</td>\n",
       "      <td>family</td>\n",
       "      <td>behavioral family therapy for serious psychiat...</td>\n",
       "    </tr>\n",
       "    <tr>\n",
       "      <th>3</th>\n",
       "      <td>78522</td>\n",
       "      <td>Blood Glacier</td>\n",
       "      <td>Scientists working in the Austrian Alps discov...</td>\n",
       "      <td>scifi</td>\n",
       "      <td>blood glacier scientists working in the austri...</td>\n",
       "    </tr>\n",
       "    <tr>\n",
       "      <th>4</th>\n",
       "      <td>2206</td>\n",
       "      <td>Apat na anino</td>\n",
       "      <td>Buy Day - Four Men Widely - Apart in Life - By...</td>\n",
       "      <td>action</td>\n",
       "      <td>apat na anino buy day - four men widely - apar...</td>\n",
       "    </tr>\n",
       "  </tbody>\n",
       "</table>\n",
       "</div>"
      ],
      "text/plain": [
       "      id                                         movie_name  \\\n",
       "0  44978                                           Super Me   \n",
       "1  50185                                     Entity Project   \n",
       "2  34131  Behavioral Family Therapy for Serious Psychiat...   \n",
       "3  78522                                      Blood Glacier   \n",
       "4   2206                                      Apat na anino   \n",
       "\n",
       "                                            synopsis    genre  \\\n",
       "0  A young scriptwriter starts bringing valuable ...  fantasy   \n",
       "1  A director and her friends renting a haunted h...   horror   \n",
       "2  This is an educational video for families and ...   family   \n",
       "3  Scientists working in the Austrian Alps discov...    scifi   \n",
       "4  Buy Day - Four Men Widely - Apart in Life - By...   action   \n",
       "\n",
       "                                                text  \n",
       "0  super me a young scriptwriter starts bringing ...  \n",
       "1  entity project a director and her friends rent...  \n",
       "2  behavioral family therapy for serious psychiat...  \n",
       "3  blood glacier scientists working in the austri...  \n",
       "4  apat na anino buy day - four men widely - apar...  "
      ]
     },
     "execution_count": 9,
     "metadata": {},
     "output_type": "execute_result"
    }
   ],
   "source": [
    "df_train[\"text\"] = df_train.movie_name.str.lower() + \" \" + df_train.synopsis.str.lower()\n",
    "df_train.head()"
   ]
  },
  {
   "cell_type": "markdown",
   "id": "bcd7d1ce-d117-4266-800d-82a3129fc8e6",
   "metadata": {},
   "source": [
    "# Entrenar y evaluar distintos modelos"
   ]
  },
  {
   "cell_type": "markdown",
   "id": "c66370d2-9695-46f5-8fbb-74837064bcff",
   "metadata": {},
   "source": [
    "### Divido el dataset en entrenamiento y evaluacion"
   ]
  },
  {
   "cell_type": "code",
   "execution_count": 10,
   "id": "959a7daf-226a-43c2-9e2a-2e396d7eed42",
   "metadata": {},
   "outputs": [],
   "source": [
    "from sklearn.model_selection import train_test_split\n",
    "X_train, X_val, y_train, y_val = train_test_split(df_train[\"text\"], \n",
    "                                                  df_train[\"genre\"], \n",
    "                                                  test_size=0.30, \n",
    "                                                  stratify=df_train[\"genre\"],\n",
    "                                                  random_state=42)"
   ]
  },
  {
   "cell_type": "code",
   "execution_count": 11,
   "id": "3e18585e-8660-414b-bc08-443b7df2b679",
   "metadata": {},
   "outputs": [
    {
     "data": {
      "text/plain": [
       "'super me a young scriptwriter starts bringing valuable objects back from his short nightmares of being chased by a demon. selling them makes him rich.'"
      ]
     },
     "execution_count": 11,
     "metadata": {},
     "output_type": "execute_result"
    }
   ],
   "source": [
    "X_train[0]"
   ]
  },
  {
   "cell_type": "markdown",
   "id": "034ba961-fe83-4714-ab01-27c9d43ff2d5",
   "metadata": {},
   "source": [
    "### Creo el bag of words utilizando CountVectorizer"
   ]
  },
  {
   "cell_type": "code",
   "execution_count": 12,
   "id": "ab7fa12e-fc10-4d80-a1a0-3177fe8aa2e6",
   "metadata": {},
   "outputs": [],
   "source": [
    "#from sklearn.feature_extraction.text import CountVectorizer\n",
    "#vectorizer = CountVectorizer(max_features=8000, stop_words='english')\n",
    "#X_train_vect = vectorizer.fit_transform(X_train)"
   ]
  },
  {
   "cell_type": "markdown",
   "id": "a74df09e-0c88-4f59-813b-4138114b3380",
   "metadata": {},
   "source": [
    "### Creo el bag of words utilizando TfidfVectorizer"
   ]
  },
  {
   "cell_type": "code",
   "execution_count": 13,
   "id": "be0930b5-72eb-48eb-89b6-0780aa71882c",
   "metadata": {},
   "outputs": [],
   "source": [
    "from sklearn.feature_extraction.text import TfidfVectorizer\n",
    "vectorizer = TfidfVectorizer(max_features=8000, stop_words='english')\n",
    "X_train_vect = vectorizer.fit_transform(X_train)"
   ]
  },
  {
   "cell_type": "code",
   "execution_count": 14,
   "id": "ce151ea2-ecf4-408b-9faf-57caf59e3c4b",
   "metadata": {},
   "outputs": [
    {
     "data": {
      "text/plain": [
       "<1x8000 sparse matrix of type '<class 'numpy.float64'>'\n",
       "\twith 16 stored elements in Compressed Sparse Row format>"
      ]
     },
     "execution_count": 14,
     "metadata": {},
     "output_type": "execute_result"
    }
   ],
   "source": [
    "#Sparse data classification\n",
    "#https://datascience.stackexchange.com/questions/73311/which-of-the-scikit-learn-classification-algorithms-accept-sparse-matrices\n",
    "X_train_vect[0]"
   ]
  },
  {
   "cell_type": "markdown",
   "id": "4683c4bf-96d0-4c45-b857-fff733bf296d",
   "metadata": {},
   "source": [
    "### Creo un modelo de regresion lineal y lo evaluo"
   ]
  },
  {
   "cell_type": "code",
   "execution_count": 15,
   "id": "137cc29d-409d-404e-982b-56077ec9c5f7",
   "metadata": {},
   "outputs": [],
   "source": [
    "#from sklearn.linear_model import LogisticRegression\n",
    "#clf = LogisticRegression(random_state=0, max_iter=1000).fit(X_train_vect, y_train)\n",
    "#clf.predict(X_train_vect[:2, :])"
   ]
  },
  {
   "cell_type": "markdown",
   "id": "cc281ba9-f49a-4a99-9426-f72e7beb6310",
   "metadata": {},
   "source": [
    "### Creo un modelo de Multinomial Naive Bayes y lo evaluo"
   ]
  },
  {
   "cell_type": "code",
   "execution_count": 16,
   "id": "d531d6d9-e47e-4eac-ae9e-28814b94bd66",
   "metadata": {},
   "outputs": [
    {
     "data": {
      "text/plain": [
       "array(['scifi', 'crime'], dtype='<U9')"
      ]
     },
     "execution_count": 16,
     "metadata": {},
     "output_type": "execute_result"
    }
   ],
   "source": [
    "from sklearn.naive_bayes import MultinomialNB\n",
    "clf = MultinomialNB(alpha=10).fit(X_train_vect, y_train)\n",
    "clf.predict(X_train_vect[:2, :])"
   ]
  },
  {
   "cell_type": "code",
   "execution_count": 17,
   "id": "3b0fe042-350a-4b97-a740-a475ade12946",
   "metadata": {},
   "outputs": [
    {
     "name": "stdout",
     "output_type": "stream",
     "text": [
      "Train accuracy:  0.4617724867724868\n"
     ]
    }
   ],
   "source": [
    "from sklearn.metrics import accuracy_score\n",
    "y_tain_pred = clf.predict(X_train_vect)\n",
    "print(\"Train accuracy: \", accuracy_score(y_train, y_tain_pred))"
   ]
  },
  {
   "cell_type": "code",
   "execution_count": 18,
   "id": "4186f8a6-ae10-4e7f-8844-d4e67ee27058",
   "metadata": {},
   "outputs": [
    {
     "name": "stdout",
     "output_type": "stream",
     "text": [
      "Validation accuracy:  0.3738888888888889\n"
     ]
    }
   ],
   "source": [
    "X_val_vect = vectorizer.transform(X_val)\n",
    "y_val_pred = clf.predict(X_val_vect)\n",
    "print(\"Validation accuracy: \", accuracy_score(y_val, y_val_pred))"
   ]
  },
  {
   "cell_type": "markdown",
   "id": "6ea27805-3b56-43cf-a5ec-8261980903a1",
   "metadata": {},
   "source": [
    "# Entrenar de nuevo con toda la base de datos"
   ]
  },
  {
   "cell_type": "code",
   "execution_count": 19,
   "id": "7581f12a-6bd0-4353-aa50-0af89db72dc0",
   "metadata": {},
   "outputs": [
    {
     "data": {
      "text/plain": [
       "array(['horror', 'horror'], dtype='<U9')"
      ]
     },
     "execution_count": 19,
     "metadata": {},
     "output_type": "execute_result"
    }
   ],
   "source": [
    "vectorizer = TfidfVectorizer(max_features=8000, stop_words='english')\n",
    "df_train_vect = vectorizer.fit_transform(df_train.text)\n",
    "\n",
    "clf = MultinomialNB(alpha=10).fit(df_train_vect, df_train.genre)\n",
    "clf.predict(df_train_vect[:2, :])"
   ]
  },
  {
   "cell_type": "markdown",
   "id": "073407b2-ea34-4e0f-9d80-dcea09d53ae9",
   "metadata": {},
   "source": [
    "# Predecir el dataset de test y crear el archivo a enviar"
   ]
  },
  {
   "cell_type": "code",
   "execution_count": 20,
   "id": "8fba868c-9e33-4ed8-b9f5-11fe719707de",
   "metadata": {},
   "outputs": [
    {
     "data": {
      "text/html": [
       "<div>\n",
       "<style scoped>\n",
       "    .dataframe tbody tr th:only-of-type {\n",
       "        vertical-align: middle;\n",
       "    }\n",
       "\n",
       "    .dataframe tbody tr th {\n",
       "        vertical-align: top;\n",
       "    }\n",
       "\n",
       "    .dataframe thead th {\n",
       "        text-align: right;\n",
       "    }\n",
       "</style>\n",
       "<table border=\"1\" class=\"dataframe\">\n",
       "  <thead>\n",
       "    <tr style=\"text-align: right;\">\n",
       "      <th></th>\n",
       "      <th>id</th>\n",
       "      <th>movie_name</th>\n",
       "      <th>synopsis</th>\n",
       "      <th>genre</th>\n",
       "      <th>text</th>\n",
       "    </tr>\n",
       "  </thead>\n",
       "  <tbody>\n",
       "    <tr>\n",
       "      <th>0</th>\n",
       "      <td>16863</td>\n",
       "      <td>A Death Sentence</td>\n",
       "      <td>12 y.o. Ida's dad'll die without a DKK1,500,00...</td>\n",
       "      <td>action</td>\n",
       "      <td>a death sentence 12 y.o. ida's dad'll die with...</td>\n",
       "    </tr>\n",
       "    <tr>\n",
       "      <th>1</th>\n",
       "      <td>48456</td>\n",
       "      <td>Intermedio</td>\n",
       "      <td>A group of four teenage friends become trapped...</td>\n",
       "      <td>action</td>\n",
       "      <td>intermedio a group of four teenage friends bec...</td>\n",
       "    </tr>\n",
       "    <tr>\n",
       "      <th>2</th>\n",
       "      <td>41383</td>\n",
       "      <td>30 Chua Phai Tet</td>\n",
       "      <td>A guy left his home for 12 years till he came ...</td>\n",
       "      <td>action</td>\n",
       "      <td>30 chua phai tet a guy left his home for 12 ye...</td>\n",
       "    </tr>\n",
       "    <tr>\n",
       "      <th>3</th>\n",
       "      <td>84007</td>\n",
       "      <td>Paranoiac</td>\n",
       "      <td>A man long believed dead returns to the family...</td>\n",
       "      <td>action</td>\n",
       "      <td>paranoiac a man long believed dead returns to ...</td>\n",
       "    </tr>\n",
       "    <tr>\n",
       "      <th>4</th>\n",
       "      <td>40269</td>\n",
       "      <td>Ordinary Happiness</td>\n",
       "      <td>After a deadly accident, Paolo comes back on E...</td>\n",
       "      <td>action</td>\n",
       "      <td>ordinary happiness after a deadly accident, pa...</td>\n",
       "    </tr>\n",
       "  </tbody>\n",
       "</table>\n",
       "</div>"
      ],
      "text/plain": [
       "      id          movie_name  \\\n",
       "0  16863    A Death Sentence   \n",
       "1  48456          Intermedio   \n",
       "2  41383    30 Chua Phai Tet   \n",
       "3  84007           Paranoiac   \n",
       "4  40269  Ordinary Happiness   \n",
       "\n",
       "                                            synopsis   genre  \\\n",
       "0  12 y.o. Ida's dad'll die without a DKK1,500,00...  action   \n",
       "1  A group of four teenage friends become trapped...  action   \n",
       "2  A guy left his home for 12 years till he came ...  action   \n",
       "3  A man long believed dead returns to the family...  action   \n",
       "4  After a deadly accident, Paolo comes back on E...  action   \n",
       "\n",
       "                                                text  \n",
       "0  a death sentence 12 y.o. ida's dad'll die with...  \n",
       "1  intermedio a group of four teenage friends bec...  \n",
       "2  30 chua phai tet a guy left his home for 12 ye...  \n",
       "3  paranoiac a man long believed dead returns to ...  \n",
       "4  ordinary happiness after a deadly accident, pa...  "
      ]
     },
     "execution_count": 20,
     "metadata": {},
     "output_type": "execute_result"
    }
   ],
   "source": [
    "df_test[\"text\"] = df_test.movie_name.str.lower() + \" \" + df_test.synopsis.str.lower()\n",
    "df_test.head()"
   ]
  },
  {
   "cell_type": "code",
   "execution_count": 21,
   "id": "17014785-815e-4e74-b71e-7cdbbb002c2e",
   "metadata": {},
   "outputs": [],
   "source": [
    "X_test = vectorizer.transform(df_test.text)"
   ]
  },
  {
   "cell_type": "code",
   "execution_count": 22,
   "id": "fdc17949-6067-4872-92bf-ed6ad116dbb6",
   "metadata": {},
   "outputs": [],
   "source": [
    "pred = clf.predict(X_test)"
   ]
  },
  {
   "cell_type": "code",
   "execution_count": 23,
   "id": "6653df29-67ba-460d-bddb-64aa1203ba6b",
   "metadata": {},
   "outputs": [],
   "source": [
    "df_submission = pd.DataFrame({\"id\":df_test[\"id\"],\"genre\":pred})"
   ]
  },
  {
   "cell_type": "code",
   "execution_count": 24,
   "id": "aa5b7559-ae22-4009-b353-899f447b4cf7",
   "metadata": {},
   "outputs": [],
   "source": [
    "df_submission.to_csv(\"submission2.1.csv\", index=False)"
   ]
  },
  {
   "cell_type": "code",
   "execution_count": 31,
   "id": "c8ec40cf-d1e7-4d2f-b056-9b90d0aefaa6",
   "metadata": {},
   "outputs": [],
   "source": [
    "test_probs = clf.predict_proba(X_test)"
   ]
  },
  {
   "cell_type": "code",
   "execution_count": 32,
   "id": "b5b901fc-6a6e-4574-8a26-979e0bdd329b",
   "metadata": {},
   "outputs": [
    {
     "data": {
      "text/plain": [
       "array([0.12604317, 0.09757201, 0.16063046, 0.13848384, 0.07640207,\n",
       "       0.0736028 , 0.07532464, 0.08137083, 0.07549634, 0.09507384])"
      ]
     },
     "execution_count": 32,
     "metadata": {},
     "output_type": "execute_result"
    }
   ],
   "source": [
    "test_probs[0]"
   ]
  },
  {
   "cell_type": "code",
   "execution_count": 33,
   "id": "1c4cd788-c637-4b87-b9c5-97bf4b4c1714",
   "metadata": {},
   "outputs": [
    {
     "data": {
      "text/plain": [
       "array(['action', 'adventure', 'crime', 'family', 'fantasy', 'horror',\n",
       "       'mystery', 'romance', 'scifi', 'thriller'], dtype='<U9')"
      ]
     },
     "execution_count": 33,
     "metadata": {},
     "output_type": "execute_result"
    }
   ],
   "source": [
    "clf.classes_"
   ]
  },
  {
   "cell_type": "code",
   "execution_count": 34,
   "id": "b203ddfe-0d30-4f69-bb06-4f6bd6b5886c",
   "metadata": {},
   "outputs": [],
   "source": [
    "tmp_dict = {\"id\":df_test[\"id\"]}\n",
    "for j in range(len(clf.classes_)):\n",
    "    tmp_dict[clf.classes_[j]] = test_probs[:,j]\n",
    "df_probs = pd.DataFrame(tmp_dict)\n",
    "df_probs.to_csv(\"multinomialnb_probs.csv\", index=False)"
   ]
  },
  {
   "cell_type": "markdown",
   "id": "d4f7fe2b-9fd4-4ce1-84e0-463c399e090f",
   "metadata": {},
   "source": [
    "# Fin: [Volver al contenido del curso](https://www.freecodingtour.com/cursos/espanol/deeplearning/deeplearning.html)"
   ]
  }
 ],
 "metadata": {
  "kernelspec": {
   "display_name": "base",
   "language": "python",
   "name": "base"
  },
  "language_info": {
   "codemirror_mode": {
    "name": "ipython",
    "version": 3
   },
   "file_extension": ".py",
   "mimetype": "text/x-python",
   "name": "python",
   "nbconvert_exporter": "python",
   "pygments_lexer": "ipython3",
   "version": "3.9.7"
  }
 },
 "nbformat": 4,
 "nbformat_minor": 5
}
