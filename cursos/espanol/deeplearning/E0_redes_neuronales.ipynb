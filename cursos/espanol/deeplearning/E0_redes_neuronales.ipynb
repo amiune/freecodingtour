{
 "cells": [
  {
   "cell_type": "markdown",
   "id": "355a45d0-f340-4a55-8249-0a86a4f06bec",
   "metadata": {},
   "source": [
    "# Redes Neuronales"
   ]
  },
  {
   "cell_type": "markdown",
   "id": "ec784c76-83d6-4e76-8cca-22ece5bf499e",
   "metadata": {},
   "source": [
    "Como es una neurona?\n",
    "\n",
    "<div style=\"text-align:center\">\n",
    "<img src=\"img/neurona.png\" width=\"500\"/>\n",
    "</div>"
   ]
  },
  {
   "cell_type": "markdown",
   "id": "b69be555-ae59-4727-89f0-1c5a3cd7c867",
   "metadata": {},
   "source": [
    "Como la podemos describir matematicamente?\n",
    "\n",
    "- Las dentritas son las variables de entrada\n",
    "- El cuerpo celular es una funcion de suma\n",
    "- Si la suma es mayor a un umbral se activa el axon (funcion de activacion)\n",
    "- El axon es la variable de salida\n",
    "\n",
    "<div style=\"text-align:center\">\n",
    "<img src=\"img/neurona_matematica.png\" width=\"700\"/>\n",
    "</div>"
   ]
  },
  {
   "cell_type": "markdown",
   "id": "795139da-43b9-4f9a-815f-d8ef518d4f21",
   "metadata": {},
   "source": [
    "Si vemos este modelo de cerca vemos que el modelo matematico una neurona es igual a una regresion lineal o logistica dependiendo de su funcion de activacion. O sea es una caja negra que puede predecir nuevos datos a partir de una tabla de entrenamiento.\n",
    "\n",
    "El siguiente paso obvio es conectar varias neuronas para lograr una red neuronal:\n",
    "\n",
    "<div style=\"text-align:center\">\n",
    "<img src=\"img/red_neuronal.png\" width=\"700\"/>\n",
    "</div>\n",
    "\n",
    "En esta pequeña red tenemos una sola capa oculta pero podriamos tener todas las que querramos. Cada circulo de nuestra capa oculta y de la capa de salida es un una neurona"
   ]
  },
  {
   "cell_type": "markdown",
   "id": "8f6cbb69-5a99-4d50-94aa-dcb971eadf0d",
   "metadata": {},
   "source": [
    "Con esta idea se penso que se iba a lograr igualar la inteligencia humana pero los resultados no eran mejores que los de las otras cajas negras que vimos en el [Curso de Ciencia de datos](https://www.freecodingtour.com/cursos/espanol/datascience/datascience.html). Esto se debe a muchos motivos pero es interesante pensar en que nosotros no tenemos sensores electronicos que manden numeros en forma de tabla a nuestro cerebro. Mayormente aprendemos a traves de la vision y de la lectura y aqui fue que con numerosas modificaciones a estas arquitecturas de redes neuronales se consiguio que puedan servir para hacer predicciones de imagenes y texto mucho mejor que cualquier otra caja negra antes conocida. En las proximas unidades veremos como se llego a esto."
   ]
  },
  {
   "cell_type": "markdown",
   "id": "94244657-107f-4e36-9d08-88ba57823f71",
   "metadata": {},
   "source": [
    "# Fin: [Volver al contenido del curso](https://www.freecodingtour.com/cursos/espanol/deeplearning/deeplearning.html)"
   ]
  },
  {
   "cell_type": "markdown",
   "id": "d67433bc-550a-4b1e-ac23-4563ac655693",
   "metadata": {},
   "source": [
    "Referencias de las imagenes:\n",
    "\n",
    "- Neurona: https://en.wikipedia.org/wiki/Neuron#/media/File:Blausen_0657_MultipolarNeuron.png"
   ]
  },
  {
   "cell_type": "code",
   "execution_count": null,
   "id": "819bac8e-87be-4c5e-b9c9-f283ec3c16aa",
   "metadata": {},
   "outputs": [],
   "source": []
  }
 ],
 "metadata": {
  "kernelspec": {
   "display_name": "Python 3 (ipykernel)",
   "language": "python",
   "name": "python3"
  },
  "language_info": {
   "codemirror_mode": {
    "name": "ipython",
    "version": 3
   },
   "file_extension": ".py",
   "mimetype": "text/x-python",
   "name": "python",
   "nbconvert_exporter": "python",
   "pygments_lexer": "ipython3",
   "version": "3.9.7"
  }
 },
 "nbformat": 4,
 "nbformat_minor": 5
}
