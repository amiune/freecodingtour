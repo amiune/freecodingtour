{
 "cells": [
  {
   "cell_type": "markdown",
   "id": "355a45d0-f340-4a55-8249-0a86a4f06bec",
   "metadata": {},
   "source": [
    "# Cajas Negras Preentrenadas"
   ]
  },
  {
   "cell_type": "markdown",
   "id": "dd637aed-b023-450b-9d28-80a630a73d99",
   "metadata": {},
   "source": [
    "Estas cajas negras de deep learning que pueden aprender a partir de imagenes y texto han sido estudiadas y puestas en practica por miles de cientificos e ingenieros en los ultimos años. Por ello hay muchas arquitecturas diferentes y diferentes modelos.\n",
    "\n",
    "Muchos de estos modelos han sido entrenados con imagenes y texto obtenidos de internet y puestos a disposicion de cualquier programador para que pueda descargarlos y utilizarlos sin tener que entrenarlos nuevamente. Estos modelos se llaman modelos preentrenados.\n",
    "\n",
    "Ya que crear y entrenar un modelo desde cero lleva muchisimo trabajo, esfuerzo y tiempo de computo, en este curso nos enfocaremos en utilizar solamente modelos preentrenados y luego ajustarlos a nuestras necesidades mediante lo que se conoce como el procedimiento de finetuning."
   ]
  },
  {
   "cell_type": "markdown",
   "id": "590d6ea0-cbb7-4bed-a666-5639797b788a",
   "metadata": {},
   "source": [
    "## Modelos Convolucionales preentrenados\n",
    "\n",
    "\n",
    "<div style=\"text-align:center\">\n",
    "<img src=\"img/red_convolucional.png\" width=\"800\"/>\n",
    "</div>\n",
    "\n",
    "Imagenet: https://www.image-net.org/index.php\n",
    "\n",
    "Clases: https://deeplearning.cms.waikato.ac.nz/user-guide/class-maps/IMAGENET/"
   ]
  },
  {
   "cell_type": "markdown",
   "id": "8b02a872-e59c-4e8b-9b27-4db53cbed1e6",
   "metadata": {},
   "source": [
    "Librerias open source:\n",
    "- pytorch\n",
    "- tensorflow\n",
    "- keras\n",
    "- huggingface\n",
    "\n",
    "En la nube privadas pagas:\n",
    "- amazon\n",
    "- chatgpt\n",
    "- microsoft"
   ]
  },
  {
   "cell_type": "markdown",
   "id": "94244657-107f-4e36-9d08-88ba57823f71",
   "metadata": {},
   "source": [
    "# Fin: [Volver al contenido del curso](https://www.freecodingtour.com/cursos/espanol/deeplearning/deeplearning.html)"
   ]
  }
 ],
 "metadata": {
  "kernelspec": {
   "display_name": "Python 3 (ipykernel)",
   "language": "python",
   "name": "python3"
  },
  "language_info": {
   "codemirror_mode": {
    "name": "ipython",
    "version": 3
   },
   "file_extension": ".py",
   "mimetype": "text/x-python",
   "name": "python",
   "nbconvert_exporter": "python",
   "pygments_lexer": "ipython3",
   "version": "3.9.7"
  }
 },
 "nbformat": 4,
 "nbformat_minor": 5
}
