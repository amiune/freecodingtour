{
 "cells": [
  {
   "cell_type": "markdown",
   "id": "355a45d0-f340-4a55-8249-0a86a4f06bec",
   "metadata": {},
   "source": [
    "# Cajas Negras Preentrenadas"
   ]
  },
  {
   "cell_type": "markdown",
   "id": "dd637aed-b023-450b-9d28-80a630a73d99",
   "metadata": {},
   "source": [
    "Estas cajas negras de deep learning que pueden aprender a partir de imagenes y texto han sido estudiadas y puestas en practica por miles de cientificos e ingenieros en los ultimos años. Por ello hay muchas arquitecturas diferentes y diferentes modelos.\n",
    "\n",
    "Muchos de estos modelos han sido entrenados con imagenes y texto obtenidos de internet y puestos a disposicion de cualquier programador para que pueda descargarlos y utilizarlos sin tener que entrenarlos nuevamente. **Estas cajas negras se llaman modelos preentrenados.**\n",
    "\n",
    "Ya que crear y entrenar un modelo desde cero lleva muchisimo trabajo, esfuerzo y tiempo de computo, en este curso nos enfocaremos en utilizar solamente modelos preentrenados y luego ajustarlos a nuestras necesidades mediante lo que se conoce como el procedimiento de finetuning."
   ]
  },
  {
   "cell_type": "markdown",
   "id": "5f6b3f52-2121-4891-a518-c562833b3b3e",
   "metadata": {},
   "source": [
    "## Librerias\n",
    "\n",
    "Existen multiples librerias que nos permiten descargar y utilizar estos modelos preentrenados de forma sencilla y seguramente iran apareciendo mas. Aqui nos veremos solo veremos algunas de las mas usadas.\n",
    "\n",
    "Veamos ahora como utilizar los modelos preentrenados de la libreria **Huggingface**, una de las librerias mas utilizadas mas simples de utilizar que ademas es open source:\n"
   ]
  },
  {
   "cell_type": "markdown",
   "id": "65f8350d-dd2a-4559-a2c1-7bffe2eda5ee",
   "metadata": {},
   "source": [
    "### Huggingface\n",
    "\n",
    "Esta libreria ordena los modelos de acuerdo a la tarea que necesitemos realizar, podemos ver todas las categorias disponibles en el siguiente link: https://huggingface.co/tasks\n",
    "\n",
    "Veamos aqui las categorias:"
   ]
  },
  {
   "cell_type": "markdown",
   "id": "f2ce9646-b950-436b-a20d-45fb59a6e620",
   "metadata": {},
   "source": [
    "#### Vision\n",
    "\n",
    "Si necesitamos trabajar con imagenes entonces la categoria vision nos clasifica los modelos preentrenados para realizar las siguientes tareas:\n",
    "\n",
    "<div style=\"text-align:center\">\n",
    "<img src=\"img/hf_vision.png\" width=\"600\"/>\n",
    "</div>\n",
    "\n",
    "Veamos como utiliza uno de estos modelos, intentemos adivinar que raza de perro es la de la siguiente imagen: https://t1.ea.ltmcdn.com/es/posts/5/6/2/10_caracteristicas_de_los_perros_24265_600_square.jpg\n",
    "\n",
    "<div style=\"text-align:center\">\n",
    "<img src=\"https://t1.ea.ltmcdn.com/es/posts/5/6/2/10_caracteristicas_de_los_perros_24265_600_square.jpg\" width=\"200\"/>\n",
    "</div>"
   ]
  },
  {
   "cell_type": "code",
   "execution_count": null,
   "id": "8bd53ade-1603-406a-8185-2750b7015336",
   "metadata": {},
   "outputs": [],
   "source": [
    "# si no tenemos instalada la libreria la podemos instalar usando pip\n",
    "!pip install transformers --upgrade --quiet"
   ]
  },
  {
   "cell_type": "code",
   "execution_count": null,
   "id": "5db0dc15-d01d-4d8c-8ac7-98db58de5c4f",
   "metadata": {},
   "outputs": [],
   "source": [
    "# importamos la libreria\n",
    "from transformers import pipeline"
   ]
  },
  {
   "cell_type": "code",
   "execution_count": null,
   "id": "9e561639-10fe-43ca-ac9d-b4118339ca8c",
   "metadata": {},
   "outputs": [],
   "source": [
    "# creamos la clase que nos permite descargar el modelo para \n",
    "# clasificacion de imagenes\n",
    "clasificador = pipeline(\"image-classification\", model=\"google/vit-base-patch16-224\")"
   ]
  },
  {
   "cell_type": "code",
   "execution_count": null,
   "id": "2b6df555-666c-4a7a-af81-bf28172d2419",
   "metadata": {},
   "outputs": [],
   "source": [
    "# utilizamos el clasificador para saber que hay en la imagen\n",
    "url = 'https://t1.ea.ltmcdn.com/es/posts/5/6/2/10_caracteristicas_de_los_perros_24265_600_square.jpg'\n",
    "clasificador(images=url, top_k=1)"
   ]
  },
  {
   "cell_type": "markdown",
   "id": "1ee60368-dd83-42a7-aae5-cbef3d9ec84b",
   "metadata": {},
   "source": [
    "#### Procesamiento de Lenguaje Natural\n",
    "\n",
    "Si necesitamos trabajar con texto entonces la categoria vision nos clasifica los modelos preentrenados para realizar las siguientes tareas:\n",
    "\n",
    "<div style=\"text-align:center\">\n",
    "<img src=\"img/hf_nlp.png\" width=\"600\"/>\n",
    "</div>"
   ]
  },
  {
   "cell_type": "code",
   "execution_count": null,
   "id": "69305d63-4e9f-400a-8a63-395b6de61593",
   "metadata": {},
   "outputs": [],
   "source": [
    "from transformers import pipeline, Conversation"
   ]
  },
  {
   "cell_type": "code",
   "execution_count": null,
   "id": "3ba98152-6ee3-4c43-aa88-4bf0cd9f4dbd",
   "metadata": {},
   "outputs": [],
   "source": [
    "converse = pipeline(\"conversational\", model=\"microsoft/DialoGPT-medium\")"
   ]
  },
  {
   "cell_type": "code",
   "execution_count": null,
   "id": "f04055a0-3c22-4d58-953b-a322a392662b",
   "metadata": {},
   "outputs": [],
   "source": [
    "conversation_1 = Conversation(\"Going to the movies tonight - any suggestions?\")\n",
    "conversation_2 = Conversation(\"What's the last book you have read?\")\n",
    "converse([conversation_1, conversation_2])"
   ]
  },
  {
   "cell_type": "markdown",
   "id": "40c4e863-ae23-49df-972f-300f1df1df4c",
   "metadata": {},
   "source": [
    "#### Audio\n",
    "\n",
    "Si necesitamos trabajar con audio entonces la categoria vision nos clasifica los modelos preentrenados para realizar las siguientes tareas:\n",
    "\n",
    "<div style=\"text-align:center\">\n",
    "<img src=\"img/hf_audio.png\" width=\"600\"/>\n",
    "</div>"
   ]
  },
  {
   "cell_type": "code",
   "execution_count": null,
   "id": "18068d96-5a9d-4307-9868-a33d87767f7b",
   "metadata": {},
   "outputs": [],
   "source": [
    "from transformers import pipeline"
   ]
  },
  {
   "cell_type": "code",
   "execution_count": null,
   "id": "cd40b803-de1e-4aeb-bf81-0ac7e412770b",
   "metadata": {},
   "outputs": [],
   "source": [
    "synthesizer = pipeline(\"text-to-speech\", \"suno/bark\")"
   ]
  },
  {
   "cell_type": "code",
   "execution_count": null,
   "id": "a1eea5ae-beaf-46f6-9237-25e7558ebd93",
   "metadata": {},
   "outputs": [],
   "source": [
    "synthesizer(\"Look I am generating speech in three lines of code!\")"
   ]
  },
  {
   "cell_type": "markdown",
   "id": "19a0aec3-e307-46b8-b614-a3bf3ca943b5",
   "metadata": {},
   "source": [
    "#### Multimodal\n",
    "\n",
    "Si necesitamos trabajar con una conbinacion de imagenes, texto y audio entonces la categoria vision nos clasifica los modelos preentrenados para realizar las siguientes tareas:\n",
    "\n",
    "<div style=\"text-align:center\">\n",
    "<img src=\"img/hf_multimodal.png\" width=\"600\"/>\n",
    "</div>"
   ]
  },
  {
   "cell_type": "code",
   "execution_count": null,
   "id": "fcabb50d-0730-492b-8ba6-b7b5bf514a86",
   "metadata": {},
   "outputs": [],
   "source": [
    "from transformers import pipeline"
   ]
  },
  {
   "cell_type": "code",
   "execution_count": null,
   "id": "83794ce3-1c7b-4d45-b941-b2248fd47b7a",
   "metadata": {},
   "outputs": [],
   "source": [
    "captioner = pipeline(\"image-to-text\",model=\"Salesforce/blip-image-captioning-base\")"
   ]
  },
  {
   "cell_type": "code",
   "execution_count": null,
   "id": "bf5fec6d-9b72-4e81-8ae5-18f3b5d5f6d9",
   "metadata": {},
   "outputs": [],
   "source": [
    "captioner(\"https://huggingface.co/datasets/Narsil/image_dummy/resolve/main/parrots.png\")"
   ]
  },
  {
   "cell_type": "markdown",
   "id": "83aba3f0-4822-4084-bdf4-748c391fdc70",
   "metadata": {},
   "source": [
    "# Otras librerias open source interesantes:\n",
    "- [Supervision para tareas de computer vision](https://github.com/roboflow/supervision?tab=readme-ov-file)"
   ]
  },
  {
   "cell_type": "markdown",
   "id": "94244657-107f-4e36-9d08-88ba57823f71",
   "metadata": {},
   "source": [
    "# Fin: [Volver al contenido del curso](https://www.freecodingtour.com/cursos/espanol/deeplearning/deeplearning.html)"
   ]
  }
 ],
 "metadata": {
  "kernelspec": {
   "display_name": "Python 3 (ipykernel)",
   "language": "python",
   "name": "python3"
  },
  "language_info": {
   "codemirror_mode": {
    "name": "ipython",
    "version": 3
   },
   "file_extension": ".py",
   "mimetype": "text/x-python",
   "name": "python",
   "nbconvert_exporter": "python",
   "pygments_lexer": "ipython3",
   "version": "3.9.7"
  }
 },
 "nbformat": 4,
 "nbformat_minor": 5
}
