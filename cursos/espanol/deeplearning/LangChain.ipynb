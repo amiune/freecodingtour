{
 "cells": [
  {
   "cell_type": "markdown",
   "id": "3b2efdf0-8ee2-4f99-a0eb-2eb7c2edd822",
   "metadata": {},
   "source": [
    "# LangChain\n",
    "\n",
    "Como vimos anteriormente podemos utilizar estos Large Language Models entrenados para hacerles preguntas y recibir sus respuestas.\n",
    "\n",
    "Es como si tuvieramos una funcion que recibe un texto como entrada y devuelve un texto como salida. Donde el texto de entrada puede ser cualquier pregunta y el texto de respuesta sera esta respuesta magica que es capaz de darnos un LLM. \n",
    "\n",
    "Esto parece simple y tonto pero es el sueño de cualquier programador. Es como si fuera posible hacer una busqueda en google y luego poder hacer web scrapping del mejor resultado pero de manera mucho mas sencilla.\n",
    "\n",
    "LangChain es una API que nos permite realizar estas consultas a los LLM y poder parsear el resultado de forma mas simple. Veamos la diferencia entre consultar directamente a OpenAI como hicimos en la unidad anterior y hacerlo utilizando LangChain:"
   ]
  },
  {
   "cell_type": "code",
   "execution_count": null,
   "id": "cd2f2e42-9ea5-4bae-a378-7261ee68406c",
   "metadata": {},
   "outputs": [],
   "source": [
    "!pip install openai --upgrade --quiet\n",
    "!pip install langchain --upgrade --quiet"
   ]
  },
  {
   "cell_type": "code",
   "execution_count": null,
   "id": "4c19ca64-06f3-419c-9be0-61d5862812a2",
   "metadata": {
    "tags": []
   },
   "outputs": [],
   "source": [
    "import openai\n",
    "\n",
    "# Cargar token desde google drive\n",
    "from google.colab import drive\n",
    "drive.mount('/content/drive')\n",
    "with open('drive/MyDrive/Tokens/openai.txt','r') as f:\n",
    "    token = f.read()\n",
    "    openai.api_key = token"
   ]
  },
  {
   "cell_type": "code",
   "execution_count": null,
   "id": "b17b86c2-43e4-4927-be38-81eb68826c55",
   "metadata": {},
   "outputs": [],
   "source": [
    "from langchain.chat_models import ChatOpenAI\n",
    "chat = ChatOpenAI(temperature=0.0, model=llm_model)\n",
    "chat"
   ]
  },
  {
   "cell_type": "code",
   "execution_count": null,
   "id": "96580451-87f5-4029-88d7-168a9f64f857",
   "metadata": {},
   "outputs": [],
   "source": [
    "from langchain.prompts import ChatPromptTemplate\n",
    "\n",
    "template_string = \"\"\"Traduce el siguiente texto \\\n",
    "que esta delimitado por comillas triples \\\n",
    "al siguiente estilo {estilo}. \\\n",
    "texto: ```{texto}```\n",
    "\"\"\"\n",
    "prompt_template = ChatPromptTemplate.from_template(template_string)\n",
    "\n",
    "message = prompt_template.format_messages(\n",
    "                    estilo=\"pato donald\",\n",
    "                    texto=\"Estimado Mickey, hoy no podre ir a tomar \\\n",
    "                    el te a tu casa porque estoy resfriado.\")\n",
    "\n",
    "response = chat(message)"
   ]
  },
  {
   "cell_type": "code",
   "execution_count": null,
   "id": "d284fbd6-4b24-4b1d-8239-2720d59bac3f",
   "metadata": {},
   "outputs": [],
   "source": []
  }
 ],
 "metadata": {
  "kernelspec": {
   "display_name": "Python 3 (ipykernel)",
   "language": "python",
   "name": "python3"
  },
  "language_info": {
   "codemirror_mode": {
    "name": "ipython",
    "version": 3
   },
   "file_extension": ".py",
   "mimetype": "text/x-python",
   "name": "python",
   "nbconvert_exporter": "python",
   "pygments_lexer": "ipython3",
   "version": "3.9.7"
  }
 },
 "nbformat": 4,
 "nbformat_minor": 5
}
