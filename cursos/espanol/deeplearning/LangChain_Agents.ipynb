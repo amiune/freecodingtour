{
 "cells": [
  {
   "cell_type": "markdown",
   "id": "b61b9f67-0e88-4844-92ee-6867ae99e15c",
   "metadata": {},
   "source": [
    "# LangChain Agents\n",
    "\n",
    "Aqui nos enfocaremos en las cadenas o Chains que son muy importantes en la libreria LangChain y por ello estan en su nombre.\n",
    "\n",
    "Las Chains nos permiten encadenar la salida de una consulta a un LLM con la entrada a otra consulta y asi conseguir mejores resultados y mas complejos."
   ]
  },
  {
   "cell_type": "code",
   "execution_count": null,
   "id": "e44423f0-ac35-41cc-b93c-6d320c2ff0f3",
   "metadata": {},
   "outputs": [],
   "source": []
  },
  {
   "cell_type": "markdown",
   "id": "2162b9d1-aa89-4f66-8556-ba62c9a67185",
   "metadata": {},
   "source": [
    "## Referencias:\n",
    "Esta unidad es un resumen traducido con algunas modificaciones del [curso de Andrew Ng de Deeplearning.ai](https://www.deeplearning.ai/short-courses/langchain-for-llm-application-development/)"
   ]
  },
  {
   "cell_type": "markdown",
   "id": "60cb124c-1024-4e33-80b6-b57bd4eeb76b",
   "metadata": {},
   "source": [
    "# Fin: [Volver al contenido del curso](https://www.freecodingtour.com/cursos/espanol/deeplearning/deeplearning.html)"
   ]
  }
 ],
 "metadata": {
  "kernelspec": {
   "display_name": "Python 3 (ipykernel)",
   "language": "python",
   "name": "python3"
  },
  "language_info": {
   "codemirror_mode": {
    "name": "ipython",
    "version": 3
   },
   "file_extension": ".py",
   "mimetype": "text/x-python",
   "name": "python",
   "nbconvert_exporter": "python",
   "pygments_lexer": "ipython3",
   "version": "3.9.7"
  }
 },
 "nbformat": 4,
 "nbformat_minor": 5
}
