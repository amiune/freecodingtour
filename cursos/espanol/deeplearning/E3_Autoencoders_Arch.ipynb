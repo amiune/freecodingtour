{
 "cells": [
  {
   "cell_type": "markdown",
   "id": "7e1e9e37-db00-4140-b173-6d43dc76577f",
   "metadata": {},
   "source": [
    "# Autoencoders\n",
    "\n",
    "[sklearn MLP](https://qu4nt.github.io/sklearn-doc-es/modules/generated/sklearn.neural_network.MLPClassifier.html)\n",
    "\n",
    "[Visualizacion](https://github.com/jzliu-100/visualize-neural-network/tree/master)\n",
    "\n",
    "[Explicacion de Patrick Winston](https://ocw.mit.edu/courses/6-034-artificial-intelligence-fall-2010/resources/lecture-12b-deep-neural-nets/)\n",
    "\n"
   ]
  },
  {
   "cell_type": "markdown",
   "id": "f6454b59-feca-4d30-9f7a-429e2bb8956f",
   "metadata": {},
   "source": [
    "# Fin: [Volver al contenido del curso](https://www.freecodingtour.com/cursos/espanol/deeplearning/deeplearning.html)"
   ]
  }
 ],
 "metadata": {
  "kernelspec": {
   "display_name": "Python 3 (ipykernel)",
   "language": "python",
   "name": "python3"
  },
  "language_info": {
   "codemirror_mode": {
    "name": "ipython",
    "version": 3
   },
   "file_extension": ".py",
   "mimetype": "text/x-python",
   "name": "python",
   "nbconvert_exporter": "python",
   "pygments_lexer": "ipython3",
   "version": "3.9.7"
  }
 },
 "nbformat": 4,
 "nbformat_minor": 5
}
