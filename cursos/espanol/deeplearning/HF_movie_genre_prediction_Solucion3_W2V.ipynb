{
 "cells": [
  {
   "cell_type": "code",
   "execution_count": null,
   "id": "86402841-8854-4555-9e86-92facaf5ae94",
   "metadata": {},
   "outputs": [],
   "source": [
    "#https://arxiv.org/abs/1405.4053\n",
    "#https://radimrehurek.com/gensim/models/doc2vec.html\n",
    "#https://radimrehurek.com/gensim/auto_examples/tutorials/run_doc2vec_lee.html"
   ]
  },
  {
   "cell_type": "code",
   "execution_count": null,
   "id": "ca3bad83-5c22-41fe-b09a-90c49ad51f71",
   "metadata": {},
   "outputs": [],
   "source": [
    "import pandas as pd"
   ]
  },
  {
   "cell_type": "code",
   "execution_count": null,
   "id": "e4feb535-309e-4679-ae4b-08323c556ab2",
   "metadata": {},
   "outputs": [],
   "source": [
    "df_train = pd.read_parquet('./data/movie-genre-prediction/train.parquet', engine='pyarrow')\n",
    "df_test = pd.read_parquet('./data/movie-genre-prediction/test.parquet', engine='pyarrow')"
   ]
  },
  {
   "cell_type": "code",
   "execution_count": null,
   "id": "5845ddc4-c885-4e7e-99e2-1fc090ce74b9",
   "metadata": {},
   "outputs": [],
   "source": [
    "df_train.head()"
   ]
  },
  {
   "cell_type": "code",
   "execution_count": null,
   "id": "294280cc-6ab5-44be-864f-6232f1475c7a",
   "metadata": {},
   "outputs": [],
   "source": [
    "df_train.shape"
   ]
  },
  {
   "cell_type": "code",
   "execution_count": null,
   "id": "f7da1477-476a-4298-9c3b-45958ade4389",
   "metadata": {},
   "outputs": [],
   "source": [
    "genres_list = list(df_train.genre.unique())\n",
    "genres_list"
   ]
  },
  {
   "cell_type": "code",
   "execution_count": null,
   "id": "397ef5a1-8488-4b96-a5b0-d7ebc09689e8",
   "metadata": {},
   "outputs": [],
   "source": [
    "df_test.shape"
   ]
  },
  {
   "cell_type": "code",
   "execution_count": null,
   "id": "e583deab-a6ee-489b-84ec-3609aa8c9bc1",
   "metadata": {},
   "outputs": [],
   "source": [
    "df_train[\"text\"] = df_train.movie_name.str.lower() + \". \" + df_train.synopsis.str.lower()\n",
    "df_train.head()"
   ]
  },
  {
   "cell_type": "code",
   "execution_count": null,
   "id": "5b06885b-01a1-4113-91d0-05149b6c4775",
   "metadata": {},
   "outputs": [],
   "source": [
    "import nltk\n",
    "nltk.download('punkt')"
   ]
  },
  {
   "cell_type": "code",
   "execution_count": null,
   "id": "76ec520b-12cb-465e-a4c7-bab3a70e8ab9",
   "metadata": {},
   "outputs": [],
   "source": [
    "from gensim.models.doc2vec import Doc2Vec, TaggedDocument\n",
    "from nltk.tokenize import word_tokenize\n",
    "print(word_tokenize(df_train.iloc[0,:][\"text\"]))\n",
    "from nltk.tokenize import RegexpTokenizer\n",
    "tokenizer = RegexpTokenizer(r'\\w+')\n",
    "print(tokenizer.tokenize(df_train.iloc[0,:][\"text\"]))"
   ]
  },
  {
   "cell_type": "code",
   "execution_count": null,
   "id": "aa35a10d-b180-4689-ad21-ffff09eb7508",
   "metadata": {},
   "outputs": [],
   "source": [
    "data = df_train.iloc[0:10,:][\"text\"] #small dataset\n",
    "#data = df_train[\"text\"] #full dataset\n",
    "data[0]"
   ]
  },
  {
   "cell_type": "code",
   "execution_count": null,
   "id": "77c270b9-ab91-4dcb-901a-bf1af3917263",
   "metadata": {},
   "outputs": [],
   "source": [
    "tagged_data = [TaggedDocument(words=word_tokenize(d.lower()), \n",
    "                              tags=[str(i)]) for i, d in enumerate(data)]"
   ]
  },
  {
   "cell_type": "code",
   "execution_count": null,
   "id": "62038907-e230-47a6-bc21-4de59adc519b",
   "metadata": {},
   "outputs": [],
   "source": [
    "tagged_data[0]"
   ]
  },
  {
   "cell_type": "code",
   "execution_count": null,
   "id": "59a7d98d-b2fb-475c-99d7-6657b66faeea",
   "metadata": {},
   "outputs": [],
   "source": [
    "model = Doc2Vec(vector_size=5,min_count=2,epochs=40,window=5)"
   ]
  },
  {
   "cell_type": "code",
   "execution_count": null,
   "id": "12efe02b-9ceb-4566-9af1-c47d186b4754",
   "metadata": {},
   "outputs": [],
   "source": [
    "model.build_vocab(tagged_data)"
   ]
  },
  {
   "cell_type": "code",
   "execution_count": null,
   "id": "a4115ff4-57e2-45ce-845d-4547ce4e6b6e",
   "metadata": {},
   "outputs": [],
   "source": [
    "from gensim.models.callbacks import CallbackAny2Vec\n",
    "class callback(CallbackAny2Vec):\n",
    "    def __init__(self):\n",
    "        self.epoch = 1\n",
    "    def on_epoch_end(self, model):\n",
    "        if self.epoch % 10 == 0:\n",
    "            print(f\"Epoch {self.epoch} finished\")\n",
    "        self.epoch += 1"
   ]
  },
  {
   "cell_type": "code",
   "execution_count": null,
   "id": "6f6dc459-d94a-4088-a7fc-4b7abd9677ec",
   "metadata": {},
   "outputs": [],
   "source": [
    "model.train(tagged_data,\n",
    "            total_examples=model.corpus_count, \n",
    "            epochs=model.epochs,\n",
    "            callbacks=[callback()])\n",
    "print(\"Train finished\")"
   ]
  },
  {
   "cell_type": "code",
   "execution_count": null,
   "id": "435263e8-fe2c-443f-b9fc-84cd5b0f520b",
   "metadata": {},
   "outputs": [],
   "source": [
    "model.save(\"d2v_muestra.model\")\n",
    "print(\"Modelo Guardado\")"
   ]
  },
  {
   "cell_type": "code",
   "execution_count": null,
   "id": "198d6436-8232-485e-914c-146417346f2d",
   "metadata": {},
   "outputs": [],
   "source": [
    "# Cree vectores de 5 dimensiones para las 10 primeras peliculas\n",
    "for vid in range(len(model.dv)):\n",
    "    print(model.dv[vid])"
   ]
  },
  {
   "cell_type": "code",
   "execution_count": null,
   "id": "a47168ed-8033-42fc-8fa3-855e9f1725c8",
   "metadata": {},
   "outputs": [],
   "source": [
    "len(model.dv)"
   ]
  },
  {
   "cell_type": "code",
   "execution_count": null,
   "id": "0b95699b-40ab-46ea-9b31-e9d8bf3e2ad0",
   "metadata": {},
   "outputs": [],
   "source": [
    "model.dv[0]"
   ]
  },
  {
   "cell_type": "code",
   "execution_count": null,
   "id": "069bb162-98c5-4157-81f9-f7195c0f0021",
   "metadata": {},
   "outputs": [],
   "source": [
    "# cargo el modelo\n",
    "model= Doc2Vec.load(\"d2v.model\")\n",
    "\n",
    "# creo el vector para un documento nuevo no antes visto en el entrenamiento\n",
    "test_data = word_tokenize(\"Este es un texto nuevo\".lower())\n",
    "v1 = model.infer_vector(test_data)\n",
    "print(\"Vector inferido:\", v1)"
   ]
  },
  {
   "cell_type": "code",
   "execution_count": null,
   "id": "ed7c98d5-263a-464b-b302-d1dd987a0125",
   "metadata": {},
   "outputs": [],
   "source": []
  },
  {
   "cell_type": "code",
   "execution_count": null,
   "id": "8fba868c-9e33-4ed8-b9f5-11fe719707de",
   "metadata": {},
   "outputs": [],
   "source": [
    "df_test[\"text\"] = df_test.movie_name.str.lower() + \" \" + df_test.synopsis.str.lower()\n",
    "df_test.head()"
   ]
  },
  {
   "cell_type": "code",
   "execution_count": null,
   "id": "581c1100-a99c-4408-8717-51940af0ccbc",
   "metadata": {},
   "outputs": [],
   "source": []
  }
 ],
 "metadata": {
  "kernelspec": {
   "display_name": "base",
   "language": "python",
   "name": "base"
  },
  "language_info": {
   "codemirror_mode": {
    "name": "ipython",
    "version": 3
   },
   "file_extension": ".py",
   "mimetype": "text/x-python",
   "name": "python",
   "nbconvert_exporter": "python",
   "pygments_lexer": "ipython3",
   "version": "3.9.7"
  }
 },
 "nbformat": 4,
 "nbformat_minor": 5
}
