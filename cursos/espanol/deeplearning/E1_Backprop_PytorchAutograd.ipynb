{
 "cells": [
  {
   "cell_type": "markdown",
   "id": "c4b7a8b9-cea5-4ba3-b72f-09bc5130457d",
   "metadata": {},
   "source": [
    "# Backpropagation y Autogradient\n",
    "\n",
    "1. [Pytorch Autograd Engine](https://pytorch.org/blog/overview-of-pytorch-autograd-engine/)\n",
    "\n",
    "2. [Como se construyen los grafos computacionales en Pytorch](https://pytorch.org/blog/computational-graphs-constructed-in-pytorch/)\n",
    "\n",
    "3. [Como se ejecutan los grafos computacionales en Pytorch](https://pytorch.org/blog/how-computational-graphs-are-executed-in-pytorch/)"
   ]
  },
  {
   "cell_type": "markdown",
   "id": "c63c0ae8-8fef-4bc9-98b1-f670302d02fd",
   "metadata": {},
   "source": [
    "## Calculo automatico del gradiente:\n",
    "\n",
    "## y = x^2"
   ]
  },
  {
   "cell_type": "code",
   "execution_count": null,
   "id": "7676c34d-9e6f-4209-92d6-926899107e35",
   "metadata": {},
   "outputs": [],
   "source": [
    "import torch \n",
    "x = torch.tensor([[2.0]], requires_grad=True)\n",
    "y = x**2\n",
    "y.backward()\n",
    "print(x.grad)"
   ]
  },
  {
   "cell_type": "markdown",
   "id": "ed923552-618e-490a-9ca3-cc2e33c36927",
   "metadata": {},
   "source": [
    "## Un poco mas complejo (grafos de calculos):"
   ]
  },
  {
   "cell_type": "markdown",
   "id": "0d02ad38-e6df-4a9e-a34b-f5b6ac6d951c",
   "metadata": {},
   "source": [
    "## f = (x + y) * z \n",
    "\n",
    "#### lo podemos escribir: f = q * z donde q = x + y\n",
    " \n",
    "![image](img/backprop.png)"
   ]
  },
  {
   "cell_type": "markdown",
   "id": "cd937ea4-b1b1-4835-ade3-38de484d227c",
   "metadata": {},
   "source": [
    "#### Entradas:\n",
    "```\n",
    "x = -2; y = 5; z = -4\n",
    "```\n",
    "\n",
    "#### Paso hacia adelante:\n",
    "```\n",
    "q = x + y   --->   3 \n",
    "\n",
    "f = q * z   --->   3 * -4 = -12 \n",
    "```\n",
    "\n",
    "#### Primer paso del backprop: f = q * z\n",
    "```\n",
    "df/dz = q   --->   3\n",
    "\n",
    "df/dq = z   --->   -4\n",
    "```\n",
    "\n",
    "#### Segundo paso del backprop: q = x + y\n",
    "```\n",
    "df/dx = df/dq * dq/dx   --->   z * 1 = -4\n",
    "\n",
    "df/dy = df/dq * dq/dy   --->   z * 1 = -4\n",
    "```"
   ]
  },
  {
   "cell_type": "code",
   "execution_count": 14,
   "id": "707cead0-b03b-496e-a481-a3e723def96c",
   "metadata": {},
   "outputs": [
    {
     "name": "stdout",
     "output_type": "stream",
     "text": [
      "tensor([[3.]])\n",
      "tensor([[-4.]])\n",
      "tensor([[-4.]])\n"
     ]
    }
   ],
   "source": [
    "x = torch.tensor([[-2.0]], requires_grad=True)\n",
    "y = torch.tensor([[5.0]], requires_grad=True)\n",
    "z = torch.tensor([[-4.0]], requires_grad=True)\n",
    "q = x + y \n",
    "f = q * z \n",
    "f.backward()     # calculo automatico del gradiente\n",
    "\n",
    "print(z.grad)    #df/dz = q => x + y = 3 \n",
    "\n",
    "print(x.grad)    #df/dx = df/dq * dq/dx = z * 1 = -4\n",
    "print(y.grad)    #df/dy = df/dq * dq/dy = z * 1 = -4"
   ]
  },
  {
   "cell_type": "code",
   "execution_count": null,
   "id": "f111c86a-ebae-413f-8575-014bc7ef11e2",
   "metadata": {},
   "outputs": [],
   "source": []
  }
 ],
 "metadata": {
  "kernelspec": {
   "display_name": "base",
   "language": "python",
   "name": "base"
  },
  "language_info": {
   "codemirror_mode": {
    "name": "ipython",
    "version": 3
   },
   "file_extension": ".py",
   "mimetype": "text/x-python",
   "name": "python",
   "nbconvert_exporter": "python",
   "pygments_lexer": "ipython3",
   "version": "3.9.7"
  }
 },
 "nbformat": 4,
 "nbformat_minor": 5
}
