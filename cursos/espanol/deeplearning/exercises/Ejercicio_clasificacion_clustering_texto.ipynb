{
  "cells": [
    {
      "cell_type": "markdown",
      "id": "703bc370-a834-4261-9ff9-ce3e302325f6",
      "metadata": {
        "id": "703bc370-a834-4261-9ff9-ce3e302325f6"
      },
      "source": [
        "# Usar los vectores para Clasificacion y Clustering"
      ]
    },
    {
      "cell_type": "code",
      "execution_count": null,
      "id": "bb2b5021-421b-43e0-96c5-2774047a22a2",
      "metadata": {
        "id": "bb2b5021-421b-43e0-96c5-2774047a22a2"
      },
      "outputs": [],
      "source": [
        "!pip install -U sentence-transformers --quiet"
      ]
    },
    {
      "cell_type": "code",
      "execution_count": null,
      "id": "734e1e3c-be45-43dc-ae24-9c047cd0dca7",
      "metadata": {
        "id": "734e1e3c-be45-43dc-ae24-9c047cd0dca7"
      },
      "outputs": [],
      "source": [
        "import pandas as pd\n",
        "from sentence_transformers import SentenceTransformer, util"
      ]
    },
    {
      "cell_type": "code",
      "execution_count": null,
      "id": "f7502eb4-23c5-4f8a-a124-ff9e58fef48b",
      "metadata": {
        "id": "f7502eb4-23c5-4f8a-a124-ff9e58fef48b"
      },
      "outputs": [],
      "source": [
        "model = SentenceTransformer('all-MiniLM-L6-v2')"
      ]
    },
    {
      "cell_type": "code",
      "source": [
        "import pandas as pd\n",
        "from sentence_transformers import SentenceTransformer, util\n",
        "model = SentenceTransformer('all-MiniLM-L6-v2')\n",
        "df = pd.read_csv(\"https://raw.githubusercontent.com/openai/openai-cookbook/f854f6f0ca2ca4482e1b138ac12aa4be6f0bf79a/examples/data/fine_food_reviews_1k.csv\")"
      ],
      "metadata": {
        "id": "OkY4r2-wMTGr"
      },
      "id": "OkY4r2-wMTGr",
      "execution_count": 4,
      "outputs": []
    },
    {
      "cell_type": "code",
      "source": [
        "df.head()"
      ],
      "metadata": {
        "colab": {
          "base_uri": "https://localhost:8080/",
          "height": 206
        },
        "id": "zdC4Uu4UMa7n",
        "outputId": "a856621d-6f34-4c7b-d849-4c476f4b82e2"
      },
      "id": "zdC4Uu4UMa7n",
      "execution_count": 5,
      "outputs": [
        {
          "output_type": "execute_result",
          "data": {
            "text/plain": [
              "   Unnamed: 0        Time   ProductId          UserId  Score  \\\n",
              "0           0  1351123200  B003XPF9BO  A3R7JR3FMEBXQB      5   \n",
              "1           1  1351123200  B003JK537S  A3JBPC3WFUT5ZP      1   \n",
              "2           2  1351123200  B000JMBE7M   AQX1N6A51QOKG      4   \n",
              "3           3  1351123200  B004AHGBX4  A2UY46X0OSNVUQ      3   \n",
              "4           4  1351123200  B001BORBHO  A1AFOYZ9HSM2CZ      5   \n",
              "\n",
              "                                             Summary  \\\n",
              "0  where does one  start...and stop... with a tre...   \n",
              "1                                  Arrived in pieces   \n",
              "2          It isn't blanc mange, but isn't bad . . .   \n",
              "3        These also have SALT and it's not sea salt.   \n",
              "4                             Happy with the product   \n",
              "\n",
              "                                                Text  \n",
              "0  Wanted to save some to bring to my Chicago fam...  \n",
              "1  Not pleased at all. When I opened the box, mos...  \n",
              "2  I'm not sure that custard is really custard wi...  \n",
              "3  I like the fact that you can see what you're g...  \n",
              "4  My dog was suffering with itchy skin.  He had ...  "
            ],
            "text/html": [
              "\n",
              "  <div id=\"df-d8895839-4f89-4694-9fec-474eb0975b13\" class=\"colab-df-container\">\n",
              "    <div>\n",
              "<style scoped>\n",
              "    .dataframe tbody tr th:only-of-type {\n",
              "        vertical-align: middle;\n",
              "    }\n",
              "\n",
              "    .dataframe tbody tr th {\n",
              "        vertical-align: top;\n",
              "    }\n",
              "\n",
              "    .dataframe thead th {\n",
              "        text-align: right;\n",
              "    }\n",
              "</style>\n",
              "<table border=\"1\" class=\"dataframe\">\n",
              "  <thead>\n",
              "    <tr style=\"text-align: right;\">\n",
              "      <th></th>\n",
              "      <th>Unnamed: 0</th>\n",
              "      <th>Time</th>\n",
              "      <th>ProductId</th>\n",
              "      <th>UserId</th>\n",
              "      <th>Score</th>\n",
              "      <th>Summary</th>\n",
              "      <th>Text</th>\n",
              "    </tr>\n",
              "  </thead>\n",
              "  <tbody>\n",
              "    <tr>\n",
              "      <th>0</th>\n",
              "      <td>0</td>\n",
              "      <td>1351123200</td>\n",
              "      <td>B003XPF9BO</td>\n",
              "      <td>A3R7JR3FMEBXQB</td>\n",
              "      <td>5</td>\n",
              "      <td>where does one  start...and stop... with a tre...</td>\n",
              "      <td>Wanted to save some to bring to my Chicago fam...</td>\n",
              "    </tr>\n",
              "    <tr>\n",
              "      <th>1</th>\n",
              "      <td>1</td>\n",
              "      <td>1351123200</td>\n",
              "      <td>B003JK537S</td>\n",
              "      <td>A3JBPC3WFUT5ZP</td>\n",
              "      <td>1</td>\n",
              "      <td>Arrived in pieces</td>\n",
              "      <td>Not pleased at all. When I opened the box, mos...</td>\n",
              "    </tr>\n",
              "    <tr>\n",
              "      <th>2</th>\n",
              "      <td>2</td>\n",
              "      <td>1351123200</td>\n",
              "      <td>B000JMBE7M</td>\n",
              "      <td>AQX1N6A51QOKG</td>\n",
              "      <td>4</td>\n",
              "      <td>It isn't blanc mange, but isn't bad . . .</td>\n",
              "      <td>I'm not sure that custard is really custard wi...</td>\n",
              "    </tr>\n",
              "    <tr>\n",
              "      <th>3</th>\n",
              "      <td>3</td>\n",
              "      <td>1351123200</td>\n",
              "      <td>B004AHGBX4</td>\n",
              "      <td>A2UY46X0OSNVUQ</td>\n",
              "      <td>3</td>\n",
              "      <td>These also have SALT and it's not sea salt.</td>\n",
              "      <td>I like the fact that you can see what you're g...</td>\n",
              "    </tr>\n",
              "    <tr>\n",
              "      <th>4</th>\n",
              "      <td>4</td>\n",
              "      <td>1351123200</td>\n",
              "      <td>B001BORBHO</td>\n",
              "      <td>A1AFOYZ9HSM2CZ</td>\n",
              "      <td>5</td>\n",
              "      <td>Happy with the product</td>\n",
              "      <td>My dog was suffering with itchy skin.  He had ...</td>\n",
              "    </tr>\n",
              "  </tbody>\n",
              "</table>\n",
              "</div>\n",
              "    <div class=\"colab-df-buttons\">\n",
              "\n",
              "  <div class=\"colab-df-container\">\n",
              "    <button class=\"colab-df-convert\" onclick=\"convertToInteractive('df-d8895839-4f89-4694-9fec-474eb0975b13')\"\n",
              "            title=\"Convert this dataframe to an interactive table.\"\n",
              "            style=\"display:none;\">\n",
              "\n",
              "  <svg xmlns=\"http://www.w3.org/2000/svg\" height=\"24px\" viewBox=\"0 -960 960 960\">\n",
              "    <path d=\"M120-120v-720h720v720H120Zm60-500h600v-160H180v160Zm220 220h160v-160H400v160Zm0 220h160v-160H400v160ZM180-400h160v-160H180v160Zm440 0h160v-160H620v160ZM180-180h160v-160H180v160Zm440 0h160v-160H620v160Z\"/>\n",
              "  </svg>\n",
              "    </button>\n",
              "\n",
              "  <style>\n",
              "    .colab-df-container {\n",
              "      display:flex;\n",
              "      gap: 12px;\n",
              "    }\n",
              "\n",
              "    .colab-df-convert {\n",
              "      background-color: #E8F0FE;\n",
              "      border: none;\n",
              "      border-radius: 50%;\n",
              "      cursor: pointer;\n",
              "      display: none;\n",
              "      fill: #1967D2;\n",
              "      height: 32px;\n",
              "      padding: 0 0 0 0;\n",
              "      width: 32px;\n",
              "    }\n",
              "\n",
              "    .colab-df-convert:hover {\n",
              "      background-color: #E2EBFA;\n",
              "      box-shadow: 0px 1px 2px rgba(60, 64, 67, 0.3), 0px 1px 3px 1px rgba(60, 64, 67, 0.15);\n",
              "      fill: #174EA6;\n",
              "    }\n",
              "\n",
              "    .colab-df-buttons div {\n",
              "      margin-bottom: 4px;\n",
              "    }\n",
              "\n",
              "    [theme=dark] .colab-df-convert {\n",
              "      background-color: #3B4455;\n",
              "      fill: #D2E3FC;\n",
              "    }\n",
              "\n",
              "    [theme=dark] .colab-df-convert:hover {\n",
              "      background-color: #434B5C;\n",
              "      box-shadow: 0px 1px 3px 1px rgba(0, 0, 0, 0.15);\n",
              "      filter: drop-shadow(0px 1px 2px rgba(0, 0, 0, 0.3));\n",
              "      fill: #FFFFFF;\n",
              "    }\n",
              "  </style>\n",
              "\n",
              "    <script>\n",
              "      const buttonEl =\n",
              "        document.querySelector('#df-d8895839-4f89-4694-9fec-474eb0975b13 button.colab-df-convert');\n",
              "      buttonEl.style.display =\n",
              "        google.colab.kernel.accessAllowed ? 'block' : 'none';\n",
              "\n",
              "      async function convertToInteractive(key) {\n",
              "        const element = document.querySelector('#df-d8895839-4f89-4694-9fec-474eb0975b13');\n",
              "        const dataTable =\n",
              "          await google.colab.kernel.invokeFunction('convertToInteractive',\n",
              "                                                    [key], {});\n",
              "        if (!dataTable) return;\n",
              "\n",
              "        const docLinkHtml = 'Like what you see? Visit the ' +\n",
              "          '<a target=\"_blank\" href=https://colab.research.google.com/notebooks/data_table.ipynb>data table notebook</a>'\n",
              "          + ' to learn more about interactive tables.';\n",
              "        element.innerHTML = '';\n",
              "        dataTable['output_type'] = 'display_data';\n",
              "        await google.colab.output.renderOutput(dataTable, element);\n",
              "        const docLink = document.createElement('div');\n",
              "        docLink.innerHTML = docLinkHtml;\n",
              "        element.appendChild(docLink);\n",
              "      }\n",
              "    </script>\n",
              "  </div>\n",
              "\n",
              "\n",
              "<div id=\"df-b6ee02d2-e979-4d94-a8c4-6b79558b0c4d\">\n",
              "  <button class=\"colab-df-quickchart\" onclick=\"quickchart('df-b6ee02d2-e979-4d94-a8c4-6b79558b0c4d')\"\n",
              "            title=\"Suggest charts\"\n",
              "            style=\"display:none;\">\n",
              "\n",
              "<svg xmlns=\"http://www.w3.org/2000/svg\" height=\"24px\"viewBox=\"0 0 24 24\"\n",
              "     width=\"24px\">\n",
              "    <g>\n",
              "        <path d=\"M19 3H5c-1.1 0-2 .9-2 2v14c0 1.1.9 2 2 2h14c1.1 0 2-.9 2-2V5c0-1.1-.9-2-2-2zM9 17H7v-7h2v7zm4 0h-2V7h2v10zm4 0h-2v-4h2v4z\"/>\n",
              "    </g>\n",
              "</svg>\n",
              "  </button>\n",
              "\n",
              "<style>\n",
              "  .colab-df-quickchart {\n",
              "      --bg-color: #E8F0FE;\n",
              "      --fill-color: #1967D2;\n",
              "      --hover-bg-color: #E2EBFA;\n",
              "      --hover-fill-color: #174EA6;\n",
              "      --disabled-fill-color: #AAA;\n",
              "      --disabled-bg-color: #DDD;\n",
              "  }\n",
              "\n",
              "  [theme=dark] .colab-df-quickchart {\n",
              "      --bg-color: #3B4455;\n",
              "      --fill-color: #D2E3FC;\n",
              "      --hover-bg-color: #434B5C;\n",
              "      --hover-fill-color: #FFFFFF;\n",
              "      --disabled-bg-color: #3B4455;\n",
              "      --disabled-fill-color: #666;\n",
              "  }\n",
              "\n",
              "  .colab-df-quickchart {\n",
              "    background-color: var(--bg-color);\n",
              "    border: none;\n",
              "    border-radius: 50%;\n",
              "    cursor: pointer;\n",
              "    display: none;\n",
              "    fill: var(--fill-color);\n",
              "    height: 32px;\n",
              "    padding: 0;\n",
              "    width: 32px;\n",
              "  }\n",
              "\n",
              "  .colab-df-quickchart:hover {\n",
              "    background-color: var(--hover-bg-color);\n",
              "    box-shadow: 0 1px 2px rgba(60, 64, 67, 0.3), 0 1px 3px 1px rgba(60, 64, 67, 0.15);\n",
              "    fill: var(--button-hover-fill-color);\n",
              "  }\n",
              "\n",
              "  .colab-df-quickchart-complete:disabled,\n",
              "  .colab-df-quickchart-complete:disabled:hover {\n",
              "    background-color: var(--disabled-bg-color);\n",
              "    fill: var(--disabled-fill-color);\n",
              "    box-shadow: none;\n",
              "  }\n",
              "\n",
              "  .colab-df-spinner {\n",
              "    border: 2px solid var(--fill-color);\n",
              "    border-color: transparent;\n",
              "    border-bottom-color: var(--fill-color);\n",
              "    animation:\n",
              "      spin 1s steps(1) infinite;\n",
              "  }\n",
              "\n",
              "  @keyframes spin {\n",
              "    0% {\n",
              "      border-color: transparent;\n",
              "      border-bottom-color: var(--fill-color);\n",
              "      border-left-color: var(--fill-color);\n",
              "    }\n",
              "    20% {\n",
              "      border-color: transparent;\n",
              "      border-left-color: var(--fill-color);\n",
              "      border-top-color: var(--fill-color);\n",
              "    }\n",
              "    30% {\n",
              "      border-color: transparent;\n",
              "      border-left-color: var(--fill-color);\n",
              "      border-top-color: var(--fill-color);\n",
              "      border-right-color: var(--fill-color);\n",
              "    }\n",
              "    40% {\n",
              "      border-color: transparent;\n",
              "      border-right-color: var(--fill-color);\n",
              "      border-top-color: var(--fill-color);\n",
              "    }\n",
              "    60% {\n",
              "      border-color: transparent;\n",
              "      border-right-color: var(--fill-color);\n",
              "    }\n",
              "    80% {\n",
              "      border-color: transparent;\n",
              "      border-right-color: var(--fill-color);\n",
              "      border-bottom-color: var(--fill-color);\n",
              "    }\n",
              "    90% {\n",
              "      border-color: transparent;\n",
              "      border-bottom-color: var(--fill-color);\n",
              "    }\n",
              "  }\n",
              "</style>\n",
              "\n",
              "  <script>\n",
              "    async function quickchart(key) {\n",
              "      const quickchartButtonEl =\n",
              "        document.querySelector('#' + key + ' button');\n",
              "      quickchartButtonEl.disabled = true;  // To prevent multiple clicks.\n",
              "      quickchartButtonEl.classList.add('colab-df-spinner');\n",
              "      try {\n",
              "        const charts = await google.colab.kernel.invokeFunction(\n",
              "            'suggestCharts', [key], {});\n",
              "      } catch (error) {\n",
              "        console.error('Error during call to suggestCharts:', error);\n",
              "      }\n",
              "      quickchartButtonEl.classList.remove('colab-df-spinner');\n",
              "      quickchartButtonEl.classList.add('colab-df-quickchart-complete');\n",
              "    }\n",
              "    (() => {\n",
              "      let quickchartButtonEl =\n",
              "        document.querySelector('#df-b6ee02d2-e979-4d94-a8c4-6b79558b0c4d button');\n",
              "      quickchartButtonEl.style.display =\n",
              "        google.colab.kernel.accessAllowed ? 'block' : 'none';\n",
              "    })();\n",
              "  </script>\n",
              "</div>\n",
              "\n",
              "    </div>\n",
              "  </div>\n"
            ],
            "application/vnd.google.colaboratory.intrinsic+json": {
              "type": "dataframe",
              "variable_name": "df",
              "summary": "{\n  \"name\": \"df\",\n  \"rows\": 1000,\n  \"fields\": [\n    {\n      \"column\": \"Unnamed: 0\",\n      \"properties\": {\n        \"dtype\": \"number\",\n        \"std\": 288,\n        \"min\": 0,\n        \"max\": 999,\n        \"num_unique_values\": 1000,\n        \"samples\": [\n          521,\n          737,\n          740\n        ],\n        \"semantic_type\": \"\",\n        \"description\": \"\"\n      }\n    },\n    {\n      \"column\": \"Time\",\n      \"properties\": {\n        \"dtype\": \"number\",\n        \"std\": 42866,\n        \"min\": 1351123200,\n        \"max\": 1351209600,\n        \"num_unique_values\": 2,\n        \"samples\": [\n          1351209600,\n          1351123200\n        ],\n        \"semantic_type\": \"\",\n        \"description\": \"\"\n      }\n    },\n    {\n      \"column\": \"ProductId\",\n      \"properties\": {\n        \"dtype\": \"string\",\n        \"num_unique_values\": 868,\n        \"samples\": [\n          \"B007PA30TG\",\n          \"B004EDHD1I\"\n        ],\n        \"semantic_type\": \"\",\n        \"description\": \"\"\n      }\n    },\n    {\n      \"column\": \"UserId\",\n      \"properties\": {\n        \"dtype\": \"string\",\n        \"num_unique_values\": 708,\n        \"samples\": [\n          \"AJZKIQO848M2P\",\n          \"AZPT0S609H54D\"\n        ],\n        \"semantic_type\": \"\",\n        \"description\": \"\"\n      }\n    },\n    {\n      \"column\": \"Score\",\n      \"properties\": {\n        \"dtype\": \"number\",\n        \"std\": 1,\n        \"min\": 1,\n        \"max\": 5,\n        \"num_unique_values\": 5,\n        \"samples\": [\n          1,\n          2\n        ],\n        \"semantic_type\": \"\",\n        \"description\": \"\"\n      }\n    },\n    {\n      \"column\": \"Summary\",\n      \"properties\": {\n        \"dtype\": \"string\",\n        \"num_unique_values\": 721,\n        \"samples\": [\n          \"These are not unsweetened cranberries\",\n          \"Excellent\"\n        ],\n        \"semantic_type\": \"\",\n        \"description\": \"\"\n      }\n    },\n    {\n      \"column\": \"Text\",\n      \"properties\": {\n        \"dtype\": \"string\",\n        \"num_unique_values\": 761,\n        \"samples\": [\n          \"I love this stuff! It's a God sent Remedy for hangovers!.... I understand the health concerns many people have and I can also see that this can be habit forming. I make sure I only take one every so often and not everyday.\",\n          \"I like the crunchy-ness of the middle, but it doesn't have a great flavor, basically just a very sweet taste without much substance. The chocolate around it is pretty sweet too. If you like really sweet candy and crunchy-ness then go ahead and get them, but there are much better chocolates out there.\"\n        ],\n        \"semantic_type\": \"\",\n        \"description\": \"\"\n      }\n    }\n  ]\n}"
            }
          },
          "metadata": {},
          "execution_count": 5
        }
      ]
    },
    {
      "cell_type": "code",
      "execution_count": 6,
      "id": "349978b5-e078-4920-b247-3b2b4bc1dd2a",
      "metadata": {
        "id": "349978b5-e078-4920-b247-3b2b4bc1dd2a"
      },
      "outputs": [],
      "source": [
        "#Las frases son vectorizadas llamando a model.encode()\n",
        "output = model.encode(df[\"Text\"])"
      ]
    },
    {
      "cell_type": "code",
      "execution_count": 7,
      "id": "b3b090ca-15ec-4446-92e3-5804260411a0",
      "metadata": {
        "id": "b3b090ca-15ec-4446-92e3-5804260411a0"
      },
      "outputs": [],
      "source": [
        "embeddings = pd.DataFrame(output)"
      ]
    },
    {
      "cell_type": "code",
      "execution_count": 8,
      "id": "288b0f6d-57f8-4839-ad9f-5e9ced95590d",
      "metadata": {
        "id": "288b0f6d-57f8-4839-ad9f-5e9ced95590d"
      },
      "outputs": [],
      "source": [
        "X = embeddings"
      ]
    },
    {
      "cell_type": "markdown",
      "source": [
        "## Clasificacion"
      ],
      "metadata": {
        "id": "D0LcRRktaC5t"
      },
      "id": "D0LcRRktaC5t"
    },
    {
      "cell_type": "code",
      "source": [
        "y = df[\"Score\"]\n",
        "y"
      ],
      "metadata": {
        "colab": {
          "base_uri": "https://localhost:8080/"
        },
        "id": "_dkv2e7YT1lG",
        "outputId": "685c950e-48e9-4d98-db70-82bd8a83f8a2"
      },
      "id": "_dkv2e7YT1lG",
      "execution_count": 9,
      "outputs": [
        {
          "output_type": "execute_result",
          "data": {
            "text/plain": [
              "0      5\n",
              "1      1\n",
              "2      4\n",
              "3      3\n",
              "4      5\n",
              "      ..\n",
              "995    5\n",
              "996    5\n",
              "997    5\n",
              "998    5\n",
              "999    5\n",
              "Name: Score, Length: 1000, dtype: int64"
            ]
          },
          "metadata": {},
          "execution_count": 9
        }
      ]
    },
    {
      "cell_type": "code",
      "source": [
        "import sklearn\n",
        "from sklearn.model_selection import train_test_split\n",
        "X_train, X_test, y_train, y_test = train_test_split(X, y, test_size=0.33, random_state=42)"
      ],
      "metadata": {
        "id": "Iax_c6k1T-7_"
      },
      "id": "Iax_c6k1T-7_",
      "execution_count": 10,
      "outputs": []
    },
    {
      "cell_type": "code",
      "source": [
        "# prompt: entrenar un algoritmo de gradient boosting de sklearn usando X_train e y_train\n",
        "\n",
        "from sklearn.ensemble import GradientBoostingClassifier\n",
        "\n",
        "# Instantiate the Gradient Boosting Classifier\n",
        "clf = GradientBoostingClassifier()\n",
        "\n",
        "# Train the model using the training data\n",
        "clf.fit(X_train, y_train)\n"
      ],
      "metadata": {
        "colab": {
          "base_uri": "https://localhost:8080/",
          "height": 75
        },
        "id": "aXmY4YAzUEIi",
        "outputId": "765d9edb-43b5-4358-c7c3-6a11132ffcd1"
      },
      "id": "aXmY4YAzUEIi",
      "execution_count": 11,
      "outputs": [
        {
          "output_type": "execute_result",
          "data": {
            "text/plain": [
              "GradientBoostingClassifier()"
            ],
            "text/html": [
              "<style>#sk-container-id-1 {color: black;background-color: white;}#sk-container-id-1 pre{padding: 0;}#sk-container-id-1 div.sk-toggleable {background-color: white;}#sk-container-id-1 label.sk-toggleable__label {cursor: pointer;display: block;width: 100%;margin-bottom: 0;padding: 0.3em;box-sizing: border-box;text-align: center;}#sk-container-id-1 label.sk-toggleable__label-arrow:before {content: \"▸\";float: left;margin-right: 0.25em;color: #696969;}#sk-container-id-1 label.sk-toggleable__label-arrow:hover:before {color: black;}#sk-container-id-1 div.sk-estimator:hover label.sk-toggleable__label-arrow:before {color: black;}#sk-container-id-1 div.sk-toggleable__content {max-height: 0;max-width: 0;overflow: hidden;text-align: left;background-color: #f0f8ff;}#sk-container-id-1 div.sk-toggleable__content pre {margin: 0.2em;color: black;border-radius: 0.25em;background-color: #f0f8ff;}#sk-container-id-1 input.sk-toggleable__control:checked~div.sk-toggleable__content {max-height: 200px;max-width: 100%;overflow: auto;}#sk-container-id-1 input.sk-toggleable__control:checked~label.sk-toggleable__label-arrow:before {content: \"▾\";}#sk-container-id-1 div.sk-estimator input.sk-toggleable__control:checked~label.sk-toggleable__label {background-color: #d4ebff;}#sk-container-id-1 div.sk-label input.sk-toggleable__control:checked~label.sk-toggleable__label {background-color: #d4ebff;}#sk-container-id-1 input.sk-hidden--visually {border: 0;clip: rect(1px 1px 1px 1px);clip: rect(1px, 1px, 1px, 1px);height: 1px;margin: -1px;overflow: hidden;padding: 0;position: absolute;width: 1px;}#sk-container-id-1 div.sk-estimator {font-family: monospace;background-color: #f0f8ff;border: 1px dotted black;border-radius: 0.25em;box-sizing: border-box;margin-bottom: 0.5em;}#sk-container-id-1 div.sk-estimator:hover {background-color: #d4ebff;}#sk-container-id-1 div.sk-parallel-item::after {content: \"\";width: 100%;border-bottom: 1px solid gray;flex-grow: 1;}#sk-container-id-1 div.sk-label:hover label.sk-toggleable__label {background-color: #d4ebff;}#sk-container-id-1 div.sk-serial::before {content: \"\";position: absolute;border-left: 1px solid gray;box-sizing: border-box;top: 0;bottom: 0;left: 50%;z-index: 0;}#sk-container-id-1 div.sk-serial {display: flex;flex-direction: column;align-items: center;background-color: white;padding-right: 0.2em;padding-left: 0.2em;position: relative;}#sk-container-id-1 div.sk-item {position: relative;z-index: 1;}#sk-container-id-1 div.sk-parallel {display: flex;align-items: stretch;justify-content: center;background-color: white;position: relative;}#sk-container-id-1 div.sk-item::before, #sk-container-id-1 div.sk-parallel-item::before {content: \"\";position: absolute;border-left: 1px solid gray;box-sizing: border-box;top: 0;bottom: 0;left: 50%;z-index: -1;}#sk-container-id-1 div.sk-parallel-item {display: flex;flex-direction: column;z-index: 1;position: relative;background-color: white;}#sk-container-id-1 div.sk-parallel-item:first-child::after {align-self: flex-end;width: 50%;}#sk-container-id-1 div.sk-parallel-item:last-child::after {align-self: flex-start;width: 50%;}#sk-container-id-1 div.sk-parallel-item:only-child::after {width: 0;}#sk-container-id-1 div.sk-dashed-wrapped {border: 1px dashed gray;margin: 0 0.4em 0.5em 0.4em;box-sizing: border-box;padding-bottom: 0.4em;background-color: white;}#sk-container-id-1 div.sk-label label {font-family: monospace;font-weight: bold;display: inline-block;line-height: 1.2em;}#sk-container-id-1 div.sk-label-container {text-align: center;}#sk-container-id-1 div.sk-container {/* jupyter's `normalize.less` sets `[hidden] { display: none; }` but bootstrap.min.css set `[hidden] { display: none !important; }` so we also need the `!important` here to be able to override the default hidden behavior on the sphinx rendered scikit-learn.org. See: https://github.com/scikit-learn/scikit-learn/issues/21755 */display: inline-block !important;position: relative;}#sk-container-id-1 div.sk-text-repr-fallback {display: none;}</style><div id=\"sk-container-id-1\" class=\"sk-top-container\"><div class=\"sk-text-repr-fallback\"><pre>GradientBoostingClassifier()</pre><b>In a Jupyter environment, please rerun this cell to show the HTML representation or trust the notebook. <br />On GitHub, the HTML representation is unable to render, please try loading this page with nbviewer.org.</b></div><div class=\"sk-container\" hidden><div class=\"sk-item\"><div class=\"sk-estimator sk-toggleable\"><input class=\"sk-toggleable__control sk-hidden--visually\" id=\"sk-estimator-id-1\" type=\"checkbox\" checked><label for=\"sk-estimator-id-1\" class=\"sk-toggleable__label sk-toggleable__label-arrow\">GradientBoostingClassifier</label><div class=\"sk-toggleable__content\"><pre>GradientBoostingClassifier()</pre></div></div></div></div></div>"
            ]
          },
          "metadata": {},
          "execution_count": 11
        }
      ]
    },
    {
      "cell_type": "code",
      "source": [
        "# prompt: contar cuantos de clada clase hay en y\n",
        "\n",
        "import numpy as np\n",
        "unique_classes, class_counts = np.unique(y, return_counts=True)\n",
        "class_counts_dict = dict(zip(unique_classes, class_counts))\n",
        "print(class_counts_dict)\n"
      ],
      "metadata": {
        "colab": {
          "base_uri": "https://localhost:8080/"
        },
        "id": "QFuoNfSBVj0y",
        "outputId": "56b0d2a0-30e7-4e97-deec-05b219de9b17"
      },
      "id": "QFuoNfSBVj0y",
      "execution_count": 12,
      "outputs": [
        {
          "output_type": "stream",
          "name": "stdout",
          "text": [
            "{1: 87, 2: 49, 3: 75, 4: 138, 5: 651}\n"
          ]
        }
      ]
    },
    {
      "cell_type": "code",
      "source": [
        "# prompt: Evaluar el resultado del clasificador clf utilizando X_test e y_test\n",
        "\n",
        "# Make predictions on the test data\n",
        "y_pred = clf.predict(X_test)\n",
        "\n",
        "# Evaluate the model's performance\n",
        "accuracy = sklearn.metrics.accuracy_score(y_test, y_pred)\n",
        "print(\"Accuracy:\", accuracy)"
      ],
      "metadata": {
        "colab": {
          "base_uri": "https://localhost:8080/"
        },
        "id": "tzlZXaJlVCGq",
        "outputId": "04ce5a30-3ad6-4b1f-b2d1-7bfae835bb5d"
      },
      "id": "tzlZXaJlVCGq",
      "execution_count": 13,
      "outputs": [
        {
          "output_type": "stream",
          "name": "stdout",
          "text": [
            "Accuracy: 0.7363636363636363\n"
          ]
        }
      ]
    },
    {
      "cell_type": "code",
      "source": [
        "# prompt: plot the confusion matrix\n",
        "\n",
        "import matplotlib.pyplot as plt\n",
        "import seaborn as sns\n",
        "\n",
        "confusion_matrix = sklearn.metrics.confusion_matrix(y_test, y_pred)\n",
        "\n",
        "# Create the confusion matrix visualization.\n",
        "plt.figure(figsize=(8, 6))\n",
        "sns.heatmap(confusion_matrix, annot=True, fmt=\"d\", cmap=\"Blues\", cbar=False)\n",
        "plt.xlabel(\"Predicted Label\")\n",
        "plt.ylabel(\"True Label\")\n",
        "plt.title(\"Confusion Matrix\")\n",
        "plt.show()\n"
      ],
      "metadata": {
        "colab": {
          "base_uri": "https://localhost:8080/",
          "height": 564
        },
        "id": "bPz5qWsJWF2D",
        "outputId": "de8ebc9b-d3ae-4f2b-ca59-449c1250f919"
      },
      "id": "bPz5qWsJWF2D",
      "execution_count": 14,
      "outputs": [
        {
          "output_type": "display_data",
          "data": {
            "text/plain": [
              "<Figure size 800x600 with 1 Axes>"
            ],
            "image/png": "[encoded data removed]"
          },
          "metadata": {}
        }
      ]
    },
    {
      "cell_type": "markdown",
      "source": [
        "Podemos observar que clasifica mejor los casos en que el score es 1 o 5"
      ],
      "metadata": {
        "id": "C-fSMxfqUpwo"
      },
      "id": "C-fSMxfqUpwo"
    },
    {
      "cell_type": "markdown",
      "source": [
        "## Clustering"
      ],
      "metadata": {
        "id": "G5Uj8_QaZ6RE"
      },
      "id": "G5Uj8_QaZ6RE"
    },
    {
      "cell_type": "code",
      "source": [
        "# prompt: use kmeans on X_train with k from 2 to 10 and then calculate and plot the elbow and silohuete\n",
        "\n",
        "import matplotlib.pyplot as plt\n",
        "from sklearn.cluster import KMeans\n",
        "from sklearn.metrics import silhouette_score\n",
        "from matplotlib import pyplot as plt\n",
        "\n",
        "sse = []\n",
        "silhouettes = []\n",
        "\n",
        "for k in range(2, 11):\n",
        "    kmeans = KMeans(n_clusters=k, random_state=0, n_init=\"auto\")\n",
        "    kmeans.fit(X_train)\n",
        "    sse.append(kmeans.inertia_)\n",
        "    silhouettes.append(silhouette_score(X_train, kmeans.labels_))\n",
        "\n",
        "plt.figure(figsize=(10, 6))\n",
        "\n",
        "plt.subplot(1, 2, 1)\n",
        "plt.plot(range(2, 11), sse)\n",
        "plt.title('Elbow Method')\n",
        "plt.xlabel('Number of clusters')\n",
        "plt.ylabel('SSE')\n",
        "\n",
        "plt.subplot(1, 2, 2)\n",
        "plt.plot(range(2, 11), silhouettes)\n",
        "plt.title('Silhouette Method')\n",
        "plt.xlabel('Number of clusters')\n",
        "plt.ylabel('Silhouette Score')\n",
        "\n",
        "plt.show()\n"
      ],
      "metadata": {
        "colab": {
          "base_uri": "https://localhost:8080/",
          "height": 564
        },
        "id": "jPZBIhoMXpHg",
        "outputId": "2c0573ec-e0d8-44e6-ab58-8c7ddbfeef79"
      },
      "id": "jPZBIhoMXpHg",
      "execution_count": 20,
      "outputs": [
        {
          "output_type": "display_data",
          "data": {
            "text/plain": [
              "<Figure size 1000x600 with 2 Axes>"
            ],
            "image/png": "[encoded data removed]"
          },
          "metadata": {}
        }
      ]
    },
    {
      "cell_type": "markdown",
      "source": [
        "No se observa un patron claro de cuantos clusters podriamos generar. Quizas 2 clusters se corresponde con lo visto anteriormente que es mas facil separar en positivo y negativo que en 5 categorias de score"
      ],
      "metadata": {
        "id": "klQQUTOTUxRk"
      },
      "id": "klQQUTOTUxRk"
    },
    {
      "cell_type": "markdown",
      "id": "f04bb696-ef65-4431-90fe-4b769b9d5e2f",
      "metadata": {
        "id": "f04bb696-ef65-4431-90fe-4b769b9d5e2f"
      },
      "source": [
        "# Fin: [Volver al contenido del curso](https://www.freecodingtour.com/cursos/espanol/deeplearning/deeplearning.html)"
      ]
    }
  ],
  "metadata": {
    "kernelspec": {
      "display_name": "Python 3 (ipykernel)",
      "language": "python",
      "name": "python3"
    },
    "language_info": {
      "codemirror_mode": {
        "name": "ipython",
        "version": 3
      },
      "file_extension": ".py",
      "mimetype": "text/x-python",
      "name": "python",
      "nbconvert_exporter": "python",
      "pygments_lexer": "ipython3",
      "version": "3.9.7"
    },
    "colab": {
      "provenance": []
    }
  },
  "nbformat": 4,
  "nbformat_minor": 5
}