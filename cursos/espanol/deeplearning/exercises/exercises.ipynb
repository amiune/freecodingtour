{
 "cells": [
  {
   "cell_type": "markdown",
   "metadata": {},
   "source": [
    "# La Practica te Convertira en Maestr@\n",
    "\n",
    "Varios ejercicios para practicar las tecnicas de Deep Learning aprendidas:\n",
    "\n",
    "## Image Clasification\n",
    "\n",
    "### [Kaggle: Digit Recognizer](https://www.kaggle.com/competitions/digit-recognizer/data?select=train.csv)\n",
    "\n",
    "## Text Classification\n",
    "\n",
    "### [Kaggle: Contradictory, My Dear Watson](https://www.kaggle.com/competitions/contradictory-my-dear-watson)\n",
    "\n",
    "### [OpenAI Examples](https://github.com/openai/openai-cookbook/tree/main/examples)"
   ]
  }
 ],
 "metadata": {
  "language_info": {
   "name": "python"
  }
 },
 "nbformat": 4,
 "nbformat_minor": 2
}
