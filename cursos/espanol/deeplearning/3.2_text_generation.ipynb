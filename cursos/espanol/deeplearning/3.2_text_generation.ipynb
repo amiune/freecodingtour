{
 "cells": [
  {
   "cell_type": "markdown",
   "id": "1fbf6391-0776-42dd-97a1-f2faf6eeea84",
   "metadata": {},
   "source": [
    "# Text Generation\n",
    "\n",
    "Estos modelos son los famosos Large Languages Models (LLMs) que se hicieron conocidos a partir de ChatGPT por poder chatear con una persona humana."
   ]
  },
  {
   "cell_type": "code",
   "execution_count": null,
   "id": "b4959126-7a02-4b0c-afca-4a1c9e5c21d8",
   "metadata": {},
   "outputs": [],
   "source": [
    "!pip install transformers[torch] --quiet"
   ]
  },
  {
   "cell_type": "code",
   "execution_count": null,
   "id": "94ae9f8b-ae9d-49c0-a36c-5089975973c7",
   "metadata": {},
   "outputs": [],
   "source": [
    "from transformers import pipeline"
   ]
  },
  {
   "cell_type": "code",
   "execution_count": null,
   "id": "e030b26f-3bde-4d36-87a6-0be072076d7d",
   "metadata": {},
   "outputs": [],
   "source": [
    "def generar_texto(promp):\n",
    "    pipe = pipeline(task = \"text-generation\", model = \"openai-community/gpt2\")\n",
    "    ret = pipe(\"Hello. How are you? My name is Hernan\")\n",
    "    return ret[0][\"generated_text\"]"
   ]
  },
  {
   "cell_type": "code",
   "execution_count": null,
   "id": "1d9e11a5-0455-48e9-aa15-13af5b24dd54",
   "metadata": {},
   "outputs": [],
   "source": [
    "generar_texto(\"Hello. How are you? My name is Hernan\")"
   ]
  },
  {
   "cell_type": "markdown",
   "id": "175668e2-d594-4b22-ac6c-72689ee6dbad",
   "metadata": {},
   "source": [
    "## Sin pipelines"
   ]
  },
  {
   "cell_type": "code",
   "execution_count": null,
   "id": "703b4390-936f-4a6f-8b2b-aa672c6a26ab",
   "metadata": {},
   "outputs": [],
   "source": [
    "from transformers import AutoTokenizer, AutoModelForCausalLM\n",
    "\n",
    "tokenizer = AutoTokenizer.from_pretrained(\"openai-community/gpt2\")\n",
    "model = AutoModelForCausalLM.from_pretrained(\"openai-community/gpt2\")\n",
    "\n",
    "input_text = \"Hello. How are you? My name is Hernan\"\n",
    "input_ids = tokenizer(input_text, return_tensors=\"pt\")\n",
    "\n",
    "outputs = model.generate(**input_ids)\n",
    "print(tokenizer.decode(outputs[0]))"
   ]
  },
  {
   "cell_type": "markdown",
   "id": "433b0a5a-2b17-4a0f-8e0b-55f7faa63900",
   "metadata": {},
   "source": [
    "### Referencias\n",
    "- https://huggingface.co/tasks/text-generation"
   ]
  },
  {
   "cell_type": "markdown",
   "id": "ecb55af4-681a-4852-a47b-1aef9effbf91",
   "metadata": {},
   "source": [
    "# Fin: [Volver al contenido del curso](https://www.freecodingtour.com/cursos/espanol/deeplearning/deeplearning.html)"
   ]
  }
 ],
 "metadata": {
  "kernelspec": {
   "display_name": "Python 3 (ipykernel)",
   "language": "python",
   "name": "python3"
  },
  "language_info": {
   "codemirror_mode": {
    "name": "ipython",
    "version": 3
   },
   "file_extension": ".py",
   "mimetype": "text/x-python",
   "name": "python",
   "nbconvert_exporter": "python",
   "pygments_lexer": "ipython3",
   "version": "3.9.7"
  }
 },
 "nbformat": 4,
 "nbformat_minor": 5
}
