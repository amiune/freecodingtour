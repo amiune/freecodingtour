{
 "cells": [
  {
   "cell_type": "markdown",
   "id": "355a45d0-f340-4a55-8249-0a86a4f06bec",
   "metadata": {},
   "source": [
    "# Fine Tuning\n",
    "\n",
    "El fine tuning de una red neuronal consiste en ajustar sus la salida de la red y sus parametros ya preentrenados con una base de datos mas pequeña y especifica que la utilizada para el entrenamiento de base.\n",
    "\n",
    "Como realizar el finetuning depende del modelo elegido. A continuacion veremos como realizar finetuning utilizando una app de HuggingFace que nos permite hacerlo de manera sencilla para varias tareas y varios modelos. "
   ]
  },
  {
   "cell_type": "markdown",
   "id": "c6a53b49-ff7f-49b8-9714-669a4c290dbc",
   "metadata": {},
   "source": [
    "## Paso 1A: \n",
    "\n",
    "Ingresar al space de [AutoTrain Advanced](https://huggingface.co/new-space?template=autotrain-projects/autotrain-advanced)\n",
    "\n",
    "Veremos la siguiente pagina donde completaremos el nombre del space donde dice Space Name con el nombre que nosotros querramos:\n",
    "<div style=\"text-align:center\">\n",
    "<img src=\"img/autotrain-paso1A.png\" width=\"800\"/>\n",
    "</div>\n",
    "\n",
    "Dejaremos seleccionado Docker y Autotrain"
   ]
  },
  {
   "cell_type": "markdown",
   "id": "92201a76-db7d-4f3e-bf64-a8290078abc7",
   "metadata": {},
   "source": [
    "## Paso 1B: \n",
    "\n",
    "Mas abajo veremos lo siguiente:\n",
    "\n",
    "<div style=\"text-align:center\">\n",
    "<img src=\"img/autotrain-paso1B.png\" width=\"800\"/>\n",
    "</div>\n",
    "\n",
    "Aqui seleccionaremos el ordenador donde queremos que se ejecute nuestro algoritmo de entrenamiento. Aqui seleccionaremos: CPU Free. Si queremos que nuestro entrenamiento sea mas rapido entonces deberemos pagar por un upgrade a un GPU.\n",
    "\n",
    "En la parte de Public o Private seleccionaremos Private para que solo nosotros podamos acceder a este space.\n",
    "\n",
    "Luego damos click a create"
   ]
  },
  {
   "cell_type": "markdown",
   "id": "cc11eb0c-5d4c-40e4-9346-0030453d8b76",
   "metadata": {},
   "source": [
    "## Paso 1C: \n",
    "\n",
    "Una vez hecho esto veremos lo siguiente:\n",
    "\n",
    "<div style=\"text-align:center\">\n",
    "<img src=\"img/autotrain-paso1C.png\" width=\"800\"/>\n",
    "</div>\n",
    "\n",
    "Una vez que esto termine hacemos click en la cruz de la derecha para dejar de ver el log."
   ]
  },
  {
   "cell_type": "markdown",
   "id": "ef7f4304-8f5a-473c-998c-ee958d11795a",
   "metadata": {},
   "source": [
    "## Paso 2A: \n",
    "\n",
    "El siguiente paso es loguearnos en Hugging Face y Autorizar a nuestro space:\n",
    "\n",
    "<div style=\"text-align:center\">\n",
    "<img src=\"img/autotrain-paso2A.png\" width=\"500\"/>\n",
    "</div>"
   ]
  },
  {
   "cell_type": "markdown",
   "id": "cf9d8a9e-caaa-4d56-8f9d-726b29788baa",
   "metadata": {},
   "source": [
    "## Paso 2B: \n",
    "\n",
    "Aqui tenemos el panel de control para elegir que tipo de entrenamiento haremos:\n",
    "\n",
    "1. Podemos elegir la tarea en la que queremos entrenar (clasificacion de imagenes, clasificacion de texto, LLMs, etc)\n",
    "2. Podemos elegir el modelo al cual le queremos hacer finetuning\n",
    "3. Podemos elegir los parametros de entrenamiento\n",
    "\n",
    "En nuestro caso vamos a hacer finetuning del modelo google/mobilenet_v2_1.0_224 que es un modelo relativamente pequeño para la clasificacion de imagenes.\n",
    "\n",
    "Como datos para entrenar el modelo utilizaremos las imagenes de bananas maduras y no maduras de la primera unidad.\n",
    "\n",
    "En los parametros de entrenamiento del modelo eliminaremos la linea \"mixed_precision\":\"fp16\" ya que esto es para cuando nuestro ordenador posee GPU.\n",
    "\n",
    "Finalmente y muy importante es seleccionar el nombre de mi projecto ya que este sera el nombre con el que se guardara mi modelo entrenado en HuggingFace.\n",
    "\n",
    "<div style=\"text-align:center\">\n",
    "<img src=\"img/autotrain-paso2B.png\" width=\"800\"/>\n",
    "</div>\n",
    "\n",
    "Finalmente damos click a Start Training"
   ]
  },
  {
   "cell_type": "markdown",
   "id": "cfe24f3d-2de2-41c6-a112-e741ffb36b2a",
   "metadata": {},
   "source": [
    "## Paso 2C: \n",
    "\n",
    "Aqui nos avisa que si elegimos un ordenador pago nos llegara el cobro por su uso. Como hemos elegido el gratuito no nos cobrara. Hacemos click en Yes para proceder con el entrenamiento.\n",
    "\n",
    "<div style=\"text-align:center\">\n",
    "<img src=\"img/autotrain-paso2C.png\" width=\"500\"/>\n",
    "</div>"
   ]
  },
  {
   "cell_type": "markdown",
   "id": "f8f26860-4954-4b73-a17b-30b425c64529",
   "metadata": {},
   "source": [
    "## Paso 3A: \n",
    "\n",
    "Una vez finalizado el entrenamiento podremos encontrar nuestro modelo entrenado en huggingface en la URL: \n",
    " - https://huggingface.co/MI_NOMBRE_DE_USUARIO/MI-NOMBRE-DE-PROYECTO\n",
    "\n",
    "Reemplazar en esta url con tu nombre de usuario y el nombre que le has dado a tu proyecto de entrenamiento en el Paso 2B.\n",
    "\n",
    "Aqui veremos un resumen con las metricas que nos indicaran que tan bien ha funcionado el entrenamiento en el set de validacion.\n",
    "\n",
    "<div style=\"text-align:center\">\n",
    "<img src=\"img/autotrain-paso3.png\" width=\"800\"/>\n",
    "</div>"
   ]
  },
  {
   "cell_type": "markdown",
   "id": "6f6f8f43-75ab-4c24-bab3-613fbb070466",
   "metadata": {},
   "source": [
    "## Paso 3B: \n",
    "\n",
    "Iremos a la pestaña de settings y cambiaremos la visibilidad del modelo a Publico\n",
    "\n",
    "<div style=\"text-align:center\">\n",
    "<img src=\"img/autotrain-paso3B.png\" width=\"800\"/>\n",
    "</div>"
   ]
  },
  {
   "cell_type": "markdown",
   "id": "d39004d4-0239-42f9-97d3-195ef3488e92",
   "metadata": {},
   "source": [
    "## Paso 4:\n",
    "\n",
    "Ahora ya podemos utilizar este modelo tal cual lo habiamos hecho en la unidad 3.\n",
    "\n",
    "Intentemos clasificar la siguiente imagen: https://raw.githubusercontent.com/amiune/freecodingtour/main/cursos/espanol/deeplearning/data/bananas/madura1.jpeg\n",
    "\n",
    "<div style=\"text-align:center\">\n",
    "<img src=\"https://raw.githubusercontent.com/amiune/freecodingtour/main/cursos/espanol/deeplearning/data/bananas/madura1.jpeg\" width=\"200\"/>\n",
    "</div>"
   ]
  },
  {
   "cell_type": "code",
   "execution_count": null,
   "id": "8bcb36ac-d535-49ab-861d-57b93cba74ee",
   "metadata": {},
   "outputs": [],
   "source": [
    "!pip install transformers --upgrade --quiet"
   ]
  },
  {
   "cell_type": "code",
   "execution_count": null,
   "id": "bbe36ac2-4497-47ba-9890-b151abdd5288",
   "metadata": {},
   "outputs": [],
   "source": [
    "from transformers import pipeline"
   ]
  },
  {
   "cell_type": "code",
   "execution_count": null,
   "id": "a6589986-1e4e-4b8b-a40a-536a5ba412c7",
   "metadata": {},
   "outputs": [],
   "source": [
    "clasificador = pipeline(\"image-classification\", model=\"amiune/mi-prueba1\")"
   ]
  },
  {
   "cell_type": "code",
   "execution_count": null,
   "id": "39531e2b-4c69-4052-b76a-9eb07a97136e",
   "metadata": {},
   "outputs": [],
   "source": [
    "url = 'https://raw.githubusercontent.com/amiune/freecodingtour/main/cursos/espanol/deeplearning/data/bananas/madura1.jpeg'\n",
    "clasificador(images=url, top_k=2)"
   ]
  },
  {
   "cell_type": "markdown",
   "id": "94244657-107f-4e36-9d08-88ba57823f71",
   "metadata": {},
   "source": [
    "# Fin: [Volver al contenido del curso](https://www.freecodingtour.com/cursos/espanol/deeplearning/deeplearning.html)"
   ]
  }
 ],
 "metadata": {
  "kernelspec": {
   "display_name": "Python 3 (ipykernel)",
   "language": "python",
   "name": "python3"
  },
  "language_info": {
   "codemirror_mode": {
    "name": "ipython",
    "version": 3
   },
   "file_extension": ".py",
   "mimetype": "text/x-python",
   "name": "python",
   "nbconvert_exporter": "python",
   "pygments_lexer": "ipython3",
   "version": "3.9.7"
  }
 },
 "nbformat": 4,
 "nbformat_minor": 5
}
