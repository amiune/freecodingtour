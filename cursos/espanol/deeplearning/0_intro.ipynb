{
 "cells": [
  {
   "cell_type": "markdown",
   "id": "355a45d0-f340-4a55-8249-0a86a4f06bec",
   "metadata": {},
   "source": [
    "# Redes Neuronales"
   ]
  },
  {
   "cell_type": "markdown",
   "id": "ec784c76-83d6-4e76-8cca-22ece5bf499e",
   "metadata": {},
   "source": [
    "Como es una neurona?\n",
    "\n",
    "<div style=\"text-align:center\">\n",
    "<img src=\"img/neurona.jpeg\" width=\"500\"/>\n",
    "</div>"
   ]
  },
  {
   "cell_type": "markdown",
   "id": "b69be555-ae59-4727-89f0-1c5a3cd7c867",
   "metadata": {},
   "source": [
    "Como la podemos describir matematicamente?\n",
    "\n",
    "- Las dentritas son las variables de entrada\n",
    "- El cuerpo celular es una funcion de suma\n",
    "- Si la suma es mayor a un umbral se activa el boton terminal (funcion de activacion)\n",
    "- El axon es la variable de salida\n",
    "\n",
    "<div style=\"text-align:center\">\n",
    "<img src=\"img/neurona_matematica.png\" width=\"700\"/>\n",
    "</div>"
   ]
  },
  {
   "cell_type": "markdown",
   "id": "94244657-107f-4e36-9d08-88ba57823f71",
   "metadata": {},
   "source": [
    "# Fin: [Volver al contenido del curso](https://www.freecodingtour.com/cursos/espanol/deeplearning/deeplearning.html)"
   ]
  },
  {
   "cell_type": "markdown",
   "id": "d67433bc-550a-4b1e-ac23-4563ac655693",
   "metadata": {},
   "source": [
    "Referencias de las imagenes:\n",
    "\n",
    "- Neurona: https://www.psycolab.com/wp-content/uploads/15286-2048x1126.jpg"
   ]
  }
 ],
 "metadata": {
  "kernelspec": {
   "display_name": "Python 3 (ipykernel)",
   "language": "python",
   "name": "python3"
  },
  "language_info": {
   "codemirror_mode": {
    "name": "ipython",
    "version": 3
   },
   "file_extension": ".py",
   "mimetype": "text/x-python",
   "name": "python",
   "nbconvert_exporter": "python",
   "pygments_lexer": "ipython3",
   "version": "3.9.7"
  }
 },
 "nbformat": 4,
 "nbformat_minor": 5
}
