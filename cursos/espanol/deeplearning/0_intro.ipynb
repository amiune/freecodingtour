{
 "cells": [
  {
   "cell_type": "markdown",
   "id": "355a45d0-f340-4a55-8249-0a86a4f06bec",
   "metadata": {},
   "source": [
    "# De imagenes y texto a vectores"
   ]
  },
  {
   "cell_type": "markdown",
   "id": "cb282c99-1446-4578-801a-c70891049134",
   "metadata": {},
   "source": [
    "Como vimos en el curso de ciencia de datos tenemos cajas negras que podemos entrenar mediante una tabla de entrenamiento que contiene filas con ejemplos y su respectivo resultado esperado. Estas filas son numeros que llamamos vectores. \n",
    "\n",
    "Que pasa si queremos entrenar una caja negra para que reconozca imagenes, por ejemplo queremos entrenar una caja negra para que reconozca si una imagen tiene un gato o un perro. En ese caso nuestra tabla de entrenamiento estara compuesta por filas que tienen una imagen en vez de numeros como vemos a continuacion:\n",
    "\n",
    "<div style=\"text-align:center\">\n",
    "<img src=\"img/tabla_perros_gatos.png\" width=\"700\"/>\n",
    "</div>"
   ]
  },
  {
   "cell_type": "markdown",
   "id": "0a6b3690-5dfd-495d-85f6-995988bc804d",
   "metadata": {},
   "source": [
    "Sabiendo que nuestras cajas negras funcionan muy bien con numeros en cada fila (vectores), la pregunta es como podemos hacer para convertir estas imagenes en vectores que las representen bien.\n",
    "\n",
    "Como ya la mayoria de la gente sabe las imagenes estan compuestas por pequeños cuadraditos llamados pixeles y cada pixel tiene un numero que representa un color. Veamos un ejemplo de una imagen de 3x3 pixeles de distintos colores y pongamosle un numero distinto para cada color:\n",
    "\n",
    "<div style=\"text-align:center\">\n",
    "<img src=\"img/pixeles.png\" width=\"500\"/>\n",
    "</div>\n",
    "\n",
    "\n",
    "NOTA: Hay muchas formas de establecer que numero le corresponde a cada color pero eso no importa por el momento."
   ]
  },
  {
   "cell_type": "markdown",
   "id": "7f7062e1-35f9-4b46-991a-c7c053255ff9",
   "metadata": {},
   "source": [
    "Sabiendo esto podemos convertir una imagen a un vector (fila de numeros ordenados) de forma muy simple. Solamente ponemos uno despues de otro y esta imagen quedaria convertida en el siguiente vector:\n",
    "(54,13,74,89,27,62,31,66,77)\n",
    "\n",
    "Y nuestra tabla de perros y gatos quedaria de la siguiente forma:\n",
    "\n",
    "<div style=\"text-align:center\">\n",
    "<img src=\"img/tabla_perros_gatos_vectores.png\" width=\"700\"/>\n",
    "</div>"
   ]
  },
  {
   "cell_type": "markdown",
   "id": "e19fdc01-e0f8-471c-81c7-c21c599653c1",
   "metadata": {},
   "source": [
    "Lamentablemente esta forma de convertir las imagenes a vectores no funciona muy bien para entrenar a nuestras cajas negras pero los cientificos empezaron a probar distintas formas de convertir las imagenes en vectores a partir de los cuales las cajas negras puedan aprender.\n",
    "\n",
    "Un ejemplo de estas pruebas fue la aplicacion de filtros a las imagenes. Un filtro en particular es el de deteccion de bordes que convierte una imagen de la siguiente manera:\n",
    "\n",
    "\n",
    "<div style=\"text-align:center\">\n",
    "<img src=\"img/deteccion_bordes.png\" width=\"500\" alt=\"Imagen de wikipedia\"/>\n",
    "</div>\n",
    "\n",
    "\n",
    "Estos filtros se llaman de convolucion y se consiguen multiplicando los pixeles por matrices. Este proceso es el que les da el nombre a las famosas redes convolucionales.\n",
    "\n",
    "<div style=\"text-align:center\">\n",
    "<img src=\"img/2D_Convolution_Animation.gif\" width=\"500\" alt=\"Imagen de wikipedia\"/>\n",
    "</div>\n",
    "\n",
    "Afortunadamente todo este proceso que llevo muchos años de prueba y error fue introducido adentro de las cajas negras y estas cajas negras mas complejas que aprenden solas a como convertir las imagenes en vectores para poder aprender se llaman cajas negras de deep learning.\n",
    "\n",
    "Si quieres profundizar mas en como esta compuesta la arquitectura interna de dichas cajas negras hay mas informacion en las unidades avanzadas de este curso pero no es necesario conocer en profundidad como funcionan para poder utilizarlas."
   ]
  },
  {
   "cell_type": "code",
   "execution_count": null,
   "id": "dca94c35-b78d-4d26-8519-79b6b769f9e0",
   "metadata": {},
   "outputs": [],
   "source": []
  },
  {
   "cell_type": "code",
   "execution_count": null,
   "id": "6ad706db-5621-49ae-b00b-2895f881da78",
   "metadata": {},
   "outputs": [],
   "source": []
  },
  {
   "cell_type": "code",
   "execution_count": null,
   "id": "22b32200-9443-4414-9082-55ec74f228ef",
   "metadata": {},
   "outputs": [],
   "source": []
  },
  {
   "cell_type": "code",
   "execution_count": null,
   "id": "3aab0a37-d0e4-45a3-8191-5e3fa5b6c1aa",
   "metadata": {},
   "outputs": [],
   "source": []
  },
  {
   "cell_type": "markdown",
   "id": "94244657-107f-4e36-9d08-88ba57823f71",
   "metadata": {},
   "source": [
    "# Fin: [Volver al contenido del curso](https://www.freecodingtour.com/cursos/espanol/deeplearning/deeplearning.html)"
   ]
  },
  {
   "cell_type": "markdown",
   "id": "df818d42-2bc4-4697-add0-6bdcfea25f99",
   "metadata": {},
   "source": [
    "Dos imagenes de esta unidad fueron obtenidas de wikipedia:\n",
    "- https://en.wikipedia.org/wiki/Edge_detection\n",
    "- https://en.wikipedia.org/wiki/Kernel_(image_processing)"
   ]
  }
 ],
 "metadata": {
  "kernelspec": {
   "display_name": "Python 3 (ipykernel)",
   "language": "python",
   "name": "python3"
  },
  "language_info": {
   "codemirror_mode": {
    "name": "ipython",
    "version": 3
   },
   "file_extension": ".py",
   "mimetype": "text/x-python",
   "name": "python",
   "nbconvert_exporter": "python",
   "pygments_lexer": "ipython3",
   "version": "3.9.7"
  }
 },
 "nbformat": 4,
 "nbformat_minor": 5
}
