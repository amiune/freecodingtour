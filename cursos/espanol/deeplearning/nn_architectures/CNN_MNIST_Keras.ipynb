{
 "cells": [
  {
   "cell_type": "markdown",
   "id": "c80b9b6b-c91e-4263-bc03-32b2c3b2e1c3",
   "metadata": {},
   "source": [
    "# CNN con Keras Core\n",
    "\n",
    "Utilizaremos keras core para clasificar imagenes de la base de datos MNIST"
   ]
  },
  {
   "cell_type": "code",
   "execution_count": 1,
   "id": "c701e567-9763-4c8e-bbc2-8af6627e85d9",
   "metadata": {},
   "outputs": [],
   "source": [
    "import os\n",
    "import pandas as pd\n",
    "import numpy as np"
   ]
  },
  {
   "cell_type": "code",
   "execution_count": 2,
   "id": "459a19f6-be89-491f-a719-c59d914cfe68",
   "metadata": {},
   "outputs": [
    {
     "name": "stdout",
     "output_type": "stream",
     "text": [
      "Using PyTorch backend.\n"
     ]
    }
   ],
   "source": [
    "!pip install -q keras-core\n",
    "os.environ[\"KERAS_BACKEND\"] = \"torch\"\n",
    "# Nota: importar keras luego de elegir el backend torch, tf, jax\n",
    "import keras_core as keras"
   ]
  },
  {
   "cell_type": "markdown",
   "id": "1c0c8de7-c2b9-4f1b-ba31-ac550e2664f1",
   "metadata": {},
   "source": [
    "Utlizaremos el dataset simplificado de MNIST de https://www.kaggle.com/datasets/oddrationale/mnist-in-csv, a continuacion lo descomprimimos en el directorio ./data/mnist/extracted/"
   ]
  },
  {
   "cell_type": "code",
   "execution_count": 3,
   "id": "acebc1d1-2898-4167-a40b-fad9538617ab",
   "metadata": {},
   "outputs": [],
   "source": [
    "#import zipfile\n",
    "#with zipfile.ZipFile(\"./data/mnist/mnist_train.csv.zip\", 'r') as zip_ref:\n",
    "#    zip_ref.extractall(\"./data/mnist/extracted/\")\n",
    "#with zipfile.ZipFile(\"./data/mnist/mnist_test.csv.zip\", 'r') as zip_ref:\n",
    "#    zip_ref.extractall(\"./data/mnist/extracted/\")"
   ]
  },
  {
   "cell_type": "code",
   "execution_count": null,
   "id": "1c2e004a-a15a-4b3f-a8d8-c4e21b46df84",
   "metadata": {},
   "outputs": [],
   "source": [
    "import requests, zipfile, io\n",
    "r = requests.get(\"https://github.com/amiune/freecodingtour/raw/main/cursos/espanol/deeplearning/data/mnist/mnist_train.csv.zip\")\n",
    "with zipfile.ZipFile(io.BytesIO(r.content), 'r') as zip_ref:\n",
    "    zip_ref.extractall(\"./data/mnist/extracted/\")\n",
    "r = requests.get(\"https://github.com/amiune/freecodingtour/raw/main/cursos/espanol/deeplearning/data/mnist/mnist_test.csv.zip\")\n",
    "with zipfile.ZipFile(io.BytesIO(r.content), 'r') as zip_ref:\n",
    "    zip_ref.extractall(\"./data/mnist/extracted/\")"
   ]
  },
  {
   "cell_type": "markdown",
   "id": "e9d0f143-3e18-4a46-8131-889cbf969e54",
   "metadata": {},
   "source": [
    "Cargo los datasets de train y test y los convierto a la forma original de la imagen 28x28 pixeles"
   ]
  },
  {
   "cell_type": "code",
   "execution_count": 22,
   "id": "c4929034-bdcb-4aa9-b91d-f524535abf7a",
   "metadata": {},
   "outputs": [],
   "source": [
    "train = pd.read_csv(\"./data/mnist/extracted/mnist_train.csv\")\n",
    "\n",
    "\n",
    "x_train = train.iloc[:,1:].values\n",
    "y_train = train.iloc[:,0].values\n",
    "\n",
    "# Hacer que cada pixel este entre 0 y 1\n",
    "x_train = x_train.astype(\"float32\") / 255\n",
    "\n",
    "# Cambiar la forma de unidimensional de (784) a bidimensional (28, 28, 1)\n",
    "x_train = x_train.reshape(x_train.shape[0], 28, 28, 1)"
   ]
  },
  {
   "cell_type": "code",
   "execution_count": 23,
   "id": "7eeaf3bf-814d-4173-bd21-08b9062d1d72",
   "metadata": {},
   "outputs": [
    {
     "name": "stdout",
     "output_type": "stream",
     "text": [
      "(28, 28, 1)\n",
      "5\n"
     ]
    }
   ],
   "source": [
    "print(x_train[0].shape)\n",
    "print(y_train[0])"
   ]
  },
  {
   "cell_type": "code",
   "execution_count": 24,
   "id": "5262456f-a43c-452e-8a2c-bca830b18390",
   "metadata": {},
   "outputs": [],
   "source": [
    "# Convertir labels a one-hot encoding\n",
    "y_train = keras.utils.to_categorical(y_train)"
   ]
  },
  {
   "cell_type": "code",
   "execution_count": 25,
   "id": "431ed6d0-8531-40e7-878c-af42d2bcc95a",
   "metadata": {},
   "outputs": [
    {
     "data": {
      "text/plain": [
       "array([0., 0., 0., 0., 0., 1., 0., 0., 0., 0.])"
      ]
     },
     "execution_count": 25,
     "metadata": {},
     "output_type": "execute_result"
    }
   ],
   "source": [
    "y_train[0]"
   ]
  },
  {
   "cell_type": "code",
   "execution_count": 26,
   "id": "263fe31e-8f6b-4951-a745-40d2f8853672",
   "metadata": {},
   "outputs": [
    {
     "data": {
      "image/png": "[encoded data removed]",
      "text/plain": [
       "<Figure size 640x480 with 1 Axes>"
      ]
     },
     "metadata": {},
     "output_type": "display_data"
    }
   ],
   "source": [
    "from matplotlib import pyplot as plt\n",
    "plt.imshow(x_train[0], interpolation='nearest')\n",
    "plt.show()"
   ]
  },
  {
   "cell_type": "code",
   "execution_count": 27,
   "id": "b2185139-ba3e-4389-8112-cbe696507155",
   "metadata": {},
   "outputs": [
    {
     "name": "stdout",
     "output_type": "stream",
     "text": [
      "x_train shape: (60000, 28, 28, 1)\n",
      "y_train shape: (60000, 10)\n",
      "60000 train samples\n"
     ]
    }
   ],
   "source": [
    "print(\"x_train shape:\", x_train.shape)\n",
    "print(\"y_train shape:\", y_train.shape)\n",
    "print(x_train.shape[0], \"train samples\")"
   ]
  },
  {
   "cell_type": "markdown",
   "id": "0f63a558-10ee-468b-a0fa-878b99fa3604",
   "metadata": {},
   "source": [
    "Definimos la arquitectura de la CNN"
   ]
  },
  {
   "cell_type": "code",
   "execution_count": 28,
   "id": "26ff258e-e5cc-4b08-b79d-73af39fd0d92",
   "metadata": {},
   "outputs": [],
   "source": [
    "num_classes = 10\n",
    "input_shape = (28, 28, 1)\n",
    "\n",
    "model = keras.models.Sequential([\n",
    "    keras.layers.Input(shape=input_shape),\n",
    "    keras.layers.Conv2D(32, kernel_size=(3, 3), activation='relu'),\n",
    "    keras.layers.MaxPooling2D(pool_size=(2, 2)),\n",
    "    keras.layers.Flatten(),\n",
    "    keras.layers.Dense(64, activation='relu'),\n",
    "    keras.layers.Dropout(0.5),\n",
    "    keras.layers.Dense(num_classes, activation='softmax')\n",
    "])"
   ]
  },
  {
   "cell_type": "markdown",
   "id": "2b03239b-5330-4453-b7b9-3deec2a4e2ee",
   "metadata": {},
   "source": [
    "Compilamos el modelo"
   ]
  },
  {
   "cell_type": "code",
   "execution_count": 29,
   "id": "dfc940f7-dbf1-448d-be43-e87ab4070dfa",
   "metadata": {},
   "outputs": [],
   "source": [
    "model.compile(optimizer='adam',\n",
    "              #loss=\"sparse_categorical_crossentropy\",#para y=numero\n",
    "              loss=\"categorical_crossentropy\",#para y=one_hot_encoding\n",
    "              metrics=['accuracy'])"
   ]
  },
  {
   "cell_type": "markdown",
   "id": "7e49858c-d9e9-457a-a981-6ae5e6d9c326",
   "metadata": {},
   "source": [
    "Entrenamos el modelo"
   ]
  },
  {
   "cell_type": "code",
   "execution_count": 30,
   "id": "8645f599-2e87-4b8d-8261-8791ccfa4643",
   "metadata": {},
   "outputs": [
    {
     "name": "stdout",
     "output_type": "stream",
     "text": [
      "Epoch 1/5\n",
      "\u001b[1m844/844\u001b[0m \u001b[32m━━━━━━━━━━━━━━━━━━━━\u001b[0m\u001b[37m\u001b[0m \u001b[1m9s\u001b[0m 10ms/step - accuracy: 0.8037 - loss: 0.6358 - val_accuracy: 0.9763 - val_loss: 0.0853\n",
      "Epoch 2/5\n",
      "\u001b[1m844/844\u001b[0m \u001b[32m━━━━━━━━━━━━━━━━━━━━\u001b[0m\u001b[37m\u001b[0m \u001b[1m9s\u001b[0m 10ms/step - accuracy: 0.9480 - loss: 0.1813 - val_accuracy: 0.9805 - val_loss: 0.0693\n",
      "Epoch 3/5\n",
      "\u001b[1m844/844\u001b[0m \u001b[32m━━━━━━━━━━━━━━━━━━━━\u001b[0m\u001b[37m\u001b[0m \u001b[1m9s\u001b[0m 10ms/step - accuracy: 0.9602 - loss: 0.1362 - val_accuracy: 0.9842 - val_loss: 0.0594\n",
      "Epoch 4/5\n",
      "\u001b[1m844/844\u001b[0m \u001b[32m━━━━━━━━━━━━━━━━━━━━\u001b[0m\u001b[37m\u001b[0m \u001b[1m9s\u001b[0m 10ms/step - accuracy: 0.9634 - loss: 0.1213 - val_accuracy: 0.9858 - val_loss: 0.0560\n",
      "Epoch 5/5\n",
      "\u001b[1m844/844\u001b[0m \u001b[32m━━━━━━━━━━━━━━━━━━━━\u001b[0m\u001b[37m\u001b[0m \u001b[1m9s\u001b[0m 11ms/step - accuracy: 0.9697 - loss: 0.0994 - val_accuracy: 0.9860 - val_loss: 0.0537\n"
     ]
    },
    {
     "data": {
      "text/plain": [
       "<keras_core.src.callbacks.history.History at 0x7f84a9d5ac10>"
      ]
     },
     "execution_count": 30,
     "metadata": {},
     "output_type": "execute_result"
    }
   ],
   "source": [
    "model.fit(\n",
    "    x_train,\n",
    "    y_train,\n",
    "    batch_size=64,\n",
    "    epochs=3,\n",
    "    validation_split=0.1,\n",
    ")"
   ]
  },
  {
   "cell_type": "markdown",
   "id": "0aa2d523-e6a0-4cba-92d1-e4b574236705",
   "metadata": {},
   "source": [
    "Ahora veamos como funciona la prediccion:"
   ]
  },
  {
   "cell_type": "code",
   "execution_count": 31,
   "id": "0e8aa436-9ed0-489b-bfee-93047db0b541",
   "metadata": {},
   "outputs": [],
   "source": [
    "test = pd.read_csv(\"./data/mnist/extracted/mnist_test.csv\")\n",
    "\n",
    "x_test = test.iloc[:,1:].values\n",
    "y_test = test.iloc[:,0].values\n",
    "\n",
    "# Hacer que cada pixel este entre 0 y 1\n",
    "x_test = x_test.astype(\"float32\") / 255\n",
    "\n",
    "# Cambiar la forma de unidimensional de (784) a bidimensional (28, 28, 1)\n",
    "x_test = x_test.reshape(x_test.shape[0], 28, 28, 1)"
   ]
  },
  {
   "cell_type": "code",
   "execution_count": 32,
   "id": "ef739c0a-ff41-41e1-809a-cde88df892e4",
   "metadata": {},
   "outputs": [
    {
     "data": {
      "image/png": "[encoded data removed]",
      "text/plain": [
       "<Figure size 640x480 with 1 Axes>"
      ]
     },
     "metadata": {},
     "output_type": "display_data"
    }
   ],
   "source": [
    "from matplotlib import pyplot as plt\n",
    "plt.imshow(x_test[0], interpolation='nearest')\n",
    "plt.show()"
   ]
  },
  {
   "cell_type": "code",
   "execution_count": 33,
   "id": "ed544570-8b9a-442c-be9a-e549209fbb66",
   "metadata": {},
   "outputs": [
    {
     "name": "stdout",
     "output_type": "stream",
     "text": [
      "\u001b[1m1/1\u001b[0m \u001b[32m━━━━━━━━━━━━━━━━━━━━\u001b[0m\u001b[37m\u001b[0m \u001b[1m0s\u001b[0m 8ms/step\n"
     ]
    }
   ],
   "source": [
    "predictions = model.predict(x_test[0:1,:])"
   ]
  },
  {
   "cell_type": "code",
   "execution_count": 34,
   "id": "72d527ea-fbe1-43ac-a34e-4d46d5ad7c43",
   "metadata": {},
   "outputs": [
    {
     "data": {
      "text/plain": [
       "array([[1.7192811e-11, 3.8012554e-10, 1.3435869e-08, 2.6205747e-08,\n",
       "        4.7637949e-11, 4.5802633e-12, 4.0442001e-14, 9.9999976e-01,\n",
       "        2.6580352e-10, 1.5983551e-07]], dtype=float32)"
      ]
     },
     "execution_count": 34,
     "metadata": {},
     "output_type": "execute_result"
    }
   ],
   "source": [
    "predictions"
   ]
  },
  {
   "cell_type": "code",
   "execution_count": 35,
   "id": "4acc2f8a-9b58-4c48-8f66-a1f9b1f6b08c",
   "metadata": {},
   "outputs": [],
   "source": [
    "predictions = predictions.argmax(axis=-1).flatten()"
   ]
  },
  {
   "cell_type": "code",
   "execution_count": 36,
   "id": "deb09c94-26ea-4247-b226-d64dc561b972",
   "metadata": {},
   "outputs": [
    {
     "data": {
      "text/plain": [
       "array([7])"
      ]
     },
     "execution_count": 36,
     "metadata": {},
     "output_type": "execute_result"
    }
   ],
   "source": [
    "predictions"
   ]
  },
  {
   "cell_type": "markdown",
   "id": "6aebfe47-24c6-4182-83b8-1fd8707d7176",
   "metadata": {},
   "source": [
    "# Fin: [Volver al contenido del curso](https://www.freecodingtour.com/cursos/espanol/deeplearning/deeplearning.html)"
   ]
  }
 ],
 "metadata": {
  "kernelspec": {
   "display_name": "Python 3 (ipykernel)",
   "language": "python",
   "name": "python3"
  },
  "language_info": {
   "codemirror_mode": {
    "name": "ipython",
    "version": 3
   },
   "file_extension": ".py",
   "mimetype": "text/x-python",
   "name": "python",
   "nbconvert_exporter": "python",
   "pygments_lexer": "ipython3",
   "version": "3.9.7"
  }
 },
 "nbformat": 4,
 "nbformat_minor": 5
}
