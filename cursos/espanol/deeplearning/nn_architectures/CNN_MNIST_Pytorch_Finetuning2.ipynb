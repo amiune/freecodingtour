{
 "cells": [
  {
   "cell_type": "markdown",
   "id": "0ffe360a-bd96-428d-a26e-0554907e8c8c",
   "metadata": {},
   "source": [
    "# CNN con Pytorch\n",
    "\n",
    "Repetimos el ejemplo de Keras pero ahora utilizando Pytorch. Como veremos es mucho mas complejo ya que nos permite definir mas en detalle todo el proceso."
   ]
  },
  {
   "cell_type": "code",
   "execution_count": 1,
   "id": "459a19f6-be89-491f-a719-c59d914cfe68",
   "metadata": {},
   "outputs": [],
   "source": [
    "import os\n",
    "import pandas as pd\n",
    "import numpy as np\n",
    "\n",
    "import torch\n",
    "import torch.nn as nn\n",
    "import torch.nn.functional as F\n",
    "import torch.optim as optim\n",
    "from torch.utils.data import Dataset\n",
    "from torchvision import transforms\n",
    "from torch.optim.lr_scheduler import StepLR\n",
    "\n",
    "torch.manual_seed(42)\n",
    "device = torch.device(\"cuda\" if torch.cuda.is_available() else \"cpu\")"
   ]
  },
  {
   "cell_type": "markdown",
   "id": "06b33e7c-8930-43b3-9fc4-01d98a09cb3e",
   "metadata": {},
   "source": [
    "Definimos la arquitectura de la CNN"
   ]
  },
  {
   "cell_type": "markdown",
   "id": "12b8d564-915f-4d7d-a3f9-5dbca76659d5",
   "metadata": {},
   "source": [
    "Definimos como el modelo debe cargar los datos"
   ]
  },
  {
   "cell_type": "code",
   "execution_count": 2,
   "id": "5bbcbd3d-a2fe-4abb-bcd8-f588393fbf81",
   "metadata": {},
   "outputs": [],
   "source": [
    "class CustomMNISTDataset(Dataset):\n",
    "    def __init__(self, encodings, labels):\n",
    "        self.encodings = encodings\n",
    "        self.labels = labels\n",
    "\n",
    "    def __len__(self):\n",
    "        return len(self.labels)\n",
    "\n",
    "    def __getitem__(self, idx):\n",
    "        image = torch.tensor(self.encodings[idx])\n",
    "        label = F.one_hot(torch.tensor(self.labels[idx]), num_classes=10).float()\n",
    "        return image, label"
   ]
  },
  {
   "cell_type": "markdown",
   "id": "ebba3e15-ce5e-4969-b762-038d10e5810e",
   "metadata": {},
   "source": [
    "Definimos el proceso de entrenamiento paso a paso"
   ]
  },
  {
   "cell_type": "code",
   "execution_count": 3,
   "id": "9e69f539-9be9-49e1-96f9-ee1a014b1102",
   "metadata": {},
   "outputs": [],
   "source": [
    "def train(model, device, train_loader, criterion, optimizer, epoch):\n",
    "    model.train()\n",
    "    for batch_idx, (data, target) in enumerate(train_loader):\n",
    "        data, target = data.to(device), target.to(device)\n",
    "        optimizer.zero_grad()\n",
    "        output = model(data)\n",
    "        loss = criterion(output, target)\n",
    "        loss.backward()\n",
    "        optimizer.step()\n",
    "        if batch_idx % 100 == 0:\n",
    "            print(f'Train Epoch: {epoch} [{batch_idx * len(data)}/{len(train_loader.dataset)} ({100. * batch_idx / len(train_loader):.0f}%)]\\tLoss: {loss.item():.6f}')"
   ]
  },
  {
   "cell_type": "markdown",
   "id": "c730aae3-219e-4adc-961f-75623706e0e0",
   "metadata": {},
   "source": [
    "Definimos el proceso de validacion paso a paso"
   ]
  },
  {
   "cell_type": "code",
   "execution_count": 4,
   "id": "a67e04e7-027b-459a-ad02-cab655b7ab48",
   "metadata": {},
   "outputs": [],
   "source": [
    "def validation(model, device, val_loader, criterion):\n",
    "    model.eval()\n",
    "    val_loss = 0\n",
    "    correct = 0\n",
    "    with torch.no_grad():\n",
    "        for data, target in val_loader:\n",
    "            data, target = data.to(device), target.to(device)\n",
    "            output = model(data)\n",
    "            val_loss += criterion(output, target).item()  # sum up batch loss\n",
    "            pred = output.argmax(dim=1, keepdim=True)  # get the index of the max log-probability\n",
    "            target = target.argmax(dim=1, keepdim=True)\n",
    "            correct += pred.eq(target).sum().item()\n",
    "\n",
    "    val_loss /= len(val_loader.dataset)\n",
    "    print(f'\\nTest set: Average loss: {val_loss:.4f}, Accuracy: {correct}/{len(val_loader.dataset)} ({100. * correct / len(val_loader.dataset):.0f}%)\\n')"
   ]
  },
  {
   "cell_type": "markdown",
   "id": "b03f913e-b00c-44b6-8931-d4bcfd0465d2",
   "metadata": {},
   "source": [
    "Cargamos los datos igual que hicimos antes"
   ]
  },
  {
   "cell_type": "code",
   "execution_count": 5,
   "id": "5067b433-267d-43b4-a1d2-e8dcddcdcf9d",
   "metadata": {},
   "outputs": [],
   "source": [
    "import requests, zipfile, io\n",
    "r = requests.get(\"https://github.com/amiune/freecodingtour/raw/main/cursos/espanol/deeplearning/data/mnist/mnist_train.csv.zip\")\n",
    "with zipfile.ZipFile(io.BytesIO(r.content), 'r') as zip_ref:\n",
    "    zip_ref.extractall(\"./data/mnist/extracted/\")\n",
    "r = requests.get(\"https://github.com/amiune/freecodingtour/raw/main/cursos/espanol/deeplearning/data/mnist/mnist_test.csv.zip\")\n",
    "with zipfile.ZipFile(io.BytesIO(r.content), 'r') as zip_ref:\n",
    "    zip_ref.extractall(\"./data/mnist/extracted/\")"
   ]
  },
  {
   "cell_type": "code",
   "execution_count": 6,
   "id": "900fe51f-dc5e-41bc-a266-f45a2f2f7438",
   "metadata": {},
   "outputs": [],
   "source": [
    "train_df = pd.read_csv(\"./data/mnist/extracted/mnist_train.csv\")\n",
    "\n",
    "x_train = train_df.iloc[:,1:].values\n",
    "y_train = train_df.iloc[:,0].values\n",
    "\n",
    "# Hacer que cada pixel este entre 0 y 1\n",
    "#x_train = x_train.astype(\"float32\") / 255\n",
    "x_train = x_train.astype(np.uint8)\n",
    "\n",
    "\n",
    "# Cambiar la forma de unidimensional de (784) a bidimensional (28, 28, 1)\n",
    "x_train = x_train.reshape(x_train.shape[0], 28, 28, 1)"
   ]
  },
  {
   "cell_type": "markdown",
   "id": "9ca78333-78a7-46d2-8aa8-98923a91c8c5",
   "metadata": {},
   "source": [
    "El input tensor en Keras tiene que tener la forma  **(batch_size, height, width, channels)**\n",
    "\n",
    "El input tensor en PyTorch tiene que tener la forma **(batch_size, channels, height, width)**"
   ]
  },
  {
   "cell_type": "code",
   "execution_count": 7,
   "id": "9ab6bcce-9036-474a-a530-e735d186523f",
   "metadata": {},
   "outputs": [
    {
     "data": {
      "text/plain": [
       "(60000, 28, 28, 1)"
      ]
     },
     "execution_count": 7,
     "metadata": {},
     "output_type": "execute_result"
    }
   ],
   "source": [
    "x_train.shape"
   ]
  },
  {
   "cell_type": "code",
   "execution_count": 8,
   "id": "edd7dee8-8522-464f-b6a0-d420b5975cba",
   "metadata": {},
   "outputs": [],
   "source": [
    "from PIL import Image\n",
    "  \n",
    "# Convertir las imagenes de 1 capa (escala de grises) a 3 capas (RGB)\n",
    "new_x_train = []\n",
    "for i in range(len(x_train)):\n",
    "    PIL_image = Image.fromarray(x_train[i][:,:,0])\n",
    "    PIL_image = PIL_image.convert('RGB')\n",
    "    PIL_image_resized = PIL_image.resize((32,32), Image.Resampling.LANCZOS)\n",
    "    new_x = np.array(PIL_image_resized)\n",
    "    new_x = new_x.astype(\"float32\") / 255\n",
    "    new_x_train.append(new_x)"
   ]
  },
  {
   "cell_type": "code",
   "execution_count": 9,
   "id": "bdee5cbc-7adc-4227-8fc6-710278bf91ab",
   "metadata": {},
   "outputs": [],
   "source": [
    "x_train = np.array(new_x_train)"
   ]
  },
  {
   "cell_type": "code",
   "execution_count": 10,
   "id": "cd1ee217-ca18-4028-b810-0c3fff8e038f",
   "metadata": {},
   "outputs": [
    {
     "data": {
      "text/plain": [
       "(60000, 32, 32, 3)"
      ]
     },
     "execution_count": 10,
     "metadata": {},
     "output_type": "execute_result"
    }
   ],
   "source": [
    "x_train.shape"
   ]
  },
  {
   "cell_type": "code",
   "execution_count": 11,
   "id": "4944a94f-c7f9-4569-8e5f-96bc62683033",
   "metadata": {},
   "outputs": [
    {
     "data": {
      "text/plain": [
       "(60000, 3, 32, 32)"
      ]
     },
     "execution_count": 11,
     "metadata": {},
     "output_type": "execute_result"
    }
   ],
   "source": [
    "x_train.transpose((0, 3, 1, 2)).shape"
   ]
  },
  {
   "cell_type": "code",
   "execution_count": 12,
   "id": "2fc85cf7-47d9-4847-95a2-644fe0db5a2d",
   "metadata": {},
   "outputs": [],
   "source": [
    "x_train = x_train.transpose((0, 3, 1, 2))"
   ]
  },
  {
   "cell_type": "code",
   "execution_count": 13,
   "id": "757b3fbf-bbec-41b8-bfcb-75ed0e19d2a8",
   "metadata": {},
   "outputs": [
    {
     "data": {
      "text/plain": [
       "array([5, 0, 4, ..., 5, 6, 8])"
      ]
     },
     "execution_count": 13,
     "metadata": {},
     "output_type": "execute_result"
    }
   ],
   "source": [
    "y_train"
   ]
  },
  {
   "cell_type": "markdown",
   "id": "1899d618-a352-4d5a-9e87-d1cbc0bc06a6",
   "metadata": {},
   "source": [
    "Separamos manualmente los conjuntos de entrenamiento y validacion.\n",
    "Antes lo hacia automaticamente keras"
   ]
  },
  {
   "cell_type": "code",
   "execution_count": 14,
   "id": "1f13f02e-658f-48bd-bfeb-ea2b637ffc8f",
   "metadata": {},
   "outputs": [],
   "source": [
    "from sklearn.model_selection import train_test_split\n",
    "x_train, x_val, y_train, y_val = train_test_split(x_train, y_train, test_size=0.15, random_state=42)"
   ]
  },
  {
   "cell_type": "code",
   "execution_count": 15,
   "id": "930cc266-b129-4aab-8627-9b89370aebbd",
   "metadata": {},
   "outputs": [],
   "source": [
    "train_dataset = CustomMNISTDataset(x_train, y_train)\n",
    "val_dataset = CustomMNISTDataset(x_val, y_val)\n",
    "\n",
    "train_loader = torch.utils.data.DataLoader(train_dataset, batch_size=64)\n",
    "val_loader = torch.utils.data.DataLoader(val_dataset, batch_size=64)"
   ]
  },
  {
   "cell_type": "code",
   "execution_count": 16,
   "id": "f15c6194-c28b-4770-8598-9b437ca12dd5",
   "metadata": {},
   "outputs": [
    {
     "data": {
      "text/plain": [
       "torch.Size([3, 32, 32])"
      ]
     },
     "execution_count": 16,
     "metadata": {},
     "output_type": "execute_result"
    }
   ],
   "source": [
    "train_dataset[0][0].shape"
   ]
  },
  {
   "cell_type": "code",
   "execution_count": 17,
   "id": "c15bcf86-c385-4220-a430-cbbe4bac791d",
   "metadata": {},
   "outputs": [
    {
     "data": {
      "text/plain": [
       "torch.Size([10])"
      ]
     },
     "execution_count": 17,
     "metadata": {},
     "output_type": "execute_result"
    }
   ],
   "source": [
    "train_dataset[0][1].shape"
   ]
  },
  {
   "cell_type": "code",
   "execution_count": 18,
   "id": "8791191e-3335-4012-bf47-f9d5eb47ecae",
   "metadata": {},
   "outputs": [
    {
     "data": {
      "text/plain": [
       "tensor([0., 0., 0., 0., 1., 0., 0., 0., 0., 0.])"
      ]
     },
     "execution_count": 18,
     "metadata": {},
     "output_type": "execute_result"
    }
   ],
   "source": [
    "train_dataset[0][1]"
   ]
  },
  {
   "cell_type": "code",
   "execution_count": 19,
   "id": "b199726f-068c-4b48-9f92-879ab5235486",
   "metadata": {},
   "outputs": [
    {
     "data": {
      "text/plain": [
       "torch.Size([32, 32, 3])"
      ]
     },
     "execution_count": 19,
     "metadata": {},
     "output_type": "execute_result"
    }
   ],
   "source": [
    "train_dataset[0][0].permute(1, 2, 0).shape"
   ]
  },
  {
   "cell_type": "code",
   "execution_count": 20,
   "id": "7107064e-f969-434c-9c06-75cdb6d2f5e5",
   "metadata": {},
   "outputs": [
    {
     "data": {
      "image/png": "[encoded data removed]",
      "text/plain": [
       "<Figure size 640x480 with 1 Axes>"
      ]
     },
     "metadata": {},
     "output_type": "display_data"
    }
   ],
   "source": [
    "from matplotlib import pyplot as plt\n",
    "plt.imshow(train_dataset[0][0].permute(1, 2, 0), interpolation='nearest')\n",
    "plt.show()"
   ]
  },
  {
   "cell_type": "code",
   "execution_count": 33,
   "id": "24ce7f8b-35da-44ab-9828-ae4bed21788c",
   "metadata": {},
   "outputs": [
    {
     "name": "stderr",
     "output_type": "stream",
     "text": [
      "/Users/hernanamiune/opt/anaconda3/lib/python3.9/site-packages/torchvision/models/_utils.py:208: UserWarning: The parameter 'pretrained' is deprecated since 0.13 and may be removed in the future, please use 'weights' instead.\n",
      "  warnings.warn(\n",
      "/Users/hernanamiune/opt/anaconda3/lib/python3.9/site-packages/torchvision/models/_utils.py:223: UserWarning: Arguments other than a weight enum or `None` for 'weights' are deprecated since 0.13 and may be removed in the future. The current behavior is equivalent to passing `weights=MobileNet_V2_Weights.IMAGENET1K_V1`. You can also use `weights=MobileNet_V2_Weights.DEFAULT` to get the most up-to-date weights.\n",
      "  warnings.warn(msg)\n"
     ]
    },
    {
     "name": "stdout",
     "output_type": "stream",
     "text": [
      "Train Epoch: 1 [0/51000 (0%)]\tLoss: 2.582388\n",
      "Train Epoch: 1 [6400/51000 (13%)]\tLoss: 0.408376\n",
      "Train Epoch: 1 [12800/51000 (25%)]\tLoss: 0.411624\n",
      "Train Epoch: 1 [19200/51000 (38%)]\tLoss: 0.444288\n",
      "Train Epoch: 1 [25600/51000 (50%)]\tLoss: 0.447349\n",
      "Train Epoch: 1 [32000/51000 (63%)]\tLoss: 0.494381\n",
      "Train Epoch: 1 [38400/51000 (75%)]\tLoss: 0.319831\n",
      "Train Epoch: 1 [44800/51000 (88%)]\tLoss: 0.443428\n",
      "\n",
      "Test set: Average loss: 0.0051, Accuracy: 8068/9000 (90%)\n",
      "\n",
      "Train Epoch: 2 [0/51000 (0%)]\tLoss: 0.377638\n",
      "Train Epoch: 2 [6400/51000 (13%)]\tLoss: 0.255722\n",
      "Train Epoch: 2 [12800/51000 (25%)]\tLoss: 0.218561\n",
      "Train Epoch: 2 [19200/51000 (38%)]\tLoss: 0.222641\n",
      "Train Epoch: 2 [25600/51000 (50%)]\tLoss: 0.204527\n",
      "Train Epoch: 2 [32000/51000 (63%)]\tLoss: 0.385991\n",
      "Train Epoch: 2 [38400/51000 (75%)]\tLoss: 0.235446\n",
      "Train Epoch: 2 [44800/51000 (88%)]\tLoss: 0.330158\n",
      "\n",
      "Test set: Average loss: 0.0048, Accuracy: 8124/9000 (90%)\n",
      "\n",
      "Train Epoch: 3 [0/51000 (0%)]\tLoss: 0.331655\n",
      "Train Epoch: 3 [6400/51000 (13%)]\tLoss: 0.193527\n",
      "Train Epoch: 3 [12800/51000 (25%)]\tLoss: 0.144483\n",
      "Train Epoch: 3 [19200/51000 (38%)]\tLoss: 0.149954\n",
      "Train Epoch: 3 [25600/51000 (50%)]\tLoss: 0.161612\n",
      "Train Epoch: 3 [32000/51000 (63%)]\tLoss: 0.247177\n",
      "Train Epoch: 3 [38400/51000 (75%)]\tLoss: 0.173137\n",
      "Train Epoch: 3 [44800/51000 (88%)]\tLoss: 0.249430\n",
      "\n",
      "Test set: Average loss: 0.0048, Accuracy: 8178/9000 (91%)\n",
      "\n"
     ]
    }
   ],
   "source": [
    "import torchvision.models as models\n",
    "model = models.mobilenet_v2(pretrained=True)\n",
    "\n",
    "# Obtenemos los parametros y hacemos que no sean actualizables por el gradiente\n",
    "for param in model.parameters():\n",
    "    param.requires_grad = False\n",
    "    \n",
    "for param in model.features[15].parameters():\n",
    "    param.requires_grad = True\n",
    "\n",
    "model.classifier[1] = nn.Linear(model.last_channel, 10)\n",
    "\n",
    "model.to(device)\n",
    "\n",
    "criterion = nn.CrossEntropyLoss()\n",
    "optimizer = torch.optim.Adam(model.parameters())\n",
    "\n",
    "for epoch in range(1, 4):\n",
    "    train(model, device, train_loader, criterion, optimizer, epoch)\n",
    "    validation(model, device, val_loader, criterion)\n",
    "\n",
    "#torch.save(model.state_dict(), \"mnist_cnn.pt\")"
   ]
  },
  {
   "cell_type": "code",
   "execution_count": 34,
   "id": "11578344-cd86-4b4f-a490-a0e229207946",
   "metadata": {},
   "outputs": [],
   "source": [
    "test = pd.read_csv(\"./data/mnist/extracted/mnist_test.csv\")\n",
    "\n",
    "x_test = test.iloc[:,1:].values\n",
    "y_test = test.iloc[:,0].values\n",
    "\n",
    "# Hacer que cada pixel este entre 0 y 1\n",
    "#x_test = x_test.astype(\"float32\") / 255\n",
    "x_test = x_test.astype(np.uint8)\n",
    "  \n",
    "# Cambiar la forma de unidimensional de (784) a bidimensional (28, 28, 1)\n",
    "x_test = x_test.reshape(x_test.shape[0], 28, 28, 1)\n",
    "\n",
    "# Convertir las imagenes de 1 capa (escala de grises) a 3 capas (RGB)\n",
    "new_x_test = []\n",
    "for i in range(len(x_test)):\n",
    "    PIL_image = Image.fromarray(x_test[i][:,:,0])\n",
    "    PIL_image = PIL_image.convert('RGB')\n",
    "    PIL_image_resized = PIL_image.resize((32,32), Image.Resampling.LANCZOS)\n",
    "    new_x = np.array(PIL_image_resized)\n",
    "    new_x = new_x.astype(\"float32\") / 255\n",
    "    new_x_test.append(new_x)\n",
    "    \n",
    "x_test = np.array(new_x_test)\n",
    "\n",
    "#Cambiar al formato de pytorch\n",
    "x_test = x_test.transpose((0, 3, 1, 2))"
   ]
  },
  {
   "cell_type": "code",
   "execution_count": 35,
   "id": "9fbfff04-af51-40a8-844c-4f26b0c8f89d",
   "metadata": {},
   "outputs": [
    {
     "data": {
      "text/plain": [
       "(1, 3, 32, 32)"
      ]
     },
     "execution_count": 35,
     "metadata": {},
     "output_type": "execute_result"
    }
   ],
   "source": [
    "x_test[0:1,:].shape #(batch_size, layers, witdh, height)"
   ]
  },
  {
   "cell_type": "code",
   "execution_count": 36,
   "id": "884cde6e-300c-4ccd-937f-fbb4797e041e",
   "metadata": {},
   "outputs": [
    {
     "data": {
      "text/plain": [
       "torch.Size([1, 3, 32, 32])"
      ]
     },
     "execution_count": 36,
     "metadata": {},
     "output_type": "execute_result"
    }
   ],
   "source": [
    "tensor = torch.tensor(x_test[0:1,:]).to(device)\n",
    "tensor.shape"
   ]
  },
  {
   "cell_type": "code",
   "execution_count": 37,
   "id": "fbe41556-66fa-4c69-a7cf-bb2a69a06c96",
   "metadata": {},
   "outputs": [
    {
     "data": {
      "image/png": "[encoded data removed]",
      "text/plain": [
       "<Figure size 640x480 with 1 Axes>"
      ]
     },
     "metadata": {},
     "output_type": "display_data"
    }
   ],
   "source": [
    "from matplotlib import pyplot as plt\n",
    "plt.imshow(tensor[0].permute(1, 2, 0), interpolation='nearest')\n",
    "plt.show()"
   ]
  },
  {
   "cell_type": "code",
   "execution_count": 38,
   "id": "c3edc307-56df-4960-b401-358a557e3ee3",
   "metadata": {},
   "outputs": [],
   "source": [
    "model.eval()\n",
    "with torch.no_grad():\n",
    "    predictions = model(tensor)"
   ]
  },
  {
   "cell_type": "code",
   "execution_count": 39,
   "id": "c047ebf0-d6ff-4573-9bcb-95f14ba6287e",
   "metadata": {},
   "outputs": [
    {
     "data": {
      "text/plain": [
       "tensor([[ -8.9352,  -4.6080,  -0.6466,  -3.8957,  -1.4508,  -5.8684, -14.7052,\n",
       "           8.4866,  -5.4879,  -4.1535]])"
      ]
     },
     "execution_count": 39,
     "metadata": {},
     "output_type": "execute_result"
    }
   ],
   "source": [
    "predictions"
   ]
  },
  {
   "cell_type": "code",
   "execution_count": 40,
   "id": "f33b9373-77c8-4ce7-a88d-40e7af443e48",
   "metadata": {},
   "outputs": [
    {
     "data": {
      "text/plain": [
       "tensor([7])"
      ]
     },
     "execution_count": 40,
     "metadata": {},
     "output_type": "execute_result"
    }
   ],
   "source": [
    "predictions.argmax(axis=-1).flatten()"
   ]
  },
  {
   "cell_type": "markdown",
   "id": "d22e9adc-3c5f-4ec0-9c48-ead11abed2c0",
   "metadata": {},
   "source": [
    "# Fin: [Volver al contenido del curso](https://www.freecodingtour.com/cursos/espanol/deeplearning/deeplearning.html)"
   ]
  },
  {
   "cell_type": "markdown",
   "id": "b8c7230e-a643-4a50-b89a-dc51271a8303",
   "metadata": {},
   "source": [
    "## Referencias:\n",
    "\n",
    "- https://github.com/pytorch/examples/blob/main/mnist/main.py\n",
    "- https://www.kaggle.com/datasets/oddrationale/mnist-in-csv"
   ]
  }
 ],
 "metadata": {
  "kernelspec": {
   "display_name": "Python 3 (ipykernel)",
   "language": "python",
   "name": "python3"
  },
  "language_info": {
   "codemirror_mode": {
    "name": "ipython",
    "version": 3
   },
   "file_extension": ".py",
   "mimetype": "text/x-python",
   "name": "python",
   "nbconvert_exporter": "python",
   "pygments_lexer": "ipython3",
   "version": "3.9.7"
  }
 },
 "nbformat": 4,
 "nbformat_minor": 5
}
