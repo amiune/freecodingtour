{
 "cells": [
  {
   "cell_type": "markdown",
   "id": "5b893fb7-d8f2-4098-98a7-2bb3f959fa85",
   "metadata": {},
   "source": [
    "# Transformer Architecture\n",
    "\n",
    "[Transformer Visualization](https://bbycroft.net/llm)\n",
    "\n",
    "[Attention Visualization](https://github.com/jessevig/bertviz)\n",
    "\n",
    "[Self Attention Layer Explanation by Sebastian Raschka](https://magazine.sebastianraschka.com/p/understanding-and-coding-self-attention)\n",
    "\n",
    "[Implement a transformer from scratch with pytorch by Andrej Karpathy (OpenAI, Stanford)](https://www.youtube.com/watch?v=kCc8FmEb1nY)\n",
    "\n",
    "[The Illustrated Transformer by Jay Alammar](https://jalammar.github.io/illustrated-transformer/)\n",
    "\n",
    "[Step by step without math by Miguel Grinberg](https://blog.miguelgrinberg.com/post/how-llms-work-explained-without-math)\n",
    "\n",
    "[Original Attention Is All You Need paper with code](https://nlp.seas.harvard.edu/2018/04/03/attention.html)\n",
    "\n",
    "[Deep NN course by Francois Fleuret](https://fleuret.org/dlc/)\n",
    "\n",
    "------------------------------\n",
    "\n",
    "[CS224N: Natural Language Processing with Deep Learning\n",
    "Stanford / Spring 2024](https://web.stanford.edu/class/cs224n/)\n",
    "\n",
    "[Stanford CS224N: Natural Language Processing with Deep Learning | 2023](https://www.youtube.com/playlist?list=PLoROMvodv4rMFqRtEuo6SGjY4XbRIVRd4)\n",
    "\n",
    "[Stanford CS224N NLP with Deep Learning | 2023](https://www.youtube.com/playlist?list=PL613dYIGMXoZ0Wl6tj8VvHaFUTAWE8fbW)\n",
    "\n",
    "------------------------------\n",
    "\n",
    "[Mapping the Mind of a Large Language Model by Anthropic](https://www.anthropic.com/news/mapping-mind-language-model)\n",
    "\n",
    "[Extracting Concepts from GPT-4\n",
    "](https://openai.com/index/extracting-concepts-from-gpt-4/)"
   ]
  },
  {
   "cell_type": "markdown",
   "id": "edb781c5-721d-4954-a1e2-8b15397bde41",
   "metadata": {},
   "source": [
    "# Fin: [Volver al contenido del curso](https://www.freecodingtour.com/cursos/espanol/deeplearning/deeplearning.html)"
   ]
  }
 ],
 "metadata": {
  "kernelspec": {
   "display_name": "Python 3 (ipykernel)",
   "language": "python",
   "name": "python3"
  },
  "language_info": {
   "codemirror_mode": {
    "name": "ipython",
    "version": 3
   },
   "file_extension": ".py",
   "mimetype": "text/x-python",
   "name": "python",
   "nbconvert_exporter": "python",
   "pygments_lexer": "ipython3",
   "version": "3.9.18"
  }
 },
 "nbformat": 4,
 "nbformat_minor": 5
}
