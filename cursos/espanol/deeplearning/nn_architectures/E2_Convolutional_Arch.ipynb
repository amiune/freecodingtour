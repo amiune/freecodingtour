{
 "cells": [
  {
   "cell_type": "markdown",
   "id": "7e1e9e37-db00-4140-b173-6d43dc76577f",
   "metadata": {},
   "source": [
    "# Redes Convolucionales\n",
    "\n",
    "Aqui proporciono enlaces para que los mas curiosos puedan entender en profundidad el funcionamiento de las redes convolucionales:\n",
    "\n",
    "- [Visualizacion](https://adamharley.com/nn_vis/)\n",
    "- [Visualizacion con explicacion](https://poloclub.github.io/cnn-explainer/)\n",
    "- [NYU Deep Learning SP20](https://www.youtube.com/playlist?list=PLLHTzKZzVU9eaEyErdV26ikyolxOsz6mq)\n",
    "- [Deep NN course by Francois Fleuret](https://fleuret.org/dlc/)\n",
    "- [The little book of Deep Learning by Francois Fleuret](https://fleuret.org/public/lbdl.pdf)"
   ]
  },
  {
   "cell_type": "markdown",
   "id": "cacb6115-8e60-44bc-843b-3340a38ca3bd",
   "metadata": {},
   "source": [
    "## Redes Convolucionales en la Practica\n",
    "\n",
    "Aqui he creado tutoriales para crear las redes convolucionales en colab desde cero y tambien de como hacer finetunning usando keras y pytorch \n",
    "\n",
    "- [CNN con Keras](https://colab.research.google.com/github/amiune/freecodingtour/blob/main/cursos/espanol/deeplearning/nn_architectures/CNN_MNIST_Keras.ipynb)\n",
    "- [CNN con Pytorch](https://colab.research.google.com/github/amiune/freecodingtour/blob/main/cursos/espanol/deeplearning/nn_architectures/CNN_MNIST_Pytorch.ipynb)\n",
    "- [CNN Finetuning con Pytorch](https://colab.research.google.com/github/amiune/freecodingtour/blob/main/cursos/espanol/deeplearning/nn_architectures/CNN_MNIST_Pytorch_Finetuning1.ipynb)\n",
    "- [CNN Finetuning 2 con Pytorch](https://colab.research.google.com/github/amiune/freecodingtour/blob/main/cursos/espanol/deeplearning/nn_architectures/CNN_MNIST_Pytorch_Finetuning2.ipynb)\n",
    "- [CNN Finetuning usando Transforms con Pytorch](https://colab.research.google.com/github/amiune/freecodingtour/blob/main/cursos/espanol/deeplearning/nn_architectures/CNN_SnaksDB_Pytorch_Finetuning_with_Transforms.ipynb)"
   ]
  },
  {
   "cell_type": "markdown",
   "id": "947e1cc0-936e-4814-a9a4-e15a9bcc4d76",
   "metadata": {},
   "source": [
    "# Fin: [Volver al contenido del curso](https://www.freecodingtour.com/cursos/espanol/deeplearning/deeplearning.html)"
   ]
  }
 ],
 "metadata": {
  "kernelspec": {
   "display_name": "Python 3 (ipykernel)",
   "language": "python",
   "name": "python3"
  },
  "language_info": {
   "codemirror_mode": {
    "name": "ipython",
    "version": 3
   },
   "file_extension": ".py",
   "mimetype": "text/x-python",
   "name": "python",
   "nbconvert_exporter": "python",
   "pygments_lexer": "ipython3",
   "version": "3.12.4"
  }
 },
 "nbformat": 4,
 "nbformat_minor": 5
}
