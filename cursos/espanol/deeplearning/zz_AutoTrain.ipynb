{
 "cells": [
  {
   "cell_type": "markdown",
   "id": "133db5c9-1036-443f-9914-de8cd7c4477d",
   "metadata": {},
   "source": [
    "# Autotrain\n",
    "\n",
    "Finetuning de Transformers sin codigo:\n",
    "\n",
    "- https://www.youtube.com/watch?v=2RgadGrQz3o\n",
    "- https://www.youtube.com/watch?v=hWnijmsjNxM\n",
    "\n",
    "\n",
    "Mi space:\n",
    "- https://huggingface.co/spaces/amiune/autotrain"
   ]
  },
  {
   "cell_type": "code",
   "execution_count": null,
   "id": "be70c24b-09c2-4a42-a558-a504dd3fb281",
   "metadata": {},
   "outputs": [],
   "source": []
  }
 ],
 "metadata": {
  "kernelspec": {
   "display_name": "Python 3 (ipykernel)",
   "language": "python",
   "name": "python3"
  },
  "language_info": {
   "codemirror_mode": {
    "name": "ipython",
    "version": 3
   },
   "file_extension": ".py",
   "mimetype": "text/x-python",
   "name": "python",
   "nbconvert_exporter": "python",
   "pygments_lexer": "ipython3",
   "version": "3.9.7"
  }
 },
 "nbformat": 4,
 "nbformat_minor": 5
}
