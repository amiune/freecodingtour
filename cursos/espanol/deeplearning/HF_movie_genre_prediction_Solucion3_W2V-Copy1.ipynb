{
 "cells": [
  {
   "cell_type": "code",
   "execution_count": 1,
   "id": "86402841-8854-4555-9e86-92facaf5ae94",
   "metadata": {},
   "outputs": [],
   "source": [
    "#https://arxiv.org/abs/1405.4053\n",
    "#https://radimrehurek.com/gensim/models/doc2vec.html\n",
    "#https://radimrehurek.com/gensim/auto_examples/tutorials/run_doc2vec_lee.html\n",
    "#https://medium.com/@mishra.thedeepak/doc2vec-simple-implementation-example-df2afbbfbad5"
   ]
  },
  {
   "cell_type": "code",
   "execution_count": 2,
   "id": "ca3bad83-5c22-41fe-b09a-90c49ad51f71",
   "metadata": {},
   "outputs": [],
   "source": [
    "import pandas as pd"
   ]
  },
  {
   "cell_type": "code",
   "execution_count": 3,
   "id": "e4feb535-309e-4679-ae4b-08323c556ab2",
   "metadata": {},
   "outputs": [],
   "source": [
    "df_train = pd.read_parquet('./data/movie-genre-prediction/train.parquet', engine='pyarrow')\n",
    "df_test = pd.read_parquet('./data/movie-genre-prediction/test.parquet', engine='pyarrow')"
   ]
  },
  {
   "cell_type": "code",
   "execution_count": 4,
   "id": "5845ddc4-c885-4e7e-99e2-1fc090ce74b9",
   "metadata": {},
   "outputs": [
    {
     "data": {
      "text/html": [
       "<div>\n",
       "<style scoped>\n",
       "    .dataframe tbody tr th:only-of-type {\n",
       "        vertical-align: middle;\n",
       "    }\n",
       "\n",
       "    .dataframe tbody tr th {\n",
       "        vertical-align: top;\n",
       "    }\n",
       "\n",
       "    .dataframe thead th {\n",
       "        text-align: right;\n",
       "    }\n",
       "</style>\n",
       "<table border=\"1\" class=\"dataframe\">\n",
       "  <thead>\n",
       "    <tr style=\"text-align: right;\">\n",
       "      <th></th>\n",
       "      <th>id</th>\n",
       "      <th>movie_name</th>\n",
       "      <th>synopsis</th>\n",
       "      <th>genre</th>\n",
       "    </tr>\n",
       "  </thead>\n",
       "  <tbody>\n",
       "    <tr>\n",
       "      <th>0</th>\n",
       "      <td>44978</td>\n",
       "      <td>Super Me</td>\n",
       "      <td>A young scriptwriter starts bringing valuable ...</td>\n",
       "      <td>fantasy</td>\n",
       "    </tr>\n",
       "    <tr>\n",
       "      <th>1</th>\n",
       "      <td>50185</td>\n",
       "      <td>Entity Project</td>\n",
       "      <td>A director and her friends renting a haunted h...</td>\n",
       "      <td>horror</td>\n",
       "    </tr>\n",
       "    <tr>\n",
       "      <th>2</th>\n",
       "      <td>34131</td>\n",
       "      <td>Behavioral Family Therapy for Serious Psychiat...</td>\n",
       "      <td>This is an educational video for families and ...</td>\n",
       "      <td>family</td>\n",
       "    </tr>\n",
       "    <tr>\n",
       "      <th>3</th>\n",
       "      <td>78522</td>\n",
       "      <td>Blood Glacier</td>\n",
       "      <td>Scientists working in the Austrian Alps discov...</td>\n",
       "      <td>scifi</td>\n",
       "    </tr>\n",
       "    <tr>\n",
       "      <th>4</th>\n",
       "      <td>2206</td>\n",
       "      <td>Apat na anino</td>\n",
       "      <td>Buy Day - Four Men Widely - Apart in Life - By...</td>\n",
       "      <td>action</td>\n",
       "    </tr>\n",
       "  </tbody>\n",
       "</table>\n",
       "</div>"
      ],
      "text/plain": [
       "      id                                         movie_name  \\\n",
       "0  44978                                           Super Me   \n",
       "1  50185                                     Entity Project   \n",
       "2  34131  Behavioral Family Therapy for Serious Psychiat...   \n",
       "3  78522                                      Blood Glacier   \n",
       "4   2206                                      Apat na anino   \n",
       "\n",
       "                                            synopsis    genre  \n",
       "0  A young scriptwriter starts bringing valuable ...  fantasy  \n",
       "1  A director and her friends renting a haunted h...   horror  \n",
       "2  This is an educational video for families and ...   family  \n",
       "3  Scientists working in the Austrian Alps discov...    scifi  \n",
       "4  Buy Day - Four Men Widely - Apart in Life - By...   action  "
      ]
     },
     "execution_count": 4,
     "metadata": {},
     "output_type": "execute_result"
    }
   ],
   "source": [
    "df_train.head()"
   ]
  },
  {
   "cell_type": "code",
   "execution_count": 5,
   "id": "294280cc-6ab5-44be-864f-6232f1475c7a",
   "metadata": {},
   "outputs": [
    {
     "data": {
      "text/plain": [
       "(54000, 4)"
      ]
     },
     "execution_count": 5,
     "metadata": {},
     "output_type": "execute_result"
    }
   ],
   "source": [
    "df_train.shape"
   ]
  },
  {
   "cell_type": "code",
   "execution_count": 6,
   "id": "f7da1477-476a-4298-9c3b-45958ade4389",
   "metadata": {},
   "outputs": [
    {
     "data": {
      "text/plain": [
       "['fantasy',\n",
       " 'horror',\n",
       " 'family',\n",
       " 'scifi',\n",
       " 'action',\n",
       " 'crime',\n",
       " 'adventure',\n",
       " 'mystery',\n",
       " 'romance',\n",
       " 'thriller']"
      ]
     },
     "execution_count": 6,
     "metadata": {},
     "output_type": "execute_result"
    }
   ],
   "source": [
    "genres_list = list(df_train.genre.unique())\n",
    "genres_list"
   ]
  },
  {
   "cell_type": "code",
   "execution_count": 7,
   "id": "397ef5a1-8488-4b96-a5b0-d7ebc09689e8",
   "metadata": {},
   "outputs": [
    {
     "data": {
      "text/plain": [
       "(36000, 4)"
      ]
     },
     "execution_count": 7,
     "metadata": {},
     "output_type": "execute_result"
    }
   ],
   "source": [
    "df_test.shape"
   ]
  },
  {
   "cell_type": "code",
   "execution_count": 8,
   "id": "e583deab-a6ee-489b-84ec-3609aa8c9bc1",
   "metadata": {},
   "outputs": [
    {
     "data": {
      "text/html": [
       "<div>\n",
       "<style scoped>\n",
       "    .dataframe tbody tr th:only-of-type {\n",
       "        vertical-align: middle;\n",
       "    }\n",
       "\n",
       "    .dataframe tbody tr th {\n",
       "        vertical-align: top;\n",
       "    }\n",
       "\n",
       "    .dataframe thead th {\n",
       "        text-align: right;\n",
       "    }\n",
       "</style>\n",
       "<table border=\"1\" class=\"dataframe\">\n",
       "  <thead>\n",
       "    <tr style=\"text-align: right;\">\n",
       "      <th></th>\n",
       "      <th>id</th>\n",
       "      <th>movie_name</th>\n",
       "      <th>synopsis</th>\n",
       "      <th>genre</th>\n",
       "      <th>text</th>\n",
       "    </tr>\n",
       "  </thead>\n",
       "  <tbody>\n",
       "    <tr>\n",
       "      <th>0</th>\n",
       "      <td>44978</td>\n",
       "      <td>Super Me</td>\n",
       "      <td>A young scriptwriter starts bringing valuable ...</td>\n",
       "      <td>fantasy</td>\n",
       "      <td>super me. a young scriptwriter starts bringing...</td>\n",
       "    </tr>\n",
       "    <tr>\n",
       "      <th>1</th>\n",
       "      <td>50185</td>\n",
       "      <td>Entity Project</td>\n",
       "      <td>A director and her friends renting a haunted h...</td>\n",
       "      <td>horror</td>\n",
       "      <td>entity project. a director and her friends ren...</td>\n",
       "    </tr>\n",
       "    <tr>\n",
       "      <th>2</th>\n",
       "      <td>34131</td>\n",
       "      <td>Behavioral Family Therapy for Serious Psychiat...</td>\n",
       "      <td>This is an educational video for families and ...</td>\n",
       "      <td>family</td>\n",
       "      <td>behavioral family therapy for serious psychiat...</td>\n",
       "    </tr>\n",
       "    <tr>\n",
       "      <th>3</th>\n",
       "      <td>78522</td>\n",
       "      <td>Blood Glacier</td>\n",
       "      <td>Scientists working in the Austrian Alps discov...</td>\n",
       "      <td>scifi</td>\n",
       "      <td>blood glacier. scientists working in the austr...</td>\n",
       "    </tr>\n",
       "    <tr>\n",
       "      <th>4</th>\n",
       "      <td>2206</td>\n",
       "      <td>Apat na anino</td>\n",
       "      <td>Buy Day - Four Men Widely - Apart in Life - By...</td>\n",
       "      <td>action</td>\n",
       "      <td>apat na anino. buy day - four men widely - apa...</td>\n",
       "    </tr>\n",
       "  </tbody>\n",
       "</table>\n",
       "</div>"
      ],
      "text/plain": [
       "      id                                         movie_name  \\\n",
       "0  44978                                           Super Me   \n",
       "1  50185                                     Entity Project   \n",
       "2  34131  Behavioral Family Therapy for Serious Psychiat...   \n",
       "3  78522                                      Blood Glacier   \n",
       "4   2206                                      Apat na anino   \n",
       "\n",
       "                                            synopsis    genre  \\\n",
       "0  A young scriptwriter starts bringing valuable ...  fantasy   \n",
       "1  A director and her friends renting a haunted h...   horror   \n",
       "2  This is an educational video for families and ...   family   \n",
       "3  Scientists working in the Austrian Alps discov...    scifi   \n",
       "4  Buy Day - Four Men Widely - Apart in Life - By...   action   \n",
       "\n",
       "                                                text  \n",
       "0  super me. a young scriptwriter starts bringing...  \n",
       "1  entity project. a director and her friends ren...  \n",
       "2  behavioral family therapy for serious psychiat...  \n",
       "3  blood glacier. scientists working in the austr...  \n",
       "4  apat na anino. buy day - four men widely - apa...  "
      ]
     },
     "execution_count": 8,
     "metadata": {},
     "output_type": "execute_result"
    }
   ],
   "source": [
    "df_train[\"text\"] = df_train.movie_name.str.lower() + \". \" + df_train.synopsis.str.lower()\n",
    "df_train.head()"
   ]
  },
  {
   "cell_type": "code",
   "execution_count": 9,
   "id": "1617999e-bd4b-4408-946a-48d88dab6ed4",
   "metadata": {},
   "outputs": [],
   "source": [
    "from sklearn.model_selection import train_test_split\n",
    "X_train, X_val, y_train, y_val = train_test_split(df_train[\"text\"], \n",
    "                                                  df_train[\"genre\"], \n",
    "                                                  test_size=0.30, \n",
    "                                                  stratify=df_train[\"genre\"],\n",
    "                                                  random_state=42)"
   ]
  },
  {
   "cell_type": "code",
   "execution_count": 10,
   "id": "5b06885b-01a1-4113-91d0-05149b6c4775",
   "metadata": {},
   "outputs": [
    {
     "name": "stderr",
     "output_type": "stream",
     "text": [
      "[nltk_data] Downloading package punkt to\n",
      "[nltk_data]     /Users/hernanamiune/nltk_data...\n",
      "[nltk_data]   Package punkt is already up-to-date!\n"
     ]
    },
    {
     "data": {
      "text/plain": [
       "True"
      ]
     },
     "execution_count": 10,
     "metadata": {},
     "output_type": "execute_result"
    }
   ],
   "source": [
    "import nltk\n",
    "nltk.download('punkt')"
   ]
  },
  {
   "cell_type": "code",
   "execution_count": 11,
   "id": "76ec520b-12cb-465e-a4c7-bab3a70e8ab9",
   "metadata": {},
   "outputs": [
    {
     "name": "stdout",
     "output_type": "stream",
     "text": [
      "Intel MKL WARNING: Support of Intel(R) Streaming SIMD Extensions 4.2 (Intel(R) SSE4.2) enabled only processors has been deprecated. Intel oneAPI Math Kernel Library 2025.0 will require Intel(R) Advanced Vector Extensions (Intel(R) AVX) instructions.\n",
      "['super', 'me', '.', 'a', 'young', 'scriptwriter', 'starts', 'bringing', 'valuable', 'objects', 'back', 'from', 'his', 'short', 'nightmares', 'of', 'being', 'chased', 'by', 'a', 'demon', '.', 'selling', 'them', 'makes', 'him', 'rich', '.']\n"
     ]
    }
   ],
   "source": [
    "from gensim.models.doc2vec import Doc2Vec, TaggedDocument\n",
    "from nltk.tokenize import word_tokenize\n",
    "print(word_tokenize(df_train.iloc[0,:][\"text\"]))"
   ]
  },
  {
   "cell_type": "code",
   "execution_count": 56,
   "id": "77c270b9-ab91-4dcb-901a-bf1af3917263",
   "metadata": {},
   "outputs": [],
   "source": [
    "X_train_tokens = [TaggedDocument(words=word_tokenize(d), \n",
    "                              tags=[i]) for i, d in enumerate(X_train)]"
   ]
  },
  {
   "cell_type": "code",
   "execution_count": 57,
   "id": "62038907-e230-47a6-bc21-4de59adc519b",
   "metadata": {},
   "outputs": [
    {
     "data": {
      "text/plain": [
       "TaggedDocument(words=['iron', 'man', '.', 'after', 'being', 'held', 'captive', 'in', 'an', 'afghan', 'cave', ',', 'billionaire', 'engineer', 'tony', 'stark', 'creates', 'a', 'unique', 'weaponized', 'suit', 'of', 'armor', 'to', 'fight', 'evil', '.'], tags=[0])"
      ]
     },
     "execution_count": 57,
     "metadata": {},
     "output_type": "execute_result"
    }
   ],
   "source": [
    "X_train_tokens[0]"
   ]
  },
  {
   "cell_type": "code",
   "execution_count": 58,
   "id": "59a7d98d-b2fb-475c-99d7-6657b66faeea",
   "metadata": {},
   "outputs": [],
   "source": [
    "model = Doc2Vec(vector_size=2000,min_count=2,epochs=40,window=20)"
   ]
  },
  {
   "cell_type": "code",
   "execution_count": 59,
   "id": "baebd940-00df-4a3b-b587-6a6e23cd3de5",
   "metadata": {},
   "outputs": [],
   "source": [
    "model.build_vocab(X_train_tokens)"
   ]
  },
  {
   "cell_type": "code",
   "execution_count": 60,
   "id": "e0f74c89-d9fb-4ec2-b4b6-2d39460a4c10",
   "metadata": {},
   "outputs": [],
   "source": [
    "from gensim.models.callbacks import CallbackAny2Vec\n",
    "class callback(CallbackAny2Vec):\n",
    "    def __init__(self):\n",
    "        self.epoch = 1\n",
    "    def on_epoch_end(self, model):\n",
    "        if self.epoch % 1 == 0:\n",
    "            print(f\"Epoch {self.epoch} finished\")\n",
    "        self.epoch += 1"
   ]
  },
  {
   "cell_type": "code",
   "execution_count": 61,
   "id": "833eb57f-08c8-4526-9f13-b7707c8fe050",
   "metadata": {},
   "outputs": [
    {
     "name": "stdout",
     "output_type": "stream",
     "text": [
      "Epoch 1 finished\n",
      "Epoch 2 finished\n",
      "Epoch 3 finished\n",
      "Epoch 4 finished\n",
      "Epoch 5 finished\n",
      "Epoch 6 finished\n",
      "Epoch 7 finished\n",
      "Epoch 8 finished\n",
      "Epoch 9 finished\n",
      "Epoch 10 finished\n",
      "Epoch 11 finished\n",
      "Epoch 12 finished\n",
      "Epoch 13 finished\n",
      "Epoch 14 finished\n",
      "Epoch 15 finished\n",
      "Epoch 16 finished\n",
      "Epoch 17 finished\n",
      "Epoch 18 finished\n",
      "Epoch 19 finished\n",
      "Epoch 20 finished\n",
      "Epoch 21 finished\n",
      "Epoch 22 finished\n",
      "Epoch 23 finished\n",
      "Epoch 24 finished\n",
      "Epoch 25 finished\n",
      "Epoch 26 finished\n",
      "Epoch 27 finished\n",
      "Epoch 28 finished\n",
      "Epoch 29 finished\n",
      "Epoch 30 finished\n",
      "Epoch 31 finished\n",
      "Epoch 32 finished\n",
      "Epoch 33 finished\n",
      "Epoch 34 finished\n",
      "Epoch 35 finished\n",
      "Epoch 36 finished\n",
      "Epoch 37 finished\n",
      "Epoch 38 finished\n",
      "Epoch 39 finished\n",
      "Epoch 40 finished\n",
      "Train finished\n"
     ]
    }
   ],
   "source": [
    "model.train(X_train_tokens,\n",
    "            total_examples=model.corpus_count, \n",
    "            epochs=model.epochs,\n",
    "            callbacks=[callback()])\n",
    "print(\"Train finished\")"
   ]
  },
  {
   "cell_type": "code",
   "execution_count": 62,
   "id": "a47168ed-8033-42fc-8fa3-855e9f1725c8",
   "metadata": {},
   "outputs": [
    {
     "data": {
      "text/plain": [
       "37800"
      ]
     },
     "execution_count": 62,
     "metadata": {},
     "output_type": "execute_result"
    }
   ],
   "source": [
    "len(model.dv)"
   ]
  },
  {
   "cell_type": "code",
   "execution_count": 63,
   "id": "d81461bd-923a-49eb-81f0-c172f92aa86c",
   "metadata": {},
   "outputs": [
    {
     "name": "stdout",
     "output_type": "stream",
     "text": [
      "Modelo Guardado\n"
     ]
    }
   ],
   "source": [
    "model.save(\"d2v_vs2000_w20.model\")\n",
    "print(\"Modelo Guardado\")"
   ]
  },
  {
   "cell_type": "code",
   "execution_count": null,
   "id": "7eb20991-d520-4caf-8201-8127a0ffe31a",
   "metadata": {},
   "outputs": [],
   "source": []
  },
  {
   "cell_type": "code",
   "execution_count": 64,
   "id": "0b95699b-40ab-46ea-9b31-e9d8bf3e2ad0",
   "metadata": {},
   "outputs": [
    {
     "data": {
      "text/plain": [
       "array([ 0.07417507,  0.02801843,  0.15312947,  0.07937381,  0.03501932,\n",
       "        0.02198828, -0.13884205,  0.0979145 ,  0.08372234, -0.12045726],\n",
       "      dtype=float32)"
      ]
     },
     "execution_count": 64,
     "metadata": {},
     "output_type": "execute_result"
    }
   ],
   "source": [
    "model.dv[0][0:10]"
   ]
  },
  {
   "cell_type": "code",
   "execution_count": 65,
   "id": "ee5ad48c-bca0-46b7-a843-fb22f9f44938",
   "metadata": {},
   "outputs": [],
   "source": [
    "X_train_tokens2 = X_train.apply(word_tokenize)"
   ]
  },
  {
   "cell_type": "code",
   "execution_count": 66,
   "id": "8279b758-9beb-4774-9e3e-02ab5c9e4c36",
   "metadata": {},
   "outputs": [],
   "source": [
    "X_train_vect = X_train_tokens2.apply(model.infer_vector)"
   ]
  },
  {
   "cell_type": "code",
   "execution_count": 67,
   "id": "3a8e95d3-5efd-465c-aece-016938fa2078",
   "metadata": {},
   "outputs": [],
   "source": [
    "X_train_vect = np.array([np.array(v) for v in X_train_vect])"
   ]
  },
  {
   "cell_type": "code",
   "execution_count": 68,
   "id": "9cdaf269-199b-4821-b8c3-2c8440ce0bd3",
   "metadata": {},
   "outputs": [
    {
     "data": {
      "text/plain": [
       "(37800, 2000)"
      ]
     },
     "execution_count": 68,
     "metadata": {},
     "output_type": "execute_result"
    }
   ],
   "source": [
    "X_train_vect.shape"
   ]
  },
  {
   "cell_type": "code",
   "execution_count": 69,
   "id": "4517f7bc-f00f-45a9-8d00-d490252bae52",
   "metadata": {},
   "outputs": [
    {
     "data": {
      "text/plain": [
       "'\\nranks = []\\nsecond_ranks = []\\nfor doc_id in range(len(train_corpus)):\\n    inferred_vector = model.infer_vector(train_corpus[doc_id].words)\\n    sims = model.dv.most_similar([inferred_vector], topn=len(model.dv))\\n    rank = [docid for docid, sim in sims].index(doc_id)\\n    ranks.append(rank)\\n\\n    second_ranks.append(sims[1])\\n'"
      ]
     },
     "execution_count": 69,
     "metadata": {},
     "output_type": "execute_result"
    }
   ],
   "source": [
    "\"\"\"\n",
    "ranks = []\n",
    "second_ranks = []\n",
    "for doc_id in range(len(train_corpus)):\n",
    "    inferred_vector = model.infer_vector(train_corpus[doc_id].words)\n",
    "    sims = model.dv.most_similar([inferred_vector], topn=len(model.dv))\n",
    "    rank = [docid for docid, sim in sims].index(doc_id)\n",
    "    ranks.append(rank)\n",
    "\n",
    "    second_ranks.append(sims[1])\n",
    "\"\"\""
   ]
  },
  {
   "cell_type": "code",
   "execution_count": 70,
   "id": "ca7f1bf5-97bd-4b56-abbc-1a04fd8727dc",
   "metadata": {},
   "outputs": [
    {
     "data": {
      "text/plain": [
       "array(['scifi', 'crime'], dtype=object)"
      ]
     },
     "execution_count": 70,
     "metadata": {},
     "output_type": "execute_result"
    }
   ],
   "source": [
    "from sklearn.linear_model import LogisticRegression\n",
    "clf = LogisticRegression(max_iter=1000).fit(X_train_vect, y_train)\n",
    "clf.predict(X_train_vect[0:2,:])"
   ]
  },
  {
   "cell_type": "code",
   "execution_count": 71,
   "id": "0a94a9b1-93cd-4986-bdf4-0040e2f22492",
   "metadata": {},
   "outputs": [
    {
     "name": "stdout",
     "output_type": "stream",
     "text": [
      "Train accuracy:  0.3315873015873016\n"
     ]
    }
   ],
   "source": [
    "from sklearn.metrics import accuracy_score\n",
    "y_tain_pred = clf.predict(X_train_vect)\n",
    "print(\"Train accuracy: \", accuracy_score(y_train, y_tain_pred))"
   ]
  },
  {
   "cell_type": "code",
   "execution_count": 78,
   "id": "c4a64c47-28b0-4749-81ca-e03a9067bd74",
   "metadata": {},
   "outputs": [],
   "source": [
    "from sklearn.preprocessing import StandardScaler\n",
    "scaler = StandardScaler().fit(X_train_vect)\n",
    "X_train_vect = scaler.transform(X_train_vect)"
   ]
  },
  {
   "cell_type": "code",
   "execution_count": 80,
   "id": "c9b41988-3332-49df-b351-39ab3994c933",
   "metadata": {},
   "outputs": [
    {
     "name": "stdout",
     "output_type": "stream",
     "text": [
      "Train accuracy:  0.358994708994709\n"
     ]
    }
   ],
   "source": [
    "clf = LogisticRegression(max_iter=5000).fit(X_train_vect, y_train)\n",
    "y_tain_pred = clf.predict(X_train_vect)\n",
    "print(\"Train accuracy: \", accuracy_score(y_train, y_tain_pred))"
   ]
  },
  {
   "cell_type": "code",
   "execution_count": 72,
   "id": "6ed82c02-8bf1-4cdb-a1a0-f941f77b6209",
   "metadata": {},
   "outputs": [],
   "source": [
    "X_val_tokens = X_val.apply(word_tokenize)"
   ]
  },
  {
   "cell_type": "code",
   "execution_count": 73,
   "id": "fe42c7ef-c018-49d9-9f4a-26905fc9bc30",
   "metadata": {},
   "outputs": [],
   "source": [
    "X_val_vect = X_val_tokens.apply(model.infer_vector)"
   ]
  },
  {
   "cell_type": "code",
   "execution_count": 74,
   "id": "f91fac10-78d9-4517-9d87-d1f8296d3b43",
   "metadata": {},
   "outputs": [],
   "source": [
    "X_val_vect = np.array([np.array(v) for v in X_val_vect])"
   ]
  },
  {
   "cell_type": "code",
   "execution_count": 75,
   "id": "ce96ee1c-10ec-408d-98a4-bf9e0339f5c8",
   "metadata": {},
   "outputs": [
    {
     "data": {
      "text/plain": [
       "(16200, 2000)"
      ]
     },
     "execution_count": 75,
     "metadata": {},
     "output_type": "execute_result"
    }
   ],
   "source": [
    "X_val_vect.shape"
   ]
  },
  {
   "cell_type": "code",
   "execution_count": 76,
   "id": "037a41de-2f01-4736-bc2b-3ac567b20a6e",
   "metadata": {},
   "outputs": [
    {
     "name": "stdout",
     "output_type": "stream",
     "text": [
      "Validation accuracy:  0.3052469135802469\n"
     ]
    }
   ],
   "source": [
    "y_val_pred = clf.predict(X_val_vect)\n",
    "print(\"Validation accuracy: \", accuracy_score(y_val, y_val_pred))"
   ]
  },
  {
   "cell_type": "code",
   "execution_count": 81,
   "id": "b9d464e6-ad9f-4681-a244-8333ba23f1be",
   "metadata": {},
   "outputs": [
    {
     "name": "stdout",
     "output_type": "stream",
     "text": [
      "Validation accuracy:  0.30493827160493825\n"
     ]
    }
   ],
   "source": [
    "X_val_vect = scaler.transform(X_val_vect)\n",
    "y_val_pred = clf.predict(X_val_vect)\n",
    "print(\"Validation accuracy: \", accuracy_score(y_val, y_val_pred))"
   ]
  },
  {
   "cell_type": "code",
   "execution_count": null,
   "id": "3005dcf4-d83b-477d-8130-4ae9c6cdf991",
   "metadata": {},
   "outputs": [],
   "source": []
  }
 ],
 "metadata": {
  "kernelspec": {
   "display_name": "base",
   "language": "python",
   "name": "base"
  },
  "language_info": {
   "codemirror_mode": {
    "name": "ipython",
    "version": 3
   },
   "file_extension": ".py",
   "mimetype": "text/x-python",
   "name": "python",
   "nbconvert_exporter": "python",
   "pygments_lexer": "ipython3",
   "version": "3.9.7"
  }
 },
 "nbformat": 4,
 "nbformat_minor": 5
}
