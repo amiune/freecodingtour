{
 "cells": [
  {
   "cell_type": "markdown",
   "id": "355a45d0-f340-4a55-8249-0a86a4f06bec",
   "metadata": {},
   "source": [
    "# De texto a vectores"
   ]
  },
  {
   "cell_type": "markdown",
   "id": "8b02a872-e59c-4e8b-9b27-4db53cbed1e6",
   "metadata": {},
   "source": [
    "Como vimos en el [Curso de ciencia de datos](https://www.freecodingtour.com/cursos/espanol/datascience/datascience.html) tenemos cajas negras que podemos entrenar mediante una tabla de entrenamiento que contiene filas con ejemplos y su respectivo resultado esperado. Estas filas son numeros que llamamos vectores. \n",
    "\n",
    "Que pasa si queremos entrenar una caja negra para que reconozca texto, por ejemplo queremos entrenar una caja negra para que reconozca si un comentario sobre un restaurante es positivo o negativo. En ese caso nuestra tabla de entrenamiento estara compuesta por filas que tienen un texto en vez de numeros como vemos a continuacion:\n",
    "\n",
    "<div style=\"text-align:center\">\n",
    "<img src=\"img/tabla_comentarios.png\" width=\"700\"/>\n",
    "</div>"
   ]
  },
  {
   "cell_type": "markdown",
   "id": "de7bda7d-6b00-470a-9fea-3cfbe5201fe5",
   "metadata": {},
   "source": [
    "Sabiendo que nuestras cajas negras funcionan muy bien con numeros en cada fila (vectores), la pregunta es como podemos hacer para convertir estos comentarios en vectores que las representen bien.\n",
    "\n",
    "Lo primero que se nos viene a la cabeza es crear una columna por cada palabra y contar cuantas veces aparece cada palabra en cada comentario:\n",
    "\n",
    "<div style=\"text-align:center\">\n",
    "<img src=\"img/tabla_comentarios_vectores.png\" width=\"700\"/>\n",
    "</div>"
   ]
  },
  {
   "cell_type": "markdown",
   "id": "018d5f60-f019-499e-aa78-3050961d505d",
   "metadata": {},
   "source": [
    "Veamos como hacer esto con pandas y sklearn. Primero creemos nuestra tabla con pandas:"
   ]
  },
  {
   "cell_type": "code",
   "execution_count": 5,
   "id": "25d20b6e-1cdc-489e-8b0e-2f2f0a887a6b",
   "metadata": {},
   "outputs": [
    {
     "data": {
      "text/html": [
       "<div>\n",
       "<style scoped>\n",
       "    .dataframe tbody tr th:only-of-type {\n",
       "        vertical-align: middle;\n",
       "    }\n",
       "\n",
       "    .dataframe tbody tr th {\n",
       "        vertical-align: top;\n",
       "    }\n",
       "\n",
       "    .dataframe thead th {\n",
       "        text-align: right;\n",
       "    }\n",
       "</style>\n",
       "<table border=\"1\" class=\"dataframe\">\n",
       "  <thead>\n",
       "    <tr style=\"text-align: right;\">\n",
       "      <th></th>\n",
       "      <th>Comentario</th>\n",
       "      <th>Resultado Esperado</th>\n",
       "    </tr>\n",
       "  </thead>\n",
       "  <tbody>\n",
       "    <tr>\n",
       "      <th>0</th>\n",
       "      <td>Deliciosa comida</td>\n",
       "      <td>Positivo</td>\n",
       "    </tr>\n",
       "    <tr>\n",
       "      <th>1</th>\n",
       "      <td>No me gusto el lugar</td>\n",
       "      <td>Negativo</td>\n",
       "    </tr>\n",
       "    <tr>\n",
       "      <th>2</th>\n",
       "      <td>Comida insulsa</td>\n",
       "      <td>Negativo</td>\n",
       "    </tr>\n",
       "    <tr>\n",
       "      <th>3</th>\n",
       "      <td>Me encanto el lugar</td>\n",
       "      <td>Positivo</td>\n",
       "    </tr>\n",
       "  </tbody>\n",
       "</table>\n",
       "</div>"
      ],
      "text/plain": [
       "             Comentario Resultado Esperado\n",
       "0      Deliciosa comida           Positivo\n",
       "1  No me gusto el lugar           Negativo\n",
       "2        Comida insulsa           Negativo\n",
       "3   Me encanto el lugar           Positivo"
      ]
     },
     "execution_count": 5,
     "metadata": {},
     "output_type": "execute_result"
    }
   ],
   "source": [
    "import pandas as pd\n",
    "df = pd.DataFrame({\n",
    "        \"Comentario\": [\"Deliciosa comida\",\"No me gusto el lugar\",\"Comida insulsa\",\"Me encanto el lugar\"],\n",
    "        \"Resultado Esperado\": [\"Positivo\",\"Negativo\",\"Negativo\",\"Positivo\"]})\n",
    "df"
   ]
  },
  {
   "cell_type": "markdown",
   "id": "95b6f8e9-f336-4f47-a039-c6fa0f2249af",
   "metadata": {},
   "source": [
    "Luego utilizamos la clase CountVectorizer de la libreria sklearn para que nos cree los vectores:"
   ]
  },
  {
   "cell_type": "code",
   "execution_count": 3,
   "id": "540e0afa-a2d6-4d4f-96a8-959f1d670891",
   "metadata": {},
   "outputs": [
    {
     "name": "stdout",
     "output_type": "stream",
     "text": [
      "['comida' 'deliciosa' 'el' 'encanto' 'gusto' 'insulsa' 'lugar' 'me' 'no']\n",
      "[[1 1 0 0 0 0 0 0 0]\n",
      " [0 0 1 0 1 0 1 1 1]\n",
      " [1 0 0 0 0 1 0 0 0]\n",
      " [0 0 1 1 0 0 1 1 0]]\n"
     ]
    }
   ],
   "source": [
    "from sklearn.feature_extraction.text import CountVectorizer\n",
    "vectorizer = CountVectorizer()\n",
    "X = vectorizer.fit_transform(df[\"Comentario\"])\n",
    "print(vectorizer.get_feature_names_out())\n",
    "print(X.toarray())"
   ]
  },
  {
   "cell_type": "markdown",
   "id": "b6459806-da01-4d54-82a6-1c734360c1d3",
   "metadata": {},
   "source": [
    "Ahora creemos nuestro dataframe con estos vectores:"
   ]
  },
  {
   "cell_type": "code",
   "execution_count": 12,
   "id": "bd7aceff-b158-4c0a-a593-bdbc77972f41",
   "metadata": {},
   "outputs": [
    {
     "data": {
      "text/html": [
       "<div>\n",
       "<style scoped>\n",
       "    .dataframe tbody tr th:only-of-type {\n",
       "        vertical-align: middle;\n",
       "    }\n",
       "\n",
       "    .dataframe tbody tr th {\n",
       "        vertical-align: top;\n",
       "    }\n",
       "\n",
       "    .dataframe thead th {\n",
       "        text-align: right;\n",
       "    }\n",
       "</style>\n",
       "<table border=\"1\" class=\"dataframe\">\n",
       "  <thead>\n",
       "    <tr style=\"text-align: right;\">\n",
       "      <th></th>\n",
       "      <th>comida</th>\n",
       "      <th>deliciosa</th>\n",
       "      <th>el</th>\n",
       "      <th>encanto</th>\n",
       "      <th>gusto</th>\n",
       "      <th>insulsa</th>\n",
       "      <th>lugar</th>\n",
       "      <th>me</th>\n",
       "      <th>no</th>\n",
       "      <th>Resultado Esperado</th>\n",
       "    </tr>\n",
       "  </thead>\n",
       "  <tbody>\n",
       "    <tr>\n",
       "      <th>0</th>\n",
       "      <td>1</td>\n",
       "      <td>1</td>\n",
       "      <td>0</td>\n",
       "      <td>0</td>\n",
       "      <td>0</td>\n",
       "      <td>0</td>\n",
       "      <td>0</td>\n",
       "      <td>0</td>\n",
       "      <td>0</td>\n",
       "      <td>Positivo</td>\n",
       "    </tr>\n",
       "    <tr>\n",
       "      <th>1</th>\n",
       "      <td>0</td>\n",
       "      <td>0</td>\n",
       "      <td>1</td>\n",
       "      <td>0</td>\n",
       "      <td>1</td>\n",
       "      <td>0</td>\n",
       "      <td>1</td>\n",
       "      <td>1</td>\n",
       "      <td>1</td>\n",
       "      <td>Negativo</td>\n",
       "    </tr>\n",
       "    <tr>\n",
       "      <th>2</th>\n",
       "      <td>1</td>\n",
       "      <td>0</td>\n",
       "      <td>0</td>\n",
       "      <td>0</td>\n",
       "      <td>0</td>\n",
       "      <td>1</td>\n",
       "      <td>0</td>\n",
       "      <td>0</td>\n",
       "      <td>0</td>\n",
       "      <td>Negativo</td>\n",
       "    </tr>\n",
       "    <tr>\n",
       "      <th>3</th>\n",
       "      <td>0</td>\n",
       "      <td>0</td>\n",
       "      <td>1</td>\n",
       "      <td>1</td>\n",
       "      <td>0</td>\n",
       "      <td>0</td>\n",
       "      <td>1</td>\n",
       "      <td>1</td>\n",
       "      <td>0</td>\n",
       "      <td>Positivo</td>\n",
       "    </tr>\n",
       "  </tbody>\n",
       "</table>\n",
       "</div>"
      ],
      "text/plain": [
       "   comida  deliciosa  el  encanto  gusto  insulsa  lugar  me  no  \\\n",
       "0       1          1   0        0      0        0      0   0   0   \n",
       "1       0          0   1        0      1        0      1   1   1   \n",
       "2       1          0   0        0      0        1      0   0   0   \n",
       "3       0          0   1        1      0        0      1   1   0   \n",
       "\n",
       "  Resultado Esperado  \n",
       "0           Positivo  \n",
       "1           Negativo  \n",
       "2           Negativo  \n",
       "3           Positivo  "
      ]
     },
     "execution_count": 12,
     "metadata": {},
     "output_type": "execute_result"
    }
   ],
   "source": [
    "vect_df = pd.DataFrame(X.todense(), columns=vectorizer.get_feature_names_out())\n",
    "vect_df[\"Resultado Esperado\"] = [\"Positivo\",\"Negativo\",\"Negativo\",\"Positivo\"]\n",
    "vect_df"
   ]
  },
  {
   "cell_type": "markdown",
   "id": "a6769f7d-0b76-4f87-9c2f-f46599b30bdc",
   "metadata": {},
   "source": [
    "Al igual que paso en las imagenes con los pixeles este metodo de convertir texto en vectores no es tan bueno para que las cajas negras puedan aprender porque las palabras tienen relaciones entre si y al contar las palabras por separado las cajas negras no pueden aprender estas relaciones pero los cientificos empezaron a probar distintas formas de convertir el texto en vectores a partir de los cuales las cajas negras puedan aprender.\n",
    "\n",
    "Durante años de investigacion se crearon y probaron diferentes modelos, desde el mencionado anteriormente que cuenta las palabras y es conocido como Bag of Words pasando por las redes recurrentes, la arquitectura word2vec que marco un hito y finalmente los conocidos transformers que son utilizados hoy en dia en los famosos chatbots como chatGPT o Bard.\n",
    "\n",
    "Afortunadamente todo este proceso que llevo muchos años de prueba y error fue introducido adentro de las cajas negras y estas cajas negras mas complejas que aprenden solas a como convertir las imagenes en vectores para poder aprender se llaman cajas negras de deep learning.\n",
    "\n",
    "Probablemente en el futuro se sigan creando nuevas arquitecturas para convertir texto en vectores que sean aun mejores que las mencionadas.\n",
    "\n",
    "Si quieres profundizar mas en como esta compuesta la arquitectura interna de dichas cajas negras hay mas informacion en las unidades avanzadas de este curso pero no es necesario conocer en profundidad como funcionan para poder utilizarlas."
   ]
  },
  {
   "cell_type": "markdown",
   "id": "05adc898-1cc9-4f67-824a-ec9f934f5615",
   "metadata": {},
   "source": [
    "### Ejercicio 1:\n",
    "\n",
    "Clasificar las siguientes peliculas por genero, terror o comedia, utilizando un metodo simple para vectorizar el texto y un modelo de ML de la libreria sklearn.\n",
    "\n",
    "Entrenamiento:\n",
    "\n",
    "Comedia: \n",
    "- Risa en el paraíso (1987)\n",
    "- Risa y lágrimas (1954)\n",
    "- La vida en risa (1996)\n",
    "- El club de la risa (1999)\n",
    "- Divertido, divertido (1969)\n",
    "- Divertida aventura (1964)\n",
    "- Divertida mente (2015)\n",
    "- Diversión con Bob (1994)\n",
    "- Locura de amor (1948)\n",
    "- Locura en el oeste (1973)\n",
    "- Locura de verano (1986)\n",
    "- Locura en el espacio (1987)\n",
    "\n",
    "Terror:\n",
    "- Miedo (2007)\n",
    "- Miedo en la noche (1972)\n",
    "- Miedo a volar (1990)\n",
    "- La matanza de Texas (1974)\n",
    "- La matanza de Texas 2 (1986)\n",
    "- La matanza de Texas: El origen (2007)\n",
    "- Matanza en el colegio (1982)\n",
    "- La masacre de los inocentes (1991)\n",
    "- Masacre en la autopista (1977)\n",
    "- Masacre en el hospital (1982)\n",
    "- Masacre de zombies (1978)\n",
    "\n",
    "Prueba:\n",
    "\n",
    "Comedia: \n",
    "- La risa es contagiosa (1969)\n",
    "- Diversión asegurada (2003)\n",
    "- Locura y dinero (2008)\n",
    "\n",
    "Terror:\n",
    "- Miedo profundo (1998)\n",
    "- Matanza en Fresno (2016)\n",
    "- La masacre de Amityville (1979)\n"
   ]
  },
  {
   "cell_type": "code",
   "execution_count": null,
   "id": "3d9ce4fb-2475-4114-b72e-99293a4e729d",
   "metadata": {},
   "outputs": [],
   "source": [
    "# Escribir aqui la solucion\n",
    "\n"
   ]
  },
  {
   "cell_type": "code",
   "execution_count": null,
   "id": "c1811324-5012-4d98-86e3-34319668dc66",
   "metadata": {},
   "outputs": [],
   "source": [
    "#@title Solucion Ejercicio 1 {display-mode:\"form\"}\n"
   ]
  },
  {
   "cell_type": "markdown",
   "id": "94244657-107f-4e36-9d08-88ba57823f71",
   "metadata": {},
   "source": [
    "# Fin: [Volver al contenido del curso](https://www.freecodingtour.com/cursos/espanol/deeplearning/deeplearning.html)"
   ]
  }
 ],
 "metadata": {
  "kernelspec": {
   "display_name": "Python 3 (ipykernel)",
   "language": "python",
   "name": "python3"
  },
  "language_info": {
   "codemirror_mode": {
    "name": "ipython",
    "version": 3
   },
   "file_extension": ".py",
   "mimetype": "text/x-python",
   "name": "python",
   "nbconvert_exporter": "python",
   "pygments_lexer": "ipython3",
   "version": "3.9.7"
  }
 },
 "nbformat": 4,
 "nbformat_minor": 5
}
