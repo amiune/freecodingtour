{
 "cells": [
  {
   "cell_type": "code",
   "execution_count": 1,
   "id": "ca3bad83-5c22-41fe-b09a-90c49ad51f71",
   "metadata": {},
   "outputs": [],
   "source": [
    "import pandas as pd"
   ]
  },
  {
   "cell_type": "code",
   "execution_count": 2,
   "id": "12edee1a-bde5-4d9f-b6ce-a8d61879ea3c",
   "metadata": {},
   "outputs": [
    {
     "name": "stdout",
     "output_type": "stream",
     "text": [
      "Requirement already satisfied: pyarrow in /Users/hernanamiune/opt/anaconda3/lib/python3.9/site-packages (12.0.1)\n",
      "Requirement already satisfied: numpy>=1.16.6 in /Users/hernanamiune/opt/anaconda3/lib/python3.9/site-packages (from pyarrow) (1.24.3)\n"
     ]
    }
   ],
   "source": [
    "!pip install pyarrow"
   ]
  },
  {
   "cell_type": "code",
   "execution_count": 3,
   "id": "e4feb535-309e-4679-ae4b-08323c556ab2",
   "metadata": {},
   "outputs": [],
   "source": [
    "df_train = pd.read_parquet('https://github.com/amiune/freecodingtour/raw/main/cursos/espanol/deeplearning/data/train.parquet', engine='pyarrow')\n",
    "df_test = pd.read_parquet('https://github.com/amiune/freecodingtour/raw/main/cursos/espanol/deeplearning/data/test.parquet', engine='pyarrow')"
   ]
  },
  {
   "cell_type": "code",
   "execution_count": 4,
   "id": "5845ddc4-c885-4e7e-99e2-1fc090ce74b9",
   "metadata": {},
   "outputs": [
    {
     "data": {
      "text/html": [
       "<div>\n",
       "<style scoped>\n",
       "    .dataframe tbody tr th:only-of-type {\n",
       "        vertical-align: middle;\n",
       "    }\n",
       "\n",
       "    .dataframe tbody tr th {\n",
       "        vertical-align: top;\n",
       "    }\n",
       "\n",
       "    .dataframe thead th {\n",
       "        text-align: right;\n",
       "    }\n",
       "</style>\n",
       "<table border=\"1\" class=\"dataframe\">\n",
       "  <thead>\n",
       "    <tr style=\"text-align: right;\">\n",
       "      <th></th>\n",
       "      <th>id</th>\n",
       "      <th>movie_name</th>\n",
       "      <th>synopsis</th>\n",
       "      <th>genre</th>\n",
       "    </tr>\n",
       "  </thead>\n",
       "  <tbody>\n",
       "    <tr>\n",
       "      <th>0</th>\n",
       "      <td>44978</td>\n",
       "      <td>Super Me</td>\n",
       "      <td>A young scriptwriter starts bringing valuable ...</td>\n",
       "      <td>fantasy</td>\n",
       "    </tr>\n",
       "    <tr>\n",
       "      <th>1</th>\n",
       "      <td>50185</td>\n",
       "      <td>Entity Project</td>\n",
       "      <td>A director and her friends renting a haunted h...</td>\n",
       "      <td>horror</td>\n",
       "    </tr>\n",
       "    <tr>\n",
       "      <th>2</th>\n",
       "      <td>34131</td>\n",
       "      <td>Behavioral Family Therapy for Serious Psychiat...</td>\n",
       "      <td>This is an educational video for families and ...</td>\n",
       "      <td>family</td>\n",
       "    </tr>\n",
       "    <tr>\n",
       "      <th>3</th>\n",
       "      <td>78522</td>\n",
       "      <td>Blood Glacier</td>\n",
       "      <td>Scientists working in the Austrian Alps discov...</td>\n",
       "      <td>scifi</td>\n",
       "    </tr>\n",
       "    <tr>\n",
       "      <th>4</th>\n",
       "      <td>2206</td>\n",
       "      <td>Apat na anino</td>\n",
       "      <td>Buy Day - Four Men Widely - Apart in Life - By...</td>\n",
       "      <td>action</td>\n",
       "    </tr>\n",
       "  </tbody>\n",
       "</table>\n",
       "</div>"
      ],
      "text/plain": [
       "      id                                         movie_name  \\\n",
       "0  44978                                           Super Me   \n",
       "1  50185                                     Entity Project   \n",
       "2  34131  Behavioral Family Therapy for Serious Psychiat...   \n",
       "3  78522                                      Blood Glacier   \n",
       "4   2206                                      Apat na anino   \n",
       "\n",
       "                                            synopsis    genre  \n",
       "0  A young scriptwriter starts bringing valuable ...  fantasy  \n",
       "1  A director and her friends renting a haunted h...   horror  \n",
       "2  This is an educational video for families and ...   family  \n",
       "3  Scientists working in the Austrian Alps discov...    scifi  \n",
       "4  Buy Day - Four Men Widely - Apart in Life - By...   action  "
      ]
     },
     "execution_count": 4,
     "metadata": {},
     "output_type": "execute_result"
    }
   ],
   "source": [
    "df_train.head()"
   ]
  },
  {
   "cell_type": "code",
   "execution_count": 5,
   "id": "294280cc-6ab5-44be-864f-6232f1475c7a",
   "metadata": {},
   "outputs": [
    {
     "data": {
      "text/plain": [
       "(54000, 4)"
      ]
     },
     "execution_count": 5,
     "metadata": {},
     "output_type": "execute_result"
    }
   ],
   "source": [
    "df_train.shape"
   ]
  },
  {
   "cell_type": "code",
   "execution_count": 25,
   "id": "f7da1477-476a-4298-9c3b-45958ade4389",
   "metadata": {},
   "outputs": [
    {
     "data": {
      "text/plain": [
       "['fantasy',\n",
       " 'horror',\n",
       " 'family',\n",
       " 'scifi',\n",
       " 'action',\n",
       " 'crime',\n",
       " 'adventure',\n",
       " 'mystery',\n",
       " 'romance',\n",
       " 'thriller']"
      ]
     },
     "execution_count": 25,
     "metadata": {},
     "output_type": "execute_result"
    }
   ],
   "source": [
    "genres_list = list(df_train.genre.unique())\n",
    "genres_list"
   ]
  },
  {
   "cell_type": "code",
   "execution_count": 7,
   "id": "9d6c40c4-2670-448c-9e9d-81d534c14804",
   "metadata": {},
   "outputs": [
    {
     "data": {
      "text/html": [
       "<div>\n",
       "<style scoped>\n",
       "    .dataframe tbody tr th:only-of-type {\n",
       "        vertical-align: middle;\n",
       "    }\n",
       "\n",
       "    .dataframe tbody tr th {\n",
       "        vertical-align: top;\n",
       "    }\n",
       "\n",
       "    .dataframe thead th {\n",
       "        text-align: right;\n",
       "    }\n",
       "</style>\n",
       "<table border=\"1\" class=\"dataframe\">\n",
       "  <thead>\n",
       "    <tr style=\"text-align: right;\">\n",
       "      <th></th>\n",
       "      <th>id</th>\n",
       "      <th>movie_name</th>\n",
       "      <th>synopsis</th>\n",
       "      <th>genre</th>\n",
       "    </tr>\n",
       "  </thead>\n",
       "  <tbody>\n",
       "    <tr>\n",
       "      <th>0</th>\n",
       "      <td>16863</td>\n",
       "      <td>A Death Sentence</td>\n",
       "      <td>12 y.o. Ida's dad'll die without a DKK1,500,00...</td>\n",
       "      <td>action</td>\n",
       "    </tr>\n",
       "    <tr>\n",
       "      <th>1</th>\n",
       "      <td>48456</td>\n",
       "      <td>Intermedio</td>\n",
       "      <td>A group of four teenage friends become trapped...</td>\n",
       "      <td>action</td>\n",
       "    </tr>\n",
       "    <tr>\n",
       "      <th>2</th>\n",
       "      <td>41383</td>\n",
       "      <td>30 Chua Phai Tet</td>\n",
       "      <td>A guy left his home for 12 years till he came ...</td>\n",
       "      <td>action</td>\n",
       "    </tr>\n",
       "    <tr>\n",
       "      <th>3</th>\n",
       "      <td>84007</td>\n",
       "      <td>Paranoiac</td>\n",
       "      <td>A man long believed dead returns to the family...</td>\n",
       "      <td>action</td>\n",
       "    </tr>\n",
       "    <tr>\n",
       "      <th>4</th>\n",
       "      <td>40269</td>\n",
       "      <td>Ordinary Happiness</td>\n",
       "      <td>After a deadly accident, Paolo comes back on E...</td>\n",
       "      <td>action</td>\n",
       "    </tr>\n",
       "  </tbody>\n",
       "</table>\n",
       "</div>"
      ],
      "text/plain": [
       "      id          movie_name  \\\n",
       "0  16863    A Death Sentence   \n",
       "1  48456          Intermedio   \n",
       "2  41383    30 Chua Phai Tet   \n",
       "3  84007           Paranoiac   \n",
       "4  40269  Ordinary Happiness   \n",
       "\n",
       "                                            synopsis   genre  \n",
       "0  12 y.o. Ida's dad'll die without a DKK1,500,00...  action  \n",
       "1  A group of four teenage friends become trapped...  action  \n",
       "2  A guy left his home for 12 years till he came ...  action  \n",
       "3  A man long believed dead returns to the family...  action  \n",
       "4  After a deadly accident, Paolo comes back on E...  action  "
      ]
     },
     "execution_count": 7,
     "metadata": {},
     "output_type": "execute_result"
    }
   ],
   "source": [
    "df_test.head()"
   ]
  },
  {
   "cell_type": "code",
   "execution_count": 8,
   "id": "397ef5a1-8488-4b96-a5b0-d7ebc09689e8",
   "metadata": {},
   "outputs": [
    {
     "data": {
      "text/plain": [
       "(36000, 4)"
      ]
     },
     "execution_count": 8,
     "metadata": {},
     "output_type": "execute_result"
    }
   ],
   "source": [
    "df_test.shape"
   ]
  },
  {
   "cell_type": "code",
   "execution_count": 9,
   "id": "130aef1b-f4f5-4d09-b7ef-43c4b3aceb83",
   "metadata": {},
   "outputs": [
    {
     "data": {
      "text/plain": [
       "action    36000\n",
       "Name: genre, dtype: int64"
      ]
     },
     "execution_count": 9,
     "metadata": {},
     "output_type": "execute_result"
    }
   ],
   "source": [
    "df_test.genre.value_counts()"
   ]
  },
  {
   "cell_type": "code",
   "execution_count": 10,
   "id": "6dbc1d9b-48fe-4ac5-b0a7-bd36d339ca7d",
   "metadata": {},
   "outputs": [
    {
     "data": {
      "text/plain": [
       "383"
      ]
     },
     "execution_count": 10,
     "metadata": {},
     "output_type": "execute_result"
    }
   ],
   "source": [
    "df_test[\"synopsis\"].str.contains(\"horror\").sum()"
   ]
  },
  {
   "cell_type": "code",
   "execution_count": 11,
   "id": "94de1b1c-79e1-4017-b296-91ff5e83e315",
   "metadata": {},
   "outputs": [
    {
     "data": {
      "text/html": [
       "<div>\n",
       "<style scoped>\n",
       "    .dataframe tbody tr th:only-of-type {\n",
       "        vertical-align: middle;\n",
       "    }\n",
       "\n",
       "    .dataframe tbody tr th {\n",
       "        vertical-align: top;\n",
       "    }\n",
       "\n",
       "    .dataframe thead th {\n",
       "        text-align: right;\n",
       "    }\n",
       "</style>\n",
       "<table border=\"1\" class=\"dataframe\">\n",
       "  <thead>\n",
       "    <tr style=\"text-align: right;\">\n",
       "      <th></th>\n",
       "      <th>synopsis</th>\n",
       "      <th>genre</th>\n",
       "    </tr>\n",
       "  </thead>\n",
       "  <tbody>\n",
       "    <tr>\n",
       "      <th>105</th>\n",
       "      <td>A supernatural horror film in which a woman at...</td>\n",
       "      <td>horror</td>\n",
       "    </tr>\n",
       "    <tr>\n",
       "      <th>127</th>\n",
       "      <td>What starts out as girls weekend away in the M...</td>\n",
       "      <td>horror</td>\n",
       "    </tr>\n",
       "    <tr>\n",
       "      <th>250</th>\n",
       "      <td>Five segments of horror.</td>\n",
       "      <td>fantasy</td>\n",
       "    </tr>\n",
       "    <tr>\n",
       "      <th>383</th>\n",
       "      <td>When people begin mysteriously disappearing in...</td>\n",
       "      <td>thriller</td>\n",
       "    </tr>\n",
       "    <tr>\n",
       "      <th>551</th>\n",
       "      <td>A long-awaited sequel to the internationally a...</td>\n",
       "      <td>action</td>\n",
       "    </tr>\n",
       "    <tr>\n",
       "      <th>615</th>\n",
       "      <td>This horror thriller revolves around the 168 h...</td>\n",
       "      <td>horror</td>\n",
       "    </tr>\n",
       "    <tr>\n",
       "      <th>672</th>\n",
       "      <td>English feature film. a group of original six ...</td>\n",
       "      <td>scifi</td>\n",
       "    </tr>\n",
       "    <tr>\n",
       "      <th>839</th>\n",
       "      <td>A surgeon, feeling guilty over his daughter's ...</td>\n",
       "      <td>thriller</td>\n",
       "    </tr>\n",
       "    <tr>\n",
       "      <th>841</th>\n",
       "      <td>Grindsploitation 8: Drive-In Grindhouse part 8...</td>\n",
       "      <td>horror</td>\n",
       "    </tr>\n",
       "    <tr>\n",
       "      <th>942</th>\n",
       "      <td>An analog horror about the investigation of pe...</td>\n",
       "      <td>horror</td>\n",
       "    </tr>\n",
       "    <tr>\n",
       "      <th>1142</th>\n",
       "      <td>A sequel to the horror film Candyman (1992) th...</td>\n",
       "      <td>horror</td>\n",
       "    </tr>\n",
       "    <tr>\n",
       "      <th>1157</th>\n",
       "      <td>A worn Dr. MacLean is once more called into ac...</td>\n",
       "      <td>scifi</td>\n",
       "    </tr>\n",
       "    <tr>\n",
       "      <th>1545</th>\n",
       "      <td>A teenager teams up with the daughter of young...</td>\n",
       "      <td>adventure</td>\n",
       "    </tr>\n",
       "    <tr>\n",
       "      <th>1595</th>\n",
       "      <td>A couple struggling to conceive visit a miracl...</td>\n",
       "      <td>scifi</td>\n",
       "    </tr>\n",
       "    <tr>\n",
       "      <th>1807</th>\n",
       "      <td>A coming of age horror film in the vein of Joh...</td>\n",
       "      <td>horror</td>\n",
       "    </tr>\n",
       "    <tr>\n",
       "      <th>1840</th>\n",
       "      <td>Into the Forest follows three paranormal Youtu...</td>\n",
       "      <td>horror</td>\n",
       "    </tr>\n",
       "    <tr>\n",
       "      <th>1922</th>\n",
       "      <td>The film has dark, demonic colors with materia...</td>\n",
       "      <td>horror</td>\n",
       "    </tr>\n",
       "    <tr>\n",
       "      <th>1931</th>\n",
       "      <td>Redirecting a wrongly posted letter leads an e...</td>\n",
       "      <td>thriller</td>\n",
       "    </tr>\n",
       "    <tr>\n",
       "      <th>1942</th>\n",
       "      <td>Yannick &amp; Noah has not seen each other for a y...</td>\n",
       "      <td>horror</td>\n",
       "    </tr>\n",
       "    <tr>\n",
       "      <th>2032</th>\n",
       "      <td>Reboot of the 1984 horror classic SILENT NIGHT...</td>\n",
       "      <td>horror</td>\n",
       "    </tr>\n",
       "  </tbody>\n",
       "</table>\n",
       "</div>"
      ],
      "text/plain": [
       "                                               synopsis      genre\n",
       "105   A supernatural horror film in which a woman at...     horror\n",
       "127   What starts out as girls weekend away in the M...     horror\n",
       "250                            Five segments of horror.    fantasy\n",
       "383   When people begin mysteriously disappearing in...   thriller\n",
       "551   A long-awaited sequel to the internationally a...     action\n",
       "615   This horror thriller revolves around the 168 h...     horror\n",
       "672   English feature film. a group of original six ...      scifi\n",
       "839   A surgeon, feeling guilty over his daughter's ...   thriller\n",
       "841   Grindsploitation 8: Drive-In Grindhouse part 8...     horror\n",
       "942   An analog horror about the investigation of pe...     horror\n",
       "1142  A sequel to the horror film Candyman (1992) th...     horror\n",
       "1157  A worn Dr. MacLean is once more called into ac...      scifi\n",
       "1545  A teenager teams up with the daughter of young...  adventure\n",
       "1595  A couple struggling to conceive visit a miracl...      scifi\n",
       "1807  A coming of age horror film in the vein of Joh...     horror\n",
       "1840  Into the Forest follows three paranormal Youtu...     horror\n",
       "1922  The film has dark, demonic colors with materia...     horror\n",
       "1931  Redirecting a wrongly posted letter leads an e...   thriller\n",
       "1942  Yannick & Noah has not seen each other for a y...     horror\n",
       "2032  Reboot of the 1984 horror classic SILENT NIGHT...     horror"
      ]
     },
     "execution_count": 11,
     "metadata": {},
     "output_type": "execute_result"
    }
   ],
   "source": [
    "df_train.loc[df_train[\"synopsis\"].str.contains(\"horror\"),[\"synopsis\",\"genre\"]].head(20)"
   ]
  },
  {
   "cell_type": "code",
   "execution_count": 21,
   "id": "caff8cfe-b064-4647-b0f7-d705252871d7",
   "metadata": {},
   "outputs": [
    {
     "data": {
      "text/html": [
       "<div>\n",
       "<style scoped>\n",
       "    .dataframe tbody tr th:only-of-type {\n",
       "        vertical-align: middle;\n",
       "    }\n",
       "\n",
       "    .dataframe tbody tr th {\n",
       "        vertical-align: top;\n",
       "    }\n",
       "\n",
       "    .dataframe thead th {\n",
       "        text-align: right;\n",
       "    }\n",
       "</style>\n",
       "<table border=\"1\" class=\"dataframe\">\n",
       "  <thead>\n",
       "    <tr style=\"text-align: right;\">\n",
       "      <th></th>\n",
       "      <th>id</th>\n",
       "      <th>movie_name</th>\n",
       "      <th>synopsis</th>\n",
       "      <th>genre</th>\n",
       "    </tr>\n",
       "  </thead>\n",
       "  <tbody>\n",
       "    <tr>\n",
       "      <th>0</th>\n",
       "      <td>16863</td>\n",
       "      <td>A Death Sentence</td>\n",
       "      <td>12 y.o. ida's dad'll die without a dkk1,500,00...</td>\n",
       "      <td>action</td>\n",
       "    </tr>\n",
       "    <tr>\n",
       "      <th>1</th>\n",
       "      <td>48456</td>\n",
       "      <td>Intermedio</td>\n",
       "      <td>a group of four teenage friends become trapped...</td>\n",
       "      <td>action</td>\n",
       "    </tr>\n",
       "    <tr>\n",
       "      <th>2</th>\n",
       "      <td>41383</td>\n",
       "      <td>30 Chua Phai Tet</td>\n",
       "      <td>a guy left his home for 12 years till he came ...</td>\n",
       "      <td>action</td>\n",
       "    </tr>\n",
       "    <tr>\n",
       "      <th>3</th>\n",
       "      <td>84007</td>\n",
       "      <td>Paranoiac</td>\n",
       "      <td>a man long believed dead returns to the family...</td>\n",
       "      <td>family</td>\n",
       "    </tr>\n",
       "    <tr>\n",
       "      <th>4</th>\n",
       "      <td>40269</td>\n",
       "      <td>Ordinary Happiness</td>\n",
       "      <td>after a deadly accident, paolo comes back on e...</td>\n",
       "      <td>action</td>\n",
       "    </tr>\n",
       "  </tbody>\n",
       "</table>\n",
       "</div>"
      ],
      "text/plain": [
       "      id          movie_name  \\\n",
       "0  16863    A Death Sentence   \n",
       "1  48456          Intermedio   \n",
       "2  41383    30 Chua Phai Tet   \n",
       "3  84007           Paranoiac   \n",
       "4  40269  Ordinary Happiness   \n",
       "\n",
       "                                            synopsis   genre  \n",
       "0  12 y.o. ida's dad'll die without a dkk1,500,00...  action  \n",
       "1  a group of four teenage friends become trapped...  action  \n",
       "2  a guy left his home for 12 years till he came ...  action  \n",
       "3  a man long believed dead returns to the family...  family  \n",
       "4  after a deadly accident, paolo comes back on e...  action  "
      ]
     },
     "execution_count": 21,
     "metadata": {},
     "output_type": "execute_result"
    }
   ],
   "source": [
    "df_test.synopsis = df_test.synopsis.str.lower()\n",
    "df_test.head()"
   ]
  },
  {
   "cell_type": "code",
   "execution_count": 22,
   "id": "b7a08551-8b45-4382-bcfb-ab6381b6585d",
   "metadata": {},
   "outputs": [],
   "source": [
    "for genre in genres_list:\n",
    "    df_test.loc[df_test[\"synopsis\"].str.contains(genre),[\"genre\"]] = genre"
   ]
  },
  {
   "cell_type": "code",
   "execution_count": 23,
   "id": "6653df29-67ba-460d-bddb-64aa1203ba6b",
   "metadata": {},
   "outputs": [],
   "source": [
    "df_submission = pd.DataFrame({\"id\":df_test[\"id\"],\"genre\":df_test[\"genre\"]})"
   ]
  },
  {
   "cell_type": "code",
   "execution_count": 24,
   "id": "aa5b7559-ae22-4009-b353-899f447b4cf7",
   "metadata": {},
   "outputs": [],
   "source": [
    "df_submission.to_csv(\"submission.csv\", index=False)"
   ]
  },
  {
   "cell_type": "code",
   "execution_count": null,
   "id": "581c1100-a99c-4408-8717-51940af0ccbc",
   "metadata": {},
   "outputs": [],
   "source": []
  }
 ],
 "metadata": {
  "kernelspec": {
   "display_name": "base",
   "language": "python",
   "name": "base"
  },
  "language_info": {
   "codemirror_mode": {
    "name": "ipython",
    "version": 3
   },
   "file_extension": ".py",
   "mimetype": "text/x-python",
   "name": "python",
   "nbconvert_exporter": "python",
   "pygments_lexer": "ipython3",
   "version": "3.9.7"
  }
 },
 "nbformat": 4,
 "nbformat_minor": 5
}
