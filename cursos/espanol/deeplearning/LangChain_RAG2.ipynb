{
 "cells": [
  {
   "cell_type": "markdown",
   "id": "0c018e8a-e50c-4d68-8b1d-8e6253f08c57",
   "metadata": {},
   "source": [
    "# Retrieval Augmented Generation Parte 2"
   ]
  },
  {
   "cell_type": "markdown",
   "id": "41c25d18-3918-4871-9de1-26d10c067b03",
   "metadata": {},
   "source": [
    "Aqui veremos un ejemplo practico de como buscar en documentos PDF"
   ]
  },
  {
   "cell_type": "code",
   "execution_count": null,
   "id": "2d52c5fd-e378-42d2-8436-e2e923fa1a13",
   "metadata": {},
   "outputs": [],
   "source": [
    "!pip install pypdf -U -q\n",
    "!pip install langchain -U -q\n",
    "!pip install chromadb -U -q"
   ]
  },
  {
   "cell_type": "code",
   "execution_count": null,
   "id": "f14b33c8-00df-4755-84d4-9127dde85acb",
   "metadata": {},
   "outputs": [],
   "source": [
    "import shutil\n",
    "import tempfile\n",
    "import urllib.request\n",
    "\n",
    "file_url = \"https://annualreport.stocklight.com/nasdaq/msft/221115247.pdf\"\n",
    "with urllib.request.urlopen(file_url) as response:\n",
    "    with tempfile.NamedTemporaryFile(delete=False) as tmp_file:\n",
    "        shutil.copyfileobj(response, tmp_file)\n",
    "\n",
    "from pypdf import PdfReader\n",
    "reader = PdfReader(tmp_file.name)\n",
    "pdf_texts = [p.extract_text().strip() for p in reader.pages]\n",
    "\n",
    "# Filter the empty strings\n",
    "pdf_texts = [text for text in pdf_texts if text]\n",
    "\n",
    "print(pdf_texts[0])"
   ]
  },
  {
   "cell_type": "code",
   "execution_count": null,
   "id": "631ae88f-0caa-4a61-b0ff-7f75a66bc498",
   "metadata": {},
   "outputs": [],
   "source": [
    "pdf_texts[0]"
   ]
  },
  {
   "cell_type": "code",
   "execution_count": null,
   "id": "f9e76b71-dc30-4311-971b-81566426e976",
   "metadata": {},
   "outputs": [],
   "source": [
    "len(pdf_texts)"
   ]
  },
  {
   "cell_type": "code",
   "execution_count": null,
   "id": "740c7739-f71a-48a4-89bc-4fefe77d30fd",
   "metadata": {},
   "outputs": [],
   "source": [
    "from langchain.text_splitter import RecursiveCharacterTextSplitter, SentenceTransformersTokenTextSplitter"
   ]
  },
  {
   "cell_type": "code",
   "execution_count": null,
   "id": "873dafc6-514e-435a-95dd-668a1cf3c5d2",
   "metadata": {},
   "outputs": [],
   "source": [
    "character_splitter = RecursiveCharacterTextSplitter(\n",
    "    separators=[\"\\n\\n\", \"\\n\", \". \", \" \", \"\"],\n",
    "    chunk_size=1000,\n",
    "    chunk_overlap=0\n",
    ")\n",
    "character_split_texts = character_splitter.split_text('\\n\\n'.join(pdf_texts))\n",
    "\n",
    "print(character_split_texts[10])\n",
    "print(f\"\\nTotal chunks: {len(character_split_texts)}\")"
   ]
  },
  {
   "cell_type": "code",
   "execution_count": null,
   "id": "53a5819f-5ed7-4e3c-abca-82cffc13d2b1",
   "metadata": {},
   "outputs": [],
   "source": [
    "token_splitter = SentenceTransformersTokenTextSplitter(chunk_overlap=0, tokens_per_chunk=256)\n",
    "\n",
    "token_split_texts = []\n",
    "for text in character_split_texts:\n",
    "    token_split_texts += token_splitter.split_text(text)\n",
    "\n",
    "print(token_split_texts[10])\n",
    "print(f\"\\nTotal chunks: {len(token_split_texts)}\")"
   ]
  },
  {
   "cell_type": "code",
   "execution_count": null,
   "id": "67023665-f3ea-4746-9211-d11dd54731b8",
   "metadata": {},
   "outputs": [],
   "source": [
    "import chromadb\n",
    "from chromadb.utils.embedding_functions import SentenceTransformerEmbeddingFunction\n",
    "\n",
    "embedding_function = SentenceTransformerEmbeddingFunction()\n",
    "print(embedding_function([token_split_texts[10]]))"
   ]
  },
  {
   "cell_type": "code",
   "execution_count": null,
   "id": "1a1cef0d-920b-4081-8efe-613bafe17b06",
   "metadata": {},
   "outputs": [],
   "source": [
    "chroma_client = chromadb.Client()\n",
    "chroma_collection = chroma_client.create_collection(\"microsoft_annual_report_2022\", embedding_function=embedding_function)\n",
    "\n",
    "ids = [str(i) for i in range(len(token_split_texts))]\n",
    "\n",
    "chroma_collection.add(ids=ids, documents=token_split_texts)\n",
    "chroma_collection.count()"
   ]
  },
  {
   "cell_type": "code",
   "execution_count": null,
   "id": "c4484379-cf9b-4c26-b1c1-8bc8a862f809",
   "metadata": {},
   "outputs": [],
   "source": [
    "query = \"What was the total revenue?\"\n",
    "\n",
    "results = chroma_collection.query(query_texts=[query], n_results=5)\n",
    "retrieved_documents = results['documents'][0]\n",
    "\n",
    "for document in retrieved_documents:\n",
    "    print(document)\n",
    "    print('\\n')"
   ]
  },
  {
   "cell_type": "code",
   "execution_count": null,
   "id": "872346af-dba1-4606-bad2-26f43396477f",
   "metadata": {},
   "outputs": [],
   "source": []
  },
  {
   "cell_type": "markdown",
   "id": "80886959-9793-4c2d-a3ce-46f7504772aa",
   "metadata": {},
   "source": [
    "## Referencias:\n",
    "\n",
    "- [Curso de Andrew Ng de Deeplearning.ai](https://learn.deeplearning.ai/courses/vector-databases-embeddings-applications)\n",
    "- https://www.youtube.com/watch?v=3WUobZryyok\n",
    "- https://ai.meta.com/blog/retrieval-augmented-generation-streamlining-the-creation-of-intelligent-natural-language-processing-models/"
   ]
  },
  {
   "cell_type": "markdown",
   "id": "79a09c23-d790-49d1-99b1-c72c0650545e",
   "metadata": {},
   "source": [
    "# Fin: [Volver al contenido del curso](https://www.freecodingtour.com/cursos/espanol/deeplearning/deeplearning.html)"
   ]
  }
 ],
 "metadata": {
  "kernelspec": {
   "display_name": "base",
   "language": "python",
   "name": "base"
  },
  "language_info": {
   "codemirror_mode": {
    "name": "ipython",
    "version": 3
   },
   "file_extension": ".py",
   "mimetype": "text/x-python",
   "name": "python",
   "nbconvert_exporter": "python",
   "pygments_lexer": "ipython3",
   "version": "3.9.7"
  }
 },
 "nbformat": 4,
 "nbformat_minor": 5
}
