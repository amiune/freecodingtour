{
 "cells": [
  {
   "cell_type": "markdown",
   "id": "7e1e9e37-db00-4140-b173-6d43dc76577f",
   "metadata": {},
   "source": [
    "# Redes Convolucionales\n",
    "\n",
    "[The little book of Deep Learning](https://fleuret.org/public/lbdl.pdf)\n",
    "\n",
    "[Visualizacion](https://adamharley.com/nn_vis/)\n",
    "\n"
   ]
  },
  {
   "cell_type": "code",
   "execution_count": null,
   "id": "dc28c5e4-335f-44c8-9ffb-604e06950713",
   "metadata": {},
   "outputs": [],
   "source": []
  }
 ],
 "metadata": {
  "kernelspec": {
   "display_name": "Python 3 (ipykernel)",
   "language": "python",
   "name": "python3"
  },
  "language_info": {
   "codemirror_mode": {
    "name": "ipython",
    "version": 3
   },
   "file_extension": ".py",
   "mimetype": "text/x-python",
   "name": "python",
   "nbconvert_exporter": "python",
   "pygments_lexer": "ipython3",
   "version": "3.9.7"
  }
 },
 "nbformat": 4,
 "nbformat_minor": 5
}
