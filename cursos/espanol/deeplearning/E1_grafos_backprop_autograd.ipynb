{
 "cells": [
  {
   "cell_type": "markdown",
   "id": "c4b7a8b9-cea5-4ba3-b72f-09bc5130457d",
   "metadata": {},
   "source": [
    "# Backpropagation y Autogradient\n",
    "\n",
    "1. [Pytorch Autograd Engine](https://pytorch.org/blog/overview-of-pytorch-autograd-engine/)\n",
    "\n",
    "2. [Como se construyen los grafos computacionales en Pytorch](https://pytorch.org/blog/computational-graphs-constructed-in-pytorch/)\n",
    "\n",
    "3. [Como se ejecutan los grafos computacionales en Pytorch](https://pytorch.org/blog/how-computational-graphs-are-executed-in-pytorch/)"
   ]
  },
  {
   "cell_type": "markdown",
   "id": "c63c0ae8-8fef-4bc9-98b1-f670302d02fd",
   "metadata": {},
   "source": [
    "## Calculo automatico del gradiente:\n",
    "\n",
    "## y = x^2"
   ]
  },
  {
   "cell_type": "code",
   "execution_count": null,
   "id": "7676c34d-9e6f-4209-92d6-926899107e35",
   "metadata": {},
   "outputs": [],
   "source": [
    "import torch \n",
    "x = torch.tensor([[2.0]], requires_grad=True)\n",
    "y = x**2\n",
    "y.backward()\n",
    "print(x.grad)"
   ]
  },
  {
   "cell_type": "markdown",
   "id": "ed923552-618e-490a-9ca3-cc2e33c36927",
   "metadata": {},
   "source": [
    "## Un poco mas complejo (grafos de calculos):"
   ]
  },
  {
   "cell_type": "markdown",
   "id": "0d02ad38-e6df-4a9e-a34b-f5b6ac6d951c",
   "metadata": {},
   "source": [
    "## f = (x + y) * z \n",
    "\n",
    "#### lo podemos escribir: f = q * z donde q = x + y\n",
    " \n",
    "![image](img/backprop.png)"
   ]
  },
  {
   "cell_type": "markdown",
   "id": "cd937ea4-b1b1-4835-ade3-38de484d227c",
   "metadata": {},
   "source": [
    "#### Entradas:\n",
    "```\n",
    "x = -2; y = 5; z = -4\n",
    "```\n",
    "\n",
    "#### Paso hacia adelante:\n",
    "```\n",
    "q = x + y   --->   3 \n",
    "\n",
    "f = q * z   --->   3 * -4 = -12 \n",
    "```\n",
    "\n",
    "#### Primer paso del backprop: f = q * z\n",
    "```\n",
    "df/dz = q   --->   3\n",
    "\n",
    "df/dq = z   --->   -4\n",
    "```\n",
    "\n",
    "#### Segundo paso del backprop: q = x + y\n",
    "```\n",
    "df/dx = df/dq * dq/dx   --->   z * 1 = -4\n",
    "\n",
    "df/dy = df/dq * dq/dy   --->   z * 1 = -4\n",
    "```"
   ]
  },
  {
   "cell_type": "code",
   "execution_count": 14,
   "id": "707cead0-b03b-496e-a481-a3e723def96c",
   "metadata": {},
   "outputs": [
    {
     "name": "stdout",
     "output_type": "stream",
     "text": [
      "tensor([[3.]])\n",
      "tensor([[-4.]])\n",
      "tensor([[-4.]])\n"
     ]
    }
   ],
   "source": [
    "x = torch.tensor([[-2.0]], requires_grad=True)\n",
    "y = torch.tensor([[5.0]], requires_grad=True)\n",
    "z = torch.tensor([[-4.0]], requires_grad=True)\n",
    "q = x + y \n",
    "f = q * z \n",
    "f.backward()     # calculo automatico del gradiente\n",
    "\n",
    "print(z.grad)    #df/dz = q => x + y = 3 \n",
    "\n",
    "print(x.grad)    #df/dx = df/dq * dq/dx = z * 1 = -4\n",
    "print(y.grad)    #df/dy = df/dq * dq/dy = z * 1 = -4"
   ]
  },
  {
   "cell_type": "markdown",
   "id": "10e681ed-7daf-4b58-9b51-b824520eecff",
   "metadata": {},
   "source": [
    "### Usemos esto para realizar una Regresion Logistica\n",
    "\n",
    "Utilizando la tecnica del gradiente descendiente en grafos computacionales con autogradiente intentaremos adivinar si a una persona que le damos un prestamo nos devolvera el dinero implementando una regresion logistica en pytorch."
   ]
  },
  {
   "cell_type": "code",
   "execution_count": 1,
   "id": "f96bdc83-54e4-461b-a812-7a4379dd4b08",
   "metadata": {},
   "outputs": [],
   "source": [
    "import numpy as np\n",
    "import pandas as pd\n",
    "import seaborn as sns\n",
    "import matplotlib.pyplot as plt"
   ]
  },
  {
   "cell_type": "code",
   "execution_count": 2,
   "id": "a3137845-8928-4a76-b845-057b5b0e4650",
   "metadata": {},
   "outputs": [],
   "source": [
    "df = pd.DataFrame({\"Salario\":[1500,600,1800,700,1400,3100,2900,4200,5100,4500],\n",
    "                  \"Ahorro\": [11000,5700,1500,7100,4900,11000,13000,14000,18000,16000],\n",
    "                  \"Devolvio\":[0,0,0,0,0,1,1,1,1,1]})"
   ]
  },
  {
   "cell_type": "code",
   "execution_count": 3,
   "id": "2125af94-a04e-4bb9-bbe3-ada983a3c0fe",
   "metadata": {},
   "outputs": [
    {
     "data": {
      "text/html": [
       "<div>\n",
       "<style scoped>\n",
       "    .dataframe tbody tr th:only-of-type {\n",
       "        vertical-align: middle;\n",
       "    }\n",
       "\n",
       "    .dataframe tbody tr th {\n",
       "        vertical-align: top;\n",
       "    }\n",
       "\n",
       "    .dataframe thead th {\n",
       "        text-align: right;\n",
       "    }\n",
       "</style>\n",
       "<table border=\"1\" class=\"dataframe\">\n",
       "  <thead>\n",
       "    <tr style=\"text-align: right;\">\n",
       "      <th></th>\n",
       "      <th>Salario</th>\n",
       "      <th>Ahorro</th>\n",
       "      <th>Devolvio</th>\n",
       "    </tr>\n",
       "  </thead>\n",
       "  <tbody>\n",
       "    <tr>\n",
       "      <th>0</th>\n",
       "      <td>1500</td>\n",
       "      <td>11000</td>\n",
       "      <td>0</td>\n",
       "    </tr>\n",
       "    <tr>\n",
       "      <th>1</th>\n",
       "      <td>600</td>\n",
       "      <td>5700</td>\n",
       "      <td>0</td>\n",
       "    </tr>\n",
       "    <tr>\n",
       "      <th>2</th>\n",
       "      <td>1800</td>\n",
       "      <td>1500</td>\n",
       "      <td>0</td>\n",
       "    </tr>\n",
       "    <tr>\n",
       "      <th>3</th>\n",
       "      <td>700</td>\n",
       "      <td>7100</td>\n",
       "      <td>0</td>\n",
       "    </tr>\n",
       "    <tr>\n",
       "      <th>4</th>\n",
       "      <td>1400</td>\n",
       "      <td>4900</td>\n",
       "      <td>0</td>\n",
       "    </tr>\n",
       "  </tbody>\n",
       "</table>\n",
       "</div>"
      ],
      "text/plain": [
       "   Salario  Ahorro  Devolvio\n",
       "0     1500   11000         0\n",
       "1      600    5700         0\n",
       "2     1800    1500         0\n",
       "3      700    7100         0\n",
       "4     1400    4900         0"
      ]
     },
     "execution_count": 3,
     "metadata": {},
     "output_type": "execute_result"
    }
   ],
   "source": [
    "df.head()"
   ]
  },
  {
   "cell_type": "code",
   "execution_count": 4,
   "id": "962e79ff-1c33-4600-8b59-cca30289799b",
   "metadata": {},
   "outputs": [
    {
     "data": {
      "image/png": "[encoded data removed]",
      "text/plain": [
       "<Figure size 571.611x500 with 1 Axes>"
      ]
     },
     "metadata": {},
     "output_type": "display_data"
    }
   ],
   "source": [
    "sns.relplot(x=\"Salario\", y=\"Ahorro\", hue=\"Devolvio\", data=df);"
   ]
  },
  {
   "cell_type": "markdown",
   "id": "ebfd9b73-aedb-4e48-b353-dce052a6fee6",
   "metadata": {},
   "source": [
    "#### Con PyTorch"
   ]
  },
  {
   "cell_type": "code",
   "execution_count": 5,
   "id": "a6537836-8e7c-49d4-a5e0-2a2abf8f4378",
   "metadata": {},
   "outputs": [],
   "source": [
    "import torch\n",
    "from torch.autograd import Variable\n",
    "from torch.nn import functional as F"
   ]
  },
  {
   "cell_type": "code",
   "execution_count": 6,
   "id": "958a85ea-8c6e-44a1-858d-2f3f66dcc5e2",
   "metadata": {},
   "outputs": [],
   "source": [
    "x = df.loc[:,[\"Salario\",\"Ahorro\"]].to_numpy()\n",
    "x[:,0] = x[:,0]/ 1000\n",
    "x[:,1] = x[:,1]/ 10000\n",
    "y = df.loc[:,[\"Devolvio\"]].to_numpy()"
   ]
  },
  {
   "cell_type": "code",
   "execution_count": 7,
   "id": "57dc4003-0df2-4ec7-8839-3507eb987434",
   "metadata": {},
   "outputs": [],
   "source": [
    "x_data = Variable(torch.Tensor(x))\n",
    "y_data = Variable(torch.Tensor(y))"
   ]
  },
  {
   "cell_type": "code",
   "execution_count": 8,
   "id": "367c87da-76b4-4a26-8f52-c1eea108ff96",
   "metadata": {},
   "outputs": [],
   "source": [
    "class LogisticRegression(torch.nn.Module):\n",
    "    def __init__(self):\n",
    "        super(LogisticRegression, self).__init__()\n",
    "        self.linear = torch.nn.Linear(2, 1)\n",
    "    def forward(self, x):\n",
    "        y_pred = torch.sigmoid(self.linear(x)) # sigmoid(X * W + b)\n",
    "        return y_pred\n",
    "model = LogisticRegression()"
   ]
  },
  {
   "cell_type": "code",
   "execution_count": 9,
   "id": "446dff10-9d7a-4294-af8b-8e944b76c49f",
   "metadata": {},
   "outputs": [],
   "source": [
    "criterion = torch.nn.BCELoss()"
   ]
  },
  {
   "cell_type": "code",
   "execution_count": 10,
   "id": "07980ac2-ecd4-4724-8279-c5bcf7e7555e",
   "metadata": {},
   "outputs": [],
   "source": [
    "optimizer = torch.optim.SGD(model.parameters(), lr=0.1)"
   ]
  },
  {
   "cell_type": "code",
   "execution_count": 11,
   "id": "9475519a-2d8f-471f-974f-d556561e49ac",
   "metadata": {},
   "outputs": [
    {
     "name": "stdout",
     "output_type": "stream",
     "text": [
      "costo:0.6814820766448975\n",
      "costo:0.31258729100227356\n",
      "costo:0.20890073478221893\n",
      "costo:0.16212354600429535\n",
      "costo:0.13511288166046143\n"
     ]
    }
   ],
   "source": [
    "for epoch in range(500):\n",
    "    model.train()\n",
    "    optimizer.zero_grad()\n",
    "    # Forward pass\n",
    "    y_pred = model(x_data)\n",
    "    # Compute Loss\n",
    "    loss = criterion(y_pred, y_data)\n",
    "    if epoch%100 == 0: print(f\"costo:{loss}\")\n",
    "    # Backward pass\n",
    "    loss.backward()\n",
    "    optimizer.step()"
   ]
  },
  {
   "cell_type": "code",
   "execution_count": 12,
   "id": "9de3974e-ebfa-4114-b35c-6054b0745751",
   "metadata": {},
   "outputs": [
    {
     "name": "stdout",
     "output_type": "stream",
     "text": [
      "predicted Y value:  tensor([[0.9568]], grad_fn=<SigmoidBackward0>)\n"
     ]
    }
   ],
   "source": [
    "new_x = Variable(torch.Tensor([[3_000/1_000,15_000/10_000]]))\n",
    "y_pred = model(new_x)\n",
    "print(\"predicted Y value: \", y_pred)"
   ]
  },
  {
   "cell_type": "code",
   "execution_count": 13,
   "id": "b36ff55f-de01-424c-a514-cd0a683e70b2",
   "metadata": {},
   "outputs": [
    {
     "name": "stdout",
     "output_type": "stream",
     "text": [
      "predicted Y value:  tensor([[0.1982]], grad_fn=<SigmoidBackward0>)\n"
     ]
    }
   ],
   "source": [
    "new_x = Variable(torch.Tensor([[900/1_000,8_000/10_000]]))\n",
    "y_pred = model(new_x)\n",
    "print(\"predicted Y value: \", y_pred)"
   ]
  },
  {
   "cell_type": "markdown",
   "id": "3884b893-6012-42bb-8b89-e01ef4c75dff",
   "metadata": {},
   "source": [
    "# Fin: [Volver al contenido del curso](https://www.freecodingtour.com/cursos/espanol/deeplearning/deeplearning.html)"
   ]
  }
 ],
 "metadata": {
  "kernelspec": {
   "display_name": "base",
   "language": "python",
   "name": "base"
  },
  "language_info": {
   "codemirror_mode": {
    "name": "ipython",
    "version": 3
   },
   "file_extension": ".py",
   "mimetype": "text/x-python",
   "name": "python",
   "nbconvert_exporter": "python",
   "pygments_lexer": "ipython3",
   "version": "3.9.7"
  }
 },
 "nbformat": 4,
 "nbformat_minor": 5
}
