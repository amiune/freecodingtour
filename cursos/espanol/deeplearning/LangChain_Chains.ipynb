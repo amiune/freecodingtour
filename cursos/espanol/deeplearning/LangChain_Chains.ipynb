{
 "cells": [
  {
   "cell_type": "markdown",
   "id": "8d96fbc4-9c12-4f05-a5b5-d7af61a5dcb3",
   "metadata": {},
   "source": [
    "# LangChain Chains\n",
    "\n",
    "Aqui nos enfocaremos en las cadenas o Chains que son muy importantes en la libreria LangChain y por ello estan en su nombre.\n",
    "\n",
    "Las Chains nos permiten encadenar la salida de una consulta a un LLM con la entrada a otra consulta y asi conseguir mejores resultados y mas complejos."
   ]
  },
  {
   "cell_type": "code",
   "execution_count": null,
   "id": "8a50d2a5-7607-4959-892f-163d4d7d8cea",
   "metadata": {},
   "outputs": [],
   "source": []
  },
  {
   "cell_type": "markdown",
   "id": "bc7fb339-bcca-4465-ad77-58a6da37edb3",
   "metadata": {},
   "source": [
    "## Referencias:\n",
    "Esta unidad es un resumen traducido con algunas modificacione del [curso de Andrew Ng de Deeplearning.ai](https://www.deeplearning.ai/short-courses/langchain-for-llm-application-development/)"
   ]
  },
  {
   "cell_type": "markdown",
   "id": "6358cb17-9275-4517-8624-2aea9cccb24d",
   "metadata": {},
   "source": [
    "# Fin: [Volver al contenido del curso](https://www.freecodingtour.com/cursos/espanol/deeplearning/deeplearning.html)"
   ]
  }
 ],
 "metadata": {
  "kernelspec": {
   "display_name": "Python 3 (ipykernel)",
   "language": "python",
   "name": "python3"
  },
  "language_info": {
   "codemirror_mode": {
    "name": "ipython",
    "version": 3
   },
   "file_extension": ".py",
   "mimetype": "text/x-python",
   "name": "python",
   "nbconvert_exporter": "python",
   "pygments_lexer": "ipython3",
   "version": "3.9.7"
  }
 },
 "nbformat": 4,
 "nbformat_minor": 5
}
