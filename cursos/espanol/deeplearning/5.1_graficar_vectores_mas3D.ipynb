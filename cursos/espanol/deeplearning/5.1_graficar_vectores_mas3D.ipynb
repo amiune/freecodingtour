{
  "cells": [
    {
      "cell_type": "markdown",
      "id": "703bc370-a834-4261-9ff9-ce3e302325f6",
      "metadata": {
        "id": "703bc370-a834-4261-9ff9-ce3e302325f6"
      },
      "source": [
        "# Como Graficar Vectores de mas de 3 Dimensiones"
      ]
    },
    {
      "cell_type": "code",
      "execution_count": null,
      "id": "bb2b5021-421b-43e0-96c5-2774047a22a2",
      "metadata": {
        "id": "bb2b5021-421b-43e0-96c5-2774047a22a2"
      },
      "outputs": [],
      "source": [
        "!pip install -U sentence-transformers --quiet"
      ]
    },
    {
      "cell_type": "code",
      "execution_count": null,
      "id": "734e1e3c-be45-43dc-ae24-9c047cd0dca7",
      "metadata": {
        "id": "734e1e3c-be45-43dc-ae24-9c047cd0dca7"
      },
      "outputs": [],
      "source": [
        "import pandas as pd\n",
        "from sentence_transformers import SentenceTransformer, util"
      ]
    },
    {
      "cell_type": "code",
      "execution_count": null,
      "id": "f7502eb4-23c5-4f8a-a124-ff9e58fef48b",
      "metadata": {
        "id": "f7502eb4-23c5-4f8a-a124-ff9e58fef48b"
      },
      "outputs": [],
      "source": [
        "model = SentenceTransformer('all-MiniLM-L6-v2')"
      ]
    },
    {
      "cell_type": "code",
      "execution_count": 4,
      "id": "d280f46f-5dc3-4977-9b2e-122fa6885931",
      "metadata": {
        "id": "d280f46f-5dc3-4977-9b2e-122fa6885931"
      },
      "outputs": [],
      "source": [
        "#Textos a vectorizar\n",
        "sentences = [\n",
        "    'Italy',\n",
        "    'Spain',\n",
        "    'Germany',\n",
        "    'France'\n",
        "]"
      ]
    },
    {
      "cell_type": "code",
      "execution_count": 5,
      "id": "349978b5-e078-4920-b247-3b2b4bc1dd2a",
      "metadata": {
        "id": "349978b5-e078-4920-b247-3b2b4bc1dd2a"
      },
      "outputs": [],
      "source": [
        "#Las frases son vectorizadas llamando a model.encode()\n",
        "embeddings = model.encode(sentences)"
      ]
    },
    {
      "cell_type": "code",
      "execution_count": 6,
      "id": "18b52142-f66e-47b8-849f-0dc391e3611a",
      "metadata": {
        "id": "18b52142-f66e-47b8-849f-0dc391e3611a"
      },
      "outputs": [],
      "source": [
        "query = \"Madrid\"\n",
        "query_embedding = model.encode(query)"
      ]
    },
    {
      "cell_type": "markdown",
      "id": "ea00a812-6d3b-4609-a339-a9770daf084e",
      "metadata": {
        "id": "ea00a812-6d3b-4609-a339-a9770daf084e"
      },
      "source": [
        "## Dibujar los vectores\n",
        "\n",
        "### Projectar los vectores en espacios de 1, 2 o 3 dimesiones\n",
        "\n",
        "Hay tecnicas para graficar vectores que tienen mas de 3 dimensiones, por ejemplo [PCA](https://scikit-learn.org/stable/modules/generated/sklearn.decomposition.PCA.html), [t-sne](https://scikit-learn.org/stable/modules/classes.html#module-sklearn.manifold) y [UMAP](https://umap-learn.readthedocs.io/en/latest/index.html). Estas tecnicas projectan estos vectores de muchas dimensiones en espacios de menos dimensiones para poderlos graficar.\n",
        "\n",
        "A continuacion veremos como implementar [PCA](https://scikit-learn.org/stable/modules/generated/sklearn.decomposition.PCA.html)"
      ]
    },
    {
      "cell_type": "markdown",
      "id": "35764499-5a84-4314-832f-6c97adcb6a95",
      "metadata": {
        "id": "35764499-5a84-4314-832f-6c97adcb6a95"
      },
      "source": [
        "Ahora utilizamos PCA para projectar los vectores de 384 dimensiones a solo dos dimensiones"
      ]
    },
    {
      "cell_type": "code",
      "source": [
        "# prompt: Utilizar pca de sklearn para hacer un plot de embeddings\n",
        "\n",
        "from sklearn.decomposition import PCA\n",
        "\n",
        "# Project the embeddings onto the first 2 principal components\n",
        "pca = PCA(n_components=2)\n",
        "embeddings_2d = pca.fit_transform(embeddings)"
      ],
      "metadata": {
        "id": "OV1Nwxy5MTSR"
      },
      "id": "OV1Nwxy5MTSR",
      "execution_count": null,
      "outputs": []
    },
    {
      "cell_type": "code",
      "source": [
        "query_2d = pca.transform([query_embedding])"
      ],
      "metadata": {
        "id": "uovIz7PXNZuf"
      },
      "id": "uovIz7PXNZuf",
      "execution_count": 20,
      "outputs": []
    },
    {
      "cell_type": "markdown",
      "id": "7b1a19ce-4c73-4d1f-bfa1-27bfabbe7ab4",
      "metadata": {
        "id": "7b1a19ce-4c73-4d1f-bfa1-27bfabbe7ab4"
      },
      "source": [
        "Una vez que hemos reducido las dimensiones de nuestro espacio procedemos a graficar con matplotlib como siempre"
      ]
    },
    {
      "cell_type": "code",
      "execution_count": 35,
      "id": "3a5ff888-6da8-415d-b14d-1ab2e5ca3839",
      "metadata": {
        "id": "3a5ff888-6da8-415d-b14d-1ab2e5ca3839"
      },
      "outputs": [],
      "source": [
        "import matplotlib.pyplot as plt"
      ]
    },
    {
      "cell_type": "code",
      "execution_count": 36,
      "id": "bea59a13-af2b-4fd3-9b0a-208734d6c47e",
      "metadata": {
        "id": "bea59a13-af2b-4fd3-9b0a-208734d6c47e",
        "outputId": "169a1fa4-5032-4d1c-c601-995c98a74fb5",
        "colab": {
          "base_uri": "https://localhost:8080/",
          "height": 428
        }
      },
      "outputs": [
        {
          "output_type": "display_data",
          "data": {
            "text/plain": [
              "<Figure size 640x480 with 1 Axes>"
            ],
            "image/png": "[encoded data removed]"
          },
          "metadata": {}
        }
      ],
      "source": [
        "fig, ax = plt.subplots()\n",
        "ax.scatter(embeddings_2d[:, 0], embeddings_2d[:, 1], s=50)\n",
        "ax.scatter(query_2d[:, 0], query_2d[:, 1], s=50, c=\"red\")\n",
        "for i in range(len(sentences)):\n",
        "    ax.annotate(sentences[i], (embeddings_2d[i, 0], embeddings_2d[i, 1]))\n",
        "ax.annotate(\"Madrid\", (query_2d[:, 0], query_2d[:, 1]))\n",
        "ax.set_title('Vectores')\n",
        "ax.axis('off');\n",
        "plt.show()"
      ]
    },
    {
      "cell_type": "markdown",
      "id": "79bd5cad-8d18-48f4-915d-563f5b8cac6b",
      "metadata": {
        "id": "79bd5cad-8d18-48f4-915d-563f5b8cac6b"
      },
      "source": [
        "### Utilizar de grafos para mostrar distancias entre vectores\n",
        "\n",
        "A continuacion utilizaremos la libreria [networkx](https://networkx.org/) para graficar las distancias entre vectores como un grafo donde los nodos representan los datos (vectores) y las conecciones representan la distancia entre dichos datos."
      ]
    },
    {
      "cell_type": "code",
      "execution_count": 37,
      "id": "84721511-936e-4f95-a9e7-fa02c7953a68",
      "metadata": {
        "id": "84721511-936e-4f95-a9e7-fa02c7953a68",
        "outputId": "13a43566-4089-4d95-a1f9-f041c1b0884b",
        "colab": {
          "base_uri": "https://localhost:8080/"
        }
      },
      "outputs": [
        {
          "output_type": "execute_result",
          "data": {
            "text/plain": [
              "[(0.47340691089630127, 'Germany'),\n",
              " (0.45199137926101685, 'France'),\n",
              " (0.4162766933441162, 'Italy'),\n",
              " (0.25939512252807617, 'Spain')]"
            ]
          },
          "metadata": {},
          "execution_count": 37
        }
      ],
      "source": [
        "distancias = []\n",
        "# Calcular que vector del chat es mas similar al vector a buscar\n",
        "for i in range(len(embeddings)):\n",
        "    cos_sim = util.cos_sim(query_embedding, embeddings[i,:])\n",
        "    distancias.append(( 1 - float(cos_sim), sentences[i]))\n",
        "\n",
        "distancias.sort(key=lambda tup: -tup[0])\n",
        "distancias"
      ]
    },
    {
      "cell_type": "code",
      "execution_count": 38,
      "id": "f0f83f8d-a866-4a45-a309-75285e5661a4",
      "metadata": {
        "id": "f0f83f8d-a866-4a45-a309-75285e5661a4"
      },
      "outputs": [],
      "source": [
        "!pip install networkx -U -q"
      ]
    },
    {
      "cell_type": "code",
      "execution_count": 39,
      "id": "ed0971b7-4d31-49ee-9bb4-8bce1cac6108",
      "metadata": {
        "id": "ed0971b7-4d31-49ee-9bb4-8bce1cac6108"
      },
      "outputs": [],
      "source": [
        "import networkx as nx\n",
        "import matplotlib.pyplot as plt"
      ]
    },
    {
      "cell_type": "code",
      "execution_count": 40,
      "id": "972a31da-204c-4425-a36f-458bbf18fdd0",
      "metadata": {
        "id": "972a31da-204c-4425-a36f-458bbf18fdd0"
      },
      "outputs": [],
      "source": [
        "G = nx.Graph()\n",
        "G.add_edge('Madrid', 'Italy', weight=0.42 )\n",
        "G.add_edge('Madrid', 'Spain', weight=0.26 )\n",
        "G.add_edge('Madrid', 'Germany', weight=0.47 )\n",
        "G.add_edge('Madrid', 'France', weight=0.45 )"
      ]
    },
    {
      "cell_type": "code",
      "execution_count": 41,
      "id": "88679acf-950d-40df-ab19-596c4262988b",
      "metadata": {
        "id": "88679acf-950d-40df-ab19-596c4262988b",
        "outputId": "5f873287-f041-42af-9a4a-8ec4929e2758",
        "colab": {
          "base_uri": "https://localhost:8080/",
          "height": 487
        }
      },
      "outputs": [
        {
          "output_type": "display_data",
          "data": {
            "text/plain": [
              "<Figure size 640x480 with 1 Axes>"
            ],
            "image/png": "[encoded data removed]"
          },
          "metadata": {}
        }
      ],
      "source": [
        "pos = nx.spring_layout(G, seed=42)\n",
        "nx.draw_networkx_nodes(G, pos, node_size=700)\n",
        "nx.draw_networkx_edges(G, pos, width=2)\n",
        "\n",
        "nx.draw_networkx_labels(G, pos, font_size=20, font_family=\"sans-serif\")\n",
        "edge_labels = nx.get_edge_attributes(G, \"weight\")\n",
        "nx.draw_networkx_edge_labels(G, pos, edge_labels)\n",
        "\n",
        "ax = plt.gca()\n",
        "ax.margins(0.08)\n",
        "plt.axis(\"off\")\n",
        "plt.tight_layout()\n",
        "plt.show();"
      ]
    },
    {
      "cell_type": "markdown",
      "id": "efbc1261-9804-40d0-b466-10c1823e53f9",
      "metadata": {
        "id": "efbc1261-9804-40d0-b466-10c1823e53f9"
      },
      "source": [
        "### Referencias:\n",
        "- NetworkX:\n",
        "  - [Tutorial](https://networkx.org/documentation/stable/tutorial.html)\n",
        "  - [Weighted Graph](https://networkx.org/documentation/stable/auto_examples/drawing/plot_weighted_graph.html)\n",
        "  - [Node Position](https://networkx.org/documentation/stable/auto_examples/drawing/plot_center_node.html)"
      ]
    },
    {
      "cell_type": "markdown",
      "id": "f04bb696-ef65-4431-90fe-4b769b9d5e2f",
      "metadata": {
        "id": "f04bb696-ef65-4431-90fe-4b769b9d5e2f"
      },
      "source": [
        "# Fin: [Volver al contenido del curso](https://www.freecodingtour.com/cursos/espanol/deeplearning/deeplearning.html)"
      ]
    }
  ],
  "metadata": {
    "kernelspec": {
      "display_name": "Python 3 (ipykernel)",
      "language": "python",
      "name": "python3"
    },
    "language_info": {
      "codemirror_mode": {
        "name": "ipython",
        "version": 3
      },
      "file_extension": ".py",
      "mimetype": "text/x-python",
      "name": "python",
      "nbconvert_exporter": "python",
      "pygments_lexer": "ipython3",
      "version": "3.9.18"
    },
    "colab": {
      "provenance": []
    }
  },
  "nbformat": 4,
  "nbformat_minor": 5
}