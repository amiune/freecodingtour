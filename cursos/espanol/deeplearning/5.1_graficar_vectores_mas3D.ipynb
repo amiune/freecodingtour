{
 "cells": [
  {
   "cell_type": "markdown",
   "id": "703bc370-a834-4261-9ff9-ce3e302325f6",
   "metadata": {},
   "source": [
    "# Como Graficar Vectores de mas de 3 Dimensiones"
   ]
  },
  {
   "cell_type": "code",
   "execution_count": null,
   "id": "bb2b5021-421b-43e0-96c5-2774047a22a2",
   "metadata": {},
   "outputs": [],
   "source": [
    "!pip install -U sentence-transformers --quiet"
   ]
  },
  {
   "cell_type": "code",
   "execution_count": null,
   "id": "734e1e3c-be45-43dc-ae24-9c047cd0dca7",
   "metadata": {},
   "outputs": [],
   "source": [
    "import pandas as pd\n",
    "from sentence_transformers import SentenceTransformer, util"
   ]
  },
  {
   "cell_type": "code",
   "execution_count": null,
   "id": "f7502eb4-23c5-4f8a-a124-ff9e58fef48b",
   "metadata": {},
   "outputs": [],
   "source": [
    "model = SentenceTransformer('all-MiniLM-L6-v2')"
   ]
  },
  {
   "cell_type": "code",
   "execution_count": null,
   "id": "d280f46f-5dc3-4977-9b2e-122fa6885931",
   "metadata": {},
   "outputs": [],
   "source": [
    "#Textos a vectorizar\n",
    "sentences = [\n",
    "    'Italy',\n",
    "    'Spain',\n",
    "    'Germany',\n",
    "    'France'\n",
    "]"
   ]
  },
  {
   "cell_type": "code",
   "execution_count": null,
   "id": "349978b5-e078-4920-b247-3b2b4bc1dd2a",
   "metadata": {},
   "outputs": [],
   "source": [
    "#Las frases son vectorizadas llamando a model.encode()\n",
    "embeddings = model.encode(sentences)"
   ]
  },
  {
   "cell_type": "code",
   "execution_count": null,
   "id": "18b52142-f66e-47b8-849f-0dc391e3611a",
   "metadata": {},
   "outputs": [],
   "source": [
    "query = \"Madrid\"\n",
    "query_embedding = model.encode(query)"
   ]
  },
  {
   "cell_type": "markdown",
   "id": "ea00a812-6d3b-4609-a339-a9770daf084e",
   "metadata": {},
   "source": [
    "## Dibujar los vectores\n",
    "\n",
    "### Projectar los vectores en espacios de 1, 2 o 3 dimesiones\n",
    "\n",
    "Hay tecnicas para graficar vectores que tienen mas de 3 dimensiones, por ejemplo PCA, t-sne y umap. Estas tecnicas projectan estos vectores de muchas dimensiones en espacios de menos dimensiones para poderlos graficar.\n",
    "\n",
    "A continuacion veremos como implementar [UMAP](https://umap-learn.readthedocs.io/en/latest/index.html), para ello primero instalamos e importamos la libreria."
   ]
  },
  {
   "cell_type": "code",
   "execution_count": null,
   "id": "b8f1201c-be40-4d15-82e5-a20ad280e877",
   "metadata": {},
   "outputs": [],
   "source": [
    "!pip install tsne -U -q"
   ]
  },
  {
   "cell_type": "code",
   "execution_count": null,
   "id": "d4a99098-2d38-4fd2-8909-aaccee61d3a9",
   "metadata": {},
   "outputs": [],
   "source": [
    "import tsne"
   ]
  },
  {
   "cell_type": "markdown",
   "id": "35764499-5a84-4314-832f-6c97adcb6a95",
   "metadata": {},
   "source": [
    "Ahora utilizamos UMAP para projectar los vectores de 348 dimensiones a solo dos dimensiones"
   ]
  },
  {
   "cell_type": "code",
   "execution_count": null,
   "id": "2cf5bd65-48de-48b0-8098-6857f75aa61b",
   "metadata": {},
   "outputs": [],
   "source": [
    "umap_transform = umap.UMAP().fit(embeddings)\n",
    "\n",
    "projected_dataset_embeddings = umap_transform.transform(embeddings)\n",
    "\n",
    "projected_query_embedding = umap_transform.transform([query_embedding])"
   ]
  },
  {
   "cell_type": "markdown",
   "id": "7b1a19ce-4c73-4d1f-bfa1-27bfabbe7ab4",
   "metadata": {},
   "source": [
    "Una vez que hemos reducido las dimensiones de nuestro espacio procedemos a graficar con matplotlib como siempre"
   ]
  },
  {
   "cell_type": "code",
   "execution_count": null,
   "id": "3a5ff888-6da8-415d-b14d-1ab2e5ca3839",
   "metadata": {},
   "outputs": [],
   "source": [
    "import matplotlib.pyplot as plt"
   ]
  },
  {
   "cell_type": "code",
   "execution_count": null,
   "id": "bea59a13-af2b-4fd3-9b0a-208734d6c47e",
   "metadata": {},
   "outputs": [],
   "source": [
    "fig, ax = plt.subplots()\n",
    "ax.scatter(projected_dataset_embeddings[:, 0], projected_dataset_embeddings[:, 1], s=10)\n",
    "for i, txt in enumerate(projected_dataset_embeddings):\n",
    "    ax.annotate(sentences[i], (projected_dataset_embeddings[i,0], projected_dataset_embeddings[i,1]))\n",
    "ax.scatter(projected_query_embedding[:, 0], projected_query_embedding[:, 1], c='red')\n",
    "ax.annotate(\"Madrid\", (projected_query_embedding[:, 0], projected_query_embedding[:, 1]))\n",
    "ax.set_title('Vectores')\n",
    "ax.axis('off');"
   ]
  },
  {
   "cell_type": "markdown",
   "id": "79bd5cad-8d18-48f4-915d-563f5b8cac6b",
   "metadata": {},
   "source": [
    "### Utilizar de grafos para mostrar distancias entre vectores\n",
    "\n",
    "A continuacion utilizaremos la libreria [networkx](https://networkx.org/) para graficar las distancias entre vectores como un grafo donde los nodos representan los datos (vectores) y las conecciones representan la distancia entre dichos datos."
   ]
  },
  {
   "cell_type": "code",
   "execution_count": null,
   "id": "84721511-936e-4f95-a9e7-fa02c7953a68",
   "metadata": {},
   "outputs": [],
   "source": [
    "distancias = []\n",
    "# Calcular que vector del chat es mas similar al vector a buscar\n",
    "for i in range(len(embeddings)):\n",
    "    cos_sim = util.cos_sim(query_embedding, embeddings[i,:])\n",
    "    distancias.append(( 1 - float(cos_sim), sentences[i]))\n",
    "    \n",
    "distancias.sort(key=lambda tup: -tup[0])\n",
    "distancias"
   ]
  },
  {
   "cell_type": "code",
   "execution_count": null,
   "id": "f0f83f8d-a866-4a45-a309-75285e5661a4",
   "metadata": {},
   "outputs": [],
   "source": [
    "!pip install networkx -U -q"
   ]
  },
  {
   "cell_type": "code",
   "execution_count": null,
   "id": "ed0971b7-4d31-49ee-9bb4-8bce1cac6108",
   "metadata": {},
   "outputs": [],
   "source": [
    "import networkx as nx\n",
    "import matplotlib.pyplot as plt"
   ]
  },
  {
   "cell_type": "code",
   "execution_count": null,
   "id": "972a31da-204c-4425-a36f-458bbf18fdd0",
   "metadata": {},
   "outputs": [],
   "source": [
    "G = nx.Graph()\n",
    "G.add_edge('Madrid', 'Italy', weight=0.42 )\n",
    "G.add_edge('Madrid', 'Spain', weight=0.26 )\n",
    "G.add_edge('Madrid', 'Germany', weight=0.47 )\n",
    "G.add_edge('Madrid', 'France', weight=0.45 )"
   ]
  },
  {
   "cell_type": "code",
   "execution_count": null,
   "id": "88679acf-950d-40df-ab19-596c4262988b",
   "metadata": {},
   "outputs": [],
   "source": [
    "pos = nx.spring_layout(G, seed=42)\n",
    "nx.draw_networkx_nodes(G, pos, node_size=700)\n",
    "nx.draw_networkx_edges(G, pos, width=2)\n",
    "\n",
    "nx.draw_networkx_labels(G, pos, font_size=20, font_family=\"sans-serif\")\n",
    "edge_labels = nx.get_edge_attributes(G, \"weight\")\n",
    "nx.draw_networkx_edge_labels(G, pos, edge_labels)\n",
    "\n",
    "ax = plt.gca()\n",
    "ax.margins(0.08)\n",
    "plt.axis(\"off\")\n",
    "plt.tight_layout()\n",
    "plt.show();"
   ]
  },
  {
   "cell_type": "markdown",
   "id": "efbc1261-9804-40d0-b466-10c1823e53f9",
   "metadata": {},
   "source": [
    "### Referencias:\n",
    "- NetworkX: \n",
    "  - [Tutorial](https://networkx.org/documentation/stable/tutorial.html)\n",
    "  - [Weighted Graph](https://networkx.org/documentation/stable/auto_examples/drawing/plot_weighted_graph.html)\n",
    "  - [Node Position](https://networkx.org/documentation/stable/auto_examples/drawing/plot_center_node.html)"
   ]
  },
  {
   "cell_type": "markdown",
   "id": "f04bb696-ef65-4431-90fe-4b769b9d5e2f",
   "metadata": {},
   "source": [
    "# Fin: [Volver al contenido del curso](https://www.freecodingtour.com/cursos/espanol/deeplearning/deeplearning.html)"
   ]
  }
 ],
 "metadata": {
  "kernelspec": {
   "display_name": "Python 3 (ipykernel)",
   "language": "python",
   "name": "python3"
  },
  "language_info": {
   "codemirror_mode": {
    "name": "ipython",
    "version": 3
   },
   "file_extension": ".py",
   "mimetype": "text/x-python",
   "name": "python",
   "nbconvert_exporter": "python",
   "pygments_lexer": "ipython3",
   "version": "3.9.7"
  }
 },
 "nbformat": 4,
 "nbformat_minor": 5
}
