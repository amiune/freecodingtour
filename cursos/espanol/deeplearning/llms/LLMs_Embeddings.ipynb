{
 "cells": [
  {
   "cell_type": "markdown",
   "metadata": {},
   "source": [
    "# LLMs Embeddings and Vector Databases\n",
    "\n",
    "- [Visualizacion del Algoritmo HNSW](https://github.com/zilliztech/feder)\n",
    "- [Alpaca + Mistral Nemo 12b Unsloth 2x faster finetuning](https://colab.research.google.com/drive/17d3U-CAIwzmbDRqbZ9NnpHxCkmXB6LZ0?usp=sharing)\n",
    "- [How to Fine-Tune Llama 3 for Customer Service](https://symbl.ai/developers/blog/how-to-fine-tune-llama-3-for-customer-service/)\n",
    "\n",
    "Mas\n",
    "\n",
    "- [Using Embeddings](https://github.com/openai/openai-cookbook/blob/main/examples/Using_embeddings.ipynb)\n",
    "- [Embedding Wikipedia articles for search](https://github.com/openai/openai-cookbook/blob/main/examples/Embedding_Wikipedia_articles_for_search.ipynb)\n",
    "- [Classification using embeddings](https://github.com/openai/openai-cookbook/blob/main/examples/Classification_using_embeddings.ipynb)\n",
    "- [Question answering using embeddings-based search](https://github.com/openai/openai-cookbook/blob/main/examples/Question_answering_using_embeddings.ipynb)\n",
    "\n",
    "- [OpenAI Embeddings Utils](https://github.com/openai/openai-cookbook/blob/main/examples/utils/embeddings_utils.py)"
   ]
  },
  {
   "cell_type": "code",
   "execution_count": null,
   "metadata": {},
   "outputs": [],
   "source": []
  }
 ],
 "metadata": {
  "kernelspec": {
   "display_name": "Python 3 (ipykernel)",
   "language": "python",
   "name": "python3"
  },
  "language_info": {
   "codemirror_mode": {
    "name": "ipython",
    "version": 3
   },
   "file_extension": ".py",
   "mimetype": "text/x-python",
   "name": "python",
   "nbconvert_exporter": "python",
   "pygments_lexer": "ipython3",
   "version": "3.12.4"
  }
 },
 "nbformat": 4,
 "nbformat_minor": 4
}
