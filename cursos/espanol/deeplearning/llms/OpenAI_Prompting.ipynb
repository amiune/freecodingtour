{
 "cells": [
  {
   "cell_type": "markdown",
   "id": "c08833d7-54cd-495e-8eb8-1c60721d5d1d",
   "metadata": {},
   "source": [
    "# ChatGPT Prompting\n",
    "\n",
    "En esta unidad veremos como utilizar la libreria de OpenAI para realizar consultas a ChatGPT y poder utilizar sus respuestas para luego crear un programa mas complejo.\n",
    "\n",
    "Esta unidad es un resumen traducido con algunas modificaciones del [curso de Andrew Ng de Deeplearning.ai](https://www.deeplearning.ai/short-courses/chatgpt-prompt-engineering-for-developers/)"
   ]
  },
  {
   "cell_type": "code",
   "execution_count": null,
   "id": "4986f8f2-cd5d-49ba-a300-1a9a03b81f5e",
   "metadata": {},
   "outputs": [],
   "source": [
    "!pip install openai --upgrade --quiet"
   ]
  },
  {
   "cell_type": "code",
   "execution_count": null,
   "id": "49f7e79f-64f6-4880-af61-581a28a8086a",
   "metadata": {},
   "outputs": [],
   "source": [
    "from openai import OpenAI\n",
    "\n",
    "api_key=\"INGRESA AQUI TU TOKEN DE OPENAI\""
   ]
  },
  {
   "cell_type": "code",
   "execution_count": null,
   "id": "e5296b32-45a5-4609-a941-8ab00f3d95e5",
   "metadata": {},
   "outputs": [],
   "source": [
    "#@title [Opcional] cargar el token desde colab para que no se vea al dar clases {display-mode:\"form\"}\n",
    "if api_key == \"INGRESA AQUI TU TOKEN DE OPENAI\":\n",
    "    from google.colab import userdata\n",
    "    api_key = userdata.get('OPENAI_TOKEN')"
   ]
  },
  {
   "cell_type": "code",
   "execution_count": null,
   "id": "2d44bef4-831c-42c2-87ed-f20134c51e66",
   "metadata": {},
   "outputs": [],
   "source": [
    "# defaults to os.environ.get(\"OPENAI_API_KEY\")\n",
    "client = OpenAI(api_key=api_key)"
   ]
  },
  {
   "cell_type": "code",
   "execution_count": null,
   "id": "1ea37c54-3075-435f-a48f-48f8fd1226c2",
   "metadata": {},
   "outputs": [],
   "source": [
    "def generar_texto(prompt, model=\"gpt-3.5-turbo\"):\n",
    "    messages = [{\"role\": \"user\", \"content\": prompt}]\n",
    "    response = client.chat.completions.create(\n",
    "        model=model,\n",
    "        messages=messages,\n",
    "        temperature=0, # aleatoriedad de las respuestas del modelo\n",
    "    )\n",
    "    return response.choices[0].message.content"
   ]
  },
  {
   "cell_type": "code",
   "execution_count": null,
   "id": "2aae4ecf-63c5-4bcc-b95b-a985ffdcfe18",
   "metadata": {},
   "outputs": [],
   "source": [
    "generar_texto(\"Hola\")"
   ]
  },
  {
   "cell_type": "code",
   "execution_count": null,
   "id": "bc7230bb-16d4-49c9-a220-058e1d1b1e4e",
   "metadata": {},
   "outputs": [],
   "source": [
    "generar_texto(\"En que año estamos?\")"
   ]
  },
  {
   "cell_type": "code",
   "execution_count": null,
   "id": "8d00b174-e6d6-48ee-a6f8-435cbdf9cb2d",
   "metadata": {},
   "outputs": [],
   "source": [
    "generar_texto(\"Mi nombre es Hernan\")"
   ]
  },
  {
   "cell_type": "code",
   "execution_count": null,
   "id": "b5ce3674-5e24-410d-bbad-c5facd02eb49",
   "metadata": {},
   "outputs": [],
   "source": [
    "generar_texto(\"Cual es mi nombre?\")"
   ]
  },
  {
   "cell_type": "markdown",
   "id": "cd67c3ac-f8ae-47b3-8ca7-5b7c1dd0f6b5",
   "metadata": {},
   "source": [
    "## Como escribir un prompt:\n",
    "- Principio 1: Escribir instrucciones claras y precisas\n",
    "- Principio 2: Separar un problema grande en pequeños problemas simples"
   ]
  },
  {
   "cell_type": "markdown",
   "id": "1e19c704-7007-47ef-bddb-9cf687018958",
   "metadata": {},
   "source": [
    "## Principio 1: Escribir instrucciones claras y precisas"
   ]
  },
  {
   "cell_type": "markdown",
   "id": "e024fd5a-3a01-4091-b403-51f4cca5420e",
   "metadata": {},
   "source": [
    "### Tacticas\n",
    "\n",
    "#### Tactica 1: Usar delimitadores para diferenciar claramente partes distintas de la entrada\n",
    "- Los delimitadores pueden ser cualquier caracter o secuencia de caracteres como: ```, \"\"\", < >, `<tag> </tag>`, `:`"
   ]
  },
  {
   "cell_type": "code",
   "execution_count": null,
   "id": "748bc3da-3666-40b7-aef2-edfb603b1862",
   "metadata": {},
   "outputs": [],
   "source": [
    "text = f\"\"\"\n",
    "Debes expresar lo que quieres que un modelo haga \\\n",
    "proporcionando instrucciones que sean lo más claras \\\n",
    "y específicas posibles. Esto guiará al modelo hacia la \\\n",
    "salida deseada y reducirá las posibilidades de recibir \\\n",
    "respuestas irrelevantes o incorrectas. No confundas escribir \\\n",
    "una instrucción clara con escribir una instrucción breve. \\\n",
    "En muchos casos, las instrucciones más largas proporcionan más \\\n",
    "claridad y contexto para el modelo, lo que puede resultar en \\\n",
    "salidas más detalladas y relevantes.\n",
    "\"\"\"\n",
    "\n",
    "prompt = f\"\"\"\n",
    "Resume el texto delimitado por tres acentos invertidos \\\n",
    "en una sola frase.\n",
    "```{text}```\n",
    "\"\"\"\n",
    "response = generar_texto(prompt)\n",
    "print(response)"
   ]
  },
  {
   "cell_type": "markdown",
   "id": "f3db80a9-c541-475f-9b04-352cb922e950",
   "metadata": {},
   "source": [
    "#### Tactica 2: Pedir una salida estructurada\n",
    "- JSON, HTML"
   ]
  },
  {
   "cell_type": "code",
   "execution_count": null,
   "id": "c8369f6f-dec3-483e-a343-ad39a3acf878",
   "metadata": {},
   "outputs": [],
   "source": [
    "prompt = f\"\"\"\n",
    "Genera una lista de tres títulos de libros inventados junto \\\n",
    "con sus autores y géneros.\n",
    "Proporciónalos en formato JSON con las siguientes claves:\n",
    "book_id, title, author, genre.\n",
    "\"\"\"\n",
    "response = generar_texto(prompt)\n",
    "print(response)"
   ]
  },
  {
   "cell_type": "markdown",
   "id": "d494becb-c6dc-4b30-b010-acaf83a48bb8",
   "metadata": {},
   "source": [
    "#### Ejercicio 1:\n",
    "\n",
    "Hacer zero shot de detección de spam utilizando las tacticas antes mencionadas y utilizando el conocimiento masivo que tiene comprimido chatgpt en su arquitectura de mas de 100 billones de parametros.\n",
    "\n",
    "Para ello pedirle al modelo que reconozca si un texto es spam o que y especificar cual debe ser el formato de la respuesta. Utilizar la tactica de delimitar el texto que queremos analizar."
   ]
  },
  {
   "cell_type": "code",
   "execution_count": null,
   "id": "712e6d7a-6bec-4857-bbe9-a90a83f4f382",
   "metadata": {},
   "outputs": [],
   "source": []
  },
  {
   "cell_type": "code",
   "execution_count": null,
   "id": "0e6efae8-079a-4516-86ec-7abcb75f4d94",
   "metadata": {},
   "outputs": [],
   "source": []
  },
  {
   "cell_type": "markdown",
   "id": "f1567fbc-fc2d-4728-aea5-6de3e7cfaf39",
   "metadata": {},
   "source": [
    "#### Tactica 3: Pedir al modelo que verifique que se cumplan ciertas condiciones"
   ]
  },
  {
   "cell_type": "code",
   "execution_count": null,
   "id": "c5182ec9-b30d-4973-8e25-f7daaa745d02",
   "metadata": {},
   "outputs": [],
   "source": [
    "text_1 = f\"\"\"\n",
    "¡Hacer una taza de té es fácil! Primero, necesitas hervir \\\n",
    "un poco de agua. Mientras eso ocurre, toma una taza y coloca \\\n",
    "una bolsita de té en ella. Una vez que el agua esté lo \\\n",
    "suficientemente caliente, simplemente viértela sobre la bolsita \\\n",
    "de té. Déjalo reposar un rato para que el té pueda infusionarse. \\\n",
    "Después de unos minutos, retira la bolsita de té. Si lo deseas, \\\n",
    "puedes añadir azúcar o leche al gusto. ¡Y eso es todo! Tienes \\\n",
    "para ti una deliciosa taza de té para disfrutar.\n",
    "\"\"\"\n",
    "prompt = f\"\"\"\n",
    "Se te proporcionará un texto delimitado por comillas triples.\n",
    "Si contiene una secuencia de instrucciones,\n",
    "reescribe esas instrucciones en el siguiente formato:\n",
    "\n",
    "Paso 1 - ...\n",
    "Paso 2 - ...\n",
    "…\n",
    "Paso N - ...\n",
    "\n",
    "Si el texto no contiene una secuencia de instrucciones,\n",
    "simplemente escribe: \\\"No se proporcionaron pasos.\\\"\n",
    "\n",
    "\\\"\\\"\\\"{text_1}\\\"\\\"\\\"\n",
    "\"\"\"\n",
    "response = generar_texto(prompt)\n",
    "print(\"Respuesta para el Texto 1:\")\n",
    "print(response)"
   ]
  },
  {
   "cell_type": "code",
   "execution_count": null,
   "id": "71a1f135-66c4-4bd8-a88a-31f26f194b94",
   "metadata": {},
   "outputs": [],
   "source": [
    "text_2 = f\"\"\"\n",
    "El sol brilla con fuerza hoy, y los pájaros están cantando. \\\n",
    "Es un hermoso día para dar un paseo por el parque. Las flores \\\n",
    "están floreciendo y los árboles se mecen suavemente con la brisa. \\\n",
    "La gente está fuera disfrutando del agradable clima. Algunos \\\n",
    "están haciendo picnics, mientras que otros están jugando juegos \\\n",
    "o simplemente relajándose en el césped. Es un día perfecto para \\\n",
    "pasar tiempo al aire libre y apreciar la belleza de la naturaleza.\n",
    "\"\"\"\n",
    "prompt = f\"\"\"\n",
    "Se te proporcionará un texto delimitado por comillas triples.\n",
    "Si contiene una secuencia de instrucciones,\n",
    "reformula esas instrucciones en el siguiente formato:\n",
    "\n",
    "Paso 1 - ...\n",
    "Paso 2 - ...\n",
    "…\n",
    "Paso N - ...\n",
    "\n",
    "Si el texto no contiene una secuencia de instrucciones,\n",
    "simplemente escribe: \\\"No se proporcionaron pasos.\\\"\n",
    "\n",
    "\\\"\\\"\\\"{text_2}\\\"\\\"\\\"\n",
    "\"\"\"\n",
    "response = generar_texto(prompt)\n",
    "print(\"Respuesta para el Texto 2:\")\n",
    "print(response)"
   ]
  },
  {
   "cell_type": "markdown",
   "id": "288433e4-35c7-40ed-9f6c-ed98f99ce1a1",
   "metadata": {},
   "source": [
    "#### Tactica 4: \"Few-shot\" prompting\n",
    "- Mostrar pocos ejemplos para que el modelo sepa como responder"
   ]
  },
  {
   "cell_type": "code",
   "execution_count": null,
   "id": "38dfacab-5f10-4dd7-bbff-faa879929335",
   "metadata": {},
   "outputs": [],
   "source": [
    "prompt = f\"\"\"\n",
    "Tu tarea es responder con un estilo consistente.\n",
    "\n",
    "<niño>: Enséñame sobre la paciencia.\n",
    "\n",
    "<abuelo>: El río que talla el valle más profundo fluye \\\n",
    "de una fuente modesta; la sinfonía más grandiosa se origina \\\n",
    "de una sola nota; el tapiz más intrincado comienza con un solo hilo.\n",
    "\n",
    "<niño>: Enséñame sobre la resiliencia.\n",
    "\"\"\"\n",
    "response = generar_texto(prompt)\n",
    "print(response)"
   ]
  },
  {
   "cell_type": "markdown",
   "id": "c71e39d8-8034-4cb0-93a2-7c7f8d4a4e9f",
   "metadata": {},
   "source": [
    "#### Ejercicio 2:\n",
    "\n",
    "Hacer few shot clasification de tweets que son graciosos o no segun nuestro criterio. \n",
    "\n",
    "Cuando utilizar esto y cuando finetunning de un modelo mas pequeño?"
   ]
  },
  {
   "cell_type": "code",
   "execution_count": null,
   "id": "6aff3258-6612-4f38-b8ae-8d22b4041543",
   "metadata": {},
   "outputs": [],
   "source": []
  },
  {
   "cell_type": "markdown",
   "id": "1c631875-3997-4d25-8d41-67e304d9eb88",
   "metadata": {},
   "source": [
    "## Principio 2: Separar un problema grande en pequeños problemas simples"
   ]
  },
  {
   "cell_type": "markdown",
   "id": "e6466d80-ed1b-4487-b196-e861c5ff9821",
   "metadata": {},
   "source": [
    "#### Tactica 1: Definir claramente los pasos requeridos para completar una tarea"
   ]
  },
  {
   "cell_type": "code",
   "execution_count": null,
   "id": "fe1a0ff8-716a-44c5-8ec2-d6786be0ad1f",
   "metadata": {},
   "outputs": [],
   "source": [
    "text = f\"\"\"\n",
    "En un encantador pueblo, los hermanos Jack y Jill emprendieron \\\n",
    "una misión para buscar agua de un pozo en lo alto de una colina.\\\n",
    "Mientras ascendían, cantando con alegría, la desgracia ocurrió: \\\n",
    "Jack tropezó con una piedra y cayó rodando colina abajo, con Jill \\\n",
    "siguiéndole el paso. Aunque algo magullados, la pareja regresó a \\\n",
    "casa a abrazos reconfortantes. A pesar del percance, su espíritu \\\n",
    "aventurero permaneció inquebrantable y continuaron explorando con \\\n",
    "deleite.\n",
    "\"\"\"\n",
    "# ejemplo 1\n",
    "prompt_1 = f\"\"\"\n",
    "Realiza las siguientes acciones:\n",
    "1 - Resumir el texto delimitado por tres acentos invertidos \\\n",
    "en una sola frase.\n",
    "2 - Traducir el resumen al francés.\n",
    "3 - Enumera cada nombre en el resumen en francés.\n",
    "4 - Genera un objeto json que contenga las siguientes claves: \\\n",
    "resumen_en_frances, num_nombres.\n",
    "\n",
    "Separa tus respuestas con saltos de línea.\n",
    "\n",
    "Texto:\n",
    "```{text}```\n",
    "\"\"\"\n",
    "response = generar_texto(prompt_1)\n",
    "print(\"Respuesta al prompt 1:\")\n",
    "print(response)"
   ]
  },
  {
   "cell_type": "markdown",
   "id": "0b5f11f4-f627-49eb-bbc3-43d234259437",
   "metadata": {},
   "source": [
    "#### Solicitar que la salida tenga un formato especifico"
   ]
  },
  {
   "cell_type": "code",
   "execution_count": null,
   "id": "9a3f810d-a65f-4144-8999-12f69b549629",
   "metadata": {},
   "outputs": [],
   "source": [
    "prompt_2 = f\"\"\"\n",
    "Tu tarea es realizar las siguientes acciones:\n",
    "1 - Resumir el siguiente texto delimitado por\n",
    "<> en una sola frase.\n",
    "2 - Traducir el resumen al francés.\n",
    "3 - Enumera cada nombre en el resumen en francés.\n",
    "4 - Genera un objeto json que contenga las siguientes\n",
    "claves: resumen_en_frances, num_nombres.\n",
    "\n",
    "Utiliza el siguiente formato:\n",
    "Texto: <texto a resumir>\n",
    "Resumen: <resumen>\n",
    "Traducción: <traducción del resumen>\n",
    "Nombres: <lista de nombres en el resumen francés>\n",
    "Salida JSON: <json con resumen y num_nombres>\n",
    "\n",
    "Texto: <{text}>\n",
    "\"\"\"\n",
    "response = generar_texto(prompt_2)\n",
    "print(\"Respuesta para el prompt 2:\")\n",
    "print(response)"
   ]
  },
  {
   "cell_type": "markdown",
   "id": "bfb9f397-1cae-4231-92b3-f45d01f8b45a",
   "metadata": {},
   "source": [
    "#### Tactica 2: Instruye al modelo para que elabore su propia solución antes de apresurarse a una conclusión."
   ]
  },
  {
   "cell_type": "code",
   "execution_count": null,
   "id": "0201a0b5-438a-406f-ae27-c6f5298e464b",
   "metadata": {},
   "outputs": [],
   "source": [
    "prompt = f\"\"\"\n",
    "Determina si la solución del estudiante es correcta o no.\n",
    "\n",
    "Pregunta:\n",
    "Estoy construyendo una instalación de energía solar y necesito \\\n",
    "ayuda para calcular los aspectos financieros.\n",
    "\n",
    "El terreno cuesta $100 por pie cuadrado\n",
    "Puedo comprar paneles solares por $250 por pie cuadrado\n",
    "Negocié un contrato de mantenimiento que me costará una tarifa \\\n",
    "plana de $100k al año, y un adicional de $10 por pie cuadrado.\n",
    "¿Cuál es el costo total para el primer año de operaciones en función \\\n",
    "del número de pies cuadrados?\n",
    "Solución del estudiante:\n",
    "Dejemos x como el tamaño de la instalación en pies cuadrados.\n",
    "Costos:\n",
    "\n",
    "Costo del terreno: 100x\n",
    "Costo del panel solar: 250x\n",
    "Costo de mantenimiento: 100,000 + 10x\n",
    "Costo total: 100x + 250x + 100,000 + 10x = 450x + 100,000\n",
    "\"\"\"\n",
    "response = generar_texto(prompt)\n",
    "print(response)"
   ]
  },
  {
   "cell_type": "markdown",
   "id": "a9f549a6-5590-4d56-8b13-e962d0f82ba8",
   "metadata": {},
   "source": [
    "#### Notar que la solucion del alumno no es correcta.\n",
    "#### Podemos solucionar esto instruyendo al modelo que trabaje la solucion de la siguiente manera:"
   ]
  },
  {
   "cell_type": "code",
   "execution_count": null,
   "id": "eb9745ea-87d1-4178-bd63-942c75187be0",
   "metadata": {},
   "outputs": [],
   "source": [
    "prompt = f\"\"\"\n",
    "Tu tarea es determinar si la solución del estudiante es correcta o no.\n",
    "Para resolver el problema haz lo siguiente:\n",
    "\n",
    "Primero, resuelve el problema por ti mismo.\n",
    "Luego compara tu solución con la del estudiante y evalúa si la \\\n",
    "solución del estudiante es correcta o no.\n",
    "No decidas si la solución del estudiante es correcta hasta que \\\n",
    "hayas resuelto el problema tú mismo.\n",
    "Usa el siguiente formato:\n",
    "Pregunta:\n",
    "```\n",
    "pregunta aqui\n",
    "```\n",
    "Solucion del Estudiante:\n",
    "```\n",
    "solucion del estudiante aqui\n",
    "```\n",
    "Solucion correcta:\n",
    "```\n",
    "pasos para resolver y tu solución aquí\n",
    "```\n",
    "¿La solución del estudiante es la misma que la solución real \\\n",
    "recién calculada?\n",
    "```\n",
    "si o no\n",
    "```\n",
    "Calificación del estudiante:\n",
    "```\n",
    "correcto or incorrecto\n",
    "```\n",
    "\n",
    "Pregunta:\n",
    "```\n",
    "Estoy construyendo una instalación de energía solar y necesito \\\n",
    "ayuda para calcular los aspectos financieros.\n",
    "- El terreno cuesta $100 por pie cuadrado\n",
    "- Puedo comprar paneles solares por $250 por pie cuadrado\n",
    "- Negocié un contrato de mantenimiento que me costará una tarifa \\\n",
    "plana de $100k al año, y un adicional de $10 por pie cuadrado\n",
    "¿Cuál es el costo total para el primer año de operaciones en función \\\n",
    "del número de pies cuadrados?\n",
    "``` \n",
    "Solución del estudiante:\n",
    "```\n",
    "Dejemos x como el tamaño de la instalación en pies cuadrados.\n",
    "Costos:\n",
    "1. Costo del terreno: 100x\n",
    "2. Costo del panel solar: 250x\n",
    "3. Costo de mantenimiento: 100,000 + 100x\n",
    "Costo total: 100x + 250x + 100,000 + 100x = 450x + 100,000\n",
    "```\n",
    "Solucion correcta:\n",
    "\"\"\"\n",
    "response = generar_texto(prompt)\n",
    "print(response)"
   ]
  },
  {
   "cell_type": "markdown",
   "id": "a7d5ca87-0a68-429c-b5f0-6b262b576d2c",
   "metadata": {},
   "source": [
    "## Limitaciones del Modelo: alucionaciones\n",
    "\n",
    "Puede ser que el modelo responda cosas con seguridad pero que no tengan ningun sentido"
   ]
  },
  {
   "cell_type": "markdown",
   "id": "c8de87fb-bc07-4e02-8cb9-2f8affd4a131",
   "metadata": {},
   "source": [
    "#### Nota sobre la barra invertida\n",
    "- Utilizamos la barra invertida `\\` para hacer que el texto entre en la pantalla sin insertar una nueva linea '\\n'.\n",
    "- GPT-3 no es afectado por los caracteres de nueva linea.  Pero cuando trabajamos con LLMs en general, hay que "
   ]
  },
  {
   "cell_type": "markdown",
   "id": "c239b83e-c1b1-4395-b460-75572232af9a",
   "metadata": {},
   "source": [
    "## Referencias:\n",
    "- [Prompt engineering from OpenAI](https://platform.openai.com/docs/guides/prompt-engineering)\n",
    "- [Best practices for prompt engineering with the OpenAI API](https://help.openai.com/en/articles/6654000-best-practices-for-prompt-engineering-with-the-openai-api)\n",
    "- [Prompt engineering from Meta for Llama3](https://llama.meta.com/docs/how-to-guides/prompting/)\n",
    "- [Libreria de OpenAI para python](https://github.com/openai/openai-python)\n",
    "- [Curso de Prompt Engineering para Programadores](https://www.deeplearning.ai/short-courses/chatgpt-prompt-engineering-for-developers/)"
   ]
  },
  {
   "cell_type": "markdown",
   "id": "63839587-449c-497b-9363-7b7d0badadca",
   "metadata": {},
   "source": [
    "# Fin: [Volver al contenido del curso](https://www.freecodingtour.com/cursos/espanol/deeplearning/deeplearning.html)"
   ]
  }
 ],
 "metadata": {
  "kernelspec": {
   "display_name": "Python 3 (ipykernel)",
   "language": "python",
   "name": "python3"
  },
  "language_info": {
   "codemirror_mode": {
    "name": "ipython",
    "version": 3
   },
   "file_extension": ".py",
   "mimetype": "text/x-python",
   "name": "python",
   "nbconvert_exporter": "python",
   "pygments_lexer": "ipython3",
   "version": "3.12.4"
  }
 },
 "nbformat": 4,
 "nbformat_minor": 5
}
