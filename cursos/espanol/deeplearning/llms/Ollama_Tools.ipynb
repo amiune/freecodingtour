{
 "cells": [
  {
   "cell_type": "markdown",
   "id": "08c00d45-b6f8-4869-823a-264cf46d5ffb",
   "metadata": {},
   "source": [
    "# Ollama Tools\n",
    "\n",
    "- https://ollama.com/blog/tool-support"
   ]
  },
  {
   "cell_type": "code",
   "execution_count": null,
   "id": "2da81956-73a8-40e1-8ea4-298b709ab74f",
   "metadata": {},
   "outputs": [],
   "source": []
  }
 ],
 "metadata": {
  "kernelspec": {
   "display_name": "Python 3 (ipykernel)",
   "language": "python",
   "name": "python3"
  },
  "language_info": {
   "codemirror_mode": {
    "name": "ipython",
    "version": 3
   },
   "file_extension": ".py",
   "mimetype": "text/x-python",
   "name": "python",
   "nbconvert_exporter": "python",
   "pygments_lexer": "ipython3",
   "version": "3.12.4"
  }
 },
 "nbformat": 4,
 "nbformat_minor": 5
}
