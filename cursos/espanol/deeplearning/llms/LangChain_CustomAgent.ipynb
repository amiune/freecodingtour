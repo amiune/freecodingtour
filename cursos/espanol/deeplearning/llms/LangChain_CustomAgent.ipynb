{
 "cells": [
  {
   "cell_type": "markdown",
   "id": "93460a56-4979-4e95-8479-b43c3fb8e43c",
   "metadata": {
    "id": "93460a56-4979-4e95-8479-b43c3fb8e43c"
   },
   "source": [
    "# Agents o Assistants\n",
    "\n",
    "Sabemos que los LLMs son grandes cajas negras que interpretan el lenguaje natural y nos pueden dar respuestas tambien en nuestro lenguaje de acuerdo a la informacion que tienen comprimida adentro de acuerdo a su entrenamiento.\n",
    "\n",
    "Que pasa si a estos LLMs ademas les damos herramientas para que puedan obtener informacion actualizada y verificada del mundo real?"
   ]
  },
  {
   "cell_type": "markdown",
   "id": "3e49ef5f-a2a2-4eac-80f7-3b28bfb44369",
   "metadata": {
    "id": "3e49ef5f-a2a2-4eac-80f7-3b28bfb44369"
   },
   "source": [
    "## OpenAI Functions and LangChain Tools\n",
    "\n",
    "Veamos como podemos darles estas herramientas a los LLMs. En OpenAI les llaman functions y en LangChain Tools:"
   ]
  },
  {
   "cell_type": "code",
   "execution_count": null,
   "id": "e33017cc-fa5d-4484-b88e-9d88055f0f2b",
   "metadata": {
    "colab": {
     "base_uri": "https://localhost:8080/"
    },
    "id": "e33017cc-fa5d-4484-b88e-9d88055f0f2b",
    "outputId": "f1763e20-d002-49d1-ac79-1a5507c9feb8"
   },
   "outputs": [],
   "source": [
    "!pip install openai --upgrade --quiet\n",
    "!pip install langchain --upgrade --quiet"
   ]
  },
  {
   "cell_type": "code",
   "execution_count": 2,
   "id": "8c905551-8406-4f0e-b937-cbab50a98f4a",
   "metadata": {
    "id": "8c905551-8406-4f0e-b937-cbab50a98f4a"
   },
   "outputs": [],
   "source": [
    "import openai\n",
    "\n",
    "api_key=\"INGRESA AQUI TU TOKEN DE OPENAI\""
   ]
  },
  {
   "cell_type": "code",
   "execution_count": 3,
   "id": "89c68f13-fd5a-46e2-a445-eb8fb7dffa3b",
   "metadata": {
    "colab": {
     "base_uri": "https://localhost:8080/"
    },
    "id": "89c68f13-fd5a-46e2-a445-eb8fb7dffa3b",
    "outputId": "678570a0-ae2c-4036-fa94-1fea80d83035"
   },
   "outputs": [
    {
     "name": "stdout",
     "output_type": "stream",
     "text": [
      "Mounted at /content/drive\n"
     ]
    }
   ],
   "source": [
    "#@title [Opcional] cargar el token desde colab para que no se vea al dar clases {display-mode:\"form\"}\n",
    "if api_key == \"INGRESA AQUI TU TOKEN DE OPENAI\":\n",
    "    from google.colab import userdata\n",
    "    api_key = userdata.get('OPENAI_TOKEN')\n",
    "    openai.api_key = api_key"
   ]
  },
  {
   "cell_type": "code",
   "execution_count": 9,
   "id": "AGZpav7k2ZS4",
   "metadata": {
    "id": "AGZpav7k2ZS4"
   },
   "outputs": [],
   "source": [
    "from langchain.agents import Tool, AgentExecutor, LLMSingleActionAgent, AgentOutputParser\n",
    "from langchain.prompts import StringPromptTemplate\n",
    "from langchain.llms import OpenAI\n",
    "from langchain.chains import LLMMathChain\n",
    "from langchain.chains import LLMChain\n",
    "from typing import List, Union\n",
    "from langchain.schema import AgentAction, AgentFinish, OutputParserException\n",
    "import re"
   ]
  },
  {
   "cell_type": "code",
   "execution_count": 25,
   "id": "cAB4eLAA2cMH",
   "metadata": {
    "id": "cAB4eLAA2cMH"
   },
   "outputs": [],
   "source": [
    "# Define which tools the agent can use to answer user queries\n",
    "tools = [\n",
    "    Tool(\n",
    "        name=\"math\",\n",
    "        func=LLMMathChain.from_llm(OpenAI(openai_api_key=api_key)),\n",
    "        description=\"util cuando quieres realizar operaciones matematicas\"\n",
    "    )\n",
    "]"
   ]
  },
  {
   "cell_type": "code",
   "execution_count": 37,
   "id": "6qJazIwk2IpO",
   "metadata": {
    "id": "6qJazIwk2IpO"
   },
   "outputs": [],
   "source": [
    "# Set up the base template\n",
    "template = \"\"\"Contesta la siguiente pregunta lo mejor que puedas.\n",
    "Tienes acceso a las siguientes herramientas:\n",
    "{tools}\n",
    "Usa el siguiente formato:\n",
    "Pregunta: la pregunta original de entrada que debes responder\n",
    "Analisis: siempre debes analizar que hacer\n",
    "Accion: la accion a realizar, debe ser una de [{tool_names}]\n",
    "Entrada Accion: la entrada de la accion\n",
    "Observacion: el resultado de la accion\n",
    "Analisis: Ya se la respuesta final\n",
    "Respuesta Final: la respuesta final a la pregunta original de entrada\n",
    "Pregunta: {input}\n",
    "{agent_scratchpad}\n",
    "\"\"\""
   ]
  },
  {
   "cell_type": "code",
   "execution_count": 38,
   "id": "Gry-NeDM2Ir0",
   "metadata": {
    "id": "Gry-NeDM2Ir0"
   },
   "outputs": [],
   "source": [
    "# Set up a prompt template\n",
    "class CustomPromptTemplate(StringPromptTemplate):\n",
    "    # The template to use\n",
    "    template: str\n",
    "    # The list of tools available\n",
    "    tools: List[Tool]\n",
    "\n",
    "    def format(self, **kwargs) -> str:\n",
    "        # Get the intermediate steps (AgentAction, Observation tuples)\n",
    "        # Format them in a particular way\n",
    "        intermediate_steps = kwargs.pop(\"intermediate_steps\")\n",
    "        thoughts = \"\"\n",
    "        for action, observation in intermediate_steps:\n",
    "            thoughts += action.log\n",
    "            thoughts += f\"\\Observacion: {observation}\\Analisis: \"\n",
    "        # Set the agent_scratchpad variable to that value\n",
    "        kwargs[\"agent_scratchpad\"] = thoughts\n",
    "        # Create a tools variable from the list of tools provided\n",
    "        kwargs[\"tools\"] = \"\\n\".join([f\"{tool.name}: {tool.description}\" for tool in self.tools])\n",
    "        # Create a list of tool names for the tools provided\n",
    "        kwargs[\"tool_names\"] = \", \".join([tool.name for tool in self.tools])\n",
    "        return self.template.format(**kwargs)"
   ]
  },
  {
   "cell_type": "code",
   "execution_count": 39,
   "id": "kSGQLXtr2IuS",
   "metadata": {
    "id": "kSGQLXtr2IuS"
   },
   "outputs": [],
   "source": [
    "prompt = CustomPromptTemplate(\n",
    "    template=template,\n",
    "    tools=tools,\n",
    "    # This omits the `agent_scratchpad`, `tools`, and `tool_names` variables because those are generated dynamically\n",
    "    # This includes the `intermediate_steps` variable because that is needed\n",
    "    input_variables=[\"input\", \"intermediate_steps\"]\n",
    ")"
   ]
  },
  {
   "cell_type": "code",
   "execution_count": 40,
   "id": "qLBi52eU2IxE",
   "metadata": {
    "id": "qLBi52eU2IxE"
   },
   "outputs": [],
   "source": [
    "class CustomOutputParser(AgentOutputParser):\n",
    "\n",
    "    def parse(self, llm_output: str) -> Union[AgentAction, AgentFinish]:\n",
    "        # Check if agent should finish\n",
    "        if \"Respuesta Final:\" in llm_output:\n",
    "            return AgentFinish(\n",
    "                # Return values is generally always a dictionary with a single `output` key\n",
    "                # It is not recommended to try anything else at the moment :)\n",
    "                return_values={\"output\": llm_output.split(\"Respuesta Final:\")[-1].strip()},\n",
    "                log=llm_output,\n",
    "            )\n",
    "        # Parse out the action and action input\n",
    "        regex = r\"Accion\\s*\\d*\\s*:(.*?)\\nEntrada\\s*\\d*\\s*Accion\\s*\\d*\\s*:[\\s]*(.*)\"\n",
    "        match = re.search(regex, llm_output, re.DOTALL)\n",
    "        if not match:\n",
    "            raise OutputParserException(f\"Could not parse LLM output: `{llm_output}`\")\n",
    "        action = match.group(1).strip()\n",
    "        action_input = match.group(2)\n",
    "        # Return the action and action input\n",
    "        return AgentAction(tool=action, tool_input=action_input.strip(\" \").strip('\"'), log=llm_output)"
   ]
  },
  {
   "cell_type": "code",
   "execution_count": 41,
   "id": "TSvCND0y2Izj",
   "metadata": {
    "id": "TSvCND0y2Izj"
   },
   "outputs": [],
   "source": [
    "output_parser = CustomOutputParser()"
   ]
  },
  {
   "cell_type": "code",
   "execution_count": 42,
   "id": "LkF5Ts-P2I1o",
   "metadata": {
    "id": "LkF5Ts-P2I1o"
   },
   "outputs": [],
   "source": [
    "llm = OpenAI(openai_api_key=api_key, temperature=0)"
   ]
  },
  {
   "cell_type": "code",
   "execution_count": 43,
   "id": "DUAszMyK3sdH",
   "metadata": {
    "id": "DUAszMyK3sdH"
   },
   "outputs": [],
   "source": [
    "# LLM chain consisting of the LLM and a prompt\n",
    "llm_chain = LLMChain(llm=llm, prompt=prompt)"
   ]
  },
  {
   "cell_type": "code",
   "execution_count": 44,
   "id": "Vhspp_7L2I6C",
   "metadata": {
    "id": "Vhspp_7L2I6C"
   },
   "outputs": [],
   "source": [
    "tool_names = [tool.name for tool in tools]\n",
    "agent = LLMSingleActionAgent(\n",
    "    llm_chain=llm_chain,\n",
    "    output_parser=output_parser,\n",
    "    stop=[\"\\nObservacion:\"],\n",
    "    allowed_tools=tool_names\n",
    ")"
   ]
  },
  {
   "cell_type": "code",
   "execution_count": 45,
   "id": "-pznd2ZE3vGd",
   "metadata": {
    "id": "-pznd2ZE3vGd"
   },
   "outputs": [],
   "source": [
    "agent_executor = AgentExecutor.from_agent_and_tools(agent=agent, tools=tools, verbose=True)"
   ]
  },
  {
   "cell_type": "code",
   "execution_count": null,
   "id": "BcxdrVzW3vJA",
   "metadata": {
    "colab": {
     "base_uri": "https://localhost:8080/",
     "height": 244
    },
    "id": "BcxdrVzW3vJA",
    "outputId": "a94a4452-ee77-42f4-bac2-b1ff2cf27528"
   },
   "outputs": [],
   "source": [
    "agent_executor.run(\"Cuantos es tres mas IV?\")"
   ]
  },
  {
   "cell_type": "code",
   "execution_count": null,
   "id": "q7OeYDTl3vL2",
   "metadata": {
    "id": "q7OeYDTl3vL2"
   },
   "outputs": [],
   "source": []
  },
  {
   "cell_type": "code",
   "execution_count": null,
   "id": "yhFtgVAz3vN8",
   "metadata": {
    "id": "yhFtgVAz3vN8"
   },
   "outputs": [],
   "source": []
  },
  {
   "cell_type": "code",
   "execution_count": null,
   "id": "HHsWYIz53vQP",
   "metadata": {
    "id": "HHsWYIz53vQP"
   },
   "outputs": [],
   "source": []
  },
  {
   "cell_type": "code",
   "execution_count": null,
   "id": "A2JWrhxP2I8s",
   "metadata": {
    "id": "A2JWrhxP2I8s"
   },
   "outputs": [],
   "source": []
  },
  {
   "cell_type": "code",
   "execution_count": null,
   "id": "M6YWZXUs2I_M",
   "metadata": {
    "id": "M6YWZXUs2I_M"
   },
   "outputs": [],
   "source": []
  }
 ],
 "metadata": {
  "colab": {
   "provenance": []
  },
  "kernelspec": {
   "display_name": "Python 3 (ipykernel)",
   "language": "python",
   "name": "python3"
  },
  "language_info": {
   "codemirror_mode": {
    "name": "ipython",
    "version": 3
   },
   "file_extension": ".py",
   "mimetype": "text/x-python",
   "name": "python",
   "nbconvert_exporter": "python",
   "pygments_lexer": "ipython3",
   "version": "3.9.7"
  }
 },
 "nbformat": 4,
 "nbformat_minor": 5
}
