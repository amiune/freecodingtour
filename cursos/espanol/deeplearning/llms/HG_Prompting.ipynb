{
 "cells": [
  {
   "cell_type": "markdown",
   "id": "c08833d7-54cd-495e-8eb8-1c60721d5d1d",
   "metadata": {},
   "source": [
    "# HuggingFace Prompting\n",
    "\n",
    "En esta unidad veremos como utilizar la API de HuggingFace para realizar consultas a cualquier modelo disponible y poder utilizar sus respuestas para luego crear un programa mas complejo.\n"
   ]
  },
  {
   "cell_type": "code",
   "execution_count": 11,
   "id": "49f7e79f-64f6-4880-af61-581a28a8086a",
   "metadata": {},
   "outputs": [],
   "source": [
    "API_TOKEN=\"INGRESA AQUI TU TOKEN DE HUGGINGFACE\""
   ]
  },
  {
   "cell_type": "code",
   "execution_count": 12,
   "id": "e5296b32-45a5-4609-a941-8ab00f3d95e5",
   "metadata": {},
   "outputs": [],
   "source": [
    "#@title [Opcional] cargar el token desde gdrive para que no se vea al dar clases {display-mode:\"form\"}\n",
    "if API_TOKEN == \"INGRESA AQUI TU TOKEN DE HUGGINGFACE\":\n",
    "    from google.colab import drive\n",
    "    drive.mount('/content/drive')\n",
    "    with open('drive/MyDrive/Tokens/hf.txt','r') as f:\n",
    "        API_TOKEN = f.read()"
   ]
  },
  {
   "cell_type": "code",
   "execution_count": 18,
   "id": "a525f4dc-de93-49f4-94a7-88cd14f9e35f",
   "metadata": {},
   "outputs": [
    {
     "data": {
      "text/plain": [
       "[{'generated_text': 'Can you please let us know more details about your iphone?\\n\\n* Thanks very much.\\n\\n** The following text was added after the installation was complete:\\n\\nQ. After you have installed iPhone X and the Apple App Store'}]"
      ]
     },
     "execution_count": 18,
     "metadata": {},
     "output_type": "execute_result"
    }
   ],
   "source": [
    "import requests\n",
    "API_URL = \"https://api-inference.huggingface.co/models/gpt2\"\n",
    "headers = {\"Authorization\": f\"Bearer {API_TOKEN}\"}\n",
    "def query(payload):\n",
    "    response = requests.post(API_URL, headers=headers, json=payload)\n",
    "    return response.json()\n",
    "data = query(\"Can you please let us know more details about your\")\n",
    "data"
   ]
  },
  {
   "cell_type": "code",
   "execution_count": 19,
   "id": "2d44bef4-831c-42c2-87ed-f20134c51e66",
   "metadata": {},
   "outputs": [
    {
     "data": {
      "text/plain": [
       "{'error': 'Model requires a Pro subscription; check out hf.co/pricing to learn more. Make sure to include your HF token in your query.'}"
      ]
     },
     "execution_count": 19,
     "metadata": {},
     "output_type": "execute_result"
    }
   ],
   "source": [
    "import requests\n",
    "API_URL = \"https://api-inference.huggingface.co/models/meta-llama/Llama-2-7b-chat-hf\"\n",
    "headers = {\"Authorization\": f\"Bearer {API_TOKEN}\"}\n",
    "def query(payload):\n",
    "    response = requests.post(API_URL, headers=headers, json=payload)\n",
    "    return response.json()\n",
    "data = query(\"Can you please let us know more details about your \")\n",
    "data"
   ]
  },
  {
   "cell_type": "markdown",
   "id": "c239b83e-c1b1-4395-b460-75572232af9a",
   "metadata": {},
   "source": [
    "## Referencias:\n",
    "\n",
    "- https://huggingface.co/docs/api-inference/quicktour"
   ]
  },
  {
   "cell_type": "markdown",
   "id": "63839587-449c-497b-9363-7b7d0badadca",
   "metadata": {},
   "source": [
    "# Fin: [Volver al contenido del curso](https://www.freecodingtour.com/cursos/espanol/deeplearning/deeplearning.html)"
   ]
  }
 ],
 "metadata": {
  "kernelspec": {
   "display_name": "Python 3 (ipykernel)",
   "language": "python",
   "name": "python3"
  },
  "language_info": {
   "codemirror_mode": {
    "name": "ipython",
    "version": 3
   },
   "file_extension": ".py",
   "mimetype": "text/x-python",
   "name": "python",
   "nbconvert_exporter": "python",
   "pygments_lexer": "ipython3",
   "version": "3.12.4"
  }
 },
 "nbformat": 4,
 "nbformat_minor": 5
}
