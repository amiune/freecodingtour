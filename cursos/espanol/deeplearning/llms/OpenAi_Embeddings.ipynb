{
 "cells": [
  {
   "cell_type": "markdown",
   "metadata": {},
   "source": [
    "# OpenAI Embeddings\n",
    "\n",
    "- [Using Embeddings](https://github.com/openai/openai-cookbook/blob/main/examples/Using_embeddings.ipynb)\n",
    "- [Embedding Wikipedia articles for search](https://github.com/openai/openai-cookbook/blob/main/examples/Embedding_Wikipedia_articles_for_search.ipynb)\n",
    "- [Classification using embeddings](https://github.com/openai/openai-cookbook/blob/main/examples/Classification_using_embeddings.ipynb)\n",
    "- [Question answering using embeddings-based search](https://github.com/openai/openai-cookbook/blob/main/examples/Question_answering_using_embeddings.ipynb)\n",
    "\n",
    "- [OpenAI Embeddings Utils](https://github.com/openai/openai-cookbook/blob/main/examples/utils/embeddings_utils.py)"
   ]
  }
 ],
 "metadata": {
  "language_info": {
   "name": "python"
  }
 },
 "nbformat": 4,
 "nbformat_minor": 2
}
