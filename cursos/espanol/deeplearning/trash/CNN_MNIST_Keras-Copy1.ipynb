{
 "cells": [
  {
   "cell_type": "markdown",
   "id": "c80b9b6b-c91e-4263-bc03-32b2c3b2e1c3",
   "metadata": {},
   "source": [
    "# CNN con Keras Core\n",
    "\n",
    "Utilizaremos keras core para clasificar imagenes de la base de datos MNIST"
   ]
  },
  {
   "cell_type": "code",
   "execution_count": null,
   "id": "c701e567-9763-4c8e-bbc2-8af6627e85d9",
   "metadata": {},
   "outputs": [],
   "source": [
    "import os\n",
    "import pandas as pd\n",
    "import numpy as np"
   ]
  },
  {
   "cell_type": "code",
   "execution_count": null,
   "id": "459a19f6-be89-491f-a719-c59d914cfe68",
   "metadata": {},
   "outputs": [],
   "source": [
    "!pip install -q keras-core\n",
    "os.environ[\"KERAS_BACKEND\"] = \"torch\"\n",
    "# Nota: importar keras luego de elegir el backend torch, tf, jax\n",
    "import keras_core as keras"
   ]
  },
  {
   "cell_type": "markdown",
   "id": "1c0c8de7-c2b9-4f1b-ba31-ac550e2664f1",
   "metadata": {},
   "source": [
    "Utlizaremos el dataset simplificado de MNIST de https://www.kaggle.com/datasets/oddrationale/mnist-in-csv, a continuacion lo descomprimimos en el directorio ./data/mnist/extracted/"
   ]
  },
  {
   "cell_type": "code",
   "execution_count": null,
   "id": "acebc1d1-2898-4167-a40b-fad9538617ab",
   "metadata": {},
   "outputs": [],
   "source": [
    "import zipfile\n",
    "with zipfile.ZipFile(\"./data/mnist/mnist_train.csv.zip\", 'r') as zip_ref:\n",
    "    zip_ref.extractall(\"./data/mnist/extracted/\")\n",
    "with zipfile.ZipFile(\"./data/mnist/mnist_test.csv.zip\", 'r') as zip_ref:\n",
    "    zip_ref.extractall(\"./data/mnist/extracted/\")"
   ]
  },
  {
   "cell_type": "markdown",
   "id": "e9d0f143-3e18-4a46-8131-889cbf969e54",
   "metadata": {},
   "source": [
    "Cargo los datasets de train y test y los convierto a la forma original de la imagen 28x28 pixeles"
   ]
  },
  {
   "cell_type": "code",
   "execution_count": null,
   "id": "c4929034-bdcb-4aa9-b91d-f524535abf7a",
   "metadata": {},
   "outputs": [],
   "source": [
    "train = pd.read_csv(\"./data/mnist/extracted/mnist_train.csv\")\n",
    "\n",
    "\n",
    "x_train = train.iloc[:,1:].values\n",
    "y_train = train.iloc[:,0].values\n",
    "\n",
    "# Hacer que cada pixel este entre 0 y 1\n",
    "x_train = x_train.astype(\"float32\") / 255\n",
    "\n",
    "# Cambiar la forma de unidimensional de (784) a bidimensional (28, 28, 1)\n",
    "x_train = x_train.reshape(x_train.shape[0], 28, 28, 1)"
   ]
  },
  {
   "cell_type": "code",
   "execution_count": null,
   "id": "7eeaf3bf-814d-4173-bd21-08b9062d1d72",
   "metadata": {},
   "outputs": [],
   "source": [
    "print(x_train[0].shape)\n",
    "print(y_train[0])"
   ]
  },
  {
   "cell_type": "code",
   "execution_count": null,
   "id": "263fe31e-8f6b-4951-a745-40d2f8853672",
   "metadata": {},
   "outputs": [],
   "source": [
    "from matplotlib import pyplot as plt\n",
    "plt.imshow(x_train[0], interpolation='nearest')\n",
    "plt.show()"
   ]
  },
  {
   "cell_type": "code",
   "execution_count": null,
   "id": "b2185139-ba3e-4389-8112-cbe696507155",
   "metadata": {},
   "outputs": [],
   "source": [
    "print(\"x_train shape:\", x_train.shape)\n",
    "print(\"y_train shape:\", y_train.shape)\n",
    "print(x_train.shape[0], \"train samples\")\n",
    "print(x_test.shape[0], \"test samples\")"
   ]
  },
  {
   "cell_type": "markdown",
   "id": "0f63a558-10ee-468b-a0fa-878b99fa3604",
   "metadata": {},
   "source": [
    "Definimos la arquitectura de la CNN"
   ]
  },
  {
   "cell_type": "code",
   "execution_count": null,
   "id": "26ff258e-e5cc-4b08-b79d-73af39fd0d92",
   "metadata": {},
   "outputs": [],
   "source": [
    "num_classes = 10\n",
    "input_shape = (28, 28, 1)\n",
    "\n",
    "model = keras.Sequential(\n",
    "    [\n",
    "        keras.layers.Input(shape=input_shape),\n",
    "        keras.layers.Conv2D(64, kernel_size=(3, 3), activation=\"relu\"),\n",
    "        keras.layers.Conv2D(64, kernel_size=(3, 3), activation=\"relu\"),\n",
    "        keras.layers.MaxPooling2D(pool_size=(2, 2)),\n",
    "        keras.layers.Conv2D(128, kernel_size=(3, 3), activation=\"relu\"),\n",
    "        keras.layers.Conv2D(128, kernel_size=(3, 3), activation=\"relu\"),\n",
    "        keras.layers.GlobalAveragePooling2D(),\n",
    "        keras.layers.Dropout(0.5),\n",
    "        keras.layers.Dense(num_classes, activation=\"softmax\"),\n",
    "    ]\n",
    ")"
   ]
  },
  {
   "cell_type": "markdown",
   "id": "2b03239b-5330-4453-b7b9-3deec2a4e2ee",
   "metadata": {},
   "source": [
    "Compilamos el modelo"
   ]
  },
  {
   "cell_type": "code",
   "execution_count": null,
   "id": "dfc940f7-dbf1-448d-be43-e87ab4070dfa",
   "metadata": {},
   "outputs": [],
   "source": [
    "model.compile(\n",
    "    loss=keras.losses.SparseCategoricalCrossentropy(),\n",
    "    optimizer=keras.optimizers.Adam(learning_rate=1e-3),\n",
    "    metrics=[\n",
    "        keras.metrics.SparseCategoricalAccuracy(name=\"acc\"),\n",
    "    ],\n",
    ")"
   ]
  },
  {
   "cell_type": "markdown",
   "id": "7e49858c-d9e9-457a-a981-6ae5e6d9c326",
   "metadata": {},
   "source": [
    "Entrenamos el modelo"
   ]
  },
  {
   "cell_type": "code",
   "execution_count": null,
   "id": "8645f599-2e87-4b8d-8261-8791ccfa4643",
   "metadata": {},
   "outputs": [],
   "source": [
    "model.fit(\n",
    "    x_train,\n",
    "    y_train,\n",
    "    batch_size=128,\n",
    "    epochs=5,\n",
    "    validation_split=0.15,\n",
    ")"
   ]
  },
  {
   "cell_type": "markdown",
   "id": "0aa2d523-e6a0-4cba-92d1-e4b574236705",
   "metadata": {},
   "source": [
    "Ahora veamos como funciona la prediccion:"
   ]
  },
  {
   "cell_type": "code",
   "execution_count": null,
   "id": "0e8aa436-9ed0-489b-bfee-93047db0b541",
   "metadata": {},
   "outputs": [],
   "source": [
    "test = pd.read_csv(\"./data/mnist/extracted/mnist_test.csv\")\n",
    "\n",
    "x_test = test.iloc[:,1:].values\n",
    "y_test = test.iloc[:,0].values\n",
    "\n",
    "# Hacer que cada pixel este entre 0 y 1\n",
    "x_test = x_test.astype(\"float32\") / 255\n",
    "\n",
    "# Cambiar la forma de unidimensional de (784) a bidimensional (28, 28, 1)\n",
    "x_test = x_test.reshape(x_test.shape[0], 28, 28, 1)"
   ]
  },
  {
   "cell_type": "code",
   "execution_count": null,
   "id": "ef739c0a-ff41-41e1-809a-cde88df892e4",
   "metadata": {},
   "outputs": [],
   "source": [
    "from matplotlib import pyplot as plt\n",
    "plt.imshow(x_test[0], interpolation='nearest')\n",
    "plt.show()"
   ]
  },
  {
   "cell_type": "code",
   "execution_count": null,
   "id": "ed544570-8b9a-442c-be9a-e549209fbb66",
   "metadata": {},
   "outputs": [],
   "source": [
    "predictions = model.predict(x_test[0:1,:])"
   ]
  },
  {
   "cell_type": "code",
   "execution_count": null,
   "id": "72d527ea-fbe1-43ac-a34e-4d46d5ad7c43",
   "metadata": {},
   "outputs": [],
   "source": [
    "predictions"
   ]
  },
  {
   "cell_type": "code",
   "execution_count": null,
   "id": "4acc2f8a-9b58-4c48-8f66-a1f9b1f6b08c",
   "metadata": {},
   "outputs": [],
   "source": [
    "predictions = predictions.argmax(axis=-1).flatten()"
   ]
  },
  {
   "cell_type": "code",
   "execution_count": null,
   "id": "deb09c94-26ea-4247-b226-d64dc561b972",
   "metadata": {},
   "outputs": [],
   "source": [
    "predictions"
   ]
  },
  {
   "cell_type": "code",
   "execution_count": null,
   "id": "cee644c7-6389-4260-890f-7464c8742b68",
   "metadata": {},
   "outputs": [],
   "source": []
  }
 ],
 "metadata": {
  "kernelspec": {
   "display_name": "base",
   "language": "python",
   "name": "base"
  },
  "language_info": {
   "codemirror_mode": {
    "name": "ipython",
    "version": 3
   },
   "file_extension": ".py",
   "mimetype": "text/x-python",
   "name": "python",
   "nbconvert_exporter": "python",
   "pygments_lexer": "ipython3",
   "version": "3.9.7"
  }
 },
 "nbformat": 4,
 "nbformat_minor": 5
}
