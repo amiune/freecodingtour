{
 "cells": [
  {
   "cell_type": "markdown",
   "id": "b6899d7f-0003-4506-a6f2-42ea7b4bef72",
   "metadata": {},
   "source": [
    "# CNN desde cero\n",
    "\n",
    "Entrenaremos una red neuronal profunda desde cero usando pytorch\n",
    "\n",
    "[Dataset de imagenes de gatos y perros](https://download.microsoft.com/download/3/E/1/3E1C3F21-ECDB-4869-8368-6DEBA77B919F/kagglecatsanddogs_5340.zip)"
   ]
  },
  {
   "cell_type": "code",
   "execution_count": null,
   "id": "3a510b9b-a0e8-4f0f-ba6d-4b33fb8f8b2d",
   "metadata": {},
   "outputs": [],
   "source": [
    "import torch\n",
    "import torch.nn as nn\n",
    "import torch.optim as optim\n",
    "import torch.nn.functional as F\n",
    "\n",
    "from torchvision import datasets, models, transforms\n",
    "from torch.utils.data import DataLoader, Dataset\n",
    "\n",
    "#using numpy\n",
    "import numpy as np\n",
    "\n",
    "#for data load or save\n",
    "import pandas as pd\n",
    "\n",
    "#visualize some datasets\n",
    "import matplotlib.pyplot as plt\n",
    "\n",
    "#check our work directory\n",
    "import os"
   ]
  },
  {
   "cell_type": "code",
   "execution_count": null,
   "id": "140fa02d-e424-4b12-a605-ecc83e05cde2",
   "metadata": {},
   "outputs": [],
   "source": [
    "LEARNING_RATE = 0.1 # velocidad de aprendizaje\n",
    "EPOCHS = 10 # Numero de veces que pasamos todo el dataset por la red\n",
    "BATCH_SIZE = 64 # cantidad de imagenes antes de actualizar el gradiente\n",
    "\n",
    "#Batch Gradient Descent. Batch Size = Size of Training Set\n",
    "#Stochastic Gradient Descent. Batch Size = 1\n",
    "#Mini-Batch Gradient Descent. 1 < Batch Size < Size of Training Set"
   ]
  },
  {
   "cell_type": "code",
   "execution_count": null,
   "id": "66d7ee6c-59ec-431a-b295-6a0bea2fab5b",
   "metadata": {},
   "outputs": [],
   "source": [
    "device = 'cpu'"
   ]
  },
  {
   "cell_type": "code",
   "execution_count": null,
   "id": "aaf5cb28-6992-426e-b09c-ecc61a9eee57",
   "metadata": {},
   "outputs": [],
   "source": [
    "train_dir = \"./data/catsanddogs/train/\"\n",
    "val_dir = \"./data/catsanddogs/validation/\"\n",
    "test_dir = \"./data/catsanddogs/test/\""
   ]
  },
  {
   "cell_type": "code",
   "execution_count": null,
   "id": "4a176c33-8bd6-43bb-ac45-97234c609ad7",
   "metadata": {},
   "outputs": [],
   "source": [
    "train_list = [os.path.join(train_dir, f) for f in os.listdir(train_dir) if f[-3:] == 'jpg']\n",
    "val_list = [os.path.join(val_dir, f) for f in os.listdir(val_dir) if f[-3:] == 'jpg']\n",
    "test_list = [os.path.join(test_dir, f) for f in os.listdir(test_dir) if f[-3:] == 'jpg']"
   ]
  },
  {
   "cell_type": "code",
   "execution_count": null,
   "id": "a4c27149-795a-4b5b-911b-5f3813802c82",
   "metadata": {},
   "outputs": [],
   "source": [
    "train_list[0]"
   ]
  },
  {
   "cell_type": "code",
   "execution_count": null,
   "id": "21a1364e-ab05-4b29-bd9b-bb63f21f3061",
   "metadata": {},
   "outputs": [],
   "source": [
    "from PIL import Image\n",
    "random_idx = np.random.randint(1,len(train_list),size=10)\n",
    "\n",
    "fig = plt.figure()\n",
    "i=1\n",
    "for idx in random_idx:\n",
    "    ax = fig.add_subplot(2,5,i)\n",
    "    img = Image.open(train_list[idx])\n",
    "    plt.imshow(img)\n",
    "    i+=1\n",
    "\n",
    "plt.axis('off')\n",
    "plt.show()"
   ]
  },
  {
   "cell_type": "code",
   "execution_count": null,
   "id": "2a2045f3-cb11-4ae4-9dc7-06d4cbd2db19",
   "metadata": {},
   "outputs": [],
   "source": [
    "train_list[0].split('/')[-1].split('_')[0]"
   ]
  },
  {
   "cell_type": "code",
   "execution_count": null,
   "id": "83b7b98b-20c4-42f7-91a7-86a50e6c68cd",
   "metadata": {},
   "outputs": [],
   "source": [
    "print(len(train_list), len(val_list), len(test_list))"
   ]
  },
  {
   "cell_type": "code",
   "execution_count": null,
   "id": "7fff42fa-0dc5-4899-9054-c20edf3d4b90",
   "metadata": {},
   "outputs": [],
   "source": [
    "#data Augumentation\n",
    "data_transforms =  transforms.Compose([\n",
    "        transforms.Resize((224, 224)),\n",
    "        transforms.RandomResizedCrop(224),\n",
    "        transforms.RandomHorizontalFlip(),\n",
    "        transforms.ToTensor(),\n",
    "    ])"
   ]
  },
  {
   "cell_type": "code",
   "execution_count": null,
   "id": "65ce16cf-c7f2-421d-9e6e-a3af89c6ba6a",
   "metadata": {},
   "outputs": [],
   "source": [
    "class dataset(torch.utils.data.Dataset):\n",
    "    def __init__(self,file_list,transform=None):\n",
    "        self.file_list = file_list\n",
    "        self.transform = transform\n",
    "        \n",
    "    def __len__(self):\n",
    "        self.count = len(self.file_list)\n",
    "        return self.count\n",
    "    \n",
    "    def __getitem__(self,idx):\n",
    "        img_path = self.file_list[idx]\n",
    "        img = Image.open(img_path).convert('RGB')\n",
    "        img_transformed = self.transform(img)\n",
    "        \n",
    "        label = img_path.split('/')[-1].split('_')[0]\n",
    "        if label == 'dog':\n",
    "            label=1\n",
    "        elif label == 'cat':\n",
    "            label=0\n",
    "            \n",
    "        return img_transformed,label"
   ]
  },
  {
   "cell_type": "code",
   "execution_count": null,
   "id": "4f0a4f25-8703-4a11-9304-f6590908c999",
   "metadata": {},
   "outputs": [],
   "source": [
    "train_data = dataset(train_list, transform=data_transforms)\n",
    "test_data = dataset(test_list, transform=data_transforms)\n",
    "val_data = dataset(val_list, transform=data_transforms)"
   ]
  },
  {
   "cell_type": "code",
   "execution_count": null,
   "id": "6dde6e37-a853-47e7-b2ce-f7ffe26c7c81",
   "metadata": {},
   "outputs": [],
   "source": [
    "train_loader = torch.utils.data.DataLoader(dataset = train_data, batch_size=BATCH_SIZE, shuffle=True )\n",
    "test_loader = torch.utils.data.DataLoader(dataset = test_data, batch_size=BATCH_SIZE, shuffle=True)\n",
    "val_loader = torch.utils.data.DataLoader(dataset = val_data, batch_size=BATCH_SIZE, shuffle=True)"
   ]
  },
  {
   "cell_type": "code",
   "execution_count": null,
   "id": "741ece6a-340f-4e58-9a63-5a1b5bf726e0",
   "metadata": {},
   "outputs": [],
   "source": [
    "print(len(train_data), len(train_loader))"
   ]
  },
  {
   "cell_type": "code",
   "execution_count": null,
   "id": "249a0baf-ca48-463c-8edf-48cceb60e1f5",
   "metadata": {},
   "outputs": [],
   "source": [
    "print(len(val_data), len(val_loader))"
   ]
  },
  {
   "cell_type": "code",
   "execution_count": null,
   "id": "197da4b6-e7f0-471d-b087-3ee82b9e9a9c",
   "metadata": {},
   "outputs": [],
   "source": [
    "train_data[0][0].shape"
   ]
  },
  {
   "cell_type": "code",
   "execution_count": null,
   "id": "de13391c-3da4-41fd-b88e-04bd09a9b184",
   "metadata": {},
   "outputs": [],
   "source": [
    "class Cnn(nn.Module):\n",
    "    def __init__(self):\n",
    "        super(Cnn,self).__init__()\n",
    "        \n",
    "        self.layer1 = nn.Sequential(\n",
    "            nn.Conv2d(3,16,kernel_size=3, padding=0,stride=2),\n",
    "            nn.BatchNorm2d(16),\n",
    "            nn.ReLU(),\n",
    "            nn.MaxPool2d(2)\n",
    "        )\n",
    "        \n",
    "        self.layer2 = nn.Sequential(\n",
    "            nn.Conv2d(16,32, kernel_size=3, padding=0, stride=2),\n",
    "            nn.BatchNorm2d(32),\n",
    "            nn.ReLU(),\n",
    "            nn.MaxPool2d(2)\n",
    "            )\n",
    "        \n",
    "        self.layer3 = nn.Sequential(\n",
    "            nn.Conv2d(32,64, kernel_size=3, padding=0, stride=2),\n",
    "            nn.BatchNorm2d(64),\n",
    "            nn.ReLU(),\n",
    "            nn.MaxPool2d(2)\n",
    "        )\n",
    "        \n",
    "        \n",
    "        self.fc1 = nn.Linear(3*3*64,10)\n",
    "        self.dropout = nn.Dropout(0.5)\n",
    "        self.fc2 = nn.Linear(10,2)\n",
    "        self.relu = nn.ReLU()\n",
    "        \n",
    "        \n",
    "    def forward(self,x):\n",
    "        out = self.layer1(x)\n",
    "        out = self.layer2(out)\n",
    "        out = self.layer3(out)\n",
    "        out = out.view(out.size(0),-1)\n",
    "        out = self.relu(self.fc1(out))\n",
    "        out = self.fc2(out)\n",
    "        return out"
   ]
  },
  {
   "cell_type": "code",
   "execution_count": null,
   "id": "7e205af6-f56e-4d60-82c4-23b0ad7be790",
   "metadata": {},
   "outputs": [],
   "source": [
    "model = Cnn().to(device)\n",
    "model.train()"
   ]
  },
  {
   "cell_type": "code",
   "execution_count": null,
   "id": "214b5d93-ecab-490e-9e5a-bfb7951216a7",
   "metadata": {},
   "outputs": [],
   "source": [
    "optimizer = optim.Adam(params = model.parameters(),lr=LEARNING_RATE)\n",
    "criterion = nn.CrossEntropyLoss()"
   ]
  },
  {
   "cell_type": "code",
   "execution_count": null,
   "id": "a5a720df-7dce-4a92-a838-ae6770c11505",
   "metadata": {},
   "outputs": [],
   "source": [
    "for epoch in range(EPOCHS):\n",
    "    epoch_loss = 0\n",
    "    epoch_accuracy = 0\n",
    "    \n",
    "    for data, label in train_loader:\n",
    "        data = data.to(device)\n",
    "        label = label.to(device)\n",
    "        \n",
    "        output = model(data)\n",
    "        loss = criterion(output, label)\n",
    "        \n",
    "        optimizer.zero_grad()\n",
    "        loss.backward()\n",
    "        optimizer.step()\n",
    "        \n",
    "        acc = ((output.argmax(dim=1) == label).float().mean())\n",
    "        epoch_accuracy += acc/len(train_loader)\n",
    "        epoch_loss += loss/len(train_loader)\n",
    "        \n",
    "    print('Epoch : {}, train accuracy : {}, train loss : {}'.format(epoch+1, epoch_accuracy,epoch_loss))\n",
    "    \n",
    "    \n",
    "    with torch.no_grad():\n",
    "        epoch_val_accuracy=0\n",
    "        epoch_val_loss =0\n",
    "        for data, label in val_loader:\n",
    "            data = data.to(device)\n",
    "            label = label.to(device)\n",
    "            \n",
    "            val_output = model(data)\n",
    "            val_loss = criterion(val_output,label)\n",
    "            \n",
    "            \n",
    "            acc = ((val_output.argmax(dim=1) == label).float().mean())\n",
    "            epoch_val_accuracy += acc/ len(val_loader)\n",
    "            epoch_val_loss += val_loss/ len(val_loader)\n",
    "            \n",
    "        print('Epoch : {}, val_accuracy : {}, val_loss : {}'.format(epoch+1, epoch_val_accuracy,epoch_val_loss))"
   ]
  },
  {
   "cell_type": "code",
   "execution_count": null,
   "id": "c27383f3-96d8-4ffa-9e4a-e90d7dbde68a",
   "metadata": {},
   "outputs": [],
   "source": [
    "dog_probs = []\n",
    "model.eval()\n",
    "with torch.no_grad():\n",
    "    for data, fileid in test_loader:\n",
    "        data = data.to(device)\n",
    "        preds = model(data)\n",
    "        preds_list = F.softmax(preds, dim=1)[:, 1].tolist()\n",
    "        dog_probs += list(zip(list(fileid), preds_list))"
   ]
  },
  {
   "cell_type": "code",
   "execution_count": null,
   "id": "bd882840-58e1-4ced-9f0a-15941298b27a",
   "metadata": {},
   "outputs": [],
   "source": [
    "import random\n",
    "\n",
    "id_list = []\n",
    "class_ = {0: 'cat', 1: 'dog'}\n",
    "\n",
    "fig, axes = plt.subplots(2, 5, figsize=(20, 12), facecolor='w')\n",
    "\n",
    "for ax in axes.ravel():\n",
    "    \n",
    "    i = random.choice(submission['id'].values)\n",
    "    \n",
    "    label = submission.loc[submission['id'] == i, 'label'].values[0]\n",
    "    if label > 0.5:\n",
    "        label = 1\n",
    "    else:\n",
    "        label = 0\n",
    "        \n",
    "    img_path = os.path.join(test_dir, f'{i}.jpg')\n",
    "    img = Image.open(img_path)\n",
    "    \n",
    "    ax.set_title(class_[label])\n",
    "    ax.imshow(img)"
   ]
  }
 ],
 "metadata": {
  "kernelspec": {
   "display_name": "base",
   "language": "python",
   "name": "base"
  },
  "language_info": {
   "codemirror_mode": {
    "name": "ipython",
    "version": 3
   },
   "file_extension": ".py",
   "mimetype": "text/x-python",
   "name": "python",
   "nbconvert_exporter": "python",
   "pygments_lexer": "ipython3",
   "version": "3.9.7"
  }
 },
 "nbformat": 4,
 "nbformat_minor": 5
}
