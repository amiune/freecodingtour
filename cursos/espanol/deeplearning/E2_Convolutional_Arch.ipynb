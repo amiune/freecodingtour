{
 "cells": [
  {
   "cell_type": "markdown",
   "id": "7e1e9e37-db00-4140-b173-6d43dc76577f",
   "metadata": {},
   "source": [
    "# Redes Convolucionales\n",
    "\n",
    "[Visualizacion](https://adamharley.com/nn_vis/)\n",
    "\n",
    "[Visualizacion con explicacion](https://poloclub.github.io/cnn-explainer/)\n",
    "\n",
    "[Deep NN course by Francois Fleuret](https://fleuret.org/dlc/)\n",
    "\n",
    "[The little book of Deep Learning by Francois Fleuret](https://fleuret.org/public/lbdl.pdf)"
   ]
  },
  {
   "cell_type": "markdown",
   "id": "947e1cc0-936e-4814-a9a4-e15a9bcc4d76",
   "metadata": {},
   "source": [
    "# Fin: [Volver al contenido del curso](https://www.freecodingtour.com/cursos/espanol/deeplearning/deeplearning.html)"
   ]
  }
 ],
 "metadata": {
  "kernelspec": {
   "display_name": "Python 3 (ipykernel)",
   "language": "python",
   "name": "python3"
  },
  "language_info": {
   "codemirror_mode": {
    "name": "ipython",
    "version": 3
   },
   "file_extension": ".py",
   "mimetype": "text/x-python",
   "name": "python",
   "nbconvert_exporter": "python",
   "pygments_lexer": "ipython3",
   "version": "3.9.18"
  }
 },
 "nbformat": 4,
 "nbformat_minor": 5
}
