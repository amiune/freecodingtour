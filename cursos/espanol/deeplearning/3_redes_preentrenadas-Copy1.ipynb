{
 "cells": [
  {
   "cell_type": "markdown",
   "id": "355a45d0-f340-4a55-8249-0a86a4f06bec",
   "metadata": {},
   "source": [
    "# Cajas Negras Preentrenadas"
   ]
  },
  {
   "cell_type": "markdown",
   "id": "dd637aed-b023-450b-9d28-80a630a73d99",
   "metadata": {},
   "source": [
    "Estas cajas negras de deep learning que pueden aprender a partir de imagenes y texto han sido estudiadas y puestas en practica por miles de cientificos e ingenieros en los ultimos años. Por ello hay muchas arquitecturas diferentes y diferentes modelos.\n",
    "\n",
    "Muchos de estos modelos han sido entrenados con imagenes y texto obtenidos de internet y puestos a disposicion de cualquier programador para que pueda descargarlos y utilizarlos sin tener que entrenarlos nuevamente. Estos modelos se llaman modelos preentrenados.\n",
    "\n",
    "Ya que crear y entrenar un modelo desde cero lleva muchisimo trabajo, esfuerzo y tiempo de computo, en este curso nos enfocaremos en utilizar solamente modelos preentrenados y luego ajustarlos a nuestras necesidades mediante lo que se conoce como el procedimiento de finetuning."
   ]
  },
  {
   "cell_type": "markdown",
   "id": "5f6b3f52-2121-4891-a518-c562833b3b3e",
   "metadata": {},
   "source": [
    "## Tipos de Modelos\n",
    "\n",
    "Hasta el momento existen dos tipos de modelos muy usados:\n",
    "- Modelos Convolucionales\n",
    "- Modelos Transformers"
   ]
  },
  {
   "cell_type": "markdown",
   "id": "590d6ea0-cbb7-4bed-a666-5639797b788a",
   "metadata": {},
   "source": [
    "## Modelos Convolucionales preentrenados\n",
    "\n",
    "Los modelos convolucionales fueron los que iniciaron la revolucion del deep learning. Estos analizan pequeños cuadrados de la imagen en busca de bordes y pequeñas partes como ojos, ruedas, patas y objetos que ayuden a identificar el objeto que se encuentra en la imagen:\n",
    "\n",
    "<div style=\"text-align:center\">\n",
    "<img src=\"img/red_convolucional.png\" width=\"800\"/>\n",
    "</div>\n",
    "\n",
    "Los modelos preentrenados generalmente se basan en una base de datos de la competencia llamada [Imagenet](https://www.image-net.org/index.php) y la salida puede clasificar las siguientes [clases](https://deeplearning.cms.waikato.ac.nz/user-guide/class-maps/IMAGENET/).\n",
    "\n",
    "Si queremos identificar objetos que no aparecen entre estas clases deberemos modificar la red preentrenada con lo que se conoce como finetuning. Tanto la base de datos de entrenamiento como las clases pueden variar segun el modelo utilizado por ello se debe leer la documentacion de la libreria utilizada.\n",
    "\n",
    "Se intentaron utilizar las redes convolucionales para traducir texto pero una nueva arquitectura las supero ampliamente: los transformers.\n",
    "\n",
    "Links:\n",
    "- Imagenet: https://www.image-net.org/index.php\n",
    "- Clases: https://deeplearning.cms.waikato.ac.nz/user-guide/class-maps/IMAGENET/"
   ]
  },
  {
   "cell_type": "markdown",
   "id": "947562b8-d1e8-480b-835d-e7c311f0889d",
   "metadata": {},
   "source": [
    "## Modelos Transformer preentrenados\n",
    "\n",
    "Pensados en un principio para traducir texto hoy son la base de ChatGPT, Bard, Llama2 y practicamente todo el boom de chatbots.\n",
    "\n",
    "Estos modelos tambien han sido adaptados para reconocimiento y clasificacion de imagenes y han superado a los convolucionales. Su arquitectura es mas compleja y a diferencia de los modelos convolucionales puede encontrar relaciones entre partes distantes de la imagen.\n",
    "\n",
    "Por ejemplo veamos la siguiente imagen. Para una red convolucional ambas caras serian casi lo mismo en cambio una red transformer puede relacionar las partes y entender que solo la primera es una cara.\n",
    "<div style=\"text-align:center\">\n",
    "<img src=\"img/cara_deconstruida.png\" width=\"500\"/>\n",
    "</div>\n",
    "\n",
    "Si bien los transformers superan a las redes convolucionales estas ultimas se siguen utilizando debido a que muchas veces, dependiendo de la tarea, la mejora no justifica el costo computacional de utilizar la arquitectura mas compleja de los transformers.\n",
    "\n",
    "Links:\n",
    "- Bert: https://arxiv.org/abs/1706.03762\n",
    "- ViT vs CNN: https://arxiv.org/abs/2101.11986"
   ]
  },
  {
   "cell_type": "markdown",
   "id": "8b02a872-e59c-4e8b-9b27-4db53cbed1e6",
   "metadata": {},
   "source": [
    "## Librerias y APIs para utilizar estas cajas negras preentrenadas\n",
    "\n",
    "Hay una gran cantidad de librerias que nos permiten utilizar modelos preentrenados, aqui solo veremos dos:\n",
    "\n",
    "- Pytorch\n",
    "- Huggingface: https://github.com/huggingface/transformers"
   ]
  },
  {
   "cell_type": "markdown",
   "id": "ee58e760-05a2-487f-b8cd-f1d4206e43f8",
   "metadata": {},
   "source": [
    "#### Si quieres cononcer otras librerias aqui una lista:\n",
    "\n",
    "Librerias open source:\n",
    "- huggingface: https://github.com/huggingface/transformers\n",
    "- keras:\n",
    "- fastai: https://github.com/fastai/fastai\n",
    "- lightning: https://github.com/lightning-ai/lightning\n",
    "\n",
    "En la nube privadas pagas:\n",
    "- openai: https://platform.openai.com/docs/guides/fine-tuning\n",
    "- azure: https://learn.microsoft.com/en-us/training/modules/finetune-foundation-model-with-azure-machine-learning/\n",
    "- amazon: https://docs.aws.amazon.com/sagemaker/latest/dg/jumpstart-fine-tune.html"
   ]
  },
  {
   "cell_type": "markdown",
   "id": "94244657-107f-4e36-9d08-88ba57823f71",
   "metadata": {},
   "source": [
    "# Fin: [Volver al contenido del curso](https://www.freecodingtour.com/cursos/espanol/deeplearning/deeplearning.html)"
   ]
  }
 ],
 "metadata": {
  "kernelspec": {
   "display_name": "Python 3 (ipykernel)",
   "language": "python",
   "name": "python3"
  },
  "language_info": {
   "codemirror_mode": {
    "name": "ipython",
    "version": 3
   },
   "file_extension": ".py",
   "mimetype": "text/x-python",
   "name": "python",
   "nbconvert_exporter": "python",
   "pygments_lexer": "ipython3",
   "version": "3.9.7"
  }
 },
 "nbformat": 4,
 "nbformat_minor": 5
}
