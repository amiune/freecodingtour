{
 "cells": [
  {
   "cell_type": "markdown",
   "id": "5b893fb7-d8f2-4098-98a7-2bb3f959fa85",
   "metadata": {},
   "source": [
    "# Transformer Architecture\n",
    "\n",
    "[Deep NN course](https://fleuret.org/dlc/)\n",
    "\n",
    "[Implement a transformer from scratch with keras](https://keras.io/guides/keras_nlp/transformer_pretraining/)\n",
    "\n",
    "[Implement a transformer from scratch with pytorch](https://mohitkpandey.github.io/posts/2020/11/trfm-code/)\n",
    "\n",
    "[Visualizing How Vision Transformer works](https://keras.io/examples/vision/probing_vits/)\n",
    "\n"
   ]
  },
  {
   "cell_type": "code",
   "execution_count": null,
   "id": "5cdc6e2d-7ee9-467c-ab5b-f8b48100054b",
   "metadata": {},
   "outputs": [],
   "source": []
  }
 ],
 "metadata": {
  "kernelspec": {
   "display_name": "Python 3 (ipykernel)",
   "language": "python",
   "name": "python3"
  },
  "language_info": {
   "codemirror_mode": {
    "name": "ipython",
    "version": 3
   },
   "file_extension": ".py",
   "mimetype": "text/x-python",
   "name": "python",
   "nbconvert_exporter": "python",
   "pygments_lexer": "ipython3",
   "version": "3.9.7"
  }
 },
 "nbformat": 4,
 "nbformat_minor": 5
}
