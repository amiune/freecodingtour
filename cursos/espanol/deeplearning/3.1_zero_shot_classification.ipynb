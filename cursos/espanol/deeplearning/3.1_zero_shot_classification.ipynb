{
 "cells": [
  {
   "cell_type": "markdown",
   "id": "1fbf6391-0776-42dd-97a1-f2faf6eeea84",
   "metadata": {},
   "source": [
    "# Zero Shot Classification\n",
    "\n",
    "Estos modelos llamados **zero-shot** intentan clasificar texto o imagenes en clases para los cuales no han sido entrenados, es decir, sin la tecnica de finetuning que veremos en la siguiente unidad."
   ]
  },
  {
   "cell_type": "code",
   "execution_count": null,
   "id": "b4959126-7a02-4b0c-afca-4a1c9e5c21d8",
   "metadata": {},
   "outputs": [],
   "source": [
    "!pip install transformers[torch] --quiet"
   ]
  },
  {
   "cell_type": "code",
   "execution_count": null,
   "id": "94ae9f8b-ae9d-49c0-a36c-5089975973c7",
   "metadata": {},
   "outputs": [],
   "source": [
    "from transformers import pipeline"
   ]
  },
  {
   "cell_type": "code",
   "execution_count": null,
   "id": "e030b26f-3bde-4d36-87a6-0be072076d7d",
   "metadata": {},
   "outputs": [],
   "source": [
    "classifier = pipeline(task = \"zero-shot-image-classification\", \n",
    "                      model = \"openai/clip-vit-large-patch14\",\n",
    "                      device = 0)"
   ]
  },
  {
   "cell_type": "code",
   "execution_count": null,
   "id": "8d5da1de-1a51-43d9-adf9-0dc33ba7dd6d",
   "metadata": {},
   "outputs": [],
   "source": [
    "from PIL import Image\n",
    "import requests\n",
    "url = \"https://images.unsplash.com/photo-1494790108377-be9c29b29330\"\n",
    "image = Image.open(requests.get(url, stream=True).raw)\n",
    "#print(image.size)\n",
    "image.thumbnail((600,300),Image.LANCZOS)\n",
    "image"
   ]
  },
  {
   "cell_type": "code",
   "execution_count": null,
   "id": "08574661-bb99-41cb-a19c-df17ec28bf7d",
   "metadata": {},
   "outputs": [],
   "source": [
    "predictions = classifier(image, candidate_labels=[\"anger\", \"contemp\", \"disgust\", \"fear\", \"happy\",\"neutral\",\"sad\",\"surprise\"])"
   ]
  },
  {
   "cell_type": "markdown",
   "id": "175668e2-d594-4b22-ac6c-72689ee6dbad",
   "metadata": {},
   "source": [
    "## Sin pipelines"
   ]
  },
  {
   "cell_type": "code",
   "execution_count": null,
   "id": "703b4390-936f-4a6f-8b2b-aa672c6a26ab",
   "metadata": {},
   "outputs": [],
   "source": [
    "from transformers import AutoProcessor, AutoModelForZeroShotImageClassification\n",
    "checkpoint = \"openai/clip-vit-large-patch14\"\n",
    "model = AutoModelForZeroShotImageClassification.from_pretrained(checkpoint)\n",
    "processor = AutoProcessor.from_pretrained(checkpoint)"
   ]
  },
  {
   "cell_type": "code",
   "execution_count": null,
   "id": "48def2b4-4df6-4629-8e24-ec5599e3a91c",
   "metadata": {},
   "outputs": [],
   "source": [
    "candidate_labels = [\"tree\", \"car\", \"bike\", \"cat\"]\n",
    "inputs = processor(images=image, text=candidate_labels, return_tensors=\"pt\", padding=True)"
   ]
  },
  {
   "cell_type": "code",
   "execution_count": null,
   "id": "22a071a0-3b43-4879-9d33-0354eda78410",
   "metadata": {},
   "outputs": [],
   "source": [
    "import torch\n",
    "\n",
    "with torch.no_grad():\n",
    "    outputs = model(**inputs)\n",
    "\n",
    "logits = outputs.logits_per_image[0]\n",
    "probs = logits.softmax(dim=-1).numpy()\n",
    "scores = probs.tolist()"
   ]
  },
  {
   "cell_type": "code",
   "execution_count": null,
   "id": "0a191980-8804-4719-8d59-e51bd7ccec21",
   "metadata": {},
   "outputs": [],
   "source": [
    "result = [\n",
    "    {\"score\": score, \"label\": candidate_label}\n",
    "    for score, candidate_label in sorted(zip(probs, candidate_labels), key=lambda x: -x[0])\n",
    "]"
   ]
  },
  {
   "cell_type": "markdown",
   "id": "35a6989a-f47d-4bb3-aec4-f6d746deed92",
   "metadata": {},
   "source": [
    "### Ejercicio 1:\n",
    "\n",
    "Clasificar las siguientes peliculas por genero, terror o comedia, utilizando zero shot classification para texto. Probar diferentes modelos y comparar sus resultados.\n",
    "\n",
    "Comedia: \n",
    "- Risa en el paraíso (1987)\n",
    "- Risa y lágrimas (1954)\n",
    "- La vida en risa (1996)\n",
    "- El club de la risa (1999)\n",
    "- Divertido, divertido (1969)\n",
    "- Divertida aventura (1964)\n",
    "- Divertida mente (2015)\n",
    "- Diversión con Bob (1994)\n",
    "- Locura de amor (1948)\n",
    "- Locura en el oeste (1973)\n",
    "- Locura de verano (1986)\n",
    "- Locura en el espacio (1987)\n",
    "- La risa es contagiosa (1969)\n",
    "- Diversión asegurada (2003)\n",
    "- Locura y dinero (2008)\n",
    "\n",
    "Terror:\n",
    "- Miedo (2007)\n",
    "- Miedo en la noche (1972)\n",
    "- Miedo a volar (1990)\n",
    "- La matanza de Texas (1974)\n",
    "- La matanza de Texas 2 (1986)\n",
    "- La matanza de Texas: El origen (2007)\n",
    "- Matanza en el colegio (1982)\n",
    "- La masacre de los inocentes (1991)\n",
    "- Masacre en la autopista (1977)\n",
    "- Masacre en el hospital (1982)\n",
    "- Masacre de zombies (1978)\n",
    "- Miedo profundo (1998)\n",
    "- Matanza en Fresno (2016)\n",
    "- La masacre de Amityville (1979)\n"
   ]
  },
  {
   "cell_type": "code",
   "execution_count": null,
   "id": "cf6277b6-c1d6-4e30-9c76-66a7147ded11",
   "metadata": {},
   "outputs": [],
   "source": [
    "# Escribir aqui la solucion\n",
    "\n"
   ]
  },
  {
   "cell_type": "code",
   "execution_count": null,
   "id": "bacb6dca-7805-4ad1-bb7b-7e2bad15c9e6",
   "metadata": {},
   "outputs": [],
   "source": [
    "#@title Solucion Ejercicio 1 {display-mode:\"form\"}\n"
   ]
  },
  {
   "cell_type": "markdown",
   "id": "433b0a5a-2b17-4a0f-8e0b-55f7faa63900",
   "metadata": {},
   "source": [
    "### Referencias\n",
    "- https://huggingface.co/docs/transformers/tasks/zero_shot_image_classification"
   ]
  },
  {
   "cell_type": "markdown",
   "id": "ecb55af4-681a-4852-a47b-1aef9effbf91",
   "metadata": {},
   "source": [
    "# Fin: [Volver al contenido del curso](https://www.freecodingtour.com/cursos/espanol/deeplearning/deeplearning.html)"
   ]
  }
 ],
 "metadata": {
  "kernelspec": {
   "display_name": "Python 3 (ipykernel)",
   "language": "python",
   "name": "python3"
  },
  "language_info": {
   "codemirror_mode": {
    "name": "ipython",
    "version": 3
   },
   "file_extension": ".py",
   "mimetype": "text/x-python",
   "name": "python",
   "nbconvert_exporter": "python",
   "pygments_lexer": "ipython3",
   "version": "3.9.7"
  }
 },
 "nbformat": 4,
 "nbformat_minor": 5
}
