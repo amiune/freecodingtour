{
 "cells": [
  {
   "cell_type": "markdown",
   "id": "5b893fb7-d8f2-4098-98a7-2bb3f959fa85",
   "metadata": {},
   "source": [
    "# Transformer Architecture\n",
    "\n",
    "[Deep NN course](https://fleuret.org/dlc/)\n",
    "\n",
    "[Visualization](https://bbycroft.net/llm)\n",
    "\n",
    "[Implement a transformer from scratch with keras](https://keras.io/guides/keras_nlp/transformer_pretraining/)\n",
    "\n",
    "[Implement a transformer from scratch with pytorch](https://mohitkpandey.github.io/posts/2020/11/trfm-code/)\n",
    "\n",
    "[Visualizing How Vision Transformer works](https://keras.io/examples/vision/probing_vits/)\n",
    "\n",
    "[Transformers from Scratch 1](https://e2eml.school/transformers.html)\n",
    "\n",
    "[Transformers from Scratch 2](https://peterbloem.nl/blog/transformers)\n",
    "\n",
    "[Transformers from Scratch 3](https://www.kaggle.com/code/arunmohan003/transformer-from-scratch-using-pytorch)\n",
    "\n",
    "[Transformers from Scratch 4](https://github.com/Khaliladib11/Transformer-from-scratch)\n",
    "\n",
    "[Transformers from Scratch 5](https://towardsdatascience.com/build-your-own-transformer-from-scratch-using-pytorch-84c850470dcb)"
   ]
  },
  {
   "cell_type": "markdown",
   "id": "edb781c5-721d-4954-a1e2-8b15397bde41",
   "metadata": {},
   "source": [
    "# Fin: [Volver al contenido del curso](https://www.freecodingtour.com/cursos/espanol/deeplearning/deeplearning.html)"
   ]
  }
 ],
 "metadata": {
  "kernelspec": {
   "display_name": "Python 3 (ipykernel)",
   "language": "python",
   "name": "python3"
  },
  "language_info": {
   "codemirror_mode": {
    "name": "ipython",
    "version": 3
   },
   "file_extension": ".py",
   "mimetype": "text/x-python",
   "name": "python",
   "nbconvert_exporter": "python",
   "pygments_lexer": "ipython3",
   "version": "3.9.7"
  }
 },
 "nbformat": 4,
 "nbformat_minor": 5
}
