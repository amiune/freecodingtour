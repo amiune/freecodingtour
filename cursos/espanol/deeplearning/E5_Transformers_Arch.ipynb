{
 "cells": [
  {
   "cell_type": "markdown",
   "id": "5b893fb7-d8f2-4098-98a7-2bb3f959fa85",
   "metadata": {},
   "source": [
    "# Transformer Architecture\n",
    "\n",
    "[Visualization](https://bbycroft.net/llm)\n",
    "\n",
    "[Self Attention Layer Explanation](https://magazine.sebastianraschka.com/p/understanding-and-coding-self-attention)\n",
    "\n",
    "[Implement a transformer from scratch with pytorch](https://www.youtube.com/watch?v=kCc8FmEb1nY)\n",
    "\n",
    "[Implement a transformer from scratch with keras](https://keras.io/guides/keras_nlp/transformer_pretraining/)\n",
    "\n",
    "[Deep NN course](https://fleuret.org/dlc/)\n",
    "\n",
    "[Step by step without math](https://blog.miguelgrinberg.com/post/how-llms-work-explained-without-math)"
   ]
  },
  {
   "cell_type": "markdown",
   "id": "edb781c5-721d-4954-a1e2-8b15397bde41",
   "metadata": {},
   "source": [
    "# Fin: [Volver al contenido del curso](https://www.freecodingtour.com/cursos/espanol/deeplearning/deeplearning.html)"
   ]
  }
 ],
 "metadata": {
  "kernelspec": {
   "display_name": "Python 3 (ipykernel)",
   "language": "python",
   "name": "python3"
  },
  "language_info": {
   "codemirror_mode": {
    "name": "ipython",
    "version": 3
   },
   "file_extension": ".py",
   "mimetype": "text/x-python",
   "name": "python",
   "nbconvert_exporter": "python",
   "pygments_lexer": "ipython3",
   "version": "3.9.18"
  }
 },
 "nbformat": 4,
 "nbformat_minor": 5
}
