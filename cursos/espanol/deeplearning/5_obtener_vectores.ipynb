{
 "cells": [
  {
   "cell_type": "markdown",
   "id": "703bc370-a834-4261-9ff9-ce3e302325f6",
   "metadata": {},
   "source": [
    "# Como obtener solo los vectores"
   ]
  },
  {
   "cell_type": "code",
   "execution_count": null,
   "id": "bb2b5021-421b-43e0-96c5-2774047a22a2",
   "metadata": {},
   "outputs": [],
   "source": [
    "!pip install -U sentence-transformers --quiet"
   ]
  },
  {
   "cell_type": "code",
   "execution_count": null,
   "id": "734e1e3c-be45-43dc-ae24-9c047cd0dca7",
   "metadata": {},
   "outputs": [],
   "source": [
    "import pandas as pd\n",
    "from sentence_transformers import SentenceTransformer, util"
   ]
  },
  {
   "cell_type": "code",
   "execution_count": null,
   "id": "f7502eb4-23c5-4f8a-a124-ff9e58fef48b",
   "metadata": {},
   "outputs": [],
   "source": [
    "model = SentenceTransformer('all-MiniLM-L6-v2')"
   ]
  },
  {
   "cell_type": "code",
   "execution_count": null,
   "id": "d280f46f-5dc3-4977-9b2e-122fa6885931",
   "metadata": {},
   "outputs": [],
   "source": [
    "#Textos a vectorizar\n",
    "sentences = [\n",
    "    'Italy',\n",
    "    'Spain',\n",
    "    'Germany',\n",
    "    'France'\n",
    "]"
   ]
  },
  {
   "cell_type": "code",
   "execution_count": null,
   "id": "349978b5-e078-4920-b247-3b2b4bc1dd2a",
   "metadata": {},
   "outputs": [],
   "source": [
    "#Las frases son vectorizadas llamando a model.encode()\n",
    "output = model.encode(sentences)"
   ]
  },
  {
   "cell_type": "code",
   "execution_count": null,
   "id": "b3b090ca-15ec-4446-92e3-5804260411a0",
   "metadata": {},
   "outputs": [],
   "source": [
    "embeddings = pd.DataFrame(output)"
   ]
  },
  {
   "cell_type": "code",
   "execution_count": null,
   "id": "288b0f6d-57f8-4839-ad9f-5e9ced95590d",
   "metadata": {},
   "outputs": [],
   "source": [
    "embeddings"
   ]
  },
  {
   "cell_type": "markdown",
   "id": "844610d6-b82e-4d48-ba24-096265ed40fb",
   "metadata": {},
   "source": [
    "## El viejo y conocido KNN vuelve a ser util\n",
    "\n",
    "Si utilizamos como medida de distancia entre vectores el angulo entre ellos a traves de la metrica de similitud de coseno podemos ver cuales de nuestros vectores son mas similares y con ello podemos utilizar el algoritmo de vecinos cercanos para hacer, por ejemplo, una busqueda de las cinco frases mas parecidas a una que nosotros elijamos."
   ]
  },
  {
   "cell_type": "code",
   "execution_count": null,
   "id": "18b52142-f66e-47b8-849f-0dc391e3611a",
   "metadata": {},
   "outputs": [],
   "source": [
    "query = \"Madrid\"\n",
    "query_embedding = model.encode(query)"
   ]
  },
  {
   "cell_type": "code",
   "execution_count": null,
   "id": "4b6c81d4-57e0-42ef-88fc-45e7c8ea8d9b",
   "metadata": {},
   "outputs": [],
   "source": [
    "for i in range(len(embeddings)):\n",
    "    cos_sim = util.cos_sim(query_embedding, embeddings.iloc[i,:])\n",
    "    print(f\"Similitud del coseno {i}:\", cos_sim)"
   ]
  },
  {
   "cell_type": "markdown",
   "id": "f87fe725-99ac-4855-9896-e87a24209620",
   "metadata": {},
   "source": [
    "### Ejercicio 1:\n",
    "\n",
    "Descarga un chat de whatsapp y utiliza los vectores y la similitud para buscar textos en dicho chat. Por ejemplo, supongamos que queremos buscar una receta de cocina de pasta y tenemos el siguiente chat:\n",
    "- Persona A: \"Hola como estas?\"\n",
    "- Persona B: \"Buen dia!\"\n",
    "- Persona B: \"Muy bien y tu?\"\n",
    "- Persona A: \"Bien, con un poco de calor\"\n",
    "- Persona A: \"Queria hacerte una consulta a ti que eres experto en la cocina\"\n",
    "- Persona B: \"Si dime que quieres saber\"\n",
    "- Persona A: \"Quisiera saber cual es tu receta para hacer tallarines\"\n",
    "- Persona B: \"Si por supuesto!\"\n",
    "- Persona B: \"Es super simple: 1 huevo y 100 gramos de harina por persona\"\n",
    "- Persona B: \"Si que es facil verdad?\"\n",
    "- Persona A: \"Si! Muchas gracias!!\"\n",
    "\n",
    "\n",
    "\n"
   ]
  },
  {
   "cell_type": "code",
   "execution_count": null,
   "id": "6d32c0a0-6399-4fa1-8a65-bad8c0bb4449",
   "metadata": {},
   "outputs": [],
   "source": [
    "# Escribir aqui la solucion\n",
    "\n"
   ]
  },
  {
   "cell_type": "code",
   "execution_count": null,
   "id": "6817ad54-971d-4c17-8a84-91ec62daeade",
   "metadata": {},
   "outputs": [],
   "source": [
    "#@title Solucion Ejercicio 1: Paso 1 {display-mode:\"form\"}\n",
    "\n",
    "# Cargar un modelo en espanol\n",
    "model = SentenceTransformer('dccuchile/bert-base-spanish-wwm-cased')"
   ]
  },
  {
   "cell_type": "code",
   "execution_count": null,
   "id": "56839e3e-61e7-4897-9987-53e5b2652fbf",
   "metadata": {},
   "outputs": [],
   "source": [
    "#@title Solucion Ejercicio 1: Paso 2 {display-mode:\"form\"}\n",
    "\n",
    "# Textos a vectorizar\n",
    "chats = [\n",
    "\"Hola como estas?\",\n",
    "\"Buen dia!\",\n",
    "\"Muy bien y tu?\",\n",
    "\"Bien, con un poco de calor\",\n",
    "\"Queria hacerte una consulta a ti que eres experto en la cocina\",\n",
    "\"Si dime que quieres saber\",\n",
    "\"Quisiera saber cual es tu receta para hacer tallarines\",\n",
    "\"Si por supuesto!\",\n",
    "\"Es super simple: 1 huevo y 100 gramos de harina por persona\",\n",
    "\"Si que es facil verdad?\",\n",
    "\"Si! Muchas gracias!!\"\n",
    "]"
   ]
  },
  {
   "cell_type": "code",
   "execution_count": null,
   "id": "e75612ca-d345-45aa-a621-4fbf28b43d53",
   "metadata": {},
   "outputs": [],
   "source": [
    "#@title Solucion Ejercicio 1: Paso 3 {display-mode:\"form\"}\n",
    "\n",
    "# Convertir los textos a vectores\n",
    "vectores = model.encode(chats)\n",
    "vectores"
   ]
  },
  {
   "cell_type": "code",
   "execution_count": null,
   "id": "87d2a614-2d7e-4641-9458-709ca2ab6d6b",
   "metadata": {},
   "outputs": [],
   "source": [
    "#@title Solucion Ejercicio 1: Paso 4 {display-mode:\"form\"}\n",
    "\n",
    "# Convertir el texto a buscar en vector\n",
    "vector_a_buscar = model.encode(\"receta de pasta\")"
   ]
  },
  {
   "cell_type": "code",
   "execution_count": null,
   "id": "b9936860-d25b-4bdd-8091-151f3465f530",
   "metadata": {},
   "outputs": [],
   "source": [
    "#@title Solucion Ejercicio 1: Paso 5 {display-mode:\"form\"}\n",
    "\n",
    "# Calcular que vector del chat es mas similar al vector a buscar\n",
    "for i in range(len(vectores)):\n",
    "    cos_sim = util.cos_sim(vector_a_buscar, vectores[i,:])\n",
    "    print(f\"Similitud del coseno {i}:\", cos_sim)"
   ]
  },
  {
   "cell_type": "markdown",
   "id": "ea00a812-6d3b-4609-a339-a9770daf084e",
   "metadata": {},
   "source": [
    "## Dibujar los vectores\n",
    "\n",
    "Hay tecnicas para graficar vectores que tienen mas de 3 dimensiones, por ejemplo PCA, t-sne y umap"
   ]
  },
  {
   "cell_type": "code",
   "execution_count": null,
   "id": "b8f1201c-be40-4d15-82e5-a20ad280e877",
   "metadata": {},
   "outputs": [],
   "source": [
    "!pip install umap-learn -U -q\n",
    "\n",
    "import umap\n",
    "import numpy as np\n",
    "from tqdm import tqdm\n",
    "\n",
    "umap_transform = umap.UMAP(random_state=0, transform_seed=0).fit(embeddings)\n",
    "\n",
    "projected_dataset_embeddings = umap_transform.transform(embeddings)\n",
    "\n",
    "query = \"Madrid\"\n",
    "query_embedding = model.encode(query)\n",
    "projected_query_embedding = umap_transform.transform([query_embedding])\n",
    "\n",
    "import matplotlib.pyplot as plt\n",
    "\n",
    "fig, ax = plt.subplots()\n",
    "ax.scatter(projected_dataset_embeddings[:, 0], projected_dataset_embeddings[:, 1], s=10)\n",
    "for i, txt in enumerate(projected_dataset_embeddings):\n",
    "    ax.annotate(sentences[i], (projected_dataset_embeddings[i,0], projected_dataset_embeddings[i,1]))\n",
    "ax.scatter(projected_query_embedding[:, 0], projected_query_embedding[:, 1], c='red')\n",
    "ax.annotate(\"Madrid\", (projected_query_embedding[:, 0], projected_query_embedding[:, 1]))\n",
    "ax.set_title('Vectores')\n",
    "ax.axis('off');"
   ]
  },
  {
   "cell_type": "markdown",
   "id": "9ac7dea4-6be9-4179-be52-f32d53dfefef",
   "metadata": {},
   "source": [
    "## Vectores de OpenAI\n",
    "\n",
    "- https://platform.openai.com/docs/guides/embeddings/use-cases"
   ]
  },
  {
   "cell_type": "markdown",
   "id": "b63476d7-7048-4891-9f15-2553b16d8fda",
   "metadata": {},
   "source": [
    "## Busquedas avanzadas (RAG)\n",
    "\n",
    "Esta es la base de lo que se conoce como Retrieval Augmented Generation y que veremos en las siguientes unidades con la libreria LangChain y bases de datos vectoriales"
   ]
  },
  {
   "cell_type": "markdown",
   "id": "efbc1261-9804-40d0-b466-10c1823e53f9",
   "metadata": {},
   "source": [
    "### Referencias:\n",
    "- Sbert: https://www.sbert.net/\n",
    "- Imagenes y texto con CLIP: \n",
    "    - https://www.sbert.net/examples/applications/image-search/README.html\n",
    "    - https://github.com/UKPLab/sentence-transformers/blob/master/examples/applications/image-search/Image_Search.ipynb"
   ]
  },
  {
   "cell_type": "markdown",
   "id": "f04bb696-ef65-4431-90fe-4b769b9d5e2f",
   "metadata": {},
   "source": [
    "# Fin: [Volver al contenido del curso](https://www.freecodingtour.com/cursos/espanol/deeplearning/deeplearning.html)"
   ]
  }
 ],
 "metadata": {
  "kernelspec": {
   "display_name": "Python 3 (ipykernel)",
   "language": "python",
   "name": "python3"
  },
  "language_info": {
   "codemirror_mode": {
    "name": "ipython",
    "version": 3
   },
   "file_extension": ".py",
   "mimetype": "text/x-python",
   "name": "python",
   "nbconvert_exporter": "python",
   "pygments_lexer": "ipython3",
   "version": "3.9.7"
  }
 },
 "nbformat": 4,
 "nbformat_minor": 5
}
