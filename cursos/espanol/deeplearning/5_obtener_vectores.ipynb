{
 "cells": [
  {
   "cell_type": "markdown",
   "id": "703bc370-a834-4261-9ff9-ce3e302325f6",
   "metadata": {},
   "source": [
    "# Como obtener solo los vectores"
   ]
  },
  {
   "cell_type": "code",
   "execution_count": null,
   "id": "bb2b5021-421b-43e0-96c5-2774047a22a2",
   "metadata": {},
   "outputs": [],
   "source": [
    "!pip install -U sentence-transformers --quiet"
   ]
  },
  {
   "cell_type": "code",
   "execution_count": null,
   "id": "734e1e3c-be45-43dc-ae24-9c047cd0dca7",
   "metadata": {},
   "outputs": [],
   "source": [
    "import pandas as pd\n",
    "from sentence_transformers import SentenceTransformer, util"
   ]
  },
  {
   "cell_type": "code",
   "execution_count": null,
   "id": "f7502eb4-23c5-4f8a-a124-ff9e58fef48b",
   "metadata": {},
   "outputs": [],
   "source": [
    "model = SentenceTransformer('all-MiniLM-L6-v2')"
   ]
  },
  {
   "cell_type": "code",
   "execution_count": null,
   "id": "d280f46f-5dc3-4977-9b2e-122fa6885931",
   "metadata": {},
   "outputs": [],
   "source": [
    "#Textos a vectorizar\n",
    "sentences = [\n",
    "    'Italy',\n",
    "    'Spain',\n",
    "    'Germany',\n",
    "    'France'\n",
    "]"
   ]
  },
  {
   "cell_type": "code",
   "execution_count": null,
   "id": "349978b5-e078-4920-b247-3b2b4bc1dd2a",
   "metadata": {},
   "outputs": [],
   "source": [
    "#Las frases son vectorizadas llamando a model.encode()\n",
    "output = model.encode(sentences)"
   ]
  },
  {
   "cell_type": "code",
   "execution_count": null,
   "id": "b3b090ca-15ec-4446-92e3-5804260411a0",
   "metadata": {},
   "outputs": [],
   "source": [
    "embeddings = pd.DataFrame(output)"
   ]
  },
  {
   "cell_type": "code",
   "execution_count": null,
   "id": "288b0f6d-57f8-4839-ad9f-5e9ced95590d",
   "metadata": {},
   "outputs": [],
   "source": [
    "embeddings"
   ]
  },
  {
   "cell_type": "markdown",
   "id": "844610d6-b82e-4d48-ba24-096265ed40fb",
   "metadata": {},
   "source": [
    "## El viejo y conocido KNN vuelve a ser util\n",
    "\n",
    "Si utilizamos como medida de distancia entre vectores el angulo entre ellos a traves de la metrica de similitud de coseno podemos ver cuales de nuestros vectores son mas similares y con ello podemos utilizar el algoritmo de vecinos cercanos para hacer, por ejemplo, una busqueda de las cinco frases mas parecidas a una que nosotros elijamos."
   ]
  },
  {
   "cell_type": "code",
   "execution_count": null,
   "id": "18b52142-f66e-47b8-849f-0dc391e3611a",
   "metadata": {},
   "outputs": [],
   "source": [
    "query = \"Madrid\"\n",
    "query_embedding = model.encode(query)"
   ]
  },
  {
   "cell_type": "code",
   "execution_count": null,
   "id": "4b6c81d4-57e0-42ef-88fc-45e7c8ea8d9b",
   "metadata": {},
   "outputs": [],
   "source": [
    "for i in range(len(embeddings)):\n",
    "    cos_sim = util.cos_sim(query_embedding, embeddings.iloc[i,:])\n",
    "    print(f\"Similitud del coseno {i}:\", cos_sim)"
   ]
  },
  {
   "cell_type": "markdown",
   "id": "efbc1261-9804-40d0-b466-10c1823e53f9",
   "metadata": {},
   "source": [
    "### Referencias:\n",
    "- Sbert: https://www.sbert.net/\n",
    "- Imagenes y texto con CLIP: \n",
    "    - https://www.sbert.net/examples/applications/image-search/README.html\n",
    "    - https://github.com/UKPLab/sentence-transformers/blob/master/examples/applications/image-search/Image_Search.ipynb"
   ]
  },
  {
   "cell_type": "markdown",
   "id": "f04bb696-ef65-4431-90fe-4b769b9d5e2f",
   "metadata": {},
   "source": [
    "# Fin: [Volver al contenido del curso](https://www.freecodingtour.com/cursos/espanol/deeplearning/deeplearning.html)"
   ]
  }
 ],
 "metadata": {
  "kernelspec": {
   "display_name": "Python 3 (ipykernel)",
   "language": "python",
   "name": "python3"
  },
  "language_info": {
   "codemirror_mode": {
    "name": "ipython",
    "version": 3
   },
   "file_extension": ".py",
   "mimetype": "text/x-python",
   "name": "python",
   "nbconvert_exporter": "python",
   "pygments_lexer": "ipython3",
   "version": "3.9.7"
  }
 },
 "nbformat": 4,
 "nbformat_minor": 5
}
