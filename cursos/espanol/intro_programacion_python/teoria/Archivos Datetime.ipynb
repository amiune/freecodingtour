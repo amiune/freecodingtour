{
 "cells": [
  {
   "cell_type": "code",
   "execution_count": null,
   "id": "75bacaf6-6fd6-45a8-9d0a-f1598f9260e7",
   "metadata": {},
   "outputs": [],
   "source": [
    "import os\n",
    "from datetime import datetime, timedelta, time, date"
   ]
  },
  {
   "cell_type": "code",
   "execution_count": null,
   "id": "fe2544b5-09aa-40f1-8f1a-7d4a465e6e41",
   "metadata": {},
   "outputs": [],
   "source": [
    "with open(\"articulos_vendidos.txt\",'r') as f:\n",
    "    #todo_el_texto = f.read()\n",
    "    #lineas = f.readlines()\n",
    "    #lineas = f.read().splitlines()\n",
    "    for linea in f:\n",
    "        print(linea)"
   ]
  },
  {
   "cell_type": "code",
   "execution_count": null,
   "id": "fd284076-c316-4d94-a208-843ff7d41511",
   "metadata": {},
   "outputs": [],
   "source": [
    "d = datetime.strptime('2023-01-01 10:31:11', '%Y-%m-%d %H:%M:%S')"
   ]
  },
  {
   "cell_type": "code",
   "execution_count": null,
   "id": "cf5c2403-9142-4b18-8e8d-7d02a40819fd",
   "metadata": {},
   "outputs": [],
   "source": [
    "delta = timedelta(days=1,minutes=10)"
   ]
  },
  {
   "cell_type": "code",
   "execution_count": null,
   "id": "28ebe569-142e-46e7-ad6f-78ef89d598c3",
   "metadata": {},
   "outputs": [],
   "source": [
    "d + delta"
   ]
  },
  {
   "cell_type": "code",
   "execution_count": null,
   "id": "ea792c14-1250-46f2-b5b0-7ccd8993f687",
   "metadata": {},
   "outputs": [],
   "source": [
    "articulos_corregidos = []\n",
    "delta = timedelta(days=1,minutes=10)\n",
    "for articulo in lineas:\n",
    "    fecha, nombre, cantidad, precio = articulo.split(\",\")\n",
    "    fecha = datetime.strptime(fecha, '%Y-%m-%d %H:%M:%S')\n",
    "    fecha = fecha + delta\n",
    "    total = float(cantidad) * float(precio[1:])\n",
    "    articulos_corregidos.append((fecha, nombre, cantidad, precio, total))"
   ]
  },
  {
   "cell_type": "code",
   "execution_count": null,
   "id": "5ba08e47-156a-4248-957e-b7c3b8a8eae8",
   "metadata": {},
   "outputs": [],
   "source": [
    "with open(\"articulos_vendidos2.txt\",'w') as f:\n",
    "    for articulo in articulos_corregidos:\n",
    "        fecha, nombre, cantidad, precio, total = articulo\n",
    "        f.write(f\"{fecha},{nombre},{cantidad},{precio},{total}\\n\")"
   ]
  },
  {
   "cell_type": "code",
   "execution_count": null,
   "id": "5e84fb82-54b9-4ba6-8c4b-349b6a1635a6",
   "metadata": {},
   "outputs": [],
   "source": [
    "#Agregar un nuevo articulo que se vendio ahora\n",
    "#tener en cuenta que la hora esta una hora y diez minutos atrasada, corregirla\n",
    "#mango 20 unidades por $6"
   ]
  },
  {
   "cell_type": "code",
   "execution_count": null,
   "id": "95473852-f3bf-4ca3-9598-571dc702a3ef",
   "metadata": {},
   "outputs": [],
   "source": []
  }
 ],
 "metadata": {
  "kernelspec": {
   "display_name": "base",
   "language": "python",
   "name": "base"
  },
  "language_info": {
   "codemirror_mode": {
    "name": "ipython",
    "version": 3
   },
   "file_extension": ".py",
   "mimetype": "text/x-python",
   "name": "python",
   "nbconvert_exporter": "python",
   "pygments_lexer": "ipython3",
   "version": "3.9.7"
  }
 },
 "nbformat": 4,
 "nbformat_minor": 5
}
