{
 "cells": [
  {
   "cell_type": "markdown",
   "metadata": {},
   "source": [
    "Probabilidades y Estadistica\n",
    "\n",
    "- [Statistical Rethinking by Richard McElreath](https://www.youtube.com/@rmcelreath)"
   ]
  }
 ],
 "metadata": {
  "language_info": {
   "name": "python"
  }
 },
 "nbformat": 4,
 "nbformat_minor": 2
}
