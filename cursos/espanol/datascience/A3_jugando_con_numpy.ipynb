{
 "cells": [
  {
   "cell_type": "markdown",
   "id": "c584b90e-701d-40c8-ae3c-7e0f12a02099",
   "metadata": {
    "jp-MarkdownHeadingCollapsed": true,
    "tags": []
   },
   "source": [
    "# Jugando con Numpy (contenido opcional)\n",
    "\n",
    "Numpy es una libreria que tiene una cantidad enorme de funciones. Aqui solo veremos algunas de las mas utilizadas. Como decimos siempre no hace falta memorizarlas, cada vez que necesitemos hacer algo especifico podemos buscar en internet que funcion y como debemos utilizarla.\n",
    "\n",
    "Los siguientes ejemplos estan basados en la documentacion oficial de [Numpy](https://numpy.org/devdocs/user/absolute_beginners.html)"
   ]
  },
  {
   "cell_type": "code",
   "execution_count": null,
   "id": "56d7cf9b-8d4f-4be8-8a99-d7da0d761824",
   "metadata": {},
   "outputs": [],
   "source": [
    "import numpy as np"
   ]
  },
  {
   "cell_type": "markdown",
   "id": "e3d5a7ea-a4b1-4dc9-a4b0-9ee028cdefaf",
   "metadata": {},
   "source": [
    "## Creacion de Arrays"
   ]
  },
  {
   "cell_type": "code",
   "execution_count": null,
   "id": "4e1664df-bbe9-4753-b585-f2a52983c33f",
   "metadata": {},
   "outputs": [],
   "source": [
    "a = np.array([1, 2, 3, 4, 5, 6])\n",
    "print(type(a))\n",
    "print(a)"
   ]
  },
  {
   "cell_type": "code",
   "execution_count": null,
   "id": "0b760715-dd45-41c5-a671-b8f8fe7863c5",
   "metadata": {},
   "outputs": [],
   "source": [
    "a = np.array([[1, 2, 3, 4], [5, 6, 7, 8], [9, 10, 11, 12]])\n",
    "print(a)"
   ]
  },
  {
   "cell_type": "code",
   "execution_count": null,
   "id": "f8560f1a-c2d2-4bd8-8eaf-af5b11565163",
   "metadata": {},
   "outputs": [],
   "source": [
    "np.zeros(2)"
   ]
  },
  {
   "cell_type": "code",
   "execution_count": null,
   "id": "d6b1fbea-b64a-44b5-b5f6-4dde8d854d47",
   "metadata": {},
   "outputs": [],
   "source": [
    "np.zeros((2,3))"
   ]
  },
  {
   "cell_type": "code",
   "execution_count": null,
   "id": "14576aa2-6f11-48a8-9291-e9c61a2ca9e4",
   "metadata": {},
   "outputs": [],
   "source": [
    "np.ones(2)"
   ]
  },
  {
   "cell_type": "code",
   "execution_count": null,
   "id": "1a973723-7463-4161-9e2e-7c400e21a9a3",
   "metadata": {},
   "outputs": [],
   "source": [
    "np.empty(5) #con lo que haya en la memoria"
   ]
  },
  {
   "cell_type": "code",
   "execution_count": null,
   "id": "cbe55581-10ee-43ca-9b54-e3a616308ff3",
   "metadata": {},
   "outputs": [],
   "source": [
    "np.arange(4) #como la funcion range"
   ]
  },
  {
   "cell_type": "code",
   "execution_count": null,
   "id": "08d3e374-f457-4c44-bdfd-9724083d9141",
   "metadata": {},
   "outputs": [],
   "source": [
    "np.linspace(0, 10, num=5) #del 0 al 10 cinco numeros igualmente espaciados"
   ]
  },
  {
   "cell_type": "code",
   "execution_count": null,
   "id": "19879246-34d4-4f13-a953-27dffb7ca6b4",
   "metadata": {},
   "outputs": [],
   "source": [
    "np.ones(2, dtype=np.int64) #elegir el tipo de dato"
   ]
  },
  {
   "cell_type": "markdown",
   "id": "b77b69ef-ae6e-4a23-afff-b78b70e05450",
   "metadata": {},
   "source": [
    "## Concatenar y agregar elementos"
   ]
  },
  {
   "cell_type": "code",
   "execution_count": null,
   "id": "2bcec993-cb84-45bb-94b6-7ee5705121fc",
   "metadata": {},
   "outputs": [],
   "source": [
    "a = np.array([1, 2, 3, 4])\n",
    "b = np.array([5, 6, 7, 8])"
   ]
  },
  {
   "cell_type": "code",
   "execution_count": null,
   "id": "b4ef39c8-dc50-4ef3-b824-d1e94b1704a3",
   "metadata": {},
   "outputs": [],
   "source": [
    "#https://numpy.org/devdocs/reference/generated/numpy.concatenate.html\n",
    "np.concatenate((a, b))"
   ]
  },
  {
   "cell_type": "code",
   "execution_count": null,
   "id": "a9d0ca7a-0bbb-417b-839c-e3a9800212ea",
   "metadata": {},
   "outputs": [],
   "source": [
    "a = np.array([[1, 2], [3, 4]])\n",
    "b = np.array([[5, 6]])"
   ]
  },
  {
   "cell_type": "code",
   "execution_count": null,
   "id": "641234c3-4d68-498e-a604-42a1f0b47231",
   "metadata": {},
   "outputs": [],
   "source": [
    "np.concatenate((a, b), axis=0) #axis=0 : eje de las filas (o sea por columnas)"
   ]
  },
  {
   "cell_type": "code",
   "execution_count": null,
   "id": "257e4aa9-6073-41ca-8009-b5a7ba058b66",
   "metadata": {},
   "outputs": [],
   "source": [
    "np.concatenate((a, b.T), axis=1) #axis=1 : eje de las columnas (o sea por filas)"
   ]
  },
  {
   "cell_type": "code",
   "execution_count": null,
   "id": "5878d9d8-3cb7-4582-9522-cec0311ac5d3",
   "metadata": {},
   "outputs": [],
   "source": [
    "np.concatenate((a, b), axis=None) #axis=None flattens : convierte en unidimensional"
   ]
  },
  {
   "cell_type": "code",
   "execution_count": null,
   "id": "c06bb0d2-8d08-4c12-9ea8-bce384f54680",
   "metadata": {},
   "outputs": [],
   "source": [
    "a = np.array([[1, 2], [3, 4], [5,6]])\n",
    "b = np.array([[[7,8,9,10,11]]])\n",
    "np.concatenate((a, b), axis=None)"
   ]
  },
  {
   "cell_type": "code",
   "execution_count": null,
   "id": "bbb1d3f8-23db-4aff-890e-e9b92c593e88",
   "metadata": {},
   "outputs": [],
   "source": [
    "a = np.array([[1, 2], [3, 4], [5,6]])\n",
    "b = np.array([[[7,8,9,10,11]]])\n",
    "c = np.concatenate((a, b), axis=None)\n",
    "c[0] = 99\n",
    "print(a)\n",
    "print(b)\n",
    "print(c)"
   ]
  },
  {
   "cell_type": "markdown",
   "id": "af05d08e-55c1-4d84-ad2d-259927d76ac9",
   "metadata": {},
   "source": [
    "## Tamaño de los arrays"
   ]
  },
  {
   "cell_type": "code",
   "execution_count": null,
   "id": "0592098b-08ff-4cd7-a9b2-d5e84d436bca",
   "metadata": {},
   "outputs": [],
   "source": [
    "array_ejemplo = np.array([[[0, 1, 2, 3],\n",
    "                           [4, 5, 6, 7]],\n",
    "\n",
    "                          [[0, 1, 2, 3],\n",
    "                           [4, 5, 6, 7]],\n",
    "\n",
    "                          [[0 ,1 ,2, 3],\n",
    "                           [4, 5, 6, 7]]])"
   ]
  },
  {
   "cell_type": "code",
   "execution_count": null,
   "id": "5aac2b45-4a18-4aed-8ad3-c686314584e6",
   "metadata": {},
   "outputs": [],
   "source": [
    "array_ejemplo.shape #elementos por dimension"
   ]
  },
  {
   "cell_type": "code",
   "execution_count": null,
   "id": "c3e7e71a-92d0-438c-a792-72ce80478dc9",
   "metadata": {},
   "outputs": [],
   "source": [
    "array_ejemplo.ndim #numero de dimensiones"
   ]
  },
  {
   "cell_type": "code",
   "execution_count": null,
   "id": "57b25aa3-4def-4d0f-9dfb-71b47791ee55",
   "metadata": {},
   "outputs": [],
   "source": [
    "array_ejemplo.size #cantidad total de elementos"
   ]
  },
  {
   "cell_type": "markdown",
   "id": "de06f99f-2a5a-4a12-951d-a3c761b1dba0",
   "metadata": {},
   "source": [
    "## Modificar la cantidad de dimensiones y elementos por dimension"
   ]
  },
  {
   "cell_type": "code",
   "execution_count": null,
   "id": "6935f5b0-a4d2-47c1-bcce-aca1cf28eba8",
   "metadata": {},
   "outputs": [],
   "source": [
    "a = np.arange(8)\n",
    "print(a)"
   ]
  },
  {
   "cell_type": "code",
   "execution_count": null,
   "id": "0e2f921d-507a-472d-b809-084bb6b2340e",
   "metadata": {},
   "outputs": [],
   "source": [
    "a.reshape(2,4)"
   ]
  },
  {
   "cell_type": "code",
   "execution_count": null,
   "id": "b7f76710-2c18-4f8e-be92-cb6c4302baa4",
   "metadata": {},
   "outputs": [],
   "source": [
    "a.reshape(4,2)"
   ]
  },
  {
   "cell_type": "code",
   "execution_count": null,
   "id": "e7195fa4-c5ac-4a60-8e5a-65168d741538",
   "metadata": {},
   "outputs": [],
   "source": [
    "a.reshape(2,2,2)"
   ]
  },
  {
   "cell_type": "code",
   "execution_count": null,
   "id": "77c590dd-f348-4053-b27a-d3e9c1c5eccf",
   "metadata": {},
   "outputs": [],
   "source": [
    "a = np.arange(6)\n",
    "b = a.reshape(2,3)\n",
    "b[0,0] = 99\n",
    "print(a)\n",
    "print(b)"
   ]
  },
  {
   "cell_type": "markdown",
   "id": "b790daab-2115-4dd7-9d09-894c6d6a86ba",
   "metadata": {},
   "source": [
    "## Matriz transpuesta"
   ]
  },
  {
   "cell_type": "code",
   "execution_count": null,
   "id": "6eb21913-5ddf-44dd-88bf-a3ba47510fc7",
   "metadata": {},
   "outputs": [],
   "source": [
    "a = np.arange(6)\n",
    "print(a)\n",
    "print(a.T)"
   ]
  },
  {
   "cell_type": "code",
   "execution_count": null,
   "id": "9fbaa5e7-8c58-4c28-944e-66f3fff0eae4",
   "metadata": {},
   "outputs": [],
   "source": [
    "a = a.reshape(2,3)\n",
    "print(a)\n",
    "print(a.T)\n",
    "print(a.transpose())"
   ]
  },
  {
   "cell_type": "code",
   "execution_count": null,
   "id": "ebb0941c-022f-48a3-bae4-d6bb7a3391b7",
   "metadata": {},
   "outputs": [],
   "source": [
    "a = np.arange(6)\n",
    "b = a.T\n",
    "b[0] = 99\n",
    "print(a)\n",
    "print(b)"
   ]
  },
  {
   "cell_type": "markdown",
   "id": "2155692a-5471-436b-befd-47575978e144",
   "metadata": {},
   "source": [
    "## Flatten y Ravel"
   ]
  },
  {
   "cell_type": "code",
   "execution_count": null,
   "id": "7e7c9733-29ec-44c2-a552-96e39777930e",
   "metadata": {},
   "outputs": [],
   "source": [
    "a = np.array([[1 , 2, 3, 4], [5, 6, 7, 8], [9, 10, 11, 12]])\n",
    "print(a)"
   ]
  },
  {
   "cell_type": "code",
   "execution_count": null,
   "id": "e20f333e-7858-4de7-988f-16506ea51daf",
   "metadata": {},
   "outputs": [],
   "source": [
    "a1 = a.flatten() #crea una copia del array\n",
    "a1[0] = 99\n",
    "print(a)"
   ]
  },
  {
   "cell_type": "code",
   "execution_count": null,
   "id": "fb7c48d3-eac8-410f-9735-7743cc9cc0f0",
   "metadata": {},
   "outputs": [],
   "source": [
    "a2 = a.ravel() #no crea una copia del array\n",
    "a2[0] = 98\n",
    "print(a)"
   ]
  },
  {
   "cell_type": "markdown",
   "id": "bdecdbad-4aa6-4dce-9c36-4e769889e566",
   "metadata": {},
   "source": [
    "## Slicing y Copy"
   ]
  },
  {
   "cell_type": "code",
   "execution_count": null,
   "id": "970df1f4-1b49-400c-a11d-b98270ed9aa9",
   "metadata": {},
   "outputs": [],
   "source": [
    "#Igual que las listas"
   ]
  },
  {
   "cell_type": "code",
   "execution_count": null,
   "id": "db0bbfdc-af71-4694-a849-7694f98acab3",
   "metadata": {},
   "outputs": [],
   "source": [
    "a = np.array([1,2,3,4,5,6])\n",
    "print(a)"
   ]
  },
  {
   "cell_type": "code",
   "execution_count": null,
   "id": "50e7bc05-f802-441c-9d0a-08178b4b6e82",
   "metadata": {},
   "outputs": [],
   "source": [
    "a[1:3]"
   ]
  },
  {
   "cell_type": "code",
   "execution_count": null,
   "id": "3f4d1da2-6dea-484a-9680-91cc7623f876",
   "metadata": {},
   "outputs": [],
   "source": [
    "a[:3]"
   ]
  },
  {
   "cell_type": "code",
   "execution_count": null,
   "id": "db5b4471-cc85-4f01-b168-2b6c27fa2462",
   "metadata": {},
   "outputs": [],
   "source": [
    "a[1:]"
   ]
  },
  {
   "cell_type": "code",
   "execution_count": null,
   "id": "936a6f75-e72b-4289-ba96-fc15bd236a3e",
   "metadata": {},
   "outputs": [],
   "source": [
    "a[-1]"
   ]
  },
  {
   "cell_type": "code",
   "execution_count": null,
   "id": "34a1ad0d-53cf-4085-a752-d01951c78cde",
   "metadata": {},
   "outputs": [],
   "source": [
    "b = a[1:].copy()\n",
    "b[0] = 99\n",
    "print(a)\n",
    "print(b)"
   ]
  },
  {
   "cell_type": "code",
   "execution_count": null,
   "id": "5e6e6098-3570-4f35-8a70-254e63d82aef",
   "metadata": {},
   "outputs": [],
   "source": [
    "c = a[1:]\n",
    "c[-1] = 99\n",
    "print(a)\n",
    "print(c)"
   ]
  },
  {
   "cell_type": "code",
   "execution_count": null,
   "id": "905e704a-0d2f-40fe-825c-f1e270491d1e",
   "metadata": {},
   "outputs": [],
   "source": [
    "a = np.array([[1 , 2, 3, 4], [5, 6, 7, 8], [9, 10, 11, 12]])\n",
    "print(a)"
   ]
  },
  {
   "cell_type": "code",
   "execution_count": null,
   "id": "3b05c753-4fac-4852-85d5-eb4d5a1a3b49",
   "metadata": {},
   "outputs": [],
   "source": [
    "a[1:3,2:]"
   ]
  },
  {
   "cell_type": "markdown",
   "id": "444df8a7-b662-42e2-a741-6ffaf858d453",
   "metadata": {},
   "source": [
    "## Apilar y dividir matrices"
   ]
  },
  {
   "cell_type": "code",
   "execution_count": null,
   "id": "51f46ca1-65fe-4bd3-80e7-6bc5abdcd58d",
   "metadata": {},
   "outputs": [],
   "source": [
    "a1 = np.array([[1, 1],\n",
    "               [2, 2]])\n",
    "\n",
    "a2 = np.array([[3, 3],\n",
    "               [4, 4]])"
   ]
  },
  {
   "cell_type": "code",
   "execution_count": null,
   "id": "87adc2f6-4585-4220-aa61-f0f09a1b2e71",
   "metadata": {},
   "outputs": [],
   "source": [
    "np.vstack((a1, a2)) #apilar verticalmente"
   ]
  },
  {
   "cell_type": "code",
   "execution_count": null,
   "id": "a0773c43-1c31-422f-ad8b-adc64af8e033",
   "metadata": {},
   "outputs": [],
   "source": [
    "np.hstack((a1, a2)) #apilar horizontalmente"
   ]
  },
  {
   "cell_type": "code",
   "execution_count": null,
   "id": "008b05af-bc82-4282-97e4-640dbef4bf04",
   "metadata": {},
   "outputs": [],
   "source": [
    "a = np.arange(1, 25).reshape(2, 12)\n",
    "print(a)"
   ]
  },
  {
   "cell_type": "code",
   "execution_count": null,
   "id": "42deae9c-e911-471f-a929-5be06485ec6d",
   "metadata": {},
   "outputs": [],
   "source": [
    "np.hsplit(a, 3) #dividir en tres iguales"
   ]
  },
  {
   "cell_type": "code",
   "execution_count": null,
   "id": "eda52cc2-8500-4940-860c-4cb7a180745c",
   "metadata": {},
   "outputs": [],
   "source": [
    "np.hsplit(a, (2, 10)) #especifico en que columnas quiero dividir"
   ]
  },
  {
   "cell_type": "markdown",
   "id": "d1e8f4eb-d2b2-404e-9d8f-6ff25cc9e2b1",
   "metadata": {},
   "source": [
    "## Condicionales en los indices"
   ]
  },
  {
   "cell_type": "code",
   "execution_count": null,
   "id": "7200db35-9240-4c91-8eb0-ce0141e31d7f",
   "metadata": {},
   "outputs": [],
   "source": [
    "a = np.array([[1 , 2, 3, 4], [5, 6, 7, 8], [9, 10, 11, 12]])\n",
    "a"
   ]
  },
  {
   "cell_type": "code",
   "execution_count": null,
   "id": "3418ecc0-d250-4df6-b55d-ac410a842b7c",
   "metadata": {},
   "outputs": [],
   "source": [
    "print(a[a < 5])"
   ]
  },
  {
   "cell_type": "code",
   "execution_count": null,
   "id": "45e5aa09-efe0-4779-8ddd-5bbf842bc461",
   "metadata": {},
   "outputs": [],
   "source": [
    "print(a >= 5)"
   ]
  },
  {
   "cell_type": "code",
   "execution_count": null,
   "id": "2907739b-29bc-494b-b7b9-ada3f7b22af8",
   "metadata": {},
   "outputs": [],
   "source": [
    "a[[[False,False,False,False],\n",
    " [ True,True,True,True],\n",
    " [ True,True,True,True]]]"
   ]
  },
  {
   "cell_type": "code",
   "execution_count": null,
   "id": "5e33aafe-2b43-464e-b62d-c962ca65a5c7",
   "metadata": {},
   "outputs": [],
   "source": [
    "a[(a > 2) & (a < 11)]"
   ]
  },
  {
   "cell_type": "code",
   "execution_count": null,
   "id": "2300176b-931a-4fbe-93ae-7c32101d3567",
   "metadata": {},
   "outputs": [],
   "source": [
    "np.where(a < 5) #devuelve los indices (en este caso una tupla (fila,columna))"
   ]
  },
  {
   "cell_type": "markdown",
   "id": "293909fc-a0e6-4cf7-b8a6-f4fbc2c38a96",
   "metadata": {},
   "source": [
    "## Funciones utiles"
   ]
  },
  {
   "cell_type": "code",
   "execution_count": null,
   "id": "94a0b7f9-8546-4915-96f8-ab363752ead5",
   "metadata": {},
   "outputs": [],
   "source": [
    "a = np.array([10,9,8,7,6,5,4,3,2,1])\n",
    "b = np.array([[10,9,8,7,6],[5,4,3,2,1]])\n",
    "print(a)\n",
    "print(b)"
   ]
  },
  {
   "cell_type": "code",
   "execution_count": null,
   "id": "dad74126-37af-4f2a-85b8-505413684f26",
   "metadata": {},
   "outputs": [],
   "source": [
    "np.min(a)"
   ]
  },
  {
   "cell_type": "code",
   "execution_count": null,
   "id": "024cb23d-60c9-4eb7-af26-dfd3bbe6e056",
   "metadata": {},
   "outputs": [],
   "source": [
    "np.min(b)"
   ]
  },
  {
   "cell_type": "code",
   "execution_count": null,
   "id": "787960c0-1f2d-4a05-a6bc-f36b59383408",
   "metadata": {},
   "outputs": [],
   "source": [
    "np.min(b,axis=0)"
   ]
  },
  {
   "cell_type": "code",
   "execution_count": null,
   "id": "4df6f5ed-7bb8-47fc-a511-45b5ed8b09a0",
   "metadata": {},
   "outputs": [],
   "source": [
    "np.min(b,axis=1)"
   ]
  },
  {
   "cell_type": "code",
   "execution_count": null,
   "id": "e53d9b83-ceac-44ed-a1da-f36f3672b5fa",
   "metadata": {},
   "outputs": [],
   "source": [
    "np.max(a)"
   ]
  },
  {
   "cell_type": "code",
   "execution_count": null,
   "id": "13a5f849-0aff-4b78-8896-5b0c367e4891",
   "metadata": {},
   "outputs": [],
   "source": [
    "np.sum(a)"
   ]
  },
  {
   "cell_type": "code",
   "execution_count": null,
   "id": "b2ed66c3-d50c-4775-afe5-a1140f3cd750",
   "metadata": {},
   "outputs": [],
   "source": [
    "np.mean(a)"
   ]
  },
  {
   "cell_type": "code",
   "execution_count": null,
   "id": "86392b67-f2ea-4c2b-a455-c41f62e335f3",
   "metadata": {},
   "outputs": [],
   "source": [
    "np.std(a)"
   ]
  },
  {
   "cell_type": "code",
   "execution_count": null,
   "id": "41714c54-7442-4692-b696-67dd8d6aaf94",
   "metadata": {},
   "outputs": [],
   "source": [
    "np.sort(b)"
   ]
  },
  {
   "cell_type": "code",
   "execution_count": null,
   "id": "31a9592c-71d0-44c3-9253-7897ab0e7bce",
   "metadata": {},
   "outputs": [],
   "source": [
    "np.sort(b, axis=0)"
   ]
  },
  {
   "cell_type": "code",
   "execution_count": null,
   "id": "dd1b922a-fed8-4806-af27-5e3ee1424c29",
   "metadata": {},
   "outputs": [],
   "source": [
    "np.unique([1,1,1,2,2,2,2])"
   ]
  },
  {
   "cell_type": "markdown",
   "id": "850637ab-3025-4218-81c3-f44003ccaf91",
   "metadata": {},
   "source": [
    "## Operaciones matematicas entre matrices"
   ]
  },
  {
   "cell_type": "code",
   "execution_count": null,
   "id": "2947b9a9-7b65-4609-877f-8f24c719d103",
   "metadata": {},
   "outputs": [],
   "source": [
    "data = np.array([1.0, 2.0])\n",
    "data * 1.6"
   ]
  },
  {
   "cell_type": "code",
   "execution_count": null,
   "id": "ec730d05-66e1-43a9-ae87-b85308b4985a",
   "metadata": {},
   "outputs": [],
   "source": [
    "data = np.array([[1, 2], [3, 4]])\n",
    "ones = np.array([[1, 1], [1, 1]])\n",
    "data + ones"
   ]
  },
  {
   "cell_type": "code",
   "execution_count": null,
   "id": "25130d5c-6f6e-4133-b84a-b973bbd7852c",
   "metadata": {},
   "outputs": [],
   "source": [
    "data = np.array([[1, 2], [3, 4], [5, 6]])\n",
    "ones_row = np.array([1, 1])\n",
    "data + ones_row"
   ]
  },
  {
   "cell_type": "code",
   "execution_count": null,
   "id": "08bb6999-79c8-422c-9f7a-c7a3e401224a",
   "metadata": {},
   "outputs": [],
   "source": [
    "a = np.array([[1,2],[3,4]]) \n",
    "b = np.array([[11,12],[13,14]]) \n",
    "np.dot(a,b) #[[1*11+2*13, 1*12+2*14],[3*11+4*13, 3*12+4*14]]"
   ]
  },
  {
   "cell_type": "code",
   "execution_count": null,
   "id": "31d18d74-7417-4ea5-be84-7d8628e03d44",
   "metadata": {},
   "outputs": [],
   "source": [
    "A=np.array([[1,2],\n",
    "   [3,4],\n",
    "   [5,6],\n",
    "   [7,8]])\n",
    "\n",
    "B=np.array([[10,20,30],\n",
    "   [40,50,60]])\n",
    "\n",
    "C = [[1*10+2*40, 1*20+2*50, 1*30+2*60],\n",
    "     [3*10+4*40, 3*20+4*50, 3*30+4*60],\n",
    "     [5*10+6*40, 5*20+6*50, 5*30+6*60],\n",
    "     [7*10+8*40, 7*20+8*50, 7*30+8*60]]"
   ]
  },
  {
   "cell_type": "code",
   "execution_count": null,
   "id": "de546ec5-43a0-46f5-976b-7600d8e86c6a",
   "metadata": {},
   "outputs": [],
   "source": [
    "A @ B"
   ]
  },
  {
   "cell_type": "code",
   "execution_count": null,
   "id": "b9c98a42-e712-4269-8fec-091feadc994d",
   "metadata": {},
   "outputs": [],
   "source": [
    "np.matmul(A,B)"
   ]
  },
  {
   "cell_type": "code",
   "execution_count": null,
   "id": "282ba1dc-cd8a-4c5d-9cad-b427919f1a6a",
   "metadata": {},
   "outputs": [],
   "source": [
    "np.dot(A,B)"
   ]
  },
  {
   "cell_type": "markdown",
   "id": "6e3b4309-3626-42e5-aeb1-79e0c84581fd",
   "metadata": {},
   "source": [
    "## Numeros Pseudoaleatorios"
   ]
  },
  {
   "cell_type": "code",
   "execution_count": null,
   "id": "cbfbe853-507a-4128-8d0a-7a24057530ac",
   "metadata": {},
   "outputs": [],
   "source": [
    "#https://numpy.org/doc/1.16/reference/routines.random.html"
   ]
  },
  {
   "cell_type": "code",
   "execution_count": null,
   "id": "2df3a913-4fde-442b-9ef3-0ca51c7b1618",
   "metadata": {},
   "outputs": [],
   "source": [
    "np.random.randint(10)"
   ]
  },
  {
   "cell_type": "code",
   "execution_count": null,
   "id": "92440597-a774-46de-94ec-c93899aa1cd5",
   "metadata": {},
   "outputs": [],
   "source": [
    "np.random.randint(10, size=(15))"
   ]
  },
  {
   "cell_type": "markdown",
   "id": "50bb6acf-f3f4-4435-9528-a9cf05889d6b",
   "metadata": {},
   "source": [
    "## Vectorizacion"
   ]
  },
  {
   "cell_type": "code",
   "execution_count": null,
   "id": "21580a1f-05f2-4c3f-9db9-929adafeb7ca",
   "metadata": {},
   "outputs": [],
   "source": [
    "import time \n",
    "\n",
    "array1 = np.random.random(size=10**5)\n",
    "array2 = np.random.random(size=10**5)\n",
    "\n",
    "start_time = time.time()\n",
    "for i in range(len(array1)):\n",
    "    array1[i] += array2[i]\n",
    "end_time = time.time()\n",
    "print(\"Tiempo: \", end_time - start_time)\n",
    "\n",
    "start_time = time.time()\n",
    "array1 += array2\n",
    "end_time = time.time()\n",
    "print(\"Tiempo: \", end_time - start_time)"
   ]
  },
  {
   "cell_type": "code",
   "execution_count": null,
   "id": "18555781-a3f1-4d0d-aa2c-8eb1c36d06d6",
   "metadata": {},
   "outputs": [],
   "source": [
    "import numpy as np\n",
    "from timeit import Timer\n",
    " \n",
    "array = np.random.randint(1000, size=10**5)\n",
    "b = 42"
   ]
  },
  {
   "cell_type": "code",
   "execution_count": null,
   "id": "3dfc0ac0-b968-49f3-9049-6ac121246051",
   "metadata": {},
   "outputs": [],
   "source": [
    "def multiplicacion_por_escalar_bucle_for():\n",
    "    array2 = np.empty(10**5)\n",
    "    for i in range(len(array)):\n",
    "        array2[i] = array[i] * b"
   ]
  },
  {
   "cell_type": "code",
   "execution_count": null,
   "id": "1b8760e3-4073-4df7-8cec-e52d061e5b42",
   "metadata": {},
   "outputs": [],
   "source": [
    "def multiplicacion_por_escalar_numpy():\n",
    "    array2 = array * b"
   ]
  },
  {
   "cell_type": "code",
   "execution_count": null,
   "id": "46ff4ea4-9361-4efb-b072-1d288b7b33f2",
   "metadata": {},
   "outputs": [],
   "source": [
    "tiempo_bucle_for = Timer(multiplicacion_por_escalar_bucle_for).timeit(100)\n",
    "tiempo_numpy = Timer(multiplicacion_por_escalar_numpy).timeit(100)\n",
    " \n",
    "print(f\"Tiempo: {tiempo_bucle_for} usando bucle for\")\n",
    "print(f\"Tiempo: {tiempo_numpy} usando numpy\")"
   ]
  },
  {
   "cell_type": "code",
   "execution_count": null,
   "id": "300019de-7ae2-4ffc-8530-4b175f733ef8",
   "metadata": {},
   "outputs": [],
   "source": [
    "def suma_con_bucle_for():\n",
    "    suma=0\n",
    "    for item in array:\n",
    "        suma += item"
   ]
  },
  {
   "cell_type": "code",
   "execution_count": null,
   "id": "5ba7107d-a88d-4c13-a2e0-328a760b0aa5",
   "metadata": {},
   "outputs": [],
   "source": [
    "def suma_con_sum():\n",
    "    suma = sum(array)"
   ]
  },
  {
   "cell_type": "code",
   "execution_count": null,
   "id": "ec387f3b-8f44-4982-b47c-98c7d781be15",
   "metadata": {},
   "outputs": [],
   "source": [
    "def suma_con_numpy():\n",
    "    suma = np.sum(array)"
   ]
  },
  {
   "cell_type": "code",
   "execution_count": null,
   "id": "3b6cf739-786c-4e86-ac92-f7e1f534056b",
   "metadata": {},
   "outputs": [],
   "source": [
    "tiempo_bucle_for = Timer(suma_con_bucle_for).timeit(100)\n",
    "tiempo_sum = Timer(suma_con_sum).timeit(100)\n",
    "tiempo_numpy = Timer(suma_con_numpy).timeit(100)\n",
    " \n",
    "print(f\"Tiempo: {tiempo_bucle_for} usando bucle for\")\n",
    "print(f\"Tiempo: {tiempo_sum} usando sum\")\n",
    "print(f\"Tiempo: {tiempo_numpy} usando numpy\")"
   ]
  },
  {
   "cell_type": "markdown",
   "id": "d1dc54cf-d685-411d-85bc-81f1afc89feb",
   "metadata": {
    "jp-MarkdownHeadingCollapsed": true,
    "tags": []
   },
   "source": [
    "# Algebra Lineal con Numpy\n",
    "\n",
    "Numpy tambien tiene [funciones de algebra lineal](https://numpy.org/doc/stable/reference/routines.linalg.html)"
   ]
  },
  {
   "cell_type": "markdown",
   "id": "b6d4ae59-a079-4cbb-aaa9-a1ce1b1463d7",
   "metadata": {},
   "source": [
    "## Angulo entre dos vectores"
   ]
  },
  {
   "cell_type": "code",
   "execution_count": null,
   "id": "6e7daca0-bd03-4d03-bd26-813958eebc71",
   "metadata": {},
   "outputs": [],
   "source": [
    "def unit_vector(vector):\n",
    "    return vector / np.linalg.norm(vector)\n",
    "\n",
    "def angle_between(v1, v2):\n",
    "    v1_u = unit_vector(v1)\n",
    "    v2_u = unit_vector(v2)\n",
    "    return np.arccos(np.dot(v1_u, v2_u))\n",
    "\n",
    "def angle_degrees_between(v1, v2):\n",
    "    rad = angle_between(v1, v2)\n",
    "    return rad * (180/np.pi)"
   ]
  },
  {
   "cell_type": "code",
   "execution_count": null,
   "id": "8d4ec7a7-b334-44ac-b669-24277cf7fb63",
   "metadata": {},
   "outputs": [],
   "source": [
    "angle_between([1,0],[0,1])*2"
   ]
  },
  {
   "cell_type": "markdown",
   "id": "11cbcdb8-82f0-4c5e-910a-fe098b2ccdd7",
   "metadata": {},
   "source": [
    "## Determinante"
   ]
  },
  {
   "cell_type": "code",
   "execution_count": null,
   "id": "fbccfc32-c2e9-41ab-8383-efcdb3fbe9db",
   "metadata": {},
   "outputs": [],
   "source": [
    "m = np.array([[6,1,1], [4, -2, 5], [2,8,7]]) \n",
    "m"
   ]
  },
  {
   "cell_type": "code",
   "execution_count": null,
   "id": "0be17d14-214c-4c85-a74b-39c88a53d7b1",
   "metadata": {},
   "outputs": [],
   "source": [
    "print(np.linalg.det(m))\n",
    "print(6*(-2*7 - 5*8) - 1*(4*7 - 5*2) + 1*(4*8 - -2*2))"
   ]
  },
  {
   "cell_type": "markdown",
   "id": "8499acec-830b-4afd-b813-d1fa290988d9",
   "metadata": {},
   "source": [
    "## Eigenvalores y Eigenvectores"
   ]
  },
  {
   "cell_type": "code",
   "execution_count": null,
   "id": "80b458cf-cad9-44d0-a4c0-5b125398989b",
   "metadata": {},
   "outputs": [],
   "source": [
    "m = np.diag((1, 2, 3))\n",
    "m"
   ]
  },
  {
   "cell_type": "code",
   "execution_count": null,
   "id": "0951960a-89ae-4594-834d-61929eae1918",
   "metadata": {},
   "outputs": [],
   "source": [
    "w, v = LA.eig(m)\n",
    "print(w)\n",
    "print(v)"
   ]
  },
  {
   "cell_type": "markdown",
   "id": "587d09ea-8866-4afd-8488-452f6678deeb",
   "metadata": {
    "tags": []
   },
   "source": [
    "# Ejercicios"
   ]
  },
  {
   "cell_type": "markdown",
   "id": "f960c576-9901-4a76-9375-9135d1a52152",
   "metadata": {},
   "source": [
    "### Ejercicio 1:\n",
    "\n",
    "Crear array de numpy con 5 ceros y guardarlo en una variable de nombre a"
   ]
  },
  {
   "cell_type": "code",
   "execution_count": null,
   "id": "3ef82452-d9a6-48e9-ab3a-3c76c106ad6e",
   "metadata": {},
   "outputs": [],
   "source": [
    "# Escribir aqui la solucion\n",
    "\n"
   ]
  },
  {
   "cell_type": "code",
   "execution_count": null,
   "id": "ca6d2dc7-a28f-4fa3-8549-814546b8a648",
   "metadata": {},
   "outputs": [],
   "source": [
    "#No modificar este codigo y verificar que coincide con el resultado esperado\n",
    "print(type(a))\n",
    "print(type(a[0]))\n",
    "print(a)"
   ]
  },
  {
   "cell_type": "markdown",
   "id": "8dec7e0d-1869-4974-ad6d-9571e3225439",
   "metadata": {},
   "source": [
    "*Resultado esperado:*\n",
    "```\n",
    "<class 'numpy.ndarray'>\n",
    "<class 'numpy.float64'>\n",
    "[0. 0. 0. 0. 0.]\n",
    "```"
   ]
  },
  {
   "cell_type": "code",
   "execution_count": null,
   "id": "7253c71e-a4b2-452c-b14a-5a144a60fff3",
   "metadata": {},
   "outputs": [],
   "source": [
    "#@title Solucion Ejercicio 1 {display-mode:\"form\"}\n",
    "\n",
    "a = np.zeros(5)"
   ]
  },
  {
   "cell_type": "markdown",
   "id": "22043a5f-0390-4da7-af83-e51d2b00a55c",
   "metadata": {},
   "source": [
    "### Ejercicio 2:\n",
    "\n",
    "Crear array de numpy de enteros con 5 unos y guardarlo en una variable de nombre a"
   ]
  },
  {
   "cell_type": "code",
   "execution_count": null,
   "id": "6fc8d2f8-21d7-4888-adc0-58dee8444ba4",
   "metadata": {},
   "outputs": [],
   "source": [
    "# Escribir aqui la solucion\n",
    "\n"
   ]
  },
  {
   "cell_type": "code",
   "execution_count": null,
   "id": "891b7b0c-27bc-4323-80dd-cfdd1b439a3c",
   "metadata": {},
   "outputs": [],
   "source": [
    "#No modificar este codigo y verificar que coincide con el resultado esperado\n",
    "print(type(a))\n",
    "print(type(a[0]))\n",
    "print(a)"
   ]
  },
  {
   "cell_type": "markdown",
   "id": "fe4fcf72-367c-413c-a26e-dd8795aca085",
   "metadata": {},
   "source": [
    "*Resultado esperado:*\n",
    "```\n",
    "<class 'numpy.ndarray'>\n",
    "<class 'numpy.int32'>\n",
    "[1 1 1 1 1]\n",
    "```"
   ]
  },
  {
   "cell_type": "code",
   "execution_count": null,
   "id": "a3f3aee3-7e45-4e8b-b2a9-23663ce29f69",
   "metadata": {},
   "outputs": [],
   "source": [
    "#@title Solucion Ejercicio 2 {display-mode:\"form\"}\n",
    "\n",
    "a = np.ones(5, dtype=np.int32)"
   ]
  },
  {
   "cell_type": "markdown",
   "id": "75f5bde4-ba27-4743-8322-aad25126914f",
   "metadata": {},
   "source": [
    "### Ejercicio 3:\n",
    "\n",
    "Crear array de numpy de dos dimensiones (5x5) con los numeros del 0 al 24 y guardarlo en una variable de nombre a"
   ]
  },
  {
   "cell_type": "code",
   "execution_count": null,
   "id": "979376d6-0aa6-4a71-b681-90130ef24176",
   "metadata": {},
   "outputs": [],
   "source": [
    "# Escribir aqui la solucion\n",
    "\n"
   ]
  },
  {
   "cell_type": "code",
   "execution_count": null,
   "id": "a29f1b69-8ae4-442a-aea0-6c969e879574",
   "metadata": {},
   "outputs": [],
   "source": [
    "#No modificar este codigo y verificar que coincide con el resultado esperado\n",
    "print(a)"
   ]
  },
  {
   "cell_type": "markdown",
   "id": "6c553f4b-f91a-4ed3-b940-349c0a292f2e",
   "metadata": {},
   "source": [
    "*Resultado esperado:*\n",
    "```\n",
    "[[ 0  1  2  3  4]\n",
    " [ 5  6  7  8  9]\n",
    " [10 11 12 13 14]\n",
    " [15 16 17 18 19]\n",
    " [20 21 22 23 24]]\n",
    "```"
   ]
  },
  {
   "cell_type": "code",
   "execution_count": null,
   "id": "0d216023-fdfe-4861-8e29-852f110678ff",
   "metadata": {},
   "outputs": [],
   "source": [
    "#@title Solucion Ejercicio 3 {display-mode:\"form\"}\n",
    "\n",
    "a = np.arange(25).reshape(5,5)"
   ]
  },
  {
   "cell_type": "markdown",
   "id": "285f82bb-da20-4e72-99ce-6a6332950cab",
   "metadata": {},
   "source": [
    "### Ejercicio 4:\n",
    "\n",
    "Crear array de numpy de una dimension con 5 valores entre 18 y 1 igualmente espaciados y guardarlo en una variable de nombre a"
   ]
  },
  {
   "cell_type": "code",
   "execution_count": null,
   "id": "299be8ce-eebb-49ce-9b43-7a70a6364155",
   "metadata": {},
   "outputs": [],
   "source": [
    "# Escribir aqui la solucion\n",
    "\n"
   ]
  },
  {
   "cell_type": "code",
   "execution_count": null,
   "id": "dba62577-9fca-4f00-a8e9-f8fee36ff0b2",
   "metadata": {},
   "outputs": [],
   "source": [
    "#No modificar este codigo y verificar que coincide con el resultado esperado\n",
    "print(a)"
   ]
  },
  {
   "cell_type": "markdown",
   "id": "2e2505bd-73c3-4e0b-be2a-7403983d532c",
   "metadata": {},
   "source": [
    "*Resultado esperado:*\n",
    "```\n",
    "[18.   13.75  9.5   5.25  1.  ]\n",
    "```"
   ]
  },
  {
   "cell_type": "code",
   "execution_count": null,
   "id": "2c4799ff-a8ca-4793-a3f0-d1b93a6c0da9",
   "metadata": {},
   "outputs": [],
   "source": [
    "#@title Solucion Ejercicio 4 {display-mode:\"form\"}\n",
    "\n",
    "a = np.linspace(18,1,num=5)"
   ]
  },
  {
   "cell_type": "markdown",
   "id": "f1a3e46c-13e8-4b39-b7ed-0f44ebca75fc",
   "metadata": {},
   "source": [
    "### Ejercicio 5:\n",
    "\n",
    "Crear array de numpy de dos dimensiones (5x5) con todos unos y un cero en el centro y guardarlo en una variable de nombre a"
   ]
  },
  {
   "cell_type": "code",
   "execution_count": null,
   "id": "16d50b0f-e02e-4303-8b5d-b39c0c2c7ef9",
   "metadata": {},
   "outputs": [],
   "source": [
    "# Escribir aqui la solucion\n",
    "\n"
   ]
  },
  {
   "cell_type": "code",
   "execution_count": null,
   "id": "3d7ecbf0-c683-4d76-971d-5fb32f63d713",
   "metadata": {},
   "outputs": [],
   "source": [
    "#No modificar este codigo y verificar que coincide con el resultado esperado\n",
    "print(a)"
   ]
  },
  {
   "cell_type": "markdown",
   "id": "50dd4510-74fd-4119-ae8d-42527372657d",
   "metadata": {},
   "source": [
    "*Resultado esperado:*\n",
    "```\n",
    "[[1. 1. 1. 1. 1.]\n",
    " [1. 1. 1. 1. 1.]\n",
    " [1. 1. 0. 1. 1.]\n",
    " [1. 1. 1. 1. 1.]\n",
    " [1. 1. 1. 1. 1.]]\n",
    "```"
   ]
  },
  {
   "cell_type": "code",
   "execution_count": null,
   "id": "982853d6-a336-4c05-b1d4-888aa5bd0164",
   "metadata": {},
   "outputs": [],
   "source": [
    "#@title Solucion Ejercicio 5 {display-mode:\"form\"}\n",
    "\n",
    "a = np.ones((5,5))\n",
    "a[2,2] = 0"
   ]
  },
  {
   "cell_type": "markdown",
   "id": "cf9f1772-59fb-4b68-8984-17a67723b278",
   "metadata": {},
   "source": [
    "### Ejercicio 6:\n",
    "\n",
    "Crear array de numpy de dos dimensiones (10x10) con ceros en los bordes y unos en el centro y guardarlo en una variable de nombre a"
   ]
  },
  {
   "cell_type": "code",
   "execution_count": null,
   "id": "d3889e66-4b65-4e5b-a211-7140e8e68465",
   "metadata": {},
   "outputs": [],
   "source": [
    "# Escribir aqui la solucion\n",
    "\n"
   ]
  },
  {
   "cell_type": "code",
   "execution_count": null,
   "id": "346d3f43-a2a6-47d8-b027-a06b653763ce",
   "metadata": {},
   "outputs": [],
   "source": [
    "print(a)"
   ]
  },
  {
   "cell_type": "markdown",
   "id": "fe62ee78-5f00-4e25-be8a-e7871b6a0e40",
   "metadata": {},
   "source": [
    "*Resultado esperado:*\n",
    "```\n",
    "[[0. 0. 0. 0. 0. 0. 0. 0. 0. 0.]\n",
    " [0. 1. 1. 1. 1. 1. 1. 1. 1. 0.]\n",
    " [0. 1. 1. 1. 1. 1. 1. 1. 1. 0.]\n",
    " [0. 1. 1. 1. 1. 1. 1. 1. 1. 0.]\n",
    " [0. 1. 1. 1. 1. 1. 1. 1. 1. 0.]\n",
    " [0. 1. 1. 1. 1. 1. 1. 1. 1. 0.]\n",
    " [0. 1. 1. 1. 1. 1. 1. 1. 1. 0.]\n",
    " [0. 1. 1. 1. 1. 1. 1. 1. 1. 0.]\n",
    " [0. 1. 1. 1. 1. 1. 1. 1. 1. 0.]\n",
    " [0. 0. 0. 0. 0. 0. 0. 0. 0. 0.]]\n",
    "```"
   ]
  },
  {
   "cell_type": "code",
   "execution_count": null,
   "id": "ba897f97-43a4-4f8f-aba1-7ac0fb5d9114",
   "metadata": {},
   "outputs": [],
   "source": [
    "#@title Solucion Ejercicio 6 {display-mode:\"form\"}\n",
    "\n",
    "# Solucion 1\n",
    "a = np.zeros((10,10))\n",
    "a[1:-1,1:-1] = 1\n",
    "\n",
    "# Solucion 2\n",
    "a = np.ones((10,10))\n",
    "a[[0,-1],:] = 0\n",
    "a[:,[0,-1]] = 0"
   ]
  },
  {
   "cell_type": "markdown",
   "id": "14610e8f-8140-4d2b-b762-15db7edc3ce4",
   "metadata": {},
   "source": [
    "### Ejercicio 7:\n",
    "\n",
    "Usar la funcion np.concatenate() para concatenar los siguientes dos arrays:\n",
    "```python\n",
    "a = np.array([[1, 1], [2, 2]])\n",
    "b = np.array([[3, 3]])\n",
    "```\n",
    "y que el resultado sea el siguiente:\n",
    "```\n",
    "array([[1, 2, 3],\n",
    "       [1, 2, 3]])\n",
    "```"
   ]
  },
  {
   "cell_type": "code",
   "execution_count": null,
   "id": "76661f03-b8ed-4324-9f2d-f15284edea06",
   "metadata": {},
   "outputs": [],
   "source": [
    "# Escribir aqui la solucion\n",
    "\n"
   ]
  },
  {
   "cell_type": "markdown",
   "id": "1c779dc4-3509-4883-9681-54de4e4e1843",
   "metadata": {},
   "source": [
    "<details>\n",
    "<summary>Click aqui para obtener ayuda</summary>\n",
    "Utilizar las transpuestas de las matrices\n",
    "</details>"
   ]
  },
  {
   "cell_type": "code",
   "execution_count": null,
   "id": "2839b994-ca61-4b53-af63-bb168e9db7ef",
   "metadata": {},
   "outputs": [],
   "source": [
    "#@title Solucion Ejercicio 7 {display-mode:\"form\"}\n",
    "\n",
    "a = np.array([[1, 1], [2, 2]])\n",
    "b = np.array([[3, 3]])\n",
    "np.concatenate((a.T, b.T), axis=1)"
   ]
  },
  {
   "cell_type": "markdown",
   "id": "1ad6fe60-3c3c-4224-9957-64e48214da4c",
   "metadata": {
    "tags": []
   },
   "source": [
    "### Ejercicio 8.1:\n",
    "\n",
    "Usar condicionales en los indices crear un nuevo array c con los valores menores a 6 de la siguiente matriz:\n",
    "```python\n",
    "a = np.array([[1 , 2, 3, 4], [5, 6, 7, 8], [9, 10, 11, 12]])\n",
    "```"
   ]
  },
  {
   "cell_type": "code",
   "execution_count": null,
   "id": "2979ffb2-ef63-49cb-b982-a789d66149eb",
   "metadata": {},
   "outputs": [],
   "source": [
    "# Escribir aqui la solucion\n",
    "\n"
   ]
  },
  {
   "cell_type": "code",
   "execution_count": null,
   "id": "ff7b19e6-3b2f-463a-a6f0-793a59359472",
   "metadata": {},
   "outputs": [],
   "source": [
    "print(c)"
   ]
  },
  {
   "cell_type": "markdown",
   "id": "801359dd-6621-4c44-92c9-6f2a55ab3a57",
   "metadata": {},
   "source": [
    "*Resultado esperado:*\n",
    "```\n",
    "[1 2 3 4 5]\n",
    "```"
   ]
  },
  {
   "cell_type": "code",
   "execution_count": null,
   "id": "0281482e-1277-4cb9-ab86-414427a656aa",
   "metadata": {},
   "outputs": [],
   "source": [
    "#@title Solucion Ejercicio 8.1 {display-mode:\"form\"}\n",
    "\n",
    "a = np.array([[1 , 2, 3, 4], [5, 6, 7, 8], [9, 10, 11, 12]])\n",
    "c = a[a<6]"
   ]
  },
  {
   "cell_type": "markdown",
   "id": "a335e3cd-49e0-419a-91d5-ec9eb71ddb87",
   "metadata": {},
   "source": [
    "### Ejercicio 8.2:\n",
    "\n",
    "Usar condicionales en los indices para sumarle 100 a los valores menores a 6 de la siguiente matriz:\n",
    "```python\n",
    "a = np.array([[1 , 2, 3, 4], [5, 6, 7, 8], [9, 10, 11, 12]])\n",
    "```"
   ]
  },
  {
   "cell_type": "code",
   "execution_count": null,
   "id": "b0f3cfca-f93f-4919-bd8e-e1fd9d6bf8ca",
   "metadata": {},
   "outputs": [],
   "source": [
    "# Escribir aqui la solucion\n",
    "\n"
   ]
  },
  {
   "cell_type": "code",
   "execution_count": null,
   "id": "e1e571ef-de2b-409f-83d0-4d6e5a5012a5",
   "metadata": {},
   "outputs": [],
   "source": [
    "print(a)"
   ]
  },
  {
   "cell_type": "markdown",
   "id": "28f8777d-ebb1-468e-9a46-cf5b9b88f9c8",
   "metadata": {},
   "source": [
    "*Resultado esperado:*\n",
    "```\n",
    "[[101 102 103 104]\n",
    " [105   6   7   8]\n",
    " [  9  10  11  12]]\n",
    "```"
   ]
  },
  {
   "cell_type": "code",
   "execution_count": null,
   "id": "342ac9da-3596-4c3b-908f-e11eb30c9cc8",
   "metadata": {},
   "outputs": [],
   "source": [
    "#@title Solucion Ejercicio 8.2 {display-mode:\"form\"}\n",
    "\n",
    "a = np.array([[1 , 2, 3, 4], [5, 6, 7, 8], [9, 10, 11, 12]])\n",
    "a[a<6] = a[a<6] + 100"
   ]
  },
  {
   "cell_type": "markdown",
   "id": "0e23f5a4-5cba-48de-984b-e21d5108e054",
   "metadata": {},
   "source": [
    "### Ejercicio 8.3:\n",
    "\n",
    "Usar condicionales en los indices para multiplicar por 2 los valores pares y menores a 10 de la siguiente matriz:\n",
    "```python\n",
    "a = np.array([[1 , 2, 3, 4], [5, 6, 7, 8], [9, 10, 11, 12]])\n",
    "```"
   ]
  },
  {
   "cell_type": "code",
   "execution_count": null,
   "id": "af95ab36-2b07-4296-b1ff-ae3f05aa9b12",
   "metadata": {},
   "outputs": [],
   "source": [
    "# Escribir aqui la solucion\n",
    "\n"
   ]
  },
  {
   "cell_type": "code",
   "execution_count": null,
   "id": "fb5f83d4-196c-4951-8fa1-9217d48daf66",
   "metadata": {},
   "outputs": [],
   "source": [
    "print(a)"
   ]
  },
  {
   "cell_type": "markdown",
   "id": "8781e285-567e-429a-9767-b073fd95c01e",
   "metadata": {},
   "source": [
    "*Resultado esperado:*\n",
    "```\n",
    "[[ 1  4  3  8]\n",
    " [ 5 12  7 16]\n",
    " [ 9 10 11 12]]\n",
    "```"
   ]
  },
  {
   "cell_type": "code",
   "execution_count": null,
   "id": "b55b1978-ba0f-4f60-8c80-4e7ed6d8bdc2",
   "metadata": {},
   "outputs": [],
   "source": [
    "#@title Solucion Ejercicio 8.3 {display-mode:\"form\"}\n",
    "\n",
    "a = np.array([[1 , 2, 3, 4], [5, 6, 7, 8], [9, 10, 11, 12]])\n",
    "a[(a%2==0) & (a<10)] = a[(a%2==0) & (a<10)] * 2"
   ]
  },
  {
   "cell_type": "markdown",
   "id": "e6712ae4-f9e0-4910-b89a-2a12573b1acc",
   "metadata": {},
   "source": [
    "### Ejercicio 8.4:\n",
    "\n",
    "Usar condicionales en los indices para hacer cero los valores que son numeros primos de la siguiente matriz:\n",
    "```python\n",
    "a = np.array([[1 , 2, 3, 4], [5, 6, 7, 8], [9, 10, 11, 12]])\n",
    "```"
   ]
  },
  {
   "cell_type": "code",
   "execution_count": null,
   "id": "9138ea20-6801-4cd4-9287-5543628fd9f6",
   "metadata": {},
   "outputs": [],
   "source": [
    "# Escribir aqui la solucion\n",
    "\n"
   ]
  },
  {
   "cell_type": "code",
   "execution_count": null,
   "id": "205a1bda-6e5c-4ba2-9aba-e40b516eacd2",
   "metadata": {},
   "outputs": [],
   "source": []
  },
  {
   "cell_type": "code",
   "execution_count": null,
   "id": "d7f73a05-67ff-436e-acda-f002797eef48",
   "metadata": {},
   "outputs": [],
   "source": [
    "print(a)"
   ]
  },
  {
   "cell_type": "markdown",
   "id": "509c2252-054e-4f08-ae65-616ae8111717",
   "metadata": {},
   "source": [
    "*Resultado esperado:*\n",
    "```\n",
    "[[ 1  0  0  4]\n",
    " [ 0  6  0  8]\n",
    " [ 9 10  0 12]]\n",
    "```"
   ]
  },
  {
   "cell_type": "code",
   "execution_count": null,
   "id": "07ca7615-8bf8-472a-a76d-e8921392db6c",
   "metadata": {},
   "outputs": [],
   "source": [
    "#@title Solucion Ejercicio 8.4 {display-mode:\"form\"}\n",
    "\n",
    "a = np.array([[1 , 2, 3, 4], [5, 6, 7, 8], [9, 10, 11, 12]])\n",
    "def isprime(x):\n",
    "    return x in [2,3,5,7,11]\n",
    "\n",
    "#isprime_vectorized = np.vectorize(lambda x: x in [2,3,5,7,11])\n",
    "isprime_vectorized = np.vectorize(isprime)\n",
    "prime_indexes = isprime_vectorized(a)\n",
    "a[prime_indexes] = 0"
   ]
  },
  {
   "cell_type": "markdown",
   "id": "6e7afc3b-298d-477c-9e67-e9469bc33806",
   "metadata": {},
   "source": [
    "### Ejercicio 9.1:\n",
    "\n",
    "Dada la siguiente operacion vectorial:\n",
    "\n",
    "$$ a = \\begin{bmatrix}\n",
    "1 & 2 & 3 & 4 \\\\\n",
    "5 & 6 & 7 & 8 \\\\\n",
    "9 & 10 & 11 & 12 \\\\\n",
    "\\end{bmatrix} $$\n",
    "\n",
    "$$ b = \\begin{bmatrix}\n",
    "0 \\\\\n",
    "1 \\\\\n",
    "2 \\\\\n",
    "3 \\\\\n",
    "4 \\\\\n",
    "\\end{bmatrix} $$\n",
    "\n",
    "$$ c_{ij} = a_{ij} + b_j $$\n",
    "\n",
    "Vectorizar el siguiente bucle for que la implementa:\n",
    "```python\n",
    "a = np.array([[1 , 2, 3, 4], [5, 6, 7, 8], [9, 10, 11, 12]], dtype=np.int32)\n",
    "b = np.array([0,1,2,4], dtype=np.int32)\n",
    "c = np.empty((3,4), dtype=np.int32)\n",
    "for i in range(len(a)):\n",
    "    for j in range(len(a[0])):\n",
    "        c[i][j] = a[i][j] + b[j]\n",
    "```\n",
    "\n",
    "\n",
    "\n",
    "\n",
    "y que el resultado sea el siguiente:\n",
    "```\n",
    "[[ 1  3  5  8]\n",
    " [ 5  7  9 12]\n",
    " [ 9 11 13 16]]\n",
    "```"
   ]
  },
  {
   "cell_type": "code",
   "execution_count": null,
   "id": "3501e584-6358-4732-909d-85d29685aed1",
   "metadata": {},
   "outputs": [],
   "source": [
    "# Escribir aqui la solucion\n",
    "\n"
   ]
  },
  {
   "cell_type": "code",
   "execution_count": null,
   "id": "8507bbb6-4aab-4f44-b1a7-1ca1e08a27f3",
   "metadata": {},
   "outputs": [],
   "source": [
    "print(c)"
   ]
  },
  {
   "cell_type": "code",
   "execution_count": null,
   "id": "22a8f6bb-2b8e-4754-a0bb-8e4de8294d4c",
   "metadata": {},
   "outputs": [],
   "source": [
    "#@title Solucion Ejercicio 9.1 {display-mode:\"form\"}\n",
    "\n",
    "a = np.array([[1 , 2, 3, 4], [5, 6, 7, 8], [9, 10, 11, 12]], dtype=np.int32)\n",
    "b = np.array([0,1,2,4], dtype=np.int32)\n",
    "c = np.empty((3,4), dtype=np.int32)\n",
    "c = a + b"
   ]
  },
  {
   "cell_type": "markdown",
   "id": "99224296-5e7c-4d80-84a6-f7765f4a8c0f",
   "metadata": {},
   "source": [
    "### Ejercicio 9.2:\n",
    "\n",
    "Dada la siguiente operacion vectorial:\n",
    "\n",
    "$$ a = \\begin{bmatrix}\n",
    "1 & 2 & 3 & 4 \\\\\n",
    "5 & 6 & 7 & 8 \\\\\n",
    "9 & 10 & 11 & 12 \\\\\n",
    "\\end{bmatrix} $$\n",
    "\n",
    "$$ b = \\begin{bmatrix}\n",
    "0 \\\\\n",
    "1 \\\\\n",
    "2 \\\\\n",
    "\\end{bmatrix} $$\n",
    "\n",
    "$$ c_{ij} = a_{ij} + b_i $$\n",
    "\n",
    "\n",
    "\n",
    "Vectorizar el siguiente bucle for que la implementa:\n",
    "```python\n",
    "a = np.array([[1 , 2, 3, 4], [5, 6, 7, 8], [9, 10, 11, 12]], dtype=np.int32)\n",
    "b = np.array([0,1,2], dtype=np.int32)\n",
    "c = np.empty((3,4), dtype=np.int32)\n",
    "for i in range(len(a)):\n",
    "    for j in range(len(a[0])):\n",
    "        c[i][j] = a[i][j] + b[i]\n",
    "```\n",
    "y que el resultado sea el siguiente:\n",
    "```\n",
    "[[ 1  2  3  4]\n",
    " [ 6  7  8  9]\n",
    " [11 12 13 14]]\n",
    "```"
   ]
  },
  {
   "cell_type": "code",
   "execution_count": null,
   "id": "4ebb544a-fb76-47b3-ab89-b2b637197dc6",
   "metadata": {},
   "outputs": [],
   "source": [
    "# Escribir aqui la solucion\n",
    "\n"
   ]
  },
  {
   "cell_type": "code",
   "execution_count": null,
   "id": "24193710-43cc-4ccc-819e-29359ea32b35",
   "metadata": {},
   "outputs": [],
   "source": [
    "print(c)"
   ]
  },
  {
   "cell_type": "code",
   "execution_count": null,
   "id": "4dd8049a-b59f-452a-803a-88b44d677ef9",
   "metadata": {},
   "outputs": [],
   "source": [
    "#@title Solucion Ejercicio 9.2 {display-mode:\"form\"}\n",
    "\n",
    "a = np.array([[1 , 2, 3, 4], [5, 6, 7, 8], [9, 10, 11, 12]], dtype=np.int32)\n",
    "b = np.array([0,1,2], dtype=np.int32)\n",
    "c = np.empty((3,4), dtype=np.int32)\n",
    "c = a + np.array(([b] * 4)).T"
   ]
  },
  {
   "cell_type": "markdown",
   "id": "5c658091-8be4-4945-83d6-97edaa024a5a",
   "metadata": {},
   "source": [
    "# Fin: [Volver al contenido del curso](https://www.freecodingtour.com/cursos/espanol/datascience/datascience.html)"
   ]
  }
 ],
 "metadata": {
  "kernelspec": {
   "display_name": "Python 3 (ipykernel)",
   "language": "python",
   "name": "python3"
  },
  "language_info": {
   "codemirror_mode": {
    "name": "ipython",
    "version": 3
   },
   "file_extension": ".py",
   "mimetype": "text/x-python",
   "name": "python",
   "nbconvert_exporter": "python",
   "pygments_lexer": "ipython3",
   "version": "3.9.7"
  }
 },
 "nbformat": 4,
 "nbformat_minor": 5
}
