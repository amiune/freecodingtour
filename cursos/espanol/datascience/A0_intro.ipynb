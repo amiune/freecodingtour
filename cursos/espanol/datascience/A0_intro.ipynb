{
 "cells": [
  {
   "cell_type": "markdown",
   "id": "fae5c76b-6339-4296-b7cf-27f00a927295",
   "metadata": {},
   "source": [
    "# Analisis y limpieza de datos"
   ]
  },
  {
   "cell_type": "markdown",
   "id": "e73d6047-a060-490b-ab48-786e6de2ef8e",
   "metadata": {},
   "source": [
    "Antes de utilizar una caja negra y hacer cualquier prediccion es importante entender el problema, cual es el objetivo y que significado tienen los datos. El primer paso es adentrarse en el problema y entederlo con el mayor detalle posible, buscar y etiquetar nuestros propios datos, hablar con los clientes, con expertos y con toda persona que nos pueda ayudar a entender mejor cual es la problematica a solucionar."
   ]
  },
  {
   "cell_type": "markdown",
   "id": "48149491-163e-4f79-a52a-91e027f85bf5",
   "metadata": {},
   "source": [
    "Una vez hecho esto podemos utilizar nuestro conocimiento de programacion para generar graficos y estadisticas que nos permitan descubrir informacion extra que puede ser interesante. \n",
    "\n",
    "En esta unidad veremos las siguientes herramientas que disponemos con python para analizar datos:\n",
    "- Graficos:\n",
    "  - [Seaborn](https://colab.research.google.com/github/amiune/freecodingtour/blob/main/cursos/espanol/datascience/A1_graficos_seaborn.ipynb)\n",
    "  - [Matplotlib](https://colab.research.google.com/github/amiune/freecodingtour/blob/main/cursos/espanol/datascience/A1.1_graficos_matplotlib.ipynb)\n",
    "- Limpieza y manipulacion de datos con \n",
    "  - [Pandas](https://colab.research.google.com/github/amiune/freecodingtour/blob/main/cursos/espanol/datascience/A2_jugando_con_pandas.ipynb)\n",
    "  - [Numpy](https://colab.research.google.com/github/amiune/freecodingtour/blob/main/cursos/espanol/datascience/A3_jugando_con_numpy.ipynb)\n",
    "  - [Cleanlab](https://docs.cleanlab.ai/stable/index.html)\n",
    "- Profiling:\n",
    "  - [sweetviz](https://github.com/fbdesignpro/sweetviz)\n",
    "  - [ydata](https://github.com/ydataai/ydata-profiling) \n",
    "- [Test de distribuciones de probabilidad](https://github.com/cokelaer/fitter)\n",
    "- Interpretabilidad de modelos de ML: \n",
    "  - [Sklearn Inspection](https://scikit-learn.org/stable/modules/classes.html#module-sklearn.inspection)\n",
    "  - [Shapash](https://shapash.readthedocs.io/)"
   ]
  },
  {
   "cell_type": "markdown",
   "id": "726678b9-3fa9-4b79-8825-1bcb73a26c6b",
   "metadata": {},
   "source": [
    "# Fin: [Volver al contenido del curso](https://www.freecodingtour.com/cursos/espanol/datascience/datascience.html)"
   ]
  }
 ],
 "metadata": {
  "kernelspec": {
   "display_name": "Python 3 (ipykernel)",
   "language": "python",
   "name": "python3"
  },
  "language_info": {
   "codemirror_mode": {
    "name": "ipython",
    "version": 3
   },
   "file_extension": ".py",
   "mimetype": "text/x-python",
   "name": "python",
   "nbconvert_exporter": "python",
   "pygments_lexer": "ipython3",
   "version": "3.9.7"
  }
 },
 "nbformat": 4,
 "nbformat_minor": 5
}
