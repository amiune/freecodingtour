{
 "cells": [
  {
   "cell_type": "markdown",
   "id": "d03197b4-3df2-4632-b7f7-3a92c78cfafa",
   "metadata": {},
   "source": [
    "# Resumen de la Metodologia de ML"
   ]
  },
  {
   "cell_type": "markdown",
   "id": "490c074b-15d6-44d4-985f-e70b8830cce7",
   "metadata": {},
   "source": [
    "Aqui veremos un resumen de lo todo lo que hemos hecho hasta ahora para definir claramente como funciona la metodologia de Machine Learning"
   ]
  },
  {
   "cell_type": "markdown",
   "id": "24db4107-3901-40ec-94a9-200b6ef92aad",
   "metadata": {},
   "source": [
    "## Paso 1: Datos\n",
    "\n",
    "El primer paso es estructurar los datos para que un algoritmo de Machine Learning pueda aprender a hacer predicciones con ellos. Para ello pondremos todos los datos en una tabla donde cada fila representa un dato y cada columna las distintas caracteristicas de ese dato. Por ejemplo en nuestro ejemplo de pacientes con diabetes cada fila representa un paciente y cada columna las distintas mediciones que se han realizado sobre cada paciente. Veamos un grafico: \n",
    "\n",
    "<div style=\"text-align:center\">\n",
    "<img src=\"img/ml_paso1.jpg\" width=\"500\"/>\n",
    "</div>\n",
    "\n",
    "Como vemos tambien en el grafico tambien hemos:\n",
    "\n",
    "1. Seleccionado una columna que es la que queremos predecir y la hemos nombrado con la letra y (en nuestro ejemplo es la columna diabetes).\n",
    "2. Seleccionado el resto de las columnas y las nombramos X. Estas son las columnas que usaremos para predecir y.\n",
    "3. Separamos las filas en dos, un 70% u 80% para el entrenamiento y un 30% o 20% para la Prueba del modelo.\n",
    "\n",
    "Recordemos tambien que antes de proseguir es conveniente convertir todas las filas a vectores convirtiendo cada valor en numeros como fue explicado al inicio del curso."
   ]
  },
  {
   "cell_type": "markdown",
   "id": "bf10376d-f72b-4900-b384-4d0ba6b1ab3b",
   "metadata": {},
   "source": [
    "## Paso 2: Entrenamiento\n",
    "\n",
    "Ahora es cuando utilizamos el conjunto de filas de entrenamiento para darselas a los algorimos de machine learning para que estos nos devuelvan una caja negra entrenada (mas comunmente llamada modelo).\n",
    "\n",
    "<div style=\"text-align:center\">\n",
    "<img src=\"img/ml_paso2.jpg\" width=\"500\"/>\n",
    "</div>"
   ]
  },
  {
   "cell_type": "markdown",
   "id": "7a7676c1-f884-45f7-bfe3-50faa05d9f63",
   "metadata": {},
   "source": [
    "## Paso 3: Verificacion de que mi caja negra este bien entrenada\n",
    "\n",
    "Una vez que tenemos el modelo debemos asegurarnos de que este funcionando bien, es decir, que las predicciones que hace son lo suficientemente buenas. Para ello utilizamos el modelo para predecir los valores de y tanto del conjunto de entrenamiento como del conjunto de prueba y alli obtendremos los llamados errores de entrenamiento y de prueba.\n",
    "\n",
    "<div style=\"text-align:center\">\n",
    "<img src=\"img/ml_paso3.jpg\" width=\"500\"/>\n",
    "</div>\n",
    "\n",
    "Si ambos errores son bajos mi modelo funciona bien.\n",
    "Si el de entrenamiento es bajo y el de prueba alto tenemos el problema llamado Overfitting.\n",
    "Si el error de entrenamiento es alto tenemos el problema llamado Underfitting.\n",
    "Ver la unidad 6 para mas informacion."
   ]
  },
  {
   "cell_type": "markdown",
   "id": "dd93b4b1-131a-4275-bbb6-d10f69c3c2c2",
   "metadata": {},
   "source": [
    "## Paso 4: Usar mi caja negra entrenada para hacer predicciones\n",
    "\n",
    "Una vez que tenemos el modelo entrenado correctamente ya podemos utilizarlo para hacer predicciones sobre nuevos datos.\n",
    "\n",
    "<div style=\"text-align:center\">\n",
    "<img src=\"img/ml_paso4.jpg\" width=\"500\"/>\n",
    "</div>"
   ]
  },
  {
   "cell_type": "markdown",
   "id": "33120d53-697c-4925-8b8e-96857bbf8fca",
   "metadata": {},
   "source": [
    "# Fin: [Volver al contenido del curso](https://www.freecodingtour.com/cursos/espanol/datascience/datascience.html)"
   ]
  }
 ],
 "metadata": {
  "kernelspec": {
   "display_name": "Python 3 (ipykernel)",
   "language": "python",
   "name": "python3"
  },
  "language_info": {
   "codemirror_mode": {
    "name": "ipython",
    "version": 3
   },
   "file_extension": ".py",
   "mimetype": "text/x-python",
   "name": "python",
   "nbconvert_exporter": "python",
   "pygments_lexer": "ipython3",
   "version": "3.9.7"
  }
 },
 "nbformat": 4,
 "nbformat_minor": 5
}
