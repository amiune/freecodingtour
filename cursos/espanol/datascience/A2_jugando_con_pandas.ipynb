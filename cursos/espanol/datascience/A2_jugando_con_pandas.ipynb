{
 "cells": [
  {
   "cell_type": "markdown",
   "id": "4701b36c-873d-4076-a078-fb5c3f4d1bad",
   "metadata": {
    "jp-MarkdownHeadingCollapsed": true,
    "tags": []
   },
   "source": [
    "# Jugando con Pandas (contenido opcional)\n",
    "\n",
    "Pandas es una libreria que tiene una cantidad enorme de funciones. Aqui solo veremos algunas de las mas utilizadas. Como decimos siempre no hace falta memorizarlas, cada vez que necesitemos hacer algo especifico podemos buscar en internet que funcion y como debemos utilizarla.\n",
    "\n",
    "Los ejemplos de esta seccion estan basados en la documentacion oficial de [Pandas](https://pandas.pydata.org/docs/user_guide/index.html)"
   ]
  },
  {
   "cell_type": "code",
   "execution_count": null,
   "id": "94f7f64c-d8d4-40e0-b03a-058e84fc6dd2",
   "metadata": {},
   "outputs": [],
   "source": [
    "import pandas as pd"
   ]
  },
  {
   "cell_type": "markdown",
   "id": "b8e96dcf-63aa-4edf-84a5-41295d72b0db",
   "metadata": {},
   "source": [
    "## Crear Series y Dataframes"
   ]
  },
  {
   "cell_type": "code",
   "execution_count": null,
   "id": "937bb9c8-fff9-4fb7-ad29-6a3b31f31ca5",
   "metadata": {},
   "outputs": [],
   "source": [
    "pd.Series([1, 3, 5, np.nan, 6, 8])"
   ]
  },
  {
   "cell_type": "code",
   "execution_count": null,
   "id": "1c6bf791-7bc6-4b07-9404-5e5e83adc90a",
   "metadata": {},
   "outputs": [],
   "source": [
    "pd.DataFrame({'A': [1, 2, 3]})"
   ]
  },
  {
   "cell_type": "code",
   "execution_count": null,
   "id": "63d51eb2-2626-426b-8d9a-97df5b79c70e",
   "metadata": {},
   "outputs": [],
   "source": [
    "dates = pd.date_range(\"20130101\", periods=6)"
   ]
  },
  {
   "cell_type": "code",
   "execution_count": null,
   "id": "ad57f455-b12c-46d2-b881-a0652753b87e",
   "metadata": {},
   "outputs": [],
   "source": [
    "df = pd.DataFrame(np.random.randn(6, 4), index=dates, columns=list(\"ABCD\"))"
   ]
  },
  {
   "cell_type": "code",
   "execution_count": null,
   "id": "4ec8c48d-a86d-44ae-a16c-c0aa89790418",
   "metadata": {},
   "outputs": [],
   "source": [
    "df"
   ]
  },
  {
   "cell_type": "code",
   "execution_count": null,
   "id": "b88abb6f-3078-41e7-89e7-5232df853a16",
   "metadata": {},
   "outputs": [],
   "source": [
    "df2 = pd.DataFrame(\n",
    "    {\n",
    "        \"A\": 1.0,\n",
    "        \"B\": pd.Timestamp(\"20130102\"),\n",
    "        \"C\": pd.Series(1, index=list(range(4)), dtype=\"float32\"),\n",
    "        \"D\": np.array([3] * 4, dtype=\"int32\"),\n",
    "        \"E\": pd.Categorical([\"test\", \"train\", \"test\", \"train\"]),\n",
    "        \"F\": \"foo\",\n",
    "    }\n",
    ")"
   ]
  },
  {
   "cell_type": "code",
   "execution_count": null,
   "id": "a75ea3d7-d56a-409f-aabd-b90267b5fd0e",
   "metadata": {},
   "outputs": [],
   "source": [
    "df2"
   ]
  },
  {
   "cell_type": "markdown",
   "id": "0e178bdb-5711-4320-92ee-415b9b823e00",
   "metadata": {},
   "source": [
    "## Inspeccionar elementos"
   ]
  },
  {
   "cell_type": "code",
   "execution_count": null,
   "id": "c8f70a29-b590-4963-a3ea-eced336f6261",
   "metadata": {},
   "outputs": [],
   "source": [
    "df.head()"
   ]
  },
  {
   "cell_type": "code",
   "execution_count": null,
   "id": "cf95eced-269f-4347-9254-98430e85bfb9",
   "metadata": {},
   "outputs": [],
   "source": [
    "df.tail(3)"
   ]
  },
  {
   "cell_type": "code",
   "execution_count": null,
   "id": "820ae025-b989-41f5-802e-76b5149c14b6",
   "metadata": {},
   "outputs": [],
   "source": [
    "df.index"
   ]
  },
  {
   "cell_type": "code",
   "execution_count": null,
   "id": "95d4b4cf-35ea-4741-97ce-ed290fa71b5e",
   "metadata": {},
   "outputs": [],
   "source": [
    "df.columns"
   ]
  },
  {
   "cell_type": "code",
   "execution_count": null,
   "id": "8fca0686-b196-4ed0-a187-053aaf2e4113",
   "metadata": {},
   "outputs": [],
   "source": [
    "df.to_numpy()"
   ]
  },
  {
   "cell_type": "code",
   "execution_count": null,
   "id": "ba52a8b6-da00-45fb-8a85-fd79a6a3a49b",
   "metadata": {},
   "outputs": [],
   "source": [
    "df.describe()"
   ]
  },
  {
   "cell_type": "code",
   "execution_count": null,
   "id": "dbd7c7fb-b998-4086-ab22-30de46c5b7aa",
   "metadata": {},
   "outputs": [],
   "source": [
    "df.T"
   ]
  },
  {
   "cell_type": "code",
   "execution_count": null,
   "id": "1c08c797-ac65-4e78-998c-fa7adb21421d",
   "metadata": {},
   "outputs": [],
   "source": [
    "#ordenar por nombre de columna\n",
    "df.sort_index(axis=1, ascending=False)"
   ]
  },
  {
   "cell_type": "code",
   "execution_count": null,
   "id": "72b90ce8-cd66-410b-8d54-eee4e169beaf",
   "metadata": {},
   "outputs": [],
   "source": [
    "#ordenar por valores de columna\n",
    "df.sort_values(by=\"B\")"
   ]
  },
  {
   "cell_type": "markdown",
   "id": "54815e06-9a54-4977-9e1e-2a2887d79c23",
   "metadata": {},
   "source": [
    "## Seleccionar"
   ]
  },
  {
   "cell_type": "code",
   "execution_count": null,
   "id": "25097557-55a9-4831-85e3-d7592e84c6fa",
   "metadata": {},
   "outputs": [],
   "source": [
    "df[\"A\"]"
   ]
  },
  {
   "cell_type": "code",
   "execution_count": null,
   "id": "4312a737-2b94-4ed0-bfe8-6204bd46427c",
   "metadata": {},
   "outputs": [],
   "source": [
    "df[0:3]"
   ]
  },
  {
   "cell_type": "code",
   "execution_count": null,
   "id": "06b27f23-1762-41fa-8962-24753dc1dded",
   "metadata": {},
   "outputs": [],
   "source": [
    "df.loc[\"20130102\":\"20130104\", [\"A\", \"B\"]]"
   ]
  },
  {
   "cell_type": "code",
   "execution_count": null,
   "id": "db6fe7f4-9f26-421e-8aa7-912ff08c0b85",
   "metadata": {},
   "outputs": [],
   "source": [
    "df.iloc[3:5, 0:2]"
   ]
  },
  {
   "cell_type": "code",
   "execution_count": null,
   "id": "49b912ec-ebbc-4fb4-95f9-a018c157e13c",
   "metadata": {},
   "outputs": [],
   "source": [
    "df.at[dates[0], \"A\"]"
   ]
  },
  {
   "cell_type": "code",
   "execution_count": null,
   "id": "e1c39c90-e228-4a00-a572-85a6f47538a4",
   "metadata": {},
   "outputs": [],
   "source": [
    "df.iat[1, 1]"
   ]
  },
  {
   "cell_type": "code",
   "execution_count": null,
   "id": "6fd39007-52a6-4b04-a34c-2be93714fc3d",
   "metadata": {},
   "outputs": [],
   "source": [
    "df[df[\"A\"] > 0]"
   ]
  },
  {
   "cell_type": "code",
   "execution_count": null,
   "id": "662e83c3-ff35-417f-b092-c8723bbf7c78",
   "metadata": {},
   "outputs": [],
   "source": [
    "df2 = df.copy()\n",
    "df2[\"E\"] = [\"one\", \"one\", \"two\", \"three\", \"four\", \"three\"]\n",
    "df2"
   ]
  },
  {
   "cell_type": "code",
   "execution_count": null,
   "id": "b9eb3f43-4be8-462d-a700-18ad9a22b0d6",
   "metadata": {},
   "outputs": [],
   "source": [
    "df2[df2[\"E\"].isin([\"two\", \"four\"])]"
   ]
  },
  {
   "cell_type": "markdown",
   "id": "9ca02285-3597-4fcc-a466-0a21c0ef2779",
   "metadata": {},
   "source": [
    "## Modificar valores"
   ]
  },
  {
   "cell_type": "code",
   "execution_count": null,
   "id": "38f54df6-3e1b-4bd8-8fa7-7c3fd2dfa5fc",
   "metadata": {},
   "outputs": [],
   "source": [
    "s1 = pd.Series([1, 2, 3, 4, 5, 6], index=pd.date_range(\"20130102\", periods=6))\n",
    "df[\"F\"] = s1"
   ]
  },
  {
   "cell_type": "code",
   "execution_count": null,
   "id": "c68629bf-dfbb-495d-945e-71125088cfbe",
   "metadata": {},
   "outputs": [],
   "source": [
    "df.at[dates[0], \"A\"] = 0"
   ]
  },
  {
   "cell_type": "code",
   "execution_count": null,
   "id": "dd2d9976-32c5-47b2-ac33-0caf8c5c18a4",
   "metadata": {},
   "outputs": [],
   "source": [
    "df.iat[0, 1] = 0"
   ]
  },
  {
   "cell_type": "code",
   "execution_count": null,
   "id": "597da605-ffae-4d79-a24b-bc65f4d4723d",
   "metadata": {},
   "outputs": [],
   "source": [
    "df.loc[:, \"D\"] = np.array([5] * len(df))"
   ]
  },
  {
   "cell_type": "code",
   "execution_count": null,
   "id": "d8f5d676-b17e-4a71-b325-87cb174a825d",
   "metadata": {},
   "outputs": [],
   "source": [
    "df"
   ]
  },
  {
   "cell_type": "code",
   "execution_count": null,
   "id": "4dc5ce65-87ba-476e-84b6-55c8552252e2",
   "metadata": {},
   "outputs": [],
   "source": [
    "df2 = df.copy()\n",
    "df2[df2 > 0] = -df2\n",
    "df2"
   ]
  },
  {
   "cell_type": "markdown",
   "id": "eb1d9f6a-7fdd-4242-b7a5-f7372b0fe23c",
   "metadata": {},
   "source": [
    "## Valores faltantes"
   ]
  },
  {
   "cell_type": "code",
   "execution_count": null,
   "id": "776e8231-b3a2-427b-95f4-6199c9e4dc30",
   "metadata": {},
   "outputs": [],
   "source": [
    "df1 = df.reindex(index=dates[0:4], columns=list(df.columns) + [\"E\"])\n",
    "df1.loc[dates[0] : dates[1], \"E\"] = 1\n",
    "df1"
   ]
  },
  {
   "cell_type": "code",
   "execution_count": null,
   "id": "24539fa0-9061-4b0a-8ed5-86d080298c55",
   "metadata": {},
   "outputs": [],
   "source": [
    "df1.dropna(how=\"any\")"
   ]
  },
  {
   "cell_type": "code",
   "execution_count": null,
   "id": "7f4d4105-e30b-45bb-a2a5-18d7f93f9705",
   "metadata": {},
   "outputs": [],
   "source": [
    "df1.fillna(value=5)"
   ]
  },
  {
   "cell_type": "code",
   "execution_count": null,
   "id": "5061697c-5f51-4355-b618-d5fe5f8226fb",
   "metadata": {},
   "outputs": [],
   "source": [
    "pd.isna(df1)"
   ]
  },
  {
   "cell_type": "markdown",
   "id": "7a56825e-825b-4793-9d33-0af0276621ce",
   "metadata": {},
   "source": [
    "## Operaciones"
   ]
  },
  {
   "cell_type": "code",
   "execution_count": null,
   "id": "45484228-afca-4360-b9c1-3edf30a36493",
   "metadata": {},
   "outputs": [],
   "source": [
    "df.mean() #eje 0 por columnas"
   ]
  },
  {
   "cell_type": "code",
   "execution_count": null,
   "id": "721d1869-a7dd-4854-8937-e2e09010cde2",
   "metadata": {},
   "outputs": [],
   "source": [
    "df.mean(1) #eje 1 por filas"
   ]
  },
  {
   "cell_type": "code",
   "execution_count": null,
   "id": "9751aca2-4dc5-4dfd-950b-2a91c42accb6",
   "metadata": {},
   "outputs": [],
   "source": [
    "df.apply(np.cumsum, axis=0)"
   ]
  },
  {
   "cell_type": "code",
   "execution_count": null,
   "id": "b3df0c6e-717f-431b-a429-a25c54292a45",
   "metadata": {},
   "outputs": [],
   "source": [
    "df.apply(lambda x: x.max() - x.min())"
   ]
  },
  {
   "cell_type": "code",
   "execution_count": null,
   "id": "5e334519-dacf-43dd-b35b-0c3dbd8fd9eb",
   "metadata": {},
   "outputs": [],
   "source": [
    "s = pd.Series(np.random.randint(0, 7, size=10))\n",
    "print(s)\n",
    "s.value_counts()"
   ]
  },
  {
   "cell_type": "code",
   "execution_count": null,
   "id": "1f91d977-5f27-4f27-9848-fe5c3d752558",
   "metadata": {},
   "outputs": [],
   "source": [
    "s = pd.Series([\"A\", \"B\", \"C\", \"Aaba\", \"Baca\", np.nan, \"CABA\", \"dog\", \"cat\"])\n",
    "s.str.lower()"
   ]
  },
  {
   "cell_type": "markdown",
   "id": "57ff7fc2-b40e-4935-b121-d01615c94e7d",
   "metadata": {},
   "source": [
    "## Combinar dataframes"
   ]
  },
  {
   "cell_type": "code",
   "execution_count": null,
   "id": "b4594053-c083-4178-ba8b-c4b3681d0ca7",
   "metadata": {},
   "outputs": [],
   "source": [
    "left = pd.DataFrame({\"lkey\": [\"foo\", \"bar\"], \"lval\": [1, 2]})\n",
    "right = pd.DataFrame({\"rkey\": [\"foo\", \"bar\"], \"rval\": [4, 5]})\n",
    "print(left)\n",
    "print(right)"
   ]
  },
  {
   "cell_type": "code",
   "execution_count": null,
   "id": "a1aa2f31-9d9c-4147-b701-52eb2399339c",
   "metadata": {},
   "outputs": [],
   "source": [
    "new_df = left.join(right)\n",
    "new_df"
   ]
  },
  {
   "cell_type": "code",
   "execution_count": null,
   "id": "59606bbf-5699-4afa-b3e0-bac3c8f6bce7",
   "metadata": {},
   "outputs": [],
   "source": [
    "right"
   ]
  },
  {
   "cell_type": "code",
   "execution_count": null,
   "id": "3303dc20-23c7-4396-b896-c8684577a94e",
   "metadata": {},
   "outputs": [],
   "source": [
    "top = pd.DataFrame({\"lkey\": [\"foo\", \"bar\"], \"lval\": [1, 2]})\n",
    "down = pd.DataFrame({\"rkey\": [\"foo\", \"bar\"], \"rval\": [4, 5]})\n",
    "pd.concat([top, down], axis=0)"
   ]
  },
  {
   "cell_type": "code",
   "execution_count": null,
   "id": "997d586f-2e01-4d5e-932e-c5bd2cce564d",
   "metadata": {},
   "outputs": [],
   "source": [
    "pd.concat([top, down], axis=1)"
   ]
  },
  {
   "cell_type": "code",
   "execution_count": null,
   "id": "3b3d826a-5139-4000-b579-ea624263ce1a",
   "metadata": {},
   "outputs": [],
   "source": [
    "top = pd.DataFrame({\"key\": [\"foo1\", \"bar1\"], \"val\": [1, 2]})\n",
    "down = pd.DataFrame({\"key\": [\"foo2\", \"bar2\"], \"val\": [4, 5]})\n",
    "pd.concat([top, down], axis=0)"
   ]
  },
  {
   "cell_type": "code",
   "execution_count": null,
   "id": "6850fcb2-62f6-41b9-a4ec-5861d62111f9",
   "metadata": {},
   "outputs": [],
   "source": [
    "top = pd.DataFrame({\"key\": [\"foo1\", \"bar1\"], \"val\": [1, 2]})\n",
    "down = pd.DataFrame({\"key\": [\"foo2\", \"bar2\"], \"val\": [4, 5]})\n",
    "pd.concat([top, down], axis=1)"
   ]
  },
  {
   "cell_type": "markdown",
   "id": "7d16dd48-1314-4055-a052-5c4cc9a47169",
   "metadata": {},
   "source": [
    "## Combinar dataframes con una columna en comun"
   ]
  },
  {
   "cell_type": "code",
   "execution_count": null,
   "id": "d25e75e4-883f-401f-8cda-9c2993978f18",
   "metadata": {},
   "outputs": [],
   "source": [
    "left = pd.DataFrame({\"key\": [\"foo\", \"bar\"], \"lval\": [1, 2]})\n",
    "right = pd.DataFrame({\"key\": [\"foo\", \"bar\"], \"rval\": [4, 5]})\n",
    "print(left)\n",
    "print(right)"
   ]
  },
  {
   "cell_type": "code",
   "execution_count": null,
   "id": "78cd1bad-715e-4395-9047-a1a098c7ea78",
   "metadata": {},
   "outputs": [],
   "source": [
    "pd.merge(left, right, on=\"key\")"
   ]
  },
  {
   "cell_type": "code",
   "execution_count": null,
   "id": "73c387d3-3285-4d89-b377-1368654c0cd1",
   "metadata": {},
   "outputs": [],
   "source": [
    "left = pd.DataFrame({\"key\": [\"foo\", \"foo\"], \"lval\": [1, 2]})\n",
    "right = pd.DataFrame({\"key\": [\"bar\", \"bar\"], \"rval\": [4, 5]})\n",
    "print(left)\n",
    "print(right)"
   ]
  },
  {
   "cell_type": "code",
   "execution_count": null,
   "id": "73ddcfc8-0501-4f01-bd3c-440c0d1f8679",
   "metadata": {},
   "outputs": [],
   "source": [
    "pd.merge(left, right, on=\"key\")"
   ]
  },
  {
   "cell_type": "markdown",
   "id": "301f0707-30a8-4a44-802c-2b8a3fff149f",
   "metadata": {},
   "source": [
    "## Agrupar"
   ]
  },
  {
   "cell_type": "code",
   "execution_count": null,
   "id": "31967ef2-ed9e-402b-85d7-e8372805ff92",
   "metadata": {},
   "outputs": [],
   "source": [
    "df = pd.DataFrame(\n",
    "    {\n",
    "        \"A\": [\"foo\", \"bar\", \"foo\", \"bar\", \"foo\", \"bar\", \"foo\", \"foo\"],\n",
    "        \"B\": [\"one\", \"one\", \"two\", \"three\", \"two\", \"two\", \"one\", \"three\"],\n",
    "        \"C\": np.random.randn(8),\n",
    "        \"D\": np.random.randn(8),\n",
    "    }\n",
    ")\n",
    "df"
   ]
  },
  {
   "cell_type": "code",
   "execution_count": null,
   "id": "03fe90e6-7884-4bd2-9402-b412e4366c05",
   "metadata": {},
   "outputs": [],
   "source": [
    "df_group = df.groupby(\"A\")[[\"C\", \"D\"]]\n",
    "df_group.sum()"
   ]
  },
  {
   "cell_type": "code",
   "execution_count": null,
   "id": "cc4c7fdf-f7f0-4e36-a640-edd8523b23f2",
   "metadata": {},
   "outputs": [],
   "source": [
    "type(df_group)"
   ]
  },
  {
   "cell_type": "code",
   "execution_count": null,
   "id": "0b0788fc-970e-4183-97a4-390eabc09430",
   "metadata": {},
   "outputs": [],
   "source": [
    "type(df_group.sum())"
   ]
  },
  {
   "cell_type": "code",
   "execution_count": null,
   "id": "b217d180-2756-4576-8ae5-308bea04f160",
   "metadata": {},
   "outputs": [],
   "source": [
    "df.groupby(\"A\").mean()"
   ]
  },
  {
   "cell_type": "code",
   "execution_count": null,
   "id": "35b54a8f-3dbe-4323-82e9-6dc8b8aa1812",
   "metadata": {},
   "outputs": [],
   "source": [
    "df.groupby(\"Country\")[\"Rate\"].mean().max()"
   ]
  },
  {
   "cell_type": "code",
   "execution_count": null,
   "id": "3fdeea6f-ebeb-49c2-b979-742342f2c16a",
   "metadata": {},
   "outputs": [],
   "source": [
    "df.groupby(\"A\")[\"C\"].mean().max()"
   ]
  },
  {
   "cell_type": "code",
   "execution_count": null,
   "id": "28109032-24aa-4d1d-9cd0-1817615ba9c6",
   "metadata": {},
   "outputs": [],
   "source": [
    "df.groupby([\"A\", \"B\"]).sum()"
   ]
  },
  {
   "cell_type": "markdown",
   "id": "41638451-fb76-47fe-aa28-f2015a2ee28e",
   "metadata": {},
   "source": [
    "## Reformar dataframes"
   ]
  },
  {
   "cell_type": "code",
   "execution_count": null,
   "id": "89123508-211a-4200-b268-3ccec9bd3d84",
   "metadata": {},
   "outputs": [],
   "source": [
    "tuples = list(\n",
    "    zip(\n",
    "        [\"bar\", \"bar\", \"baz\", \"baz\", \"foo\", \"foo\", \"qux\", \"qux\"],\n",
    "        [\"one\", \"two\", \"one\", \"two\", \"one\", \"two\", \"one\", \"two\"],\n",
    "    )\n",
    ")\n",
    "index = pd.MultiIndex.from_tuples(tuples, names=[\"first\", \"second\"])\n",
    "df = pd.DataFrame(np.random.randn(8, 2), index=index, columns=[\"A\", \"B\"])\n",
    "df2 = df[:4]\n",
    "df2"
   ]
  },
  {
   "cell_type": "code",
   "execution_count": null,
   "id": "c58e9dff-0e8a-402a-bf07-75f99e99b9aa",
   "metadata": {},
   "outputs": [],
   "source": [
    "stacked = df2.stack()\n",
    "stacked"
   ]
  },
  {
   "cell_type": "code",
   "execution_count": null,
   "id": "8d1b8099-30b5-4cd1-8f7d-d04ab2c58325",
   "metadata": {},
   "outputs": [],
   "source": [
    "stacked.unstack()"
   ]
  },
  {
   "cell_type": "code",
   "execution_count": null,
   "id": "4b44a4e9-f4dc-4639-a10c-a42565c4394a",
   "metadata": {},
   "outputs": [],
   "source": [
    "stacked.unstack(1)"
   ]
  },
  {
   "cell_type": "code",
   "execution_count": null,
   "id": "4d02bae5-5c3d-46ae-8175-295ee9247b13",
   "metadata": {},
   "outputs": [],
   "source": [
    "stacked.unstack(0)"
   ]
  },
  {
   "cell_type": "markdown",
   "id": "859597b4-245e-41a2-bb20-c7fb2a62979e",
   "metadata": {},
   "source": [
    "## Tablas pivot"
   ]
  },
  {
   "cell_type": "code",
   "execution_count": null,
   "id": "2e2a74eb-8b85-4c17-aee5-46f4950e3264",
   "metadata": {},
   "outputs": [],
   "source": [
    "df = pd.DataFrame(\n",
    "    {\n",
    "        \"A\": [\"one\", \"one\", \"two\", \"three\"] * 3,\n",
    "        \"B\": [\"A\", \"B\", \"C\"] * 4,\n",
    "        \"C\": [\"foo\", \"foo\", \"foo\", \"bar\", \"bar\", \"bar\"] * 2,\n",
    "        \"D\": np.random.randn(12),\n",
    "        \"E\": np.random.randn(12),\n",
    "    }\n",
    ")\n",
    "df"
   ]
  },
  {
   "cell_type": "code",
   "execution_count": null,
   "id": "c5bff343-5ba4-4d8b-9065-04af77aa08e3",
   "metadata": {},
   "outputs": [],
   "source": [
    "pd.pivot_table(df, values=\"D\", index=[\"A\", \"B\"], columns=[\"C\"])"
   ]
  },
  {
   "cell_type": "markdown",
   "id": "edb6592f-0a44-42e0-8363-8142f89ed06a",
   "metadata": {},
   "source": [
    "## Atributos categoricos"
   ]
  },
  {
   "cell_type": "code",
   "execution_count": null,
   "id": "96f31944-28fb-4b0b-8c1d-89962b182353",
   "metadata": {},
   "outputs": [],
   "source": [
    "df = pd.DataFrame(\n",
    "    {\"id\": [1, 2, 3, 4, 5, 6], \"raw_grade\": [\"a\", \"b\", \"b\", \"a\", \"a\", \"e\"]}\n",
    ")\n",
    "df[\"grade\"] = df[\"raw_grade\"].astype(\"category\")\n",
    "df[\"grade\"]"
   ]
  },
  {
   "cell_type": "code",
   "execution_count": null,
   "id": "844b7108-57f5-47e0-ab39-10c90259e5bf",
   "metadata": {},
   "outputs": [],
   "source": [
    "new_categories = [\"very good\", \"good\", \"very bad\"]\n",
    "df[\"grade\"] = df[\"grade\"].cat.rename_categories(new_categories)\n",
    "df"
   ]
  },
  {
   "cell_type": "code",
   "execution_count": null,
   "id": "f6979efe-c473-4737-81cf-585430e67fdf",
   "metadata": {},
   "outputs": [],
   "source": [
    "df[\"grade\"] = df[\"grade\"].cat.set_categories(\n",
    "    [\"very bad\", \"bad\", \"medium\", \"good\", \"very good\"]\n",
    ")\n",
    "df[\"grade\"]"
   ]
  },
  {
   "cell_type": "code",
   "execution_count": null,
   "id": "49b58004-3255-46b9-b946-10fe37df31c3",
   "metadata": {},
   "outputs": [],
   "source": [
    "df.sort_values(by=\"grade\") #ordena por la posicion seteada de las categorias "
   ]
  },
  {
   "cell_type": "code",
   "execution_count": null,
   "id": "ec0aba17-dbfb-4fcd-9926-d1a68275ef2c",
   "metadata": {},
   "outputs": [],
   "source": [
    "df.groupby(\"grade\").size() #groupby muestra las categorias vacias"
   ]
  },
  {
   "cell_type": "markdown",
   "id": "9e64cd7f-f058-4cee-9409-540d4002305e",
   "metadata": {},
   "source": [
    "## Leer y escribir en archivos"
   ]
  },
  {
   "cell_type": "code",
   "execution_count": null,
   "id": "8e5d7bf7-213a-4dc0-bbbc-43fbe6827b4d",
   "metadata": {},
   "outputs": [],
   "source": [
    "df.to_csv(\"foo.csv\")"
   ]
  },
  {
   "cell_type": "code",
   "execution_count": null,
   "id": "9c24966b-72bc-409f-8796-60e4636be9b5",
   "metadata": {},
   "outputs": [],
   "source": [
    "pd.read_csv(\"foo.csv\")"
   ]
  },
  {
   "cell_type": "code",
   "execution_count": null,
   "id": "6488a377-fd0f-40be-b435-d0c7e0299108",
   "metadata": {},
   "outputs": [],
   "source": [
    "df.to_excel(\"foo.xlsx\", sheet_name=\"Sheet1\")\n",
    "pd.read_excel(\"foo.xlsx\", \"Sheet1\", index_col=None, na_values=[\"NA\"])"
   ]
  },
  {
   "cell_type": "markdown",
   "id": "d77bf90d-e5d0-46f9-ad7c-d30cffa27d6e",
   "metadata": {
    "tags": []
   },
   "source": [
    "# Ejercicios"
   ]
  },
  {
   "cell_type": "markdown",
   "id": "94e10aca-79f6-4233-9a63-9f28d4649d3c",
   "metadata": {
    "tags": []
   },
   "source": [
    "## Crear un Dataframe\n",
    "Crear un dataframe con dos columnas \"A\" y \"B\"\n",
    "La columna A contiene los siguientes nombres: \"Alicia\", \"Beto\", \"Camila\"\n",
    "La columna B contiene las respectivas edades: 31,42,35"
   ]
  },
  {
   "cell_type": "code",
   "execution_count": null,
   "id": "a73af1a1-2e61-4c50-8f4d-36a40f00b48b",
   "metadata": {},
   "outputs": [],
   "source": [
    "# Escribir aqui la solucion\n",
    "\n"
   ]
  },
  {
   "cell_type": "code",
   "execution_count": null,
   "id": "ce38175f-26ad-432c-a3f4-9031c7f59804",
   "metadata": {},
   "outputs": [],
   "source": [
    "#@title Solucion {display-mode:\"form\"}\n",
    "\n",
    "df = pd.DataFrame({'A': [\"Alicia\", \"Beto\", \"Camila\"], 'B':[31,42,35]})\n",
    "df"
   ]
  },
  {
   "cell_type": "markdown",
   "id": "9a67e518-67d6-4754-9ee0-d054776594f3",
   "metadata": {},
   "source": [
    "## Agregar una columna\n",
    "Agregar la columna \"C\" con los siguientes datos 1.7,1.72,1.67"
   ]
  },
  {
   "cell_type": "code",
   "execution_count": null,
   "id": "51f3543c-0cd1-4572-b21c-d37379b26905",
   "metadata": {},
   "outputs": [],
   "source": [
    "# Escribir aqui la solucion\n",
    "\n"
   ]
  },
  {
   "cell_type": "code",
   "execution_count": null,
   "id": "5b63cce2-ae3e-41c3-9bb4-9d577874c0bb",
   "metadata": {},
   "outputs": [],
   "source": [
    "#@title Solucion {display-mode:\"form\"}\n",
    "\n",
    "df[\"C\"] = [1.7,1.72,1.67]\n",
    "df"
   ]
  },
  {
   "cell_type": "markdown",
   "id": "5ccfb90e-5d00-419a-95fe-1e9294b5d096",
   "metadata": {},
   "source": [
    "## Cambiar el indice\n",
    "Cambiar el indice de 0,1,2 por \"a\", \"b\", \"c\""
   ]
  },
  {
   "cell_type": "code",
   "execution_count": null,
   "id": "edc888a2-fe16-4c3d-8080-9eb3e748db95",
   "metadata": {},
   "outputs": [],
   "source": [
    "# Escribir aqui la solucion\n",
    "\n"
   ]
  },
  {
   "cell_type": "code",
   "execution_count": null,
   "id": "57163ea6-e662-4eee-b67e-df81f8d4e47c",
   "metadata": {},
   "outputs": [],
   "source": [
    "#@title Solucion {display-mode:\"form\"}\n",
    "\n",
    "df.index = [\"a\",\"b\",\"c\"]\n",
    "df"
   ]
  },
  {
   "cell_type": "markdown",
   "id": "91d840f9-2ffd-481b-8405-f5d919b3dae8",
   "metadata": {},
   "source": [
    "## Cambiar el nombre de las columnas\n",
    "Cambiar el nombre de las columnas A, B, C por \"Nombre\", \"Edad\", \"Estatura\""
   ]
  },
  {
   "cell_type": "code",
   "execution_count": null,
   "id": "09ae2959-f3a3-48e1-b7b0-f217a42212da",
   "metadata": {},
   "outputs": [],
   "source": [
    "# Escribir aqui la solucion\n",
    "\n"
   ]
  },
  {
   "cell_type": "code",
   "execution_count": null,
   "id": "d3922996-a058-43d4-8c5b-a1aa0044baf8",
   "metadata": {},
   "outputs": [],
   "source": [
    "#@title Solucion {display-mode:\"form\"}\n",
    "\n",
    "df.columns = [\"Nombre\", \"Edad\", \"Estatura\"]\n",
    "df"
   ]
  },
  {
   "cell_type": "markdown",
   "id": "b62f5a39-f412-4ee9-b245-fcfc83988b31",
   "metadata": {},
   "source": [
    "## Mostrar la columna \"Nombre\"\n",
    "Utilizar la funcion loc"
   ]
  },
  {
   "cell_type": "code",
   "execution_count": null,
   "id": "96cb98d1-64a1-4620-85bf-cc661d4bc9c5",
   "metadata": {},
   "outputs": [],
   "source": [
    "# Escribir aqui la solucion\n",
    "\n"
   ]
  },
  {
   "cell_type": "code",
   "execution_count": null,
   "id": "1039e963-9320-47b1-91fc-3ac36b9cd396",
   "metadata": {},
   "outputs": [],
   "source": [
    "#@title Solucion {display-mode:\"form\"}\n",
    "\n",
    "df.loc[:,\"Nombre\"]"
   ]
  },
  {
   "cell_type": "markdown",
   "id": "ae22b9dd-74a7-4ee3-a2e5-c2de4d1c09ac",
   "metadata": {},
   "source": [
    "## Mostrar elementos"
   ]
  },
  {
   "cell_type": "markdown",
   "id": "c49cf321-a9a6-4761-8804-b4cc8774a2e9",
   "metadata": {},
   "source": [
    "Mostrar el elemento del indice \"b\" y columna \"Nombre\" usando loc"
   ]
  },
  {
   "cell_type": "code",
   "execution_count": null,
   "id": "522425ce-f6f4-4505-b8f9-5e5c0a5caaa6",
   "metadata": {},
   "outputs": [],
   "source": [
    "# Escribir aqui la solucion\n",
    "\n"
   ]
  },
  {
   "cell_type": "code",
   "execution_count": null,
   "id": "361b7060-0238-483f-82b6-75b5861e1550",
   "metadata": {},
   "outputs": [],
   "source": [
    "#@title Solucion {display-mode:\"form\"}\n",
    "\n",
    "df.loc[\"b\",\"Nombre\"]"
   ]
  },
  {
   "cell_type": "markdown",
   "id": "eb6435c3-1859-427a-bc1e-b30b0e85530d",
   "metadata": {},
   "source": [
    "Mostrar el elemento de la fila 1 y la columna 0 usando iloc"
   ]
  },
  {
   "cell_type": "code",
   "execution_count": null,
   "id": "5d48ab7a-2969-4dea-8cc3-8abdbb96a8bb",
   "metadata": {},
   "outputs": [],
   "source": [
    "# Escribir aqui la solucion\n",
    "\n"
   ]
  },
  {
   "cell_type": "code",
   "execution_count": null,
   "id": "5964f498-5072-435e-992d-a2deb1250674",
   "metadata": {},
   "outputs": [],
   "source": [
    "#@title Solucion {display-mode:\"form\"}\n",
    "\n",
    "df.iloc[1,0]"
   ]
  },
  {
   "cell_type": "markdown",
   "id": "0907a454-dd3f-4dc5-a534-1acbe905355c",
   "metadata": {},
   "source": [
    "Mostrar la fila 1 usando iloc"
   ]
  },
  {
   "cell_type": "code",
   "execution_count": null,
   "id": "15bf68e4-80db-4f77-a3b7-b70b5b3be887",
   "metadata": {},
   "outputs": [],
   "source": [
    "# Escribir aqui la solucion\n",
    "\n"
   ]
  },
  {
   "cell_type": "code",
   "execution_count": null,
   "id": "cd0b205a-4d37-4e32-af07-1a2d6ee2667d",
   "metadata": {},
   "outputs": [],
   "source": [
    "#@title Solucion {display-mode:\"form\"}\n",
    "\n",
    "df.iloc[1,:]"
   ]
  },
  {
   "cell_type": "markdown",
   "id": "5f711c02-dc6e-451a-9bb5-96553291c27a",
   "metadata": {},
   "source": [
    "## Ordenar dataframe\n",
    "Ordenar el dataframe por la altura de menor a mayor"
   ]
  },
  {
   "cell_type": "code",
   "execution_count": null,
   "id": "a9ca13d2-65e1-432f-8e0d-a030dfd41cb8",
   "metadata": {},
   "outputs": [],
   "source": [
    "# Escribir aqui la solucion\n",
    "\n"
   ]
  },
  {
   "cell_type": "code",
   "execution_count": null,
   "id": "bf7298b8-d533-4adf-a8c7-af9e72245b6e",
   "metadata": {},
   "outputs": [],
   "source": [
    "#@title Solucion {display-mode:\"form\"}\n",
    "\n",
    "df = df.sort_values(by=\"Estatura\")\n",
    "df"
   ]
  },
  {
   "cell_type": "markdown",
   "id": "29297c87-b46a-4853-8ee6-f68cd92e416c",
   "metadata": {},
   "source": [
    "## Agregar datos al dataframe"
   ]
  },
  {
   "cell_type": "code",
   "execution_count": null,
   "id": "df760426-4570-42e2-b6a9-44bc1263d657",
   "metadata": {},
   "outputs": [],
   "source": [
    "df2 = pd.DataFrame({'Nombre': [\"Diana\", \"Ernesto\", \"Francisco\"], 'Edad':[26,24,53], 'Estatura':[1.8,1.76,np.nan]})\n",
    "df2"
   ]
  },
  {
   "cell_type": "markdown",
   "id": "ed0eaf40-3693-40dc-8d82-f59a6b759735",
   "metadata": {},
   "source": [
    "Agregar los datos del dataframe df2 a df"
   ]
  },
  {
   "cell_type": "code",
   "execution_count": null,
   "id": "a0d5b785-5fff-46f7-b120-ab7bf5dbfa46",
   "metadata": {},
   "outputs": [],
   "source": [
    "# Escribir aqui la solucion\n",
    "\n"
   ]
  },
  {
   "cell_type": "code",
   "execution_count": null,
   "id": "af58a67f-9d31-4d0f-905e-8d5781d96eeb",
   "metadata": {},
   "outputs": [],
   "source": [
    "#@title Solucion {display-mode:\"form\"}\n",
    "\n",
    "df = df.append(df2)\n",
    "df"
   ]
  },
  {
   "cell_type": "markdown",
   "id": "5161dc40-7f87-443f-9011-03dc8f2651ae",
   "metadata": {},
   "source": [
    "## Reemplazar valores faltantes\n",
    "Reemplazar los valores faltantes en la columna Estatura por la media de dicha columna"
   ]
  },
  {
   "cell_type": "code",
   "execution_count": null,
   "id": "eeefe898-5008-43ef-b2f1-b580bde900f2",
   "metadata": {},
   "outputs": [],
   "source": [
    "# Escribir aqui la solucion\n",
    "\n"
   ]
  },
  {
   "cell_type": "code",
   "execution_count": null,
   "id": "1acee807-ad01-4925-88f1-56f6b75420de",
   "metadata": {},
   "outputs": [],
   "source": [
    "#@title Solucion {display-mode:\"form\"}\n",
    "\n",
    "df = df.fillna(np.round(df.Estatura.mean(),decimals=2))\n",
    "df"
   ]
  },
  {
   "cell_type": "markdown",
   "id": "e69dad50-1892-4486-b5ea-81c4d346f5ee",
   "metadata": {},
   "source": [
    "## Mostrar usando condicionales en los indices\n",
    "Mostar las filas donde la altura es mayor o igual a la media"
   ]
  },
  {
   "cell_type": "code",
   "execution_count": null,
   "id": "4a254cb0-21e3-49c7-bf5b-ee7cfe8be8c0",
   "metadata": {},
   "outputs": [],
   "source": [
    "# Escribir aqui la solucion\n",
    "\n"
   ]
  },
  {
   "cell_type": "code",
   "execution_count": null,
   "id": "97581aad-db5f-446d-92ad-d4828c680831",
   "metadata": {},
   "outputs": [],
   "source": [
    "#@title Solucion {display-mode:\"form\"}\n",
    "\n",
    "df[df.Estatura >= np.round(df.Estatura.mean(),decimals=2)]"
   ]
  },
  {
   "cell_type": "markdown",
   "id": "d77ac5eb-c4be-4065-a7f4-70396bc37e39",
   "metadata": {},
   "source": [
    "# Fin: [Volver al contenido del curso](https://www.freecodingtour.com/cursos/espanol/datascience/datascience.html)"
   ]
  }
 ],
 "metadata": {
  "kernelspec": {
   "display_name": "Python 3 (ipykernel)",
   "language": "python",
   "name": "python3"
  },
  "language_info": {
   "codemirror_mode": {
    "name": "ipython",
    "version": 3
   },
   "file_extension": ".py",
   "mimetype": "text/x-python",
   "name": "python",
   "nbconvert_exporter": "python",
   "pygments_lexer": "ipython3",
   "version": "3.9.7"
  }
 },
 "nbformat": 4,
 "nbformat_minor": 5
}
