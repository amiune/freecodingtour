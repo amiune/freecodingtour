{
 "cells": [
  {
   "cell_type": "markdown",
   "id": "88b45627-5795-462f-ac44-38ecdf11babf",
   "metadata": {},
   "source": [
    "# Regresion Lineal y Logistica"
   ]
  },
  {
   "cell_type": "markdown",
   "id": "c7798237-e2ef-464a-811e-bf8fc86c8778",
   "metadata": {},
   "source": [
    "En este ejemplo intentaremos adivinar cuantos likes tiene un video de tiktok a partir de la cantidad de vistas"
   ]
  },
  {
   "cell_type": "code",
   "execution_count": null,
   "id": "723bc5cf-31bf-4031-92fb-64d85c1bbc86",
   "metadata": {},
   "outputs": [],
   "source": [
    "import numpy as np\n",
    "import pandas as pd\n",
    "import seaborn as sns\n",
    "import matplotlib.pyplot as plt"
   ]
  },
  {
   "cell_type": "code",
   "execution_count": null,
   "id": "d7d67a66-f648-4639-a193-09f7fb1a50eb",
   "metadata": {},
   "outputs": [],
   "source": [
    "# tiktok vistas y likes de distintos videos\n",
    "\n",
    "views = [234_000, 8_000, 217_000, 25_000, 62_000, 107_000, \n",
    "         140_000, 191_000, 189_000, 496_000, 221_000, 238_000]\n",
    "likes = [ 39_000,   362,  31_000,  1_500,  4_000,   5_000,   \n",
    "           6_000,  15_000,  11_000,  30_000,  30_000,  31_000]"
   ]
  },
  {
   "cell_type": "code",
   "execution_count": null,
   "id": "d0a9ee30-776c-4eab-aaf0-2d2ecc3888c8",
   "metadata": {},
   "outputs": [],
   "source": [
    "df = pd.DataFrame({\"Views\":views,\"Likes\":likes})"
   ]
  },
  {
   "cell_type": "code",
   "execution_count": null,
   "id": "1c05bdb5-744a-4dc8-862f-3dae425e411d",
   "metadata": {},
   "outputs": [],
   "source": [
    "df.head()"
   ]
  },
  {
   "cell_type": "code",
   "execution_count": null,
   "id": "c00d2449-f575-4b48-a831-489701aaa69e",
   "metadata": {},
   "outputs": [],
   "source": [
    "sns.relplot(x=\"Views\",y=\"Likes\", data=df);"
   ]
  },
  {
   "cell_type": "markdown",
   "id": "241609c4-9ebc-4ebc-8cbe-0f1239f882ed",
   "metadata": {},
   "source": [
    "## Regresion Lineal\n",
    "\n",
    "Suponemos que la cantidad de likes es linealmente proporcional a la cantidad de vistas. Por lo tanto buscaremos cual es la funcion que dibuja una linea cuya suma de las distancias a los puntos de nuestra tabla de entrenamiento es la menor posible. Esta linea se puede obtener de forma analitica: https://en.wikipedia.org/wiki/Simple_linear_regression"
   ]
  },
  {
   "cell_type": "code",
   "execution_count": null,
   "id": "bc94f55d-f77f-454b-8282-76d843283576",
   "metadata": {},
   "outputs": [],
   "source": [
    "df[\"x - xmean\"] = df[\"Views\"] - df[\"Views\"].mean()\n",
    "df[\"y - ymean\"] = df[\"Likes\"] - df[\"Likes\"].mean()\n",
    "df[\"sq(x - xmean)\"] = df[\"x - xmean\"] * df[\"x - xmean\"]"
   ]
  },
  {
   "cell_type": "code",
   "execution_count": null,
   "id": "3819be40-d331-4d2b-a43b-81680065885c",
   "metadata": {},
   "outputs": [],
   "source": [
    "df.head()"
   ]
  },
  {
   "cell_type": "markdown",
   "id": "90cb8eb4-acc1-4b8f-9f69-1cc4d8c5cc87",
   "metadata": {},
   "source": [
    "Obtengo la pendiente de la linea"
   ]
  },
  {
   "cell_type": "code",
   "execution_count": null,
   "id": "c941c064-3e01-4532-a26e-66c578552acb",
   "metadata": {},
   "outputs": [],
   "source": [
    "w = np.sum(df[\"x - xmean\"] * df[\"y - ymean\"]) / df[\"sq(x - xmean)\"].sum()"
   ]
  },
  {
   "cell_type": "code",
   "execution_count": null,
   "id": "460491d3-5b36-4890-a3ab-55365616ee2a",
   "metadata": {},
   "outputs": [],
   "source": [
    "w"
   ]
  },
  {
   "cell_type": "markdown",
   "id": "5bdb639d-5d6f-4740-93e5-7d4a6580c736",
   "metadata": {},
   "source": [
    "Obtengo la interseccion con el eje y (ordenada al origen)"
   ]
  },
  {
   "cell_type": "code",
   "execution_count": null,
   "id": "cb43faa6-1451-4f5a-94bd-9f4c2d0cd85a",
   "metadata": {},
   "outputs": [],
   "source": [
    "b = np.mean(df[\"Likes\"] - w * df[\"Views\"])"
   ]
  },
  {
   "cell_type": "code",
   "execution_count": null,
   "id": "f1d43065-f86c-48e4-aba6-ca6681e9b610",
   "metadata": {},
   "outputs": [],
   "source": [
    "b"
   ]
  },
  {
   "cell_type": "code",
   "execution_count": null,
   "id": "69b5cd87-b8b9-4293-ad5b-aca18bdbd0dd",
   "metadata": {},
   "outputs": [],
   "source": [
    "linea = lambda x: w * x + b"
   ]
  },
  {
   "cell_type": "code",
   "execution_count": null,
   "id": "63ac2015-4777-4a88-87f6-89afb05e3722",
   "metadata": {},
   "outputs": [],
   "source": [
    "coef = np.polyfit(df[\"Views\"],df[\"Likes\"],1)\n",
    "linea = np.poly1d(coef)\n",
    "print(coef)\n",
    "print(linea)"
   ]
  },
  {
   "cell_type": "code",
   "execution_count": null,
   "id": "92b6d75b-780e-4b7f-bbf6-15055bbf593d",
   "metadata": {},
   "outputs": [],
   "source": [
    "sns.relplot(x=\"Views\",y=\"Likes\", data=df)\n",
    "plt.plot(df[\"Views\"], linea(df[\"Views\"]), '-');"
   ]
  },
  {
   "cell_type": "markdown",
   "id": "73238d26-a3a3-4ff8-9bec-d7039348819f",
   "metadata": {},
   "source": [
    "## Usando la libreria Scikit Learn\n",
    "\n",
    "La libreria sklearn nos permite obtener esta linea de forma mas simple: \n",
    "\n",
    "https://scikit-learn.org/stable/modules/generated/sklearn.linear_model.LinearRegression.html"
   ]
  },
  {
   "cell_type": "code",
   "execution_count": null,
   "id": "b64f558e-50c7-49a2-b57d-2f5e0c7ae862",
   "metadata": {},
   "outputs": [],
   "source": [
    "from sklearn.linear_model import LinearRegression\n",
    "X = df.loc[:,[\"Views\"]]\n",
    "y = df[\"Likes\"]\n",
    "reg = LinearRegression().fit(X, y)"
   ]
  },
  {
   "cell_type": "markdown",
   "id": "bb34f219-bf19-4f02-b14f-09f3265512b4",
   "metadata": {},
   "source": [
    "Obtengo la pendiente de la linea"
   ]
  },
  {
   "cell_type": "code",
   "execution_count": null,
   "id": "66a017bd-0e95-47ce-b0e1-227d1a150bdf",
   "metadata": {},
   "outputs": [],
   "source": [
    "reg.coef_"
   ]
  },
  {
   "cell_type": "markdown",
   "id": "bf22b7b5-c0b3-4928-b787-0b9bdbffb869",
   "metadata": {},
   "source": [
    "Obtengo la interseccion con el eje y (ordenada al origen)"
   ]
  },
  {
   "cell_type": "code",
   "execution_count": null,
   "id": "a3fda8e6-2528-4bf7-becd-c8bdf41602e8",
   "metadata": {},
   "outputs": [],
   "source": [
    "reg.intercept_"
   ]
  },
  {
   "cell_type": "markdown",
   "id": "268a6634-96bc-4de3-80a1-a2bacacd64a1",
   "metadata": {},
   "source": [
    "# IA: adivinar y luego minimzar el error repetidamente\n",
    "\n",
    "Otra forma de obtener dicha linea es a traves del algoritmo de gradiente descendiente. Este algorimo es muy importante en inteligencia artificial ya que nos permite encontrar un minimo de forma iterativa."
   ]
  },
  {
   "cell_type": "markdown",
   "id": "1d752410-3c7e-44ed-bad7-14af86338502",
   "metadata": {},
   "source": [
    "### Generamos lineas al azar\n",
    "\n",
    "Empezamos generando lineas al azar para ver que tan buenas predictoras son. Para ello calculamos la suma de las distancias de los puntos de la tabla de entrenamiento a las distintas rectas."
   ]
  },
  {
   "cell_type": "code",
   "execution_count": null,
   "id": "66b1e11c-deb9-452f-903e-d60daca303aa",
   "metadata": {},
   "outputs": [],
   "source": [
    "#inicializo con valores aleatorios\n",
    "b = 0.0\n",
    "w = 0.1\n",
    "#hago mi prediccion\n",
    "def prediccion(x, w, b): \n",
    "    return w * x + b\n",
    "#mi suma de los errores al cuadrado sera\n",
    "def costo(x, w, b, y): \n",
    "    return np.sum((y - prediccion(x,w,b))**2)"
   ]
  },
  {
   "cell_type": "markdown",
   "id": "d8c66e5e-f63c-4004-9f48-0f7175f2ad53",
   "metadata": {},
   "source": [
    "Solo elegiremos la pendiente w al azar, la ordenada al origen b la dejaremos fija en cero para que el ejemplo sea mas simple:"
   ]
  },
  {
   "cell_type": "code",
   "execution_count": null,
   "id": "d3129703-5eda-4427-a951-9a16ec7799eb",
   "metadata": {},
   "outputs": [],
   "source": [
    "sns.relplot(x=\"Views\",y=\"Likes\", data=df)\n",
    "pendientes = [-0.05,0.0,0.05,0.1,0.15,0.2]\n",
    "costos = []\n",
    "for w in pendientes:\n",
    "    costos.append(costo(df[\"Views\"], w, b, df[\"Likes\"]))\n",
    "    plt.plot(df[\"Views\"], prediccion(df[\"Views\"], w, b), '-');"
   ]
  },
  {
   "cell_type": "markdown",
   "id": "59cdfb08-3183-47ae-a441-3c01677971fd",
   "metadata": {},
   "source": [
    "### Calculamos los errores de cada linea que creamos\n",
    "\n",
    "Elegido un w al azar podemos calcular su costo, es decir, la suma de diferencias al cuadrado de los puntos de la tabla de entrenamiento a la linea dada por w. "
   ]
  },
  {
   "cell_type": "code",
   "execution_count": null,
   "id": "409debf1-e40b-436e-8c32-95aa7cd5fc8f",
   "metadata": {},
   "outputs": [],
   "source": [
    "#tabla de la suma de errores para cada linea\n",
    "df_costos = pd.DataFrame({\"w\":pendientes,\"costo\":costos})\n",
    "df_costos"
   ]
  },
  {
   "cell_type": "markdown",
   "id": "5765e68e-d13b-44b4-9f07-6f6764600e58",
   "metadata": {},
   "source": [
    "Esta tabla nos da el costo de cada linea dependiendo de la pendiente w elegida. Si extendemos esta tabla para todos los w obtenemos la llamada funcion de costo:"
   ]
  },
  {
   "cell_type": "code",
   "execution_count": null,
   "id": "25907f80-e690-4c2a-b147-4834895236f4",
   "metadata": {},
   "outputs": [],
   "source": [
    "sns.relplot(x=\"w\",y=\"costo\", data=df_costos);\n",
    "plt.plot(pendientes, costos, '-');"
   ]
  },
  {
   "cell_type": "code",
   "execution_count": null,
   "id": "6dd2a454-9d5a-4003-9428-91671a735cb7",
   "metadata": {},
   "outputs": [],
   "source": [
    "from scipy.interpolate import make_interp_spline, BSpline\n",
    "xnew = np.linspace(np.min(pendientes), np.max(pendientes), 50) \n",
    "spl = make_interp_spline(pendientes, costos, k=3)\n",
    "plt.plot(xnew, spl(xnew));"
   ]
  },
  {
   "cell_type": "markdown",
   "id": "b294a1cb-d69c-462f-a309-0ddbf1fe4d19",
   "metadata": {
    "tags": []
   },
   "source": [
    "## El truco matematico del gradiente descendiente\n",
    "\n",
    "Teniendo la funcion de costo podemos utilizar la pendiente (derivada) de dicha funcion de costo para saber en que direccion tenemos que buscar para encontrar el minimo:"
   ]
  },
  {
   "cell_type": "code",
   "execution_count": null,
   "id": "35e4e1e0-4c29-4504-b6fc-9dcf7278570d",
   "metadata": {},
   "outputs": [],
   "source": [
    "#utilizamos la libreria sympy para obtener la derivada de la funcion de costo\n",
    "import sympy as sy"
   ]
  },
  {
   "cell_type": "code",
   "execution_count": null,
   "id": "368bbfe8-0463-42f1-81b7-379db5818565",
   "metadata": {},
   "outputs": [],
   "source": [
    "x,y,w,b = sy.symbols('x y w b')\n",
    "costFunf = (y-(w*x+b))**2\n",
    "costFunf"
   ]
  },
  {
   "cell_type": "markdown",
   "id": "b78b7977-bbfd-470f-8e39-ba0adb71419d",
   "metadata": {},
   "source": [
    "Derivada parcial de la funcion de costo respecto de w:"
   ]
  },
  {
   "cell_type": "code",
   "execution_count": null,
   "id": "b2a084f7-f148-42fe-af00-f6a8778692f1",
   "metadata": {},
   "outputs": [],
   "source": [
    "sy.diff(costFunf,w)"
   ]
  },
  {
   "cell_type": "markdown",
   "id": "dc127a16-6d1a-4ebc-886c-0628efa6a910",
   "metadata": {},
   "source": [
    "Derivada parcial de la funcion de costo respecto de b:"
   ]
  },
  {
   "cell_type": "code",
   "execution_count": null,
   "id": "7e2974f6-d4a1-4130-98db-41e6cb71640c",
   "metadata": {},
   "outputs": [],
   "source": [
    "sy.diff(costFunf,b)"
   ]
  },
  {
   "cell_type": "code",
   "execution_count": null,
   "id": "7b969758-761f-4355-aa14-e0d50548b4b6",
   "metadata": {},
   "outputs": [],
   "source": [
    "del x,y,w,b"
   ]
  },
  {
   "cell_type": "markdown",
   "id": "cc03fb30-3a3b-4264-9e6d-02064db7d085",
   "metadata": {},
   "source": [
    "Las siguientes funciones nos indican entonces en que direccion tenemos que ir para encontrar el minimo:"
   ]
  },
  {
   "cell_type": "code",
   "execution_count": null,
   "id": "b76b6a81-6af9-422a-867b-2080e833fd4a",
   "metadata": {},
   "outputs": [],
   "source": [
    "def gradW(x,y,w,b):\n",
    "    grad = -2*x*(-b-w*x+y)\n",
    "    grad = np.sum(grad)\n",
    "    return grad"
   ]
  },
  {
   "cell_type": "code",
   "execution_count": null,
   "id": "17d74f3a-0efe-479a-a634-459ff815cd55",
   "metadata": {},
   "outputs": [],
   "source": [
    "def gradb(x,y,w,b):\n",
    "    grad = 2*b+2*w*x-2*y\n",
    "    grad = np.sum(grad)\n",
    "    return grad"
   ]
  },
  {
   "cell_type": "markdown",
   "id": "b06f0328-30d8-4140-a2fd-047c936cb79e",
   "metadata": {},
   "source": [
    "### El algortimo del gradiente descendiente\n",
    "\n",
    "A continuacion empiezo con un w al azar y luego lo voy modificando de a poco para ir en direccion hacia el minimo costo. Tengo que tener cuidado de ir modificando de a poco porque si el paso que doy es demasiado grande el algoritmo puede diverger (no encontrara el minimo) o puede tardar mucho si el paso es muy pequeño. A el tamaño de cada paso hacia el minimo se lo conoce como Learning Rate (LR)"
   ]
  },
  {
   "cell_type": "code",
   "execution_count": null,
   "id": "23baa095-94e6-41a8-826b-1197c8b33132",
   "metadata": {},
   "outputs": [],
   "source": [
    "x = np.array(df[\"Views\"])\n",
    "y = np.array(df[\"Likes\"])\n",
    "w = 0.2\n",
    "b = 0.0\n",
    "ws, cs = [], []\n",
    "for i in range(20):\n",
    "    ws.append(w)\n",
    "    cost = costo(x, w, b, y)\n",
    "    cs.append(cost)\n",
    "    grad = gradW(x, y, w, b)\n",
    "    print(f\"w:{w:0.3f} cost:{int(cost):10}\")\n",
    "    w = w - 0.0000000000003 * grad #LR adecuado. El algoritmo encuentra el minimo\n",
    "    #w = w - 0.0000000000018 * grad #LR demasiado grande. El algoritmo diverge\n",
    "    #w = w - 0.00000000000001 * grad #LR demasiado chico. El algoritmo tarda mucho"
   ]
  },
  {
   "cell_type": "code",
   "execution_count": null,
   "id": "81243e52-8578-4371-843f-c7ead1eb4816",
   "metadata": {},
   "outputs": [],
   "source": [
    "from scipy.interpolate import make_interp_spline, BSpline\n",
    "xnew = np.linspace(np.min(pendientes), np.max(pendientes), 50) \n",
    "spl = make_interp_spline(pendientes, costos, k=3)\n",
    "plt.plot(xnew, spl(xnew));\n",
    "plt.plot(ws, cs, 'x-');"
   ]
  },
  {
   "cell_type": "markdown",
   "id": "60cc8bab-6f7a-4a07-86e6-78c1cfedf7f8",
   "metadata": {},
   "source": [
    "## Extendemos el algoritmo para mas dimensiones\n",
    "\n",
    "Aqui extendemos el algoritmo para encontrar tambien la ordenada al origen. De la misma forma podemos extenderlo para mas dimensiones."
   ]
  },
  {
   "cell_type": "code",
   "execution_count": null,
   "id": "66f75864-2de0-4af0-a50d-4f4295a6b90e",
   "metadata": {},
   "outputs": [],
   "source": [
    "x = np.array(df[\"Views\"])\n",
    "y = np.array(df[\"Likes\"])\n",
    "w = 0.2\n",
    "b = 0.0\n",
    "for epoch in range(60):\n",
    "    cost = costo(x, w, b, y)\n",
    "    tmp_gradW = gradW(x, y, w, b)\n",
    "    tmp_gradb = gradb(x, y, w, b)\n",
    "    if epoch%5 == 0: print(f\"w:{w:0.4f} b:{int(b):4} cost:{int(cost):10}\")\n",
    "    w = w - 0.000000000001 * tmp_gradW\n",
    "    b = b - 0.03 * tmp_gradb"
   ]
  },
  {
   "cell_type": "markdown",
   "id": "e3500029-3777-48e4-95d0-7caef3de37e3",
   "metadata": {},
   "source": [
    "# Regresion Logistica\n",
    "\n",
    "Utilizando la tecnica del gradiente descendiente en este ejemplo intentaremos adivinar si a una persona que le damos un prestamo nos devolvera el dinero. En este caso nuestros valores a predecir no son numeros sino una variable categorica que puede tener los valores SI o NO."
   ]
  },
  {
   "cell_type": "code",
   "execution_count": null,
   "id": "4dfbbf3f-df22-43b2-855c-b4f37bda884f",
   "metadata": {},
   "outputs": [],
   "source": [
    "import numpy as np\n",
    "import pandas as pd\n",
    "import seaborn as sns\n",
    "import matplotlib.pyplot as plt"
   ]
  },
  {
   "cell_type": "code",
   "execution_count": null,
   "id": "30b545a8-7238-49f9-a15e-9358d9893320",
   "metadata": {},
   "outputs": [],
   "source": [
    "df = pd.DataFrame({\"Salario\":[1500,600,1800,700,1400,3100,2900,4200,5100,4500],\n",
    "                  \"Ahorro\": [11000,5700,1500,7100,4900,11000,13000,14000,18000,16000],\n",
    "                  \"Devolvio\":[0,0,0,0,0,1,1,1,1,1]})"
   ]
  },
  {
   "cell_type": "code",
   "execution_count": null,
   "id": "fed991b6-cc90-4e42-9755-9942e73da7a4",
   "metadata": {},
   "outputs": [],
   "source": [
    "df.head()"
   ]
  },
  {
   "cell_type": "code",
   "execution_count": null,
   "id": "3ddec7da-7459-41d6-bfcd-bdaafa8af8da",
   "metadata": {},
   "outputs": [],
   "source": [
    "sns.relplot(x=\"Salario\", y=\"Ahorro\", hue=\"Devolvio\", data=df);"
   ]
  },
  {
   "cell_type": "markdown",
   "id": "e62bf5bd-4a88-4ed5-98f5-e66a8883e03f",
   "metadata": {},
   "source": [
    "Debido a que la variable a predecir es categorica, la funcion que buscaremos no sera una linea recta si no una funcion sigmoidea. En donde todos los valores que son mayores a cierto umbral seran iguales a SI y los menores a ese umbral seran iguales a NO:"
   ]
  },
  {
   "cell_type": "code",
   "execution_count": null,
   "id": "33e3dde6-e3c0-4590-95ed-a42f51df34b0",
   "metadata": {},
   "outputs": [],
   "source": [
    "sigmoid = lambda x: 1 / (1 + np.exp(-x))"
   ]
  },
  {
   "cell_type": "code",
   "execution_count": null,
   "id": "b32759b5-6b3c-4396-ad9a-2ae3db43e4c9",
   "metadata": {},
   "outputs": [],
   "source": [
    "plt.plot(np.linspace(-10,10,100), sigmoid(np.linspace(-10,10,100)), '-');"
   ]
  },
  {
   "cell_type": "code",
   "execution_count": null,
   "id": "dcee9e2d-61b0-4ac2-be71-07631a7d3aee",
   "metadata": {},
   "outputs": [],
   "source": [
    "sns.relplot(x=\"Salario\", y=\"Devolvio\", hue=\"Devolvio\", data=df);\n",
    "plt.plot(np.linspace(0,6000,100), sigmoid(5*(np.linspace(0,6000,100)/1000-2.5)), '-');"
   ]
  },
  {
   "cell_type": "markdown",
   "id": "cab4dfd5-1f68-4ccd-bb03-cf2825e62263",
   "metadata": {},
   "source": [
    "Tambien cambiara la funcion para medir que tan bien mi funcion sigmoidea se ajusta a la tabla de entrenamiento. Por lo tanto no usaremos la funcion de suma de diferencias de cuadrados sino que utilizaremos la funcion llamada entropia cruzada:"
   ]
  },
  {
   "cell_type": "code",
   "execution_count": null,
   "id": "b25c0724-88ed-4fb4-bb14-8c3630c53762",
   "metadata": {},
   "outputs": [],
   "source": [
    "costoy1 = lambda x: -np.log(sigmoid(x))\n",
    "plt.plot(np.linspace(0,1,100), costoy1(np.linspace(0,5,100)), '-');\n",
    "costoy0 = lambda x: -np.log(1-sigmoid(x))\n",
    "plt.plot(np.linspace(0,1,100), costoy0(np.linspace(-5,0,100)), '-');"
   ]
  },
  {
   "cell_type": "markdown",
   "id": "2cc9da7f-7115-4ff3-9606-c0a17d4d75aa",
   "metadata": {},
   "source": [
    "Con estas dos modificaciones podemos volver a utilizar el algoritmo de gradiente descendiente para encontrar la funcion que mejor se adapta a mi tabla de entrenamiento."
   ]
  },
  {
   "cell_type": "markdown",
   "id": "9665550c-78b1-4e95-803c-26f6997a5d77",
   "metadata": {},
   "source": [
    "## Con Scikit Learn"
   ]
  },
  {
   "cell_type": "code",
   "execution_count": null,
   "id": "171fe66d-60ff-487b-968b-ffd8f295ecd3",
   "metadata": {},
   "outputs": [],
   "source": [
    "from sklearn.linear_model import LogisticRegression\n",
    "X = df.loc[:,[\"Salario\",\"Ahorro\"]].to_numpy()\n",
    "y = df.loc[:,\"Devolvio\"].to_numpy()\n",
    "clf = LogisticRegression(random_state=0).fit(X, y)"
   ]
  },
  {
   "cell_type": "code",
   "execution_count": null,
   "id": "0799f585-5669-400a-96ab-2bb05df87304",
   "metadata": {},
   "outputs": [],
   "source": [
    "clf.predict([[3_000,15_000]])"
   ]
  },
  {
   "cell_type": "code",
   "execution_count": null,
   "id": "9aaac267-bc1e-4c27-9371-45759c3a8831",
   "metadata": {},
   "outputs": [],
   "source": [
    "clf.predict([[900,8_000]])"
   ]
  },
  {
   "cell_type": "markdown",
   "id": "bb6fa3da-fc4b-42ac-8ea3-6dec68665a3c",
   "metadata": {},
   "source": [
    "# Fin: [Volver al contenido del curso](https://www.freecodingtour.com/cursos/espanol/datascience/datascience.html)"
   ]
  }
 ],
 "metadata": {
  "kernelspec": {
   "display_name": "Python 3 (ipykernel)",
   "language": "python",
   "name": "python3"
  },
  "language_info": {
   "codemirror_mode": {
    "name": "ipython",
    "version": 3
   },
   "file_extension": ".py",
   "mimetype": "text/x-python",
   "name": "python",
   "nbconvert_exporter": "python",
   "pygments_lexer": "ipython3",
   "version": "3.9.7"
  }
 },
 "nbformat": 4,
 "nbformat_minor": 5
}
