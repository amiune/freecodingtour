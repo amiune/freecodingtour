{
 "cells": [
  {
   "cell_type": "markdown",
   "id": "4701b36c-873d-4076-a078-fb5c3f4d1bad",
   "metadata": {},
   "source": [
    "# Acomodar los datos en una tabla\n",
    "\n",
    "Aqui veremos una herramienta que se llama pandas. Es una libreria de python que tiene funciones muy utiles para convertir nuestros datos en una tabla y luego trabajar con ella. Podriamos compararlos con una planilla de calculos como excel pero para millones de datos y con toda la potencia de poder trabajar con las librerias de python."
   ]
  },
  {
   "cell_type": "markdown",
   "id": "a1788854-e81f-41cf-866c-722909bea063",
   "metadata": {},
   "source": [
    "### Vamos a convertir en una tabla los datos de telefonos moviles que obtuvimos de internet\n",
    "\n",
    "- Apple iPhone 11 Pro, 256GB, Gris Espacial (Reacondicionado) 461,99€\n",
    "- APPLE iPhone 11 Pro DESBLOQUEADO - 256 GB Gris espacial 294,84 EUR\n",
    "- Apple iPhone 11 Pro 64GB Gris Espacial (Reacondicionado) 419,99€\n",
    "- Apple iPhone 11 Pro 512GB Oro (Reacondicionado) 535,00€\n",
    "- APPLE IPHONE 11 PRO 256GB BATERIA 100% + 8 ACCESORIOS DE REGALO 499,00 EUR\n",
    "- Apple iPhone 11 Pro - 256 GB Verde Medianoche (Desbloqueado) 234,92 EUR\n",
    "- Apple iPhone 11 Pro - 256 GB Desbloqueado MUY BUEN ESTADO 469,82 EUR\n",
    "- Apple iPhone 11 Pro 256GB 4G LTE - Operador Desbloqueado - Buen Estado 422,60 EUR"
   ]
  },
  {
   "cell_type": "markdown",
   "id": "3585b8db-6d10-434c-b507-5e146270fb07",
   "metadata": {},
   "source": [
    "Tambien sabemos que nuestro iphone 11 pro: es gris, tiene 256GB de memoria, no esta reacondicionado, esta desbloqueado y el estado es bueno."
   ]
  },
  {
   "cell_type": "markdown",
   "id": "a1b506c4-d856-4b62-a433-9eb993f2b602",
   "metadata": {},
   "source": [
    "Primero importamos la libreria de pandas con la palabra **import** y con la palabra **as** decimos que en adelante vamos a llamarla con el nombre abreviado **pd** que ya casi se ha convertido en un estandar porque la mayoria la llama asi pero la podriamos llamar como queramos"
   ]
  },
  {
   "cell_type": "code",
   "execution_count": 1,
   "id": "d2f080ff-c7cd-4b2c-9acd-615afcd039a9",
   "metadata": {},
   "outputs": [],
   "source": [
    "import pandas as pd"
   ]
  },
  {
   "cell_type": "markdown",
   "id": "8303d95c-116e-4d1e-a873-a836314372fb",
   "metadata": {},
   "source": [
    "Con pandas podemos crear dos tipos de variables:\n",
    "1. Un tipo de variable tabla que se llama DataFrame y contiene filas y columnas\n",
    "2. Un tipo de variable columna que se llama Series y contiene una sola columna\n",
    "\n",
    "A continuacion crearemos una tabla especificando los nombres de las columnas y los valores de sus filas:"
   ]
  },
  {
   "cell_type": "code",
   "execution_count": 2,
   "id": "651babe9-c4de-4999-878f-e333d9149802",
   "metadata": {},
   "outputs": [],
   "source": [
    "df = pd.DataFrame({\n",
    "    'Memoria': [256, 256, 64, 512, 256, 256, 256, 256],\n",
    "    'Color': ['Gris','Gris','Gris','Oro', pd.NA, 'Verde', pd.NA, pd.NA],\n",
    "    'Desbloqueado':[pd.NA, pd.NA, True, pd.NA, pd.NA, True, True, True],\n",
    "    'Estado': ['Reacondicionado',pd.NA,'Reacondicionado','Reacondicionado',pd.NA, pd.NA, 'Muy bueno', 'Bueno'],\n",
    "    'Precio': [461.99, 376.84,419.99,535.00,499.00,397.92,469.82,422.60]\n",
    "             })"
   ]
  },
  {
   "cell_type": "markdown",
   "id": "054cf652-f74d-4a06-a37a-b4e3f159f2b7",
   "metadata": {},
   "source": [
    "Vemos que donde nos faltaba el dato hemos puesto el valor **pd.NA** que es el valor que utiliza pandas para decir que ese dato falta. NA significa \"Not Available\" en ingles que es \"No Disponible\"\n",
    "\n",
    "Veamos ahora como ha quedado nuestra tabla:"
   ]
  },
  {
   "cell_type": "code",
   "execution_count": 3,
   "id": "e54842bb-c2d0-4590-ac21-872862905f25",
   "metadata": {},
   "outputs": [
    {
     "data": {
      "text/html": [
       "<div>\n",
       "<style scoped>\n",
       "    .dataframe tbody tr th:only-of-type {\n",
       "        vertical-align: middle;\n",
       "    }\n",
       "\n",
       "    .dataframe tbody tr th {\n",
       "        vertical-align: top;\n",
       "    }\n",
       "\n",
       "    .dataframe thead th {\n",
       "        text-align: right;\n",
       "    }\n",
       "</style>\n",
       "<table border=\"1\" class=\"dataframe\">\n",
       "  <thead>\n",
       "    <tr style=\"text-align: right;\">\n",
       "      <th></th>\n",
       "      <th>Memoria</th>\n",
       "      <th>Color</th>\n",
       "      <th>Desbloqueado</th>\n",
       "      <th>Estado</th>\n",
       "      <th>Precio</th>\n",
       "    </tr>\n",
       "  </thead>\n",
       "  <tbody>\n",
       "    <tr>\n",
       "      <th>0</th>\n",
       "      <td>256</td>\n",
       "      <td>Gris</td>\n",
       "      <td>&lt;NA&gt;</td>\n",
       "      <td>Reacondicionado</td>\n",
       "      <td>461.99</td>\n",
       "    </tr>\n",
       "    <tr>\n",
       "      <th>1</th>\n",
       "      <td>256</td>\n",
       "      <td>Gris</td>\n",
       "      <td>&lt;NA&gt;</td>\n",
       "      <td>&lt;NA&gt;</td>\n",
       "      <td>376.84</td>\n",
       "    </tr>\n",
       "    <tr>\n",
       "      <th>2</th>\n",
       "      <td>64</td>\n",
       "      <td>Gris</td>\n",
       "      <td>True</td>\n",
       "      <td>Reacondicionado</td>\n",
       "      <td>419.99</td>\n",
       "    </tr>\n",
       "    <tr>\n",
       "      <th>3</th>\n",
       "      <td>512</td>\n",
       "      <td>Oro</td>\n",
       "      <td>&lt;NA&gt;</td>\n",
       "      <td>Reacondicionado</td>\n",
       "      <td>535.00</td>\n",
       "    </tr>\n",
       "    <tr>\n",
       "      <th>4</th>\n",
       "      <td>256</td>\n",
       "      <td>&lt;NA&gt;</td>\n",
       "      <td>&lt;NA&gt;</td>\n",
       "      <td>&lt;NA&gt;</td>\n",
       "      <td>499.00</td>\n",
       "    </tr>\n",
       "    <tr>\n",
       "      <th>5</th>\n",
       "      <td>256</td>\n",
       "      <td>Verde</td>\n",
       "      <td>True</td>\n",
       "      <td>&lt;NA&gt;</td>\n",
       "      <td>397.92</td>\n",
       "    </tr>\n",
       "    <tr>\n",
       "      <th>6</th>\n",
       "      <td>256</td>\n",
       "      <td>&lt;NA&gt;</td>\n",
       "      <td>True</td>\n",
       "      <td>Muy bueno</td>\n",
       "      <td>469.82</td>\n",
       "    </tr>\n",
       "    <tr>\n",
       "      <th>7</th>\n",
       "      <td>256</td>\n",
       "      <td>&lt;NA&gt;</td>\n",
       "      <td>True</td>\n",
       "      <td>Bueno</td>\n",
       "      <td>422.60</td>\n",
       "    </tr>\n",
       "  </tbody>\n",
       "</table>\n",
       "</div>"
      ],
      "text/plain": [
       "   Memoria  Color Desbloqueado           Estado  Precio\n",
       "0      256   Gris         <NA>  Reacondicionado  461.99\n",
       "1      256   Gris         <NA>             <NA>  376.84\n",
       "2       64   Gris         True  Reacondicionado  419.99\n",
       "3      512    Oro         <NA>  Reacondicionado  535.00\n",
       "4      256   <NA>         <NA>             <NA>  499.00\n",
       "5      256  Verde         True             <NA>  397.92\n",
       "6      256   <NA>         True        Muy bueno  469.82\n",
       "7      256   <NA>         True            Bueno  422.60"
      ]
     },
     "execution_count": 3,
     "metadata": {},
     "output_type": "execute_result"
    }
   ],
   "source": [
    "df"
   ]
  },
  {
   "cell_type": "markdown",
   "id": "454929e2-e1de-4579-b443-4ba28935f50a",
   "metadata": {},
   "source": [
    "Tambien podemos ver cada columna utilizando el nombre de la misma:"
   ]
  },
  {
   "cell_type": "code",
   "execution_count": 4,
   "id": "760b1562-6fd7-4f27-a594-ca44907d7875",
   "metadata": {},
   "outputs": [
    {
     "data": {
      "text/plain": [
       "0     Gris\n",
       "1     Gris\n",
       "2     Gris\n",
       "3      Oro\n",
       "4     <NA>\n",
       "5    Verde\n",
       "6     <NA>\n",
       "7     <NA>\n",
       "Name: Color, dtype: object"
      ]
     },
     "execution_count": 4,
     "metadata": {},
     "output_type": "execute_result"
    }
   ],
   "source": [
    "df.Color"
   ]
  },
  {
   "cell_type": "markdown",
   "id": "99a12dc5-046d-4354-9793-cebd8637ebc2",
   "metadata": {},
   "source": [
    "### Ejercicio 1:\n",
    "    \n",
    "Mostrar los valores de la columna Precio:"
   ]
  },
  {
   "cell_type": "code",
   "execution_count": 5,
   "id": "5f0a36a4-8165-4693-94f7-aebeb1b7164b",
   "metadata": {},
   "outputs": [],
   "source": [
    "# Escribir aqui la solucion\n",
    "\n"
   ]
  },
  {
   "cell_type": "code",
   "execution_count": 6,
   "id": "3f57f73c-5958-4fc8-baae-9864edefb48f",
   "metadata": {},
   "outputs": [
    {
     "data": {
      "text/plain": [
       "0    461.99\n",
       "1    376.84\n",
       "2    419.99\n",
       "3    535.00\n",
       "4    499.00\n",
       "5    397.92\n",
       "6    469.82\n",
       "7    422.60\n",
       "Name: Precio, dtype: float64"
      ]
     },
     "execution_count": 6,
     "metadata": {},
     "output_type": "execute_result"
    }
   ],
   "source": [
    "#@title Solucion Ejercicio 1 {display-mode:\"form\"}\n",
    "\n",
    "df.Precio"
   ]
  },
  {
   "cell_type": "markdown",
   "id": "741e2556-1f9f-4c62-af63-b92f9e3ec9d8",
   "metadata": {},
   "source": [
    "Ahora reemplazaremos los valores faltantes. Los reemplazaremos por valores que creamos convenientes. Utilizaremos la funcion **fillna()** de las columnas de pandas: "
   ]
  },
  {
   "cell_type": "code",
   "execution_count": 7,
   "id": "30168e5a-783d-4b2a-9641-2ef5cf3cdefb",
   "metadata": {},
   "outputs": [],
   "source": [
    "# reemplazamos los valores faltantes de la columna Color por 'Gris'\n",
    "df.Color = df.Color.fillna('Gris')\n",
    "\n",
    "# reemplazamos los valores faltantes de la columna Desbloqueado por True\n",
    "df.Desbloqueado = df.Desbloqueado.fillna(False)"
   ]
  },
  {
   "cell_type": "code",
   "execution_count": 8,
   "id": "94f7f64c-d8d4-40e0-b03a-058e84fc6dd2",
   "metadata": {},
   "outputs": [
    {
     "data": {
      "text/html": [
       "<div>\n",
       "<style scoped>\n",
       "    .dataframe tbody tr th:only-of-type {\n",
       "        vertical-align: middle;\n",
       "    }\n",
       "\n",
       "    .dataframe tbody tr th {\n",
       "        vertical-align: top;\n",
       "    }\n",
       "\n",
       "    .dataframe thead th {\n",
       "        text-align: right;\n",
       "    }\n",
       "</style>\n",
       "<table border=\"1\" class=\"dataframe\">\n",
       "  <thead>\n",
       "    <tr style=\"text-align: right;\">\n",
       "      <th></th>\n",
       "      <th>Memoria</th>\n",
       "      <th>Color</th>\n",
       "      <th>Desbloqueado</th>\n",
       "      <th>Estado</th>\n",
       "      <th>Precio</th>\n",
       "    </tr>\n",
       "  </thead>\n",
       "  <tbody>\n",
       "    <tr>\n",
       "      <th>0</th>\n",
       "      <td>256</td>\n",
       "      <td>Gris</td>\n",
       "      <td>False</td>\n",
       "      <td>Reacondicionado</td>\n",
       "      <td>461.99</td>\n",
       "    </tr>\n",
       "    <tr>\n",
       "      <th>1</th>\n",
       "      <td>256</td>\n",
       "      <td>Gris</td>\n",
       "      <td>False</td>\n",
       "      <td>&lt;NA&gt;</td>\n",
       "      <td>376.84</td>\n",
       "    </tr>\n",
       "    <tr>\n",
       "      <th>2</th>\n",
       "      <td>64</td>\n",
       "      <td>Gris</td>\n",
       "      <td>True</td>\n",
       "      <td>Reacondicionado</td>\n",
       "      <td>419.99</td>\n",
       "    </tr>\n",
       "    <tr>\n",
       "      <th>3</th>\n",
       "      <td>512</td>\n",
       "      <td>Oro</td>\n",
       "      <td>False</td>\n",
       "      <td>Reacondicionado</td>\n",
       "      <td>535.00</td>\n",
       "    </tr>\n",
       "    <tr>\n",
       "      <th>4</th>\n",
       "      <td>256</td>\n",
       "      <td>Gris</td>\n",
       "      <td>False</td>\n",
       "      <td>&lt;NA&gt;</td>\n",
       "      <td>499.00</td>\n",
       "    </tr>\n",
       "    <tr>\n",
       "      <th>5</th>\n",
       "      <td>256</td>\n",
       "      <td>Verde</td>\n",
       "      <td>True</td>\n",
       "      <td>&lt;NA&gt;</td>\n",
       "      <td>397.92</td>\n",
       "    </tr>\n",
       "    <tr>\n",
       "      <th>6</th>\n",
       "      <td>256</td>\n",
       "      <td>Gris</td>\n",
       "      <td>True</td>\n",
       "      <td>Muy bueno</td>\n",
       "      <td>469.82</td>\n",
       "    </tr>\n",
       "    <tr>\n",
       "      <th>7</th>\n",
       "      <td>256</td>\n",
       "      <td>Gris</td>\n",
       "      <td>True</td>\n",
       "      <td>Bueno</td>\n",
       "      <td>422.60</td>\n",
       "    </tr>\n",
       "  </tbody>\n",
       "</table>\n",
       "</div>"
      ],
      "text/plain": [
       "   Memoria  Color  Desbloqueado           Estado  Precio\n",
       "0      256   Gris         False  Reacondicionado  461.99\n",
       "1      256   Gris         False             <NA>  376.84\n",
       "2       64   Gris          True  Reacondicionado  419.99\n",
       "3      512    Oro         False  Reacondicionado  535.00\n",
       "4      256   Gris         False             <NA>  499.00\n",
       "5      256  Verde          True             <NA>  397.92\n",
       "6      256   Gris          True        Muy bueno  469.82\n",
       "7      256   Gris          True            Bueno  422.60"
      ]
     },
     "execution_count": 8,
     "metadata": {},
     "output_type": "execute_result"
    }
   ],
   "source": [
    "df"
   ]
  },
  {
   "cell_type": "markdown",
   "id": "4055d7d0-a267-40c2-901c-d5c3c75016f8",
   "metadata": {},
   "source": [
    "### Ejercicio 2:\n",
    "    \n",
    "Reemplazar los valores faltantes de la columna Estado por 'Bueno':"
   ]
  },
  {
   "cell_type": "code",
   "execution_count": 9,
   "id": "528fbeef-1cda-4123-a582-36de1eefe19d",
   "metadata": {},
   "outputs": [],
   "source": [
    "# Escribir aqui la solucion\n",
    "\n"
   ]
  },
  {
   "cell_type": "code",
   "execution_count": 10,
   "id": "6f6f2d09-33b1-49ba-a7c8-d03cc99b4170",
   "metadata": {},
   "outputs": [],
   "source": [
    "#@title Solucion Ejercicio 2 {display-mode:\"form\"}\n",
    "\n",
    "# reemplazamos los valores faltantes de la columna Estado por 'Bueno'\n",
    "df.Estado = df.Estado.fillna('Bueno')"
   ]
  },
  {
   "cell_type": "code",
   "execution_count": 11,
   "id": "b2f0f9fc-aabc-4a26-bc77-27735b4f2d68",
   "metadata": {},
   "outputs": [
    {
     "data": {
      "text/html": [
       "<div>\n",
       "<style scoped>\n",
       "    .dataframe tbody tr th:only-of-type {\n",
       "        vertical-align: middle;\n",
       "    }\n",
       "\n",
       "    .dataframe tbody tr th {\n",
       "        vertical-align: top;\n",
       "    }\n",
       "\n",
       "    .dataframe thead th {\n",
       "        text-align: right;\n",
       "    }\n",
       "</style>\n",
       "<table border=\"1\" class=\"dataframe\">\n",
       "  <thead>\n",
       "    <tr style=\"text-align: right;\">\n",
       "      <th></th>\n",
       "      <th>Memoria</th>\n",
       "      <th>Color</th>\n",
       "      <th>Desbloqueado</th>\n",
       "      <th>Estado</th>\n",
       "      <th>Precio</th>\n",
       "    </tr>\n",
       "  </thead>\n",
       "  <tbody>\n",
       "    <tr>\n",
       "      <th>0</th>\n",
       "      <td>256</td>\n",
       "      <td>Gris</td>\n",
       "      <td>False</td>\n",
       "      <td>Reacondicionado</td>\n",
       "      <td>461.99</td>\n",
       "    </tr>\n",
       "    <tr>\n",
       "      <th>1</th>\n",
       "      <td>256</td>\n",
       "      <td>Gris</td>\n",
       "      <td>False</td>\n",
       "      <td>Bueno</td>\n",
       "      <td>376.84</td>\n",
       "    </tr>\n",
       "    <tr>\n",
       "      <th>2</th>\n",
       "      <td>64</td>\n",
       "      <td>Gris</td>\n",
       "      <td>True</td>\n",
       "      <td>Reacondicionado</td>\n",
       "      <td>419.99</td>\n",
       "    </tr>\n",
       "    <tr>\n",
       "      <th>3</th>\n",
       "      <td>512</td>\n",
       "      <td>Oro</td>\n",
       "      <td>False</td>\n",
       "      <td>Reacondicionado</td>\n",
       "      <td>535.00</td>\n",
       "    </tr>\n",
       "    <tr>\n",
       "      <th>4</th>\n",
       "      <td>256</td>\n",
       "      <td>Gris</td>\n",
       "      <td>False</td>\n",
       "      <td>Bueno</td>\n",
       "      <td>499.00</td>\n",
       "    </tr>\n",
       "    <tr>\n",
       "      <th>5</th>\n",
       "      <td>256</td>\n",
       "      <td>Verde</td>\n",
       "      <td>True</td>\n",
       "      <td>Bueno</td>\n",
       "      <td>397.92</td>\n",
       "    </tr>\n",
       "    <tr>\n",
       "      <th>6</th>\n",
       "      <td>256</td>\n",
       "      <td>Gris</td>\n",
       "      <td>True</td>\n",
       "      <td>Muy bueno</td>\n",
       "      <td>469.82</td>\n",
       "    </tr>\n",
       "    <tr>\n",
       "      <th>7</th>\n",
       "      <td>256</td>\n",
       "      <td>Gris</td>\n",
       "      <td>True</td>\n",
       "      <td>Bueno</td>\n",
       "      <td>422.60</td>\n",
       "    </tr>\n",
       "  </tbody>\n",
       "</table>\n",
       "</div>"
      ],
      "text/plain": [
       "   Memoria  Color  Desbloqueado           Estado  Precio\n",
       "0      256   Gris         False  Reacondicionado  461.99\n",
       "1      256   Gris         False            Bueno  376.84\n",
       "2       64   Gris          True  Reacondicionado  419.99\n",
       "3      512    Oro         False  Reacondicionado  535.00\n",
       "4      256   Gris         False            Bueno  499.00\n",
       "5      256  Verde          True            Bueno  397.92\n",
       "6      256   Gris          True        Muy bueno  469.82\n",
       "7      256   Gris          True            Bueno  422.60"
      ]
     },
     "execution_count": 11,
     "metadata": {},
     "output_type": "execute_result"
    }
   ],
   "source": [
    "df"
   ]
  },
  {
   "cell_type": "markdown",
   "id": "fabcbcce-f449-488d-8d26-f8438cd9f004",
   "metadata": {},
   "source": [
    "Ahora que ya tenemos la tabla completa el proximo paso es convertir todos los datos de cada columna a numeros. Esto lo veremos en la unidad siguiente pero antes de eso guardaremos nuestra tabla completa en un archivo de texto separado por comas:"
   ]
  },
  {
   "cell_type": "code",
   "execution_count": 12,
   "id": "9c445e76-2170-4dba-86ae-fba8c6ba1339",
   "metadata": {},
   "outputs": [],
   "source": [
    "df.to_csv(\"tabla_telefonos.csv\", index=False)"
   ]
  },
  {
   "cell_type": "markdown",
   "id": "d77ac5eb-c4be-4065-a7f4-70396bc37e39",
   "metadata": {},
   "source": [
    "# Fin: [Volver al contenido del curso](https://www.freecodingtour.com/cursos/espanol/datascience/datascience.html)"
   ]
  }
 ],
 "metadata": {
  "kernelspec": {
   "display_name": "Python 3 (ipykernel)",
   "language": "python",
   "name": "python3"
  },
  "language_info": {
   "codemirror_mode": {
    "name": "ipython",
    "version": 3
   },
   "file_extension": ".py",
   "mimetype": "text/x-python",
   "name": "python",
   "nbconvert_exporter": "python",
   "pygments_lexer": "ipython3",
   "version": "3.9.7"
  }
 },
 "nbformat": 4,
 "nbformat_minor": 5
}
