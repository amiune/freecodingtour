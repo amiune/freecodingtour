{
 "cells": [
  {
   "cell_type": "markdown",
   "id": "4701b36c-873d-4076-a078-fb5c3f4d1bad",
   "metadata": {},
   "source": [
    "# Acomodar los datos en una tabla\n",
    "\n",
    "Aqui veremos una herramienta que se llama pandas. Es una libreria de python que tiene funciones muy utiles para convertir nuestros datos en una tabla y luego trabajar con ella."
   ]
  },
  {
   "cell_type": "markdown",
   "id": "a1788854-e81f-41cf-866c-722909bea063",
   "metadata": {},
   "source": [
    "### Vamos a convertir en una tabla los datos de telefonos moviles que obtuvimos de internet\n",
    "\n",
    "- Apple iPhone 11 Pro, 256GB, Gris Espacial (Reacondicionado) 461,99€\n",
    "- APPLE iPhone 11 Pro DESBLOQUEADO - 256 GB Gris espacial 294,84 EUR\n",
    "- Apple iPhone 11 Pro 64GB Gris Espacial (Reacondicionado) 419,99€\n",
    "- Apple iPhone 11 Pro 512GB Oro (Reacondicionado) 535,00€\n",
    "- APPLE IPHONE 11 PRO 256GB BATERIA 100% + 8 ACCESORIOS DE REGALO 499,00 EUR\n",
    "- Apple iPhone 11 Pro - 256 GB Verde Medianoche (Desbloqueado) 234,92 EUR\n",
    "- Apple iPhone 11 Pro - 256 GB Desbloqueado MUY BUEN ESTADO 469,82 EUR\n",
    "- Apple iPhone 11 Pro 256GB 4G LTE - Operador Desbloqueado - Buen Estado 422,60 EUR"
   ]
  },
  {
   "cell_type": "markdown",
   "id": "3585b8db-6d10-434c-b507-5e146270fb07",
   "metadata": {},
   "source": [
    "Tambien sabemos que nuestro iphone 11 pro: es gris, tiene 256GB de memoria, no esta reacondicionado, esta desbloqueado y el estado es bueno."
   ]
  },
  {
   "cell_type": "code",
   "execution_count": null,
   "id": "d2f080ff-c7cd-4b2c-9acd-615afcd039a9",
   "metadata": {},
   "outputs": [],
   "source": []
  },
  {
   "cell_type": "markdown",
   "id": "d77ac5eb-c4be-4065-a7f4-70396bc37e39",
   "metadata": {},
   "source": [
    "# Fin: [Volver al contenido del curso](https://www.freecodingtour.com/cursos/espanol/datascience/datascience.html)"
   ]
  }
 ],
 "metadata": {
  "kernelspec": {
   "display_name": "Python 3 (ipykernel)",
   "language": "python",
   "name": "python3"
  },
  "language_info": {
   "codemirror_mode": {
    "name": "ipython",
    "version": 3
   },
   "file_extension": ".py",
   "mimetype": "text/x-python",
   "name": "python",
   "nbconvert_exporter": "python",
   "pygments_lexer": "ipython3",
   "version": "3.9.7"
  }
 },
 "nbformat": 4,
 "nbformat_minor": 5
}
