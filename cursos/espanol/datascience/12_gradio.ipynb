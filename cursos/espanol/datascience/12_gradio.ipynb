{
 "cells": [
  {
   "cell_type": "markdown",
   "id": "d9470ac8-092d-48ec-b597-d0fcf2788709",
   "metadata": {},
   "source": [
    "# Gradio\n",
    "\n",
    "Aqui veremos como utilizar la libreria Gradio para poder crear una App para que otros puedan acceder a nuestros programas de Machine Learning mediante una pagina web."
   ]
  },
  {
   "cell_type": "code",
   "execution_count": null,
   "id": "0d7d151f-3384-4fdb-a67a-f2d0ba902764",
   "metadata": {},
   "outputs": [],
   "source": [
    "!pip install gradio -q -U"
   ]
  },
  {
   "cell_type": "code",
   "execution_count": null,
   "id": "ae0a1cbe-8ef5-4946-b891-0ca5d14c5390",
   "metadata": {},
   "outputs": [],
   "source": [
    "import gradio as gr"
   ]
  },
  {
   "cell_type": "markdown",
   "id": "07691bbb-2282-4256-8330-ce6ef5612f12",
   "metadata": {},
   "source": [
    "## Ejemplo simple"
   ]
  },
  {
   "cell_type": "code",
   "execution_count": null,
   "id": "07dd1d58-9bda-47f0-9384-c04c5f7509dc",
   "metadata": {},
   "outputs": [],
   "source": [
    "def saludo(nombre, intensidad):\n",
    "    return \"Hola, \" + nombre + \"!\" * int(intensidad)"
   ]
  },
  {
   "cell_type": "code",
   "execution_count": null,
   "id": "1fe65e54-120b-4543-95fa-df7ff324e345",
   "metadata": {},
   "outputs": [],
   "source": [
    "demo = gr.Interface(\n",
    "    fn=saludo,\n",
    "    inputs=[\"text\", \"slider\"],\n",
    "    outputs=[\"text\"],\n",
    "    allow_flagging='never'\n",
    ")\n",
    "demo.launch(share=True)"
   ]
  },
  {
   "cell_type": "markdown",
   "id": "68c5813b-6e44-4836-9126-6c06d1418496",
   "metadata": {},
   "source": [
    "## Componentes\n",
    "\n",
    "Los componentes pueden usarse como inputs y outputs\n",
    "\n",
    "https://www.gradio.app/docs/gradio/introduction\n",
    "\n",
    "Veamos ahora como utilizar uno de ellos, el [Textbox](https://www.gradio.app/docs/textbox):"
   ]
  },
  {
   "cell_type": "code",
   "execution_count": null,
   "id": "1a510a6d-2974-4d74-9d08-700df4c78f36",
   "metadata": {},
   "outputs": [],
   "source": [
    "mi_input = gr.Textbox(label=\"Nombre\", placeholder=\"Cual es tu nombre?\")\n",
    "mi_output = gr.Textbox(label=\"Salida\", lines=10)"
   ]
  },
  {
   "cell_type": "code",
   "execution_count": null,
   "id": "dca7311f-402b-43b5-8fce-868053d68684",
   "metadata": {},
   "outputs": [],
   "source": [
    "demo = gr.Interface(\n",
    "    fn=saludo,\n",
    "    inputs=[mi_input, \"slider\"],\n",
    "    outputs=[mi_output],\n",
    "    allow_flagging='never'\n",
    ")\n",
    "demo.launch(share=True)"
   ]
  },
  {
   "cell_type": "markdown",
   "id": "541fc097-9fea-4f5e-b631-5b95d7197603",
   "metadata": {},
   "source": [
    "### Ejercicio 1: \n",
    "\n",
    "Personalizar el slider para que tenga un valor de 10 por defecto y su label sea \"Intensidad!!\""
   ]
  },
  {
   "cell_type": "code",
   "execution_count": null,
   "id": "2a85687b-8abb-4b8e-b6c3-a8e12aa6874a",
   "metadata": {},
   "outputs": [],
   "source": [
    "# Escribir aqui la solucion\n",
    "\n"
   ]
  },
  {
   "cell_type": "code",
   "execution_count": null,
   "id": "5a9b1af5-be1e-495d-b76b-f193dd765ecc",
   "metadata": {},
   "outputs": [],
   "source": [
    "#@title Solucion Ejercicio 1: {display-mode:\"form\"}\n",
    "\n",
    "mi_slider = gr.Slider(label=\"Intensidad!!\",value=10)\n",
    "demo = gr.Interface(\n",
    "    fn=saludo,\n",
    "    inputs=[mi_input, mi_slider],\n",
    "    outputs=[mi_output],\n",
    "    allow_flagging='never'\n",
    ")\n",
    "demo.launch(share=True)"
   ]
  },
  {
   "cell_type": "markdown",
   "id": "01bef726-00cf-48c7-900a-54f505d3daea",
   "metadata": {},
   "source": [
    "## Personalizar la interfaz con Blocks\n",
    "\n",
    "Un Block (bloque) puede tener filas, columnas, pestañas, grupos y acordiones. Esto permite crear nuestra propia interfaz personalizada.\n",
    "\n",
    "https://www.gradio.app/docs/blocks"
   ]
  },
  {
   "cell_type": "code",
   "execution_count": null,
   "id": "11dcc41b-5542-4c6a-a561-b65daa4cd354",
   "metadata": {},
   "outputs": [],
   "source": [
    "import pandas as pd\n",
    "URL = \"https://docs.google.com/spreadsheets/d/1UOJpVKe34vsgSLPHPA9mBxMhb6kWp7Be1pgjO3jaJO4/export?format=csv\"\n",
    "def get_data():\n",
    "    return pd.read_csv(URL)\n",
    "\n",
    "def update(year):\n",
    "    df = get_data()\n",
    "    ventas = df[df.Fecha == int(year)].Ventas.values[0]\n",
    "    return f\"Las ventas para {year} fueron: {ventas}\""
   ]
  },
  {
   "cell_type": "code",
   "execution_count": null,
   "id": "74d8cef6-ef64-40e9-8e70-2429973d15c5",
   "metadata": {},
   "outputs": [],
   "source": [
    "with gr.Blocks() as demo:\n",
    "    with gr.Row():\n",
    "        with gr.Column(scale=1):\n",
    "            mi_input = gr.Textbox()\n",
    "            btn = gr.Button(\"Buscar\")\n",
    "            mi_output = gr.Textbox()\n",
    "        with gr.Column(scale=4):\n",
    "            gr.DataFrame(get_data)\n",
    "    btn.click(fn=update, inputs=mi_input, outputs=mi_output)\n",
    "    \n",
    "demo.launch(share=True)"
   ]
  },
  {
   "cell_type": "markdown",
   "id": "197ddb6d-4be2-4459-8d86-865b33e9f33e",
   "metadata": {},
   "source": [
    "## Graficos\n",
    "\n",
    "Gradio tambien nos permite crear graficos como [scaterplots](https://www.gradio.app/docs/scatterplot), de [barras](https://www.gradio.app/docs/barplot), de [lineas](https://www.gradio.app/docs/lineplot) y mas:\n",
    "\n",
    "https://www.gradio.app/docs/plot"
   ]
  },
  {
   "cell_type": "code",
   "execution_count": null,
   "id": "adb465e6-2bc2-4f6b-8eda-5030020d4674",
   "metadata": {},
   "outputs": [],
   "source": [
    "URL = \"https://docs.google.com/spreadsheets/d/1UOJpVKe34vsgSLPHPA9mBxMhb6kWp7Be1pgjO3jaJO4/export?format=csv\"\n",
    "\n",
    "def get_data():\n",
    "    return pd.read_csv(URL)\n",
    "\n",
    "with gr.Blocks() as demo:\n",
    "    gr.Markdown(\"# 📈 Grafico de lineas en tiempo real!\")\n",
    "    with gr.Row():\n",
    "        gr.LinePlot(get_data, every=5, \n",
    "                    x=\"Fecha\", y=\"Ventas\", \n",
    "                    y_title=\"Ventas ($ millones)\", \n",
    "                    overlay_point=True, \n",
    "                    width=300, height=300)\n",
    "\n",
    "demo.launch(share=True)"
   ]
  },
  {
   "cell_type": "markdown",
   "id": "c63efd06-21fb-4161-b3cc-240aa01d2fe5",
   "metadata": {},
   "source": [
    "# Como hacer que nuestra app funcione permanentemente con HuggingFace Spaces\n",
    "\n",
    "Crear nuestro gradio Space en:\n",
    "https://huggingface.co/spaces\n",
    "\n",
    "Pegar el codigo de nuestra app en un archivo app.py:\n",
    "```python\n",
    "# importamos gradio\n",
    "import gradio as gr\n",
    "\n",
    "# funcion para procesamiento de los datos\n",
    "def saludo(nombre, intensidad):\n",
    "    return \"Hola, \" + nombre + \"!\" * int(intensidad)\n",
    "\n",
    "# interfaz\n",
    "demo = gr.Interface(\n",
    "    fn=saludo,\n",
    "    inputs=[\"text\", \"slider\"],\n",
    "    outputs=[\"text\"],\n",
    "    allow_flagging='never'\n",
    ")\n",
    "\n",
    "# inicio de la app\n",
    "demo.launch()\n",
    "```\n",
    "El codigo debe contener cuatro partes esenciales:\n",
    "- El import de gradio\n",
    "- La funcion con nuestro procesamiento que convierte los datos de entrada en una salida\n",
    "- La interfaz que queremos mostrar al usuario final\n",
    "- inicio de la app\n",
    "\n",
    "Una vez que hagamos commit nuestra app estara disponible en:\n",
    "https://nombredeusuario-nombredelspace.hf.space/"
   ]
  },
  {
   "cell_type": "code",
   "execution_count": null,
   "id": "5c8c8da3-3cf8-416b-8a8b-b256df323616",
   "metadata": {},
   "outputs": [],
   "source": []
  }
 ],
 "metadata": {
  "kernelspec": {
   "display_name": "Python 3 (ipykernel)",
   "language": "python",
   "name": "python3"
  },
  "language_info": {
   "codemirror_mode": {
    "name": "ipython",
    "version": 3
   },
   "file_extension": ".py",
   "mimetype": "text/x-python",
   "name": "python",
   "nbconvert_exporter": "python",
   "pygments_lexer": "ipython3",
   "version": "3.9.18"
  }
 },
 "nbformat": 4,
 "nbformat_minor": 5
}
