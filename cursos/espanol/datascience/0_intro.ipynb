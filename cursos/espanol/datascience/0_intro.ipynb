{
 "cells": [
  {
   "cell_type": "markdown",
   "id": "4701b36c-873d-4076-a078-fb5c3f4d1bad",
   "metadata": {},
   "source": [
    "# Ciencia de Datos\n",
    "\n",
    "En este curso veremos las herramientas creadas por la Ciencia de Datos que nos permiten obtener predicciones e informacion util a partir de una cantidad de datos que podemos recopilar de internet u otras fuentes de datos."
   ]
  },
  {
   "cell_type": "markdown",
   "id": "c1a1334a-57dd-405f-af02-dfc8c0003a2b",
   "metadata": {},
   "source": [
    "## Comencemos con un ejemplo\n",
    "\n",
    "Supongamos que queremos vender nuestro telefono mobil pero no sabemos a que precio venderlo. \n",
    "\n",
    "**Como podemos hacer para poner un precio adecuado a nuestro telefono?**\n",
    "\n",
    "Lo mas comun seria hacer lo siguiente:\n",
    "1. Ver el modelo de mi telefono\n",
    "2. Buscar telefonos similares en algun sitio web que venda telefonos usados\n",
    "3. Compara cual o cuales son los mas parecidos al mio y calcular el precio de acuerdo a los precios de estos"
   ]
  },
  {
   "cell_type": "markdown",
   "id": "03c97ad5-1d5d-4bf8-9c02-bc625f0a32fc",
   "metadata": {},
   "source": [
    "## Hagamos el ejemplo paso a paso"
   ]
  },
  {
   "cell_type": "code",
   "execution_count": null,
   "id": "a538df31-043a-47f7-998c-b5ef81a2f0f9",
   "metadata": {},
   "outputs": [],
   "source": []
  }
 ],
 "metadata": {
  "kernelspec": {
   "display_name": "Python 3 (ipykernel)",
   "language": "python",
   "name": "python3"
  },
  "language_info": {
   "codemirror_mode": {
    "name": "ipython",
    "version": 3
   },
   "file_extension": ".py",
   "mimetype": "text/x-python",
   "name": "python",
   "nbconvert_exporter": "python",
   "pygments_lexer": "ipython3",
   "version": "3.9.7"
  }
 },
 "nbformat": 4,
 "nbformat_minor": 5
}
