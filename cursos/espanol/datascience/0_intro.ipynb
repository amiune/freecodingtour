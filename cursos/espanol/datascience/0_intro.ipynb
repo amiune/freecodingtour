{
 "cells": [
  {
   "cell_type": "markdown",
   "id": "4701b36c-873d-4076-a078-fb5c3f4d1bad",
   "metadata": {},
   "source": [
    "# Ciencia de Datos\n",
    "\n",
    "En este curso veremos las herramientas creadas por la Ciencia de Datos que nos permiten obtener predicciones e informacion util a partir de una cantidad de datos que podemos recopilar de internet u otras fuentes de datos."
   ]
  },
  {
   "cell_type": "markdown",
   "id": "c1a1334a-57dd-405f-af02-dfc8c0003a2b",
   "metadata": {},
   "source": [
    "## Comencemos con un ejemplo\n",
    "\n",
    "Supongamos que queremos vender nuestro telefono movil pero no sabemos a que precio venderlo. \n",
    "\n",
    "**Como podemos hacer para poner un precio adecuado a nuestro telefono?**\n",
    "\n",
    "Lo mas comun seria hacer lo siguiente:\n",
    "1. Ver el modelo de mi telefono\n",
    "2. Buscar telefonos similares en algun sitio web que venda telefonos usados\n",
    "3. Compara cual o cuales son los mas parecidos al mio y calcular el precio de acuerdo a los precios de estos"
   ]
  },
  {
   "cell_type": "markdown",
   "id": "03c97ad5-1d5d-4bf8-9c02-bc625f0a32fc",
   "metadata": {},
   "source": [
    "## Hagamos el ejemplo paso a paso\n",
    "\n",
    "Supongamos que nuestro telefono es un **iphone 11 pro** entonces ya tenemos resuelto el paso uno"
   ]
  },
  {
   "cell_type": "markdown",
   "id": "a1788854-e81f-41cf-866c-722909bea063",
   "metadata": {},
   "source": [
    "### Ahora busquemos precios de modelos similares en internet\n",
    "\n",
    "Buscando en diferentes paginas web encontramos lo siguiente: \n",
    "\n",
    "- Apple iPhone 11 Pro, 256GB, Gris Espacial (Reacondicionado) 461,99€\n",
    "- APPLE iPhone 11 Pro DESBLOQUEADO - 256 GB Gris espacial 294,84 EUR\n",
    "- Apple iPhone 11 Pro 64GB Gris Espacial (Reacondicionado) 419,99€\n",
    "- Apple iPhone 11 Pro 512GB Oro (Reacondicionado) 535,00€\n",
    "- APPLE IPHONE 11 PRO 256GB BATERIA 100% + 8 ACCESORIOS DE REGALO 499,00 EUR\n",
    "- Apple iPhone 11 Pro - 256 GB Verde Medianoche (Desbloqueado) 234,92 EUR\n",
    "- Apple iPhone 11 Pro - 256 GB Desbloqueado MUY BUEN ESTADO 469,82 EUR\n",
    "- Apple iPhone 11 Pro 256GB 4G LTE - Operador Desbloqueado - Buen Estado 422,60 EUR"
   ]
  },
  {
   "cell_type": "markdown",
   "id": "76ac67a9-8fde-4dcd-af83-ed2a70e63a49",
   "metadata": {},
   "source": [
    "Parece haber datos que nos faltan de conocer de nuestro modelo:\n",
    "1. Los GB de memoria\n",
    "2. Esta reacondicionado?\n",
    "3. Color?\n",
    "4. Estado?\n",
    "5. Desbloqueado?"
   ]
  },
  {
   "cell_type": "markdown",
   "id": "3585b8db-6d10-434c-b507-5e146270fb07",
   "metadata": {},
   "source": [
    "Vemos mas en detalle nuestro telefono y es gris, tiene 256GB de memoria, no esta reacondicionado, esta desbloqueado y el estado es bueno."
   ]
  },
  {
   "cell_type": "markdown",
   "id": "2936dd97-8298-495f-ba9e-d656f5f79cfb",
   "metadata": {},
   "source": [
    "Ahora si podemos comparar mejor."
   ]
  },
  {
   "cell_type": "markdown",
   "id": "edcdbc0a-9e72-4cc5-9578-d498ce08be98",
   "metadata": {},
   "source": [
    "### Ejercicio\n",
    "\n",
    "Decir cual seria el mejor precio para ponerle a nuestro telefono y explicar como se llego a esa conclusion."
   ]
  },
  {
   "cell_type": "code",
   "execution_count": null,
   "id": "d2f080ff-c7cd-4b2c-9acd-615afcd039a9",
   "metadata": {},
   "outputs": [],
   "source": []
  },
  {
   "cell_type": "markdown",
   "id": "099a3659-8475-4a91-9163-994643564285",
   "metadata": {},
   "source": [
    "## La ciencia de datos nos permite automatizar todo este proceso y realizarlo cuando la cantidad de datos son millones.\n",
    "\n",
    "Algunos ejemplos del uso de la ciencia de datos que podemos ver hoy son:\n",
    "- Adivinar el costo final de una casa\n",
    "- Adivinar si a alguien le va a gustar una pelicula o no\n",
    "- Adivinar si alguien va a devolver un credito o no\n",
    "- Adivinar cuanto gastara el próximo mes una persona\n",
    "- Adivinar cuantos viajes hara un taxi en su horario de trabajo\n",
    "- Adivinar la palabra que falta en un texto examen ingles\n",
    "- Adivinar sobre que tema habla un texto\n",
    "- Adivinar si una compra con tarjeta de credito es fraude\n",
    "- Adivinar la edad de una persona\n",
    "- Adivinar si el semaforo esta rojo o verde\n",
    "- Adivinar si a alguien le va a gustar un producto o no\n",
    "- ...\n",
    "\n",
    "**En las siguientes unidades veremos como implementarlo paso a paso**"
   ]
  },
  {
   "cell_type": "markdown",
   "id": "d77ac5eb-c4be-4065-a7f4-70396bc37e39",
   "metadata": {},
   "source": [
    "# Fin: [Volver al contenido del curso](https://www.freecodingtour.com/cursos/espanol/datascience/datascience.html)"
   ]
  }
 ],
 "metadata": {
  "kernelspec": {
   "display_name": "Python 3 (ipykernel)",
   "language": "python",
   "name": "python3"
  },
  "language_info": {
   "codemirror_mode": {
    "name": "ipython",
    "version": 3
   },
   "file_extension": ".py",
   "mimetype": "text/x-python",
   "name": "python",
   "nbconvert_exporter": "python",
   "pygments_lexer": "ipython3",
   "version": "3.9.7"
  }
 },
 "nbformat": 4,
 "nbformat_minor": 5
}
