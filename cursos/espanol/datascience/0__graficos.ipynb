{
 "cells": [
  {
   "cell_type": "markdown",
   "id": "4212637a-497e-4925-bd2c-4c7642c87cea",
   "metadata": {},
   "source": [
    "Temperatura del aire a 2 metros del suelo desde 1940 hasta 2024\n",
    "- https://climatereanalyzer.org/clim/t2_daily/?dm_id=world\n",
    "- https://cds.climate.copernicus.eu/cdsapp#!/dataset/reanalysis-era5-single-levels-monthly-means?tab=form\n",
    "Copiar el grafico"
   ]
  },
  {
   "cell_type": "markdown",
   "id": "b9a42c24-2d2c-474f-a86a-59f00b32ba5a",
   "metadata": {},
   "source": [
    "Expectativa de vida vs Gasto en salud.\n",
    "- https://ourworldindata.org/grapher/life-expectancy-vs-health-expenditure?time=earliest\n",
    "Hacer un grafico que muestre la evolucion de españa o tu pais de eleccion vs el resto"
   ]
  },
  {
   "cell_type": "code",
   "execution_count": null,
   "id": "23bf6c66-f743-40f5-8b13-c498e57132af",
   "metadata": {},
   "outputs": [],
   "source": []
  }
 ],
 "metadata": {
  "kernelspec": {
   "display_name": "base",
   "language": "python",
   "name": "base"
  },
  "language_info": {
   "codemirror_mode": {
    "name": "ipython",
    "version": 3
   },
   "file_extension": ".py",
   "mimetype": "text/x-python",
   "name": "python",
   "nbconvert_exporter": "python",
   "pygments_lexer": "ipython3",
   "version": "3.9.7"
  }
 },
 "nbformat": 4,
 "nbformat_minor": 5
}
