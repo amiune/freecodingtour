{
 "cells": [
  {
   "cell_type": "markdown",
   "id": "83ace56d-713d-496b-85ce-da6ad05d33a6",
   "metadata": {},
   "source": [
    "# Practico Graficos"
   ]
  },
  {
   "cell_type": "markdown",
   "id": "4212637a-497e-4925-bd2c-4c7642c87cea",
   "metadata": {},
   "source": [
    "## Ejercicio 1: Temperatura del aire a 2 metros del suelo desde 1940 hasta 2024\n",
    "Copiar exactamente el siguiente grafico\n",
    "- https://climatereanalyzer.org/clim/t2_daily/?dm_id=world\n",
    "Descargar los datos del sitio web a continuacion:\n",
    "- https://cds.climate.copernicus.eu/cdsapp#!/dataset/reanalysis-era5-single-levels-monthly-means?tab=form"
   ]
  },
  {
   "cell_type": "markdown",
   "id": "2bf60571-0a8b-408c-a303-3b87ea5e1445",
   "metadata": {},
   "source": [
    "## Ejercicio 2: mostrar los valores faltantes de un dataframe de pandas tal como indica la figura\n",
    "\n",
    "![Missing Values](./img/missing_values.png)\n",
    "\n",
    "Descargar los datos utilizando el siguiente codigo:\n",
    "```\n",
    "df = pd.read_csv('https://raw.githubusercontent.com/amiune/freecodingtour/main/cursos/espanol/datascience/data/diabetes/diabetes_train_info.csv')\n",
    "```"
   ]
  },
  {
   "cell_type": "code",
   "execution_count": null,
   "id": "33c73f68-ab69-4ec6-b8e7-574b9e592020",
   "metadata": {},
   "outputs": [],
   "source": []
  }
 ],
 "metadata": {
  "kernelspec": {
   "display_name": "base2",
   "language": "python",
   "name": "base2"
  },
  "language_info": {
   "codemirror_mode": {
    "name": "ipython",
    "version": 3
   },
   "file_extension": ".py",
   "mimetype": "text/x-python",
   "name": "python",
   "nbconvert_exporter": "python",
   "pygments_lexer": "ipython3",
   "version": "3.11.8"
  }
 },
 "nbformat": 4,
 "nbformat_minor": 5
}
