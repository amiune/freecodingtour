{
 "cells": [
  {
   "cell_type": "markdown",
   "id": "d03197b4-3df2-4632-b7f7-3a92c78cfafa",
   "metadata": {},
   "source": [
    "# Interpretando los Resultados de la Caja Negra"
   ]
  },
  {
   "cell_type": "markdown",
   "id": "490c074b-15d6-44d4-985f-e70b8830cce7",
   "metadata": {},
   "source": [
    "Una vez que hemos entrenado una caja negra para hacer predicciones podemos querer saber mas a cerca de como esta caja negra toma esas decisiones aun sin entender completamente que es lo que sucede dentro de ella. Para ello veremos varias tecnicas que nos pueden ayudar a interpretar los resultados."
   ]
  },
  {
   "cell_type": "markdown",
   "id": "6bf8f232-76c6-4835-ad50-ad680c7c4ce1",
   "metadata": {},
   "source": [
    "## Tecnicas de Caja Negra\n",
    "\n",
    "Estas tecnicas sirven para interpretar los resultados aun sin entender absolutamente nada de lo que pasa adentro de las cajas negras ni cual fue el algoritmo utilizado para entrenarlas."
   ]
  },
  {
   "cell_type": "code",
   "execution_count": null,
   "id": "127f0879-7719-46ff-b807-12ab219a4dee",
   "metadata": {},
   "outputs": [],
   "source": []
  },
  {
   "cell_type": "markdown",
   "id": "01a7f7b4-bde2-40b5-85f2-5be3fcb730b1",
   "metadata": {},
   "source": [
    "## Tecnicas de Analisis de Modelos Simples\n",
    "\n",
    "Aqui veremos como analizar los resultados de cajas negras generadas con los siguientes algoritmos:\n",
    "- Regresion Lineal\n",
    "- Arbol de Decision"
   ]
  },
  {
   "cell_type": "code",
   "execution_count": null,
   "id": "45b2c8bf-5f7a-4bef-b334-82d8c486f4b4",
   "metadata": {},
   "outputs": [],
   "source": []
  },
  {
   "cell_type": "markdown",
   "id": "ac465585-0f18-4398-9c99-417326220f80",
   "metadata": {},
   "source": [
    "## Referencias:\n",
    "\n",
    "  - [Sklearn Inspection](https://scikit-learn.org/stable/modules/classes.html#module-sklearn.inspection)\n",
    "  - [Shap](https://shap.readthedocs.io/en/latest/index.html)\n",
    "  - [imodels](https://github.com/csinva/imodels)"
   ]
  },
  {
   "cell_type": "code",
   "execution_count": null,
   "id": "d5d3256a-0ed3-41b4-98d1-a59f037c9fd5",
   "metadata": {},
   "outputs": [],
   "source": []
  }
 ],
 "metadata": {
  "kernelspec": {
   "display_name": "Python 3 (ipykernel)",
   "language": "python",
   "name": "python3"
  },
  "language_info": {
   "codemirror_mode": {
    "name": "ipython",
    "version": 3
   },
   "file_extension": ".py",
   "mimetype": "text/x-python",
   "name": "python",
   "nbconvert_exporter": "python",
   "pygments_lexer": "ipython3",
   "version": "3.9.7"
  }
 },
 "nbformat": 4,
 "nbformat_minor": 5
}
