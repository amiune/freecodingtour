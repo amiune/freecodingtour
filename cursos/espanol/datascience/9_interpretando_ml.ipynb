{
 "cells": [
  {
   "cell_type": "markdown",
   "id": "d03197b4-3df2-4632-b7f7-3a92c78cfafa",
   "metadata": {},
   "source": [
    "# Interpretando los Resultados de la Caja Negra"
   ]
  },
  {
   "cell_type": "markdown",
   "id": "ac465585-0f18-4398-9c99-417326220f80",
   "metadata": {},
   "source": [
    "- Interpretabilidad de modelos de ML: \n",
    "  - [Sklearn Inspection](https://scikit-learn.org/stable/modules/classes.html#module-sklearn.inspection)\n",
    "  - [Shap](https://shap.readthedocs.io/en/latest/index.html)"
   ]
  }
 ],
 "metadata": {
  "kernelspec": {
   "display_name": "Python 3 (ipykernel)",
   "language": "python",
   "name": "python3"
  },
  "language_info": {
   "codemirror_mode": {
    "name": "ipython",
    "version": 3
   },
   "file_extension": ".py",
   "mimetype": "text/x-python",
   "name": "python",
   "nbconvert_exporter": "python",
   "pygments_lexer": "ipython3",
   "version": "3.9.7"
  }
 },
 "nbformat": 4,
 "nbformat_minor": 5
}
