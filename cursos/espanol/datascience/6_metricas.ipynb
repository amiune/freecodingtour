{
 "cells": [
  {
   "cell_type": "markdown",
   "id": "0bd0813f-c783-46ae-83f3-6ea689c911c2",
   "metadata": {},
   "source": [
    "# Como saber si mi caja negra esta bien entrenada?"
   ]
  },
  {
   "cell_type": "markdown",
   "id": "a39001e3-01ae-40f5-8d49-8649ba0e0200",
   "metadata": {},
   "source": [
    "Haciendo un repaso:\n",
    "\n",
    "1. Obtuvimos datos utiles para resolver nuestro problema y los convertimos en una tabla\n",
    "2. Separamos nuestra tabla en dos: una tabla de **Entrenamiento** y una de **Prueba**\n",
    "3. Utilizamos la tabla de entrenamiento para Entrenar una caja negra que me permite hacer predicciones\n",
    "\n",
    "**Ahora utilizaremos la tabla de Prueba** para saber si nuestra caja negra esta bien entrenada aprovechando que en esta tabla de Prueba tenemos **datos que la caja negra nunca ha visto** y de los cuales **sabemos cuales deberian ser las predicciones correctas**."
   ]
  },
  {
   "cell_type": "markdown",
   "id": "287b6c69-7a23-4f12-b37c-a097e90888c7",
   "metadata": {},
   "source": [
    "![Error de prediccion de caja negra](img/error_prediccion_caja_negra.png)"
   ]
  },
  {
   "cell_type": "markdown",
   "id": "ac4c18bc-6c9c-4505-a348-b5433d14dd90",
   "metadata": {},
   "source": [
    "Como dijimos ya hay metricas definidas y bien estudiadas para poder medir que tan bien entrenada esta una caja negra. Utilizaremos distintas medidas segun sean de **Regresion** o de **Clasificacion** \n",
    "\n",
    "Ahora solo veremos una para cada metodo y mas adelante en esta unidad veremos mas.\n",
    "\n",
    "**Para regresion:**\n",
    "- **Error cuadratico medio**: es la suma de las diferencias elevadas al cuadrado. Las diferencias se refieren a la resta entre cada valor predecido y el real. Cuanto menor sea este error mejor entrenada estara nuestra caja negra de regresion.\n",
    "\n",
    "**Para clasificacion:**\n",
    "- **Porcentaje de aciertos (Accuracy)**: cuantas predicciones hemos acertado dividido el total de predicciones. Cuanto mayor sea la cantidad de aciertos mejor entrenada estara nuestra caja negra de clasificacion."
   ]
  },
  {
   "cell_type": "code",
   "execution_count": null,
   "id": "1ec9f783-bb79-4610-b28c-8f76d61be44b",
   "metadata": {},
   "outputs": [],
   "source": [
    "from sklearn import metrics"
   ]
  },
  {
   "cell_type": "code",
   "execution_count": 3,
   "id": "6b8c0a0d-9902-4d76-9278-71d57a155171",
   "metadata": {},
   "outputs": [],
   "source": [
    "# supongamos que los datos verdaderos son\n",
    "y_verdadero = [1.0, 2.0, 3.0, 4.0]\n",
    "y_predecido = [1.3, 2.1, 3.2, 4.8]"
   ]
  },
  {
   "cell_type": "code",
   "execution_count": 4,
   "id": "308c558e-0093-48be-8262-990ea9856e80",
   "metadata": {},
   "outputs": [
    {
     "data": {
      "text/plain": [
       "0.009999999999999995"
      ]
     },
     "execution_count": 4,
     "metadata": {},
     "output_type": "execute_result"
    }
   ],
   "source": [
    "metrics.mean_squared_error(y_verdadero, y_predecido)"
   ]
  },
  {
   "cell_type": "code",
   "execution_count": 5,
   "id": "164dbf74-46ed-43e5-8ccc-196f95d81198",
   "metadata": {},
   "outputs": [],
   "source": [
    "# supongamos que los datos verdaderos son\n",
    "y_verdadero = [\"benigno\", \"maligno\", \"maligno\", \"benigno\", \"benigno\"]\n",
    "y_predecido = [\"benigno\", \"maligno\", \"maligno\", \"maligno\", \"benigno\"]"
   ]
  },
  {
   "cell_type": "code",
   "execution_count": 7,
   "id": "9cf3ef98-44f1-4f4b-b7f7-ca4cab66046c",
   "metadata": {},
   "outputs": [
    {
     "data": {
      "text/plain": [
       "0.8"
      ]
     },
     "execution_count": 7,
     "metadata": {},
     "output_type": "execute_result"
    }
   ],
   "source": [
    "metrics.accuracy_score(y_verdadero, y_predecido)"
   ]
  },
  {
   "cell_type": "markdown",
   "id": "c2fdad62-a273-49f1-bd57-ac358e7d660a",
   "metadata": {},
   "source": [
    "## Sesgo y Varianza (Bias y Variance)\n",
    "\n",
    "Aqui veremos cuales son los problemas mas comunes al entrenar una caja negra. Como detectarlos y como corregirlos. Para ello empezaremos calculando el error para las dos tablas (Entrenamiento y Prueba) por separado. "
   ]
  },
  {
   "cell_type": "markdown",
   "id": "85d43c50-91ba-41c6-a11e-cab74d54916d",
   "metadata": {},
   "source": [
    "![Error de prediccion de caja negra](img/train_test_errors.png)"
   ]
  },
  {
   "cell_type": "markdown",
   "id": "b9afe5c5-69be-46d3-962e-bc63247a130c",
   "metadata": {},
   "source": [
    "Una vez calculados los errores para ambas tablas analizaremos los cuatro posibles casos donde el error de entrenamiento puede ser bajo o alto y para cada uno de estos casos el error de prueba puede ser similar al de entrenamiento o mucho mayor:\n",
    "\n",
    "**Sesgo Bajo y Varianza Alta:**\n",
    "- Error de Entrenamiento:  1% (**bajo**)\n",
    "- Error de Prueba: 10% (**mucho mayor al de entrenamiento**)\n",
    "\n",
    "**Sesgo Alto y Varianza Baja:**\n",
    "- Error de Entrenamiento: 15% (**alto**)\n",
    "- Error de Prueba: 16% (**similar al de entrenamiento**)\n",
    "\n",
    "**Sesgo Alto y Varianza Alta:**\n",
    "- Error de Entrenamiento: 15% (**alto**)\n",
    "- Error de Prueba: 30% (**mucho mayor al de entrenamiento**)\n",
    "\n",
    "**Sesgo Bajo y Varianza Baja (lo que buscamos):**\n",
    "- Error de Entrenamiento:  0.5% (**bajo**)\n",
    "- Error de Prueba:  1.0% (**bajo**)\n",
    "\n",
    "Como vemos el objetivo es obtener los errores de Entrenamiento y Prueba bajos.\n",
    "\n",
    "- El **Error de Entrenamiento alto** (tambien conocido como **Underfitting** en ingles) puede estar dado por una de las siguientes condiciones:\n",
    "  - Necesitamos mas datos para entrenar nuestra caja negra\n",
    "  - Necesitamos una caja negra que predecir datos complejos de predecir, por ejemplo los ensambles pueden predecir datos mas complejos que una regresion lineal o naive bayes porque no asumen ninguna hipotesis respecto a los datos.\n",
    "- El **Error de Prueba alto** (tambien conocido como **Overfitting** en ingles) puede estar dado por una de las siguientes condiciones:\n",
    "  - Necesitamos mas datos para entrenar nuestra caja negra\n",
    "  - Necesitamos una caja negra mas simple o un metodo para evitar que la caja negra se ajuste demasiado a los datos de prueba. Estos metodos se llaman de **regularizacion**"
   ]
  },
  {
   "cell_type": "markdown",
   "id": "3b39a210-0c60-46fc-b294-1a780594bd8f",
   "metadata": {},
   "source": [
    "## Otras metricas"
   ]
  },
  {
   "cell_type": "markdown",
   "id": "2de8d676-d988-4478-a524-f50f713fb046",
   "metadata": {},
   "source": [
    "**Para clasificacion:**\n",
    "    \n",
    "Cuando realizamos una clasificacion intervienen varios factores:\n",
    "1. Puede haber muchos mas datos de una clase que de otra y nos llevara a un accuracy alto pero que no es util\n",
    "2. La mayoria de los algoritmos de clasificacion nos da la probabilidad de que un dato sea de una clase u otra por lo que deberemos elegir un limite a partir del cual decimos que es de una clase u otra.\n",
    "    \n",
    "- Accuracy.\n",
    "- Precision: TP / (TP + FP)\n",
    "- Recall: TP / (TP + FN)\n",
    "- F1 Score: 2 / (1/P + 1/R)\n",
    "- ROC curve: the precision and recall measures for different sigmoid thresholds\n",
    "- Area Under de Curve: is the measure of the ability of a classifier to distinguish between classes and is used as a summary of the ROC curve"
   ]
  },
  {
   "cell_type": "code",
   "execution_count": null,
   "id": "c63301e6-36a2-4890-bd41-88149fd08474",
   "metadata": {},
   "outputs": [],
   "source": [
    "from sklearn import metrics\n",
    "from sklearn.metrics import precision_score, recall_score\n",
    "from sklearn.metrics import roc_curve, auc\n",
    "\n",
    "y_verdadero = [\"benigno\", \"maligno\", \"maligno\", \"benigno\", \"benigno\"]\n",
    "y_prob = [0.2, 0.91, 0.85, 0.55, 0.3]\n",
    "# suponiendo que elegimos como unbral 0.5\n",
    "y_predecido = [\"benigno\", \"maligno\", \"maligno\", \"maligno\", \"benigno\"]\n",
    "\n",
    "metrics.precision_score(y_verdadero, y_predecido)\n",
    "metrics.recall_score(y_verdadero, y_predecido)\n",
    "\n",
    "fpr, tpr, thresholds = metrics.roc_curve(y_verdadero, y_prob, pos_label=\"malo\")\n",
    "metrics.auc(fpr, tpr)"
   ]
  },
  {
   "cell_type": "markdown",
   "id": "8380f03f-a8cf-4db9-a701-1976b9b190ee",
   "metadata": {},
   "source": [
    "**Para regresion:**\n",
    "\n",
    "Ademas del error cuadratico medio otra metrica muy utilizada es R2 que permite obtener un valor mas ameno ya que varia entre 0 y 1."
   ]
  },
  {
   "cell_type": "code",
   "execution_count": null,
   "id": "fe22094e-c4bd-4264-91c0-c64140160eda",
   "metadata": {},
   "outputs": [],
   "source": [
    "metrics.r2_score(y_verdadero, y_predecido)"
   ]
  },
  {
   "cell_type": "markdown",
   "id": "8cd671f1-bd16-4116-857f-97a30aff25f1",
   "metadata": {},
   "source": [
    "# Fin: [Volver al contenido del curso](https://www.freecodingtour.com/cursos/espanol/datascience/datascience.html)"
   ]
  }
 ],
 "metadata": {
  "kernelspec": {
   "display_name": "Python 3 (ipykernel)",
   "language": "python",
   "name": "python3"
  },
  "language_info": {
   "codemirror_mode": {
    "name": "ipython",
    "version": 3
   },
   "file_extension": ".py",
   "mimetype": "text/x-python",
   "name": "python",
   "nbconvert_exporter": "python",
   "pygments_lexer": "ipython3",
   "version": "3.9.7"
  }
 },
 "nbformat": 4,
 "nbformat_minor": 5
}
