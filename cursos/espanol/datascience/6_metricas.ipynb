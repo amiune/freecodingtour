{
 "cells": [
  {
   "cell_type": "markdown",
   "id": "0bd0813f-c783-46ae-83f3-6ea689c911c2",
   "metadata": {},
   "source": [
    "# Como saber si mi caja negra esta bien entrenada?"
   ]
  },
  {
   "cell_type": "markdown",
   "id": "a39001e3-01ae-40f5-8d49-8649ba0e0200",
   "metadata": {},
   "source": [
    "Haciendo un repaso:\n",
    "\n",
    "1. Obtuvimos datos utiles para resolver nuestro problema y los convertimos en una tabla\n",
    "2. Separamos nuestra tabla en dos: una tabla de **Entrenamiento** y una de **Prueba**\n",
    "3. Utilizamos la tabla de entrenamiento para Entrenar una caja negra que me permite hacer predicciones\n",
    "\n",
    "**Ahora utilizaremos la tabla de Prueba** para saber si nuestra caja negra esta bien entrenada aprovechando que en esta tabla de Prueba tenemos **datos que la caja negra nunca ha visto** y de los cuales **sabemos cuales deberian ser las predicciones correctas**."
   ]
  },
  {
   "cell_type": "markdown",
   "id": "287b6c69-7a23-4f12-b37c-a097e90888c7",
   "metadata": {},
   "source": [
    "![Error de prediccion de caja negra](img/error_prediccion_caja_negra.png)"
   ]
  },
  {
   "cell_type": "markdown",
   "id": "ac4c18bc-6c9c-4505-a348-b5433d14dd90",
   "metadata": {},
   "source": [
    "Como dijimos ya hay metricas definidas y bien estudiadas para poder medir que tan bien entrenada esta una caja negra. Utilizaremos distintas medidas segun sean de **Regresion** o de **Clasificacion** \n",
    "\n",
    "Ahora solo veremos una para cada metodo y mas adelante en esta unidad veremos mas.\n",
    "\n",
    "**Para regresion:**\n",
    "- **Error cuadratico medio**: es la suma de las diferencias elevadas al cuadrado. Las diferencias se refieren a la resta entre cada valor predecido y el real. Cuanto menor sea este error mejor entrenada estara nuestra caja negra de regresion.\n",
    "\n",
    "**Para clasificacion:**\n",
    "- **Porcentaje de aciertos (Accuracy)**: cuantas predicciones hemos acertado dividido el total de predicciones. Cuanto mayor sea la cantidad de aciertos mejor entrenada estara nuestra caja negra de clasificacion."
   ]
  },
  {
   "cell_type": "code",
   "execution_count": null,
   "id": "308c558e-0093-48be-8262-990ea9856e80",
   "metadata": {},
   "outputs": [],
   "source": [
    "from sklearn.metrics import mean_squared_error\n",
    "mean_squared_error(y_verdadero, y_predecido)"
   ]
  },
  {
   "cell_type": "markdown",
   "id": "c2fdad62-a273-49f1-bd57-ac358e7d660a",
   "metadata": {},
   "source": [
    "## Sesgo y Varianza (Bias y Variance)"
   ]
  },
  {
   "cell_type": "markdown",
   "id": "b9afe5c5-69be-46d3-962e-bc63247a130c",
   "metadata": {},
   "source": [
    "**Varianza Alta:**\n",
    "- Error de Entrenamiento:  1%\n",
    "- Error de Prueba: 10%\n",
    "\n",
    "**Sesgo Alto:**\n",
    "- Error de Entrenamiento: 15%\n",
    "- Error de Prueba: 16%\n",
    "\n",
    "**Sesgo y Varianza Altos:**\n",
    "- Error de Entrenamiento: 15%\n",
    "- Error de Prueba: 30%\n",
    "\n",
    "**Sesgo y Varianza Bajos (lo que buscamos):**\n",
    "- Error de Entrenamiento:  0.5%\n",
    "- Error de Prueba:  1.0%"
   ]
  },
  {
   "cell_type": "markdown",
   "id": "3b39a210-0c60-46fc-b294-1a780594bd8f",
   "metadata": {},
   "source": [
    "## Otras metricas"
   ]
  },
  {
   "cell_type": "markdown",
   "id": "2de8d676-d988-4478-a524-f50f713fb046",
   "metadata": {},
   "source": [
    "**Para clasificacion:**\n",
    "    \n",
    "Cuando realizamos una clasificacion intervienen varios factores:\n",
    "1. Puede haber muchos mas datos de una clase que de otra y nos llevara a un accuracy alto pero que no es util\n",
    "2. La mayoria de los algoritmos de clasificacion nos da la probabilidad de que un dato sea de una clase u otra por lo que deberemos elegir un limite a partir del cual decimos que es de una clase u otra.\n",
    "    \n",
    "- Accuracy.\n",
    "- Precision: TP / (TP + FP)\n",
    "- Recall: TP / (TP + FN)\n",
    "- F1 Score: 2 / (1/P + 1/R)\n",
    "- ROC curve: the precision and recall measures for different sigmoid thresholds\n",
    "- Area Under de Curve: is the measure of the ability of a classifier to distinguish between classes and is used as a summary of the ROC curve"
   ]
  },
  {
   "cell_type": "code",
   "execution_count": null,
   "id": "c63301e6-36a2-4890-bd41-88149fd08474",
   "metadata": {},
   "outputs": [],
   "source": []
  },
  {
   "cell_type": "markdown",
   "id": "8380f03f-a8cf-4db9-a701-1976b9b190ee",
   "metadata": {},
   "source": [
    "**Para regresion:**\n",
    "\n",
    "Ademas del error cuadratico medio otra metrica muy utilizada es R2 que permite obtener un valor mas ameno ya que varia entre 0 y 1."
   ]
  },
  {
   "cell_type": "code",
   "execution_count": null,
   "id": "fe22094e-c4bd-4264-91c0-c64140160eda",
   "metadata": {},
   "outputs": [],
   "source": [
    "from sklearn.metrics import r2_score\n",
    "r2_score(y_verdadero, y_predecido)"
   ]
  }
 ],
 "metadata": {
  "kernelspec": {
   "display_name": "Python 3 (ipykernel)",
   "language": "python",
   "name": "python3"
  },
  "language_info": {
   "codemirror_mode": {
    "name": "ipython",
    "version": 3
   },
   "file_extension": ".py",
   "mimetype": "text/x-python",
   "name": "python",
   "nbconvert_exporter": "python",
   "pygments_lexer": "ipython3",
   "version": "3.9.7"
  }
 },
 "nbformat": 4,
 "nbformat_minor": 5
}
