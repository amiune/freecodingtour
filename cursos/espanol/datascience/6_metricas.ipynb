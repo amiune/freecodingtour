{
 "cells": [
  {
   "cell_type": "markdown",
   "id": "0bd0813f-c783-46ae-83f3-6ea689c911c2",
   "metadata": {},
   "source": [
    "# Como saber si mi caja negra esta bien entrenada?"
   ]
  },
  {
   "cell_type": "markdown",
   "id": "a39001e3-01ae-40f5-8d49-8649ba0e0200",
   "metadata": {},
   "source": [
    "Haciendo un repaso:\n",
    "\n",
    "1. Obtuvimos datos utiles para resolver nuestro problema y los convertimos en una tabla\n",
    "2. Separamos nuestra tabla en dos: una tabla de **Entrenamiento** y una de **Prueba**\n",
    "3. Utilizamos la tabla de entrenamiento para Entrenar una caja negra que me permite hacer predicciones\n",
    "\n",
    "**Ahora utilizaremos la tabla de Prueba** para saber si nuestra caja negra esta bien entrenada aprovechando que en esta tabla de Prueba tenemos **datos que la caja negra nunca ha visto** y de los cuales **sabemos cuales deberian ser las predicciones correctas**."
   ]
  },
  {
   "cell_type": "markdown",
   "id": "287b6c69-7a23-4f12-b37c-a097e90888c7",
   "metadata": {},
   "source": [
    "![Error de prediccion de caja negra](img/error_prediccion_caja_negra.png)"
   ]
  },
  {
   "cell_type": "markdown",
   "id": "ac4c18bc-6c9c-4505-a348-b5433d14dd90",
   "metadata": {},
   "source": [
    "Como dijimos ya hay metricas definidas y bien estudiadas para poder medir que tan bien entrenada esta una caja negra. Utilizaremos distintas medidas segun sean de **Regresion** o de **Clasificacion** \n",
    "\n",
    "Ahora solo veremos una para cada metodo y mas adelante en esta unidad veremos mas.\n",
    "\n",
    "**Para regresion:**\n",
    "- **Error cuadratico medio**: es la suma de las diferencias elevadas al cuadrado. Las diferencias se refieren a la resta entre cada valor predicho y el real. Cuanto menor sea este error mejor entrenada estara nuestra caja negra de regresion.\n",
    "\n",
    "**Para clasificacion:**\n",
    "- **Porcentaje de aciertos (Accuracy)**: cuantas predicciones hemos acertado dividido el total de predicciones. Cuanto mayor sea la cantidad de aciertos mejor entrenada estara nuestra caja negra de clasificacion."
   ]
  },
  {
   "cell_type": "code",
   "execution_count": 11,
   "id": "1ec9f783-bb79-4610-b28c-8f76d61be44b",
   "metadata": {},
   "outputs": [],
   "source": [
    "from sklearn import metrics"
   ]
  },
  {
   "cell_type": "code",
   "execution_count": 12,
   "id": "6b8c0a0d-9902-4d76-9278-71d57a155171",
   "metadata": {},
   "outputs": [],
   "source": [
    "# supongamos que los datos verdaderos son\n",
    "y_verdadero = [1.0, 2.0, 3.0, 4.0]\n",
    "y_predicho = [1.3, 2.1, 3.2, 4.8]"
   ]
  },
  {
   "cell_type": "code",
   "execution_count": 13,
   "id": "308c558e-0093-48be-8262-990ea9856e80",
   "metadata": {},
   "outputs": [
    {
     "data": {
      "text/plain": [
       "0.19499999999999995"
      ]
     },
     "execution_count": 13,
     "metadata": {},
     "output_type": "execute_result"
    }
   ],
   "source": [
    "metrics.mean_squared_error(y_verdadero, y_predicho)"
   ]
  },
  {
   "cell_type": "code",
   "execution_count": 14,
   "id": "164dbf74-46ed-43e5-8ccc-196f95d81198",
   "metadata": {},
   "outputs": [],
   "source": [
    "# supongamos que los datos verdaderos son\n",
    "y_verdadero = [\"benigno\", \"maligno\", \"maligno\", \"benigno\", \"benigno\"]\n",
    "y_predicho = [\"benigno\", \"maligno\", \"maligno\", \"maligno\", \"benigno\"]"
   ]
  },
  {
   "cell_type": "code",
   "execution_count": 15,
   "id": "9cf3ef98-44f1-4f4b-b7f7-ca4cab66046c",
   "metadata": {},
   "outputs": [
    {
     "data": {
      "text/plain": [
       "0.8"
      ]
     },
     "execution_count": 15,
     "metadata": {},
     "output_type": "execute_result"
    }
   ],
   "source": [
    "metrics.accuracy_score(y_verdadero, y_predicho)"
   ]
  },
  {
   "cell_type": "markdown",
   "id": "c2fdad62-a273-49f1-bd57-ac358e7d660a",
   "metadata": {},
   "source": [
    "## Sesgo y Varianza (Bias y Variance)\n",
    "\n",
    "Aqui veremos cuales son los problemas mas comunes al entrenar una caja negra. Como detectarlos y como corregirlos. Para ello empezaremos calculando el error para las dos tablas (Entrenamiento y Prueba) por separado. "
   ]
  },
  {
   "cell_type": "markdown",
   "id": "85d43c50-91ba-41c6-a11e-cab74d54916d",
   "metadata": {},
   "source": [
    "![Error de prediccion de caja negra](img/train_test_errors.png)"
   ]
  },
  {
   "cell_type": "markdown",
   "id": "b9afe5c5-69be-46d3-962e-bc63247a130c",
   "metadata": {},
   "source": [
    "Una vez calculados los errores para ambas tablas analizaremos los cuatro posibles casos donde el error de entrenamiento puede ser bajo o alto y para cada uno de estos casos el error de prueba puede ser similar al de entrenamiento o mucho mayor:\n",
    "\n",
    "**Sesgo Bajo y Varianza Alta:**\n",
    "- Error de Entrenamiento:  1% (**bajo**)\n",
    "- Error de Prueba: 10% (**mucho mayor al de entrenamiento**)\n",
    "\n",
    "**Sesgo Alto y Varianza Baja:**\n",
    "- Error de Entrenamiento: 15% (**alto**)\n",
    "- Error de Prueba: 16% (**similar al de entrenamiento**)\n",
    "\n",
    "**Sesgo Alto y Varianza Alta:**\n",
    "- Error de Entrenamiento: 15% (**alto**)\n",
    "- Error de Prueba: 30% (**mucho mayor al de entrenamiento**)\n",
    "\n",
    "**Sesgo Bajo y Varianza Baja (lo que buscamos):**\n",
    "- Error de Entrenamiento:  0.5% (**bajo**)\n",
    "- Error de Prueba:  1.0% (**bajo**)\n",
    "\n",
    "Como vemos el objetivo es obtener los errores de Entrenamiento y Prueba bajos.\n",
    "\n",
    "- El **Error de Entrenamiento alto** (tambien conocido como **Underfitting** en ingles) puede estar dado por una de las siguientes condiciones:\n",
    "  - Necesitamos mas datos para entrenar nuestra caja negra\n",
    "  - Necesitamos una caja negra que pueda predecir datos complejos, por ejemplo los ensambles pueden predecir datos mas complejos que una regresion lineal porque no asumen ninguna hipotesis respecto a los datos.\n",
    "- El **Error de Prueba alto** (tambien conocido como **Overfitting** en ingles) puede estar dado por una de las siguientes condiciones:\n",
    "  - Necesitamos mas datos para entrenar nuestra caja negra\n",
    "  - Necesitamos una caja negra mas simple o un metodo para evitar que la caja negra se ajuste demasiado a los datos de prueba. Estos metodos se llaman de **regularizacion**"
   ]
  },
  {
   "cell_type": "markdown",
   "id": "3b39a210-0c60-46fc-b294-1a780594bd8f",
   "metadata": {},
   "source": [
    "## Otras metricas"
   ]
  },
  {
   "cell_type": "markdown",
   "id": "2de8d676-d988-4478-a524-f50f713fb046",
   "metadata": {},
   "source": [
    "### Para clasificacion:\n",
    "    \n",
    "Cuando realizamos una clasificacion intervienen varios factores:\n",
    "1. Puede haber muchos mas datos de una clase que de otra y nos llevara a un accuracy alto pero que no es util\n",
    "2. La mayoria de los algoritmos de clasificacion nos da la probabilidad de que un dato sea de una clase u otra por lo que deberemos elegir un limite a partir del cual decimos que es de una clase u otra.\n",
    "\n",
    "Elegido un umbral para la clasificacion, la matriz de confusion nos permite ver cuantos datos de cada clase han sido bien o mal clasificados y aparecen **dos tipos de errores**:\n",
    "1. Cuando decimos que la prediccion es positiva y en verdad es negativa: **Falso Positivo**\n",
    "2. Cuando decimos que la prediccion es negativa y en verdad es positiva: **Falso Negativo**\n",
    "\n",
    "Unas primeras metricas surgen de analizar la proporcion de estos dos tipos de errores:\n",
    "\n",
    "- La proporcion de **Falsos Positivos** (FPR = FP / N) se conoce tambien como **Error de Tipo 1**. Podemos pensar en ellos con la pregunta: De los que son realmente negativos cuantos no acerte?\n",
    "- La proporcion de **Falsos Negativos** (FNR = FN / P) se conoce tambien como **Error de Tipo 2**. Podemos pensar en ellos con la pregunta: De los que son realmente positivos cuantos no acerte?\n",
    "\n",
    "Veamos un ejemplo:"
   ]
  },
  {
   "cell_type": "code",
   "execution_count": 27,
   "id": "88f6b56e-2482-4139-9cec-35dc3d015f31",
   "metadata": {},
   "outputs": [
    {
     "data": {
      "image/png": "[encoded data removed]",
      "text/plain": [
       "<Figure size 640x480 with 2 Axes>"
      ]
     },
     "metadata": {},
     "output_type": "display_data"
    }
   ],
   "source": [
    "from sklearn.metrics import confusion_matrix, ConfusionMatrixDisplay\n",
    "\n",
    "y_verdadero = [\"benigno\", \"maligno\", \"maligno\", \"benigno\", \"benigno\"]\n",
    "y_prob = [0.2, 0.91, 0.85, 0.55, 0.3]\n",
    "# suponiendo que elegimos como unbral 0.5\n",
    "y_predicho = [\"benigno\", \"maligno\", \"maligno\", \"maligno\", \"benigno\"]\n",
    "\n",
    "cm = confusion_matrix(y_verdadero, y_predicho)\n",
    "disp = ConfusionMatrixDisplay(confusion_matrix=cm,display_labels=[\"benigno\",\"maligno\"])\n",
    "disp.plot();"
   ]
  },
  {
   "cell_type": "markdown",
   "id": "a7e8b334-5769-4852-8dd1-f43e199ed99c",
   "metadata": {},
   "source": [
    "A partir de la [matriz de confusion](https://en.wikipedia.org/wiki/Confusion_matrix) surgen las siguientes metricas:\n",
    "\n",
    "- **Precision**: TP / (TP + FP) proporcion de datos predichos correctamente sobre el total de predichos de la clase positiva\n",
    "- **Recall**: TP / (TP + FN) proporcion de datos predichos correctamente sobre el total de datos de la clase positiva\n",
    "- **F1 Score**: 2 / (1/P + 1/R) medida que contempla ambas metricas de precision y recall\n",
    "\n",
    "Y si analizamos todas las matrices de confusion que surgen de elegir distintos umbrales aparecen nuevas metricas:\n",
    "\n",
    "- **ROC curve**: Nos muestra una curva con la precision en el eje x y recall en el eje y\n",
    "- **Area Under ROC Curve**: es el area debajo de la curva ROC y es una medida de la capacidad del clasificador para separar las clases"
   ]
  },
  {
   "cell_type": "code",
   "execution_count": 2,
   "id": "c63301e6-36a2-4890-bd41-88149fd08474",
   "metadata": {},
   "outputs": [
    {
     "data": {
      "text/plain": [
       "1.0"
      ]
     },
     "execution_count": 2,
     "metadata": {},
     "output_type": "execute_result"
    }
   ],
   "source": [
    "from sklearn import metrics\n",
    "from sklearn.metrics import precision_score, recall_score\n",
    "from sklearn.metrics import roc_curve, auc\n",
    "\n",
    "y_verdadero = [\"benigno\", \"maligno\", \"maligno\", \"benigno\", \"benigno\"]\n",
    "y_prob = [0.2, 0.91, 0.85, 0.55, 0.3]\n",
    "# suponiendo que elegimos como unbral 0.5\n",
    "y_predicho = [\"benigno\", \"maligno\", \"maligno\", \"maligno\", \"benigno\"]\n",
    "\n",
    "precision = metrics.precision_score(y_verdadero, y_predicho, pos_label=\"maligno\")\n",
    "print(\"Precision:\", precision)\n",
    "recall = metrics.recall_score(y_verdadero, y_predicho, pos_label=\"maligno\")\n",
    "print(\"Recall:\", recall)\n",
    "\n",
    "fpr, tpr, thresholds = metrics.roc_curve(y_verdadero, y_prob, pos_label=\"maligno\")\n",
    "auc = metrics.auc(fpr, tpr)\n",
    "print(\"AUC:\", auc)"
   ]
  },
  {
   "cell_type": "markdown",
   "id": "8380f03f-a8cf-4db9-a701-1976b9b190ee",
   "metadata": {},
   "source": [
    "### Para regresion:"
   ]
  },
  {
   "cell_type": "markdown",
   "id": "35f3ccf9-e6ec-4e93-a82c-7f5bb96c5ac1",
   "metadata": {},
   "source": [
    "**MAE**:\n",
    "\n",
    "[MAE](https://es.wikipedia.org/wiki/Error_absoluto_medio) el error absoluto medio es simplemente la media de los errores absolutos. Es decir, calculamos la diferencia entre los valores reales y nuestra prediccion, tomamos el valor absoluto y sacamos la media."
   ]
  },
  {
   "cell_type": "code",
   "execution_count": 13,
   "id": "1753d125-4d36-4701-ba7d-fed84f398376",
   "metadata": {},
   "outputs": [
    {
     "name": "stdout",
     "output_type": "stream",
     "text": [
      "0.375\n"
     ]
    }
   ],
   "source": [
    "# supongamos que los datos verdaderos son\n",
    "y_verdadero = [1.0, 2.0, 3.0, 4.0]\n",
    "y_predicho = [1.6, 2.4, 3.2, 4.3]\n",
    "\n",
    "MAE = (abs(1.0 - 1.6) + abs(2.0 - 2.4) + abs(3.0 - 3.2) + abs(4.0 - 4.3)) / 4\n",
    "print(MAE)"
   ]
  },
  {
   "cell_type": "code",
   "execution_count": 14,
   "id": "afd7b22e-82a4-413f-bf7e-fde5d8ba1e55",
   "metadata": {},
   "outputs": [
    {
     "data": {
      "text/plain": [
       "0.375"
      ]
     },
     "execution_count": 14,
     "metadata": {},
     "output_type": "execute_result"
    }
   ],
   "source": [
    "from sklearn.metrics import mean_absolute_error\n",
    "y_verdadero = [1.0, 2.0, 3.0, 4.0]\n",
    "y_predicho = [1.6, 2.4, 3.2, 4.3]\n",
    "mean_absolute_error(y_verdadero, y_predicho)"
   ]
  },
  {
   "cell_type": "markdown",
   "id": "a911481e-fb1d-44ee-8821-26889266f81e",
   "metadata": {},
   "source": [
    "**R2**:\n",
    "\n",
    "[R2](https://es.wikipedia.org/wiki/Coeficiente_de_determinaci%C3%B3n) permite obtener un ya que varia entre 0 y 1 donde 0 indica que nuestra prediccion igual a haber predecido la media y 1 la prediccion perfecta. Puede que de valores negativos, en este caso nuestra prediccion es peor a predecir la media."
   ]
  },
  {
   "cell_type": "code",
   "execution_count": 6,
   "id": "713647c5-eb68-41c9-9884-6617d3610d8a",
   "metadata": {},
   "outputs": [
    {
     "data": {
      "text/plain": [
       "0.0"
      ]
     },
     "execution_count": 6,
     "metadata": {},
     "output_type": "execute_result"
    }
   ],
   "source": [
    "# supongamos que los datos verdaderos son\n",
    "y_verdadero = [1.0, 2.0, 3.0, 4.0]\n",
    "media = (1.0 + 2.0 + 3.0 + 4.0) / 4\n",
    "y_predicho = [media, media, media, media]\n",
    "\n",
    "metrics.r2_score(y_verdadero, y_predicho)"
   ]
  },
  {
   "cell_type": "code",
   "execution_count": 12,
   "id": "fe22094e-c4bd-4264-91c0-c64140160eda",
   "metadata": {},
   "outputs": [
    {
     "data": {
      "text/plain": [
       "0.87"
      ]
     },
     "execution_count": 12,
     "metadata": {},
     "output_type": "execute_result"
    }
   ],
   "source": [
    "# supongamos que los datos verdaderos son\n",
    "y_verdadero = [1.0, 2.0, 3.0, 4.0]\n",
    "y_predicho = [1.6, 2.4, 3.2, 4.3]\n",
    "\n",
    "metrics.r2_score(y_verdadero, y_predicho)"
   ]
  },
  {
   "cell_type": "code",
   "execution_count": 8,
   "id": "0c597511-6c05-43dd-b07c-b985744a4882",
   "metadata": {},
   "outputs": [
    {
     "data": {
      "text/plain": [
       "1.0"
      ]
     },
     "execution_count": 8,
     "metadata": {},
     "output_type": "execute_result"
    }
   ],
   "source": [
    "# supongamos que los datos verdaderos son\n",
    "y_verdadero = [1.0, 2.0, 3.0, 4.0]\n",
    "y_predicho = [1.0, 2.0, 3.0, 4.0]\n",
    "\n",
    "metrics.r2_score(y_verdadero, y_predicho)"
   ]
  },
  {
   "cell_type": "markdown",
   "id": "1af6090e-cd55-41c3-acae-b07d8289267b",
   "metadata": {},
   "source": [
    "**RMSE**:\n",
    "\n",
    "[RSME](https://es.wikipedia.org/wiki/Ra%C3%ADz_del_error_cuadr%C3%A1tico_medio) es la raiz del error cuadratico medio."
   ]
  },
  {
   "cell_type": "code",
   "execution_count": null,
   "id": "dddfda4e-fe67-4cd8-8428-fb3a5367b91d",
   "metadata": {},
   "outputs": [],
   "source": [
    "from sklearn.metrics import root_mean_squared_error\n",
    "y_verdadero = [1.0, 2.0, 3.0, 4.0]\n",
    "y_predicho = [1.6, 2.4, 3.2, 4.3]\n",
    "root_mean_squared_error(y_verdadero, y_predicho)"
   ]
  },
  {
   "cell_type": "markdown",
   "id": "139affa4-7a14-440e-92d0-ed42877e3f87",
   "metadata": {},
   "source": [
    "#### Grafico de residuos o errores"
   ]
  },
  {
   "cell_type": "markdown",
   "id": "2969fbac-3278-40e9-91ea-3e16979722aa",
   "metadata": {},
   "source": [
    "Una forma grafica de ver como se distribuyen nuestros errores es el grafico de residuos que no es otra cosa que el grafico de los errores, es decir, cada punto representa que tan lejos estuvimos de acertar cada dato. Estos puntos no deben mostrar ningun patron, deben ser aleatorios y lo mas cercanos a cero posible. \n",
    "- Si estan muy alejados de cero quiere decir que los errores son muy grandes.\n",
    "- Si es grafico muestra algun patron quiere decir que nuestro modelo no capto ese patron."
   ]
  },
  {
   "cell_type": "code",
   "execution_count": 30,
   "id": "44f5ef9d-385c-45a7-917d-bab0bef6b882",
   "metadata": {},
   "outputs": [],
   "source": [
    "import numpy as np\n",
    "y_verdadero = np.arange(100)\n",
    "y_predicho = y_verdadero + np.random.randn(100)\n",
    "residuos = y_verdadero - y_predicho"
   ]
  },
  {
   "cell_type": "code",
   "execution_count": 33,
   "id": "65b9a5b4-8a83-48d1-8143-2ed3eac83755",
   "metadata": {},
   "outputs": [
    {
     "data": {
      "text/plain": [
       "<Axes: >"
      ]
     },
     "execution_count": 33,
     "metadata": {},
     "output_type": "execute_result"
    },
    {
     "data": {
      "image/png": "[encoded data removed]",
      "text/plain": [
       "<Figure size 640x480 with 1 Axes>"
      ]
     },
     "metadata": {},
     "output_type": "display_data"
    }
   ],
   "source": [
    "import seaborn as sns\n",
    "sns.residplot(x=y_predicho,y=residuos);"
   ]
  },
  {
   "cell_type": "markdown",
   "id": "287c838c-bddf-4caa-a51d-0ebcc5863eaf",
   "metadata": {},
   "source": [
    "### Configuracion de metricas en sklearn\n",
    "\n",
    "Sklearn nos brinda una gran variedad de metricas y la posibilidad de configurar la metrica que queremos que utilice al realizar gridsearch y cross validation. En este [link](https://scikit-learn.org/stable/modules/model_evaluation.html#) podemos ver como hacerlo."
   ]
  },
  {
   "cell_type": "markdown",
   "id": "8cd671f1-bd16-4116-857f-97a30aff25f1",
   "metadata": {},
   "source": [
    "# Fin: [Volver al contenido del curso](https://www.freecodingtour.com/cursos/espanol/datascience/datascience.html)"
   ]
  }
 ],
 "metadata": {
  "kernelspec": {
   "display_name": "Python 3 (ipykernel)",
   "language": "python",
   "name": "python3"
  },
  "language_info": {
   "codemirror_mode": {
    "name": "ipython",
    "version": 3
   },
   "file_extension": ".py",
   "mimetype": "text/x-python",
   "name": "python",
   "nbconvert_exporter": "python",
   "pygments_lexer": "ipython3",
   "version": "3.9.18"
  }
 },
 "nbformat": 4,
 "nbformat_minor": 5
}
