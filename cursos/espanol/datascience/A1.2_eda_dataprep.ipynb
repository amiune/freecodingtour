{
  "nbformat": 4,
  "nbformat_minor": 0,
  "metadata": {
    "colab": {
      "provenance": []
    },
    "kernelspec": {
      "display_name": "Python 3",
      "name": "python3"
    },
    "language_info": {
      "name": "python"
    }
  },
  "cells": [
    {
      "cell_type": "markdown",
      "metadata": {
        "id": "RQor3GuQYioW"
      },
      "source": [
        "# Instalar la ultima version de [DataPrep](https://dataprep.ai/)"
      ]
    },
    {
      "cell_type": "code",
      "metadata": {
        "id": "zfm1HnEfYvuw"
      },
      "source": [
        "!pip install dataprep -U -q"
      ],
      "execution_count": null,
      "outputs": []
    },
    {
      "cell_type": "markdown",
      "source": [
        "- Data Prep: https://www.youtube.com/watch?v=GXAbcD2UcOk\n",
        "- Connector: https://www.youtube.com/watch?v=56qu-0Ka-dA"
      ],
      "metadata": {
        "id": "4-CoNg0p61on"
      }
    },
    {
      "cell_type": "markdown",
      "metadata": {
        "id": "AcYKGvqxY-kK"
      },
      "source": [
        "# Cargar Modulos"
      ]
    },
    {
      "cell_type": "code",
      "metadata": {
        "id": "xWNmIBbyqD9z"
      },
      "source": [
        "from dataprep.eda import *\n",
        "from dataprep.eda import plot, plot_correlation, plot_missing, plot_diff, create_report"
      ],
      "execution_count": null,
      "outputs": []
    },
    {
      "cell_type": "markdown",
      "metadata": {
        "id": "I9TeCMXAZFcI"
      },
      "source": [
        "# Cargar nuestro dataset"
      ]
    },
    {
      "cell_type": "code",
      "metadata": {
        "id": "Z2kJTELiZKh3"
      },
      "source": [
        "import pandas as pd\n",
        "df_ana_train = pd.read_csv('https://raw.githubusercontent.com/amiune/freecodingtour/main/cursos/espanol/datascience/data/diabetes/diabetes_train_analisis.csv')\n",
        "df_inf_train = pd.read_csv('https://raw.githubusercontent.com/amiune/freecodingtour/main/cursos/espanol/datascience/data/diabetes/diabetes_train_info.csv')\n",
        "df = pd.merge(df_ana_train,df_inf_train,on=\"id\")\n",
        "df = df.drop(\"id\",axis=1)"
      ],
      "execution_count": null,
      "outputs": []
    },
    {
      "cell_type": "markdown",
      "metadata": {
        "id": "xIqWyKoWZX7A"
      },
      "source": [
        "# Mostrar un resumen de los datos del dataframe"
      ]
    },
    {
      "cell_type": "code",
      "metadata": {
        "id": "Wj8pVgmoqrof"
      },
      "source": [
        "plot(df)"
      ],
      "execution_count": null,
      "outputs": []
    },
    {
      "cell_type": "markdown",
      "metadata": {
        "id": "ltGYqdCsZg15"
      },
      "source": [
        "# Analizar los valores faltantes"
      ]
    },
    {
      "cell_type": "markdown",
      "metadata": {
        "id": "PfImxa2AaFjC"
      },
      "source": [
        "## 1. Resumen de los valores faltantes"
      ]
    },
    {
      "cell_type": "code",
      "metadata": {
        "id": "g_0eQMZNaJrz"
      },
      "source": [
        "plot_missing(df)"
      ],
      "execution_count": null,
      "outputs": []
    },
    {
      "cell_type": "markdown",
      "metadata": {
        "id": "wzl968IKaM2r"
      },
      "source": [
        "## 2. Impacto de eliminar los valores faltantes"
      ]
    },
    {
      "cell_type": "code",
      "metadata": {
        "id": "Had4sXbTaQIU"
      },
      "source": [
        "plot_missing(df, \"peso\")"
      ],
      "execution_count": null,
      "outputs": []
    },
    {
      "cell_type": "markdown",
      "metadata": {
        "id": "k7HTLr8DaS7q"
      },
      "source": [
        "# Analisis de Correlaciones"
      ]
    },
    {
      "cell_type": "markdown",
      "metadata": {
        "id": "4YhbfQqgaWwZ"
      },
      "source": [
        "## 1. Resumen de correlaciones"
      ]
    },
    {
      "cell_type": "code",
      "metadata": {
        "id": "6Jy1HlTGaZkS"
      },
      "source": [
        "plot_correlation(df)"
      ],
      "execution_count": null,
      "outputs": []
    },
    {
      "cell_type": "markdown",
      "metadata": {
        "id": "4SGbAg4pabxj"
      },
      "source": [
        "## 2. Analisis de correlaciones respecto de una columna especifica"
      ]
    },
    {
      "cell_type": "code",
      "metadata": {
        "id": "mQQqYjZoajl7"
      },
      "source": [
        "plot_correlation(df, \"diabetes\")"
      ],
      "execution_count": null,
      "outputs": []
    },
    {
      "cell_type": "markdown",
      "metadata": {
        "id": "3KeG_hSlapdb"
      },
      "source": [
        "# Analisis de una sola columna"
      ]
    },
    {
      "cell_type": "markdown",
      "metadata": {
        "id": "ba73KV_Xasr0"
      },
      "source": [
        "## 1. Columnas numericas"
      ]
    },
    {
      "cell_type": "code",
      "metadata": {
        "id": "TVBEf2Joav7V"
      },
      "source": [
        "plot(df, \"altura\")"
      ],
      "execution_count": null,
      "outputs": []
    },
    {
      "cell_type": "markdown",
      "metadata": {
        "id": "El3g7704ax4j"
      },
      "source": [
        "## 2. Columnas categoricas"
      ]
    },
    {
      "cell_type": "code",
      "metadata": {
        "id": "xxtUntCHa3we"
      },
      "source": [
        "plot(df, \"glucosa\")"
      ],
      "execution_count": null,
      "outputs": []
    },
    {
      "cell_type": "markdown",
      "metadata": {
        "id": "7UwrFo7ja6bd"
      },
      "source": [
        "# Analisis de relacion entre dos columnas"
      ]
    },
    {
      "cell_type": "markdown",
      "metadata": {
        "id": "9J1i7VnBa8Jk"
      },
      "source": [
        "## 1. Numerica vs Numerica"
      ]
    },
    {
      "cell_type": "code",
      "metadata": {
        "id": "lnNQepOPbBs-"
      },
      "source": [
        "plot(df, \"altura\", \"peso\")"
      ],
      "execution_count": null,
      "outputs": []
    },
    {
      "cell_type": "markdown",
      "metadata": {
        "id": "nNj1ZMQnbDYE"
      },
      "source": [
        "## 2. Numerica vs Categorica"
      ]
    },
    {
      "cell_type": "code",
      "metadata": {
        "id": "-WouiN_3bGHF"
      },
      "source": [
        "plot(df, \"peso\", \"glucosa\")"
      ],
      "execution_count": null,
      "outputs": []
    },
    {
      "cell_type": "markdown",
      "metadata": {
        "id": "dP2B7z6_bINU"
      },
      "source": [
        "## 3. Categorica vs Categorica"
      ]
    },
    {
      "cell_type": "code",
      "metadata": {
        "id": "lfdZeenXbLNf"
      },
      "source": [
        "plot(df, \"fuma\", \"alcohol\")"
      ],
      "execution_count": null,
      "outputs": []
    },
    {
      "cell_type": "markdown",
      "metadata": {
        "id": "vYL46mD5bN1u"
      },
      "source": [
        "# Personalizar visualizaciones"
      ]
    },
    {
      "cell_type": "markdown",
      "metadata": {
        "id": "I5gzSXf5bQwO"
      },
      "source": [
        "## 1. Mostrar solo una visualizacion de interes"
      ]
    },
    {
      "cell_type": "code",
      "metadata": {
        "id": "Qt6YN0tFbTzP"
      },
      "source": [
        " plot(df, \"peso\", display = [\"Histogram\"])"
      ],
      "execution_count": null,
      "outputs": []
    },
    {
      "cell_type": "markdown",
      "metadata": {
        "id": "YqzRQs8PbV9V"
      },
      "source": [
        "## 2. Configurar una visualizacion"
      ]
    },
    {
      "cell_type": "code",
      "metadata": {
        "id": "tklNKCXmbYn-"
      },
      "source": [
        "plot(df, \"peso\", display = [\"Histogram\"], config = {\"hist.bins\": 1000, \"height\":500})"
      ],
      "execution_count": null,
      "outputs": []
    },
    {
      "cell_type": "markdown",
      "metadata": {
        "id": "SZPBDjcUbohu"
      },
      "source": [
        "# Comparar dos dataframes"
      ]
    },
    {
      "cell_type": "code",
      "metadata": {
        "id": "JjldI_TMbtyn"
      },
      "source": [
        "df1 = df[df[\"glucosa\"] == \"baja\"]\n",
        "df2 = df[df[\"glucosa\"] == \"alta\"]\n",
        "plot_diff([df1, df2])"
      ],
      "execution_count": null,
      "outputs": []
    },
    {
      "cell_type": "markdown",
      "metadata": {
        "id": "FgdZfyQnbud2"
      },
      "source": [
        "# Crear un reporte en formato HTML"
      ]
    },
    {
      "cell_type": "code",
      "metadata": {
        "id": "G-dOE2QTbyjB"
      },
      "source": [
        "create_report(df)"
      ],
      "execution_count": null,
      "outputs": []
    }
  ]
}