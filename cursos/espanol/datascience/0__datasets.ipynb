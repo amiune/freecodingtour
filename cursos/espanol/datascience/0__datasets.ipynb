{
 "cells": [
  {
   "cell_type": "markdown",
   "id": "4701b36c-873d-4076-a078-fb5c3f4d1bad",
   "metadata": {},
   "source": [
    "# Datasets\n",
    "\n",
    "Aqui veremos distintos lugares de donde podemos obtener dataset para analizar y practicar ciencia de datos."
   ]
  },
  {
   "cell_type": "markdown",
   "id": "e89c185d-0320-45fd-8716-884f71d04485",
   "metadata": {},
   "source": [
    "## Kaggle Datasets\n",
    "\n",
    "- https://www.kaggle.com/datasets"
   ]
  },
  {
   "cell_type": "markdown",
   "id": "80829004-9620-4fb0-81c3-ef342e0e29f3",
   "metadata": {},
   "source": [
    "## HuggingFace Datasets\n",
    "\n",
    "Datasets tabulares:\n",
    "- https://huggingface.co/datasets?task_categories=task_categories:tabular-classification&sort=downloads\n",
    "\n",
    "- Como cargarlos: https://huggingface.co/docs/datasets/tabular_load\n",
    "- Como analizarlos con [SQL usando DuckDB](https://duckdb.org/2024/05/29/access-150k-plus-datasets-from-hugging-face-with-duckdb.html)"
   ]
  },
  {
   "cell_type": "markdown",
   "id": "00b78124-974c-4cd9-b1ca-b698e2ae3b8c",
   "metadata": {},
   "source": [
    "## Mas Datasets\n",
    "\n",
    "- Awesome Public Datasets: https://github.com/awesomedata/awesome-public-datasets\n",
    "- UCI Machine Learning Repository: https://archive.ics.uci.edu/\n",
    "- OpenML Datasets: https://www.openml.org/\n",
    "- Papers With Code: https://paperswithcode.com/datasets\n",
    "- Climate: https://cds.climate.copernicus.eu/#!/search\n",
    "- Our World in Data: https://ourworldindata.org/\n",
    "- Penn Machine Learning Benchmarks: https://epistasislab.github.io/pmlb/\n",
    "\n",
    "## Datasets España\n",
    "- Gobierno de España: https://datos.gob.es/es/catalogo\n",
    "\n",
    "## Buscadores de datasets\n",
    "\n",
    "- Google Dataset Search: https://datasetsearch.research.google.com/\n",
    "- Sci2: https://www.sci2sci.com/open_data\n"
   ]
  },
  {
   "cell_type": "markdown",
   "id": "7586d85a-2cd1-4b41-a442-7939e4abfff4",
   "metadata": {},
   "source": [
    "# Competencias de Machine Learning\n",
    "\n",
    "  - Kaggle: https://www.kaggle.com/competitions\n",
    "  - DrivenData: https://www.drivendata.org\n",
    "  - Zindi Africa: https://zindi.africa/competitions\n",
    "  - Guia sobre como competir ([PDF](https://github.com/SamBelkacem/Machine-Learning-Basics/blob/main/Machine%20learning%20competitions.pdf))"
   ]
  },
  {
   "cell_type": "markdown",
   "id": "d77ac5eb-c4be-4065-a7f4-70396bc37e39",
   "metadata": {},
   "source": [
    "# Fin: [Volver al contenido del curso](https://www.freecodingtour.com/cursos/espanol/datascience/datascience.html)"
   ]
  }
 ],
 "metadata": {
  "kernelspec": {
   "display_name": "base2",
   "language": "python",
   "name": "base2"
  },
  "language_info": {
   "codemirror_mode": {
    "name": "ipython",
    "version": 3
   },
   "file_extension": ".py",
   "mimetype": "text/x-python",
   "name": "python",
   "nbconvert_exporter": "python",
   "pygments_lexer": "ipython3",
   "version": "3.11.8"
  }
 },
 "nbformat": 4,
 "nbformat_minor": 5
}
