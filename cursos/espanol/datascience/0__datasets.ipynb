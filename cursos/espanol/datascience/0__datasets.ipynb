{
 "cells": [
  {
   "cell_type": "markdown",
   "id": "4701b36c-873d-4076-a078-fb5c3f4d1bad",
   "metadata": {},
   "source": [
    "# Datasets\n",
    "\n",
    "Aqui veremos distintos lugares de donde podemos obtener dataset para analizar y practicar ciencia de datos."
   ]
  },
  {
   "cell_type": "markdown",
   "id": "e89c185d-0320-45fd-8716-884f71d04485",
   "metadata": {},
   "source": [
    "## Kaggle Datasets\n",
    "\n",
    "- https://www.kaggle.com/datasets"
   ]
  },
  {
   "cell_type": "code",
   "execution_count": null,
   "id": "43082228-e36b-4946-a065-fd3105d8a1bf",
   "metadata": {},
   "outputs": [],
   "source": []
  },
  {
   "cell_type": "code",
   "execution_count": null,
   "id": "0f5d0469-b5a0-44a4-92da-4303daf9f769",
   "metadata": {},
   "outputs": [],
   "source": []
  },
  {
   "cell_type": "code",
   "execution_count": null,
   "id": "6ea42cd6-04fc-41f0-b722-45f91b084179",
   "metadata": {},
   "outputs": [],
   "source": []
  },
  {
   "cell_type": "markdown",
   "id": "80829004-9620-4fb0-81c3-ef342e0e29f3",
   "metadata": {},
   "source": [
    "## HuggingFace Datasets\n",
    "\n",
    "Datasets tabulares:\n",
    "- https://huggingface.co/datasets?task_categories=task_categories:tabular-classification&sort=downloads\n",
    "\n",
    "Como cargarlos: https://huggingface.co/docs/datasets/tabular_load"
   ]
  },
  {
   "cell_type": "code",
   "execution_count": null,
   "id": "30d4359f-80ee-4244-9695-5b13fafd243f",
   "metadata": {},
   "outputs": [],
   "source": []
  },
  {
   "cell_type": "code",
   "execution_count": null,
   "id": "0dffe5d1-8af8-40c1-8fbb-381dbe4e9fb6",
   "metadata": {},
   "outputs": [],
   "source": []
  },
  {
   "cell_type": "code",
   "execution_count": null,
   "id": "646af6d7-78db-4a7d-af61-012a04fbe683",
   "metadata": {},
   "outputs": [],
   "source": []
  },
  {
   "cell_type": "markdown",
   "id": "00b78124-974c-4cd9-b1ca-b698e2ae3b8c",
   "metadata": {},
   "source": [
    "## Mas Datasets\n",
    "\n",
    "- https://epistasislab.github.io/pmlb/\n",
    "- https://cds.climate.copernicus.eu/#!/search\n",
    "- https://ourworldindata.org/\n",
    "\n",
    "## Buscador de datasets\n",
    "\n",
    "- https://www.sci2sci.com/"
   ]
  },
  {
   "cell_type": "code",
   "execution_count": null,
   "id": "2f2038e5-83b0-48a2-a9a2-3fdaa4cb58fb",
   "metadata": {},
   "outputs": [],
   "source": [
    "#https://ourworldindata.org/better-learning"
   ]
  },
  {
   "cell_type": "code",
   "execution_count": null,
   "id": "e37dd4ec-7296-44eb-96e4-fddcfda364a9",
   "metadata": {},
   "outputs": [],
   "source": []
  },
  {
   "cell_type": "markdown",
   "id": "d77ac5eb-c4be-4065-a7f4-70396bc37e39",
   "metadata": {},
   "source": [
    "# Fin: [Volver al contenido del curso](https://www.freecodingtour.com/cursos/espanol/datascience/datascience.html)"
   ]
  }
 ],
 "metadata": {
  "kernelspec": {
   "display_name": "base2",
   "language": "python",
   "name": "base2"
  },
  "language_info": {
   "codemirror_mode": {
    "name": "ipython",
    "version": 3
   },
   "file_extension": ".py",
   "mimetype": "text/x-python",
   "name": "python",
   "nbconvert_exporter": "python",
   "pygments_lexer": "ipython3",
   "version": "3.11.8"
  }
 },
 "nbformat": 4,
 "nbformat_minor": 5
}
