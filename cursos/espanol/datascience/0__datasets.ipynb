{
 "cells": [
  {
   "cell_type": "markdown",
   "id": "4701b36c-873d-4076-a078-fb5c3f4d1bad",
   "metadata": {},
   "source": [
    "# Datasets\n",
    "\n",
    "Aqui veremos distintos lugares de donde podemos obtener dataset para analizar y practicar ciencia de datos."
   ]
  },
  {
   "cell_type": "markdown",
   "id": "e89c185d-0320-45fd-8716-884f71d04485",
   "metadata": {},
   "source": [
    "## Kaggle Datasets\n",
    "\n",
    "- https://www.kaggle.com/datasets"
   ]
  },
  {
   "cell_type": "markdown",
   "id": "80829004-9620-4fb0-81c3-ef342e0e29f3",
   "metadata": {},
   "source": [
    "## HuggingFace Datasets\n",
    "\n",
    "Datasets tabulares:\n",
    "- https://huggingface.co/datasets?task_categories=task_categories:tabular-classification&sort=downloads\n",
    "\n",
    "Como cargarlos: https://huggingface.co/docs/datasets/tabular_load"
   ]
  },
  {
   "cell_type": "markdown",
   "id": "00b78124-974c-4cd9-b1ca-b698e2ae3b8c",
   "metadata": {},
   "source": [
    "## Mas Datasets\n",
    "\n",
    "- https://epistasislab.github.io/pmlb/\n",
    "- https://paperswithcode.com/datasets\n",
    "- https://cds.climate.copernicus.eu/#!/search\n",
    "- https://ourworldindata.org/\n",
    "\n",
    "## Datasets España\n",
    "- https://datos.gob.es/es/catalogo\n",
    "- https://datos.gob.es/es/catalogo/a07002862-registro-de-emergencias-del-112\n",
    "\n",
    "## Buscador de datasets\n",
    "\n",
    "- https://www.sci2sci.com/"
   ]
  },
  {
   "cell_type": "markdown",
   "id": "d77ac5eb-c4be-4065-a7f4-70396bc37e39",
   "metadata": {},
   "source": [
    "# Fin: [Volver al contenido del curso](https://www.freecodingtour.com/cursos/espanol/datascience/datascience.html)"
   ]
  }
 ],
 "metadata": {
  "kernelspec": {
   "display_name": "base2",
   "language": "python",
   "name": "base2"
  },
  "language_info": {
   "codemirror_mode": {
    "name": "ipython",
    "version": 3
   },
   "file_extension": ".py",
   "mimetype": "text/x-python",
   "name": "python",
   "nbconvert_exporter": "python",
   "pygments_lexer": "ipython3",
   "version": "3.11.8"
  }
 },
 "nbformat": 4,
 "nbformat_minor": 5
}
