{
 "cells": [
  {
   "cell_type": "markdown",
   "id": "fae5c76b-6339-4296-b7cf-27f00a927295",
   "metadata": {},
   "source": [
    "# ydata: EDA con una linea de codigo"
   ]
  },
  {
   "cell_type": "markdown",
   "id": "e73d6047-a060-490b-ab48-786e6de2ef8e",
   "metadata": {},
   "source": [
    "Aqui veremos la libreria [ydata](https://github.com/ydataai/ydata-profiling)  que nos permite hacer un Analisis Exploratorio de los Datos con solo pocas lineas de codigo."
   ]
  },
  {
   "cell_type": "code",
   "execution_count": 1,
   "id": "875f64a0-2dc4-44b9-8cc8-548a01972370",
   "metadata": {},
   "outputs": [],
   "source": [
    "#importamos la libreria de pandas\n",
    "import pandas as pd"
   ]
  },
  {
   "cell_type": "code",
   "execution_count": 2,
   "id": "9af99f88-88d0-45dd-bcab-21186345a80e",
   "metadata": {},
   "outputs": [
    {
     "data": {
      "text/html": [
       "<div>\n",
       "<style scoped>\n",
       "    .dataframe tbody tr th:only-of-type {\n",
       "        vertical-align: middle;\n",
       "    }\n",
       "\n",
       "    .dataframe tbody tr th {\n",
       "        vertical-align: top;\n",
       "    }\n",
       "\n",
       "    .dataframe thead th {\n",
       "        text-align: right;\n",
       "    }\n",
       "</style>\n",
       "<table border=\"1\" class=\"dataframe\">\n",
       "  <thead>\n",
       "    <tr style=\"text-align: right;\">\n",
       "      <th></th>\n",
       "      <th>colesterol</th>\n",
       "      <th>glucosa</th>\n",
       "      <th>fuma</th>\n",
       "      <th>alcohol</th>\n",
       "      <th>gimnasia</th>\n",
       "      <th>presion</th>\n",
       "      <th>diabetes</th>\n",
       "      <th>edad</th>\n",
       "      <th>altura</th>\n",
       "      <th>peso</th>\n",
       "      <th>sexo</th>\n",
       "    </tr>\n",
       "  </thead>\n",
       "  <tbody>\n",
       "    <tr>\n",
       "      <th>0</th>\n",
       "      <td>bajo</td>\n",
       "      <td>baja</td>\n",
       "      <td>0</td>\n",
       "      <td>0</td>\n",
       "      <td>1</td>\n",
       "      <td>100/80</td>\n",
       "      <td>0</td>\n",
       "      <td>54</td>\n",
       "      <td>169</td>\n",
       "      <td>76.0</td>\n",
       "      <td>f</td>\n",
       "    </tr>\n",
       "    <tr>\n",
       "      <th>1</th>\n",
       "      <td>bajo</td>\n",
       "      <td>baja</td>\n",
       "      <td>0</td>\n",
       "      <td>0</td>\n",
       "      <td>1</td>\n",
       "      <td>120/82</td>\n",
       "      <td>0</td>\n",
       "      <td>49</td>\n",
       "      <td>165</td>\n",
       "      <td>65.0</td>\n",
       "      <td>m</td>\n",
       "    </tr>\n",
       "    <tr>\n",
       "      <th>2</th>\n",
       "      <td>bajo</td>\n",
       "      <td>baja</td>\n",
       "      <td>0</td>\n",
       "      <td>0</td>\n",
       "      <td>1</td>\n",
       "      <td>120/80</td>\n",
       "      <td>0</td>\n",
       "      <td>21962</td>\n",
       "      <td>170</td>\n",
       "      <td>56.0</td>\n",
       "      <td>m</td>\n",
       "    </tr>\n",
       "    <tr>\n",
       "      <th>3</th>\n",
       "      <td>bajo</td>\n",
       "      <td>baja</td>\n",
       "      <td>0</td>\n",
       "      <td>0</td>\n",
       "      <td>0</td>\n",
       "      <td>120\\80</td>\n",
       "      <td>0</td>\n",
       "      <td>20287</td>\n",
       "      <td>169</td>\n",
       "      <td>62.0</td>\n",
       "      <td>m</td>\n",
       "    </tr>\n",
       "    <tr>\n",
       "      <th>4</th>\n",
       "      <td>bajo</td>\n",
       "      <td>baja</td>\n",
       "      <td>0</td>\n",
       "      <td>0</td>\n",
       "      <td>0</td>\n",
       "      <td>120/80</td>\n",
       "      <td>0</td>\n",
       "      <td>16202</td>\n",
       "      <td>166</td>\n",
       "      <td>67.0</td>\n",
       "      <td>masculino</td>\n",
       "    </tr>\n",
       "  </tbody>\n",
       "</table>\n",
       "</div>"
      ],
      "text/plain": [
       "  colesterol glucosa  fuma  alcohol  gimnasia presion  diabetes   edad  \\\n",
       "0       bajo    baja     0        0         1  100/80         0     54   \n",
       "1       bajo    baja     0        0         1  120/82         0     49   \n",
       "2       bajo    baja     0        0         1  120/80         0  21962   \n",
       "3       bajo    baja     0        0         0  120\\80         0  20287   \n",
       "4       bajo    baja     0        0         0  120/80         0  16202   \n",
       "\n",
       "   altura  peso       sexo  \n",
       "0     169  76.0          f  \n",
       "1     165  65.0          m  \n",
       "2     170  56.0          m  \n",
       "3     169  62.0          m  \n",
       "4     166  67.0  masculino  "
      ]
     },
     "execution_count": 2,
     "metadata": {},
     "output_type": "execute_result"
    }
   ],
   "source": [
    "df_ana_train = pd.read_csv('https://raw.githubusercontent.com/amiune/freecodingtour/main/cursos/espanol/datascience/data/diabetes/diabetes_train_analisis.csv')\n",
    "df_inf_train = pd.read_csv('https://raw.githubusercontent.com/amiune/freecodingtour/main/cursos/espanol/datascience/data/diabetes/diabetes_train_info.csv')\n",
    "df_train = pd.merge(df_ana_train,df_inf_train,on=\"id\")\n",
    "df_train = df_train.drop(\"id\",axis=1)\n",
    "df_train.head()"
   ]
  },
  {
   "cell_type": "code",
   "execution_count": 3,
   "id": "a57a35d8-c5c2-40a4-82a6-915975d7212f",
   "metadata": {},
   "outputs": [],
   "source": [
    "!pip install ydata-profiling -U -q"
   ]
  },
  {
   "cell_type": "code",
   "execution_count": 4,
   "id": "52c5e41c-52ca-402c-b9f6-f503b5b46d9b",
   "metadata": {},
   "outputs": [],
   "source": [
    "from ydata_profiling import ProfileReport"
   ]
  },
  {
   "cell_type": "code",
   "execution_count": 8,
   "id": "21a5b57c-e7be-41a6-843d-a74fc475f351",
   "metadata": {},
   "outputs": [],
   "source": [
    "profile = ProfileReport(df_train, title=\"Profiling Report\")"
   ]
  },
  {
   "cell_type": "code",
   "execution_count": 10,
   "id": "9a9ba5b4-ac2e-417a-90b7-4115f5a2b8ee",
   "metadata": {},
   "outputs": [
    {
     "name": "stderr",
     "output_type": "stream",
     "text": [
      "/Users/hernanamiune/opt/anaconda3/lib/python3.9/site-packages/ydata_profiling/profile_report.py:354: UserWarning: Try running command: 'pip install --upgrade Pillow' to avoid ValueError\n",
      "  warnings.warn(\n"
     ]
    },
    {
     "data": {
      "application/vnd.jupyter.widget-view+json": {
       "model_id": "5c3b99e0d07547c088e9e9e77a2422ad",
       "version_major": 2,
       "version_minor": 0
      },
      "text/plain": [
       "Export report to file:   0%|          | 0/1 [00:00<?, ?it/s]"
      ]
     },
     "metadata": {},
     "output_type": "display_data"
    }
   ],
   "source": [
    "profile.to_file(\"report.html\")\n",
    "#profile.to_notebook_iframe()"
   ]
  },
  {
   "cell_type": "code",
   "execution_count": 8,
   "id": "96dda013-f3e1-4e4a-8945-68d8a392e2c5",
   "metadata": {},
   "outputs": [
    {
     "data": {
      "text/html": [
       "<div>\n",
       "<style scoped>\n",
       "    .dataframe tbody tr th:only-of-type {\n",
       "        vertical-align: middle;\n",
       "    }\n",
       "\n",
       "    .dataframe tbody tr th {\n",
       "        vertical-align: top;\n",
       "    }\n",
       "\n",
       "    .dataframe thead th {\n",
       "        text-align: right;\n",
       "    }\n",
       "</style>\n",
       "<table border=\"1\" class=\"dataframe\">\n",
       "  <thead>\n",
       "    <tr style=\"text-align: right;\">\n",
       "      <th></th>\n",
       "      <th>colesterol</th>\n",
       "      <th>glucosa</th>\n",
       "      <th>fuma</th>\n",
       "      <th>alcohol</th>\n",
       "      <th>gimnasia</th>\n",
       "      <th>presion</th>\n",
       "      <th>diabetes</th>\n",
       "      <th>edad</th>\n",
       "      <th>altura</th>\n",
       "      <th>peso</th>\n",
       "      <th>sexo</th>\n",
       "    </tr>\n",
       "  </thead>\n",
       "  <tbody>\n",
       "    <tr>\n",
       "      <th>0</th>\n",
       "      <td>bajo</td>\n",
       "      <td>media</td>\n",
       "      <td>0</td>\n",
       "      <td>0</td>\n",
       "      <td>0</td>\n",
       "      <td>120/80</td>\n",
       "      <td>1</td>\n",
       "      <td>61</td>\n",
       "      <td>165</td>\n",
       "      <td>90.0</td>\n",
       "      <td>f</td>\n",
       "    </tr>\n",
       "    <tr>\n",
       "      <th>1</th>\n",
       "      <td>bajo</td>\n",
       "      <td>baja</td>\n",
       "      <td>0</td>\n",
       "      <td>0</td>\n",
       "      <td>1</td>\n",
       "      <td>100\\70</td>\n",
       "      <td>0</td>\n",
       "      <td>14582</td>\n",
       "      <td>162</td>\n",
       "      <td>50.0</td>\n",
       "      <td>m</td>\n",
       "    </tr>\n",
       "    <tr>\n",
       "      <th>2</th>\n",
       "      <td>bajo</td>\n",
       "      <td>baja</td>\n",
       "      <td>0</td>\n",
       "      <td>0</td>\n",
       "      <td>0</td>\n",
       "      <td>140/100</td>\n",
       "      <td>1</td>\n",
       "      <td>23389</td>\n",
       "      <td>156</td>\n",
       "      <td>74.0</td>\n",
       "      <td>m</td>\n",
       "    </tr>\n",
       "    <tr>\n",
       "      <th>3</th>\n",
       "      <td>bajo</td>\n",
       "      <td>baja</td>\n",
       "      <td>0</td>\n",
       "      <td>0</td>\n",
       "      <td>1</td>\n",
       "      <td>120\\90</td>\n",
       "      <td>0</td>\n",
       "      <td>47</td>\n",
       "      <td>162</td>\n",
       "      <td>89.0</td>\n",
       "      <td>m</td>\n",
       "    </tr>\n",
       "    <tr>\n",
       "      <th>4</th>\n",
       "      <td>bajo</td>\n",
       "      <td>baja</td>\n",
       "      <td>0</td>\n",
       "      <td>0</td>\n",
       "      <td>0</td>\n",
       "      <td>130\\80</td>\n",
       "      <td>0</td>\n",
       "      <td>18388</td>\n",
       "      <td>162</td>\n",
       "      <td>72.0</td>\n",
       "      <td>f</td>\n",
       "    </tr>\n",
       "  </tbody>\n",
       "</table>\n",
       "</div>"
      ],
      "text/plain": [
       "  colesterol glucosa  fuma  alcohol  gimnasia  presion  diabetes   edad  \\\n",
       "0       bajo   media     0        0         0   120/80         1     61   \n",
       "1       bajo    baja     0        0         1   100\\70         0  14582   \n",
       "2       bajo    baja     0        0         0  140/100         1  23389   \n",
       "3       bajo    baja     0        0         1   120\\90         0     47   \n",
       "4       bajo    baja     0        0         0   130\\80         0  18388   \n",
       "\n",
       "   altura  peso sexo  \n",
       "0     165  90.0    f  \n",
       "1     162  50.0    m  \n",
       "2     156  74.0    m  \n",
       "3     162  89.0    m  \n",
       "4     162  72.0    f  "
      ]
     },
     "execution_count": 8,
     "metadata": {},
     "output_type": "execute_result"
    }
   ],
   "source": [
    "df_ana_test = pd.read_csv('https://raw.githubusercontent.com/amiune/freecodingtour/main/cursos/espanol/datascience/data/diabetes/diabetes_test_analisis.csv')\n",
    "df_inf_test = pd.read_csv('https://raw.githubusercontent.com/amiune/freecodingtour/main/cursos/espanol/datascience/data/diabetes/diabetes_test_info.csv')\n",
    "df_test = pd.merge(df_ana_test,df_inf_test,on=\"id\")\n",
    "df_test = df_test.drop(\"id\",axis=1)\n",
    "df_test.head()"
   ]
  },
  {
   "cell_type": "code",
   "execution_count": null,
   "id": "6102ba67-b28d-4d5b-a126-66dce1672b72",
   "metadata": {},
   "outputs": [],
   "source": []
  },
  {
   "cell_type": "markdown",
   "id": "726678b9-3fa9-4b79-8825-1bcb73a26c6b",
   "metadata": {},
   "source": [
    "# Fin: [Volver al contenido del curso](https://www.freecodingtour.com/cursos/espanol/datascience/datascience.html)"
   ]
  }
 ],
 "metadata": {
  "kernelspec": {
   "display_name": "base",
   "language": "python",
   "name": "base"
  },
  "language_info": {
   "codemirror_mode": {
    "name": "ipython",
    "version": 3
   },
   "file_extension": ".py",
   "mimetype": "text/x-python",
   "name": "python",
   "nbconvert_exporter": "python",
   "pygments_lexer": "ipython3",
   "version": "3.9.7"
  }
 },
 "nbformat": 4,
 "nbformat_minor": 5
}
