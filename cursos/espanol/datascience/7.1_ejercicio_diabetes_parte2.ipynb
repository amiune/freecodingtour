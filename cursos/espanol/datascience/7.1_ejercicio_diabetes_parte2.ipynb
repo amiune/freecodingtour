{
 "cells": [
  {
   "cell_type": "markdown",
   "id": "6189c5a3-0a6f-460a-a6c6-c4935b71fad1",
   "metadata": {},
   "source": [
    "# Practica de Clasificacion. Parte 2\n",
    "\n",
    "Volveremos a utilizar la tabla con datos de pacientes con diagnostico positivo y negativo de diabetes pero esta vez separaremos la tabla de entrenamiento en dos, entrenamiento y validacion, para ver como distintos parametros elegidos para el algoritmo de clasificacion pueden afectar los resultados."
   ]
  },
  {
   "cell_type": "code",
   "execution_count": null,
   "id": "03b0d4db-a14a-4b86-ad58-4d68b1dac2c8",
   "metadata": {
    "id": "03b0d4db-a14a-4b86-ad58-4d68b1dac2c8"
   },
   "outputs": [],
   "source": [
    "import pandas as pd"
   ]
  },
  {
   "cell_type": "markdown",
   "id": "7c70940a-b6d2-4b0d-809c-31990bfee390",
   "metadata": {},
   "source": [
    "Esta vez cargaremos las tablas ya preprocesadas"
   ]
  },
  {
   "cell_type": "code",
   "execution_count": null,
   "id": "1c3d8e79-a2e2-436e-8d0b-3ddf6800a391",
   "metadata": {
    "id": "1c3d8e79-a2e2-436e-8d0b-3ddf6800a391"
   },
   "outputs": [],
   "source": [
    "df_train = pd.read_csv('data/diabetes/diabetes_train_procesado.csv')\n",
    "df_test = pd.read_csv('data/diabetes/diabetes_test_procesado.csv')"
   ]
  },
  {
   "cell_type": "code",
   "execution_count": null,
   "id": "8472c5fe-5cec-4633-b5cc-29b187cfadb1",
   "metadata": {},
   "outputs": [],
   "source": [
    "X_train = df_train.loc[:, df_train.columns != \"diabetes\"]\n",
    "y_train = df_train.loc[:, \"diabetes\"]\n",
    "\n",
    "X_test = df_test.loc[:, df_test.columns != \"diabetes\"]\n",
    "y_test = df_test.loc[:, \"diabetes\"]"
   ]
  },
  {
   "cell_type": "markdown",
   "id": "074bd511-7116-4545-b63a-4b64bbf5f328",
   "metadata": {},
   "source": [
    "## Dividir la tabla de entrenamiento\n",
    "\n",
    "Dividir la tabla de entrenamiento en entrenamiento y validacion"
   ]
  },
  {
   "cell_type": "code",
   "execution_count": null,
   "id": "af0f7421-08de-4d24-a728-8270d205d926",
   "metadata": {},
   "outputs": [],
   "source": [
    "from sklearn.model_selection import train_test_split\n",
    "X_train2, X_val, y_train2, y_val = train_test_split(X_train, y_train, train_size=0.70, random_state=42)"
   ]
  },
  {
   "cell_type": "markdown",
   "id": "OwmZJm32WdWQ",
   "metadata": {
    "id": "OwmZJm32WdWQ"
   },
   "source": [
    "## Probar distintos parametros y medir\n",
    "\n",
    "Probaremos ahora distintos parametros para el algoritmo de Arbol de Decision y calcularemos la cantidad de aciertos para las tablas de entrenamiento y validacion"
   ]
  },
  {
   "cell_type": "code",
   "execution_count": null,
   "id": "tmPx4DTRV4gX",
   "metadata": {
    "id": "tmPx4DTRV4gX"
   },
   "outputs": [],
   "source": [
    "from sklearn.metrics import accuracy_score\n",
    "\n",
    "def calcular_accuracy_train_val(clf, X_train, y_train, X_val, y_val):\n",
    "    clf.fit(X_train,y_train)\n",
    "    y_train_pred = clf.predict(X_train)\n",
    "    print(\"Entrenamiento accuracy:\",accuracy_score(y_train, y_train_pred))\n",
    "    y_val_pred = clf.predict(X_val)\n",
    "    print(\"Validacion accuracy:\",accuracy_score(y_val, y_val_pred))\n",
    "    return clf"
   ]
  },
  {
   "cell_type": "code",
   "execution_count": null,
   "id": "12e86916-85fa-4834-9490-ec8157ee9ae2",
   "metadata": {
    "colab": {
     "base_uri": "https://localhost:8080/"
    },
    "id": "12e86916-85fa-4834-9490-ec8157ee9ae2",
    "outputId": "d494cd33-b90d-4f2b-c8f3-9bd64a723b11"
   },
   "outputs": [],
   "source": [
    "from sklearn.tree import DecisionTreeClassifier"
   ]
  },
  {
   "cell_type": "markdown",
   "id": "c150bb62-ca9e-4bcf-b651-e301c1937c96",
   "metadata": {},
   "source": [
    "Podemos ver todos los parametros de este clasificador en la pagina oficial de sklearn: https://scikit-learn.org/stable/modules/generated/sklearn.tree.DecisionTreeClassifier.html"
   ]
  },
  {
   "cell_type": "code",
   "execution_count": null,
   "id": "133dd2e0-4779-444d-8df5-d3d545ab4bd8",
   "metadata": {},
   "outputs": [],
   "source": [
    "arbol1 = DecisionTreeClassifier(random_state=42)\n",
    "clf = calcular_accuracy_train_val(arbol1, X_train2, y_train2, X_val, y_val)"
   ]
  },
  {
   "cell_type": "code",
   "execution_count": null,
   "id": "ad38259a-b35d-4d85-baec-c26e764c570a",
   "metadata": {},
   "outputs": [],
   "source": [
    "arbol2 = DecisionTreeClassifier(criterion=\"entropy\", splitter=\"best\", random_state=42)\n",
    "clf = calcular_accuracy_train_val(arbol2, X_train2, y_train2, X_val, y_val)"
   ]
  },
  {
   "cell_type": "code",
   "execution_count": null,
   "id": "2ac50f3a-8453-4ebe-a3ee-373ac9384c6c",
   "metadata": {},
   "outputs": [],
   "source": [
    "arbol3 = DecisionTreeClassifier(criterion=\"entropy\", splitter=\"random\",random_state=42)\n",
    "clf = calcular_accuracy_train_val(arbol3, X_train2, y_train2, X_val, y_val)"
   ]
  },
  {
   "cell_type": "markdown",
   "id": "e3698d4b-fc4d-44c7-a89f-c3db7943e3d1",
   "metadata": {},
   "source": [
    "Finalmente seleccionamos la combinacion de parametros que nos ha dado el mejor resultado y calculamos las metricas de Entrenamiento y Prueba. En este caso el mejor arbol es el que usa el parametro criterion=\"entropy\" y ahora utilizamos las tablas de Entrenamiento y Prueba originales."
   ]
  },
  {
   "cell_type": "code",
   "execution_count": null,
   "id": "75a8a700-1cb8-4f2f-9fc9-cc6c327c2d3d",
   "metadata": {},
   "outputs": [],
   "source": [
    "clf = DecisionTreeClassifier(criterion=\"entropy\",random_state=42)\n",
    "clf.fit(X_train,y_train)\n",
    "y_train_pred = clf.predict(X_train)\n",
    "print(\"Entrenamiento accuracy:\",accuracy_score(y_train, y_train_pred))\n",
    "y_test_pred = clf.predict(X_test)\n",
    "print(\"Prueba accuracy:\",accuracy_score(y_test, y_test_pred))"
   ]
  },
  {
   "cell_type": "markdown",
   "id": "5d2e369d-cc82-410f-917b-d15c47791d5b",
   "metadata": {},
   "source": [
    "## Validacion Cruzada y Busqueda de grilla\n",
    "\n",
    "Ahora utilizaremos las funciones de [Validacion Cruzada](https://scikit-learn.org/stable/modules/cross_validation.html) y [Busqueda de Grilla](https://scikit-learn.org/stable/modules/generated/sklearn.model_selection.GridSearchCV.html) que provee sklearn para automatizar este proceso y obtener los mejores hiperparametros para cada clasificador. La funcion de busqueda de grilla me permite pasarle los parametros que queremos probar y automaticamente probara todos los modelos, hara cross validation para evaluarlos y nos devolvera cuales han sido los mejores parametros:"
   ]
  },
  {
   "cell_type": "code",
   "execution_count": null,
   "id": "92db8d58-889f-4474-a417-d784036d5e46",
   "metadata": {},
   "outputs": [],
   "source": [
    "mis_parametros_a_probar = { \n",
    "    'splitter' : ['best','random'],\n",
    "    'criterion' :['gini', 'entropy', 'log_loss'],\n",
    "    'random_state' : [42]\n",
    "}"
   ]
  },
  {
   "cell_type": "code",
   "execution_count": null,
   "id": "39cb2b0c-904d-4192-b98f-fd2ea574a7e4",
   "metadata": {},
   "outputs": [],
   "source": [
    "from sklearn.model_selection import GridSearchCV\n",
    "cv = GridSearchCV(\n",
    "    estimator=DecisionTreeClassifier(), \n",
    "    param_grid=mis_parametros_a_probar, \n",
    "    cv=5)\n",
    "cv.fit(X_train, y_train)\n",
    "cv.best_params_"
   ]
  },
  {
   "cell_type": "markdown",
   "id": "f9ba3e8f-4765-4ac9-9e31-17f6e50ea72f",
   "metadata": {},
   "source": [
    "Finalmente obtenemos el que ha dado el mejor resultado a traves del parametro **best_estimator_**"
   ]
  },
  {
   "cell_type": "code",
   "execution_count": null,
   "id": "24b26967-f668-4ee2-b736-6ea8b5364705",
   "metadata": {},
   "outputs": [],
   "source": [
    "clf = cv.best_estimator_\n",
    "clf.fit(X_train,y_train)\n",
    "y_train_pred = clf.predict(X_train)\n",
    "print(\"Entrenamiento accuracy:\",accuracy_score(y_train, y_train_pred))\n",
    "y_test_pred = clf.predict(X_test)\n",
    "print(\"Prueba accuracy:\",accuracy_score(y_test, y_test_pred))"
   ]
  },
  {
   "cell_type": "markdown",
   "id": "c5740cc2-d9a6-4dd6-a61b-e68ec1d95150",
   "metadata": {},
   "source": [
    "## Ejercicio 1:\n",
    "    \n",
    "Repetir el proceso para el clasificador de [regresion logistica](https://scikit-learn.org/stable/modules/generated/sklearn.linear_model.LogisticRegression.html) utilizando la funcion GridSearchCV()"
   ]
  },
  {
   "cell_type": "code",
   "execution_count": null,
   "id": "668f9526-42c5-4d03-a75e-a1027ac6e26b",
   "metadata": {},
   "outputs": [],
   "source": [
    "# Escribir aqui la solucion\n",
    "\n",
    "\n"
   ]
  },
  {
   "cell_type": "code",
   "execution_count": null,
   "id": "93b399f3-a030-427a-9b68-9d4db2507f2f",
   "metadata": {},
   "outputs": [],
   "source": [
    "#@title Solucion Ejercicio 1 {display-mode:\"form\"}\n",
    "\n",
    "mis_parametros_a_probar = { \n",
    "    'penalty' : ['l2',None],\n",
    "    'max_iter' :[300],\n",
    "    'random_state' : [42]\n",
    "}\n",
    "\n",
    "from sklearn.linear_model import LogisticRegression\n",
    "cv = GridSearchCV(\n",
    "    estimator=LogisticRegression(), \n",
    "    param_grid=mis_parametros_a_probar, \n",
    "    cv=5)\n",
    "cv.fit(X_train, y_train)\n",
    "print(\"Los mejores parametros son:\", cv.best_params_)\n",
    "\n",
    "clf = cv.best_estimator_\n",
    "clf.fit(X_train,y_train)\n",
    "y_train_pred = clf.predict(X_train)\n",
    "print(\"Entrenamiento accuracy:\",accuracy_score(y_train, y_train_pred))\n",
    "y_test_pred = clf.predict(X_test)\n",
    "print(\"Prueba accuracy:\",accuracy_score(y_test, y_test_pred))"
   ]
  },
  {
   "cell_type": "markdown",
   "id": "50d91586-b557-4b73-abbf-4291e7e303e7",
   "metadata": {},
   "source": [
    "## Ejercicio 2:\n",
    "    \n",
    "Repetir el proceso para el clasificador de [HistGradientBoosting](https://scikit-learn.org/stable/modules/generated/sklearn.ensemble.HistGradientBoostingClassifier.html) utilizando la funcion GridSearchCV()"
   ]
  },
  {
   "cell_type": "code",
   "execution_count": null,
   "id": "b3dbaf79-0f06-4a93-ba35-2303610248b8",
   "metadata": {},
   "outputs": [],
   "source": [
    "# Escribir aqui la solucion\n",
    "\n",
    "\n"
   ]
  },
  {
   "cell_type": "code",
   "execution_count": null,
   "id": "ebec8f00-09d8-4d28-9f02-9c78ec92fac4",
   "metadata": {},
   "outputs": [],
   "source": [
    "#@title Solucion Ejercicio 2 {display-mode:\"form\"}\n",
    "\n",
    "# Notemos aqui que ya se empieza a tardar mucho cuando los parametros a probar\n",
    "# son muchos y el algoritmo es lento \n",
    "\n",
    "mis_parametros_a_probar = { \n",
    "    'learning_rate' : [0.05, 0.1],\n",
    "    'min_samples_leaf' : [20, 30],\n",
    "    'random_state' : [42]\n",
    "}\n",
    "\n",
    "from sklearn.ensemble import HistGradientBoostingClassifier\n",
    "cv = GridSearchCV(\n",
    "    estimator=HistGradientBoostingClassifier(), \n",
    "    param_grid=mis_parametros_a_probar, \n",
    "    cv=3)\n",
    "cv.fit(X_train, y_train)\n",
    "print(\"Los mejores parametros son:\", cv.best_params_)\n",
    "\n",
    "clf = cv.best_estimator_\n",
    "clf.fit(X_train,y_train)\n",
    "y_train_pred = clf.predict(X_train)\n",
    "print(\"Entrenamiento accuracy:\",accuracy_score(y_train, y_train_pred))\n",
    "y_test_pred = clf.predict(X_test)\n",
    "print(\"Prueba accuracy:\",accuracy_score(y_test, y_test_pred))"
   ]
  },
  {
   "cell_type": "markdown",
   "id": "dbefe893-6a57-456f-9897-0bc90408bf63",
   "metadata": {},
   "source": [
    "# Fin: [Volver al contenido del curso](https://www.freecodingtour.com/cursos/espanol/datascience/datascience.html)"
   ]
  }
 ],
 "metadata": {
  "colab": {
   "provenance": []
  },
  "kernelspec": {
   "display_name": "base",
   "language": "python",
   "name": "base"
  },
  "language_info": {
   "codemirror_mode": {
    "name": "ipython",
    "version": 3
   },
   "file_extension": ".py",
   "mimetype": "text/x-python",
   "name": "python",
   "nbconvert_exporter": "python",
   "pygments_lexer": "ipython3",
   "version": "3.9.7"
  }
 },
 "nbformat": 4,
 "nbformat_minor": 5
}
