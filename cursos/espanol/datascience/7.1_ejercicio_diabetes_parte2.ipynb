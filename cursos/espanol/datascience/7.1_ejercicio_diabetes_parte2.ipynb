{
 "cells": [
  {
   "cell_type": "markdown",
   "id": "6189c5a3-0a6f-460a-a6c6-c4935b71fad1",
   "metadata": {},
   "source": [
    "# Practica de Clasificacion. BD: Diabetes\n",
    "\n",
    "Predecir con una precision mayor al 95% los casos de diabetes en el conjunto de test. Preprocesar los datos de las tablas para poder entrenar varios modelos distintos. Tener en cuenta que la edad puede estar expresada en dias o años. "
   ]
  },
  {
   "cell_type": "code",
   "execution_count": 1,
   "id": "03b0d4db-a14a-4b86-ad58-4d68b1dac2c8",
   "metadata": {
    "id": "03b0d4db-a14a-4b86-ad58-4d68b1dac2c8"
   },
   "outputs": [],
   "source": [
    "import pandas as pd\n",
    "import numpy as np"
   ]
  },
  {
   "cell_type": "code",
   "execution_count": 2,
   "id": "1c3d8e79-a2e2-436e-8d0b-3ddf6800a391",
   "metadata": {
    "id": "1c3d8e79-a2e2-436e-8d0b-3ddf6800a391"
   },
   "outputs": [],
   "source": [
    "df_ana = pd.read_csv('data/diabetes_v2/diabetes_train_analysis.csv')\n",
    "df_inf = pd.read_csv('data/diabetes_v2/diabetes_train_info.csv')\n",
    "df_ana_test = pd.read_csv('data/diabetes_v2/diabetes_test_analysis.csv')\n",
    "df_inf_test = pd.read_csv('data/diabetes_v2/diabetes_test_info.csv')"
   ]
  },
  {
   "cell_type": "code",
   "execution_count": 3,
   "id": "95866da4-7825-4c7a-bc39-c79d836e8708",
   "metadata": {
    "colab": {
     "base_uri": "https://localhost:8080/",
     "height": 206
    },
    "id": "95866da4-7825-4c7a-bc39-c79d836e8708",
    "outputId": "208cfd1b-e8bf-4924-9c9c-837761c6da33"
   },
   "outputs": [
    {
     "data": {
      "text/html": [
       "<div>\n",
       "<style scoped>\n",
       "    .dataframe tbody tr th:only-of-type {\n",
       "        vertical-align: middle;\n",
       "    }\n",
       "\n",
       "    .dataframe tbody tr th {\n",
       "        vertical-align: top;\n",
       "    }\n",
       "\n",
       "    .dataframe thead th {\n",
       "        text-align: right;\n",
       "    }\n",
       "</style>\n",
       "<table border=\"1\" class=\"dataframe\">\n",
       "  <thead>\n",
       "    <tr style=\"text-align: right;\">\n",
       "      <th></th>\n",
       "      <th>id</th>\n",
       "      <th>cholesterol</th>\n",
       "      <th>gluc</th>\n",
       "      <th>smoke</th>\n",
       "      <th>alco</th>\n",
       "      <th>active</th>\n",
       "      <th>pressure</th>\n",
       "      <th>diabetes</th>\n",
       "    </tr>\n",
       "  </thead>\n",
       "  <tbody>\n",
       "    <tr>\n",
       "      <th>0</th>\n",
       "      <td>62538</td>\n",
       "      <td>low</td>\n",
       "      <td>low</td>\n",
       "      <td>0</td>\n",
       "      <td>0</td>\n",
       "      <td>1</td>\n",
       "      <td>100/80</td>\n",
       "      <td>0</td>\n",
       "    </tr>\n",
       "    <tr>\n",
       "      <th>1</th>\n",
       "      <td>49159</td>\n",
       "      <td>low</td>\n",
       "      <td>low</td>\n",
       "      <td>0</td>\n",
       "      <td>0</td>\n",
       "      <td>1</td>\n",
       "      <td>120/82</td>\n",
       "      <td>0</td>\n",
       "    </tr>\n",
       "    <tr>\n",
       "      <th>2</th>\n",
       "      <td>60683</td>\n",
       "      <td>low</td>\n",
       "      <td>low</td>\n",
       "      <td>0</td>\n",
       "      <td>0</td>\n",
       "      <td>1</td>\n",
       "      <td>120/80</td>\n",
       "      <td>0</td>\n",
       "    </tr>\n",
       "    <tr>\n",
       "      <th>3</th>\n",
       "      <td>42924</td>\n",
       "      <td>low</td>\n",
       "      <td>low</td>\n",
       "      <td>0</td>\n",
       "      <td>0</td>\n",
       "      <td>0</td>\n",
       "      <td>120\\80</td>\n",
       "      <td>0</td>\n",
       "    </tr>\n",
       "    <tr>\n",
       "      <th>4</th>\n",
       "      <td>52888</td>\n",
       "      <td>low</td>\n",
       "      <td>low</td>\n",
       "      <td>0</td>\n",
       "      <td>0</td>\n",
       "      <td>0</td>\n",
       "      <td>120/80</td>\n",
       "      <td>0</td>\n",
       "    </tr>\n",
       "  </tbody>\n",
       "</table>\n",
       "</div>"
      ],
      "text/plain": [
       "      id cholesterol gluc  smoke  alco  active pressure  diabetes\n",
       "0  62538         low  low      0     0       1   100/80         0\n",
       "1  49159         low  low      0     0       1   120/82         0\n",
       "2  60683         low  low      0     0       1   120/80         0\n",
       "3  42924         low  low      0     0       0   120\\80         0\n",
       "4  52888         low  low      0     0       0   120/80         0"
      ]
     },
     "execution_count": 3,
     "metadata": {},
     "output_type": "execute_result"
    }
   ],
   "source": [
    "df_ana.head()"
   ]
  },
  {
   "cell_type": "code",
   "execution_count": 4,
   "id": "4wRVC2kaRhMK",
   "metadata": {
    "colab": {
     "base_uri": "https://localhost:8080/",
     "height": 206
    },
    "id": "4wRVC2kaRhMK",
    "outputId": "08beae8e-462a-4a42-d93d-30cf8285cca6"
   },
   "outputs": [
    {
     "data": {
      "text/html": [
       "<div>\n",
       "<style scoped>\n",
       "    .dataframe tbody tr th:only-of-type {\n",
       "        vertical-align: middle;\n",
       "    }\n",
       "\n",
       "    .dataframe tbody tr th {\n",
       "        vertical-align: top;\n",
       "    }\n",
       "\n",
       "    .dataframe thead th {\n",
       "        text-align: right;\n",
       "    }\n",
       "</style>\n",
       "<table border=\"1\" class=\"dataframe\">\n",
       "  <thead>\n",
       "    <tr style=\"text-align: right;\">\n",
       "      <th></th>\n",
       "      <th>id</th>\n",
       "      <th>age</th>\n",
       "      <th>height</th>\n",
       "      <th>weight</th>\n",
       "      <th>gender</th>\n",
       "    </tr>\n",
       "  </thead>\n",
       "  <tbody>\n",
       "    <tr>\n",
       "      <th>0</th>\n",
       "      <td>0</td>\n",
       "      <td>50</td>\n",
       "      <td>168</td>\n",
       "      <td>62.0</td>\n",
       "      <td>f</td>\n",
       "    </tr>\n",
       "    <tr>\n",
       "      <th>1</th>\n",
       "      <td>1</td>\n",
       "      <td>55</td>\n",
       "      <td>156</td>\n",
       "      <td>85.0</td>\n",
       "      <td>m</td>\n",
       "    </tr>\n",
       "    <tr>\n",
       "      <th>2</th>\n",
       "      <td>2</td>\n",
       "      <td>18857</td>\n",
       "      <td>165</td>\n",
       "      <td>64.0</td>\n",
       "      <td>male</td>\n",
       "    </tr>\n",
       "    <tr>\n",
       "      <th>3</th>\n",
       "      <td>3</td>\n",
       "      <td>17623</td>\n",
       "      <td>169</td>\n",
       "      <td>82.0</td>\n",
       "      <td>f</td>\n",
       "    </tr>\n",
       "    <tr>\n",
       "      <th>4</th>\n",
       "      <td>4</td>\n",
       "      <td>47</td>\n",
       "      <td>156</td>\n",
       "      <td>56.0</td>\n",
       "      <td>m</td>\n",
       "    </tr>\n",
       "  </tbody>\n",
       "</table>\n",
       "</div>"
      ],
      "text/plain": [
       "   id    age  height  weight gender\n",
       "0   0     50     168    62.0      f\n",
       "1   1     55     156    85.0      m\n",
       "2   2  18857     165    64.0   male\n",
       "3   3  17623     169    82.0      f\n",
       "4   4     47     156    56.0      m"
      ]
     },
     "execution_count": 4,
     "metadata": {},
     "output_type": "execute_result"
    }
   ],
   "source": [
    "df_inf.head()"
   ]
  },
  {
   "cell_type": "code",
   "execution_count": 5,
   "id": "9a35b539-25fb-485b-bfce-e74d1a737389",
   "metadata": {},
   "outputs": [],
   "source": [
    "df_train = pd.merge(df_ana,df_inf,on=\"id\")\n",
    "df_test = pd.merge(df_ana_test,df_inf_test,on=\"id\")"
   ]
  },
  {
   "cell_type": "markdown",
   "id": "06586d28-1378-40c3-9e3e-7ac909e809a2",
   "metadata": {},
   "source": [
    "## Preprocesamiento de datos"
   ]
  },
  {
   "cell_type": "code",
   "execution_count": 6,
   "id": "e8808047-8721-4902-b264-584bb244efe6",
   "metadata": {
    "id": "e8808047-8721-4902-b264-584bb244efe6"
   },
   "outputs": [],
   "source": [
    "def Transform(df):\n",
    "    df.pressure = df.pressure.str.replace(\"\\\\\",\"/\", regex=False)\n",
    "    df[[\"pressure1\",\"pressure2\"]] = df.pressure.str.split(\"/\", expand=True).astype(float)\n",
    "    df = df.drop(\"pressure\",axis=1)\n",
    "    df = df.drop(\"id\",axis=1)\n",
    "    df.gender = df.gender.str.replace(\"female\",\"f\")\n",
    "    df.gender = df.gender.str.replace(\"male\",\"m\")\n",
    "    df.loc[df[\"age\"] < 150, \"age\"] = df.loc[df[\"age\"] < 150, \"age\"] * 365\n",
    "    df.weight.fillna(df.weight.mean(), inplace=True)\n",
    "    df = pd.get_dummies(df, columns=[\"cholesterol\",\"gluc\",\"gender\"])\n",
    "    return df"
   ]
  },
  {
   "cell_type": "code",
   "execution_count": 7,
   "id": "6ee12441-a41c-4ae9-8225-0ed1d90c69e9",
   "metadata": {
    "colab": {
     "base_uri": "https://localhost:8080/",
     "height": 270
    },
    "id": "6ee12441-a41c-4ae9-8225-0ed1d90c69e9",
    "outputId": "65e2bb70-6229-40a6-c02d-eefd167d4f58"
   },
   "outputs": [
    {
     "data": {
      "text/html": [
       "<div>\n",
       "<style scoped>\n",
       "    .dataframe tbody tr th:only-of-type {\n",
       "        vertical-align: middle;\n",
       "    }\n",
       "\n",
       "    .dataframe tbody tr th {\n",
       "        vertical-align: top;\n",
       "    }\n",
       "\n",
       "    .dataframe thead th {\n",
       "        text-align: right;\n",
       "    }\n",
       "</style>\n",
       "<table border=\"1\" class=\"dataframe\">\n",
       "  <thead>\n",
       "    <tr style=\"text-align: right;\">\n",
       "      <th></th>\n",
       "      <th>smoke</th>\n",
       "      <th>alco</th>\n",
       "      <th>active</th>\n",
       "      <th>diabetes</th>\n",
       "      <th>age</th>\n",
       "      <th>height</th>\n",
       "      <th>weight</th>\n",
       "      <th>pressure1</th>\n",
       "      <th>pressure2</th>\n",
       "      <th>cholesterol_high</th>\n",
       "      <th>cholesterol_low</th>\n",
       "      <th>cholesterol_medium</th>\n",
       "      <th>gluc_high</th>\n",
       "      <th>gluc_low</th>\n",
       "      <th>gluc_medium</th>\n",
       "      <th>gender_f</th>\n",
       "      <th>gender_m</th>\n",
       "    </tr>\n",
       "  </thead>\n",
       "  <tbody>\n",
       "    <tr>\n",
       "      <th>0</th>\n",
       "      <td>0</td>\n",
       "      <td>0</td>\n",
       "      <td>1</td>\n",
       "      <td>0</td>\n",
       "      <td>0.119910</td>\n",
       "      <td>0.567395</td>\n",
       "      <td>0.126280</td>\n",
       "      <td>-0.175302</td>\n",
       "      <td>-0.086953</td>\n",
       "      <td>0</td>\n",
       "      <td>1</td>\n",
       "      <td>0</td>\n",
       "      <td>0</td>\n",
       "      <td>1</td>\n",
       "      <td>0</td>\n",
       "      <td>1</td>\n",
       "      <td>0</td>\n",
       "    </tr>\n",
       "    <tr>\n",
       "      <th>1</th>\n",
       "      <td>0</td>\n",
       "      <td>0</td>\n",
       "      <td>1</td>\n",
       "      <td>0</td>\n",
       "      <td>-0.618194</td>\n",
       "      <td>0.079476</td>\n",
       "      <td>-0.639530</td>\n",
       "      <td>-0.054742</td>\n",
       "      <td>-0.076428</td>\n",
       "      <td>0</td>\n",
       "      <td>1</td>\n",
       "      <td>0</td>\n",
       "      <td>0</td>\n",
       "      <td>1</td>\n",
       "      <td>0</td>\n",
       "      <td>0</td>\n",
       "      <td>1</td>\n",
       "    </tr>\n",
       "    <tr>\n",
       "      <th>2</th>\n",
       "      <td>0</td>\n",
       "      <td>0</td>\n",
       "      <td>1</td>\n",
       "      <td>0</td>\n",
       "      <td>1.030711</td>\n",
       "      <td>0.689375</td>\n",
       "      <td>-1.266102</td>\n",
       "      <td>-0.054742</td>\n",
       "      <td>-0.086953</td>\n",
       "      <td>0</td>\n",
       "      <td>1</td>\n",
       "      <td>0</td>\n",
       "      <td>0</td>\n",
       "      <td>1</td>\n",
       "      <td>0</td>\n",
       "      <td>0</td>\n",
       "      <td>1</td>\n",
       "    </tr>\n",
       "    <tr>\n",
       "      <th>3</th>\n",
       "      <td>0</td>\n",
       "      <td>0</td>\n",
       "      <td>0</td>\n",
       "      <td>0</td>\n",
       "      <td>0.353273</td>\n",
       "      <td>0.567395</td>\n",
       "      <td>-0.848387</td>\n",
       "      <td>-0.054742</td>\n",
       "      <td>-0.086953</td>\n",
       "      <td>0</td>\n",
       "      <td>1</td>\n",
       "      <td>0</td>\n",
       "      <td>0</td>\n",
       "      <td>1</td>\n",
       "      <td>0</td>\n",
       "      <td>0</td>\n",
       "      <td>1</td>\n",
       "    </tr>\n",
       "    <tr>\n",
       "      <th>4</th>\n",
       "      <td>0</td>\n",
       "      <td>0</td>\n",
       "      <td>0</td>\n",
       "      <td>0</td>\n",
       "      <td>-1.298867</td>\n",
       "      <td>0.201456</td>\n",
       "      <td>-0.500292</td>\n",
       "      <td>-0.054742</td>\n",
       "      <td>-0.086953</td>\n",
       "      <td>0</td>\n",
       "      <td>1</td>\n",
       "      <td>0</td>\n",
       "      <td>0</td>\n",
       "      <td>1</td>\n",
       "      <td>0</td>\n",
       "      <td>0</td>\n",
       "      <td>1</td>\n",
       "    </tr>\n",
       "  </tbody>\n",
       "</table>\n",
       "</div>"
      ],
      "text/plain": [
       "   smoke  alco  active  diabetes       age    height    weight  pressure1  \\\n",
       "0      0     0       1         0  0.119910  0.567395  0.126280  -0.175302   \n",
       "1      0     0       1         0 -0.618194  0.079476 -0.639530  -0.054742   \n",
       "2      0     0       1         0  1.030711  0.689375 -1.266102  -0.054742   \n",
       "3      0     0       0         0  0.353273  0.567395 -0.848387  -0.054742   \n",
       "4      0     0       0         0 -1.298867  0.201456 -0.500292  -0.054742   \n",
       "\n",
       "   pressure2  cholesterol_high  cholesterol_low  cholesterol_medium  \\\n",
       "0  -0.086953                 0                1                   0   \n",
       "1  -0.076428                 0                1                   0   \n",
       "2  -0.086953                 0                1                   0   \n",
       "3  -0.086953                 0                1                   0   \n",
       "4  -0.086953                 0                1                   0   \n",
       "\n",
       "   gluc_high  gluc_low  gluc_medium  gender_f  gender_m  \n",
       "0          0         1            0         1         0  \n",
       "1          0         1            0         0         1  \n",
       "2          0         1            0         0         1  \n",
       "3          0         1            0         0         1  \n",
       "4          0         1            0         0         1  "
      ]
     },
     "execution_count": 7,
     "metadata": {},
     "output_type": "execute_result"
    }
   ],
   "source": [
    "from sklearn.preprocessing import MinMaxScaler\n",
    "from sklearn.preprocessing import StandardScaler\n",
    "\n",
    "df_train = Transform(df_train)\n",
    "scaler = StandardScaler().fit(df_train[[\"age\",\"height\",\"weight\",\"pressure1\",\"pressure2\"]])\n",
    "df_train[[\"age\",\"height\",\"weight\",\"pressure1\",\"pressure2\"]] = scaler.transform(df_train[[\"age\",\"height\",\"weight\",\"pressure1\",\"pressure2\"]])\n",
    "df_train.head()"
   ]
  },
  {
   "cell_type": "code",
   "execution_count": 8,
   "id": "b1d29c2c-4f63-422b-8358-783df8bf25f1",
   "metadata": {
    "id": "b1d29c2c-4f63-422b-8358-783df8bf25f1"
   },
   "outputs": [],
   "source": [
    "X_train = df_train.loc[:, df_train.columns != \"diabetes\"]\n",
    "y_train = df_train.loc[:, \"diabetes\"]"
   ]
  },
  {
   "cell_type": "code",
   "execution_count": 9,
   "id": "03ff1182-bbb3-4f38-951c-15196818f24c",
   "metadata": {
    "colab": {
     "base_uri": "https://localhost:8080/",
     "height": 270
    },
    "id": "03ff1182-bbb3-4f38-951c-15196818f24c",
    "outputId": "4e093f4b-4118-4369-802d-2fac96dc4d3f"
   },
   "outputs": [
    {
     "data": {
      "text/html": [
       "<div>\n",
       "<style scoped>\n",
       "    .dataframe tbody tr th:only-of-type {\n",
       "        vertical-align: middle;\n",
       "    }\n",
       "\n",
       "    .dataframe tbody tr th {\n",
       "        vertical-align: top;\n",
       "    }\n",
       "\n",
       "    .dataframe thead th {\n",
       "        text-align: right;\n",
       "    }\n",
       "</style>\n",
       "<table border=\"1\" class=\"dataframe\">\n",
       "  <thead>\n",
       "    <tr style=\"text-align: right;\">\n",
       "      <th></th>\n",
       "      <th>smoke</th>\n",
       "      <th>alco</th>\n",
       "      <th>active</th>\n",
       "      <th>diabetes</th>\n",
       "      <th>age</th>\n",
       "      <th>height</th>\n",
       "      <th>weight</th>\n",
       "      <th>pressure1</th>\n",
       "      <th>pressure2</th>\n",
       "      <th>cholesterol_high</th>\n",
       "      <th>cholesterol_low</th>\n",
       "      <th>cholesterol_medium</th>\n",
       "      <th>gluc_high</th>\n",
       "      <th>gluc_low</th>\n",
       "      <th>gluc_medium</th>\n",
       "      <th>gender_f</th>\n",
       "      <th>gender_m</th>\n",
       "    </tr>\n",
       "  </thead>\n",
       "  <tbody>\n",
       "    <tr>\n",
       "      <th>0</th>\n",
       "      <td>0</td>\n",
       "      <td>0</td>\n",
       "      <td>0</td>\n",
       "      <td>1</td>\n",
       "      <td>1.153256</td>\n",
       "      <td>0.079476</td>\n",
       "      <td>1.100946</td>\n",
       "      <td>-0.054742</td>\n",
       "      <td>-0.086953</td>\n",
       "      <td>0</td>\n",
       "      <td>1</td>\n",
       "      <td>0</td>\n",
       "      <td>0</td>\n",
       "      <td>0</td>\n",
       "      <td>1</td>\n",
       "      <td>1</td>\n",
       "      <td>0</td>\n",
       "    </tr>\n",
       "    <tr>\n",
       "      <th>1</th>\n",
       "      <td>0</td>\n",
       "      <td>0</td>\n",
       "      <td>1</td>\n",
       "      <td>0</td>\n",
       "      <td>-1.954061</td>\n",
       "      <td>-0.286463</td>\n",
       "      <td>-1.683816</td>\n",
       "      <td>-0.175302</td>\n",
       "      <td>-0.139576</td>\n",
       "      <td>0</td>\n",
       "      <td>1</td>\n",
       "      <td>0</td>\n",
       "      <td>0</td>\n",
       "      <td>1</td>\n",
       "      <td>0</td>\n",
       "      <td>0</td>\n",
       "      <td>1</td>\n",
       "    </tr>\n",
       "    <tr>\n",
       "      <th>2</th>\n",
       "      <td>0</td>\n",
       "      <td>0</td>\n",
       "      <td>0</td>\n",
       "      <td>1</td>\n",
       "      <td>1.607847</td>\n",
       "      <td>-1.018342</td>\n",
       "      <td>-0.012958</td>\n",
       "      <td>0.065819</td>\n",
       "      <td>0.018293</td>\n",
       "      <td>0</td>\n",
       "      <td>1</td>\n",
       "      <td>0</td>\n",
       "      <td>0</td>\n",
       "      <td>1</td>\n",
       "      <td>0</td>\n",
       "      <td>0</td>\n",
       "      <td>1</td>\n",
       "    </tr>\n",
       "    <tr>\n",
       "      <th>3</th>\n",
       "      <td>0</td>\n",
       "      <td>0</td>\n",
       "      <td>1</td>\n",
       "      <td>0</td>\n",
       "      <td>-0.913435</td>\n",
       "      <td>-0.286463</td>\n",
       "      <td>1.031327</td>\n",
       "      <td>-0.054742</td>\n",
       "      <td>-0.034330</td>\n",
       "      <td>0</td>\n",
       "      <td>1</td>\n",
       "      <td>0</td>\n",
       "      <td>0</td>\n",
       "      <td>1</td>\n",
       "      <td>0</td>\n",
       "      <td>0</td>\n",
       "      <td>1</td>\n",
       "    </tr>\n",
       "    <tr>\n",
       "      <th>4</th>\n",
       "      <td>0</td>\n",
       "      <td>0</td>\n",
       "      <td>0</td>\n",
       "      <td>0</td>\n",
       "      <td>-0.414760</td>\n",
       "      <td>-0.286463</td>\n",
       "      <td>-0.152197</td>\n",
       "      <td>0.005539</td>\n",
       "      <td>-0.086953</td>\n",
       "      <td>0</td>\n",
       "      <td>1</td>\n",
       "      <td>0</td>\n",
       "      <td>0</td>\n",
       "      <td>1</td>\n",
       "      <td>0</td>\n",
       "      <td>1</td>\n",
       "      <td>0</td>\n",
       "    </tr>\n",
       "  </tbody>\n",
       "</table>\n",
       "</div>"
      ],
      "text/plain": [
       "   smoke  alco  active  diabetes       age    height    weight  pressure1  \\\n",
       "0      0     0       0         1  1.153256  0.079476  1.100946  -0.054742   \n",
       "1      0     0       1         0 -1.954061 -0.286463 -1.683816  -0.175302   \n",
       "2      0     0       0         1  1.607847 -1.018342 -0.012958   0.065819   \n",
       "3      0     0       1         0 -0.913435 -0.286463  1.031327  -0.054742   \n",
       "4      0     0       0         0 -0.414760 -0.286463 -0.152197   0.005539   \n",
       "\n",
       "   pressure2  cholesterol_high  cholesterol_low  cholesterol_medium  \\\n",
       "0  -0.086953                 0                1                   0   \n",
       "1  -0.139576                 0                1                   0   \n",
       "2   0.018293                 0                1                   0   \n",
       "3  -0.034330                 0                1                   0   \n",
       "4  -0.086953                 0                1                   0   \n",
       "\n",
       "   gluc_high  gluc_low  gluc_medium  gender_f  gender_m  \n",
       "0          0         0            1         1         0  \n",
       "1          0         1            0         0         1  \n",
       "2          0         1            0         0         1  \n",
       "3          0         1            0         0         1  \n",
       "4          0         1            0         1         0  "
      ]
     },
     "execution_count": 9,
     "metadata": {},
     "output_type": "execute_result"
    }
   ],
   "source": [
    "df_test = Transform(df_test)\n",
    "df_test[[\"age\",\"height\",\"weight\",\"pressure1\",\"pressure2\"]] = scaler.transform(df_test[[\"age\",\"height\",\"weight\",\"pressure1\",\"pressure2\"]])\n",
    "df_test.head()"
   ]
  },
  {
   "cell_type": "code",
   "execution_count": 10,
   "id": "40db5b5e-9f45-4e87-8f65-b95787e72126",
   "metadata": {
    "id": "40db5b5e-9f45-4e87-8f65-b95787e72126"
   },
   "outputs": [],
   "source": [
    "X_test = df_test.loc[:, df_test.columns != \"diabetes\"]\n",
    "y_test = df_test.loc[:, \"diabetes\"]"
   ]
  },
  {
   "cell_type": "markdown",
   "id": "7660fcbd-cd8f-4833-a1fe-ea4fc97ff739",
   "metadata": {},
   "source": [
    "## Cross Validation"
   ]
  },
  {
   "cell_type": "code",
   "execution_count": null,
   "id": "cea309be-4cd5-463a-8358-f221b2f6c6ff",
   "metadata": {},
   "outputs": [],
   "source": []
  },
  {
   "cell_type": "code",
   "execution_count": null,
   "id": "d0b01a49-5ed5-4916-b0b4-fdc11dfdd607",
   "metadata": {},
   "outputs": [],
   "source": []
  },
  {
   "cell_type": "code",
   "execution_count": null,
   "id": "a19e6713-5a46-4ce4-b502-d6a591f05e5c",
   "metadata": {},
   "outputs": [],
   "source": []
  },
  {
   "cell_type": "markdown",
   "id": "OwmZJm32WdWQ",
   "metadata": {
    "id": "OwmZJm32WdWQ"
   },
   "source": [
    "## Probemos ahora distintos clasificadores"
   ]
  },
  {
   "cell_type": "code",
   "execution_count": 11,
   "id": "tmPx4DTRV4gX",
   "metadata": {
    "id": "tmPx4DTRV4gX"
   },
   "outputs": [],
   "source": [
    "from sklearn.metrics import accuracy_score\n",
    "\n",
    "def tryClassifier(clf):\n",
    "    clf.fit(X_train,y_train)\n",
    "    y_pred = clf.predict(X_train)\n",
    "    print(\"Train accuracy:\",accuracy_score(y_train, y_pred))\n",
    "    y_pred = clf.predict(X_test)\n",
    "    print(\"Test accuracy:\",accuracy_score(y_test, y_pred))\n",
    "    return clf"
   ]
  },
  {
   "cell_type": "code",
   "execution_count": 17,
   "id": "dba09fe4-3ef5-4d86-a454-bfdac46188b8",
   "metadata": {},
   "outputs": [
    {
     "name": "stdout",
     "output_type": "stream",
     "text": [
      "Train accuracy: 0.9906166666666667\n",
      "Test accuracy: 0.9907\n"
     ]
    }
   ],
   "source": [
    "from sklearn.linear_model import LogisticRegression\n",
    "tryClassifier(LogisticRegression(max_iter=300));"
   ]
  },
  {
   "cell_type": "code",
   "execution_count": 13,
   "id": "oDo38m8zTaTW",
   "metadata": {
    "colab": {
     "base_uri": "https://localhost:8080/"
    },
    "id": "oDo38m8zTaTW",
    "outputId": "14c09466-71a3-4cb0-fcdb-c51ebfc7aa9e"
   },
   "outputs": [
    {
     "name": "stdout",
     "output_type": "stream",
     "text": [
      "Train accuracy: 0.9716\n",
      "Test accuracy: 0.9594\n"
     ]
    }
   ],
   "source": [
    "from sklearn.neighbors import KNeighborsClassifier\n",
    "tryClassifier(KNeighborsClassifier());"
   ]
  },
  {
   "cell_type": "code",
   "execution_count": 14,
   "id": "12e86916-85fa-4834-9490-ec8157ee9ae2",
   "metadata": {
    "colab": {
     "base_uri": "https://localhost:8080/"
    },
    "id": "12e86916-85fa-4834-9490-ec8157ee9ae2",
    "outputId": "d494cd33-b90d-4f2b-c8f3-9bd64a723b11"
   },
   "outputs": [
    {
     "name": "stdout",
     "output_type": "stream",
     "text": [
      "Train accuracy: 1.0\n",
      "Test accuracy: 0.9816\n"
     ]
    },
    {
     "data": {
      "text/plain": [
       "array([0.00040626, 0.00069686, 0.08193203, 0.14296917, 0.00623408,\n",
       "       0.15126961, 0.00898837, 0.11910039, 0.02480277, 0.03551205,\n",
       "       0.00499759, 0.        , 0.29851917, 0.02067721, 0.06895002,\n",
       "       0.03494443])"
      ]
     },
     "execution_count": 14,
     "metadata": {},
     "output_type": "execute_result"
    }
   ],
   "source": [
    "from sklearn.tree import DecisionTreeClassifier\n",
    "clf = tryClassifier(DecisionTreeClassifier())\n",
    "clf.feature_importances_"
   ]
  },
  {
   "cell_type": "code",
   "execution_count": 15,
   "id": "cTZfAYfhSX-m",
   "metadata": {
    "colab": {
     "base_uri": "https://localhost:8080/"
    },
    "id": "cTZfAYfhSX-m",
    "outputId": "0ac8fa7e-2402-4378-bd7e-f726c347ba9e"
   },
   "outputs": [
    {
     "name": "stdout",
     "output_type": "stream",
     "text": [
      "Train accuracy: 0.9962\n",
      "Test accuracy: 0.9905\n"
     ]
    }
   ],
   "source": [
    "from sklearn.ensemble import HistGradientBoostingClassifier\n",
    "tryClassifier(HistGradientBoostingClassifier());"
   ]
  },
  {
   "cell_type": "code",
   "execution_count": 16,
   "id": "GS1i4pQITTCY",
   "metadata": {
    "colab": {
     "base_uri": "https://localhost:8080/"
    },
    "id": "GS1i4pQITTCY",
    "outputId": "5dc7deea-f29d-42d7-af83-5220e4a1c528"
   },
   "outputs": [
    {
     "name": "stdout",
     "output_type": "stream",
     "text": [
      "Train accuracy: 0.9967\n",
      "Test accuracy: 0.9968\n"
     ]
    }
   ],
   "source": [
    "from sklearn.svm import LinearSVC\n",
    "tryClassifier(LinearSVC(max_iter=10000));"
   ]
  },
  {
   "cell_type": "code",
   "execution_count": null,
   "id": "fed884be-ad6d-49a1-a087-c3f28fa67ea2",
   "metadata": {},
   "outputs": [],
   "source": []
  }
 ],
 "metadata": {
  "colab": {
   "provenance": []
  },
  "kernelspec": {
   "display_name": "base",
   "language": "python",
   "name": "base"
  },
  "language_info": {
   "codemirror_mode": {
    "name": "ipython",
    "version": 3
   },
   "file_extension": ".py",
   "mimetype": "text/x-python",
   "name": "python",
   "nbconvert_exporter": "python",
   "pygments_lexer": "ipython3",
   "version": "3.9.7"
  }
 },
 "nbformat": 4,
 "nbformat_minor": 5
}
