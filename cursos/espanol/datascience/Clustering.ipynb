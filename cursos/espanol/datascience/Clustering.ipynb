{
 "cells": [
  {
   "cell_type": "markdown",
   "id": "b3238efc-8203-4cc9-9ed8-420eec8da6f8",
   "metadata": {},
   "source": [
    "# Clustering\n",
    "\n",
    "Visualizaciones:\n",
    "- [Kmeans](https://www.naftaliharris.com/blog/visualizing-k-means-clustering/)\n",
    "- [DBScan](https://www.naftaliharris.com/blog/visualizing-dbscan-clustering/)\n",
    "\n",
    "PyCaret Clustering:\n",
    "- [Ejemplo](https://nbviewer.org/github/pycaret/pycaret/blob/master/tutorials/Tutorial%20-%20Clustering.ipynb)\n",
    "\n",
    "Datasets:\n",
    "- [Customers Data](https://www.kaggle.com/datasets/datascientistanna/customers-dataset)\n",
    "- [Wine Data](https://www.kaggle.com/datasets/harrywang/wine-dataset-for-clustering)\n",
    "- [Credit Card Data](https://www.kaggle.com/datasets/arjunbhasin2013/ccdata)\n",
    "\n",
    "\n",
    "Casos de Uso Reales:\n",
    "- [Clustering Residential Electricity Consumption Data to Create Archetypes that Capture Household Behaviour in South Africa](https://arxiv.org/abs/2006.07197)\n",
    "\n",
    "Notas:\n",
    "- [Sobre las metricas](https://arxiv.org/abs/2212.12189)\n",
    "- [Sobre la escala](https://stats.stackexchange.com/questions/89809/is-it-important-to-scale-data-before-clustering)\n"
   ]
  },
  {
   "cell_type": "code",
   "execution_count": null,
   "id": "8e1aab1d-b83b-4a03-b0e1-e0e365468c03",
   "metadata": {},
   "outputs": [],
   "source": []
  }
 ],
 "metadata": {
  "kernelspec": {
   "display_name": "Python 3 (ipykernel)",
   "language": "python",
   "name": "python3"
  },
  "language_info": {
   "codemirror_mode": {
    "name": "ipython",
    "version": 3
   },
   "file_extension": ".py",
   "mimetype": "text/x-python",
   "name": "python",
   "nbconvert_exporter": "python",
   "pygments_lexer": "ipython3",
   "version": "3.9.18"
  }
 },
 "nbformat": 4,
 "nbformat_minor": 5
}
