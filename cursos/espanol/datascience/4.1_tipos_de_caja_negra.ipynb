{
 "cells": [
  {
   "cell_type": "markdown",
   "id": "9295eac5-f052-48d5-bda3-76aed79ec9b3",
   "metadata": {},
   "source": [
    "# Existen dos clases de cajas negras\n",
    "\n",
    "Los algoritmos de machine learning que hasta aqui los llamamos cajas negras pueden ser de dos clases segun la variable que deban predecir:\n",
    "- **De Regresion**: si la variable a predecir es numerica (hay un numero infinito de valores posibles)\n",
    "- **De Clasificacion**: si la variable a predecir es categorica (solo hay un numero finito de valores posibles)\n",
    "\n",
    "Veamos algunos ejemplos:"
   ]
  },
  {
   "cell_type": "code",
   "execution_count": null,
   "id": "11891735-6fc5-4680-951f-9f4a495f910e",
   "metadata": {},
   "outputs": [],
   "source": []
  },
  {
   "cell_type": "markdown",
   "id": "f2b42437-b1ba-4475-a7cc-c5665e320638",
   "metadata": {},
   "source": [
    "Algoritmos mas conocidos y que veremos en mas detalle en las proximas unidades:\n",
    "- KNN\n",
    "- Arboles de decision\n",
    "- Regresion Lineal y Regresion Logistica\n",
    "- Naive Bayes\n",
    "\n",
    "Tambien hay algoritmos que utilizan una combinacion de varios para crear uno mejor, estos se llaman ensambles.\n",
    "\n",
    "Todos estos algoritmos existen para ambas clases de prediccion: regresion y clasificacion."
   ]
  },
  {
   "cell_type": "code",
   "execution_count": null,
   "id": "a3616240-76e4-41c3-8984-01ecdd6145ae",
   "metadata": {},
   "outputs": [],
   "source": []
  },
  {
   "cell_type": "code",
   "execution_count": null,
   "id": "44ec05a0-ebca-4aed-87f9-840e89e64912",
   "metadata": {},
   "outputs": [],
   "source": []
  }
 ],
 "metadata": {
  "kernelspec": {
   "display_name": "Python 3 (ipykernel)",
   "language": "python",
   "name": "python3"
  },
  "language_info": {
   "codemirror_mode": {
    "name": "ipython",
    "version": 3
   },
   "file_extension": ".py",
   "mimetype": "text/x-python",
   "name": "python",
   "nbconvert_exporter": "python",
   "pygments_lexer": "ipython3",
   "version": "3.9.7"
  }
 },
 "nbformat": 4,
 "nbformat_minor": 5
}
