{
 "cells": [
  {
   "cell_type": "markdown",
   "id": "c1d9a7e6-ad54-4aab-8104-fe648d640f1f",
   "metadata": {
    "tags": []
   },
   "source": [
    "# Graficos"
   ]
  },
  {
   "cell_type": "markdown",
   "id": "c53a86f9-968a-4741-8b3a-6e20acd38658",
   "metadata": {},
   "source": [
    "Crear graficos es simple. Si recordamos como lo haciamos en la escuela, aqui es igual. Tenemos dos ejes:\n",
    "- Eje x\n",
    "- Eje y\n",
    "\n",
    "Y le pasaremos a la funcion que realiza el grafico la lista de valores que queremos que dibuje en dichos ejes."
   ]
  },
  {
   "cell_type": "markdown",
   "id": "09dabcad-b832-45c7-8d79-982e44629048",
   "metadata": {},
   "source": [
    "## La libreria seaborn\n",
    "\n",
    "Esta libreria nos permitira crear graficos de forma simple. Comencemos importando dicha libreria:"
   ]
  },
  {
   "cell_type": "code",
   "execution_count": 2,
   "id": "a6104ca3-2626-4e25-8471-e34201026a9c",
   "metadata": {},
   "outputs": [],
   "source": [
    "import seaborn as sns"
   ]
  },
  {
   "cell_type": "markdown",
   "id": "da5b91b3-9654-4a45-8aee-491d49a49e67",
   "metadata": {},
   "source": [
    "Ahora carguemos una tabla de ejemplo que viene incluida en esta libreria y que contiene propinas que han dejado en un restaurante:"
   ]
  },
  {
   "cell_type": "code",
   "execution_count": 3,
   "id": "59e774a8-f6c9-4d34-b153-f97c15947faf",
   "metadata": {},
   "outputs": [
    {
     "name": "stdout",
     "output_type": "stream",
     "text": [
      "<class 'pandas.core.frame.DataFrame'> (244, 7)\n"
     ]
    },
    {
     "data": {
      "text/html": [
       "<div>\n",
       "<style scoped>\n",
       "    .dataframe tbody tr th:only-of-type {\n",
       "        vertical-align: middle;\n",
       "    }\n",
       "\n",
       "    .dataframe tbody tr th {\n",
       "        vertical-align: top;\n",
       "    }\n",
       "\n",
       "    .dataframe thead th {\n",
       "        text-align: right;\n",
       "    }\n",
       "</style>\n",
       "<table border=\"1\" class=\"dataframe\">\n",
       "  <thead>\n",
       "    <tr style=\"text-align: right;\">\n",
       "      <th></th>\n",
       "      <th>total_bill</th>\n",
       "      <th>tip</th>\n",
       "      <th>sex</th>\n",
       "      <th>smoker</th>\n",
       "      <th>day</th>\n",
       "      <th>time</th>\n",
       "      <th>size</th>\n",
       "    </tr>\n",
       "  </thead>\n",
       "  <tbody>\n",
       "    <tr>\n",
       "      <th>0</th>\n",
       "      <td>16.99</td>\n",
       "      <td>1.01</td>\n",
       "      <td>Female</td>\n",
       "      <td>No</td>\n",
       "      <td>Sun</td>\n",
       "      <td>Dinner</td>\n",
       "      <td>2</td>\n",
       "    </tr>\n",
       "    <tr>\n",
       "      <th>1</th>\n",
       "      <td>10.34</td>\n",
       "      <td>1.66</td>\n",
       "      <td>Male</td>\n",
       "      <td>No</td>\n",
       "      <td>Sun</td>\n",
       "      <td>Dinner</td>\n",
       "      <td>3</td>\n",
       "    </tr>\n",
       "    <tr>\n",
       "      <th>2</th>\n",
       "      <td>21.01</td>\n",
       "      <td>3.50</td>\n",
       "      <td>Male</td>\n",
       "      <td>No</td>\n",
       "      <td>Sun</td>\n",
       "      <td>Dinner</td>\n",
       "      <td>3</td>\n",
       "    </tr>\n",
       "    <tr>\n",
       "      <th>3</th>\n",
       "      <td>23.68</td>\n",
       "      <td>3.31</td>\n",
       "      <td>Male</td>\n",
       "      <td>No</td>\n",
       "      <td>Sun</td>\n",
       "      <td>Dinner</td>\n",
       "      <td>2</td>\n",
       "    </tr>\n",
       "    <tr>\n",
       "      <th>4</th>\n",
       "      <td>24.59</td>\n",
       "      <td>3.61</td>\n",
       "      <td>Female</td>\n",
       "      <td>No</td>\n",
       "      <td>Sun</td>\n",
       "      <td>Dinner</td>\n",
       "      <td>4</td>\n",
       "    </tr>\n",
       "  </tbody>\n",
       "</table>\n",
       "</div>"
      ],
      "text/plain": [
       "   total_bill   tip     sex smoker  day    time  size\n",
       "0       16.99  1.01  Female     No  Sun  Dinner     2\n",
       "1       10.34  1.66    Male     No  Sun  Dinner     3\n",
       "2       21.01  3.50    Male     No  Sun  Dinner     3\n",
       "3       23.68  3.31    Male     No  Sun  Dinner     2\n",
       "4       24.59  3.61  Female     No  Sun  Dinner     4"
      ]
     },
     "execution_count": 3,
     "metadata": {},
     "output_type": "execute_result"
    }
   ],
   "source": [
    "tips = sns.load_dataset(\"tips\")\n",
    "print(type(tips),tips.shape)\n",
    "tips.head()"
   ]
  },
  {
   "cell_type": "markdown",
   "id": "306ebe05-b7cd-474f-8c85-4afc7f2ea6e0",
   "metadata": {},
   "source": [
    "Vemos que la tabla es un DataFrame de pandas con 244 filas y 7 columnas.\n",
    "Las columnas son las siguientes:\n",
    "- total_bill: el total de la cuenta\n",
    "- tip: la propina\n",
    "- sex: el sexo del mesero\n",
    "- smoker: si es el area de fumadores o no\n",
    "- day: dia de la semana\n",
    "- time: si es almuerzo o cena\n",
    "- size: cantidad de personas en la mesa\n",
    "\n",
    "Utilicemos ahora la libreria de graficos para analizar estos datos:"
   ]
  },
  {
   "cell_type": "markdown",
   "id": "bb837f32-4cd6-41ef-8bee-3f8fb6080d37",
   "metadata": {
    "tags": []
   },
   "source": [
    "## Analisis de una variable\n",
    "\n",
    "Veremos ahora funciones de seaborn que nos permiten hacer graficos para obtener informacion de una sola variable. Entonces en este caso solo debemos pasarle una lista de valores para el eje x. Como trabajaremos con tablas de pandas, es decir DataFrames, bastara con pasarle el nombre de la columna que queremos graficar."
   ]
  },
  {
   "cell_type": "markdown",
   "id": "a2de48bb-01d1-4377-bf7b-4259e902a4cb",
   "metadata": {
    "tags": []
   },
   "source": [
    "### Variables categoricas"
   ]
  },
  {
   "cell_type": "markdown",
   "id": "d8b53def-5ba2-48d8-b932-8e0f04f5b71a",
   "metadata": {},
   "source": [
    "A continuacion utilizaremos la fucion countplot de seaborn para mostrar un grafico de barras que muestra la cantidad de valores de cada tipo:"
   ]
  },
  {
   "cell_type": "code",
   "execution_count": 4,
   "id": "2f24f20c-1fd5-4748-9d9c-fb35c467c4c5",
   "metadata": {},
   "outputs": [
    {
     "data": {
      "text/plain": [
       "<Axes: xlabel='sex', ylabel='count'>"
      ]
     },
     "execution_count": 4,
     "metadata": {},
     "output_type": "execute_result"
    },
    {
     "data": {
      "image/png": "[encoded data removed]",
      "text/plain": [
       "<Figure size 640x480 with 1 Axes>"
      ]
     },
     "metadata": {},
     "output_type": "display_data"
    }
   ],
   "source": [
    "sns.countplot(data=tips, x=\"sex\")"
   ]
  },
  {
   "cell_type": "markdown",
   "id": "aa82c45b-c480-4d9d-b9ac-069bbc47f3ac",
   "metadata": {
    "tags": []
   },
   "source": [
    "### Variables numericas: discretas o continuas"
   ]
  },
  {
   "cell_type": "markdown",
   "id": "879983a8-bb34-44c7-8492-64656770c0fd",
   "metadata": {},
   "source": [
    "La funcion histplot muestra un histograma de una variable numerica:"
   ]
  },
  {
   "cell_type": "code",
   "execution_count": null,
   "id": "0bcb9f7c-a0f5-411a-b996-1af2b10022a4",
   "metadata": {},
   "outputs": [],
   "source": [
    "sns.histplot(data=tips, x=\"tip\")"
   ]
  },
  {
   "cell_type": "markdown",
   "id": "7e09b528-fd62-4236-bc64-0cb8e7b60a0c",
   "metadata": {},
   "source": [
    "La funcion kdeplot muestra la distribucion de una variable numerica:"
   ]
  },
  {
   "cell_type": "code",
   "execution_count": null,
   "id": "bd073564-e187-4c2b-8e42-646ce1670b89",
   "metadata": {},
   "outputs": [],
   "source": [
    "sns.kdeplot(data=tips, x=\"tip\")"
   ]
  },
  {
   "cell_type": "markdown",
   "id": "9263e7e7-124f-4a93-9673-01fc382322e2",
   "metadata": {
    "tags": []
   },
   "source": [
    "## Analisis de dos o mas variables simultaneamente"
   ]
  },
  {
   "cell_type": "markdown",
   "id": "f2f46ff4-b84a-4fdf-bf25-2c3eb9b5395c",
   "metadata": {},
   "source": [
    "En los siguientes graficos podemos graficar la relacion de dos variables eligiendo que columna queremos graficar en el eje x y que columna en el eje y. Adicionalmente podemos ver como se relaciona una tercera variable con estas dos mediante el color a traves del parametro hue."
   ]
  },
  {
   "cell_type": "code",
   "execution_count": null,
   "id": "d47a811b-d857-4ebc-8fdd-5ebaff58ac27",
   "metadata": {},
   "outputs": [],
   "source": [
    "sns.scatterplot(data=tips, x=\"total_bill\", y=\"tip\", hue=\"sex\")"
   ]
  },
  {
   "cell_type": "markdown",
   "id": "a8e39a86-f413-4e82-99d6-1db76a451c11",
   "metadata": {},
   "source": [
    "Otra forma de relacionar una tercer variable con las dos especificadas por x e y es a traves del atributo col con el cual seaborn me generara un grafico separado para cada valor categorico de esa variable. En el grafico a continuacion vemos que los colores han sido separados en dos graficos distintos:"
   ]
  },
  {
   "cell_type": "code",
   "execution_count": null,
   "id": "543307d2-680b-4496-9d73-b6b6add9abb7",
   "metadata": {},
   "outputs": [],
   "source": [
    "sns.relplot(data=tips, x=\"total_bill\", y=\"tip\", col=\"sex\")"
   ]
  },
  {
   "cell_type": "code",
   "execution_count": null,
   "id": "8c80304f-4c19-45ae-93e0-9a2d3afba09f",
   "metadata": {},
   "outputs": [],
   "source": [
    "sns.relplot(\n",
    "    data=tips,\n",
    "    x=\"total_bill\", y=\"tip\", col=\"time\",\n",
    "    hue=\"smoker\", style=\"smoker\", size=\"size\",\n",
    ")"
   ]
  },
  {
   "cell_type": "code",
   "execution_count": null,
   "id": "a057a7cd-7db7-4b72-a0dd-568bf9575d71",
   "metadata": {},
   "outputs": [],
   "source": [
    "sns.relplot(\n",
    "    data=tips,\n",
    "    x=\"total_bill\", y=\"tip\", col=\"day\",\n",
    "    hue=\"smoker\", style=\"smoker\", size=\"size\",\n",
    ")"
   ]
  },
  {
   "cell_type": "markdown",
   "id": "2447d1fc-62a4-40a8-ba3e-ffc56a8ebfab",
   "metadata": {},
   "source": [
    "## Heatmap de correlaciones"
   ]
  },
  {
   "cell_type": "code",
   "execution_count": null,
   "id": "301de3d5-9c9e-4076-92ce-098351981a51",
   "metadata": {},
   "outputs": [],
   "source": [
    "corr_data = tips[[\"total_bill\",\"tip\",\"size\"]].corr()\n",
    "sns.heatmap(corr_data, annot=True)"
   ]
  },
  {
   "cell_type": "markdown",
   "id": "5acf156d-e531-4191-9404-d62d45056bc5",
   "metadata": {},
   "source": [
    "## Seleccionar el estilo grafico\n",
    "\n",
    "Seaborn permite seleccionar el estilo grafico. Es decir podemos especificar cosas como la paleta de colores, la grilla de fondo, el tamaño de las figuras y muchas cosas mas. Lo recomendable es hacer esto al inicio luego de importar la libreria para que todos los graficos tengan el mismo estilo. Para ello utilizaremos la funcion [set_theme()](https://seaborn.pydata.org/generated/seaborn.set_theme.html#seaborn.set_theme)"
   ]
  },
  {
   "cell_type": "code",
   "execution_count": null,
   "id": "446511da-2bea-4fac-b59b-07ce2b7372fe",
   "metadata": {},
   "outputs": [],
   "source": [
    "import seaborn as sns\n",
    "sns.set_theme(style=\"whitegrid\", \n",
    "              palette=\"pastel\",\n",
    "              rc={'figure.figsize':(11,8)})"
   ]
  },
  {
   "cell_type": "markdown",
   "id": "a32dbc2b-c836-422c-b6f2-fa69a01e3213",
   "metadata": {},
   "source": [
    "Puedes ejecutar el codigo anterior y crear nuevamente los graficos para ver como los graficos cambian de estilo, luego cambiar los parametros y ver nuevamente las diferencias."
   ]
  },
  {
   "cell_type": "markdown",
   "id": "96855392-0baa-4221-bb5a-efe1ea6f6f61",
   "metadata": {},
   "source": [
    "## Matplotlib para mas control del grafico\n",
    "\n",
    "Para mas control sobre cada parametro de un grafico individual podemos utilizar seaborn en combinacion con matplotlib que nos permite manipular cada detalle del grafico como veremos en la siguiente unidad sobre [Matplotlib](https://githubtocolab.com/amiune/freecodingtour/blob/main/cursos/espanol/datascience/A1.1_graficos_matplotlib.ipynb). Para combinar el uso de ambas librerias lo podemos hacer de la siguiente forma:"
   ]
  },
  {
   "cell_type": "code",
   "execution_count": null,
   "id": "76237be1-3571-4943-9419-5e6b277a0e9a",
   "metadata": {},
   "outputs": [],
   "source": [
    "import seaborn as sns\n",
    "import matplotlib.pyplot as plt\n",
    "\n",
    "fig, ax = plt.subplots(figsize=(4, 2))\n",
    "sns.boxplot(ax=ax, data=tips, x=\"total_bill\")\n",
    "ax.set_title(\"Combinando seaborn con matplotlib\");"
   ]
  },
  {
   "cell_type": "markdown",
   "id": "24af7464-e327-489a-a041-e80f9574e2d6",
   "metadata": {
    "tags": []
   },
   "source": [
    "# Ejercicios:"
   ]
  },
  {
   "cell_type": "code",
   "execution_count": null,
   "id": "e075010b-19b6-4f02-948a-ca8cd448dfd2",
   "metadata": {},
   "outputs": [],
   "source": [
    "import pandas as pd\n",
    "import seaborn as sns"
   ]
  },
  {
   "cell_type": "code",
   "execution_count": null,
   "id": "a47d5573-b67a-444e-8d66-643e759d6d36",
   "metadata": {},
   "outputs": [],
   "source": [
    "sns.set_style('whitegrid')\n",
    "sns.set(rc={'figure.figsize':(10,5)})\n",
    "titanic = sns.load_dataset('titanic')"
   ]
  },
  {
   "cell_type": "code",
   "execution_count": null,
   "id": "aa08b2e9-c847-482d-a96e-63ee8393d2d5",
   "metadata": {},
   "outputs": [],
   "source": [
    "titanic.head()"
   ]
  },
  {
   "cell_type": "code",
   "execution_count": null,
   "id": "c12b3512-0f24-4e1a-99d8-d22be9b479b0",
   "metadata": {},
   "outputs": [],
   "source": [
    "titanic.info()"
   ]
  },
  {
   "cell_type": "markdown",
   "id": "4741d534-746f-4136-96ef-2dae4161dcd2",
   "metadata": {},
   "source": [
    "## Ejercicio 1:\n",
    "\n",
    "Crear un grafico de barras que muestre la cantidad de sobreviviente vs no sobrevivientes"
   ]
  },
  {
   "cell_type": "code",
   "execution_count": null,
   "id": "baa62221-4bca-47f6-b222-ea954c1b0db8",
   "metadata": {},
   "outputs": [],
   "source": [
    "# Escribir aqui la solucion\n",
    "\n"
   ]
  },
  {
   "cell_type": "code",
   "execution_count": null,
   "id": "7fb803e4-7647-4147-a7c0-e879f767f987",
   "metadata": {},
   "outputs": [],
   "source": [
    "#@title Solucion Ejercicio 1 {display-mode:\"form\"}\n",
    "\n",
    "sns.countplot(data=titanic, x=\"survived\");"
   ]
  },
  {
   "cell_type": "markdown",
   "id": "2c1dc133-bf41-48c5-8994-8b3a974c4f22",
   "metadata": {},
   "source": [
    "## Ejercicio 2:\n",
    "\n",
    "Crear un grafico de barras que muestre la cantidad de pasajeros hombres vs mujeres"
   ]
  },
  {
   "cell_type": "code",
   "execution_count": null,
   "id": "18f5973c-853c-434e-83c1-23c537b73d44",
   "metadata": {},
   "outputs": [],
   "source": [
    "# Escribir aqui la solucion\n",
    "\n"
   ]
  },
  {
   "cell_type": "code",
   "execution_count": null,
   "id": "f7ec43ff-8554-415d-98b0-d705b49cf9ba",
   "metadata": {},
   "outputs": [],
   "source": [
    "#@title Solucion Ejercicio 2 {display-mode:\"form\"}\n",
    "\n",
    "sns.countplot(data=titanic, x=\"sex\");"
   ]
  },
  {
   "cell_type": "markdown",
   "id": "4f9d5df1-3caa-40ab-8f57-a121dbb72569",
   "metadata": {},
   "source": [
    "## Ejercicio 3\n",
    "\n",
    "Crear un grafico de barras que muestre la cantidad de pasajeros por clase"
   ]
  },
  {
   "cell_type": "code",
   "execution_count": null,
   "id": "20387f04-7887-46c2-b791-96d9291c3df2",
   "metadata": {},
   "outputs": [],
   "source": [
    "# Escribir aqui la solucion\n",
    "\n"
   ]
  },
  {
   "cell_type": "code",
   "execution_count": null,
   "id": "80a3dd50-7a80-4f84-a7b6-4b5901264c73",
   "metadata": {},
   "outputs": [],
   "source": [
    "#@title Solucion Ejercicio 3 {display-mode:\"form\"}\n",
    "\n",
    "sns.countplot(data=titanic, x=\"class\");"
   ]
  },
  {
   "cell_type": "markdown",
   "id": "6f07245a-a28e-4d28-95f0-428fa114d698",
   "metadata": {},
   "source": [
    "## Ejercicio 4:\n",
    "\n",
    "Mostrar la distribucion de la variable fare"
   ]
  },
  {
   "cell_type": "code",
   "execution_count": null,
   "id": "f753346c-eec2-4eb2-8913-2c04cff22da2",
   "metadata": {},
   "outputs": [],
   "source": [
    "# Escribir aqui la solucion\n",
    "\n"
   ]
  },
  {
   "cell_type": "code",
   "execution_count": null,
   "id": "d0c59790-633c-4719-b01b-d7a6ed1fba1c",
   "metadata": {},
   "outputs": [],
   "source": [
    "#@title Solucion Ejercicio 4 {display-mode:\"form\"}\n",
    "\n",
    "sns.kdeplot(data=titanic, x=\"fare\");"
   ]
  },
  {
   "cell_type": "markdown",
   "id": "590dec33-77e3-4bd6-bd1a-cf2309c6965f",
   "metadata": {},
   "source": [
    "## Ejercicio 5:\n",
    "\n",
    "Mostrar la distribucion de la variable edad"
   ]
  },
  {
   "cell_type": "code",
   "execution_count": null,
   "id": "334ade2e-a424-43cc-918a-142d0e755a82",
   "metadata": {},
   "outputs": [],
   "source": [
    "# Escribir aqui la solucion\n",
    "\n"
   ]
  },
  {
   "cell_type": "code",
   "execution_count": null,
   "id": "41de7ce8-8f20-437f-a847-48e346be6fac",
   "metadata": {},
   "outputs": [],
   "source": [
    "#@title Solucion Ejercicio 5 {display-mode:\"form\"}\n",
    "\n",
    "sns.histplot(data=titanic, x=\"age\", bins=10);"
   ]
  },
  {
   "cell_type": "markdown",
   "id": "ddc16a13-5467-4202-9383-096dea1f9cd6",
   "metadata": {},
   "source": [
    "## Ejercicio 6:\n",
    "\n",
    "Mostrar cuantos bebes (menores de 4 años), niños (menores de 16 años) y adultos embarcaron. Ayudarse con pandas creando una nueva columna categorica a partir de la columna edad"
   ]
  },
  {
   "cell_type": "code",
   "execution_count": null,
   "id": "4bf47768-e262-4323-98ea-6354deed1f4b",
   "metadata": {},
   "outputs": [],
   "source": [
    "# Escribir aqui la solucion\n",
    "\n"
   ]
  },
  {
   "cell_type": "code",
   "execution_count": null,
   "id": "2842068b-19e0-4f88-aa58-8e6ced69bc98",
   "metadata": {},
   "outputs": [],
   "source": [
    "#@title Solucion Ejercicio 6 {display-mode:\"form\"}\n",
    "\n",
    "def infant_child_adult(age):\n",
    "    if age < 4:\n",
    "        return \"infant\"\n",
    "    elif age < 16:\n",
    "        return \"child\"\n",
    "    return \"adult\"\n",
    "\n",
    "titanic[\"infant_child_adult\"] = titanic.age.apply(infant_child_adult)\n",
    "sns.countplot(data=titanic, x=\"infant_child_adult\");"
   ]
  },
  {
   "cell_type": "markdown",
   "id": "52666e22-45d1-40c0-8fe3-b973320094cd",
   "metadata": {},
   "source": [
    "## Ejercicio 7:\n",
    "\n",
    "Crear un grafico de cajas de la edad diferenciado por clase"
   ]
  },
  {
   "cell_type": "code",
   "execution_count": null,
   "id": "d977be89-64a8-4e44-bb26-8ce4fb0cbc9e",
   "metadata": {},
   "outputs": [],
   "source": [
    "# Escribir aqui la solucion\n",
    "\n"
   ]
  },
  {
   "cell_type": "code",
   "execution_count": null,
   "id": "ebd1e509-b446-4e0c-8a7f-937f2e7050cb",
   "metadata": {},
   "outputs": [],
   "source": [
    "#@title Solucion Ejercicio 7 {display-mode:\"form\"}\n",
    "\n",
    "sns.boxplot(data=titanic, x='class', y='age');"
   ]
  },
  {
   "cell_type": "markdown",
   "id": "39543d47-fc61-44fe-aa3f-dd10cb8b89f3",
   "metadata": {},
   "source": [
    "#### El grafico de cajas (boxplot)\n",
    "\n",
    "El grafico de cajas nos permite ver los siguiente valores de una distribucion:\n",
    "\n",
    "<div style=\"text-align:center\">\n",
    "<img src=\"img/boxplot.jpeg\" width=\"600\"/>\n",
    "</div>\n",
    "\n",
    "[imagen obtenida de wikipedia](https://es.wikipedia.org/wiki/Diagrama_de_caja)\n",
    "\n",
    "- Q1 (25% de los datos)\n",
    "- Q2 o mediana (el 50% de los datos)\n",
    "- Q3 (75% de los datos)\n",
    "- Rango intercuartílico (RIC): Q3–Q1\n",
    "- Valores atipicos o outliers: son valores inferiores a Q1–1.5·RIC o superiores a Q3+1.5·RIC\n",
    "\n",
    "**Nota:** El grafico de cajas a veces puede ser confuso: [leer articulo](https://nightingaledvs.com/ive-stopped-using-box-plots-should-you/)"
   ]
  },
  {
   "cell_type": "markdown",
   "id": "840abd08-3cd8-4d02-bbc3-41f8b31be9b8",
   "metadata": {},
   "source": [
    "## Ejercicio 8:\n",
    "\n",
    "Mostrar cuantos sobrevivientes hubo por sexo. Usar catplot"
   ]
  },
  {
   "cell_type": "code",
   "execution_count": null,
   "id": "1806c337-95c5-480e-96d4-a19533223534",
   "metadata": {},
   "outputs": [],
   "source": [
    "# Escribir aqui la solucion\n",
    "\n"
   ]
  },
  {
   "cell_type": "code",
   "execution_count": null,
   "id": "01d33385-9c53-4ed5-9851-2e19a1af1c08",
   "metadata": {},
   "outputs": [],
   "source": [
    "#@title Solucion Ejercicio 8 {display-mode:\"form\"}\n",
    "\n",
    "sns.catplot(data=titanic, x=\"sex\", hue=\"survived\", kind=\"count\");"
   ]
  },
  {
   "cell_type": "markdown",
   "id": "2688b9ba-33f1-4e8b-bd42-ca2bfdcb2b53",
   "metadata": {},
   "source": [
    "## Ejercicio 9:\n",
    "\n",
    "Mostrar cuantos sobrevivientes hubo por cada categoria creada por edad (bebe, niño, adulto). Usar catplot"
   ]
  },
  {
   "cell_type": "code",
   "execution_count": null,
   "id": "3789800e-d538-447b-8cf1-a83a069c7531",
   "metadata": {},
   "outputs": [],
   "source": [
    "# Escribir aqui la solucion\n",
    "\n"
   ]
  },
  {
   "cell_type": "code",
   "execution_count": null,
   "id": "fcd03156-f879-4eff-85c7-1cf540abb75d",
   "metadata": {},
   "outputs": [],
   "source": [
    "#@title Solucion Ejercicio 9 {display-mode:\"form\"}\n",
    "\n",
    "sns.catplot(data=titanic, x=\"infant_child_adult\", hue=\"survived\", kind=\"count\");"
   ]
  },
  {
   "cell_type": "markdown",
   "id": "58fc9a25-af8f-4a49-9f0a-be131a7ff499",
   "metadata": {},
   "source": [
    "## Ejercicio 10:\n",
    "\n",
    "Mostrar cuantos sobrevivientes hubo diferenciado por la variable alone. Usar catplot"
   ]
  },
  {
   "cell_type": "code",
   "execution_count": null,
   "id": "e7fa57f2-e31b-476a-9a68-b44e57162ebf",
   "metadata": {},
   "outputs": [],
   "source": [
    "# Escribir aqui la solucion\n",
    "\n"
   ]
  },
  {
   "cell_type": "code",
   "execution_count": null,
   "id": "53aebb18-f523-473f-9aea-0d9d0954578e",
   "metadata": {},
   "outputs": [],
   "source": [
    "#@title Solucion Ejercicio 10 {display-mode:\"form\"}\n",
    "\n",
    "sns.catplot(data=titanic, x=\"alone\", hue=\"survived\", kind=\"count\");"
   ]
  },
  {
   "cell_type": "markdown",
   "id": "37465e29-b128-4c37-a61e-5b0b8e78b14d",
   "metadata": {},
   "source": [
    "## Ejercicio 11:\n",
    "\n",
    "Mostrar cuantos sobrevivientes hubo por clase. Usar catplot"
   ]
  },
  {
   "cell_type": "code",
   "execution_count": null,
   "id": "5a355551-6442-42b8-a9e9-9906dbdbaa29",
   "metadata": {},
   "outputs": [],
   "source": [
    "# Escribir aqui la solucion\n",
    "\n"
   ]
  },
  {
   "cell_type": "code",
   "execution_count": null,
   "id": "d2c3cace-882a-4df8-8790-472deffe675a",
   "metadata": {},
   "outputs": [],
   "source": [
    "#@title Solucion Ejercicio 11 {display-mode:\"form\"}\n",
    "\n",
    "sns.catplot(data=titanic, x=\"class\", hue=\"survived\", kind=\"count\");"
   ]
  },
  {
   "cell_type": "markdown",
   "id": "cc96559e-4894-4ec5-8744-5ebe5b7e3fc0",
   "metadata": {},
   "source": [
    "## Ejercicio 11B:\n",
    "\n",
    "Mostrar cuantos sobrevivientes **hombres** hubo por clase. Usar pandas para filtrar las filas que correspondan a pasajeros hombres"
   ]
  },
  {
   "cell_type": "code",
   "execution_count": null,
   "id": "4b0f4a79-1e4d-4e91-b03c-d92b96e99463",
   "metadata": {},
   "outputs": [],
   "source": [
    "# Escribir aqui la solucion\n",
    "\n"
   ]
  },
  {
   "cell_type": "code",
   "execution_count": null,
   "id": "4d7b0215-cd05-47f3-a266-29924069504d",
   "metadata": {},
   "outputs": [],
   "source": [
    "#@title Solucion Ejercicio 11B {display-mode:\"form\"}\n",
    "\n",
    "df_filtrado = titanic[titanic[\"sex\"] == \"male\"]\n",
    "sns.catplot(data=df_filtrado, x=\"class\", hue=\"survived\", kind=\"count\");\n"
   ]
  },
  {
   "cell_type": "markdown",
   "id": "db0e49e6-06f7-451b-a6ec-78a8754fa626",
   "metadata": {},
   "source": [
    "## Ejercicio 12:\n",
    "\n",
    "Crear un pairplot para las variables fare y age con distintos colores para las clases de la variable survived"
   ]
  },
  {
   "cell_type": "code",
   "execution_count": null,
   "id": "2bf617c2-bca8-4f59-9f4e-643120f0dfa4",
   "metadata": {},
   "outputs": [],
   "source": [
    "# Escribir aqui la solucion\n",
    "\n"
   ]
  },
  {
   "cell_type": "code",
   "execution_count": null,
   "id": "f1f3a2ac-d7cd-49a7-9087-c932d73ee43a",
   "metadata": {},
   "outputs": [],
   "source": [
    "#@title Solucion Ejercicio 12 {display-mode:\"form\"}\n",
    "\n",
    "sns.pairplot(data=titanic[['fare','age','survived']],hue='survived')"
   ]
  },
  {
   "cell_type": "markdown",
   "id": "3a56298f-6f1b-4414-9983-0f0ba7232780",
   "metadata": {},
   "source": [
    "## Ejercicio 13:\n",
    "\n",
    "Crear un dos scaterplots, uno para hombres y otro para mujeres que relacione las variables fare y age y diferencie los sobrevivientes por color"
   ]
  },
  {
   "cell_type": "code",
   "execution_count": null,
   "id": "682b11ab-65c2-4d94-b6c3-f8ae1c434330",
   "metadata": {},
   "outputs": [],
   "source": [
    "# Escribir aqui la solucion\n",
    "\n"
   ]
  },
  {
   "cell_type": "code",
   "execution_count": null,
   "id": "a7028cb7-c261-42e6-9d16-33c4a55de610",
   "metadata": {},
   "outputs": [],
   "source": [
    "#@title Solucion Ejercicio 13 {display-mode:\"form\"}\n",
    "\n",
    "sns.relplot(data=titanic, x=\"fare\", y=\"age\", hue='survived', col=\"sex\"); "
   ]
  },
  {
   "cell_type": "markdown",
   "id": "fcca237a-ba36-4eee-a065-dddd214765c7",
   "metadata": {},
   "source": [
    "Esta unidad esta basada en la documentacion oficial de seaborn, la cual puedes encontrar aqui: https://seaborn.pydata.org/tutorial/function_overview.html"
   ]
  },
  {
   "cell_type": "markdown",
   "id": "2e623176-c94f-4085-941d-32439d2e2f7f",
   "metadata": {},
   "source": [
    "# Fin: [Volver al contenido del curso](https://www.freecodingtour.com/cursos/espanol/datascience/datascience.html)"
   ]
  }
 ],
 "metadata": {
  "kernelspec": {
   "display_name": "Python 3 (ipykernel)",
   "language": "python",
   "name": "python3"
  },
  "language_info": {
   "codemirror_mode": {
    "name": "ipython",
    "version": 3
   },
   "file_extension": ".py",
   "mimetype": "text/x-python",
   "name": "python",
   "nbconvert_exporter": "python",
   "pygments_lexer": "ipython3",
   "version": "3.12.4"
  }
 },
 "nbformat": 4,
 "nbformat_minor": 5
}
