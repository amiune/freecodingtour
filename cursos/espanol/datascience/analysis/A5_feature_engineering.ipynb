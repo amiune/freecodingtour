{
 "cells": [
  {
   "cell_type": "markdown",
   "metadata": {},
   "source": [
    "# Feature Engineering\n",
    "\n",
    "El feature engineering es mas un arte que una ciencia. Consiste mayormente en un trabajo de prueba y error creando y probando si nuevos atributos creados a partir de los que ya tenemos mejoran las predicciones de mis modelos.\n",
    "\n",
    "A continuacion algunas recetas que pueden probarse:"
   ]
  },
  {
   "cell_type": "markdown",
   "metadata": {},
   "source": [
    "### Variables Indicadoras\n",
    "\n",
    "El primer tipo de ingeniería de características consiste en usar variables indicadoras para aislar información clave.\n",
    "\n",
    "Ahora, algunos de ustedes podrían preguntarse: “¿No debería un buen algoritmo aprender la información clave por sí mismo?”\n",
    "\n",
    "Bueno, no siempre. Depende de la cantidad de datos que tengas y de la fuerza de las señales competidoras. Puedes ayudar a tu algoritmo a \"enfocarse\" en lo importante resaltándolo de antemano.\n",
    "\n",
    "- **Variable indicadora basada en umbrales:** Supongamos que estás estudiando las preferencias de consumo de alcohol en EE. UU. y tu conjunto de datos tiene una característica de edad. Puedes crear una variable indicadora para `edad >= 21` para distinguir a los sujetos mayores de la edad legal para consumir alcohol.  \n",
    "- **Variable indicadora a partir de múltiples características:** Estás prediciendo precios de bienes raíces y tienes las características `n_bedrooms` y `n_bathrooms`. Si las casas con 2 habitaciones y 2 baños tienen un valor premium como propiedades de alquiler, puedes crear una variable indicadora para señalarlas.  \n",
    "- **Variable indicadora para eventos especiales:** Estás modelando ventas semanales para un sitio de comercio electrónico. Puedes crear dos variables indicadoras para las semanas de Black Friday y Navidad.  \n",
    "- **Variable indicadora para grupos de clases:** Estás analizando conversiones en un sitio web y tu conjunto de datos tiene la característica categórica `traffic_source`. Podrías crear una variable indicadora para `paid_traffic` marcando observaciones con valores como \"Facebook Ads\" o \"Google Adwords\"."
   ]
  },
  {
   "cell_type": "markdown",
   "metadata": {},
   "source": [
    "### Características de Interacción\n",
    "\n",
    "El siguiente tipo de ingeniería de características implica resaltar las interacciones entre dos o más características.\n",
    "\n",
    "¿Alguna vez escuchaste la frase “el todo es mayor que la suma de las partes”? Bueno, algunas características pueden combinarse para proporcionar más información que por sí solas.\n",
    "\n",
    "Específicamente, busca oportunidades para sumar, restar, multiplicar o dividir múltiples características.\n",
    "\n",
    "- **Suma de dos características:** Supongamos que deseas predecir ingresos a partir de datos preliminares de ventas. Tienes las características `sales_blue_pens` y `sales_black_pens`. Podrías sumarlas si solo te interesa el total de `sales_pens`.  \n",
    "- **Diferencia entre dos características:** Tienes las características `house_built_date` y `house_purchase_date`. Puedes restarlas para crear la característica `house_age_at_purchase`.  \n",
    "- **Producto de dos características:** Estás ejecutando una prueba de precios y tienes la característica `price` y una variable indicadora `conversion`. Puedes multiplicarlas para crear la característica `earnings`.  \n",
    "- **Cociente de dos características:** Tienes un conjunto de datos de campañas de marketing con las características `n_clicks` y `n_impressions`. Puedes dividir clics entre impresiones para crear `click_through_rate`, lo que te permite comparar campañas de diferentes volúmenes.\n",
    "\n",
    "*Nota:* No se recomienda usar un bucle automatizado para crear interacciones para todas tus características, ya que esto puede llevar a una “explosión de características”."
   ]
  },
  {
   "cell_type": "markdown",
   "metadata": {},
   "source": [
    "### Representación de Características\n",
    "\n",
    "El siguiente tipo de ingeniería de características es simple pero impactante. Se llama **representación de características**.\n",
    "\n",
    "Tus datos no siempre vendrán en el formato ideal. Deberías considerar si ganarías información al representar la misma característica de una forma diferente.\n",
    "\n",
    "- **Características de fecha y hora:** Supongamos que tienes la característica `purchase_datetime`. Podría ser más útil extraer `purchase_day_of_week` y `purchase_hour_of_day`. También puedes agregar observaciones para crear características como `purchases_over_last_30_days`.  \n",
    "- **Mapeos de numérico a categórico:** Tienes la característica `years_in_school`. Podrías crear una nueva característica `grade` con clases como \"Primaria\", \"Secundaria\" y \"Preparatoria\".  \n",
    "- **Agrupación de clases dispersas:** Tienes una característica con muchas clases que tienen bajas cuentas de muestra. Puedes intentar agrupar clases similares y luego agrupar las restantes en una única clase \"Otros\".  \n",
    "- **Creación de variables ficticias:** Dependiendo de tu implementación de aprendizaje automático, es posible que necesites transformar manualmente características categóricas en variables ficticias. Siempre debes hacer esto después de agrupar clases dispersas."
   ]
  },
  {
   "cell_type": "markdown",
   "metadata": {},
   "source": [
    "### Datos Externos\n",
    "\n",
    "Un tipo subutilizado de ingeniería de características es incorporar datos externos. Esto puede llevar a algunos de los mayores avances en rendimiento.\n",
    "\n",
    "Por ejemplo, una forma en la que los fondos de cobertura cuantitativos realizan investigaciones es combinando diferentes flujos de datos financieros.\n",
    "\n",
    "Muchos problemas de aprendizaje automático pueden beneficiarse de incorporar datos externos. Aquí hay algunos ejemplos:\n",
    "\n",
    "- **Datos de series temporales:** Lo bueno de los datos de series temporales es que solo necesitas una característica, alguna forma de fecha, para incorporar características de otro conjunto de datos. \n",
    "- **API externas:** Existen muchas API que pueden ayudarte a crear características. Por ejemplo, la API de Visión Computarizada de Microsoft puede devolver el número de rostros en una imagen.  \n",
    "- **Geocodificación:** Supongamos que tienes `street_address`, `city` y `state`. Puedes geocodificarlos en latitud y longitud, lo que te permitirá calcular características como demografía local (por ejemplo, `median_income_within_2_miles`) con la ayuda de otros conjuntos de datos.  \n",
    "- **Otras fuentes de los mismos datos:** ¿Cuántas formas hay de rastrear una campaña de anuncios en Facebook? Podrías tener el píxel de rastreo de Facebook, Google Analytics y posiblemente otro software de terceros. Cada fuente puede proporcionar información que las otras no rastrean. Además, cualquier diferencia entre los conjuntos de datos podría ser informativa (por ejemplo, tráfico de bots que una fuente ignora mientras otra lo registra).  "
   ]
  },
  {
   "cell_type": "markdown",
   "metadata": {},
   "source": [
    "## Referencias:\n",
    "\n",
    "- https://elitedatascience.com/feature-engineering-best-practices"
   ]
  }
 ],
 "metadata": {
  "language_info": {
   "name": "python"
  }
 },
 "nbformat": 4,
 "nbformat_minor": 2
}
