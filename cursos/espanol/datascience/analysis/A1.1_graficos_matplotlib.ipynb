{
 "cells": [
  {
   "cell_type": "markdown",
   "id": "34eb75c1-0ced-4ada-9e6e-c9ac2fe1d204",
   "metadata": {},
   "source": [
    "# Matplotlib"
   ]
  },
  {
   "cell_type": "code",
   "execution_count": null,
   "id": "d238c52c-55d0-4561-add3-9f98896886c7",
   "metadata": {},
   "outputs": [],
   "source": [
    "import matplotlib as mpl\n",
    "import matplotlib.pyplot as plt\n",
    "import numpy as np"
   ]
  },
  {
   "cell_type": "markdown",
   "id": "ea06a8cf-b14a-48a3-b1a5-eac1a7dbc02f",
   "metadata": {
    "tags": []
   },
   "source": [
    "# Componentes fundamentales de un grafico de matplotlib"
   ]
  },
  {
   "cell_type": "markdown",
   "id": "baed3236-b938-425b-817e-e745526454e6",
   "metadata": {
    "jp-MarkdownHeadingCollapsed": true,
    "tags": []
   },
   "source": [
    "## Ejemplo simple"
   ]
  },
  {
   "cell_type": "code",
   "execution_count": null,
   "id": "7f8df285-65f0-4828-b46b-e31bd2c2dd5f",
   "metadata": {},
   "outputs": [],
   "source": [
    "fig, ax = plt.subplots()  # Crea una figura que contiene un par de ejes x-y\n",
    "ax.plot([1, 2, 3, 4], [1, 4, 2, 3]);  # Dibuja datos en el eje de la figura\n",
    "#La Figura (Figure) es el contenedor principal de todo tipo de grafico\n",
    "#Los ejes (Axes) contienen a todo grafico individual dentro de una figura\n",
    "#plt.show() #quizas necesites llamar a esta funcion para ver el grafico"
   ]
  },
  {
   "cell_type": "markdown",
   "id": "bffb1b8b-3981-453b-99e0-09ab2057b163",
   "metadata": {},
   "source": [
    "### La funcion plot: \n",
    "\n",
    "https://matplotlib.org/stable/api/_as_gen/matplotlib.axes.Axes.plot.html#matplotlib-axes-axes-plot"
   ]
  },
  {
   "cell_type": "markdown",
   "id": "f93a4dfa-d1fa-474d-9725-74e350fbb9a5",
   "metadata": {
    "jp-MarkdownHeadingCollapsed": true,
    "tags": []
   },
   "source": [
    "## Anatomia de una figura\n",
    "\n",
    "![Anatomia de una Figura](\n",
    "https://raw.githubusercontent.com/amiune/freecodingtour/main/cursos/espanol/datascience/img/anatomy-matplotlib.png)"
   ]
  },
  {
   "cell_type": "markdown",
   "id": "a60b12f8-edc1-4b05-868e-da4994ad1022",
   "metadata": {},
   "source": [
    "## Figuras con varios ejes\n",
    "\n",
    "https://matplotlib.org/stable/api/_as_gen/matplotlib.pyplot.subplot_mosaic.html#matplotlib.pyplot.subplot_mosaic"
   ]
  },
  {
   "cell_type": "code",
   "execution_count": null,
   "id": "c9646f50-2336-4e3e-ad2f-1ee3f3d522d5",
   "metadata": {},
   "outputs": [],
   "source": [
    "fig = plt.figure()  # Figura vacia\n",
    "fig, ax = plt.subplots()  # Figura con un solo par de ejes\n",
    "fig, axs = plt.subplots(2, 2)  # Figura con una grilla de ejes de 2x2\n",
    "# Figura con un eje a la izquierda y dos a la derecha:\n",
    "fig, axs = plt.subplot_mosaic([['left', 'right-top'],\n",
    "                               ['left', 'right_bottom']]);"
   ]
  },
  {
   "cell_type": "markdown",
   "id": "535892b3-cbce-4cee-ba44-8c80521308e0",
   "metadata": {},
   "source": [
    "## Tipos de datos para dibujar graficos\n",
    "\n",
    "Podemos utilizar numpy arrays, masked numpy arrays y dataframes de pandas"
   ]
  },
  {
   "cell_type": "code",
   "execution_count": null,
   "id": "078876db-584d-4140-890f-d66bcb215276",
   "metadata": {},
   "outputs": [],
   "source": [
    "np.random.seed(42) \n",
    "data = {'a': np.arange(50),\n",
    "        'c': np.random.randint(0, 50, 50),\n",
    "        'd': np.random.randn(50)}\n",
    "data['b'] = data['a'] + 10 * np.random.randn(50)\n",
    "data['d'] = np.abs(data['d']) * 100\n",
    "\n",
    "fig, ax = plt.subplots(figsize=(10, 5.4))\n",
    "ax.scatter(x='a', y='b', c='c', s='d', data=data) #eje x, y, color, size, data\n",
    "ax.set_xlabel('Datos a')\n",
    "ax.set_ylabel('Datos b');"
   ]
  },
  {
   "cell_type": "markdown",
   "id": "17e1f8e3-b08b-437c-9762-30bc148f3137",
   "metadata": {},
   "source": [
    "## Formas de crear graficos: explicita vs implicita (pyplot)"
   ]
  },
  {
   "cell_type": "markdown",
   "id": "7ace4191-52ef-4130-a005-eaa2c5a2ea38",
   "metadata": {},
   "source": [
    "### Metodo Explicito"
   ]
  },
  {
   "cell_type": "code",
   "execution_count": null,
   "id": "9a872f09-6e2d-4f4d-9132-ee5e478ef1c1",
   "metadata": {},
   "outputs": [],
   "source": [
    "x = np.linspace(0, 2, 100)  # Datos\n",
    "\n",
    "fig, ax = plt.subplots(figsize=(10, 5.4))\n",
    "ax.plot(x, x, label='linear')\n",
    "ax.plot(x, x**2, label='quadratic')\n",
    "ax.plot(x, x**3, label='cubic')\n",
    "ax.set_xlabel('x label')\n",
    "ax.set_ylabel('y label')\n",
    "ax.set_title(\"Simple Plot\")\n",
    "ax.legend() "
   ]
  },
  {
   "cell_type": "markdown",
   "id": "61db8cd7-3f18-497c-a93e-d6dce78a6f81",
   "metadata": {},
   "source": [
    "### Metodo implicito"
   ]
  },
  {
   "cell_type": "markdown",
   "id": "5caaa1f5-0e94-49dd-9f78-6d7c38a06417",
   "metadata": {},
   "source": [
    "Si no tengo que volver a graficar sobre una figura creada anteriormente el metodo explicito es mas simple\n",
    "https://matplotlib.org/stable/users/explain/api_interfaces.html#why-be-explicit"
   ]
  },
  {
   "cell_type": "code",
   "execution_count": null,
   "id": "e5a2977f-f2b1-4b03-a6fd-7263aab7593b",
   "metadata": {},
   "outputs": [],
   "source": [
    "x = np.linspace(0, 2, 100)  #Datos\n",
    "\n",
    "plt.figure(figsize=(10, 5.4))\n",
    "plt.plot(x, x, label='linear')\n",
    "plt.plot(x, x**2, label='quadratic')\n",
    "plt.plot(x, x**3, label='cubic')\n",
    "plt.xlabel('x label')\n",
    "plt.ylabel('y label')\n",
    "plt.title(\"Simple Plot\")\n",
    "plt.legend();"
   ]
  },
  {
   "cell_type": "markdown",
   "id": "6f33472e-b55c-4c54-aead-272965e8b508",
   "metadata": {
    "tags": []
   },
   "source": [
    "# Estilos\n",
    "\n",
    "Pueden ser especificados al llamar a la funcion plot o luego mediante set"
   ]
  },
  {
   "cell_type": "code",
   "execution_count": null,
   "id": "6f9f6990-c635-4633-9ecd-27aa0938d7ae",
   "metadata": {},
   "outputs": [],
   "source": [
    "data1, data2, data3, data4 = np.random.randn(4, 100) #Crear 4 datasets aleatorios"
   ]
  },
  {
   "cell_type": "code",
   "execution_count": null,
   "id": "bd87e2cd-d351-4332-a2bd-f40574ad9a16",
   "metadata": {},
   "outputs": [],
   "source": [
    "fig, ax = plt.subplots(figsize=(10, 5.4))\n",
    "x = np.arange(len(data1))\n",
    "ax.plot(x, np.cumsum(data1), color='blue', linewidth=3, linestyle='--')\n",
    "l, = ax.plot(x, np.cumsum(data2), color='orange', linewidth=2)\n",
    "l.set_linestyle(':')"
   ]
  },
  {
   "cell_type": "markdown",
   "id": "6e241719-ae40-4c04-a888-8bdb258a8a87",
   "metadata": {},
   "source": [
    "## Colores\n",
    "\n",
    "https://matplotlib.org/stable/tutorials/colors/colors.html"
   ]
  },
  {
   "cell_type": "code",
   "execution_count": null,
   "id": "210b784b-c78b-4d43-89fa-b735b24c9ca7",
   "metadata": {},
   "outputs": [],
   "source": [
    "fig, ax = plt.subplots(figsize=(10, 5.4))\n",
    "ax.scatter(data1, data2, s=250, facecolor='C0', edgecolor='k')"
   ]
  },
  {
   "cell_type": "markdown",
   "id": "b3e18209-d4e6-4071-bb46-c6d464966656",
   "metadata": {},
   "source": [
    "## Tipos de lineas y tipos de marcadores\n",
    "\n",
    "Tipos de lineas: \n",
    "\n",
    "- https://matplotlib.org/stable/gallery/lines_bars_and_markers/linestyles.html\n",
    "\n",
    "Tipos de marcadores:\n",
    "\n",
    "- https://matplotlib.org/stable/api/_as_gen/matplotlib.markers.MarkerStyle.html#matplotlib.markers.MarkerStyle"
   ]
  },
  {
   "cell_type": "code",
   "execution_count": null,
   "id": "1b51322d-2c5c-4ee0-87c3-1b8b3e14ca59",
   "metadata": {},
   "outputs": [],
   "source": [
    "fig, ax = plt.subplots(figsize=(10, 5.4))\n",
    "ax.plot(data1, 'o', label='data1')\n",
    "ax.plot(data2, 'd', label='data2')\n",
    "ax.plot(data3, 'v', label='data3')\n",
    "ax.plot(data4, 's', label='data4')\n",
    "ax.legend()"
   ]
  },
  {
   "cell_type": "markdown",
   "id": "ba2df6b1-b63a-4f7e-b4c6-e14686359281",
   "metadata": {},
   "source": [
    "## Leyendas de ejes y texto\n",
    "\n",
    "Las funciones set_xlabel, set_ylabel, y set_title son utilizadas para modificar las leyendas de ejes y el titulo del grafico"
   ]
  },
  {
   "cell_type": "code",
   "execution_count": null,
   "id": "2d62d326-d714-45c3-8771-fcdadb59b847",
   "metadata": {},
   "outputs": [],
   "source": [
    "#Datos\n",
    "mu, sigma = 115, 15\n",
    "x = mu + sigma * np.random.randn(10000)\n",
    "\n",
    "#Figura\n",
    "fig, ax = plt.subplots(figsize=(10, 5.4))\n",
    "n, bins, patches = ax.hist(x, 50, density=True, facecolor='C0', alpha=0.75)\n",
    "ax.set_xlabel('Altura [m]')\n",
    "ax.set_ylabel('Probabilidad')\n",
    "ax.set_title('Altura de edificios\\n (o alguna otra cosa)')\n",
    "ax.text(75, .025, r'$\\mu=115,\\ \\sigma=15$') #puedo utilizar dos signos $ para notacion de formulas\n",
    "ax.axis([55, 175, 0, 0.03])\n",
    "ax.grid(True)"
   ]
  },
  {
   "cell_type": "markdown",
   "id": "8b0a5a6b-29d1-4509-b019-d57cab833435",
   "metadata": {},
   "source": [
    "## Anotaciones"
   ]
  },
  {
   "cell_type": "code",
   "execution_count": null,
   "id": "52d81be8-6dd0-41d0-867e-7ebafb8e092b",
   "metadata": {},
   "outputs": [],
   "source": [
    "fig, ax = plt.subplots(figsize=(10, 5.4))\n",
    "\n",
    "t = np.arange(0.0, 5.0, 0.01)\n",
    "s = np.cos(2 * np.pi * t)\n",
    "line, = ax.plot(t, s, lw=2)\n",
    "\n",
    "ax.annotate('Maximo Local', xy=(2, 1), xytext=(2.5, 1.5),\n",
    "            arrowprops=dict(facecolor='black', shrink=0.05, linewidth=0.01))\n",
    "\n",
    "ax.set_ylim(-2, 2)"
   ]
  },
  {
   "cell_type": "markdown",
   "id": "b1fb8feb-a56a-4f7c-ab3a-bd3f1078acfe",
   "metadata": {},
   "source": [
    "## Leyendas\n",
    "\n",
    "https://matplotlib.org/stable/tutorials/intermediate/legend_guide.html"
   ]
  },
  {
   "cell_type": "code",
   "execution_count": null,
   "id": "f5958b10-b42e-4f27-aa32-c6d3a19a7b07",
   "metadata": {},
   "outputs": [],
   "source": [
    "fig, ax = plt.subplots(figsize=(10, 5.4))\n",
    "ax.plot(np.arange(len(data1)), data1, label='data1')\n",
    "ax.plot(np.arange(len(data2)), data2, label='data2')\n",
    "ax.plot(np.arange(len(data3)), data3, 'd', label='data3')\n",
    "ax.legend()"
   ]
  },
  {
   "cell_type": "markdown",
   "id": "aa1bcf05-b2c2-486f-8bc9-88dda1c2675d",
   "metadata": {},
   "source": [
    "## Escala y marcadores de los ejes"
   ]
  },
  {
   "cell_type": "code",
   "execution_count": null,
   "id": "177080f3-ad41-47aa-9112-2f011bc557a4",
   "metadata": {},
   "outputs": [],
   "source": [
    "#Datos\n",
    "xdata = np.arange(len(data1))\n",
    "data = 10**data1\n",
    "\n",
    "#Figura\n",
    "fig, axs = plt.subplots(1, 2, figsize=(10, 5.4))\n",
    "axs[0].plot(xdata, data)\n",
    "axs[1].set_yscale('log')\n",
    "axs[1].plot(xdata, data)"
   ]
  },
  {
   "cell_type": "code",
   "execution_count": null,
   "id": "d4aff057-5bf4-444e-bb74-c1cf26a6f10e",
   "metadata": {},
   "outputs": [],
   "source": [
    "fig, axs = plt.subplots(2, 1, figsize=(10,10))\n",
    "axs[0].plot(xdata, data1)\n",
    "axs[0].set_title('Marcadores automaticos')\n",
    "\n",
    "axs[1].plot(xdata, data1)\n",
    "axs[1].set_xticks(np.arange(0, 100, 30), ['cero', '30', 'sesenta', '90'])\n",
    "axs[1].set_yticks([-1.5, 0, 1.5])\n",
    "axs[1].set_title('Marcadores manuales')"
   ]
  },
  {
   "cell_type": "markdown",
   "id": "53f352e8-6923-4cfd-be84-535c29fade85",
   "metadata": {},
   "source": [
    "## Graficar fechas y strings"
   ]
  },
  {
   "cell_type": "code",
   "execution_count": null,
   "id": "57b12fdd-4615-4aac-a2e2-6e68eaa234e6",
   "metadata": {},
   "outputs": [],
   "source": [
    "#Datos\n",
    "dates = np.arange(np.datetime64('2021-11-15'), np.datetime64('2021-12-25'),\n",
    "                  np.timedelta64(1, 'h'))\n",
    "data = np.cumsum(np.random.randn(len(dates)))\n",
    "\n",
    "#Figura\n",
    "fig, ax = plt.subplots(figsize=(10, 5.4), layout='constrained')\n",
    "ax.plot(dates, data)\n",
    "cdf = mpl.dates.ConciseDateFormatter(ax.xaxis.get_major_locator())\n",
    "ax.xaxis.set_major_formatter(cdf)"
   ]
  },
  {
   "cell_type": "markdown",
   "id": "6dff49b3-0d2a-4737-b11b-378f754a79a2",
   "metadata": {},
   "source": [
    "## Datos categoricos"
   ]
  },
  {
   "cell_type": "code",
   "execution_count": null,
   "id": "1bf63de5-a799-4e0e-ade9-9aff8821d010",
   "metadata": {},
   "outputs": [],
   "source": [
    "fig, ax = plt.subplots(figsize=(5, 2.7), layout='constrained')\n",
    "categories = ['turnips', 'rutabaga', 'cucumber', 'pumpkins']\n",
    "\n",
    "ax.bar(categories, np.random.rand(len(categories)))"
   ]
  },
  {
   "cell_type": "markdown",
   "id": "58a467cb-febd-49fb-a2be-92a6fc1fd6b2",
   "metadata": {},
   "source": [
    "## Agregar una tercera dimension mediante el color"
   ]
  },
  {
   "cell_type": "code",
   "execution_count": null,
   "id": "5cb6e65a-99cd-4fde-8040-ef91b3ee44af",
   "metadata": {},
   "outputs": [],
   "source": [
    "X, Y = np.meshgrid(np.linspace(-3, 3, 128), np.linspace(-3, 3, 128))\n",
    "Z = (1 - X/2 + X**5 + Y**3) * np.exp(-X**2 - Y**2)\n",
    "\n",
    "fig, axs = plt.subplots(2, 2, figsize=(10,6), layout='constrained')\n",
    "\n",
    "#Eje 0,0 pcolormesh()\n",
    "pc = axs[0, 0].pcolormesh(X, Y, Z, vmin=-1, vmax=1, cmap='RdBu_r')\n",
    "fig.colorbar(pc, ax=axs[0, 0])\n",
    "axs[0, 0].set_title('pcolormesh()')\n",
    "\n",
    "#Eje 0,1 countourf()\n",
    "co = axs[0, 1].contourf(X, Y, Z, levels=np.linspace(-1.25, 1.25, 11))\n",
    "fig.colorbar(co, ax=axs[0, 1])\n",
    "axs[0, 1].set_title('contourf()')\n",
    "\n",
    "#Eje 1,0 imgshow()\n",
    "pc = axs[1, 0].imshow(Z**2 * 100, cmap='plasma',\n",
    "                          norm=mpl.colors.LogNorm(vmin=0.01, vmax=100))\n",
    "fig.colorbar(pc, ax=axs[1, 0], extend='both')\n",
    "axs[1, 0].set_title('imshow() with LogNorm()')\n",
    "\n",
    "#Eje 1,1 scatter()\n",
    "pc = axs[1, 1].scatter(data1, data2, c=data3, cmap='RdBu_r')\n",
    "fig.colorbar(pc, ax=axs[1, 1], extend='both')\n",
    "axs[1, 1].set_title('scatter()')"
   ]
  },
  {
   "cell_type": "markdown",
   "id": "4c8a4a03-fea3-4cda-99bd-2b0d34a0d498",
   "metadata": {
    "tags": []
   },
   "source": [
    "# Tipos de graficos\n",
    "\n",
    "https://matplotlib.org/stable/plot_types/index.html"
   ]
  },
  {
   "cell_type": "markdown",
   "id": "9eda90b3-e51c-4268-ad5a-a4ffe177ff93",
   "metadata": {
    "jp-MarkdownHeadingCollapsed": true,
    "tags": []
   },
   "source": [
    "## Plot\n",
    "\n",
    "https://matplotlib.org/stable/plot_types/basic/plot.html#sphx-glr-plot-types-basic-plot-py"
   ]
  },
  {
   "cell_type": "code",
   "execution_count": null,
   "id": "547b74e7-f47d-48e1-a8c6-5de9a4c931d1",
   "metadata": {},
   "outputs": [],
   "source": [
    "# datos\n",
    "x = np.linspace(0, 10, 100)\n",
    "y = 4 + 2 * np.sin(2 * x)\n",
    "\n",
    "# plot\n",
    "fig, ax = plt.subplots(figsize=(10,5.4))\n",
    "\n",
    "ax.plot(x, y, linewidth=2.0)\n",
    "\n",
    "ax.set(xlim=(0, 8), xticks=np.arange(1, 8),\n",
    "       ylim=(0, 8), yticks=np.arange(1, 8))\n",
    "\n",
    "plt.show()"
   ]
  },
  {
   "cell_type": "markdown",
   "id": "d5c39183-37e5-486f-b7e7-7c9cce3de15c",
   "metadata": {
    "jp-MarkdownHeadingCollapsed": true,
    "tags": []
   },
   "source": [
    "## Scatter\n",
    "\n",
    "https://matplotlib.org/stable/plot_types/basic/scatter_plot.html#sphx-glr-plot-types-basic-scatter-plot-py"
   ]
  },
  {
   "cell_type": "code",
   "execution_count": null,
   "id": "a08cd550-f8eb-4aaa-8257-1e6d0b2f4bd9",
   "metadata": {},
   "outputs": [],
   "source": [
    "# datos\n",
    "np.random.seed(3)\n",
    "x = 4 + np.random.normal(0, 2, 24)\n",
    "y = 4 + np.random.normal(0, 2, len(x))\n",
    "# size and color:\n",
    "sizes = np.random.uniform(15, 80, len(x))\n",
    "colors = np.random.uniform(15, 80, len(x))\n",
    "\n",
    "# plot\n",
    "fig, ax = plt.subplots(figsize=(10,5.4))\n",
    "\n",
    "ax.scatter(x, y, s=sizes, c=colors, vmin=0, vmax=100)\n",
    "\n",
    "ax.set(xlim=(0, 8), xticks=np.arange(1, 8),\n",
    "       ylim=(0, 8), yticks=np.arange(1, 8))\n",
    "\n",
    "plt.show()"
   ]
  },
  {
   "cell_type": "markdown",
   "id": "3c282afc-e2e5-4729-ac8f-8bedc1d88b5f",
   "metadata": {
    "jp-MarkdownHeadingCollapsed": true,
    "tags": []
   },
   "source": [
    "## Bar\n",
    "\n",
    "https://matplotlib.org/stable/plot_types/basic/bar.html#sphx-glr-plot-types-basic-bar-py"
   ]
  },
  {
   "cell_type": "code",
   "execution_count": null,
   "id": "047f6802-2ea7-4cbb-b78a-dbc6f3329593",
   "metadata": {},
   "outputs": [],
   "source": [
    "#datos\n",
    "np.random.seed(3)\n",
    "x = 0.5 + np.arange(8)\n",
    "y = np.random.uniform(2, 7, len(x))\n",
    "\n",
    "# plot\n",
    "fig, ax = plt.subplots(figsize=(10,5.4))\n",
    "\n",
    "ax.bar(x, y, width=1, edgecolor=\"white\", linewidth=0.7)\n",
    "\n",
    "ax.set(xlim=(0, 8), xticks=np.arange(1, 8),\n",
    "       ylim=(0, 8), yticks=np.arange(1, 8))\n",
    "\n",
    "plt.show()"
   ]
  },
  {
   "cell_type": "markdown",
   "id": "1f6a0ad6-db4e-4732-b44e-f170dbc09471",
   "metadata": {
    "jp-MarkdownHeadingCollapsed": true,
    "tags": []
   },
   "source": [
    "## Hist\n",
    "\n",
    "https://matplotlib.org/stable/plot_types/stats/hist_plot.html#sphx-glr-plot-types-stats-hist-plot-py"
   ]
  },
  {
   "cell_type": "code",
   "execution_count": null,
   "id": "118559a3-9f6e-405d-8897-6f2c7cfe1de2",
   "metadata": {},
   "outputs": [],
   "source": [
    "# datos\n",
    "np.random.seed(1)\n",
    "x = 4 + np.random.normal(0, 1.5, 200)\n",
    "\n",
    "# plot:\n",
    "fig, ax = plt.subplots(figsize=(10,5.4))\n",
    "\n",
    "ax.hist(x, bins=8, linewidth=0.5, edgecolor=\"white\")\n",
    "\n",
    "ax.set(xlim=(0, 8), xticks=np.arange(1, 8),\n",
    "       ylim=(0, 56), yticks=np.linspace(0, 56, 9))\n",
    "\n",
    "plt.show()"
   ]
  },
  {
   "cell_type": "markdown",
   "id": "a80ba976-cb68-4e1d-a6e3-2b2c8b4678e0",
   "metadata": {
    "jp-MarkdownHeadingCollapsed": true,
    "tags": []
   },
   "source": [
    "## Boxplot\n",
    "\n",
    "https://matplotlib.org/stable/plot_types/stats/boxplot_plot.html"
   ]
  },
  {
   "cell_type": "code",
   "execution_count": null,
   "id": "8de87cca-7079-41d1-a62c-d1950fa76536",
   "metadata": {},
   "outputs": [],
   "source": [
    "# datos\n",
    "np.random.seed(10)\n",
    "D = np.random.normal((3, 5, 4), (1.25, 1.00, 1.25), (100, 3))\n",
    "\n",
    "# plot\n",
    "fig, ax = plt.subplots(figsize=(10,5.4))\n",
    "VP = ax.boxplot(D, positions=[2, 4, 6], widths=1.5, patch_artist=True,\n",
    "                showmeans=False, showfliers=False,\n",
    "                medianprops={\"color\": \"white\", \"linewidth\": 0.5},\n",
    "                boxprops={\"facecolor\": \"C0\", \"edgecolor\": \"white\",\n",
    "                          \"linewidth\": 0.5},\n",
    "                whiskerprops={\"color\": \"C0\", \"linewidth\": 1.5},\n",
    "                capprops={\"color\": \"C0\", \"linewidth\": 1.5})\n",
    "\n",
    "ax.set(xlim=(0, 8), xticks=np.arange(1, 8),\n",
    "       ylim=(0, 8), yticks=np.arange(1, 8))\n",
    "\n",
    "plt.show()"
   ]
  },
  {
   "cell_type": "markdown",
   "id": "a24b7af6-421c-4055-b8a9-a31c6d5a5e98",
   "metadata": {
    "tags": []
   },
   "source": [
    "# Ejercicios Matplotlib "
   ]
  },
  {
   "cell_type": "markdown",
   "id": "e64c90f0-2e58-45bc-9aa6-0f75b147a5db",
   "metadata": {
    "tags": []
   },
   "source": [
    "## Ejercicio 1\n",
    "\n",
    "Dados el siguiente dataframe crear una figura de Matplotlib con cuatro graficos (ejes) de lineas donde los tres primeros contengan graficos correspondientes a los datos de las columnas a, b y c del dataframe y el cuarto una linea recta.\n",
    "\n",
    "Aclaraciones:\n",
    "\n",
    "- Los datos del eje x de cada grafico estaran dados por los indices del dataframe\n",
    "- Los datos del eje y de los tres primeros graficos estaran dados por los valores de las columnas a, b, c respectivamente.\n",
    "- Los datos del eje y del cuarto grafico los deberemos crear para que el grafico sea una linea recta."
   ]
  },
  {
   "cell_type": "code",
   "execution_count": null,
   "id": "30219c0b-c086-444a-81fe-0801be31f0fd",
   "metadata": {},
   "outputs": [],
   "source": [
    "import numpy as np\n",
    "import pandas as pd\n",
    "import matplotlib as mpl\n",
    "import matplotlib.pyplot as plt\n",
    "\n",
    "np.random.seed(42)\n",
    "\n",
    "df = pd.DataFrame(data={'a':np.random.randint(0, 100, 30),\n",
    "                        'b':np.random.randint(0, 100, 30),\n",
    "                        'c':np.random.randint(0, 100, 30)})\n",
    "df.head()"
   ]
  },
  {
   "cell_type": "code",
   "execution_count": null,
   "id": "40342961-7125-4f34-bf3b-68e1486ef51a",
   "metadata": {},
   "outputs": [],
   "source": [
    "# Escribir aqui la solucion\n",
    "\n"
   ]
  },
  {
   "cell_type": "code",
   "execution_count": null,
   "id": "af6666ef-8a59-4ddd-9104-b7c57d9bc528",
   "metadata": {},
   "outputs": [],
   "source": [
    "#@title Solucion Ejercicio 1 {display-mode:\"form\"}\n",
    "\n",
    "fig, ax = plt.subplots(2, 2, figsize=(15,8)) # Crear figura\n",
    "\n",
    "ax[0][0].plot(df.index.values, df['a']) # Ejes 0,0 arriba-izquierda\n",
    "ax[0][1].plot(df.index.values, df['b']) # Ejes 0,1 arriba-derecha\n",
    "ax[1][0].plot(df.index.values, df['c']) # Ejes 1,0 abajo-izquierda\n",
    "ax[1][1].plot(df.index.values, range(len(df))) # Ejes 1,1 abajo-derecha"
   ]
  },
  {
   "cell_type": "markdown",
   "id": "26878cef-b434-4e1e-9825-870d08f6bead",
   "metadata": {
    "tags": []
   },
   "source": [
    "## Ejercicio 2\n",
    "\n",
    "Crear una figura con un solo grafico (ejes) y mostrar alli un grafico de lineas para las columnas a y b del dataframe.\n",
    "\n",
    "Aclaraciones:\n",
    "\n",
    "- Los datos del eje x estaran dados por los indices del dataframe\n",
    "- Los datos del eje y estaran dados por los valores de las columnas a y b respectivamente."
   ]
  },
  {
   "cell_type": "code",
   "execution_count": null,
   "id": "e8daedb6-e746-4d29-ad59-c78cac3dc2ba",
   "metadata": {},
   "outputs": [],
   "source": [
    "# Escribir aqui la solucion\n",
    "\n"
   ]
  },
  {
   "cell_type": "code",
   "execution_count": null,
   "id": "fb179363-9427-4ef5-abfc-75293f7c1bdf",
   "metadata": {},
   "outputs": [],
   "source": [
    "#@title Solucion Ejercicio 2 {display-mode:\"form\"}\n",
    "\n",
    "fig, ax = plt.subplots(1,1, figsize=(15,8))\n",
    "\n",
    "x = df.index.values\n",
    "y1 = df['a']\n",
    "y2 = df['b']\n",
    "\n",
    "ax.plot(x, y1)\n",
    "ax.plot(x, y2)"
   ]
  },
  {
   "cell_type": "markdown",
   "id": "da1be8c0-c9d2-4a66-8baf-92d12e9dcaee",
   "metadata": {},
   "source": [
    "## Ejercicio 3:\n",
    "\n",
    "Crear una figura con dos graficos (ejes) uno arriba y uno abajo.\n",
    "En el de arriba mostrar dos graficos de lineas para las columnas a y b del dataframe. Con una leyenda que se encuentre arriba en el centro.\n",
    "En el de abajo mostrar un scatter plot de la columna c del dataframe.\n",
    "\n",
    "Aclaraciones:\n",
    "\n",
    "- En el grafico de arriba:\n",
    "  - Los datos del eje x estaran dados por los indices del dataframe\n",
    "  - Los datos del eje y estaran dados por los valores de las columnas a y b respectivamente.\n",
    "  - La linea de la columna a debera ser roja con estilo punteado ':' y una 'x' como marcador de los puntos. Su etiqueta debe ser 'Linea A'\n",
    "  - La linea de la columna b debera ser naranja con grosor 2 y una 'o' como marcador de los puntos. Su etiqueta debe ser 'Linea B'\n",
    "- En el grafico de abajo:\n",
    "  - Los datos del eje x estaran dados por los indices del dataframe\n",
    "  - Los datos del eje y estaran dados por los valores de la columna c y deberan tener una opacidad de 0.5"
   ]
  },
  {
   "cell_type": "code",
   "execution_count": null,
   "id": "a1aea412-cc2c-403c-840b-c736810749bf",
   "metadata": {},
   "outputs": [],
   "source": [
    "# Escribir aqui la solucion\n",
    "\n"
   ]
  },
  {
   "cell_type": "code",
   "execution_count": null,
   "id": "0835d507-5928-4112-ac10-9e1b8a25db40",
   "metadata": {},
   "outputs": [],
   "source": [
    "#@title Solucion Ejercicio 3 {display-mode:\"form\"}\n",
    "\n",
    "fig, ax = plt.subplots(2, 1, figsize=(15,8))\n",
    "\n",
    "ax[0].plot(df.index.values, df['a'], color='red', ls=':', marker='x', label='Linea A')\n",
    "ax[0].plot(df.index.values, df['b'], color='orange', lw=2, marker='o', label='Linea B')\n",
    "ax[0].legend(loc=9)\n",
    "\n",
    "ax[1].scatter(df.index.values, df['c'], alpha=0.5)"
   ]
  },
  {
   "cell_type": "markdown",
   "id": "234ada9d-c7e9-4930-bdfc-bec3e6dd53c5",
   "metadata": {},
   "source": [
    "## Ejercicio 4:\n",
    "\n",
    "Crear una figura con un grafico (ejes) de linea para la columna a del dataframe con marcadores de puntos con estilo 'o' y tamaño 20.\n",
    "\n",
    "Aclaraciones:\n",
    "\n",
    "- Debera tener el titulo \"Este es el titulo\" con tamaño de letra 20\n",
    "- Debera tener la etiqueta del eje X \"Este es el eje X\"\n",
    "- Debera tener la etiqueta del eje Y \"Este es el eje Y\"\n",
    "- Los ticks del eje X deberan ser rojos y estar enumerados con A hasta Z, luego AA hasta ZZ, luego AAA hasta ZZZ y asi sucesivamente"
   ]
  },
  {
   "cell_type": "code",
   "execution_count": null,
   "id": "1012f4de-c9ef-4c48-89eb-d4926e9dd3dc",
   "metadata": {},
   "outputs": [],
   "source": [
    "# Escribir aqui la solucion\n",
    "\n"
   ]
  },
  {
   "cell_type": "code",
   "execution_count": null,
   "id": "f8619820-d420-41fe-9851-6463e6291d8b",
   "metadata": {},
   "outputs": [],
   "source": [
    "#@title Solucion Ejercicio 4 {display-mode:\"form\"}\n",
    "\n",
    "def get_excel_column_notation(i):\n",
    "    if chr(ord(\"A\")+i) <= \"Z\":\n",
    "        return chr(ord(\"A\")+i)\n",
    "    else: \n",
    "        delta = ord(\"Z\") - ord(\"A\")+1\n",
    "        n = i // delta + 1\n",
    "        c = i % delta\n",
    "        return chr(ord(\"A\")+c) * n\n",
    "\n",
    "fig, ax = plt.subplots(figsize=(15,7))\n",
    "\n",
    "ax.plot(df.index.values, df['a'], marker='o', markersize=20)\n",
    "ax.set_title('Este es el titulo', fontsize=20)\n",
    "ax.set_xlabel('Este es el eje X')\n",
    "ax.set_ylabel('Este es el eje Y')\n",
    "\n",
    "ax.set_xticks(df.index.values)\n",
    "x_labels = [get_excel_column_notation(i) for i in range(len(df['a']))]\n",
    "ax.set_xticklabels(x_labels, fontsize=15, color='red')\n",
    "\n",
    "fig.tight_layout()"
   ]
  },
  {
   "cell_type": "markdown",
   "id": "34b3ef2d-d4da-4bf1-8c85-f1c87c1d9089",
   "metadata": {},
   "source": [
    "## Ejercicio 5:\n",
    "\n",
    "Crear una figura con tres graficos (ejes) de barras uno abajo de otro. El primero con los datos de la columna a el segundo con los datos de la columna b y el tercero con la suma de ambas.\n",
    "\n",
    "Aclaraciones:\n",
    "\n",
    "- Los tres graficos deberan tener arriba de cada barra un texto indicando la altura de la barra. Usar para ello ax[i].text(x,y,texto,horizontalalignment='center')"
   ]
  },
  {
   "cell_type": "code",
   "execution_count": null,
   "id": "f1fbad23-f14c-41fb-bce2-87e7461443f2",
   "metadata": {},
   "outputs": [],
   "source": [
    "# Escribir aqui la solucion\n",
    "\n"
   ]
  },
  {
   "cell_type": "code",
   "execution_count": null,
   "id": "61cf48ad-2303-4e36-a62a-edb8ed970a04",
   "metadata": {},
   "outputs": [],
   "source": [
    "#@title Solucion Ejercicio 5 {display-mode:\"form\"}\n",
    "\n",
    "fig, ax = plt.subplots(3, 1, figsize=(15,18))\n",
    "\n",
    "ax[0].bar(df.index.values, df['a'])\n",
    "for i in range(df.shape[0]):\n",
    "    ax[0].text(i, df['a'][i]+1, df['a'][i], horizontalalignment='center')\n",
    "ax[0].legend('a')\n",
    "    \n",
    "ax[1].bar(df.index.values, df['b'])\n",
    "for i in range(df.shape[0]):\n",
    "    ax[1].text(i, df['b'][i]+1, df['b'][i], horizontalalignment='center')\n",
    "ax[1].legend('b')\n",
    "\n",
    "ax[2].bar(df.index.values, df['a'])\n",
    "ax[2].bar(df.index.values, df['b'], bottom=df['a'])\n",
    "for i in range(df.shape[0]):\n",
    "    ax[2].text(i, df['a'][i]+df['b'][i]+2, df['a'][i]+df['b'][i], horizontalalignment='center')\n",
    "ax[2].legend(['a','b'])"
   ]
  },
  {
   "cell_type": "markdown",
   "id": "09b306bb-67f3-4bfb-a12b-7053756e9211",
   "metadata": {},
   "source": [
    "## Ejercicio 6 (Opcional dificil):\n",
    "\n",
    "Con el dataframe dado a continuacion crear una figura con un grafico (ejes). Dicho grafico debe contener un grafico de barras que muestre las ventas por año y un grafico de lineas que muestre el crecimiento por año ambos sobre la misma figura y los mismo ejes. Utilizar twinx() para crear dos ejes sobrepuestos y poner ticks de ventas en el eje Y a la izquierda y ticks de crecimiento en el eje Y a la derecha.\n",
    "\n",
    "Aclaraciones:\n",
    "\n",
    "- Utilizar colores y estilos a eleccion"
   ]
  },
  {
   "cell_type": "code",
   "execution_count": null,
   "id": "6a34ad63-3c05-4400-a11f-2d955ec82b42",
   "metadata": {},
   "outputs": [],
   "source": [
    "df_ventas = pd.DataFrame({'periodo' : ['2020', '2021', '2022', '2023'], \n",
    "                        'ventas' : [1_001_934, 2_461_732, 5_431_236, 10_844_655]})\n",
    "df_ventas['ventas_millones'] = df_ventas['ventas'] // 1000000\n",
    "df_ventas['crecimiento'] = round((np.cumsum(df_ventas['ventas'])/df_ventas['ventas']-1)*100,1)\n",
    "df_ventas"
   ]
  },
  {
   "cell_type": "code",
   "execution_count": null,
   "id": "fdc1f434-fefe-416c-a0c2-aa67beffec3d",
   "metadata": {},
   "outputs": [],
   "source": [
    "# Escribir aqui la solucion\n",
    "\n"
   ]
  },
  {
   "cell_type": "code",
   "execution_count": null,
   "id": "e2cd99d5-52e9-4e79-9d05-4ed2e3369205",
   "metadata": {},
   "outputs": [],
   "source": [
    "#@title Solucion Ejercicio 6 {display-mode:\"form\"}\n",
    "\n",
    "fig, ax1 = plt.subplots(figsize=(15,10))\n",
    "\n",
    "ax1.bar(df_ventas['periodo'], df_ventas['ventas']*10, width=0.5, alpha=0.5)\n",
    "for i in range(df_ventas.shape[0]):\n",
    "    ax1.text(df_ventas['periodo'][i], 3_000_000, str(df_ventas['ventas_millones'][i])+'M', fontsize=15, horizontalalignment='center')\n",
    "\n",
    "ax1.set_title('Ventas', fontsize=20)\n",
    "ax1.set_xticks(ax1.get_xticks())\n",
    "ax1.set_xticklabels(df_ventas['periodo'], fontsize=15);\n",
    "\n",
    "ax1.tick_params(labelsize=15, axis='y')\n",
    "\n",
    "ax1.set_ylabel('Ventas (en millones)', fontsize=20)\n",
    "\n",
    "vals = ax1.get_yticks()\n",
    "ax1.set_yticks(ax1.get_yticks().tolist())\n",
    "ax1.set_yticklabels([str(x/1_000_000)+'M' for x in vals])\n",
    "\n",
    "ax2 = ax1.twinx()\n",
    "ax2.plot(df_ventas['periodo'], df_ventas['crecimiento'], c='green', alpha=0.5, lw=4, marker='o')\n",
    "for i in range(df_ventas.shape[0]):\n",
    "    ax2.text(df_ventas['periodo'][i], df_ventas['crecimiento'][i]+1, str(df_ventas['crecimiento'][i])+'%', fontsize=15, horizontalalignment='center', color='black')\n",
    "\n",
    "ax2.set_ylabel('Crecimiento (%)', fontsize=20)\n",
    "ax2.tick_params(labelsize=15, axis='y', rotation=30)\n",
    "\n",
    "vals = ax2.get_yticks()\n",
    "ax2.set_yticks(ax2.get_yticks().tolist())\n",
    "ax2.set_yticklabels([str(x)+'%' for x in vals])"
   ]
  },
  {
   "cell_type": "markdown",
   "id": "150150ce-9b48-4467-b8eb-e5f1d0e0508d",
   "metadata": {},
   "source": [
    "Esta unidad esta basada en la documentacion oficial de matplotlib, la cual puedes encontrar aqui: \n",
    "- https://matplotlib.org/stable/tutorials/index\n",
    "- https://matplotlib.org/stable/tutorials/introductory/quick_start.html#sphx-glr-tutorials-introductory-quick-start-py"
   ]
  },
  {
   "cell_type": "markdown",
   "id": "515f09a9",
   "metadata": {},
   "source": [
    "## Otras referencias:\n",
    "\n",
    "- [Scientific Visualization: Python + Matplotlib] (https://github.com/rougier/scientific-visualization-book)"
   ]
  },
  {
   "cell_type": "markdown",
   "id": "1c885ae4-7967-4d1d-bb40-990ce07a6a47",
   "metadata": {},
   "source": [
    "# Fin: [Volver al contenido del curso](https://www.freecodingtour.com/cursos/espanol/datascience/datascience.html)"
   ]
  }
 ],
 "metadata": {
  "kernelspec": {
   "display_name": "Python 3 (ipykernel)",
   "language": "python",
   "name": "python3"
  },
  "language_info": {
   "codemirror_mode": {
    "name": "ipython",
    "version": 3
   },
   "file_extension": ".py",
   "mimetype": "text/x-python",
   "name": "python",
   "nbconvert_exporter": "python",
   "pygments_lexer": "ipython3",
   "version": "3.12.4"
  }
 },
 "nbformat": 4,
 "nbformat_minor": 5
}
