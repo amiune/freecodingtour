{
 "cells": [
  {
   "cell_type": "markdown",
   "metadata": {
    "id": "BJwPMRKPIOeg"
   },
   "source": [
    "# AutoViz\n",
    "\n",
    "Aqui veremos la libreria [AutoViz](https://github.com/AutoViML/AutoViz) que nos permite hacer un Analisis Exploratorio de los Datos con solo pocas lineas de codigo."
   ]
  },
  {
   "cell_type": "markdown",
   "metadata": {
    "id": "yejkanqXPUPi"
   },
   "source": [
    "## Instalar AutoViz\n",
    "\n"
   ]
  },
  {
   "cell_type": "code",
   "execution_count": null,
   "metadata": {
    "id": "WhyywVmjg6Zh"
   },
   "outputs": [],
   "source": [
    "!pip install autoviz -U -q"
   ]
  },
  {
   "cell_type": "markdown",
   "metadata": {
    "id": "lWS2d0J5PaGE"
   },
   "source": [
    "## Importar la libreria\n",
    "\n"
   ]
  },
  {
   "cell_type": "code",
   "execution_count": null,
   "metadata": {
    "id": "yTbi5YqRhD2b"
   },
   "outputs": [],
   "source": [
    "from autoviz.AutoViz_Class import AutoViz_Class\n",
    "%matplotlib inline"
   ]
  },
  {
   "cell_type": "markdown",
   "metadata": {
    "id": "ZSid4QeDxJ4u"
   },
   "source": [
    "## Cargar el dataset"
   ]
  },
  {
   "cell_type": "code",
   "execution_count": null,
   "metadata": {
    "id": "cqQys_CVTmm0"
   },
   "outputs": [],
   "source": [
    "import pandas as pd\n",
    "df_ana_train = pd.read_csv('https://raw.githubusercontent.com/amiune/freecodingtour/main/cursos/espanol/datascience/data/diabetes/diabetes_train_analisis.csv')\n",
    "df_inf_train = pd.read_csv('https://raw.githubusercontent.com/amiune/freecodingtour/main/cursos/espanol/datascience/data/diabetes/diabetes_train_info.csv')\n",
    "df = pd.merge(df_ana_train,df_inf_train,on=\"id\")\n",
    "df = df.drop(\"id\",axis=1)"
   ]
  },
  {
   "cell_type": "markdown",
   "metadata": {
    "id": "1tnLugZcxF6X"
   },
   "source": [
    "## Crear Reporte"
   ]
  },
  {
   "cell_type": "code",
   "execution_count": null,
   "metadata": {
    "id": "yyMJO4X7mVrR"
   },
   "outputs": [],
   "source": [
    "AV = AutoViz_Class()\n",
    "dft = AV.AutoViz(\n",
    "    filename=\"\",\n",
    "    depVar=\"diabetes\",\n",
    "    dfte=df,\n",
    "    verbose=1,\n",
    ")"
   ]
  }
 ],
 "metadata": {
  "colab": {
   "provenance": []
  },
  "kernelspec": {
   "display_name": "Python 3 (ipykernel)",
   "language": "python",
   "name": "python3"
  },
  "language_info": {
   "codemirror_mode": {
    "name": "ipython",
    "version": 3
   },
   "file_extension": ".py",
   "mimetype": "text/x-python",
   "name": "python",
   "nbconvert_exporter": "python",
   "pygments_lexer": "ipython3",
   "version": "3.9.18"
  }
 },
 "nbformat": 4,
 "nbformat_minor": 4
}
