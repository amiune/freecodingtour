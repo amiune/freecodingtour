{
 "cells": [
  {
   "cell_type": "markdown",
   "id": "fae5c76b-6339-4296-b7cf-27f00a927295",
   "metadata": {},
   "source": [
    "# Analisis y limpieza de datos"
   ]
  },
  {
   "cell_type": "markdown",
   "id": "e73d6047-a060-490b-ab48-786e6de2ef8e",
   "metadata": {},
   "source": [
    "Antes de utilizar una caja negra y hacer cualquier prediccion es importante entender el problema, cual es el objetivo y que significado tienen los datos. El primer paso es adentrarse en el problema y entederlo con el mayor detalle posible, buscar y etiquetar nuestros propios datos, hablar con los clientes, con expertos y con toda persona que nos pueda ayudar a entender mejor cual es la problematica a solucionar."
   ]
  },
  {
   "cell_type": "markdown",
   "id": "48149491-163e-4f79-a52a-91e027f85bf5",
   "metadata": {},
   "source": [
    "Una vez hecho esto podemos utilizar nuestro conocimiento de programacion para generar graficos y estadisticas que nos permitan descubrir informacion extra que puede ser interesante. \n",
    "\n",
    "En esta unidad veremos las siguientes herramientas que disponemos con python para analizar datos:\n",
    "\n",
    "#### Limpieza y manipulacion de datos: \n",
    "  - [Pandas](https://colab.research.google.com/github/amiune/freecodingtour/blob/main/cursos/espanol/datascience/analysis/A3.2_jugando_con_pandas.ipynb)\n",
    "  - [Numpy](https://colab.research.google.com/github/amiune/freecodingtour/blob/main/cursos/espanol/datascience/analysis/A3.1_jugando_con_numpy.ipynb)\n",
    "  - Librerias para automatizar este proceso (muy utiles si no sabes por donde empezar):\n",
    "      - [pandas_dq](https://colab.research.google.com/github/amiune/freecodingtour/blob/main/cursos/espanol/datascience/analysis/A3.3_pandas_dq.ipynb)\n",
    "      - [cleanlab](https://colab.research.google.com/github/amiune/freecodingtour/blob/main/cursos/espanol/datascience/analysis/A3.3_cleanlab.ipynb)\n",
    "\n",
    "#### Graficos y Analisis Exploratorio de datos:\n",
    "  - [Seaborn](https://colab.research.google.com/github/amiune/freecodingtour/blob/main/cursos/espanol/datascience/analysis/A1.0_graficos_seaborn.ipynb)\n",
    "  - [Matplotlib](https://colab.research.google.com/github/amiune/freecodingtour/blob/main/cursos/espanol/datascience/analysis/A1.1_graficos_matplotlib.ipynb)\n",
    "  - Librerias para automatizar este proceso (muy utiles si no sabes por donde empezar):\n",
    "    - [sweetviz](https://colab.research.google.com/github/amiune/freecodingtour/blob/main/cursos/espanol/datascience/analysis/A1.2_eda_sweetviz.ipynb)\n",
    "    - [ydata](https://colab.research.google.com/github/amiune/freecodingtour/blob/main/cursos/espanol/datascience/analysis/A1.2_eda_ydata.ipynb) \n",
    "    - [AutoViz](https://colab.research.google.com/github/amiune/freecodingtour/blob/main/cursos/espanol/datascience/analysis/A1.2_eda_autoviz.ipynb)\n",
    "    - [DataPrep](https://colab.research.google.com/github/amiune/freecodingtour/blob/main/cursos/espanol/datascience/analysis/A1.2_eda_dataprep.ipynb)\n",
    "\n",
    "#### Correlaciones:\n",
    "- [Correlacions](https://stats.stackexchange.com/questions/119835/correlation-between-a-nominal-iv-and-a-continuous-dv-variable)\n",
    "- [Como elegir entre Pearson y Spearman](https://stats.stackexchange.com/questions/8071/how-to-choose-between-pearson-and-spearman-correlation)\n",
    "\n",
    "  \n",
    "#### Tests de distribuciones de probabilidad:\n",
    "  - [Fitter](https://github.com/cokelaer/fitter)"
   ]
  },
  {
   "cell_type": "markdown",
   "id": "4a3438e6-fe10-453c-9067-01742c7febc9",
   "metadata": {},
   "source": [
    "#### Otras librerias que puedes investigar:\n",
    "- Graficos interactivos:\n",
    "    - [Plotly](https://plotly.com/python/)\n",
    "    - [Bokeh](https://bokeh.org/)\n",
    "    - [Altair](https://altair-viz.github.io/)\n",
    "    - [ggplot](https://ggplot2.tidyverse.org/)\n",
    "- Mas EDA y limpieza de datos:\n",
    "    - [D-Tale](https://github.com/man-group/dtale)\n",
    "    - [dabl](https://amueller.github.io/dabl/dev/quick_start.html)\n",
    "    - [QuickDA](https://github.com/sid-the-coder/QuickDA)\n",
    "    - [Datatile](https://github.com/polyaxon/traceml)\n",
    "    - [Lux](https://github.com/lux-org/lux)\n",
    "    - [ExploriPy](https://github.com/exploripy/exploripy)\n",
    "    - [pyjanitor](https://pyjanitor-devs.github.io/pyjanitor/)\n",
    "- [Graficos dentro de un dataframe de pandas](https://colab.research.google.com/github/mattharrison/effective_pandas_book/blob/main/34-styling-code.ipynb) con [sparklines](https://dash.plotly.com/dash-ag-grid/enterprise-sparklines)"
   ]
  },
  {
   "cell_type": "markdown",
   "id": "726678b9-3fa9-4b79-8825-1bcb73a26c6b",
   "metadata": {},
   "source": [
    "# Fin: [Volver al contenido del curso](https://www.freecodingtour.com/cursos/espanol/datascience/datascience.html)"
   ]
  }
 ],
 "metadata": {
  "kernelspec": {
   "display_name": "Python 3 (ipykernel)",
   "language": "python",
   "name": "python3"
  },
  "language_info": {
   "codemirror_mode": {
    "name": "ipython",
    "version": 3
   },
   "file_extension": ".py",
   "mimetype": "text/x-python",
   "name": "python",
   "nbconvert_exporter": "python",
   "pygments_lexer": "ipython3",
   "version": "3.9.18"
  }
 },
 "nbformat": 4,
 "nbformat_minor": 5
}
