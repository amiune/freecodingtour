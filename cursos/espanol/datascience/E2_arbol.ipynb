{
 "cells": [
  {
   "cell_type": "markdown",
   "id": "ad60c49b-196d-4eaa-aa41-c3989b9e0604",
   "metadata": {},
   "source": [
    "# Arboles de Decision "
   ]
  },
  {
   "cell_type": "markdown",
   "id": "c30b1f30-765d-401d-b80b-f3d36bf7773b",
   "metadata": {},
   "source": [
    "Analicemos los siguientes datos del clima para saber si podremos ir a surfear:"
   ]
  },
  {
   "cell_type": "code",
   "execution_count": null,
   "id": "6d6310fa-e788-4b00-8249-b114ae9fbf02",
   "metadata": {},
   "outputs": [],
   "source": [
    "import numpy as np\n",
    "import pandas as pd\n",
    "from collections import Counter\n",
    "import seaborn as sns\n",
    "from matplotlib import pyplot as plt\n",
    "from IPython.core.display import display_html"
   ]
  },
  {
   "cell_type": "code",
   "execution_count": null,
   "id": "ce6033f6-6776-4228-a57d-5f639388b385",
   "metadata": {},
   "outputs": [],
   "source": [
    "df = pd.read_csv('https://raw.githubusercontent.com/amiune/freecodingtour/main/cursos/espanol/datascience/data/surf_or_not.csv')\n",
    "df"
   ]
  },
  {
   "cell_type": "markdown",
   "id": "74641b09-961a-4ee9-b070-eb2e7918219a",
   "metadata": {},
   "source": [
    "Ahora crearemos un algoritmo de decision, es decir, que nos permita decidir si ir a surfear o no analizando nuestra tabla de entrenamiento de decisiones pasadas. Para ello elegiremos la columna que mejor separa los si de los no.\n",
    "\n",
    "Intuicion: queremos disminuir la entropia (que tan mezcladas estan las clases). Para ello vamos eligiendo la columna que mejor separa los datos y la dividimos.\n",
    "\n",
    "![Entropia](img/entropia.png)"
   ]
  },
  {
   "cell_type": "markdown",
   "id": "0b45930d-b11f-4397-b007-1b36ac361ea1",
   "metadata": {},
   "source": [
    "# Algoritmo ID3\n",
    "\n",
    "Hay distintos algoritmos para implementar los arboles de decision. Aqui solo veremos uno de los mas simples llamado ID3. Este solo funciona para variables categoricas pero se puede extender facilmente a variables numericas y tambien a regresion."
   ]
  },
  {
   "cell_type": "markdown",
   "id": "79abac3d-b924-4267-9529-f28c38aed9cd",
   "metadata": {},
   "source": [
    "Creamos una funcion para calcular la entropia:"
   ]
  },
  {
   "cell_type": "code",
   "execution_count": null,
   "id": "3fd28841-eed1-445a-b0f9-4d086d05347c",
   "metadata": {},
   "outputs": [],
   "source": [
    "def entropy(data, target):\n",
    "    entropy = 0\n",
    "    # Counter crea un diccionario donde el valor \n",
    "    # es la cantidad de veces que aparece cada key\n",
    "    items_in_column = Counter(data[target]) \n",
    "    for item in items_in_column:\n",
    "        p = items_in_column[item]/len(data[target])\n",
    "        entropy += -(p * np.log2(p))\n",
    "    return entropy"
   ]
  },
  {
   "cell_type": "markdown",
   "id": "7b889904-7a79-45a5-b0ff-299a75dc8a7d",
   "metadata": {},
   "source": [
    "Creamos una funcion para calcular la ganancia de informacion:"
   ]
  },
  {
   "cell_type": "code",
   "execution_count": null,
   "id": "614f669c-d9a8-4c47-ad5f-7812d574f20d",
   "metadata": {},
   "outputs": [],
   "source": [
    "def information_gain(data, column, target):\n",
    "    ig = entropy(data, target)\n",
    "    items_in_column = Counter(data[column])\n",
    "    for item in items_in_column:\n",
    "        # para cada subtabla generada por cada categoria de esa columna\n",
    "        # calcular la probabilidad y la entropia\n",
    "        subdata = data[data[column]==item]\n",
    "        prob = len(subdata) / len(data)\n",
    "        h = entropy(subdata,target)\n",
    "        ig -= prob * h\n",
    "    return ig"
   ]
  },
  {
   "cell_type": "markdown",
   "id": "990fd05f-3d5a-4b72-8d0c-84b46f48edcd",
   "metadata": {},
   "source": [
    "Usamos la funcion entropy para calcular la entropia total:"
   ]
  },
  {
   "cell_type": "code",
   "execution_count": null,
   "id": "7c7dc443-dfa6-4b5f-8f7e-ff063fb37766",
   "metadata": {},
   "outputs": [],
   "source": [
    "surf_entropy = entropy(df, \"surf\")\n",
    "surf_entropy"
   ]
  },
  {
   "cell_type": "markdown",
   "id": "cba1d2fb-d1e5-4987-b805-35f1ab3222a6",
   "metadata": {},
   "source": [
    "Probamos nuestra funcion information_gain para calcular la ganancia de informacion si dividimos la columna clima por sus respectivas categorias:"
   ]
  },
  {
   "cell_type": "code",
   "execution_count": null,
   "id": "8d92534b-746a-41d1-b702-299c2aee83b0",
   "metadata": {},
   "outputs": [],
   "source": [
    "subdata = df[[\"clima\",\"surf\"]]\n",
    "df_soleado = subdata[subdata[\"clima\"]==\"soleado\"]\n",
    "df_nublado = subdata[subdata[\"clima\"]==\"nublado\"]\n",
    "df_lluvia = subdata[subdata[\"clima\"]==\"lluvia\"]"
   ]
  },
  {
   "cell_type": "code",
   "execution_count": null,
   "id": "c5ec6451-ebd0-47e6-86f8-36d72715f13a",
   "metadata": {},
   "outputs": [],
   "source": [
    "prob_soleado = len(df_soleado) / len(subdata)\n",
    "entropy_soleado = entropy(df_soleado, \"surf\")\n",
    "\n",
    "prob_nublado = len(df_nublado) / len(subdata)\n",
    "entropy_nublado = entropy(df_nublado, \"surf\")\n",
    "\n",
    "prob_lluvia = len(df_lluvia) / len(subdata)\n",
    "entropy_lluvia = entropy(df_lluvia, \"surf\")"
   ]
  },
  {
   "cell_type": "code",
   "execution_count": null,
   "id": "549fd442-7ef6-457a-9cc3-a514f2fc5424",
   "metadata": {},
   "outputs": [],
   "source": [
    "df1_styler = df_soleado.style.set_table_attributes(\"style='display:inline'\").set_caption(f'Soleado <br/>Entropia: {entropy_soleado:0.2f} <br/>Probabilidad: {prob_soleado:0.2f}')\n",
    "df2_styler = df_nublado.style.set_table_attributes(\"style='display:inline'\").set_caption(f'Nublado <br/>Entropia: {entropy_nublado:0.2f} <br/>Probabilidad: {prob_nublado:0.2f}')\n",
    "df3_styler = df_lluvia.style.set_table_attributes(\"style='display:inline'\").set_caption(f'Lluvia <br/>Entropia: {entropy_lluvia:0.2f} <br/>Probabilidad: {prob_lluvia:0.2f}')\n",
    "display_html(df1_styler._repr_html_()+df2_styler._repr_html_()+df3_styler._repr_html_(), raw=True)\n",
    "print(f\"\"\"Information Gain: {information_gain(df,\"clima\",\"surf\")}\"\"\")"
   ]
  },
  {
   "cell_type": "markdown",
   "id": "f9db3177-3874-4bc6-92df-923c117b62b3",
   "metadata": {},
   "source": [
    "Realizamos este proceso para todas las columnas:"
   ]
  },
  {
   "cell_type": "code",
   "execution_count": null,
   "id": "fbfbc496-1a0e-4a0d-955e-fd871ddb558a",
   "metadata": {},
   "outputs": [],
   "source": [
    "for column in [\"temperatura\",\"olas\",\"viento\"]:\n",
    "    subdata = df[[column,\"surf\"]]\n",
    "    items_in_column = Counter(subdata[column])\n",
    "    df_per_item = []\n",
    "    html_str = \"\"\n",
    "    for item in items_in_column:\n",
    "        df_tmp = subdata[subdata[column]==item]\n",
    "        df_per_item.append(df_tmp)\n",
    "        prob_tmp = len(df_tmp) / len(subdata)\n",
    "        entropy_tmp = entropy(df_tmp, \"surf\")\n",
    "        df_styler_tmp = df_tmp.style.set_table_attributes(\"style='display:inline'\").set_caption(f'{item} <br/>Entropia: {entropy_tmp:0.2f} <br/>Probabilidad: {prob_tmp:0.2f}')\n",
    "        html_str += df_styler_tmp._repr_html_()\n",
    "    print(column)\n",
    "    display_html(html_str, raw=True)\n",
    "    print(f\"\"\"Information Gain: {information_gain(df,column,\"surf\")}\\n\\n\"\"\")"
   ]
  },
  {
   "cell_type": "markdown",
   "id": "77ba5f5b-42ee-4449-88cd-4e178d49aec0",
   "metadata": {},
   "source": [
    "Elegimos la columna que genera mayor ganancia de informacion y repetimos la operacion para cada subtabla generada"
   ]
  },
  {
   "cell_type": "code",
   "execution_count": null,
   "id": "cd501845-67db-4aba-9d85-5fc3b6bd99a2",
   "metadata": {},
   "outputs": [],
   "source": [
    "def decision_tree_ID3(data, target, deep, indent):\n",
    "    # si la tabla no contine info \n",
    "    # o se ha llegado a la profundidad deseada terminar\n",
    "    if len(data) == 0 or deep == 0: return\n",
    "    #obtener la ganancia de info para cada columna\n",
    "    ig = [(information_gain(data, c, target), c) for c in data.columns if c != target]\n",
    "    max_ig, selected_column = max(ig)\n",
    "    #si la ganancia de informacion es mayor a cero continuar\n",
    "    if max_ig > 0:\n",
    "        print(\"\".rjust(indent, \"-\") + selected_column)\n",
    "        items_in_column = Counter(data[selected_column])\n",
    "        #crear una subtabla para cada categoria\n",
    "        for item in items_in_column:\n",
    "            subdata = data[data[selected_column] == item].drop(columns=[selected_column])\n",
    "            print(\"\".rjust(indent+1, \"-\") + str(item))\n",
    "            # realizar el mismo procedimiento para subtabla\n",
    "            decision_tree_ID3(subdata, target, deep-1, indent+2)"
   ]
  },
  {
   "cell_type": "code",
   "execution_count": null,
   "id": "e95eec2f-6a6c-4e32-8c1a-9f06589be309",
   "metadata": {},
   "outputs": [],
   "source": [
    "decision_tree_ID3(df, \"surf\", 10, 0)"
   ]
  },
  {
   "cell_type": "markdown",
   "id": "228c5d47-b0fe-4eac-a171-097951ac713a",
   "metadata": {},
   "source": [
    "## Scikit Learn\n",
    "\n",
    "Con sklearn podemos hacer todo esto facilmente ya que tiene algoritmos ya implementados. El algoritmo que tiene implementado para generar los arboles de decision es una optimizacion del algoritmo CART y solo funciona con variables numericas:"
   ]
  },
  {
   "cell_type": "code",
   "execution_count": null,
   "id": "5b6f5122-c7af-4be9-993f-646d94a394ee",
   "metadata": {},
   "outputs": [],
   "source": [
    "from sklearn import tree\n",
    "one_hot_data = pd.get_dummies(df.drop(columns=['surf']),drop_first=True)\n",
    "one_hot_data.head()"
   ]
  },
  {
   "cell_type": "code",
   "execution_count": null,
   "id": "26d19213-445d-4123-a552-659315b48dff",
   "metadata": {},
   "outputs": [],
   "source": [
    "X, y = one_hot_data, df[\"surf\"]\n",
    "clf = tree.DecisionTreeClassifier()\n",
    "clf = clf.fit(X, y)"
   ]
  },
  {
   "cell_type": "code",
   "execution_count": null,
   "id": "4af3a911-62b4-4136-9028-48d6e2dec283",
   "metadata": {},
   "outputs": [],
   "source": [
    "plt.figure(figsize=(12,12))\n",
    "tree.plot_tree(clf, \n",
    "               feature_names=[\"viento\",\n",
    "                              \"clima_nublado\",\"clima_soleado\",\n",
    "                              \"temperatura_fresco\", \"temperatura_templado\",\n",
    "                              \"olas_pocas\"],  \n",
    "               class_names=[\"si\",\"no\"],\n",
    "               filled=True);"
   ]
  },
  {
   "cell_type": "markdown",
   "id": "3a4b0d5c-01f7-41bf-93ab-16b71aabd248",
   "metadata": {},
   "source": [
    "Referencias:\n",
    "    \n",
    "- Self Information: https://en.wikipedia.org/wiki/Information_content\n",
    "- Entropy: https://en.wikipedia.org/wiki/Entropy_(information_theory)\n",
    "- Information Gain: https://en.wikipedia.org/wiki/Information_gain_(decision_tree)\n",
    "- Gini Impurity: https://en.wikipedia.org/wiki/Decision_tree_learning#Gini_impurity\n",
    "- ID3: https://en.wikipedia.org/wiki/ID3_algorithm\n",
    "- Scikit Learn Decision Tree: https://scikit-learn.org/stable/modules/tree.html#tree-algorithms-id3-c4-5-c5-0-and-cart"
   ]
  },
  {
   "cell_type": "markdown",
   "id": "63926eae-59f7-4ea3-a203-f5acb5ffe60d",
   "metadata": {},
   "source": [
    "# Fin: [Volver al contenido del curso](https://www.freecodingtour.com/cursos/espanol/datascience/datascience.html)"
   ]
  }
 ],
 "metadata": {
  "kernelspec": {
   "display_name": "Python 3 (ipykernel)",
   "language": "python",
   "name": "python3"
  },
  "language_info": {
   "codemirror_mode": {
    "name": "ipython",
    "version": 3
   },
   "file_extension": ".py",
   "mimetype": "text/x-python",
   "name": "python",
   "nbconvert_exporter": "python",
   "pygments_lexer": "ipython3",
   "version": "3.9.7"
  }
 },
 "nbformat": 4,
 "nbformat_minor": 5
}
