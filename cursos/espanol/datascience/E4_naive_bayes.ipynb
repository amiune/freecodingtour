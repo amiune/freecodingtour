{
 "cells": [
  {
   "cell_type": "markdown",
   "id": "6e76fe13-8d3f-4f49-a4a1-a3fed094b1f5",
   "metadata": {},
   "source": [
    "P(spam|word) = P(word/spam)P(spam) / P(word)\n",
    "\n",
    "Tenemos una base de datos de 100 emails.\n",
    "\n",
    "60 de esos 100 emails son spam\n",
    "\n",
    "48 de esos 60 emails que son spam tienen la palabra “compra”\n",
    "\n",
    "12 de esos 60 emails que son spam no tienen la palabra “compra”\n",
    "\n",
    "40 de esos 100 emails que no son spam\n",
    "\n",
    "4 de esos 40 emails que no son spam tienen la palabra “compra”\n",
    "\n",
    "36 de esos 40 emails que no son spam no tienen la palabra “compra”\n",
    "\n",
    "https://scikit-learn.org/stable/modules/naive_bayes.html https://en.wikipedia.org/wiki/Naive_Bayes_classifier"
   ]
  },
  {
   "cell_type": "code",
   "execution_count": null,
   "id": "af853aa8-882a-4a43-bcff-089f2856ba37",
   "metadata": {},
   "outputs": [],
   "source": []
  }
 ],
 "metadata": {
  "kernelspec": {
   "display_name": "Python 3 (ipykernel)",
   "language": "python",
   "name": "python3"
  },
  "language_info": {
   "codemirror_mode": {
    "name": "ipython",
    "version": 3
   },
   "file_extension": ".py",
   "mimetype": "text/x-python",
   "name": "python",
   "nbconvert_exporter": "python",
   "pygments_lexer": "ipython3",
   "version": "3.9.7"
  }
 },
 "nbformat": 4,
 "nbformat_minor": 5
}
