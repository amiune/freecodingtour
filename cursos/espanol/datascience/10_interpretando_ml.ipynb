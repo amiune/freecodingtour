{
 "cells": [
  {
   "cell_type": "markdown",
   "id": "d03197b4-3df2-4632-b7f7-3a92c78cfafa",
   "metadata": {},
   "source": [
    "# Interpretando los Resultados de la Caja Negra"
   ]
  },
  {
   "cell_type": "markdown",
   "id": "490c074b-15d6-44d4-985f-e70b8830cce7",
   "metadata": {},
   "source": [
    "Una vez que hemos entrenado una caja negra para hacer predicciones podemos querer saber mas a cerca de como esta caja negra toma esas decisiones aun sin entender completamente que es lo que sucede dentro de ella. Para ello veremos varias tecnicas que nos pueden ayudar a interpretar los resultados."
   ]
  },
  {
   "cell_type": "markdown",
   "id": "6bf8f232-76c6-4835-ad50-ad680c7c4ce1",
   "metadata": {},
   "source": [
    "## Tecnicas de Caja Negra\n",
    "\n",
    "Estas tecnicas sirven para interpretar los resultados aun sin entender absolutamente nada de lo que pasa adentro de las cajas negras ni cual fue el algoritmo utilizado para entrenarlas.\n",
    "\n",
    "Existen varias tecnicas y librerias para hacer esto, a continuacion se mencionan algunas:\n",
    "  - [Sklearn Inspection](https://scikit-learn.org/stable/modules/classes.html#module-sklearn.inspection)\n",
    "  - [Shap](https://shap.readthedocs.io/en/latest/index.html)\n",
    "  - [ELI5](https://eli5.readthedocs.io/en/latest/)\n",
    "  - [imodels](https://github.com/csinva/imodels)\n",
    "  \n",
    "En esta unidad veremos la tecnica mas sencilla llamada Feature Permutation y que consiste en seleccionar una columna especifica de mi dataset, mezclar sus filas y calcular el error del modelo. Si esta mezcla de las filas ha modificado mucho su poder de prediccion entonces quiere decir que esa columna es importante, si de lo contrario no ha modificado su poder de prediccion quiere decir que esa columna no ha aportado mucho a la prediccion. De esta manera podemos saber cuales han sido las columnas que el modelo ha considerado mas importantes a la hora de hacer la prediccion.\n",
    "\n",
    "Veamos ahora un ejemplo con el modelo complejo que hemos obtenido en la unidad anterior:"
   ]
  },
  {
   "cell_type": "code",
   "execution_count": null,
   "id": "378900fe-c1c0-4a98-8b07-292f89496e2e",
   "metadata": {},
   "outputs": [],
   "source": [
    "!pip install \"flaml[automl]\""
   ]
  },
  {
   "cell_type": "code",
   "execution_count": 2,
   "id": "bacb1425-eaf4-4e0c-9bfd-59b880a7a731",
   "metadata": {},
   "outputs": [],
   "source": [
    "import pandas as pd\n",
    "import warnings\n",
    "warnings.filterwarnings('ignore')"
   ]
  },
  {
   "cell_type": "code",
   "execution_count": 3,
   "id": "71edc467-d9a8-48a7-8ea8-c4eb21b722be",
   "metadata": {},
   "outputs": [],
   "source": [
    "df_train = pd.read_csv('https://raw.githubusercontent.com/amiune/freecodingtour/main/cursos/espanol/datascience/data/diabetes/diabetes_train_procesado.csv')\n",
    "df_test = pd.read_csv('https://raw.githubusercontent.com/amiune/freecodingtour/main/cursos/espanol/datascience/data/diabetes/diabetes_test_procesado.csv')"
   ]
  },
  {
   "cell_type": "code",
   "execution_count": 4,
   "id": "a9497f4d-c12b-482f-8556-ea7e3b65d6ed",
   "metadata": {},
   "outputs": [],
   "source": [
    "X_train = df_train.loc[:, df_train.columns != \"diabetes\"]\n",
    "y_train = df_train.loc[:, \"diabetes\"]"
   ]
  },
  {
   "cell_type": "code",
   "execution_count": 20,
   "id": "2988cb07-72d2-4171-ae62-75fb016453a4",
   "metadata": {},
   "outputs": [],
   "source": [
    "from flaml import AutoML\n",
    "automl = AutoML()\n",
    "automl.fit(X_train, y_train, task=\"classification\", time_budget=1, verbose=0)"
   ]
  },
  {
   "cell_type": "code",
   "execution_count": 6,
   "id": "9ba4c974-d318-4ede-b113-4fcdbf5a54dd",
   "metadata": {},
   "outputs": [
    {
     "data": {
      "text/plain": [
       "'lgbm'"
      ]
     },
     "execution_count": 6,
     "metadata": {},
     "output_type": "execute_result"
    }
   ],
   "source": [
    "automl.best_estimator"
   ]
  },
  {
   "cell_type": "code",
   "execution_count": null,
   "id": "f8e1aa21-c59b-4c2e-b3e0-b6bb77312cbf",
   "metadata": {},
   "outputs": [],
   "source": [
    "!pip install eli5"
   ]
  },
  {
   "cell_type": "code",
   "execution_count": 8,
   "id": "5ed198a5-fc84-4a0c-8533-c233dc84b423",
   "metadata": {},
   "outputs": [],
   "source": [
    "X_test = df_test.loc[:, df_test.columns != \"diabetes\"]\n",
    "y_test = df_test.loc[:, \"diabetes\"]"
   ]
  },
  {
   "cell_type": "markdown",
   "id": "260517e4-4bba-45ea-9d2b-0dc0fbaeb15f",
   "metadata": {},
   "source": [
    "## Permutation Importance"
   ]
  },
  {
   "cell_type": "code",
   "execution_count": 9,
   "id": "127f0879-7719-46ff-b807-12ab219a4dee",
   "metadata": {},
   "outputs": [
    {
     "data": {
      "text/html": [
       "\n",
       "    <style>\n",
       "    table.eli5-weights tr:hover {\n",
       "        filter: brightness(85%);\n",
       "    }\n",
       "</style>\n",
       "\n",
       "\n",
       "\n",
       "    \n",
       "\n",
       "    \n",
       "\n",
       "    \n",
       "\n",
       "    \n",
       "\n",
       "    \n",
       "\n",
       "    \n",
       "\n",
       "\n",
       "    \n",
       "\n",
       "    \n",
       "\n",
       "    \n",
       "\n",
       "    \n",
       "\n",
       "    \n",
       "\n",
       "    \n",
       "\n",
       "\n",
       "    \n",
       "\n",
       "    \n",
       "\n",
       "    \n",
       "\n",
       "    \n",
       "\n",
       "    \n",
       "        <table class=\"eli5-weights eli5-feature-importances\" style=\"border-collapse: collapse; border: none; margin-top: 0em; table-layout: auto;\">\n",
       "    <thead>\n",
       "    <tr style=\"border: none;\">\n",
       "        <th style=\"padding: 0 1em 0 0.5em; text-align: right; border: none;\">Weight</th>\n",
       "        <th style=\"padding: 0 0.5em 0 0.5em; text-align: left; border: none;\">Feature</th>\n",
       "    </tr>\n",
       "    </thead>\n",
       "    <tbody>\n",
       "    \n",
       "        <tr style=\"background-color: hsl(120, 100.00%, 80.00%); border: none;\">\n",
       "            <td style=\"padding: 0 1em 0 0.5em; text-align: right; border: none;\">\n",
       "                0.0873\n",
       "                \n",
       "                    &plusmn; 0.0039\n",
       "                \n",
       "            </td>\n",
       "            <td style=\"padding: 0 0.5em 0 0.5em; text-align: left; border: none;\">\n",
       "                gimnasia\n",
       "            </td>\n",
       "        </tr>\n",
       "    \n",
       "        <tr style=\"background-color: hsl(120, 100.00%, 81.42%); border: none;\">\n",
       "            <td style=\"padding: 0 1em 0 0.5em; text-align: right; border: none;\">\n",
       "                0.0786\n",
       "                \n",
       "                    &plusmn; 0.0023\n",
       "                \n",
       "            </td>\n",
       "            <td style=\"padding: 0 0.5em 0 0.5em; text-align: left; border: none;\">\n",
       "                glucosa_baja\n",
       "            </td>\n",
       "        </tr>\n",
       "    \n",
       "        <tr style=\"background-color: hsl(120, 100.00%, 82.54%); border: none;\">\n",
       "            <td style=\"padding: 0 1em 0 0.5em; text-align: right; border: none;\">\n",
       "                0.0719\n",
       "                \n",
       "                    &plusmn; 0.0035\n",
       "                \n",
       "            </td>\n",
       "            <td style=\"padding: 0 0.5em 0 0.5em; text-align: left; border: none;\">\n",
       "                peso\n",
       "            </td>\n",
       "        </tr>\n",
       "    \n",
       "        <tr style=\"background-color: hsl(120, 100.00%, 82.86%); border: none;\">\n",
       "            <td style=\"padding: 0 1em 0 0.5em; text-align: right; border: none;\">\n",
       "                0.0700\n",
       "                \n",
       "                    &plusmn; 0.0017\n",
       "                \n",
       "            </td>\n",
       "            <td style=\"padding: 0 0.5em 0 0.5em; text-align: left; border: none;\">\n",
       "                edad\n",
       "            </td>\n",
       "        </tr>\n",
       "    \n",
       "        <tr style=\"background-color: hsl(120, 100.00%, 83.88%); border: none;\">\n",
       "            <td style=\"padding: 0 1em 0 0.5em; text-align: right; border: none;\">\n",
       "                0.0641\n",
       "                \n",
       "                    &plusmn; 0.0046\n",
       "                \n",
       "            </td>\n",
       "            <td style=\"padding: 0 0.5em 0 0.5em; text-align: left; border: none;\">\n",
       "                presion2\n",
       "            </td>\n",
       "        </tr>\n",
       "    \n",
       "        <tr style=\"background-color: hsl(120, 100.00%, 86.28%); border: none;\">\n",
       "            <td style=\"padding: 0 1em 0 0.5em; text-align: right; border: none;\">\n",
       "                0.0510\n",
       "                \n",
       "                    &plusmn; 0.0022\n",
       "                \n",
       "            </td>\n",
       "            <td style=\"padding: 0 0.5em 0 0.5em; text-align: left; border: none;\">\n",
       "                sexo_f\n",
       "            </td>\n",
       "        </tr>\n",
       "    \n",
       "        <tr style=\"background-color: hsl(120, 100.00%, 90.61%); border: none;\">\n",
       "            <td style=\"padding: 0 1em 0 0.5em; text-align: right; border: none;\">\n",
       "                0.0296\n",
       "                \n",
       "                    &plusmn; 0.0025\n",
       "                \n",
       "            </td>\n",
       "            <td style=\"padding: 0 0.5em 0 0.5em; text-align: left; border: none;\">\n",
       "                colesterol_bajo\n",
       "            </td>\n",
       "        </tr>\n",
       "    \n",
       "        <tr style=\"background-color: hsl(120, 100.00%, 91.34%); border: none;\">\n",
       "            <td style=\"padding: 0 1em 0 0.5em; text-align: right; border: none;\">\n",
       "                0.0264\n",
       "                \n",
       "                    &plusmn; 0.0014\n",
       "                \n",
       "            </td>\n",
       "            <td style=\"padding: 0 0.5em 0 0.5em; text-align: left; border: none;\">\n",
       "                glucosa_alta\n",
       "            </td>\n",
       "        </tr>\n",
       "    \n",
       "        <tr style=\"background-color: hsl(120, 100.00%, 92.67%); border: none;\">\n",
       "            <td style=\"padding: 0 1em 0 0.5em; text-align: right; border: none;\">\n",
       "                0.0208\n",
       "                \n",
       "                    &plusmn; 0.0028\n",
       "                \n",
       "            </td>\n",
       "            <td style=\"padding: 0 0.5em 0 0.5em; text-align: left; border: none;\">\n",
       "                sexo_m\n",
       "            </td>\n",
       "        </tr>\n",
       "    \n",
       "        <tr style=\"background-color: hsl(120, 100.00%, 94.69%); border: none;\">\n",
       "            <td style=\"padding: 0 1em 0 0.5em; text-align: right; border: none;\">\n",
       "                0.0131\n",
       "                \n",
       "                    &plusmn; 0.0010\n",
       "                \n",
       "            </td>\n",
       "            <td style=\"padding: 0 0.5em 0 0.5em; text-align: left; border: none;\">\n",
       "                colesterol_alto\n",
       "            </td>\n",
       "        </tr>\n",
       "    \n",
       "        <tr style=\"background-color: hsl(120, 100.00%, 98.71%); border: none;\">\n",
       "            <td style=\"padding: 0 1em 0 0.5em; text-align: right; border: none;\">\n",
       "                0.0017\n",
       "                \n",
       "                    &plusmn; 0.0008\n",
       "                \n",
       "            </td>\n",
       "            <td style=\"padding: 0 0.5em 0 0.5em; text-align: left; border: none;\">\n",
       "                presion1\n",
       "            </td>\n",
       "        </tr>\n",
       "    \n",
       "        <tr style=\"background-color: hsl(0, 100.00%, 100.00%); border: none;\">\n",
       "            <td style=\"padding: 0 1em 0 0.5em; text-align: right; border: none;\">\n",
       "                0\n",
       "                \n",
       "                    &plusmn; 0.0000\n",
       "                \n",
       "            </td>\n",
       "            <td style=\"padding: 0 0.5em 0 0.5em; text-align: left; border: none;\">\n",
       "                glucosa_media\n",
       "            </td>\n",
       "        </tr>\n",
       "    \n",
       "        <tr style=\"background-color: hsl(0, 100.00%, 100.00%); border: none;\">\n",
       "            <td style=\"padding: 0 1em 0 0.5em; text-align: right; border: none;\">\n",
       "                0\n",
       "                \n",
       "                    &plusmn; 0.0000\n",
       "                \n",
       "            </td>\n",
       "            <td style=\"padding: 0 0.5em 0 0.5em; text-align: left; border: none;\">\n",
       "                colesterol_medio\n",
       "            </td>\n",
       "        </tr>\n",
       "    \n",
       "        <tr style=\"background-color: hsl(0, 100.00%, 100.00%); border: none;\">\n",
       "            <td style=\"padding: 0 1em 0 0.5em; text-align: right; border: none;\">\n",
       "                0\n",
       "                \n",
       "                    &plusmn; 0.0000\n",
       "                \n",
       "            </td>\n",
       "            <td style=\"padding: 0 0.5em 0 0.5em; text-align: left; border: none;\">\n",
       "                altura\n",
       "            </td>\n",
       "        </tr>\n",
       "    \n",
       "        <tr style=\"background-color: hsl(0, 100.00%, 100.00%); border: none;\">\n",
       "            <td style=\"padding: 0 1em 0 0.5em; text-align: right; border: none;\">\n",
       "                0\n",
       "                \n",
       "                    &plusmn; 0.0000\n",
       "                \n",
       "            </td>\n",
       "            <td style=\"padding: 0 0.5em 0 0.5em; text-align: left; border: none;\">\n",
       "                alcohol\n",
       "            </td>\n",
       "        </tr>\n",
       "    \n",
       "        <tr style=\"background-color: hsl(0, 100.00%, 100.00%); border: none;\">\n",
       "            <td style=\"padding: 0 1em 0 0.5em; text-align: right; border: none;\">\n",
       "                0\n",
       "                \n",
       "                    &plusmn; 0.0000\n",
       "                \n",
       "            </td>\n",
       "            <td style=\"padding: 0 0.5em 0 0.5em; text-align: left; border: none;\">\n",
       "                fuma\n",
       "            </td>\n",
       "        </tr>\n",
       "    \n",
       "    \n",
       "    </tbody>\n",
       "</table>\n",
       "    \n",
       "\n",
       "    \n",
       "\n",
       "\n",
       "    \n",
       "\n",
       "    \n",
       "\n",
       "    \n",
       "\n",
       "    \n",
       "\n",
       "    \n",
       "\n",
       "    \n",
       "\n",
       "\n",
       "\n"
      ],
      "text/plain": [
       "<IPython.core.display.HTML object>"
      ]
     },
     "execution_count": 9,
     "metadata": {},
     "output_type": "execute_result"
    }
   ],
   "source": [
    "import eli5\n",
    "from eli5.sklearn import PermutationImportance\n",
    "\n",
    "perm = PermutationImportance(automl, random_state=1).fit(X_test, y_test)\n",
    "eli5.show_weights(perm, feature_names = X_test.columns.tolist())"
   ]
  },
  {
   "cell_type": "markdown",
   "id": "b679a1cd-dcd5-46d5-8887-f9ab992cf018",
   "metadata": {},
   "source": [
    "Aqui vemos la lista de las columnas ordenadas por orden de importancia de mayor (verde) a menor (rojo)"
   ]
  },
  {
   "cell_type": "markdown",
   "id": "432d8b85-3a5e-4166-b84a-5f874859292d",
   "metadata": {},
   "source": [
    "## Shap Values"
   ]
  },
  {
   "cell_type": "markdown",
   "id": "4d41198d-3ff5-4c05-9263-30f3be75b24c",
   "metadata": {},
   "source": [
    "Ahora veremos como utilizar la libreria Shap para analizar como ha influido cada columna en la prediccion de un dato en particular"
   ]
  },
  {
   "cell_type": "code",
   "execution_count": 10,
   "id": "d85a2a4b-9aca-4cdf-821d-86cda2ce9ead",
   "metadata": {},
   "outputs": [],
   "source": [
    "!pip install shap -U -q"
   ]
  },
  {
   "cell_type": "code",
   "execution_count": 11,
   "id": "ddaa7b61-dfba-470c-bc64-20fb0f88f999",
   "metadata": {},
   "outputs": [],
   "source": [
    "import shap"
   ]
  },
  {
   "cell_type": "markdown",
   "id": "d60fe3a7-9901-4df6-a37f-8d152f328961",
   "metadata": {},
   "source": [
    "Creamos una funcion que reciba como parametro un datos x y que utilizando nuestra caja negra entrenada nos devuelva solo la probabilidad de que sea positivo el dato x"
   ]
  },
  {
   "cell_type": "code",
   "execution_count": 12,
   "id": "6685369f-938f-4b51-a54e-9cb02c7be6a2",
   "metadata": {},
   "outputs": [],
   "source": [
    "def prob_positiva(x):\n",
    "    probabilidades  = automl.predict_proba(x)\n",
    "    probabilidad_positiva = probabilidades[:, 1]\n",
    "    return probabilidad_positiva"
   ]
  },
  {
   "cell_type": "markdown",
   "id": "57d1d7dd-e79c-4ff0-93fa-88b45b445c48",
   "metadata": {},
   "source": [
    "Obtenemos la mediana de cada columna"
   ]
  },
  {
   "cell_type": "code",
   "execution_count": 13,
   "id": "0c9bdcba-9e98-4c69-8a53-2455dc0af6f9",
   "metadata": {},
   "outputs": [
    {
     "data": {
      "text/plain": [
       "fuma                0.000000\n",
       "alcohol             0.000000\n",
       "gimnasia            1.000000\n",
       "edad                0.116675\n",
       "altura              0.079476\n",
       "peso               -0.152197\n",
       "presion1           -0.054742\n",
       "presion2           -0.086953\n",
       "colesterol_alto     0.000000\n",
       "colesterol_bajo     1.000000\n",
       "colesterol_medio    0.000000\n",
       "glucosa_alta        0.000000\n",
       "glucosa_baja        1.000000\n",
       "glucosa_media       0.000000\n",
       "sexo_f              0.000000\n",
       "sexo_m              1.000000\n",
       "dtype: float64"
      ]
     },
     "execution_count": 13,
     "metadata": {},
     "output_type": "execute_result"
    }
   ],
   "source": [
    "X_train.median()"
   ]
  },
  {
   "cell_type": "code",
   "execution_count": 14,
   "id": "615bbcd8-3d8f-43a1-962a-3ec192fa71a0",
   "metadata": {},
   "outputs": [
    {
     "data": {
      "text/plain": [
       "array([[ 0.        ,  0.        ,  1.        ,  0.1166749 ,  0.07947594,\n",
       "        -0.15219657, -0.05474158, -0.08695264,  0.        ,  1.        ,\n",
       "         0.        ,  0.        ,  1.        ,  0.        ,  0.        ,\n",
       "         1.        ]])"
      ]
     },
     "execution_count": 14,
     "metadata": {},
     "output_type": "execute_result"
    }
   ],
   "source": [
    "med = X_train.median().values.reshape((1, X_train.shape[1]))\n",
    "med"
   ]
  },
  {
   "cell_type": "markdown",
   "id": "e8faaab8-da50-4a7f-90b4-d30e1713f1e1",
   "metadata": {},
   "source": [
    "Calculamos los shap values del dato que queremos analizar"
   ]
  },
  {
   "cell_type": "code",
   "execution_count": 15,
   "id": "22e9a15e-7bc2-4d7c-9e87-bff1f02c3b50",
   "metadata": {},
   "outputs": [],
   "source": [
    "explainer = shap.Explainer(prob_positiva, med)\n",
    "shap_values = explainer(X_test.iloc[0:1, :]) "
   ]
  },
  {
   "cell_type": "markdown",
   "id": "6c3b8313-f6ff-41cb-8f93-afc0845385ad",
   "metadata": {},
   "source": [
    "Graficamos los shap values para ver la incidencia de cada variable en la prediccion"
   ]
  },
  {
   "cell_type": "code",
   "execution_count": 16,
   "id": "876be8a6-b42e-46ed-9337-6cf0d155a844",
   "metadata": {},
   "outputs": [
    {
     "data": {
      "image/png": "[encoded data removed]",
      "text/plain": [
       "<Figure size 800x650 with 3 Axes>"
      ]
     },
     "metadata": {},
     "output_type": "display_data"
    }
   ],
   "source": [
    "shap.plots.waterfall(shap_values[0])"
   ]
  },
  {
   "cell_type": "markdown",
   "id": "479c8481-8c0a-4808-91ef-5314144cc3a8",
   "metadata": {},
   "source": [
    "Aqui vemos que las variables que mas han influido en la prediccion son el nivel de glucosa y si hace gimnasia. Esto coincide con lo analizado con el metodo anterior de "
   ]
  },
  {
   "cell_type": "markdown",
   "id": "01a7f7b4-bde2-40b5-85f2-5be3fcb730b1",
   "metadata": {},
   "source": [
    "## Tecnicas de Analisis de Modelos Simples\n",
    "\n",
    "Cuando elegimos modelos simples como:\n",
    "- [Regresion Lineal](https://colab.research.google.com/github/amiune/freecodingtour/blob/main/cursos/espanol/datascience/E3_regresion_lineal.ipynb)\n",
    "- [Arbol de Decision](https://colab.research.google.com/github/amiune/freecodingtour/blob/main/cursos/espanol/datascience/E2_arbol.ipynb)\n",
    "\n",
    "Entonces es mucho mas simple entender que es lo que esta haciendo el modelo ya que estos algoritmos son simples de entender. Para ver mas en detalle como funcionan ir a la seccion de material avanzado \"Espiando adentro de las cajas negras\""
   ]
  },
  {
   "cell_type": "markdown",
   "id": "2b1408c3",
   "metadata": {},
   "source": [
    "# Referencias: \n",
    "\n",
    "- [What Are Shapley Interactions, and Why Should You Care?](https://mindfulmodeler.substack.com/p/what-are-shapley-interactions-and)"
   ]
  },
  {
   "cell_type": "markdown",
   "id": "33120d53-697c-4925-8b8e-96857bbf8fca",
   "metadata": {},
   "source": [
    "# Fin: [Volver al contenido del curso](https://www.freecodingtour.com/cursos/espanol/datascience/datascience.html)"
   ]
  }
 ],
 "metadata": {
  "kernelspec": {
   "display_name": "base",
   "language": "python",
   "name": "base"
  },
  "language_info": {
   "codemirror_mode": {
    "name": "ipython",
    "version": 3
   },
   "file_extension": ".py",
   "mimetype": "text/x-python",
   "name": "python",
   "nbconvert_exporter": "python",
   "pygments_lexer": "ipython3",
   "version": "3.9.7"
  }
 },
 "nbformat": 4,
 "nbformat_minor": 5
}
