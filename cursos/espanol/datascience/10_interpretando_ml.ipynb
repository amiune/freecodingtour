{
 "cells": [
  {
   "cell_type": "markdown",
   "id": "d03197b4-3df2-4632-b7f7-3a92c78cfafa",
   "metadata": {},
   "source": [
    "# Interpretando los Resultados de la Caja Negra"
   ]
  },
  {
   "cell_type": "markdown",
   "id": "490c074b-15d6-44d4-985f-e70b8830cce7",
   "metadata": {},
   "source": [
    "Una vez que hemos entrenado una caja negra para hacer predicciones podemos querer saber mas a cerca de como esta caja negra toma esas decisiones aun sin entender completamente que es lo que sucede dentro de ella. Para ello veremos varias tecnicas que nos pueden ayudar a interpretar los resultados."
   ]
  },
  {
   "cell_type": "markdown",
   "id": "6bf8f232-76c6-4835-ad50-ad680c7c4ce1",
   "metadata": {},
   "source": [
    "## Tecnicas de Caja Negra\n",
    "\n",
    "Estas tecnicas sirven para interpretar los resultados aun sin entender absolutamente nada de lo que pasa adentro de las cajas negras ni cual fue el algoritmo utilizado para entrenarlas.\n",
    "\n",
    "Existen varias tecnicas y librerias para hacer esto, a continuacion se mencionan algunas:\n",
    "  - [Sklearn Inspection](https://scikit-learn.org/stable/modules/classes.html#module-sklearn.inspection)\n",
    "  - [Shap](https://shap.readthedocs.io/en/latest/index.html)\n",
    "  - [ELI5](https://eli5.readthedocs.io/en/latest/)\n",
    "  - [imodels](https://github.com/csinva/imodels)\n",
    "  \n",
    "En esta unidad veremos la tecnica mas sencilla llamada Feature Permutation y que consiste en seleccionar una columna especifica de mi dataset, mezclar sus filas y calcular el error del modelo. Si esta mezcla de las filas ha modificado mucho su poder de prediccion entonces quiere decir que esa columna es importante, si de lo contrario no ha modificado su poder de prediccion quiere decir que esa columna no ha aportado mucho a la prediccion. De esta manera podemos saber cuales han sido las columnas que el modelo ha considerado mas importantes a la hora de hacer la prediccion.\n",
    "\n",
    "Veamos ahora un ejemplo con el modelo complejo que hemos obtenido en la unidad anterior:"
   ]
  },
  {
   "cell_type": "code",
   "execution_count": null,
   "id": "378900fe-c1c0-4a98-8b07-292f89496e2e",
   "metadata": {},
   "outputs": [],
   "source": [
    "!pip install \"flaml[automl]\""
   ]
  },
  {
   "cell_type": "code",
   "execution_count": null,
   "id": "bacb1425-eaf4-4e0c-9bfd-59b880a7a731",
   "metadata": {},
   "outputs": [],
   "source": [
    "import pandas as pd\n",
    "import warnings\n",
    "warnings.filterwarnings('ignore')"
   ]
  },
  {
   "cell_type": "code",
   "execution_count": null,
   "id": "71edc467-d9a8-48a7-8ea8-c4eb21b722be",
   "metadata": {},
   "outputs": [],
   "source": [
    "df_train = pd.read_csv('https://raw.githubusercontent.com/amiune/freecodingtour/main/cursos/espanol/datascience/data/diabetes/diabetes_train_procesado.csv')\n",
    "df_test = pd.read_csv('https://raw.githubusercontent.com/amiune/freecodingtour/main/cursos/espanol/datascience/data/diabetes/diabetes_test_procesado.csv')"
   ]
  },
  {
   "cell_type": "code",
   "execution_count": null,
   "id": "a9497f4d-c12b-482f-8556-ea7e3b65d6ed",
   "metadata": {},
   "outputs": [],
   "source": [
    "X_train = df_train.loc[:, df_train.columns != \"diabetes\"]\n",
    "y_train = df_train.loc[:, \"diabetes\"]"
   ]
  },
  {
   "cell_type": "code",
   "execution_count": null,
   "id": "2988cb07-72d2-4171-ae62-75fb016453a4",
   "metadata": {},
   "outputs": [],
   "source": [
    "from flaml import AutoML\n",
    "automl = AutoML()\n",
    "automl.fit(X_train, y_train, task=\"classification\", time_budget=10)"
   ]
  },
  {
   "cell_type": "code",
   "execution_count": null,
   "id": "9ba4c974-d318-4ede-b113-4fcdbf5a54dd",
   "metadata": {},
   "outputs": [],
   "source": [
    "automl.best_estimator"
   ]
  },
  {
   "cell_type": "code",
   "execution_count": null,
   "id": "f8e1aa21-c59b-4c2e-b3e0-b6bb77312cbf",
   "metadata": {},
   "outputs": [],
   "source": [
    "!pip install eli5"
   ]
  },
  {
   "cell_type": "code",
   "execution_count": null,
   "id": "5ed198a5-fc84-4a0c-8533-c233dc84b423",
   "metadata": {},
   "outputs": [],
   "source": [
    "X_test = df_test.loc[:, df_test.columns != \"diabetes\"]\n",
    "y_test = df_test.loc[:, \"diabetes\"]"
   ]
  },
  {
   "cell_type": "code",
   "execution_count": null,
   "id": "127f0879-7719-46ff-b807-12ab219a4dee",
   "metadata": {},
   "outputs": [],
   "source": [
    "import eli5\n",
    "from eli5.sklearn import PermutationImportance\n",
    "\n",
    "perm = PermutationImportance(automl, random_state=1).fit(X_test, y_test)\n",
    "eli5.show_weights(perm, feature_names = X_test.columns.tolist())"
   ]
  },
  {
   "cell_type": "markdown",
   "id": "b679a1cd-dcd5-46d5-8887-f9ab992cf018",
   "metadata": {},
   "source": [
    "Aqui vemos la lista de las columnas ordenadas por orden de importancia de mayor (verde) a menor (rojo)"
   ]
  },
  {
   "cell_type": "markdown",
   "id": "01a7f7b4-bde2-40b5-85f2-5be3fcb730b1",
   "metadata": {},
   "source": [
    "## Tecnicas de Analisis de Modelos Simples\n",
    "\n",
    "Cuando elegimos modelos simples como:\n",
    "- Regresion Lineal\n",
    "- Arbol de Decision\n",
    "\n",
    "Entonces es mucho mas simple entender que es lo que esta haciendo el modelo ya que estos algoritmos son simples de entender. Para ver mas en detalle como funcionan ir a la seccion de material avanzado \"Espiando dentro de las cajas negra.\""
   ]
  },
  {
   "cell_type": "markdown",
   "id": "33120d53-697c-4925-8b8e-96857bbf8fca",
   "metadata": {},
   "source": [
    "# Fin: [Volver al contenido del curso](https://www.freecodingtour.com/cursos/espanol/datascience/datascience.html)"
   ]
  }
 ],
 "metadata": {
  "kernelspec": {
   "display_name": "base",
   "language": "python",
   "name": "base"
  },
  "language_info": {
   "codemirror_mode": {
    "name": "ipython",
    "version": 3
   },
   "file_extension": ".py",
   "mimetype": "text/x-python",
   "name": "python",
   "nbconvert_exporter": "python",
   "pygments_lexer": "ipython3",
   "version": "3.9.7"
  }
 },
 "nbformat": 4,
 "nbformat_minor": 5
}
