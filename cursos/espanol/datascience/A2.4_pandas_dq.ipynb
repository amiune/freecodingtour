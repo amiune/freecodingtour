{
 "cells": [
  {
   "cell_type": "markdown",
   "id": "ba0c39e8-6815-4871-b661-c106cea51b3f",
   "metadata": {},
   "source": [
    "# pandas_dq: reporte de problemas en los datos\n",
    "\n",
    "[pandas_dq](https://github.com/AutoViML/pandas_dq) nos permite analizar problemas con los datos y solucionarlos"
   ]
  },
  {
   "cell_type": "code",
   "execution_count": null,
   "id": "cd281541-ec76-4baa-a4fa-76e950f9cad2",
   "metadata": {},
   "outputs": [],
   "source": [
    "import pandas as pd\n",
    "df_ana_train = pd.read_csv('https://raw.githubusercontent.com/amiune/freecodingtour/main/cursos/espanol/datascience/data/diabetes/diabetes_train_analisis.csv')\n",
    "df_inf_train = pd.read_csv('https://raw.githubusercontent.com/amiune/freecodingtour/main/cursos/espanol/datascience/data/diabetes/diabetes_train_info.csv')\n",
    "df_train = pd.merge(df_ana_train,df_inf_train,on=\"id\")\n",
    "df_train.head()"
   ]
  },
  {
   "cell_type": "code",
   "execution_count": null,
   "id": "c3dcb722-2c97-4e69-9911-27bcc918953c",
   "metadata": {},
   "outputs": [],
   "source": [
    "!pip install pandas-dq"
   ]
  },
  {
   "cell_type": "code",
   "execution_count": null,
   "id": "f9267f70-cc07-4cff-ac51-f978156365fe",
   "metadata": {},
   "outputs": [],
   "source": [
    "from pandas_dq import dq_report\n",
    "dqr = dq_report(df_train, target=\"diabetes\", html=False, csv_engine=\"pandas\", verbose=1)"
   ]
  },
  {
   "cell_type": "markdown",
   "id": "cc17b56b-5961-4f32-acca-73ddb43b6562",
   "metadata": {},
   "source": [
    "## Comparar los conjuntos de entrenamiento y prueba"
   ]
  },
  {
   "cell_type": "code",
   "execution_count": null,
   "id": "4c714faa-cbd9-4a20-a824-1ca62b88a119",
   "metadata": {},
   "outputs": [],
   "source": [
    "import pandas as pd\n",
    "df_ana_test = pd.read_csv('https://raw.githubusercontent.com/amiune/freecodingtour/main/cursos/espanol/datascience/data/diabetes/diabetes_test_analisis.csv')\n",
    "df_inf_test = pd.read_csv('https://raw.githubusercontent.com/amiune/freecodingtour/main/cursos/espanol/datascience/data/diabetes/diabetes_test_info.csv')\n",
    "df_test = pd.merge(df_ana_test,df_inf_test,on=\"id\")\n",
    "df_test.head()"
   ]
  },
  {
   "cell_type": "code",
   "execution_count": null,
   "id": "be02217d-f3ec-49f1-afbd-99929a8edfe6",
   "metadata": {},
   "outputs": [],
   "source": [
    "from pandas_dq import dc_report\n",
    "dc_report = dc_report(df_train, df_test, exclude=[], html=True, verbose=1)"
   ]
  },
  {
   "cell_type": "markdown",
   "id": "637c6ec3-9d0e-4763-9991-afb94a51b15d",
   "metadata": {},
   "source": [
    "## Arreglar los problemas"
   ]
  },
  {
   "cell_type": "code",
   "execution_count": null,
   "id": "e587d6c5-effa-489d-a7a3-6d93c3f2df50",
   "metadata": {},
   "outputs": [],
   "source": [
    "from pandas_dq import Fix_DQ\n",
    "\n",
    "fdq = Fix_DQ()\n",
    "X_train_transformed = fdq.fit_transform(X_train)\n"
   ]
  },
  {
   "cell_type": "code",
   "execution_count": null,
   "id": "6ab73caa-4db8-4330-83e1-5715674cdd09",
   "metadata": {},
   "outputs": [],
   "source": []
  }
 ],
 "metadata": {
  "kernelspec": {
   "display_name": "Python 3 (ipykernel)",
   "language": "python",
   "name": "python3"
  },
  "language_info": {
   "codemirror_mode": {
    "name": "ipython",
    "version": 3
   },
   "file_extension": ".py",
   "mimetype": "text/x-python",
   "name": "python",
   "nbconvert_exporter": "python",
   "pygments_lexer": "ipython3",
   "version": "3.9.18"
  }
 },
 "nbformat": 4,
 "nbformat_minor": 5
}
