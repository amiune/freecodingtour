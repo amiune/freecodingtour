{
 "cells": [
  {
   "cell_type": "markdown",
   "id": "a4a23836-a31c-4c4c-b7d1-cca6cbbb5260",
   "metadata": {},
   "source": [
    "# Separar la tabla en dos: Entrenamiento y Prueba\n"
   ]
  },
  {
   "cell_type": "code",
   "execution_count": null,
   "id": "6ed6e372-bf04-44ea-b0e7-f9cbd2d0fe7b",
   "metadata": {},
   "outputs": [],
   "source": [
    "import pandas as pd"
   ]
  },
  {
   "cell_type": "code",
   "execution_count": null,
   "id": "a3a90ae3-1814-4099-b10c-0a367b584ae8",
   "metadata": {},
   "outputs": [],
   "source": [
    "# cargamos la tabla que habiamos guardado en un archivo de texto\n",
    "df = pd.read_csv(\"https://raw.githubusercontent.com/amiune/freecodingtour/main/cursos/espanol/datascience/tabla_telefonos2.csv\")"
   ]
  },
  {
   "cell_type": "code",
   "execution_count": null,
   "id": "e43cf39a-a167-4e0a-ab3c-67e988736c59",
   "metadata": {},
   "outputs": [],
   "source": [
    "df"
   ]
  },
  {
   "cell_type": "markdown",
   "id": "d1f14e89-c6cf-4783-aeb0-103663571879",
   "metadata": {},
   "source": [
    "Aqui empezaremos a utilizar una nueva libreria llamada **sklearn** que tiene una gran cantidad de funciones y algorimos que nos ayudaran con el Machine Learning\n",
    "\n",
    "Tiene tantas funciones que iremos importando solo las que utilizaremos y eso lo hacemos con las palabras **from** e **import**. A continuacion solo importaremos la funcion **train_test_split** del modulo **model_selection** de la libreria **sklearn**"
   ]
  },
  {
   "cell_type": "code",
   "execution_count": null,
   "id": "38322507-f8bf-4239-aa60-0973133b7bdb",
   "metadata": {},
   "outputs": [],
   "source": [
    "from sklearn.model_selection import train_test_split"
   ]
  },
  {
   "cell_type": "markdown",
   "id": "19730270-cada-4f1d-beec-61bacc6dab98",
   "metadata": {},
   "source": [
    "Mediante el parametro **test_size** le diremos que porcentaje de los datos iran a nuestra tabla de Prueba, en este caso 0.30 indica el 30%. El parametro **random_state** es una semilla para poder reproducir la seleccion aleatoria."
   ]
  },
  {
   "cell_type": "code",
   "execution_count": null,
   "id": "c6b5422e-15e7-481d-9554-625aa24ae9ce",
   "metadata": {},
   "outputs": [],
   "source": [
    "df_train, df_test = train_test_split(df, test_size=0.30, random_state=42)"
   ]
  },
  {
   "cell_type": "code",
   "execution_count": null,
   "id": "8d21d5e7-a729-4dcd-9514-e8debfe0244f",
   "metadata": {},
   "outputs": [],
   "source": [
    "df_train"
   ]
  },
  {
   "cell_type": "code",
   "execution_count": null,
   "id": "e0ebba4f-6771-4739-a8a6-898e4f6dffa9",
   "metadata": {},
   "outputs": [],
   "source": [
    "df_test"
   ]
  },
  {
   "cell_type": "markdown",
   "id": "77f8203e-0c1d-475f-badb-1b378706546e",
   "metadata": {},
   "source": [
    "### Ejercicio 1:\n",
    "\n",
    "Separar la tabla en dos pero con el 80% de los datos en la tabla de Train y el 20% en la tabla de Test"
   ]
  },
  {
   "cell_type": "code",
   "execution_count": null,
   "id": "65f5453e-efd7-4c27-85d3-8334df47586e",
   "metadata": {},
   "outputs": [],
   "source": [
    "# Escribir aqui la solucion\n",
    "\n"
   ]
  },
  {
   "cell_type": "code",
   "execution_count": null,
   "id": "f0401f30-0888-4588-8ca2-21cffb4cca2d",
   "metadata": {},
   "outputs": [],
   "source": [
    "#@title Solucion Ejercicio 1 {display-mode:\"form\"}\n",
    "\n",
    "df_train, df_test = train_test_split(df, test_size=0.20, random_state=42)"
   ]
  },
  {
   "cell_type": "code",
   "execution_count": null,
   "id": "e2159189-72b3-47ea-9291-a481811631bf",
   "metadata": {},
   "outputs": [],
   "source": [
    "df_test"
   ]
  },
  {
   "cell_type": "markdown",
   "id": "38186edd-6c86-4a58-9785-c999f8ef2179",
   "metadata": {},
   "source": [
    "### Ejercicio 2:\n",
    "\n",
    "Guardar las tablas de train y test en dos archivos de texto separados por comas con los nombres: **tabla_telefonos_train.csv** y **tabla_telefonos_test.csv**"
   ]
  },
  {
   "cell_type": "code",
   "execution_count": null,
   "id": "3a056ec7-3800-4252-9597-f00a2b9b3ca1",
   "metadata": {},
   "outputs": [],
   "source": [
    "# Escribir aqui la solucion\n",
    "\n"
   ]
  },
  {
   "cell_type": "code",
   "execution_count": null,
   "id": "47d2b5c4-e54b-4a9c-a76b-986ed733cd00",
   "metadata": {},
   "outputs": [],
   "source": [
    "#@title Solucion Ejercicio 2 {display-mode:\"form\"}\n",
    "\n",
    "df_train.to_csv(\"tabla_telefonos_train.csv\", index=False)\n",
    "df_test.to_csv(\"tabla_telefonos_test.csv\", index=False)"
   ]
  },
  {
   "cell_type": "markdown",
   "id": "ddfa8c94-6828-4a7c-8832-e9af48cdf7b9",
   "metadata": {},
   "source": [
    "El proximo paso es pasarle estas tablas a nuestras cajas negras para poder entrenarlas y luego hacer predicciones con ellas."
   ]
  },
  {
   "cell_type": "markdown",
   "id": "e8ffcc5b-5c9a-4ab3-aac8-8fb1c1c47f85",
   "metadata": {},
   "source": [
    "# Fin: [Volver al contenido del curso](https://www.freecodingtour.com/cursos/espanol/datascience/datascience.html)"
   ]
  }
 ],
 "metadata": {
  "kernelspec": {
   "display_name": "Python 3 (ipykernel)",
   "language": "python",
   "name": "python3"
  },
  "language_info": {
   "codemirror_mode": {
    "name": "ipython",
    "version": 3
   },
   "file_extension": ".py",
   "mimetype": "text/x-python",
   "name": "python",
   "nbconvert_exporter": "python",
   "pygments_lexer": "ipython3",
   "version": "3.12.4"
  }
 },
 "nbformat": 4,
 "nbformat_minor": 5
}
