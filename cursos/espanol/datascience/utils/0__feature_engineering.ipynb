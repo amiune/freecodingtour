{
 "cells": [
  {
   "cell_type": "markdown",
   "metadata": {},
   "source": [
    "- https://www.kaggle.com/code/willkoehrsen/automated-feature-engineering-basics\n",
    "- https://featuretools.alteryx.com/en/stable/#minute-quick-start\n",
    "\n",
    "\n",
    "\n",
    "- [Use of kmeans and pca to create new features](https://www.kaggle.com/code/noussairmighri/house-price-prediction-top-4)\n",
    "\n"
   ]
  }
 ],
 "metadata": {
  "language_info": {
   "name": "python"
  }
 },
 "nbformat": 4,
 "nbformat_minor": 2
}
