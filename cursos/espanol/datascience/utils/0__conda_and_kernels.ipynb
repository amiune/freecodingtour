{
 "cells": [
  {
   "cell_type": "markdown",
   "id": "4701b36c-873d-4076-a078-fb5c3f4d1bad",
   "metadata": {},
   "source": [
    "# Cheat Sheet"
   ]
  },
  {
   "cell_type": "markdown",
   "id": "1e4ddd1a",
   "metadata": {},
   "source": [
    "# Crear enviroments de anaconda desde un environment.yml file\n",
    "\n",
    "- https://carpentries-incubator.github.io/introduction-to-conda-for-data-scientists/04-sharing-environments/index.html\n",
    "\n",
    "\n",
    "Ejemplo del contenido del archivo de configuracion environment.yml:\n",
    "```\n",
    "name: ejemploenv\n",
    "\n",
    "dependencies:\n",
    " - jupyterlab=1.0\n",
    " - matplotlib=3.1\n",
    " - pandas=0.24\n",
    " - scikit-learn=0.21\n",
    " - pip=19.1\n",
    " - pip:\n",
    "   - kaggle==1.5\n",
    "   - yellowbrick==0.9\n",
    "```\n",
    "\n",
    "To create the environment:\n",
    "```\n",
    "conda env create --file environment.yml\n",
    "```\n",
    "\n",
    "To create the environment in you proyect folder:\n",
    "```\n",
    "conda env create --file environment.yml --prefix ./env\n",
    "```\n",
    "\n"
   ]
  },
  {
   "cell_type": "markdown",
   "id": "40293e44-2bd2-4180-beda-ae138d511023",
   "metadata": {},
   "source": [
    "# Agregando y eliminando kernels de jupyter\n",
    "\n",
    "#### List all kernels and grap the name of the kernel you want to remove\n",
    "```\n",
    "jupyter kernelspec list\n",
    "```\n",
    "\n",
    "#### Add kernel\n",
    "```\n",
    "conda activate ejemploenv\n",
    "pip install ipykernel\n",
    "python -m ipykernel install --user --name ejemploenv --display-name \"Mi env de ejemplo\"\n",
    "```\n",
    "\n",
    "#### Remove it\n",
    "```\n",
    "jupyter kernelspec remove ejemploenv\n",
    "```"
   ]
  },
  {
   "cell_type": "markdown",
   "id": "d77ac5eb-c4be-4065-a7f4-70396bc37e39",
   "metadata": {},
   "source": [
    "# Fin: [Volver al contenido del curso](https://www.freecodingtour.com/cursos/espanol/datascience/datascience.html)"
   ]
  }
 ],
 "metadata": {
  "kernelspec": {
   "display_name": "base2",
   "language": "python",
   "name": "base2"
  },
  "language_info": {
   "codemirror_mode": {
    "name": "ipython",
    "version": 3
   },
   "file_extension": ".py",
   "mimetype": "text/x-python",
   "name": "python",
   "nbconvert_exporter": "python",
   "pygments_lexer": "ipython3",
   "version": "3.11.8"
  }
 },
 "nbformat": 4,
 "nbformat_minor": 5
}
