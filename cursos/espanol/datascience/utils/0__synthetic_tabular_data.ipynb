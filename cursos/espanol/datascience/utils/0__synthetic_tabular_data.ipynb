{
 "cells": [
  {
   "cell_type": "markdown",
   "metadata": {},
   "source": [
    "- https://medium.com/@ashish28082002.ak/tabular-synthetic-data-generator-using-conditional-gans-d98fcd974148"
   ]
  }
 ],
 "metadata": {
  "language_info": {
   "name": "python"
  }
 },
 "nbformat": 4,
 "nbformat_minor": 2
}
