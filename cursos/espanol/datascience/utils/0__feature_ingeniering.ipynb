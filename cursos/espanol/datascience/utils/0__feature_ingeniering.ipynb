{
 "cells": [
  {
   "cell_type": "markdown",
   "metadata": {},
   "source": [
    "- https://www.kaggle.com/code/willkoehrsen/automated-feature-engineering-basics\n",
    "- https://featuretools.alteryx.com/en/stable/#minute-quick-start\n",
    "\n"
   ]
  }
 ],
 "metadata": {
  "language_info": {
   "name": "python"
  }
 },
 "nbformat": 4,
 "nbformat_minor": 2
}
