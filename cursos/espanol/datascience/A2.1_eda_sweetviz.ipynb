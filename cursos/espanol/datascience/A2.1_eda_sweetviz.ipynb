{
 "cells": [
  {
   "cell_type": "markdown",
   "id": "fae5c76b-6339-4296-b7cf-27f00a927295",
   "metadata": {},
   "source": [
    "# Sweetviz: EDA con dos lineas de codigo"
   ]
  },
  {
   "cell_type": "markdown",
   "id": "e73d6047-a060-490b-ab48-786e6de2ef8e",
   "metadata": {},
   "source": [
    "Aqui veremos la libreria [sweetviz](https://github.com/fbdesignpro/sweetviz) que nos permite hacer un Analisis Exploratorio de los Datos con solo pocas lineas de codigo."
   ]
  },
  {
   "cell_type": "markdown",
   "id": "f5831bbf-81ae-4534-a238-ae03e38befb7",
   "metadata": {},
   "source": [
    "Cargamos el dataset de entrenamiento de pacientes con diabetes de las unidades anteriores:"
   ]
  },
  {
   "cell_type": "code",
   "execution_count": null,
   "id": "9af99f88-88d0-45dd-bcab-21186345a80e",
   "metadata": {},
   "outputs": [],
   "source": [
    "import pandas as pd\n",
    "df_ana_train = pd.read_csv('https://raw.githubusercontent.com/amiune/freecodingtour/main/cursos/espanol/datascience/data/diabetes/diabetes_train_analisis.csv')\n",
    "df_inf_train = pd.read_csv('https://raw.githubusercontent.com/amiune/freecodingtour/main/cursos/espanol/datascience/data/diabetes/diabetes_train_info.csv')\n",
    "df_train = pd.merge(df_ana_train,df_inf_train,on=\"id\")\n",
    "df_train = df_train.drop(\"id\",axis=1)\n",
    "df_train.head()"
   ]
  },
  {
   "cell_type": "markdown",
   "id": "fc67488c-4952-4318-aac4-2b95616f8210",
   "metadata": {},
   "source": [
    "Instalamos e importamos sweetviz"
   ]
  },
  {
   "cell_type": "code",
   "execution_count": null,
   "id": "a57a35d8-c5c2-40a4-82a6-915975d7212f",
   "metadata": {},
   "outputs": [],
   "source": [
    "!pip install sweetviz -U -q"
   ]
  },
  {
   "cell_type": "code",
   "execution_count": null,
   "id": "52c5e41c-52ca-402c-b9f6-f503b5b46d9b",
   "metadata": {},
   "outputs": [],
   "source": [
    "import sweetviz as sv"
   ]
  },
  {
   "cell_type": "code",
   "execution_count": null,
   "id": "af3b0db3-fa3b-49aa-8b00-6096de10ac0a",
   "metadata": {},
   "outputs": [],
   "source": [
    "Ejecutamos el analisis y lo mostramos:"
   ]
  },
  {
   "cell_type": "code",
   "execution_count": null,
   "id": "21a5b57c-e7be-41a6-843d-a74fc475f351",
   "metadata": {},
   "outputs": [],
   "source": [
    "my_report = sv.analyze(df_train)\n",
    "my_report.show_html()"
   ]
  },
  {
   "cell_type": "markdown",
   "id": "7a0de85b-f85d-44cb-8efe-3b54ec220a28",
   "metadata": {},
   "source": [
    "Ahora ejecutamos un analisis teniendo en cuenta que la columna objetivo es la de diabetes:"
   ]
  },
  {
   "cell_type": "code",
   "execution_count": null,
   "id": "4e487da0-17e4-4d28-926e-680cc4023877",
   "metadata": {},
   "outputs": [],
   "source": [
    "my_report = sv.analyze(df_train, target_feat=\"diabetes\")\n",
    "my_report.show_html()"
   ]
  },
  {
   "cell_type": "markdown",
   "id": "f28fd646-2f0a-4fdc-a363-ce1b62537f11",
   "metadata": {},
   "source": [
    "Finalmente ejecutamos un analisis comparando el dataset de entrenamiento con el de prueba."
   ]
  },
  {
   "cell_type": "code",
   "execution_count": null,
   "id": "96dda013-f3e1-4e4a-8945-68d8a392e2c5",
   "metadata": {},
   "outputs": [],
   "source": [
    "df_ana_test = pd.read_csv('https://raw.githubusercontent.com/amiune/freecodingtour/main/cursos/espanol/datascience/data/diabetes/diabetes_test_analisis.csv')\n",
    "df_inf_test = pd.read_csv('https://raw.githubusercontent.com/amiune/freecodingtour/main/cursos/espanol/datascience/data/diabetes/diabetes_test_info.csv')\n",
    "df_test = pd.merge(df_ana_test,df_inf_test,on=\"id\")\n",
    "df_test = df_test.drop(\"id\",axis=1)\n",
    "df_test.head()"
   ]
  },
  {
   "cell_type": "code",
   "execution_count": null,
   "id": "6102ba67-b28d-4d5b-a126-66dce1672b72",
   "metadata": {},
   "outputs": [],
   "source": [
    "my_report = sv.compare([df_train, \"Training Data\"], [df_test, \"Test Data\"], target_feat=\"diabetes\")\n",
    "my_report.show_html()"
   ]
  },
  {
   "cell_type": "markdown",
   "id": "726678b9-3fa9-4b79-8825-1bcb73a26c6b",
   "metadata": {},
   "source": [
    "# Fin: [Volver al contenido del curso](https://www.freecodingtour.com/cursos/espanol/datascience/datascience.html)"
   ]
  }
 ],
 "metadata": {
  "kernelspec": {
   "display_name": "base",
   "language": "python",
   "name": "base"
  },
  "language_info": {
   "codemirror_mode": {
    "name": "ipython",
    "version": 3
   },
   "file_extension": ".py",
   "mimetype": "text/x-python",
   "name": "python",
   "nbconvert_exporter": "python",
   "pygments_lexer": "ipython3",
   "version": "3.9.7"
  }
 },
 "nbformat": 4,
 "nbformat_minor": 5
}
