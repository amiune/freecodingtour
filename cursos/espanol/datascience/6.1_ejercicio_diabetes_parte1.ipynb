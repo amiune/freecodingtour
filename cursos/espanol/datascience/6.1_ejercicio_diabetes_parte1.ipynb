{
 "cells": [
  {
   "cell_type": "markdown",
   "id": "6189c5a3-0a6f-460a-a6c6-c4935b71fad1",
   "metadata": {},
   "source": [
    "# Practica de Clasificacion. Parte 1\n",
    "\n",
    "El objetivo de este ejercicio es predecir si una persona tiene diabetes o no de acuerdo a una serie de datos recogidos de varias personas. Estos datos son los siguientes:\n",
    "\n",
    "Tabla analisis:\n",
    "- id: numero que identifica a la persona\n",
    "- colesterol: esta variable es categorica y nos dice si el colesterol es bajo, medio o alto\n",
    "- glucosa: esta variable es categorica y nos dice si la glucosa es baja, media o alta\n",
    "- fuma: esta variable es categorica y nos dice si la persona fuma o no\n",
    "- alcohol: esta variable es categorica y nos dice si la persona toma alcohol o no\n",
    "- gimnasia: esta variable es categorica y nos dice si la persona hace gimnasia o no\n",
    "- presion: es un texto que contiene dos numeros que indican la presion sistolica y diastolica\n",
    "- diabetes: esta es la variable objetivo y nos dice si la persona tiene diabetes o no\n",
    "\n",
    "Tabla info:\n",
    "- id: numero que identifica a la persona\n",
    "- edad: la edad de la persona que puede estar dada en años o en dias\n",
    "- altura: la altura de la persona en centimetros\n",
    "- peso: el peso de la persona en kilogramos\n",
    "- sexo: sta variable es categorica y nos dice el sexo de la persona\n",
    "\n",
    "Los datos estan separados en dos tablas y se relacionan mediante la columna id que contiene un numero que identifica a cada persona. Tambien los datos ya estan separados en train y test."
   ]
  },
  {
   "cell_type": "code",
   "execution_count": null,
   "id": "03b0d4db-a14a-4b86-ad58-4d68b1dac2c8",
   "metadata": {
    "id": "03b0d4db-a14a-4b86-ad58-4d68b1dac2c8"
   },
   "outputs": [],
   "source": [
    "#importamos la libreria de pandas\n",
    "import pandas as pd"
   ]
  },
  {
   "cell_type": "markdown",
   "id": "32e9b77f-d26d-416a-97f7-b57cd7c7b4ab",
   "metadata": {},
   "source": [
    "### Cargar los archivos .csv con pandas\n",
    "\n",
    "Cargar los archivos:\n",
    "- data/diabetes/diabetes_train_analisis.csv\n",
    "- data/diabetes/diabetes_train_info.csv\n",
    "\n",
    "en dataframes"
   ]
  },
  {
   "cell_type": "code",
   "execution_count": null,
   "id": "4e50c0cf-3188-4f10-96fd-821b75f109e7",
   "metadata": {},
   "outputs": [],
   "source": [
    "# Escribir aqui la solucion\n",
    "\n",
    "\n"
   ]
  },
  {
   "cell_type": "code",
   "execution_count": null,
   "id": "1c3d8e79-a2e2-436e-8d0b-3ddf6800a391",
   "metadata": {
    "id": "1c3d8e79-a2e2-436e-8d0b-3ddf6800a391"
   },
   "outputs": [],
   "source": [
    "#@title Solucion {display-mode:\"form\"}\n",
    "\n",
    "df_ana_train = pd.read_csv('data/diabetes/diabetes_train_analisis.csv')\n",
    "df_inf_train = pd.read_csv('data/diabetes/diabetes_train_info.csv')"
   ]
  },
  {
   "cell_type": "markdown",
   "id": "66a0cb21-45bb-49dc-8d7c-e1e2178b8969",
   "metadata": {},
   "source": [
    "### Ver las primeras filas de ambos dataframes\n",
    "\n",
    "Utilizar la funcion .head() para ver las primeras filas de cada DataFrame"
   ]
  },
  {
   "cell_type": "code",
   "execution_count": null,
   "id": "a1f45a71-3b20-4eff-8c31-660d31d560c0",
   "metadata": {},
   "outputs": [],
   "source": [
    "df_ana_train.head()"
   ]
  },
  {
   "cell_type": "code",
   "execution_count": null,
   "id": "ff73b262-e4b2-46c8-861a-36e5f2bb96ea",
   "metadata": {},
   "outputs": [],
   "source": [
    "df_inf_train.head()"
   ]
  },
  {
   "cell_type": "markdown",
   "id": "06586d28-1378-40c3-9e3e-7ac909e809a2",
   "metadata": {},
   "source": [
    "## Preprocesamiento de datos\n",
    "\n",
    "Aqui vamos a ir paso a paso tranformando nuestros datos para que cada fila sea un vector de numeros para que nuestros algoritmos puedan entenderlos y hacer predicciones."
   ]
  },
  {
   "cell_type": "markdown",
   "id": "a58d0911-fd4b-4e02-9399-8cacfb006a3c",
   "metadata": {},
   "source": [
    "### Unir dataframes\n",
    "Unir ambos dataframes por medio del campo id y eliminar dicho campo"
   ]
  },
  {
   "cell_type": "code",
   "execution_count": null,
   "id": "ada32944-77c5-4ab9-a727-e1db6e824665",
   "metadata": {},
   "outputs": [],
   "source": [
    "# Escribir aqui la solucion\n",
    "\n",
    "\n"
   ]
  },
  {
   "cell_type": "code",
   "execution_count": null,
   "id": "16505cdf-7c95-4570-bf16-ca93af116f42",
   "metadata": {},
   "outputs": [],
   "source": [
    "#@title Solucion {display-mode:\"form\"}\n",
    "\n",
    "df_train = pd.merge(df_ana_train,df_inf_train,on=\"id\")\n",
    "df_train = df_train.drop(\"id\",axis=1)"
   ]
  },
  {
   "cell_type": "code",
   "execution_count": null,
   "id": "f01b2eec-496c-4342-912e-b361675765d8",
   "metadata": {},
   "outputs": [],
   "source": [
    "df_train.head()"
   ]
  },
  {
   "cell_type": "markdown",
   "id": "5f3b0e2f-ddc9-4fd7-851d-76a0cb5b930d",
   "metadata": {},
   "source": [
    "### Corregir strings de presion\n",
    "El campo pressure a veces tiene el caracter \\ como separador y a veces /\n",
    "Unificar el formato"
   ]
  },
  {
   "cell_type": "code",
   "execution_count": null,
   "id": "302a75b0-15c5-42b0-a85e-417a986623bb",
   "metadata": {},
   "outputs": [],
   "source": [
    "# Escribir aqui la solucion\n",
    "\n",
    "\n"
   ]
  },
  {
   "cell_type": "code",
   "execution_count": null,
   "id": "e809d8bc-1095-4c37-83c7-789f248a770c",
   "metadata": {},
   "outputs": [],
   "source": [
    "#@title Solucion {display-mode:\"form\"}\n",
    "\n",
    "df_train.presion = df_train.presion.str.replace(\"\\\\\",\"/\",regex=False)"
   ]
  },
  {
   "cell_type": "code",
   "execution_count": null,
   "id": "d68b03b8-e5f6-4537-bfc9-04d16c9c70f1",
   "metadata": {},
   "outputs": [],
   "source": [
    "df_train.head()"
   ]
  },
  {
   "cell_type": "markdown",
   "id": "8e05293b-ea82-4948-b00c-99b2af19974d",
   "metadata": {},
   "source": [
    "### Separar el campo presion en dos\n",
    "Utilizar el separador del campo presion para dividir en dos dicho campo y luego eliminarlo"
   ]
  },
  {
   "cell_type": "code",
   "execution_count": null,
   "id": "97269980-98c7-4a45-8a65-dd7c811e8cae",
   "metadata": {},
   "outputs": [],
   "source": [
    "# Escribir aqui la solucion\n",
    "\n",
    "\n"
   ]
  },
  {
   "cell_type": "code",
   "execution_count": null,
   "id": "73b04268-ed05-4895-bcb1-c005e74a81ae",
   "metadata": {},
   "outputs": [],
   "source": [
    "#@title Solucion {display-mode:\"form\"}\n",
    "\n",
    "df_train[[\"presion1\",\"presion2\"]] = df_train.presion.str.split(\"/\", expand=True)\n",
    "df_train = df_train.drop(\"presion\",axis=1)"
   ]
  },
  {
   "cell_type": "code",
   "execution_count": null,
   "id": "de0fdfb4-699f-4e0f-867a-986e61c77557",
   "metadata": {},
   "outputs": [],
   "source": [
    "df_train.head()"
   ]
  },
  {
   "cell_type": "markdown",
   "id": "ae543222-2469-4ae3-ba58-711a1cf494bb",
   "metadata": {},
   "source": [
    "### Unificar el formato del campo sexo\n",
    "femenino a veces se encuentra como femenino y a veces como f\n",
    "masculino a veces se encuentra como masculino y a veces como m\n",
    "Unificar la notacion"
   ]
  },
  {
   "cell_type": "code",
   "execution_count": null,
   "id": "9c6ffb46-ebd0-4b91-8eb5-5c8d67dd319f",
   "metadata": {},
   "outputs": [],
   "source": [
    "# Escribir aqui la solucion\n",
    "\n",
    "\n"
   ]
  },
  {
   "cell_type": "code",
   "execution_count": null,
   "id": "49a33c52-e4c2-4cfe-909e-b07da1befab7",
   "metadata": {},
   "outputs": [],
   "source": [
    "#@title Solucion {display-mode:\"form\"}\n",
    "\n",
    "df_train.sexo = df_train.sexo.str.replace(\"femenino\",\"f\")\n",
    "df_train.sexo = df_train.sexo.str.replace(\"masculino\",\"m\")"
   ]
  },
  {
   "cell_type": "code",
   "execution_count": null,
   "id": "b9972f0c-8e66-4951-a3e9-af5d299ccc2c",
   "metadata": {},
   "outputs": [],
   "source": [
    "df_train.head()"
   ]
  },
  {
   "cell_type": "markdown",
   "id": "11325ca3-7518-4ddc-af8f-d5c8cf9cfef1",
   "metadata": {},
   "source": [
    "### Unificar el campo edad\n",
    "El campo edad a veces se encuentra expresado en dias y a veces en años. Unificarlo"
   ]
  },
  {
   "cell_type": "code",
   "execution_count": null,
   "id": "36cab137-8d8c-45a6-b983-95b820251650",
   "metadata": {},
   "outputs": [],
   "source": [
    "# Escribir aqui la solucion\n",
    "\n",
    "\n"
   ]
  },
  {
   "cell_type": "code",
   "execution_count": null,
   "id": "4cb621d0-143b-40a5-861f-75eb5f27998e",
   "metadata": {},
   "outputs": [],
   "source": [
    "#@title Solucion {display-mode:\"form\"}\n",
    "\n",
    "df_train.loc[df_train.edad < 150, \"edad\"] = df_train.loc[df_train.edad < 150, \"edad\"] * 365"
   ]
  },
  {
   "cell_type": "code",
   "execution_count": null,
   "id": "643c9aae-d98f-4dac-8926-e04204e13d0b",
   "metadata": {},
   "outputs": [],
   "source": [
    "df_train.head()"
   ]
  },
  {
   "cell_type": "markdown",
   "id": "790c6c14-262b-4e4b-9f84-547648a33734",
   "metadata": {},
   "source": [
    "### Verificar si hay valores faltantes en algun campo"
   ]
  },
  {
   "cell_type": "code",
   "execution_count": null,
   "id": "22b3776d-8edb-440f-9481-f43904ba366c",
   "metadata": {},
   "outputs": [],
   "source": [
    "# Escribir aqui la solucion\n",
    "\n",
    "\n"
   ]
  },
  {
   "cell_type": "code",
   "execution_count": null,
   "id": "19ff3f36-06bc-4027-9135-9d5d2b58795b",
   "metadata": {},
   "outputs": [],
   "source": [
    "#@title Solucion {display-mode:\"form\"}\n",
    "\n",
    "df_train.isna().sum()"
   ]
  },
  {
   "cell_type": "markdown",
   "id": "fe6ba38c-86fd-4a4a-9e5a-99ab6b07cb7a",
   "metadata": {},
   "source": [
    "### Reemplazar valores faltantes\n",
    "Reemplazar los valores faltantes del campo peso por la media de dicho campo"
   ]
  },
  {
   "cell_type": "code",
   "execution_count": null,
   "id": "8d2f2130-e9b1-40a5-92c8-661812010b84",
   "metadata": {},
   "outputs": [],
   "source": [
    "# Escribir aqui la solucion\n",
    "\n",
    "\n"
   ]
  },
  {
   "cell_type": "code",
   "execution_count": null,
   "id": "3b61124f-b991-4f72-b060-a48e3a4c0250",
   "metadata": {},
   "outputs": [],
   "source": [
    "#@title Solucion {display-mode:\"form\"}\n",
    "\n",
    "peso_promedio = df_train.peso.mean()\n",
    "df_train.peso.fillna(peso_promedio, inplace=True)"
   ]
  },
  {
   "cell_type": "code",
   "execution_count": null,
   "id": "6e5dc10a-e67c-41f7-aa2b-ff9d3a9e74c1",
   "metadata": {},
   "outputs": [],
   "source": [
    "df_train.head()"
   ]
  },
  {
   "cell_type": "markdown",
   "id": "1c91a678-0c7a-45bf-adf5-866875395d3b",
   "metadata": {},
   "source": [
    "### Convertir variables categoricas a numericas\n",
    "Convertir variables categoricas a numericas utilizando la funcion get_dummies"
   ]
  },
  {
   "cell_type": "code",
   "execution_count": null,
   "id": "02dd182f-9d0f-4964-85e4-458c231e3edd",
   "metadata": {},
   "outputs": [],
   "source": [
    "# Escribir aqui la solucion\n",
    "\n",
    "\n"
   ]
  },
  {
   "cell_type": "code",
   "execution_count": null,
   "id": "59872b57-20c1-4621-9bec-5170a50da5ca",
   "metadata": {},
   "outputs": [],
   "source": [
    "#@title Solucion {display-mode:\"form\"}\n",
    "\n",
    "df_train = pd.get_dummies(df_train, columns=[\"colesterol\",\"glucosa\",\"sexo\"])"
   ]
  },
  {
   "cell_type": "code",
   "execution_count": null,
   "id": "b10c14c7-20e5-4efe-9122-d3b571f0d415",
   "metadata": {},
   "outputs": [],
   "source": [
    "df_train.head()"
   ]
  },
  {
   "cell_type": "markdown",
   "id": "6ca73981-8b9b-4b7d-9a65-1ad4ebf349aa",
   "metadata": {},
   "source": [
    "### Cambiar la escala de las columnas numericas\n",
    "\n",
    "Utilizar la clase StandarScaler() para llevar la escala de las variables numericas a una escala normal"
   ]
  },
  {
   "cell_type": "code",
   "execution_count": null,
   "id": "92305ad4-b761-4ee3-8241-99a228b93269",
   "metadata": {},
   "outputs": [],
   "source": [
    "from sklearn.preprocessing import StandardScaler\n",
    "\n",
    "# Escribir aqui la solucion\n",
    "\n",
    "\n"
   ]
  },
  {
   "cell_type": "code",
   "execution_count": null,
   "id": "c22a175a-0ed5-4f86-b3d2-33f20ac9afc6",
   "metadata": {},
   "outputs": [],
   "source": [
    "#@title Solucion {display-mode:\"form\"}\n",
    "\n",
    "from sklearn.preprocessing import StandardScaler\n",
    "col_numericas = [\"edad\",\"altura\",\"peso\",\"presion1\",\"presion2\"]\n",
    "scaler = StandardScaler()\n",
    "scaler.fit(df_train[col_numericas])\n",
    "df_train[col_numericas] = scaler.transform(df_train[col_numericas])"
   ]
  },
  {
   "cell_type": "code",
   "execution_count": null,
   "id": "e54cd179-adbe-4740-b31f-c3905283cf4b",
   "metadata": {},
   "outputs": [],
   "source": [
    "df_train.head()"
   ]
  },
  {
   "cell_type": "markdown",
   "id": "91af2a9a-dfea-4021-a4db-13aa4f0f5108",
   "metadata": {},
   "source": [
    "### Realizar las mismas transformaciones en la tabla de test"
   ]
  },
  {
   "cell_type": "code",
   "execution_count": null,
   "id": "e65e7319-ecee-421f-9953-09dc2171ae6f",
   "metadata": {},
   "outputs": [],
   "source": [
    "# Escribir aqui la solucion\n",
    "\n",
    "\n"
   ]
  },
  {
   "cell_type": "code",
   "execution_count": null,
   "id": "dd9d77c2-4fba-4575-9ca1-2d42837cfa20",
   "metadata": {},
   "outputs": [],
   "source": [
    "#@title Solucion {display-mode:\"form\"}\n",
    "\n",
    "df_ana_test = pd.read_csv('data/diabetes/diabetes_test_analisis.csv')\n",
    "df_inf_test = pd.read_csv('data/diabetes/diabetes_test_info.csv')\n",
    "df_test = pd.merge(df_ana_test,df_inf_test,on=\"id\")\n",
    "df_test = df_test.drop(\"id\",axis=1)\n",
    "df_test.presion = df_test.presion.str.replace(\"\\\\\",\"/\",regex=False)\n",
    "df_test[[\"presion1\",\"presion2\"]] = df_test.presion.str.split(\"/\", expand=True)\n",
    "df_test = df_test.drop(\"presion\",axis=1)\n",
    "df_test.sexo = df_test.sexo.str.replace(\"femenino\",\"f\")\n",
    "df_test.sexo = df_test.sexo.str.replace(\"masculino\",\"m\")\n",
    "df_test.loc[df_test.edad < 150, \"edad\"] = df_test.loc[df_test.edad < 150, \"edad\"] * 365\n",
    "# Notar que utilizamos el peso promedio obtenido de la tabla de entrenamiento\n",
    "df_test.peso.fillna(peso_promedio, inplace=True)\n",
    "df_test = pd.get_dummies(df_test, columns=[\"colesterol\",\"glucosa\",\"sexo\"])\n",
    "# Notar que utilizamos el scaler con el fit hecho sobre la tabla de entrenamiento\n",
    "df_test[col_numericas] = scaler.transform(df_test[col_numericas])"
   ]
  },
  {
   "cell_type": "markdown",
   "id": "OwmZJm32WdWQ",
   "metadata": {
    "id": "OwmZJm32WdWQ"
   },
   "source": [
    "## Probar distintos clasificadores\n",
    "\n",
    "Probar los siguientes algoritmos de machine learning para clasificacion de la libreria sklearn:"
   ]
  },
  {
   "cell_type": "code",
   "execution_count": null,
   "id": "b79aa450-5792-448f-b14a-027f52e5277c",
   "metadata": {},
   "outputs": [],
   "source": [
    "from sklearn.neighbors import KNeighborsClassifier\n",
    "from sklearn.tree import DecisionTreeClassifier\n",
    "from sklearn.linear_model import LogisticRegression\n",
    "from sklearn.ensemble import HistGradientBoostingClassifier"
   ]
  },
  {
   "cell_type": "markdown",
   "id": "839317da-70e3-4450-8a7c-19ffe50726e4",
   "metadata": {},
   "source": [
    "Utilizar la metrica de accuracy_score de sklearn sobre las tablas de train y test para medir que tan buena es la prediccion de cada algoritmo y saber si ha sido bien entrenado o si tiene un sesgo o varianza alto."
   ]
  },
  {
   "cell_type": "code",
   "execution_count": null,
   "id": "5bb38b02-8fc7-40e3-a5ff-f419f3d751c0",
   "metadata": {},
   "outputs": [],
   "source": [
    "from sklearn.metrics import accuracy_score"
   ]
  },
  {
   "cell_type": "markdown",
   "id": "1e259596-7339-4eb2-87b4-519c9f629ea1",
   "metadata": {},
   "source": [
    "### Crear X_train, y_train, X_test, y_test\n"
   ]
  },
  {
   "cell_type": "code",
   "execution_count": null,
   "id": "c5bdaa21-72fc-4366-a92d-8d0aa17774df",
   "metadata": {},
   "outputs": [],
   "source": [
    "# Escribir aqui la solucion\n",
    "\n",
    "\n"
   ]
  },
  {
   "cell_type": "code",
   "execution_count": null,
   "id": "f6fd541a-b97a-4c8b-ba6b-bed384dc2c89",
   "metadata": {},
   "outputs": [],
   "source": [
    "#@title Solucion {display-mode:\"form\"}\n",
    "\n",
    "X_train = df_train.loc[:, df_train.columns != \"diabetes\"]\n",
    "y_train = df_train.loc[:, \"diabetes\"]\n",
    "\n",
    "X_test = df_test.loc[:, df_test.columns != \"diabetes\"]\n",
    "y_test = df_test.loc[:, \"diabetes\"]"
   ]
  },
  {
   "cell_type": "markdown",
   "id": "5449ce30-b2dc-4367-b91a-60c4190e260b",
   "metadata": {},
   "source": [
    "### Probar KNN"
   ]
  },
  {
   "cell_type": "code",
   "execution_count": null,
   "id": "6219f60c-b4e6-4a0d-aa31-9f775fa80c61",
   "metadata": {},
   "outputs": [],
   "source": [
    "# Escribir aqui la solucion\n",
    "\n",
    "\n"
   ]
  },
  {
   "cell_type": "code",
   "execution_count": null,
   "id": "oDo38m8zTaTW",
   "metadata": {
    "colab": {
     "base_uri": "https://localhost:8080/"
    },
    "id": "oDo38m8zTaTW",
    "outputId": "14c09466-71a3-4cb0-fcdb-c51ebfc7aa9e"
   },
   "outputs": [],
   "source": [
    "#@title Solucion {display-mode:\"form\"}\n",
    "\n",
    "clf = KNeighborsClassifier()\n",
    "clf.fit(X_train,y_train)\n",
    "y_train_pred = clf.predict(X_train)\n",
    "print(\"Train accuracy:\",accuracy_score(y_train, y_train_pred))\n",
    "y_test_pred = clf.predict(X_test)\n",
    "print(\"Test  accuracy:\",accuracy_score(y_test, y_test_pred))"
   ]
  },
  {
   "cell_type": "markdown",
   "id": "b0a5fd6f-5b6e-4add-802a-ec1bfa3adb31",
   "metadata": {},
   "source": [
    "### Probar Arbol de Decision"
   ]
  },
  {
   "cell_type": "code",
   "execution_count": null,
   "id": "059ebae7-2231-4af5-b8e4-bf7c21019fbe",
   "metadata": {},
   "outputs": [],
   "source": [
    "# Escribir aqui la solucion\n",
    "\n",
    "\n"
   ]
  },
  {
   "cell_type": "code",
   "execution_count": null,
   "id": "12e86916-85fa-4834-9490-ec8157ee9ae2",
   "metadata": {
    "colab": {
     "base_uri": "https://localhost:8080/"
    },
    "id": "12e86916-85fa-4834-9490-ec8157ee9ae2",
    "outputId": "d494cd33-b90d-4f2b-c8f3-9bd64a723b11"
   },
   "outputs": [],
   "source": [
    "#@title Solucion {display-mode:\"form\"}\n",
    "\n",
    "clf = DecisionTreeClassifier()\n",
    "clf.fit(X_train,y_train)\n",
    "y_train_pred = clf.predict(X_train)\n",
    "print(\"Train accuracy:\",accuracy_score(y_train, y_train_pred))\n",
    "y_test_pred = clf.predict(X_test)\n",
    "print(\"Test  accuracy:\",accuracy_score(y_test, y_test_pred))"
   ]
  },
  {
   "cell_type": "markdown",
   "id": "24c26ca0-d910-42d8-ba2a-c7b9543dfb7d",
   "metadata": {},
   "source": [
    "### Probar Regresion Logistica"
   ]
  },
  {
   "cell_type": "code",
   "execution_count": null,
   "id": "73fc442e-b81e-4a72-8812-309d5c96f3c8",
   "metadata": {},
   "outputs": [],
   "source": [
    "# Escribir aqui la solucion\n",
    "\n",
    "\n"
   ]
  },
  {
   "cell_type": "code",
   "execution_count": null,
   "id": "dba09fe4-3ef5-4d86-a454-bfdac46188b8",
   "metadata": {},
   "outputs": [],
   "source": [
    "#@title Solucion {display-mode:\"form\"}\n",
    "\n",
    "clf = LogisticRegression(max_iter=300)\n",
    "clf.fit(X_train,y_train)\n",
    "y_train_pred = clf.predict(X_train)\n",
    "print(\"Train accuracy:\",accuracy_score(y_train, y_train_pred))\n",
    "y_test_pred = clf.predict(X_test)\n",
    "print(\"Test  accuracy:\",accuracy_score(y_test, y_test_pred))"
   ]
  },
  {
   "cell_type": "markdown",
   "id": "a578509e-82b1-48de-942a-f97aa31e22a5",
   "metadata": {},
   "source": [
    "### Probar GradientBoosting"
   ]
  },
  {
   "cell_type": "code",
   "execution_count": null,
   "id": "f88b8534-f8b1-40ab-a8d3-27c2038067ba",
   "metadata": {},
   "outputs": [],
   "source": [
    "# Escribir aqui la solucion\n",
    "\n",
    "\n"
   ]
  },
  {
   "cell_type": "code",
   "execution_count": null,
   "id": "cTZfAYfhSX-m",
   "metadata": {
    "colab": {
     "base_uri": "https://localhost:8080/"
    },
    "id": "cTZfAYfhSX-m",
    "outputId": "0ac8fa7e-2402-4378-bd7e-f726c347ba9e"
   },
   "outputs": [],
   "source": [
    "#@title Solucion {display-mode:\"form\"}\n",
    "\n",
    "clf = HistGradientBoostingClassifier()\n",
    "clf.fit(X_train,y_train)\n",
    "y_train_pred = clf.predict(X_train)\n",
    "print(\"Train accuracy:\",accuracy_score(y_train, y_train_pred))\n",
    "y_test_pred = clf.predict(X_test)\n",
    "print(\"Test  accuracy:\",accuracy_score(y_test, y_test_pred))"
   ]
  },
  {
   "cell_type": "markdown",
   "id": "e29b4b23-8878-4e2f-a3b1-e944fc1d4d7d",
   "metadata": {},
   "source": [
    "## Preguntas:\n",
    "    \n",
    "1. Es accuracy la mejor metrica para elegir el modelo? Que metrica utilizarias para elegir el modelo?\n",
    "\n",
    "5. Que metrica utilizarias para reportar la capacidad de prediccion del modelo final seleccionado?"
   ]
  },
  {
   "cell_type": "code",
   "execution_count": null,
   "id": "047a976b-5292-4a8c-8ebf-6f12716a60b6",
   "metadata": {},
   "outputs": [],
   "source": [
    "#@title Respuestas {display-mode:\"form\"}\n",
    "\n",
    "#1. Respuesta: AUC seria una mejor metrica ya que no depende del umbral (threshold) elegido \n",
    "# aunque hay que tener en cuenta que las curvas de los distintos modelos no se crucen \n",
    "# para que la comparacion sea justa.\n",
    "\n",
    "#2. Respuesta: Recall es la metrica que es mas significativa a la hora de predecir \n",
    "# una enfermedad dado que queremos evitar Falsos Negativos, es decir, \n",
    "# decir que no tiene enfermedad cuando si la tiene."
   ]
  },
  {
   "cell_type": "markdown",
   "id": "cec5f32f-20ba-4b05-861c-80e7e2489fd6",
   "metadata": {},
   "source": [
    "## Extra:\n",
    "\n",
    "1. Mejorar el preprocesamiento de datos.\n",
    "\n",
    "2. Utilizar [Pipelines](https://scikit-learn.org/stable/modules/generated/sklearn.pipeline.Pipeline.html#sklearn.pipeline.Pipeline) para realizar las transformaciones y el cambio de escala de los datos\n",
    "https://www.andrewvillazon.com/custom-scikit-learn-transformers/\n"
   ]
  },
  {
   "cell_type": "markdown",
   "id": "08584b78-54b0-48e8-a84c-2fcbc49e1b10",
   "metadata": {},
   "source": [
    "# Fin: [Volver al contenido del curso](https://www.freecodingtour.com/cursos/espanol/datascience/datascience.html)"
   ]
  }
 ],
 "metadata": {
  "colab": {
   "provenance": []
  },
  "kernelspec": {
   "display_name": "base",
   "language": "python",
   "name": "base"
  },
  "language_info": {
   "codemirror_mode": {
    "name": "ipython",
    "version": 3
   },
   "file_extension": ".py",
   "mimetype": "text/x-python",
   "name": "python",
   "nbconvert_exporter": "python",
   "pygments_lexer": "ipython3",
   "version": "3.9.7"
  }
 },
 "nbformat": 4,
 "nbformat_minor": 5
}
