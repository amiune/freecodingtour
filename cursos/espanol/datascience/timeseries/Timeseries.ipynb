{
 "cells": [
  {
   "cell_type": "markdown",
   "id": "e8882fca-e8e1-47a6-923e-467433ac999b",
   "metadata": {},
   "source": [
    "# Prediccion de Series de Tiempo (Time Series Forecasting)\n",
    "\n",
    "Es un caso especial de Machine Learning. Si bien se pueden utilizar los algoritmos clasicos de ML existen algoritmos y librerias especiales para la prediccion de series de tiempo que nos facilitaran el trabajo y nos ahorraran mucho tiempo.\n",
    "\n",
    "Libreria Sktime:\n",
    "- [GitHub](https://github.com/sktime/sktime)\n",
    "- [Documentacion](https://www.sktime.net/en/stable/)\n",
    "\n",
    "PyCaret:\n",
    "- [Ejemplo](https://nbviewer.org/github/pycaret/pycaret/blob/master/tutorials/Tutorial%20-%20Time%20Series%20Forecasting.ipynb)\n",
    "\n",
    "Descomposicion de Series de Tiempo:\n",
    "- https://www.kaggle.com/learn/time-series\n",
    "- https://otexts.com/fpp2/classical-decomposition.html \n",
    "- https://github.com/zgana/fpp3-python-readalong/blob/master/00-Preface-to-this-readalong.ipynb\n",
    "- https://github.com/Nixtla/fpp3-python/tree/main"
   ]
  }
 ],
 "metadata": {
  "kernelspec": {
   "display_name": "Python 3 (ipykernel)",
   "language": "python",
   "name": "python3"
  },
  "language_info": {
   "codemirror_mode": {
    "name": "ipython",
    "version": 3
   },
   "file_extension": ".py",
   "mimetype": "text/x-python",
   "name": "python",
   "nbconvert_exporter": "python",
   "pygments_lexer": "ipython3",
   "version": "3.9.18"
  }
 },
 "nbformat": 4,
 "nbformat_minor": 5
}
