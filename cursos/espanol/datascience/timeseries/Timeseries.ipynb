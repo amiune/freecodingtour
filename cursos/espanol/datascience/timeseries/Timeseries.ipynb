{
 "cells": [
  {
   "cell_type": "markdown",
   "id": "e8882fca-e8e1-47a6-923e-467433ac999b",
   "metadata": {},
   "source": [
    "# Prediccion de Series de Tiempo (Time Series Forecasting)\n",
    "\n",
    "Es un caso especial de Machine Learning. Si bien se pueden utilizar los algoritmos clasicos de ML existen algoritmos y librerias especiales para la prediccion de series de tiempo que nos facilitaran el trabajo y nos ahorraran mucho tiempo.\n",
    "\n",
    "Libreria Sktime:\n",
    "- [GitHub](https://github.com/sktime/sktime)\n",
    "- [Documentacion](https://www.sktime.net/en/stable/)\n",
    "\n",
    "PyCaret:\n",
    "- [Ejemplo](https://nbviewer.org/github/pycaret/pycaret/blob/master/tutorials/Tutorial%20-%20Time%20Series%20Forecasting.ipynb)\n",
    "\n",
    "Descomposicion de Series de Tiempo:\n",
    "- https://otexts.com/fpp2/classical-decomposition.html "
   ]
  },
  {
   "cell_type": "code",
   "execution_count": null,
   "id": "d2856819-13b5-4f57-9726-df9a32e56864",
   "metadata": {},
   "outputs": [],
   "source": []
  }
 ],
 "metadata": {
  "kernelspec": {
   "display_name": "Python 3 (ipykernel)",
   "language": "python",
   "name": "python3"
  },
  "language_info": {
   "codemirror_mode": {
    "name": "ipython",
    "version": 3
   },
   "file_extension": ".py",
   "mimetype": "text/x-python",
   "name": "python",
   "nbconvert_exporter": "python",
   "pygments_lexer": "ipython3",
   "version": "3.9.18"
  }
 },
 "nbformat": 4,
 "nbformat_minor": 5
}
