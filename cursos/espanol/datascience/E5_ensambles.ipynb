{
 "cells": [
  {
   "cell_type": "code",
   "execution_count": null,
   "id": "4369c0ac-12e6-4d4f-aa02-ae088de27332",
   "metadata": {},
   "outputs": [],
   "source": []
  },
  {
   "cell_type": "code",
   "execution_count": null,
   "id": "e86633e1-60fd-4bac-9b51-16625136fe9d",
   "metadata": {},
   "outputs": [],
   "source": []
  },
  {
   "cell_type": "markdown",
   "id": "33a4a376-1027-43a3-81a6-bdba9354d488",
   "metadata": {},
   "source": [
    "1. Clase MIT (Patrick Winston): https://ocw.mit.edu/courses/6-034-artificial-intelligence-fall-2010/resources/lecture-17-learning-boosting/"
   ]
  },
  {
   "cell_type": "code",
   "execution_count": null,
   "id": "abba0ea2-8520-49f9-8440-335bd9e0911f",
   "metadata": {},
   "outputs": [],
   "source": []
  }
 ],
 "metadata": {
  "kernelspec": {
   "display_name": "Python 3 (ipykernel)",
   "language": "python",
   "name": "python3"
  },
  "language_info": {
   "codemirror_mode": {
    "name": "ipython",
    "version": 3
   },
   "file_extension": ".py",
   "mimetype": "text/x-python",
   "name": "python",
   "nbconvert_exporter": "python",
   "pygments_lexer": "ipython3",
   "version": "3.9.7"
  }
 },
 "nbformat": 4,
 "nbformat_minor": 5
}
