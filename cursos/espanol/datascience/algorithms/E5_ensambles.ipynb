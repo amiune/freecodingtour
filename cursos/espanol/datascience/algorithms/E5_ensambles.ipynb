{
 "cells": [
  {
   "cell_type": "markdown",
   "id": "f52d4338-222b-4df0-9d52-c2e61f2426c1",
   "metadata": {},
   "source": [
    "# Ensambles"
   ]
  },
  {
   "cell_type": "markdown",
   "id": "d186378a-dfaa-4d6e-a433-4fa4cf6c0868",
   "metadata": {},
   "source": [
    "El concepto de ensamble es simple pero muy poderoso. Supongamos que tenemos tres cajas negras las cuales no son muy buenas pero que se equivocan en distintos conjuntos como vemos en la figura:\n",
    "\n",
    "<div style=\"text-align:center\">\n",
    "<img src=\"../img/ensamble.png\" width=\"600\"/>\n",
    "</div>\n",
    "\n",
    "Si como clasificador final utilizamos el voto de las tres cajas entonces obtendremos una clasificacion con 100% de efectividad en este caso ya que cuando se equivoque la caja 1 las cajas 2 y 3 acertaran.\n",
    "\n",
    "Veamos un ejemplo concreto:\n",
    "\n",
    "Supongamos que tenemos:\n",
    "1. una caja negra que no clasifica bien imagenes de perros pero si de gatos y conejos. \n",
    "2. una caja negra que no clasifica bien imagenes de gatos pero si de perros y conejos.\n",
    "3. una caja negra que no clasifica bien imagenes de conejos pero si de perros y gatos.\n",
    "\n",
    "Cuando aparezca una imagen nueva de un perro las cajas negras diran:\n",
    "1. gato\n",
    "2. perro\n",
    "3. perro\n",
    "\n",
    "Entonces por votacion de las tres cajas el resultado sera perro aunque la primera caja se haya equivocado."
   ]
  },
  {
   "cell_type": "markdown",
   "id": "45cce3dd-37c5-4fe2-9d23-068b0a9760aa",
   "metadata": {},
   "source": [
    "## Boosting\n",
    "\n",
    "El boosting tambien utiliza el concepto de ensamble pero es mas complejo ya que va calculando donde las cajas negras van cometiendo mas errores y utiliza eso para entrenar nuevas cajas negras"
   ]
  },
  {
   "cell_type": "markdown",
   "id": "33a4a376-1027-43a3-81a6-bdba9354d488",
   "metadata": {},
   "source": [
    "1. [Clase MIT (Patrick Winston) sobre ensembles y boosting](https://ocw.mit.edu/courses/6-034-artificial-intelligence-fall-2010/resources/lecture-17-learning-boosting/)\n",
    "2. [Boosting Book](https://direct.mit.edu/books/oa-monograph/5342/BoostingFoundations-and-Algorithms)"
   ]
  },
  {
   "cell_type": "markdown",
   "id": "3af6ad30-e994-4419-9587-9db1306a724a",
   "metadata": {},
   "source": [
    "# Fin: [Volver al contenido del curso](https://www.freecodingtour.com/cursos/espanol/datascience/datascience.html)"
   ]
  }
 ],
 "metadata": {
  "kernelspec": {
   "display_name": "Python 3 (ipykernel)",
   "language": "python",
   "name": "python3"
  },
  "language_info": {
   "codemirror_mode": {
    "name": "ipython",
    "version": 3
   },
   "file_extension": ".py",
   "mimetype": "text/x-python",
   "name": "python",
   "nbconvert_exporter": "python",
   "pygments_lexer": "ipython3",
   "version": "3.12.4"
  }
 },
 "nbformat": 4,
 "nbformat_minor": 5
}
