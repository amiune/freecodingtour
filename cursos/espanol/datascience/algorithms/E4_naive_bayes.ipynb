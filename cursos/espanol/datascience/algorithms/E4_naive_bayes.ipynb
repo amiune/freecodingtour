{
 "cells": [
  {
   "cell_type": "markdown",
   "id": "8f1f5454-f52e-4019-b1da-599660da4353",
   "metadata": {},
   "source": [
    "# Naive Bayes\n",
    "\n",
    "El clasificador de naive bayes se basa en el teorema de bayes:\n",
    "\n",
    "$$ {P(A\\vert B)={\\frac {P(B\\vert A)P(A)}{P(B)}}} $$"
   ]
  },
  {
   "cell_type": "markdown",
   "id": "1cc997cb-9da0-4c84-97d3-77a84a3c73de",
   "metadata": {},
   "source": [
    "Esta dice que la probabilidad de que suceda el evento A dado que sucedio el evento B (P(A|B))es igual a la probabilidad de que suceda el evento B dado que sucedio el evento A (P(B|A)) multiplicado por la probabilidad del evento A (P(A)) y dividido por la probabilidad del evento B (P(B))\n",
    "\n",
    "Veamos esto con un ejemplo concreto:"
   ]
  },
  {
   "cell_type": "markdown",
   "id": "cf14c998-b0b3-4b90-8e8d-13db83848c7e",
   "metadata": {},
   "source": [
    "Supongamos que queremos clasificar si un email es spam o no y para ello vamos a prestar atencion a si el texto del email tiene la palabra \"premio\". Podriamos prestar atencion a varias palabras pero en este ejemplo solo nos enfocaremos en una palabra para que sea mas sencillo. Luego la explicacion se puede extender facilmente ya que se asume que las variables (columnas de nuestra tabla de entrenamiento) son independientes, por ello el nombre de naive.\n",
    "\n",
    "Entonces queremos saber cual es la probabilidad de que un email sea spam dado que su texto contiene la palabra \"premio\". Esta seria nuestra probabilidad P(A|B) o mas claro P(spam|premio)\n",
    "\n",
    "Segun el teorema de bayes con nuestra tabla de entrenamiento deberemos calcular las siguientes probabilidades:\n",
    "\n",
    "$$ {P(spam\\vert premio)={\\frac {P(premio\\vert spam)P(spam)}{P(premio)}}} $$\n",
    "\n",
    "$$ {P(NO spam\\vert premio)={\\frac {P(premio\\vert NO spam)P(NO spam)}{P(premio)}}} $$\n",
    "\n",
    "y si dividimos ambas expresiones nos queda:\n",
    "\n",
    "$$ {\\displaystyle {P(spam\\mid premio) \\over P(NOspam\\mid premio)}={P(spam) \\over P(NOspam)}\\,{P(premio\\mid spam) \\over P(premio\\mid NOspam)}} $$\n",
    "\n",
    "y bastara calcular que P(spam)P(premio|spam) sea mayor a P(NOspam)P(premio|NOspam) para clasificar ese email como spam.\n",
    "\n",
    "Pongamos ahora numeros concretos:"
   ]
  },
  {
   "cell_type": "markdown",
   "id": "6e76fe13-8d3f-4f49-a4a1-a3fed094b1f5",
   "metadata": {},
   "source": [
    "Tenemos una base de datos de 100 emails.\n",
    "\n",
    "- 60 de esos 100 emails son spam (esto es P(spam))\n",
    "- 48 de esos 60 emails que son spam tienen la palabra “premio” (esto es P(premio|spam))\n",
    "- 12 de esos 60 emails que son spam no tienen la palabra “premio”\n",
    "- 40 de esos 100 emails que no son spam (esto es P(NOspam))\n",
    "- 6 de esos 40 emails que no son spam tienen la palabra “premio” (esto es P(premio|NOspam))\n",
    "- 34 de esos 40 emails que no son spam no tienen la palabra “premio”\n",
    "\n",
    "Entonces para spam queda:\n",
    "\n",
    "- P(spam) = 60/100 = 0.6\n",
    "- P(premio|spam) = 48/60 = 0.8\n",
    "- P(spam)\\*P(premio|spam) = 0.6\\*0.8 = 0.48\n",
    "\n",
    "Y para NO spam queda:\n",
    "\n",
    "- P(NOspam) = 40/100 = 0.4\n",
    "- P(premio|NOspam) = 6/60 = 0.1\n",
    "- P(NOspam)\\*P(premio|NOspam) = 0.4\\*0.1 = 0.04\n",
    "\n",
    "Como P(spam)\\*P(premio|spam) = 0.48 es mayor a P(NOspam)\\*P(premio|NOspam) = 0.04 entonces todo email que contenga la palabra premio sera clasificado como spam."
   ]
  },
  {
   "cell_type": "markdown",
   "id": "01a8c42b-7803-45b8-ba05-8a8fa4b84929",
   "metadata": {},
   "source": [
    "Para extender esto a un numero n de palabras la formula queda de la siguiente manera:\n",
    "\n",
    "$$ {\\displaystyle {p(Spam\\mid Email) \\over p(\\neg Spam\\mid Email)}={p(Spam) \\over p(\\neg Spam)}\\,\\prod _{i}{p(w_{i}\\mid Spam) \\over p(w_{i}\\mid \\neg Spam)}} $$\n",
    "\n",
    "Donde wi representa la palabra i"
   ]
  },
  {
   "cell_type": "markdown",
   "id": "7bab0947-fe41-4522-bbe7-12cfc86522d0",
   "metadata": {},
   "source": [
    "Para mas detalle ver la implementacion de sklearn:\n",
    "https://scikit-learn.org/stable/modules/naive_bayes.html https://en.wikipedia.org/wiki/Naive_Bayes_classifier"
   ]
  },
  {
   "cell_type": "markdown",
   "id": "d6d61912-7c74-4a4a-9a65-670a3bf94b26",
   "metadata": {},
   "source": [
    "# Fin: [Volver al contenido del curso](https://www.freecodingtour.com/cursos/espanol/datascience/datascience.html)"
   ]
  }
 ],
 "metadata": {
  "kernelspec": {
   "display_name": "Python 3 (ipykernel)",
   "language": "python",
   "name": "python3"
  },
  "language_info": {
   "codemirror_mode": {
    "name": "ipython",
    "version": 3
   },
   "file_extension": ".py",
   "mimetype": "text/x-python",
   "name": "python",
   "nbconvert_exporter": "python",
   "pygments_lexer": "ipython3",
   "version": "3.9.7"
  }
 },
 "nbformat": 4,
 "nbformat_minor": 5
}
