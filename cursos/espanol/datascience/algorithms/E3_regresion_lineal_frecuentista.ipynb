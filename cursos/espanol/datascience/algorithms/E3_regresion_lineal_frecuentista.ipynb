{
 "cells": [
  {
   "cell_type": "markdown",
   "id": "88b45627-5795-462f-ac44-38ecdf11babf",
   "metadata": {},
   "source": [
    "# Regresion Lineal"
   ]
  },
  {
   "cell_type": "markdown",
   "id": "c7798237-e2ef-464a-811e-bf8fc86c8778",
   "metadata": {},
   "source": [
    "En este ejemplo intentaremos adivinar cuantos likes tiene un video de tiktok a partir de la cantidad de vistas"
   ]
  },
  {
   "cell_type": "code",
   "execution_count": 2,
   "id": "723bc5cf-31bf-4031-92fb-64d85c1bbc86",
   "metadata": {},
   "outputs": [],
   "source": [
    "import numpy as np\n",
    "import pandas as pd\n",
    "import seaborn as sns\n",
    "import matplotlib.pyplot as plt"
   ]
  },
  {
   "cell_type": "code",
   "execution_count": 3,
   "id": "d7d67a66-f648-4639-a193-09f7fb1a50eb",
   "metadata": {},
   "outputs": [],
   "source": [
    "# tiktok vistas y likes de distintos videos\n",
    "\n",
    "views = [234_000, 8_000, 217_000, 25_000, 62_000, 107_000, \n",
    "         140_000, 191_000, 189_000, 496_000, 221_000, 238_000]\n",
    "likes = [ 39_000,   362,  31_000,  1_500,  4_000,   5_000,   \n",
    "           6_000,  15_000,  11_000,  30_000,  30_000,  31_000]"
   ]
  },
  {
   "cell_type": "code",
   "execution_count": 4,
   "id": "d0a9ee30-776c-4eab-aaf0-2d2ecc3888c8",
   "metadata": {},
   "outputs": [],
   "source": [
    "df = pd.DataFrame({\"Views\":views,\"Likes\":likes})"
   ]
  },
  {
   "cell_type": "code",
   "execution_count": 5,
   "id": "1c05bdb5-744a-4dc8-862f-3dae425e411d",
   "metadata": {},
   "outputs": [
    {
     "data": {
      "text/html": [
       "<div>\n",
       "<style scoped>\n",
       "    .dataframe tbody tr th:only-of-type {\n",
       "        vertical-align: middle;\n",
       "    }\n",
       "\n",
       "    .dataframe tbody tr th {\n",
       "        vertical-align: top;\n",
       "    }\n",
       "\n",
       "    .dataframe thead th {\n",
       "        text-align: right;\n",
       "    }\n",
       "</style>\n",
       "<table border=\"1\" class=\"dataframe\">\n",
       "  <thead>\n",
       "    <tr style=\"text-align: right;\">\n",
       "      <th></th>\n",
       "      <th>Views</th>\n",
       "      <th>Likes</th>\n",
       "    </tr>\n",
       "  </thead>\n",
       "  <tbody>\n",
       "    <tr>\n",
       "      <th>0</th>\n",
       "      <td>234000</td>\n",
       "      <td>39000</td>\n",
       "    </tr>\n",
       "    <tr>\n",
       "      <th>1</th>\n",
       "      <td>8000</td>\n",
       "      <td>362</td>\n",
       "    </tr>\n",
       "    <tr>\n",
       "      <th>2</th>\n",
       "      <td>217000</td>\n",
       "      <td>31000</td>\n",
       "    </tr>\n",
       "    <tr>\n",
       "      <th>3</th>\n",
       "      <td>25000</td>\n",
       "      <td>1500</td>\n",
       "    </tr>\n",
       "    <tr>\n",
       "      <th>4</th>\n",
       "      <td>62000</td>\n",
       "      <td>4000</td>\n",
       "    </tr>\n",
       "  </tbody>\n",
       "</table>\n",
       "</div>"
      ],
      "text/plain": [
       "    Views  Likes\n",
       "0  234000  39000\n",
       "1    8000    362\n",
       "2  217000  31000\n",
       "3   25000   1500\n",
       "4   62000   4000"
      ]
     },
     "execution_count": 5,
     "metadata": {},
     "output_type": "execute_result"
    }
   ],
   "source": [
    "df.head()"
   ]
  },
  {
   "cell_type": "code",
   "execution_count": 6,
   "id": "c00d2449-f575-4b48-a831-489701aaa69e",
   "metadata": {},
   "outputs": [
    {
     "data": {
      "image/png": "[encoded data removed]",
      "text/plain": [
       "<Figure size 500x500 with 1 Axes>"
      ]
     },
     "metadata": {},
     "output_type": "display_data"
    }
   ],
   "source": [
    "sns.relplot(x=\"Views\",y=\"Likes\", data=df);"
   ]
  },
  {
   "cell_type": "markdown",
   "id": "241609c4-9ebc-4ebc-8cbe-0f1239f882ed",
   "metadata": {},
   "source": [
    "## Regresion Lineal\n",
    "\n",
    "Suponemos que la cantidad de likes es linealmente proporcional a la cantidad de vistas. Por lo tanto buscaremos cual es la funcion que dibuja una linea cuya suma de las distancias a los puntos de nuestra tabla de entrenamiento es la menor posible. Esta linea se puede obtener de forma analitica: https://en.wikipedia.org/wiki/Simple_linear_regression"
   ]
  },
  {
   "cell_type": "code",
   "execution_count": null,
   "id": "bc94f55d-f77f-454b-8282-76d843283576",
   "metadata": {},
   "outputs": [],
   "source": [
    "df[\"x - xmean\"] = df[\"Views\"] - df[\"Views\"].mean()\n",
    "df[\"y - ymean\"] = df[\"Likes\"] - df[\"Likes\"].mean()\n",
    "df[\"sq(x - xmean)\"] = df[\"x - xmean\"] * df[\"x - xmean\"]"
   ]
  },
  {
   "cell_type": "code",
   "execution_count": null,
   "id": "3819be40-d331-4d2b-a43b-81680065885c",
   "metadata": {},
   "outputs": [],
   "source": [
    "df.head()"
   ]
  },
  {
   "cell_type": "markdown",
   "id": "90cb8eb4-acc1-4b8f-9f69-1cc4d8c5cc87",
   "metadata": {},
   "source": [
    "Obtengo la pendiente de la linea"
   ]
  },
  {
   "cell_type": "code",
   "execution_count": null,
   "id": "c941c064-3e01-4532-a26e-66c578552acb",
   "metadata": {},
   "outputs": [],
   "source": [
    "w = np.sum(df[\"x - xmean\"] * df[\"y - ymean\"]) / df[\"sq(x - xmean)\"].sum()"
   ]
  },
  {
   "cell_type": "code",
   "execution_count": null,
   "id": "460491d3-5b36-4890-a3ab-55365616ee2a",
   "metadata": {},
   "outputs": [],
   "source": [
    "w"
   ]
  },
  {
   "cell_type": "markdown",
   "id": "5bdb639d-5d6f-4740-93e5-7d4a6580c736",
   "metadata": {},
   "source": [
    "Obtengo la interseccion con el eje y (ordenada al origen)"
   ]
  },
  {
   "cell_type": "code",
   "execution_count": null,
   "id": "cb43faa6-1451-4f5a-94bd-9f4c2d0cd85a",
   "metadata": {},
   "outputs": [],
   "source": [
    "b = np.mean(df[\"Likes\"] - w * df[\"Views\"])"
   ]
  },
  {
   "cell_type": "code",
   "execution_count": null,
   "id": "f1d43065-f86c-48e4-aba6-ca6681e9b610",
   "metadata": {},
   "outputs": [],
   "source": [
    "b"
   ]
  },
  {
   "cell_type": "code",
   "execution_count": null,
   "id": "69b5cd87-b8b9-4293-ad5b-aca18bdbd0dd",
   "metadata": {},
   "outputs": [],
   "source": [
    "linea = lambda x: w * x + b"
   ]
  },
  {
   "cell_type": "code",
   "execution_count": null,
   "id": "63ac2015-4777-4a88-87f6-89afb05e3722",
   "metadata": {},
   "outputs": [],
   "source": [
    "coef = np.polyfit(df[\"Views\"],df[\"Likes\"],1)\n",
    "linea = np.poly1d(coef)\n",
    "print(coef)\n",
    "print(linea)"
   ]
  },
  {
   "cell_type": "code",
   "execution_count": null,
   "id": "92b6d75b-780e-4b7f-bbf6-15055bbf593d",
   "metadata": {},
   "outputs": [],
   "source": [
    "sns.relplot(x=\"Views\",y=\"Likes\", data=df)\n",
    "plt.plot(df[\"Views\"], linea(df[\"Views\"]), '-');"
   ]
  },
  {
   "cell_type": "markdown",
   "id": "553ee691-908d-4987-90c0-36bc649a53c4",
   "metadata": {},
   "source": [
    "#### Que asumimos para que este medoto funcione correctamente?\n",
    "\n",
    "- [Linear regression assumptions](https://sphweb.bumc.bu.edu/otlt/MPH-Modules/BS/R/R5_Correlation-Regression/R5_Correlation-Regression4.html):\n",
    "\n",
    "1. [Linealidad](https://es.wikipedia.org/wiki/Recta#Forma_simplificada_de_la_ecuaci%C3%B3n_de_la_recta): La relacion entre X e Y es lineal.\n",
    "2. [Homocedasticidad](https://es.wikipedia.org/wiki/Heterocedasticidad): La varianza residual es la misma para todos los valores de X. \n",
    "3. [Independencia](https://es.wikipedia.org/wiki/Independencia_(probabilidad)): Las observaciones son independientres entre si.\n",
    "4. [Normalidad](https://es.wikipedia.org/wiki/Distribuci%C3%B3n_normal): Para todo valor fijo de X, Y tiene una distribucion normal.\n",
    "\n",
    "Preguntas frecuentes:\n",
    "- [Is Y normaly distributed](https://stats.stackexchange.com/questions/327427/how-is-y-normally-distributed-in-linear-regression#:~:text=Actually%2C%20your%20y%20scores%20need,the%20assumptions%20of%20linear%20regression.)\n",
    "- [How multicolinearity affects linear regression](https://stats.stackexchange.com/questions/1149/is-there-an-intuitive-explanation-why-multicollinearity-is-a-problem-in-linear-r)\n"
   ]
  },
  {
   "cell_type": "markdown",
   "id": "aa404a7e-d358-4b98-9689-2d17e544aebf",
   "metadata": {},
   "source": [
    "## Usando la libreria Stats Models\n",
    "\n",
    "La libreria statsmodels nos permite obtener esta linea de forma mas simple: \n",
    "\n",
    "https://www.statsmodels.org/stable/regression.html"
   ]
  },
  {
   "cell_type": "code",
   "execution_count": 7,
   "id": "02b21401-b624-4a22-a20c-18d9f5ab51a5",
   "metadata": {},
   "outputs": [
    {
     "name": "stdout",
     "output_type": "stream",
     "text": [
      "                            OLS Regression Results                            \n",
      "==============================================================================\n",
      "Dep. Variable:                  Likes   R-squared:                       0.570\n",
      "Model:                            OLS   Adj. R-squared:                  0.527\n",
      "Method:                 Least Squares   F-statistic:                     13.25\n",
      "Date:                Tue, 13 Feb 2024   Prob (F-statistic):            0.00453\n",
      "Time:                        12:28:46   Log-Likelihood:                -126.14\n",
      "No. Observations:                  12   AIC:                             256.3\n",
      "Df Residuals:                      10   BIC:                             257.2\n",
      "Df Model:                           1                                         \n",
      "Covariance Type:            nonrobust                                         \n",
      "==============================================================================\n",
      "                 coef    std err          t      P>|t|      [0.025      0.975]\n",
      "------------------------------------------------------------------------------\n",
      "const       2323.4868   4912.355      0.473      0.646   -8621.921    1.33e+04\n",
      "Views          0.0827      0.023      3.640      0.005       0.032       0.133\n",
      "==============================================================================\n",
      "Omnibus:                        1.196   Durbin-Watson:                   1.443\n",
      "Prob(Omnibus):                  0.550   Jarque-Bera (JB):                0.960\n",
      "Skew:                           0.527   Prob(JB):                        0.619\n",
      "Kurtosis:                       2.101   Cond. No.                     3.78e+05\n",
      "==============================================================================\n",
      "\n",
      "Notes:\n",
      "[1] Standard Errors assume that the covariance matrix of the errors is correctly specified.\n",
      "[2] The condition number is large, 3.78e+05. This might indicate that there are\n",
      "strong multicollinearity or other numerical problems.\n"
     ]
    },
    {
     "name": "stderr",
     "output_type": "stream",
     "text": [
      "/Users/hernanamiune/opt/anaconda3/lib/python3.9/site-packages/scipy/stats/_stats_py.py:1736: UserWarning: kurtosistest only valid for n>=20 ... continuing anyway, n=12\n",
      "  warnings.warn(\"kurtosistest only valid for n>=20 ... continuing \"\n"
     ]
    }
   ],
   "source": [
    "import statsmodels.api as sm\n",
    "\n",
    "x = df[['Views']]\n",
    "y = df['Likes']\n",
    "\n",
    "x = sm.add_constant(x)\n",
    "\n",
    "model = sm.OLS(y, x).fit()\n",
    "predictions = model.predict(x) \n",
    "\n",
    "print_model = model.summary()\n",
    "print(print_model)"
   ]
  },
  {
   "cell_type": "code",
   "execution_count": null,
   "id": "9952487e-3bed-46dc-b502-5036cedb15cd",
   "metadata": {},
   "outputs": [],
   "source": []
  },
  {
   "cell_type": "markdown",
   "id": "73238d26-a3a3-4ff8-9bec-d7039348819f",
   "metadata": {},
   "source": [
    "## Usando la libreria Scikit Learn\n",
    "\n",
    "La libreria sklearn tambien nos permite obtener esta linea de forma simple: \n",
    "\n",
    "https://scikit-learn.org/stable/modules/generated/sklearn.linear_model.LinearRegression.html"
   ]
  },
  {
   "cell_type": "code",
   "execution_count": null,
   "id": "b64f558e-50c7-49a2-b57d-2f5e0c7ae862",
   "metadata": {},
   "outputs": [],
   "source": [
    "from sklearn.linear_model import LinearRegression\n",
    "X = df.loc[:,[\"Views\"]]\n",
    "y = df[\"Likes\"]\n",
    "reg = LinearRegression().fit(X, y)"
   ]
  },
  {
   "cell_type": "markdown",
   "id": "bb34f219-bf19-4f02-b14f-09f3265512b4",
   "metadata": {},
   "source": [
    "Obtengo la pendiente de la linea"
   ]
  },
  {
   "cell_type": "code",
   "execution_count": null,
   "id": "66a017bd-0e95-47ce-b0e1-227d1a150bdf",
   "metadata": {},
   "outputs": [],
   "source": [
    "reg.coef_"
   ]
  },
  {
   "cell_type": "markdown",
   "id": "bf22b7b5-c0b3-4928-b787-0b9bdbffb869",
   "metadata": {},
   "source": [
    "Obtengo la interseccion con el eje y (ordenada al origen)"
   ]
  },
  {
   "cell_type": "code",
   "execution_count": null,
   "id": "a3fda8e6-2528-4bf7-becd-c8bdf41602e8",
   "metadata": {},
   "outputs": [],
   "source": [
    "reg.intercept_"
   ]
  },
  {
   "cell_type": "markdown",
   "id": "bb6fa3da-fc4b-42ac-8ea3-6dec68665a3c",
   "metadata": {},
   "source": [
    "# Fin: [Volver al contenido del curso](https://www.freecodingtour.com/cursos/espanol/datascience/datascience.html)"
   ]
  }
 ],
 "metadata": {
  "kernelspec": {
   "display_name": "Python 3 (ipykernel)",
   "language": "python",
   "name": "python3"
  },
  "language_info": {
   "codemirror_mode": {
    "name": "ipython",
    "version": 3
   },
   "file_extension": ".py",
   "mimetype": "text/x-python",
   "name": "python",
   "nbconvert_exporter": "python",
   "pygments_lexer": "ipython3",
   "version": "3.9.18"
  }
 },
 "nbformat": 4,
 "nbformat_minor": 5
}
