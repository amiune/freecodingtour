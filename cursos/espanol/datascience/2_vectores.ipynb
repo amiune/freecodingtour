{
 "cells": [
  {
   "cell_type": "markdown",
   "id": "4817b026-b01a-436b-ad6b-1de4afb0fb5b",
   "metadata": {},
   "source": [
    "# Convirtiendo todos los datos a numeros"
   ]
  },
  {
   "cell_type": "markdown",
   "id": "d3dba1d5-a150-45a4-a848-bd678b96840e",
   "metadata": {},
   "source": [
    "Como mencionamos, una vez que tenemos nuestra tabla completa el proximo paso es convertir todos nuestros datos a numeros. Esto sirve porque las cajas negras que utilizaremos para hacer predicciones son algoritmos matematicos que funcionan con numeros. Si convierto toda mi tabla en numeros podemos decir que **cada fila es un vector** que es una palabra que viene de la matematica y que escucharemos mucho. Veamos:"
   ]
  },
  {
   "cell_type": "code",
   "execution_count": null,
   "id": "857ec25d-f707-42cd-a3dc-50b9d2f11eed",
   "metadata": {},
   "outputs": [],
   "source": [
    "import pandas as pd"
   ]
  },
  {
   "cell_type": "code",
   "execution_count": null,
   "id": "1531701e-ff2b-44a2-8004-9ec62c2ea744",
   "metadata": {},
   "outputs": [],
   "source": [
    "# cargamos la tabla que habiamos guardado en un archivo de texto\n",
    "df = pd.read_csv(\"https://raw.githubusercontent.com/amiune/freecodingtour/main/cursos/espanol/datascience/tabla_telefonos.csv\")"
   ]
  },
  {
   "cell_type": "code",
   "execution_count": null,
   "id": "b438b0f7-1bd7-471a-ad1a-dff5df2e5171",
   "metadata": {},
   "outputs": [],
   "source": [
    "df"
   ]
  },
  {
   "cell_type": "markdown",
   "id": "5713fc67-13b9-45c5-b6d5-3cca601e3706",
   "metadata": {},
   "source": [
    "### Como hacemos ahora para convertir la palabras 'Gris', True, 'Oro', False, 'Reacondicionado' y demas a numeros?\n",
    "\n",
    "Ya se han estudiado muchos metodos y aqui vamos a ver solo el mas conocido y que mejor funciona pero primero entendamos la diferencia que hay entre tipos de columnas. Existen dos tipos:\n",
    "1. Categoricas: poseen un numero finito de valores.\n",
    "2. Numericas: Pueden tener un numero infinito de valores.\n",
    "\n",
    "Es facil ver que la columna Color es categorica porque tiene solo tres posibles valores (Verde, Oro y Gris) podemos pensar en reemplazarlos por 1, 2 y 3 pero esto no es muy buena idea porque nuestra caja negra puede creer que 3 al ser mayor a 2 es mejor. Entonces lo que se hace es crear tres columnas una para cada valor (Verde, Oro y Gris) y poner 1 o 0 segun corresponda. Para ello utilizaremos la funcion de pandas **pd.get_dummies()** \n",
    "\n",
    "Veamos:"
   ]
  },
  {
   "cell_type": "code",
   "execution_count": null,
   "id": "48e30016-9de1-46e7-abe3-07277799a851",
   "metadata": {},
   "outputs": [],
   "source": [
    "df2 = pd.get_dummies(df,columns=[\"Color\"])\n",
    "df2"
   ]
  },
  {
   "cell_type": "markdown",
   "id": "da5bcaac-481d-4bee-8f56-8f2a345c0bfe",
   "metadata": {},
   "source": [
    "### Ejercicio 1:\n",
    "\n",
    "Convertir las columnas Memoria, Color y Estado a numeros utlizando la funcion **pd.get_dummies()** y guardar el resultado en la variable **df2**"
   ]
  },
  {
   "cell_type": "code",
   "execution_count": null,
   "id": "638137e3-36d4-4b97-bd4c-aba69e291e37",
   "metadata": {},
   "outputs": [],
   "source": [
    "# Escribir aqui la solucion\n",
    "\n"
   ]
  },
  {
   "cell_type": "code",
   "execution_count": null,
   "id": "d91e55c7-2716-4630-932b-07162ce15d91",
   "metadata": {},
   "outputs": [],
   "source": [
    "#@title Solucion Ejercicio 1 {display-mode:\"form\"}\n",
    "\n",
    "df2 = pd.get_dummies(df,columns=[\"Memoria\",\"Color\",\"Estado\"])\n",
    "df2"
   ]
  },
  {
   "cell_type": "markdown",
   "id": "0a3e99d5-0657-4e51-8fd3-d188cbc4576a",
   "metadata": {},
   "source": [
    "Si observamos bien la variable memoria es numerica pero solo puede tener una cantidad finita de valores (64, 256, 512) por lo que podemos tratarla tambien como categorica."
   ]
  },
  {
   "cell_type": "code",
   "execution_count": null,
   "id": "dbd6eaff-0ffc-4af9-ab7b-83c804ab92e5",
   "metadata": {},
   "outputs": [],
   "source": [
    "df2.iloc[0]"
   ]
  },
  {
   "cell_type": "code",
   "execution_count": null,
   "id": "24e12721-f644-46c1-ab62-186a7a038971",
   "metadata": {},
   "outputs": [],
   "source": [
    "df2.iloc[0].to_numpy()"
   ]
  },
  {
   "cell_type": "markdown",
   "id": "8c8d075e-28b4-4c18-ae1b-276e79b35c43",
   "metadata": {},
   "source": [
    "Ahora si cada fila solo contiene numeros. Podemos decir que cada fila o cada dato es un vector."
   ]
  },
  {
   "cell_type": "markdown",
   "id": "fd71df56-6f04-49f3-8870-c5047784383b",
   "metadata": {},
   "source": [
    "## Convertir todos los numeros a un rango similar\n",
    "\n",
    "Un problema comun de las cajas negras es pensar que algunos numeros son mas importantes que otros por el solo hecho de ser mas grandes. Por ejemplo en nuestro caso todas las columnas tienen numeros que son cero o uno excepto la columna Bateria que tiene valores entre 0 y 100. En este caso algunos algoritmos de Machine Learning pensaran que el numero de bateria es mas importante que el resto. Para evitar esto haremos que el numero de porcentaje de bateria tambien este entre 0 y 1 dividiendolo por 100. Luego veremos otros metodos que nos proporciona sklearn como StandardScaler y MinMaxScaler que nos ayudaran a hacer esto."
   ]
  },
  {
   "cell_type": "markdown",
   "id": "b1d8b19a-558f-49a1-a1fb-fd6ff81c7b23",
   "metadata": {},
   "source": [
    "### Ejercicio 2:\n",
    "\n",
    "Dividir por 100 la columna Bateria para que sus valores esten entre 0 y 1"
   ]
  },
  {
   "cell_type": "code",
   "execution_count": null,
   "id": "24532fc3-aa66-4bf1-a378-81854e2f69de",
   "metadata": {},
   "outputs": [],
   "source": [
    "# Escribir aqui la solucion\n",
    "\n"
   ]
  },
  {
   "cell_type": "code",
   "execution_count": null,
   "id": "40a0f393-cdf6-4041-9302-3d70dc2b4392",
   "metadata": {},
   "outputs": [],
   "source": [
    "#@title Solucion Ejercicio 2 {display-mode:\"form\"}\n",
    "\n",
    "df2.Bateria = df2.Bateria / 100\n",
    "df2"
   ]
  },
  {
   "cell_type": "markdown",
   "id": "315a8fc3-0ca1-477c-a99b-8b3f1914e823",
   "metadata": {},
   "source": [
    "El proximo paso es separar nuestra tabla en dos tablas:\n",
    "- Una tabla de Entrenamiento (Train)\n",
    "- Una tabla de Prueba (Test)\n",
    "\n",
    "Esto lo veremos en la siguiente unidad pero antes de eso guardaremos nuestra tabla completa en un archivo de texto separado por comas:"
   ]
  },
  {
   "cell_type": "code",
   "execution_count": null,
   "id": "7053199e-040c-4905-9566-03fbfb91e474",
   "metadata": {},
   "outputs": [],
   "source": [
    "df2.to_csv(\"tabla_telefonos2.csv\", index=False)"
   ]
  },
  {
   "cell_type": "markdown",
   "id": "7916e609-ecc8-457f-9774-6433da0b38ca",
   "metadata": {},
   "source": [
    "# Fin: [Volver al contenido del curso](https://www.freecodingtour.com/cursos/espanol/datascience/datascience.html)"
   ]
  }
 ],
 "metadata": {
  "kernelspec": {
   "display_name": "Python 3 (ipykernel)",
   "language": "python",
   "name": "python3"
  },
  "language_info": {
   "codemirror_mode": {
    "name": "ipython",
    "version": 3
   },
   "file_extension": ".py",
   "mimetype": "text/x-python",
   "name": "python",
   "nbconvert_exporter": "python",
   "pygments_lexer": "ipython3",
   "version": "3.9.7"
  }
 },
 "nbformat": 4,
 "nbformat_minor": 5
}
