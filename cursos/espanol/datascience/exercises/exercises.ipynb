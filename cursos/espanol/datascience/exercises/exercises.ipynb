{
 "cells": [
  {
   "cell_type": "markdown",
   "metadata": {},
   "source": [
    "# La Practica te Convertira en Maestr@\n",
    "\n",
    "Varios ejercicios para practicar las tecnicas de Machine Learning aprendidas:\n",
    "\n",
    "## Regresion:\n",
    "\n",
    "### [Kaggle: House Prices - Advanced Regression Techniques](https://www.kaggle.com/competitions/house-prices-advanced-regression-techniques)\n",
    "- [Baseline](./kaggle-house-pricing/CompetenciaHousePricesKaggle.ipynb)\n",
    "- [Framework de Prueba 1](./kaggle-house-pricing/CompetenciaHousePricesKaggle_proceso_no_automatico1.ipynb)\n",
    "- [Framework de Prueba 2](./kaggle-house-pricing/CompetenciaHousePricesKaggle_proceso_no_automatico2.ipynb)\n",
    "- [Prueba y Seleccion de Modelos](./kaggle-house-pricing/CompetenciaHousePricesKaggle_seleccion_entre_varios_modelos.ipynb)\n",
    "\n",
    "## Time Series Forecasting\n",
    "\n",
    "### [Kaggle: Store Sales - Time Series Forecasting](https://www.kaggle.com/competitions/store-sales-time-series-forecasting)"
   ]
  }
 ],
 "metadata": {
  "language_info": {
   "name": "python"
  }
 },
 "nbformat": 4,
 "nbformat_minor": 2
}
