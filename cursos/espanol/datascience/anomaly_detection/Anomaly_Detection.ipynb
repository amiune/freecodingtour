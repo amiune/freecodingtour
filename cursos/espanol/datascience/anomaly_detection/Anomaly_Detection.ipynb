{
 "cells": [
  {
   "cell_type": "markdown",
   "id": "8dcbd5b3-cb5e-43e4-9c47-e6e1a0384a1c",
   "metadata": {},
   "source": [
    "# Deteccion de Anomalias (Anomaly Detection)\n",
    "\n",
    "Es un caso especial de Machine Learning que puede entrar en la categoria de Supervisado pero tambien mas comunmente en la categoria de No Supervisado. Si bien se pueden utilizar los algoritmos clasicos de ML existen algoritmos especiales para la deteccion de anomalias.\n",
    "\n",
    "Libreria PyOD (Python Outlier Detection):\n",
    "- [GitHhb](https://github.com/yzhao062/pyod)\n",
    "- [Documentacion](https://pyod.readthedocs.io/en/latest/)\n",
    "\n",
    "Anomaly Detection Benchmark:\n",
    "- [GitHub](https://github.com/Minqi824/ADBench)\n",
    "- [Paper](https://arxiv.org/abs/2206.09426)\n",
    "\n",
    "PyCaret Anomaly Detection:\n",
    "- [Ejemplo](https://nbviewer.org/github/pycaret/pycaret/blob/master/tutorials/Tutorial%20-%20Anomaly%20Detection.ipynb)\n",
    "\n",
    "Kaggle Datasets:\n",
    "- https://www.kaggle.com/datasets/mlg-ulb/creditcardfraud\n",
    "- https://www.kaggle.com/datasets/what0919/intrusion-detection\n",
    "- https://www.kaggle.com/datasets/boltzmannbrain/nab"
   ]
  }
 ],
 "metadata": {
  "kernelspec": {
   "display_name": "Python 3 (ipykernel)",
   "language": "python",
   "name": "python3"
  },
  "language_info": {
   "codemirror_mode": {
    "name": "ipython",
    "version": 3
   },
   "file_extension": ".py",
   "mimetype": "text/x-python",
   "name": "python",
   "nbconvert_exporter": "python",
   "pygments_lexer": "ipython3",
   "version": "3.9.18"
  }
 },
 "nbformat": 4,
 "nbformat_minor": 5
}
