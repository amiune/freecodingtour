{
 "cells": [
  {
   "cell_type": "markdown",
   "id": "ddf21d3d-9842-4239-bc7c-07732b46e80c",
   "metadata": {},
   "source": [
    "# AutoML: Machine Learning Automatico\n",
    "\n",
    "El proceso de Machine Learning se puede automatizar un poco. Hay varios servicios en internet que lo hacen y tambien varias librerias. Aqui veremos las siguientes librerias: \n",
    "- [FLAML](https://microsoft.github.io/FLAML/docs/Getting-Started/)\n",
    "- [AutoGluon](https://auto.gluon.ai/)\n",
    "- [PyCaret](https://pycaret.org/)\n",
    "\n"
   ]
  },
  {
   "cell_type": "markdown",
   "id": "469d0090-e07c-4f9e-ba91-caa23f703797",
   "metadata": {},
   "source": [
    "## FLAML\n",
    "\n",
    "Comencemos con FLAML para automatizar solo el proceso de seleccion del algoritmo de machine learning y los hiperparametros"
   ]
  },
  {
   "cell_type": "code",
   "execution_count": null,
   "id": "ccc23192-283f-40f3-98ca-bba6a1eb27a1",
   "metadata": {},
   "outputs": [],
   "source": [
    "!pip install \"flaml[automl]\""
   ]
  },
  {
   "cell_type": "markdown",
   "id": "66244623-92b7-4f7b-9807-dff7a879b649",
   "metadata": {},
   "source": [
    "Como vimos en la unidad anterior el proceso de Machine Learning culmina entrenando distintas cajas negras con distintos algoritmos y ajustando los parametros de dichos algoritmos para que el resultado del entrenamiento sea el mejor posible. Ahora veremos como utilizar la libreria FLAML para automatizar este proceso.\n",
    "\n",
    "Primero utilicemos los datos que hemos preprocesado de nuestra base de datos de pacientes con diabetes:"
   ]
  },
  {
   "cell_type": "code",
   "execution_count": null,
   "id": "c8b7a646-be08-41fc-aa31-4e9e846e6b35",
   "metadata": {},
   "outputs": [],
   "source": [
    "import pandas as pd\n",
    "import warnings\n",
    "warnings.filterwarnings('ignore')"
   ]
  },
  {
   "cell_type": "code",
   "execution_count": null,
   "id": "17a6c801-c734-4893-8622-eef05fd2d683",
   "metadata": {},
   "outputs": [],
   "source": [
    "df_train = pd.read_csv('https://raw.githubusercontent.com/amiune/freecodingtour/main/cursos/espanol/datascience/data/diabetes/diabetes_train_procesado.csv')\n",
    "df_test = pd.read_csv('https://raw.githubusercontent.com/amiune/freecodingtour/main/cursos/espanol/datascience/data/diabetes/diabetes_test_procesado.csv')"
   ]
  },
  {
   "cell_type": "code",
   "execution_count": null,
   "id": "9dad325f-65c9-42e7-8ec6-a720fd77eaf7",
   "metadata": {},
   "outputs": [],
   "source": [
    "X_train = df_train.loc[:, df_train.columns != \"diabetes\"]\n",
    "y_train = df_train.loc[:, \"diabetes\"]\n",
    "\n",
    "X_train.head()"
   ]
  },
  {
   "cell_type": "markdown",
   "id": "5fff6a2d-66c5-4714-9001-66244e8a5f57",
   "metadata": {},
   "source": [
    "Ahora utilicemos la libreria FLAML a la cual le daremos la tabla de entrenamiento separada en X e y al igual que con cualquier algoritmo de sklearn pero ademas especificaremos la tarea a realizar con el parametro task=\"classification\" y el tiempo de computo que le daremos a la libreria para que elcuentre la mejor caja negra posible, en este caso utilizaremos time_budget=10 para darle 10 segundos."
   ]
  },
  {
   "cell_type": "code",
   "execution_count": null,
   "id": "d8aff419-577d-4def-88b9-bff62871d52b",
   "metadata": {},
   "outputs": [],
   "source": [
    "from flaml import AutoML\n",
    "automl = AutoML()\n",
    "automl.fit(X_train, y_train, task=\"classification\", time_budget=10)"
   ]
  },
  {
   "cell_type": "markdown",
   "id": "2a7f4ee2-b801-415f-8dc5-a11b9932efdc",
   "metadata": {},
   "source": [
    "Una vez que la libreria ha terminado de entrenar distintos modelos podemos ver cual ha sido el mejor (best_estimator), cuales son sus parametros (best_config) y el resultado de su funcion de error (best_loss)"
   ]
  },
  {
   "cell_type": "code",
   "execution_count": null,
   "id": "d296d3c4-0bd0-41a9-bc69-c0c79ed0e4b1",
   "metadata": {},
   "outputs": [],
   "source": [
    "automl.best_estimator"
   ]
  },
  {
   "cell_type": "code",
   "execution_count": null,
   "id": "13bec73d-e498-4a41-9853-391bbfc86bf9",
   "metadata": {},
   "outputs": [],
   "source": [
    "automl.best_config"
   ]
  },
  {
   "cell_type": "code",
   "execution_count": null,
   "id": "1686a63d-1f84-4b1b-8295-4328a2f82ba8",
   "metadata": {},
   "outputs": [],
   "source": [
    "automl.best_loss"
   ]
  },
  {
   "cell_type": "markdown",
   "id": "c406d346-f310-42ea-97b2-66671cf999c3",
   "metadata": {},
   "source": [
    "Finalmente podemos utilizar nuestra tabla de prueba para ver que tan bien se desempeña en ella este modelo elegido por la libreria "
   ]
  },
  {
   "cell_type": "code",
   "execution_count": null,
   "id": "aa18feb6-714a-4c6b-8255-83bdbb4df418",
   "metadata": {},
   "outputs": [],
   "source": [
    "X_test = df_test.loc[:, df_test.columns != \"diabetes\"]\n",
    "y_test = df_test.loc[:, \"diabetes\"]"
   ]
  },
  {
   "cell_type": "code",
   "execution_count": null,
   "id": "aaa37a55-9ad9-451c-9a3e-d331d403270f",
   "metadata": {},
   "outputs": [],
   "source": [
    "from sklearn.metrics import accuracy_score\n",
    "\n",
    "def calcular_accuracy_train_val(clf, X_train, y_train, X_val, y_val):\n",
    "    y_train_pred = clf.predict(X_train)\n",
    "    print(\"Entrenamiento accuracy:\",accuracy_score(y_train, y_train_pred))\n",
    "    y_val_pred = clf.predict(X_val)\n",
    "    print(\"Validacion accuracy:\",accuracy_score(y_val, y_val_pred))\n",
    "    return clf"
   ]
  },
  {
   "cell_type": "code",
   "execution_count": null,
   "id": "aae366e5-f1e3-46ec-9fff-bce6a1cd5250",
   "metadata": {},
   "outputs": [],
   "source": [
    "clf = calcular_accuracy_train_val(automl, X_train, y_train, X_test, y_test)"
   ]
  },
  {
   "cell_type": "markdown",
   "id": "85ab9737-bd6c-424a-8b71-99edda9ebd11",
   "metadata": {},
   "source": [
    "## AutoGluon\n",
    "\n",
    "Ahora utilizaremos AutoGluon para automatizar solo el proceso de seleccion del algoritmo de machine learning y los hiperparametros"
   ]
  },
  {
   "cell_type": "code",
   "execution_count": null,
   "id": "75a2f316-260a-4efc-8ea0-fb41842afa6d",
   "metadata": {},
   "outputs": [],
   "source": [
    "!pip install autogluon -U -q"
   ]
  },
  {
   "cell_type": "code",
   "execution_count": null,
   "id": "8cfeb65b-1762-4975-82a3-4aef1d5d379d",
   "metadata": {},
   "outputs": [],
   "source": [
    "from autogluon.tabular import TabularDataset, TabularPredictor"
   ]
  },
  {
   "cell_type": "markdown",
   "id": "fcc5bf2d-ff54-4f0c-8ac0-574c28d4e9d4",
   "metadata": {},
   "source": [
    "Cargamos los datos de entrenamiento en la clase especial de AutoGluon llamada TabularDataset"
   ]
  },
  {
   "cell_type": "code",
   "execution_count": null,
   "id": "b206b1bf-b7de-402c-a0ee-72076f4c1f37",
   "metadata": {},
   "outputs": [],
   "source": [
    "train_data_url = 'https://raw.githubusercontent.com/amiune/freecodingtour/main/cursos/espanol/datascience/data/diabetes/diabetes_train_procesado.csv'\n",
    "train_data = TabularDataset(train_data_url)\n",
    "train_data.head()"
   ]
  },
  {
   "cell_type": "markdown",
   "id": "7cc0915c-8df8-4699-a99d-dd6f210aaa12",
   "metadata": {},
   "source": [
    "Entrenamos varios modelos"
   ]
  },
  {
   "cell_type": "code",
   "execution_count": null,
   "id": "89f0d350-0a54-45b5-94a8-8b0ab39b719b",
   "metadata": {},
   "outputs": [],
   "source": [
    "predictor = TabularPredictor(label='diabetes').fit(train_data)"
   ]
  },
  {
   "cell_type": "markdown",
   "id": "84a35007-4c64-4974-a862-4b46e0b57269",
   "metadata": {},
   "source": [
    "Cargamos los datos de prueba"
   ]
  },
  {
   "cell_type": "code",
   "execution_count": null,
   "id": "79eb38b0-89f7-41d0-9e76-ab66c1f726b4",
   "metadata": {},
   "outputs": [],
   "source": [
    "test_data_url = 'https://raw.githubusercontent.com/amiune/freecodingtour/main/cursos/espanol/datascience/data/diabetes/diabetes_test_procesado.csv'\n",
    "test_data = TabularDataset(test_data_url)"
   ]
  },
  {
   "cell_type": "markdown",
   "id": "a5ca2276-eb5f-4ba3-92e2-1a45e6b207a2",
   "metadata": {},
   "source": [
    "Evaluamos los modelos y comparamos sus metricas"
   ]
  },
  {
   "cell_type": "code",
   "execution_count": null,
   "id": "e6f64d6a-963f-4f46-9d0f-cb8e96fb8cbe",
   "metadata": {},
   "outputs": [],
   "source": [
    "predictor.evaluate(test_data, silent=True)"
   ]
  },
  {
   "cell_type": "code",
   "execution_count": null,
   "id": "d9b8bb22-e109-4741-a72f-82e2398e17d6",
   "metadata": {},
   "outputs": [],
   "source": [
    "predictor.leaderboard(test_data)"
   ]
  },
  {
   "cell_type": "markdown",
   "id": "78c56dbb-0d99-4d34-b1ec-8e1b05b46b70",
   "metadata": {},
   "source": [
    "Finalmente hacemos las predicciones que queremos"
   ]
  },
  {
   "cell_type": "code",
   "execution_count": null,
   "id": "2cd1763c-f719-4c8e-a75d-27fec52de222",
   "metadata": {},
   "outputs": [],
   "source": [
    "y_pred = predictor.predict(test_data.drop(columns=['diabetes']))\n",
    "y_pred.head()"
   ]
  },
  {
   "cell_type": "markdown",
   "id": "40162309-236f-436e-bf78-049f7f4825b7",
   "metadata": {},
   "source": [
    "## PyCaret\n",
    "\n",
    "PyCaret nos ofrece la posibilidad de automatizar todo el proceso desde el Analisis Exploratorio de Datos, pasando por el Machine Learning hasta el analisis y la interpretacion de los resultados por ello le dedicaremos una unidad especial que puedes ver [aqui](https://colab.research.google.com/github/amiune/freecodingtour/blob/main/cursos/espanol/datascience/11_pycaret.ipynb)."
   ]
  },
  {
   "cell_type": "markdown",
   "id": "8498e3e5-adc2-407c-98a3-aeb453fc2ea5",
   "metadata": {},
   "source": [
    "# Fin: [Volver al contenido del curso](https://www.freecodingtour.com/cursos/espanol/datascience/datascience.html)"
   ]
  }
 ],
 "metadata": {
  "kernelspec": {
   "display_name": "base",
   "language": "python",
   "name": "base"
  },
  "language_info": {
   "codemirror_mode": {
    "name": "ipython",
    "version": 3
   },
   "file_extension": ".py",
   "mimetype": "text/x-python",
   "name": "python",
   "nbconvert_exporter": "python",
   "pygments_lexer": "ipython3",
   "version": "3.9.7"
  }
 },
 "nbformat": 4,
 "nbformat_minor": 5
}
