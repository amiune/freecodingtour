{
 "cells": [
  {
   "cell_type": "markdown",
   "id": "9295eac5-f052-48d5-bda3-76aed79ec9b3",
   "metadata": {},
   "source": [
    "# Existen dos clases de cajas negras\n",
    "\n",
    "Los algoritmos de machine learning que hasta aqui los llamamos cajas negras pueden ser de dos clases segun la variable que deban predecir:\n",
    "- **De Regresion**: si la variable a predecir es numerica (hay un numero infinito de valores posibles)\n",
    "- **De Clasificacion**: si la variable a predecir es categorica (solo hay un numero finito de valores posibles)\n",
    "\n",
    "Veamos algunos ejemplos:"
   ]
  },
  {
   "cell_type": "markdown",
   "id": "c31932d6-c076-44ea-9a33-df767b6abbca",
   "metadata": {},
   "source": [
    "### Ejercicio:\n",
    "\n",
    "Decir que tipo de caja negra (Regresion o Clasificacion) debemos utilizar en cada uno de los siguientes problemas:\n",
    "- Predecir el mejor valor de venta de una casa\n",
    "- Predecir si a alguien le va a gustar una pelicula o no\n",
    "- Predecir si alguien va a devolver un credito o no\n",
    "- Predecir cuanto gastara el próximo mes una persona\n",
    "- Predecir cuantos viajes hara un taxi en su horario de trabajo\n",
    "- Predecir la palabra que falta en un texto de examen de ingles\n",
    "- Predecir sobre que tema habla un texto\n",
    "- Predecir si una compra con tarjeta de credito es fraude\n",
    "- Predecir la edad de una persona mediante una fotografia\n",
    "- Predecir si el semaforo esta rojo o verde\n",
    "- Predecir si a alguien le va a gustar un producto o no"
   ]
  },
  {
   "cell_type": "code",
   "execution_count": null,
   "id": "c2057b99-6b2e-439a-96f2-dfba2cec4ab3",
   "metadata": {},
   "outputs": [],
   "source": [
    "#@title Ver Solucion Ejercicio {display-mode:\"form\"}\n",
    "\n",
    "#- Predecir el mejor valor de venta de una casa (REGRESION)\n",
    "#- Predecir si a alguien le va a gustar una pelicula o no (CLASIFICACION)\n",
    "#- Predecir si alguien va a devolver un credito o no (CLASIFICACION)\n",
    "#- Predecir cuanto gastara el próximo mes una persona (REGRESION)\n",
    "#- Predecir cuantos viajes hara un taxi en su horario de trabajo (REGRESION)\n",
    "#- Predecir la palabra que falta en un texto de examen de ingles (CLASIFICACION)\n",
    "#- Predecir sobre que tema habla un texto (CLASIFICACION)\n",
    "#- Predecir si una compra con tarjeta de credito es fraude (CLASIFICACION)\n",
    "#- Predecir la edad de una persona mediante una fotografia (CLASIFICACION o REGRESION)\n",
    "#- Predecir si el semaforo esta rojo o verde (CLASIFICACION)\n",
    "#- Predecir si a alguien le va a gustar un producto o no (CLASIFICACION)"
   ]
  },
  {
   "cell_type": "markdown",
   "id": "f2b42437-b1ba-4475-a7cc-c5665e320638",
   "metadata": {},
   "source": [
    "## Clasificacion de Cajas Negras por Algoritmo utilizado\n",
    "\n",
    "Existen muchos algoritmos que pueden ser usados como cajas negras para predecir.\n",
    "\n",
    "En las proximas unidades veremos mas en detalle algunos de los mas utilizados:\n",
    "\n",
    "- KNN\n",
    "- Arboles de decision\n",
    "- Regresion Lineal y Regresion Logistica\n",
    "- Naive Bayes\n",
    "- Redes Neuronales\n",
    "\n",
    "Tambien hay algoritmos que utilizan una combinacion de varios para crear uno mejor, estos se llaman **ensambles**.\n",
    "\n",
    "Todos estos algoritmos existen para ambas clases de prediccion: **regresion y clasificacion**."
   ]
  },
  {
   "cell_type": "markdown",
   "id": "c6608a93-09e8-43ed-829d-7a339e914fc4",
   "metadata": {},
   "source": [
    "# Fin: [Volver al contenido del curso](https://www.freecodingtour.com/cursos/espanol/datascience/datascience.html)"
   ]
  }
 ],
 "metadata": {
  "kernelspec": {
   "display_name": "Python 3 (ipykernel)",
   "language": "python",
   "name": "python3"
  },
  "language_info": {
   "codemirror_mode": {
    "name": "ipython",
    "version": 3
   },
   "file_extension": ".py",
   "mimetype": "text/x-python",
   "name": "python",
   "nbconvert_exporter": "python",
   "pygments_lexer": "ipython3",
   "version": "3.9.18"
  }
 },
 "nbformat": 4,
 "nbformat_minor": 5
}
