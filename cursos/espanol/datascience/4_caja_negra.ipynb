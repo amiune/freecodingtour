{
 "cells": [
  {
   "cell_type": "markdown",
   "id": "5f411022-46fb-4571-801b-13d7014e1a98",
   "metadata": {},
   "source": [
    "# Entrenando nuestra caja negra"
   ]
  },
  {
   "cell_type": "markdown",
   "id": "302b9b87-cfa3-402d-9505-6b5fbd4e6f5a",
   "metadata": {},
   "source": [
    "Es hora de entrenar nuestra caja negra. Utilizaremos nuestra tabla de Entrenamiento para entrenarla y luego una vez que tenemos la caja entrenada la usaremos para predecir nuevos valores que nunca ha visto. Veamos el siguiente diagrama para entender como funciona el procedimiento:"
   ]
  },
  {
   "cell_type": "markdown",
   "id": "4e15c7c9-65bf-43f1-a8e7-160602f1937b",
   "metadata": {},
   "source": [
    "![Proceso entrenamiento caja negra](img/proceso_caja_negra.png)"
   ]
  },
  {
   "cell_type": "markdown",
   "id": "dd3d0195-1b16-40f8-83fe-2728be1f871e",
   "metadata": {},
   "source": [
    "Cargamos nuestra tabla de entrenamiento:"
   ]
  },
  {
   "cell_type": "code",
   "execution_count": 1,
   "id": "33bf083b-e0dc-4d7c-9d81-955e16775549",
   "metadata": {},
   "outputs": [],
   "source": [
    "import pandas as pd"
   ]
  },
  {
   "cell_type": "code",
   "execution_count": 2,
   "id": "8a59a523-6d25-4118-9044-00646d8fdf09",
   "metadata": {},
   "outputs": [],
   "source": [
    "df_train = pd.read_csv(\"tabla_telefonos_train.csv\")"
   ]
  },
  {
   "cell_type": "code",
   "execution_count": 3,
   "id": "d96f624b-e458-4bc9-8b58-c4a8c9a56484",
   "metadata": {},
   "outputs": [],
   "source": [
    "X = df_train.drop(columns=[\"Precio\"])\n",
    "y = df_train.Precio"
   ]
  },
  {
   "cell_type": "markdown",
   "id": "a6f57663-4661-4a88-9ef0-bfaa1d8a9f01",
   "metadata": {},
   "source": [
    "Importamos una algortimo de Machine Learning (nuestra caja negra) desde la libreria sklearn. En este caso el que se llama Regresion Lineal:"
   ]
  },
  {
   "cell_type": "code",
   "execution_count": 4,
   "id": "52455eea-d345-4516-9bcf-4623e884922a",
   "metadata": {},
   "outputs": [],
   "source": [
    "from sklearn.linear_model import LinearRegression"
   ]
  },
  {
   "cell_type": "markdown",
   "id": "f209091f-7db5-46ef-a690-94e00a7e94a1",
   "metadata": {},
   "source": [
    "Creamos nuestra caja negra:"
   ]
  },
  {
   "cell_type": "code",
   "execution_count": 5,
   "id": "606884a1-98c1-4acf-a835-9ed7cda8ec5c",
   "metadata": {},
   "outputs": [],
   "source": [
    "caja_negra = LinearRegression()"
   ]
  },
  {
   "cell_type": "markdown",
   "id": "645394ca-d525-449d-9d3a-2617b74f30a9",
   "metadata": {},
   "source": [
    "Entrenamos nuestra caja negra:"
   ]
  },
  {
   "cell_type": "code",
   "execution_count": 6,
   "id": "9db691f2-084a-470c-809f-7b3965a7498d",
   "metadata": {},
   "outputs": [
    {
     "name": "stdout",
     "output_type": "stream",
     "text": [
      "Intel MKL WARNING: Support of Intel(R) Streaming SIMD Extensions 4.2 (Intel(R) SSE4.2) enabled only processors has been deprecated. Intel oneAPI Math Kernel Library 2025.0 will require Intel(R) Advanced Vector Extensions (Intel(R) AVX) instructions.\n"
     ]
    },
    {
     "data": {
      "text/html": [
       "<style>#sk-container-id-1 {color: black;background-color: white;}#sk-container-id-1 pre{padding: 0;}#sk-container-id-1 div.sk-toggleable {background-color: white;}#sk-container-id-1 label.sk-toggleable__label {cursor: pointer;display: block;width: 100%;margin-bottom: 0;padding: 0.3em;box-sizing: border-box;text-align: center;}#sk-container-id-1 label.sk-toggleable__label-arrow:before {content: \"▸\";float: left;margin-right: 0.25em;color: #696969;}#sk-container-id-1 label.sk-toggleable__label-arrow:hover:before {color: black;}#sk-container-id-1 div.sk-estimator:hover label.sk-toggleable__label-arrow:before {color: black;}#sk-container-id-1 div.sk-toggleable__content {max-height: 0;max-width: 0;overflow: hidden;text-align: left;background-color: #f0f8ff;}#sk-container-id-1 div.sk-toggleable__content pre {margin: 0.2em;color: black;border-radius: 0.25em;background-color: #f0f8ff;}#sk-container-id-1 input.sk-toggleable__control:checked~div.sk-toggleable__content {max-height: 200px;max-width: 100%;overflow: auto;}#sk-container-id-1 input.sk-toggleable__control:checked~label.sk-toggleable__label-arrow:before {content: \"▾\";}#sk-container-id-1 div.sk-estimator input.sk-toggleable__control:checked~label.sk-toggleable__label {background-color: #d4ebff;}#sk-container-id-1 div.sk-label input.sk-toggleable__control:checked~label.sk-toggleable__label {background-color: #d4ebff;}#sk-container-id-1 input.sk-hidden--visually {border: 0;clip: rect(1px 1px 1px 1px);clip: rect(1px, 1px, 1px, 1px);height: 1px;margin: -1px;overflow: hidden;padding: 0;position: absolute;width: 1px;}#sk-container-id-1 div.sk-estimator {font-family: monospace;background-color: #f0f8ff;border: 1px dotted black;border-radius: 0.25em;box-sizing: border-box;margin-bottom: 0.5em;}#sk-container-id-1 div.sk-estimator:hover {background-color: #d4ebff;}#sk-container-id-1 div.sk-parallel-item::after {content: \"\";width: 100%;border-bottom: 1px solid gray;flex-grow: 1;}#sk-container-id-1 div.sk-label:hover label.sk-toggleable__label {background-color: #d4ebff;}#sk-container-id-1 div.sk-serial::before {content: \"\";position: absolute;border-left: 1px solid gray;box-sizing: border-box;top: 0;bottom: 0;left: 50%;z-index: 0;}#sk-container-id-1 div.sk-serial {display: flex;flex-direction: column;align-items: center;background-color: white;padding-right: 0.2em;padding-left: 0.2em;position: relative;}#sk-container-id-1 div.sk-item {position: relative;z-index: 1;}#sk-container-id-1 div.sk-parallel {display: flex;align-items: stretch;justify-content: center;background-color: white;position: relative;}#sk-container-id-1 div.sk-item::before, #sk-container-id-1 div.sk-parallel-item::before {content: \"\";position: absolute;border-left: 1px solid gray;box-sizing: border-box;top: 0;bottom: 0;left: 50%;z-index: -1;}#sk-container-id-1 div.sk-parallel-item {display: flex;flex-direction: column;z-index: 1;position: relative;background-color: white;}#sk-container-id-1 div.sk-parallel-item:first-child::after {align-self: flex-end;width: 50%;}#sk-container-id-1 div.sk-parallel-item:last-child::after {align-self: flex-start;width: 50%;}#sk-container-id-1 div.sk-parallel-item:only-child::after {width: 0;}#sk-container-id-1 div.sk-dashed-wrapped {border: 1px dashed gray;margin: 0 0.4em 0.5em 0.4em;box-sizing: border-box;padding-bottom: 0.4em;background-color: white;}#sk-container-id-1 div.sk-label label {font-family: monospace;font-weight: bold;display: inline-block;line-height: 1.2em;}#sk-container-id-1 div.sk-label-container {text-align: center;}#sk-container-id-1 div.sk-container {/* jupyter's `normalize.less` sets `[hidden] { display: none; }` but bootstrap.min.css set `[hidden] { display: none !important; }` so we also need the `!important` here to be able to override the default hidden behavior on the sphinx rendered scikit-learn.org. See: https://github.com/scikit-learn/scikit-learn/issues/21755 */display: inline-block !important;position: relative;}#sk-container-id-1 div.sk-text-repr-fallback {display: none;}</style><div id=\"sk-container-id-1\" class=\"sk-top-container\"><div class=\"sk-text-repr-fallback\"><pre>LinearRegression()</pre><b>In a Jupyter environment, please rerun this cell to show the HTML representation or trust the notebook. <br />On GitHub, the HTML representation is unable to render, please try loading this page with nbviewer.org.</b></div><div class=\"sk-container\" hidden><div class=\"sk-item\"><div class=\"sk-estimator sk-toggleable\"><input class=\"sk-toggleable__control sk-hidden--visually\" id=\"sk-estimator-id-1\" type=\"checkbox\" checked><label for=\"sk-estimator-id-1\" class=\"sk-toggleable__label sk-toggleable__label-arrow\">LinearRegression</label><div class=\"sk-toggleable__content\"><pre>LinearRegression()</pre></div></div></div></div></div>"
      ],
      "text/plain": [
       "LinearRegression()"
      ]
     },
     "execution_count": 6,
     "metadata": {},
     "output_type": "execute_result"
    }
   ],
   "source": [
    "caja_negra.fit(X, y)"
   ]
  },
  {
   "cell_type": "markdown",
   "id": "3d98cf92-5f06-458f-903b-4cc933e78afc",
   "metadata": {},
   "source": [
    "Y ahora ya podemos utilizar nuestra caja negra para hacer predicciones. Veamos que valor nos da para nuestro telefono:"
   ]
  },
  {
   "cell_type": "code",
   "execution_count": 18,
   "id": "36a8edf2-1505-4f6a-9d05-00fb32567c9a",
   "metadata": {},
   "outputs": [],
   "source": [
    "mi_telefono = pd.DataFrame({\n",
    "    'Memoria_64': [0],\n",
    "    'Memoria_256': [1],\n",
    "    'Memoria_512': [0],\n",
    "    'Color_Gris': [1],\n",
    "    'Color_Oro': [0],\n",
    "    'Color_Verde': [0],\n",
    "    'Desbloqueado_False': [0],\n",
    "    'Desbloqueado_True':[1],\n",
    "    'Estado_Bueno': [1],\n",
    "    'Estado_Muy bueno': [1],\n",
    "    'Estado_Reacondicionado': [1],\n",
    "             })"
   ]
  },
  {
   "cell_type": "code",
   "execution_count": 19,
   "id": "305b69c1-246b-44e6-b8ea-96c503d95a57",
   "metadata": {},
   "outputs": [
    {
     "data": {
      "text/html": [
       "<div>\n",
       "<style scoped>\n",
       "    .dataframe tbody tr th:only-of-type {\n",
       "        vertical-align: middle;\n",
       "    }\n",
       "\n",
       "    .dataframe tbody tr th {\n",
       "        vertical-align: top;\n",
       "    }\n",
       "\n",
       "    .dataframe thead th {\n",
       "        text-align: right;\n",
       "    }\n",
       "</style>\n",
       "<table border=\"1\" class=\"dataframe\">\n",
       "  <thead>\n",
       "    <tr style=\"text-align: right;\">\n",
       "      <th></th>\n",
       "      <th>Memoria_64</th>\n",
       "      <th>Memoria_256</th>\n",
       "      <th>Memoria_512</th>\n",
       "      <th>Color_Gris</th>\n",
       "      <th>Color_Oro</th>\n",
       "      <th>Color_Verde</th>\n",
       "      <th>Desbloqueado_False</th>\n",
       "      <th>Desbloqueado_True</th>\n",
       "      <th>Estado_Bueno</th>\n",
       "      <th>Estado_Muy bueno</th>\n",
       "      <th>Estado_Reacondicionado</th>\n",
       "    </tr>\n",
       "  </thead>\n",
       "  <tbody>\n",
       "    <tr>\n",
       "      <th>0</th>\n",
       "      <td>0</td>\n",
       "      <td>1</td>\n",
       "      <td>0</td>\n",
       "      <td>1</td>\n",
       "      <td>0</td>\n",
       "      <td>0</td>\n",
       "      <td>0</td>\n",
       "      <td>1</td>\n",
       "      <td>1</td>\n",
       "      <td>1</td>\n",
       "      <td>1</td>\n",
       "    </tr>\n",
       "  </tbody>\n",
       "</table>\n",
       "</div>"
      ],
      "text/plain": [
       "   Memoria_64  Memoria_256  Memoria_512  Color_Gris  Color_Oro  Color_Verde  \\\n",
       "0           0            1            0           1          0            0   \n",
       "\n",
       "   Desbloqueado_False  Desbloqueado_True  Estado_Bueno  Estado_Muy bueno  \\\n",
       "0                   0                  1             1                 1   \n",
       "\n",
       "   Estado_Reacondicionado  \n",
       "0                       1  "
      ]
     },
     "execution_count": 19,
     "metadata": {},
     "output_type": "execute_result"
    }
   ],
   "source": [
    "mi_telefono"
   ]
  },
  {
   "cell_type": "code",
   "execution_count": 8,
   "id": "c052176f-1021-498c-a1b8-4451c89e439b",
   "metadata": {},
   "outputs": [
    {
     "data": {
      "text/plain": [
       "array([442.09])"
      ]
     },
     "execution_count": 8,
     "metadata": {},
     "output_type": "execute_result"
    }
   ],
   "source": [
    "caja_negra.predict(mi_telefono)"
   ]
  },
  {
   "cell_type": "markdown",
   "id": "ce6dedb8-91bc-4e08-ac67-3f52b0447674",
   "metadata": {},
   "source": [
    "## Como saber si mi caja negra esta bien entrenada?"
   ]
  },
  {
   "cell_type": "markdown",
   "id": "35e9de4c-0dbf-4f67-bab3-fce62451c80c",
   "metadata": {},
   "source": [
    "Para ello utilizaremos nuestra tabla de prueba. En nuestra tabla de prueba tenemos datos que la caja negra nunca ha visto y que sabemos cual es la prediccion correcta, en nuestro caso el precio de cada telefono que recopilamos de internet. Entonces utilizamos la caja negra para predecir los precios de los telefonos que quedaron en la tabla de prueba y medimos que tan lejos esta la prediccion de los valores reales:"
   ]
  },
  {
   "cell_type": "markdown",
   "id": "15b16d97-40f8-49d3-97ae-802451289e29",
   "metadata": {},
   "source": [
    "![Error de prediccion de caja negra](img/error_prediccion_caja_negra.png)"
   ]
  },
  {
   "cell_type": "code",
   "execution_count": 9,
   "id": "857dc0d3-cc4a-4b75-8279-7912b0743190",
   "metadata": {},
   "outputs": [],
   "source": [
    "df_test = pd.read_csv(\"tabla_telefonos_test.csv\")"
   ]
  },
  {
   "cell_type": "code",
   "execution_count": 10,
   "id": "f38668eb-31e4-4a70-a992-d4946d0d450f",
   "metadata": {},
   "outputs": [],
   "source": [
    "X = df_test.drop(columns=[\"Precio\"])"
   ]
  },
  {
   "cell_type": "code",
   "execution_count": 11,
   "id": "f707c929-fc79-4ac8-8868-393266eecf3e",
   "metadata": {},
   "outputs": [
    {
     "data": {
      "text/plain": [
       "array([450.74, 450.74])"
      ]
     },
     "execution_count": 11,
     "metadata": {},
     "output_type": "execute_result"
    }
   ],
   "source": [
    "y_predecido = caja_negra.predict(X)\n",
    "y_predecido"
   ]
  },
  {
   "cell_type": "code",
   "execution_count": 12,
   "id": "38dc9ee1-c502-4a07-b898-32c16c9bb811",
   "metadata": {},
   "outputs": [
    {
     "data": {
      "text/plain": [
       "array([499.  , 376.84])"
      ]
     },
     "execution_count": 12,
     "metadata": {},
     "output_type": "execute_result"
    }
   ],
   "source": [
    "y_verdadero = df_test.Precio.to_numpy()\n",
    "y_verdadero"
   ]
  },
  {
   "cell_type": "markdown",
   "id": "d3451e52-5062-4bb1-91bd-afe1547f27c7",
   "metadata": {},
   "source": [
    "Si restamos uno a uno los valores reales podemos ver la diferencia entre cada uno:"
   ]
  },
  {
   "cell_type": "code",
   "execution_count": 13,
   "id": "a98756b9-d461-415e-9de0-4c37103ff75b",
   "metadata": {},
   "outputs": [
    {
     "data": {
      "text/plain": [
       "array([ 48.26, -73.9 ])"
      ]
     },
     "execution_count": 13,
     "metadata": {},
     "output_type": "execute_result"
    }
   ],
   "source": [
    "y_verdadero - y_predecido"
   ]
  },
  {
   "cell_type": "markdown",
   "id": "45451cfc-16f8-49fa-a9e2-16faac3b7f58",
   "metadata": {},
   "source": [
    "Para obtener una medicion de cuanto ha fallado ya hay metricas estudiadas que tambien podremos utilizar desde la libreria sklearn. Esto lo veremos en la siguiente unidad."
   ]
  },
  {
   "cell_type": "markdown",
   "id": "b8724878-83c5-422a-9796-d49debbafd84",
   "metadata": {},
   "source": [
    "# Fin: [Volver al contenido del curso](https://www.freecodingtour.com/cursos/espanol/datascience/datascience.html)"
   ]
  }
 ],
 "metadata": {
  "kernelspec": {
   "display_name": "Python 3 (ipykernel)",
   "language": "python",
   "name": "python3"
  },
  "language_info": {
   "codemirror_mode": {
    "name": "ipython",
    "version": 3
   },
   "file_extension": ".py",
   "mimetype": "text/x-python",
   "name": "python",
   "nbconvert_exporter": "python",
   "pygments_lexer": "ipython3",
   "version": "3.9.7"
  }
 },
 "nbformat": 4,
 "nbformat_minor": 5
}
