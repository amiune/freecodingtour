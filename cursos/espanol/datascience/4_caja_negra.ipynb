{
 "cells": [
  {
   "cell_type": "markdown",
   "id": "5f411022-46fb-4571-801b-13d7014e1a98",
   "metadata": {},
   "source": [
    "# Entrenando nuestra caja negra"
   ]
  },
  {
   "cell_type": "markdown",
   "id": "302b9b87-cfa3-402d-9505-6b5fbd4e6f5a",
   "metadata": {},
   "source": [
    "Es hora de entrenar nuestra caja negra. Utilizaremos nuestra tabla de Entrenamiento para entrenarla y luego una vez que tenemos la caja entrenada la usaremos para predecir nuevos valores que nunca ha visto. Veamos el siguiente diagrama para entender como funciona el procedimiento:"
   ]
  },
  {
   "cell_type": "markdown",
   "id": "4e15c7c9-65bf-43f1-a8e7-160602f1937b",
   "metadata": {},
   "source": [
    "![Proceso entrenamiento caja negra](img/proceso_caja_negra.png)"
   ]
  },
  {
   "cell_type": "markdown",
   "id": "dd3d0195-1b16-40f8-83fe-2728be1f871e",
   "metadata": {},
   "source": [
    "Cargamos nuestra tabla de entrenamiento:"
   ]
  },
  {
   "cell_type": "code",
   "execution_count": null,
   "id": "33bf083b-e0dc-4d7c-9d81-955e16775549",
   "metadata": {},
   "outputs": [],
   "source": [
    "import pandas as pd"
   ]
  },
  {
   "cell_type": "code",
   "execution_count": null,
   "id": "8a59a523-6d25-4118-9044-00646d8fdf09",
   "metadata": {},
   "outputs": [],
   "source": [
    "df_train = pd.read_csv(\"https://raw.githubusercontent.com/amiune/freecodingtour/main/cursos/espanol/datascience/tabla_telefonos_train.csv\")\n",
    "df_train"
   ]
  },
  {
   "cell_type": "markdown",
   "id": "d07dc75f-b386-4b03-853c-d171fe0acd65",
   "metadata": {},
   "source": [
    "Ahora para poder entrenar a nuestra caja negra separamos las columna que queremos predecir del resto de las columnas:\n",
    "1. El resto de las columnas las guardaremos en una variable llamada X\n",
    "2. La columna a predecir la guardaremos en una variable llamada y\n",
    "\n",
    "Esto hace que la caja negra pueda saber cual es la variable que tiene que predecir y cuales son las variables que debe usar para hacer esa prediccion."
   ]
  },
  {
   "cell_type": "code",
   "execution_count": null,
   "id": "d96f624b-e458-4bc9-8b58-c4a8c9a56484",
   "metadata": {},
   "outputs": [],
   "source": [
    "X = df_train.drop(columns=[\"Precio\"])\n",
    "y = df_train.Precio"
   ]
  },
  {
   "cell_type": "markdown",
   "id": "a6f57663-4661-4a88-9ef0-bfaa1d8a9f01",
   "metadata": {},
   "source": [
    "Importamos una algortimo de Machine Learning (nuestra caja negra) desde la libreria sklearn. En este caso el que se llama Regresion Lineal:"
   ]
  },
  {
   "cell_type": "code",
   "execution_count": null,
   "id": "52455eea-d345-4516-9bcf-4623e884922a",
   "metadata": {},
   "outputs": [],
   "source": [
    "from sklearn.linear_model import LinearRegression"
   ]
  },
  {
   "cell_type": "markdown",
   "id": "f209091f-7db5-46ef-a690-94e00a7e94a1",
   "metadata": {},
   "source": [
    "Creamos nuestra caja negra:"
   ]
  },
  {
   "cell_type": "code",
   "execution_count": null,
   "id": "606884a1-98c1-4acf-a835-9ed7cda8ec5c",
   "metadata": {},
   "outputs": [],
   "source": [
    "caja_negra = LinearRegression()"
   ]
  },
  {
   "cell_type": "markdown",
   "id": "645394ca-d525-449d-9d3a-2617b74f30a9",
   "metadata": {},
   "source": [
    "Entrenamos nuestra caja negra utilizando la funcion fit() que recibe las variables X e y:"
   ]
  },
  {
   "cell_type": "code",
   "execution_count": null,
   "id": "9db691f2-084a-470c-809f-7b3965a7498d",
   "metadata": {},
   "outputs": [],
   "source": [
    "caja_negra.fit(X, y)"
   ]
  },
  {
   "cell_type": "markdown",
   "id": "3d98cf92-5f06-458f-903b-4cc933e78afc",
   "metadata": {},
   "source": [
    "Y ahora ya podemos utilizar nuestra caja negra para hacer predicciones. Veamos que valor nos da para nuestro telefono que recordemos es un iphone 11 pro, gris, tiene 256GB de memoria, bateria 81%, esta desbloqueado y el estado es bueno. Por lo tanto transformamos estos valores de igual forma que lo hicimos con el resto de valores de nuestra tabla de datos:"
   ]
  },
  {
   "cell_type": "code",
   "execution_count": null,
   "id": "36a8edf2-1505-4f6a-9d05-00fb32567c9a",
   "metadata": {},
   "outputs": [],
   "source": [
    "mi_telefono = pd.DataFrame({\n",
    "    'Bateria': [0.81],\n",
    "    'Memoria_64': [0],\n",
    "    'Memoria_256': [1],\n",
    "    'Memoria_512': [0],\n",
    "    'Color_Gris': [1],\n",
    "    'Color_Oro': [0],\n",
    "    'Color_Verde': [0],\n",
    "    'Estado_Bueno': [1],\n",
    "    'Estado_Muy bueno': [0],\n",
    "    'Estado_Reacondicionado': [0],\n",
    "             })"
   ]
  },
  {
   "cell_type": "code",
   "execution_count": null,
   "id": "305b69c1-246b-44e6-b8ea-96c503d95a57",
   "metadata": {},
   "outputs": [],
   "source": [
    "mi_telefono"
   ]
  },
  {
   "cell_type": "markdown",
   "id": "7d6a01e2-5437-47f2-b05e-a820382fac69",
   "metadata": {},
   "source": [
    "Le pasamos los datos de mi telefono a la caja negra y pedimos que haga una prediccion utilizando la funcion **predict()**"
   ]
  },
  {
   "cell_type": "code",
   "execution_count": null,
   "id": "c052176f-1021-498c-a1b8-4451c89e439b",
   "metadata": {},
   "outputs": [],
   "source": [
    "caja_negra.predict(mi_telefono)"
   ]
  },
  {
   "cell_type": "markdown",
   "id": "13df4668-caaf-4601-9813-6ffdb4844723",
   "metadata": {},
   "source": [
    "Predice que el precio de mi telefono debe ser 451.45 euros"
   ]
  },
  {
   "cell_type": "markdown",
   "id": "ce6dedb8-91bc-4e08-ac67-3f52b0447674",
   "metadata": {},
   "source": [
    "## Como saber si mi caja negra esta bien entrenada?"
   ]
  },
  {
   "cell_type": "markdown",
   "id": "35e9de4c-0dbf-4f67-bab3-fce62451c80c",
   "metadata": {},
   "source": [
    "Para ello utilizaremos nuestra tabla de prueba. En nuestra tabla de prueba tenemos datos que la caja negra nunca ha visto y que sabemos cual es la prediccion correcta, en nuestro caso el precio de cada telefono que recopilamos de internet. Entonces utilizamos la caja negra para predecir los precios de los telefonos que quedaron en la tabla de prueba y medimos que tan lejos esta la prediccion de los valores reales:"
   ]
  },
  {
   "cell_type": "markdown",
   "id": "15b16d97-40f8-49d3-97ae-802451289e29",
   "metadata": {},
   "source": [
    "![Error de prediccion de caja negra](img/error_prediccion_caja_negra.png)"
   ]
  },
  {
   "cell_type": "markdown",
   "id": "d0f4feca-68d5-4425-a212-ee8613d1998e",
   "metadata": {},
   "source": [
    "Cargamos nuestra tabla de prueba:"
   ]
  },
  {
   "cell_type": "code",
   "execution_count": null,
   "id": "857dc0d3-cc4a-4b75-8279-7912b0743190",
   "metadata": {},
   "outputs": [],
   "source": [
    "df_test = pd.read_csv(\"https://raw.githubusercontent.com/amiune/freecodingtour/main/cursos/espanol/datascience/tabla_telefonos_test.csv\")"
   ]
  },
  {
   "cell_type": "markdown",
   "id": "7c3aaec0-d444-4629-997c-22dc46f68933",
   "metadata": {},
   "source": [
    "Cargamos las columnas predictoras en una variable X"
   ]
  },
  {
   "cell_type": "code",
   "execution_count": null,
   "id": "f38668eb-31e4-4a70-a992-d4946d0d450f",
   "metadata": {},
   "outputs": [],
   "source": [
    "X = df_test.drop(columns=[\"Precio\"])"
   ]
  },
  {
   "cell_type": "markdown",
   "id": "b065d81d-3404-4393-9111-d87b97bc7a67",
   "metadata": {},
   "source": [
    "Predecimos los valores para cada fila de X y guardamos los valores y_predichos en una variable llamada y_predecidos"
   ]
  },
  {
   "cell_type": "code",
   "execution_count": null,
   "id": "f707c929-fc79-4ac8-8868-393266eecf3e",
   "metadata": {},
   "outputs": [],
   "source": [
    "y_predichos = caja_negra.predict(X)\n",
    "y_predichos"
   ]
  },
  {
   "cell_type": "markdown",
   "id": "ab5b2b66-14e2-45cd-8a1c-c3f87ec93413",
   "metadata": {},
   "source": [
    "Guardamos los valores reales del precio de nuestra tabla de prueba en una variable y_verdaderos para poder compararlos contra los y_predichos"
   ]
  },
  {
   "cell_type": "code",
   "execution_count": null,
   "id": "38dc9ee1-c502-4a07-b898-32c16c9bb811",
   "metadata": {},
   "outputs": [],
   "source": [
    "y_verdaderos = df_test.Precio.to_numpy()\n",
    "y_verdaderos"
   ]
  },
  {
   "cell_type": "markdown",
   "id": "d3451e52-5062-4bb1-91bd-afe1547f27c7",
   "metadata": {},
   "source": [
    "Si restamos uno a uno los valores reales y y_predichos podemos ver la diferencia entre cada uno:"
   ]
  },
  {
   "cell_type": "code",
   "execution_count": null,
   "id": "a98756b9-d461-415e-9de0-4c37103ff75b",
   "metadata": {},
   "outputs": [],
   "source": [
    "y_verdaderos - y_predichos"
   ]
  },
  {
   "cell_type": "markdown",
   "id": "45451cfc-16f8-49fa-a9e2-16faac3b7f58",
   "metadata": {},
   "source": [
    "Para obtener una medicion de cuanto ha fallado ya hay metricas estudiadas que tambien podremos utilizar desde la libreria sklearn. Esto lo veremos en la siguiente unidad."
   ]
  },
  {
   "cell_type": "markdown",
   "id": "b8724878-83c5-422a-9796-d49debbafd84",
   "metadata": {},
   "source": [
    "# Fin: [Volver al contenido del curso](https://www.freecodingtour.com/cursos/espanol/datascience/datascience.html)"
   ]
  }
 ],
 "metadata": {
  "kernelspec": {
   "display_name": "Python 3 (ipykernel)",
   "language": "python",
   "name": "python3"
  },
  "language_info": {
   "codemirror_mode": {
    "name": "ipython",
    "version": 3
   },
   "file_extension": ".py",
   "mimetype": "text/x-python",
   "name": "python",
   "nbconvert_exporter": "python",
   "pygments_lexer": "ipython3",
   "version": "3.12.4"
  }
 },
 "nbformat": 4,
 "nbformat_minor": 5
}
