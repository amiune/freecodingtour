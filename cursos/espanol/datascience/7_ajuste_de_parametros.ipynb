{
 "cells": [
  {
   "cell_type": "code",
   "execution_count": null,
   "id": "70686196-5327-4e60-a01f-6a79767ed0e2",
   "metadata": {},
   "outputs": [],
   "source": [
    "from sklearn.metrics import mean_squared_error"
   ]
  },
  {
   "cell_type": "code",
   "execution_count": null,
   "id": "69905da3-3824-44b1-b912-dc4733f6d154",
   "metadata": {},
   "outputs": [],
   "source": [
    "mean_squared_error(y_verdadero, y_predecido)"
   ]
  },
  {
   "cell_type": "code",
   "execution_count": null,
   "id": "65835624-74a7-41cc-ab20-c58202300e3c",
   "metadata": {},
   "outputs": [],
   "source": [
    "from sklearn.metrics import r2_score"
   ]
  },
  {
   "cell_type": "code",
   "execution_count": null,
   "id": "6be3b6b5-e900-4045-9c9f-3e00679f162d",
   "metadata": {},
   "outputs": [],
   "source": [
    "r2_score(y_verdadero, y_predecido)"
   ]
  }
 ],
 "metadata": {
  "kernelspec": {
   "display_name": "Python 3 (ipykernel)",
   "language": "python",
   "name": "python3"
  },
  "language_info": {
   "codemirror_mode": {
    "name": "ipython",
    "version": 3
   },
   "file_extension": ".py",
   "mimetype": "text/x-python",
   "name": "python",
   "nbconvert_exporter": "python",
   "pygments_lexer": "ipython3",
   "version": "3.9.7"
  }
 },
 "nbformat": 4,
 "nbformat_minor": 5
}
