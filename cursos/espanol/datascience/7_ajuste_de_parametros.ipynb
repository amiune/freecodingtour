{
 "cells": [
  {
   "cell_type": "markdown",
   "id": "e7424614-f57f-4298-a048-702d9665cac4",
   "metadata": {},
   "source": [
    "# Entrenamiento, Validacion y Prueba"
   ]
  },
  {
   "cell_type": "markdown",
   "id": "6853fada-9f6d-4b49-bc16-ceac41715432",
   "metadata": {},
   "source": [
    "Hasta aqui trabajamos con los datos separados en dos tablas. Una de entrenamiento que la caja negra puede usar para entrenarse y otra de Prueba que la caja negra nunca debe ver.\n",
    "\n",
    "Ahora para ajustar algunos parametros de la caja negra dividiremos nuestra tabla de entrenamiento en dos: Entrenamiento y Validacion"
   ]
  },
  {
   "cell_type": "code",
   "execution_count": null,
   "id": "7ec248d9-8d80-4076-831c-e8f48a170bcc",
   "metadata": {},
   "outputs": [],
   "source": []
  }
 ],
 "metadata": {
  "kernelspec": {
   "display_name": "Python 3 (ipykernel)",
   "language": "python",
   "name": "python3"
  },
  "language_info": {
   "codemirror_mode": {
    "name": "ipython",
    "version": 3
   },
   "file_extension": ".py",
   "mimetype": "text/x-python",
   "name": "python",
   "nbconvert_exporter": "python",
   "pygments_lexer": "ipython3",
   "version": "3.9.7"
  }
 },
 "nbformat": 4,
 "nbformat_minor": 5
}
