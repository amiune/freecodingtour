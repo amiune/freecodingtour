{
 "cells": [
  {
   "cell_type": "markdown",
   "id": "e7424614-f57f-4298-a048-702d9665cac4",
   "metadata": {},
   "source": [
    "# Entrenamiento, Validacion y Prueba"
   ]
  },
  {
   "cell_type": "markdown",
   "id": "6853fada-9f6d-4b49-bc16-ceac41715432",
   "metadata": {},
   "source": [
    "Hasta aqui trabajamos con los datos separados en dos tablas. Una de entrenamiento que la caja negra puede usar para entrenarse y otra de Prueba que la caja negra nunca debe ver para asi poder evaluar su desempeño y cuantificar su error de prediccion.\n",
    "\n",
    "Ahora las distintas cajas negras tiene una serie de parametros los cuales podemos ajustar para mejorar sus predicciones y evitar el **Overfitting** y **Underfitting**. Para ajustar estos parametros de la caja negra dividiremos nuestra tabla de entrenamiento en dos: Entrenamiento y Validacion\n",
    "\n",
    "Es importante notar que la tabla de Prueba queda siempre separada y nunca debe ser utilizada durante el Entrenamiento como muestra la figura a continuacion:"
   ]
  },
  {
   "cell_type": "markdown",
   "id": "d55c8c44-1de3-4e26-9af3-4709a424cc07",
   "metadata": {},
   "source": [
    "![Entrenamiento y Validacion](img/train_val.png)"
   ]
  },
  {
   "cell_type": "markdown",
   "id": "999abde7-1472-4f9a-ba53-1c7a7e33b25d",
   "metadata": {},
   "source": [
    "Ahora utilizaremos la tabla de validacion como antes utilizabamos la de prueba, con esta tabla de validacion calcularemos el error e iremos modificando los parametros de la caja negra para obtener el menor error posible en nuestra tabla de validacion."
   ]
  },
  {
   "cell_type": "markdown",
   "id": "1d64248d-ff7b-4380-9c84-ef3fe0fe2eef",
   "metadata": {},
   "source": [
    "## Validacion Cruzada (Cross Validation)\n",
    "\n",
    "La validacion cruzada consiste en separar la tabla de entrenamiento en varias partes como muestra la figura, en este caso hemos elegido separarla en 5:"
   ]
  },
  {
   "cell_type": "markdown",
   "id": "5af91405-1f74-4a06-a8aa-aefd237ac11b",
   "metadata": {},
   "source": [
    "![Validacion Cruzada](img/cross_val.png)"
   ]
  },
  {
   "cell_type": "markdown",
   "id": "e3d282e4-9e13-4384-88d7-4e20ca17f116",
   "metadata": {},
   "source": [
    "Luego de esto podemos hacer el mismo proceso que hemos hecho antes pero tomando 4 partes para el entrenamiento y 1 para la validacion entonces podremos repetir el proceso cinco veces eligiendo una vez cada una para validacion y sacar un promedio del error de las cinco veces."
   ]
  },
  {
   "cell_type": "markdown",
   "id": "33c4ab10-5e5c-487b-9c50-ffcf50c22f72",
   "metadata": {},
   "source": [
    "# Fin: [Volver al contenido del curso](https://www.freecodingtour.com/cursos/espanol/datascience/datascience.html)"
   ]
  }
 ],
 "metadata": {
  "kernelspec": {
   "display_name": "Python 3 (ipykernel)",
   "language": "python",
   "name": "python3"
  },
  "language_info": {
   "codemirror_mode": {
    "name": "ipython",
    "version": 3
   },
   "file_extension": ".py",
   "mimetype": "text/x-python",
   "name": "python",
   "nbconvert_exporter": "python",
   "pygments_lexer": "ipython3",
   "version": "3.9.7"
  }
 },
 "nbformat": 4,
 "nbformat_minor": 5
}
