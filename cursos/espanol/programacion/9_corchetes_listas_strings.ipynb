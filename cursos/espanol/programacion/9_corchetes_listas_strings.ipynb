{
 "cells": [
  {
   "cell_type": "markdown",
   "id": "2337c58b-6789-4466-a435-1c9c8aec707e",
   "metadata": {},
   "source": [
    "# Partir listas y strings (usando slicing [])"
   ]
  },
  {
   "cell_type": "markdown",
   "id": "917c12ea-b7aa-47f4-900c-9fa00f5ea53d",
   "metadata": {},
   "source": [
    "Como ya vimos los corchetes [] nos permiten obtener un elemento especifico de una lista. Ahora veremos que ademas tambien nos permiten obtener una parte de la lista e incluso invertirla. Veamos como funciona:\n",
    "\n",
    "El operador de corchetes [] puede tener adentro:\n",
    "1. un numero entero, ejemplo: **mi_lista[2]**\n",
    "2. dos numeros enteros serapados por dos puntos, ejemplo: **mi_lista[2:5]**\n",
    "3. tres numeros enteros serapados por dos puntos, ejemplo: **mi_lista[2:7:2]**\n",
    "\n",
    "Todo esto funciona tanto para listas como para strings. Veamos ahora el resultado de cada uno y luego los explicaremos. Para ello trabajaremos siempre con las siguientes dos variables:"
   ]
  },
  {
   "cell_type": "code",
   "execution_count": null,
   "id": "effcbb19-83bf-4376-b72c-0d979b3c5b5a",
   "metadata": {},
   "outputs": [],
   "source": [
    "mi_lista = [10,20,30,40,50,60,70,80,90]\n",
    "mi_frase = \"El elefante se balanceaba\""
   ]
  },
  {
   "cell_type": "markdown",
   "id": "70f0391d-2c73-4b14-a97c-0388b78a27de",
   "metadata": {
    "tags": []
   },
   "source": [
    "## El operador de corchetes [] con 1 numero entero:"
   ]
  },
  {
   "cell_type": "code",
   "execution_count": null,
   "id": "a7984125-9e2d-4740-a2ad-329045b75c95",
   "metadata": {},
   "outputs": [],
   "source": [
    "mi_lista[2]"
   ]
  },
  {
   "cell_type": "markdown",
   "id": "b258486a-346b-4ff8-be61-eb687311ac6d",
   "metadata": {},
   "source": [
    "Como ya vimos cuando ponemos un solo numero entero obtendremos el valor del elemento que esta en esa posicion. \n",
    "\n",
    "Tambien podemos utilizar un numero negativo y obtendremos el valor del elemento en la posicion indicada pero empezando a contar desde el final, ejemplo:"
   ]
  },
  {
   "cell_type": "code",
   "execution_count": null,
   "id": "0e9194f6-af4c-48e0-bb16-3e9e321eff0c",
   "metadata": {},
   "outputs": [],
   "source": [
    "mi_lista[-1]"
   ]
  },
  {
   "cell_type": "markdown",
   "id": "1b27c594-4bbd-4247-b08c-06c5c6cb0774",
   "metadata": {},
   "source": [
    "Aqui al usar -1 obtengo el ultimo valor de la lista."
   ]
  },
  {
   "cell_type": "markdown",
   "id": "c6defd83-2702-449a-aa4a-8a68cf59425f",
   "metadata": {
    "tags": []
   },
   "source": [
    "### Ejercicio 1:\n",
    "\n",
    "Usar el operador de corchetes y la funcion print() para mostrar el numero en la posicion 3 de **mi_lista** (empezando a contar desde cero) e inmediatamente mostrar el numero en la posicion -2, es decir la anteultima."
   ]
  },
  {
   "cell_type": "code",
   "execution_count": null,
   "id": "8cf7478d-af29-48ea-ac1b-5d9bce91764e",
   "metadata": {},
   "outputs": [],
   "source": [
    "mi_lista = [10,20,30,40,50,60,70,80,90]\n",
    "# Escribir aqui la solucion\n",
    "\n"
   ]
  },
  {
   "cell_type": "code",
   "execution_count": null,
   "id": "7be0b7bc-bb91-4d76-82e6-a0dfbafd316d",
   "metadata": {},
   "outputs": [],
   "source": [
    "#@title Solucion Ejercicio 1 {display-mode:\"form\"}\n",
    "\n",
    "print(mi_lista[3])\n",
    "print(mi_lista[-2])"
   ]
  },
  {
   "cell_type": "markdown",
   "id": "357af84f-3856-4a1a-9197-73acc82ca7bf",
   "metadata": {},
   "source": [
    "Ahora veamos que funciona de la misma forma con strings (variable de texto)"
   ]
  },
  {
   "cell_type": "markdown",
   "id": "3363331f-0415-470b-839b-170da9424a3b",
   "metadata": {
    "tags": []
   },
   "source": [
    "### Ejercicio 2:\n",
    "\n",
    "Usar el operador de corchetes y la funcion print() para mostrar la letra en la posicion 3 de **mi_frase** (empezando a contar desde cero) e inmediatamente mostrar la letra en la posicion -2, es decir la anteultima."
   ]
  },
  {
   "cell_type": "code",
   "execution_count": null,
   "id": "4a1b6478-e9b3-40d6-ba69-ffca4c108af3",
   "metadata": {},
   "outputs": [],
   "source": [
    "mi_frase = \"El elefante se balanceaba\"\n",
    "# Escribir aqui la solucion\n",
    "\n"
   ]
  },
  {
   "cell_type": "code",
   "execution_count": null,
   "id": "a457f4de-5384-4078-9316-9816cb87bbbc",
   "metadata": {},
   "outputs": [],
   "source": [
    "#@title Solucion Ejercicio 2 {display-mode:\"form\"}\n",
    "\n",
    "print(mi_frase[3])\n",
    "print(mi_frase[-2])"
   ]
  },
  {
   "cell_type": "markdown",
   "id": "4886a85a-7698-4087-ae30-c97d242197be",
   "metadata": {},
   "source": [
    "## El operador de corchetes [] con 2 numeros enteros:\n",
    "\n",
    "Si utilizamos dos numeros enteros dentro del corchete obtendremos un pedazo de la lista original. El primer numero del corchete significa la posicion donde comienza esa parte y el segundo numero significa la posicion donde termina pero la posicion del segundo numero no se incluye. \n",
    "\n",
    "El patron es **mi_lista[ comienzo : final ]** \n",
    "\n",
    "Veamos:"
   ]
  },
  {
   "cell_type": "code",
   "execution_count": null,
   "id": "861e87bc-fdb7-4a10-bce7-1a8b92730224",
   "metadata": {},
   "outputs": [],
   "source": [
    "mi_lista = [10,20,30,40,50,60,70,80,90]"
   ]
  },
  {
   "cell_type": "code",
   "execution_count": null,
   "id": "e97dbf5c-49bd-4eab-8d60-e8f33069b74d",
   "metadata": {},
   "outputs": [],
   "source": [
    "mi_lista[2:5]"
   ]
  },
  {
   "cell_type": "markdown",
   "id": "7cd8d5fc-0506-4b85-adfc-b62fc4abf7c5",
   "metadata": {},
   "source": [
    "obtengo una lista con los valores de las posiciones 2, 3 y 4"
   ]
  },
  {
   "cell_type": "code",
   "execution_count": null,
   "id": "82e877ed-a67f-4f27-9967-fc6c5d464bed",
   "metadata": {},
   "outputs": [],
   "source": [
    "mi_lista[0:2]"
   ]
  },
  {
   "cell_type": "markdown",
   "id": "3839b231-e963-4d77-9148-a7bb7ed63f9c",
   "metadata": {},
   "source": [
    "obtengo una lista con los valores de las posiciones 0 y 1"
   ]
  },
  {
   "cell_type": "code",
   "execution_count": null,
   "id": "11af2f18-4e0b-4760-9296-abcedf512693",
   "metadata": {},
   "outputs": [],
   "source": [
    "mi_lista[4:-1] # tambien puedo usar numeros negativos"
   ]
  },
  {
   "cell_type": "markdown",
   "id": "6f641225-8b26-4ee8-86ec-d0291d903530",
   "metadata": {},
   "source": [
    "obtengo una lista con los valores de las posiciones 4, 5, 6 y 7"
   ]
  },
  {
   "cell_type": "markdown",
   "id": "38b8b2f8-b9f3-475e-a56c-c01badd3a792",
   "metadata": {},
   "source": [
    "Si omito el primer numero dentro del corchete se toma el inicio como el primer elemento y si omito el segundo se toma como final el ultimo elemento:"
   ]
  },
  {
   "cell_type": "code",
   "execution_count": null,
   "id": "6352c7bf-1560-432e-b9f9-9877909d80d2",
   "metadata": {},
   "outputs": [],
   "source": [
    "mi_lista[:5]"
   ]
  },
  {
   "cell_type": "code",
   "execution_count": null,
   "id": "8a370bff-8120-451d-9544-abf255e58773",
   "metadata": {},
   "outputs": [],
   "source": [
    "mi_lista[6:]"
   ]
  },
  {
   "cell_type": "markdown",
   "id": "cb4a9fcf-dfff-4443-aaf4-ad453ec2b9a4",
   "metadata": {},
   "source": [
    "### Ejercicio 3:\n",
    "\n",
    "Usar el operador de corchetes y la funcion print() para mostrar los tres primeros valores de **mi_lista** e inmediatamente mostrar los ultimos dos valores."
   ]
  },
  {
   "cell_type": "code",
   "execution_count": null,
   "id": "c0e23eca-a941-4610-8b5a-9b6e318817e1",
   "metadata": {},
   "outputs": [],
   "source": [
    "mi_lista = [10,20,30,40,50,60,70,80,90]\n",
    "# Escribir aqui la solucion\n",
    "\n"
   ]
  },
  {
   "cell_type": "code",
   "execution_count": null,
   "id": "a3fa2ffb-2e05-448a-bffa-b988fc87326a",
   "metadata": {},
   "outputs": [],
   "source": [
    "#@title Solucion Ejercicio 3 {display-mode:\"form\"}\n",
    "\n",
    "print(mi_lista[0:3])\n",
    "print(mi_lista[-3:])"
   ]
  },
  {
   "cell_type": "markdown",
   "id": "378b9d0d-07d7-4edd-918d-4a52eb1c82ef",
   "metadata": {},
   "source": [
    "Ahora veamos como funciona de igual forma con strings:"
   ]
  },
  {
   "cell_type": "markdown",
   "id": "a2ebbad7-fdcb-4fbf-89a1-7c9d365b0ab1",
   "metadata": {},
   "source": [
    "### Ejercicio 4:\n",
    "\n",
    "Usar el operador de corchetes y la funcion print() para mostrar las letras de las posiciones 3 a la 10 de **mi_frase** e inmediatamente mostrar las letras de las ultimas 10 posiciones"
   ]
  },
  {
   "cell_type": "code",
   "execution_count": null,
   "id": "c576cfdb-a601-429d-b21b-6e06dd9fd5e6",
   "metadata": {},
   "outputs": [],
   "source": [
    "mi_frase = \"El elefante se balanceaba\"\n",
    "# Escribir aqui la solucion\n",
    "\n"
   ]
  },
  {
   "cell_type": "code",
   "execution_count": null,
   "id": "06a19e06-d169-49c7-87e0-59486b58e6cd",
   "metadata": {},
   "outputs": [],
   "source": [
    "#@title Solucion Ejercicio 4 {display-mode:\"form\"}\n",
    "\n",
    "print(mi_frase[3:11]) # recordar que para que la posicion 10 se muestre debo poner 11\n",
    "print(mi_frase[-10:])"
   ]
  },
  {
   "cell_type": "markdown",
   "id": "fd272630-a252-41e7-84c9-b97f31e82111",
   "metadata": {},
   "source": [
    "## El operador de corchetes [] con 3 numeros enteros:\n",
    "\n",
    "Si utilizamos tres numeros enteros dentro del corchete obtendremos un pedazo de la lista original. El primer numero del corchete significa la posicion donde comienza esa parte y el segundo numero significa la posicion donde termina pero la posicion del segundo numero no se incluye. Y el tercer numero entero es el incremento entre posicion y posicion, cuando no poniamos este tercer numero el incremento siempre era de 1 en 1.\n",
    "\n",
    "El patron es **mi_lista[ comienzo : final : incremento ]** \n",
    "\n",
    "Veamos:"
   ]
  },
  {
   "cell_type": "code",
   "execution_count": null,
   "id": "2ed9daf9-0c83-4002-b11d-32aeddade45f",
   "metadata": {},
   "outputs": [],
   "source": [
    "mi_lista = [10,20,30,40,50,60,70,80,90]"
   ]
  },
  {
   "cell_type": "code",
   "execution_count": null,
   "id": "dd9ee24e-077c-4f04-bc08-b5a6a78e1a2d",
   "metadata": {},
   "outputs": [],
   "source": [
    "mi_lista[1:8:2] # el incremento es de 2"
   ]
  },
  {
   "cell_type": "markdown",
   "id": "7cd2e3e4-fdf0-441f-9789-12456970fafb",
   "metadata": {},
   "source": [
    "obtengo una lista con los valores de las posiciones 1, 3, 5 y 7"
   ]
  },
  {
   "cell_type": "code",
   "execution_count": null,
   "id": "5696b597-18bc-4de6-8db8-72f38259caf7",
   "metadata": {},
   "outputs": [],
   "source": [
    "mi_lista[0:10:4] # el incremento es de 4"
   ]
  },
  {
   "cell_type": "markdown",
   "id": "de45f557-e423-4613-8eb2-ce4db8969a57",
   "metadata": {},
   "source": [
    "obtengo una lista con los valores de las posiciones 0, 4 y 8"
   ]
  },
  {
   "cell_type": "markdown",
   "id": "2cfb5949-fd5d-4483-bfba-df62cbf3fe16",
   "metadata": {},
   "source": [
    "Si utilizo un numero negativo en el incremento entonces decremento y el valor inicial debe ser mayor que el final:"
   ]
  },
  {
   "cell_type": "code",
   "execution_count": null,
   "id": "54d4cccc-c56f-41af-889f-cb10585010d8",
   "metadata": {},
   "outputs": [],
   "source": [
    "mi_lista[5:0:-1]"
   ]
  },
  {
   "cell_type": "markdown",
   "id": "a97afa74-dc5b-436f-9c4b-b09ee21f6fd8",
   "metadata": {},
   "source": [
    "Si quiero que decremente hasta el primer elemento debo omitir el segundo valor:"
   ]
  },
  {
   "cell_type": "code",
   "execution_count": null,
   "id": "45710d16-8baf-4f11-a519-e932b76109a8",
   "metadata": {},
   "outputs": [],
   "source": [
    "mi_lista[5::-1]"
   ]
  },
  {
   "cell_type": "markdown",
   "id": "59f1ba08-19ac-40f4-ba08-da07b82d5cb4",
   "metadata": {},
   "source": [
    "Y si quiero invertir la lista debo escribir:"
   ]
  },
  {
   "cell_type": "code",
   "execution_count": null,
   "id": "2da5a880-207f-4024-8b74-e4ad2a351664",
   "metadata": {},
   "outputs": [],
   "source": [
    "mi_lista[::-1]"
   ]
  },
  {
   "cell_type": "markdown",
   "id": "120f9f91-654b-45c2-a68c-c2c31dc9e171",
   "metadata": {},
   "source": [
    "### Ejercicio 5:\n",
    "\n",
    "Usar el operador de corchetes y la funcion print() para mostrar los valores de las posiciones impares de **mi_lista** e inmediatamente mostrar los ultimos cinco valores de la lista invertidos."
   ]
  },
  {
   "cell_type": "code",
   "execution_count": null,
   "id": "b344ee01-e7e2-4587-bac8-b30d6f6d5e4d",
   "metadata": {},
   "outputs": [],
   "source": [
    "mi_lista = [10,20,30,40,50,60,70,80,90]\n",
    "# Escribir aqui la solucion\n",
    "\n"
   ]
  },
  {
   "cell_type": "code",
   "execution_count": null,
   "id": "352501ac-eb90-466c-b664-24b1fb3c41d8",
   "metadata": {},
   "outputs": [],
   "source": [
    "#@title Solucion Ejercicio 5 {display-mode:\"form\"}\n",
    "\n",
    "print(mi_lista[1::2])\n",
    "print(mi_lista[:-5:-1])"
   ]
  },
  {
   "cell_type": "markdown",
   "id": "df051485-c2b1-4e12-b4c7-3c997a2b6840",
   "metadata": {},
   "source": [
    "### Ejercicio 6:\n",
    "\n",
    "Usar el operador de corchetes y la funcion print() para mostrar las letras de las posiciones pares de **mi_frase** e inmediatamente mostrar la frase invertida"
   ]
  },
  {
   "cell_type": "code",
   "execution_count": null,
   "id": "ec1911b9-59c2-455a-9bdf-a1cb282f4955",
   "metadata": {},
   "outputs": [],
   "source": [
    "mi_frase = \"El elefante se balanceaba\"\n",
    "# Escribir aqui la solucion\n",
    "\n"
   ]
  },
  {
   "cell_type": "code",
   "execution_count": null,
   "id": "39c3be93-c502-428a-8ea7-1415fb0e1787",
   "metadata": {},
   "outputs": [],
   "source": [
    "#@title Solucion Ejercicio 6 {display-mode:\"form\"}\n",
    "\n",
    "print(mi_frase[::2]) # recordar que para que la posicion 10 se muestre debo poner 11\n",
    "print(mi_frase[::-1])"
   ]
  },
  {
   "cell_type": "markdown",
   "id": "8d37938d-2ba8-4469-852d-f7b087a678a4",
   "metadata": {},
   "source": [
    "## Importante:\n",
    "\n",
    "El operador de corchetes [] siempre me genera una nueva lista y no modifica la original. Veamos:"
   ]
  },
  {
   "cell_type": "code",
   "execution_count": null,
   "id": "d8024169-4595-47ee-9b2e-385fde6f2745",
   "metadata": {},
   "outputs": [],
   "source": [
    "mi_lista = [10,20,30,40,50,60,70,80,90]\n",
    "nueva_lista = mi_lista[2:6] # puedo guardar la nueva lista generada en una nueva variable"
   ]
  },
  {
   "cell_type": "code",
   "execution_count": null,
   "id": "1e7054a5-52ab-4243-b382-9258d9c82573",
   "metadata": {},
   "outputs": [],
   "source": [
    "print(mi_lista) # la lista original no se modifica"
   ]
  },
  {
   "cell_type": "code",
   "execution_count": null,
   "id": "ba59ec4f-bbb1-4634-8534-0329bf89f36e",
   "metadata": {},
   "outputs": [],
   "source": [
    "print(nueva_lista) # la nueva lista"
   ]
  },
  {
   "cell_type": "markdown",
   "id": "d16f41a1-d8c0-4e28-a4a1-c95cbcf372c1",
   "metadata": {},
   "source": [
    "## Multiplicacion de una lista por un entero\n",
    "\n",
    "Al multiplicar una lista por un entero se repiten los valores de la lista tantas veces como indique el numero entero. Veamos:"
   ]
  },
  {
   "cell_type": "code",
   "execution_count": null,
   "id": "995d713a-5059-4f9a-8adf-2c54ce278222",
   "metadata": {},
   "outputs": [],
   "source": [
    "[5] * 4 # genero una lista con cuatro cincos"
   ]
  },
  {
   "cell_type": "code",
   "execution_count": null,
   "id": "b670826c-2734-46c4-a179-31d30e599839",
   "metadata": {},
   "outputs": [],
   "source": [
    "[5,6] * 3 # genero una lista que tiene los valores 5,6 tres veces"
   ]
  },
  {
   "cell_type": "markdown",
   "id": "1e007077-0727-4842-ab8a-48f890cd5257",
   "metadata": {},
   "source": [
    "### Ejercicio 7:\n",
    "\n",
    "Crear una variable x que contenga una lista con 20 ceros. Usar print() para mostrar su contenido."
   ]
  },
  {
   "cell_type": "code",
   "execution_count": null,
   "id": "9ee607e0-849e-4a8b-ac77-982dab29bfdd",
   "metadata": {},
   "outputs": [],
   "source": [
    "# Escribir aqui la solucion\n",
    "\n"
   ]
  },
  {
   "cell_type": "code",
   "execution_count": null,
   "id": "c0366d21-a28e-4510-b019-4dbdbf171aed",
   "metadata": {},
   "outputs": [],
   "source": [
    "#@title Solucion Ejercicio 7 {display-mode:\"form\"}\n",
    "\n",
    "x = [0] * 20\n",
    "print(x)"
   ]
  },
  {
   "cell_type": "markdown",
   "id": "86569886-0a35-4f43-90f9-0e6de538574b",
   "metadata": {},
   "source": [
    "Con los strings sucede algo similar:"
   ]
  },
  {
   "cell_type": "code",
   "execution_count": null,
   "id": "a57ab85e-e66c-4c9c-abfa-46c0aa62ddb1",
   "metadata": {},
   "outputs": [],
   "source": [
    "\"x\" * 4 # genero una string con cuatro letras x"
   ]
  },
  {
   "cell_type": "code",
   "execution_count": null,
   "id": "8ca1b5d9-9695-4e84-9b68-0b9061a5f27e",
   "metadata": {},
   "outputs": [],
   "source": [
    "\"Hola\" * 3 # genero una string que tiene tres veces la palabra Hola"
   ]
  },
  {
   "cell_type": "markdown",
   "id": "02817f65-7bf6-4ce8-99a2-70f872bbdd59",
   "metadata": {},
   "source": [
    "# Fin: [Volver al contenido del curso](https://www.freecodingtour.com/cursos/espanol/programacion/programacion.html)"
   ]
  }
 ],
 "metadata": {
  "kernelspec": {
   "display_name": "Python 3 (ipykernel)",
   "language": "python",
   "name": "python3"
  },
  "language_info": {
   "codemirror_mode": {
    "name": "ipython",
    "version": 3
   },
   "file_extension": ".py",
   "mimetype": "text/x-python",
   "name": "python",
   "nbconvert_exporter": "python",
   "pygments_lexer": "ipython3",
   "version": "3.9.7"
  }
 },
 "nbformat": 4,
 "nbformat_minor": 5
}
