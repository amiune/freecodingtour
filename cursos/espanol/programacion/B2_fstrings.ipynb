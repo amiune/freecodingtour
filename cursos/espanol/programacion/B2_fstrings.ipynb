{
 "cells": [
  {
   "cell_type": "markdown",
   "id": "6d3f2f61-f6f4-4df5-a58d-585a284c1cf8",
   "metadata": {},
   "source": [
    "# fstrings\n",
    "\n",
    "Una necesidad muy comun es querer crear una string que contenga texto mezclado con valores de distintas variables. Utilizando una f adelante de un string podemos hacer esto de manera muy simple:"
   ]
  },
  {
   "cell_type": "code",
   "execution_count": 1,
   "id": "3d92f8c2-b590-4344-b058-7c1f193bdba5",
   "metadata": {},
   "outputs": [
    {
     "name": "stdout",
     "output_type": "stream",
     "text": [
      "Alicia tiene 29 años\n"
     ]
    }
   ],
   "source": [
    "name = 'Alicia'\n",
    "age = 29\n",
    "\n",
    "a = f'{name} tiene {age} años'\n",
    "print(a)"
   ]
  },
  {
   "cell_type": "markdown",
   "id": "5ab66f75-6df0-40bf-9cfe-e524c329843b",
   "metadata": {},
   "source": [
    "## Multilinea"
   ]
  },
  {
   "cell_type": "code",
   "execution_count": 3,
   "id": "31184b5b-8ad0-4fcf-8063-078f1ad47274",
   "metadata": {},
   "outputs": [
    {
     "name": "stdout",
     "output_type": "stream",
     "text": [
      "Nombre: Alicia\n",
      "Edad: 29\n",
      "Ocupacion: Cientifica de datos\n"
     ]
    }
   ],
   "source": [
    "name = 'Alicia'\n",
    "age = 29\n",
    "occupation = 'Cientifica de datos'\n",
    "\n",
    "msg = (\n",
    "    f'Nombre: {name}\\n'\n",
    "    f'Edad: {age}\\n'\n",
    "    f'Ocupacion: {occupation}'\n",
    ")\n",
    "\n",
    "print(msg)"
   ]
  },
  {
   "cell_type": "markdown",
   "id": "ef5d79da-9a04-4d24-b9e1-ddabd0bf4d6d",
   "metadata": {},
   "source": [
    "## Caracteres de escape\n",
    "\n",
    "Como mostrar llaves y comillas"
   ]
  },
  {
   "cell_type": "code",
   "execution_count": 4,
   "id": "fcc0d612-1acb-46cb-a2a3-30856e87925f",
   "metadata": {},
   "outputs": [
    {
     "name": "stdout",
     "output_type": "stream",
     "text": [
      "Python usa { } para evaluar variables en f-strings\n",
      "Esto es 'genial'\n"
     ]
    }
   ],
   "source": [
    "print(f'Python usa {{ }} para evaluar variables en f-strings')\n",
    "print(f'Esto es \\'genial\\'')"
   ]
  },
  {
   "cell_type": "markdown",
   "id": "c37aac53-f5db-405b-b054-f019e1a9e9dd",
   "metadata": {},
   "source": [
    "## Numeros enteros y float"
   ]
  },
  {
   "cell_type": "code",
   "execution_count": 7,
   "id": "85b063bf-54cc-424e-aaf4-ff9f19af94ef",
   "metadata": {},
   "outputs": [
    {
     "name": "stdout",
     "output_type": "stream",
     "text": [
      "       4.8\n",
      "004.8\n"
     ]
    }
   ],
   "source": [
    "val = 4.8\n",
    "print(f'{val:10}')\n",
    "print(f'{val:05}')"
   ]
  },
  {
   "cell_type": "code",
   "execution_count": 8,
   "id": "cf3609fa-85a1-4149-8c66-a5198a01f01f",
   "metadata": {},
   "outputs": [
    {
     "name": "stdout",
     "output_type": "stream",
     "text": [
      "00100\n",
      "4.8**\n",
      "..4.8\n",
      ".4.8.\n"
     ]
    }
   ],
   "source": [
    "val2 = 100\n",
    "print(f'{val2:05}')\n",
    "print(f'{val:*<5}')\n",
    "print(f'{val:.>5}')\n",
    "print(f'{val:.^5}')"
   ]
  },
  {
   "cell_type": "code",
   "execution_count": 9,
   "id": "ee6036bb-067d-4d68-b69e-8a663862e046",
   "metadata": {},
   "outputs": [
    {
     "name": "stdout",
     "output_type": "stream",
     "text": [
      "Capitulo del libro................6\n"
     ]
    }
   ],
   "source": [
    "val1 = \"Capitulo del libro\"\n",
    "val2 = 6\n",
    "print(f'{val1:.<30}{val2:.>5}')"
   ]
  },
  {
   "cell_type": "markdown",
   "id": "d763f582-6217-431c-a648-2781c856c339",
   "metadata": {},
   "source": [
    "## Numeros con decimales (float)"
   ]
  },
  {
   "cell_type": "code",
   "execution_count": 6,
   "id": "99d70a89-2bc2-4d83-aeb7-b01ebcab870f",
   "metadata": {},
   "outputs": [
    {
     "name": "stdout",
     "output_type": "stream",
     "text": [
      "0.14285714285714285\n",
      "0.14\n",
      "              14.29%\n",
      "                0.14%\n"
     ]
    }
   ],
   "source": [
    "val = 1/7\n",
    "\n",
    "#f'{value:{width}.{precision}}'\n",
    "print(f'{val}')\n",
    "print(f'{val:.2}')\n",
    "print(f'{val:20.2%}')\n",
    "print(f'{val:20.2}%')"
   ]
  },
  {
   "cell_type": "markdown",
   "id": "32add1ed-9ee5-4746-be51-d475d5d8545c",
   "metadata": {},
   "source": [
    "## Fecha y hora"
   ]
  },
  {
   "cell_type": "code",
   "execution_count": 11,
   "id": "213dbf7f-0355-49a5-af97-122bbc8d9cdc",
   "metadata": {},
   "outputs": [
    {
     "name": "stdout",
     "output_type": "stream",
     "text": [
      "2023-07-25 10:22\n",
      "Tuesday\n",
      "Tue\n",
      "July\n",
      "206\n",
      "2\n"
     ]
    }
   ],
   "source": [
    "import datetime\n",
    "\n",
    "now = datetime.datetime.now()\n",
    "\n",
    "print(f'{now:%Y-%m-%d %H:%M}')\n",
    "print(f'{now:%A}')\n",
    "print(f'{now:%a}')\n",
    "print(f'{now:%B}')\n",
    "print(f'{now:%j}')\n",
    "print(f'{now:%w}')"
   ]
  },
  {
   "cell_type": "markdown",
   "id": "c35e6b83-fb0b-477d-a15f-c9bea5fce42f",
   "metadata": {},
   "source": [
    "## Tipos de notacion numerica"
   ]
  },
  {
   "cell_type": "code",
   "execution_count": 10,
   "id": "4ddd039e-8492-46ec-a51e-53d8b9423ca6",
   "metadata": {},
   "outputs": [
    {
     "name": "stdout",
     "output_type": "stream",
     "text": [
      "10\n",
      "10\n",
      "20\n",
      "10000\n",
      "1.600000e+01\n"
     ]
    }
   ],
   "source": [
    "val = 16\n",
    "\n",
    "# hexadecimal en minusculas\n",
    "print(f'{val:x}')\n",
    "# hexadecimal en mayusculas\n",
    "print(f'{val:X}')\n",
    "# octal\n",
    "print(f'{val:o}')\n",
    "# binaria\n",
    "print(f'{val:b}')\n",
    "# cientifica\n",
    "print(f'{val:e}')"
   ]
  },
  {
   "cell_type": "markdown",
   "id": "11b3ef8c-12a8-4f37-85a4-bfb0af63ce29",
   "metadata": {},
   "source": [
    "# Fin: [Volver al contenido del curso](https://www.freecodingtour.com/cursos/espanol/programacion/programacion.html)"
   ]
  }
 ],
 "metadata": {
  "kernelspec": {
   "display_name": "Python 3 (ipykernel)",
   "language": "python",
   "name": "python3"
  },
  "language_info": {
   "codemirror_mode": {
    "name": "ipython",
    "version": 3
   },
   "file_extension": ".py",
   "mimetype": "text/x-python",
   "name": "python",
   "nbconvert_exporter": "python",
   "pygments_lexer": "ipython3",
   "version": "3.9.7"
  }
 },
 "nbformat": 4,
 "nbformat_minor": 5
}
