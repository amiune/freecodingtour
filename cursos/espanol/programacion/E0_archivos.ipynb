{
 "cells": [
  {
   "cell_type": "markdown",
   "id": "dc0afd59-b5ef-46a9-b3a1-124fc31d1140",
   "metadata": {},
   "source": [
    "# Text Files (ficheros o archivos de texto)\n",
    "\n",
    "Aqui veremos como crear, leer y escribir ficheros de texto"
   ]
  },
  {
   "cell_type": "markdown",
   "id": "ea435f66-131f-4e96-b8eb-96517411db11",
   "metadata": {},
   "source": [
    "## Crear y Escribir\n",
    "\n",
    "El siguiente codigo crea un archivo y escribe lineas de texto en el. Si el archivo ya existia lo elimina y crea uno nuevo."
   ]
  },
  {
   "cell_type": "code",
   "execution_count": null,
   "id": "1349f28d-c5aa-4076-90d5-b4708145bc25",
   "metadata": {},
   "outputs": [],
   "source": [
    "f = open(\"articulos_vendidos.txt\",'w')\n",
    "f.write(\"papaya,3,$6\\n\")\n",
    "f.write(\"limon,5,$4\\n\")\n",
    "f.write(\"banana,6,$7\\n\") \n",
    "f.close()"
   ]
  },
  {
   "cell_type": "markdown",
   "id": "011f8a6b-a348-4558-8681-f561ceb5eda8",
   "metadata": {},
   "source": [
    "## Abrir y Leer un archivo"
   ]
  },
  {
   "cell_type": "markdown",
   "id": "c7656aaa-1f5a-4f75-ba85-3e114a75b2d2",
   "metadata": {},
   "source": [
    "#### Abrir y leer todo"
   ]
  },
  {
   "cell_type": "code",
   "execution_count": null,
   "id": "a2bba848-044d-468a-9479-066b4e57d631",
   "metadata": {},
   "outputs": [],
   "source": [
    "f = open(\"articulos_vendidos.txt\",'r')\n",
    "print(f.read())\n",
    "f.close()"
   ]
  },
  {
   "cell_type": "markdown",
   "id": "1ba35e2e-d049-453b-96b1-4c85d901f79a",
   "metadata": {},
   "source": [
    "Es recomendado utilizar la palabra **with** para asegurarnos que el fichero siempre se cerrara. Usando with no hace falta utilizar .close() al terminar de usar el archivo"
   ]
  },
  {
   "cell_type": "code",
   "execution_count": null,
   "id": "3069d01a-c5c1-4d0c-b63f-d903babd67a7",
   "metadata": {},
   "outputs": [],
   "source": [
    "with open(\"articulos_vendidos.txt\",'r') as f:\n",
    "    todo_el_texto = f.read()\n",
    "    print(todo_el_texto)"
   ]
  },
  {
   "cell_type": "markdown",
   "id": "a403403c-4b2d-4821-9df1-49f588460877",
   "metadata": {},
   "source": [
    "#### Abrir y obtener una lista de cada renglon del archivo"
   ]
  },
  {
   "cell_type": "code",
   "execution_count": null,
   "id": "3eb0959a-df40-4b9a-965b-2aed6638b008",
   "metadata": {},
   "outputs": [],
   "source": [
    "with open(\"articulos_vendidos.txt\",'r') as f:\n",
    "    lineas = f.readlines()\n",
    "    print(lineas)"
   ]
  },
  {
   "cell_type": "markdown",
   "id": "669b32ab-c0d2-4777-821f-602d43a39909",
   "metadata": {},
   "source": [
    "#### Abrir y obtener una lista de cada renglon del archivo sin el caracter \\n"
   ]
  },
  {
   "cell_type": "code",
   "execution_count": null,
   "id": "6993b952-e306-406d-accd-14c3c075f603",
   "metadata": {},
   "outputs": [],
   "source": [
    "with open(\"articulos_vendidos.txt\",'r') as f:\n",
    "    lineas = f.read().splitlines()\n",
    "    print(lineas)"
   ]
  },
  {
   "cell_type": "markdown",
   "id": "bfb3fd56-8440-4661-a2ee-7c3f6b82b20c",
   "metadata": {},
   "source": [
    "#### Abrir y leer linea a linea con un for"
   ]
  },
  {
   "cell_type": "code",
   "execution_count": null,
   "id": "5201aea6-0673-43dd-b9ed-652a574bacd8",
   "metadata": {},
   "outputs": [],
   "source": [
    "with open(\"articulos_vendidos.txt\",'r') as f:\n",
    "    for linea in f:\n",
    "        print(linea)"
   ]
  },
  {
   "cell_type": "markdown",
   "id": "d8a6a377-3234-4c5c-8f1c-407264f030b6",
   "metadata": {},
   "source": [
    "## Abrir y agregar al final (append)"
   ]
  },
  {
   "cell_type": "code",
   "execution_count": null,
   "id": "2d4608ab-86b4-4757-b46a-6f9a187a561a",
   "metadata": {},
   "outputs": [],
   "source": [
    "with open(\"articulos_vendidos.txt\",'a') as f:\n",
    "    f.write(\"mango,4,$7\\n\")\n",
    "    f.write(\"sandia,1,$8\\n\")"
   ]
  },
  {
   "cell_type": "code",
   "execution_count": null,
   "id": "3756abab-47ca-45ee-9703-7998554ee93b",
   "metadata": {},
   "outputs": [],
   "source": [
    "with open(\"articulos_vendidos.txt\",'r') as f:\n",
    "    print(f.read())"
   ]
  },
  {
   "cell_type": "markdown",
   "id": "7409c5c7-628d-4abb-bc6f-f3c792c87450",
   "metadata": {},
   "source": [
    "## Como subir y descargar archivos de Google Colab"
   ]
  },
  {
   "cell_type": "markdown",
   "id": "d9538559-53c3-47f0-9ede-a2b8c58d0039",
   "metadata": {},
   "source": [
    "#### Subir (Upload)"
   ]
  },
  {
   "cell_type": "code",
   "execution_count": null,
   "id": "e2565c81-a541-4a30-abf3-539124a3538f",
   "metadata": {},
   "outputs": [],
   "source": [
    "from google.colab import files\n",
    "uploaded = files.upload()"
   ]
  },
  {
   "cell_type": "markdown",
   "id": "5f6b483d-f706-4d29-a1b8-b2e1b5f88882",
   "metadata": {},
   "source": [
    "Podemos ejecutar un comando en la maquina virtual de google colab con el simbolo !\n",
    "\n",
    "!ls"
   ]
  },
  {
   "cell_type": "code",
   "execution_count": null,
   "id": "41cd4bbb-4921-4bee-a8e8-6bbad4bfe8f1",
   "metadata": {},
   "outputs": [],
   "source": [
    "!ls"
   ]
  },
  {
   "cell_type": "markdown",
   "id": "b645eae4-2735-438c-ac66-4ba69390b07d",
   "metadata": {},
   "source": [
    "#### Descargar (Download)"
   ]
  },
  {
   "cell_type": "code",
   "execution_count": null,
   "id": "4eed7966-a3d9-48d8-8ed1-86dccae7fa50",
   "metadata": {},
   "outputs": [],
   "source": [
    "from google.colab import files\n",
    "files.download('archivo_en_colab.txt')"
   ]
  },
  {
   "cell_type": "markdown",
   "id": "e04d1748-ddd0-46a7-938e-f4a631a01d4e",
   "metadata": {},
   "source": [
    "#### Cargar desde Google Drive"
   ]
  },
  {
   "cell_type": "code",
   "execution_count": null,
   "id": "16102596-c83b-4cad-9e44-26611028bf54",
   "metadata": {},
   "outputs": [],
   "source": [
    "from google.colab import drive\n",
    "drive.mount('/content/drive')"
   ]
  },
  {
   "cell_type": "code",
   "execution_count": null,
   "id": "59bf84bc-04ea-42f3-8087-d6b9a6bf6714",
   "metadata": {},
   "outputs": [],
   "source": [
    "with open(\"drive/MyDrive/my_file.txt\",'r') as f:\n",
    "    print(f.read())"
   ]
  },
  {
   "cell_type": "markdown",
   "id": "8f78d02b-f13c-4a70-a65c-bed3599de8b9",
   "metadata": {},
   "source": [
    "# Fin: [Volver al contenido del curso](https://www.freecodingtour.com/cursos/espanol/programacion/programacion.html)"
   ]
  }
 ],
 "metadata": {
  "kernelspec": {
   "display_name": "Python 3 (ipykernel)",
   "language": "python",
   "name": "python3"
  },
  "language_info": {
   "codemirror_mode": {
    "name": "ipython",
    "version": 3
   },
   "file_extension": ".py",
   "mimetype": "text/x-python",
   "name": "python",
   "nbconvert_exporter": "python",
   "pygments_lexer": "ipython3",
   "version": "3.9.7"
  }
 },
 "nbformat": 4,
 "nbformat_minor": 5
}
