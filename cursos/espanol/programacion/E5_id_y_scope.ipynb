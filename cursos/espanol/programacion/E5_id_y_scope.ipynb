{
 "cells": [
  {
   "cell_type": "markdown",
   "id": "91b638b0-9210-4f77-8050-2a92193bb65a",
   "metadata": {},
   "source": [
    "# Copia de variables y referencias"
   ]
  },
  {
   "cell_type": "markdown",
   "id": "cf475add-b606-46a6-b925-fba1e36ac926",
   "metadata": {},
   "source": [
    "Las variables que contienen un solo valor siempre se copian, es decir, cuando realizo la siguiente operacion:"
   ]
  },
  {
   "cell_type": "code",
   "execution_count": 11,
   "id": "a19d3821-3730-4a88-a2e9-0e0ef230ae62",
   "metadata": {},
   "outputs": [
    {
     "name": "stdout",
     "output_type": "stream",
     "text": [
      "5\n",
      "5\n"
     ]
    }
   ],
   "source": [
    "variable = 5\n",
    "otra_variable = variable\n",
    "print(variable)\n",
    "print(otra_variable)"
   ]
  },
  {
   "cell_type": "markdown",
   "id": "2ed5b8d5-a955-4646-9cef-d0f7b48199c7",
   "metadata": {},
   "source": [
    "variable y otra_variable son dos variables distintas que estan en dos lugares distintos en la memoria de la computadora. Por lo tanto si modifico una de ellas la otra no se modificara:"
   ]
  },
  {
   "cell_type": "code",
   "execution_count": 13,
   "id": "658eee92-c3ef-46cd-aff6-94ecc1016de4",
   "metadata": {},
   "outputs": [
    {
     "name": "stdout",
     "output_type": "stream",
     "text": [
      "5\n",
      "6\n"
     ]
    }
   ],
   "source": [
    "otra_variable = 6\n",
    "print(variable)\n",
    "print(otra_variable)"
   ]
  },
  {
   "cell_type": "markdown",
   "id": "c8fdb22c-014b-4999-9e56-4423d095620d",
   "metadata": {},
   "source": [
    "Para saber que los valores de dos variables estan guardados en diferentes lugares de la memoria podemos utilizar la funcion id()"
   ]
  },
  {
   "cell_type": "code",
   "execution_count": 14,
   "id": "e882c808-a2a1-4f42-8d9a-cdb669a4af6e",
   "metadata": {},
   "outputs": [
    {
     "name": "stdout",
     "output_type": "stream",
     "text": [
      "140627027356080\n",
      "140627027356112\n"
     ]
    }
   ],
   "source": [
    "print(id(variable))\n",
    "print(id(otra_variable))"
   ]
  },
  {
   "cell_type": "markdown",
   "id": "f253734f-417b-4b62-b9e5-151518545c9f",
   "metadata": {},
   "source": [
    "Las variables que contienen mas de un valor, como las listas y otras estructuras de datos, solo se copia la referencia a menos que se explicite que se quiere hacer una copia de todos los datos que contiene dicha lista o estructura de datos."
   ]
  },
  {
   "cell_type": "code",
   "execution_count": 3,
   "id": "b33c2020-983d-402d-89fa-4cfa49cfc27f",
   "metadata": {},
   "outputs": [
    {
     "name": "stdout",
     "output_type": "stream",
     "text": [
      "[1, 2, 3]\n",
      "[1, 2, 3]\n"
     ]
    }
   ],
   "source": [
    "lista = [1,2,3]\n",
    "otra_lista = lista\n",
    "print(lista)\n",
    "print(otra_lista)"
   ]
  },
  {
   "cell_type": "markdown",
   "id": "6a09a10c-3baa-4e79-ae16-b055d1f617e1",
   "metadata": {},
   "source": [
    "Entonces si modificamos un valor de los que estan dentro de lista cuando mostremos los valores de ambas seguiran siendo los mismos porque ambas variables hacen referencia a la misma lista: "
   ]
  },
  {
   "cell_type": "code",
   "execution_count": 15,
   "id": "2b391e02-3045-436c-ad15-c8feaff99004",
   "metadata": {},
   "outputs": [
    {
     "name": "stdout",
     "output_type": "stream",
     "text": [
      "[1, 500, 3]\n",
      "[1, 500, 3]\n"
     ]
    }
   ],
   "source": [
    "otra_lista[1] = 500\n",
    "print(lista)\n",
    "print(otra_lista)"
   ]
  },
  {
   "cell_type": "markdown",
   "id": "79593e0a-7282-424e-9e69-bf52ffe1fd95",
   "metadata": {},
   "source": [
    "Distinto seria hacer lo siguiente:"
   ]
  },
  {
   "cell_type": "code",
   "execution_count": 16,
   "id": "8b5110f9-3ed7-4a14-863b-c9e3d67235da",
   "metadata": {},
   "outputs": [
    {
     "name": "stdout",
     "output_type": "stream",
     "text": [
      "[1, 2, 3]\n",
      "[1, 2, 3]\n"
     ]
    }
   ],
   "source": [
    "lista = [1,2,3]\n",
    "otra_lista = lista\n",
    "print(lista)\n",
    "print(otra_lista)"
   ]
  },
  {
   "cell_type": "code",
   "execution_count": 17,
   "id": "e133988a-0877-4c82-b9d8-2dca001067c8",
   "metadata": {},
   "outputs": [
    {
     "name": "stdout",
     "output_type": "stream",
     "text": [
      "[1, 2, 3]\n",
      "[6, 7, 8]\n"
     ]
    }
   ],
   "source": [
    "otra_lista = [6,7,8]\n",
    "print(lista)\n",
    "print(otra_lista)"
   ]
  },
  {
   "cell_type": "markdown",
   "id": "b022e058-a4e2-4d8d-a4aa-cdfdf244058d",
   "metadata": {},
   "source": [
    "En este caso cada variable apunta a una lista completamente distinta.\n",
    "\n",
    "Finalmente si queremos copiar toda una lista entera a una nueva variable podemos utilizar un for o la funcion copy()"
   ]
  },
  {
   "cell_type": "code",
   "execution_count": 18,
   "id": "8a8946b7-6d1f-41ce-8f6d-22311f129b32",
   "metadata": {},
   "outputs": [
    {
     "name": "stdout",
     "output_type": "stream",
     "text": [
      "[1, 2, 3]\n",
      "[1, 2, 3]\n"
     ]
    }
   ],
   "source": [
    "lista = [1,2,3]\n",
    "otra_lista = lista.copy()\n",
    "print(lista)\n",
    "print(otra_lista)"
   ]
  },
  {
   "cell_type": "markdown",
   "id": "9b2c069e-af8a-4e81-b5db-6f96f43fc1e2",
   "metadata": {},
   "source": [
    "En este caso hemos copiado todos los valores de lista a otra_lista pero son dos listas completamente distintas:"
   ]
  },
  {
   "cell_type": "code",
   "execution_count": 19,
   "id": "c13a5dfc-3cee-4a17-b1a2-8bf63e2b0075",
   "metadata": {},
   "outputs": [
    {
     "name": "stdout",
     "output_type": "stream",
     "text": [
      "[1, 2, 3]\n",
      "[1, 500, 3]\n"
     ]
    }
   ],
   "source": [
    "otra_lista[1] = 500\n",
    "print(lista)\n",
    "print(otra_lista)"
   ]
  },
  {
   "cell_type": "markdown",
   "id": "659b2836-076f-4ed5-9bac-9681d0191aec",
   "metadata": {},
   "source": [
    "Cuando utilizamos funciones sucede lo mismo:"
   ]
  },
  {
   "cell_type": "code",
   "execution_count": 1,
   "id": "6e8e064b-84dd-4def-96fe-13ac3ff91db0",
   "metadata": {},
   "outputs": [
    {
     "name": "stdout",
     "output_type": "stream",
     "text": [
      "Dentro de la función: 11\n",
      "Fuera de la función: 10\n"
     ]
    }
   ],
   "source": [
    "def modificar_valor(copia):\n",
    "    copia = copia + 1\n",
    "    print(\"Dentro de la función:\", copia)\n",
    "\n",
    "valor = 10\n",
    "modificar_valor(valor)\n",
    "print(\"Fuera de la función:\", valor)"
   ]
  },
  {
   "cell_type": "code",
   "execution_count": 2,
   "id": "7924adc2-477d-4845-b48d-4d23452c78ce",
   "metadata": {},
   "outputs": [
    {
     "name": "stdout",
     "output_type": "stream",
     "text": [
      "Dentro de la función: [1, 2, 3, 4]\n",
      "Fuera de la función: [1, 2, 3, 4]\n"
     ]
    }
   ],
   "source": [
    "def modificar_lista(lista):\n",
    "    lista.append(4)\n",
    "    print(\"Dentro de la función:\", lista)\n",
    "\n",
    "mi_lista = [1, 2, 3]\n",
    "modificar_lista(mi_lista)\n",
    "print(\"Fuera de la función:\", mi_lista)"
   ]
  },
  {
   "cell_type": "markdown",
   "id": "cf5aca4b-a0a4-4417-9414-7693112ecd18",
   "metadata": {},
   "source": [
    "Otro ejemplo mas:"
   ]
  },
  {
   "cell_type": "code",
   "execution_count": 20,
   "id": "2cb7d496-26b8-43d3-bb39-e62f476ce090",
   "metadata": {},
   "outputs": [
    {
     "name": "stdout",
     "output_type": "stream",
     "text": [
      "2\n",
      "[1, 2, 3]\n",
      "3\n",
      "[1, 2, 5]\n",
      "2\n",
      "[1, 2, 5]\n"
     ]
    }
   ],
   "source": [
    "a = [1,2,3]\n",
    "b = 2\n",
    "print(b) #2\n",
    "print(a) #[1,2,3]\n",
    "\n",
    "def mifuncion(lista, variable):\n",
    "    variable = 3\n",
    "    print(variable) #3\n",
    "    lista[2] = 5\n",
    "    print(lista) #[1,2,5]\n",
    "\n",
    "mifuncion(a,b)\n",
    "print(b) #2\n",
    "print(a) #[1,2,5]"
   ]
  },
  {
   "cell_type": "markdown",
   "id": "8aa69427-2cdd-46f2-b3f9-76f206ef5af5",
   "metadata": {},
   "source": [
    "# Alcance de las variable (Scope)\n",
    "\n",
    "Si yo declaro una variable dentro de una funcion que tiene el mismo valor que una que esta fuera de la funcion seran dos variables distintas"
   ]
  },
  {
   "cell_type": "code",
   "execution_count": 22,
   "id": "e9a9f180-3cab-4e9d-badd-f64b6f3db451",
   "metadata": {},
   "outputs": [
    {
     "name": "stdout",
     "output_type": "stream",
     "text": [
      "3\n",
      "4\n",
      "5\n",
      "3\n"
     ]
    }
   ],
   "source": [
    "soy_de_afuera = 3\n",
    "print(soy_de_afuera) #3\n",
    "\n",
    "def mi_funcion():\n",
    "    soy_de_adentro = 4\n",
    "    print(soy_de_adentro) #4\n",
    "    soy_de_afuera = 5 #mentira no es de afuera, es de adentro\n",
    "    print(soy_de_afuera) #5\n",
    "\n",
    "mi_funcion()\n",
    "\n",
    "print(soy_de_afuera) #3"
   ]
  },
  {
   "cell_type": "markdown",
   "id": "edbf0ed5-5f83-4396-b813-c248b23d3c5c",
   "metadata": {},
   "source": [
    "Si no la declaro puedo usarla pero no asignarle valores"
   ]
  },
  {
   "cell_type": "code",
   "execution_count": 23,
   "id": "b208f4e1-8f0e-4491-bae8-7cdefc636029",
   "metadata": {},
   "outputs": [
    {
     "name": "stdout",
     "output_type": "stream",
     "text": [
      "3\n",
      "3\n",
      "3\n"
     ]
    }
   ],
   "source": [
    "soy_de_afuera = 3\n",
    "print(soy_de_afuera) #3\n",
    "\n",
    "def mi_funcion():\n",
    "    x = soy_de_afuera\n",
    "    print(x)\n",
    "\n",
    "mi_funcion()\n",
    "\n",
    "print(soy_de_afuera) #3"
   ]
  },
  {
   "cell_type": "markdown",
   "id": "9532a3e9-4e8d-4d04-af90-f0b51958a720",
   "metadata": {},
   "source": [
    "Existe la palabra **global** para poder modificar dentro de una funcion una variable de afuera de la funcion pero es recomendado no usar esto nunca ya que no es necesario"
   ]
  },
  {
   "cell_type": "markdown",
   "id": "f8ef1d07-3882-4a79-ab01-898f81520c4c",
   "metadata": {},
   "source": [
    "# Fin: [Volver al contenido del curso](https://www.freecodingtour.com/cursos/espanol/programacion/programacion.html)"
   ]
  }
 ],
 "metadata": {
  "kernelspec": {
   "display_name": "Python 3 (ipykernel)",
   "language": "python",
   "name": "python3"
  },
  "language_info": {
   "codemirror_mode": {
    "name": "ipython",
    "version": 3
   },
   "file_extension": ".py",
   "mimetype": "text/x-python",
   "name": "python",
   "nbconvert_exporter": "python",
   "pygments_lexer": "ipython3",
   "version": "3.9.7"
  }
 },
 "nbformat": 4,
 "nbformat_minor": 5
}
