{
 "cells": [
  {
   "cell_type": "markdown",
   "id": "8fa7c2be-673a-4bd5-8866-ac64e21b746d",
   "metadata": {},
   "source": [
    "Imprimir números:\n",
    "\n",
    "Enunciado: Escribe un programa que imprima todos los números desde 1 hasta un número N.\n",
    "\n",
    "Ejemplo:\n",
    "\n",
    "Entrada: N = 5\n",
    "\n",
    "Salida: 1, 2, 3, 4, 5"
   ]
  },
  {
   "cell_type": "code",
   "execution_count": 120,
   "id": "f20ef468-b3d3-4596-9ce3-709d8d9aa82c",
   "metadata": {},
   "outputs": [
    {
     "name": "stdin",
     "output_type": "stream",
     "text": [
      "Ingresa un numero: 11\n"
     ]
    },
    {
     "name": "stdout",
     "output_type": "stream",
     "text": [
      "Hola\n",
      "Hola\n",
      "Hola\n",
      "Hola\n",
      "Hola\n",
      "Hola\n",
      "Hola\n",
      "Hola\n",
      "Hola\n",
      "Hola\n",
      "Hola\n",
      "[1, 2, 3, 4, 5, 6, 7, 8, 9, 10, 11]\n"
     ]
    }
   ],
   "source": [
    "def imprimir_numeros(n):\n",
    "    lista = []\n",
    "    for i in range(1,n+1):\n",
    "        lista.append(i)\n",
    "    return lista\n",
    "\n",
    "N = int(input(\"Ingresa un numero:\"))\n",
    "resultado = imprimir_numeros(N)\n",
    "print(resultado)"
   ]
  },
  {
   "cell_type": "markdown",
   "id": "104ead3d-32f0-4a7a-8fc2-d82bd6879917",
   "metadata": {},
   "source": [
    "Suma de números pares:\n",
    "\n",
    "Enunciado: Escribe un programa que calcule la suma de todos los números pares en un rango del 1 al N.\n",
    "\n",
    "Ejemplo:\n",
    "\n",
    "Entrada: N = 10\n",
    "\n",
    "Salida: Suma de números pares en el rango 1 al 10: 30"
   ]
  },
  {
   "cell_type": "code",
   "execution_count": null,
   "id": "7f9f9781-8592-4f7c-9fe4-830289715d49",
   "metadata": {},
   "outputs": [],
   "source": []
  },
  {
   "cell_type": "markdown",
   "id": "8fc667db-cf74-4847-b422-ee06c6b5d3ac",
   "metadata": {},
   "source": [
    "Tabla de multiplicar:\n",
    "\n",
    "Enunciado: Escribe un programa que genere la tabla de multiplicar de un número N.\n",
    "\n",
    "Ejemplo:\n",
    "\n",
    "Entrada: N = 7\n",
    "\n",
    "Salida: Tabla de multiplicar del 7:\n",
    "```python\n",
    "7 x 1 = 7\n",
    "7 x 2 = 14\n",
    "7 x 3 = 21\n",
    "...\n",
    "7 x 10 = 70\n",
    "```"
   ]
  },
  {
   "cell_type": "code",
   "execution_count": null,
   "id": "ddb76d62-ed65-42e0-84ac-39442d9b5c4a",
   "metadata": {},
   "outputs": [],
   "source": []
  },
  {
   "cell_type": "markdown",
   "id": "be9f844a-0d8e-4ec0-9f53-57f4c32efca3",
   "metadata": {},
   "source": [
    "Recorrer una lista:\n",
    "\n",
    "Enunciado: Escribe un programa que recorra una lista de números e imprima cada elemento.\n",
    "\n",
    "Ejemplo:\n",
    "\n",
    "Entrada: Lista = [3, 8, 1, 5, 9]\n",
    "\n",
    "Salida: Elementos de la lista: 3, 8, 1, 5, 9"
   ]
  },
  {
   "cell_type": "code",
   "execution_count": null,
   "id": "5b291243-f530-457c-bcfd-d366ecd31532",
   "metadata": {},
   "outputs": [],
   "source": []
  },
  {
   "cell_type": "markdown",
   "id": "d6c94404-dec7-4eee-ae52-3156427a97d5",
   "metadata": {},
   "source": [
    "Imprimir patrones:\n",
    "\n",
    "Enunciado: Escribe un programa que imprima un patrón de asteriscos de altura N.\n",
    "\n",
    "Ejemplo:\n",
    "\n",
    "Entrada: N = 4\n",
    "\n",
    "Salida: Patrón:\n",
    "```\n",
    "*\n",
    "**\n",
    "***\n",
    "****\n",
    "```"
   ]
  },
  {
   "cell_type": "code",
   "execution_count": null,
   "id": "782ad426-2b2d-4fd1-9881-c456136399cd",
   "metadata": {},
   "outputs": [],
   "source": []
  },
  {
   "cell_type": "markdown",
   "id": "55fb3abb-8d5d-4db1-a943-9b000f4eebb2",
   "metadata": {},
   "source": [
    "Contar letras:\n",
    "\n",
    "Enunciado: Escribe un programa que cuente cuántas veces aparece una letra específica en una cadena de texto.\n",
    "\n",
    "Ejemplo:\n",
    "\n",
    "Entrada: Texto = \"programación\", Letra = \"a\"\n",
    "\n",
    "Salida: La letra \"a\" aparece 3 veces en la palabra \"programación\"."
   ]
  },
  {
   "cell_type": "code",
   "execution_count": null,
   "id": "dc00bf64-6f68-461f-854d-bcd8732c545c",
   "metadata": {},
   "outputs": [],
   "source": []
  },
  {
   "cell_type": "markdown",
   "id": "24789dd8-e6dd-4981-a9d3-707f4c07940e",
   "metadata": {},
   "source": [
    "Factorial:\n",
    "\n",
    "Enunciado: Escribe un programa que calcule el factorial de un número N.\n",
    "\n",
    "Ejemplo:\n",
    "\n",
    "Entrada: N = 5\n",
    "\n",
    "Salida: El factorial de 5 es 120"
   ]
  },
  {
   "cell_type": "code",
   "execution_count": null,
   "id": "fbabe72e-a56b-4cdf-9ae2-ba4306eb771a",
   "metadata": {},
   "outputs": [],
   "source": []
  },
  {
   "cell_type": "markdown",
   "id": "461d3b3a-f7ec-4bb4-8217-56664139c028",
   "metadata": {},
   "source": [
    "Números primos:\n",
    "\n",
    "Enunciado: Escribe un programa que imprima todos los números primos en un rango del 1 al N.\n",
    "\n",
    "Ejemplo:\n",
    "\n",
    "Entrada: N = 20\n",
    "\n",
    "Salida: Números primos en el rango 1 al 20: 2, 3, 5, 7, 11, 13, 17, 19\n"
   ]
  },
  {
   "cell_type": "code",
   "execution_count": null,
   "id": "2571141d-0ebd-4c58-8b31-4d9d89dddb8a",
   "metadata": {},
   "outputs": [],
   "source": []
  },
  {
   "cell_type": "markdown",
   "id": "d3ecd762-e71f-4ef7-ae6b-2fca34cb70bd",
   "metadata": {},
   "source": [
    "Recorrer una matriz:\n",
    "\n",
    "Enunciado: Escribe un programa que recorra una matriz de números e imprima cada elemento.\n",
    "\n",
    "Ejemplo:\n",
    "\n",
    "Entrada: Matriz = [[1, 2, 3], [4, 5, 6], [7, 8, 9]]\n",
    "\n",
    "Salida: Elementos de la matriz:\n",
    "```\n",
    "1 2 3\n",
    "4 5 6\n",
    "7 8 9\n",
    "```\n"
   ]
  },
  {
   "cell_type": "code",
   "execution_count": 84,
   "id": "65cb575d-c3da-4a57-a76b-419d681a6420",
   "metadata": {},
   "outputs": [
    {
     "name": "stdin",
     "output_type": "stream",
     "text": [
      "Ingrese el numero de filas: 2\n",
      "Ingrese el numero de columnas: 2\n"
     ]
    },
    {
     "name": "stdout",
     "output_type": "stream",
     "text": [
      "Ingrese el elemento de la fila 0 y la columna 0\n"
     ]
    },
    {
     "name": "stdin",
     "output_type": "stream",
     "text": [
      " 1\n"
     ]
    },
    {
     "name": "stdout",
     "output_type": "stream",
     "text": [
      "Ingrese el elemento de la fila 0 y la columna 1\n"
     ]
    },
    {
     "name": "stdin",
     "output_type": "stream",
     "text": [
      " 2\n"
     ]
    },
    {
     "name": "stdout",
     "output_type": "stream",
     "text": [
      "Ingrese el elemento de la fila 1 y la columna 0\n"
     ]
    },
    {
     "name": "stdin",
     "output_type": "stream",
     "text": [
      " 3\n"
     ]
    },
    {
     "name": "stdout",
     "output_type": "stream",
     "text": [
      "Ingrese el elemento de la fila 1 y la columna 1\n"
     ]
    },
    {
     "name": "stdin",
     "output_type": "stream",
     "text": [
      " 4\n"
     ]
    },
    {
     "name": "stdout",
     "output_type": "stream",
     "text": [
      "[['1', '2'], ['3', '4']]\n",
      "1 2 \n",
      "3 4 \n"
     ]
    }
   ],
   "source": []
  },
  {
   "cell_type": "code",
   "execution_count": 107,
   "id": "7f84c715-8a20-465a-b400-df4da4878fbf",
   "metadata": {},
   "outputs": [
    {
     "name": "stdout",
     "output_type": "stream",
     "text": [
      "10,20,30],[40,50,60],[70,80,90\n",
      "10 20 30 \n",
      "40 50 60 \n",
      "70 80 90 \n"
     ]
    }
   ],
   "source": []
  },
  {
   "cell_type": "markdown",
   "id": "e758ca00-a2ee-4211-b35b-992054789865",
   "metadata": {},
   "source": [
    "Generar una lista:\n",
    "\n",
    "Enunciado: Escribe un programa que genere una lista de números pares en un rango del 1 al N.\n",
    "\n",
    "Ejemplo:\n",
    "\n",
    "Entrada: N = 8\n",
    "\n",
    "Salida: Lista de números pares en el rango 1 al 8: [2, 4, 6, 8]"
   ]
  },
  {
   "cell_type": "code",
   "execution_count": null,
   "id": "9d03fda7-c850-4126-b85a-51ddbf87f2bf",
   "metadata": {},
   "outputs": [],
   "source": []
  },
  {
   "cell_type": "markdown",
   "id": "1bf1ae06-ddd9-4588-964c-991fc15255d3",
   "metadata": {},
   "source": [
    "Contar números pares:\n",
    "\n",
    "Enunciado: Escribe un programa que cuente y muestre todos los números pares desde 1 hasta un número N.\n",
    "\n",
    "Ejemplo:\n",
    "\n",
    "Entrada: N = 10\n",
    "\n",
    "Salida: Números pares del 1 al 10: 2, 4, 6, 8, 10"
   ]
  },
  {
   "cell_type": "code",
   "execution_count": null,
   "id": "a0a6c7cf-8999-4370-9b0c-17773d6a040e",
   "metadata": {},
   "outputs": [],
   "source": []
  },
  {
   "cell_type": "markdown",
   "id": "24a5fdf5-238e-4b7a-b6d3-1ff3cc742846",
   "metadata": {},
   "source": [
    "Suma de dígitos:\n",
    "\n",
    "Enunciado: Escribe un programa que calcule la suma de los dígitos de un número entero ingresado por el usuario.\n",
    "\n",
    "Ejemplo:\n",
    "\n",
    "Entrada: N = 12345\n",
    "\n",
    "Salida: La suma de los dígitos de 12345 es 15\n"
   ]
  },
  {
   "cell_type": "code",
   "execution_count": null,
   "id": "448d6509-536e-43a3-8ccd-96cbbeddafe9",
   "metadata": {},
   "outputs": [],
   "source": []
  },
  {
   "cell_type": "markdown",
   "id": "ec6d92ae-ccfc-44b3-b747-91d30b7150e4",
   "metadata": {},
   "source": [
    "Secuencia de Fibonacci:\n",
    "\n",
    "Enunciado: Escribe un programa que genere la secuencia de Fibonacci hasta que el valor exceda un número N ingresado por el usuario.\n",
    "\n",
    "Ejemplo:\n",
    "\n",
    "Entrada: N = 50\n",
    "\n",
    "Salida: Secuencia de Fibonacci hasta 50: 0, 1, 1, 2, 3, 5, 8, 13, 21, 34, 55"
   ]
  },
  {
   "cell_type": "code",
   "execution_count": null,
   "id": "416b729a-ad69-4aae-a12d-2eada89d5d94",
   "metadata": {},
   "outputs": [],
   "source": []
  },
  {
   "cell_type": "markdown",
   "id": "c72c4a8f-2d54-4e78-b3af-32f0fe4a2d5d",
   "metadata": {},
   "source": [
    "Conteo regresivo:\n",
    "\n",
    "Enunciado: Escribe un programa que realice un conteo regresivo desde un número N hasta 1.\n",
    "\n",
    "Ejemplo:\n",
    "\n",
    "Entrada: N = 5\n",
    "\n",
    "Salida: 5, 4, 3, 2, 1"
   ]
  },
  {
   "cell_type": "code",
   "execution_count": null,
   "id": "9bf2c0c0-c1b7-4ba6-ab89-a07b560c1610",
   "metadata": {},
   "outputs": [],
   "source": []
  },
  {
   "cell_type": "markdown",
   "id": "4245001e-bc5f-4e9a-aa18-ba3bd84a7a5f",
   "metadata": {},
   "source": [
    "Suma de impares:\n",
    "\n",
    "Enunciado: Escribe un programa que calcule la suma de todos los números impares desde 1 hasta un número N.\n",
    "\n",
    "Ejemplo:\n",
    "\n",
    "Entrada: N = 7\n",
    "\n",
    "Salida: Suma de números impares del 1 al 7: 16"
   ]
  },
  {
   "cell_type": "code",
   "execution_count": null,
   "id": "a2cdd57d-b90e-47bc-a558-298b056375e7",
   "metadata": {},
   "outputs": [],
   "source": []
  },
  {
   "cell_type": "markdown",
   "id": "f9018c37-f536-4f05-916c-6cf1303c07ba",
   "metadata": {},
   "source": [
    "Número inverso:\n",
    "\n",
    "Enunciado: Escribe un programa que tome un número N y muestre su inverso. Por ejemplo, el inverso de 123 es 321.\n",
    "\n",
    "Ejemplo:\n",
    "\n",
    "Entrada: N = 456\n",
    "\n",
    "Salida: El número inverso de 456 es 654"
   ]
  },
  {
   "cell_type": "code",
   "execution_count": null,
   "id": "695c67d9-d5b8-44cc-8a38-baa1bae1ba75",
   "metadata": {},
   "outputs": [],
   "source": []
  },
  {
   "cell_type": "markdown",
   "id": "5d573c42-c1dd-4c79-942d-28b93765bf95",
   "metadata": {},
   "source": [
    "Adivina el número (versión difícil):\n",
    "\n",
    "Enunciado: Crea un juego en el que el programa elija un número secreto entre 1 y 100, y el jugador tiene que adivinarlo. Proporciona pistas sobre si el número es mayor o menor que el intento del jugador. El juego debe continuar hasta que el jugador adivine el número.\n",
    "\n",
    "Ejemplo:\n",
    "\n",
    "Entrada/Salida: Dependerá de las conjeturas del jugador."
   ]
  },
  {
   "cell_type": "code",
   "execution_count": null,
   "id": "6ba4198d-6729-4d61-a5e0-085a08111305",
   "metadata": {},
   "outputs": [],
   "source": []
  },
  {
   "cell_type": "markdown",
   "id": "75264e0f-186a-4e5f-929c-037098cb6225",
   "metadata": {},
   "source": [
    "Contador de vocales:\n",
    "\n",
    "Enunciado: Escribe un programa que cuente y muestre la cantidad de vocales en una cadena de texto ingresada por el usuario.\n",
    "\n",
    "Ejemplo:\n",
    "\n",
    "Entrada: Texto = \"Hola, mundo\"\n",
    "\n",
    "Salida: El texto contiene 4 vocales."
   ]
  },
  {
   "cell_type": "code",
   "execution_count": null,
   "id": "b064b529-5422-4627-9966-79e2c6ef8bb8",
   "metadata": {},
   "outputs": [],
   "source": []
  },
  {
   "cell_type": "markdown",
   "id": "1c054c43-23dc-44a8-9c2c-75fa35c370a9",
   "metadata": {},
   "source": [
    "Suma de los primeros N números naturales:\n",
    "\n",
    "Enunciado: Escribe un programa que calcule la suma de los primeros N números naturales utilizando un bucle while.\n",
    "\n",
    "Ejemplo:\n",
    "    \n",
    "Entrada: N = 6\n",
    "\n",
    "Salida: La suma de los primeros 6 números naturales es 21"
   ]
  },
  {
   "cell_type": "code",
   "execution_count": null,
   "id": "afd3fe5b-680c-44f1-96b7-b0837575bba4",
   "metadata": {},
   "outputs": [],
   "source": []
  },
  {
   "cell_type": "markdown",
   "id": "bd2e0e91-1b72-40b2-a044-5f9421a2c38f",
   "metadata": {},
   "source": [
    "Mitad o suma 1:\n",
    "\n",
    "Enunciado: Escribe un programa que tome un número N y lo divida por 2 si es par le sume 1 si es impar. Continúa haciendo esto hasta que el número sea igual a 1.\n",
    "\n",
    "Ejemplo:\n",
    "\n",
    "Entrada: N = 17\n",
    "\n",
    "Salida: Secuencia: 17, 18, 9, 10, 5, 6, 3, 4, 2, 1"
   ]
  },
  {
   "cell_type": "code",
   "execution_count": null,
   "id": "86fedfd2-2588-4c59-bd4a-e5b0a1371f0e",
   "metadata": {},
   "outputs": [],
   "source": []
  },
  {
   "cell_type": "markdown",
   "id": "90e5eb96-c702-4ea7-b2ba-09ef99f7892f",
   "metadata": {},
   "source": [
    "Dibujar un rectangulo:\n",
    "\n",
    "Ejemplo:\n",
    "\n",
    "Entrada: alto = 3, ancho = 4\n",
    "\n",
    "Salida:\n",
    "\n",
    "```\n",
    "****\n",
    "****\n",
    "****\n",
    "```"
   ]
  },
  {
   "cell_type": "code",
   "execution_count": null,
   "id": "1c69e9af-7ad1-416c-bb96-8642f1e0e73f",
   "metadata": {},
   "outputs": [],
   "source": []
  },
  {
   "cell_type": "markdown",
   "id": "d9d508ba-c1bf-40f1-a5b8-2f839ddb08bb",
   "metadata": {},
   "source": [
    "Dibujar un rectangulo:\n",
    "\n",
    "Ejemplo:\n",
    "\n",
    "Entrada: alto = 3, ancho = 4\n",
    "\n",
    "Salida:\n",
    "\n",
    "```\n",
    " ----\n",
    "|    |\n",
    "|    |\n",
    "|    |\n",
    " ----\n",
    "```\n"
   ]
  },
  {
   "cell_type": "code",
   "execution_count": null,
   "id": "dfe342fd-7996-4cc5-9ec1-1342abfe14eb",
   "metadata": {},
   "outputs": [],
   "source": []
  }
 ],
 "metadata": {
  "kernelspec": {
   "display_name": "Python 3 (ipykernel)",
   "language": "python",
   "name": "python3"
  },
  "language_info": {
   "codemirror_mode": {
    "name": "ipython",
    "version": 3
   },
   "file_extension": ".py",
   "mimetype": "text/x-python",
   "name": "python",
   "nbconvert_exporter": "python",
   "pygments_lexer": "ipython3",
   "version": "3.9.7"
  }
 },
 "nbformat": 4,
 "nbformat_minor": 5
}
