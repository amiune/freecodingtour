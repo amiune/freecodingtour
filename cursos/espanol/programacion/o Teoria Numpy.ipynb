{
 "cells": [
  {
   "cell_type": "code",
   "execution_count": null,
   "id": "aa088cf6-145d-4c04-acd6-b96b48ccdf68",
   "metadata": {},
   "outputs": [],
   "source": [
    "#https://numpy.org/learn/\n",
    "#https://numpy.org/devdocs/user/absolute_beginners.html"
   ]
  },
  {
   "cell_type": "code",
   "execution_count": 15,
   "id": "a55cc6e0-6747-4eb6-8c80-7bf352f96193",
   "metadata": {},
   "outputs": [],
   "source": [
    "import numpy as np"
   ]
  },
  {
   "cell_type": "markdown",
   "id": "eed17222-67b9-4ba7-ab62-c9a259c23c5a",
   "metadata": {},
   "source": [
    "## Creacion de Arrays"
   ]
  },
  {
   "cell_type": "code",
   "execution_count": 6,
   "id": "25476bb4-357a-4606-9cc4-e756a267991b",
   "metadata": {},
   "outputs": [
    {
     "name": "stdout",
     "output_type": "stream",
     "text": [
      "<class 'numpy.ndarray'>\n",
      "[1 2 3 4 5 6]\n"
     ]
    }
   ],
   "source": [
    "a = np.array([1, 2, 3, 4, 5, 6])\n",
    "print(type(a))\n",
    "print(a)"
   ]
  },
  {
   "cell_type": "code",
   "execution_count": 5,
   "id": "cff12333-bd32-4e52-b979-7f8b2269abd2",
   "metadata": {},
   "outputs": [
    {
     "name": "stdout",
     "output_type": "stream",
     "text": [
      "[[ 1  2  3  4]\n",
      " [ 5  6  7  8]\n",
      " [ 9 10 11 12]]\n"
     ]
    }
   ],
   "source": [
    "a = np.array([[1, 2, 3, 4], [5, 6, 7, 8], [9, 10, 11, 12]])\n",
    "print(a)"
   ]
  },
  {
   "cell_type": "code",
   "execution_count": 7,
   "id": "5140c5ef-81bd-41d5-aa8d-e5b4b76f7600",
   "metadata": {},
   "outputs": [
    {
     "data": {
      "text/plain": [
       "array([0., 0.])"
      ]
     },
     "execution_count": 7,
     "metadata": {},
     "output_type": "execute_result"
    }
   ],
   "source": [
    "np.zeros(2)"
   ]
  },
  {
   "cell_type": "code",
   "execution_count": 11,
   "id": "6913201e-6650-4083-8521-e719608f624f",
   "metadata": {},
   "outputs": [
    {
     "data": {
      "text/plain": [
       "array([[0., 0., 0.],\n",
       "       [0., 0., 0.]])"
      ]
     },
     "execution_count": 11,
     "metadata": {},
     "output_type": "execute_result"
    }
   ],
   "source": [
    "np.zeros((2,3))"
   ]
  },
  {
   "cell_type": "code",
   "execution_count": 19,
   "id": "c7801606-1589-4d75-9edd-f5ac06157720",
   "metadata": {},
   "outputs": [
    {
     "data": {
      "text/plain": [
       "array([1., 1.])"
      ]
     },
     "execution_count": 19,
     "metadata": {},
     "output_type": "execute_result"
    }
   ],
   "source": [
    "np.ones(2)"
   ]
  },
  {
   "cell_type": "code",
   "execution_count": 20,
   "id": "2818e5f3-fc2c-40ad-97a5-78069a017afb",
   "metadata": {},
   "outputs": [
    {
     "data": {
      "text/plain": [
       "array([ 1.  ,  2.75,  6.  , 10.75, 17.  ])"
      ]
     },
     "execution_count": 20,
     "metadata": {},
     "output_type": "execute_result"
    }
   ],
   "source": [
    "np.empty(5) #con lo que haya en la memoria"
   ]
  },
  {
   "cell_type": "code",
   "execution_count": 21,
   "id": "aa2ca52b-b102-4b8d-ad2c-14a41d3006bc",
   "metadata": {},
   "outputs": [
    {
     "data": {
      "text/plain": [
       "array([0, 1, 2, 3])"
      ]
     },
     "execution_count": 21,
     "metadata": {},
     "output_type": "execute_result"
    }
   ],
   "source": [
    "np.arange(4) #como la funcion range"
   ]
  },
  {
   "cell_type": "code",
   "execution_count": 23,
   "id": "18c65952-583a-4bd0-bd8f-4433a4b68383",
   "metadata": {},
   "outputs": [
    {
     "data": {
      "text/plain": [
       "array([ 0. ,  2.5,  5. ,  7.5, 10. ])"
      ]
     },
     "execution_count": 23,
     "metadata": {},
     "output_type": "execute_result"
    }
   ],
   "source": [
    "np.linspace(0, 10, num=5) #del 0 al 10 cinco numeros igualmente espaciados"
   ]
  },
  {
   "cell_type": "code",
   "execution_count": 22,
   "id": "b5093469-9dae-4cd7-8c99-ecb424be4c8d",
   "metadata": {},
   "outputs": [
    {
     "data": {
      "text/plain": [
       "array([1, 1])"
      ]
     },
     "execution_count": 22,
     "metadata": {},
     "output_type": "execute_result"
    }
   ],
   "source": [
    "np.ones(2, dtype=np.int64) #elegir el tipo de dato"
   ]
  },
  {
   "cell_type": "markdown",
   "id": "2023047a-c5e8-4d17-a1fe-9d4dcc4d8d59",
   "metadata": {},
   "source": [
    "## Concatenar y agregar elementos"
   ]
  },
  {
   "cell_type": "code",
   "execution_count": 24,
   "id": "16a4656a-782d-49cd-8d20-66b6095a3860",
   "metadata": {},
   "outputs": [],
   "source": [
    "a = np.array([1, 2, 3, 4])\n",
    "b = np.array([5, 6, 7, 8])"
   ]
  },
  {
   "cell_type": "code",
   "execution_count": 25,
   "id": "3e159d50-1c7b-44a1-913a-b49bbdeb12cd",
   "metadata": {},
   "outputs": [
    {
     "data": {
      "text/plain": [
       "array([1, 2, 3, 4, 5, 6, 7, 8])"
      ]
     },
     "execution_count": 25,
     "metadata": {},
     "output_type": "execute_result"
    }
   ],
   "source": [
    "#https://numpy.org/devdocs/reference/generated/numpy.concatenate.html\n",
    "np.concatenate((a, b))"
   ]
  },
  {
   "cell_type": "code",
   "execution_count": 39,
   "id": "373afa0d-bab2-474c-afc1-ca459b650634",
   "metadata": {},
   "outputs": [],
   "source": [
    "a = np.array([[1, 2], [3, 4]])\n",
    "b = np.array([[5, 6]])"
   ]
  },
  {
   "cell_type": "code",
   "execution_count": 41,
   "id": "b3cef78c-9c1e-46cc-8cc8-280c6945fe06",
   "metadata": {},
   "outputs": [
    {
     "data": {
      "text/plain": [
       "array([[1, 2],\n",
       "       [3, 4],\n",
       "       [5, 6]])"
      ]
     },
     "execution_count": 41,
     "metadata": {},
     "output_type": "execute_result"
    }
   ],
   "source": [
    "np.concatenate((a, b), axis=0) #axis=0 : eje de las filas (o sea por columnas)"
   ]
  },
  {
   "cell_type": "code",
   "execution_count": 42,
   "id": "cac19b83-1744-4a84-9d2f-6fb56a3d715f",
   "metadata": {},
   "outputs": [
    {
     "data": {
      "text/plain": [
       "array([[1, 2, 5],\n",
       "       [3, 4, 6]])"
      ]
     },
     "execution_count": 42,
     "metadata": {},
     "output_type": "execute_result"
    }
   ],
   "source": [
    "np.concatenate((a, b.T), axis=1) #axis=1 : eje de las columnas (o sea por filas)"
   ]
  },
  {
   "cell_type": "code",
   "execution_count": 43,
   "id": "71e48703-ef1e-4200-b370-8c93bb07a55e",
   "metadata": {},
   "outputs": [
    {
     "data": {
      "text/plain": [
       "array([1, 2, 3, 4, 5, 6])"
      ]
     },
     "execution_count": 43,
     "metadata": {},
     "output_type": "execute_result"
    }
   ],
   "source": [
    "np.concatenate((a, b), axis=None) #axis=None flattens : convierte en unidimensional"
   ]
  },
  {
   "cell_type": "code",
   "execution_count": 49,
   "id": "00610417-e958-4886-9406-7ed2ac6ccdba",
   "metadata": {},
   "outputs": [
    {
     "data": {
      "text/plain": [
       "array([ 1,  2,  3,  4,  5,  6,  7,  8,  9, 10, 11])"
      ]
     },
     "execution_count": 49,
     "metadata": {},
     "output_type": "execute_result"
    }
   ],
   "source": [
    "a = np.array([[1, 2], [3, 4], [5,6]])\n",
    "b = np.array([[[7,8,9,10,11]]])\n",
    "np.concatenate((a, b), axis=None)"
   ]
  },
  {
   "cell_type": "code",
   "execution_count": 83,
   "id": "e289ba3e-8df8-413e-90e1-2d58a45a7735",
   "metadata": {},
   "outputs": [
    {
     "name": "stdout",
     "output_type": "stream",
     "text": [
      "[[1 2]\n",
      " [3 4]\n",
      " [5 6]]\n",
      "[[[ 7  8  9 10 11]]]\n",
      "[99  2  3  4  5  6  7  8  9 10 11]\n"
     ]
    }
   ],
   "source": [
    "a = np.array([[1, 2], [3, 4], [5,6]])\n",
    "b = np.array([[[7,8,9,10,11]]])\n",
    "c = np.concatenate((a, b), axis=None)\n",
    "c[0] = 99\n",
    "print(a)\n",
    "print(b)\n",
    "print(c)"
   ]
  },
  {
   "cell_type": "markdown",
   "id": "32a77776-f8f5-4baf-a090-dd835239746f",
   "metadata": {},
   "source": [
    "## Tamaño de los arrays"
   ]
  },
  {
   "cell_type": "code",
   "execution_count": 50,
   "id": "b2405d7b-1e2e-4964-b89c-2ea0329e9824",
   "metadata": {},
   "outputs": [],
   "source": [
    "array_ejemplo = np.array([[[0, 1, 2, 3],\n",
    "                           [4, 5, 6, 7]],\n",
    "\n",
    "                          [[0, 1, 2, 3],\n",
    "                           [4, 5, 6, 7]],\n",
    "\n",
    "                          [[0 ,1 ,2, 3],\n",
    "                           [4, 5, 6, 7]]])"
   ]
  },
  {
   "cell_type": "code",
   "execution_count": 52,
   "id": "022bfb2b-ca00-41ee-bbd0-bc9b6fcc801b",
   "metadata": {},
   "outputs": [
    {
     "data": {
      "text/plain": [
       "(3, 2, 4)"
      ]
     },
     "execution_count": 52,
     "metadata": {},
     "output_type": "execute_result"
    }
   ],
   "source": [
    "array_ejemplo.shape #elementos por dimension"
   ]
  },
  {
   "cell_type": "code",
   "execution_count": 51,
   "id": "97169f29-d3f1-44e5-a933-aa70eba2e337",
   "metadata": {},
   "outputs": [
    {
     "data": {
      "text/plain": [
       "3"
      ]
     },
     "execution_count": 51,
     "metadata": {},
     "output_type": "execute_result"
    }
   ],
   "source": [
    "array_ejemplo.ndim #numero de dimensiones"
   ]
  },
  {
   "cell_type": "code",
   "execution_count": 53,
   "id": "4dd3701f-5202-4b0e-a3a0-c7629ec1a83f",
   "metadata": {},
   "outputs": [
    {
     "data": {
      "text/plain": [
       "24"
      ]
     },
     "execution_count": 53,
     "metadata": {},
     "output_type": "execute_result"
    }
   ],
   "source": [
    "array_ejemplo.size #cantidad total de elementos"
   ]
  },
  {
   "cell_type": "markdown",
   "id": "eb33f768-b613-4bdc-ab38-9c16ed9cb35e",
   "metadata": {},
   "source": [
    "## Modificar la cantidad de dimensiones y elementos por dimension"
   ]
  },
  {
   "cell_type": "code",
   "execution_count": 58,
   "id": "b900b650-4d34-4069-977d-05c280508df1",
   "metadata": {},
   "outputs": [
    {
     "name": "stdout",
     "output_type": "stream",
     "text": [
      "[0 1 2 3 4 5 6 7]\n"
     ]
    }
   ],
   "source": [
    "a = np.arange(8)\n",
    "print(a)"
   ]
  },
  {
   "cell_type": "code",
   "execution_count": 59,
   "id": "de507efb-06c2-4802-b2ac-c05b86822004",
   "metadata": {},
   "outputs": [
    {
     "data": {
      "text/plain": [
       "array([[0, 1, 2, 3],\n",
       "       [4, 5, 6, 7]])"
      ]
     },
     "execution_count": 59,
     "metadata": {},
     "output_type": "execute_result"
    }
   ],
   "source": [
    "a.reshape(2,4)"
   ]
  },
  {
   "cell_type": "code",
   "execution_count": 60,
   "id": "ae7ebb1b-e0a9-4bdf-ae8d-a2ca3c5afa70",
   "metadata": {},
   "outputs": [
    {
     "data": {
      "text/plain": [
       "array([[0, 1],\n",
       "       [2, 3],\n",
       "       [4, 5],\n",
       "       [6, 7]])"
      ]
     },
     "execution_count": 60,
     "metadata": {},
     "output_type": "execute_result"
    }
   ],
   "source": [
    "a.reshape(4,2)"
   ]
  },
  {
   "cell_type": "code",
   "execution_count": 61,
   "id": "403c870f-fe17-4806-971e-98309969776c",
   "metadata": {},
   "outputs": [
    {
     "data": {
      "text/plain": [
       "array([[[0, 1],\n",
       "        [2, 3]],\n",
       "\n",
       "       [[4, 5],\n",
       "        [6, 7]]])"
      ]
     },
     "execution_count": 61,
     "metadata": {},
     "output_type": "execute_result"
    }
   ],
   "source": [
    "a.reshape(2,2,2)"
   ]
  },
  {
   "cell_type": "code",
   "execution_count": 82,
   "id": "349fcb91-9bc7-40fb-aac3-72187bba7b86",
   "metadata": {},
   "outputs": [
    {
     "name": "stdout",
     "output_type": "stream",
     "text": [
      "[99  1  2  3  4  5]\n",
      "[[99  1  2]\n",
      " [ 3  4  5]]\n"
     ]
    }
   ],
   "source": [
    "a = np.arange(6)\n",
    "b = a.reshape(2,3)\n",
    "b[0,0] = 99\n",
    "print(a)\n",
    "print(b)"
   ]
  },
  {
   "cell_type": "markdown",
   "id": "5256861f-f335-41c3-b8bf-7a622c806eb0",
   "metadata": {},
   "source": [
    "## Matriz transpuesta"
   ]
  },
  {
   "cell_type": "code",
   "execution_count": 76,
   "id": "a117db60-695c-43da-8c0e-97094c437270",
   "metadata": {},
   "outputs": [
    {
     "name": "stdout",
     "output_type": "stream",
     "text": [
      "[0 1 2 3 4 5]\n",
      "[0 1 2 3 4 5]\n"
     ]
    }
   ],
   "source": [
    "a = np.arange(6)\n",
    "print(a)\n",
    "print(a.T)"
   ]
  },
  {
   "cell_type": "code",
   "execution_count": 77,
   "id": "61fffcff-25d7-4ece-819f-ba3b4e5bf51e",
   "metadata": {},
   "outputs": [
    {
     "name": "stdout",
     "output_type": "stream",
     "text": [
      "[[0 1 2]\n",
      " [3 4 5]]\n",
      "[[0 3]\n",
      " [1 4]\n",
      " [2 5]]\n",
      "[[0 3]\n",
      " [1 4]\n",
      " [2 5]]\n"
     ]
    }
   ],
   "source": [
    "a = a.reshape(2,3)\n",
    "print(a)\n",
    "print(a.T)\n",
    "print(a.transpose())"
   ]
  },
  {
   "cell_type": "code",
   "execution_count": 81,
   "id": "171a6f29-4e8d-4593-856a-ac811c92d0e6",
   "metadata": {},
   "outputs": [
    {
     "name": "stdout",
     "output_type": "stream",
     "text": [
      "[99  1  2  3  4  5]\n",
      "[99  1  2  3  4  5]\n"
     ]
    }
   ],
   "source": [
    "a = np.arange(6)\n",
    "b = a.T\n",
    "b[0] = 99\n",
    "print(a)\n",
    "print(b)"
   ]
  },
  {
   "cell_type": "markdown",
   "id": "8e4aa3ce-8aac-42f6-884d-0d8b30fd40f4",
   "metadata": {},
   "source": [
    "## Flatten y Ravel"
   ]
  },
  {
   "cell_type": "code",
   "execution_count": 73,
   "id": "c1f09e0b-6d97-42e7-bbaa-4e187e2b00f2",
   "metadata": {},
   "outputs": [
    {
     "name": "stdout",
     "output_type": "stream",
     "text": [
      "[[ 1  2  3  4]\n",
      " [ 5  6  7  8]\n",
      " [ 9 10 11 12]]\n"
     ]
    }
   ],
   "source": [
    "a = np.array([[1 , 2, 3, 4], [5, 6, 7, 8], [9, 10, 11, 12]])\n",
    "print(a)"
   ]
  },
  {
   "cell_type": "code",
   "execution_count": 74,
   "id": "24aa0b7b-f940-47f8-ac67-0ae07954862c",
   "metadata": {},
   "outputs": [
    {
     "name": "stdout",
     "output_type": "stream",
     "text": [
      "[[ 1  2  3  4]\n",
      " [ 5  6  7  8]\n",
      " [ 9 10 11 12]]\n"
     ]
    }
   ],
   "source": [
    "a1 = a.flatten() #crea una copia del array\n",
    "a1[0] = 99\n",
    "print(a)"
   ]
  },
  {
   "cell_type": "code",
   "execution_count": 75,
   "id": "c173ffaa-12b0-4a3c-9549-24382b429fa7",
   "metadata": {},
   "outputs": [
    {
     "name": "stdout",
     "output_type": "stream",
     "text": [
      "[[98  2  3  4]\n",
      " [ 5  6  7  8]\n",
      " [ 9 10 11 12]]\n"
     ]
    }
   ],
   "source": [
    "a2 = a.ravel() #no crea una copia del array\n",
    "a2[0] = 98\n",
    "print(a)"
   ]
  },
  {
   "cell_type": "markdown",
   "id": "7b0061e3-54f1-4d25-9f36-f52aad83652e",
   "metadata": {},
   "source": [
    "## Slicing y Copy"
   ]
  },
  {
   "cell_type": "code",
   "execution_count": null,
   "id": "971f1c51-8524-4e1d-a2f6-a22eca16523d",
   "metadata": {},
   "outputs": [],
   "source": [
    "#Igual que las listas"
   ]
  },
  {
   "cell_type": "code",
   "execution_count": 85,
   "id": "3aaabb20-25de-4b9c-b4b6-51f49929dbab",
   "metadata": {},
   "outputs": [
    {
     "name": "stdout",
     "output_type": "stream",
     "text": [
      "[1 2 3 4 5 6]\n"
     ]
    }
   ],
   "source": [
    "a = np.array([1,2,3,4,5,6])\n",
    "print(a)"
   ]
  },
  {
   "cell_type": "code",
   "execution_count": 86,
   "id": "01553565-333a-4a56-878b-b9774a9fa92e",
   "metadata": {},
   "outputs": [
    {
     "data": {
      "text/plain": [
       "array([2, 3])"
      ]
     },
     "execution_count": 86,
     "metadata": {},
     "output_type": "execute_result"
    }
   ],
   "source": [
    "a[1:3]"
   ]
  },
  {
   "cell_type": "code",
   "execution_count": 87,
   "id": "9e1913b3-0e6f-402e-948d-3b5ef0735ef0",
   "metadata": {},
   "outputs": [
    {
     "data": {
      "text/plain": [
       "array([1, 2, 3])"
      ]
     },
     "execution_count": 87,
     "metadata": {},
     "output_type": "execute_result"
    }
   ],
   "source": [
    "a[:3]"
   ]
  },
  {
   "cell_type": "code",
   "execution_count": 88,
   "id": "49989126-2935-40cd-a689-bb6f3e15cebd",
   "metadata": {},
   "outputs": [
    {
     "data": {
      "text/plain": [
       "array([2, 3, 4, 5, 6])"
      ]
     },
     "execution_count": 88,
     "metadata": {},
     "output_type": "execute_result"
    }
   ],
   "source": [
    "a[1:]"
   ]
  },
  {
   "cell_type": "code",
   "execution_count": 89,
   "id": "883bd45d-0d29-41e8-9d8c-f1c25a49a4ff",
   "metadata": {},
   "outputs": [
    {
     "data": {
      "text/plain": [
       "6"
      ]
     },
     "execution_count": 89,
     "metadata": {},
     "output_type": "execute_result"
    }
   ],
   "source": [
    "a[-1]"
   ]
  },
  {
   "cell_type": "code",
   "execution_count": 90,
   "id": "326f1341-c1df-438b-96fb-595c6648d48f",
   "metadata": {},
   "outputs": [
    {
     "name": "stdout",
     "output_type": "stream",
     "text": [
      "[1 2 3 4 5 6]\n",
      "[99  3  4  5  6]\n"
     ]
    }
   ],
   "source": [
    "b = a[1:].copy()\n",
    "b[0] = 99\n",
    "print(a)\n",
    "print(b)"
   ]
  },
  {
   "cell_type": "code",
   "execution_count": 91,
   "id": "c373488a-97af-450c-bcdf-c727df822732",
   "metadata": {},
   "outputs": [
    {
     "name": "stdout",
     "output_type": "stream",
     "text": [
      "[ 1  2  3  4  5 99]\n",
      "[ 2  3  4  5 99]\n"
     ]
    }
   ],
   "source": [
    "c = a[1:]\n",
    "c[-1] = 99\n",
    "print(a)\n",
    "print(c)"
   ]
  },
  {
   "cell_type": "code",
   "execution_count": 93,
   "id": "f292ccb8-8396-418e-a3be-32868e1a847b",
   "metadata": {},
   "outputs": [
    {
     "name": "stdout",
     "output_type": "stream",
     "text": [
      "[[ 1  2  3  4]\n",
      " [ 5  6  7  8]\n",
      " [ 9 10 11 12]]\n"
     ]
    }
   ],
   "source": [
    "a = np.array([[1 , 2, 3, 4], [5, 6, 7, 8], [9, 10, 11, 12]])\n",
    "print(a)"
   ]
  },
  {
   "cell_type": "code",
   "execution_count": 94,
   "id": "66d66324-f204-4835-9c95-30f9884b1b43",
   "metadata": {},
   "outputs": [
    {
     "data": {
      "text/plain": [
       "array([[ 7,  8],\n",
       "       [11, 12]])"
      ]
     },
     "execution_count": 94,
     "metadata": {},
     "output_type": "execute_result"
    }
   ],
   "source": [
    "a[1:3,2:]"
   ]
  },
  {
   "cell_type": "markdown",
   "id": "8bc1797f-6a83-4da9-b200-e50e3958560c",
   "metadata": {},
   "source": [
    "## Apilar y dividir matrices"
   ]
  },
  {
   "cell_type": "code",
   "execution_count": 98,
   "id": "d862a2ee-b060-4e4f-a96f-f63425bcbda0",
   "metadata": {},
   "outputs": [],
   "source": [
    "a1 = np.array([[1, 1],\n",
    "               [2, 2]])\n",
    "\n",
    "a2 = np.array([[3, 3],\n",
    "               [4, 4]])"
   ]
  },
  {
   "cell_type": "code",
   "execution_count": 100,
   "id": "dfa7241c-619a-4c4b-b690-81f843e4cc48",
   "metadata": {},
   "outputs": [
    {
     "data": {
      "text/plain": [
       "array([[1, 1],\n",
       "       [2, 2],\n",
       "       [3, 3],\n",
       "       [4, 4]])"
      ]
     },
     "execution_count": 100,
     "metadata": {},
     "output_type": "execute_result"
    }
   ],
   "source": [
    "np.vstack((a1, a2)) #apilar verticalmente"
   ]
  },
  {
   "cell_type": "code",
   "execution_count": 101,
   "id": "9a14a348-2132-4624-9584-42d9144ec374",
   "metadata": {},
   "outputs": [
    {
     "data": {
      "text/plain": [
       "array([[1, 1, 3, 3],\n",
       "       [2, 2, 4, 4]])"
      ]
     },
     "execution_count": 101,
     "metadata": {},
     "output_type": "execute_result"
    }
   ],
   "source": [
    "np.hstack((a1, a2)) #apilar horizontalmente"
   ]
  },
  {
   "cell_type": "code",
   "execution_count": 109,
   "id": "32ca7eff-0628-4c29-a2ce-5f47165ced3c",
   "metadata": {},
   "outputs": [
    {
     "name": "stdout",
     "output_type": "stream",
     "text": [
      "[[ 1  2  3  4  5  6  7  8  9 10 11 12]\n",
      " [13 14 15 16 17 18 19 20 21 22 23 24]]\n"
     ]
    }
   ],
   "source": [
    "a = np.arange(1, 25).reshape(2, 12)\n",
    "print(a)"
   ]
  },
  {
   "cell_type": "code",
   "execution_count": 110,
   "id": "f11c706c-a984-4d0f-828e-c7ef674cea1a",
   "metadata": {},
   "outputs": [
    {
     "data": {
      "text/plain": [
       "[array([[ 1,  2,  3,  4],\n",
       "        [13, 14, 15, 16]]),\n",
       " array([[ 5,  6,  7,  8],\n",
       "        [17, 18, 19, 20]]),\n",
       " array([[ 9, 10, 11, 12],\n",
       "        [21, 22, 23, 24]])]"
      ]
     },
     "execution_count": 110,
     "metadata": {},
     "output_type": "execute_result"
    }
   ],
   "source": [
    "np.hsplit(a, 3) #dividir en tres iguales"
   ]
  },
  {
   "cell_type": "code",
   "execution_count": 116,
   "id": "695636b3-959a-47f6-a609-68d2ed3a4477",
   "metadata": {},
   "outputs": [
    {
     "data": {
      "text/plain": [
       "[array([[ 1,  2],\n",
       "        [13, 14]]),\n",
       " array([[ 3,  4,  5,  6,  7,  8,  9, 10],\n",
       "        [15, 16, 17, 18, 19, 20, 21, 22]]),\n",
       " array([[11, 12],\n",
       "        [23, 24]])]"
      ]
     },
     "execution_count": 116,
     "metadata": {},
     "output_type": "execute_result"
    }
   ],
   "source": [
    "np.hsplit(a, (2, 10)) #especifico en que columnas quiero dividir"
   ]
  },
  {
   "cell_type": "markdown",
   "id": "0ee741e4-a6e4-4131-87a4-e61344cb37ac",
   "metadata": {},
   "source": [
    "## Condicionales en los indices"
   ]
  },
  {
   "cell_type": "code",
   "execution_count": 17,
   "id": "d2aaf406-d95c-4254-89cb-fe9ff671e38c",
   "metadata": {},
   "outputs": [
    {
     "data": {
      "text/plain": [
       "array([[ 1,  2,  3,  4],\n",
       "       [ 5,  6,  7,  8],\n",
       "       [ 9, 10, 11, 12]])"
      ]
     },
     "execution_count": 17,
     "metadata": {},
     "output_type": "execute_result"
    }
   ],
   "source": [
    "a = np.array([[1 , 2, 3, 4], [5, 6, 7, 8], [9, 10, 11, 12]])\n",
    "a"
   ]
  },
  {
   "cell_type": "code",
   "execution_count": 19,
   "id": "26450a99-712b-4479-be58-0f3be01874a2",
   "metadata": {},
   "outputs": [
    {
     "name": "stdout",
     "output_type": "stream",
     "text": [
      "[1 2 3 4]\n"
     ]
    }
   ],
   "source": [
    "print(a[a < 5])"
   ]
  },
  {
   "cell_type": "code",
   "execution_count": 20,
   "id": "c295645c-63e1-4563-a9a5-be72665fbe64",
   "metadata": {},
   "outputs": [
    {
     "name": "stdout",
     "output_type": "stream",
     "text": [
      "[[False False False False]\n",
      " [ True  True  True  True]\n",
      " [ True  True  True  True]]\n"
     ]
    }
   ],
   "source": [
    "print(a >= 5)"
   ]
  },
  {
   "cell_type": "code",
   "execution_count": 21,
   "id": "b98dcbf0-0f75-442d-98cd-9b4244bdf814",
   "metadata": {},
   "outputs": [
    {
     "data": {
      "text/plain": [
       "array([ 5,  6,  7,  8,  9, 10, 11, 12])"
      ]
     },
     "execution_count": 21,
     "metadata": {},
     "output_type": "execute_result"
    }
   ],
   "source": [
    "a[[[False,False,False,False],\n",
    " [ True,True,True,True],\n",
    " [ True,True,True,True]]]"
   ]
  },
  {
   "cell_type": "code",
   "execution_count": 160,
   "id": "cd7a0436-c21e-4dc7-bb59-191724ab08b8",
   "metadata": {},
   "outputs": [
    {
     "data": {
      "text/plain": [
       "array([ 3,  4,  5,  6,  7,  8,  9, 10])"
      ]
     },
     "execution_count": 160,
     "metadata": {},
     "output_type": "execute_result"
    }
   ],
   "source": [
    "a[(a > 2) & (a < 11)]"
   ]
  },
  {
   "cell_type": "code",
   "execution_count": 162,
   "id": "2b59f031-f66e-4370-a427-660a01f94807",
   "metadata": {},
   "outputs": [
    {
     "data": {
      "text/plain": [
       "(array([0, 0, 0, 0]), array([0, 1, 2, 3]))"
      ]
     },
     "execution_count": 162,
     "metadata": {},
     "output_type": "execute_result"
    }
   ],
   "source": [
    "np.where(a < 5) #devuelve los indices (en este caso una tupla (fila,columna))"
   ]
  },
  {
   "cell_type": "markdown",
   "id": "9118e8ec-edb9-40a5-b017-63094965fd67",
   "metadata": {},
   "source": [
    "## Funciones utiles"
   ]
  },
  {
   "cell_type": "code",
   "execution_count": 140,
   "id": "51ef344d-0b45-458c-a7ed-be9d77a2dc37",
   "metadata": {},
   "outputs": [
    {
     "name": "stdout",
     "output_type": "stream",
     "text": [
      "[10  9  8  7  6  5  4  3  2  1]\n",
      "[[10  9  8  7  6]\n",
      " [ 5  4  3  2  1]]\n"
     ]
    }
   ],
   "source": [
    "a = np.array([10,9,8,7,6,5,4,3,2,1])\n",
    "b = np.array([[10,9,8,7,6],[5,4,3,2,1]])\n",
    "print(a)\n",
    "print(b)"
   ]
  },
  {
   "cell_type": "code",
   "execution_count": 141,
   "id": "69894b82-f1d4-41a3-8f8b-48a391e814a9",
   "metadata": {},
   "outputs": [
    {
     "data": {
      "text/plain": [
       "1"
      ]
     },
     "execution_count": 141,
     "metadata": {},
     "output_type": "execute_result"
    }
   ],
   "source": [
    "np.min(a)"
   ]
  },
  {
   "cell_type": "code",
   "execution_count": 142,
   "id": "2a31b323-b43a-4081-9be7-966b5cc88e98",
   "metadata": {},
   "outputs": [
    {
     "data": {
      "text/plain": [
       "1"
      ]
     },
     "execution_count": 142,
     "metadata": {},
     "output_type": "execute_result"
    }
   ],
   "source": [
    "np.min(b)"
   ]
  },
  {
   "cell_type": "code",
   "execution_count": 143,
   "id": "d1db4e97-af17-4cac-b958-94219e073ba8",
   "metadata": {},
   "outputs": [
    {
     "data": {
      "text/plain": [
       "array([5, 4, 3, 2, 1])"
      ]
     },
     "execution_count": 143,
     "metadata": {},
     "output_type": "execute_result"
    }
   ],
   "source": [
    "np.min(b,axis=0)"
   ]
  },
  {
   "cell_type": "code",
   "execution_count": 144,
   "id": "80661d5c-5f4e-4db0-b975-a703e1e14f69",
   "metadata": {},
   "outputs": [
    {
     "data": {
      "text/plain": [
       "array([6, 1])"
      ]
     },
     "execution_count": 144,
     "metadata": {},
     "output_type": "execute_result"
    }
   ],
   "source": [
    "np.min(b,axis=1)"
   ]
  },
  {
   "cell_type": "code",
   "execution_count": 145,
   "id": "ed353e94-22fa-4935-b84b-9ffdd1e38525",
   "metadata": {},
   "outputs": [
    {
     "data": {
      "text/plain": [
       "10"
      ]
     },
     "execution_count": 145,
     "metadata": {},
     "output_type": "execute_result"
    }
   ],
   "source": [
    "np.max(a)"
   ]
  },
  {
   "cell_type": "code",
   "execution_count": 146,
   "id": "b5b4c600-00da-48df-b667-cdc7421e909e",
   "metadata": {},
   "outputs": [
    {
     "data": {
      "text/plain": [
       "55"
      ]
     },
     "execution_count": 146,
     "metadata": {},
     "output_type": "execute_result"
    }
   ],
   "source": [
    "np.sum(a)"
   ]
  },
  {
   "cell_type": "code",
   "execution_count": 147,
   "id": "bfa9ee3c-e948-4d23-8341-bf49825c0e77",
   "metadata": {},
   "outputs": [
    {
     "data": {
      "text/plain": [
       "5.5"
      ]
     },
     "execution_count": 147,
     "metadata": {},
     "output_type": "execute_result"
    }
   ],
   "source": [
    "np.mean(a)"
   ]
  },
  {
   "cell_type": "code",
   "execution_count": 148,
   "id": "4820729e-c207-4f5d-8241-e62077adb5b5",
   "metadata": {},
   "outputs": [
    {
     "data": {
      "text/plain": [
       "2.8722813232690143"
      ]
     },
     "execution_count": 148,
     "metadata": {},
     "output_type": "execute_result"
    }
   ],
   "source": [
    "np.std(a)"
   ]
  },
  {
   "cell_type": "code",
   "execution_count": 154,
   "id": "d0acef26-db07-48cb-9db6-d34edcd1c17b",
   "metadata": {},
   "outputs": [
    {
     "data": {
      "text/plain": [
       "array([[ 6,  7,  8,  9, 10],\n",
       "       [ 1,  2,  3,  4,  5]])"
      ]
     },
     "execution_count": 154,
     "metadata": {},
     "output_type": "execute_result"
    }
   ],
   "source": [
    "np.sort(b)"
   ]
  },
  {
   "cell_type": "code",
   "execution_count": 155,
   "id": "968f479b-390d-469c-92f6-73aaa8ee81d8",
   "metadata": {},
   "outputs": [
    {
     "data": {
      "text/plain": [
       "array([[ 5,  4,  3,  2,  1],\n",
       "       [10,  9,  8,  7,  6]])"
      ]
     },
     "execution_count": 155,
     "metadata": {},
     "output_type": "execute_result"
    }
   ],
   "source": [
    "np.sort(b, axis=0)"
   ]
  },
  {
   "cell_type": "code",
   "execution_count": 156,
   "id": "89ee2329-feb9-4ded-a6d1-27401c3e39fd",
   "metadata": {},
   "outputs": [
    {
     "data": {
      "text/plain": [
       "array([1, 2])"
      ]
     },
     "execution_count": 156,
     "metadata": {},
     "output_type": "execute_result"
    }
   ],
   "source": [
    "np.unique([1,1,1,2,2,2,2])"
   ]
  },
  {
   "cell_type": "markdown",
   "id": "d1ec0c1f-5594-4851-9f79-6d054bbaf620",
   "metadata": {},
   "source": [
    "## Operaciones matematicas entre matrices"
   ]
  },
  {
   "cell_type": "code",
   "execution_count": 167,
   "id": "a902e38d-e20b-4b00-9141-31ba4479e393",
   "metadata": {},
   "outputs": [
    {
     "data": {
      "text/plain": [
       "array([1.6, 3.2])"
      ]
     },
     "execution_count": 167,
     "metadata": {},
     "output_type": "execute_result"
    }
   ],
   "source": [
    "data = np.array([1.0, 2.0])\n",
    "data * 1.6"
   ]
  },
  {
   "cell_type": "code",
   "execution_count": 163,
   "id": "01d421a0-6506-4875-95f8-658b29fca05b",
   "metadata": {},
   "outputs": [
    {
     "data": {
      "text/plain": [
       "array([[2, 3],\n",
       "       [4, 5]])"
      ]
     },
     "execution_count": 163,
     "metadata": {},
     "output_type": "execute_result"
    }
   ],
   "source": [
    "data = np.array([[1, 2], [3, 4]])\n",
    "ones = np.array([[1, 1], [1, 1]])\n",
    "data + ones"
   ]
  },
  {
   "cell_type": "code",
   "execution_count": 166,
   "id": "5906d5c4-40e4-425b-a70e-49fc2a2fdb67",
   "metadata": {},
   "outputs": [
    {
     "data": {
      "text/plain": [
       "array([[2, 3],\n",
       "       [4, 5],\n",
       "       [6, 7]])"
      ]
     },
     "execution_count": 166,
     "metadata": {},
     "output_type": "execute_result"
    }
   ],
   "source": [
    "data = np.array([[1, 2], [3, 4], [5, 6]])\n",
    "ones_row = np.array([1, 1])\n",
    "data + ones_row"
   ]
  },
  {
   "cell_type": "code",
   "execution_count": 168,
   "id": "840a6705-801d-42ab-8a33-212451bb2d9c",
   "metadata": {},
   "outputs": [
    {
     "data": {
      "text/plain": [
       "array([[37, 40],\n",
       "       [85, 92]])"
      ]
     },
     "execution_count": 168,
     "metadata": {},
     "output_type": "execute_result"
    }
   ],
   "source": [
    "a = np.array([[1,2],[3,4]]) \n",
    "b = np.array([[11,12],[13,14]]) \n",
    "np.dot(a,b) #[[1*11+2*13, 1*12+2*14],[3*11+4*13, 3*12+4*14]]"
   ]
  },
  {
   "cell_type": "code",
   "execution_count": 169,
   "id": "67785643-60c5-4da9-85cb-0900463fdaa7",
   "metadata": {},
   "outputs": [],
   "source": [
    "A=np.array([[1,2],\n",
    "   [3,4],\n",
    "   [5,6],\n",
    "   [7,8]])\n",
    "\n",
    "B=np.array([[10,20,30],\n",
    "   [40,50,60]])\n",
    "\n",
    "C = [[1*10+2*40, 1*20+2*50, 1*30+2*60],\n",
    "     [3*10+4*40, 3*20+4*50, 3*30+4*60],\n",
    "     [5*10+6*40, 5*20+6*50, 5*30+6*60],\n",
    "     [7*10+8*40, 7*20+8*50, 7*30+8*60]]"
   ]
  },
  {
   "cell_type": "code",
   "execution_count": 170,
   "id": "52a19a5f-275e-462a-b6de-d757c580bfb7",
   "metadata": {},
   "outputs": [
    {
     "data": {
      "text/plain": [
       "array([[ 90, 120, 150],\n",
       "       [190, 260, 330],\n",
       "       [290, 400, 510],\n",
       "       [390, 540, 690]])"
      ]
     },
     "execution_count": 170,
     "metadata": {},
     "output_type": "execute_result"
    }
   ],
   "source": [
    "A @ B"
   ]
  },
  {
   "cell_type": "code",
   "execution_count": 172,
   "id": "3976c6db-ab6b-4ea6-b740-eb953793490a",
   "metadata": {},
   "outputs": [
    {
     "data": {
      "text/plain": [
       "array([[ 90, 120, 150],\n",
       "       [190, 260, 330],\n",
       "       [290, 400, 510],\n",
       "       [390, 540, 690]])"
      ]
     },
     "execution_count": 172,
     "metadata": {},
     "output_type": "execute_result"
    }
   ],
   "source": [
    "np.matmul(A,B)"
   ]
  },
  {
   "cell_type": "code",
   "execution_count": 173,
   "id": "a56b031e-da4d-428f-a02c-fe238753f2e7",
   "metadata": {},
   "outputs": [
    {
     "data": {
      "text/plain": [
       "array([[ 90, 120, 150],\n",
       "       [190, 260, 330],\n",
       "       [290, 400, 510],\n",
       "       [390, 540, 690]])"
      ]
     },
     "execution_count": 173,
     "metadata": {},
     "output_type": "execute_result"
    }
   ],
   "source": [
    "np.dot(A,B)"
   ]
  },
  {
   "cell_type": "markdown",
   "id": "c192cdf1-73e1-45d8-b749-b640ce5d075f",
   "metadata": {},
   "source": [
    "## Numeros Pseudoaleatorios"
   ]
  },
  {
   "cell_type": "code",
   "execution_count": null,
   "id": "3860a87b-911d-432e-a3e0-71e656552508",
   "metadata": {},
   "outputs": [],
   "source": [
    "#https://numpy.org/doc/1.16/reference/routines.random.html"
   ]
  },
  {
   "cell_type": "code",
   "execution_count": 186,
   "id": "3425e843-72aa-45b9-9f61-6a7e49f60df3",
   "metadata": {},
   "outputs": [
    {
     "data": {
      "text/plain": [
       "0"
      ]
     },
     "execution_count": 186,
     "metadata": {},
     "output_type": "execute_result"
    }
   ],
   "source": [
    "np.random.randint(10)"
   ]
  },
  {
   "cell_type": "code",
   "execution_count": 187,
   "id": "4e7f69f4-4d4f-47d9-9c6a-214fec78e765",
   "metadata": {},
   "outputs": [
    {
     "data": {
      "text/plain": [
       "array([6, 9, 5, 8, 1, 9, 8, 0, 0, 8, 6, 8, 4, 7, 5])"
      ]
     },
     "execution_count": 187,
     "metadata": {},
     "output_type": "execute_result"
    }
   ],
   "source": [
    "np.random.randint(10, size=(15))"
   ]
  },
  {
   "cell_type": "markdown",
   "id": "13024628-1592-4799-92a9-b2dcbfa59cb1",
   "metadata": {},
   "source": [
    "## Vectorizacion"
   ]
  },
  {
   "cell_type": "code",
   "execution_count": 3,
   "id": "eb1e6f47-2a6c-43d3-b760-40c31430726f",
   "metadata": {},
   "outputs": [
    {
     "name": "stdout",
     "output_type": "stream",
     "text": [
      "Tiempo:  0.04415416717529297\n",
      "Tiempo:  0.0004930496215820312\n"
     ]
    }
   ],
   "source": [
    "import time \n",
    "\n",
    "array1 = np.random.random(size=10**5)\n",
    "array2 = np.random.random(size=10**5)\n",
    "\n",
    "start_time = time.time()\n",
    "for i in range(len(array1)):\n",
    "    array1[i] += array2[i]\n",
    "end_time = time.time()\n",
    "print(\"Tiempo: \", end_time - start_time)\n",
    "\n",
    "start_time = time.time()\n",
    "array1 += array2\n",
    "end_time = time.time()\n",
    "print(\"Tiempo: \", end_time - start_time)"
   ]
  },
  {
   "cell_type": "code",
   "execution_count": 4,
   "id": "248505c1-19c8-47b5-b02a-0fa83215d857",
   "metadata": {},
   "outputs": [],
   "source": [
    "import numpy as np\n",
    "from timeit import Timer\n",
    " \n",
    "array = np.random.randint(1000, size=10**5)\n",
    "b = 42"
   ]
  },
  {
   "cell_type": "code",
   "execution_count": 5,
   "id": "0b3de538-c036-4fe9-893c-18690e7a6e49",
   "metadata": {},
   "outputs": [],
   "source": [
    "def multiplicacion_por_escalar_bucle_for():\n",
    "    array2 = np.empty(10**5)\n",
    "    for i in range(len(array)):\n",
    "        array2[i] = array[i] * b"
   ]
  },
  {
   "cell_type": "code",
   "execution_count": 6,
   "id": "5a6f3af8-a536-4727-8509-982a4ef4c98e",
   "metadata": {},
   "outputs": [],
   "source": [
    "def multiplicacion_por_escalar_numpy():\n",
    "    array2 = array * b"
   ]
  },
  {
   "cell_type": "code",
   "execution_count": 7,
   "id": "2c4fc070-514a-4f2e-982a-fa0f4586c8f1",
   "metadata": {},
   "outputs": [
    {
     "name": "stdout",
     "output_type": "stream",
     "text": [
      "Tiempo: 2.6073152919998392 usando bucle for\n",
      "Tiempo: 0.0028808750212192535 usando numpy\n"
     ]
    }
   ],
   "source": [
    "tiempo_bucle_for = Timer(multiplicacion_por_escalar_bucle_for).timeit(100)\n",
    "tiempo_numpy = Timer(multiplicacion_por_escalar_numpy).timeit(100)\n",
    " \n",
    "print(f\"Tiempo: {tiempo_bucle_for} usando bucle for\")\n",
    "print(f\"Tiempo: {tiempo_numpy} usando numpy\")"
   ]
  },
  {
   "cell_type": "code",
   "execution_count": 11,
   "id": "b4a2311d-5485-4dd4-9254-b855cdc5edfa",
   "metadata": {},
   "outputs": [],
   "source": [
    "def suma_con_bucle_for():\n",
    "    suma=0\n",
    "    for item in array:\n",
    "        suma += item"
   ]
  },
  {
   "cell_type": "code",
   "execution_count": 12,
   "id": "7f200947-6680-47e3-a702-98aebc96102f",
   "metadata": {},
   "outputs": [],
   "source": [
    "def suma_con_sum():\n",
    "    suma = sum(array)"
   ]
  },
  {
   "cell_type": "code",
   "execution_count": 13,
   "id": "1ce95973-dd79-48c7-98e1-5aeafb26f67c",
   "metadata": {},
   "outputs": [],
   "source": [
    "def suma_con_numpy():\n",
    "    suma = np.sum(array)"
   ]
  },
  {
   "cell_type": "code",
   "execution_count": 14,
   "id": "3cb61c47-330b-4ef8-b377-dc1c014c28bc",
   "metadata": {},
   "outputs": [
    {
     "name": "stdout",
     "output_type": "stream",
     "text": [
      "Tiempo: 0.8400722499936819 usando bucle for\n",
      "Tiempo: 0.640412499953527 usando sum\n",
      "Tiempo: 0.0013409579987637699 usando numpy\n"
     ]
    }
   ],
   "source": [
    "tiempo_bucle_for = Timer(suma_con_bucle_for).timeit(100)\n",
    "tiempo_sum = Timer(suma_con_sum).timeit(100)\n",
    "tiempo_numpy = Timer(suma_con_numpy).timeit(100)\n",
    " \n",
    "print(f\"Tiempo: {tiempo_bucle_for} usando bucle for\")\n",
    "print(f\"Tiempo: {tiempo_sum} usando sum\")\n",
    "print(f\"Tiempo: {tiempo_numpy} usando numpy\")"
   ]
  },
  {
   "cell_type": "code",
   "execution_count": null,
   "id": "ccfc17c2-612b-4be6-84fa-00e77c49d01f",
   "metadata": {},
   "outputs": [],
   "source": []
  }
 ],
 "metadata": {
  "kernelspec": {
   "display_name": "base",
   "language": "python",
   "name": "base"
  },
  "language_info": {
   "codemirror_mode": {
    "name": "ipython",
    "version": 3
   },
   "file_extension": ".py",
   "mimetype": "text/x-python",
   "name": "python",
   "nbconvert_exporter": "python",
   "pygments_lexer": "ipython3",
   "version": "3.9.7"
  }
 },
 "nbformat": 4,
 "nbformat_minor": 5
}
