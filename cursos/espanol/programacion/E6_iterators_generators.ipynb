{
 "cells": [
  {
   "cell_type": "markdown",
   "id": "91b638b0-9210-4f77-8050-2a92193bb65a",
   "metadata": {},
   "source": [
    "# Iteradores y Generadores"
   ]
  },
  {
   "cell_type": "markdown",
   "id": "cf475add-b606-46a6-b925-fba1e36ac926",
   "metadata": {},
   "source": [
    "Anteriormente habia dicho que con el bucle for no se puede hacer todo lo que se puede hacer con el bucle while ya que con el bucle while podemos hacer un bucle infinito y con el bucle for no debido a que este itera o recorre una lista finita de elementos pero esto no es totalmente cierto. Ahora veremos un tipo de variables u objetos que nos permiten generar elementos uno a uno para el bucle for."
   ]
  },
  {
   "cell_type": "markdown",
   "id": "8b59dc99-a342-4d98-a34b-5955de5953a6",
   "metadata": {},
   "source": [
    "# Iteradores\n",
    "\n",
    "Los iteradores son un tipo especial de objeto que tienen dos metodos: **\\_\\_iter\\_\\_** y **\\_\\_next\\_\\_** \n",
    "\n",
    "**\\_\\_iter\\_\\_**: retorna el objeto iterador\n",
    "\n",
    "**\\_\\_next\\_\\_**: cada vez que es llamada calcula y retorna el siguiente elemento a iterar hasta que llegue a una condicion de fin\n",
    "\n",
    "Veamos el siguiente ejemplo que genera los cubos de los numero de los numeros entre **primer_elemento** y **ultimo_elemento** uno a uno cada vez que la funcion **\\_\\_next\\_\\_** es llamada"
   ]
  },
  {
   "cell_type": "code",
   "execution_count": 3,
   "id": "e9c96716-0fa2-449b-acff-931a836ab020",
   "metadata": {},
   "outputs": [],
   "source": [
    "class Cubos(object):\n",
    "    def __init__(self, primer_elemento, ultimo_elemento):\n",
    "        self.primer_elemento = primer_elemento\n",
    "        self.elemento_actual = primer_elemento\n",
    "        self.ultimo_elemento = ultimo_elemento\n",
    "\n",
    "    def __iter__(self): \n",
    "        return self\n",
    "\n",
    "    def __next__(self):\n",
    "        if self.elemento_actual >= self.ultimo_elemento:\n",
    "            raise StopIteration\n",
    "        cubo = self.elemento_actual ** 3\n",
    "        self.elemento_actual += 1\n",
    "        return cubo"
   ]
  },
  {
   "cell_type": "code",
   "execution_count": 5,
   "id": "277bda2b-addd-4959-94c2-491bda627cf1",
   "metadata": {},
   "outputs": [
    {
     "name": "stdout",
     "output_type": "stream",
     "text": [
      "8\n",
      "27\n",
      "64\n",
      "125\n"
     ]
    }
   ],
   "source": [
    "iterador = Cubos(2, 6)\n",
    "for cubo in iterador:\n",
    "    print(cubo)"
   ]
  },
  {
   "cell_type": "markdown",
   "id": "c8885817-5d0a-4cf8-8a8f-ccbc6471ea30",
   "metadata": {},
   "source": [
    "Como podemos observar el bucle for se encarga de llamar al metodo **\\_\\_next\\_\\_** de un iterador hasta que recibe una exepcion de tipo StopIteration. Si no recibe este tipo de error seguira obteniendo nuevos elementos infinitamente."
   ]
  },
  {
   "cell_type": "markdown",
   "id": "7ded67f2-eb87-43f2-b3db-7ec09a212d1b",
   "metadata": {},
   "source": [
    "# Generadores\n",
    "\n",
    "Los generadores son una forma mas simple de crear iteradores sin la necesidad que crear una clase que hereda de objeto e implementa los metodos iter y next. \n",
    "\n",
    "Existen dos formas de crear generadores:\n",
    "1. Con una funcion que en vez de **return** utiliza la palabra **yield**\n",
    "2. Mediante una forma similar a list comprehension pero que en vez de comenzar y terminar con corchetes [] comenzara y terminara con parentesis ()\n",
    "\n",
    "Veamos los dos ejemplos:"
   ]
  },
  {
   "cell_type": "markdown",
   "id": "d85f8837-d208-4ddd-95eb-88631a00aa96",
   "metadata": {},
   "source": [
    "#### 1. Una funcion que en vez de **return** utiliza la palabra **yield**"
   ]
  },
  {
   "cell_type": "code",
   "execution_count": 10,
   "id": "1851b0be-e3be-41a4-a8d1-c1a15e364b65",
   "metadata": {},
   "outputs": [],
   "source": [
    "def cubos(primer_elemento, ultimo_elemento):\n",
    "    for i in range(primer_elemento, ultimo_elemento):\n",
    "        yield i ** 3"
   ]
  },
  {
   "cell_type": "code",
   "execution_count": 11,
   "id": "5329e655-2c93-4a8b-af0e-ee1b170d07a0",
   "metadata": {},
   "outputs": [
    {
     "name": "stdout",
     "output_type": "stream",
     "text": [
      "8\n",
      "27\n",
      "64\n",
      "125\n"
     ]
    }
   ],
   "source": [
    "generador = cubos(2, 6)\n",
    "for cubo in generador:\n",
    "    print(cubo)"
   ]
  },
  {
   "cell_type": "markdown",
   "id": "e1eda098-ac42-4566-b113-ec8a6921b94b",
   "metadata": {},
   "source": [
    "#### 2. Una forma similar a list comprehension pero que en vez de comenzar y terminar con corchetes [] comenzara y terminara con parentesis ()"
   ]
  },
  {
   "cell_type": "code",
   "execution_count": 12,
   "id": "807d1a31-0dfd-42f0-be5b-c0db24377cff",
   "metadata": {},
   "outputs": [],
   "source": [
    "generador2 = (i**3 for i in range(2, 6))"
   ]
  },
  {
   "cell_type": "code",
   "execution_count": 13,
   "id": "38b3f211-fc95-4db1-a8d7-e581d1fe09dc",
   "metadata": {},
   "outputs": [
    {
     "name": "stdout",
     "output_type": "stream",
     "text": [
      "8\n",
      "27\n",
      "64\n",
      "125\n"
     ]
    }
   ],
   "source": [
    "for cubo in generador2:\n",
    "    print(cubo)"
   ]
  },
  {
   "cell_type": "markdown",
   "id": "f8ef1d07-3882-4a79-ab01-898f81520c4c",
   "metadata": {},
   "source": [
    "# Fin: [Volver al contenido del curso](https://www.freecodingtour.com/cursos/espanol/programacion/programacion.html)"
   ]
  }
 ],
 "metadata": {
  "kernelspec": {
   "display_name": "Python 3 (ipykernel)",
   "language": "python",
   "name": "python3"
  },
  "language_info": {
   "codemirror_mode": {
    "name": "ipython",
    "version": 3
   },
   "file_extension": ".py",
   "mimetype": "text/x-python",
   "name": "python",
   "nbconvert_exporter": "python",
   "pygments_lexer": "ipython3",
   "version": "3.9.7"
  }
 },
 "nbformat": 4,
 "nbformat_minor": 5
}
