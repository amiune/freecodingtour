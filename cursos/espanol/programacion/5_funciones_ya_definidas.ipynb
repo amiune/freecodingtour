{
 "cells": [
  {
   "cell_type": "markdown",
   "metadata": {},
   "source": [
    "# Funciones que ya estan definidas\n",
    "\n",
    "Una de las cualidades que hacen muy utilizado al lenguaje python es que ya tiene muchas funciones definidas que podemos utilizar y ademas tambien podemos instalar \"librerias\" que contienen aun mas funciones ya definidas que nos facilitaran mucho la programacion. Veamos algunos ejemplos:"
   ]
  },
  {
   "cell_type": "markdown",
   "metadata": {},
   "source": [
    "### Funcion len() devuelve el largo de un texto"
   ]
  },
  {
   "cell_type": "code",
   "execution_count": null,
   "metadata": {},
   "outputs": [],
   "source": [
    "len(\"este es un texto corto\") "
   ]
  },
  {
   "cell_type": "markdown",
   "metadata": {},
   "source": [
    "### Ejercicio 1:\n",
    "\n",
    "Usar la funcion len() para obtener el largo de la palabra \"elefante\""
   ]
  },
  {
   "cell_type": "code",
   "execution_count": null,
   "metadata": {},
   "outputs": [],
   "source": [
    "# Escribir aqui la solucion\n",
    "\n"
   ]
  },
  {
   "cell_type": "code",
   "execution_count": null,
   "metadata": {},
   "outputs": [],
   "source": [
    "#@title Solucion Ejercicio 1 {display-mode:\"form\"}\n",
    "\n",
    "len(\"elefante\")"
   ]
  },
  {
   "cell_type": "markdown",
   "metadata": {},
   "source": [
    "### Funcion max() me devuelve el mayor valor de dos o mas elementos"
   ]
  },
  {
   "cell_type": "code",
   "execution_count": null,
   "metadata": {},
   "outputs": [],
   "source": [
    "max(4,3)"
   ]
  },
  {
   "cell_type": "code",
   "execution_count": null,
   "metadata": {},
   "outputs": [],
   "source": [
    "max(5,6,7,8)"
   ]
  },
  {
   "cell_type": "markdown",
   "metadata": {},
   "source": [
    "### Ejercicio 2:\n",
    "\n",
    "Usar la funcion max() para mostrar el mayor de los siguientes numeros: 0.234, -20.3, 0.295 "
   ]
  },
  {
   "cell_type": "code",
   "execution_count": null,
   "metadata": {},
   "outputs": [],
   "source": [
    "# Escribir aqui la solucion\n",
    "\n"
   ]
  },
  {
   "cell_type": "code",
   "execution_count": null,
   "metadata": {},
   "outputs": [],
   "source": [
    "#@title Solucion Ejercicio 2 {display-mode:\"form\"}\n",
    "\n",
    "max(0.234, -20.3, 0.295)"
   ]
  },
  {
   "cell_type": "markdown",
   "metadata": {},
   "source": [
    "#### Funcion min() me devuelve el menor valor de dos o mas elementos"
   ]
  },
  {
   "cell_type": "code",
   "execution_count": null,
   "metadata": {},
   "outputs": [],
   "source": [
    "min(3,5)"
   ]
  },
  {
   "cell_type": "markdown",
   "metadata": {},
   "source": [
    "#### Funcion int() me convierte un texto en un valor entero si es posible"
   ]
  },
  {
   "cell_type": "code",
   "execution_count": null,
   "metadata": {},
   "outputs": [],
   "source": [
    "int(\"42\")"
   ]
  },
  {
   "cell_type": "markdown",
   "metadata": {},
   "source": [
    "#### Funcion float() me convierte un texto en un valor numerico con decimales si es posible"
   ]
  },
  {
   "cell_type": "code",
   "execution_count": null,
   "metadata": {},
   "outputs": [],
   "source": [
    "float(\"42.53\")"
   ]
  },
  {
   "cell_type": "markdown",
   "metadata": {},
   "source": [
    "#### Funcion str() me convierte un numero en un texto (tambien llamado string en ingles)"
   ]
  },
  {
   "cell_type": "code",
   "execution_count": null,
   "metadata": {},
   "outputs": [],
   "source": [
    "str(345)"
   ]
  },
  {
   "cell_type": "markdown",
   "metadata": {},
   "source": [
    "### Importante: \n",
    "\n",
    "Si sumamos dos variables de tipo texto se concatenan es decir se pega una al lado de la otra para crear una sola. Veamos un ejemplo:"
   ]
  },
  {
   "cell_type": "code",
   "execution_count": null,
   "metadata": {},
   "outputs": [],
   "source": [
    "\"Hola\" + \"Mundo\""
   ]
  },
  {
   "cell_type": "markdown",
   "metadata": {},
   "source": [
    "Y si utilizamos variables de texto y ponemos numeros sucede lo mismo:"
   ]
  },
  {
   "cell_type": "code",
   "execution_count": null,
   "metadata": {},
   "outputs": [],
   "source": [
    "\"10\" + \"20\""
   ]
  },
  {
   "cell_type": "markdown",
   "metadata": {},
   "source": [
    "Ahora si primero convertimos estos textos a numeros usando la funcion int() el resultado cambia:"
   ]
  },
  {
   "cell_type": "code",
   "execution_count": null,
   "metadata": {},
   "outputs": [],
   "source": [
    "int(\"10\") + int(\"20\")"
   ]
  },
  {
   "cell_type": "markdown",
   "metadata": {},
   "source": [
    "y la funcion str() funciona de la forma inversa:"
   ]
  },
  {
   "cell_type": "code",
   "execution_count": null,
   "metadata": {},
   "outputs": [],
   "source": [
    "10 + 20"
   ]
  },
  {
   "cell_type": "code",
   "execution_count": null,
   "metadata": {},
   "outputs": [],
   "source": [
    "str(10) + str(20)"
   ]
  },
  {
   "cell_type": "markdown",
   "metadata": {},
   "source": [
    "### Ejercicio 3:\n",
    "\n",
    "Mostrar el valor numerico de la suma de las siguientes dos variables:\n",
    "```\n",
    "s1 = \"12\"\n",
    "s2 = \"13\"\n",
    "```\n",
    "El resultado debe ser 25 y no 1213"
   ]
  },
  {
   "cell_type": "code",
   "execution_count": null,
   "metadata": {},
   "outputs": [],
   "source": [
    "s1 = \"12\"\n",
    "s2 = \"13\"\n",
    "#Escribir aqui la solucion\n",
    "\n"
   ]
  },
  {
   "cell_type": "code",
   "execution_count": null,
   "metadata": {},
   "outputs": [],
   "source": [
    "#@title Solucion Ejercicio 3 {display-mode:\"form\"}\n",
    "\n",
    "int(s1) + int(s2)"
   ]
  },
  {
   "cell_type": "markdown",
   "metadata": {},
   "source": [
    "### Funcion print() me permite mostrar mas de un solo resultado al ejecutar una celda"
   ]
  },
  {
   "cell_type": "code",
   "execution_count": null,
   "metadata": {},
   "outputs": [],
   "source": [
    "saludo = \"Hola, soy una computadora superinteligente.\"\n",
    "respuesta = 42\n",
    "print(saludo)\n",
    "print(\"La respuesta a cual es el sentido del universo es:\")\n",
    "print(respuesta)"
   ]
  },
  {
   "cell_type": "markdown",
   "metadata": {},
   "source": [
    "### Ejercicio 4:\n",
    "\n",
    "Usar la funcion print() para mostrar uno abajo de otro los valores de las siguientes variables:"
   ]
  },
  {
   "cell_type": "code",
   "execution_count": null,
   "metadata": {},
   "outputs": [],
   "source": [
    "variable1 = 123456789\n",
    "variable2 = \"la funcion print es muy util para ver el valor de las variables\"\n",
    "variable3 = 0.35\n",
    "variable4 = \"tambien es util para ir viendo como se modifican los valores de las variables\""
   ]
  },
  {
   "cell_type": "code",
   "execution_count": null,
   "metadata": {},
   "outputs": [],
   "source": [
    "# Escribir aqui la solucion\n",
    "\n"
   ]
  },
  {
   "cell_type": "code",
   "execution_count": null,
   "metadata": {},
   "outputs": [],
   "source": [
    "#@title Solucion Ejercicio 4 {display-mode:\"form\"}\n",
    "\n",
    "print(variable1)\n",
    "print(variable2)\n",
    "print(variable3)\n",
    "print(variable4)"
   ]
  },
  {
   "cell_type": "markdown",
   "metadata": {},
   "source": [
    "#### Tambien puedo mostrar el valor de varias variables uno al lado de otro si utilizo la funcion print() y separo las variables con una coma:"
   ]
  },
  {
   "cell_type": "code",
   "execution_count": null,
   "metadata": {},
   "outputs": [],
   "source": [
    "print(variable1, variable2, variable3, variable4)"
   ]
  },
  {
   "cell_type": "markdown",
   "metadata": {},
   "source": [
    "### La funcion print() es util para ver como se va modificando el valor de una variable\n",
    "\n",
    "Veamos como va cambiando el valor de la variable **x**:"
   ]
  },
  {
   "cell_type": "code",
   "execution_count": null,
   "metadata": {},
   "outputs": [],
   "source": [
    "x = 10\n",
    "print(x)\n",
    "\n",
    "x = x + 2\n",
    "print(x)\n",
    "\n",
    "if x > 100:\n",
    "    x += 1000\n",
    "    print(\"Es mayor a cien entonces le sumo 1000\")\n",
    "else:\n",
    "    x += 5000\n",
    "    print(\"Es menor a cien entonces le sumo 5000\")\n",
    "print(x)"
   ]
  },
  {
   "cell_type": "markdown",
   "metadata": {},
   "source": [
    "Veamos otro ejemplo viendo como se modifica una variable adentro de un **while**:"
   ]
  },
  {
   "cell_type": "code",
   "execution_count": null,
   "metadata": {},
   "outputs": [],
   "source": [
    "y = 10\n",
    "while y < 20:\n",
    "    print(y)\n",
    "    y = y + 2\n",
    "print(\"El valor final de y es:\", y)"
   ]
  },
  {
   "cell_type": "markdown",
   "metadata": {},
   "source": [
    "### Funcion input() me permite solicitarle al usuario que ingrese un valor usando el teclado"
   ]
  },
  {
   "cell_type": "code",
   "execution_count": null,
   "metadata": {},
   "outputs": [],
   "source": [
    "# Luego de ejecutar esta celda \n",
    "# introducimos un valor y presionamos enter\n",
    "nombre = input(\"Ingresa tu nombre:\")\n",
    "print(\"Hola:\", nombre)"
   ]
  },
  {
   "cell_type": "markdown",
   "metadata": {},
   "source": [
    "**Importante:** La funcion **input()** siempre nos da un texto por lo que si lo que queremos que ingrese el usuario es un numero deberemos utilizar la funcion **int()** o la funcion **float()**. Veamos un ejemplo:"
   ]
  },
  {
   "cell_type": "code",
   "execution_count": null,
   "metadata": {},
   "outputs": [],
   "source": [
    "edad = int(input(\"Ingresa tu edad:\"))\n",
    "edad = edad + 1\n",
    "print(\"En tu proximo cumpleaños tendras:\", edad)"
   ]
  },
  {
   "cell_type": "markdown",
   "metadata": {
    "tags": []
   },
   "source": [
    "### Ejercicio 5:\n",
    "\n",
    "Usar la funcion input() para solicitarle al usuario que ingrese dos valores y luego utilizar la funcion print() para mostrar la suma.\n",
    "\n",
    "Ayuda: recuerda utilizar la funcion **int()** para convertir el valor ingresado por teclado de texto a numero."
   ]
  },
  {
   "cell_type": "code",
   "execution_count": null,
   "metadata": {},
   "outputs": [],
   "source": [
    "# Escribir aqui la solucion\n",
    "\n"
   ]
  },
  {
   "cell_type": "code",
   "execution_count": null,
   "metadata": {},
   "outputs": [],
   "source": [
    "#@title Solucion Ejercicio 5 {display-mode:\"form\"}\n",
    "\n",
    "n1 = int(input(\"Ingresa el primer numero:\"))\n",
    "n2 = int(input(\"Ingresa el segundo numero:\"))\n",
    "suma = n1 + n2\n",
    "print(\"La suma es:\", suma)"
   ]
  },
  {
   "cell_type": "markdown",
   "metadata": {},
   "source": [
    "## Como recordar las funciones ya definidas\n",
    "\n",
    "Sera imposible acordarnos de memoria todas las funciones que existen ya definidas por lo que es recomendado utilizar internet si queremos recordar como funcionan o si queremos encontrar nuevas funciones. Los sitios recomendados para buscar son:\n",
    "\n",
    "- [ChatGPT](https://chat.openai.com/): es el famoso bot al cual le podemos hacer preguntas\n",
    "- [Google](https://www.google.com/): el famoso buscador\n",
    "- [Stackoverflow.com](https://stackoverflow.com/): es un sitio web donde los programadores hacen preguntas y otros programadores responden con sus soluciones"
   ]
  },
  {
   "cell_type": "markdown",
   "metadata": {},
   "source": [
    "## Funciones incorporadas a las variables\n",
    "\n",
    "A veces las variables tambien tienen incorporadas funciones ya definidas que podemos usar. Por ejemplo las variables de tipo string tienen varias funciones utiles incorporadas. Estas se utilizan escribiendo el nombre de la variable un punto y luego el nombre de la funcion. A continuacion algunos ejemplos:"
   ]
  },
  {
   "cell_type": "code",
   "execution_count": 1,
   "metadata": {},
   "outputs": [
    {
     "name": "stdout",
     "output_type": "stream",
     "text": [
      "EqUiLaTeRo\n"
     ]
    }
   ],
   "source": [
    "texto1 = \"EqUiLaTeRo\"\n",
    "print(texto1)"
   ]
  },
  {
   "cell_type": "markdown",
   "metadata": {},
   "source": [
    "#### Funcion incorporada .lower() convierte la string a minuscula"
   ]
  },
  {
   "cell_type": "code",
   "execution_count": 2,
   "metadata": {},
   "outputs": [
    {
     "name": "stdout",
     "output_type": "stream",
     "text": [
      "EqUiLaTeRo\n",
      "equilatero\n"
     ]
    }
   ],
   "source": [
    "texto2 = texto1.lower()\n",
    "print(texto1)\n",
    "print(texto2)"
   ]
  },
  {
   "cell_type": "markdown",
   "metadata": {},
   "source": [
    "#### Funcion incorporada .lower() convierte la string a minuscula"
   ]
  },
  {
   "cell_type": "code",
   "execution_count": 3,
   "metadata": {},
   "outputs": [
    {
     "name": "stdout",
     "output_type": "stream",
     "text": [
      "EqUiLaTeRo\n",
      "EQUILATERO\n"
     ]
    }
   ],
   "source": [
    "texto2 = texto1.upper()\n",
    "print(texto1)\n",
    "print(texto2)"
   ]
  },
  {
   "cell_type": "markdown",
   "metadata": {},
   "source": [
    "#### Funcion incorporada .replace() reemplaza una parte de la string"
   ]
  },
  {
   "cell_type": "code",
   "execution_count": 4,
   "metadata": {},
   "outputs": [
    {
     "name": "stdout",
     "output_type": "stream",
     "text": [
      "EqUiLaTeRo\n",
      "EqUidistante\n"
     ]
    }
   ],
   "source": [
    "texto2 = texto1.replace(\"LaTeRo\",\"distante\")\n",
    "print(texto1)\n",
    "print(texto2)"
   ]
  },
  {
   "cell_type": "markdown",
   "metadata": {},
   "source": [
    "# Fin: [Volver al contenido del curso](https://www.freecodingtour.com/cursos/espanol/programacion/programacion.html)"
   ]
  }
 ],
 "metadata": {
  "colab": {
   "authorship_tag": "ABX9TyNJES05cvSsblmdLrrHWrVt",
   "provenance": []
  },
  "kernelspec": {
   "display_name": "Python 3 (ipykernel)",
   "language": "python",
   "name": "python3"
  },
  "language_info": {
   "codemirror_mode": {
    "name": "ipython",
    "version": 3
   },
   "file_extension": ".py",
   "mimetype": "text/x-python",
   "name": "python",
   "nbconvert_exporter": "python",
   "pygments_lexer": "ipython3",
   "version": "3.9.7"
  }
 },
 "nbformat": 4,
 "nbformat_minor": 4
}
