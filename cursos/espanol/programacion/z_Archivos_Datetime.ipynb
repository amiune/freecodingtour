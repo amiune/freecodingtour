{
 "cells": [
  {
   "cell_type": "code",
   "execution_count": 1,
   "id": "73c380b6-e07e-45c5-b31a-f6f34b3bc339",
   "metadata": {},
   "outputs": [
    {
     "name": "stdout",
     "output_type": "stream",
     "text": [
      "2023-01-01 10:31:11,manzanas,20,$5\n",
      "2023-01-01 22:45:14,bananas,50,$3\n",
      "2023-01-01 23:55:25,naranjas,40,$4\n"
     ]
    }
   ],
   "source": [
    "archivo = open(\"C:/Users/Hernan/Documents/articulos_vendidos.txt\",'r')\n",
    "print(archivo.read())\n",
    "archivo.close()\n",
    "\n"
   ]
  },
  {
   "cell_type": "code",
   "execution_count": 10,
   "id": "ad576249-ca55-473c-801c-8fb1f994e5e1",
   "metadata": {},
   "outputs": [
    {
     "name": "stdout",
     "output_type": "stream",
     "text": [
      "Hola\n",
      "Chau\n"
     ]
    }
   ],
   "source": [
    "print(\"Hola\\nChau\")"
   ]
  },
  {
   "cell_type": "code",
   "execution_count": 43,
   "id": "fe2544b5-09aa-40f1-8f1a-7d4a465e6e41",
   "metadata": {
    "id": "fe2544b5-09aa-40f1-8f1a-7d4a465e6e41"
   },
   "outputs": [
    {
     "name": "stdout",
     "output_type": "stream",
     "text": [
      "2023-01-01 10:31:11,manzanas,20,$5\n",
      "2023-01-01 22:45:14,bananas,50,$3\n",
      "2023-01-01 23:55:25,naranjas,40,$4\n",
      "103\n"
     ]
    }
   ],
   "source": [
    "with open(\"articulos_vendidos.txt\",'r') as f:\n",
    "    todo_el_texto = f.read()\n",
    "    print(todo_el_texto)\n",
    "    print(len(todo_el_texto))\n",
    "    #lineas = f.readlines()\n",
    "    #print(lineas)\n",
    "    #f.seek(0)\n",
    "    #lineas = f.read().splitlines()\n",
    "    #print(lineas)\n",
    "    #for linea in f:\n",
    "        #print(linea)"
   ]
  },
  {
   "cell_type": "code",
   "execution_count": null,
   "id": "95473852-f3bf-4ca3-9598-571dc702a3ef",
   "metadata": {
    "id": "95473852-f3bf-4ca3-9598-571dc702a3ef"
   },
   "outputs": [],
   "source": [
    "f = open(\"articulos_vendidos.txt\",'r')\n",
    "print(f.read(5))\n",
    "print(f.readline())\n",
    "f.close()"
   ]
  },
  {
   "cell_type": "code",
   "execution_count": 44,
   "id": "8ed821d4-39df-4764-beaa-7a97bf360b06",
   "metadata": {},
   "outputs": [
    {
     "name": "stdout",
     "output_type": "stream",
     "text": [
      "2023-\n",
      "01-01 10:31:11,manzanas,20,$5\n",
      "\n",
      "0,$5\n",
      "2023-01-01 22:45:14,bananas,50,$3\n",
      "2023-01-01 23:55:25,naranjas,40,$4\n"
     ]
    }
   ],
   "source": [
    "f = open(\"articulos_vendidos.txt\",'r')\n",
    "print(f.read(5))\n",
    "print(f.readline())\n",
    "f.seek(30)\n",
    "print(f.read())\n",
    "f.close()"
   ]
  },
  {
   "cell_type": "code",
   "execution_count": 82,
   "id": "c8229e2d-9387-461c-b87b-c9cdc9be9093",
   "metadata": {},
   "outputs": [
    {
     "name": "stdout",
     "output_type": "stream",
     "text": [
      "2023-01-01 10:31:11,manzanas,20,$5\n",
      "2023-01-01 22:45:14,bananas,50,$3\n",
      "2023-01-01 23:55:25,naranjas,40,$4\n",
      "<class 'str'>\n"
     ]
    }
   ],
   "source": [
    "f = open(\"articulos_vendidos.txt\", 'r')\n",
    "s = f.read()\n",
    "print(s)\n",
    "print(type(s))"
   ]
  },
  {
   "cell_type": "code",
   "execution_count": 88,
   "id": "84517883-6d59-4491-b8af-44eb81fba7c1",
   "metadata": {},
   "outputs": [
    {
     "name": "stdout",
     "output_type": "stream",
     "text": [
      "['2023-01-01 10:31:11,manzanas,20,$5\\n', '2023-01-01 22:45:14,bananas,50,$3\\n', '2023-01-01 23:55:25,naranjas,40,$4']\n",
      "<class 'list'>\n"
     ]
    }
   ],
   "source": [
    "f.seek(0)\n",
    "lineas = f.readlines()\n",
    "s = lineas\n",
    "print(s)\n",
    "print(type(s))"
   ]
  },
  {
   "cell_type": "code",
   "execution_count": 84,
   "id": "df9f6d2a-5d5d-4f79-8879-1896679c6fde",
   "metadata": {},
   "outputs": [
    {
     "name": "stdout",
     "output_type": "stream",
     "text": [
      "['2023-01-01 10:31:11,manzanas,20,$5', '2023-01-01 22:45:14,bananas,50,$3', '2023-01-01 23:55:25,naranjas,40,$4']\n"
     ]
    }
   ],
   "source": [
    "f.seek(0)\n",
    "lineas = f.read().splitlines()\n",
    "s = lineas\n",
    "print(s)"
   ]
  },
  {
   "cell_type": "code",
   "execution_count": 51,
   "id": "c7e36587-50bc-4a5f-8def-4d2dd6e1bf43",
   "metadata": {},
   "outputs": [],
   "source": [
    "x = f.readline()"
   ]
  },
  {
   "cell_type": "code",
   "execution_count": 52,
   "id": "8362edcb-5be3-411d-9dd2-3b18a10175f5",
   "metadata": {},
   "outputs": [
    {
     "name": "stdout",
     "output_type": "stream",
     "text": [
      "2023-01-01 10:31:11,manzanas,20,$5\n",
      "\n"
     ]
    }
   ],
   "source": [
    "print(x)"
   ]
  },
  {
   "cell_type": "code",
   "execution_count": 53,
   "id": "f5a14cb5-137e-4cb5-b43a-87ebc55a63bf",
   "metadata": {},
   "outputs": [
    {
     "name": "stdout",
     "output_type": "stream",
     "text": [
      "2023-01-01 22:45:14,bananas,50,$3\n",
      "\n"
     ]
    }
   ],
   "source": [
    "x = f.readline()\n",
    "print(x)"
   ]
  },
  {
   "cell_type": "code",
   "execution_count": 54,
   "id": "4432abf8-9cb8-4bc2-a212-44b28bf77fc9",
   "metadata": {},
   "outputs": [
    {
     "name": "stdout",
     "output_type": "stream",
     "text": [
      "2023-01-01 23:55:25,naranjas,40,$4\n"
     ]
    }
   ],
   "source": [
    "x = f.readline()\n",
    "print(x)"
   ]
  },
  {
   "cell_type": "code",
   "execution_count": 55,
   "id": "21e8af1c-e356-4ece-853e-9778cf13c319",
   "metadata": {},
   "outputs": [
    {
     "name": "stdout",
     "output_type": "stream",
     "text": [
      "\n"
     ]
    }
   ],
   "source": [
    "x = f.readline()\n",
    "print(x)"
   ]
  },
  {
   "cell_type": "code",
   "execution_count": 57,
   "id": "1df9e129-6912-4c1b-9ff0-b2ec8b8ef2d1",
   "metadata": {},
   "outputs": [
    {
     "name": "stdout",
     "output_type": "stream",
     "text": [
      "2023-01-01 10:31:11,manzanas,20,$5\n",
      "\n",
      "<class 'str'>\n"
     ]
    }
   ],
   "source": [
    "f.seek(0)\n",
    "x = f.readline()\n",
    "print(x)\n",
    "print(type(x))"
   ]
  },
  {
   "cell_type": "code",
   "execution_count": 85,
   "id": "c0e1fb84-c79e-4f39-b856-9ff5edae5b02",
   "metadata": {},
   "outputs": [
    {
     "data": {
      "text/plain": [
       "'2023-01-01 10:31:11,manzanas,20,$5\\n'"
      ]
     },
     "execution_count": 85,
     "metadata": {},
     "output_type": "execute_result"
    }
   ],
   "source": [
    "x"
   ]
  },
  {
   "cell_type": "code",
   "execution_count": 89,
   "id": "4dc46199-1f71-467a-aefb-949743954570",
   "metadata": {},
   "outputs": [],
   "source": [
    "y = x.split(\",\")\n",
    "print(y)"
   ]
  },
  {
   "cell_type": "code",
   "execution_count": 91,
   "id": "bf404542-7654-4c2a-9c06-e0dcfb124b87",
   "metadata": {},
   "outputs": [
    {
     "name": "stdout",
     "output_type": "stream",
     "text": [
      "20\n",
      "<class 'str'>\n"
     ]
    }
   ],
   "source": [
    "print(y[2])\n",
    "print(type(y[2]))"
   ]
  },
  {
   "cell_type": "code",
   "execution_count": 93,
   "id": "ae01a9ec-f9f3-4ce9-adb8-ed7c3e39604a",
   "metadata": {},
   "outputs": [
    {
     "data": {
      "text/plain": [
       "21"
      ]
     },
     "execution_count": 93,
     "metadata": {},
     "output_type": "execute_result"
    }
   ],
   "source": [
    "int(y[2]) + 1"
   ]
  },
  {
   "cell_type": "code",
   "execution_count": 112,
   "id": "bf00c9eb-1a0d-4805-9b4f-62b71309f6f1",
   "metadata": {},
   "outputs": [],
   "source": [
    "with open(\"articulos_vendidos.txt\",'r') as f:\n",
    "    lineas = f.read().splitlines()\n",
    "\n",
    "total = 0    \n",
    "for linea in lineas:\n",
    "    elementos = linea.split(',')\n",
    "    cantidad = int(elementos[2])\n",
    "    precio_unitario = int(elementos[3].(\"$\",\"\"))\n",
    "    total += cantidad * precio_unitario"
   ]
  },
  {
   "cell_type": "code",
   "execution_count": 113,
   "id": "eb985eb0-b20a-4e91-b66a-a3aca2b7848c",
   "metadata": {},
   "outputs": [
    {
     "name": "stdout",
     "output_type": "stream",
     "text": [
      "410\n"
     ]
    }
   ],
   "source": [
    "print(total)"
   ]
  },
  {
   "cell_type": "code",
   "execution_count": null,
   "id": "f9d41fca-b893-4c73-b073-94af51641902",
   "metadata": {},
   "outputs": [],
   "source": []
  },
  {
   "cell_type": "code",
   "execution_count": null,
   "id": "2f5215f2-d787-4ff8-9ccd-34827fd9bb94",
   "metadata": {},
   "outputs": [],
   "source": []
  },
  {
   "cell_type": "code",
   "execution_count": null,
   "id": "373afa0b-77a3-4b3c-b9e1-5b564b0c832b",
   "metadata": {},
   "outputs": [],
   "source": []
  },
  {
   "cell_type": "code",
   "execution_count": null,
   "id": "285d33a8-72df-4add-afab-5b13c4d0d10b",
   "metadata": {},
   "outputs": [],
   "source": []
  },
  {
   "cell_type": "code",
   "execution_count": null,
   "id": "a7b7ac15-467d-425a-b7ab-ecbe8fd459b0",
   "metadata": {},
   "outputs": [],
   "source": []
  },
  {
   "cell_type": "code",
   "execution_count": null,
   "id": "03225759-758d-46a1-9b1e-1a148d6175ea",
   "metadata": {},
   "outputs": [],
   "source": []
  },
  {
   "cell_type": "code",
   "execution_count": null,
   "id": "09933571-779d-49af-a4aa-93e7f386f1ea",
   "metadata": {},
   "outputs": [],
   "source": []
  },
  {
   "cell_type": "code",
   "execution_count": null,
   "id": "c03f8d21-d2b5-4648-a85d-eac3fdc7d7e9",
   "metadata": {},
   "outputs": [],
   "source": []
  },
  {
   "cell_type": "code",
   "execution_count": null,
   "id": "3324efae-1082-4c92-8750-64f662d8f197",
   "metadata": {},
   "outputs": [],
   "source": []
  },
  {
   "cell_type": "code",
   "execution_count": null,
   "id": "043bc7a7-117b-4efb-b19b-be4ea8926378",
   "metadata": {},
   "outputs": [],
   "source": []
  },
  {
   "cell_type": "code",
   "execution_count": null,
   "id": "9ca230e5-ce62-4e86-bfed-882df5c61246",
   "metadata": {},
   "outputs": [],
   "source": []
  },
  {
   "cell_type": "code",
   "execution_count": null,
   "id": "6baca2ef-85e9-404a-8af0-9fccdbec5337",
   "metadata": {},
   "outputs": [],
   "source": []
  },
  {
   "cell_type": "code",
   "execution_count": null,
   "id": "008b4ffd-6536-417b-b01f-b888cec4aef2",
   "metadata": {},
   "outputs": [],
   "source": []
  },
  {
   "cell_type": "code",
   "execution_count": 121,
   "id": "10684198-4b81-4977-9ad5-d662a7084050",
   "metadata": {},
   "outputs": [],
   "source": [
    "with open(\"articulos_vendidos2.txt\",'w') as f:\n",
    "    f.write(\"2023,papaya,20,$6,120\\n\")"
   ]
  },
  {
   "cell_type": "code",
   "execution_count": 131,
   "id": "30012f06-8e85-4030-8ae0-083dec03d6cc",
   "metadata": {},
   "outputs": [],
   "source": [
    "with open(\"articulos_vendidos2.txt\",'a') as f:\n",
    "    f.write(\"2023,mango1,15,$7,10\\n2023,mango2,15,$7,10\\n\")\n",
    "    f.write(\"2023,mango2,15,$7,10\\n\")\n",
    "    f.write(\"2023,mango3,15,$7,10\\n\")"
   ]
  },
  {
   "cell_type": "code",
   "execution_count": 63,
   "id": "5179bb2b-9e9d-4bd2-af29-aacd6cffa01b",
   "metadata": {},
   "outputs": [],
   "source": [
    "from datetime import datetime, timedelta"
   ]
  },
  {
   "cell_type": "code",
   "execution_count": 129,
   "id": "e4f008a0-abbb-4af2-86ba-01566f584fd8",
   "metadata": {},
   "outputs": [
    {
     "name": "stdout",
     "output_type": "stream",
     "text": [
      "2023-01-01 10:31:11\n",
      "<class 'datetime.datetime'>\n",
      "<class 'datetime.timedelta'>\n",
      "2023-01-02 15:31:21\n"
     ]
    }
   ],
   "source": [
    "fecha_string = \"01/01/23 10:31:11\"\n",
    "fecha = datetime.strptime(fecha_string, '%d/%m/%y %H:%M:%S')\n",
    "print(fecha)\n",
    "print(type(fecha))\n",
    "delta = timedelta(hours=4, minutes=60*25, seconds=10)\n",
    "print(type(delta))\n",
    "fecha = fecha + delta\n",
    "print(fecha)"
   ]
  },
  {
   "cell_type": "code",
   "execution_count": null,
   "id": "4598d601-4fae-4936-bade-fd11f3379c65",
   "metadata": {},
   "outputs": [],
   "source": []
  }
 ],
 "metadata": {
  "colab": {
   "provenance": []
  },
  "kernelspec": {
   "display_name": "base",
   "language": "python",
   "name": "base"
  },
  "language_info": {
   "codemirror_mode": {
    "name": "ipython",
    "version": 3
   },
   "file_extension": ".py",
   "mimetype": "text/x-python",
   "name": "python",
   "nbconvert_exporter": "python",
   "pygments_lexer": "ipython3",
   "version": "3.9.7"
  }
 },
 "nbformat": 4,
 "nbformat_minor": 5
}
