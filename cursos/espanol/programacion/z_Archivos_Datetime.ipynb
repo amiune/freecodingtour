{
 "cells": [
  {
   "cell_type": "code",
   "execution_count": null,
   "id": "73c380b6-e07e-45c5-b31a-f6f34b3bc339",
   "metadata": {},
   "outputs": [],
   "source": [
    "f = open(\"articulos_vendidos.txt\",'r')\n",
    "print(f.read())\n",
    "f.close()"
   ]
  },
  {
   "cell_type": "code",
   "execution_count": null,
   "id": "fe2544b5-09aa-40f1-8f1a-7d4a465e6e41",
   "metadata": {
    "id": "fe2544b5-09aa-40f1-8f1a-7d4a465e6e41"
   },
   "outputs": [],
   "source": [
    "with open(\"articulos_vendidos.txt\",'r') as f:\n",
    "    #todo_el_texto = f.read()\n",
    "    #lineas = f.readlines()\n",
    "    #lineas = f.read().splitlines()\n",
    "    for linea in f:\n",
    "        print(linea)"
   ]
  },
  {
   "cell_type": "code",
   "execution_count": null,
   "id": "95473852-f3bf-4ca3-9598-571dc702a3ef",
   "metadata": {
    "id": "95473852-f3bf-4ca3-9598-571dc702a3ef"
   },
   "outputs": [],
   "source": [
    "f = open(\"articulos_vendidos.txt\",'r')\n",
    "print(f.read(5))\n",
    "print(f.readline())\n",
    "f.close()"
   ]
  },
  {
   "cell_type": "code",
   "execution_count": null,
   "id": "8ed821d4-39df-4764-beaa-7a97bf360b06",
   "metadata": {},
   "outputs": [],
   "source": [
    "f = open(\"articulos_vendidos.txt\",'r')\n",
    "print(f.read(5))\n",
    "print(f.readline())\n",
    "f.seek(0)\n",
    "print(f.readline())\n",
    "f.close()"
   ]
  },
  {
   "cell_type": "code",
   "execution_count": null,
   "id": "c8229e2d-9387-461c-b87b-c9cdc9be9093",
   "metadata": {},
   "outputs": [],
   "source": []
  }
 ],
 "metadata": {
  "colab": {
   "provenance": []
  },
  "kernelspec": {
   "display_name": "base",
   "language": "python",
   "name": "base"
  },
  "language_info": {
   "codemirror_mode": {
    "name": "ipython",
    "version": 3
   },
   "file_extension": ".py",
   "mimetype": "text/x-python",
   "name": "python",
   "nbconvert_exporter": "python",
   "pygments_lexer": "ipython3",
   "version": "3.9.7"
  }
 },
 "nbformat": 4,
 "nbformat_minor": 5
}
