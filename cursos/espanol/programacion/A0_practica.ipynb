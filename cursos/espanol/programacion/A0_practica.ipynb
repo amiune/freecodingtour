{
 "cells": [
  {
   "cell_type": "markdown",
   "id": "0754ce90-7e03-4d9a-b1d2-310322ae5192",
   "metadata": {},
   "source": [
    "# La practica te convertira en maestr@ \n",
    "\n",
    "Esta unidad consiste solo en ejercicios. Aqui algunos tips: \n",
    "- Hay distintas dificultades de ejercicios.\n",
    "- No es necesario terminarlos todos en un dia. \n",
    "- Tomate tu tiempo.\n",
    "- Hay mas de una solucion correcta, por lo que si tu solucion es distinta a la planteada no te preocupes pero asegurate de que pase todos los casos de prueba.\n",
    "- Si un ejercicio no te sale pasa al siguiente y al final vuelve a ese ejercicio.\n",
    "- Solo mira la solucion luego de varios intentos. Esfuerzate al maximo por resolverlos.\n",
    "- Probablemente muchos ejercicios no te salgan y necesites mirar la solucion. Esto es parte del proceso de aprendizaje. Lo importante es intentar y probar la mayor cantidad de veces posibles antes de darte por vencid@."
   ]
  },
  {
   "cell_type": "markdown",
   "id": "250ba10c-6512-408f-92e9-52e7ef80ce25",
   "metadata": {
    "tags": []
   },
   "source": [
    "### Ejercicio 1:\n",
    "\n",
    "Crear una funcion **ones(n)** que reciba un entero n y devuelva una lista con n unos\n",
    "\n",
    "*Ejemplo de input y output:*\n",
    "\n",
    "*Input: n=5*\n",
    "\n",
    "*Output: [1,1,1,1,1]*"
   ]
  },
  {
   "cell_type": "code",
   "execution_count": null,
   "id": "efb2c16c-18b4-42c7-a4e0-8c122601a14e",
   "metadata": {},
   "outputs": [],
   "source": [
    "def ones(n):\n",
    "    # Escribir aqui la solucion\n",
    "    \n",
    "    "
   ]
  },
  {
   "cell_type": "code",
   "execution_count": null,
   "id": "13e3dfc1-5fe1-410c-9c87-9d00056c6de5",
   "metadata": {},
   "outputs": [],
   "source": [
    "# No modificar el siguiente codigo\n",
    "# Solo ejecutarlo para saber si la funcion creada pasa todos los tests\n",
    "assert ones(5) == [1,1,1,1,1], \"Error en el test 1\"\n",
    "assert ones(0) == [], \"Error en el test 2\"\n",
    "assert ones(3) == [1,1,1], \"Error en el test 3\"\n",
    "assert ones(1) == [1], \"Error en el test 4\"\n",
    "\"Felicitaciones todos los casos de prueba fueron pasados exitosamente!!\""
   ]
  },
  {
   "cell_type": "code",
   "execution_count": null,
   "id": "d97f8405-fe40-46ec-a597-d5951eaa8002",
   "metadata": {},
   "outputs": [],
   "source": [
    "#@title Solucion Ejercicio 1 {display-mode:\"form\"}\n",
    "\n",
    "def ones(n):\n",
    "    x = [1] * n\n",
    "    return x"
   ]
  },
  {
   "cell_type": "markdown",
   "id": "6005cae7-be1e-472a-9aee-bf6d108cea79",
   "metadata": {
    "tags": []
   },
   "source": [
    "### Ejercicio 2:\n",
    "\n",
    "Crear una funcion **enteros(n,m)** que reciba dos numeros enteros n y m y devuelva una lista con todos los enteros de n hasta m-1 \n",
    "\n",
    "*Ejemplo de input y output:*\n",
    "\n",
    "*Input: n=10, m=15*\n",
    "\n",
    "*Output: [10,11,12,13,14]*"
   ]
  },
  {
   "cell_type": "code",
   "execution_count": null,
   "id": "7eebafe9-c717-41de-baeb-1e0bf28e34fc",
   "metadata": {},
   "outputs": [],
   "source": [
    "def enteros(n,m):\n",
    "    # Escribir aqui la solucion\n",
    "    \n",
    "    "
   ]
  },
  {
   "cell_type": "code",
   "execution_count": null,
   "id": "3afe823c-85e2-455b-adad-b4c2a1a4acc0",
   "metadata": {},
   "outputs": [],
   "source": [
    "# No modificar el siguiente codigo\n",
    "# Solo ejecutarlo para saber si la funcion creada pasa todos los tests\n",
    "assert enteros(10,15) == [10,11,12,13,14], \"Error en el test 1\"\n",
    "assert enteros(0,3) == [0,1,2], \"Error en el test 2\"\n",
    "assert enteros(0,0) == [], \"Error en el test 3\"\n",
    "assert enteros(2,4) == [2,3], \"Error en el test 4\"\n",
    "\"Felicitaciones todos los casos de prueba fueron pasados exitosamente!!\""
   ]
  },
  {
   "cell_type": "code",
   "execution_count": null,
   "id": "d89e5fd7-46a6-4a10-a615-40f146e70f4f",
   "metadata": {},
   "outputs": [],
   "source": [
    "#@title Solucion Ejercicio 2 {display-mode:\"form\"}\n",
    "\n",
    "def enteros(n,m):\n",
    "    x = list(range(n,m))\n",
    "    return x"
   ]
  },
  {
   "cell_type": "markdown",
   "id": "44b1b650-2d70-41bd-8cad-9ec971ce570a",
   "metadata": {
    "tags": []
   },
   "source": [
    "### Ejercicio 3:\n",
    "\n",
    "Crear una funcion **enteros2(n,m)** que reciba dos numeros enteros n y m y devuelva una lista con todos los enteros de n hasta m\n",
    "\n",
    "*Ejemplo de input y output:*\n",
    "\n",
    "*Input: n=10, m=15*\n",
    "\n",
    "*Output: [10,11,12,13,14,15]*"
   ]
  },
  {
   "cell_type": "code",
   "execution_count": null,
   "id": "1c8a0095-b897-4872-ab28-4143272543fc",
   "metadata": {},
   "outputs": [],
   "source": [
    "def enteros2(n,m):\n",
    "    # Escribir aqui la solucion\n",
    "    \n",
    "    "
   ]
  },
  {
   "cell_type": "code",
   "execution_count": null,
   "id": "09d2c8a6-72d3-4313-8ef1-2e3e5d7c9358",
   "metadata": {},
   "outputs": [],
   "source": [
    "# No modificar el siguiente codigo\n",
    "# Solo ejecutarlo para saber si la funcion creada pasa todos los tests\n",
    "assert enteros2(10,15) == [10,11,12,13,14,15], \"Error en el test 1\"\n",
    "assert enteros2(0,3) == [0,1,2,3], \"Error en el test 2\"\n",
    "assert enteros2(0,0) == [0], \"Error en el test 3\"\n",
    "assert enteros2(2,4) == [2,3,4], \"Error en el test 4\"\n",
    "\"Felicitaciones todos los casos de prueba fueron pasados exitosamente!!\""
   ]
  },
  {
   "cell_type": "code",
   "execution_count": null,
   "id": "23be13a0-cb26-48be-9ad4-1f61f7c763a0",
   "metadata": {},
   "outputs": [],
   "source": [
    "#@title Solucion Ejercicio 3 {display-mode:\"form\"}\n",
    "\n",
    "def enteros2(n,m):\n",
    "    x = list(range(n,m+1))\n",
    "    return x"
   ]
  },
  {
   "cell_type": "markdown",
   "id": "30e2ddf0-5c67-4e08-b2a4-189a37fbd75e",
   "metadata": {
    "tags": []
   },
   "source": [
    "### Ejercicio 4:\n",
    "\n",
    "Crear una funcion **largo_maximo(a,b,c)** que reciba como parametro tres listas a, b y c y que devuelva el tamaño de la lista mas larga de las tres\n",
    "\n",
    "*Ejemplo de input y output:*\n",
    "\n",
    "*Input: a=[0], b=[], c=[4,5,6]*\n",
    "\n",
    "*Output: 3*"
   ]
  },
  {
   "cell_type": "code",
   "execution_count": null,
   "id": "1d9037c1-a6e0-406b-aad6-f3b680030491",
   "metadata": {},
   "outputs": [],
   "source": [
    "def largo_maximo(a,b,c):\n",
    "    # Escribir aqui la solucion\n",
    "    \n",
    "    "
   ]
  },
  {
   "cell_type": "code",
   "execution_count": null,
   "id": "b3cd53c5-2738-4b0c-adf7-96f24f20d5b6",
   "metadata": {},
   "outputs": [],
   "source": [
    "# No modificar el siguiente codigo\n",
    "# Solo ejecutarlo para saber si la funcion creada pasa todos los tests\n",
    "assert largo_maximo([0],[],[4,5,6]) == 3, \"Error en el test 1\"\n",
    "assert largo_maximo([0],[],[4]) == 1, \"Error en el test 2\"\n",
    "assert largo_maximo([],[],[]) == 0, \"Error en el test 3\"\n",
    "assert largo_maximo([0],[0]*1000,[4,5,6]) == 1000, \"Error en el test 4\"\n",
    "\"Felicitaciones todos los casos de prueba fueron pasados exitosamente!!\""
   ]
  },
  {
   "cell_type": "code",
   "execution_count": null,
   "id": "4ffd6d04-59cf-48ec-9c13-a768d8f8f919",
   "metadata": {},
   "outputs": [],
   "source": [
    "#@title Solucion Ejercicio 4 {display-mode:\"form\"}\n",
    "\n",
    "def largo_maximo(a,b,c):\n",
    "    maximo = max(len(a),len(b),len(c))\n",
    "    return maximo"
   ]
  },
  {
   "cell_type": "markdown",
   "id": "3d1cc297-8fa3-42c6-b203-6cf2ae740d40",
   "metadata": {
    "tags": []
   },
   "source": [
    "### Ejercicio 5:\n",
    "\n",
    "Crear una funcion **agregar_cero(x)** que reciba como parametro una lista x y que devuelva la misma lista pero con un cero agregado al final\n",
    "\n",
    "*Ejemplo de input y output:*\n",
    "\n",
    "*Input: x=[4,5,6]*\n",
    "\n",
    "*Output: [4,5,6,0]*"
   ]
  },
  {
   "cell_type": "code",
   "execution_count": null,
   "id": "cd233d60-3169-448d-917e-debc8e3c21d1",
   "metadata": {},
   "outputs": [],
   "source": [
    "def agregar_cero(x):\n",
    "    # Escribir aqui la solucion\n",
    "    \n",
    "    "
   ]
  },
  {
   "cell_type": "code",
   "execution_count": null,
   "id": "69a92f73-1291-4948-83cc-928748dd462b",
   "metadata": {},
   "outputs": [],
   "source": [
    "# No modificar el siguiente codigo\n",
    "# Solo ejecutarlo para saber si la funcion creada pasa todos los tests\n",
    "assert agregar_cero([4,5,6]) == [4,5,6,0], \"Error en el test 1\"\n",
    "assert agregar_cero([0]) == [0,0], \"Error en el test 2\"\n",
    "assert agregar_cero([]) == [0], \"Error en el test 3\"\n",
    "assert agregar_cero([0]*1000) == [0]*1001, \"Error en el test 4\"\n",
    "\"Felicitaciones todos los casos de prueba fueron pasados exitosamente!!\""
   ]
  },
  {
   "cell_type": "code",
   "execution_count": null,
   "id": "648ed6ae-65a7-4cdb-b775-206c076f4653",
   "metadata": {},
   "outputs": [],
   "source": [
    "#@title Solucion Ejercicio 5 {display-mode:\"form\"}\n",
    "\n",
    "def agregar_cero(x):\n",
    "    x.append(0)\n",
    "    return x"
   ]
  },
  {
   "cell_type": "markdown",
   "id": "e362cdce-2ffd-459d-a0f9-93c4ba84033b",
   "metadata": {
    "tags": []
   },
   "source": [
    "### Ejercicio 6:\n",
    "\n",
    "Crear una funcion **primeros_tres(x)** que reciba como parametro una lista x y que devuelva una lista con los primeros tres elementos de x\n",
    "\n",
    "Aclaraciones:\n",
    "- x siempre tendra al menos tres elementos\n",
    "\n",
    "*Ejemplo de input y output:*\n",
    "\n",
    "*Input: x=[4,5,6,7]*\n",
    "\n",
    "*Output: [4,5,6]*"
   ]
  },
  {
   "cell_type": "code",
   "execution_count": null,
   "id": "eb9478b6-5cca-4cf0-992d-33a66780bd71",
   "metadata": {},
   "outputs": [],
   "source": [
    "def primeros_tres(x):\n",
    "    # Escribir aqui la solucion\n",
    "    \n",
    "    "
   ]
  },
  {
   "cell_type": "code",
   "execution_count": null,
   "id": "835aca49-7fac-495a-b1cb-3900486128c6",
   "metadata": {},
   "outputs": [],
   "source": [
    "# No modificar el siguiente codigo\n",
    "# Solo ejecutarlo para saber si la funcion creada pasa todos los tests\n",
    "assert primeros_tres([4,5,6,7]) == [4,5,6], \"Error en el test 1\"\n",
    "assert primeros_tres([1,2,3]) == [1,2,3], \"Error en el test 2\"\n",
    "assert primeros_tres(list(range(10,20))) == [10,11,12], \"Error en el test 3\"\n",
    "assert primeros_tres([1]*1000) == [1,1,1], \"Error en el test 4\"\n",
    "\"Felicitaciones todos los casos de prueba fueron pasados exitosamente!!\""
   ]
  },
  {
   "cell_type": "code",
   "execution_count": null,
   "id": "dfd9214b-3d0c-47c6-a6ea-74955cd3b6f9",
   "metadata": {},
   "outputs": [],
   "source": [
    "#@title Solucion Ejercicio 6 {display-mode:\"form\"}\n",
    "\n",
    "def primeros_tres(x):\n",
    "    ret = x[:3]\n",
    "    return ret"
   ]
  },
  {
   "cell_type": "markdown",
   "id": "c724a0e4-f845-45ac-95de-698b61c12fe5",
   "metadata": {
    "tags": []
   },
   "source": [
    "### Ejercicio 7:\n",
    "\n",
    "Crear una funcion **ultimos_dos(x)** que reciba como parametro una lista x y que devuelva una lista con los ultimos dos elementos de x\n",
    "\n",
    "Aclaraciones:\n",
    "- x siempre tendra al menos dos elementos\n",
    "\n",
    "*Ejemplo de input y output:*\n",
    "\n",
    "*Input: x=[4,5,6]*\n",
    "\n",
    "*Output: [5,6]*"
   ]
  },
  {
   "cell_type": "code",
   "execution_count": null,
   "id": "54f57ae7-9025-45c6-8faf-9225c2093f25",
   "metadata": {},
   "outputs": [],
   "source": [
    "def ultimos_dos(x):\n",
    "    # Escribir aqui la solucion\n",
    "    \n",
    "    "
   ]
  },
  {
   "cell_type": "code",
   "execution_count": null,
   "id": "b052f49a-f696-44e0-8b32-596791e04b9c",
   "metadata": {},
   "outputs": [],
   "source": [
    "# No modificar el siguiente codigo\n",
    "# Solo ejecutarlo para saber si la funcion creada pasa todos los tests\n",
    "assert ultimos_dos([4,5,6]) == [5,6], \"Error en el test 1\"\n",
    "assert ultimos_dos([1,2]) == [1,2], \"Error en el test 2\"\n",
    "assert ultimos_dos(list(range(10,20))) == [18,19], \"Error en el test 3\"\n",
    "assert ultimos_dos([1]*1000) == [1,1], \"Error en el test 4\"\n",
    "\"Felicitaciones todos los casos de prueba fueron pasados exitosamente!!\""
   ]
  },
  {
   "cell_type": "code",
   "execution_count": null,
   "id": "d554c370-9ea7-421b-a87b-02cfcdecfa94",
   "metadata": {},
   "outputs": [],
   "source": [
    "#@title Solucion Ejercicio 7 {display-mode:\"form\"}\n",
    "\n",
    "# Solucion 1\n",
    "def ultimos_dos(x):\n",
    "    ret = x[-2:]\n",
    "    return ret\n",
    "\n",
    "# Solucion 2\n",
    "def ultimos_dos(x):\n",
    "    n = len(x)\n",
    "    ret = x[n-2:n]\n",
    "    return ret"
   ]
  },
  {
   "cell_type": "markdown",
   "id": "1245f7eb-ea31-4ba4-bd80-308989457db5",
   "metadata": {
    "tags": []
   },
   "source": [
    "### Ejercicio 8:\n",
    "\n",
    "Crear una funcion **invertir_lista_mas10(x)** que reciba como parametro una lista x y que devuelva una lista con los valores de x invertidos y un 10 al final\n",
    "\n",
    "*Ejemplo de input y output:*\n",
    "\n",
    "*Input: x=[4,5,6]*\n",
    "\n",
    "*Output: [6,5,4,10]*"
   ]
  },
  {
   "cell_type": "code",
   "execution_count": null,
   "id": "9f15e3a2-3983-4029-a86e-81e360a6d387",
   "metadata": {},
   "outputs": [],
   "source": [
    "def invertir_lista_mas10(x):\n",
    "    # Escribir aqui la solucion\n",
    "    \n",
    "    "
   ]
  },
  {
   "cell_type": "code",
   "execution_count": null,
   "id": "85c2f54f-661e-490f-acea-33ca6ece28f7",
   "metadata": {},
   "outputs": [],
   "source": [
    "# No modificar el siguiente codigo\n",
    "# Solo ejecutarlo para saber si la funcion creada pasa todos los tests\n",
    "assert invertir_lista_mas10([4,5,6]) == [6,5,4,10], \"Error en el test 1\"\n",
    "assert invertir_lista_mas10([1,2]) == [2,1,10], \"Error en el test 2\"\n",
    "assert invertir_lista_mas10([]) == [10], \"Error en el test 3\"\n",
    "\"Felicitaciones todos los casos de prueba fueron pasados exitosamente!!\""
   ]
  },
  {
   "cell_type": "code",
   "execution_count": null,
   "id": "9849dfe9-723c-4488-b545-b79b30dabb7b",
   "metadata": {},
   "outputs": [],
   "source": [
    "#@title Solucion Ejercicio 8 {display-mode:\"form\"}\n",
    "\n",
    "def invertir_lista_mas10(x):\n",
    "    ret = x[::-1]\n",
    "    ret.append(10)\n",
    "    return ret"
   ]
  },
  {
   "cell_type": "markdown",
   "id": "fae67c92-6ed0-4e62-a6c8-95908a87eb2c",
   "metadata": {
    "tags": []
   },
   "source": [
    "### Ejercicio 9:\n",
    "\n",
    "Crear una funcion **contar_ceros(x)** que reciba como parametro una lista x y que devuelva la cantidad de ceros que hay en dicha lista\n",
    "\n",
    "*Ejemplo de input y output:*\n",
    "\n",
    "*Input: x=[4,5,0,6,0]*\n",
    "\n",
    "*Output: 2*"
   ]
  },
  {
   "cell_type": "code",
   "execution_count": null,
   "id": "cdee92b5-705b-4adb-914c-24731bbcf816",
   "metadata": {},
   "outputs": [],
   "source": [
    "def contar_ceros(x):\n",
    "    # Escribir aqui la solucion\n",
    "    \n",
    "    "
   ]
  },
  {
   "cell_type": "code",
   "execution_count": null,
   "id": "9cb57d88-aeff-479a-ba2f-3912f411a2d7",
   "metadata": {},
   "outputs": [],
   "source": [
    "# No modificar el siguiente codigo\n",
    "# Solo ejecutarlo para saber si la funcion creada pasa todos los tests\n",
    "assert contar_ceros([4,5,0,6,0]) == 2, \"Error en el test 1\"\n",
    "assert contar_ceros([1,2]) == 0, \"Error en el test 2\"\n",
    "assert contar_ceros([]) == 0, \"Error en el test 3\"\n",
    "assert contar_ceros([0]*500) == 500, \"Error en el test 4\"\n",
    "\"Felicitaciones todos los casos de prueba fueron pasados exitosamente!!\""
   ]
  },
  {
   "cell_type": "code",
   "execution_count": null,
   "id": "f6ab099d-0df7-4abb-b7e6-134479562c3e",
   "metadata": {},
   "outputs": [],
   "source": [
    "#@title Solucion Ejercicio 9 {display-mode:\"form\"}\n",
    "\n",
    "# Solucion 1\n",
    "def contar_ceros(x):\n",
    "    contador = 0\n",
    "    for valor in x:\n",
    "        if valor == 0:\n",
    "            contador += 1\n",
    "    return contador\n",
    "\n",
    "# Solucion 2\n",
    "def contar_ceros(x):\n",
    "    return x.count(0)"
   ]
  },
  {
   "cell_type": "markdown",
   "id": "c8d4f4b2-57a0-4dc3-9fe8-9492605c677f",
   "metadata": {
    "tags": []
   },
   "source": [
    "### Ejercicio 10:\n",
    "\n",
    "Crear una funcion **valor_mas_indice(x)** que reciba como parametro una lista x y que devuelva una lista cuyos valores sean iguales al valor de x mas el indice de dicho valor\n",
    "\n",
    "*Ejemplo de input y output:*\n",
    "\n",
    "*Input: x=[4,1,6,2,7]*\n",
    "\n",
    "*Output: [4,2,8,5,11]*    \n",
    "\n",
    "*Explicacion: [4+0, 1+1, 6+2, 2+3, 7+4]*"
   ]
  },
  {
   "cell_type": "code",
   "execution_count": null,
   "id": "60029143-8001-4972-8251-9cc23790b297",
   "metadata": {},
   "outputs": [],
   "source": [
    "def valor_mas_indice(x):\n",
    "    # Escribir aqui la solucion\n",
    "    \n",
    "    "
   ]
  },
  {
   "cell_type": "code",
   "execution_count": null,
   "id": "9fd73715-886b-414c-80c9-67b5f8290c3b",
   "metadata": {},
   "outputs": [],
   "source": [
    "# No modificar el siguiente codigo\n",
    "# Solo ejecutarlo para saber si la funcion creada pasa todos los tests\n",
    "assert valor_mas_indice([4,1,6,2,7]) == [4,2,8,5,11], \"Error en el test 1\"\n",
    "assert valor_mas_indice([1,2]) == [1,3], \"Error en el test 2\"\n",
    "assert valor_mas_indice([]) == [], \"Error en el test 3\"\n",
    "assert valor_mas_indice([0]*500) == list(range(500)), \"Error en el test 4\"\n",
    "\"Felicitaciones todos los casos de prueba fueron pasados exitosamente!!\""
   ]
  },
  {
   "cell_type": "code",
   "execution_count": null,
   "id": "cf851e3a-b9f5-45dd-9097-3fa65103afa8",
   "metadata": {},
   "outputs": [],
   "source": [
    "#@title Solucion Ejercicio 10 {display-mode:\"form\"}\n",
    "\n",
    "# Solucion 1\n",
    "def valor_mas_indice(x):\n",
    "    ret = []\n",
    "    for i in range(len(x)):\n",
    "        ret.append(x[i] + i)\n",
    "    return ret\n",
    "\n",
    "# Solucion 2\n",
    "def valor_mas_indice(x):\n",
    "    for i in range(len(x)):\n",
    "        x[i] = x[i] + i\n",
    "    return x\n",
    "\n",
    "# Atencion!!: estas dos soluciones son validas pero NO son iguales, \n",
    "# la primera devuelve una lista nueva \n",
    "# mientras que la segunda devuelve la misma lista modificada\n",
    "# como no se ha especificado nada al respecto ambas son validas porque pasan los tests."
   ]
  },
  {
   "cell_type": "markdown",
   "id": "3c5cc97a-41d6-46a1-8697-69782c4dce7e",
   "metadata": {},
   "source": [
    "### Ejercicio 11:\n",
    "\n",
    "Crear una funcion **suma_indices0(x)** que reciba como parametro una lista x y que devuelva la suma de los indices cuyos valores son iguales a cero\n",
    "\n",
    "*Ejemplo de input y output:*\n",
    "\n",
    "*Input: x=[4,5,0,6,0]*\n",
    "\n",
    "*Output: 6*\n",
    "\n",
    "*Explicacion: los indices de los valores que son iguales a cero son el indice 2 y el 4. 2+4=6*"
   ]
  },
  {
   "cell_type": "code",
   "execution_count": null,
   "id": "59c7b2ea-0650-4876-97bb-34a9daf18fac",
   "metadata": {},
   "outputs": [],
   "source": [
    "def suma_indices0(x):\n",
    "    # Escribir aqui la solucion\n",
    "    \n",
    "    "
   ]
  },
  {
   "cell_type": "code",
   "execution_count": null,
   "id": "4711a442-522a-4022-8cf2-c4df9e1ff5ce",
   "metadata": {},
   "outputs": [],
   "source": [
    "# No modificar el siguiente codigo\n",
    "# Solo ejecutarlo para saber si la funcion creada pasa todos los tests\n",
    "assert suma_indices0([4,5,0,6,0]) == 6, \"Error en el test 1\"\n",
    "assert suma_indices0([1,2]) == 0, \"Error en el test 2\"\n",
    "assert suma_indices0([]) == 0, \"Error en el test 3\"\n",
    "assert suma_indices0([0]*500) == sum(range(500)), \"Error en el test 4\"\n",
    "assert suma_indices0([0,1,2]) == 0, \"Error en el test 5\"\n",
    "assert suma_indices0([1,1,1,1,1,0,1]) == 5, \"Error en el test 6\"\n",
    "assert suma_indices0([1,1,1,1,0,0,0]) == 15, \"Error en el test 7\"\n",
    "\"Felicitaciones todos los casos de prueba fueron pasados exitosamente!!\""
   ]
  },
  {
   "cell_type": "code",
   "execution_count": null,
   "id": "873ee560-2715-4752-98a7-5146163ace7e",
   "metadata": {},
   "outputs": [],
   "source": [
    "#@title Solucion Ejercicio 11 {display-mode:\"form\"}\n",
    "\n",
    "def suma_indices0(x):\n",
    "    suma = 0\n",
    "    for i in range(len(x)):\n",
    "        if x[i] == 0:\n",
    "            suma += i\n",
    "    return suma"
   ]
  },
  {
   "cell_type": "markdown",
   "id": "2ef59bb3-5ea3-4e9d-b189-2638a50b210a",
   "metadata": {},
   "source": [
    "### Ejercicio 12:\n",
    "\n",
    "Crear una funcion ***suma_valores_indices_pares(x)*** que reciba como parametro una lista x y que devuelva la suma de los valores cuyos indices son pares\n",
    "\n",
    "Aclaracion:\n",
    "- cero es par\n",
    "\n",
    "*Ejemplo de input y output:*\n",
    "\n",
    "*Input: x=[4,5,1,6,3]*\n",
    "\n",
    "*Output: 8*"
   ]
  },
  {
   "cell_type": "code",
   "execution_count": null,
   "id": "ad700cf4-9651-4920-a114-0d85a87649af",
   "metadata": {},
   "outputs": [],
   "source": [
    "def suma_valores_indices_pares(x):\n",
    "    # Escribir aqui la solucion\n",
    "    \n",
    "    "
   ]
  },
  {
   "cell_type": "code",
   "execution_count": null,
   "id": "a2ec5831-4636-4018-a9ac-91caabb2d1fa",
   "metadata": {},
   "outputs": [],
   "source": [
    "# No modificar el siguiente codigo\n",
    "# Solo ejecutarlo para saber si la funcion creada pasa todos los tests\n",
    "assert suma_valores_indices_pares([4,5,1,6,3]) == 8, \"Error en el test 1\"\n",
    "assert suma_valores_indices_pares([1,2]) == 1, \"Error en el test 2\"\n",
    "assert suma_valores_indices_pares([]) == 0, \"Error en el test 3\"\n",
    "assert suma_valores_indices_pares([0]*500) == 0, \"Error en el test 4\"\n",
    "assert suma_valores_indices_pares([0,1,2]) == 2, \"Error en el test 5\"\n",
    "assert suma_valores_indices_pares([1,1,1,1,1,0,1]) == 4, \"Error en el test 6\"\n",
    "assert suma_valores_indices_pares([1,1,1,1,0,0,0]) == 2, \"Error en el test 7\"\n",
    "\"Felicitaciones todos los casos de prueba fueron pasados exitosamente!!\""
   ]
  },
  {
   "cell_type": "code",
   "execution_count": null,
   "id": "27e6c26c-219e-4692-95b8-ac85f33070cf",
   "metadata": {},
   "outputs": [],
   "source": [
    "#@title Solucion Ejercicio 12 {display-mode:\"form\"}\n",
    "\n",
    "def suma_valores_indices_pares(x):\n",
    "    suma = 0\n",
    "    for i in range(len(x)):\n",
    "        if i%2 == 0:\n",
    "            suma += x[i]\n",
    "    return suma"
   ]
  },
  {
   "cell_type": "markdown",
   "id": "a9843d45-658a-4724-8480-40e7dedd961f",
   "metadata": {},
   "source": [
    "### Ejercicio 13:\n",
    "\n",
    "Crear una funcion **suma_rara(x)** que reciba como parametro una lista x y que devuelva la suma de los valores mayores a 10 cuyo indice sea impar\n",
    "\n",
    "Aclaracion:\n",
    "- cero es par\n",
    "\n",
    "*Ejemplo de input y output:*\n",
    "\n",
    "*Input: x=[11,25,1,20,3,4]*\n",
    "\n",
    "*Output: 45*"
   ]
  },
  {
   "cell_type": "code",
   "execution_count": null,
   "id": "5693bdff-040b-4780-a2e3-712a7dcb537f",
   "metadata": {},
   "outputs": [],
   "source": [
    "def suma_rara(x):\n",
    "    # Escribir aqui la solucion\n",
    "    \n",
    "    "
   ]
  },
  {
   "cell_type": "code",
   "execution_count": null,
   "id": "86a1b783-9e2a-4f7c-91d4-469fe6204ee7",
   "metadata": {},
   "outputs": [],
   "source": [
    "# No modificar el siguiente codigo\n",
    "# Solo ejecutarlo para saber si la funcion creada pasa todos los tests\n",
    "assert suma_rara([11,25,1,20,3,4]) == 45, \"Error en el test 1\"\n",
    "assert suma_rara([1,2,3,4,5,6]) == 0, \"Error en el test 2\"\n",
    "assert suma_rara([]) == 0, \"Error en el test 3\"\n",
    "assert suma_rara([11,11,11,11,11,11]) == 33, \"Error en el test 4\"\n",
    "assert suma_rara([11]*11) == 11*5, \"Error en el test 5\"\n",
    "assert suma_rara(list(range(1000))) == 249975, \"Error en el test 6\"\n",
    "\"Felicitaciones todos los casos de prueba fueron pasados exitosamente!!\""
   ]
  },
  {
   "cell_type": "code",
   "execution_count": null,
   "id": "698089e9-07d7-4c24-9e4e-307b1f105676",
   "metadata": {},
   "outputs": [],
   "source": [
    "#@title Solucion Ejercicio 13 {display-mode:\"form\"}\n",
    "\n",
    "def suma_rara(x):\n",
    "    suma = 0\n",
    "    for i in range(len(x)):\n",
    "        if i%2 == 1 and x[i] > 10:\n",
    "            suma += x[i]\n",
    "    return suma"
   ]
  },
  {
   "cell_type": "markdown",
   "id": "e6f7ba43-3dc0-4948-ab70-18b6645ce50d",
   "metadata": {},
   "source": [
    "### Ejercicio 14:\n",
    "\n",
    "Crear una funcion **padding_derecha(s)** que reciba como parametro una string s y que si el largo de s es menor a diez le agrege el caracter \"X\" al final tantas veces como sea necesario para que su largo sea diez y devuelva dicha string\n",
    "\n",
    "*Ejemplo de input y output:*\n",
    "\n",
    "*Input: s=\"Hola\"*\n",
    "\n",
    "*Output: \"HolaXXXXXX\"*"
   ]
  },
  {
   "cell_type": "code",
   "execution_count": null,
   "id": "9ade9c89-0042-4569-98e1-4e9655d5c51f",
   "metadata": {},
   "outputs": [],
   "source": [
    "def padding_derecha(s):\n",
    "    # Escribir aqui la solucion\n",
    "    \n",
    "    "
   ]
  },
  {
   "cell_type": "code",
   "execution_count": null,
   "id": "feaf27e2-8c31-4f82-bd36-802872258498",
   "metadata": {},
   "outputs": [],
   "source": [
    "# No modificar el siguiente codigo\n",
    "# Solo ejecutarlo para saber si la funcion creada pasa todos los tests\n",
    "assert padding_derecha(\"Hola\") == \"HolaXXXXXX\", \"Error en el test 1\"\n",
    "assert padding_derecha(\"\") == \"XXXXXXXXXX\", \"Error en el test 2\"\n",
    "assert padding_derecha(\"Extraordinario\") == \"Extraordinario\", \"Error en el test 3\"\n",
    "assert padding_derecha(\"ABCDEFGHI\") == \"ABCDEFGHIX\", \"Error en el test 4\"\n",
    "\"Felicitaciones todos los casos de prueba fueron pasados exitosamente!!\""
   ]
  },
  {
   "cell_type": "code",
   "execution_count": null,
   "id": "37c32113-f9df-4c85-94a8-a90267434ddf",
   "metadata": {},
   "outputs": [],
   "source": [
    "#@title Solucion Ejercicio 14 {display-mode:\"form\"}\n",
    "\n",
    "# Solucion 1\n",
    "def padding_derecha(s):\n",
    "    n = 10 - len(s)\n",
    "    for i in range(n):\n",
    "        s = s + \"X\"\n",
    "    return s\n",
    "\n",
    "# Solucion 2\n",
    "def padding_derecha(s):\n",
    "    n = 10 - len(s)\n",
    "    s = s + \"X\" * n\n",
    "    return s\n",
    "\n",
    "# Solucion 3\n",
    "def padding_derecha(s):\n",
    "    return s.ljust(10,\"X\")\n",
    "\n",
    "# Solucion 4\n",
    "def padding_derecha(s):\n",
    "    while len(s) < 10:\n",
    "        s = s + 'X'\n",
    "    return s"
   ]
  },
  {
   "cell_type": "markdown",
   "id": "d03c4791-b480-4e1c-b6fe-ecbdca694333",
   "metadata": {},
   "source": [
    "### Ejercicio 15:\n",
    "\n",
    "Crear una funcion **padding_izquierda(s)** que reciba como parametro una string s y que si el largo de s es menor a diez le agrege el caracter de \"X\" necesarios al comienzo para que su largo sea diez y devuelva dicha string\n",
    "\n",
    "*Ejemplo de input y output:*\n",
    "\n",
    "*Input: s=\"Hola\"*\n",
    "\n",
    "*Output: \"XXXXXXHola\"*"
   ]
  },
  {
   "cell_type": "code",
   "execution_count": null,
   "id": "7be93522-4233-4cf3-8436-be01de645a91",
   "metadata": {},
   "outputs": [],
   "source": [
    "def padding_izquierda(s):\n",
    "    # Escribir aqui la solucion\n",
    "    \n",
    "    "
   ]
  },
  {
   "cell_type": "code",
   "execution_count": null,
   "id": "0fed873b-ed66-4dd5-bbec-67b5642e46db",
   "metadata": {},
   "outputs": [],
   "source": [
    "# No modificar el siguiente codigo\n",
    "# Solo ejecutarlo para saber si la funcion creada pasa todos los tests\n",
    "assert padding_izquierda(\"Hola\") == \"XXXXXXHola\", \"Error en el test 1\"\n",
    "assert padding_izquierda(\"\") == \"XXXXXXXXXX\", \"Error en el test 2\"\n",
    "assert padding_izquierda(\"Extraordinario\") == \"Extraordinario\", \"Error en el test 3\"\n",
    "assert padding_izquierda(\"ABCDEFGHI\") == \"XABCDEFGHI\", \"Error en el test 4\"\n",
    "\"Felicitaciones todos los casos de prueba fueron pasados exitosamente!!\""
   ]
  },
  {
   "cell_type": "code",
   "execution_count": null,
   "id": "1e4490ef-240f-4c4b-9460-0e74f7426296",
   "metadata": {},
   "outputs": [],
   "source": [
    "#@title Solucion Ejercicio 15 {display-mode:\"form\"}\n",
    "\n",
    "# Solucion 1\n",
    "def padding_izquierda(s):\n",
    "    for i in range(len(s),10):\n",
    "        s = \"X\" + s\n",
    "    return s\n",
    "\n",
    "# Solucion 2\n",
    "def padding_izquierda(s):\n",
    "    while len(s) < 10:\n",
    "        s = \"X\" + s\n",
    "    return s\n",
    "\n",
    "# Solucion 3\n",
    "def padding_izquierda(s):\n",
    "    return s.rjust(10,\"X\")"
   ]
  },
  {
   "cell_type": "markdown",
   "id": "be880635-0ae7-426e-998d-b0dbdebacb5b",
   "metadata": {},
   "source": [
    "### Ejercicio 16:\n",
    "\n",
    "Crear una funcion **padding_and_bound(s)** que reciba como parametro una string s y que si el largo de s es menor a diez le agrege el caracter de \"X\" necesarios al final para que su largo sea diez y devuelva dicha string. Si s tiene mas de diez caracteres remover los ultimos para que solo tenga diez.\n",
    "\n",
    "*Ejemplo de input y output:*\n",
    "\n",
    "*Input: s=\"Hola\"*\n",
    "\n",
    "*Output: \"HolaXXXXXX\"*"
   ]
  },
  {
   "cell_type": "code",
   "execution_count": null,
   "id": "3e192872-f8c6-4b55-aea8-324cbdbf9c7b",
   "metadata": {},
   "outputs": [],
   "source": [
    "def padding_and_bound(s):\n",
    "    # Escribir aqui la solucion\n",
    "    \n",
    "    "
   ]
  },
  {
   "cell_type": "code",
   "execution_count": null,
   "id": "cb65ece3-3df1-42c9-ba23-9ddd698df8ff",
   "metadata": {},
   "outputs": [],
   "source": [
    "# No modificar el siguiente codigo\n",
    "# Solo ejecutarlo para saber si la funcion creada pasa todos los tests\n",
    "assert padding_and_bound(\"Hola\") == \"HolaXXXXXX\", \"Error en el test 1\"\n",
    "assert padding_and_bound(\"\") == \"XXXXXXXXXX\", \"Error en el test 2\"\n",
    "assert padding_and_bound(\"Extraordinario\") == \"Extraordin\", \"Error en el test 3\"\n",
    "assert padding_and_bound(\"ABCDEFGHI\") == \"ABCDEFGHIX\", \"Error en el test 4\"\n",
    "assert padding_and_bound(\"0123456789\") == \"0123456789\", \"Error en el test 5\"\n",
    "\"Felicitaciones todos los casos de prueba fueron pasados exitosamente!!\""
   ]
  },
  {
   "cell_type": "code",
   "execution_count": null,
   "id": "07c0741a-277c-4db1-9acb-0f4bcdb5b1bf",
   "metadata": {},
   "outputs": [],
   "source": [
    "#@title Solucion Ejercicio 16 {display-mode:\"form\"}\n",
    "\n",
    "def padding_and_bound(s):\n",
    "    s = s + \"XXXXXXXXXX\"\n",
    "    s = s[:10]\n",
    "    return s"
   ]
  },
  {
   "cell_type": "markdown",
   "id": "21d5e502-b376-42f6-a3aa-351a04cb2c14",
   "metadata": {},
   "source": [
    "### Ejercicio 17:\n",
    "\n",
    "Crear una funcion **pad_and_invert(x)** que reciba como parametro una lista x y que si el largo de x es menor a diez le agrege los ceros necesarios al final para que su largo sea diez y devuelva dicha lista invertida. Si el largo de x es mayor a diez truncarla para que solo tenga diez elementos y devolverla invertida.\n",
    "\n",
    "*Ejemplo de input y output:*\n",
    "\n",
    "*Input: x=[1,2,3,4,5,6,7]*\n",
    "\n",
    "*Output: [0,0,0,7,6,5,4,3,2,1]*"
   ]
  },
  {
   "cell_type": "code",
   "execution_count": null,
   "id": "9696fdf9-5333-42d1-b095-ed53011f8c82",
   "metadata": {},
   "outputs": [],
   "source": [
    "def pad_and_invert(x):\n",
    "    # Escribir aqui la solucion\n",
    "    \n",
    "    "
   ]
  },
  {
   "cell_type": "code",
   "execution_count": null,
   "id": "6c574b7a-491b-4710-91d6-302d2ba5215f",
   "metadata": {},
   "outputs": [],
   "source": [
    "# No modificar el siguiente codigo\n",
    "# Solo ejecutarlo para saber si la funcion creada pasa todos los tests\n",
    "assert pad_and_invert([1,2,3,4,5,6,7]) == [0,0,0,7,6,5,4,3,2,1], \"Error en el test 1\"\n",
    "assert pad_and_invert([0,1,2,3,4,5,6,7,8,9]) == [9,8,7,6,5,4,3,2,1,0], \"Error en el test 2\"\n",
    "assert pad_and_invert([]) == [0,0,0,0,0,0,0,0,0,0], \"Error en el test 3\"\n",
    "assert pad_and_invert([1,2,3,4,5,6,7,8,9,10,11,12,13]) == [10,9,8,7,6,5,4,3,2,1], \"Error en el test 4\"\n",
    "\"Felicitaciones todos los casos de prueba fueron pasados exitosamente!!\""
   ]
  },
  {
   "cell_type": "code",
   "execution_count": null,
   "id": "3f2d6f28-2244-4563-9a26-bbcfb01e768e",
   "metadata": {},
   "outputs": [],
   "source": [
    "#@title Solucion Ejercicio 17 {display-mode:\"form\"}\n",
    "\n",
    "def pad_and_invert(x):\n",
    "    for i in range(len(x),10):\n",
    "        x.append(0)\n",
    "    x = x[:10]\n",
    "    x = x[::-1]\n",
    "    return x"
   ]
  },
  {
   "cell_type": "markdown",
   "id": "a606a79f-e6eb-4360-950b-4fcf33fb9245",
   "metadata": {},
   "source": [
    "### Ejercicio 18:\n",
    "\n",
    "Crear una funcion llamada **lista_vacia(lista)** que reciba un parametro de tipo lista y devuelva True si la lista esta vacia o False si la lista contiene uno o mas elementos.\n",
    "\n",
    "*Ejemplo:* \n",
    "\n",
    "*Input: lista=[]* \n",
    "\n",
    "*Output: True*"
   ]
  },
  {
   "cell_type": "code",
   "execution_count": null,
   "id": "a73ae64d-f640-4b0d-b2d5-d0bcf1828314",
   "metadata": {},
   "outputs": [],
   "source": [
    "def lista_vacia(lista):\n",
    "    # Escribir aqui la solucion\n",
    "    \n",
    "    "
   ]
  },
  {
   "cell_type": "code",
   "execution_count": null,
   "id": "e52fcd52-92a0-4d0b-aece-56bbcfe6ea0e",
   "metadata": {},
   "outputs": [],
   "source": [
    "# No modificar el siguiente codigo\n",
    "# Solo ejecutarlo para saber si la funcion creada pasa todos los tests\n",
    "assert lista_vacia([]) == True, \"Error en el test 1\"\n",
    "assert lista_vacia([0]) == False, \"Error en el test 2\"\n",
    "assert lista_vacia([1,1,1,1,1,1,1]) == False, \"Error en el test 3\"\n",
    "assert lista_vacia([\"cool\"]) == False, \"Error en el test 4\"\n",
    "\"Felicitaciones todos los casos de prueba fueron pasados exitosamente!!\""
   ]
  },
  {
   "cell_type": "code",
   "execution_count": null,
   "id": "0ee27d21-5e92-4d7e-9ea0-0cae4f0d08eb",
   "metadata": {},
   "outputs": [],
   "source": [
    "#@title Solucion Ejercicio 18 {display-mode:\"form\"}\n",
    "\n",
    "def lista_vacia(lista):\n",
    "    if len(lista) == 0:\n",
    "        return True\n",
    "    return False"
   ]
  },
  {
   "cell_type": "markdown",
   "id": "1a53f4e8-21e1-435f-a11f-2172c3ce911b",
   "metadata": {},
   "source": [
    "### Ejercicio 19:\n",
    "\n",
    "Crear una funcion llamada **menor(lista)** que reciba un parametro de tipo lista y devuelva el menor valor de dicha lista.\n",
    "\n",
    "*Ejemplo:* \n",
    "\n",
    "*Input: lista=[40,3,2,18,3]* \n",
    "\n",
    "*Output: 2*"
   ]
  },
  {
   "cell_type": "code",
   "execution_count": null,
   "id": "6469eca8-6de3-407c-a08e-7f6cfc1d2076",
   "metadata": {},
   "outputs": [],
   "source": [
    "def menor(lista):\n",
    "    # Escribir aqui la solucion\n",
    "    \n",
    "    "
   ]
  },
  {
   "cell_type": "code",
   "execution_count": null,
   "id": "3dab4f52-b42d-49b6-8e30-159f0a2e8222",
   "metadata": {},
   "outputs": [],
   "source": [
    "# No modificar el siguiente codigo\n",
    "# Solo ejecutarlo para saber si la funcion creada pasa todos los tests\n",
    "assert menor([40,3,2,18,3]) == 2, \"Error en el test 1\"\n",
    "assert menor([2,3.5,4.6,104.3,55]) == 2, \"Error en el test 2\"\n",
    "assert menor([-40,3,2,18,3]) == -40, \"Error en el test 3\"\n",
    "assert menor([-1,-2,-3,2,1]) == -3, \"Error en el test 4\"\n",
    "assert menor([1]) == 1, \"Error en el test 5\"\n",
    "assert menor([3,3,3,3,3,3,3]) == 3, \"Error en el test 6\"\n",
    "\"Felicitaciones todos los casos de prueba fueron pasados exitosamente!!\""
   ]
  },
  {
   "cell_type": "code",
   "execution_count": null,
   "id": "f48411db-64b1-4770-ab8d-6eb0e0475034",
   "metadata": {},
   "outputs": [],
   "source": [
    "#@title Solucion Ejercicio 19 {display-mode:\"form\"}\n",
    "\n",
    "# Solucion 1\n",
    "def menor(lista):\n",
    "    tmp_menor = lista[0]\n",
    "    for item in lista:\n",
    "        if item < tmp_menor:\n",
    "            tmp_menor = item\n",
    "    return tmp_menor\n",
    "\n",
    "# Solucion 2\n",
    "def menor(lista):\n",
    "    return min(lista)"
   ]
  },
  {
   "cell_type": "markdown",
   "id": "fd6c3fbe-bc86-48dc-8918-31aee745990e",
   "metadata": {},
   "source": [
    "### Ejercicio 20:\n",
    "\n",
    "Crear una funcion llamada **menor_sin_extremos(lista)** que reciba un parametro de tipo lista y devuelva el menor valor de dicha lista pero sin tener en cuenta el primer y ultimo valor.\n",
    "\n",
    "*Ejemplo:* \n",
    "\n",
    "*Input: lista=[40,3,2,18,1]* \n",
    "\n",
    "*Output: 2*"
   ]
  },
  {
   "cell_type": "code",
   "execution_count": null,
   "id": "60093304-a6ba-4593-afc0-a19cc937bff8",
   "metadata": {},
   "outputs": [],
   "source": [
    "def menor_sin_extremos(lista):\n",
    "    # Escribir aqui la solucion\n",
    "    \n",
    "    "
   ]
  },
  {
   "cell_type": "code",
   "execution_count": null,
   "id": "f49df3c5-4a17-42fa-ad31-30e08034e913",
   "metadata": {},
   "outputs": [],
   "source": [
    "# No modificar el siguiente codigo\n",
    "# Solo ejecutarlo para saber si la funcion creada pasa todos los tests\n",
    "assert menor_sin_extremos([40,3,2,18,1]) == 2, \"Error en el test 1\"\n",
    "assert menor_sin_extremos([2,3.5,4.6,104.3,55]) == 3.5, \"Error en el test 2\"\n",
    "assert menor_sin_extremos([-40,3,2,18,3]) == 2, \"Error en el test 3\"\n",
    "assert menor_sin_extremos([-10,-2,-3,2,1]) == -3, \"Error en el test 4\"\n",
    "assert menor_sin_extremos([3,3,3,3,3,3,3]) == 3, \"Error en el test 5\"\n",
    "\"Felicitaciones todos los casos de prueba fueron pasados exitosamente!!\""
   ]
  },
  {
   "cell_type": "code",
   "execution_count": null,
   "id": "d1b2d023-4e4c-46cc-9a77-01f5a844ff23",
   "metadata": {},
   "outputs": [],
   "source": [
    "#@title Solucion Ejercicio 20 {display-mode:\"form\"}\n",
    "\n",
    "def menor_sin_extremos(lista):\n",
    "    tmp_menor = lista[1]\n",
    "    for i in range(2,len(lista)-1):\n",
    "        if lista[i] < tmp_menor:\n",
    "            tmp_menor = lista[i]\n",
    "    return tmp_menor"
   ]
  },
  {
   "cell_type": "markdown",
   "id": "89746fc3-941f-4729-a7bc-2bc222051ca4",
   "metadata": {},
   "source": [
    "### Ejercicio 21:\n",
    "\n",
    "Crear una funcion llamada **intercambiar1y2(lista)** que reciba un parametro de tipo lista con solo dos elementos y devuelva una lista con los dos valores intercambiados de posicion\n",
    "\n",
    "*Ejemplo:* \n",
    "\n",
    "*Input: lista=[40,1]* \n",
    "\n",
    "*Output: [1,40]*"
   ]
  },
  {
   "cell_type": "code",
   "execution_count": null,
   "id": "185183a0-5c5b-4691-928a-b699b6badffa",
   "metadata": {},
   "outputs": [],
   "source": [
    "def intercambiar1y2(lista):\n",
    "    # Escribir aqui la solucion\n",
    "    \n",
    "    "
   ]
  },
  {
   "cell_type": "code",
   "execution_count": null,
   "id": "4265c5d0-1364-46c6-b715-dd2ef30413ae",
   "metadata": {},
   "outputs": [],
   "source": [
    "# No modificar el siguiente codigo\n",
    "# Solo ejecutarlo para saber si la funcion creada pasa todos los tests\n",
    "assert intercambiar1y2([40,1]) == [1,40], \"Error en el test 1\"\n",
    "assert intercambiar1y2([1,1]) == [1,1], \"Error en el test 2\"\n",
    "assert intercambiar1y2([\"a\",\"b\"]) == [\"b\",\"a\"], \"Error en el test 3\"\n",
    "assert intercambiar1y2([-10,1.5]) == [1.5,-10], \"Error en el test 4\"\n",
    "\"Felicitaciones todos los casos de prueba fueron pasados exitosamente!!\""
   ]
  },
  {
   "cell_type": "code",
   "execution_count": null,
   "id": "cb67fa0f-6b7b-4249-ba75-22516a13ad72",
   "metadata": {},
   "outputs": [],
   "source": [
    "#@title Solucion Ejercicio 21 {display-mode:\"form\"}\n",
    "\n",
    "# Solucion 1\n",
    "def intercambiar1y2(lista):\n",
    "    return [lista[1],lista[0]]\n",
    "\n",
    "# Solucion 2\n",
    "def intercambiar1y2(lista):\n",
    "    return lista[::-1]"
   ]
  },
  {
   "cell_type": "markdown",
   "id": "7cf74b3e-4a93-437a-bdbf-b202fabf902d",
   "metadata": {},
   "source": [
    "### Ejercicio 22:\n",
    "\n",
    "Crear una funcion llamada **intercambiar_primero_ultimo(lista)** que reciba un parametro de tipo lista y devuelva una lista igual a la recibida pero con el primer valor intercambiado por el ultimo.\n",
    "\n",
    "*Ejemplo:* \n",
    "\n",
    "*Input: lista=[40,2,3,4,5,1]* \n",
    "\n",
    "*Output: [1,2,3,4,5,40]*"
   ]
  },
  {
   "cell_type": "code",
   "execution_count": null,
   "id": "ec862d79-2438-4913-9299-a766a431086e",
   "metadata": {},
   "outputs": [],
   "source": [
    "def intercambiar_primero_ultimo(lista):\n",
    "    # Escribir aqui la solucion\n",
    "    \n",
    "    "
   ]
  },
  {
   "cell_type": "code",
   "execution_count": null,
   "id": "eba95748-b25b-43cf-8ff7-609afbaa6a0e",
   "metadata": {},
   "outputs": [],
   "source": [
    "# No modificar el siguiente codigo\n",
    "# Solo ejecutarlo para saber si la funcion creada pasa todos los tests\n",
    "assert intercambiar_primero_ultimo([40,2,3,4,5,1]) == [1,2,3,4,5,40], \"Error en el test 1\"\n",
    "assert intercambiar_primero_ultimo([40,2,1]) == [1,2,40], \"Error en el test 2\"\n",
    "assert intercambiar_primero_ultimo([4,5]) == [5,4], \"Error en el test 3\"\n",
    "assert intercambiar_primero_ultimo([3,3,3,3]) == [3,3,3,3], \"Error en el test 4\"\n",
    "\"Felicitaciones todos los casos de prueba fueron pasados exitosamente!!\""
   ]
  },
  {
   "cell_type": "code",
   "execution_count": null,
   "id": "892e4c3c-9ca8-4b87-a27f-2e7af86fd756",
   "metadata": {},
   "outputs": [],
   "source": [
    "#@title Solucion Ejercicio 22 {display-mode:\"form\"}\n",
    "\n",
    "# Solucion 1\n",
    "def intercambiar_primero_ultimo(lista):\n",
    "    primero = lista[0]\n",
    "    ultimo = lista[len(lista)-1]\n",
    "    lista[0] = ultimo\n",
    "    lista[len(lista)-1] = primero\n",
    "    return lista\n",
    "\n",
    "# Solucion 2\n",
    "def intercambiar_primero_ultimo(lista):\n",
    "    primero = lista[0]\n",
    "    ultimo = lista[-1]\n",
    "    lista[0] = ultimo\n",
    "    lista[-1] = primero\n",
    "    return lista"
   ]
  },
  {
   "cell_type": "markdown",
   "id": "591e413a-2b6f-4eb0-a423-9d4ad4aeffed",
   "metadata": {},
   "source": [
    "### Ejercicio 23:\n",
    "\n",
    "Crear una funcion llamada **intercambiar(lista, i, j)** que reciba un parametro de tipo lista y dos enteros i y j y devuelva una lista igual a la recibida pero con el valor que se encuentra en el indice i intercambiado por el valor que se encuentra en el indice j\n",
    "\n",
    "*Ejemplo:* \n",
    "\n",
    "*Input: lista=[40,2,3,4,5,1], i=1, j=3* \n",
    "\n",
    "*Output: [40,4,3,2,5,1]*"
   ]
  },
  {
   "cell_type": "code",
   "execution_count": null,
   "id": "fdbca0ba-8b26-4ddf-bfcf-17df29a0e823",
   "metadata": {},
   "outputs": [],
   "source": [
    "def intercambiar(lista, i, j):\n",
    "    # Escribir aqui la solucion\n",
    "    \n",
    "    "
   ]
  },
  {
   "cell_type": "code",
   "execution_count": null,
   "id": "f6d0db68-5a93-4a72-945e-61727ea6288c",
   "metadata": {},
   "outputs": [],
   "source": [
    "# No modificar el siguiente codigo\n",
    "# Solo ejecutarlo para saber si la funcion creada pasa todos los tests\n",
    "assert intercambiar([40,2,3,4,5,1],1,3) == [40,4,3,2,5,1], \"Error en el test 1\"\n",
    "assert intercambiar([40,2,3,4,5,1],3,1) == [40,4,3,2,5,1], \"Error en el test 2\"\n",
    "assert intercambiar([40,2,1],2,0) == [1,2,40], \"Error en el test 2\"\n",
    "assert intercambiar([4,5],0,1) == [5,4], \"Error en el test 3\"\n",
    "assert intercambiar([2,3,4,5],2,2) == [2,3,4,5], \"Error en el test 4\"\n",
    "\"Felicitaciones todos los casos de prueba fueron pasados exitosamente!!\""
   ]
  },
  {
   "cell_type": "code",
   "execution_count": null,
   "id": "afff7d68-6f63-43ff-8d29-61dc9d78e580",
   "metadata": {},
   "outputs": [],
   "source": [
    "#@title Solucion Ejercicio 23 {display-mode:\"form\"}\n",
    "\n",
    "def intercambiar(lista, i, j):\n",
    "    item_i = lista[i]\n",
    "    item_j = lista[j]\n",
    "    lista[i] = item_j\n",
    "    lista[j] = item_i\n",
    "    return lista"
   ]
  },
  {
   "cell_type": "markdown",
   "id": "8b0c7858-63dd-428d-9c03-9fa8f7f6492b",
   "metadata": {},
   "source": [
    "### Ejercicio 24:\n",
    "\n",
    "Crear una funcion llamada **suma_de_seleccionados(lista, indices)** que reciba dos parametros de tipo lista y devuelva la suma de los valores indicados por los indices de la segunda lista.\n",
    "\n",
    "*Ejemplo:* \n",
    "\n",
    "*Input: lista=[1,2,3,4,5,6], indices=[2,4]* \n",
    "\n",
    "*Output: 8*"
   ]
  },
  {
   "cell_type": "code",
   "execution_count": null,
   "id": "3df7a4b9-d6af-491a-93f6-d39f8b585ec4",
   "metadata": {},
   "outputs": [],
   "source": [
    "def suma_de_seleccionados(lista, indices):\n",
    "    # Escribir aqui la solucion\n",
    "    \n",
    "    "
   ]
  },
  {
   "cell_type": "code",
   "execution_count": null,
   "id": "29c290d3-8b3e-435a-9c74-472a250c5770",
   "metadata": {},
   "outputs": [],
   "source": [
    "# No modificar el siguiente codigo\n",
    "# Solo ejecutarlo para saber si la funcion creada pasa todos los tests\n",
    "assert suma_de_seleccionados([1,2,3,4,5,6],[2,4]) == 8, \"Error en el test 1\"\n",
    "assert suma_de_seleccionados([-1,2,3,4,5,6],[0,5]) == 5, \"Error en el test 2\"\n",
    "assert suma_de_seleccionados([-1,2,3,4,5,6],[0,5,4,1,2,3]) == 19, \"Error en el test 3\"\n",
    "assert suma_de_seleccionados([-1,2,3,4,5,6],[0,5,2]) == 8, \"Error en el test 4\"\n",
    "\"Felicitaciones todos los casos de prueba fueron pasados exitosamente!!\""
   ]
  },
  {
   "cell_type": "code",
   "execution_count": null,
   "id": "cb61b03a-d13f-43d8-bc39-23e647d2a1dd",
   "metadata": {},
   "outputs": [],
   "source": [
    "#@title Solucion Ejercicio 24 {display-mode:\"form\"}\n",
    "\n",
    "def suma_de_seleccionados(lista, indices):\n",
    "    suma = 0\n",
    "    for i in indices:\n",
    "        suma += lista[i]\n",
    "    return suma"
   ]
  },
  {
   "cell_type": "markdown",
   "id": "4c8fbf82-5f15-4021-ba4c-30080dd04a44",
   "metadata": {},
   "source": [
    "### Ejercicio 25:\n",
    "\n",
    "Crear una funcion llamada **suma_2_anteriores(lista)** que reciba un parametro de tipo lista y que devuelva la misma lista pero que cada elemento a partir del indice 2 sea igual a la suma de los dos anteriores.\n",
    "\n",
    "*Ejemplo:* \n",
    "\n",
    "*Input: lista=[0,1,0,0,0,0,0,0]* \n",
    "\n",
    "*Output: [0,1,1,2,3,5,8,13]*"
   ]
  },
  {
   "cell_type": "code",
   "execution_count": null,
   "id": "662bb29f-c823-4cfa-9038-a7a36ac0c3c0",
   "metadata": {},
   "outputs": [],
   "source": [
    "def suma_2_anteriores(lista):\n",
    "    # Escribir aqui la solucion\n",
    "    \n",
    "    "
   ]
  },
  {
   "cell_type": "code",
   "execution_count": null,
   "id": "a5a1a8aa-18aa-4016-906a-a348a1ee7c26",
   "metadata": {},
   "outputs": [],
   "source": [
    "# No modificar el siguiente codigo\n",
    "# Solo ejecutarlo para saber si la funcion creada pasa todos los tests\n",
    "assert suma_2_anteriores([0,1,0,0,0,0,0,0]) == [0,1,1,2,3,5,8,13], \"Error en el test 1\"\n",
    "assert suma_2_anteriores([10,25,0]) == [10,25,35], \"Error en el test 2\"\n",
    "assert suma_2_anteriores([3,6,100,100]) == [3,6,9,15], \"Error en el test 3\"\n",
    "assert suma_2_anteriores([3,6]) == [3,6], \"Error en el test 4\"\n",
    "\"Felicitaciones todos los casos de prueba fueron pasados exitosamente!!\""
   ]
  },
  {
   "cell_type": "code",
   "execution_count": null,
   "id": "4e53ad63-025e-4b3b-abd1-37aa4aa8441b",
   "metadata": {},
   "outputs": [],
   "source": [
    "#@title Solucion Ejercicio 25 {display-mode:\"form\"}\n",
    "\n",
    "def suma_2_anteriores(lista):\n",
    "    for i in range(2,len(lista)):\n",
    "        lista[i] = lista[i-2] + lista[i-1]\n",
    "    return lista"
   ]
  },
  {
   "cell_type": "markdown",
   "id": "664c46f6-9dc6-443f-837c-38498d9f6d58",
   "metadata": {},
   "source": [
    "### Ejercicio 26:\n",
    "\n",
    "Crear una funcion llamada **sumar_listas(lista1, lista2)** que reciba dos parametros de tipo lista y que devuelva una lista de igual tamaño donde cada elemento sea igual a la suma de los elementos de las dos listas que estan en la misma posicion.\n",
    "\n",
    "*Ejemplo:* \n",
    "\n",
    "*Input: lista1=[1,0,0,2,0,0,0,0], lista2=[1,2,3,4,5,6,7,8]* \n",
    "\n",
    "*Output: [2,2,3,6,5,6,7,8]*"
   ]
  },
  {
   "cell_type": "code",
   "execution_count": null,
   "id": "a96ebf96-8e56-446d-aa66-8e81ff6c6f63",
   "metadata": {},
   "outputs": [],
   "source": [
    "def sumar_listas(lista1, lista2):\n",
    "    # Escribir aqui la solucion\n",
    "    \n",
    "    "
   ]
  },
  {
   "cell_type": "code",
   "execution_count": null,
   "id": "b9f5d976-4ba3-48ed-8587-720b08fa2097",
   "metadata": {},
   "outputs": [],
   "source": [
    "# No modificar el siguiente codigo\n",
    "# Solo ejecutarlo para saber si la funcion creada pasa todos los tests\n",
    "assert sumar_listas([1,0,0,2,0,0,0,0], [1,2,3,4,5,6,7,8]) == [2,2,3,6,5,6,7,8], \"Error en el test 1\"\n",
    "assert sumar_listas([1,1,1,1], [2,2,2,2]) == [3,3,3,3], \"Error en el test 2\"\n",
    "assert sumar_listas([1,2,3,4,5], [5,4,3,2,1]) == [6,6,6,6,6], \"Error en el test 3\"\n",
    "\"Felicitaciones todos los casos de prueba fueron pasados exitosamente!!\""
   ]
  },
  {
   "cell_type": "code",
   "execution_count": null,
   "id": "2bdeb2c1-82c7-4d80-8137-6a6327c91d52",
   "metadata": {},
   "outputs": [],
   "source": [
    "#@title Solucion Ejercicio 26 {display-mode:\"form\"}\n",
    "\n",
    "def sumar_listas(lista1, lista2):\n",
    "    ret = [0] * len(lista1)\n",
    "    for i in range(len(lista1)):\n",
    "        ret[i] = lista1[i] + lista2[i]\n",
    "    return ret"
   ]
  },
  {
   "cell_type": "markdown",
   "id": "8653334d-477b-4872-a983-a029b91164e1",
   "metadata": {},
   "source": [
    "### Ejercicio 27:\n",
    "\n",
    "Crear una funcion llamada **sumar_listas2(lista1, indices, lista2)** que reciba tres parametros de tipo lista lista1, indices, lista2 y que devuelva una lista de igual tamaño donde cada elemento sea igual a la suma de los valores de la primera mas los de la segunda dados por las posiciones indicadas en indices.\n",
    "\n",
    "*Ejemplo:* \n",
    "\n",
    "*Input: lista1=[1,2,1], indices=[2,0,1], lista2=[4,5,6]* \n",
    "\n",
    "*Output: [7,6,6]*\n",
    "\n",
    "*Explicacion: sumo el primer valor de la lista1 que es lista1[0]=1 con el valor de la lista2 que esta en el indice 2, es decir lista2[indice[0]]=6 la suma me da 7.*\n",
    "\n",
    "*Luego lista1[1] + lista2[indice[1]] = 6*\n",
    "\n",
    "*Luego lista1[2] + lista2[indice[2]] = 6*"
   ]
  },
  {
   "cell_type": "code",
   "execution_count": null,
   "id": "99c9dbd8-0288-41b4-b7f6-844faf425ccb",
   "metadata": {},
   "outputs": [],
   "source": [
    "def sumar_listas2(lista1, indices, lista2):\n",
    "    # Escribir aqui la solucion\n",
    "    \n",
    "    "
   ]
  },
  {
   "cell_type": "code",
   "execution_count": null,
   "id": "0595d070-f1e4-4a77-bc8d-7f77721bb279",
   "metadata": {},
   "outputs": [],
   "source": [
    "# No modificar el siguiente codigo\n",
    "# Solo ejecutarlo para saber si la funcion creada pasa todos los tests\n",
    "assert sumar_listas2([1,2,1], [2,0,1], [4,5,6]) == [7,6,6], \"Error en el test 1\"\n",
    "assert sumar_listas2([0,0,0,0,0,0,0,0], [7,0,6,1,5,2,4,3], [1,2,3,4,5,6,7,8]) == [8,1,7,2,6,3,5,4], \"Error en el test 2\"\n",
    "assert sumar_listas2([0,0,0,0,0,0,0,0], [1,1,1,1,7,7,7,7], [1,2,3,4,5,6,7,8]) == [2,2,2,2,8,8,8,8], \"Error en el test 3\"\n",
    "assert sumar_listas2([3,10,5,7], [2,1,3,0], [4,2,11,9]) == [14, 12, 14, 11], \"Error en el test 4\"\n",
    "\"Felicitaciones todos los casos de prueba fueron pasados exitosamente!!\""
   ]
  },
  {
   "cell_type": "code",
   "execution_count": null,
   "id": "8fb2e276-4ecc-4dda-b5e2-ebc89bf3f81c",
   "metadata": {},
   "outputs": [],
   "source": [
    "#@title Solucion Ejercicio 27 {display-mode:\"form\"}\n",
    "\n",
    "def sumar_listas2(lista1, indices, lista2):\n",
    "    ret = [0] * len(lista1)\n",
    "    for i in range(len(lista1)):\n",
    "        ret[i] = lista1[i] + lista2[indices[i]]\n",
    "    return ret"
   ]
  },
  {
   "cell_type": "markdown",
   "id": "84c5415e-3ac9-4131-a229-0187c7e363c1",
   "metadata": {},
   "source": [
    "### Ejercicio 28:\n",
    "\n",
    "Crear una funcion llamada **pares(lista)** que reciba un parametro de tipo lista y devuelva una lista que contenga solo los elementos pares de dicha lista.\n",
    "\n",
    "*Ejemplo:* \n",
    "\n",
    "*Input: lista=[1,2,3,4,5]* \n",
    "\n",
    "*Output: [2,4]*"
   ]
  },
  {
   "cell_type": "code",
   "execution_count": null,
   "id": "8a46d115-28ca-43c5-8e90-f2a375959e22",
   "metadata": {},
   "outputs": [],
   "source": [
    "def pares(lista):\n",
    "    # Escribir aqui la solucion\n",
    "    \n",
    "    "
   ]
  },
  {
   "cell_type": "code",
   "execution_count": null,
   "id": "c6c20222-2ed1-4429-be75-882b738ccc7e",
   "metadata": {},
   "outputs": [],
   "source": [
    "# No modificar el siguiente codigo\n",
    "# Solo ejecutarlo para saber si la funcion creada pasa todos los tests\n",
    "assert pares([1,2,3,4,5]) == [2,4], \"Error en el test 1\"\n",
    "assert pares([2,4,6,8,10]) == [2,4,6,8,10], \"Error en el test 2\"\n",
    "assert pares([1,3,5,7,9]) == [], \"Error en el test 3\"\n",
    "\"Felicitaciones todos los casos de prueba fueron pasados exitosamente!!\""
   ]
  },
  {
   "cell_type": "code",
   "execution_count": null,
   "id": "94962c90-ec0c-48ff-9f35-a18b91e9d89d",
   "metadata": {},
   "outputs": [],
   "source": [
    "#@title Solucion Ejercicio 28 {display-mode:\"form\"}\n",
    "\n",
    "def pares(lista):\n",
    "    new_list = []\n",
    "    for n in lista:\n",
    "        if n%2 == 0:\n",
    "            new_list.append(n)\n",
    "    return new_list"
   ]
  },
  {
   "cell_type": "markdown",
   "id": "c8ea59dc-b382-41cb-a29a-77ea62bff8dc",
   "metadata": {},
   "source": [
    "### Ejercicio 29:\n",
    "\n",
    "Crear una funcion llamada **suma_de_diferencias(lista)** que reciba un parametro de tipo lista y devuelva la suma de las diferencias entre los numeros contiguos de la lista. \n",
    "\n",
    "*Ejemplo: para la lista [2, 5, 7, 8] devolvera 6, que es 3 + 2 + 1 (el 3 resulta de calcular 5 − 2, el 2 de calcular 7 − 5 y el 1 de calcular 8 − 7)*\n",
    "\n",
    "*Input: lista=[2, 5, 7, 8]* \n",
    "\n",
    "*Output: 6*"
   ]
  },
  {
   "cell_type": "code",
   "execution_count": null,
   "id": "65c83cf9-53a5-4717-99be-46155ebfef26",
   "metadata": {},
   "outputs": [],
   "source": [
    "def suma_de_diferencias(lista):\n",
    "    # Escribir aqui la solucion\n",
    "    \n",
    "    "
   ]
  },
  {
   "cell_type": "code",
   "execution_count": null,
   "id": "90faf57e-2206-49c5-9f95-a46957e14ec9",
   "metadata": {},
   "outputs": [],
   "source": [
    "# No modificar el siguiente codigo\n",
    "# Solo ejecutarlo para saber si la funcion creada pasa todos los tests\n",
    "assert suma_de_diferencias([1,2,3,4,5]) == 4, \"Error en el test 1\"\n",
    "assert suma_de_diferencias([2,5,7,8]) == 6, \"Error en el test 2\"\n",
    "assert suma_de_diferencias([1,3,5,7,9]) == 8, \"Error en el test 3\"\n",
    "\"Felicitaciones todos los casos de prueba fueron pasados exitosamente!!\""
   ]
  },
  {
   "cell_type": "code",
   "execution_count": null,
   "id": "c885421e-0526-4a8d-9b64-592792ec2dfa",
   "metadata": {},
   "outputs": [],
   "source": [
    "#@title Solucion Ejercicio 29 {display-mode:\"form\"}\n",
    "\n",
    "def suma_de_diferencias(lista):\n",
    "    suma = 0\n",
    "    for i in range(1,len(lista)):\n",
    "        suma += lista[i] - lista[i-1] \n",
    "    return suma"
   ]
  },
  {
   "cell_type": "markdown",
   "id": "02869602-74a6-4f1c-82b2-613bd29f3a92",
   "metadata": {},
   "source": [
    "### Ejercicio 30:\n",
    "\n",
    "Crear una funcion llamada **obtener_indices(lista)** que reciba un parametro de tipo lista y devuelva una lista que contenga los indices de los valores que son menores a 0\n",
    "\n",
    "*Ejemplo:*\n",
    "\n",
    "*Input: lista=[1,-2,3,-4,5]* \n",
    "\n",
    "*Output: [1,3]*"
   ]
  },
  {
   "cell_type": "code",
   "execution_count": null,
   "id": "358942f4-c09b-477d-a589-dd8e986a59d3",
   "metadata": {},
   "outputs": [],
   "source": [
    "def obtener_indices(lista):\n",
    "    # Escribir aqui la solucion\n",
    "    \n",
    "    "
   ]
  },
  {
   "cell_type": "code",
   "execution_count": null,
   "id": "c26b60ac-d121-441d-9acd-fe70cf591982",
   "metadata": {},
   "outputs": [],
   "source": [
    "# No modificar el siguiente codigo\n",
    "# Solo ejecutarlo para saber si la funcion creada pasa todos los tests\n",
    "assert obtener_indices([1,-2,3,-4,5]) == [1,3], \"Error en el test 1\"\n",
    "assert obtener_indices([-2,-5,-7,-8]) == [0,1,2,3], \"Error en el test 2\"\n",
    "assert obtener_indices([1,3,5,7,9]) == [], \"Error en el test 3\"\n",
    "\"Felicitaciones todos los casos de prueba fueron pasados exitosamente!!\""
   ]
  },
  {
   "cell_type": "code",
   "execution_count": null,
   "id": "b5b9f3b8-5b8b-49ac-bcb7-adf7894e3de5",
   "metadata": {},
   "outputs": [],
   "source": [
    "#@title Solucion Ejercicio 30 {display-mode:\"form\"}\n",
    "\n",
    "def obtener_indices(lista):\n",
    "    new_list = []\n",
    "    for i in range(len(lista)):\n",
    "        if lista[i] < 0:\n",
    "            new_list.append(i)\n",
    "    return new_list"
   ]
  },
  {
   "cell_type": "markdown",
   "id": "611f6f30-a94e-4138-9859-29b7ce587702",
   "metadata": {},
   "source": [
    "### Ejercicio 31:\n",
    "\n",
    "Crear una funcion llamada **eliminar_errores(lista, indices)** que reciba dos parametros de tipo lista y devuelva una lista con solo los valores de la lista original sin los que se encuentran en la lista de indices\n",
    "\n",
    "*Ejemplo:*\n",
    "\n",
    "*Input: lista=[1,-2,3,-4,5], indices=[1,3]* \n",
    "\n",
    "*Output: [1,3,5]*"
   ]
  },
  {
   "cell_type": "code",
   "execution_count": null,
   "id": "a244bacf-416b-4955-87fc-37494f1a6fff",
   "metadata": {},
   "outputs": [],
   "source": [
    "def eliminar_errores(lista, indices):\n",
    "    # Escribir aqui la solucion\n",
    "    \n",
    "    "
   ]
  },
  {
   "cell_type": "code",
   "execution_count": null,
   "id": "4129c6d4-ccd5-4f3b-9309-90560d37c04d",
   "metadata": {},
   "outputs": [],
   "source": [
    "# No modificar el siguiente codigo\n",
    "# Solo ejecutarlo para saber si la funcion creada pasa todos los tests\n",
    "assert eliminar_errores([1,-2,3,-4,5],[1,3]) == [1,3,5], \"Error en el test 1\"\n",
    "assert eliminar_errores([-2,-5,-7,-8],[0,1,2,3]) == [], \"Error en el test 2\"\n",
    "assert eliminar_errores([1,3,5,7,9],[]) == [1,3,5,7,9], \"Error en el test 3\"\n",
    "\"Felicitaciones todos los casos de prueba fueron pasados exitosamente!!\""
   ]
  },
  {
   "cell_type": "code",
   "execution_count": null,
   "id": "d38bb7ea-9a79-4e82-bd4d-7a083c1e2c95",
   "metadata": {},
   "outputs": [],
   "source": [
    "#@title Solucion Ejercicio 31 {display-mode:\"form\"}\n",
    "\n",
    "def eliminar_errores(lista, indices):\n",
    "    new_list = []\n",
    "    for i in range(len(lista)):\n",
    "        if i not in indices:\n",
    "            new_list.append(lista[i])\n",
    "    return new_list"
   ]
  },
  {
   "cell_type": "markdown",
   "id": "9f26fb16-0839-4ccd-9ff6-dccc95b0ce90",
   "metadata": {},
   "source": [
    "### Ejercicio 32:\n",
    "\n",
    "Crear una funcion llamada **obtener_indices_test(lista, porcentaje)** que reciba un parametro de tipo lista y un float porcentaje entre 0 y 1 y devuelva una lista que contenga los indices de los ultimos n valores donde n == porcentaje * len(lista)\n",
    "\n",
    "*Ejemplo:*\n",
    "\n",
    "*Input: lista=[1,2,3,4,5,6,7,8,9,10], porcentaje=0.2* \n",
    "\n",
    "*Output: [9,10]*"
   ]
  },
  {
   "cell_type": "code",
   "execution_count": null,
   "id": "58e60be8-0bb1-40b4-a4e5-ca6232845b5d",
   "metadata": {},
   "outputs": [],
   "source": [
    "def obtener_indices_test(lista, porcentaje):\n",
    "    # Escribir aqui la solucion\n",
    "    \n",
    "    "
   ]
  },
  {
   "cell_type": "code",
   "execution_count": null,
   "id": "8d082ca6-d0bf-483f-9ae0-6d1cf18404d9",
   "metadata": {},
   "outputs": [],
   "source": [
    "# No modificar el siguiente codigo\n",
    "# Solo ejecutarlo para saber si la funcion creada pasa todos los tests\n",
    "assert obtener_indices_test([1,2,3,4,5,6,7,8,9,10],0.2) == [9,10], \"Error en el test 1\"\n",
    "assert obtener_indices_test([1,2,3,4,5,6,7,8,9,10],1.0) == [1,2,3,4,5,6,7,8,9,10], \"Error en el test 2\"\n",
    "assert obtener_indices_test([1,2,3,4,5,6,7,8,9,10],0.5) == [6,7,8,9,10], \"Error en el test 3\"\n",
    "assert obtener_indices_test([1,2,3,4,5,6,7,8,9,10],0.0) == [], \"Error en el test 4\"\n",
    "\"Felicitaciones todos los casos de prueba fueron pasados exitosamente!!\""
   ]
  },
  {
   "cell_type": "code",
   "execution_count": null,
   "id": "c2c8709d-d496-48ff-9222-f903b15b28ed",
   "metadata": {},
   "outputs": [],
   "source": [
    "#@title Solucion Ejercicio 32 {display-mode:\"form\"}\n",
    "\n",
    "# Solucion 1\n",
    "def obtener_indices_test(lista, porcentaje):\n",
    "    n = int(len(lista) * porcentaje)\n",
    "    test_list = []\n",
    "    for i in range(len(lista)-n, len(lista)):\n",
    "        test_list.append(lista[i])\n",
    "    return test_list\n",
    "\n",
    "# Solucion 2\n",
    "def obtener_indices_test(lista, porcentaje):\n",
    "    n = int(len(lista) * porcentaje)\n",
    "    return lista[len(lista)-n:]"
   ]
  },
  {
   "cell_type": "markdown",
   "id": "6f774c67-8f48-4431-853f-c3934513f966",
   "metadata": {},
   "source": [
    "### Ejercicio 33:\n",
    "\n",
    "Crear una funcion llamada **escala_minimax(lista)** que reciba un parametro de tipo lista y devuelva una lista que contenga los valores en una nueva escala dada por la siguiente formula:\n",
    "\n",
    "x_nueva = (x - min(lista)) / (max(lista) - min(lista))\n",
    "\n",
    "*Ejemplo:*\n",
    "\n",
    "*Input: lista=[0,2,5,7,10]* \n",
    "\n",
    "*Output: [0,0.2,0.5,0.7,1]*"
   ]
  },
  {
   "cell_type": "code",
   "execution_count": null,
   "id": "522a2779-0046-4d92-985f-fef174505103",
   "metadata": {},
   "outputs": [],
   "source": [
    "def escala_minimax(lista):\n",
    "    # Escribir aqui la solucion\n",
    "    \n",
    "    "
   ]
  },
  {
   "cell_type": "code",
   "execution_count": null,
   "id": "95d38de9-64fb-41a0-b337-f5f2674437a4",
   "metadata": {},
   "outputs": [],
   "source": [
    "# No modificar el siguiente codigo\n",
    "# Solo ejecutarlo para saber si la funcion creada pasa todos los tests\n",
    "assert escala_minimax([0,2,5,7,10]) == [0,0.2,0.5,0.7,1], \"Error en el test 1\"\n",
    "assert escala_minimax([-1, 2,-0.5,6,0,10,1,18]) == [0.0, 0.15789473684210525, 0.02631578947368421, 0.3684210526315789, 0.05263157894736842, 0.5789473684210527, 0.10526315789473684, 1.0], \"Error en el test 2\"\n",
    "assert escala_minimax([1000,3000,5000]) == [0.0, 0.5, 1.0], \"Error en el test 3\"\n",
    "assert escala_minimax([1000,500,0,-1000]) == [1.0, 0.75, 0.5, 0.0], \"Error en el test 4\"\n",
    "\"Felicitaciones todos los casos de prueba fueron pasados exitosamente!!\""
   ]
  },
  {
   "cell_type": "code",
   "execution_count": null,
   "id": "01d91e3a-46ee-42a5-bb61-bab687b345a1",
   "metadata": {},
   "outputs": [],
   "source": [
    "#@title Solucion Ejercicio 33 {display-mode:\"form\"}\n",
    "\n",
    "def escala_minimax(lista):\n",
    "    ret = []\n",
    "    minimo = min(lista)\n",
    "    maximo = max(lista)\n",
    "    for x in lista:\n",
    "        new_x = (x - minimo) / (maximo - minimo)\n",
    "        ret.append(new_x)\n",
    "    return ret"
   ]
  },
  {
   "cell_type": "markdown",
   "id": "1dc0a5ee-66d5-41ee-a919-5a21d27a0329",
   "metadata": {},
   "source": [
    "### Ejercicio 34:\n",
    "\n",
    "Crear una funcion lista_intercalada(l1, l2) que reciba dos parametros de tipo lista y devuelva una nueva lista con los elementos de las dos listas intercalados. Crear una nueva lista y llenarla utilizando la funcion append(valor) que poseen los objetos de tipo lista\n",
    "\n",
    "Aclaraciones: \n",
    "- l1 y l2 siempre tendran el mismo tamaño\n",
    "\n",
    "*Ejemplo de input y output:*\n",
    "\n",
    "*Input: l1=[\"a\",\"b\",\"c\"], l2=[\"x\",\"y\",\"z\"]*\n",
    "\n",
    "*Output: [\"a\",\"x\",\"b\",\"y\",\"c\",\"z\"]*"
   ]
  },
  {
   "cell_type": "code",
   "execution_count": null,
   "id": "3b67360b-f1d2-48bf-939a-e41c4207a761",
   "metadata": {},
   "outputs": [],
   "source": [
    "def lista_intercalada(l1, l2):\n",
    "    # Escribir aqui la solucion\n",
    "    \n",
    "    "
   ]
  },
  {
   "cell_type": "code",
   "execution_count": null,
   "id": "c11f5e65-d66f-48a1-8c8f-b7732c23bdd7",
   "metadata": {},
   "outputs": [],
   "source": [
    "# No modificar el siguiente codigo\n",
    "# Solo ejecutarlo para saber si la funcion creada pasa todos los tests\n",
    "assert lista_intercalada([\"a\",\"b\",\"c\"],[\"x\",\"y\",\"z\"]) == [\"a\",\"x\",\"b\",\"y\",\"c\",\"z\"], \"Error en el test 1\"\n",
    "assert lista_intercalada([0,0,0,0],[1,1,1,1]) == [0,1,0,1,0,1,0,1], \"Error en el test 2\"\n",
    "assert lista_intercalada([],[]) == [], \"Error en el test 3\"\n",
    "assert lista_intercalada([1,2,3],[3,2,1]) == [1,3,2,2,3,1], \"Error en el test 4\"\n",
    "\"Felicitaciones todos los casos de prueba fueron pasados exitosamente!!\""
   ]
  },
  {
   "cell_type": "code",
   "execution_count": null,
   "id": "c24f64c7-76f4-4722-9173-af2952ce6042",
   "metadata": {},
   "outputs": [],
   "source": [
    "#@title Solucion Ejercicio 34 {display-mode:\"form\"}\n",
    "\n",
    "def lista_intercalada(l1, l2):\n",
    "    n = len(l1)\n",
    "    l3 = []\n",
    "    for i in range(n):\n",
    "        l3.append(l1[i])\n",
    "        l3.append(l2[i])\n",
    "    return l3"
   ]
  },
  {
   "cell_type": "markdown",
   "id": "55ff6f1f-8c82-4c84-9cd7-a18be0502afd",
   "metadata": {},
   "source": [
    "### Ejercicio 35:\n",
    "\n",
    "Crear una funcion concatenar_listas(l1, l2) que reciba dos parametros de tipo lista y devuelva una nueva lista con los elementos de l1 seguidos por los elementos de l2. Utilizar la funcion extend() que poseen los objetos de tipo list\n",
    "\n",
    "\n",
    "*Ejemplo de input y output:*\n",
    "\n",
    "*Input: l1=[\"a\",\"b\",\"c\"], l2=[\"x\",\"y\",\"z\"]*\n",
    "\n",
    "*Output: [\"a\",\"b\",\"c\",\"x\",\"y\",\"z\"]*"
   ]
  },
  {
   "cell_type": "code",
   "execution_count": null,
   "id": "e0a7c45d-f208-41dc-9918-3eb88476fad9",
   "metadata": {},
   "outputs": [],
   "source": [
    "def concatenar_listas(l1, l2):\n",
    "    # Escribir aqui la solucion\n",
    "    \n",
    "    "
   ]
  },
  {
   "cell_type": "code",
   "execution_count": null,
   "id": "6a2f3727-de2e-4577-8207-383ee11f5a3a",
   "metadata": {},
   "outputs": [],
   "source": [
    "# No modificar el siguiente codigo\n",
    "# Solo ejecutarlo para saber si la funcion creada pasa todos los tests\n",
    "assert concatenar_listas([\"a\",\"b\",\"c\"],[\"x\",\"y\",\"z\"]) == [\"a\",\"b\",\"c\",\"x\",\"y\",\"z\"], \"Error en el test 1\"\n",
    "assert concatenar_listas([0,0,0,0],[1,1,1,1]) == [0,0,0,0,1,1,1,1], \"Error en el test 2\"\n",
    "assert concatenar_listas([],[]) == [], \"Error en el test 3\"\n",
    "assert concatenar_listas([1,2,3],[3,2,1]) == [1,2,3,3,2,1], \"Error en el test 4\"\n",
    "\"Felicitaciones todos los casos de prueba fueron pasados exitosamente!!\""
   ]
  },
  {
   "cell_type": "code",
   "execution_count": null,
   "id": "8760b55a-e13b-434a-88d3-d66542b8227f",
   "metadata": {},
   "outputs": [],
   "source": [
    "#@title Solucion Ejercicio 35 {display-mode:\"form\"}\n",
    "\n",
    "def concatenar_listas(l1, l2):\n",
    "    ret = l1.copy()\n",
    "    ret.extend(l2)\n",
    "    return ret"
   ]
  },
  {
   "cell_type": "markdown",
   "id": "4f74ae43-c492-4c10-a0a1-8505b93a2a9f",
   "metadata": {},
   "source": [
    "### Ejercicio 36:\n",
    "\n",
    "Crear una funcion esta_en_lista(lista, valor) que reciba dos parametros una lista y un entero y devuelva True si la lista contiene dicho valor o False en caso contrario\n",
    "\n",
    "\n",
    "*Ejemplo de input y output:*\n",
    "\n",
    "*Input: lista=[\"a\",\"b\",\"c\"], valor=\"b\"*\n",
    "\n",
    "*Output: True*"
   ]
  },
  {
   "cell_type": "code",
   "execution_count": null,
   "id": "c1666143-b65b-4bee-b16b-6055414007d3",
   "metadata": {},
   "outputs": [],
   "source": [
    "def esta_en_lista(lista, valor):\n",
    "    # Escribir aqui la solucion\n",
    "    \n",
    "    "
   ]
  },
  {
   "cell_type": "code",
   "execution_count": null,
   "id": "6ef900a9-0c0d-4498-a1cb-5f976991abfd",
   "metadata": {},
   "outputs": [],
   "source": [
    "# No modificar el siguiente codigo\n",
    "# Solo ejecutarlo para saber si la funcion creada pasa todos los tests\n",
    "assert esta_en_lista([\"a\",\"b\",\"c\"],\"b\") == True, \"Error en el test 1\"\n",
    "assert esta_en_lista([\"a\",\"b\",\"c\"],\"d\") == False, \"Error en el test 2\"\n",
    "assert esta_en_lista([],5) == False, \"Error en el test 3\"\n",
    "assert esta_en_lista([1,2,3],3) == True, \"Error en el test 4\"\n",
    "\"Felicitaciones todos los casos de prueba fueron pasados exitosamente!!\""
   ]
  },
  {
   "cell_type": "code",
   "execution_count": null,
   "id": "e95e4160-39a2-41cb-a7fb-cc3d40c722cf",
   "metadata": {},
   "outputs": [],
   "source": [
    "#@title Solucion Ejercicio 36 {display-mode:\"form\"}\n",
    "\n",
    "# Solucion 1\n",
    "def esta_en_lista(lista, valor):\n",
    "    ret = valor in lista\n",
    "    return ret\n",
    "\n",
    "# Solucion 2\n",
    "def esta_en_lista(lista, valor):\n",
    "    if valor in lista:\n",
    "        return True\n",
    "    else:\n",
    "        return False\n",
    "\n",
    "# Solucion 3\n",
    "def esta_en_lista(lista, valor):\n",
    "    if valor in lista:\n",
    "        return True\n",
    "    return False"
   ]
  },
  {
   "cell_type": "markdown",
   "id": "293ab5ce-9db5-4781-b97d-a7b6ad57937d",
   "metadata": {},
   "source": [
    "### Ejercicio 37:\n",
    "\n",
    "Crear una funcion copia(lista) que reciba un parametro de tipo list y que devuelva una lista nueva con los mismos elementos que la recibida. \n",
    "\n",
    "*Ejemplo de input y output:*\n",
    "\n",
    "*Input: lista=[4,3,1,2]*\n",
    "\n",
    "*Output: [4,3,1,2]*"
   ]
  },
  {
   "cell_type": "code",
   "execution_count": null,
   "id": "ada98a63-74c0-4d38-9078-07dffe97375d",
   "metadata": {},
   "outputs": [],
   "source": [
    "def copia(lista):\n",
    "    # Escribir aqui la solucion\n",
    "    \n",
    "    "
   ]
  },
  {
   "cell_type": "code",
   "execution_count": null,
   "id": "d875decd-94c4-4e7c-858f-ec16f82a5093",
   "metadata": {},
   "outputs": [],
   "source": [
    "# No modificar el siguiente codigo\n",
    "# Solo ejecutarlo para saber si la funcion creada pasa todos los tests\n",
    "lista1 = [4,3,1,2]\n",
    "assert copia(lista1) == [4,3,1,2] and id(copia(lista1)) != id(lista1), \"Error en el test 1\"\n",
    "lista2 = []\n",
    "assert copia(lista2) == [] and copia(lista2) is not lista2, \"Error en el test 2\"\n",
    "\"Felicitaciones todos los casos de prueba fueron pasados exitosamente!!\""
   ]
  },
  {
   "cell_type": "code",
   "execution_count": null,
   "id": "ee86fb6b-f05f-492d-99d2-4595f917b817",
   "metadata": {},
   "outputs": [],
   "source": [
    "#@title Solucion Ejercicio 37 {display-mode:\"form\"}\n",
    "\n",
    "def copia(lista):\n",
    "    nueva_lista = lista.copy()\n",
    "    return nueva_lista"
   ]
  },
  {
   "cell_type": "markdown",
   "id": "0c2fe46d-9f08-428e-8b05-8d2a4c133ccc",
   "metadata": {
    "tags": []
   },
   "source": [
    "### Ejercicio 38:\n",
    "\n",
    "Crear una funcion llamada **escala_normal(lista)** que reciba un parametro de tipo lista y devuelva una lista que contenga los valores en una nueva escala dada por la siguiente formula:\n",
    "\n",
    "x' = (x - mean(lista)) / (std(lista))\n",
    "\n",
    "Utilizar las funciones mean y std de la libreria numpy\n",
    "\n",
    "*Ejemplo:*\n",
    "\n",
    "*Input: lista=[0,2,5,7,10]* \n",
    "\n",
    "*Output: [0,0.2,0.5,0.7,1]*\n",
    "\n",
    "Ayuda: Utilizar las funciones mean() y std() de la libreria numpy. Buscar en internet (google o chatgpt como importar y usar dicha libreria)"
   ]
  },
  {
   "cell_type": "code",
   "execution_count": null,
   "id": "01adc70d-c0f7-425f-b73c-1b0e7ad3ff4e",
   "metadata": {},
   "outputs": [],
   "source": [
    "import numpy as np\n",
    "\n",
    "def escala_normal(lista):\n",
    "    # Escribir aqui la solucion\n",
    "    "
   ]
  },
  {
   "cell_type": "code",
   "execution_count": null,
   "id": "1388c5bd-1693-4125-95ef-fcfb3517831f",
   "metadata": {},
   "outputs": [],
   "source": [
    "# No modificar el siguiente codigo\n",
    "# Solo ejecutarlo para saber si la funcion creada pasa todos los tests\n",
    "assert escala_normal([0,2,5,7,10]) == [-1.3543983551594407, -0.7900657071763404, 0.05643326479831009, 0.6207659127814105, 1.467264884756061], \"Error en el test 1\"\n",
    "assert escala_normal([-1, 2,-0.5,6,0,10,1,18]) == [-0.875311753061199, -0.3923811306826065, -0.7948233159981003, 0.25152636582218363, -0.7143348789350016, 0.8954338623269738, -0.553358004808804, 2.183248855336554], \"Error en el test 2\"\n",
    "assert escala_normal([1000,3000,5000]) == [-1.2247448713915892, 0.0, 1.2247448713915892], \"Error en el test 3\"\n",
    "assert escala_normal([1000,500,0,-1000]) == [1.1832159566199232, 0.50709255283711, -0.1690308509457033, -1.52127765851133], \"Error en el test 4\"\n",
    "\"Felicitaciones todos los casos de prueba fueron pasados exitosamente!!\""
   ]
  },
  {
   "cell_type": "code",
   "execution_count": null,
   "id": "a48d3388-9ca9-4531-afcf-f6f0a70a6fdd",
   "metadata": {},
   "outputs": [],
   "source": [
    "#@title Solucion Ejercicio 38 {display-mode:\"form\"}\n",
    "\n",
    "import numpy as np\n",
    "def escala_normal(lista):\n",
    "    ret = []\n",
    "    mu = np.mean(lista)\n",
    "    sigma = np.std(lista)\n",
    "    for x in lista:\n",
    "        new_x = (x - mu) / (sigma)\n",
    "        ret.append(new_x)\n",
    "    return ret"
   ]
  },
  {
   "cell_type": "markdown",
   "id": "b1056747-ba8a-49e1-9def-1c7ed451a7b4",
   "metadata": {},
   "source": [
    "# Fin: [Volver al contenido del curso](https://www.freecodingtour.com/cursos/espanol/programacion/programacion.html)"
   ]
  }
 ],
 "metadata": {
  "kernelspec": {
   "display_name": "Python 3 (ipykernel)",
   "language": "python",
   "name": "python3"
  },
  "language_info": {
   "codemirror_mode": {
    "name": "ipython",
    "version": 3
   },
   "file_extension": ".py",
   "mimetype": "text/x-python",
   "name": "python",
   "nbconvert_exporter": "python",
   "pygments_lexer": "ipython3",
   "version": "3.9.7"
  }
 },
 "nbformat": 4,
 "nbformat_minor": 5
}
