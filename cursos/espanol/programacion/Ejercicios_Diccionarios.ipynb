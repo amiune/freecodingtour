{
 "cells": [
  {
   "cell_type": "markdown",
   "id": "273738e9-1e73-4e4c-848d-748b1a4c7bca",
   "metadata": {},
   "source": [
    "Problema 1: Contar elementos\n",
    "\n",
    "Enunciado: Escribe un programa que cuente la cantidad de veces que aparece cada elemento en una lista y almacene los resultados en un diccionario.\n",
    "\n",
    "Ejemplo:\n",
    "\n",
    "Entrada:\n",
    "```\n",
    "lista = [1, 2, 2, 3, 3, 3, 4, 4, 4, 4]\n",
    "```\n",
    "Salida:\n",
    "```\n",
    "{1: 1, 2: 2, 3: 3, 4: 4}\n",
    "```\n"
   ]
  },
  {
   "cell_type": "code",
   "execution_count": null,
   "id": "ddee3264-1e8e-4598-be5f-ca8e9fc88edf",
   "metadata": {},
   "outputs": [],
   "source": []
  },
  {
   "cell_type": "markdown",
   "id": "1f3938e3-d186-464f-93a6-468a93ee2664",
   "metadata": {},
   "source": [
    "Problema 2: Calificaciones\n",
    "\n",
    "Enunciado: Crea un programa que tome nombres de estudiantes y sus calificaciones, y luego calcule el promedio de calificaciones de cada estudiante.\n",
    "\n",
    "Ejemplo:\n",
    "\n",
    "Entrada:\n",
    "```\n",
    "calificaciones = {\"Alice\": [85, 90, 92], \"Bob\": [78, 88, 80], \"Charlie\": [92, 95, 89]}\n",
    "```\n",
    "Salida:\n",
    "```\n",
    "{\"Alice\": 89.0, \"Bob\": 82.0, \"Charlie\": 92.0}\n",
    "```\n"
   ]
  },
  {
   "cell_type": "code",
   "execution_count": null,
   "id": "2dec7d5b-900c-48e3-b7f0-6d5f4a484fd6",
   "metadata": {},
   "outputs": [],
   "source": []
  },
  {
   "cell_type": "markdown",
   "id": "d1315cff-5b11-4d41-bf6d-a89344da23d9",
   "metadata": {},
   "source": [
    "Problema 3: Conversión de unidades\n",
    "\n",
    "Enunciado: Escribe un programa que convierta una lista de temperaturas en grados Celsius a grados Fahrenheit usando un diccionario.\n",
    "\n",
    "Ejemplo:\n",
    "\n",
    "Entrada:\n",
    "```\n",
    "temperaturas_celsius = {\"Lunes\": 25, \"Martes\": 30, \"Miércoles\": 22}\n",
    "```\n",
    "Salida:\n",
    "```\n",
    "{\"Lunes\": 77.0, \"Martes\": 86.0, \"Miércoles\": 71.6}\n",
    "```\n"
   ]
  },
  {
   "cell_type": "code",
   "execution_count": null,
   "id": "eeffaab8-7f68-48ec-9aed-2cf6cfc4bf86",
   "metadata": {},
   "outputs": [],
   "source": []
  },
  {
   "cell_type": "markdown",
   "id": "57bd2e13-bea2-45f1-9a99-6f329b5fafc5",
   "metadata": {},
   "source": [
    "Problema 4: Conteo de letras\n",
    "\n",
    "Enunciado: Crea un programa que cuente cuántas veces aparece cada letra en una cadena de texto y almacene los resultados en un diccionario.\n",
    "\n",
    "Ejemplo:\n",
    "\n",
    "Entrada:\n",
    "```\n",
    "texto = \"python es divertido\"\n",
    "```\n",
    "Salida:\n",
    "```\n",
    "{'p': 1, 'y': 1, 't': 2, 'h': 1, 'o': 2, 'n': 2, ' ': 2, 'e': 2, 's': 1, 'd': 1, 'i': 2, 'v': 1, 'r': 1, 'u': 1}\n",
    "```"
   ]
  },
  {
   "cell_type": "code",
   "execution_count": null,
   "id": "1f81a9ce-3776-4b5f-a1c5-9f90bd50a134",
   "metadata": {},
   "outputs": [],
   "source": []
  },
  {
   "cell_type": "markdown",
   "id": "73b230cc-2850-41f5-a993-9e7c8e84e0fa",
   "metadata": {},
   "source": [
    "Problema 5: Diccionario de compras\n",
    "\n",
    "Enunciado: Crea un programa que registre las compras de un cliente en un supermercado usando un diccionario. El programa debe permitir agregar productos y sus cantidades, y luego calcular el total de la compra.\n",
    "\n",
    "Ejemplo:\n",
    "    \n",
    "Entrada:\n",
    "```\n",
    "compras = {\"manzanas\": 3, \"plátanos\": 2, \"leche\": 1}\n",
    "```\n",
    "Salida:\n",
    "```\n",
    "Total de la compra: $12.5\n",
    "```"
   ]
  },
  {
   "cell_type": "code",
   "execution_count": null,
   "id": "24184a79-712b-4d66-961d-6533a302cd61",
   "metadata": {},
   "outputs": [],
   "source": []
  }
 ],
 "metadata": {
  "kernelspec": {
   "display_name": "Python 3 (ipykernel)",
   "language": "python",
   "name": "python3"
  },
  "language_info": {
   "codemirror_mode": {
    "name": "ipython",
    "version": 3
   },
   "file_extension": ".py",
   "mimetype": "text/x-python",
   "name": "python",
   "nbconvert_exporter": "python",
   "pygments_lexer": "ipython3",
   "version": "3.9.7"
  }
 },
 "nbformat": 4,
 "nbformat_minor": 5
}
