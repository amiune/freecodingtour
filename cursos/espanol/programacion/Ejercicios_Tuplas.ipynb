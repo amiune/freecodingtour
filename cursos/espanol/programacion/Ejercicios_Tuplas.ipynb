{
 "cells": [
  {
   "cell_type": "markdown",
   "id": "bc193ffe-3a69-46cc-bf2d-0ea1fd89a29d",
   "metadata": {},
   "source": [
    "Problema 1: Suma de elementos en una tupla\n",
    "\n",
    "Enunciado: Escribe un programa que tome una tupla de números enteros como entrada y calcule la suma de todos los elementos en la tupla.\n",
    "\n",
    "Ejemplo de entrada: \n",
    "```\n",
    "(3, 5, 2, 8)\n",
    "```\n",
    "Salida:\n",
    "```\n",
    "18\n",
    "```"
   ]
  },
  {
   "cell_type": "code",
   "execution_count": null,
   "id": "eaf541dc-9602-4461-9a7a-3c910854a244",
   "metadata": {},
   "outputs": [],
   "source": []
  },
  {
   "cell_type": "markdown",
   "id": "2595c5f4-e560-49a9-8706-21ddbab2bdc7",
   "metadata": {},
   "source": [
    "Problema 2: Encontrar el elemento más grande en una tupla\n",
    "\n",
    "Enunciado: Escribe un programa que encuentre el elemento más grande en una tupla de números enteros y lo imprima.\n",
    "\n",
    "Ejemplo de entrada: \n",
    "```\n",
    "(12, 45, 8, 27, 56)\n",
    "```\n",
    "Salida: \n",
    "```\n",
    "El elemento más grande es 56\n",
    "```"
   ]
  },
  {
   "cell_type": "code",
   "execution_count": null,
   "id": "8ff979c9-a527-4067-8d30-804ed5458881",
   "metadata": {},
   "outputs": [],
   "source": []
  },
  {
   "cell_type": "markdown",
   "id": "75a375a8-b5ee-4800-9afb-2d131d619778",
   "metadata": {},
   "source": [
    "Problema 3: Contar elementos repetidos en una tupla\n",
    "\n",
    "Enunciado: Escribe un programa que cuente cuántas veces aparece un número dado en una tupla.\n",
    "\n",
    "Ejemplo de entrada: \n",
    "```\n",
    "(5, 2, 8, 2, 6, 2, 9), Número a contar: 2\n",
    "```\n",
    "Salida: \n",
    "```\n",
    "El número 2 aparece 3 veces en la tupla.\n",
    "```"
   ]
  },
  {
   "cell_type": "code",
   "execution_count": null,
   "id": "f813b352-f5bb-48e1-bfd6-8bda050950f9",
   "metadata": {},
   "outputs": [],
   "source": []
  },
  {
   "cell_type": "markdown",
   "id": "513a0d11-56ec-4978-a92d-152ac325596a",
   "metadata": {},
   "source": [
    "Problema 4: Combinar dos tuplas\n",
    "\n",
    "Enunciado: Escribe un programa que combine dos tuplas en una nueva tupla más larga.\n",
    "\n",
    "Ejemplo de entrada: \n",
    "```\n",
    "(1, 2, 3), (4, 5, 6)\n",
    "```\n",
    "Salida: \n",
    "```\n",
    "(1, 2, 3, 4, 5, 6)\n",
    "```"
   ]
  },
  {
   "cell_type": "code",
   "execution_count": null,
   "id": "b76fd77e-5ad7-4302-a62a-4aec5917dda3",
   "metadata": {},
   "outputs": [],
   "source": []
  },
  {
   "cell_type": "markdown",
   "id": "e148acb2-c6c7-422e-81c6-a49772291fe9",
   "metadata": {},
   "source": [
    "Problema 5: Encontrar el valor mínimo y máximo en una tupla\n",
    "\n",
    "Enunciado: Escribe un programa que encuentre el valor mínimo y máximo en una tupla de números enteros y los imprima.\n",
    "\n",
    "Ejemplo de entrada: \n",
    "```\n",
    "(17, 5, 42, 9, 23)\n",
    "```\n",
    "Salida: \n",
    "```\n",
    "El valor mínimo es 5 y el valor máximo es 42\n",
    "```"
   ]
  },
  {
   "cell_type": "code",
   "execution_count": null,
   "id": "493f1887-369b-415e-a87f-fddf5dd53679",
   "metadata": {},
   "outputs": [],
   "source": []
  },
  {
   "cell_type": "markdown",
   "id": "bac8823d-b9ee-4a52-a7db-19f6ef5e7873",
   "metadata": {},
   "source": [
    "Problema 6: Reemplazar un elemento en una tupla\n",
    "\n",
    "Enunciado: Escribe un programa que tome una tupla y un índice, y reemplace el elemento en ese índice con un nuevo valor.\n",
    "\n",
    "Ejemplo de entrada: \n",
    "```\n",
    "(10, 20, 30, 40, 50), \n",
    "Índice: 2, \n",
    "Nuevo valor: 35\n",
    "```\n",
    "Salida: \n",
    "```\n",
    "(10, 20, 35, 40, 50)\n",
    "```"
   ]
  },
  {
   "cell_type": "code",
   "execution_count": null,
   "id": "ca8459f3-2073-43ff-8f3e-77588552f023",
   "metadata": {},
   "outputs": [],
   "source": []
  },
  {
   "cell_type": "markdown",
   "id": "07992205-a52b-4d51-b950-fe76719c4180",
   "metadata": {},
   "source": [
    "Problema 7: Contar elementos en una tupla que cumplan una condición\n",
    "\n",
    "Enunciado: Escribe un programa que cuente cuántos elementos en una tupla son mayores que un valor dado.\n",
    "\n",
    "Ejemplo de entrada: \n",
    "```\n",
    "(12, 8, 15, 24, 6, 17), Valor mínimo: 10\n",
    "```\n",
    "Salida: \n",
    "```\n",
    "Hay 3 elementos mayores que 10 en la tupla.\n",
    "```"
   ]
  },
  {
   "cell_type": "code",
   "execution_count": null,
   "id": "94c23ee7-c753-4ab9-83b6-3e4e2187d202",
   "metadata": {},
   "outputs": [],
   "source": []
  }
 ],
 "metadata": {
  "kernelspec": {
   "display_name": "Python 3 (ipykernel)",
   "language": "python",
   "name": "python3"
  },
  "language_info": {
   "codemirror_mode": {
    "name": "ipython",
    "version": 3
   },
   "file_extension": ".py",
   "mimetype": "text/x-python",
   "name": "python",
   "nbconvert_exporter": "python",
   "pygments_lexer": "ipython3",
   "version": "3.9.7"
  }
 },
 "nbformat": 4,
 "nbformat_minor": 5
}
