{
 "cells": [
  {
   "cell_type": "code",
   "execution_count": null,
   "id": "daa2ecc7-54b7-41a1-bc6b-5c718c17227c",
   "metadata": {},
   "outputs": [],
   "source": []
  },
  {
   "cell_type": "markdown",
   "id": "48c2140b-dca4-4e48-877e-fddf35aa390f",
   "metadata": {},
   "source": [
    "### Ejercicio 1:\n",
    "\n",
    "Crear una funcion llamada **obtener_indices_test_rnd(lista, porcentaje)** que reciba un parametro de tipo lista y un float porcentaje entre 0 y 1 y devuelva una lista que contenga los indices de n valores seleccionados aleatoriamente donde n/len(lista) == porcentaje. Para generar los numeros aleatorios utilizar la funcion randrange de la libreria random de la siguiente manera: random.randrange(0,len(lista))\n",
    "\n",
    "*Ejemplo:*\n",
    "\n",
    "*Input: lista=[1,2,3,4,5,6,7,8,9,10], porcentaje=0.2* \n",
    "\n",
    "*Output: [1,0]*"
   ]
  },
  {
   "cell_type": "code",
   "execution_count": null,
   "id": "137fa9c0-71c3-43da-8062-36a864507902",
   "metadata": {},
   "outputs": [],
   "source": [
    "import random\n",
    "def obtener_indices_test_rnd(lista, porcentaje):\n",
    "    # Escribir aqui la solucion\n",
    "    \n",
    "    "
   ]
  },
  {
   "cell_type": "code",
   "execution_count": 2,
   "id": "1129e05b-d2b5-473e-a04a-80fe0402b43f",
   "metadata": {},
   "outputs": [
    {
     "data": {
      "text/plain": [
       "'Felicitaciones todos los casos de prueba fueron pasados exitosamente!!'"
      ]
     },
     "execution_count": 2,
     "metadata": {},
     "output_type": "execute_result"
    }
   ],
   "source": [
    "# No modificar el siguiente codigo\n",
    "# Solo ejecutarlo para saber si la funcion creada pasa todos los tests\n",
    "random.seed(42)\n",
    "assert obtener_indices_test_rnd([1,2,3,4,5,6,7,8,9,10],0.2) == [1, 0], \"Error en el test 1\"\n",
    "assert obtener_indices_test_rnd([1,2,3,4,5,6,7,8,9,10],1.0) == [4, 3, 3, 2, 1, 8, 1, 9, 6, 0], \"Error en el test 2\"\n",
    "assert obtener_indices_test_rnd([1,2,3,4,5,6,7,8,9,10],0.5) == [0, 1, 3, 3, 8], \"Error en el test 3\"\n",
    "assert obtener_indices_test_rnd([1,2,3,4,5,6,7,8,9,10],0.0) == [], \"Error en el test 4\"\n",
    "\"Felicitaciones todos los casos de prueba fueron pasados exitosamente!!\""
   ]
  },
  {
   "cell_type": "code",
   "execution_count": 1,
   "id": "14bf9596-0ef2-483d-8a3c-807ed546be82",
   "metadata": {},
   "outputs": [],
   "source": [
    "#@title Solucion Ejercicio 1 {display-mode:\"form\"}\n",
    "\n",
    "import random\n",
    "def obtener_indices_test_rnd(lista, porcentaje):\n",
    "    n = int(len(lista) * porcentaje)\n",
    "    test_list = []\n",
    "    for i in range(n):\n",
    "        numero_aleatorio = random.randrange(0,len(lista))\n",
    "        test_list.append(numero_aleatorio)\n",
    "    return test_list"
   ]
  },
  {
   "cell_type": "markdown",
   "id": "db301a34-d008-486d-a31a-37d1e88a04ad",
   "metadata": {},
   "source": [
    "### Ejercicio 2:\n",
    "\n",
    "Crear una funcion llamada **seleccionar_aleatoriamente(lista, n)** que reciba dos parametros de tipo lista: lista y n y que devuelva una lista con n elementos seleccionados aleatoriamente de lista. Los elementos seleccionados pueden ser repetidos. Utilizar la funcion random.randrange para generar numeros aleatorios \n",
    "\n",
    "*Ejemplo:* \n",
    "\n",
    "*Input: lista=[1,2,3,4,5,6,7,8,9,10], n=3* \n",
    "\n",
    "*Output: [2, 1, 5]*"
   ]
  },
  {
   "cell_type": "code",
   "execution_count": null,
   "id": "bd4eef01-ebdf-481f-86aa-3e120b19dc83",
   "metadata": {},
   "outputs": [],
   "source": [
    "import random\n",
    "def seleccionar_aleatoriamente(lista, n):\n",
    "    # Escribir aqui la solucion\n",
    "    \n",
    "    "
   ]
  },
  {
   "cell_type": "code",
   "execution_count": 4,
   "id": "d6f8fdb6-dab0-4452-b088-d09b195bc36a",
   "metadata": {},
   "outputs": [
    {
     "data": {
      "text/plain": [
       "'Felicitaciones todos los casos de prueba fueron pasados exitosamente!!'"
      ]
     },
     "execution_count": 4,
     "metadata": {},
     "output_type": "execute_result"
    }
   ],
   "source": [
    "# No modificar el siguiente codigo\n",
    "# Solo ejecutarlo para saber si la funcion creada pasa todos los tests\n",
    "random.seed(42)\n",
    "assert seleccionar_aleatoriamente([1,2,3,4,5,6,7,8,9,10],3) == [2, 1, 5], \"Error en el test 1\"\n",
    "assert seleccionar_aleatoriamente([1,2,3,4,5,6,7,8,9,10],8) == [4, 4, 3, 2, 9, 2, 10, 7], \"Error en el test 2\"\n",
    "assert seleccionar_aleatoriamente([1,2,3,4,5,6,7,8,9,10],5) == [1, 1, 2, 4, 4], \"Error en el test 3\"\n",
    "assert seleccionar_aleatoriamente([1,2,3,4,5,6,7,8,9,10],0) == [], \"Error en el test 4\"\n",
    "\"Felicitaciones todos los casos de prueba fueron pasados exitosamente!!\""
   ]
  },
  {
   "cell_type": "code",
   "execution_count": 3,
   "id": "4c6b57d2-eb1a-4d36-a63a-984c7918a77a",
   "metadata": {},
   "outputs": [],
   "source": [
    "#@title Solucion Ejercicio 2 {display-mode:\"form\"}\n",
    "\n",
    "import random\n",
    "def seleccionar_aleatoriamente(lista, n):\n",
    "    ret = []\n",
    "    for i in range(n):\n",
    "        index = random.randrange(0,len(lista))\n",
    "        ret.append(lista[index])\n",
    "    return ret"
   ]
  },
  {
   "cell_type": "markdown",
   "id": "a8da6b76-6588-4ec2-9127-d1775b6cb1e2",
   "metadata": {},
   "source": [
    "### Ejercicio 3:\n",
    "\n",
    "Crear una funcion llamada **seleccionar_aleatoriamente2(lista, n)** que reciba dos parametros de tipo lista: lista y n y que devuelva una lista con n elementos seleccionados aleatoriamente de lista. Los elementos seleccionados NO pueden ser repetidos. Utilizar la funcion random.sample para seleccionar valores aleatoriamente sin repeticion (tambien llamados sin reemplazo)\n",
    "\n",
    "*Ejemplo:* \n",
    "\n",
    "*Input: lista=[1,2,3,4,5,6,7,8,9,10], n=3* \n",
    "\n",
    "*Output: 5*"
   ]
  },
  {
   "cell_type": "code",
   "execution_count": null,
   "id": "1b22be3c-286b-48ea-882e-a30df76f9c84",
   "metadata": {},
   "outputs": [],
   "source": [
    "import random\n",
    "def seleccionar_aleatoriamente2(lista, n):\n",
    "    # Escribir aqui la solucion\n",
    "    \n",
    "    "
   ]
  },
  {
   "cell_type": "code",
   "execution_count": null,
   "id": "2122ce1a-31a6-4249-8611-a34ac8b00e66",
   "metadata": {},
   "outputs": [],
   "source": [
    "# No modificar el siguiente codigo\n",
    "# Solo ejecutarlo para saber si la funcion creada pasa todos los tests\n",
    "random.seed(42)\n",
    "assert seleccionar_aleatoriamente2([1,2,3,4,5,6,7,8,9,10],3) == [2, 1, 5], \"Error en el test 1\"\n",
    "assert seleccionar_aleatoriamente2([1,2,3,4,5,6,7,8,9,10],8) == [4, 10, 3, 6, 1, 5, 7, 8], \"Error en el test 2\"\n",
    "assert seleccionar_aleatoriamente2([1,2,3,4,5,6,7,8,9,10],5) == [7, 1, 9, 8, 2], \"Error en el test 3\"\n",
    "assert seleccionar_aleatoriamente2([1,2,3,4,5,6,7,8,9,10],0) == [], \"Error en el test 4\"\n",
    "\"Felicitaciones todos los casos de prueba fueron pasados exitosamente!!\""
   ]
  },
  {
   "cell_type": "code",
   "execution_count": null,
   "id": "9c27d0b4-206d-417d-ad70-b3c17310508e",
   "metadata": {},
   "outputs": [],
   "source": [
    "#@title Solucion Ejercicio 3 {display-mode:\"form\"}\n",
    "\n",
    "import random\n",
    "def seleccionar_aleatoriamente2(lista, n):\n",
    "    ret = random.sample(lista, n)\n",
    "    return ret"
   ]
  },
  {
   "cell_type": "markdown",
   "id": "f1af0de5-722b-4fd3-93c3-f732d3ba8620",
   "metadata": {},
   "source": [
    "### Ejercicio 4:\n",
    "\n",
    "Crear una funcion llamada **seleccionar_aleatoriamente3(lista, n)** que reciba dos parametros de tipo lista: lista y n y que devuelva una lista con n elementos seleccionados aleatoriamente de lista. Los elementos seleccionados pueden ser repetidos. Utilizar la funcion random.choices para seleccionar valores aleatoriamente con repeticion (tambien llamados con reemplazo)\n",
    "\n",
    "Ejemplo:\n",
    "\n",
    "Input: lista=[1,2,3,4,5,6,7,8,9,10], n=3\n",
    "\n",
    "Output: [7, 1, 3]"
   ]
  },
  {
   "cell_type": "code",
   "execution_count": null,
   "id": "398b8646-a54b-4cdb-8194-1d034290add8",
   "metadata": {},
   "outputs": [],
   "source": [
    "import random\n",
    "def seleccionar_aleatoriamente3(lista, n):\n",
    "    # Escribir aqui la solucion\n",
    "    \n",
    "    "
   ]
  },
  {
   "cell_type": "code",
   "execution_count": 6,
   "id": "9644c081-e100-4316-84a4-a6defaf9c633",
   "metadata": {},
   "outputs": [
    {
     "data": {
      "text/plain": [
       "'Felicitaciones todos los casos de prueba fueron pasados exitosamente!!'"
      ]
     },
     "execution_count": 6,
     "metadata": {},
     "output_type": "execute_result"
    }
   ],
   "source": [
    "# No modificar el siguiente codigo\n",
    "# Solo ejecutarlo para saber si la funcion creada pasa todos los tests\n",
    "random.seed(42)\n",
    "assert seleccionar_aleatoriamente3([1,2,3,4,5,6,7,8,9,10],3) == [7, 1, 3], \"Error en el test 1\"\n",
    "assert seleccionar_aleatoriamente3([1,2,3,4,5,6,7,8,9,10],8) == [3, 8, 7, 9, 1, 5, 1, 3], \"Error en el test 2\"\n",
    "assert seleccionar_aleatoriamente3([1,2,3,4,5,6,7,8,9,10],5) == [6, 1, 2, 7, 6], \"Error en el test 3\"\n",
    "assert seleccionar_aleatoriamente3([1,2,3,4,5,6,7,8,9,10],0) == [], \"Error en el test 4\"\n",
    "\"Felicitaciones todos los casos de prueba fueron pasados exitosamente!!\""
   ]
  },
  {
   "cell_type": "code",
   "execution_count": 5,
   "id": "677ae44b-d9f5-4c57-955c-c482a63d8534",
   "metadata": {},
   "outputs": [],
   "source": [
    "#@title Solucion Ejercicio 4 {display-mode:\"form\"}\n",
    "\n",
    "import random\n",
    "def seleccionar_aleatoriamente3(lista, n):\n",
    "    ret = random.choices(lista, k=n)\n",
    "    return ret"
   ]
  },
  {
   "cell_type": "markdown",
   "id": "f92d3ebb-1cef-4711-8e3f-581389f6167a",
   "metadata": {},
   "source": [
    "### Ejercicio 5:\n",
    "\n",
    "Crear una funcion llamada **contar_veces(semilla)** que reciba un parametro entero llamado semilla y que genere numeros aleatorios entre 0 y 100 utilizando la funcion random.randrange(0,100) previamente ejecutando random.seed(semilla) hasta que genere el numero 42. La funcion debera devolver el numero de intentos generados.\n",
    "\n",
    "*Ejemplo:*\n",
    "\n",
    "*Input: semilla=1* \n",
    "\n",
    "*Output: 68*"
   ]
  },
  {
   "cell_type": "code",
   "execution_count": null,
   "id": "36b4a490-d836-4411-97ce-876708cde098",
   "metadata": {},
   "outputs": [],
   "source": [
    "import random\n",
    "def contar_veces(semilla):\n",
    "    random.seed(semilla)\n",
    "    # Escribir aqui la solucion\n",
    "    \n",
    "    "
   ]
  },
  {
   "cell_type": "code",
   "execution_count": 8,
   "id": "f18da4bb-b57c-4b36-b386-b33a5f3997fb",
   "metadata": {},
   "outputs": [
    {
     "data": {
      "text/plain": [
       "'Felicitaciones todos los casos de prueba fueron pasados exitosamente!!'"
      ]
     },
     "execution_count": 8,
     "metadata": {},
     "output_type": "execute_result"
    }
   ],
   "source": [
    "# No modificar el siguiente codigo\n",
    "# Solo ejecutarlo para saber si la funcion creada pasa todos los tests\n",
    "assert contar_veces(1) == 68, \"Error en el test 1\"\n",
    "assert contar_veces(2) == 360, \"Error en el test 2\"\n",
    "assert contar_veces(3) == 122, \"Error en el test 3\"\n",
    "\"Felicitaciones todos los casos de prueba fueron pasados exitosamente!!\""
   ]
  },
  {
   "cell_type": "code",
   "execution_count": 7,
   "id": "4360bf9c-6cfe-4ce6-9921-1c22b207469d",
   "metadata": {},
   "outputs": [],
   "source": [
    "#@title Solucion Ejercicio 5 {display-mode:\"form\"}\n",
    "\n",
    "import random\n",
    "def contar_veces(semilla):\n",
    "    random.seed(semilla)\n",
    "    n = random.randrange(0,100)\n",
    "    counter = 1\n",
    "    while n != 42:\n",
    "        n = random.randrange(0,100)\n",
    "        counter += 1\n",
    "    return counter"
   ]
  },
  {
   "cell_type": "markdown",
   "id": "bf188c41-267e-457c-b5c7-de8dc1085ca1",
   "metadata": {},
   "source": [
    "# Fin: [Volver al contenido del curso](https://www.freecodingtour.com/cursos/espanol/programacion/programacion.html)"
   ]
  }
 ],
 "metadata": {
  "kernelspec": {
   "display_name": "Python 3 (ipykernel)",
   "language": "python",
   "name": "python3"
  },
  "language_info": {
   "codemirror_mode": {
    "name": "ipython",
    "version": 3
   },
   "file_extension": ".py",
   "mimetype": "text/x-python",
   "name": "python",
   "nbconvert_exporter": "python",
   "pygments_lexer": "ipython3",
   "version": "3.9.7"
  }
 },
 "nbformat": 4,
 "nbformat_minor": 5
}
