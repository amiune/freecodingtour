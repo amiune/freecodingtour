{
 "cells": [
  {
   "cell_type": "markdown",
   "id": "c914784c-7225-467f-9bb3-a30517ee5135",
   "metadata": {},
   "source": [
    "# Entrada -> Proceso -> Salida\n",
    "\n",
    "Todo programa de computacion consta de tres partes:\n",
    "\n",
    "1. La **entrada** que son los datos que le proveemos al programa\n",
    "2. El **procesamiento** de esos datos (el programa propiamente dicho)\n",
    "3. La **salida** que es el resultado que obtenemos luego de procesar los datos\n",
    "\n",
    "![Entrada,Proceso,Salida](img/entrada_proceso_salida.png)\n",
    "\n",
    "- **La entrada** al programa puede ser a traves de *una camara* en el caso de un auto autonomo, *un sensor* en el caso de un termostato, *un teclado* en el caso de una computadora, *un microfono* en el caso de un telefono movil, etc.\n",
    "\n",
    "- **El procesamiento** es el codigo que nosotros escribimos para procesar esa entrada y dar una respuesta.\n",
    "\n",
    "- **La salida** es la respuesta que puede ser a traves de un *texto o dibujo* en una pantalla, *un audio*, *el movimiento de un robot*, etc.\n",
    "\n",
    "En esta unidad la entrada va a estar dada por lo que el usuario ingrese por teclado con la funcion **input()**. El procesamiento va a ser el codigo que escribamos para obtener el resultado deseado y la salida va a estar dada por el resultado que mostremos por pantalla utilizando la funcion **print()**.\n",
    "\n",
    "Veamos ejemplos haciendo ejercicios:"
   ]
  },
  {
   "cell_type": "markdown",
   "id": "a50373d6-42f3-4050-9415-e65fcb28f8cb",
   "metadata": {},
   "source": [
    "### Ejercicio 1:\n",
    "\n",
    "Pedir al usuario que ingrese su nombre y mostrar luego cuantas letras tiene.\n",
    "\n",
    "Ejemplo:\n",
    "\n",
    "Entrada: \n",
    "```\n",
    "Ingrese su nombre: Alicia\n",
    "```\n",
    "Salida: \n",
    "```\n",
    "Tu nombre tiene: 6 letras\n",
    "```"
   ]
  },
  {
   "cell_type": "code",
   "execution_count": null,
   "id": "0dd3023d-285e-4580-8cd9-d29e4ee895ab",
   "metadata": {},
   "outputs": [],
   "source": [
    "# Escribir aqui la solucion\n",
    "\n"
   ]
  },
  {
   "cell_type": "code",
   "execution_count": null,
   "id": "dd6f265d-0c3b-4d0b-bfc8-f39ca666c469",
   "metadata": {},
   "outputs": [],
   "source": [
    "#@title Solucion Ejercicio 1 {display-mode:\"form\"}\n",
    "\n",
    "# Entrada\n",
    "nombre = input(\"Ingrese su nombre:\")\n",
    "\n",
    "# Procesamiento\n",
    "total_letras = len(nombre)\n",
    "\n",
    "# Salida\n",
    "print(\"Tu nombre tiene:\", total_letras, \"letras\")"
   ]
  },
  {
   "cell_type": "markdown",
   "id": "f5bc489c-6c12-4a77-8406-a870ab5f3be3",
   "metadata": {},
   "source": [
    "### Ejercicio 2:\n",
    "\n",
    "Pedir al usuario que ingrese dos numeros y mostrar luego el mayor de ambos. Importante: convertir la entrada del teclado de texto a numero con la funcion int() o float().\n",
    "\n",
    "Ejemplo:\n",
    "\n",
    "Entrada: \n",
    "```\n",
    "Ingrese el primer numero: 100\n",
    "Ingrese el primer numero: 20\n",
    "```\n",
    "Salida: \n",
    "```\n",
    "El mayor es: 100\n",
    "```"
   ]
  },
  {
   "cell_type": "code",
   "execution_count": null,
   "id": "f02fb45c-507c-40a2-bc55-a7e5669554ae",
   "metadata": {},
   "outputs": [],
   "source": [
    "# Escribir aqui la solucion\n",
    "\n"
   ]
  },
  {
   "cell_type": "code",
   "execution_count": null,
   "id": "cb4a8ae4-5f68-48e8-b552-3526948ab216",
   "metadata": {},
   "outputs": [],
   "source": [
    "#@title Solucion Ejercicio 2 {display-mode:\"form\"}\n",
    "\n",
    "# Entrada\n",
    "numero1 = int(input(\"Ingrese el primer numero:\"))\n",
    "numero2 = int(input(\"Ingrese el segundo numero:\"))\n",
    "\n",
    "# Procesamiento\n",
    "if numero1 > numero2:\n",
    "    mayor = numero1\n",
    "else:\n",
    "    mayor = numero2\n",
    "\n",
    "# Salida\n",
    "print(\"El mayor es:\", mayor)"
   ]
  },
  {
   "cell_type": "markdown",
   "id": "582d4310-3e54-4742-9136-e444213e1e29",
   "metadata": {},
   "source": [
    "### Ejercicio 3 (dificultad media):\n",
    "\n",
    "Pedir al usuario que ingrese un numero y mostrar luego la suma de todos los numeros desde 1 hasta el numero ingresado por el usuario.\n",
    "\n",
    "Ejemplo:\n",
    "\n",
    "Entrada: \n",
    "```\n",
    "Ingrese un numero: 5\n",
    "```\n",
    "Salida: \n",
    "```\n",
    "La suma de 1 hasta 5 es: 15\n",
    "```\n",
    "Explicacion: 1+2+3+4+5 = 15"
   ]
  },
  {
   "cell_type": "code",
   "execution_count": null,
   "id": "73770042-5498-4fdc-a3c6-fa946745e5cb",
   "metadata": {},
   "outputs": [],
   "source": [
    "# Escribir aqui la solucion\n",
    "\n"
   ]
  },
  {
   "cell_type": "code",
   "execution_count": null,
   "id": "f8a30b07-5dc3-4207-a821-4246b60b6ea2",
   "metadata": {},
   "outputs": [],
   "source": [
    "#@title Solucion Ejercicio 3 {display-mode:\"form\"}\n",
    "\n",
    "# Entrada\n",
    "n = int(input(\"Ingrese un numero:\"))\n",
    "\n",
    "# Procesamiento\n",
    "suma = 0\n",
    "i = 1\n",
    "while i <= n:\n",
    "    suma = suma + i\n",
    "    i = i + 1\n",
    "\n",
    "# Salida\n",
    "print(\"La suma de 1 hasta\", n, \"es:\", suma)"
   ]
  },
  {
   "cell_type": "markdown",
   "id": "16ee454a-33d3-465d-b222-933a6db646d9",
   "metadata": {},
   "source": [
    "### Ejercicio 4:\n",
    "\n",
    "Pedir al usuario ingresar un número del 1 al 7, que represente un día de la semana (1 para lunes, 2 para martes, etc.), y luego muestre el nombre del día.\n",
    "\n",
    "Ejemplo:\n",
    "\n",
    "Entrada: \n",
    "```\n",
    "Ingrese un número del 1 al 7: 3\n",
    "```\n",
    "Salida: \n",
    "```\n",
    "Hoy es Miercoles.\n",
    "```"
   ]
  },
  {
   "cell_type": "code",
   "execution_count": null,
   "id": "c58f709e-b97b-4a3c-9579-a242f00bad48",
   "metadata": {},
   "outputs": [],
   "source": [
    "# Escribir aqui la solucion\n",
    "\n"
   ]
  },
  {
   "cell_type": "code",
   "execution_count": null,
   "id": "c44f21f5-b6c1-46ce-84aa-948015ea9b37",
   "metadata": {},
   "outputs": [],
   "source": [
    "#@title Solucion Ejercicio 4 {display-mode:\"form\"}\n",
    "\n",
    "# Entrada\n",
    "dia = int(input(\"Ingrese el numero del dia:\"))\n",
    "\n",
    "# Procesamiento\n",
    "nombre_del_dia = \"\"\n",
    "\n",
    "if dia == 1:\n",
    "    nombre_del_dia = \"Lunes\"\n",
    "elif dia == 2:\n",
    "    nombre_del_dia = \"Martes\"\n",
    "elif dia == 3:\n",
    "    nombre_del_dia = \"Miercoles\"\n",
    "elif dia == 4:\n",
    "    nombre_del_dia = \"Jueves\"\n",
    "elif dia == 5:\n",
    "    nombre_del_dia = \"Viernes\"\n",
    "elif dia == 6:\n",
    "    nombre_del_dia = \"Sabado\"\n",
    "elif dia == 7:\n",
    "    nombre_del_dia = \"Domingo\"\n",
    "    \n",
    "\n",
    "# Salida\n",
    "print(\"Hoy es:\", nombre_del_dia)"
   ]
  },
  {
   "cell_type": "markdown",
   "id": "8ad3b57a-c171-4a8f-a4c5-081e3521b4af",
   "metadata": {},
   "source": [
    "### Ejercicio 5:\n",
    "\n",
    "Pedir al usuario ingresar una calificación (un número del 1 al 10) y luego muestre un mensaje que indique si el estudiante aprobó o reprobó. Considera que la para aprobar la nota debe ser mayor o igual que 6.\n",
    "\n",
    "Ejemplo:\n",
    "\n",
    "Entrada: \n",
    "```\n",
    "Ingrese la calificación del estudiante: 7\n",
    "```\n",
    "Salida: \n",
    "```\n",
    "El estudiante ha aprobado.\n",
    "```"
   ]
  },
  {
   "cell_type": "code",
   "execution_count": null,
   "id": "c2e94985-31d7-4dec-951d-3ba425e5e992",
   "metadata": {},
   "outputs": [],
   "source": [
    "# Escribir aqui la solucion\n",
    "\n"
   ]
  },
  {
   "cell_type": "code",
   "execution_count": null,
   "id": "333983aa-729e-4527-b227-ed22208990e4",
   "metadata": {},
   "outputs": [],
   "source": [
    "#@title Solucion Ejercicio 5 {display-mode:\"form\"}\n",
    "\n",
    "# Entrada\n",
    "nota = int(input(\"Ingrese la calificación del estudiante:\"))\n",
    "\n",
    "# Procesamiento\n",
    "condicion = \"aprobado\"\n",
    "\n",
    "if nota >= 6:\n",
    "    condicion = \"aprobado\"\n",
    "else:\n",
    "    condicion = \"reprobado\"\n",
    "\n",
    "# Salida\n",
    "print(\"El estudiante esta\", condicion)"
   ]
  },
  {
   "cell_type": "markdown",
   "id": "a05b9bf3-5a76-402b-a34d-3c47f45d1c64",
   "metadata": {},
   "source": [
    "### Ejercicio 6 (dificultad media):\n",
    "\n",
    "Pedir al usuario que ingrese dos numeros y mostrar luego la cantidad de numeros que son multiplos de 3 entre esos dos numeros.\n",
    "\n",
    "Ejemplo:\n",
    "\n",
    "Entrada: \n",
    "```\n",
    "Ingrese el primer numero: 11\n",
    "Ingrese el primer numero: 23\n",
    "```\n",
    "Salida: \n",
    "```\n",
    "Hay 4 multiplos de 3 entre 11 y 23\n",
    "```\n",
    "Explicacion: 12,15,18,21"
   ]
  },
  {
   "cell_type": "code",
   "execution_count": null,
   "id": "f524cee2-db11-4d18-b73a-2200aafea0e1",
   "metadata": {},
   "outputs": [],
   "source": [
    "# Escribir aqui la solucion\n",
    "\n"
   ]
  },
  {
   "cell_type": "code",
   "execution_count": null,
   "id": "28ef56ba-bf9d-413d-bbcc-9cebf7c42528",
   "metadata": {},
   "outputs": [],
   "source": [
    "#@title Solucion Ejercicio 6 {display-mode:\"form\"}\n",
    "\n",
    "# Entrada\n",
    "numero1 = int(input(\"Ingrese el primer numero:\"))\n",
    "numero2 = int(input(\"Ingrese el segundo numero:\"))\n",
    "\n",
    "# Procesamiento\n",
    "contador = 0\n",
    "n = numero1\n",
    "while n <= numero2:\n",
    "    if n % 3 == 0:\n",
    "        contador = contador + 1\n",
    "    n = n + 1\n",
    "\n",
    "# Salida\n",
    "print(\"Hay\", contador, \"multiplos de 3 entre\", numero1, \"y\", numero2)"
   ]
  },
  {
   "cell_type": "markdown",
   "id": "2e5bbdde-9452-4903-8d54-51f010b2328d",
   "metadata": {},
   "source": [
    "### Ejercicio 7 (dificultad dificil):\n",
    "\n",
    "Pedir al usuario que ingrese un numero por teclado entre 2 y 1000 y luego mostrar cuantos numero primos hay entre 2 y ese numero.\n",
    "\n",
    "Ejemplo:\n",
    "\n",
    "Entrada: \n",
    "```\n",
    "Ingrese un numero: 20\n",
    "```\n",
    "Salida: \n",
    "```\n",
    "Hay 8 numeros primos entre 2 y 20\n",
    "```\n",
    "Explicacion: 2,3,5,7,11,13,17,19"
   ]
  },
  {
   "cell_type": "code",
   "execution_count": null,
   "id": "d4ddd7d6-2e39-4e0f-8037-3b5a672c1d85",
   "metadata": {},
   "outputs": [],
   "source": [
    "# Escribir aqui la solucion\n",
    "\n"
   ]
  },
  {
   "cell_type": "code",
   "execution_count": null,
   "id": "65f66e8b-ec23-44ab-b50a-53a1c632c6b4",
   "metadata": {},
   "outputs": [],
   "source": [
    "#@title Solucion Ejercicio 7 {display-mode:\"form\"}\n",
    "\n",
    "# Entrada\n",
    "numero = int(input(\"Ingrese un numero:\"))\n",
    "\n",
    "# Procesamiento\n",
    "contador = 0\n",
    "n = 2\n",
    "# para cada numero entre 2 y numero\n",
    "while n <= numero:\n",
    "    \n",
    "    es_primo = True\n",
    "    \n",
    "    # verificar que no sea divisible \n",
    "    # por otro numero entre 2 y n-1\n",
    "    divisor = 2\n",
    "    while divisor < n:\n",
    "        if n % divisor == 0:\n",
    "            es_primo = False\n",
    "        # pasar al siguiente divisor\n",
    "        divisor = divisor + 1\n",
    "            \n",
    "    # si n es primo sumar 1 al contador\n",
    "    if es_primo:\n",
    "        contador = contador + 1\n",
    "    \n",
    "    # pasar al siguiente numero\n",
    "    n = n + 1\n",
    "\n",
    "# Salida\n",
    "print(\"Hay\", contador, \"numeros primos entre 2 y\", numero)"
   ]
  },
  {
   "cell_type": "markdown",
   "id": "42764f90-9b0b-42a6-a807-c9f6a8663d5b",
   "metadata": {},
   "source": [
    "# Fin: [Volver al contenido del curso](https://www.freecodingtour.com/cursos/espanol/programacion/programacion.html)"
   ]
  }
 ],
 "metadata": {
  "kernelspec": {
   "display_name": "Python 3 (ipykernel)",
   "language": "python",
   "name": "python3"
  },
  "language_info": {
   "codemirror_mode": {
    "name": "ipython",
    "version": 3
   },
   "file_extension": ".py",
   "mimetype": "text/x-python",
   "name": "python",
   "nbconvert_exporter": "python",
   "pygments_lexer": "ipython3",
   "version": "3.9.7"
  }
 },
 "nbformat": 4,
 "nbformat_minor": 5
}
