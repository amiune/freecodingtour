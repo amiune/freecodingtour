{
 "cells": [
  {
   "cell_type": "markdown",
   "id": "485fa1ab-0173-48f0-a3bc-7eecb8167662",
   "metadata": {},
   "source": [
    "# Conjuntos (sets en ingles) \n",
    "\n",
    "Un **set** (conjunto en ingles) es una estructura de datos que no puede tener elementos repetidos y ademas tiene las propiedades matematicas de los conjuntos, si no las sabes no te preocupes son muy faciles y las veremos a continuacion."
   ]
  },
  {
   "cell_type": "markdown",
   "id": "2671da86-6d82-4c13-9f28-52cb62524355",
   "metadata": {},
   "source": [
    "## Creacion de conjuntos"
   ]
  },
  {
   "cell_type": "code",
   "execution_count": null,
   "id": "6049373c-d15d-48a6-a932-be112fcd082e",
   "metadata": {},
   "outputs": [],
   "source": [
    "conjunto1 = {1,2,3}\n",
    "print(conjunto1)"
   ]
  },
  {
   "cell_type": "markdown",
   "id": "d64259a2-a2e9-4a03-ab0b-720d9a1c41be",
   "metadata": {},
   "source": [
    "#### La funcion set()\n",
    "\n",
    "La funcion set() me permite crear un conjunto vacio o convertir otro tipo de variable en un conjunto como por ejemplo una lista."
   ]
  },
  {
   "cell_type": "code",
   "execution_count": null,
   "id": "5cf68e17-522f-4b36-9a9c-c70a72dffd3e",
   "metadata": {},
   "outputs": [],
   "source": [
    "conjunto_vacio = set()\n",
    "print(conjunto_vacio)"
   ]
  },
  {
   "cell_type": "code",
   "execution_count": null,
   "id": "79e07e89-284e-4ccd-9408-b4d47ea4ff5a",
   "metadata": {},
   "outputs": [],
   "source": [
    "conjunto2 = set([1,2,3,4,5])\n",
    "print(conjunto2)"
   ]
  },
  {
   "cell_type": "markdown",
   "id": "1f88bb32-aa90-4b96-95dd-980cfe7119b5",
   "metadata": {},
   "source": [
    "## Un conjunto no puede tener elementos repetidos"
   ]
  },
  {
   "cell_type": "code",
   "execution_count": null,
   "id": "6b27a451-eac4-4d81-8754-a3030a63307e",
   "metadata": {},
   "outputs": [],
   "source": [
    "conjunto3 = {1,1,1,1,1,1,1,1,2,2,2,2,2,2,2,3,3}\n",
    "print(conjunto3)"
   ]
  },
  {
   "cell_type": "markdown",
   "id": "d77a943d-d2df-4c97-8e63-0b87fe110c8a",
   "metadata": {},
   "source": [
    "#### Un conjunto puede contener valores de distintos tipos"
   ]
  },
  {
   "cell_type": "code",
   "execution_count": null,
   "id": "f5785053-2c0e-457a-85ca-0806ef5d603c",
   "metadata": {},
   "outputs": [],
   "source": [
    "c4 = {1,\"a\",\"b\",\"a\",1,1,2}\n",
    "print(c4)"
   ]
  },
  {
   "cell_type": "markdown",
   "id": "7dbd70bd-d2c5-4caa-822d-78b7e3ec81ff",
   "metadata": {},
   "source": [
    "## Funciones para modificar los conjuntos"
   ]
  },
  {
   "cell_type": "markdown",
   "id": "9bc1a592-8f8c-48e3-a286-abf60ab9d90c",
   "metadata": {},
   "source": [
    "#### Agregar un elemento"
   ]
  },
  {
   "cell_type": "code",
   "execution_count": null,
   "id": "d1e20139-3132-4205-ac09-1999e02a0dee",
   "metadata": {},
   "outputs": [],
   "source": [
    "s1 = {1, 2, 3}\n",
    "s1.add(4)\n",
    "print(s1)"
   ]
  },
  {
   "cell_type": "markdown",
   "id": "de627d5e-0fe9-438c-a99d-6982bea94cda",
   "metadata": {},
   "source": [
    "#### Agregar varios elementos"
   ]
  },
  {
   "cell_type": "code",
   "execution_count": null,
   "id": "e626260d-26f2-4e1c-9e63-3d40d4b0ea03",
   "metadata": {},
   "outputs": [],
   "source": [
    "s2 = {1, 2, 3}\n",
    "s2.update([4,5])\n",
    "print(s2)"
   ]
  },
  {
   "cell_type": "markdown",
   "id": "7ec15fcd-485f-4fd0-977f-b4f55a9258f0",
   "metadata": {},
   "source": [
    "#### Eliminar elementos usando remove(elemento)\n",
    "\n",
    "Si elemento no se encuentra en el set la funcion remove da error"
   ]
  },
  {
   "cell_type": "code",
   "execution_count": null,
   "id": "c84c6fa8-db5e-4f1b-9375-af9c6757d926",
   "metadata": {},
   "outputs": [],
   "source": [
    "s3 = {1, 2, 3}\n",
    "s3.remove(2)\n",
    "print(s3)"
   ]
  },
  {
   "cell_type": "markdown",
   "id": "12621c27-2c7e-461c-b1cc-49ba80209f9c",
   "metadata": {},
   "source": [
    "#### Eliminar elementos usando discard(elemento)\n",
    "\n",
    "Si elemento no se encuentra en el set la funcion discard no da error"
   ]
  },
  {
   "cell_type": "code",
   "execution_count": null,
   "id": "effe8503-bd90-42a9-858c-f13c5280718f",
   "metadata": {},
   "outputs": [],
   "source": [
    "s4 = {1, 2, 3}\n",
    "s4.discard(5)\n",
    "s4.discard(1)\n",
    "print(s4)"
   ]
  },
  {
   "cell_type": "markdown",
   "id": "0928f31a-c111-4d18-aed9-be31ca7f3daa",
   "metadata": {},
   "source": [
    "#### Vaciar un conjunto"
   ]
  },
  {
   "cell_type": "code",
   "execution_count": null,
   "id": "a77f8554-09a3-4a94-9221-2000503458b6",
   "metadata": {},
   "outputs": [],
   "source": [
    "s5 = {1,2,3,4,5,6,7}\n",
    "s5.clear()\n",
    "print(s5)"
   ]
  },
  {
   "cell_type": "markdown",
   "id": "7bb7b4ed-486a-41e3-aa5b-541d03ae73f1",
   "metadata": {},
   "source": [
    "#### Saber el numero de elementos de un conjunto"
   ]
  },
  {
   "cell_type": "code",
   "execution_count": null,
   "id": "7aaf07a7-b17d-4aac-b07b-00530f164bfe",
   "metadata": {},
   "outputs": [],
   "source": [
    "s6 = {1,2,3,4,5}\n",
    "print(len(s6))\n",
    "s7 = {1,\"a\",\"b\",\"a\",1,1,2}\n",
    "print(len(s7))"
   ]
  },
  {
   "cell_type": "markdown",
   "id": "34870183-b6c8-422f-b5ae-dff6a0b37bc8",
   "metadata": {},
   "source": [
    "## Ejercicio 1:\n",
    "\n",
    "Crear una funcion **valores_no_repetidos(lista)** que reciba un parametro de tipo lista y que devuelva un set que contenga los valores que aparecen en la lista. Utilizar nuevo_set = set() para crear un nuevo set y la funcion nuevo_set.add(valor) para agregar elementos a dicho set\n",
    "\n",
    "*Ejemplo de input y output:*\n",
    "\n",
    "*Input: lista=[1,1,2,3,2,2,3,4]*\n",
    "\n",
    "*Output: {1,2,3,4}*"
   ]
  },
  {
   "cell_type": "code",
   "execution_count": null,
   "id": "feace14b-46ce-4aef-80bd-e5d0bb41fcd7",
   "metadata": {},
   "outputs": [],
   "source": [
    "def valores_no_repetidos(lista):\n",
    "    # Escribir aqui la solucion\n",
    "    \n",
    "    "
   ]
  },
  {
   "cell_type": "code",
   "execution_count": null,
   "id": "cd70d707-3c8d-489d-a73d-5866273ae2df",
   "metadata": {},
   "outputs": [],
   "source": [
    "# No modificar el siguiente codigo\n",
    "# Solo ejecutarlo para saber si la funcion creada pasa todos los tests\n",
    "assert valores_no_repetidos([1,1,2,3,2,2,3,4]) == {1,2,3,4}, \"Error en el test 1\"\n",
    "assert valores_no_repetidos([1,1,1,1,1,1,1,1,1,1,1]) == {1}, \"Error en el test 2\"\n",
    "assert valores_no_repetidos([]) == set(), \"Error en el test 3\"\n",
    "assert valores_no_repetidos([1,-1,\"a\"]) == {1,-1,\"a\"}, \"Error en el test 4\"\n",
    "assert valores_no_repetidos([4,3,2,1]) == {1,2,3,4}, \"Error en el test 5\"\n",
    "\"Felicitaciones todos los casos de prueba fueron pasados exitosamente!!\""
   ]
  },
  {
   "cell_type": "code",
   "execution_count": null,
   "id": "676ef330-8a4b-45c0-9645-05cedfebe0f4",
   "metadata": {},
   "outputs": [],
   "source": [
    "#@title Solucion Ejercicio 1 {display-mode:\"form\"}\n",
    "\n",
    "# Solucion 1\n",
    "def valores_no_repetidos(lista):\n",
    "    nuevo_set = set()\n",
    "    for item in lista:\n",
    "        nuevo_set.add(item)\n",
    "    return nuevo_set\n",
    "\n",
    "# Solucion 2\n",
    "def valores_no_repetidos(lista):\n",
    "    return set(lista)"
   ]
  },
  {
   "cell_type": "markdown",
   "id": "7c884549-fa72-4dc9-a98a-a821daacdf04",
   "metadata": {},
   "source": [
    "## Operaciones de conjuntos"
   ]
  },
  {
   "cell_type": "markdown",
   "id": "14902495-2a0c-40af-971e-689c3945296f",
   "metadata": {},
   "source": [
    "#### Union: \n",
    "\n",
    "El resultado es la suma de los elementos de ambos conjuntos"
   ]
  },
  {
   "cell_type": "code",
   "execution_count": null,
   "id": "88c80497-dccf-4e8d-a08f-94a6b11ba60b",
   "metadata": {},
   "outputs": [],
   "source": [
    "set_1 = {1, 2, 3, 4}\n",
    "set_2 = {3, 4, 5, 6}\n",
    "print(set_1.union(set_2))\n",
    "print(set_1 | set_2)"
   ]
  },
  {
   "cell_type": "markdown",
   "id": "95cd2590-902d-4e2a-8d1c-e643514fa1ca",
   "metadata": {},
   "source": [
    "#### Interseccion: \n",
    "\n",
    "El resultado son solamente los elementos que se encuentran en los dos conjuntos"
   ]
  },
  {
   "cell_type": "code",
   "execution_count": null,
   "id": "1d3b4b07-f8dd-4c8d-94e6-8468d782f72f",
   "metadata": {},
   "outputs": [],
   "source": [
    "set_1 = {1, 2, 3, 4}\n",
    "set_2 = {3, 4, 5, 6}\n",
    "print(set_1.intersection(set_2))\n",
    "print(set_1 & set_2)"
   ]
  },
  {
   "cell_type": "markdown",
   "id": "b3cdc83e-76ef-4a26-a8df-b3ff2c31ea23",
   "metadata": {},
   "source": [
    "#### Diferencia: \n",
    "\n",
    "El resultado son los elementos del conjunto1 menos los elementos del conjunto2"
   ]
  },
  {
   "cell_type": "code",
   "execution_count": null,
   "id": "bb616c7d-562d-4525-b21d-5a5745333d7d",
   "metadata": {},
   "outputs": [],
   "source": [
    "set_1 = {1, 2, 3, 4}\n",
    "set_2 = {3, 4, 5, 6}\n",
    "print(set_1.difference(set_2))\n",
    "print(set_1 - set_2)"
   ]
  },
  {
   "cell_type": "markdown",
   "id": "8e6a6896-8273-4a97-aa2c-9c79540f9a43",
   "metadata": {},
   "source": [
    "#### Diferencia simetrica: \n",
    "\n",
    "#l resultado son los elementos que no se encuentran en ambos\n",
    "\n",
    "cojunto1 - conjunto2 UNION conjunto2 - conjunto1"
   ]
  },
  {
   "cell_type": "code",
   "execution_count": null,
   "id": "e4f0020a-b45c-4181-b4f8-7b8458336179",
   "metadata": {},
   "outputs": [],
   "source": [
    "set_1 = {1, 2, 3, 4}\n",
    "set_2 = {3, 4, 5, 6}\n",
    "print(set_1.symmetric_difference(set_2))\n",
    "print(set_1 ^ set_2)"
   ]
  },
  {
   "cell_type": "markdown",
   "id": "b48615c4-b99a-4fb0-9286-855757c00dc0",
   "metadata": {},
   "source": [
    "#### Subconjunto: \n",
    "\n",
    "verdadero si el conjunto1 es un subconjunto del conjunto2"
   ]
  },
  {
   "cell_type": "code",
   "execution_count": null,
   "id": "159a6dde-3729-493e-ba5d-ca3bd840dfc2",
   "metadata": {},
   "outputs": [],
   "source": [
    "set_1 = {1, 2}\n",
    "set_2 = {1, 2, 3}\n",
    "print(set_1.issubset(set_2))\n",
    "print(set_2.issubset(set_1))"
   ]
  },
  {
   "cell_type": "markdown",
   "id": "780191ea-173d-4fce-881c-0e78beffda39",
   "metadata": {},
   "source": [
    "#### Superset: \n",
    "\n",
    "verdadero si el conjunto2 es un subconjunto del conjunto1"
   ]
  },
  {
   "cell_type": "code",
   "execution_count": null,
   "id": "6da6332d-01c0-41fa-877e-1ec06d1695d9",
   "metadata": {},
   "outputs": [],
   "source": [
    "set_1 = {1, 2}\n",
    "set_2 = {1, 2, 3}\n",
    "print(set_1.issuperset(set_2))\n",
    "print(set_2.issuperset(set_1))"
   ]
  },
  {
   "cell_type": "markdown",
   "id": "ad2188e4-fa98-48a2-b386-a438982c05f8",
   "metadata": {},
   "source": [
    "## Ejercicio 2:\n",
    "\n",
    "Crear una funcion **union_de_sets(set1, set2)** que reciba dos parametros de tipo set y devuelva un set que contenga los elementos del primer set mas los del segundo.\n",
    "\n",
    "*Ejemplo de input y output:*\n",
    "\n",
    "*Input: set1={1,2,3,4}, set2={3,4,5,6}*\n",
    "\n",
    "*Output: {1,2,3,4,5,6}*"
   ]
  },
  {
   "cell_type": "code",
   "execution_count": null,
   "id": "de6966da-9173-46d4-8859-c0043f7fef5e",
   "metadata": {},
   "outputs": [],
   "source": [
    "def union_de_sets(set1, set2):\n",
    "    # Escribir aqui la solucion\n",
    "    \n",
    "    "
   ]
  },
  {
   "cell_type": "code",
   "execution_count": null,
   "id": "89db9ed4-77a2-4103-9cc0-021871268a0f",
   "metadata": {},
   "outputs": [],
   "source": [
    "# No modificar el siguiente codigo\n",
    "# Solo ejecutarlo para saber si la funcion creada pasa todos los tests\n",
    "assert union_de_sets({1,2,3,4},{3,4,5,6}) == {1,2,3,4,5,6}, \"Error en el test 1\"\n",
    "assert union_de_sets(set(),{3,4,5,6}) == {3,4,5,6}, \"Error en el test 2\"\n",
    "assert union_de_sets({4,3,2,1},set()) == {1,2,3,4}, \"Error en el test 3\"\n",
    "assert union_de_sets(set(),set()) == set(), \"Error en el test 4\"\n",
    "\"Felicitaciones todos los casos de prueba fueron pasados exitosamente!!\""
   ]
  },
  {
   "cell_type": "code",
   "execution_count": null,
   "id": "1d726355-44b5-400c-89b3-5aabd6f51ba5",
   "metadata": {},
   "outputs": [],
   "source": [
    "#@title Solucion Ejercicio 2 {display-mode:\"form\"}\n",
    "\n",
    "def union_de_sets(set1, set2):\n",
    "    nuevo_set = set()\n",
    "    for item in set1:\n",
    "        nuevo_set.add(item)\n",
    "    for item in set2:\n",
    "        nuevo_set.add(item)\n",
    "    return nuevo_set\n",
    "\n",
    "def union_de_sets(set1, set2):\n",
    "    return set1.union(set2)"
   ]
  },
  {
   "cell_type": "markdown",
   "id": "7997fc1f-c0fc-4235-9924-d24022b72158",
   "metadata": {},
   "source": [
    "## Ejercicio 3:\n",
    "\n",
    "Crear una funcion interseccion_de_sets(set1, set2) que reciba dos parametros de tipo set y devuelva un set que contenga la interseccion de ambos sets, es decir, solamente aquellos elementos que se encuentran en ambos sets.\n",
    "\n",
    "*Ejemplo de input y output:*\n",
    "\n",
    "*Input: set1={1,2,3,4}, set2={3,4,5,6}*\n",
    "\n",
    "*Output: {3,4}*"
   ]
  },
  {
   "cell_type": "code",
   "execution_count": null,
   "id": "ce8e65d8-f14b-4713-945e-945792019e36",
   "metadata": {},
   "outputs": [],
   "source": [
    "def interseccion_de_sets(set1, set2):\n",
    "    # Escribir aqui la solucion\n",
    "    \n",
    "    "
   ]
  },
  {
   "cell_type": "code",
   "execution_count": null,
   "id": "4481c762-a2b1-470f-afcb-92db1d1cc206",
   "metadata": {},
   "outputs": [],
   "source": [
    "# No modificar el siguiente codigo\n",
    "# Solo ejecutarlo para saber si la funcion creada pasa todos los tests\n",
    "assert interseccion_de_sets({1,2,3,4},{3,4,5,6}) == {3,4}, \"Error en el test 1\"\n",
    "assert interseccion_de_sets(set(),{3,4,5,6}) == set(), \"Error en el test 2\"\n",
    "assert interseccion_de_sets({4,3,2,1},set()) == set(), \"Error en el test 3\"\n",
    "assert interseccion_de_sets({4,3,2,1},{1,2,3,4}) == {1,2,3,4}, \"Error en el test 4\"\n",
    "assert interseccion_de_sets(set(),set()) == set(), \"Error en el test 5\"\n",
    "\"Felicitaciones todos los casos de prueba fueron pasados exitosamente!!\""
   ]
  },
  {
   "cell_type": "code",
   "execution_count": null,
   "id": "11b8dd2b-e945-4d76-820b-9bf6402fe00a",
   "metadata": {},
   "outputs": [],
   "source": [
    "#@title Solucion Ejercicio 3 {display-mode:\"form\"}\n",
    "\n",
    "# Solucion 1\n",
    "def interseccion_de_sets(set1, set2):\n",
    "    nuevo_set = set()\n",
    "    for item in set1:\n",
    "        if item in set2:\n",
    "            nuevo_set.add(item)\n",
    "    return nuevo_set\n",
    "\n",
    "# Solucion 2\n",
    "def interseccion_de_sets(set1, set2):\n",
    "    return set1.intersection(set2)"
   ]
  },
  {
   "cell_type": "markdown",
   "id": "be3f6df2-92c4-47d7-a116-b8798341c060",
   "metadata": {},
   "source": [
    "# Fin: [Volver al contenido del curso](https://www.freecodingtour.com/cursos/espanol/programacion/programacion.html)"
   ]
  }
 ],
 "metadata": {
  "kernelspec": {
   "display_name": "Python 3 (ipykernel)",
   "language": "python",
   "name": "python3"
  },
  "language_info": {
   "codemirror_mode": {
    "name": "ipython",
    "version": 3
   },
   "file_extension": ".py",
   "mimetype": "text/x-python",
   "name": "python",
   "nbconvert_exporter": "python",
   "pygments_lexer": "ipython3",
   "version": "3.9.7"
  }
 },
 "nbformat": 4,
 "nbformat_minor": 5
}
