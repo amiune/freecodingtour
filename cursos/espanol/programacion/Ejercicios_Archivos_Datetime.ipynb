{
 "cells": [
  {
   "cell_type": "markdown",
   "id": "4875610a-3e14-4154-a169-82d9e840d605",
   "metadata": {
    "id": "4875610a-3e14-4154-a169-82d9e840d605"
   },
   "source": [
    "### Ejercicio 1\n",
    "El archivo articulos_vendidos.txt contiene el siguiente texto:\n",
    "\n",
    "```\n",
    "2023-01-01 10:31:11,manzanas,20,$5\n",
    "2023-01-01 22:45:14,bananas,50,$3\n",
    "2023-01-01 23:55:25,naranjas,40,$4\n",
    "```\n",
    "\n",
    "donde se ven cuatro elementos por linea,\n",
    "la fecha, el nombre del articulo, la cantidad y el precio.\n",
    "\n",
    "Se debe leer este archivo y crear uno nuevo con el mismo contenido pero con las fechas\n",
    "corregidas, se les debe adicionar 1 dia y 10 minutos y con un nuevo elemento al final que sea el precio multiplicado por la cantidad"
   ]
  },
  {
   "cell_type": "code",
   "execution_count": 1,
   "id": "5ba08e47-156a-4248-957e-b7c3b8a8eae8",
   "metadata": {
    "id": "5ba08e47-156a-4248-957e-b7c3b8a8eae8"
   },
   "outputs": [],
   "source": []
  },
  {
   "cell_type": "markdown",
   "id": "725332d0-35b4-44b6-89d8-6d14863ef5f4",
   "metadata": {
    "id": "725332d0-35b4-44b6-89d8-6d14863ef5f4"
   },
   "source": [
    "### Ejercicio 2\n",
    "\n",
    "Agregar un nuevo articulo (mango 20 unidades por \\\\$6) que se vendio ahora tener en cuenta que la hora esta una hora y diez minutos atrasada, corregirla\n"
   ]
  },
  {
   "cell_type": "code",
   "execution_count": null,
   "id": "5840c960-dce9-401d-9a93-070a3986bdeb",
   "metadata": {
    "id": "5840c960-dce9-401d-9a93-070a3986bdeb"
   },
   "outputs": [],
   "source": []
  }
 ],
 "metadata": {
  "colab": {
   "provenance": []
  },
  "kernelspec": {
   "display_name": "base",
   "language": "python",
   "name": "base"
  },
  "language_info": {
   "codemirror_mode": {
    "name": "ipython",
    "version": 3
   },
   "file_extension": ".py",
   "mimetype": "text/x-python",
   "name": "python",
   "nbconvert_exporter": "python",
   "pygments_lexer": "ipython3",
   "version": "3.9.7"
  },
  "toc-autonumbering": false
 },
 "nbformat": 4,
 "nbformat_minor": 5
}
