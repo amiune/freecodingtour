{
 "cells": [
  {
   "cell_type": "markdown",
   "id": "dc0afd59-b5ef-46a9-b3a1-124fc31d1140",
   "metadata": {},
   "source": [
    "# Fecha y hora\n",
    "\n",
    "Variables de tipo fecha y hora. "
   ]
  },
  {
   "cell_type": "code",
   "execution_count": 4,
   "id": "56124e56-8e8c-4dbf-a7a1-d1cbc6d7ec5b",
   "metadata": {},
   "outputs": [],
   "source": [
    "import datetime"
   ]
  },
  {
   "cell_type": "code",
   "execution_count": 5,
   "id": "8a418ba6-5ec6-473f-a216-15863834c419",
   "metadata": {},
   "outputs": [
    {
     "data": {
      "text/plain": [
       "datetime.datetime(2050, 6, 1, 0, 0)"
      ]
     },
     "execution_count": 5,
     "metadata": {},
     "output_type": "execute_result"
    }
   ],
   "source": [
    "datetime.datetime(2050, 6, 1)"
   ]
  },
  {
   "cell_type": "code",
   "execution_count": 6,
   "id": "9604972e-9e72-48e5-915f-550b482c839d",
   "metadata": {},
   "outputs": [
    {
     "data": {
      "text/plain": [
       "datetime.datetime(2023, 7, 25, 15, 8, 47, 986206)"
      ]
     },
     "execution_count": 6,
     "metadata": {},
     "output_type": "execute_result"
    }
   ],
   "source": [
    "datetime.datetime.now()"
   ]
  },
  {
   "cell_type": "code",
   "execution_count": 12,
   "id": "f62764ce-dc15-4328-a18d-c6aff8f77ea2",
   "metadata": {},
   "outputs": [
    {
     "data": {
      "text/plain": [
       "datetime.timedelta(days=10, seconds=310)"
      ]
     },
     "execution_count": 12,
     "metadata": {},
     "output_type": "execute_result"
    }
   ],
   "source": [
    "datetime.timedelta(days=10, minutes=5, seconds=10)"
   ]
  },
  {
   "cell_type": "code",
   "execution_count": 14,
   "id": "a1bb3bad-8add-4af2-b4e2-2f2384702495",
   "metadata": {},
   "outputs": [
    {
     "data": {
      "text/plain": [
       "datetime.datetime(2000, 10, 5, 11, 10, 9)"
      ]
     },
     "execution_count": 14,
     "metadata": {},
     "output_type": "execute_result"
    }
   ],
   "source": [
    "datetime.datetime.strptime(\"2000-10-05 11:10:09\", '%Y-%m-%d %H:%M:%S')"
   ]
  },
  {
   "cell_type": "code",
   "execution_count": null,
   "id": "5bc1bfed-9c85-44ec-94fe-c5d2888e8884",
   "metadata": {},
   "outputs": [],
   "source": []
  }
 ],
 "metadata": {
  "kernelspec": {
   "display_name": "Python 3 (ipykernel)",
   "language": "python",
   "name": "python3"
  },
  "language_info": {
   "codemirror_mode": {
    "name": "ipython",
    "version": 3
   },
   "file_extension": ".py",
   "mimetype": "text/x-python",
   "name": "python",
   "nbconvert_exporter": "python",
   "pygments_lexer": "ipython3",
   "version": "3.9.7"
  }
 },
 "nbformat": 4,
 "nbformat_minor": 5
}
