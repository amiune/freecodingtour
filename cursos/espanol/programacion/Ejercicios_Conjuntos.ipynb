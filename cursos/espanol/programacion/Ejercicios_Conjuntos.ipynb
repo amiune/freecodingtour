{
 "cells": [
  {
   "cell_type": "markdown",
   "id": "20a42af8-335b-40ef-aad7-fa07e41f4114",
   "metadata": {},
   "source": [
    "Problema 1: Unir conjuntos\n",
    "\n",
    "Enunciado: Escribe un programa que tome dos conjuntos como entrada y devuelva la unión de esos conjuntos.\n",
    "\n",
    "Ejemplo:\n",
    "    \n",
    "Entrada:\n",
    "```\n",
    "Conjunto 1: {1, 2, 3}\n",
    "Conjunto 2: {3, 4, 5}\n",
    "```\n",
    "Salida:\n",
    "```\n",
    "Unión: {1, 2, 3, 4, 5}\n",
    "```"
   ]
  },
  {
   "cell_type": "code",
   "execution_count": null,
   "id": "c6213182-a8c3-42ed-a0fa-749cf158395a",
   "metadata": {},
   "outputs": [],
   "source": []
  },
  {
   "cell_type": "markdown",
   "id": "2cc50d47-b55c-443d-ac64-697e4a7d1722",
   "metadata": {},
   "source": [
    "Problema 2: Encontrar la intersección\n",
    "\n",
    "Enunciado: Escribe un programa que tome dos conjuntos como entrada y devuelva la intersección de esos conjuntos.\n",
    "\n",
    "Ejemplo:\n",
    "    \n",
    "Entrada:\n",
    "```\n",
    "Conjunto 1: {2, 4, 6, 8}\n",
    "Conjunto 2: {4, 8, 12}\n",
    "```\n",
    "Salida:\n",
    "```\n",
    "Intersección: {4, 8}\n",
    "```"
   ]
  },
  {
   "cell_type": "code",
   "execution_count": null,
   "id": "642f98c7-9407-47fb-9412-747eab40df7b",
   "metadata": {},
   "outputs": [],
   "source": []
  },
  {
   "cell_type": "markdown",
   "id": "9d50b3c7-00cb-41f3-8680-78ff607254e1",
   "metadata": {},
   "source": [
    "Problema 3: Diferencia entre conjuntos\n",
    "\n",
    "Enunciado: Escribe un programa que tome dos conjuntos como entrada y devuelva la diferencia entre el primer conjunto y el segundo.\n",
    "\n",
    "Ejemplo:\n",
    "    \n",
    "Entrada:\n",
    "```\n",
    "Conjunto 1: {10, 20, 30, 40}\n",
    "Conjunto 2: {20, 40}\n",
    "```\n",
    "Salida:\n",
    "```\n",
    "Diferencia: {10, 30}\n",
    "```\n"
   ]
  },
  {
   "cell_type": "code",
   "execution_count": null,
   "id": "56380050-7583-4d61-8fec-d4c35123bf06",
   "metadata": {},
   "outputs": [],
   "source": []
  },
  {
   "cell_type": "markdown",
   "id": "30e7d364-81f3-4d9d-86f7-cdce5357e340",
   "metadata": {},
   "source": [
    "Problema 4: Comprobar la existencia de un elemento\n",
    "\n",
    "Enunciado: Escribe un programa que tome un conjunto y un elemento como entrada, y verifique si el elemento está presente en el conjunto.\n",
    "\n",
    "Ejemplo:\n",
    "    \n",
    "Entrada:\n",
    "```\n",
    "Conjunto: {5, 10, 15, 20}\n",
    "Elemento a buscar: 15\n",
    "```\n",
    "Salida:\n",
    "```\n",
    "El elemento 15 está en el conjunto.\n",
    "```"
   ]
  },
  {
   "cell_type": "code",
   "execution_count": null,
   "id": "4fd53a90-a33c-435a-9a63-2d9957abd54d",
   "metadata": {},
   "outputs": [],
   "source": []
  },
  {
   "cell_type": "markdown",
   "id": "89ac25bd-b405-4439-9c0f-d402a091432b",
   "metadata": {},
   "source": [
    "Problema 5: Eliminar duplicados\n",
    "\n",
    "Enunciado: Escribe un programa que tome una lista como entrada y elimine los elementos duplicados, devolviendo un conjunto con elementos únicos.\n",
    "\n",
    "Ejemplo:\n",
    "    \n",
    "Entrada:\n",
    "```\n",
    "Lista: [3, 2, 2, 1, 4, 3, 5]\n",
    "```\n",
    "Salida:\n",
    "```\n",
    "Conjunto de elementos únicos: {1, 2, 3, 4, 5}\n",
    "```\n"
   ]
  },
  {
   "cell_type": "code",
   "execution_count": null,
   "id": "22efddf4-e0c5-4a04-aa35-ec8f980c78ad",
   "metadata": {},
   "outputs": [],
   "source": []
  },
  {
   "cell_type": "markdown",
   "id": "1e3b774f-1b7f-464c-91ed-d4991c1971fb",
   "metadata": {},
   "source": [
    "Problema 6: Contar elementos únicos\n",
    "\n",
    "Enunciado: Escribe un programa que tome una lista como entrada y cuente la cantidad de elementos únicos en la lista utilizando un conjunto.\n",
    "\n",
    "Ejemplo:\n",
    "    \n",
    "Entrada:\n",
    "```\n",
    "Lista: [10, 20, 30, 10, 40, 50, 20]\n",
    "```\n",
    "Salida:\n",
    "```\n",
    "Cantidad de elementos únicos: 5\n",
    "```"
   ]
  },
  {
   "cell_type": "code",
   "execution_count": null,
   "id": "3e3c71da-10fd-45e8-9a50-719acc8de58e",
   "metadata": {},
   "outputs": [],
   "source": []
  }
 ],
 "metadata": {
  "kernelspec": {
   "display_name": "Python 3 (ipykernel)",
   "language": "python",
   "name": "python3"
  },
  "language_info": {
   "codemirror_mode": {
    "name": "ipython",
    "version": 3
   },
   "file_extension": ".py",
   "mimetype": "text/x-python",
   "name": "python",
   "nbconvert_exporter": "python",
   "pygments_lexer": "ipython3",
   "version": "3.9.7"
  }
 },
 "nbformat": 4,
 "nbformat_minor": 5
}
