{
 "cells": [
  {
   "cell_type": "code",
   "execution_count": null,
   "id": "984203b6-9d6a-40c2-b14e-5de094c08d1a",
   "metadata": {
    "id": "984203b6-9d6a-40c2-b14e-5de094c08d1a"
   },
   "outputs": [],
   "source": [
    "#https://docs.python.org/3/library/exceptions.html#exception-hierarchy"
   ]
  },
  {
   "cell_type": "code",
   "execution_count": null,
   "id": "61cc1017-8242-4453-9e2e-8b709a1e4775",
   "metadata": {
    "id": "61cc1017-8242-4453-9e2e-8b709a1e4775",
    "outputId": "d9497357-76fb-4222-c3a5-94f0c0695da1"
   },
   "outputs": [],
   "source": [
    "a = 4\n",
    "b = 0\n",
    "c = a/b"
   ]
  },
  {
   "cell_type": "code",
   "execution_count": null,
   "id": "fec2d816-7c8f-4cd8-bea5-d9d38346a29e",
   "metadata": {
    "id": "fec2d816-7c8f-4cd8-bea5-d9d38346a29e",
    "outputId": "2a52122e-8a5a-42ec-fec9-eccd341bf649"
   },
   "outputs": [],
   "source": [
    "try:\n",
    "    a = 4\n",
    "    b = 0\n",
    "    c = a/b\n",
    "except:\n",
    "    print(\"Error\")"
   ]
  },
  {
   "cell_type": "code",
   "execution_count": null,
   "id": "12f1cf46-3236-4aa9-b3d9-5827066fc3e2",
   "metadata": {
    "id": "12f1cf46-3236-4aa9-b3d9-5827066fc3e2",
    "outputId": "ab135dfd-5b2c-4fde-9861-984dc4a793e4"
   },
   "outputs": [],
   "source": [
    "try:\n",
    "    print(\"Comienza Try\")\n",
    "    a = 4\n",
    "    b = 0\n",
    "    c = a/b\n",
    "    print(\"Finaliza Try\")\n",
    "except:\n",
    "    print(\"Cualquier error\")\n",
    "finally:\n",
    "    print(\"Finalmente\")"
   ]
  },
  {
   "cell_type": "code",
   "execution_count": null,
   "id": "2ce99a5c-d47c-46cf-a032-8756628c96b8",
   "metadata": {
    "id": "2ce99a5c-d47c-46cf-a032-8756628c96b8",
    "outputId": "f2277a8e-ea25-494c-f5df-90ee1359c62b"
   },
   "outputs": [],
   "source": [
    "try:\n",
    "    print(\"Comienza Try\")\n",
    "    a = 4\n",
    "    b = 1\n",
    "    c = a/b\n",
    "    print(\"Finaliza Try\")\n",
    "except:\n",
    "    print(\"Cualquier error\")\n",
    "finally:\n",
    "    print(\"Finalmente\")"
   ]
  },
  {
   "cell_type": "code",
   "execution_count": null,
   "id": "40216297-875d-4649-a6e5-d4e95c098242",
   "metadata": {
    "id": "40216297-875d-4649-a6e5-d4e95c098242",
    "outputId": "1fe50e8a-7b80-4146-bc19-c037c34d7cf7"
   },
   "outputs": [],
   "source": [
    "if b == 0:\n",
    "    raise Exception(\"Estas haciendo todo mal\")"
   ]
  },
  {
   "cell_type": "code",
   "execution_count": null,
   "id": "ba1e5af5-5406-46ae-82e5-068b23895d05",
   "metadata": {
    "id": "ba1e5af5-5406-46ae-82e5-068b23895d05",
    "outputId": "f7a022fb-74e2-4031-df5e-a5ecfee1cfab"
   },
   "outputs": [],
   "source": [
    "try:\n",
    "    a = 4\n",
    "    b = 0\n",
    "    c = a/b\n",
    "except ArithmeticError:\n",
    "    print(ArithmeticError)"
   ]
  },
  {
   "cell_type": "code",
   "execution_count": null,
   "id": "b55eb865-4c05-40d9-828e-901c23cbcedb",
   "metadata": {
    "id": "b55eb865-4c05-40d9-828e-901c23cbcedb",
    "outputId": "975c556c-8d8a-4f87-8f4a-54d2f9741d33"
   },
   "outputs": [],
   "source": [
    "try:\n",
    "    a = 4\n",
    "    b = 0\n",
    "    c = a/b\n",
    "except ZeroDivisionError:\n",
    "    print(ZeroDivisionError)"
   ]
  },
  {
   "cell_type": "code",
   "execution_count": null,
   "id": "df2379b2-d8e2-40e4-9049-2f19aa78c416",
   "metadata": {
    "id": "df2379b2-d8e2-40e4-9049-2f19aa78c416",
    "outputId": "0098ed92-9d6d-406f-9af3-fe10a595dc9f"
   },
   "outputs": [],
   "source": [
    "try:\n",
    "    a = 4\n",
    "    b = 0\n",
    "    c = a/b\n",
    "except AssertionError:\n",
    "    print(AssertionError)"
   ]
  },
  {
   "cell_type": "code",
   "execution_count": null,
   "id": "80afb2b2-648c-4cd6-b20f-305e207c5abb",
   "metadata": {
    "id": "80afb2b2-648c-4cd6-b20f-305e207c5abb",
    "outputId": "28bc0320-6aac-44e6-ee06-f97c8379fde9"
   },
   "outputs": [],
   "source": [
    "try:\n",
    "    a = 4\n",
    "    b = 0\n",
    "    c = a/b\n",
    "except AssertionError:\n",
    "    print(\"Solo Assertion errors\")\n",
    "except:\n",
    "    print(\"Cualquier error\")"
   ]
  },
  {
   "cell_type": "code",
   "execution_count": null,
   "id": "dc8bb033-58cb-40a2-a286-66524f7e0b51",
   "metadata": {
    "id": "dc8bb033-58cb-40a2-a286-66524f7e0b51"
   },
   "outputs": [],
   "source": [
    "class MiError(Exception):\n",
    "    def __init__(self, message=\"Algo anda mal\"):\n",
    "        self.message = message\n",
    "        super().__init__(self.message)"
   ]
  },
  {
   "cell_type": "code",
   "execution_count": null,
   "id": "bf7f51bb-3ccd-40ba-9309-04fd157fdc8c",
   "metadata": {
    "id": "bf7f51bb-3ccd-40ba-9309-04fd157fdc8c",
    "outputId": "ddca5a4d-aca2-4b18-af53-4b79db2f89c9"
   },
   "outputs": [],
   "source": [
    "raise MiError()"
   ]
  },
  {
   "cell_type": "code",
   "execution_count": null,
   "id": "7532476e-48c2-43fd-9345-5ba2e53fb7d0",
   "metadata": {
    "id": "7532476e-48c2-43fd-9345-5ba2e53fb7d0",
    "outputId": "24c7755d-d61a-49cb-9a96-9f8bc2b8fed2"
   },
   "outputs": [],
   "source": [
    "raise MiError(\"Que pasa guey?\")"
   ]
  },
  {
   "cell_type": "code",
   "execution_count": null,
   "id": "b63757d8-4fd3-4e10-8aa5-ea8f838f8e86",
   "metadata": {
    "id": "b63757d8-4fd3-4e10-8aa5-ea8f838f8e86"
   },
   "outputs": [],
   "source": []
  }
 ],
 "metadata": {
  "colab": {
   "provenance": []
  },
  "kernelspec": {
   "display_name": "base",
   "language": "python",
   "name": "base"
  },
  "language_info": {
   "codemirror_mode": {
    "name": "ipython",
    "version": 3
   },
   "file_extension": ".py",
   "mimetype": "text/x-python",
   "name": "python",
   "nbconvert_exporter": "python",
   "pygments_lexer": "ipython3",
   "version": "3.9.7"
  }
 },
 "nbformat": 4,
 "nbformat_minor": 5
}
