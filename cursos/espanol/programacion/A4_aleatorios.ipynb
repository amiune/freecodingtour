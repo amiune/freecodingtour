{
 "cells": [
  {
   "cell_type": "code",
   "execution_count": null,
   "id": "daa2ecc7-54b7-41a1-bc6b-5c718c17227c",
   "metadata": {},
   "outputs": [],
   "source": []
  },
  {
   "cell_type": "markdown",
   "id": "5188778f-d3ca-44f8-9316-54762cc79562",
   "metadata": {},
   "source": [
    "### Ejercicio 33:\n",
    "\n",
    "Crear una funcion **obtener_dummies(lista)** que reciba una lista cuyos elementos son solamente las strings \"hombre\" o \"mujer\" y devuelva dos listas:\n",
    "- una que contenga unos en las posiciones que dice hombre y ceros en las demas \n",
    "- una que contenga unos en las posiciones que dice mujer y ceros en las demas. \n",
    "\n",
    "El resultado devuelto debe ser una tupla que contenga ambas listas.\n",
    "\n",
    "*Ejemplo:*\n",
    "\n",
    "*Input: lista=[\"hombre\", \"mujer\", \"mujer\", \"hombre\", \"mujer\"]* \n",
    "\n",
    "*Output: ([1,0,0,1,0],[0,1,1,0,1])*"
   ]
  },
  {
   "cell_type": "code",
   "execution_count": null,
   "id": "77474767-66b7-4764-90d0-dadc5efc919f",
   "metadata": {},
   "outputs": [],
   "source": [
    "def obtener_dummies(lista):\n",
    "    # Escribir aqui la solucion\n",
    "    \n",
    "    "
   ]
  },
  {
   "cell_type": "code",
   "execution_count": null,
   "id": "845d2bbb-784a-4e26-aca4-55cbbd945438",
   "metadata": {},
   "outputs": [],
   "source": [
    "# No modificar el siguiente codigo\n",
    "# Solo ejecutarlo para saber si la funcion creada pasa todos los testsh, m = obtener_dummies([\"hombre\", \"mujer\", \"mujer\", \"hombre\", \"mujer\"])\n",
    "assert h == [1,0,0,1,0] and m == [0,1,1,0,1], \"Error en el test 1\"\n",
    "h, m = obtener_dummies([\"mujer\", \"mujer\", \"mujer\", \"mujer\"])\n",
    "assert h == [0,0,0,0] and m == [1,1,1,1], \"Error en el test 2\"\n",
    "h, m = obtener_dummies([\"mujer\", \"mujer\", \"hombre\", \"mujer\"])\n",
    "assert h == [0,0,1,0] and m == [1,1,0,1], \"Error en el test 3\"\n",
    "\"Felicitaciones todos los casos de prueba fueron pasados exitosamente!!\""
   ]
  },
  {
   "cell_type": "code",
   "execution_count": null,
   "id": "0b5e7c05-8834-4df9-a379-d511b7c630d8",
   "metadata": {},
   "outputs": [],
   "source": [
    "#@title Solucion Ejercicio 33 {display-mode:\"form\"}\n",
    "\n",
    "def obtener_dummies(lista):\n",
    "    lista_h = []\n",
    "    lista_m = []\n",
    "    for item in lista:\n",
    "    if item == \"hombre\":\n",
    "        lista_h.append(1)\n",
    "        lista_m.append(0)\n",
    "    else:\n",
    "        lista_h.append(0)\n",
    "        lista_m.append(1)\n",
    "    return (lista_h, lista_m)"
   ]
  },
  {
   "cell_type": "markdown",
   "id": "7fefef4b-002b-426f-8396-217531672285",
   "metadata": {
    "tags": []
   },
   "source": [
    "### Ejercicio 34:\n",
    "\n",
    "Crear una funcion llamada **escala_normal(lista)** que reciba un parametro de tipo lista y devuelva una lista que contenga los valores en una nueva escala dada por la siguiente formula:\n",
    "\n",
    "x' = (x - mean(lista)) / (std(lista))\n",
    "\n",
    "Utilizar las funciones mean y std de la libreria numpy\n",
    "\n",
    "*Ejemplo:*\n",
    "\n",
    "*Input: lista=[0,2,5,7,10]* \n",
    "\n",
    "*Output: [0,0.2,0.5,0.7,1]*"
   ]
  },
  {
   "cell_type": "code",
   "execution_count": 69,
   "id": "7ceeaee0-20a3-4c2e-9e1f-390c3018cb9f",
   "metadata": {},
   "outputs": [],
   "source": [
    "def escala_normal(lista):\n",
    "    # Escribir aqui la solucion\n",
    "    "
   ]
  },
  {
   "cell_type": "code",
   "execution_count": 72,
   "id": "986cad13-ce60-4a3e-af65-4fc36857c304",
   "metadata": {},
   "outputs": [
    {
     "data": {
      "text/plain": [
       "'Felicitaciones todos los casos de prueba fueron pasados exitosamente!!'"
      ]
     },
     "execution_count": 72,
     "metadata": {},
     "output_type": "execute_result"
    }
   ],
   "source": [
    "# No modificar el siguiente codigo\n",
    "# Solo ejecutarlo para saber si la funcion creada pasa todos los tests\n",
    "assert escala_normal([0,2,5,7,10]) == [-1.3543983551594407, -0.7900657071763404, 0.05643326479831009, 0.6207659127814105, 1.467264884756061], \"Error en el test 1\"\n",
    "assert escala_normal([-1, 2,-0.5,6,0,10,1,18]) == [-0.875311753061199, -0.3923811306826065, -0.7948233159981003, 0.25152636582218363, -0.7143348789350016, 0.8954338623269738, -0.553358004808804, 2.183248855336554], \"Error en el test 2\"\n",
    "assert escala_normal([1000,3000,5000]) == [-1.2247448713915892, 0.0, 1.2247448713915892], \"Error en el test 3\"\n",
    "assert escala_normal([1000,500,0,-1000]) == [1.1832159566199232, 0.50709255283711, -0.1690308509457033, -1.52127765851133], \"Error en el test 4\"\n",
    "\"Felicitaciones todos los casos de prueba fueron pasados exitosamente!!\""
   ]
  },
  {
   "cell_type": "code",
   "execution_count": 71,
   "id": "c0de5b2e-63ba-497f-9be9-0042a18b853f",
   "metadata": {},
   "outputs": [],
   "source": [
    "#@title Solucion Ejercicio 34 {display-mode:\"form\"}\n",
    "\n",
    "import numpy as np\n",
    "def escala_normal(lista):\n",
    "    ret = []\n",
    "    mu = np.mean(lista)\n",
    "    sigma = np.std(lista)\n",
    "    for x in lista:\n",
    "        new_x = (x - mu) / (sigma)\n",
    "        ret.append(new_x)\n",
    "    return ret"
   ]
  },
  {
   "cell_type": "code",
   "execution_count": null,
   "id": "da4baf82-a14f-4b42-a191-fd5cccdf482e",
   "metadata": {},
   "outputs": [],
   "source": []
  }
 ],
 "metadata": {
  "kernelspec": {
   "display_name": "Python 3 (ipykernel)",
   "language": "python",
   "name": "python3"
  },
  "language_info": {
   "codemirror_mode": {
    "name": "ipython",
    "version": 3
   },
   "file_extension": ".py",
   "mimetype": "text/x-python",
   "name": "python",
   "nbconvert_exporter": "python",
   "pygments_lexer": "ipython3",
   "version": "3.9.7"
  }
 },
 "nbformat": 4,
 "nbformat_minor": 5
}
