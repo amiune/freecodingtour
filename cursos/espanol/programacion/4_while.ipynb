{
 "cells": [
  {
   "cell_type": "markdown",
   "metadata": {
    "id": "baTFKcSLliLb"
   },
   "source": [
    "# Mientras la condicion sea verdadera repite (while)"
   ]
  },
  {
   "cell_type": "markdown",
   "metadata": {},
   "source": [
    "Aqui es donde explotamos todo el potencial de la computadora: su velocidad para hacer calculos repetidamente. \n",
    "\n",
    "Hoy utilizaremos la palabra **while** (que significa mientras en ingles)\n",
    "\n",
    "Funciona de manera similar a la palabra if que vimos en la unidad anterior pero el codigo que tiene adentro se ejecuta repetidamente hasta que la condicion deja de ser verdadera. Veamos un ejemplo:"
   ]
  },
  {
   "cell_type": "code",
   "execution_count": null,
   "metadata": {},
   "outputs": [],
   "source": [
    "a = 0\n",
    "while a > 10:\n",
    "    a = a + 1\n",
    "a"
   ]
  },
  {
   "cell_type": "markdown",
   "metadata": {},
   "source": [
    "Como la condicion es falsa lo que esta adentro del **while** no se ejecuto. Esto se ve muy similar al if pero veamos ahora lo que pasa cuando la condicion si se cumple y se ejecuta el codigo interior:"
   ]
  },
  {
   "cell_type": "code",
   "execution_count": null,
   "metadata": {},
   "outputs": [],
   "source": [
    "a = 0\n",
    "while a < 5:\n",
    "    a = a + 1\n",
    "a"
   ]
  },
  {
   "cell_type": "markdown",
   "metadata": {},
   "source": [
    "**Que ha pasado?!?!**\n",
    "\n",
    "El valor de a se a modificado de cero a cinco debido a que la linea a = a + 1 se ha ejecutado cinco veces.\n",
    "\n",
    "Lo que esta adentro del **while** se ejecuta repetidamente mientras la condicion siga siendo verdadera.\n",
    "\n",
    "Deducimos algo importante. Adentro del while debemos modificar alguna de las variables que estan en la condicion porque si no el while sera repetido para siempre sin parar."
   ]
  },
  {
   "cell_type": "markdown",
   "metadata": {},
   "source": [
    "Podriamos hacer una comparacion de este while con los siguientes seis if seguidos. El while seria muy parecido a ejecutar lo siguiente:"
   ]
  },
  {
   "cell_type": "code",
   "execution_count": null,
   "metadata": {},
   "outputs": [],
   "source": [
    "a = 0\n",
    "if a < 5: #esta condicion es Verdadera porque a vale 0\n",
    "    a = a + 1\n",
    "    \n",
    "if a < 5: #esta condicion es Verdadera porque a vale 1\n",
    "    a = a + 1\n",
    "    \n",
    "if a < 5: #esta condicion es Verdadera porque a vale 2\n",
    "    a = a + 1\n",
    "    \n",
    "if a < 5: #esta condicion es Verdadera porque a vale 3\n",
    "    a = a + 1\n",
    "    \n",
    "if a < 5: #esta condicion es Verdadera porque a vale 4\n",
    "    a = a + 1\n",
    "    \n",
    "if a < 5: #esta condicion es Falsa porque a vale 5\n",
    "    a = a + 1\n",
    "    \n",
    "a"
   ]
  },
  {
   "cell_type": "markdown",
   "metadata": {},
   "source": [
    "### Ejercicio 1:\n",
    "\n",
    "Crear un while que le sume 1 a la variable x1 hasta que llegue a 10"
   ]
  },
  {
   "cell_type": "code",
   "execution_count": null,
   "metadata": {},
   "outputs": [],
   "source": [
    "x1 = 0\n",
    "# Escribir a continuacion el while\n"
   ]
  },
  {
   "cell_type": "code",
   "execution_count": null,
   "metadata": {},
   "outputs": [],
   "source": [
    "#@title Solucion Ejercicio 1 {display-mode:\"form\"}\n",
    "\n",
    "x1 = 0\n",
    "while x1<10:\n",
    "    x1 = x1 + 1\n",
    "x1"
   ]
  },
  {
   "cell_type": "markdown",
   "metadata": {},
   "source": [
    "### Ejercicio 2:\n",
    "\n",
    "Probemos la velocidad de la computadora:\n",
    "    \n",
    "Crear un while que le sume 1 a la variable x2 hasta que llegue a 1 millon!"
   ]
  },
  {
   "cell_type": "code",
   "execution_count": null,
   "metadata": {},
   "outputs": [],
   "source": [
    "x2 = 0\n",
    "# Escribir a continuacion el while\n"
   ]
  },
  {
   "cell_type": "code",
   "execution_count": null,
   "metadata": {},
   "outputs": [],
   "source": [
    "#@title Solucion Ejercicio 2 {display-mode:\"form\"}\n",
    "\n",
    "x2 = 0\n",
    "while x2<1000000:\n",
    "    x2 = x2 + 1\n",
    "x2"
   ]
  },
  {
   "cell_type": "markdown",
   "metadata": {},
   "source": [
    "### Ejercicio 3:\n",
    "\n",
    "Crear un while que le sume 3 a la variable x3 mientras sea menor a 10. Adivinar cual va a ser el valor final de la variable x cuando finalice el while"
   ]
  },
  {
   "cell_type": "code",
   "execution_count": null,
   "metadata": {},
   "outputs": [],
   "source": [
    "x3 = 0\n",
    "# Escribir a continuacion el while\n"
   ]
  },
  {
   "cell_type": "code",
   "execution_count": null,
   "metadata": {},
   "outputs": [],
   "source": [
    "#@title Solucion Ejercicio 3 {display-mode:\"form\"}\n",
    "\n",
    "x3 = 0\n",
    "while x3<10:\n",
    "    x3 = x3 + 3\n",
    "x3"
   ]
  },
  {
   "cell_type": "markdown",
   "metadata": {},
   "source": [
    "# Fin: [Volver al contenido del curso](https://www.freecodingtour.com/cursos/espanol/programacion/programacion.html)"
   ]
  }
 ],
 "metadata": {
  "colab": {
   "authorship_tag": "ABX9TyPSt2dXYQ+qrTbXnGhQYIHD",
   "provenance": []
  },
  "kernelspec": {
   "display_name": "Python 3 (ipykernel)",
   "language": "python",
   "name": "python3"
  },
  "language_info": {
   "codemirror_mode": {
    "name": "ipython",
    "version": 3
   },
   "file_extension": ".py",
   "mimetype": "text/x-python",
   "name": "python",
   "nbconvert_exporter": "python",
   "pygments_lexer": "ipython3",
   "version": "3.9.7"
  }
 },
 "nbformat": 4,
 "nbformat_minor": 4
}
