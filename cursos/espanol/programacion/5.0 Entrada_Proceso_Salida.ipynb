{
 "cells": [
  {
   "cell_type": "code",
   "execution_count": 6,
   "id": "bd423490-555e-47e1-8eb3-5865c288ff7b",
   "metadata": {},
   "outputs": [
    {
     "name": "stdin",
     "output_type": "stream",
     "text": [
      "Escribe tu nombre: Hernan\n"
     ]
    }
   ],
   "source": [
    "x = input(\"Escribe tu nombre:\")"
   ]
  },
  {
   "cell_type": "code",
   "execution_count": 7,
   "id": "98a22429-c7a3-4496-b6b8-1f42e18a7bf7",
   "metadata": {},
   "outputs": [
    {
     "name": "stdout",
     "output_type": "stream",
     "text": [
      "Hola Hernan\n"
     ]
    }
   ],
   "source": [
    "print(\"Hola\", x)"
   ]
  },
  {
   "cell_type": "code",
   "execution_count": 16,
   "id": "f918453c-bdd6-4755-9092-350cebb95268",
   "metadata": {},
   "outputs": [
    {
     "name": "stdin",
     "output_type": "stream",
     "text": [
      "Escribe tu clave: 5\n"
     ]
    },
    {
     "name": "stdout",
     "output_type": "stream",
     "text": [
      "Clave incorrecta, no puedes pasar :(\n"
     ]
    }
   ],
   "source": [
    "clave = input(\"Escribe tu clave:\")\n",
    "\n",
    "if clave == \"abc123\":\n",
    "    salida = \"Clave correcta, puedes pasar :)\"\n",
    "else:\n",
    "    salida = \"Clave incorrecta, no puedes pasar :(\"\n",
    "    \n",
    "print(salida)"
   ]
  },
  {
   "cell_type": "code",
   "execution_count": 17,
   "id": "236fb0d6-ccce-4cf5-8f97-e0e3768c8cb2",
   "metadata": {},
   "outputs": [],
   "source": [
    "def comprobar_clave(clave):\n",
    "    if clave == \"abc123\":\n",
    "        salida = \"Clave correcta, puedes pasar :)\"\n",
    "    else:\n",
    "        salida = \"Clave incorrecta, no puedes pasar :(\"\n",
    "    return salida"
   ]
  },
  {
   "cell_type": "code",
   "execution_count": 18,
   "id": "83b5fd60-e050-4ab8-ab9a-31257601f39d",
   "metadata": {},
   "outputs": [
    {
     "name": "stdin",
     "output_type": "stream",
     "text": [
      "Escribe tu clave: y\n"
     ]
    },
    {
     "name": "stdout",
     "output_type": "stream",
     "text": [
      "Clave incorrecta, no puedes pasar :(\n"
     ]
    }
   ],
   "source": [
    "clave = input(\"Escribe tu clave:\")\n",
    "salida = comprobar_clave(clave)\n",
    "print(salida)"
   ]
  },
  {
   "cell_type": "code",
   "execution_count": null,
   "id": "5605010c-04a9-4ba0-82fb-362f6b7b227f",
   "metadata": {},
   "outputs": [],
   "source": []
  }
 ],
 "metadata": {
  "kernelspec": {
   "display_name": "Python 3 (ipykernel)",
   "language": "python",
   "name": "python3"
  },
  "language_info": {
   "codemirror_mode": {
    "name": "ipython",
    "version": 3
   },
   "file_extension": ".py",
   "mimetype": "text/x-python",
   "name": "python",
   "nbconvert_exporter": "python",
   "pygments_lexer": "ipython3",
   "version": "3.9.7"
  }
 },
 "nbformat": 4,
 "nbformat_minor": 5
}
