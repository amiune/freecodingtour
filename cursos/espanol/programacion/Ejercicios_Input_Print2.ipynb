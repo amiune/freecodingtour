{
 "cells": [
  {
   "cell_type": "markdown",
   "id": "2cd81795-af8c-4b82-9ae2-f268f3a471ad",
   "metadata": {},
   "source": [
    "Enunciado 1:\n",
    "\n",
    "Escribe un programa en Python que solicite al usuario ingresar una palabra y luego muestre por pantalla todas las vocales que contiene la palabra.\n",
    "\n",
    "Ejemplo:\n",
    "\n",
    "Entrada:\n",
    "```\n",
    "Extraordinario\n",
    "```\n",
    "Salida:\n",
    "```\n",
    "Vocales en la palabra \"Extraordinario\": E, a, o, i, a, i, o\n",
    "```\n",
    "Este programa debe identificar todas las vocales (mayúsculas o minúsculas) en la palabra ingresada y mostrarlas en orden de aparición en la palabra original."
   ]
  },
  {
   "cell_type": "code",
   "execution_count": null,
   "id": "ffad8f9d-3658-4deb-9b07-8e1f0ab806f4",
   "metadata": {},
   "outputs": [],
   "source": [
    "for i in [10,20,30,40]:\n",
    "    i = 10\n",
    "    i = 20\n",
    "    i = 30\n",
    "    i = 40\n",
    "    \n",
    "x = [10,20,30,40]\n",
    "for i in [0,1,2,3]:\n",
    "    i = 0, x[i] = 10\n",
    "    i = 1, x[i] = 20\n",
    "    i = 2, x[i] = 30\n",
    "    i = 3, x[i] = 40\n",
    "    \n",
    "for i in range(4):\n",
    "    i = 0, x[i] = 10\n",
    "    i = 1, x[i] = 20\n",
    "    i = 2, x[i] = 30\n",
    "    i = 3, x[i] = 40\n",
    "    \n",
    "for i in range(len(x)):\n",
    "    i = 0, x[i] = 10\n",
    "    i = 1, x[i] = 20\n",
    "    i = 2, x[i] = 30\n",
    "    i = 3, x[i] = 40\n",
    "    \n",
    "i = 0\n",
    "while i < len(x):\n",
    "    i = 0, x[i] = 10\n",
    "    i = 1, x[i] = 20\n",
    "    i = 2, x[i] = 30\n",
    "    i = 3, x[i] = 40\n",
    "    \n",
    "    i = i + 1\n",
    "    \n",
    "for i in range(len(x)):\n",
    "    for j in range(len(y)):\n",
    "        \n",
    "i = 0\n",
    "while i < len(x):\n",
    "    #contenido del bucle while de i\n",
    "    j = 0\n",
    "    while j < len(y):\n",
    "        #contenido del bucle while de j\n",
    "        j = j + 1\n",
    "    i = i + 1\n",
    "\n",
    "seguir = True\n",
    "while seguir:\n",
    "\n",
    "    \n",
    "    if i >= len(x):\n",
    "        seguir = False\n",
    "    \n",
    "    \n"
   ]
  },
  {
   "cell_type": "code",
   "execution_count": null,
   "id": "84a483b0-1858-4d88-9220-3b3120d73cdf",
   "metadata": {},
   "outputs": [],
   "source": [
    "if letra == \"A\" or letra == \"E\"...\n",
    "\n",
    "if letra in \"AEIOUaeiuo\":\n",
    "    "
   ]
  },
  {
   "cell_type": "code",
   "execution_count": null,
   "id": "cc243473-f6f3-47e0-89fb-2f4903b60c0d",
   "metadata": {},
   "outputs": [],
   "source": [
    "for i in \"extraordinario\":\n",
    "    "
   ]
  },
  {
   "cell_type": "code",
   "execution_count": null,
   "id": "bf585e65-84a3-4f8f-a9ea-c8214aa9a031",
   "metadata": {},
   "outputs": [],
   "source": [
    "while (condicion):\n",
    "    "
   ]
  },
  {
   "cell_type": "code",
   "execution_count": 12,
   "id": "a6d99aff-8f28-4a24-b3d6-275ae8084f2e",
   "metadata": {},
   "outputs": [
    {
     "data": {
      "text/plain": [
       "14"
      ]
     },
     "execution_count": 12,
     "metadata": {},
     "output_type": "execute_result"
    }
   ],
   "source": [
    "len(\"extraordinario\")"
   ]
  },
  {
   "cell_type": "code",
   "execution_count": 2,
   "id": "bd9874a0-55f4-45ef-857c-b81369ce2952",
   "metadata": {},
   "outputs": [
    {
     "data": {
      "text/plain": [
       "True"
      ]
     },
     "execution_count": 2,
     "metadata": {},
     "output_type": "execute_result"
    }
   ],
   "source": [
    "\"a\" in \"hola\""
   ]
  },
  {
   "cell_type": "code",
   "execution_count": 4,
   "id": "8ea6a371-a685-4514-800e-6ce8ea70aa87",
   "metadata": {},
   "outputs": [
    {
     "data": {
      "text/plain": [
       "True"
      ]
     },
     "execution_count": 4,
     "metadata": {},
     "output_type": "execute_result"
    }
   ],
   "source": [
    "\"a\" in [\"h\",\"o\",\"l\",\"a\"]"
   ]
  },
  {
   "cell_type": "code",
   "execution_count": 5,
   "id": "323d8bf1-1bff-42fa-ad01-b1f725cf2cb3",
   "metadata": {},
   "outputs": [
    {
     "data": {
      "text/plain": [
       "False"
      ]
     },
     "execution_count": 5,
     "metadata": {},
     "output_type": "execute_result"
    }
   ],
   "source": [
    "\"a\" in [1,2,3,4]"
   ]
  },
  {
   "cell_type": "code",
   "execution_count": 10,
   "id": "7d9c6e34-cb45-46c0-86e1-38dd563ed3f9",
   "metadata": {},
   "outputs": [
    {
     "data": {
      "text/plain": [
       "4"
      ]
     },
     "execution_count": 10,
     "metadata": {},
     "output_type": "execute_result"
    }
   ],
   "source": [
    "len(\"hola\")"
   ]
  },
  {
   "cell_type": "code",
   "execution_count": 11,
   "id": "cd28e7f3-6574-4ec2-879b-eb0e6d680b8a",
   "metadata": {},
   "outputs": [
    {
     "data": {
      "text/plain": [
       "3"
      ]
     },
     "execution_count": 11,
     "metadata": {},
     "output_type": "execute_result"
    }
   ],
   "source": [
    "len([2,2,2])"
   ]
  },
  {
   "cell_type": "code",
   "execution_count": null,
   "id": "88a9ee3e-a0a1-4902-a424-b13b8c25f97f",
   "metadata": {},
   "outputs": [],
   "source": [
    "# Solucion usando for"
   ]
  },
  {
   "cell_type": "code",
   "execution_count": null,
   "id": "5fe0fccc-efca-4e91-892e-4a9d2535494e",
   "metadata": {},
   "outputs": [],
   "source": [
    "# Solucion usando while"
   ]
  },
  {
   "cell_type": "markdown",
   "id": "68215281-5d2f-4af8-99d8-06bf72abd522",
   "metadata": {},
   "source": [
    "Enunciado 2:\n",
    "\n",
    "Escribe un programa en Python que solicite al usuario ingresar dos números enteros y luego muestre por pantalla todos los múltiplos de 100 que se encuentren en el rango de números entre esos dos valores, incluyendo los límites.\n",
    "\n",
    "Ejemplo:\n",
    "\n",
    "Entrada:\n",
    "```\n",
    "Ingresa el primer número: 300\n",
    "Ingresa el segundo número: 800\n",
    "```\n",
    "Salida:\n",
    "```\n",
    "Múltiplos de 100 entre 300 y 800:\n",
    "300, 400, 500, 600, 700, 800\n",
    "```\n",
    "Este programa debe identificar y mostrar todos los múltiplos de 100 dentro del rango especificado por el usuario.\n"
   ]
  },
  {
   "cell_type": "code",
   "execution_count": null,
   "id": "deadf57a-cb96-4941-90d3-dbd1d9b50b2e",
   "metadata": {},
   "outputs": [],
   "source": [
    "# Solucion usando for"
   ]
  },
  {
   "cell_type": "code",
   "execution_count": 1,
   "id": "b3415bd5-5e3c-4c9e-9184-e47fe4c78a91",
   "metadata": {},
   "outputs": [],
   "source": [
    "# Solucion usando while"
   ]
  },
  {
   "cell_type": "markdown",
   "id": "638d57aa-ab89-45bf-86e8-017e87014c0c",
   "metadata": {},
   "source": [
    "Enunciado 3:\n",
    "\n",
    "Escribe un programa en Python que solicite al usuario ingresar el número de caras de dos dados y luego genere todas las posibles combinaciones al tirar dos dados con ese número de caras. Cada combinación se representará como un par de números, donde el primer número representa el resultado del primer dado y el segundo número representa el resultado del segundo dado.\n",
    "\n",
    "Ejemplo:\n",
    "\n",
    "Entrada:\n",
    "```\n",
    "Ingresa el número de caras del dado 1: 6\n",
    "Ingresa el número de caras del dado 2: 4\n",
    "```\n",
    "Salida:\n",
    "```\n",
    "Combinaciones posibles al tirar dos dados de 6 caras:\n",
    "(1, 1), (1, 2), (1, 3), (1, 4)\n",
    "(2, 1), (2, 2), (2, 3), (2, 4)\n",
    "(3, 1), (3, 2), (3, 3), (3, 4)\n",
    "(4, 1), (4, 2), (4, 3), (4, 4)\n",
    "(5, 1), (5, 2), (5, 3), (5, 4)\n",
    "(6, 1), (6, 2), (6, 3), (6, 4)\n",
    "```\n",
    "Este programa debe generar todas las combinaciones posibles de resultados al tirar dos dados con el número de caras especificado por el usuario."
   ]
  },
  {
   "cell_type": "code",
   "execution_count": null,
   "id": "51f92831-f0e3-49c6-9391-4b0da9f28f68",
   "metadata": {},
   "outputs": [],
   "source": [
    "# Solucion usando for"
   ]
  },
  {
   "cell_type": "code",
   "execution_count": null,
   "id": "4328287d-6b39-4e7e-834a-93dfcef42729",
   "metadata": {},
   "outputs": [],
   "source": [
    "# Solucion usando while"
   ]
  },
  {
   "cell_type": "markdown",
   "id": "fd7054af-83c1-4a09-9ba7-7d7b1ebd06b9",
   "metadata": {},
   "source": [
    "Enunciado 4:\n",
    "\n",
    "Escribe un programa en Python que solicite al usuario ingresar un número entero. Luego, en cada paso, si el número es par, divídelo por 2; si es impar, multiplícalo por 3 y suma 1. El programa debe continuar realizando estos pasos hasta que el número llegue a 1 y luego mostrar todos los pasos realizados.\n",
    "\n",
    "Ejemplo:\n",
    "\n",
    "Entrada:\n",
    "```\n",
    "Ingresa un número entero: 6\n",
    "```\n",
    "Salida:\n",
    "```\n",
    "Secuencia de pasos:\n",
    "6, 3, 10, 5, 16, 8, 4, 2, 1\n",
    "```\n",
    "Este programa debe seguir la secuencia de pasos descrita hasta que el número llegue a 1 y luego mostrar todos los números en la secuencia.\n",
    "Ver: [Conjetura de Collatz](https://es.wikipedia.org/wiki/Conjetura_de_Collatz)"
   ]
  },
  {
   "cell_type": "code",
   "execution_count": null,
   "id": "ccc13ca5-807c-4256-954b-19d3f13bbbe1",
   "metadata": {},
   "outputs": [],
   "source": []
  },
  {
   "cell_type": "markdown",
   "id": "c5a7411a-05c8-4754-ba2f-e876110bb47c",
   "metadata": {},
   "source": [
    "Enunciado 5:\n",
    "\n",
    "Escribe un programa en Python que solicite al usuario ingresar cinco palabras distintas y luego determine y muestre cuál es la palabra más corta y cuál es la palabra más larga de todas ellas.\n",
    "\n",
    "Ejemplo:\n",
    "\n",
    "Entrada:\n",
    "```\n",
    "Ingresa la primera palabra: gato\n",
    "Ingresa la segunda palabra: elefante\n",
    "Ingresa la tercera palabra: perro\n",
    "Ingresa la cuarta palabra: jirafa\n",
    "Ingresa la quinta palabra: león\n",
    "```\n",
    "Salida:\n",
    "```\n",
    "La palabra más corta es \"gato\".\n",
    "La palabra más larga es \"elefante\".\n",
    "```\n",
    "Este programa debe comparar las longitudes de las palabras ingresadas y mostrar la palabra más corta y la palabra más larga entre ellas."
   ]
  },
  {
   "cell_type": "code",
   "execution_count": null,
   "id": "fc9e9e85-f6e9-448b-b743-333beb3719ee",
   "metadata": {},
   "outputs": [],
   "source": []
  },
  {
   "cell_type": "markdown",
   "id": "763facef-063d-42f8-a1d6-fc7ce8ac9cda",
   "metadata": {},
   "source": [
    "Enunciado 6:\n",
    "\n",
    "Escribe un programa en Python que solicite al usuario ingresar un número entero positivo N y luego genere los N primeros números de la secuencia de Fibonacci utilizando solo dos variables para almacenar los dos últimos valores de la secuencia, no esta permitido utilizar una lista.\n",
    "\n",
    "Ejemplo:\n",
    "\n",
    "Entrada:\n",
    "```\n",
    "Ingresa un número entero positivo N: 10\n",
    "```\n",
    "Salida:\n",
    "```\n",
    "Los primeros 10 números de la secuencia de Fibonacci son:\n",
    "0, 1, 1, 2, 3, 5, 8, 13, 21, 34\n",
    "```\n",
    "Este programa debe calcular y mostrar los primeros N números de la secuencia de Fibonacci utilizando solo dos variables para almacenar los valores previos en la secuencia."
   ]
  },
  {
   "cell_type": "code",
   "execution_count": null,
   "id": "482275de-455f-42f8-8508-fcc8faac13b9",
   "metadata": {},
   "outputs": [],
   "source": []
  },
  {
   "cell_type": "markdown",
   "id": "a37b9dfb-543c-4ebc-8f6b-b4532fdd6488",
   "metadata": {},
   "source": [
    "Enunciado 7: \n",
    "\n",
    "Escribe un programa que tome un número N y muestre su inverso. Por ejemplo, el inverso de 123 es 321.\n",
    "\n",
    "Ejemplo:\n",
    "```\n",
    "Entrada: N = 456\n",
    "```\n",
    "Salida: \n",
    "```\n",
    "El número inverso de 456 es 654\n",
    "```"
   ]
  },
  {
   "cell_type": "code",
   "execution_count": null,
   "id": "bb61bbe4-034e-4acf-a6f6-68b186289d6c",
   "metadata": {},
   "outputs": [],
   "source": []
  }
 ],
 "metadata": {
  "kernelspec": {
   "display_name": "Python 3 (ipykernel)",
   "language": "python",
   "name": "python3"
  },
  "language_info": {
   "codemirror_mode": {
    "name": "ipython",
    "version": 3
   },
   "file_extension": ".py",
   "mimetype": "text/x-python",
   "name": "python",
   "nbconvert_exporter": "python",
   "pygments_lexer": "ipython3",
   "version": "3.9.7"
  }
 },
 "nbformat": 4,
 "nbformat_minor": 5
}
