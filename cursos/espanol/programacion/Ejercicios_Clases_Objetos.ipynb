{
 "cells": [
  {
   "cell_type": "markdown",
   "id": "2c5decc7-2d9c-4864-85b6-1dc9ab21fe7d",
   "metadata": {},
   "source": [
    "# Ejercicios de Clases y Objetos"
   ]
  },
  {
   "cell_type": "markdown",
   "id": "686e2eac-062b-45b0-884d-a05fe7c29906",
   "metadata": {},
   "source": [
    "Problema 1: Calcular el área de un rectángulo\n",
    "\n",
    "Enunciado: Crea una clase llamada Rectangulo que tenga atributos de ancho y alto. Luego, crea un método llamado calcular_area que calcule el área del rectángulo y lo devuelva.\n",
    "\n",
    "Ejemplo:\n",
    "```python\n",
    "# Crear un objeto Rectangulo\n",
    "rectangulo1 = Rectangulo(5, 10)\n",
    "\n",
    "# Calcular y mostrar el área del rectángulo\n",
    "print(\"Área del rectángulo:\", rectangulo1.calcular_area())\n",
    "```\n",
    "Salida:\n",
    "```\n",
    "Área del rectángulo: 50\n",
    "```"
   ]
  },
  {
   "cell_type": "code",
   "execution_count": null,
   "id": "ec562151-dd9a-4317-906a-7e5d14a170cf",
   "metadata": {},
   "outputs": [],
   "source": []
  },
  {
   "cell_type": "markdown",
   "id": "17ae6b03-f13b-41f0-b9fa-7b725eb2f457",
   "metadata": {},
   "source": [
    "Problema 2: Crear una clase Libro\n",
    "\n",
    "Enunciado: Crea una clase llamada Libro que tenga atributos de título, autor y año de publicación. Luego, crea un método llamado detalles que imprima todos los detalles del libro.\n",
    "\n",
    "Ejemplo:\n",
    "```python\n",
    "# Crear un objeto Libro\n",
    "libro1 = Libro(\"La Sombra del Viento\", \"Carlos Ruiz Zafón\", 2001)\n",
    "\n",
    "# Mostrar los detalles del libro\n",
    "libro1.detalles()\n",
    "```\n",
    "Salida:\n",
    "```\n",
    "Título: La Sombra del Viento\n",
    "Autor: Carlos Ruiz Zafón\n",
    "Año de Publicación: 2001\n",
    "```"
   ]
  },
  {
   "cell_type": "code",
   "execution_count": null,
   "id": "fdd0c2ef-a9c8-4a6b-8033-079b9f1ff76e",
   "metadata": {},
   "outputs": [],
   "source": []
  },
  {
   "cell_type": "markdown",
   "id": "3aab7dac-705c-4573-86d5-8c930f84f61d",
   "metadata": {},
   "source": [
    "Problema 3: Crear una clase Estudiante\n",
    "\n",
    "Enunciado: Crea una clase llamada Estudiante que tenga atributos de nombre, edad y calificaciones (una lista). Luego, crea un método llamado promedio que calcule el promedio de las calificaciones del estudiante y lo devuelva.\n",
    "\n",
    "Ejemplo:\n",
    "```python\n",
    "# Crear un objeto Estudiante\n",
    "estudiante1 = Estudiante(\"María\", 18, [95, 88, 92, 78, 85])\n",
    "\n",
    "# Calcular y mostrar el promedio de calificaciones del estudiante\n",
    "print(\"Promedio de calificaciones:\", estudiante1.promedio())\n",
    "```\n",
    "Salida:\n",
    "```\n",
    "Promedio de calificaciones: 87.6\n",
    "```\n"
   ]
  },
  {
   "cell_type": "code",
   "execution_count": null,
   "id": "fedf3a85-7ad3-4e96-a70a-0b3f680c457c",
   "metadata": {},
   "outputs": [],
   "source": []
  },
  {
   "cell_type": "markdown",
   "id": "c468e2e3-aba8-4cab-b316-e6e65168095c",
   "metadata": {},
   "source": [
    "Problema 6: Crear una clase Banco\n",
    "\n",
    "Enunciado: Crea una clase llamada Banco que tenga atributos de nombre y una lista de cuentas bancarias. Las cuentas bancarias deben ser objetos de una clase separada llamada CuentaBancaria, que tiene atributos de número de cuenta y saldo. El Banco debe tener un método llamado agregar_cuenta que permita agregar una cuenta bancaria a la lista y un método llamado saldo_total que calcule y devuelva el saldo total de todas las cuentas en el banco.\n",
    "\n",
    "Ejemplo:\n",
    "```python\n",
    "# Crear un objeto Banco\n",
    "banco = Banco(\"Mi Banco\")\n",
    "\n",
    "# Agregar cuentas bancarias al banco\n",
    "cuenta1 = CuentaBancaria(\"12345\", 1000)\n",
    "cuenta2 = CuentaBancaria(\"67890\", 2500)\n",
    "\n",
    "banco.agregar_cuenta(cuenta1)\n",
    "banco.agregar_cuenta(cuenta2)\n",
    "\n",
    "# Calcular y mostrar el saldo total del banco\n",
    "print(\"Saldo total del banco:\", banco.saldo_total())\n",
    "```\n",
    "Salida:\n",
    "```\n",
    "Saldo total del banco: 3500\n",
    "```"
   ]
  },
  {
   "cell_type": "code",
   "execution_count": null,
   "id": "b9b6e839-aced-4205-bb0d-b9fa03a6af2b",
   "metadata": {},
   "outputs": [],
   "source": []
  },
  {
   "cell_type": "markdown",
   "id": "4c121604-7768-442f-9e03-f518807e5cd9",
   "metadata": {},
   "source": [
    "Problema 7: Crear una clase Tienda en Línea\n",
    "\n",
    "Enunciado: Crea una clase llamada TiendaEnLinea que represente una tienda en línea. La tienda debe tener atributos de nombre y una lista de productos. Cada producto debe ser un objeto de una clase separada llamada Producto, que tiene atributos de nombre, precio y cantidad en stock. La TiendaEnLinea debe tener un método llamado agregar_producto que permita agregar un producto a la lista y un método llamado realizar_compra que tome el nombre del producto y la cantidad a comprar, y actualice el stock y calcule el costo total de la compra.\n",
    "\n",
    "Ejemplo:\n",
    "```python\n",
    "# Crear un objeto TiendaEnLinea\n",
    "tienda = TiendaEnLinea(\"Mi Tienda\")\n",
    "\n",
    "# Agregar productos a la tienda\n",
    "producto1 = Producto(\"Camiseta\", 20, 50)\n",
    "producto2 = Producto(\"Zapatos\", 50, 30)\n",
    "\n",
    "tienda.agregar_producto(producto1)\n",
    "tienda.agregar_producto(producto2)\n",
    "\n",
    "# Realizar una compra\n",
    "compra = tienda.realizar_compra(\"Camiseta\", 3)\n",
    "\n",
    "# Mostrar el costo total de la compra y el nuevo stock\n",
    "print(\"Costo total de la compra:\", compra)\n",
    "print(\"Nuevo stock de Camisetas:\", producto1.stock)\n",
    "```\n",
    "Salida:\n",
    "```\n",
    "Costo total de la compra: 60\n",
    "Nuevo stock de Camisetas: 47\n",
    "```"
   ]
  },
  {
   "cell_type": "code",
   "execution_count": null,
   "id": "cda5992d-b8dd-481e-92ca-21f62cdfb810",
   "metadata": {},
   "outputs": [],
   "source": []
  }
 ],
 "metadata": {
  "kernelspec": {
   "display_name": "Python 3 (ipykernel)",
   "language": "python",
   "name": "python3"
  },
  "language_info": {
   "codemirror_mode": {
    "name": "ipython",
    "version": 3
   },
   "file_extension": ".py",
   "mimetype": "text/x-python",
   "name": "python",
   "nbconvert_exporter": "python",
   "pygments_lexer": "ipython3",
   "version": "3.9.7"
  }
 },
 "nbformat": 4,
 "nbformat_minor": 5
}
