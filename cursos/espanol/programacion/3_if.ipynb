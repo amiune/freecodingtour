{
 "cells": [
  {
   "cell_type": "markdown",
   "metadata": {
    "id": "baTFKcSLliLb"
   },
   "source": [
    "# Si pasa algo entonces haz esto\n",
    "\n"
   ]
  },
  {
   "cell_type": "markdown",
   "metadata": {},
   "source": [
    "Comencemos prestando atencion a como cambia el valor guardado en la variable **a**. Tratemos de adivinar su valor:"
   ]
  },
  {
   "cell_type": "code",
   "execution_count": null,
   "metadata": {},
   "outputs": [],
   "source": [
    "#Cual sera el valor de a cuando ejecutemos esta celda?\n",
    "a = 0\n",
    "a = a + 1\n",
    "a = a + 2\n",
    "a"
   ]
  },
  {
   "cell_type": "markdown",
   "metadata": {},
   "source": [
    "Otro ejemplo. Intentemos adivinar el valor de b"
   ]
  },
  {
   "cell_type": "code",
   "execution_count": null,
   "metadata": {},
   "outputs": [],
   "source": [
    "#Cual sera el valor de b cuando ejecutemos esta celda?\n",
    "b = 5\n",
    "b = b + 1\n",
    "b = b + 3\n",
    "b = b + 1\n",
    "b"
   ]
  },
  {
   "cell_type": "markdown",
   "metadata": {},
   "source": [
    "Ahora utilicemos la palabra **if** y veamos que sucede:"
   ]
  },
  {
   "cell_type": "code",
   "execution_count": null,
   "metadata": {},
   "outputs": [],
   "source": [
    "c = 5\n",
    "if c > 10:\n",
    "    c = c + 1\n",
    "    c = c + 3\n",
    "c = c + 1\n",
    "c"
   ]
  },
  {
   "cell_type": "markdown",
   "metadata": {},
   "source": [
    "Cambiemos ahora la condicion del if para que esta sea verdadera y veamos que sucede:"
   ]
  },
  {
   "cell_type": "code",
   "execution_count": null,
   "metadata": {},
   "outputs": [],
   "source": [
    "d = 0\n",
    "d = d + 12\n",
    "if d > 10:\n",
    "    d = d + 1\n",
    "    d = d + 3\n",
    "d = d + 1\n",
    "d"
   ]
  },
  {
   "cell_type": "markdown",
   "metadata": {},
   "source": [
    "Notemos que la palabra **if** (si en ingles) esta seguida de una condicion y luego de dos puntos (:) y ademas el codigo que esta abajo esta indentado, es decir, esta movido cuatro espacios hacia la derecha. Esto significa que todo ese codigo que esta debajo del **if** e indentado a la derecha **solo va a ser ejecutado si la condicion del if es verdadera**."
   ]
  },
  {
   "cell_type": "markdown",
   "metadata": {},
   "source": [
    "### Ejercicio 1:\n",
    "\n",
    "Asignar un valor a la variable salario y ver cual es el resultado final cuando ese valor es menor a 5000 y cuando es mayor a 5000"
   ]
  },
  {
   "cell_type": "code",
   "execution_count": null,
   "metadata": {},
   "outputs": [],
   "source": [
    "salario = \n",
    "impuesto = 0.15\n",
    "if salario >= 5000:\n",
    "    salario = salario - (salario * impuesto)\n",
    "salario"
   ]
  },
  {
   "cell_type": "markdown",
   "metadata": {},
   "source": [
    "### Ejercicio 2:\n",
    "\n",
    "Asignar un valor a la variable edad para que la variable mayor_de_edad obtenga el valor \"SI es mayor de edad\" "
   ]
  },
  {
   "cell_type": "code",
   "execution_count": null,
   "metadata": {},
   "outputs": [],
   "source": [
    "edad = \n",
    "mayor_de_edad = \"NO es mayor de edad\"\n",
    "if edad >= 18:\n",
    "    mayor_de_edad = \"SI es mayor de edad\"\n",
    "mayor_de_edad"
   ]
  },
  {
   "cell_type": "code",
   "execution_count": null,
   "metadata": {},
   "outputs": [],
   "source": [
    "#@title Solucion Ejercicio 2 {display-mode:\"form\"}\n",
    "\n",
    "edad = 30 # cualquier edad mayor o igual a 18 seria correcta\n",
    "mayor_de_edad = \"NO es mayor de edad\"\n",
    "if edad >= 18:\n",
    "    mayor_de_edad = \"SI es mayor de edad\"\n",
    "mayor_de_edad"
   ]
  },
  {
   "cell_type": "markdown",
   "metadata": {},
   "source": [
    "## Si es verdadera has esto sino has esto otro\n",
    "\n",
    "Es comun que querramos hacer algo si una condicion es verdadera y otra cosa si es falsa, para ello utilizamos la combinacion de palabras if: else: (en ingles si: sino:)\n"
   ]
  },
  {
   "cell_type": "markdown",
   "metadata": {},
   "source": [
    "### Ejercicio 3:\n",
    "\n",
    "Tratemos de adivinar el valor de la variable e:"
   ]
  },
  {
   "cell_type": "code",
   "execution_count": null,
   "metadata": {},
   "outputs": [],
   "source": [
    "e = 20\n",
    "e = e + 5\n",
    "if e < 10:\n",
    "    e = e + 1\n",
    "    e = e + 3\n",
    "else:\n",
    "    e = e - 1\n",
    "    e = e - 3\n",
    "e = e + 1\n",
    "e"
   ]
  },
  {
   "cell_type": "markdown",
   "metadata": {},
   "source": [
    "**Importante!** Notar que luego de **else** no hay una condicion. Nunca habra una condicion luego de else porque la condicion para que se ejecute lo que esta dentro de else es que haya fallado la condicion anterior del if, es decir, que la condicion del if sea falsa."
   ]
  },
  {
   "cell_type": "markdown",
   "metadata": {},
   "source": [
    "### Ejercicio 4: \n",
    "\n",
    "Crear un **if else** que haga que la variable positivo_o_negativo tome el valor \"Es positivo\" o \"Es negativo\" dependiendo de si el valor de la variable mi_numero es mayor a cero o no."
   ]
  },
  {
   "cell_type": "code",
   "execution_count": null,
   "metadata": {},
   "outputs": [],
   "source": [
    "mi_numero = -22\n",
    "positivo_o_negativo = \"no se todavia\"\n",
    "# escribir a continuacion tu solucion"
   ]
  },
  {
   "cell_type": "code",
   "execution_count": null,
   "metadata": {},
   "outputs": [],
   "source": [
    "#@title Solucion Ejercicio 4 {display-mode:\"form\"}\n",
    "\n",
    "mi_numero = -22\n",
    "positivo_o_negativo = \"no se todavia\"\n",
    "if mi_numero > 0:\n",
    "    positivo_o_negativo = \"Es positivo\"\n",
    "else:\n",
    "    positivo_o_negativo = \"Es negativo\"\n",
    "positivo_o_negativo"
   ]
  },
  {
   "cell_type": "markdown",
   "metadata": {},
   "source": [
    "## Varios if y un solo else\n",
    "\n",
    "Tambien a veces es util poner varios if else seguido cuando queres revisar mas de dos codiciones posibles. Por ejemplo supongamos que en el ejercicio anterior queremos saber si el numero de nuestra variable mi_numero es positivo, negativo o cero. En este caso tendremos tres posibilidades y utilizaremos la combinancion if elif else:\n"
   ]
  },
  {
   "cell_type": "code",
   "execution_count": null,
   "metadata": {},
   "outputs": [],
   "source": [
    "mi_numero = -22\n",
    "positivo_o_negativo = \"no se todavia\"\n",
    "if mi_numero == 0:\n",
    "    positivo_o_negativo = \"es cero\"\n",
    "elif mi_numero > 0:\n",
    "    positivo_o_negativo = \"es positivo\"\n",
    "else:\n",
    "    positivo_o_negativo = \"es negativo\"\n",
    "\n",
    "positivo_o_negativo"
   ]
  },
  {
   "cell_type": "markdown",
   "metadata": {},
   "source": [
    "### Ejercicio:\n",
    "\n",
    "Modificar los valores de la variable mi_numero en el ejemplo anterior y ver los distintos resultados. Utilizar el cero y numeros positivos y negativos como valores."
   ]
  },
  {
   "cell_type": "markdown",
   "metadata": {},
   "source": [
    "### Ejercicios extra:\n",
    "\n",
    "Intentar adivinar el resultado de los siguientes ejemplos antes de ejecutarlos y ver su resultado correcto:"
   ]
  },
  {
   "cell_type": "markdown",
   "metadata": {},
   "source": [
    "***Ejercicio extra 1:***"
   ]
  },
  {
   "cell_type": "code",
   "execution_count": null,
   "metadata": {},
   "outputs": [],
   "source": [
    "a1 = 0\n",
    "if a1 > 0:\n",
    "    a1 = a1 + 1\n",
    "    a1 = a1 + 2\n",
    "a1 = a1 + 3\n",
    "a1 = a1 + 4\n",
    "a1"
   ]
  },
  {
   "cell_type": "markdown",
   "metadata": {},
   "source": [
    "***Ejercicio extra 2:***"
   ]
  },
  {
   "cell_type": "code",
   "execution_count": null,
   "metadata": {},
   "outputs": [],
   "source": [
    "a2 = 0\n",
    "if a2 >= 0:\n",
    "    a2 = a2 + 1\n",
    "    a2 = a2 + 2\n",
    "a2 = a2 + 3\n",
    "a2 = a2 + 4\n",
    "a2"
   ]
  },
  {
   "cell_type": "markdown",
   "metadata": {},
   "source": [
    "***Ejercicio extra 3:***"
   ]
  },
  {
   "cell_type": "code",
   "execution_count": null,
   "metadata": {},
   "outputs": [],
   "source": [
    "a3 = -10\n",
    "if a3 < 0:\n",
    "    a3 = a3 + 1\n",
    "    a3 = a3 + 2\n",
    "else:\n",
    "    a3 = a3 + 10\n",
    "    a3 = a3 + 20\n",
    "a3 = a3 + 1\n",
    "a3 = a3 + 1\n",
    "a3"
   ]
  },
  {
   "cell_type": "markdown",
   "metadata": {},
   "source": [
    "***Ejercicio extra 4:***"
   ]
  },
  {
   "cell_type": "code",
   "execution_count": null,
   "metadata": {},
   "outputs": [],
   "source": [
    "a4 = 10\n",
    "if (a4 < 0) or (a4 > 20):\n",
    "    a4 = a4 + 1\n",
    "    a4 = a4 + 2\n",
    "else:\n",
    "    a4 = a4 + 10\n",
    "    a4 = a4 + 20\n",
    "a4 = a4 + 1\n",
    "a4 = a4 + 1\n",
    "a4"
   ]
  },
  {
   "cell_type": "markdown",
   "metadata": {},
   "source": [
    "# Fin: [Volver al contenido del curso](https://www.freecodingtour.com/cursos/espanol/programacion/programacion.html)"
   ]
  }
 ],
 "metadata": {
  "colab": {
   "authorship_tag": "ABX9TyPSt2dXYQ+qrTbXnGhQYIHD",
   "provenance": []
  },
  "kernelspec": {
   "display_name": "Python 3 (ipykernel)",
   "language": "python",
   "name": "python3"
  },
  "language_info": {
   "codemirror_mode": {
    "name": "ipython",
    "version": 3
   },
   "file_extension": ".py",
   "mimetype": "text/x-python",
   "name": "python",
   "nbconvert_exporter": "python",
   "pygments_lexer": "ipython3",
   "version": "3.9.7"
  }
 },
 "nbformat": 4,
 "nbformat_minor": 4
}
