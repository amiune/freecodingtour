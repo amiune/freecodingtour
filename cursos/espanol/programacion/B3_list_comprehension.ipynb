{
 "cells": [
  {
   "cell_type": "markdown",
   "id": "616bbb3b-138c-4f54-9b29-2bb21a81f76e",
   "metadata": {},
   "source": [
    "# Crear una lista a partir de otra lista\n",
    "\n",
    "Aqui veremos una forma abreviada de crear una lista a partir de otra lista.\n",
    "\n",
    "Supongamos que tenemos una lista con numeros y queremos crear una nueva lista que contenga esos numeros pero sumados a 100 cada uno. Lo podriamos hacer de la siguiente manera:"
   ]
  },
  {
   "cell_type": "code",
   "execution_count": 7,
   "id": "869ab97b-6bd8-48c3-81b1-0bdb6b00ffd8",
   "metadata": {},
   "outputs": [
    {
     "name": "stdout",
     "output_type": "stream",
     "text": [
      "[11, 12, 13, 14, 15, 16, 17, 18, 19]\n"
     ]
    }
   ],
   "source": [
    "lista = [1,2,3,4,5,6,7,8,9]\n",
    "nueva_lista = []\n",
    "for x in lista:\n",
    "    nueva_lista.append(x+10)\n",
    "print(nueva_lista)"
   ]
  },
  {
   "cell_type": "markdown",
   "id": "8010f5c8-e0f5-4382-99d1-166fe4e9822b",
   "metadata": {},
   "source": [
    "Esto mismo lo podemos hacer en una forma mas reducida que es la siguiente:"
   ]
  },
  {
   "cell_type": "code",
   "execution_count": 5,
   "id": "8cfbdf10-0911-4348-8a1e-5d4110adfaf3",
   "metadata": {},
   "outputs": [
    {
     "name": "stdout",
     "output_type": "stream",
     "text": [
      "[11, 12, 13, 14, 15, 16, 17, 18, 19]\n"
     ]
    }
   ],
   "source": [
    "lista = [1,2,3,4,5,6,7,8,9]\n",
    "nueva_lista = [ x+10 for x in lista]\n",
    "print(nueva_lista)"
   ]
  },
  {
   "cell_type": "markdown",
   "id": "6a971c40-1833-44a2-b1d8-77958aff5a0b",
   "metadata": {},
   "source": [
    "Esta forma reducida siempre tiene el siguiente formato:\n",
    "\n",
    "```python\n",
    "[ (elemento_modificado) for elemento in lista ]\n",
    "```"
   ]
  },
  {
   "cell_type": "markdown",
   "id": "6afed187-0867-4b20-b747-e0eebbce4380",
   "metadata": {},
   "source": [
    "Ninguna de estas formas es mejor o peor que la otra. Solo son dos formas de hacer lo mismo. Quizas una puede ser mas entendible y la otra pueda llegar a ser un poco mas rapida pero no afectaran sustancialmente a nuestros programas. "
   ]
  },
  {
   "cell_type": "markdown",
   "id": "99aaa17f-5edc-427e-8861-223d727b64a3",
   "metadata": {
    "id": "OnoVWz-z87V6"
   },
   "source": [
    "### Ejercicio 1:\n",
    "\n",
    "Dada la siguiente lista: [1,2,3,4,5,6,7,8,9,10]\n",
    "\n",
    "Usar List Comprehension para crear una nueva lista que contenga dichos elementos multiplicados por 3\n",
    "\n",
    "Resultado esperado: [3, 6, 9, 12, 15, 18, 21, 24, 27, 30]"
   ]
  },
  {
   "cell_type": "code",
   "execution_count": null,
   "id": "b09d14b5-58b2-4d08-9251-e90825aa04eb",
   "metadata": {
    "id": "oKqKr--x83lE",
    "outputId": "6de05d63-defb-4f85-9b1b-cf93395a10d5"
   },
   "outputs": [
    {
     "data": {
      "text/plain": [
       "[3, 6, 9, 12, 15, 18, 21, 24, 27, 30]"
      ]
     },
     "execution_count": 21,
     "metadata": {},
     "output_type": "execute_result"
    }
   ],
   "source": [
    "a = [1,2,3,4,5,6,7,8,9,10]\n",
    "[x*3 for x in a]"
   ]
  },
  {
   "cell_type": "markdown",
   "id": "0cefed5f-ad6c-44c4-843a-3a3e90d0aaa0",
   "metadata": {
    "id": "rw-WrIdz9P7y"
   },
   "source": [
    "### Ejercicio 2:\n",
    "\n",
    "Dada la siguiente lista: [1,2,3,4,5,6,7,8,9,10]\n",
    "\n",
    "Usar List Comprehension para crear una nueva lista que contenga solo los elementos pares de dicha lista\n",
    "\n",
    "Resultado esperado: [2, 4, 6, 8, 10]"
   ]
  },
  {
   "cell_type": "code",
   "execution_count": null,
   "id": "f8b2dac9-a701-4164-acbe-e30a2e7477d5",
   "metadata": {
    "id": "VD2MC_fP9QZa",
    "outputId": "627646be-a932-4cf5-ab03-7f1ec0483804"
   },
   "outputs": [
    {
     "data": {
      "text/plain": [
       "[2, 4, 6, 8, 10]"
      ]
     },
     "execution_count": 22,
     "metadata": {},
     "output_type": "execute_result"
    }
   ],
   "source": [
    "a = [1,2,3,4,5,6,7,8,9,10]\n",
    "[x for x in a if x%2==0]"
   ]
  },
  {
   "cell_type": "markdown",
   "id": "d5a4a27b-fc99-4060-900a-427c4b1e2a38",
   "metadata": {
    "id": "yksZzN5q-DNn"
   },
   "source": [
    "### Ejercicio 3:\n",
    "\n",
    "Dada la siguiente lista: [1,2,3,4,5,6,7,8,9,10]\n",
    "\n",
    "Usar List Comprehension para crear una nueva lista que contenga solo los elementos impares de dicha lista elevados al cuadrado\n",
    "\n",
    "Resultado esperado: [1, 9, 25, 49, 81]"
   ]
  },
  {
   "cell_type": "code",
   "execution_count": null,
   "id": "4d1adf6f-6eaf-48a6-8053-26d390661f0b",
   "metadata": {
    "id": "XLxceTsf-Cz8",
    "outputId": "c68d8507-43bb-4862-d13d-4732d71d1571"
   },
   "outputs": [
    {
     "data": {
      "text/plain": [
       "[1, 9, 25, 49, 81]"
      ]
     },
     "execution_count": 23,
     "metadata": {},
     "output_type": "execute_result"
    }
   ],
   "source": [
    "a = [1,2,3,4,5,6,7,8,9,10]\n",
    "[x**2 for x in a if x%2!=0]"
   ]
  },
  {
   "cell_type": "markdown",
   "id": "a5b8c165-da1a-4958-9fda-39f67e7a5a66",
   "metadata": {
    "id": "SukrNZ8_rB9W"
   },
   "source": [
    "### Ejercicio 4:\n",
    "\n",
    "Dada la siguiente lista: [1,2,3,4,5,6,7,8,9,10]\n",
    "\n",
    "Usar List Comprehension para crear una nueva lista que contenga los elementos pares elevados al cuadrado y los impares elevados al cubo\n",
    "\n",
    "Resultado esperado: [1, 4, 27, 16, 125, 36, 343, 64, 729, 100]"
   ]
  },
  {
   "cell_type": "code",
   "execution_count": null,
   "id": "7f7a33f8-e7c9-4a71-a90a-4b6f9de41ce5",
   "metadata": {
    "id": "ORjBahdGrB9X",
    "outputId": "0ebb14b7-0ce4-4d9c-d3ba-579c7f7891a3"
   },
   "outputs": [
    {
     "data": {
      "text/plain": [
       "[1, 4, 27, 16, 125, 36, 343, 64, 729, 100]"
      ]
     },
     "execution_count": 24,
     "metadata": {},
     "output_type": "execute_result"
    }
   ],
   "source": [
    "a = [1,2,3,4,5,6,7,8,9,10]\n",
    "[x**2 if x%2 == 0 else x** 3 for x in a]"
   ]
  },
  {
   "cell_type": "markdown",
   "id": "cdd71210-102e-4206-bb50-46cd1136d572",
   "metadata": {
    "id": "lz01a4uirB9X"
   },
   "source": [
    "### Ejercicio 5:\n",
    "\n",
    "Dada la siguiente lista: [\"Panda\",\"Pasa\",\"Papa\",\"Pollo\",\"Pera\",\"Pan\",\"P\"]\n",
    "\n",
    "Usar List Comprehension para crear una nueva lista que contenga los strings de dicha lista pero que si tienen mas de cuatro letras los acorte a cuatro letras usando [:4] y si tiene menos de 4 letras les agregue X al final hasta llegar a 4 letras y si tiene 4 letras los deje igual.\n",
    "\n",
    "Resultado esperado: ['Pand', 'Pasa', 'Papa', 'Poll', 'Pera', 'PanX', 'PXXX']"
   ]
  },
  {
   "cell_type": "code",
   "execution_count": null,
   "id": "8753383c-3077-4dab-beed-a9c4a1e17601",
   "metadata": {
    "id": "Rv75TVYgrB9Y",
    "outputId": "efe6895b-0eec-495c-92b4-73b9cc350e46"
   },
   "outputs": [
    {
     "data": {
      "text/plain": [
       "['Pand', 'Pasa', 'Papa', 'Poll', 'Pera', 'PanX', 'PXXX']"
      ]
     },
     "execution_count": 25,
     "metadata": {},
     "output_type": "execute_result"
    }
   ],
   "source": [
    "a = [\"Panda\",\"Pasa\",\"Papa\",\"Pollo\",\"Pera\",\"Pan\",\"P\"]\n",
    "[x[:4] if len(x) > 4 else (x + \"XXXX\")[:4] if len(x) < 4 else x for x in a]"
   ]
  },
  {
   "cell_type": "markdown",
   "id": "e51e0699-d149-435c-9b4e-48b524521c92",
   "metadata": {
    "id": "rdU8in3erB9Y"
   },
   "source": [
    "### Ejercicio 6:\n",
    "\n",
    "Dada la siguientes listas: [2,1,5,6,3,4] , [\"X\",\"A\",\"Z\",\"0\",\"1\",\"p\"]\n",
    "\n",
    "Usar List Comprehension para crear una nueva lista que contenga los strings de la segunda lista repetidos tantas veces como indican los numeros de la primera lista\n",
    "\n",
    "Resultado esperado: ['XX', 'A', 'ZZZZZ', '000000', '111', 'pppp']"
   ]
  },
  {
   "cell_type": "code",
   "execution_count": null,
   "id": "f6a3fd78-8912-417d-bbd1-17d64c85bf7d",
   "metadata": {
    "colab": {
     "base_uri": "https://localhost:8080/"
    },
    "id": "9We3s5jcrB9Y",
    "outputId": "aed9a089-8ca6-4ced-9dd4-8a829725f9de"
   },
   "outputs": [
    {
     "data": {
      "text/plain": [
       "['XX', 'A', 'ZZZZZ', '000000', '111', 'pppp']"
      ]
     },
     "execution_count": 9,
     "metadata": {},
     "output_type": "execute_result"
    }
   ],
   "source": [
    "a,b = [2,1,5,6,3,4] , [\"X\",\"A\",\"Z\",\"0\",\"1\",\"p\"]\n",
    "[x*y for x,y in zip(b,a)]"
   ]
  },
  {
   "cell_type": "markdown",
   "id": "742e5914-a8dc-4116-9b2f-8a61add53156",
   "metadata": {
    "id": "IUgTtFVRrB9Z"
   },
   "source": [
    "### Ejercicio 7:\n",
    "\n",
    "Dada la siguientes listas: [\"Piedra\", \"Papel\", \"Tijera\"],[\"Piedra\", \"Papel\", \"Tijera\"]\n",
    "\n",
    "Usar List Comprehension para crear una nueva lista que contenga los strings concatenados con un guion entre medio y en mayuscula de la primera y la segunda lista mostrando todas las combinaciones posibles del juego piedra papel tijera\n",
    "\n",
    "Resultado esperado:\n",
    "['PIEDRA-PIEDRA',\n",
    " 'PIEDRA-PAPEL',\n",
    " 'PIEDRA-TIJERA',\n",
    " 'PAPEL-PIEDRA',\n",
    " 'PAPEL-PAPEL',\n",
    " 'PAPEL-TIJERA',\n",
    " 'TIJERA-PIEDRA',\n",
    " 'TIJERA-PAPEL',\n",
    " 'TIJERA-TIJERA']"
   ]
  },
  {
   "cell_type": "code",
   "execution_count": null,
   "id": "eb5b0aa7-c058-414c-b750-6ce10b829ad7",
   "metadata": {
    "id": "E4aXJpe_rB9Z",
    "outputId": "3b0d8e41-4459-410a-e435-0bf06fe581c9"
   },
   "outputs": [
    {
     "data": {
      "text/plain": [
       "['PIEDRA-PIEDRA',\n",
       " 'PIEDRA-PAPEL',\n",
       " 'PIEDRA-TIJERA',\n",
       " 'PAPEL-PIEDRA',\n",
       " 'PAPEL-PAPEL',\n",
       " 'PAPEL-TIJERA',\n",
       " 'TIJERA-PIEDRA',\n",
       " 'TIJERA-PAPEL',\n",
       " 'TIJERA-TIJERA']"
      ]
     },
     "execution_count": 27,
     "metadata": {},
     "output_type": "execute_result"
    }
   ],
   "source": [
    "j1, j2 = [\"Piedra\", \"Papel\", \"Tijera\"], [\"Piedra\", \"Papel\", \"Tijera\"]\n",
    "[(x+\"-\"+y).upper() for x in j1 for y in j2]"
   ]
  },
  {
   "cell_type": "code",
   "execution_count": null,
   "id": "dac31a36-478f-4566-a586-215ff1e9554d",
   "metadata": {},
   "outputs": [],
   "source": []
  },
  {
   "cell_type": "code",
   "execution_count": 12,
   "id": "ff0cf6dc-227c-458d-b8d8-9e11580ee6ae",
   "metadata": {},
   "outputs": [],
   "source": [
    "f = lambda lista: [x+10 for x in lista]"
   ]
  },
  {
   "cell_type": "code",
   "execution_count": 13,
   "id": "2b12c502-5c55-458a-801b-a01a3dda5c41",
   "metadata": {},
   "outputs": [
    {
     "data": {
      "text/plain": [
       "[11, 12, 13, 14, 15, 16]"
      ]
     },
     "execution_count": 13,
     "metadata": {},
     "output_type": "execute_result"
    }
   ],
   "source": [
    "f([1,2,3,4,5,6])"
   ]
  },
  {
   "cell_type": "code",
   "execution_count": null,
   "id": "aaf3643d-d264-4adb-8015-496293e810fb",
   "metadata": {},
   "outputs": [],
   "source": []
  }
 ],
 "metadata": {
  "kernelspec": {
   "display_name": "Python 3 (ipykernel)",
   "language": "python",
   "name": "python3"
  },
  "language_info": {
   "codemirror_mode": {
    "name": "ipython",
    "version": 3
   },
   "file_extension": ".py",
   "mimetype": "text/x-python",
   "name": "python",
   "nbconvert_exporter": "python",
   "pygments_lexer": "ipython3",
   "version": "3.9.7"
  }
 },
 "nbformat": 4,
 "nbformat_minor": 5
}
