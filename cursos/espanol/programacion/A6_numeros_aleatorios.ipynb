{
 "cells": [
  {
   "cell_type": "markdown",
   "id": "72887257-3bbf-40c4-8a05-46fa890914f6",
   "metadata": {},
   "source": [
    "# Numeros aleatorios\n",
    "\n",
    "Generar numeros aleatorios es algo muy util en los campos de las ciencias. En esta unidad veremos como generarlos utilizando funciones ya predefinidas en una libreria de python.\n",
    "\n",
    "Una libreria son un conjunto de funciones y clases que otra persona ha escrito y que nosotros utilizaremos. Para utilizar una libreria debemos usar la palabra **import** y el nombre de la libreria. La libreria para generar numeros aleatorios se llama **random** que significa aleatorio en ingles. \n",
    "\n",
    "Veamos:"
   ]
  },
  {
   "cell_type": "code",
   "execution_count": null,
   "id": "e54b80af-da7e-4fb0-b4ee-c3f5ec00b1ff",
   "metadata": {},
   "outputs": [],
   "source": [
    "import random"
   ]
  },
  {
   "cell_type": "markdown",
   "id": "d6bf87fe-6e2d-4d19-bc7f-90222423c8b6",
   "metadata": {},
   "source": [
    "Ahora utilizaremos la funcion **randrange(inicio,fin)** que genera numeros enteros entre inicio y fin (fin no incluido)\n",
    "\n",
    "Ejecuta varias veces la siguiente celda para ver los distintos numeros generados:"
   ]
  },
  {
   "cell_type": "code",
   "execution_count": null,
   "id": "66128609-834d-45dd-bb3f-f4cb2b3fc910",
   "metadata": {},
   "outputs": [],
   "source": [
    "random.randrange(0,10)"
   ]
  },
  {
   "cell_type": "markdown",
   "id": "026825e7-5a84-4df6-bd3e-814ad884dbe0",
   "metadata": {},
   "source": [
    "Utilicemos un **for** para generar 10 numeros aleatorios entre 1 y 5.\n",
    "\n",
    "Ejecuta varias veces la siguiente celda para ver las distintas secuencias de numeros generados:"
   ]
  },
  {
   "cell_type": "code",
   "execution_count": null,
   "id": "5494ac35-d6df-47e8-b98b-73430bc00e0e",
   "metadata": {},
   "outputs": [],
   "source": [
    "for i in range(10):\n",
    "    r = random.randrange(1,6)\n",
    "    print(r)"
   ]
  },
  {
   "cell_type": "markdown",
   "id": "e6081b69-1b38-4300-9423-c9d6cd713c4f",
   "metadata": {},
   "source": [
    "**IMPORTANTE:** los numeros aleatorios generados por las computadoras no son totalmente aleatorios sino que son pseudoaleatorios. Esto significa que **dado un numero inicial llamado semilla** un generador de numeros pseudoaleatorios **genera siempre la misma secuencia de numeros** pero **cada numero generado tiene la misma probabilidad de salir** que cualquiera de los otros. \n",
    "\n",
    "Si bien no son totalmente aleatorios, porque sabiendo el numero inicial (numero semilla) sabremos los numeros generados, estos numeros tienen la misma probabilidad de salir y esto es exactamente lo que necesitamos. De hecho poder generar la misma secuencia a partir de una semilla inicial va a ser muy util para poder repetir experimentos aleatorios. \n",
    "\n",
    "Elijamos una semilla (seed en ingles) y veamos lo que sucede.\n",
    "\n",
    "Ejecuta varias veces la siguiente celda para ver que ahora la secuencia es siempre la misma:"
   ]
  },
  {
   "cell_type": "code",
   "execution_count": null,
   "id": "083ee7e6-6c45-488b-b657-a93d8350d059",
   "metadata": {},
   "outputs": [],
   "source": [
    "random.seed(0)\n",
    "\n",
    "for i in range(10):\n",
    "    r = random.randrange(1,6)\n",
    "    print(r)"
   ]
  },
  {
   "cell_type": "markdown",
   "id": "0dd72014-1726-41c2-a626-5cf25980537b",
   "metadata": {},
   "source": [
    "Si la semilla es distinta la secuencia sera distinta:"
   ]
  },
  {
   "cell_type": "code",
   "execution_count": null,
   "id": "41d864b4-c895-4693-a5d0-505abfa0c881",
   "metadata": {},
   "outputs": [],
   "source": [
    "random.seed(42)\n",
    "\n",
    "for i in range(10):\n",
    "    r = random.randrange(1,6)\n",
    "    print(r)"
   ]
  },
  {
   "cell_type": "markdown",
   "id": "325aacaa-74cd-4f38-8030-918ba5add692",
   "metadata": {},
   "source": [
    "Una vez establecida la semilla podemos seguir generando todos los numeros aleatorios que querramos."
   ]
  },
  {
   "cell_type": "code",
   "execution_count": null,
   "id": "6430dcb1-a050-440b-b9da-75439ba1fb64",
   "metadata": {},
   "outputs": [],
   "source": [
    "random.randrange(1,6)"
   ]
  },
  {
   "cell_type": "markdown",
   "id": "7b6d3040-7743-4295-a2c6-5cbd870c8f34",
   "metadata": {},
   "source": [
    "Con esta funcion sumada a la increible velocidad de la computadora podemos simular procesos aleatorios que vemos a diario. Simulemos ahora tirar una moneda 1 millon de veces y contar la cantidad de veces que sale de un lado y del otro y luego calculemos su probabilidad:"
   ]
  },
  {
   "cell_type": "code",
   "execution_count": null,
   "id": "b6ddf7cc-67f9-4dde-9ac6-e2ac78c5e89c",
   "metadata": {},
   "outputs": [],
   "source": [
    "intentos = 1_000_000\n",
    "contador_caraA = 0\n",
    "contador_caraB = 0\n",
    "for intento in range(intentos):\n",
    "    moneda = random.randrange(0,2)\n",
    "    if moneda == 0:\n",
    "        contador_caraA += 1\n",
    "    else:\n",
    "        contador_caraB += 1\n",
    "\n",
    "print(\"Cantidad de veces que salio cara A:\", contador_caraA)\n",
    "print(\"Probabilidad de cara:\", contador_caraA/intentos)\n",
    "print(\"Cantidad de veces que salio cara B:\", contador_caraB)\n",
    "print(\"Probabilidad de cruz:\", contador_caraB/intentos)"
   ]
  },
  {
   "cell_type": "markdown",
   "id": "7fa374a3-ccf2-4901-9a22-bce881867ee0",
   "metadata": {},
   "source": [
    "**Esto ha sido mucho mas rapido que hacerlo manualmente :)**"
   ]
  },
  {
   "cell_type": "markdown",
   "id": "d46edb2b-ea25-4e5c-ab22-ce01ccd0086a",
   "metadata": {},
   "source": [
    "### Ejercicio A:\n",
    "\n",
    "Simular tirar 1 millon veces dos dados.\n",
    "\n",
    "Calcular la probabilidad de obtener 2,3,4,5,6,7,8,9,10,11,12 con la suma de ambos."
   ]
  },
  {
   "cell_type": "code",
   "execution_count": null,
   "id": "3e4bc3d3-4c88-48a3-a0ed-6092ca27553b",
   "metadata": {},
   "outputs": [],
   "source": [
    "# Escribir aqui la solucion\n",
    "\n"
   ]
  },
  {
   "cell_type": "code",
   "execution_count": null,
   "id": "7a389060-4b4b-4ccf-b178-a59d342851e2",
   "metadata": {},
   "outputs": [],
   "source": [
    "#@title Solucion Ejercicio A {display-mode:\"form\"}\n",
    "\n",
    "intentos = 1_000_000\n",
    "contador_suma_dados = [0]*13\n",
    "for intento in range(intentos):\n",
    "    dado1 = random.randrange(1,7)\n",
    "    dado2 = random.randrange(1,7)\n",
    "    suma = dado1 + dado2\n",
    "    contador_suma_dados[suma] += 1\n",
    "\n",
    "for i in range(2,13):\n",
    "      print(\"La probabilidad de que la suma de los dos dados sea\", i, \"es\", contador_suma_dados[i]/intentos)"
   ]
  },
  {
   "cell_type": "markdown",
   "id": "e13430da-3587-4adb-a2cd-d18648c9992f",
   "metadata": {},
   "source": [
    "### Ejercicio B:\n",
    "\n",
    "Simular tirar una moneda 1 millon de veces y calcular la probabilidad de que salgan 5 veces seguidas la misma cara."
   ]
  },
  {
   "cell_type": "code",
   "execution_count": null,
   "id": "52658a23-fdf1-4423-baff-3319aa190637",
   "metadata": {},
   "outputs": [],
   "source": [
    "# Escribir aqui la solucion\n",
    "\n"
   ]
  },
  {
   "cell_type": "code",
   "execution_count": null,
   "id": "cce5d9a1-e6ff-4180-b528-8536683ac51c",
   "metadata": {},
   "outputs": [],
   "source": [
    "#@title Solucion Ejercicio B {display-mode:\"form\"}\n",
    "\n",
    "intentos = 1_000_000\n",
    "contador_cara5veces = 0\n",
    "for intento in range(intentos):\n",
    "    tirada1 = random.randrange(0,2)\n",
    "    tirada2 = random.randrange(0,2)\n",
    "    tirada3 = random.randrange(0,2)\n",
    "    tirada4 = random.randrange(0,2)\n",
    "    tirada5 = random.randrange(0,2)\n",
    "\n",
    "    if tirada1 == 1 and tirada2 == 1 and tirada3 == 1 and tirada4 == 1 and tirada5 == 1:\n",
    "        contador_cara5veces += 1\n",
    "\n",
    "print(contador_cara5veces / intentos)"
   ]
  },
  {
   "cell_type": "markdown",
   "id": "3966c02a-797c-4e57-803a-9151198b63c8",
   "metadata": {},
   "source": [
    "## Otras funciones de la libreria random\n",
    "\n",
    "Veamos algunas (ejecutar cada una varias veces para ver como funcionan):"
   ]
  },
  {
   "cell_type": "markdown",
   "id": "3863d729-5c4f-477d-b478-b837c9deaf2a",
   "metadata": {},
   "source": [
    "**random.choice(lista)** elige aleatoriamente un elemento de una lista"
   ]
  },
  {
   "cell_type": "code",
   "execution_count": null,
   "id": "99d729f5-e84e-4e0b-bea3-7a0a17ea3aeb",
   "metadata": {},
   "outputs": [],
   "source": [
    "random.choice([\"a\",\"b\",\"c\",\"d\"])"
   ]
  },
  {
   "cell_type": "markdown",
   "id": "f9a620bf-195b-46b9-9550-ae3d6b1409c7",
   "metadata": {},
   "source": [
    "**random.choices(lista, k)** elige aleatoriamente **k** elementos de una lista"
   ]
  },
  {
   "cell_type": "code",
   "execution_count": null,
   "id": "ceb05142-1f73-44ab-a597-01b71667fcb2",
   "metadata": {},
   "outputs": [],
   "source": [
    "random.choices([\"a\",\"b\",\"c\",\"d\"], k=7)"
   ]
  },
  {
   "cell_type": "markdown",
   "id": "d88188b1-b12e-43ee-9991-867f7a21a82f",
   "metadata": {},
   "source": [
    "**random.sample(lista, k)** elige aleatoriamente **k** elementos **distintos** de una lista por lo que k debe ser igual o menor al tamano de la lista"
   ]
  },
  {
   "cell_type": "code",
   "execution_count": null,
   "id": "98bae51b-881f-4fd9-a52d-ba6125e004e8",
   "metadata": {},
   "outputs": [],
   "source": [
    "random.sample([\"a\",\"b\",\"c\",\"d\"], k=7)"
   ]
  },
  {
   "cell_type": "markdown",
   "id": "2fbe8891-bfea-4537-b39b-801196863e67",
   "metadata": {},
   "source": [
    "**random.shuffle(lista)** mezcla los elementos de una lista"
   ]
  },
  {
   "cell_type": "code",
   "execution_count": null,
   "id": "258253a8-c61a-47b9-9f9a-5576275542cf",
   "metadata": {},
   "outputs": [],
   "source": [
    "lista = [\"a\",\"b\",\"c\",\"d\"]\n",
    "random.shuffle(lista)\n",
    "print(lista)"
   ]
  },
  {
   "cell_type": "markdown",
   "id": "a13a7a50-3f66-4bf3-b56f-b7e0deb2fea3",
   "metadata": {},
   "source": [
    "**random.random()** genera un numero decimal aleatorio entre 0 y 1"
   ]
  },
  {
   "cell_type": "code",
   "execution_count": null,
   "id": "f2290a51-fe93-443f-947b-fc27368c4bba",
   "metadata": {},
   "outputs": [],
   "source": [
    "random.random()"
   ]
  },
  {
   "cell_type": "markdown",
   "id": "c9d24f20-a796-45fd-b5f8-7b074f196122",
   "metadata": {},
   "source": [
    "**random.uniform(inicio,fin)** genera un numero decimal aleatorio entre inicio y fin ambos incluidos"
   ]
  },
  {
   "cell_type": "code",
   "execution_count": null,
   "id": "d7f703f8-3736-40f4-b267-1518770aee42",
   "metadata": {},
   "outputs": [],
   "source": [
    "random.uniform(0,100)"
   ]
  },
  {
   "cell_type": "markdown",
   "id": "cb17754c-0c9c-4f14-82ac-323eec01427a",
   "metadata": {},
   "source": [
    "**random.gauss(media,desviacion)** genera un numero aleatorio con distribucion normal de media 0 y desviacion estandar 1"
   ]
  },
  {
   "cell_type": "code",
   "execution_count": null,
   "id": "3a8cdb86-b409-412a-acc3-8dee4d8dfa74",
   "metadata": {},
   "outputs": [],
   "source": [
    "random.gauss(0,1)"
   ]
  },
  {
   "cell_type": "markdown",
   "id": "48c2140b-dca4-4e48-877e-fddf35aa390f",
   "metadata": {},
   "source": [
    "### Ejercicio 1:\n",
    "\n",
    "Crear una funcion llamada **obtener_indices_test_rnd(lista, porcentaje)** que reciba un parametro de tipo lista y un float porcentaje entre 0 y 1 y devuelva una lista que contenga los indices de n valores seleccionados aleatoriamente donde n/len(lista) == porcentaje. Para generar los numeros aleatorios utilizar la funcion randrange de la libreria random de la siguiente manera: random.randrange(0,len(lista))\n",
    "\n",
    "*Ejemplo:*\n",
    "\n",
    "*Input: lista=[1,2,3,4,5,6,7,8,9,10], porcentaje=0.2* \n",
    "\n",
    "*Output: [1,0]*"
   ]
  },
  {
   "cell_type": "code",
   "execution_count": null,
   "id": "137fa9c0-71c3-43da-8062-36a864507902",
   "metadata": {},
   "outputs": [],
   "source": [
    "import random\n",
    "def obtener_indices_test_rnd(lista, porcentaje):\n",
    "    # Escribir aqui la solucion\n",
    "    \n",
    "    "
   ]
  },
  {
   "cell_type": "code",
   "execution_count": null,
   "id": "1129e05b-d2b5-473e-a04a-80fe0402b43f",
   "metadata": {},
   "outputs": [],
   "source": [
    "# No modificar el siguiente codigo\n",
    "# Solo ejecutarlo para saber si la funcion creada pasa todos los tests\n",
    "random.seed(42)\n",
    "assert obtener_indices_test_rnd([1,2,3,4,5,6,7,8,9,10],0.2) == [1, 0], \"Error en el test 1\"\n",
    "assert obtener_indices_test_rnd([1,2,3,4,5,6,7,8,9,10],1.0) == [4, 3, 3, 2, 1, 8, 1, 9, 6, 0], \"Error en el test 2\"\n",
    "assert obtener_indices_test_rnd([1,2,3,4,5,6,7,8,9,10],0.5) == [0, 1, 3, 3, 8], \"Error en el test 3\"\n",
    "assert obtener_indices_test_rnd([1,2,3,4,5,6,7,8,9,10],0.0) == [], \"Error en el test 4\"\n",
    "\"Felicitaciones todos los casos de prueba fueron pasados exitosamente!!\""
   ]
  },
  {
   "cell_type": "code",
   "execution_count": null,
   "id": "14bf9596-0ef2-483d-8a3c-807ed546be82",
   "metadata": {},
   "outputs": [],
   "source": [
    "#@title Solucion Ejercicio 1 {display-mode:\"form\"}\n",
    "\n",
    "import random\n",
    "def obtener_indices_test_rnd(lista, porcentaje):\n",
    "    n = int(len(lista) * porcentaje)\n",
    "    test_list = []\n",
    "    for i in range(n):\n",
    "        numero_aleatorio = random.randrange(0,len(lista))\n",
    "        test_list.append(numero_aleatorio)\n",
    "    return test_list"
   ]
  },
  {
   "cell_type": "markdown",
   "id": "db301a34-d008-486d-a31a-37d1e88a04ad",
   "metadata": {},
   "source": [
    "### Ejercicio 2:\n",
    "\n",
    "Crear una funcion llamada **seleccionar_aleatoriamente(lista, n)** que reciba dos parametros de tipo lista: lista y n y que devuelva una lista con n elementos seleccionados aleatoriamente de lista. Los elementos seleccionados pueden ser repetidos. Utilizar la funcion random.randrange para generar numeros aleatorios \n",
    "\n",
    "*Ejemplo:* \n",
    "\n",
    "*Input: lista=[1,2,3,4,5,6,7,8,9,10], n=3* \n",
    "\n",
    "*Output: [2, 1, 5]*"
   ]
  },
  {
   "cell_type": "code",
   "execution_count": null,
   "id": "bd4eef01-ebdf-481f-86aa-3e120b19dc83",
   "metadata": {},
   "outputs": [],
   "source": [
    "import random\n",
    "def seleccionar_aleatoriamente(lista, n):\n",
    "    # Escribir aqui la solucion\n",
    "    \n",
    "    "
   ]
  },
  {
   "cell_type": "code",
   "execution_count": null,
   "id": "d6f8fdb6-dab0-4452-b088-d09b195bc36a",
   "metadata": {},
   "outputs": [],
   "source": [
    "# No modificar el siguiente codigo\n",
    "# Solo ejecutarlo para saber si la funcion creada pasa todos los tests\n",
    "random.seed(42)\n",
    "assert seleccionar_aleatoriamente([1,2,3,4,5,6,7,8,9,10],3) == [2, 1, 5], \"Error en el test 1\"\n",
    "assert seleccionar_aleatoriamente([1,2,3,4,5,6,7,8,9,10],8) == [4, 4, 3, 2, 9, 2, 10, 7], \"Error en el test 2\"\n",
    "assert seleccionar_aleatoriamente([1,2,3,4,5,6,7,8,9,10],5) == [1, 1, 2, 4, 4], \"Error en el test 3\"\n",
    "assert seleccionar_aleatoriamente([1,2,3,4,5,6,7,8,9,10],0) == [], \"Error en el test 4\"\n",
    "\"Felicitaciones todos los casos de prueba fueron pasados exitosamente!!\""
   ]
  },
  {
   "cell_type": "code",
   "execution_count": null,
   "id": "4c6b57d2-eb1a-4d36-a63a-984c7918a77a",
   "metadata": {},
   "outputs": [],
   "source": [
    "#@title Solucion Ejercicio 2 {display-mode:\"form\"}\n",
    "\n",
    "import random\n",
    "def seleccionar_aleatoriamente(lista, n):\n",
    "    ret = []\n",
    "    for i in range(n):\n",
    "        index = random.randrange(0,len(lista))\n",
    "        ret.append(lista[index])\n",
    "    return ret"
   ]
  },
  {
   "cell_type": "markdown",
   "id": "a8da6b76-6588-4ec2-9127-d1775b6cb1e2",
   "metadata": {},
   "source": [
    "### Ejercicio 3:\n",
    "\n",
    "Crear una funcion llamada **seleccionar_aleatoriamente2(lista, n)** que reciba dos parametros de tipo lista: lista y n y que devuelva una lista con n elementos seleccionados aleatoriamente de lista. Los elementos seleccionados NO pueden ser repetidos. Utilizar la funcion random.sample para seleccionar valores aleatoriamente sin repeticion (tambien llamados sin reemplazo)\n",
    "\n",
    "*Ejemplo:* \n",
    "\n",
    "*Input: lista=[1,2,3,4,5,6,7,8,9,10], n=3* \n",
    "\n",
    "*Output: 5*"
   ]
  },
  {
   "cell_type": "code",
   "execution_count": null,
   "id": "1b22be3c-286b-48ea-882e-a30df76f9c84",
   "metadata": {},
   "outputs": [],
   "source": [
    "import random\n",
    "def seleccionar_aleatoriamente2(lista, n):\n",
    "    # Escribir aqui la solucion\n",
    "    \n",
    "    "
   ]
  },
  {
   "cell_type": "code",
   "execution_count": null,
   "id": "2122ce1a-31a6-4249-8611-a34ac8b00e66",
   "metadata": {},
   "outputs": [],
   "source": [
    "# No modificar el siguiente codigo\n",
    "# Solo ejecutarlo para saber si la funcion creada pasa todos los tests\n",
    "random.seed(42)\n",
    "assert seleccionar_aleatoriamente2([1,2,3,4,5,6,7,8,9,10],3) == [2, 1, 5], \"Error en el test 1\"\n",
    "assert seleccionar_aleatoriamente2([1,2,3,4,5,6,7,8,9,10],8) == [4, 10, 3, 6, 1, 5, 7, 8], \"Error en el test 2\"\n",
    "assert seleccionar_aleatoriamente2([1,2,3,4,5,6,7,8,9,10],5) == [7, 1, 9, 8, 2], \"Error en el test 3\"\n",
    "assert seleccionar_aleatoriamente2([1,2,3,4,5,6,7,8,9,10],0) == [], \"Error en el test 4\"\n",
    "\"Felicitaciones todos los casos de prueba fueron pasados exitosamente!!\""
   ]
  },
  {
   "cell_type": "code",
   "execution_count": null,
   "id": "9c27d0b4-206d-417d-ad70-b3c17310508e",
   "metadata": {},
   "outputs": [],
   "source": [
    "#@title Solucion Ejercicio 3 {display-mode:\"form\"}\n",
    "\n",
    "import random\n",
    "def seleccionar_aleatoriamente2(lista, n):\n",
    "    ret = random.sample(lista, n)\n",
    "    return ret"
   ]
  },
  {
   "cell_type": "markdown",
   "id": "f1af0de5-722b-4fd3-93c3-f732d3ba8620",
   "metadata": {},
   "source": [
    "### Ejercicio 4:\n",
    "\n",
    "Crear una funcion llamada **seleccionar_aleatoriamente3(lista, n)** que reciba dos parametros de tipo lista: lista y n y que devuelva una lista con n elementos seleccionados aleatoriamente de lista. Los elementos seleccionados pueden ser repetidos. Utilizar la funcion random.choices para seleccionar valores aleatoriamente con repeticion (tambien llamados con reemplazo)\n",
    "\n",
    "Ejemplo:\n",
    "\n",
    "Input: lista=[1,2,3,4,5,6,7,8,9,10], n=3\n",
    "\n",
    "Output: [7, 1, 3]"
   ]
  },
  {
   "cell_type": "code",
   "execution_count": null,
   "id": "398b8646-a54b-4cdb-8194-1d034290add8",
   "metadata": {},
   "outputs": [],
   "source": [
    "import random\n",
    "def seleccionar_aleatoriamente3(lista, n):\n",
    "    # Escribir aqui la solucion\n",
    "    \n",
    "    "
   ]
  },
  {
   "cell_type": "code",
   "execution_count": null,
   "id": "9644c081-e100-4316-84a4-a6defaf9c633",
   "metadata": {},
   "outputs": [],
   "source": [
    "# No modificar el siguiente codigo\n",
    "# Solo ejecutarlo para saber si la funcion creada pasa todos los tests\n",
    "random.seed(42)\n",
    "assert seleccionar_aleatoriamente3([1,2,3,4,5,6,7,8,9,10],3) == [7, 1, 3], \"Error en el test 1\"\n",
    "assert seleccionar_aleatoriamente3([1,2,3,4,5,6,7,8,9,10],8) == [3, 8, 7, 9, 1, 5, 1, 3], \"Error en el test 2\"\n",
    "assert seleccionar_aleatoriamente3([1,2,3,4,5,6,7,8,9,10],5) == [6, 1, 2, 7, 6], \"Error en el test 3\"\n",
    "assert seleccionar_aleatoriamente3([1,2,3,4,5,6,7,8,9,10],0) == [], \"Error en el test 4\"\n",
    "\"Felicitaciones todos los casos de prueba fueron pasados exitosamente!!\""
   ]
  },
  {
   "cell_type": "code",
   "execution_count": null,
   "id": "677ae44b-d9f5-4c57-955c-c482a63d8534",
   "metadata": {},
   "outputs": [],
   "source": [
    "#@title Solucion Ejercicio 4 {display-mode:\"form\"}\n",
    "\n",
    "import random\n",
    "def seleccionar_aleatoriamente3(lista, n):\n",
    "    ret = random.choices(lista, k=n)\n",
    "    return ret"
   ]
  },
  {
   "cell_type": "markdown",
   "id": "f92d3ebb-1cef-4711-8e3f-581389f6167a",
   "metadata": {},
   "source": [
    "### Ejercicio 5:\n",
    "\n",
    "Crear una funcion llamada **contar_veces(semilla)** que reciba un parametro entero llamado semilla y que genere numeros aleatorios entre 0 y 99 utilizando la funcion random.randrange(0,100) previamente ejecutando random.seed(semilla) hasta que genere el numero 42. La funcion debera devolver el numero de intentos generados.\n",
    "\n",
    "*Ejemplo:*\n",
    "\n",
    "*Input: semilla=1* \n",
    "\n",
    "*Output: 68*"
   ]
  },
  {
   "cell_type": "code",
   "execution_count": null,
   "id": "36b4a490-d836-4411-97ce-876708cde098",
   "metadata": {},
   "outputs": [],
   "source": [
    "import random\n",
    "def contar_veces(semilla):\n",
    "    random.seed(semilla)\n",
    "    # Escribir aqui la solucion\n",
    "    \n",
    "    "
   ]
  },
  {
   "cell_type": "code",
   "execution_count": null,
   "id": "f18da4bb-b57c-4b36-b386-b33a5f3997fb",
   "metadata": {},
   "outputs": [],
   "source": [
    "# No modificar el siguiente codigo\n",
    "# Solo ejecutarlo para saber si la funcion creada pasa todos los tests\n",
    "assert contar_veces(1) == 68, \"Error en el test 1\"\n",
    "assert contar_veces(2) == 360, \"Error en el test 2\"\n",
    "assert contar_veces(3) == 122, \"Error en el test 3\"\n",
    "\"Felicitaciones todos los casos de prueba fueron pasados exitosamente!!\""
   ]
  },
  {
   "cell_type": "code",
   "execution_count": null,
   "id": "4360bf9c-6cfe-4ce6-9921-1c22b207469d",
   "metadata": {},
   "outputs": [],
   "source": [
    "#@title Solucion Ejercicio 5 {display-mode:\"form\"}\n",
    "\n",
    "import random\n",
    "def contar_veces(semilla):\n",
    "    random.seed(semilla)\n",
    "    n = random.randrange(0,100)\n",
    "    counter = 1\n",
    "    while n != 42:\n",
    "        n = random.randrange(0,100)\n",
    "        counter += 1\n",
    "    return counter"
   ]
  },
  {
   "cell_type": "markdown",
   "id": "b2b6d9d3-ab1a-44b3-9db7-cc10416b2375",
   "metadata": {},
   "source": [
    "## Material Avanzado\n",
    "\n",
    "Para aquellos que quieran saber como funciona la funcion que genera los numeros pseudoaleatorios hay muchas formas pero quizas la mas simple es la siguiente:\n",
    "\n",
    "- [Como generar numeros con la misma probabilidad de salir (distribucion uniforme)](https://es.wikipedia.org/wiki/Generador_lineal_congruencial)\n",
    "- [Como modificar la distribucion uniforme de los numeros a una distribucion normal](https://es.wikipedia.org/wiki/M%C3%A9todo_de_Box-Muller)"
   ]
  },
  {
   "cell_type": "markdown",
   "id": "bf188c41-267e-457c-b5c7-de8dc1085ca1",
   "metadata": {},
   "source": [
    "# Fin: [Volver al contenido del curso](https://www.freecodingtour.com/cursos/espanol/programacion/programacion.html)"
   ]
  }
 ],
 "metadata": {
  "kernelspec": {
   "display_name": "Python 3 (ipykernel)",
   "language": "python",
   "name": "python3"
  },
  "language_info": {
   "codemirror_mode": {
    "name": "ipython",
    "version": 3
   },
   "file_extension": ".py",
   "mimetype": "text/x-python",
   "name": "python",
   "nbconvert_exporter": "python",
   "pygments_lexer": "ipython3",
   "version": "3.9.7"
  }
 },
 "nbformat": 4,
 "nbformat_minor": 5
}
