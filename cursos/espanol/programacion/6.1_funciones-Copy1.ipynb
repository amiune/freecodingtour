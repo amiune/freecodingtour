{
 "cells": [
  {
   "cell_type": "markdown",
   "metadata": {
    "id": "_MYOl2Xi1P1Z"
   },
   "source": [
    "# Entrada -> Proceso -> Salida con Funciones\n",
    "\n",
    "Como mencionamos en la unidad anterior todo programa de computacion consta de tres partes:\n",
    "\n",
    "1. La **entrada** que son los datos que le proveemos al programa\n",
    "2. El **procesamiento** de esos datos (el programa propiamente dicho)\n",
    "3. La **salida** que es el resultado que obtenemos luego de procesar los datos"
   ]
  },
  {
   "cell_type": "markdown",
   "metadata": {},
   "source": [
    "Un programa complejo esta compuesto de varios pequeños programas donde la salida de un programa puede ser la entrada de otro. A estos pequeños programas los podemos llamar tambien funciones y los podemos definir de la siguiente manera:"
   ]
  },
  {
   "cell_type": "code",
   "execution_count": null,
   "metadata": {},
   "outputs": [],
   "source": [
    "def incrementar_en_uno(mi_numero_de_entrada):\n",
    "    salida = mi_numero_de_entrada + 1\n",
    "    return salida"
   ]
  },
  {
   "cell_type": "markdown",
   "metadata": {},
   "source": [
    "Acabamos de crear un pequeño programa que recibe una variable llamada **mi_numero_de_entrada**, procesa esta varible incrementando su valor en uno y devuelve el resultado utilizando la palabra **return** y a continuacion el valor del resultado a devolver. A este programa le hemos puesto el nombre de **incrementar_en_uno** utilizando la palabra **def** para definir su nombre. Ahora podremos usar este pequeño programa todas las veces que querramos de ahora en mas de la siguiente manera:"
   ]
  },
  {
   "cell_type": "code",
   "execution_count": null,
   "metadata": {},
   "outputs": [],
   "source": [
    "incrementar_en_uno(10)"
   ]
  },
  {
   "cell_type": "markdown",
   "metadata": {},
   "source": [
    "Otro ejemplo:"
   ]
  },
  {
   "cell_type": "code",
   "execution_count": null,
   "metadata": {},
   "outputs": [],
   "source": [
    "incrementar_en_uno(222)"
   ]
  },
  {
   "cell_type": "markdown",
   "metadata": {},
   "source": [
    "A los resultados de estas funciones los podemos guardar tambien en variables y luego utilizarlos.\n",
    "\n",
    "## Ejercicio 1: \n",
    "\n",
    "Adivina cual sera el valor de **z** en el siguiente ejemplo:"
   ]
  },
  {
   "cell_type": "code",
   "execution_count": null,
   "metadata": {},
   "outputs": [],
   "source": [
    "x = incrementar_en_uno(3)\n",
    "y = incrementar_en_uno(4)\n",
    "z = x + y"
   ]
  },
  {
   "cell_type": "code",
   "execution_count": null,
   "metadata": {},
   "outputs": [],
   "source": [
    "z"
   ]
  },
  {
   "cell_type": "markdown",
   "metadata": {},
   "source": [
    "Las funciones pueden tener mas de una variable de entrada. Por ejemplo, la siguiente funcion recibe dos valores como entrada y solo devuelve el valor del mayor:"
   ]
  },
  {
   "cell_type": "code",
   "execution_count": null,
   "metadata": {},
   "outputs": [],
   "source": [
    "def mayor(x,y):\n",
    "    if x > y:\n",
    "        salida = x\n",
    "    else:\n",
    "        salida = y\n",
    "    return salida"
   ]
  },
  {
   "cell_type": "markdown",
   "metadata": {},
   "source": [
    "Probemos ahora como funciona:"
   ]
  },
  {
   "cell_type": "code",
   "execution_count": null,
   "metadata": {},
   "outputs": [],
   "source": [
    "mayor(3,5)"
   ]
  },
  {
   "cell_type": "code",
   "execution_count": null,
   "metadata": {},
   "outputs": [],
   "source": [
    "mayor(20,11)"
   ]
  },
  {
   "cell_type": "code",
   "execution_count": null,
   "metadata": {},
   "outputs": [],
   "source": [
    "mayor(-10,-30)"
   ]
  },
  {
   "cell_type": "markdown",
   "metadata": {},
   "source": [
    "## Ejercicio 2:\n",
    "\n",
    "Crear una funcion llamada menor que reciba como entrada dos valores y devuelva el valor del menor de los dos"
   ]
  },
  {
   "cell_type": "code",
   "execution_count": null,
   "metadata": {},
   "outputs": [],
   "source": []
  },
  {
   "cell_type": "markdown",
   "metadata": {},
   "source": [
    "Probemos ahora tu funcion:"
   ]
  },
  {
   "cell_type": "code",
   "execution_count": null,
   "metadata": {},
   "outputs": [],
   "source": [
    "menor(3,5)"
   ]
  },
  {
   "cell_type": "code",
   "execution_count": null,
   "metadata": {},
   "outputs": [],
   "source": [
    "menor(20,11)"
   ]
  },
  {
   "cell_type": "code",
   "execution_count": null,
   "metadata": {},
   "outputs": [],
   "source": [
    "menor(-10,-30)"
   ]
  },
  {
   "cell_type": "code",
   "execution_count": null,
   "metadata": {},
   "outputs": [],
   "source": [
    "#@title Solucion Ejercicio 2 {display-mode:\"form\"}\n",
    "\n",
    "def menor(x,y):\n",
    "    if x < y:\n",
    "        salida = x\n",
    "    else:\n",
    "        salida = y\n",
    "    return salida"
   ]
  },
  {
   "cell_type": "markdown",
   "metadata": {},
   "source": [
    "## Como evaluar programas y funciones\n",
    "\n",
    "Como hicimos con nuestra funcion del ejercicio anterior **menor(x,y)** donde probamos tres ejemplos para ver si su resultado es el esperado. Eso haremos de ahora en mas con todas las funciones que creemos y utilizaremos la palabra **assert** para mostrar si el resultado de cada caso de prueba (Test Case en ingles) es correcto o no. "
   ]
  },
  {
   "cell_type": "code",
   "execution_count": null,
   "metadata": {},
   "outputs": [],
   "source": [
    "def menor(x,y):\n",
    "    if x < y:\n",
    "        salida = x\n",
    "    else:\n",
    "        salida = y\n",
    "    return salida"
   ]
  },
  {
   "cell_type": "code",
   "execution_count": null,
   "metadata": {},
   "outputs": [],
   "source": [
    "# No modificar el siguiente codigo\n",
    "# Solo ejecutarlo para saber si la funcion creada pasa todos los tests\n",
    "assert menor(3,5) == 3, \"Error en el Test 1\"\n",
    "assert menor(20,11) == 11, \"Error en el Test 2\"\n",
    "assert menor(-10,-30) == -30, \"Error en el Test 3\"\n",
    "assert menor(15,15) == 15, \"Error en el Test 4\"\n",
    "\"Felicitaciones todos los casos de prueba fueron pasados exitosamente!!\""
   ]
  },
  {
   "cell_type": "markdown",
   "metadata": {},
   "source": [
    "En este caso nuestra funcion ha dado la respuesta correcta en los cuatro casos de prueba y no se observa ningun error. \n",
    "\n",
    "Veamos la siguiente funcion menor que tiene un error:"
   ]
  },
  {
   "cell_type": "code",
   "execution_count": null,
   "metadata": {},
   "outputs": [],
   "source": [
    "def menor(x,y):\n",
    "    salida = 0\n",
    "    if x < y:\n",
    "        salida = x\n",
    "    elif x > y:\n",
    "        salida = y\n",
    "    return salida"
   ]
  },
  {
   "cell_type": "code",
   "execution_count": null,
   "metadata": {},
   "outputs": [],
   "source": [
    "# No modificar el siguiente codigo\n",
    "# Solo ejecutarlo para saber si la funcion creada pasa todos los tests\n",
    "assert menor(3,5) == 3, \"Error en el Test 1\"\n",
    "assert menor(20,11) == 11, \"Error en el Test 2\"\n",
    "assert menor(-10,-30) == -30, \"Error en el Test 3\"\n",
    "assert menor(15,15) == 15, \"Error en el Test 4\"\n",
    "\"Felicitaciones todos los casos de prueba fueron pasados exitosamente!!\""
   ]
  },
  {
   "cell_type": "markdown",
   "metadata": {},
   "source": [
    "Aqui vemos que el Test 4 no funciona como deberia. Si ocurre esto debemos arreglar nuestra funcion para que pase todos los tests."
   ]
  },
  {
   "cell_type": "markdown",
   "metadata": {},
   "source": [
    "## Ejercicio 3:\n",
    "\n",
    "Escribir el contenido de la funcion es_par(x) para que devuelva True como resultado si el numero x ingresado como entrada es par y que devuelva False si el numero x ingresado es impar."
   ]
  },
  {
   "cell_type": "code",
   "execution_count": null,
   "metadata": {},
   "outputs": [],
   "source": [
    "def es_par(x):\n",
    "    #Escribe a continuacion el contenido de la funcion"
   ]
  },
  {
   "cell_type": "markdown",
   "metadata": {},
   "source": [
    "Ahora ejecuta el siguiente codigo para ver si tu solucion pasa todos los casos de uso correctamente:"
   ]
  },
  {
   "cell_type": "code",
   "execution_count": null,
   "metadata": {},
   "outputs": [],
   "source": [
    "# No modificar el siguiente codigo\n",
    "# Solo ejecutarlo para saber si la funcion creada pasa todos los tests\n",
    "assert es_par(1) == False, \"Error en el Test 1\"\n",
    "assert es_par(2) == True, \"Error en el Test 2\"\n",
    "assert es_par(11) == False, \"Error en el Test 3\"\n",
    "assert es_par(10004) == True, \"Error en el Test 4\"\n",
    "\"Felicitaciones todos los casos de prueba fueron pasados exitosamente!!\""
   ]
  },
  {
   "cell_type": "code",
   "execution_count": null,
   "metadata": {},
   "outputs": [],
   "source": [
    "#@title Solucion Ejercicio 3 {display-mode:\"form\"}\n",
    "\n",
    "def es_par(x):\n",
    "    salida = False\n",
    "    if x%2 == 0:\n",
    "        salida = True\n",
    "    return salida"
   ]
  },
  {
   "cell_type": "markdown",
   "metadata": {},
   "source": [
    "# Fin: [Volver al contenido del curso](https://www.freecodingtour.com/cursos/espanol/programacion/programacion.html)"
   ]
  }
 ],
 "metadata": {
  "colab": {
   "authorship_tag": "ABX9TyNJES05cvSsblmdLrrHWrVt",
   "provenance": []
  },
  "kernelspec": {
   "display_name": "Python 3 (ipykernel)",
   "language": "python",
   "name": "python3"
  },
  "language_info": {
   "codemirror_mode": {
    "name": "ipython",
    "version": 3
   },
   "file_extension": ".py",
   "mimetype": "text/x-python",
   "name": "python",
   "nbconvert_exporter": "python",
   "pygments_lexer": "ipython3",
   "version": "3.9.7"
  }
 },
 "nbformat": 4,
 "nbformat_minor": 4
}
