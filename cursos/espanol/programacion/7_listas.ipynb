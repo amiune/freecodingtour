{
 "cells": [
  {
   "cell_type": "markdown",
   "id": "6901dc39-9dc0-4725-bb3b-5352e4f72dcd",
   "metadata": {},
   "source": [
    "# Muchas variables con un solo nombre"
   ]
  },
  {
   "cell_type": "markdown",
   "id": "8aba8d87-2aaf-4c44-9efb-5a3fa4ea3b8c",
   "metadata": {},
   "source": [
    "Es muy util tener muchas variables con un solo nombre. Supongamos que queremos guardar los precios de tres articulos que compramos en el supermercado. Necesitaremos crear tres variables de la siguiente manera:"
   ]
  },
  {
   "cell_type": "code",
   "execution_count": null,
   "id": "d513ef9f-e0d7-428a-9c75-9437cfad6a51",
   "metadata": {},
   "outputs": [],
   "source": [
    "precio_articulo1 = 3.4\n",
    "precio_articulo2 = 2.1\n",
    "precio_articulo3 = 1.8"
   ]
  },
  {
   "cell_type": "markdown",
   "id": "7f430f7d-5c80-499d-82de-520486c359eb",
   "metadata": {},
   "source": [
    "Que pasaria ahora si quisieramos guardar 100 articulos? Deberiamos escribir 100 nombres distintos para 100 variables distintas. Seria mucho mejor utilizar una sola variable llamada precio_articulos que nos permita guardar todo. Python nos permite hacer esto mediante las variables de tipo lista que se crean utilizando corchetes []:"
   ]
  },
  {
   "cell_type": "code",
   "execution_count": null,
   "id": "661c5d59-d390-4bdb-8dfd-d028d43b6baf",
   "metadata": {},
   "outputs": [],
   "source": [
    "precio_articulos = [3.4, 2.1, 1.8]"
   ]
  },
  {
   "cell_type": "code",
   "execution_count": null,
   "id": "54b5672f-bc78-4e87-a4f9-92429994a246",
   "metadata": {},
   "outputs": [],
   "source": [
    "print(precio_articulos)"
   ]
  },
  {
   "cell_type": "markdown",
   "id": "e0808a58-137e-437c-af60-57db249acdc9",
   "metadata": {},
   "source": [
    "Y podemos acceder a sus valores individuales utilizando los corchetes y la posicion, siempre la primera posicion es la cero:"
   ]
  },
  {
   "cell_type": "code",
   "execution_count": null,
   "id": "94a23a34-1ad4-490f-8d3a-f18202af2326",
   "metadata": {},
   "outputs": [],
   "source": [
    "precio_articulos[0]"
   ]
  },
  {
   "cell_type": "code",
   "execution_count": null,
   "id": "b37c2e72-6688-47d6-bb45-99f20a657389",
   "metadata": {},
   "outputs": [],
   "source": [
    "precio_articulos[1]"
   ]
  },
  {
   "cell_type": "code",
   "execution_count": null,
   "id": "d06e4ea4-7025-4f1f-b91b-7dc3600a7a3d",
   "metadata": {},
   "outputs": [],
   "source": [
    "precio_articulos[2]"
   ]
  },
  {
   "cell_type": "markdown",
   "id": "b187dbc8-8ab6-43c6-b6a2-55508d8a1e3d",
   "metadata": {},
   "source": [
    "IMPORTANTE!: siempre la primera posicion es la [0] cero\n",
    "\n",
    "IMPORTANTE!: siempre la ultima posicion es el numero de elementos menos 1. En este caso 3-1 = 2"
   ]
  },
  {
   "cell_type": "markdown",
   "id": "e4958767-78a0-4c29-b8a3-6fe9d4c85f2b",
   "metadata": {},
   "source": [
    "De la misma forma podemos cambiar el valor de uno de sus elementos:"
   ]
  },
  {
   "cell_type": "code",
   "execution_count": null,
   "id": "f63e93d9-4542-4b63-b12b-20d052f72256",
   "metadata": {},
   "outputs": [],
   "source": [
    "precio_articulos[1] = 10.4"
   ]
  },
  {
   "cell_type": "code",
   "execution_count": null,
   "id": "7fe7e971-6eec-40fa-a575-76479cb53276",
   "metadata": {},
   "outputs": [],
   "source": [
    "print(precio_articulos)"
   ]
  },
  {
   "cell_type": "markdown",
   "id": "6106ba97-0f19-4f3b-92d6-7166da0f31af",
   "metadata": {},
   "source": [
    "Para agregar elementos a una lista utilizaremos la funcion incorporada .append() que poseen las listas:"
   ]
  },
  {
   "cell_type": "code",
   "execution_count": null,
   "id": "7c87e298-8272-4063-b852-9344f5869a97",
   "metadata": {},
   "outputs": [],
   "source": [
    "precio_articulos.append(0.55)"
   ]
  },
  {
   "cell_type": "code",
   "execution_count": null,
   "id": "24bdbbaf-b4db-49d8-95e0-c7160fbe229b",
   "metadata": {},
   "outputs": [],
   "source": [
    "print(precio_articulos)"
   ]
  },
  {
   "cell_type": "markdown",
   "id": "78e617f2-97b4-4c59-b899-4bbd9caf085c",
   "metadata": {},
   "source": [
    "La funcion len() me dira cuantos valores hay en una lista:"
   ]
  },
  {
   "cell_type": "code",
   "execution_count": null,
   "id": "f9c4500d-4319-474c-9a28-6203f3340cb9",
   "metadata": {},
   "outputs": [],
   "source": [
    "len(precio_articulos)"
   ]
  },
  {
   "cell_type": "markdown",
   "id": "92c05c27-024d-40c1-a612-22d3ae8fcad4",
   "metadata": {},
   "source": [
    "#### Errores: \n",
    "\n",
    "Si intentamos acceder a una posicion mayor al numero de elementos en la lista veremos un error llamado \"index out of range\" que quiere decir que la posicion a la que intentamos acceder esta fuera de rango, es decir, no existe:"
   ]
  },
  {
   "cell_type": "code",
   "execution_count": null,
   "id": "9629f778-2cf9-4355-8444-dba9945ccc3c",
   "metadata": {},
   "outputs": [],
   "source": [
    "precio_articulos[7]"
   ]
  },
  {
   "cell_type": "markdown",
   "id": "50318ff6-2222-4f55-ab41-4a25b0edc46a",
   "metadata": {},
   "source": [
    "### Ejercicio 1:\n",
    "\n",
    "Utiliza los corchetes y la funcion print() para mostrar el valor del elemento que se encuentra en la posicion 3 (empezando a contar siempre desde la posicion cero)"
   ]
  },
  {
   "cell_type": "code",
   "execution_count": null,
   "id": "59013a72-d605-48a0-a389-b7603a38c1f5",
   "metadata": {},
   "outputs": [],
   "source": [
    "# Escribir aqui la solucion\n",
    "\n"
   ]
  },
  {
   "cell_type": "code",
   "execution_count": null,
   "id": "0b30016c-e8a2-49d9-b904-7d770b2be3a7",
   "metadata": {},
   "outputs": [],
   "source": [
    "#@title Solucion Ejercicio 1 {display-mode:\"form\"}\n",
    "\n",
    "print(precio_articulos[3])"
   ]
  },
  {
   "cell_type": "markdown",
   "id": "94e7aafe-d54d-4b95-8092-bd08c899067d",
   "metadata": {},
   "source": [
    "## Lista Vacia\n",
    "\n",
    "Podemos crear una lista vacia (sin elementos)"
   ]
  },
  {
   "cell_type": "code",
   "execution_count": null,
   "id": "c582d14e-3dd5-4948-ba7a-24347aad26aa",
   "metadata": {},
   "outputs": [],
   "source": [
    "mi_lista = []\n",
    "print(mi_lista)"
   ]
  },
  {
   "cell_type": "code",
   "execution_count": null,
   "id": "6dd2c95e-019a-4574-b477-780f769a4219",
   "metadata": {},
   "outputs": [],
   "source": [
    "len(mi_lista)"
   ]
  },
  {
   "cell_type": "markdown",
   "id": "4151a8c0-e31f-436e-8507-0db48aa78f16",
   "metadata": {},
   "source": [
    "Muchas veces sera util crear una lista vacia y luego ir agregando elementos a traves de la funcion append()"
   ]
  },
  {
   "cell_type": "code",
   "execution_count": null,
   "id": "09bb78fa-757e-4ddf-872a-42db3d12e4ff",
   "metadata": {},
   "outputs": [],
   "source": [
    "mi_lista.append(10)\n",
    "mi_lista.append(20)\n",
    "print(mi_lista)\n",
    "print(len(mi_lista))"
   ]
  },
  {
   "cell_type": "markdown",
   "id": "9f89b817-92e2-45fe-b75e-7e78304661c3",
   "metadata": {},
   "source": [
    "### Ejercicio 2:\n",
    "\n",
    "Crear una lista vacia y luego agregarle siguientes valores de tipo string: \"ave\",\"mamifero\",\"reptil\""
   ]
  },
  {
   "cell_type": "code",
   "execution_count": null,
   "id": "dc272871-7b38-4c54-902e-9167d539166a",
   "metadata": {},
   "outputs": [],
   "source": [
    "# Escribir aqui la solucion\n",
    "\n"
   ]
  },
  {
   "cell_type": "code",
   "execution_count": null,
   "id": "9c7df4f7-e3f3-45bf-8e4a-75ea1ad06324",
   "metadata": {},
   "outputs": [],
   "source": [
    "#@title Solucion Ejercicio 2 {display-mode:\"form\"}\n",
    "\n",
    "lista = []\n",
    "lista.append(\"ave\")\n",
    "lista.append(\"mamifero\")\n",
    "lista.append(\"reptil\")"
   ]
  },
  {
   "cell_type": "markdown",
   "id": "320be131-53b4-47df-b319-a76ede42031c",
   "metadata": {},
   "source": [
    "### Ejercicio 2.1:\n",
    "\n",
    "Utiliza los corchetes y el numero de la posicion para mostrar el valor que se encuentra en la ultima posicion. El resultado mostrado deberia ser \"reptil\""
   ]
  },
  {
   "cell_type": "code",
   "execution_count": null,
   "id": "ac99f26a-37de-4576-b185-acaceded713b",
   "metadata": {},
   "outputs": [],
   "source": [
    "# Escribir aqui la solucion\n",
    "\n"
   ]
  },
  {
   "cell_type": "code",
   "execution_count": null,
   "id": "f899f757-ceec-47ba-84b7-e43b8b294b5b",
   "metadata": {},
   "outputs": [],
   "source": [
    "#@title Solucion Ejercicio 2.1 {display-mode:\"form\"}\n",
    "\n",
    "print(lista[2])"
   ]
  },
  {
   "cell_type": "markdown",
   "id": "c6acb035-3b4f-4d38-8891-d228e3f99951",
   "metadata": {},
   "source": [
    "### Ejercicio 2.2:\n",
    "\n",
    "Utiliza los corchetes y el numero de la posicion para cambiar el valor de la posicion 1 que es \"mamifero\" por \"marsupial\" y luego utilizar print para mostrar todos los valores de la lista. El resultado mostrado deberia ser ['ave', 'marsupial', 'reptil']"
   ]
  },
  {
   "cell_type": "code",
   "execution_count": null,
   "id": "f2f00be3-8167-4f32-aa36-a585ca69b4cb",
   "metadata": {},
   "outputs": [],
   "source": [
    "# Escribir aqui la solucion\n",
    "\n"
   ]
  },
  {
   "cell_type": "code",
   "execution_count": null,
   "id": "44b3fbfa-7d8b-4e4f-b223-4158643eb2a2",
   "metadata": {},
   "outputs": [],
   "source": [
    "#@title Solucion Ejercicio 2.2 {display-mode:\"form\"}\n",
    "\n",
    "lista[1] = \"marsupial\"\n",
    "print(lista)"
   ]
  },
  {
   "cell_type": "markdown",
   "id": "52e1c5cb-8123-459c-afd6-cf09de0e21a7",
   "metadata": {},
   "source": [
    "## Creando listas con la funcion range()"
   ]
  },
  {
   "cell_type": "markdown",
   "id": "c3fbefdb-ff9e-4e7a-b4c8-c007c442c13e",
   "metadata": {},
   "source": [
    "La funcion range() me permite crear listas con numeros enteros. Veamos un ejemplo:"
   ]
  },
  {
   "cell_type": "code",
   "execution_count": null,
   "id": "4a3e2770-db05-4221-96db-cb41090b6f6c",
   "metadata": {},
   "outputs": [],
   "source": [
    "range(10)"
   ]
  },
  {
   "cell_type": "markdown",
   "id": "b3840d8e-7a6e-4d7e-8eb6-22dda7a39fc2",
   "metadata": {},
   "source": [
    "Como el resultado de la funcion range() no es una lista podemos usar la funcion list() para ver la lista generada:"
   ]
  },
  {
   "cell_type": "code",
   "execution_count": null,
   "id": "adf094f7-f127-4dfa-8864-eed1e975b461",
   "metadata": {},
   "outputs": [],
   "source": [
    "list(range(10))"
   ]
  },
  {
   "cell_type": "markdown",
   "id": "9774208b-03a7-4872-8658-827a1c887976",
   "metadata": {},
   "source": [
    "Vemos que la funcion range(10) me genera una lista de elementos empezando por el 0 (cero) y luego incrementando de a uno hasta que llega al 10. Ahi se detiene y no incluye este ultimo elemento en la lista"
   ]
  },
  {
   "cell_type": "markdown",
   "id": "7502dc6d-f733-46fb-ab17-be3f757488d9",
   "metadata": {},
   "source": [
    "### Ejercicio 3\n",
    "\n",
    "Usar la funcion range() para crear una lista con los numeros del 0 al 20 (el 20 incluido)"
   ]
  },
  {
   "cell_type": "code",
   "execution_count": null,
   "id": "44133717-417b-4daf-bea1-f36432eb5bcb",
   "metadata": {},
   "outputs": [],
   "source": [
    "# Escribir aqui la solucion\n",
    "\n"
   ]
  },
  {
   "cell_type": "code",
   "execution_count": null,
   "id": "aeca849b-0bc1-413d-bcf7-f9f713fd07cd",
   "metadata": {},
   "outputs": [],
   "source": [
    "#@title Solucion Ejercicio 3 {display-mode:\"form\"}\n",
    "\n",
    "list(range(21))"
   ]
  },
  {
   "cell_type": "markdown",
   "id": "3b2efbec-f833-4bdd-9f62-61c2ee383102",
   "metadata": {},
   "source": [
    "### Funcion range(inicio, fin) con inicio y fin excluido\n",
    "\n",
    "Veamos que pasa ahora si le pasamos dos valores a la funcion range(). Un valor de inicio y otro de fin:"
   ]
  },
  {
   "cell_type": "code",
   "execution_count": null,
   "id": "09c8e489-9e2b-493a-9029-408927e3238f",
   "metadata": {},
   "outputs": [],
   "source": [
    "list(range(5,10))"
   ]
  },
  {
   "cell_type": "markdown",
   "id": "49f766ae-2302-44b9-883c-9789636e967e",
   "metadata": {},
   "source": [
    "En este caso empieza a generar numeros desde 5 e incrementa de a uno hasta llegar a 10 pero el 10 no lo incluya"
   ]
  },
  {
   "cell_type": "markdown",
   "id": "bc8c1df7-73b4-452e-910f-7fe007015720",
   "metadata": {},
   "source": [
    "### Ejercicio 4\n",
    "\n",
    "Usar la funcion range() para crear una lista con los numeros del 12 al 22 (el 22 incluido)"
   ]
  },
  {
   "cell_type": "code",
   "execution_count": null,
   "id": "eca9ace8-2e29-4078-a56d-aa1f1f0463f1",
   "metadata": {},
   "outputs": [],
   "source": [
    "# Escribir aqui la solucion\n",
    "\n"
   ]
  },
  {
   "cell_type": "code",
   "execution_count": null,
   "id": "6aef6f87-2374-4bed-8793-bf07651d79ec",
   "metadata": {},
   "outputs": [],
   "source": [
    "#@title Solucion Ejercicio 4 {display-mode:\"form\"}\n",
    "\n",
    "list(range(12,23))"
   ]
  },
  {
   "cell_type": "markdown",
   "id": "13ca79ee-8d9b-428c-8d2a-3c1bba22a37a",
   "metadata": {},
   "source": [
    "### Funcion renge con tres valores: range(inicio, fin, incremento_o_decremento) \n",
    "\n",
    "Veamos que pasa ahora si le pasamos tres valores a la funcion range(). Un valor de inicio y otro de fin y otro que especifica cuanto sumar o restar a cada paso:"
   ]
  },
  {
   "cell_type": "code",
   "execution_count": null,
   "id": "6e1a3fbe-b7e9-4425-9464-1e9323a9faf5",
   "metadata": {},
   "outputs": [],
   "source": [
    "list(range(10,100,20))"
   ]
  },
  {
   "cell_type": "markdown",
   "id": "ea6d5c60-c6c8-4b50-82f3-184b8fa4ac65",
   "metadata": {},
   "source": [
    "### Ejercicio 5\n",
    "\n",
    "Usar la funcion range() para crear una lista con los numeros del 100 al 1000 (el 1000 incluido) con intervalos de 150"
   ]
  },
  {
   "cell_type": "code",
   "execution_count": null,
   "id": "3d6bb70b-235a-46a1-ba67-d82c72b82a55",
   "metadata": {},
   "outputs": [],
   "source": [
    "# Escribir aqui la solucion\n",
    "\n"
   ]
  },
  {
   "cell_type": "code",
   "execution_count": null,
   "id": "61f508cb-afed-4265-b5e2-c84fc65e3381",
   "metadata": {},
   "outputs": [],
   "source": [
    "#@title Solucion Ejercicio 5 {display-mode:\"form\"}\n",
    "\n",
    "list(range(100,1001,150))"
   ]
  },
  {
   "cell_type": "markdown",
   "id": "931cd76e-8377-490d-81ce-43e171ed8027",
   "metadata": {},
   "source": [
    "Veamos ahora con un valor negativo para lograr un decremento:"
   ]
  },
  {
   "cell_type": "code",
   "execution_count": null,
   "id": "a0f628f0-8736-4c88-a874-5ed5670becbe",
   "metadata": {},
   "outputs": [],
   "source": [
    "list(range(100,10,-20))"
   ]
  },
  {
   "cell_type": "markdown",
   "id": "62c5aa1b-bb47-4de9-be0f-386d2bb37b16",
   "metadata": {},
   "source": [
    "### Ejercicio 6\n",
    "\n",
    "Usar la funcion range() para crear una lista decreciente con los numeros del 10 al 0 (el 10 y el 0 incluidos)"
   ]
  },
  {
   "cell_type": "code",
   "execution_count": null,
   "id": "01236c78-29ed-4c35-953c-aafdc6af3e01",
   "metadata": {},
   "outputs": [],
   "source": [
    "# Escribir aqui la solucion\n",
    "\n"
   ]
  },
  {
   "cell_type": "code",
   "execution_count": null,
   "id": "a0b32f6a-deda-44e5-a050-63aa137ddaea",
   "metadata": {},
   "outputs": [],
   "source": [
    "#@title Solucion Ejercicio 6 {display-mode:\"form\"}\n",
    "\n",
    "list(range(10,-1,-1))"
   ]
  },
  {
   "cell_type": "markdown",
   "id": "ab56134a-19bc-4fbb-bfc0-585be46d7283",
   "metadata": {},
   "source": [
    "# Fin: [Volver al contenido del curso](https://www.freecodingtour.com/cursos/espanol/programacion/programacion.html)"
   ]
  }
 ],
 "metadata": {
  "kernelspec": {
   "display_name": "Python 3 (ipykernel)",
   "language": "python",
   "name": "python3"
  },
  "language_info": {
   "codemirror_mode": {
    "name": "ipython",
    "version": 3
   },
   "file_extension": ".py",
   "mimetype": "text/x-python",
   "name": "python",
   "nbconvert_exporter": "python",
   "pygments_lexer": "ipython3",
   "version": "3.9.7"
  }
 },
 "nbformat": 4,
 "nbformat_minor": 5
}
