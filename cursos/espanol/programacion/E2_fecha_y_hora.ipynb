{
 "cells": [
  {
   "cell_type": "markdown",
   "id": "dc0afd59-b5ef-46a9-b3a1-124fc31d1140",
   "metadata": {},
   "source": [
    "# Fecha y hora\n",
    "\n",
    "Utilizaremos la libreria datetime para manipular variables de tipo fecha y hora. "
   ]
  },
  {
   "cell_type": "code",
   "execution_count": 2,
   "id": "56124e56-8e8c-4dbf-a7a1-d1cbc6d7ec5b",
   "metadata": {},
   "outputs": [],
   "source": [
    "import datetime"
   ]
  },
  {
   "cell_type": "markdown",
   "id": "92cb0d8c-f94d-4e78-b3e9-dd82ca3111f8",
   "metadata": {},
   "source": [
    "## Inicializar una variable de tipo fecha y hora\n",
    "\n",
    "Cuando inicializamos una variable de tipo datetime debemos pasarle como minimo el año, el mes y el dia en ese orden. Adicionalmente podemos pasarle tambien horas, minutos y segundos."
   ]
  },
  {
   "cell_type": "code",
   "execution_count": 13,
   "id": "8a418ba6-5ec6-473f-a216-15863834c419",
   "metadata": {},
   "outputs": [
    {
     "data": {
      "text/plain": [
       "datetime.datetime(2050, 6, 1, 0, 0)"
      ]
     },
     "execution_count": 13,
     "metadata": {},
     "output_type": "execute_result"
    }
   ],
   "source": [
    "datetime.datetime(2050, 6, 1)"
   ]
  },
  {
   "cell_type": "markdown",
   "id": "3b9b9223-db26-496d-9c4c-d8124210d7cc",
   "metadata": {},
   "source": [
    "## Obtener la fecha y hora actual\n",
    "\n",
    "La funcion now() nos permite obtener la fecha y hora actual"
   ]
  },
  {
   "cell_type": "code",
   "execution_count": 14,
   "id": "9604972e-9e72-48e5-915f-550b482c839d",
   "metadata": {},
   "outputs": [
    {
     "data": {
      "text/plain": [
       "datetime.datetime(2023, 8, 30, 11, 15, 34, 176298)"
      ]
     },
     "execution_count": 14,
     "metadata": {},
     "output_type": "execute_result"
    }
   ],
   "source": [
    "datetime.datetime.now()"
   ]
  },
  {
   "cell_type": "markdown",
   "id": "762570ec-5342-4588-ade0-85f48a3bd575",
   "metadata": {},
   "source": [
    "## El tipo de dato timedelta\n",
    "\n",
    "El tipo de dato timedelta nos permite manipular diferencias entres fechas. Con este tipo de dato podemos adicionar o restar un periodo de tiempo a una fecha."
   ]
  },
  {
   "cell_type": "code",
   "execution_count": 12,
   "id": "f62764ce-dc15-4328-a18d-c6aff8f77ea2",
   "metadata": {},
   "outputs": [
    {
     "data": {
      "text/plain": [
       "datetime.timedelta(days=10, seconds=310)"
      ]
     },
     "execution_count": 12,
     "metadata": {},
     "output_type": "execute_result"
    }
   ],
   "source": [
    "datetime.timedelta(days=10, minutes=5, seconds=10)"
   ]
  },
  {
   "cell_type": "markdown",
   "id": "7421238f-2132-424b-aabb-22cc8f8fdd55",
   "metadata": {},
   "source": [
    "Veamos como adicionarle 10 dias 5 minutos y 10 segundos a la fecha del dia de hoy:"
   ]
  },
  {
   "cell_type": "code",
   "execution_count": 15,
   "id": "c0e9d4c6-0b30-4030-a2e7-c1f0f72a78eb",
   "metadata": {},
   "outputs": [
    {
     "data": {
      "text/plain": [
       "datetime.datetime(2023, 9, 9, 11, 21, 15, 300594)"
      ]
     },
     "execution_count": 15,
     "metadata": {},
     "output_type": "execute_result"
    }
   ],
   "source": [
    "diferencia = datetime.timedelta(days=10, minutes=5, seconds=10)\n",
    "hoy = datetime.datetime.now()\n",
    "hoy + diferencia"
   ]
  },
  {
   "cell_type": "markdown",
   "id": "938b8333-3781-4232-bf43-0eb476b3d28d",
   "metadata": {},
   "source": [
    "## Convertir un texto a una fecha\n",
    "\n",
    "La funcion strptime nos permite convertir un texto a una variable de tipo datetime pudiendo especificar el formato en que la fecha y la hora se encuentran en dicho texto. Para ello utilizaremos los siguientes caracteres:\n",
    "- %Y para el año de cuatro digitos\n",
    "- %m para el mes de dos digitos\n",
    "- %d para el dia de dos digitos\n",
    "- %H para la hora de dos digitos\n",
    "- %M para los minutos de dos digitos\n",
    "- %S para los segundos de dos digitos"
   ]
  },
  {
   "cell_type": "code",
   "execution_count": 14,
   "id": "a1bb3bad-8add-4af2-b4e2-2f2384702495",
   "metadata": {},
   "outputs": [
    {
     "data": {
      "text/plain": [
       "datetime.datetime(2000, 10, 5, 11, 10, 9)"
      ]
     },
     "execution_count": 14,
     "metadata": {},
     "output_type": "execute_result"
    }
   ],
   "source": [
    "datetime.datetime.strptime(\"2000-10-05 11:10:09\", '%Y-%m-%d %H:%M:%S')"
   ]
  },
  {
   "cell_type": "markdown",
   "id": "8f78d02b-f13c-4a70-a65c-bed3599de8b9",
   "metadata": {},
   "source": [
    "# Fin: [Volver al contenido del curso](https://www.freecodingtour.com/cursos/espanol/programacion/programacion.html)"
   ]
  }
 ],
 "metadata": {
  "kernelspec": {
   "display_name": "Python 3 (ipykernel)",
   "language": "python",
   "name": "python3"
  },
  "language_info": {
   "codemirror_mode": {
    "name": "ipython",
    "version": 3
   },
   "file_extension": ".py",
   "mimetype": "text/x-python",
   "name": "python",
   "nbconvert_exporter": "python",
   "pygments_lexer": "ipython3",
   "version": "3.9.7"
  }
 },
 "nbformat": 4,
 "nbformat_minor": 5
}
