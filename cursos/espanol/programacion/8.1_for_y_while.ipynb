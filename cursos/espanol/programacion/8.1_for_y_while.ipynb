{
 "cells": [
  {
   "cell_type": "markdown",
   "id": "4fd8851e-8615-492f-ad9b-89b33e6d26e6",
   "metadata": {},
   "source": [
    "# Todo lo que hago con un for lo puedo hacer con un while\n",
    "\n",
    "Todo lo que puedo hacer con un bucle for lo puedo hacer con un bucle while pero al reves no es verdad. Algunos bucles while no pueden ser reemplazados por un bucle for. \n",
    "\n",
    "Aun asi siempre que sea posible utilizaremos un bucle for porque hace mas facil de entender el codigo y evita que entremos en lo que se llaman bucles infinitos, es decir, bucles que no terminan nunca."
   ]
  },
  {
   "cell_type": "markdown",
   "id": "ed174f15-5bee-4b94-a9b7-b9ec8739e9ad",
   "metadata": {},
   "source": [
    "### Resolvamos con while los ejercicios que resolvimos con for"
   ]
  },
  {
   "cell_type": "markdown",
   "id": "aaf21ba0-c307-4a97-af88-b51c7111f713",
   "metadata": {},
   "source": [
    "### Ejemplo:\n",
    "\n",
    "Utilizar while para sumar todos los elementos de mi_lista. El resultado debe ser 1 + 2 + 3 + 4 + 5 = 15"
   ]
  },
  {
   "cell_type": "markdown",
   "id": "857c0784-d76d-46a0-8fa1-c5e1f5c09060",
   "metadata": {},
   "source": [
    "#### Nuestra solucion con for fue la siguiente:"
   ]
  },
  {
   "cell_type": "code",
   "execution_count": 1,
   "id": "2a86f57b-a3ec-4e12-bbf9-06c12ab0effb",
   "metadata": {},
   "outputs": [
    {
     "name": "stdout",
     "output_type": "stream",
     "text": [
      "15\n"
     ]
    }
   ],
   "source": [
    "mi_lista = [1,2,3,4,5]\n",
    "suma_total = 0\n",
    "for elemento in mi_lista:\n",
    "    suma_total = suma_total + elemento\n",
    "print(suma_total)"
   ]
  },
  {
   "cell_type": "markdown",
   "id": "922502c1-5019-49ec-8352-4216989916e6",
   "metadata": {},
   "source": [
    "#### La solucion con while se puede lograr de la siguiente manera:"
   ]
  },
  {
   "cell_type": "code",
   "execution_count": 3,
   "id": "fa2c48e1-35d5-43b5-a7ba-130cd10983b7",
   "metadata": {},
   "outputs": [
    {
     "name": "stdout",
     "output_type": "stream",
     "text": [
      "15\n"
     ]
    }
   ],
   "source": [
    "# Aqui lo resolvemos utlizando while y un indice i \n",
    "mi_lista = [1,2,3,4,5]\n",
    "suma_total = 0\n",
    "# inicializamos el indice i en la posicion cero de la lista\n",
    "i = 0\n",
    "# mientras el indice i sea menor a la cantidad de elementos de la lista\n",
    "while i < len(mi_lista):\n",
    "    # sumamos el elemento que esta en la posicion i\n",
    "    suma_total = suma_total + mi_lista[i]\n",
    "    # en cada paso incrementamos i para acceder al siguiente elemento\n",
    "    i = i + 1 \n",
    "print(suma_total)"
   ]
  },
  {
   "cell_type": "markdown",
   "id": "1848aa89-a47c-4393-a10e-73037f7ab2e0",
   "metadata": {},
   "source": [
    "Presta atencion al uso del indice i. Si entiendes bien esta solucion deberas implementar el mismo patron para resolver los siguientes ejercicios:"
   ]
  },
  {
   "cell_type": "markdown",
   "id": "d5c55aa7-bb5c-4a69-addd-e5045cb3026b",
   "metadata": {},
   "source": [
    "### Ejercicio 1:\n",
    "\n",
    "Crear una funcion multiplicar_elementos(lista) que multiplique todos los elementos de lista y que devuelva el resultado de dicha multiplicacion. La lista siempre tendra al menos un elemento."
   ]
  },
  {
   "cell_type": "code",
   "execution_count": null,
   "id": "2047f5cf-c6e8-4335-b632-d20161abbbc5",
   "metadata": {},
   "outputs": [],
   "source": [
    "def multiplicar_elementos(lista):\n",
    "    # Escribir aqui la solucion\n",
    "    \n",
    "    "
   ]
  },
  {
   "cell_type": "code",
   "execution_count": 15,
   "id": "4fbf2a0a-1d95-4013-bed2-c14a06dd8847",
   "metadata": {},
   "outputs": [
    {
     "data": {
      "text/plain": [
       "'Felicitaciones todos los casos de prueba fueron pasados exitosamente!!'"
      ]
     },
     "execution_count": 15,
     "metadata": {},
     "output_type": "execute_result"
    }
   ],
   "source": [
    "# No modificar el siguiente codigo\n",
    "# Solo ejecutarlo para saber si la funcion creada pasa todos los tests\n",
    "assert multiplicar_elementos([-1,-3,4,-2,7,10,9]) == -15120, \"Error en el Test 1\"\n",
    "assert multiplicar_elementos([-10,-9,-8,-7]) == 5040, \"Error en el Test 2\"\n",
    "assert multiplicar_elementos([0]) == 0, \"Error en el Test 3\"\n",
    "assert multiplicar_elementos([1,2,3,4,5]) == 120, \"Error en el Test 4\"\n",
    "\"Felicitaciones todos los casos de prueba fueron pasados exitosamente!!\""
   ]
  },
  {
   "cell_type": "code",
   "execution_count": 14,
   "id": "2ed6f44a-3be9-4ab5-909f-4b20fa44cae8",
   "metadata": {},
   "outputs": [],
   "source": [
    "#@title Solucion Ejercicio 1 {display-mode:\"form\"}\n",
    "\n",
    "def multiplicar_elementos(lista):\n",
    "    resultado = 1\n",
    "    i=0\n",
    "    while i < len(lista):\n",
    "        resultado = resultado * lista[i]\n",
    "        i = i+1\n",
    "    return resultado"
   ]
  },
  {
   "cell_type": "markdown",
   "id": "62b410a4-3e53-48d1-aae8-1722bd13f9cf",
   "metadata": {},
   "source": [
    "### Ejercicio 2:\n",
    "\n",
    "Crear una funcion contar_positivos(lista) que utilice un while para contar cuantos elementos de una lista son positivos y que devuelva dicho numero. Ayuda: utilizar un if adentro del while."
   ]
  },
  {
   "cell_type": "code",
   "execution_count": null,
   "id": "50c7418a-c15c-4a91-bb50-9b0100d3495f",
   "metadata": {},
   "outputs": [],
   "source": [
    "def contar_positivos(lista):\n",
    "    # Escribir aqui la solucion\n",
    "    \n",
    "    "
   ]
  },
  {
   "cell_type": "code",
   "execution_count": 6,
   "id": "0f4a414a-d917-4d8f-a676-06628e1f51e4",
   "metadata": {},
   "outputs": [
    {
     "data": {
      "text/plain": [
       "'Felicitaciones todos los casos de prueba fueron pasados exitosamente!!'"
      ]
     },
     "execution_count": 6,
     "metadata": {},
     "output_type": "execute_result"
    }
   ],
   "source": [
    "# No modificar el siguiente codigo\n",
    "# Solo ejecutarlo para saber si la funcion creada pasa todos los tests\n",
    "assert contar_positivos([1,-3,4,-2,7,10,9]) == 5, \"Error en el Test 1\"\n",
    "assert contar_positivos([-10,-9,-8,-7]) == 0, \"Error en el Test 2\"\n",
    "assert contar_positivos([]) == 0, \"Error en el Test 3\"\n",
    "assert contar_positivos([1,2,3,4,5]) == 5, \"Error en el Test 4\"\n",
    "\"Felicitaciones todos los casos de prueba fueron pasados exitosamente!!\""
   ]
  },
  {
   "cell_type": "code",
   "execution_count": 5,
   "id": "2a1cbfa8-9220-4e58-ade0-2b3d9aa5ae4c",
   "metadata": {},
   "outputs": [],
   "source": [
    "#@title Solucion Ejercicio 2 {display-mode:\"form\"}\n",
    "\n",
    "def contar_positivos(lista):\n",
    "    contador = 0\n",
    "    i=0\n",
    "    while i < len(lista):\n",
    "        if lista[i] >= 0:\n",
    "            contador = contador + 1\n",
    "        i = i+1\n",
    "    return contador"
   ]
  },
  {
   "cell_type": "markdown",
   "id": "71e9694f-dbc6-41f9-b71c-b01036aa79a5",
   "metadata": {},
   "source": [
    "### Ejercicio 3:\n",
    "\n",
    "Crear una funcion llamada contar_pares(lista) que utilice un while para contar cuantos elementos de una lista son pares y que devuelva dicho numero. Ayuda: este ejercicio es muy similar al anterior"
   ]
  },
  {
   "cell_type": "code",
   "execution_count": null,
   "id": "2a6cdd9f-5b64-4aa7-be1b-399d2a33be6e",
   "metadata": {},
   "outputs": [],
   "source": [
    "def contar_pares(lista):\n",
    "    # Escribir aqui la solucion\n",
    "    \n",
    "    "
   ]
  },
  {
   "cell_type": "code",
   "execution_count": 23,
   "id": "7ddeb473-c9c6-4356-9b07-13c7b4776e96",
   "metadata": {},
   "outputs": [
    {
     "data": {
      "text/plain": [
       "'Felicitaciones todos los casos de prueba fueron pasados exitosamente!!'"
      ]
     },
     "execution_count": 23,
     "metadata": {},
     "output_type": "execute_result"
    }
   ],
   "source": [
    "# No modificar el siguiente codigo\n",
    "# Solo ejecutarlo para saber si la funcion creada pasa todos los tests\n",
    "assert contar_pares([2,4,6,8,10]) == 5, \"Error en el Test 1\"\n",
    "assert contar_pares([1,3,5,7,9]) == 0, \"Error en el Test 2\"\n",
    "assert contar_pares([]) == 0, \"Error en el Test 3\"\n",
    "assert contar_pares([1,2,3,4,5,6,7,8,9,10]) == 5, \"Error en el Test 4\"\n",
    "\"Felicitaciones todos los casos de prueba fueron pasados exitosamente!!\""
   ]
  },
  {
   "cell_type": "code",
   "execution_count": 22,
   "id": "65036ca8-0a5b-44aa-8e5c-30c10e54dac1",
   "metadata": {},
   "outputs": [],
   "source": [
    "#@title Solucion Ejercicio 3 {display-mode:\"form\"}\n",
    "\n",
    "def contar_pares(lista):\n",
    "    contador = 0\n",
    "    i=0\n",
    "    while i < len(lista):\n",
    "        if lista[i] % 2 == 0:\n",
    "            contador = contador + 1\n",
    "        i = i + 1\n",
    "    return contador"
   ]
  },
  {
   "cell_type": "markdown",
   "id": "27e34936-4e30-41d1-87ed-0a5fc5030619",
   "metadata": {},
   "source": [
    "### Ejercicio 4:\n",
    "\n",
    "Crear una funcion sumar_pares(lista) que utilice while para sumar los elementos de una lista que son pares y que devuelva dicha suma. Ayuda: este ejercicio es muy similar al anterior"
   ]
  },
  {
   "cell_type": "code",
   "execution_count": null,
   "id": "c6096cd5-01da-4cb2-8263-5575aecebb3b",
   "metadata": {},
   "outputs": [],
   "source": [
    "def sumar_pares(lista):\n",
    "    # Escribir aqui la solucion\n",
    "    \n",
    "    "
   ]
  },
  {
   "cell_type": "code",
   "execution_count": 25,
   "id": "a0e6e590-eb77-4294-a0aa-5bca83700b21",
   "metadata": {},
   "outputs": [
    {
     "data": {
      "text/plain": [
       "'Felicitaciones todos los casos de prueba fueron pasados exitosamente!!'"
      ]
     },
     "execution_count": 25,
     "metadata": {},
     "output_type": "execute_result"
    }
   ],
   "source": [
    "# No modificar el siguiente codigo\n",
    "# Solo ejecutarlo para saber si la funcion creada pasa todos los tests\n",
    "assert sumar_pares([2,4,6,8,10]) == 30, \"Error en el Test 1\"\n",
    "assert sumar_pares([1,3,5,7,9]) == 0, \"Error en el Test 2\"\n",
    "assert sumar_pares([]) == 0, \"Error en el Test 3\"\n",
    "assert sumar_pares([1,2,3,4,5,6,7,8,9,100]) == 120, \"Error en el Test 4\"\n",
    "\"Felicitaciones todos los casos de prueba fueron pasados exitosamente!!\""
   ]
  },
  {
   "cell_type": "code",
   "execution_count": 24,
   "id": "1faeb850-62fd-49ca-8283-8b0258db3e3e",
   "metadata": {},
   "outputs": [],
   "source": [
    "#@title Solucion Ejercicio 4 {display-mode:\"form\"}\n",
    "\n",
    "def sumar_pares(lista):\n",
    "    suma_total = 0\n",
    "    i=0\n",
    "    while i < len(lista):\n",
    "        if lista[i] % 2 == 0:\n",
    "            suma_total = suma_total + lista[i]\n",
    "        i += 1 # atencion esto es lo mismo que escribir i = i + 1\n",
    "    return suma_total"
   ]
  },
  {
   "cell_type": "markdown",
   "id": "db1749ad-df7d-4365-8713-98c47fccfe3e",
   "metadata": {},
   "source": [
    "Notemos que en esta solucion utilizamos i += 1 que es una forma alternativa y simplificada de escribir i = i + 1. Cualquiera de las dos formas es correcta"
   ]
  },
  {
   "cell_type": "markdown",
   "id": "3c960a91-e2d4-4d0d-beb1-8756280f7c07",
   "metadata": {},
   "source": [
    "# Fin: [Volver al contenido del curso](https://www.freecodingtour.com/cursos/espanol/programacion/programacion.html)"
   ]
  }
 ],
 "metadata": {
  "kernelspec": {
   "display_name": "Python 3 (ipykernel)",
   "language": "python",
   "name": "python3"
  },
  "language_info": {
   "codemirror_mode": {
    "name": "ipython",
    "version": 3
   },
   "file_extension": ".py",
   "mimetype": "text/x-python",
   "name": "python",
   "nbconvert_exporter": "python",
   "pygments_lexer": "ipython3",
   "version": "3.9.7"
  }
 },
 "nbformat": 4,
 "nbformat_minor": 5
}
