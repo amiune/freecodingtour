{
 "cells": [
  {
   "cell_type": "markdown",
   "id": "4fd8851e-8615-492f-ad9b-89b33e6d26e6",
   "metadata": {},
   "source": [
    "# Todo lo que hago con un for lo puedo hacer con un while\n",
    "\n",
    "Todo lo que puedo hacer con un bucle for lo puedo hacer con un bucle while pero al reves no es verdad. Algunos bucles while no pueden ser reemplazados por un bucle for. \n",
    "\n",
    "Aun asi siempre que sea posible utilizaremos un bucle for porque hace mas facil de entender el codigo y evita que entremos en lo que se llaman bucles infinitos, es decir, bucles que no terminan nunca."
   ]
  },
  {
   "cell_type": "code",
   "execution_count": null,
   "id": "0443bc83-ed20-45ef-95d8-edb49a24ec78",
   "metadata": {},
   "outputs": [],
   "source": []
  }
 ],
 "metadata": {
  "kernelspec": {
   "display_name": "Python 3 (ipykernel)",
   "language": "python",
   "name": "python3"
  },
  "language_info": {
   "codemirror_mode": {
    "name": "ipython",
    "version": 3
   },
   "file_extension": ".py",
   "mimetype": "text/x-python",
   "name": "python",
   "nbconvert_exporter": "python",
   "pygments_lexer": "ipython3",
   "version": "3.9.7"
  }
 },
 "nbformat": 4,
 "nbformat_minor": 5
}
