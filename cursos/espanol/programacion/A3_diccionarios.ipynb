{
 "cells": [
  {
   "cell_type": "markdown",
   "id": "a11b3e00-e21b-4dcf-a5de-61f307676248",
   "metadata": {},
   "source": [
    "# Diccionarios\n",
    "\n",
    "Los diccionarios son otra forma de guardar elementos que es muy utilizada. \n",
    "\n",
    "Tanto las listas como los diccionarios son formas de guardar elementos o datos y por ello se las conoce como estructuras de datos y cada una tiene una utilidad especial, ninguna es mejor que otra de por si, cada una sera mas util que otra dependiendo de la tarea a resolver. Hay muchas estructuras de datos diferentes aunque listas y diccionarios son probablemente las mas utilizadas."
   ]
  },
  {
   "cell_type": "markdown",
   "id": "5b4f5433-628e-4b50-b558-ce65a117540d",
   "metadata": {
    "tags": []
   },
   "source": [
    "## Creacion de diccionarios\n",
    "\n",
    "Podemos crear diccionarios utilizando el simbolo {}"
   ]
  },
  {
   "cell_type": "code",
   "execution_count": null,
   "id": "5f223d92-e29b-4b3f-a34b-937f9562712a",
   "metadata": {},
   "outputs": [],
   "source": [
    "diccionario1 = {\"Vacas\":2,\"Cerdos\":3,\"Gallinas\":10}\n",
    "print(diccionario1)"
   ]
  },
  {
   "cell_type": "markdown",
   "id": "e879ce80-4ca5-4f29-85e7-ee320580e75d",
   "metadata": {},
   "source": [
    "A diferencia de las listas, los elementos de los diccionarios no tienen posicion sino que accedemos a ellos a traves de un valor clave (key en ingles). Es decir, accedemos a cada elemento a traves de su nombre:"
   ]
  },
  {
   "cell_type": "code",
   "execution_count": null,
   "id": "75d00e97-d627-4407-bb91-448da0b4a649",
   "metadata": {},
   "outputs": [],
   "source": [
    "diccionario1[\"Cerdos\"]"
   ]
  },
  {
   "cell_type": "markdown",
   "id": "b28ed833-fe7a-47f1-80a3-c2df9290b7ad",
   "metadata": {},
   "source": [
    "#### Como saber si una clave existe en el diccionario\n",
    "\n",
    "Podemos saber si una clave esta en el diccionario utilizando la palabra **in**"
   ]
  },
  {
   "cell_type": "code",
   "execution_count": null,
   "id": "e7027816-ee0d-47d7-ba94-1c0c1f933b2d",
   "metadata": {},
   "outputs": [],
   "source": [
    "\"Vacas\" in diccionario1"
   ]
  },
  {
   "cell_type": "code",
   "execution_count": null,
   "id": "287068ab-04a5-496f-b3ab-d9196d50d7ef",
   "metadata": {},
   "outputs": [],
   "source": [
    "\"Caballos\" in diccionario1"
   ]
  },
  {
   "cell_type": "code",
   "execution_count": null,
   "id": "b72077f3-cacf-42e9-a3d7-b254b058b6d1",
   "metadata": {},
   "outputs": [],
   "source": [
    "# minuscula es distinto de mayuscula\n",
    "\"vacas\" in diccionario1"
   ]
  },
  {
   "cell_type": "markdown",
   "id": "d4a75570-a5cc-48d5-9e0b-484734ea3d9e",
   "metadata": {},
   "source": [
    "#### Tipos de claves y valores\n",
    "\n",
    "Las claves de los diccionarios pueden ser strings como hemos visto recien pero tambien pueden ser numeros enteros, numeros decimales, tuplas y otros objetos. Las listas no pueden usarse como clave. Los valores del diccionario almacenados en cada clave pueden ser de cualquier tipo:"
   ]
  },
  {
   "cell_type": "code",
   "execution_count": null,
   "id": "50b3840c-7f75-493f-8fa1-850ec9baef1c",
   "metadata": {},
   "outputs": [],
   "source": [
    "diccionario2 = {10:[1,2,3],20:\"cool\",30:[3,2,1,0],40:[]}\n",
    "print(diccionario2)\n",
    "print(diccionario2[30])"
   ]
  },
  {
   "cell_type": "code",
   "execution_count": null,
   "id": "8ff1b9bd-812b-46e5-a543-fcd2c7848d6a",
   "metadata": {},
   "outputs": [],
   "source": [
    "diccionario3 = {0.2345:\"x\",0.1209:\"y\",0.1122:\"z\"}\n",
    "print(diccionario3)\n",
    "print(diccionario3[0.1209])"
   ]
  },
  {
   "cell_type": "code",
   "execution_count": null,
   "id": "30989a6c-0341-44df-b3f0-5cfd2ab716e3",
   "metadata": {},
   "outputs": [],
   "source": [
    "diccionario4 = {(\"juana\",28):[0,0,0],(\"pepe\",27):[1,2,1]}\n",
    "print(diccionario4)\n",
    "print(diccionario4[(\"juana\",28)])"
   ]
  },
  {
   "cell_type": "markdown",
   "id": "545c6fb8-4598-4c73-93b8-7d49bc07ab1e",
   "metadata": {},
   "source": [
    "### Ejercicio 1:\n",
    "\n",
    "Crear una funcion **crear_diccionario(l1, l2)** que reciba dos parametros de tipo lista y devuelva un diccionario cuyas claves (keys) estaran dadas por los valores (values) de l1 y los values respectivos estaran dados por los valores de l2\n",
    "\n",
    "Aclaraciones:\n",
    "- l1 y l2 tendran la misma cantidad de valores\n",
    "\n",
    "*Ejemplo de input y output:*\n",
    "\n",
    "*Input: l1=[\"Alicia\",\"Bob\",\"Nicole\"], l2=[33,35,31]*\n",
    "\n",
    "*Output: {\"Alicia\":33,\"Bob\":35,\"Nicole\":31}*"
   ]
  },
  {
   "cell_type": "code",
   "execution_count": null,
   "id": "ebf33c42-ed31-4b14-ad47-bf7e62c9ec50",
   "metadata": {},
   "outputs": [],
   "source": [
    "def crear_diccionario(l1, l2):\n",
    "    # Escribir aqui la solucion\n",
    "    \n",
    "    "
   ]
  },
  {
   "cell_type": "code",
   "execution_count": null,
   "id": "bc385cf7-f04a-4a16-8455-136fcc75fce5",
   "metadata": {},
   "outputs": [],
   "source": [
    "# No modificar el siguiente codigo\n",
    "# Solo ejecutarlo para saber si la funcion creada pasa todos los tests\n",
    "assert crear_diccionario([\"Alicia\",\"Bob\",\"Carla\"],[33,35,31]) == {\"Alicia\":33,\"Bob\":35,\"Carla\":31}, \"Error en el test 1\"\n",
    "assert crear_diccionario([\"a\",\"b\",\"c\",\"d\"],[1,2,3,4]) == {\"a\":1,\"b\":2,\"c\":3,\"d\":4}, \"Error en el test 2\"\n",
    "assert crear_diccionario([\"a\"],[\"z\"]) == {\"a\":\"z\"}, \"Error en el test 3\"\n",
    "assert crear_diccionario([],[]) == {}, \"Error en el test 4\"\n",
    "\"Felicitaciones todos los casos de prueba fueron pasados exitosamente!!\""
   ]
  },
  {
   "cell_type": "code",
   "execution_count": null,
   "id": "ce76db61-423f-4ef8-a1c1-dd425e4ee0d4",
   "metadata": {},
   "outputs": [],
   "source": [
    "#@title Solucion Ejercicio 1 {display-mode:\"form\"}\n",
    "\n",
    "# Solucion 1\n",
    "def crear_diccionario(l1, l2):\n",
    "    new_dict = {}\n",
    "    for i in range(len(l1)):\n",
    "        new_dict[l1[i]] = l2[i]\n",
    "    return new_dict\n",
    "\n",
    "# Solucion 2\n",
    "def crear_diccionario(l1, l2):\n",
    "    new_dict = {}\n",
    "    for k,v in zip(l1,l2):\n",
    "        new_dict[k] = v\n",
    "    return new_dict"
   ]
  },
  {
   "cell_type": "markdown",
   "id": "bf33987d-ae0a-4eb8-9b58-12aa912daba9",
   "metadata": {},
   "source": [
    "### Ejercicio 2:\n",
    "\n",
    "Crear una funcion **key_en_diccionario(d, valor)** que reciba dos parametros, un diccionario y un valor. Devolver True si el valor existe como key en el diccionario o False en caso contrario\n",
    "\n",
    "\n",
    "*Ejemplo de input y output:*\n",
    "\n",
    "*Input: d={\"Alicia\":33,\"Bob\":35,\"Carla\":31}, valor=\"Bob\"*\n",
    "\n",
    "*Output: True*"
   ]
  },
  {
   "cell_type": "code",
   "execution_count": null,
   "id": "6fb94c46-9cf7-43ed-b457-0924be9bb500",
   "metadata": {},
   "outputs": [],
   "source": [
    "def key_en_diccionario(d, valor):\n",
    "    # Escribir aqui la solucion\n",
    "    \n",
    "    "
   ]
  },
  {
   "cell_type": "code",
   "execution_count": null,
   "id": "07ed4041-5577-495c-a834-7ac4639a1a3f",
   "metadata": {},
   "outputs": [],
   "source": [
    "# No modificar el siguiente codigo\n",
    "# Solo ejecutarlo para saber si la funcion creada pasa todos los tests\n",
    "assert key_en_diccionario({\"Alicia\":33,\"Bob\":35,\"Carla\":31},\"Bob\") == True, \"Error en el test 1\"\n",
    "assert key_en_diccionario({\"a\":1,\"b\":2,\"c\":3,\"d\":4}, \"e\") == False, \"Error en el test 2\"\n",
    "assert key_en_diccionario({\"a\":\"z\"},\"a\") == True, \"Error en el test 3\"\n",
    "assert key_en_diccionario({},1) == False, \"Error en el test 4\"\n",
    "\"Felicitaciones todos los casos de prueba fueron pasados exitosamente!!\""
   ]
  },
  {
   "cell_type": "code",
   "execution_count": null,
   "id": "6d9e2a15-5f4e-451c-985f-c4f457d6de6a",
   "metadata": {},
   "outputs": [],
   "source": [
    "#@title Solucion Ejercicio 2 {display-mode:\"form\"}\n",
    "\n",
    "# Solucion 1\n",
    "def key_en_diccionario(d, valor):\n",
    "    if valor in d:\n",
    "        return True\n",
    "    return False\n",
    "\n",
    "# Solucion 2\n",
    "def key_en_diccionario(d, valor):\n",
    "    return valor in d"
   ]
  },
  {
   "cell_type": "markdown",
   "id": "a4947b15-fc26-41bd-aa07-f1f8bcb584ad",
   "metadata": {},
   "source": [
    "#### Si queremos acceder a un elemento cuya clave no existe nos da KeyError"
   ]
  },
  {
   "cell_type": "code",
   "execution_count": null,
   "id": "0bd403ea-38f6-4a5b-afb7-a61573133f83",
   "metadata": {},
   "outputs": [],
   "source": [
    "dic1 = {\"Vacas\":2,\"Cerdos\":3,\"Gallinas\":10}\n",
    "print(dic1[\"Zebras\"])"
   ]
  },
  {
   "cell_type": "markdown",
   "id": "ac5b46c5-0b6a-4210-bab0-8bd740df8e46",
   "metadata": {},
   "source": [
    "#### Modificar elementos"
   ]
  },
  {
   "cell_type": "code",
   "execution_count": null,
   "id": "fc9e025e-8754-4602-bd44-912a7084996f",
   "metadata": {},
   "outputs": [],
   "source": [
    "d = {\"Vacas\":2,\"Cerdos\":3,\"Gallinas\":10}\n",
    "d[\"Vacas\"] = 4\n",
    "print(d)"
   ]
  },
  {
   "cell_type": "markdown",
   "id": "d6ad7c66-27f4-4df7-94c1-6654cd4e2494",
   "metadata": {},
   "source": [
    "#### Agregar elementos"
   ]
  },
  {
   "cell_type": "code",
   "execution_count": null,
   "id": "a0e55077-2024-4fc9-a3b2-f43a8c9662d1",
   "metadata": {},
   "outputs": [],
   "source": [
    "d = {\"Vacas\":2,\"Cerdos\":3,\"Gallinas\":10}\n",
    "d[\"Patos\"] = 5\n",
    "print(d)"
   ]
  },
  {
   "cell_type": "markdown",
   "id": "72e639d0-ab5d-46ee-bb51-dccadfb1f825",
   "metadata": {},
   "source": [
    "#### Eliminar un elemento"
   ]
  },
  {
   "cell_type": "code",
   "execution_count": null,
   "id": "a2e53d6c-d61e-4af3-bed4-ae57bbeb4413",
   "metadata": {},
   "outputs": [],
   "source": [
    "d = {'Vacas': 2, 'Cerdos': 3, 'Gallinas': 10, 'Patos': 5}\n",
    "valor_patos = d.pop(\"Patos\")\n",
    "print(valor_patos)\n",
    "print(d)"
   ]
  },
  {
   "cell_type": "markdown",
   "id": "bc9076fc-a757-4da8-869a-ae9c19e57e1a",
   "metadata": {},
   "source": [
    "#### Usar un for para recorrer todos los elementos"
   ]
  },
  {
   "cell_type": "code",
   "execution_count": null,
   "id": "22e2601e-0241-4e7b-8f78-38a9d53059d8",
   "metadata": {},
   "outputs": [],
   "source": [
    "d = {\"Vacas\":2,\"Cerdos\":3,\"Gallinas\":10}\n",
    "for clave in d:\n",
    "    print(\"Clave:\",clave,\" Valor:\", d[clave])"
   ]
  },
  {
   "cell_type": "markdown",
   "id": "09be5745-34f4-41df-a886-e04fdcf733f1",
   "metadata": {},
   "source": [
    "#### Otras funciones para obtener los elementos del diccionario"
   ]
  },
  {
   "cell_type": "code",
   "execution_count": null,
   "id": "e6daf1d4-ff9a-41e8-9843-18656bae9f9f",
   "metadata": {},
   "outputs": [],
   "source": [
    "print(\"Obtener tuplas (clave,valor):\",d.items())\n",
    "print(\"Obtener solo claves:\",d.keys())\n",
    "print(\"Obtener solo valores\",d.values())"
   ]
  },
  {
   "cell_type": "markdown",
   "id": "31a2a2b9-fb0e-489b-b2f3-e4ec4f614d22",
   "metadata": {
    "tags": []
   },
   "source": [
    "## La funcion dict()\n",
    "Las funciones dict() me permite crear diccionarios a partir de listas de tuplas"
   ]
  },
  {
   "cell_type": "code",
   "execution_count": null,
   "id": "68cf2fd8-aa6b-4735-b7fc-bf522ed1794b",
   "metadata": {},
   "outputs": [],
   "source": [
    "diccionario_vacio = dict()\n",
    "print(diccionario_vacio)"
   ]
  },
  {
   "cell_type": "code",
   "execution_count": null,
   "id": "c8682066-a7e2-498e-8cf1-6af31354ec8e",
   "metadata": {},
   "outputs": [],
   "source": [
    "# Convertir lista de tuplas en diccionario:\n",
    "x = [ (\"a\",1), (\"b\",2), (\"c\",3) ]\n",
    "dict(x)"
   ]
  },
  {
   "cell_type": "code",
   "execution_count": null,
   "id": "b2b9710e-864a-4e9d-973b-a7b0a70432e0",
   "metadata": {},
   "outputs": [],
   "source": [
    "# Convertir lista de listas en diccionario:\n",
    "x = [ [1,10], [2,20], [3,30] ]\n",
    "dict(x)"
   ]
  },
  {
   "cell_type": "markdown",
   "id": "89dd2bd3-c76a-43f3-a515-1e82c3899663",
   "metadata": {},
   "source": [
    "### Ejercicio 3:\n",
    "\n",
    "Crear una funcion **valor_en_diccionario(d, valor)** que reciba dos parametros, un diccionario y un valor. Devolver True si el valor existe como value en el diccionario o False en caso contrario\n",
    "\n",
    "\n",
    "*Ejemplo de input y output:*\n",
    "\n",
    "*Input: d={\"Pedro\":33,\"Xavi\":35,\"Tom\":31}, valor=\"35\"*\n",
    "\n",
    "*Output: True*"
   ]
  },
  {
   "cell_type": "code",
   "execution_count": null,
   "id": "ebf3b66d-fb87-4a85-ad11-09978e880c60",
   "metadata": {},
   "outputs": [],
   "source": [
    "def valor_en_diccionario(d, valor):\n",
    "    # Escribir aqui la solucion\n",
    "\n"
   ]
  },
  {
   "cell_type": "code",
   "execution_count": null,
   "id": "08b3a462-7980-4349-9215-e55e11a89888",
   "metadata": {},
   "outputs": [],
   "source": [
    "# No modificar el siguiente codigo\n",
    "# Solo ejecutarlo para saber si la funcion creada pasa todos los tests\n",
    "assert valor_en_diccionario({\"Alicia\":33,\"Bob\":35,\"Carla\":31},35) == True, \"Error en el test 1\"\n",
    "assert valor_en_diccionario({\"a\":1,\"b\":2,\"c\":3,\"d\":4}, 5) == False, \"Error en el test 2\"\n",
    "assert valor_en_diccionario({\"a\":\"z\"},\"z\") == True, \"Error en el test 3\"\n",
    "assert valor_en_diccionario({},1) == False, \"Error en el test 4\"\n",
    "\"Felicitaciones todos los casos de prueba fueron pasados exitosamente!!\""
   ]
  },
  {
   "cell_type": "code",
   "execution_count": null,
   "id": "232aea3e-1709-4b44-9642-3a0b5c06c0e6",
   "metadata": {},
   "outputs": [],
   "source": [
    "#@title Solucion Ejercicio 3 {display-mode:\"form\"}\n",
    "\n",
    "# Solucion 1\n",
    "def valor_en_diccionario(d, valor):\n",
    "    if valor in d.values():\n",
    "        return True\n",
    "    return False\n",
    "\n",
    "# Solucion 2\n",
    "def valor_en_diccionario(d, valor):\n",
    "    return valor in d.values()"
   ]
  },
  {
   "cell_type": "markdown",
   "id": "95e82d91-cede-40cf-910d-84cbecac0d6f",
   "metadata": {},
   "source": [
    "#### Ejercicio 4:\n",
    "\n",
    "Crear una funcion **eliminar_key(d, valor)** que reciba dos parametros, un diccionario y un valor. Eliminar la key del diccionario que sea igual a valor y devolvar el diccionario modificado. Utilizar la funcion pop(valor) que poseen los objetos de tipo diccionario.\n",
    "\n",
    "\n",
    "*Ejemplo de input y output:*\n",
    "\n",
    "*Input: d={\"Pedro\":33,\"Xavi\":35,\"Tom\":31}, valor=\"Pedro\"*\n",
    "\n",
    "*Output: {\"Xavi\":35,\"Tom\":31}*"
   ]
  },
  {
   "cell_type": "code",
   "execution_count": null,
   "id": "e44d033f-8154-47ca-a5fc-306b3049d1ea",
   "metadata": {},
   "outputs": [],
   "source": [
    "def eliminar_key(d, valor):\n",
    "    # Escribir aqui la solucion\n",
    "    \n",
    "    "
   ]
  },
  {
   "cell_type": "code",
   "execution_count": null,
   "id": "b7799a8e-9e98-49c1-bdb1-04d683cbd7b7",
   "metadata": {},
   "outputs": [],
   "source": [
    "# No modificar el siguiente codigo\n",
    "# Solo ejecutarlo para saber si la funcion creada pasa todos los tests\n",
    "assert eliminar_key({\"Alicia\":33,\"Bob\":35,\"Carla\":31},\"Bob\") == {\"Alicia\":33,\"Carla\":31}, \"Error en el test 1\"\n",
    "assert eliminar_key({0:1,1:2,2:3,3:4}, 3) == {0:1,1:2,2:3}, \"Error en el test 2\"\n",
    "assert eliminar_key({\"a\":\"z\"},\"a\") == {}, \"Error en el test 3\"\n",
    "\"Felicitaciones todos los casos de prueba fueron pasados exitosamente!!\""
   ]
  },
  {
   "cell_type": "code",
   "execution_count": null,
   "id": "10ab4938-1308-48db-ab15-af4c1191f824",
   "metadata": {},
   "outputs": [],
   "source": [
    "#@title Solucion Ejercicio 4 {display-mode:\"form\"}\n",
    "\n",
    "def eliminar_key(d, valor):\n",
    "    d.pop(valor)\n",
    "    return d"
   ]
  },
  {
   "cell_type": "markdown",
   "id": "e3928205-c18f-4ee5-9805-02f5f83c10dc",
   "metadata": {},
   "source": [
    "# Fin: [Volver al contenido del curso](https://www.freecodingtour.com/cursos/espanol/programacion/programacion.html)"
   ]
  }
 ],
 "metadata": {
  "kernelspec": {
   "display_name": "Python 3 (ipykernel)",
   "language": "python",
   "name": "python3"
  },
  "language_info": {
   "codemirror_mode": {
    "name": "ipython",
    "version": 3
   },
   "file_extension": ".py",
   "mimetype": "text/x-python",
   "name": "python",
   "nbconvert_exporter": "python",
   "pygments_lexer": "ipython3",
   "version": "3.9.7"
  }
 },
 "nbformat": 4,
 "nbformat_minor": 5
}
