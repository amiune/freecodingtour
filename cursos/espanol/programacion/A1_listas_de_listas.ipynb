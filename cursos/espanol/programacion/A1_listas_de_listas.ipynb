{
 "cells": [
  {
   "cell_type": "markdown",
   "id": "a11b3e00-e21b-4dcf-a5de-61f307676248",
   "metadata": {},
   "source": [
    "# Listas dentro de listas"
   ]
  },
  {
   "cell_type": "code",
   "execution_count": null,
   "id": "96824d6d-b09e-4403-8070-e1648b07b0b6",
   "metadata": {},
   "outputs": [],
   "source": []
  }
 ],
 "metadata": {
  "kernelspec": {
   "display_name": "Python 3 (ipykernel)",
   "language": "python",
   "name": "python3"
  },
  "language_info": {
   "codemirror_mode": {
    "name": "ipython",
    "version": 3
   },
   "file_extension": ".py",
   "mimetype": "text/x-python",
   "name": "python",
   "nbconvert_exporter": "python",
   "pygments_lexer": "ipython3",
   "version": "3.9.7"
  }
 },
 "nbformat": 4,
 "nbformat_minor": 5
}
