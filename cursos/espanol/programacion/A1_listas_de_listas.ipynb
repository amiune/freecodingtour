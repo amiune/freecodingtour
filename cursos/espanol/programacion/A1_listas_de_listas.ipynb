{
 "cells": [
  {
   "cell_type": "markdown",
   "id": "a11b3e00-e21b-4dcf-a5de-61f307676248",
   "metadata": {},
   "source": [
    "# Listas dentro de listas\n",
    "\n",
    "Los elementos que podemos poner en una lista pueden ser de cualquier tipo. Veamos:"
   ]
  },
  {
   "cell_type": "markdown",
   "id": "5b4f5433-628e-4b50-b558-ce65a117540d",
   "metadata": {},
   "source": [
    "#### Lista de enteros"
   ]
  },
  {
   "cell_type": "code",
   "execution_count": null,
   "id": "5f223d92-e29b-4b3f-a34b-937f9562712a",
   "metadata": {},
   "outputs": [],
   "source": [
    "lista1 = [1,2,3,4,5]"
   ]
  },
  {
   "cell_type": "markdown",
   "id": "2c664048-c67a-4aba-ab60-430ef0a59225",
   "metadata": {},
   "source": [
    "#### Lista de numeros decimales"
   ]
  },
  {
   "cell_type": "code",
   "execution_count": null,
   "id": "b12826f7-1ca9-430d-a6be-2ecee086065c",
   "metadata": {},
   "outputs": [],
   "source": [
    "lista2 = [1.1,2.1234,3.234,4.888,5.766]"
   ]
  },
  {
   "cell_type": "markdown",
   "id": "f3824476-9931-45d4-b6fc-7973ad1535ca",
   "metadata": {},
   "source": [
    "#### Lista de strings"
   ]
  },
  {
   "cell_type": "code",
   "execution_count": null,
   "id": "8fa1de8e-7a94-4d48-825a-2f240f6277d6",
   "metadata": {},
   "outputs": [],
   "source": [
    "lista3 = [\"azul\", \"verde\", \"rojo\"]"
   ]
  },
  {
   "cell_type": "markdown",
   "id": "f413df94-e6cf-4a6c-a4dc-0aa41d65a8e6",
   "metadata": {},
   "source": [
    "#### Lista con diferentes tipos de elementos"
   ]
  },
  {
   "cell_type": "code",
   "execution_count": null,
   "id": "303c137c-0743-442b-b3e2-2d46cfadf385",
   "metadata": {},
   "outputs": [],
   "source": [
    "lista4 = [\"uno\", 2, 3.333, \"azul\", -10]"
   ]
  },
  {
   "cell_type": "markdown",
   "id": "07be25c2-f12d-4dab-a640-780f6eea8c42",
   "metadata": {},
   "source": [
    "#### Y tambien podemos usar listas como elementos de una lista"
   ]
  },
  {
   "cell_type": "code",
   "execution_count": null,
   "id": "eca47fdc-e7b7-46fc-9c20-94430269b839",
   "metadata": {},
   "outputs": [],
   "source": [
    "lista_de_listas = [lista1, lista2, lista3]\n",
    "print(lista_de_listas)"
   ]
  },
  {
   "cell_type": "markdown",
   "id": "7f2fb1f0-50c8-470e-b571-58aad37242be",
   "metadata": {},
   "source": [
    "Para acceder a cada elemento de una lista podemos usar el doble corchete. Veamos como podemos obtener el elemento \"azul\":"
   ]
  },
  {
   "cell_type": "code",
   "execution_count": null,
   "id": "90b08eec-ec16-4189-afde-2f19457ea75c",
   "metadata": {},
   "outputs": [],
   "source": [
    "lista_de_listas[2][0]"
   ]
  },
  {
   "cell_type": "markdown",
   "id": "10ba7e8c-229f-46bf-8968-036db5cc9950",
   "metadata": {},
   "source": [
    "Esto seria similar a realizar las siguientes dos operaciones:"
   ]
  },
  {
   "cell_type": "code",
   "execution_count": null,
   "id": "f40b6693-f42e-4d6d-ad14-71217a443770",
   "metadata": {},
   "outputs": [],
   "source": [
    "tercera_lista = lista_de_listas[2]\n",
    "tercera_lista[0]"
   ]
  },
  {
   "cell_type": "markdown",
   "id": "c8281924-485b-423e-80e3-32748e87eb9b",
   "metadata": {},
   "source": [
    "Tambien podemos utilizar un patron de doble for anidado para recorrer los elementos:"
   ]
  },
  {
   "cell_type": "code",
   "execution_count": null,
   "id": "df6c6d07-6ca7-40dd-991c-f392067712d9",
   "metadata": {},
   "outputs": [],
   "source": [
    "for lista in lista_de_listas:\n",
    "    print(\"Esta es la lista:\", lista)\n",
    "    print(\"Sus elementos son:\")\n",
    "    for elemento in lista:\n",
    "        print(elemento)"
   ]
  },
  {
   "cell_type": "markdown",
   "id": "89dd2bd3-c76a-43f3-a515-1e82c3899663",
   "metadata": {},
   "source": [
    "### Ejercicio 1:\n",
    "\n",
    "Utiliza un for para mostrar solamente los elementos de la tercera lista de la variable **lista_de_listas**"
   ]
  },
  {
   "cell_type": "code",
   "execution_count": null,
   "id": "ebf3b66d-fb87-4a85-ad11-09978e880c60",
   "metadata": {},
   "outputs": [],
   "source": [
    "# Escribir aqui la solucion\n",
    "\n"
   ]
  },
  {
   "cell_type": "code",
   "execution_count": null,
   "id": "232aea3e-1709-4b44-9642-3a0b5c06c0e6",
   "metadata": {},
   "outputs": [],
   "source": [
    "#@title Solucion Ejercicio 1 {display-mode:\"form\"}\n",
    "\n",
    "for elemento in lista_de_listas[2]:\n",
    "    print(elemento)"
   ]
  },
  {
   "cell_type": "markdown",
   "id": "19608a07-a9fa-4d55-8649-63b24f7a55a8",
   "metadata": {},
   "source": [
    "## Crear una lista de listas en una sola linea"
   ]
  },
  {
   "cell_type": "code",
   "execution_count": null,
   "id": "17480900-6a77-4252-ab06-401ae56d85c2",
   "metadata": {},
   "outputs": [],
   "source": [
    "lista_de_listas2 = [ [1,2,3] , [4,5,6], [7,8,9] ]"
   ]
  },
  {
   "cell_type": "code",
   "execution_count": null,
   "id": "f36eeabb-0489-4f4f-92a9-fbf194344102",
   "metadata": {},
   "outputs": [],
   "source": [
    "print(lista_de_listas2)"
   ]
  },
  {
   "cell_type": "markdown",
   "id": "5beac2cf-a76a-4855-a8b1-7a56bc4d76a7",
   "metadata": {},
   "source": [
    "### Ejercicio 2:\n",
    "\n",
    "Utiliza un solo for para mostrar los elementos de la variable **lista_de_listas2** los cuales cada uno sera una lista"
   ]
  },
  {
   "cell_type": "code",
   "execution_count": null,
   "id": "5d3a3fc8-ee34-48bb-9da3-2a37713c69f9",
   "metadata": {},
   "outputs": [],
   "source": [
    "# Escribir aqui la solucion\n",
    "\n"
   ]
  },
  {
   "cell_type": "code",
   "execution_count": null,
   "id": "8985bf36-a279-4268-a7a9-06942b1b54f4",
   "metadata": {},
   "outputs": [],
   "source": [
    "#@title Solucion Ejercicio 2 {display-mode:\"form\"}\n",
    "\n",
    "for lista in lista_de_listas2:\n",
    "    print(lista)"
   ]
  },
  {
   "cell_type": "markdown",
   "id": "e3449973-54a9-43cc-851f-fe78402bcfd0",
   "metadata": {},
   "source": [
    "### Ejercicio 3:\n",
    "\n",
    "Utiliza dos for, uno adentro de otro para mostrar uno a uno los elementos de las listas de **lista_de_listas2**. "
   ]
  },
  {
   "cell_type": "code",
   "execution_count": null,
   "id": "d290ef6d-24c0-468b-a7f9-738f9c14b709",
   "metadata": {},
   "outputs": [],
   "source": [
    "# Escribir aqui la solucion\n",
    "\n"
   ]
  },
  {
   "cell_type": "code",
   "execution_count": null,
   "id": "b7220ccb-f4ef-4c2d-93a6-c88676ba11e8",
   "metadata": {},
   "outputs": [],
   "source": [
    "#@title Solucion Ejercicio 3 {display-mode:\"form\"}\n",
    "\n",
    "for lista in lista_de_listas2:\n",
    "    for elemento in lista:\n",
    "        print(elemento)"
   ]
  },
  {
   "cell_type": "markdown",
   "id": "5b5df150-919c-4302-9a64-0f8cbc8db63f",
   "metadata": {},
   "source": [
    "#### Nota importante: Cuando las listas solo contienen numeros las podemos comparar con lo que en matematica se conoce como vectores y matrices:\n",
    "\n",
    "1. Una lista puede ser comparada con lo que en matematica se conoce como un vector.\n",
    "2. Una lista de listas puede ser comparada con lo que en matematica se conoce como una matriz."
   ]
  },
  {
   "cell_type": "markdown",
   "id": "09993bf7-2e20-4124-b8cd-5a86636f2c51",
   "metadata": {},
   "source": [
    "En las listas de listas podemos pensar que cada elemento esta en una posicion dada por dos numeros:\n",
    "- un numero que nos dice la fila\n",
    "- un numero que nos dice la columna\n",
    "\n",
    "Veamos:"
   ]
  },
  {
   "cell_type": "code",
   "execution_count": null,
   "id": "70bfd22c-1604-45f6-aa65-4a17e224bb97",
   "metadata": {},
   "outputs": [],
   "source": [
    "for lista in lista_de_listas2:\n",
    "    print(lista)"
   ]
  },
  {
   "cell_type": "code",
   "execution_count": null,
   "id": "cb9cf182-8d96-430c-9b59-78969edd8540",
   "metadata": {},
   "outputs": [],
   "source": [
    "numero_de_filas = len(lista_de_listas2)\n",
    "numero_de_columnas = len(lista_de_listas2[0])\n",
    "for fila in range(numero_de_filas):\n",
    "    for columna in range(numero_de_columnas):\n",
    "        print(\"El elemento de la fila\",fila,\"y columna\",columna,\"es:\",lista_de_listas2[fila][columna])"
   ]
  },
  {
   "cell_type": "markdown",
   "id": "0ffbf643-25bc-4a53-9150-0e5be48ddb4b",
   "metadata": {},
   "source": [
    "### Ejercicio 4:\n",
    "\n",
    "Utiliza dos for, uno adentro de otro para mostrar uno a uno los elementos de **lista_de_listas2** en donde el numero de fila y el numero de columna es el mismo. Esto nos va a mostrar los elementos de la diagonal que son: 1,5,9."
   ]
  },
  {
   "cell_type": "code",
   "execution_count": null,
   "id": "1ff34fda-0577-493a-a2aa-7604f0216421",
   "metadata": {},
   "outputs": [],
   "source": [
    "# Escribir aqui la solucion\n",
    "\n"
   ]
  },
  {
   "cell_type": "code",
   "execution_count": null,
   "id": "064a19c9-e9c3-40d2-ad42-6300c221cfde",
   "metadata": {},
   "outputs": [],
   "source": [
    "#@title Solucion Ejercicio 4 {display-mode:\"form\"}\n",
    "\n",
    "numero_de_filas = len(lista_de_listas2)\n",
    "numero_de_columnas = len(lista_de_listas2[0])\n",
    "for fila in range(numero_de_filas):\n",
    "    for columna in range(numero_de_columnas):\n",
    "        if fila == columna:\n",
    "            print(lista_de_listas2[fila][columna])"
   ]
  },
  {
   "cell_type": "markdown",
   "id": "e3928205-c18f-4ee5-9805-02f5f83c10dc",
   "metadata": {},
   "source": [
    "# Fin: [Volver al contenido del curso](https://www.freecodingtour.com/cursos/espanol/programacion/programacion.html)"
   ]
  }
 ],
 "metadata": {
  "kernelspec": {
   "display_name": "Python 3 (ipykernel)",
   "language": "python",
   "name": "python3"
  },
  "language_info": {
   "codemirror_mode": {
    "name": "ipython",
    "version": 3
   },
   "file_extension": ".py",
   "mimetype": "text/x-python",
   "name": "python",
   "nbconvert_exporter": "python",
   "pygments_lexer": "ipython3",
   "version": "3.9.7"
  }
 },
 "nbformat": 4,
 "nbformat_minor": 5
}
