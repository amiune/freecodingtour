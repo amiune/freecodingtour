{
 "cells": [
  {
   "cell_type": "markdown",
   "id": "54544c7a-efdf-43b7-8aba-637d713a145c",
   "metadata": {},
   "source": [
    "# Crear nuestro propio tipo de variable\n",
    "\n",
    "Asi como con la palabra **def** podemos definir nuestras propias funciones con la palabra **class** que significa clase en ingles podremos definir nuestras propias clases o tipos de variables.\n",
    "\n",
    "Sabemos que **list()** nos permite crear un tipo de variable que tiene varios elementos y funciones incorporadas. Ahora con la palabra **class** crearemos nuetro propio tipo de variable con funciones incorporadas. "
   ]
  },
  {
   "cell_type": "markdown",
   "id": "346c4dd5-eafa-4689-bfdc-6223acc56c1e",
   "metadata": {},
   "source": [
    "Creemos ahora un tipo de variable que se llame Persona y que tenga un nombre y una edad:"
   ]
  },
  {
   "cell_type": "code",
   "execution_count": null,
   "id": "c0c256e2-faaa-4f2c-86fe-e2772e05f611",
   "metadata": {},
   "outputs": [],
   "source": [
    "class Persona():\n",
    "    nombre = \"sin nombre\"\n",
    "    altura = 0"
   ]
  },
  {
   "cell_type": "markdown",
   "id": "285e7918-84f3-4784-a16b-d3aa58feb941",
   "metadata": {},
   "source": [
    "Asi de simple. Ahora podemos empezar a crear variables de esta clase y modificar sus valores:"
   ]
  },
  {
   "cell_type": "code",
   "execution_count": null,
   "id": "56b88180-aa83-4eb5-bb85-107141e45104",
   "metadata": {},
   "outputs": [],
   "source": [
    "persona1 = Persona()\n",
    "print(\"Nombre:\",persona1.nombre)\n",
    "print(\"Altura:\",persona1.altura)"
   ]
  },
  {
   "cell_type": "code",
   "execution_count": null,
   "id": "1b895115-d908-46b7-a6a9-cc6f053b8f80",
   "metadata": {},
   "outputs": [],
   "source": [
    "persona1.nombre = \"Alicia\"\n",
    "persona1.altura = 1.70\n",
    "print(\"Nombre:\",persona1.nombre)\n",
    "print(\"Altura:\", persona1.altura)"
   ]
  },
  {
   "cell_type": "markdown",
   "id": "c4c996c1-932b-48da-9028-cfa3355c675a",
   "metadata": {},
   "source": [
    "Podemos crear la cantidad de variables de este tipo que querramos:"
   ]
  },
  {
   "cell_type": "code",
   "execution_count": null,
   "id": "dd6ac4ec-07f8-428a-9657-3a6345bae2e9",
   "metadata": {},
   "outputs": [],
   "source": [
    "persona2 = Persona()\n",
    "persona2.nombre = \"Bob\"\n",
    "persona2.altura = 1.72\n",
    "print(persona2.nombre)\n",
    "print(persona2.altura)"
   ]
  },
  {
   "cell_type": "markdown",
   "id": "3fa1d218-f7b6-48ee-932d-1b7f7bf109a4",
   "metadata": {},
   "source": [
    "**Nota:** \n",
    "- A las variables creadas a partir de clases tambien se las llama objetos. \n",
    "- A las funciones de una clase tambien se las conoce como metodos."
   ]
  },
  {
   "cell_type": "markdown",
   "id": "cd3907ec-2348-4853-a93f-8eb91ee70c60",
   "metadata": {},
   "source": [
    "## Mi clase tambien puede tener funciones"
   ]
  },
  {
   "cell_type": "code",
   "execution_count": null,
   "id": "8031b932-eeb7-4a17-8d7f-9fcce4aecc6e",
   "metadata": {},
   "outputs": [],
   "source": [
    "class Persona():\n",
    "    nombre = \"sin nombre\"\n",
    "    peso = 0\n",
    "    altura = 0\n",
    "\n",
    "    def indice_masa_corporal(self):\n",
    "        imc = self.peso / (self.altura**2)\n",
    "        return imc"
   ]
  },
  {
   "cell_type": "markdown",
   "id": "211874ec-e084-4111-a11c-5ff469f9488f",
   "metadata": {},
   "source": [
    "Notemos que las funciones que estan dentro de las clases siempre el primer parametro que reciben corresponde a la variable creada con ella. Por convencion se le da el nombre **self** que en ingles significa **yo misma**"
   ]
  },
  {
   "cell_type": "code",
   "execution_count": null,
   "id": "756ee8f4-cde4-40bd-b76f-ea14317e9400",
   "metadata": {},
   "outputs": [],
   "source": [
    "persona3 = Persona()\n",
    "persona3.nombre = \"Juan\"\n",
    "persona3.peso = 75\n",
    "persona3.altura = 1.75"
   ]
  },
  {
   "cell_type": "code",
   "execution_count": null,
   "id": "a725c73c-6972-4000-b867-798189dc6208",
   "metadata": {},
   "outputs": [],
   "source": [
    "persona3.indice_masa_corporal()"
   ]
  },
  {
   "cell_type": "markdown",
   "id": "1726428c-bc49-4252-8fc0-76e4a61d155b",
   "metadata": {},
   "source": [
    "En este caso **self** hace referencia a la variable **persona3** y veamos que no hace falta ponerla entre los parentesis."
   ]
  },
  {
   "cell_type": "code",
   "execution_count": null,
   "id": "ad2c016e-bf3b-46de-9f22-32e260c5ba65",
   "metadata": {},
   "outputs": [],
   "source": [
    "persona4 = Persona()\n",
    "persona4.nombre = \"Carla\"\n",
    "persona4.peso = 56\n",
    "persona4.altura = 1.65"
   ]
  },
  {
   "cell_type": "code",
   "execution_count": null,
   "id": "5e4633dc-faad-4ec1-85f5-3d6065ff4a7c",
   "metadata": {},
   "outputs": [],
   "source": [
    "persona4.indice_masa_corporal()"
   ]
  },
  {
   "cell_type": "markdown",
   "id": "999fa033-7ee6-40ba-bb49-29acc4b86432",
   "metadata": {},
   "source": [
    "En este caso **self** hace referencia a la variable **persona4** "
   ]
  },
  {
   "cell_type": "markdown",
   "id": "3c072d39-9eee-424e-b532-3227f55d0680",
   "metadata": {},
   "source": [
    "### Ejercicio 1:\n",
    "\n",
    "Crear nuevamente la clase Persona pero esta vez ademas de la funcion **indice_masa_corporal(self)** crear otra funcion **diagnostico_imc(self, maximo)** que reciba el parametro **maximo** y que devuelva el string \"correcto\" si el indice de masa corporal es menor a maximo y de lo contrario que devuelva \"obesidad\"."
   ]
  },
  {
   "cell_type": "code",
   "execution_count": null,
   "id": "0883aa97-cc14-428a-aeff-ff370796d19f",
   "metadata": {},
   "outputs": [],
   "source": [
    "class Persona():\n",
    "    nombre = \"sin nombre\"\n",
    "    peso = 0\n",
    "    altura = 0\n",
    "\n",
    "    def indice_masa_corporal(self):\n",
    "        imc = self.peso / (self.altura**2)\n",
    "        return imc\n",
    "    \n",
    "    def diagnostico_imc(self, maximo):\n",
    "        # Escribir aqui la nueva funcion\n",
    "    "
   ]
  },
  {
   "cell_type": "code",
   "execution_count": null,
   "id": "bb90330b-ff0a-405b-9db8-e41666d1363c",
   "metadata": {},
   "outputs": [],
   "source": [
    "# No modificar el siguiente codigo\n",
    "# Solo ejecutarlo para saber si la funcion creada pasa todos los tests\n",
    "p = Persona(); \n",
    "p.peso = 56\n",
    "p.altura = 1.65\n",
    "assert p.diagnostico_imc(30) == \"correcto\", \"Error en el test 1\"\n",
    "p.peso = 156 \n",
    "p.altura = 1.65\n",
    "assert p.diagnostico_imc(30) == \"obesidad\", \"Error en el test 2\"\n",
    "p.peso = 99 \n",
    "p.altura = 1.95\n",
    "assert p.diagnostico_imc(30) == \"correcto\", \"Error en el test 3\"\n",
    "p.peso = 199 \n",
    "p.altura = 1.95\n",
    "assert p.diagnostico_imc(30) == \"obesidad\", \"Error en el test 4\"\n",
    "\"Felicitaciones todos los casos de prueba fueron pasados exitosamente!!\""
   ]
  },
  {
   "cell_type": "code",
   "execution_count": null,
   "id": "2b6dcf97-eda3-42c0-9f02-b5e37c1189f2",
   "metadata": {},
   "outputs": [],
   "source": [
    "#@title Solucion Ejercicio 1 {display-mode:\"form\"}\n",
    "\n",
    "class Persona():\n",
    "    nombre = \"sin nombre\"\n",
    "    peso = 0\n",
    "    altura = 0\n",
    "\n",
    "    def indice_masa_corporal(self):\n",
    "        imc = self.peso / (self.altura**2)\n",
    "        return imc\n",
    "    \n",
    "    def diagnostico_imc(self, maximo):\n",
    "        if self.indice_masa_corporal() > maximo:\n",
    "            return \"obesidad\"\n",
    "        return \"correcto\""
   ]
  },
  {
   "cell_type": "markdown",
   "id": "562827f3-623e-4138-9bc9-ac0ab32da5d5",
   "metadata": {},
   "source": [
    "## La funcion \\_\\_init\\_\\_()\n",
    "\n",
    "Las clases pueden tener una funcion que solo se ejecuta una vez al crear una variable de ese tipo. Veamos:"
   ]
  },
  {
   "cell_type": "code",
   "execution_count": null,
   "id": "0a140c78-e518-4cea-adbc-c232a0bc3749",
   "metadata": {},
   "outputs": [],
   "source": [
    "class Persona():\n",
    "    nombre = \"sin nombre\"\n",
    "    altura = 0\n",
    "    peso = 0\n",
    "\n",
    "    def __init__(self, nombre, altura, peso):\n",
    "        self.nombre = nombre\n",
    "        self.altura = altura\n",
    "        self.peso = peso\n",
    "        \n",
    "    def indice_masa_corporal(self):\n",
    "        imc = self.peso / (self.altura**2)\n",
    "        return imc\n",
    "    \n",
    "    def diagnostico_imc(self, maximo):\n",
    "        if self.indice_masa_corporal() > maximo:\n",
    "            return \"obesidad\"\n",
    "        return \"correcto\""
   ]
  },
  {
   "cell_type": "code",
   "execution_count": null,
   "id": "a9ada430-8b61-4fcb-8c96-ebf2d934a1fc",
   "metadata": {},
   "outputs": [],
   "source": [
    "persona5 = Persona(\"Teo\", 1.79, 74)"
   ]
  },
  {
   "cell_type": "code",
   "execution_count": null,
   "id": "6a93c16c-5075-471e-8cad-f3b0a80a001a",
   "metadata": {},
   "outputs": [],
   "source": [
    "print(persona5.nombre)\n",
    "print(persona5.altura)\n",
    "print(persona5.peso)"
   ]
  },
  {
   "cell_type": "markdown",
   "id": "2bd72d7e-0e24-4618-a733-dd0b448c58f3",
   "metadata": {},
   "source": [
    "La funcion init nos obliga a pasar los parametros que necesita para crear una variable de dicha clase. Si no le pasamos los parametros requeridos nos dara un error"
   ]
  },
  {
   "cell_type": "code",
   "execution_count": null,
   "id": "40b5def1-792d-4558-ad7b-fbfecbe87b29",
   "metadata": {},
   "outputs": [],
   "source": [
    "persona6 = Persona()"
   ]
  },
  {
   "cell_type": "markdown",
   "id": "2c6875fc-421d-42c2-ad19-487d40932dde",
   "metadata": {},
   "source": [
    "Notemos tambien que las funciones de una clase pueden recibir parametros con el mismo nombre que las variables que posee dicha clase pero las podremos diferenciar mediante la variable **self**. Veamos el ejemplo:\n",
    "\n",
    "```python\n",
    "persona5 = Persona(\"Teo\", 1.79, 74)\n",
    "```\n",
    "\n",
    "En la funcion **\\_\\_init\\_\\_(self, nombre, altura, peso)**:\n",
    "\n",
    "- **self.nombre** hace referencia a la variable **.nombre** de la variable **persona5**, es decir, **persona5.nombre**\n",
    "- **nombre** hace referencia al valor pasado como parametro a la funcion"
   ]
  },
  {
   "cell_type": "markdown",
   "id": "6bc75a35-cbbf-4259-a712-145bdcc0d4fc",
   "metadata": {},
   "source": [
    "## Extender las variables y funciones de una clase\n",
    "\n",
    "Las clases se pueden extender heredando todas las variables y funciones de otra clase. \n",
    "\n",
    "Veamos:"
   ]
  },
  {
   "cell_type": "code",
   "execution_count": null,
   "id": "5f3c0833-6ab5-4b52-bc7d-f2e158cf8f97",
   "metadata": {},
   "outputs": [],
   "source": [
    "class Tenista(Persona):\n",
    "    victorias = 0\n",
    "    derrotas = 0\n",
    "\n",
    "    def __init__(self, nombre, altura, peso, victorias, derrotas):\n",
    "        super().__init__(nombre, altura, peso)\n",
    "        self.victorias = victorias\n",
    "        self.derrotas = derrotas"
   ]
  },
  {
   "cell_type": "markdown",
   "id": "1df0efe1-a872-4c8c-90fe-bbfbedab69d8",
   "metadata": {},
   "source": [
    "Al poner **Persona** en los parentesis de la clase **Tenista** estamos diciendo que esta clase va a tener todas las variables y funciones de la clase **Persona** y que ademas le vamos a sumar nuevas.\n",
    "\n",
    "En la funcion **\\_\\_init\\_\\_()** de la clase **Tenista** aparece ahora una funcion **super().\\_\\_init\\_\\_()** que lo que hace es ejecutar la funcion **\\_\\_init\\_\\_()** de la clase **Persona**"
   ]
  },
  {
   "cell_type": "code",
   "execution_count": null,
   "id": "47f9d045-250a-4693-81ab-2fa78431460b",
   "metadata": {},
   "outputs": [],
   "source": [
    "tenista1 = Tenista(\"Carlos\", 1.85, 80, 10, 2)"
   ]
  },
  {
   "cell_type": "code",
   "execution_count": null,
   "id": "95cb9b28-3608-42b1-81dd-37cd465a58ef",
   "metadata": {},
   "outputs": [],
   "source": [
    "print(tenista1.nombre, tenista1.altura, tenista1.peso)\n",
    "print(tenista1.victorias, tenista1.derrotas)"
   ]
  },
  {
   "cell_type": "code",
   "execution_count": null,
   "id": "a9fe9be4-27bd-4a22-8a6e-96ff90c452e4",
   "metadata": {},
   "outputs": [],
   "source": [
    "tenista1.indice_masa_corporal()"
   ]
  },
  {
   "cell_type": "markdown",
   "id": "8da4ae7f-4e07-4cb4-982c-a9a01337a9ef",
   "metadata": {},
   "source": [
    "# Fin: [Volver al contenido del curso](https://www.freecodingtour.com/cursos/espanol/programacion/programacion.html)"
   ]
  }
 ],
 "metadata": {
  "kernelspec": {
   "display_name": "Python 3 (ipykernel)",
   "language": "python",
   "name": "python3"
  },
  "language_info": {
   "codemirror_mode": {
    "name": "ipython",
    "version": 3
   },
   "file_extension": ".py",
   "mimetype": "text/x-python",
   "name": "python",
   "nbconvert_exporter": "python",
   "pygments_lexer": "ipython3",
   "version": "3.9.7"
  }
 },
 "nbformat": 4,
 "nbformat_minor": 5
}
