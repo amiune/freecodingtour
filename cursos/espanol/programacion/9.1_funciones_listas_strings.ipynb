{
 "cells": [
  {
   "cell_type": "markdown",
   "id": "2337c58b-6789-4466-a435-1c9c8aec707e",
   "metadata": {},
   "source": [
    "# Funciones incorporadas de las listas y strings\n",
    "\n",
    "Las variables de tipo lista y string traen funciones incorporadas que nos seran de mucha utilidad. Aqui veremos algunas de ellas. Modifica el codigo y prueba distintas cosas para ver como funcionan."
   ]
  },
  {
   "cell_type": "markdown",
   "id": "917c12ea-b7aa-47f4-900c-9fa00f5ea53d",
   "metadata": {},
   "source": [
    "## Funciones incorporadas de las listas"
   ]
  },
  {
   "cell_type": "code",
   "execution_count": 65,
   "id": "3b66b314-e229-4a9a-b22e-f7797339c9a6",
   "metadata": {},
   "outputs": [],
   "source": [
    "mi_lista = [\"amarillo\", \"azul\", \"azul\", \"rojo\"]"
   ]
  },
  {
   "cell_type": "markdown",
   "id": "721a3f32-3b0e-4946-9d88-9fa3aeb004d2",
   "metadata": {},
   "source": [
    "#### .append(elemento) \n",
    "\n",
    "Como ya vimos la funcion **.append(elemento)** agrega un elemento a la lista:"
   ]
  },
  {
   "cell_type": "code",
   "execution_count": 66,
   "id": "b983a630-73ef-411a-b4a6-b378e42a3824",
   "metadata": {},
   "outputs": [
    {
     "name": "stdout",
     "output_type": "stream",
     "text": [
      "['amarillo', 'azul', 'azul', 'rojo', 'verde']\n"
     ]
    }
   ],
   "source": [
    "mi_lista.append(\"verde\")\n",
    "print(mi_lista)"
   ]
  },
  {
   "cell_type": "markdown",
   "id": "c326720d-9553-4234-82d9-9443b0e3f946",
   "metadata": {},
   "source": [
    "#### .count(valor) \n",
    "\n",
    "La funcion **.count(valor)** cuenta cuantos elementos hay con un valor especifico:"
   ]
  },
  {
   "cell_type": "code",
   "execution_count": 67,
   "id": "8fe0fab6-e551-4a8e-9c4e-329308d55d50",
   "metadata": {},
   "outputs": [
    {
     "name": "stdout",
     "output_type": "stream",
     "text": [
      "2\n"
     ]
    }
   ],
   "source": [
    "x = mi_lista.count(\"azul\")\n",
    "print(x)"
   ]
  },
  {
   "cell_type": "markdown",
   "id": "2cacd954-3626-4a24-9ac6-7a2279157ef8",
   "metadata": {},
   "source": [
    "#### .extend(lista) \n",
    "\n",
    "La funcion **.extend(lista)** agrega todos los elementos de otra lista:"
   ]
  },
  {
   "cell_type": "code",
   "execution_count": 68,
   "id": "685f4cd3-23c5-4e36-ab1d-7395f4a69693",
   "metadata": {},
   "outputs": [
    {
     "name": "stdout",
     "output_type": "stream",
     "text": [
      "['amarillo', 'azul', 'azul', 'rojo', 'verde', 'blanco', 'negro', 'blanco']\n"
     ]
    }
   ],
   "source": [
    "mi_lista.extend([\"blanco\",\"negro\",\"blanco\"])\n",
    "print(mi_lista)"
   ]
  },
  {
   "cell_type": "markdown",
   "id": "bcfd276b-e212-4619-bfd8-1d13171f2af1",
   "metadata": {},
   "source": [
    "#### .remove(valor) \n",
    "\n",
    "La funcion **.remove(valor)** elimina el primer elemento con dicho valor:"
   ]
  },
  {
   "cell_type": "code",
   "execution_count": 69,
   "id": "c38b375d-8ad8-40f8-a9b9-8c1539034e6e",
   "metadata": {},
   "outputs": [
    {
     "name": "stdout",
     "output_type": "stream",
     "text": [
      "['amarillo', 'azul', 'azul', 'rojo', 'blanco', 'negro', 'blanco']\n"
     ]
    }
   ],
   "source": [
    "mi_lista.remove(\"verde\")\n",
    "print(mi_lista)"
   ]
  },
  {
   "cell_type": "markdown",
   "id": "53cf5785-6d7b-4eeb-a147-9028b72ff250",
   "metadata": {},
   "source": [
    "#### .index(valor) \n",
    "\n",
    "La funcion **.index(valor)** me devuelve el indice (posicion empezando a contar desde cero) del primer elemento con dicho valor:"
   ]
  },
  {
   "cell_type": "code",
   "execution_count": 71,
   "id": "7e529da5-426b-429a-92eb-f81f7257e968",
   "metadata": {},
   "outputs": [
    {
     "name": "stdout",
     "output_type": "stream",
     "text": [
      "3\n"
     ]
    }
   ],
   "source": [
    "i = mi_lista.index(\"rojo\")\n",
    "print(i)"
   ]
  },
  {
   "cell_type": "markdown",
   "id": "0fb28915-8603-4a09-9bd2-ce16fe24cd75",
   "metadata": {},
   "source": [
    "#### .sort() \n",
    "\n",
    "La funcion **.sort()** ordena la lista de menor a mayor:"
   ]
  },
  {
   "cell_type": "code",
   "execution_count": 72,
   "id": "ef8bc6e2-c0e3-454c-b35a-2bcad91f063e",
   "metadata": {},
   "outputs": [
    {
     "name": "stdout",
     "output_type": "stream",
     "text": [
      "[1, 2, 3, 4, 6, 7, 8]\n"
     ]
    }
   ],
   "source": [
    "mi_lista = [7,4,3,2,6,8,1]\n",
    "mi_lista.sort()\n",
    "print(mi_lista)"
   ]
  },
  {
   "cell_type": "markdown",
   "id": "df2503e6-66e4-4158-8605-92b1dfceec78",
   "metadata": {},
   "source": [
    "Existen mas funciones pero no es la intencion memorizarlas todas, esto es imposible. Siempre podemos buscarlas en internet cuando necesitemos realizar una tarea especifica.\n",
    "\n",
    "Los sitios recomendados para buscar son:\n",
    "\n",
    "- [ChatGPT](https://chat.openai.com/): es el famoso bot al cual le podemos hacer preguntas\n",
    "- [Google](https://www.google.com/): el famoso buscador\n",
    "- [Stackoverflow.com](https://stackoverflow.com/): es un sitio web donde los programadores hacen preguntas y otros programadores responden con sus soluciones"
   ]
  },
  {
   "cell_type": "markdown",
   "id": "a9772e97-8c91-4d0c-b802-f344cd197053",
   "metadata": {},
   "source": [
    "## Funciones incorporadas de las strings"
   ]
  },
  {
   "cell_type": "code",
   "execution_count": 73,
   "id": "effcbb19-83bf-4376-b72c-0d979b3c5b5a",
   "metadata": {},
   "outputs": [],
   "source": [
    "mi_frase = \"2 ElEfaNtEs Se balAncEaban\""
   ]
  },
  {
   "cell_type": "markdown",
   "id": "cbe42e71-7332-4403-a672-5e72dabe2dc3",
   "metadata": {},
   "source": [
    "#### .lower() \n",
    "\n",
    "La funcion **.lower()** devuelve la frase convertica a minusculas:"
   ]
  },
  {
   "cell_type": "code",
   "execution_count": 79,
   "id": "74e0ee49-1463-40e2-9141-b2699832c156",
   "metadata": {},
   "outputs": [
    {
     "name": "stdout",
     "output_type": "stream",
     "text": [
      "2 elefantes se balanceaban\n"
     ]
    }
   ],
   "source": [
    "nueva_string = mi_frase.lower()\n",
    "print(nueva_string)"
   ]
  },
  {
   "cell_type": "markdown",
   "id": "22ad932d-bd90-40f1-946a-33db59a41305",
   "metadata": {},
   "source": [
    "#### .upper() \n",
    "\n",
    "La funcion **.upper()** devuelve la frase convertica a minusculas:"
   ]
  },
  {
   "cell_type": "code",
   "execution_count": 80,
   "id": "1b38a718-77e8-4507-9945-b0c44fca1247",
   "metadata": {},
   "outputs": [
    {
     "name": "stdout",
     "output_type": "stream",
     "text": [
      "2 ELEFANTES SE BALANCEABAN\n"
     ]
    }
   ],
   "source": [
    "nueva_string = mi_frase.upper()\n",
    "print(nueva_string)"
   ]
  },
  {
   "cell_type": "markdown",
   "id": "80e1f29a-fa56-4ad6-8c90-0812cf8f9f0f",
   "metadata": {},
   "source": [
    "#### .replace(valor, nuevo_valor) \n",
    "\n",
    "La funcion **.replace(valor, nuevo_valor)** reemplaza las ocurrencias de valor por nuevo_valor:"
   ]
  },
  {
   "cell_type": "code",
   "execution_count": 81,
   "id": "4d7d7a79-cf3d-45ba-b2ad-c194ea9aeb43",
   "metadata": {},
   "outputs": [
    {
     "name": "stdout",
     "output_type": "stream",
     "text": [
      "2 ElEf4NtEs Se b4lAncE4b4n\n"
     ]
    }
   ],
   "source": [
    "nueva_string = mi_frase.replace(\"a\",\"4\")\n",
    "print(nueva_string)"
   ]
  },
  {
   "cell_type": "markdown",
   "id": "ef463018-c195-4217-90b8-08b6d5d1f074",
   "metadata": {},
   "source": [
    "#### .split() \n",
    "\n",
    "La funcion **.split()** devuelve una lista de las palabras separadas por espacios:"
   ]
  },
  {
   "cell_type": "code",
   "execution_count": 82,
   "id": "5d2973f7-e486-4b0b-9efc-164a6638c363",
   "metadata": {},
   "outputs": [
    {
     "name": "stdout",
     "output_type": "stream",
     "text": [
      "['2', 'ElEfaNtEs', 'Se', 'balAncEaban']\n"
     ]
    }
   ],
   "source": [
    "lista_de_palabras = mi_frase.split()\n",
    "print(lista_de_palabras)"
   ]
  },
  {
   "cell_type": "markdown",
   "id": "1153b7f3-b55d-4660-a287-5f56c0e568c4",
   "metadata": {},
   "source": [
    "Existen mas funciones pero no es la intencion memorizarlas todas, esto es imposible."
   ]
  },
  {
   "cell_type": "markdown",
   "id": "8ed1dee9-1ceb-4db3-a98b-29fe89d24a22",
   "metadata": {},
   "source": [
    "## Importante: como recordar las funciones ya definidas\n",
    "\n",
    "Sera imposible acordarnos de memoria todas las funciones que existen ya definidas por lo que es recomendado utilizar internet si queremos recordar como funcionan o si queremos encontrar nuevas funciones. Los sitios recomendados para buscar son:\n",
    "\n",
    "- [ChatGPT](https://chat.openai.com/): es el famoso bot al cual le podemos hacer preguntas\n",
    "- [Google](https://www.google.com/): el famoso buscador\n",
    "- [Stackoverflow.com](https://stackoverflow.com/): es un sitio web donde los programadores hacen preguntas y otros programadores responden con sus soluciones"
   ]
  },
  {
   "cell_type": "markdown",
   "id": "afdb2ba1-e104-44f1-b189-2d1853b2e207",
   "metadata": {},
   "source": [
    "# Fin: [Volver al contenido del curso](https://www.freecodingtour.com/cursos/espanol/programacion/programacion.html)"
   ]
  }
 ],
 "metadata": {
  "kernelspec": {
   "display_name": "Python 3 (ipykernel)",
   "language": "python",
   "name": "python3"
  },
  "language_info": {
   "codemirror_mode": {
    "name": "ipython",
    "version": 3
   },
   "file_extension": ".py",
   "mimetype": "text/x-python",
   "name": "python",
   "nbconvert_exporter": "python",
   "pygments_lexer": "ipython3",
   "version": "3.9.7"
  }
 },
 "nbformat": 4,
 "nbformat_minor": 5
}
