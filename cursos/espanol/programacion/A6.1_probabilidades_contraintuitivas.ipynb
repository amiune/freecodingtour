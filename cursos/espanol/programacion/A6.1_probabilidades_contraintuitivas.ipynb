{
 "cells": [
  {
   "cell_type": "markdown",
   "id": "e007b690-9281-493b-b794-08a0d25edf12",
   "metadata": {},
   "source": [
    "# Probabilidades Contraintuitivas\n",
    "\n",
    "A veces las probabilidades y estadisticas suelen ser contraintuitivas y dificiles de entender. El objetivo de esta practica es utilizar la programacion como herramienta para poder simularlas y aceptar los resultados que parecen imposibles de entender."
   ]
  },
  {
   "cell_type": "markdown",
   "id": "bc125395-3daf-4046-9b59-ed81035f10ae",
   "metadata": {},
   "source": [
    "### Problema para escuela primaria\n",
    "\n",
    "Un juego de LEGO contiene piezas de 4 colores diferentes. El siguiente grafico muestra el porcentaje de piezas de cada color:"
   ]
  },
  {
   "cell_type": "code",
   "execution_count": 1,
   "id": "a959ce3c-129f-4faf-90c6-a657538f6ebd",
   "metadata": {},
   "outputs": [
    {
     "data": {
      "image/png": "[encoded data removed]",
      "text/plain": [
       "<Figure size 640x480 with 1 Axes>"
      ]
     },
     "metadata": {},
     "output_type": "display_data"
    }
   ],
   "source": [
    "#@title {display-mode:\"form\"}\n",
    "# Codigo para generar el grafico. Veremos como funciona en el curso de Ciencia de Datos\n",
    "import matplotlib.pyplot as plt\n",
    "plt.pie([30, 10, 25, 35], labels=['amarillo', 'azul', 'rojo', 'verde'], colors=['khaki', 'royalblue', 'lightcoral', 'lightgreen'], autopct='%1.1f%%');"
   ]
  },
  {
   "cell_type": "markdown",
   "id": "1c62427b-2722-4864-ba9a-4ba58b4a434c",
   "metadata": {},
   "source": [
    "*Bob dice:* \"Voy a sacar una cantidad igual de piezas de cada color. Luego voy a calcular nuevamente el porcentaje de cada color.\"\n",
    "\n",
    "*Alicia dice:* \"No importa el numero de piezas que saques, la cantidad de piezas rojas siempre va a ser 25% del total.\"\n",
    "\n",
    "**Comprobar si esto es cierto o no.**"
   ]
  },
  {
   "cell_type": "code",
   "execution_count": null,
   "id": "b5004652-e451-473c-93f4-1d6e0105ab2d",
   "metadata": {},
   "outputs": [],
   "source": [
    "# Escribir aqui la solucion\n",
    "\n"
   ]
  },
  {
   "cell_type": "code",
   "execution_count": null,
   "id": "bbb4e6ee-4691-4663-858d-9591335812e3",
   "metadata": {},
   "outputs": [],
   "source": [
    "#@title Solucion Problema para escuela primaria {display-mode:\"form\"}\n",
    "\n",
    "#supongamos que hay 100 piezas en total\n",
    "\n",
    "azules = 10\n",
    "amarillas = 30\n",
    "verdes = 35\n",
    "rojas = 25\n",
    "\n",
    "porcentaje_rojas = rojas / (azules+amarillas+verdes+rojas)\n",
    "print(porcentaje_rojas)\n",
    "\n",
    "# saquemos de a una pieza a la vez y recalculemos el porcentaje de rojas hasta que las azules lleguen a cero\n",
    "\n",
    "while azules > 0:\n",
    "    azules = azules - 1\n",
    "    amarillas = amarillas - 1\n",
    "    verdes = verdes - 1\n",
    "    rojas = rojas - 1\n",
    "    \n",
    "    porcentaje_rojas = rojas / (azules+amarillas+verdes+rojas)\n",
    "    print(porcentaje_rojas)"
   ]
  },
  {
   "cell_type": "markdown",
   "id": "baaef961-f6d3-4232-a3e7-c99755ab3edb",
   "metadata": {},
   "source": [
    "### La falacia del apostador\n",
    "\n",
    "Es fácil darse cuenta que en el casino es muy difícil que en la ruleta salga 10 veces seguidas el rojo. La pregunta aquí es, si han salido 9 rojos seguidos es entonces más probable que en la siguiente tirada salga negro?\n",
    "\n",
    "La respuesta es NO. Si bien la probabilidad de que salgan 10 rojos seguidos es 0.5^10, la probabilidad de que salga rojo o negro luego de que ya han salido 9 rojos es 0.5. Suponemos que no hay cero verde.\n",
    "Esto se debe a que la probabilidad de algo que ya ha ocurrido es siempre 1.\n"
   ]
  },
  {
   "cell_type": "code",
   "execution_count": null,
   "id": "35f7c198-6ce2-4b88-a874-4bd79e3fef90",
   "metadata": {},
   "outputs": [],
   "source": [
    "# Escribir aqui la solucion\n",
    "\n"
   ]
  },
  {
   "cell_type": "code",
   "execution_count": null,
   "id": "6f06d254-a68e-4094-8742-1c3eeefeb892",
   "metadata": {},
   "outputs": [],
   "source": [
    "#@title Solucion Simulacion La falacia del apostador {display-mode:\"form\"}\n",
    "\n",
    "import random\n",
    "n = 10 #numero de veces seguidas que quiero que salga negro\n",
    "total_intentos = 100000 #total de intentos a simular\n",
    "n_negros_seguidos_contador = 0 #cantidad de veces que salio n veces seguidas negro\n",
    "rojo_despues_de_n_negros_contador = 0 #cantidad de veces que salio rojo \n",
    "# numero de intentos\n",
    "for intento in range(total_intentos):\n",
    "    contador = 0\n",
    "    r = random.randrange(2) # 0 es negro 1 es rojo\n",
    "    while r == 0 and contador < 5:\n",
    "        r = random.randrange(2)\n",
    "        contador += 1\n",
    "    if contador == 5:\n",
    "        n_negros_seguidos_contador += 1\n",
    "        r = random.randrange(2)\n",
    "        if r == 1:\n",
    "            rojo_despues_de_n_negros_contador += 1\n",
    "\n",
    "print(f\"Total de intentos: {total_intentos}\")\n",
    "print(f\"Cantidad de veces que salieron {n} negros seguidos: {n_negros_seguidos_contador}\")\n",
    "prob_n_negros = n_negros_seguidos_contador/total_intentos\n",
    "print(f\"Probabilidad de {n} negros seguidos: {prob_n_negros}\")\n",
    "print(f\"Cantidad de veces que salio rojo luego de {n} negros seguidos: {rojo_despues_de_n_negros_contador}\")\n",
    "prob_rojo_despues_de_n_negros = rojo_despues_de_n_negros_contador/n_negros_seguidos_contador\n",
    "print(f\"Probabilidad rojo luego de {n} negros seguidos: {prob_rojo_despues_de_n_negros}\")"
   ]
  },
  {
   "cell_type": "markdown",
   "id": "6c39a3cf-cbab-49c9-810d-437037008604",
   "metadata": {},
   "source": [
    "### El problema de Monty Hall (o de las tres puertas)\n",
    "Un participante debe elegir entre tres puertas. Detrás de una de ellas hay un automóvil como premio y en las otras dos hay cabras. Una vez que el participante elige una puerta el conductor abre una de las puertas donde hay una cabra y le pregunta al participante si quiere cambiar la puerta elegida. ¿Le conviene al participante cambiar de puerta?\n",
    "\n",
    "La respuesta es SÍ. Sí conviene cambiar de puerta porque aumento mi probabilidad de 0.33 a 0.66. Esto se debe a que el conductor al abrir la puerta me da más información y si bien al principio mi probabilidad de adivinar era 1/3 una vez que abre la puerta con una cabra si cambio de puerta ganaría si al principio me hubiese equivocado y mi probabilidad de equivocarme al principio era 2/3."
   ]
  },
  {
   "cell_type": "code",
   "execution_count": null,
   "id": "f395d8c4-645f-40e1-9ccd-a7b7a961c3d1",
   "metadata": {},
   "outputs": [],
   "source": [
    "# Escribir aqui la solucion\n",
    "\n"
   ]
  },
  {
   "cell_type": "code",
   "execution_count": null,
   "id": "2022a1c1-67a4-44fb-a55c-cae578295b9c",
   "metadata": {},
   "outputs": [],
   "source": [
    "#@title Solucion Simulacion Problema de las tres puertas {display-mode:\"form\"}\n",
    "import random\n",
    "total_intentos = 10000 #total de intentos a simular\n",
    "gano_cambiando = 0\n",
    "gano_sin_cambiar = 0\n",
    "# numero de intentos\n",
    "for intento in range(total_intentos):\n",
    "    puertas = [0,0,0] #inicializamos las puertas con todas cabras (0 = cabra, 1 = auto)\n",
    "    puerta_del_auto = random.randrange(3) #numero de la puerta donde estara el auto\n",
    "  \n",
    "    puertas[puerta_del_auto] = 1 #asignamos el auto a la puerta elegida aleatoriamente\n",
    "    puerta_elegida = random.randrange(3) #elijo una puerta al azar\n",
    "  \n",
    "    if puerta_elegida == puerta_del_auto:\n",
    "        gano_sin_cambiar += 1\n",
    "  \n",
    "    #guardo los numeros de las puertas que el conductor puede abrir\n",
    "    puertas_que_puede_abrir_el_conductor = [] \n",
    "    for i in range(3):\n",
    "        #solo puede abrir donde no haya elegido el participante y donde haya una cabra\n",
    "        if i != puerta_elegida and puertas[i] == 0:\n",
    "            puertas_que_puede_abrir_el_conductor.append(i)\n",
    "  \n",
    "\n",
    "    #elegir aleatoriamente la puerta a abrir\n",
    "    puerta_a_abrir = random.choice(puertas_que_puede_abrir_el_conductor)\n",
    "    puerta_a_la_que_puedo_cambiar = [0,1,2]\n",
    "    puerta_a_la_que_puedo_cambiar.remove(puerta_elegida) #eliminar la puerta elegida\n",
    "    puerta_a_la_que_puedo_cambiar.remove(puerta_a_abrir) #eliminar la puerta abierta por el conductor\n",
    "\n",
    "    if puerta_a_la_que_puedo_cambiar[0] == puerta_del_auto:\n",
    "        gano_cambiando += 1\n",
    "\n",
    "print(f\"Numero de veces que gano sin cambiar la eleccion: {gano_sin_cambiar}\")\n",
    "print(f\"Probabilidad: {gano_sin_cambiar/total_intentos}\")\n",
    "print(f\"Numero de veces que gano cambiando la eleccion: {gano_cambiando}\")\n",
    "print(f\"Probabilidad: {gano_cambiando/total_intentos}\")"
   ]
  },
  {
   "cell_type": "markdown",
   "id": "f3548d67-2904-4b3c-a876-b81e7cbfc8c1",
   "metadata": {},
   "source": [
    "### El problema de los 100 prisioneros\n",
    "Hay 100 prisioneros numerados de 1 a 100 y un cuarto con 100 casilleros que contienen los números de los prisioneros pero aleatoriamente. Los 100 prisioneros deben entrar al cuarto de a uno y abrir el casillero donde se encuentra su número pero sólo tienen 50 intentos para encontrarlo. Si todos los prisioneros encuentran su número quedan en libertad, si uno falla nadie queda en libertad. Los prisioneros pueden coordinar una estrategia pero una vez que el primero ingresa al cuarto no pueden hablar más. La probabilidad de que se salven eligiendo aleatoriamente es casi nula: 0.5^100. Creerías si te digo que hay una estrategia que les da una probabilidad mayor al 30% para salvarse?\n",
    "\n",
    "Aquí la estrategia que aumenta la probabilidad de salvarse a poco más del 30% es la siguiente: Cada prisionero ingresa al cuarto y abre el casillero correspondiente a su número, si su número no está en ese casillero entonces abre el casillero que tiene el número que ha salido en el casillero que acaba de abrir y así sucesivamente. Si bien este problema es difícil de calcularlo matematicamente es muy simple de simularlo en una computadora."
   ]
  },
  {
   "cell_type": "code",
   "execution_count": null,
   "id": "a678dfb8-e688-4d71-a274-40df369bacf0",
   "metadata": {},
   "outputs": [],
   "source": [
    "# Escribir aqui la solucion usando la estrategia aleatoria\n",
    "\n"
   ]
  },
  {
   "cell_type": "code",
   "execution_count": null,
   "id": "4c8118e5-59dd-4689-8d3e-531a83862a45",
   "metadata": {},
   "outputs": [],
   "source": [
    "# Escribir aqui la solucion usando la estrategia de seleccionar la caja con el ultimo numero que salio\n",
    "\n"
   ]
  },
  {
   "cell_type": "code",
   "execution_count": null,
   "id": "31e28e00-4945-4c32-a28f-98ef8f4f7a96",
   "metadata": {},
   "outputs": [],
   "source": [
    "#@title Solucion Simulacion Estrategia Aleatoria {display-mode:\"form\"}\n",
    "\n",
    "#Estrategia aleatoria\n",
    "import random\n",
    "numero_de_prisioneros = 100\n",
    "total_intentos = 10000 #total de intentos a simular\n",
    "veces_que_ganaron = 0\n",
    "# numero de intentos\n",
    "for intento in range(total_intentos):\n",
    "    casilleros = list(range(numero_de_prisioneros)) #genero los numeros en las cajas\n",
    "    random.shuffle(casilleros) #los mezclo aleatoriamente\n",
    "  \n",
    "    pierden = False\n",
    "    for prisionero in range(numero_de_prisioneros):\n",
    "        #crear una lista de las posibles cajas a abrir\n",
    "        casilleros_a_elegir = list(range(numero_de_prisioneros))\n",
    "\n",
    "        intentos_restantes = numero_de_prisioneros / 2\n",
    "        #elegir una caja a abrir\n",
    "        r = random.choice(casilleros_a_elegir)\n",
    "        while intentos_restantes > 0 and casilleros[r] != prisionero: \n",
    "            #abrir la caja y eliminarla de las posibles a elegir\n",
    "            casilleros_a_elegir.remove(r)\n",
    "            #elegir una caja a abrir\n",
    "            r = random.choice(casilleros_a_elegir)\n",
    "            intentos_restantes -= 1\n",
    "        if intentos_restantes == 0:\n",
    "            pierden = True\n",
    "            break #si uno falla no hace falta seguir probando\n",
    "\n",
    "    if not pierden:\n",
    "        veces_que_ganaron += 1\n",
    "\n",
    "print(f\"Numero de veces que se salvan: {veces_que_ganaron}\")\n",
    "print(f\"Probabilidad: {veces_que_ganaron/total_intentos}\")\n",
    "print(f\"Probabilidad teorica: {0.5**numero_de_prisioneros}\")"
   ]
  },
  {
   "cell_type": "code",
   "execution_count": null,
   "id": "e769785f-e6b0-4d66-9054-d756b73b7a71",
   "metadata": {},
   "outputs": [],
   "source": [
    "#@title Solucion Simulacion Estrategia de seleccionar la caja con el ultimo numero que salio {display-mode:\"form\"}\n",
    "\n",
    "#Estrategia de seleccionar la caja con el ultimo numero que salio\n",
    "import random\n",
    "numero_de_prisioneros = 100\n",
    "total_intentos = 10000 #total de intentos a simular\n",
    "veces_que_ganaron = 0\n",
    "# numero de intentos\n",
    "for intento in range(total_intentos):\n",
    "    casilleros = list(range(numero_de_prisioneros)) #genero los numeros en las cajas\n",
    "    random.shuffle(casilleros) #los mezclo aleatoriamente\n",
    "  \n",
    "    pierden = False\n",
    "    for prisionero in range(numero_de_prisioneros):\n",
    "        intentos_restantes = numero_de_prisioneros / 2\n",
    "        #elegir una caja a abrir\n",
    "        casillero_a_elegir = prisionero\n",
    "        while intentos_restantes > 0 and casilleros[casillero_a_elegir] != prisionero: \n",
    "            #elegir una caja a abrir\n",
    "            casillero_a_elegir = casilleros[casillero_a_elegir]\n",
    "            intentos_restantes -= 1\n",
    "        if intentos_restantes == 0:\n",
    "            pierden = True\n",
    "            break #si uno falla no hace falta seguir probando\n",
    "\n",
    "    if not pierden:\n",
    "        veces_que_ganaron += 1\n",
    "\n",
    "print(f\"Numero de veces que se salvan: {veces_que_ganaron}\")\n",
    "print(f\"Probabilidad: {veces_que_ganaron/total_intentos}\")"
   ]
  },
  {
   "cell_type": "markdown",
   "id": "d3acaea5-7ee3-4764-b383-4ad0f351cb8d",
   "metadata": {},
   "source": [
    "# Fin: [Volver al contenido del curso](https://www.freecodingtour.com/cursos/espanol/programacion/programacion.html)"
   ]
  }
 ],
 "metadata": {
  "kernelspec": {
   "display_name": "Python 3 (ipykernel)",
   "language": "python",
   "name": "python3"
  },
  "language_info": {
   "codemirror_mode": {
    "name": "ipython",
    "version": 3
   },
   "file_extension": ".py",
   "mimetype": "text/x-python",
   "name": "python",
   "nbconvert_exporter": "python",
   "pygments_lexer": "ipython3",
   "version": "3.9.7"
  }
 },
 "nbformat": 4,
 "nbformat_minor": 5
}
