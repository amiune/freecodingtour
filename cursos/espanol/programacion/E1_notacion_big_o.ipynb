{
 "cells": [
  {
   "cell_type": "markdown",
   "id": "dc0afd59-b5ef-46a9-b3a1-124fc31d1140",
   "metadata": {},
   "source": [
    "# Notacion Big O\n",
    "\n",
    "Aqui veremos una forma de medir que tan eficiente es un programa en terminos de cuanto poder de computo y memoria utiliza para resolver un problema en funcion de su entrada."
   ]
  },
  {
   "cell_type": "markdown",
   "id": "9b258920-51f7-4adb-8eb5-1015721145fd",
   "metadata": {},
   "source": [
    "Nos centraremos primero en calcular cuanto poder de computo necesita un programa para resolver un problema. Para ello contaremos cuantas lineas de codigo debe ejecutar en total.\n",
    "\n",
    "Supongamos que queremos encontrar el numero mas grande de la siguiente lista: [8, 3, 20, 4]"
   ]
  },
  {
   "cell_type": "code",
   "execution_count": null,
   "id": "f02e32ed-1b8a-4ecb-b2fd-b18ac68db214",
   "metadata": {},
   "outputs": [],
   "source": [
    "lista = [8, 3, 20, 4]\n",
    "mayor = lista[0]\n",
    "if lista[1] > mayor: mayor = lista[1]\n",
    "if lista[2] > mayor: mayor = lista[2]\n",
    "if lista[3] > mayor: mayor = lista[3]\n",
    "print(mayor)"
   ]
  },
  {
   "cell_type": "markdown",
   "id": "1021de57-2ba1-48ba-9365-991a3ef43446",
   "metadata": {},
   "source": [
    "En este caso para encontrar el mayor necesitamos ejecutar al menos 4 lineas de codigo, una por cada elemento de la lista.\n",
    "\n",
    "Si resolvemos este problema con una funcion que encuentre el numero mas grande de cualquier lista que le pasemos como entrada tenemos lo siguiente:"
   ]
  },
  {
   "cell_type": "code",
   "execution_count": null,
   "id": "d8ee07d5-db24-4f69-bb5f-c14e94afbb38",
   "metadata": {},
   "outputs": [],
   "source": [
    "def encontrar_el_mayor(lista):\n",
    "    n = len(lista)\n",
    "    mayor = lista[0]\n",
    "    for i in range(n):\n",
    "        if lista[i] > mayor:\n",
    "            mayor = lista[i]\n",
    "    return mayor"
   ]
  },
  {
   "cell_type": "markdown",
   "id": "c5ca2993-2e01-4b14-800e-86d4e46ef2ce",
   "metadata": {},
   "source": [
    "Vemos aqui que esta funcion para resolver el problema tiene que ejecutar al menos n lineas de codigo, donde n es el numero de elementos de la lista. Entonces diremos que en la notacion bigO este programa es de orden O(n).\n",
    "\n",
    "O(n) quiere decir que si la entrada de dicha funcion tiene n elementos entonces el programa necesitara ejecutar al menos n lineas de codigo."
   ]
  },
  {
   "cell_type": "markdown",
   "id": "d8542c3f-20fb-4756-b03c-df0176f2dbdb",
   "metadata": {},
   "source": [
    "La notación Big O caracteriza a funciones de acuerdo a su tasa de crecimiento dependiendo de la entrada (nos dice qué tan rápido crecen de en función de la entrada):\n",
    "Ejemplos:\n",
    "- O(1): la función es constante, no crece dependiendo de la entrada\n",
    "- O(n): la función crece linealmente respecto de la entrada\n",
    "- O(log n): la función crece logarítmicamente respecto de la entrada\n",
    "- O(n^2): la función crece cuadráticamente respecto de la entrada\n",
    "- O(2^n): la función crece exponencialmente respecto de la entrada\n",
    "- O(n!): la función crece factorialmente respecto de la entrada\n"
   ]
  },
  {
   "cell_type": "markdown",
   "id": "295ceacf-e988-4876-995b-1b5b6513b54b",
   "metadata": {},
   "source": [
    "## Ejercicios\n",
    "\n",
    "Resolver los siguientes ejercicios y decir cual es la notacion big O en cada uno de ellos"
   ]
  },
  {
   "cell_type": "markdown",
   "id": "d69a6691-44c2-4905-884d-83d1fde98098",
   "metadata": {},
   "source": [
    "### Ejercicio 1\n",
    "\n",
    "Crear una funcion **ejercicio1(lista)** que reciba una lista de n números y que devuelva el valor del número que está en la posición del medio\n",
    "\n",
    "*Ejemplo de input y output:*\n",
    "\n",
    "*Input: lista=[4,5,9,7,8,2,4]*\n",
    "\n",
    "*Output: 7*"
   ]
  },
  {
   "cell_type": "code",
   "execution_count": null,
   "id": "530dc7f1-839c-479b-b3cc-24aac26bcd34",
   "metadata": {},
   "outputs": [],
   "source": [
    "def ejercicio1(lista):\n",
    "    # Escribir aqui la solucion\n",
    "\n",
    "\n"
   ]
  },
  {
   "cell_type": "code",
   "execution_count": null,
   "id": "e36aebe1-a815-48dd-924b-ed9ae7abda20",
   "metadata": {},
   "outputs": [],
   "source": [
    "# No modificar el siguiente codigo\n",
    "# Solo ejecutarlo para saber si la funcion creada pasa todos los tests\n",
    "assert ejercicio1([4,5,9,7,8,2,4]) == 7, \"Error en el test 1\"\n",
    "assert ejercicio1([1,2,3]) == 2, \"Error en el test 2\"\n",
    "assert ejercicio1([1,1,1,0,1,1,1]) == 0, \"Error en el test 3\"\n",
    "assert ejercicio1([4]) == 4, \"Error en el test 4\"\n",
    "\"Felicitaciones todos los casos de prueba fueron pasados exitosamente!!\""
   ]
  },
  {
   "cell_type": "code",
   "execution_count": null,
   "id": "231f3af4-8945-4457-bcd4-97290ae5827d",
   "metadata": {},
   "outputs": [],
   "source": [
    "#@title Solucion Ejercicio 1 {display-mode:\"form\"}\n",
    "\n",
    "def ejercicio1(lista):\n",
    "    return lista[len(lista)//2]\n",
    "\n",
    "# Esta funcion es de orden O(1) porque no importa cuantos elementos tenga la lista de entrada \n",
    "# siempre necesito solo una linea de codigo para devolver el valor del medio"
   ]
  },
  {
   "cell_type": "markdown",
   "id": "9caa18c7-2b54-49fa-aa80-34df59e56b8e",
   "metadata": {},
   "source": [
    "### Ejercicio 2\n",
    "\n",
    "Crear una funcion **ejercicio2(lista)** que reciba una lista de n números y que calcule la suma de todos ellos\n",
    "\n",
    "*Ejemplo de input y output:*\n",
    "\n",
    "*Input: lista=[4,5,9]*\n",
    "\n",
    "*Output: 18*"
   ]
  },
  {
   "cell_type": "code",
   "execution_count": null,
   "id": "6ad24241-8875-4fe1-81b3-f52a5de631a6",
   "metadata": {},
   "outputs": [],
   "source": [
    "def ejercicio2(lista):\n",
    "    # Escribir aqui la solucion\n",
    "\n",
    "\n"
   ]
  },
  {
   "cell_type": "code",
   "execution_count": null,
   "id": "23f5eee5-a685-4e99-a5cd-63956daac93a",
   "metadata": {},
   "outputs": [],
   "source": [
    "# No modificar el siguiente codigo\n",
    "# Solo ejecutarlo para saber si la funcion creada pasa todos los tests\n",
    "assert ejercicio2([4,5,9]) == 18, \"Error en el test 1\"\n",
    "assert ejercicio2([1,2,3]) == 6, \"Error en el test 2\"\n",
    "assert ejercicio2([1,1,1,0,1,1,1]) == 6, \"Error en el test 3\"\n",
    "assert ejercicio2([4]) == 4, \"Error en el test 4\"\n",
    "\"Felicitaciones todos los casos de prueba fueron pasados exitosamente!!\""
   ]
  },
  {
   "cell_type": "code",
   "execution_count": null,
   "id": "b98dab0a-c8d5-4687-be71-d37971543aae",
   "metadata": {},
   "outputs": [],
   "source": [
    "#@title Solucion Ejercicio 2 {display-mode:\"form\"}\n",
    "\n",
    "def ejercicio2(lista):\n",
    "    suma = 0\n",
    "    n = len(lista)\n",
    "    for i in range(n):\n",
    "        suma += lista[i]\n",
    "    return suma\n",
    "\n",
    "# Esta funcion es de orden O(n) porque depende linealmente de la cantidad de elementos de la lista\n",
    "# si la lista tiene n elementos necesito ejecutar n lineas de codigo para encontrar la solucion"
   ]
  },
  {
   "cell_type": "markdown",
   "id": "41c0204f-977d-451f-873a-bb8f08d13bc2",
   "metadata": {},
   "source": [
    "### Ejercicio 3\n",
    "\n",
    "Crear una funcion **ejercicio3(lista, x)** que reciba una lista de n números ordenados y que encuentre la posicion en dicha lista del numero x pasado como parametro\n",
    "\n",
    "*Ejemplo de input y output:*\n",
    "\n",
    "*Input: lista=[2,3,8,9,11], x=8*\n",
    "\n",
    "*Output: 2*\n",
    "\n",
    "Nota: hay varias formas de solucionar este problema y cada forma de solucionarlo puede tener un orden bigO distinto"
   ]
  },
  {
   "cell_type": "code",
   "execution_count": null,
   "id": "6cfbd9db-cffd-4c3d-8df2-7c17ae524fa7",
   "metadata": {},
   "outputs": [],
   "source": [
    "def ejercicio3(lista, x):\n",
    "    # Escribir aqui la solucion\n"
   ]
  },
  {
   "cell_type": "code",
   "execution_count": null,
   "id": "26641df8-bcf1-42d4-aa43-7c39e29a9198",
   "metadata": {},
   "outputs": [],
   "source": [
    "# No modificar el siguiente codigo\n",
    "# Solo ejecutarlo para saber si la funcion creada pasa todos los tests\n",
    "assert ejercicio3([2,3,8,9,11],8) == 2, \"Error en el test 1\"\n",
    "assert ejercicio3([2,3,8,9,11,13,19,22,24,33,34,41],11) == 4, \"Error en el test 2\"\n",
    "assert ejercicio3([2,3,8,9,11,13,19,22,24,33,34,41],41) == 11, \"Error en el test 3\"\n",
    "\"Felicitaciones todos los casos de prueba fueron pasados exitosamente!!\""
   ]
  },
  {
   "cell_type": "code",
   "execution_count": null,
   "id": "14b3c124-b31e-4bc8-9080-c330ca8fa98b",
   "metadata": {},
   "outputs": [],
   "source": [
    "#@title Solucion Ejercicio 3 {display-mode:\"form\"}\n",
    "\n",
    "# Solucion 1 de orden O(n)\n",
    "def ejercicio3(lista, x):\n",
    "    n = len(lista)\n",
    "    for i in range(n):\n",
    "        if lista[i] == x:\n",
    "            return i\n",
    "    return -1\n",
    "\n",
    "# Esta funcion es de orden O(n) porque depende linealmente de la cantidad de elementos de la lista\n",
    "# si la lista tiene n elementos necesito ejecutar n lineas de codigo para encontrar la solucion\n",
    "# Aprovechando el hecho de que la lista esta ordenada podemos hacer una solucion mas eficiente\n",
    "# como vemos en la siguiente solucion\n",
    "\n",
    "# Solucion 2 de orden O(log n)\n",
    "def ejercicio3(lista, x):\n",
    "    n = len(lista)\n",
    "    primero = 0\n",
    "    ultimo = n\n",
    "    while primero != ultimo:\n",
    "        elemento_del_medio = (primero+ultimo)//2\n",
    "        if lista[elemento_del_medio] == x:\n",
    "            return elemento_del_medio\n",
    "        elif lista[elemento_del_medio] < x:\n",
    "            primero = elemento_del_medio\n",
    "        else:\n",
    "            ultimo = elemento_del_medio\n",
    "    return -1\n",
    "\n",
    "# Esta funcion es de orden O(log n) porque depende logaritmicamente de la cantidad de elementos \n",
    "# de la lista. Si la lista tiene n elementos necesito ejecutar log(n) lineas de codigo \n",
    "# para encontrar la solucion. Esta busqueda se conoce como busqueda binaria"
   ]
  },
  {
   "cell_type": "markdown",
   "id": "ad4e7eb7-de43-4639-98aa-2f14836d3e9c",
   "metadata": {},
   "source": [
    "### Ejercicio 4\n",
    "\n",
    "Crear una funcion **ejercicio4(lista1, lista2)** que reciba dos listas y que devuelva todas las posibles tuplas ordenadas de los elementos de dos listas.\n",
    "\n",
    "*Ejemplo de input y output:*\n",
    "\n",
    "*Input: lista1=[1,2], lista2=[4,5,6]*\n",
    "\n",
    "*Output: [(1,4),(1,5),(1,6),(2,4),(2,5),(2,6)]*"
   ]
  },
  {
   "cell_type": "code",
   "execution_count": null,
   "id": "b52e410e-06fe-4456-b0b6-8f5eef3dcdb5",
   "metadata": {},
   "outputs": [],
   "source": [
    "def ejercicio4(lista1, lista2):\n",
    "    # Escribir aqui la solucion\n"
   ]
  },
  {
   "cell_type": "code",
   "execution_count": null,
   "id": "8e1f4ec7-84c4-4c19-8ea7-589622429e8e",
   "metadata": {},
   "outputs": [],
   "source": [
    "# No modificar el siguiente codigo\n",
    "# Solo ejecutarlo para saber si la funcion creada pasa todos los tests\n",
    "assert ejercicio4([1,2],[4,5,6]) == [(1,4),(1,5),(1,6),(2,4),(2,5),(2,6)], \"Error en el test 1\"\n",
    "assert ejercicio4([4,5,6],[1,2]) == [(4,1),(4,2),(5,1),(5,2),(6,1),(6,2)], \"Error en el test 2\"\n",
    "assert ejercicio4([1],[2,3,4,5]) == [(1,2),(1,3),(1,4),(1,5)], \"Error en el test 3\"\n",
    "\"Felicitaciones todos los casos de prueba fueron pasados exitosamente!!\""
   ]
  },
  {
   "cell_type": "code",
   "execution_count": null,
   "id": "2345196d-7a54-48b8-af6c-4c682fefdb5c",
   "metadata": {},
   "outputs": [],
   "source": [
    "#@title Solucion Ejercicio 4 {display-mode:\"form\"}\n",
    "\n",
    "def ejercicio4(lista1, lista2):\n",
    "    lista_de_tuplas = []\n",
    "    n = len(lista1)\n",
    "    m = len(lista2)\n",
    "    for i in range(n):\n",
    "        for j in range(m):\n",
    "            lista_de_tuplas.append((lista1[i],lista2[j]))\n",
    "    return lista_de_tuplas\n",
    "\n",
    "# Esta funcion es de orden O(n^2) porque depende cuadraticamente de la cantidad de elementos \n",
    "# de las listas de entrada. En realidad el orden exacto seria O(n*m) donde n es el tamaño de\n",
    "# la primera lista y m el de la segunda pero para fines practicos se toma como n solo el mas\n",
    "# grande de los dos ya que solo queremos establecer un limite superior aproximado"
   ]
  },
  {
   "cell_type": "markdown",
   "id": "8f78d02b-f13c-4a70-a65c-bed3599de8b9",
   "metadata": {},
   "source": [
    "# Fin: [Volver al contenido del curso](https://www.freecodingtour.com/cursos/espanol/programacion/programacion.html)"
   ]
  }
 ],
 "metadata": {
  "kernelspec": {
   "display_name": "Python 3 (ipykernel)",
   "language": "python",
   "name": "python3"
  },
  "language_info": {
   "codemirror_mode": {
    "name": "ipython",
    "version": 3
   },
   "file_extension": ".py",
   "mimetype": "text/x-python",
   "name": "python",
   "nbconvert_exporter": "python",
   "pygments_lexer": "ipython3",
   "version": "3.9.7"
  }
 },
 "nbformat": 4,
 "nbformat_minor": 5
}
