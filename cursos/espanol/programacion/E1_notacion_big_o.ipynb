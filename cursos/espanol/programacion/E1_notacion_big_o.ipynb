{
 "cells": [
  {
   "cell_type": "markdown",
   "id": "dc0afd59-b5ef-46a9-b3a1-124fc31d1140",
   "metadata": {},
   "source": [
    "# Notacion Big O\n",
    "\n",
    "Aqui veremos una forma de medir que tan eficiente es un programa en terminos de cuanto poder de computo y memoria utiliza para resolver un problema en funcion de su entrada."
   ]
  },
  {
   "cell_type": "markdown",
   "id": "9b258920-51f7-4adb-8eb5-1015721145fd",
   "metadata": {},
   "source": [
    "Nos centraremos primero en calcular cuanto poder de computo necesita un programa para resolver un problema. Para ello contaremos cuantas lineas de codigo debe ejecutar en total.\n",
    "\n",
    "Supongamos que queremos encontrar el numero mas grande de la siguiente lista: [8, 3, 20, 4]"
   ]
  },
  {
   "cell_type": "code",
   "execution_count": 1,
   "id": "f02e32ed-1b8a-4ecb-b2fd-b18ac68db214",
   "metadata": {},
   "outputs": [
    {
     "name": "stdout",
     "output_type": "stream",
     "text": [
      "20\n"
     ]
    }
   ],
   "source": [
    "lista = [8, 3, 20, 4]\n",
    "mayor = lista[0]\n",
    "if lista[1] > mayor: mayor = lista[1]\n",
    "if lista[2] > mayor: mayor = lista[2]\n",
    "if lista[3] > mayor: mayor = lista[3]\n",
    "print(mayor)"
   ]
  },
  {
   "cell_type": "markdown",
   "id": "1021de57-2ba1-48ba-9365-991a3ef43446",
   "metadata": {},
   "source": [
    "En este caso para encontrar el mayor necesitamos ejecutar al menos 4 lineas de codigo, una por cada elemento de la lista.\n",
    "\n",
    "Si resolvemos este problema con una funcion que encuentre el numero mas grande de cualquier lista que le pasemos como entrada tenemos lo siguiente:"
   ]
  },
  {
   "cell_type": "code",
   "execution_count": 2,
   "id": "d8ee07d5-db24-4f69-bb5f-c14e94afbb38",
   "metadata": {},
   "outputs": [],
   "source": [
    "def encontrar_el_mayor(lista):\n",
    "    n = len(lista)\n",
    "    mayor = lista[0]\n",
    "    for i in range(n):\n",
    "        if lista[i] > mayor:\n",
    "            mayor = lista[i]\n",
    "    return mayor"
   ]
  },
  {
   "cell_type": "markdown",
   "id": "c5ca2993-2e01-4b14-800e-86d4e46ef2ce",
   "metadata": {},
   "source": [
    "Vemos aqui que esta funcion para resolver el problema tiene que ejecutar al menos n lineas de codigo, donde n es el numero de elementos de la lista. Entonces diremos que en la notacion bigO este programa es de orden O(n).\n",
    "\n",
    "O(n) quiere decir que si la entrada de dicha funcion tiene n elementos entonces el programa necesitara ejecutar al menos n lineas de codigo."
   ]
  },
  {
   "cell_type": "markdown",
   "id": "d8542c3f-20fb-4756-b03c-df0176f2dbdb",
   "metadata": {},
   "source": [
    "La notación Big O caracteriza a funciones de acuerdo a su tasa de crecimiento dependiendo de la entrada (nos dice qué tan rápido crecen de en función de la entrada):\n",
    "Ejemplos:\n",
    "- O(1): la función es constante, no crece dependiendo de la entrada\n",
    "- O(n): la función crece linealmente respecto de la entrada\n",
    "- O(log n): la función crece logarítmicamente respecto de la entrada\n",
    "- O(n^2): la función crece cuadráticamente respecto de la entrada\n",
    "- O(2^n): la función crece exponencialmente respecto de la entrada\n",
    "- O(n!): la función crece factorialmente respecto de la entrada\n"
   ]
  },
  {
   "cell_type": "markdown",
   "id": "d69a6691-44c2-4905-884d-83d1fde98098",
   "metadata": {},
   "source": [
    "## Ejercicio 1\n",
    "\n",
    "Dado un lista de n números devolver el valor del número que está en la posición del medio.\n"
   ]
  },
  {
   "cell_type": "code",
   "execution_count": null,
   "id": "530dc7f1-839c-479b-b3cc-24aac26bcd34",
   "metadata": {},
   "outputs": [],
   "source": []
  },
  {
   "cell_type": "code",
   "execution_count": null,
   "id": "231f3af4-8945-4457-bcd4-97290ae5827d",
   "metadata": {},
   "outputs": [],
   "source": []
  },
  {
   "cell_type": "markdown",
   "id": "9caa18c7-2b54-49fa-aa80-34df59e56b8e",
   "metadata": {},
   "source": [
    "## Ejercicio 2\n",
    "\n",
    "Dado un lista de n números calcular la suma de todos ellos."
   ]
  },
  {
   "cell_type": "code",
   "execution_count": null,
   "id": "6ad24241-8875-4fe1-81b3-f52a5de631a6",
   "metadata": {},
   "outputs": [],
   "source": []
  },
  {
   "cell_type": "code",
   "execution_count": null,
   "id": "b98dab0a-c8d5-4687-be71-d37971543aae",
   "metadata": {},
   "outputs": [],
   "source": []
  },
  {
   "cell_type": "markdown",
   "id": "41c0204f-977d-451f-873a-bb8f08d13bc2",
   "metadata": {},
   "source": [
    "## Ejercicio 3\n",
    "\n",
    "Dado un lista ordenada de n números encontrar el número x pasado como parámetro.\n"
   ]
  },
  {
   "cell_type": "code",
   "execution_count": null,
   "id": "6cfbd9db-cffd-4c3d-8df2-7c17ae524fa7",
   "metadata": {},
   "outputs": [],
   "source": []
  },
  {
   "cell_type": "code",
   "execution_count": null,
   "id": "14b3c124-b31e-4bc8-9080-c330ca8fa98b",
   "metadata": {},
   "outputs": [],
   "source": []
  },
  {
   "cell_type": "markdown",
   "id": "ad4e7eb7-de43-4639-98aa-2f14836d3e9c",
   "metadata": {},
   "source": [
    "## Ejercicio 4\n",
    "\n",
    "Crear todas las posibles tuplas ordenadas de los elementos de dos listas"
   ]
  },
  {
   "cell_type": "code",
   "execution_count": null,
   "id": "b52e410e-06fe-4456-b0b6-8f5eef3dcdb5",
   "metadata": {},
   "outputs": [],
   "source": []
  },
  {
   "cell_type": "code",
   "execution_count": null,
   "id": "2345196d-7a54-48b8-af6c-4c682fefdb5c",
   "metadata": {},
   "outputs": [],
   "source": []
  },
  {
   "cell_type": "markdown",
   "id": "8f78d02b-f13c-4a70-a65c-bed3599de8b9",
   "metadata": {},
   "source": [
    "# Fin: [Volver al contenido del curso](https://www.freecodingtour.com/cursos/espanol/programacion/programacion.html)"
   ]
  }
 ],
 "metadata": {
  "kernelspec": {
   "display_name": "Python 3 (ipykernel)",
   "language": "python",
   "name": "python3"
  },
  "language_info": {
   "codemirror_mode": {
    "name": "ipython",
    "version": 3
   },
   "file_extension": ".py",
   "mimetype": "text/x-python",
   "name": "python",
   "nbconvert_exporter": "python",
   "pygments_lexer": "ipython3",
   "version": "3.9.7"
  }
 },
 "nbformat": 4,
 "nbformat_minor": 5
}
