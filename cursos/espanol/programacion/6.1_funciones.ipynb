{
 "cells": [
  {
   "cell_type": "markdown",
   "metadata": {
    "id": "_MYOl2Xi1P1Z"
   },
   "source": [
    "# Entrada -> Proceso -> Salida con Funciones\n",
    "\n",
    "Como mencionamos en la unidad anterior todo programa de computacion consta de tres partes:\n",
    "\n",
    "1. La **entrada** que son los datos que le proveemos al programa\n",
    "2. El **procesamiento** de esos datos (el programa propiamente dicho)\n",
    "3. La **salida** que es el resultado que obtenemos luego de procesar los datos"
   ]
  },
  {
   "cell_type": "markdown",
   "metadata": {},
   "source": [
    "Un programa complejo esta compuesto de varios pequeños programas donde la salida de un programa puede ser la entrada de otro. Por ello existe una forma de crear estos pequeños programas diciendo cuales son las variables de entrada, cual es su nombre y cual es su salida. Estos pequeños programas se conocen como funciones y se definen de la siguiente forma:"
   ]
  },
  {
   "cell_type": "code",
   "execution_count": null,
   "metadata": {},
   "outputs": [],
   "source": [
    "# Entrada\n",
    "def incrementar_en_uno(mi_numero_de_entrada):\n",
    "    # Procesamiento\n",
    "    salida = mi_numero_de_entrada + 1\n",
    "    \n",
    "    # Salida\n",
    "    return salida"
   ]
  },
  {
   "cell_type": "markdown",
   "metadata": {},
   "source": [
    "Acabamos de crear un pequeño programa que recibe una variable llamada **mi_numero_de_entrada**, procesa esta varible incrementando su valor en uno y devuelve el resultado utilizando la palabra **return** y a continuacion el valor del resultado a devolver. A este programa le hemos puesto el nombre de **incrementar_en_uno** utilizando la palabra **def** para definir su nombre. Ahora podremos usar este pequeño programa todas las veces que querramos de ahora en mas de la siguiente manera:"
   ]
  },
  {
   "cell_type": "code",
   "execution_count": null,
   "metadata": {},
   "outputs": [],
   "source": [
    "incrementar_en_uno(10)"
   ]
  },
  {
   "cell_type": "markdown",
   "metadata": {},
   "source": [
    "Otro ejemplo:"
   ]
  },
  {
   "cell_type": "code",
   "execution_count": null,
   "metadata": {},
   "outputs": [],
   "source": [
    "incrementar_en_uno(222)"
   ]
  },
  {
   "cell_type": "markdown",
   "metadata": {},
   "source": [
    "## Resumen:\n",
    "\n",
    "![funcion](img/funcion.png)"
   ]
  },
  {
   "cell_type": "markdown",
   "metadata": {},
   "source": [
    "A los resultados de estas funciones los podemos guardar tambien en variables y luego utilizarlos.\n",
    "\n",
    "## Ejercicio 1: \n",
    "\n",
    "Adivina cual sera el valor de **z** en el siguiente ejemplo:"
   ]
  },
  {
   "cell_type": "code",
   "execution_count": null,
   "metadata": {},
   "outputs": [],
   "source": [
    "x = incrementar_en_uno(3)\n",
    "y = incrementar_en_uno(4)\n",
    "z = x + y"
   ]
  },
  {
   "cell_type": "code",
   "execution_count": null,
   "metadata": {},
   "outputs": [],
   "source": [
    "z"
   ]
  },
  {
   "cell_type": "markdown",
   "metadata": {},
   "source": [
    "Las funciones pueden tener mas de una variable de entrada. Por ejemplo, la siguiente funcion recibe dos valores como entrada y solo devuelve el valor del mayor:"
   ]
  },
  {
   "cell_type": "code",
   "execution_count": null,
   "metadata": {},
   "outputs": [],
   "source": [
    "# Entrada de la funcion\n",
    "def mayor(x,y):\n",
    "    # Procesamiento\n",
    "    if x > y:\n",
    "        salida = x\n",
    "    else:\n",
    "        salida = y\n",
    "    # Salida de la funcion\n",
    "    return salida"
   ]
  },
  {
   "cell_type": "markdown",
   "metadata": {},
   "source": [
    "Probemos ahora como funciona:"
   ]
  },
  {
   "cell_type": "code",
   "execution_count": null,
   "metadata": {},
   "outputs": [],
   "source": [
    "mayor(3,5)"
   ]
  },
  {
   "cell_type": "code",
   "execution_count": null,
   "metadata": {},
   "outputs": [],
   "source": [
    "mayor(20,11)"
   ]
  },
  {
   "cell_type": "code",
   "execution_count": null,
   "metadata": {},
   "outputs": [],
   "source": [
    "mayor(-10,-30)"
   ]
  },
  {
   "cell_type": "markdown",
   "metadata": {},
   "source": [
    "## Ejercicio 2:\n",
    "\n",
    "Crear una funcion llamada menor que reciba como entrada dos valores y devuelva el valor del menor de los dos"
   ]
  },
  {
   "cell_type": "code",
   "execution_count": null,
   "metadata": {},
   "outputs": [],
   "source": [
    "# Escribir aqui la solucion\n",
    "\n"
   ]
  },
  {
   "cell_type": "markdown",
   "metadata": {},
   "source": [
    "Probemos ahora tu funcion:"
   ]
  },
  {
   "cell_type": "code",
   "execution_count": null,
   "metadata": {},
   "outputs": [],
   "source": [
    "menor(3,5)"
   ]
  },
  {
   "cell_type": "code",
   "execution_count": null,
   "metadata": {},
   "outputs": [],
   "source": [
    "menor(20,11)"
   ]
  },
  {
   "cell_type": "code",
   "execution_count": null,
   "metadata": {},
   "outputs": [],
   "source": [
    "menor(-10,-30)"
   ]
  },
  {
   "cell_type": "code",
   "execution_count": null,
   "metadata": {},
   "outputs": [],
   "source": [
    "#@title Solucion Ejercicio 2 {display-mode:\"form\"}\n",
    "\n",
    "# Entrada de la funcion\n",
    "def menor(x,y):\n",
    "    # Procesamiento\n",
    "    if x < y:\n",
    "        salida = x\n",
    "    else:\n",
    "        salida = y\n",
    "    # Salida de la funcion\n",
    "    return salida"
   ]
  },
  {
   "cell_type": "markdown",
   "metadata": {},
   "source": [
    "## Pasemos ahora los ejercicios resueltos en la unidad anterior a funciones"
   ]
  },
  {
   "cell_type": "markdown",
   "metadata": {},
   "source": [
    "### Ejercicio A2:\n",
    "\n",
    "Pedir al usuario que ingrese dos numeros y mostrar luego el mayor de ambos. Importante: convertir la entrada del teclado de texto a numero con la funcion int() o float().\n",
    "\n",
    "Ejemplo:\n",
    "\n",
    "Entrada: \n",
    "```\n",
    "Ingrese el primer numero: 100\n",
    "Ingrese el primer numero: 20\n",
    "```\n",
    "Salida: \n",
    "```\n",
    "El mayor es: 100\n",
    "```"
   ]
  },
  {
   "cell_type": "code",
   "execution_count": null,
   "metadata": {},
   "outputs": [],
   "source": [
    "# Modificar esta solucion para que el procesamiento\n",
    "# quede dentro de una funcion\n",
    "\n",
    "# Entrada\n",
    "numero1 = int(input(\"Ingrese el primer numero:\"))\n",
    "numero2 = int(input(\"Ingrese el primer numero:\"))\n",
    "\n",
    "# Procesamiento\n",
    "if numero1 > numero2:\n",
    "    mayor = numero1\n",
    "else:\n",
    "    mayor = numero2\n",
    "\n",
    "# Salida\n",
    "print(\"El mayor es:\", mayor)"
   ]
  },
  {
   "cell_type": "code",
   "execution_count": null,
   "metadata": {},
   "outputs": [],
   "source": [
    "#@title Solucion Ejercicio A2 {display-mode:\"form\"}\n",
    "\n",
    "# Entrada a la funcion\n",
    "def mayor(x,y):\n",
    "    # Procesamiento\n",
    "    if x > y:\n",
    "        mayor = x\n",
    "    else:\n",
    "        mayor = y\n",
    "    # Salida de la funcion\n",
    "    return mayor\n",
    "\n",
    "\n",
    "# Entrada por teclado\n",
    "numero1 = int(input(\"Ingrese el primer numero:\"))\n",
    "numero2 = int(input(\"Ingrese el primer numero:\"))\n",
    "# Procesamiento utilizando la funcion definida\n",
    "mayor = mayor(numero1, numero2)\n",
    "# Salida por pantalla\n",
    "print(\"El mayor es:\", mayor)"
   ]
  },
  {
   "cell_type": "markdown",
   "metadata": {},
   "source": [
    "### Ejercicio A3 (dificultad media):\n",
    "\n",
    "Pedir al usuario que ingrese un numero y mostrar luego la suma de todos los numeros desde 1 hasta el numero ingresado por el usuario.\n",
    "\n",
    "Ejemplo:\n",
    "\n",
    "Entrada: \n",
    "```\n",
    "Ingrese un numero: 5\n",
    "```\n",
    "Salida: \n",
    "```\n",
    "La suma de 1 hasta 5 es: 15\n",
    "```\n",
    "Explicacion: 1+2+3+4+5 = 15"
   ]
  },
  {
   "cell_type": "code",
   "execution_count": null,
   "metadata": {},
   "outputs": [],
   "source": [
    "# Modificar esta solucion para que el procesamiento\n",
    "# quede dentro de una funcion\n",
    "\n",
    "# Entrada\n",
    "n = int(input(\"Ingrese un numero:\"))\n",
    "\n",
    "# Procesamiento\n",
    "suma = 0\n",
    "i = 1\n",
    "while i <= n:\n",
    "    suma = suma + i\n",
    "    i = i + 1\n",
    "\n",
    "# Salida\n",
    "print(\"La suma de 1 hasta\", n, \"es:\", suma)"
   ]
  },
  {
   "cell_type": "code",
   "execution_count": null,
   "metadata": {},
   "outputs": [],
   "source": [
    "#@title Solucion Ejercicio A3 {display-mode:\"form\"}\n",
    "\n",
    "# Entrada de la funcion\n",
    "def suma(n):\n",
    "    # Procesamiento\n",
    "    suma = 0\n",
    "    i = 1\n",
    "    while i <= n:\n",
    "        suma = suma + i\n",
    "        i = i + 1\n",
    "    # Salida de la funcion\n",
    "    return suma\n",
    "\n",
    "# Entrada por teclado\n",
    "n = int(input(\"Ingrese un numero:\"))\n",
    "\n",
    "# Procesamiento utilizando la funcion definida\n",
    "total = suma(n)\n",
    "\n",
    "# Salida por pantalla\n",
    "print(\"La suma de 1 hasta\", n, \"es:\", total)"
   ]
  },
  {
   "cell_type": "markdown",
   "metadata": {},
   "source": [
    "### Ejercicio A4:\n",
    "\n",
    "Pedir al usuario ingresar un número del 1 al 7, que represente un día de la semana (1 para lunes, 2 para martes, etc.), y luego muestre el nombre del día.\n",
    "\n",
    "Ejemplo:\n",
    "\n",
    "Entrada: \n",
    "```\n",
    "Ingrese un número del 1 al 7: 3\n",
    "```\n",
    "Salida: \n",
    "```\n",
    "Hoy es Miercoles.\n",
    "```"
   ]
  },
  {
   "cell_type": "code",
   "execution_count": null,
   "metadata": {},
   "outputs": [],
   "source": [
    "# Modificar esta solucion para que el procesamiento\n",
    "# quede dentro de una funcion\n",
    "\n",
    "# Entrada\n",
    "dia = int(input(\"Ingrese el numero del dia:\"))\n",
    "\n",
    "# Procesamiento\n",
    "nombre_del_dia = \"\"\n",
    "\n",
    "if dia == 1:\n",
    "    nombre_del_dia = \"Lunes\"\n",
    "elif dia == 2:\n",
    "    nombre_del_dia = \"Martes\"\n",
    "elif dia == 3:\n",
    "    nombre_del_dia = \"Miercoles\"\n",
    "elif dia == 4:\n",
    "    nombre_del_dia = \"Jueves\"\n",
    "elif dia == 5:\n",
    "    nombre_del_dia = \"Viernes\"\n",
    "elif dia == 6:\n",
    "    nombre_del_dia = \"Sabado\"\n",
    "elif dia == 7:\n",
    "    nombre_del_dia = \"Domingo\"\n",
    "    \n",
    "\n",
    "# Salida\n",
    "print(\"Hoy es:\", nombre_del_dia)"
   ]
  },
  {
   "cell_type": "code",
   "execution_count": null,
   "metadata": {},
   "outputs": [],
   "source": [
    "#@title Solucion Ejercicio A4 {display-mode:\"form\"}\n",
    "\n",
    "def dia_de_la_semana(dia):\n",
    "    # Procesamiento\n",
    "    nombre_del_dia = \"\"\n",
    "    \n",
    "    if dia == 1:\n",
    "        nombre_del_dia = \"Lunes\"\n",
    "    elif dia == 2:\n",
    "        nombre_del_dia = \"Martes\"\n",
    "    elif dia == 3:\n",
    "        nombre_del_dia = \"Miercoles\"\n",
    "    elif dia == 4:\n",
    "        nombre_del_dia = \"Jueves\"\n",
    "    elif dia == 5:\n",
    "        nombre_del_dia = \"Viernes\"\n",
    "    elif dia == 6:\n",
    "        nombre_del_dia = \"Sabado\"\n",
    "    elif dia == 7:\n",
    "    nombre_del_dia = \"Domingo\"\n",
    "    # Salida de la funcion\n",
    "    return nombre_del_dia\n",
    "\n",
    "# Entrada por teclado\n",
    "dia = int(input(\"Ingrese el numero del dia:\"))\n",
    "\n",
    "# Procesamiento utilizando la funcion definida\n",
    "nombre_del_dia = dia_de_la_semana(dia)\n",
    "\n",
    "# Salida por pantalla\n",
    "print(\"Hoy es:\", nombre_del_dia)"
   ]
  },
  {
   "cell_type": "markdown",
   "metadata": {},
   "source": [
    "### Ejercicio A5:\n",
    "\n",
    "Pedir al usuario ingresar una calificación (un número del 1 al 10) y luego muestre un mensaje que indique si el estudiante aprobó o reprobó. Considera que la para aprobar la nota debe ser mayor o igual que 6.\n",
    "\n",
    "Ejemplo:\n",
    "\n",
    "Entrada: \n",
    "```\n",
    "Ingrese la calificación del estudiante: 7\n",
    "```\n",
    "Salida: \n",
    "```\n",
    "El estudiante ha aprobado.\n",
    "```"
   ]
  },
  {
   "cell_type": "code",
   "execution_count": null,
   "metadata": {},
   "outputs": [],
   "source": [
    "# Modificar esta solucion para que el procesamiento\n",
    "# quede dentro de una funcion\n",
    "\n",
    "# Entrada\n",
    "nota = int(input(\"Ingrese la calificación del estudiante:\"))\n",
    "\n",
    "# Procesamiento\n",
    "condicion = \"aprobado\"\n",
    "\n",
    "if nota >= 6:\n",
    "    condicion = \"aprobado\"\n",
    "else:\n",
    "    condicion = \"reprobado\"\n",
    "\n",
    "# Salida\n",
    "print(\"El estudiante esta\", condicion)"
   ]
  },
  {
   "cell_type": "code",
   "execution_count": null,
   "metadata": {},
   "outputs": [],
   "source": [
    "#@title Solucion Ejercicio A5 {display-mode:\"form\"}\n",
    "\n",
    "def aprobado_o_no(nota):\n",
    "    # Procesamiento\n",
    "    condicion = \"aprobado\"\n",
    "\n",
    "    if nota >= 6:\n",
    "        condicion = \"aprobado\"\n",
    "    else:\n",
    "        condicion = \"reprobado\"\n",
    "        \n",
    "    # Salida\n",
    "    return condicion\n",
    "\n",
    "# Entrada por teclado\n",
    "nota = int(input(\"Ingrese la calificación del estudiante:\"))\n",
    "\n",
    "# Procesamiento utilizando la funcion definida\n",
    "condicion = aprobado_o_no(nota)\n",
    "\n",
    "# Salida por pantalla\n",
    "print(\"El estudiante esta\", condicion)"
   ]
  },
  {
   "cell_type": "markdown",
   "metadata": {},
   "source": [
    "### Ejercicio A6 (dificultad media):\n",
    "\n",
    "Pedir al usuario que ingrese dos numeros y mostrar luego la cantidad de numeros que son multiplos de 3 entre esos dos numeros.\n",
    "\n",
    "Ejemplo:\n",
    "\n",
    "Entrada: \n",
    "```\n",
    "Ingrese el primer numero: 11\n",
    "Ingrese el primer numero: 23\n",
    "```\n",
    "Salida: \n",
    "```\n",
    "Hay 4 multiplos de 3 entre 11 y 23\n",
    "```\n",
    "Explicacion: 12,15,18,21"
   ]
  },
  {
   "cell_type": "code",
   "execution_count": null,
   "metadata": {},
   "outputs": [],
   "source": [
    "# Modificar esta solucion para que el procesamiento\n",
    "# quede dentro de una funcion\n",
    "\n",
    "# Entrada\n",
    "numero1 = int(input(\"Ingrese el primer numero:\"))\n",
    "numero2 = int(input(\"Ingrese el primer numero:\"))\n",
    "\n",
    "# Procesamiento\n",
    "contador = 0\n",
    "n = numero1\n",
    "while n <= numero2:\n",
    "    if n % 3 == 0:\n",
    "        contador = contador + 1\n",
    "    n = n + 1\n",
    "\n",
    "# Salida\n",
    "print(\"Hay\", contador, \"multiplos de 3 entre\", numero1, \"y\", numero2)"
   ]
  },
  {
   "cell_type": "code",
   "execution_count": null,
   "metadata": {},
   "outputs": [],
   "source": [
    "#@title Solucion Ejercicio A6 {display-mode:\"form\"}\n",
    "\n",
    "def contar_multiplos_de_3(n1, n2):\n",
    "    contador = 0\n",
    "    n = n1\n",
    "    while n <= n2:\n",
    "        if n % 3 == 0:\n",
    "            contador = contador + 1\n",
    "        n = n + 1\n",
    "    return contador\n",
    "\n",
    "# Entrada por teclado\n",
    "numero1 = int(input(\"Ingrese el primer numero:\"))\n",
    "numero2 = int(input(\"Ingrese el primer numero:\"))\n",
    "\n",
    "total = contar_multiplos_de_3(numero1, numero2)\n",
    "\n",
    "# Salida por pantalla\n",
    "print(\"Hay\", total, \"multiplos de 3 entre\", numero1, \"y\", numero2)"
   ]
  },
  {
   "cell_type": "markdown",
   "metadata": {},
   "source": [
    "### Ejercicio A7 (dificultad dificil):\n",
    "\n",
    "Pedir al usuario que ingrese un numero por teclado entre 2 y 1000 y luego mostrar cuantos numero primos hay entre 2 y ese numero.\n",
    "\n",
    "Ejemplo:\n",
    "\n",
    "Entrada: \n",
    "```\n",
    "Ingrese un numero: 20\n",
    "```\n",
    "Salida: \n",
    "```\n",
    "Hay 8 numeros primos entre 2 y 20\n",
    "```\n",
    "Explicacion: 2,3,5,7,11,13,17,19"
   ]
  },
  {
   "cell_type": "code",
   "execution_count": null,
   "metadata": {},
   "outputs": [],
   "source": [
    "# Modificar esta solucion para que el procesamiento\n",
    "# quede dentro de dos funciones: \n",
    "# 1. una que verifique si un numero es primo\n",
    "# 2. otra que use la primera para contar los primos\n",
    "\n",
    "# Entrada\n",
    "numero = int(input(\"Ingrese un numero:\"))\n",
    "\n",
    "# Procesamiento\n",
    "contador = 0\n",
    "n = 2\n",
    "# para cada numero entre 2 y numero\n",
    "while n <= numero:\n",
    "    \n",
    "    es_primo = True\n",
    "    \n",
    "    # verificar que no sea divisible \n",
    "    # por otro numero entre 2 y n-1\n",
    "    divisor = 2\n",
    "    while divisor < n:\n",
    "        if n % divisor == 0:\n",
    "            es_primo = False\n",
    "        # pasar al siguiente divisor\n",
    "        divisor = divisor + 1\n",
    "            \n",
    "    # si n es primo sumar 1 al contador\n",
    "    if es_primo:\n",
    "        contador = contador + 1\n",
    "    \n",
    "    # pasar al siguiente numero\n",
    "    n = n + 1\n",
    "\n",
    "# Salida\n",
    "print(\"Hay\", contador, \"numeros primos entre 2 y\", numero)"
   ]
  },
  {
   "cell_type": "code",
   "execution_count": null,
   "metadata": {},
   "outputs": [],
   "source": [
    "#@title Solucion Ejercicio A7 {display-mode:\"form\"}\n",
    "\n",
    "# funcion1 solo verifica si el numero n es primo\n",
    "def es_primo(n):\n",
    "    salida = True\n",
    "    # verificar que no sea divisible \n",
    "    # por otro numero entre 2 y n-1\n",
    "    divisor = 2\n",
    "    while divisor < n:\n",
    "        if n % divisor == 0:\n",
    "            salida = False\n",
    "        # pasar al siguiente divisor\n",
    "        divisor = divisor + 1\n",
    "    # Salida de la funcion\n",
    "    return salida\n",
    "\n",
    "# funcion2 utiliza la primera para contar la cantidad\n",
    "# de numeros primos entre 2 y n\n",
    "def contar_primos(n):\n",
    "    contador = 0\n",
    "    n = 2\n",
    "    # para cada numero entre 2 y numero\n",
    "    while n <= numero:\n",
    "        # si n es primo sumar 1 al contador\n",
    "        if es_primo(n):\n",
    "            contador = contador + 1\n",
    "        # pasar al siguiente numero\n",
    "        n = n + 1\n",
    "    # Salida de la funcion\n",
    "    return contador\n",
    "\n",
    "# Entrada\n",
    "numero = int(input(\"Ingrese un numero:\"))\n",
    "\n",
    "# Procesamiento\n",
    "total = contar_primos(numero)\n",
    "\n",
    "# Salida\n",
    "print(\"Hay\", total, \"numeros primos entre 2 y\", numero)"
   ]
  },
  {
   "cell_type": "markdown",
   "metadata": {},
   "source": [
    "## Como evaluar programas y funciones\n",
    "\n",
    "Como hicimos con nuestra funcion del ejercicio anterior **menor(x,y)** donde probamos tres ejemplos para ver si su resultado es el esperado. Eso haremos de ahora en mas con todas las funciones que creemos y utilizaremos la palabra **assert** para mostrar si el resultado de cada caso de prueba (Test Case en ingles) es correcto o no. "
   ]
  },
  {
   "cell_type": "code",
   "execution_count": null,
   "metadata": {},
   "outputs": [],
   "source": [
    "def menor(x,y):\n",
    "    if x < y:\n",
    "        salida = x\n",
    "    else:\n",
    "        salida = y\n",
    "    return salida"
   ]
  },
  {
   "cell_type": "code",
   "execution_count": null,
   "metadata": {},
   "outputs": [],
   "source": [
    "# No modificar el siguiente codigo\n",
    "# Solo ejecutarlo para saber si la funcion creada pasa todos los tests\n",
    "assert menor(3,5) == 3, \"Error en el Test 1\"\n",
    "assert menor(20,11) == 11, \"Error en el Test 2\"\n",
    "assert menor(-10,-30) == -30, \"Error en el Test 3\"\n",
    "assert menor(15,15) == 15, \"Error en el Test 4\"\n",
    "\"Felicitaciones todos los casos de prueba fueron pasados exitosamente!!\""
   ]
  },
  {
   "cell_type": "markdown",
   "metadata": {},
   "source": [
    "En este caso nuestra funcion ha dado la respuesta correcta en los cuatro casos de prueba y no se observa ningun error. \n",
    "\n",
    "Veamos la siguiente funcion menor que tiene un error:"
   ]
  },
  {
   "cell_type": "code",
   "execution_count": null,
   "metadata": {},
   "outputs": [],
   "source": [
    "def menor(x,y):\n",
    "    salida = 0\n",
    "    if x < y:\n",
    "        salida = x\n",
    "    elif x > y:\n",
    "        salida = y\n",
    "    return salida"
   ]
  },
  {
   "cell_type": "code",
   "execution_count": null,
   "metadata": {},
   "outputs": [],
   "source": [
    "# No modificar el siguiente codigo\n",
    "# Solo ejecutarlo para saber si la funcion creada pasa todos los tests\n",
    "assert menor(3,5) == 3, \"Error en el Test 1\"\n",
    "assert menor(20,11) == 11, \"Error en el Test 2\"\n",
    "assert menor(-10,-30) == -30, \"Error en el Test 3\"\n",
    "assert menor(15,15) == 15, \"Error en el Test 4\"\n",
    "\"Felicitaciones todos los casos de prueba fueron pasados exitosamente!!\""
   ]
  },
  {
   "cell_type": "markdown",
   "metadata": {},
   "source": [
    "Aqui vemos que el Test 4 no funciona como deberia. Si ocurre esto debemos arreglar nuestra funcion para que pase todos los tests."
   ]
  },
  {
   "cell_type": "markdown",
   "metadata": {},
   "source": [
    "## Ejercicio 3:\n",
    "\n",
    "Escribir el contenido de la funcion es_par(x) para que devuelva True como resultado si el numero x ingresado como entrada es par y que devuelva False si el numero x ingresado es impar."
   ]
  },
  {
   "cell_type": "code",
   "execution_count": null,
   "metadata": {},
   "outputs": [],
   "source": [
    "def es_par(x):\n",
    "    #Escribe a continuacion el contenido de la funcion"
   ]
  },
  {
   "cell_type": "markdown",
   "metadata": {},
   "source": [
    "Ahora ejecuta el siguiente codigo para ver si tu solucion pasa todos los casos de uso correctamente:"
   ]
  },
  {
   "cell_type": "code",
   "execution_count": null,
   "metadata": {},
   "outputs": [],
   "source": [
    "# No modificar el siguiente codigo\n",
    "# Solo ejecutarlo para saber si la funcion creada pasa todos los tests\n",
    "assert es_par(1) == False, \"Error en el Test 1\"\n",
    "assert es_par(2) == True, \"Error en el Test 2\"\n",
    "assert es_par(11) == False, \"Error en el Test 3\"\n",
    "assert es_par(10004) == True, \"Error en el Test 4\"\n",
    "\"Felicitaciones todos los casos de prueba fueron pasados exitosamente!!\""
   ]
  },
  {
   "cell_type": "code",
   "execution_count": null,
   "metadata": {},
   "outputs": [],
   "source": [
    "#@title Solucion Ejercicio 3 {display-mode:\"form\"}\n",
    "\n",
    "def es_par(x):\n",
    "    salida = False\n",
    "    if x%2 == 0:\n",
    "        salida = True\n",
    "    return salida"
   ]
  },
  {
   "cell_type": "markdown",
   "metadata": {},
   "source": [
    "# Importante!!\n",
    "\n",
    "No confundir **print()** con **return**\n",
    "\n",
    "- **print()** muestra algo por pantalla\n",
    "\n",
    "- **return** es lo que define cual es la salida de una funcion\n",
    "\n",
    "Veamos un ejemplo:"
   ]
  },
  {
   "cell_type": "code",
   "execution_count": null,
   "metadata": {},
   "outputs": [],
   "source": [
    "def mi_funcion(x):\n",
    "    x = x + 1\n",
    "    print(10)\n",
    "    return x"
   ]
  },
  {
   "cell_type": "markdown",
   "metadata": {},
   "source": [
    "Adivinar que mostrara el siguiente codigo:"
   ]
  },
  {
   "cell_type": "code",
   "execution_count": null,
   "metadata": {},
   "outputs": [],
   "source": [
    "y = mi_funcion(4)\n",
    "print(\"El valor devuelto por la funcion es:\", y)"
   ]
  },
  {
   "cell_type": "markdown",
   "metadata": {},
   "source": [
    "Si bien se muestra un 10 por la pantalla el valor de **y** devuelto por la funcion es el que esta dado por la palabra **return**"
   ]
  },
  {
   "cell_type": "markdown",
   "metadata": {},
   "source": [
    "# Fin: [Volver al contenido del curso](https://www.freecodingtour.com/cursos/espanol/programacion/programacion.html)"
   ]
  }
 ],
 "metadata": {
  "colab": {
   "authorship_tag": "ABX9TyNJES05cvSsblmdLrrHWrVt",
   "provenance": []
  },
  "kernelspec": {
   "display_name": "Python 3 (ipykernel)",
   "language": "python",
   "name": "python3"
  },
  "language_info": {
   "codemirror_mode": {
    "name": "ipython",
    "version": 3
   },
   "file_extension": ".py",
   "mimetype": "text/x-python",
   "name": "python",
   "nbconvert_exporter": "python",
   "pygments_lexer": "ipython3",
   "version": "3.9.7"
  }
 },
 "nbformat": 4,
 "nbformat_minor": 4
}
