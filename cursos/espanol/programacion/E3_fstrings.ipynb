{
 "cells": [
  {
   "cell_type": "markdown",
   "id": "6d3f2f61-f6f4-4df5-a58d-585a284c1cf8",
   "metadata": {},
   "source": [
    "# fstrings\n",
    "\n",
    "Una necesidad muy comun es querer crear una string que contenga texto mezclado con valores de distintas variables. Utilizando una f adelante de un string podemos hacer esto de manera muy simple:"
   ]
  },
  {
   "cell_type": "code",
   "execution_count": null,
   "id": "3d92f8c2-b590-4344-b058-7c1f193bdba5",
   "metadata": {},
   "outputs": [],
   "source": [
    "nombre = 'Alicia'\n",
    "edad = 29\n",
    "\n",
    "a = f'{nombre} tiene {edad} años'\n",
    "print(a)"
   ]
  },
  {
   "cell_type": "markdown",
   "id": "5ab66f75-6df0-40bf-9cfe-e524c329843b",
   "metadata": {},
   "source": [
    "## Multilinea"
   ]
  },
  {
   "cell_type": "code",
   "execution_count": null,
   "id": "31184b5b-8ad0-4fcf-8063-078f1ad47274",
   "metadata": {},
   "outputs": [],
   "source": [
    "nombre = 'Alicia'\n",
    "edad = 29\n",
    "ocupacion = 'Cientifica de datos'\n",
    "\n",
    "texto = (\n",
    "    f'Nombre: {nombre}\\n'\n",
    "    f'Edad: {edad}\\n'\n",
    "    f'Ocupacion: {ocupacion}'\n",
    ")\n",
    "\n",
    "print(texto)"
   ]
  },
  {
   "cell_type": "markdown",
   "id": "ef5d79da-9a04-4d24-b9e1-ddabd0bf4d6d",
   "metadata": {},
   "source": [
    "## Caracteres de escape\n",
    "\n",
    "Como mostrar llaves y comillas"
   ]
  },
  {
   "cell_type": "code",
   "execution_count": null,
   "id": "fcc0d612-1acb-46cb-a2a3-30856e87925f",
   "metadata": {},
   "outputs": [],
   "source": [
    "print(f'Python usa {{ }} para evaluar variables en f-strings')\n",
    "print(f'Esto es \\'genial\\'')"
   ]
  },
  {
   "cell_type": "markdown",
   "id": "c37aac53-f5db-405b-b054-f019e1a9e9dd",
   "metadata": {},
   "source": [
    "## Numeros enteros y float\n",
    "\n",
    "A continuacion ejemplos de como darle formato especial a los numeros:"
   ]
  },
  {
   "cell_type": "code",
   "execution_count": null,
   "id": "85b063bf-54cc-424e-aaf4-ff9f19af94ef",
   "metadata": {},
   "outputs": [],
   "source": [
    "valor1 = 4.8\n",
    "print(f'{valor1:10}')\n",
    "print(f'{valor1:05}')"
   ]
  },
  {
   "cell_type": "code",
   "execution_count": null,
   "id": "cf3609fa-85a1-4149-8c66-a5198a01f01f",
   "metadata": {},
   "outputs": [],
   "source": [
    "valor2 = 100\n",
    "print(f'{valor2:05}')\n",
    "print(f'{valor1:*<5}')\n",
    "print(f'{valor1:.>5}')\n",
    "print(f'{valor1:.^5}')"
   ]
  },
  {
   "cell_type": "code",
   "execution_count": null,
   "id": "ee6036bb-067d-4d68-b69e-8a663862e046",
   "metadata": {},
   "outputs": [],
   "source": [
    "valor3 = \"Capitulo del libro\"\n",
    "valor4 = 6\n",
    "print(f'{valor3:.<30}{valor4:.>5}')"
   ]
  },
  {
   "cell_type": "markdown",
   "id": "d763f582-6217-431c-a648-2781c856c339",
   "metadata": {},
   "source": [
    "## Numeros con decimales (float)\n",
    "\n",
    "Como formatear numeros con decimales con la formula: \n",
    "\n",
    "**f'{valor:{ancho}.{precision}}'**"
   ]
  },
  {
   "cell_type": "code",
   "execution_count": null,
   "id": "99d70a89-2bc2-4d83-aeb7-b01ebcab870f",
   "metadata": {},
   "outputs": [],
   "source": [
    "valor5 = 1/7\n",
    "\n",
    "print(f'{valor5}')\n",
    "print(f'{valor5:.2}')\n",
    "print(f'{valor5:20.2%}')\n",
    "print(f'{valor5:20.2}%')"
   ]
  },
  {
   "cell_type": "markdown",
   "id": "32add1ed-9ee5-4746-be51-d475d5d8545c",
   "metadata": {},
   "source": [
    "## Fecha y hora\n",
    "\n",
    "Como darle formato a variables de tipo datetime (fecha y hora)"
   ]
  },
  {
   "cell_type": "code",
   "execution_count": null,
   "id": "213dbf7f-0355-49a5-af97-122bbc8d9cdc",
   "metadata": {},
   "outputs": [],
   "source": [
    "import datetime\n",
    "\n",
    "ahora = datetime.datetime.now()\n",
    "\n",
    "print(f'{ahora:%Y-%m-%d %H:%M}')\n",
    "print(f'{ahora:%A}')\n",
    "print(f'{ahora:%a}')\n",
    "print(f'{ahora:%B}')\n",
    "print(f'{ahora:%j}')\n",
    "print(f'{ahora:%w}')"
   ]
  },
  {
   "cell_type": "markdown",
   "id": "c35e6b83-fb0b-477d-a15f-c9bea5fce42f",
   "metadata": {},
   "source": [
    "## Tipos de notacion numerica\n",
    "\n",
    "Como mostrar un numero en notaciones de diferentes bases:"
   ]
  },
  {
   "cell_type": "code",
   "execution_count": null,
   "id": "4ddd039e-8492-46ec-a51e-53d8b9423ca6",
   "metadata": {},
   "outputs": [],
   "source": [
    "valor6 = 16\n",
    "\n",
    "# hexadecimal en minusculas\n",
    "print(f'{valor6:x}')\n",
    "# hexadecimal en mayusculas\n",
    "print(f'{valor6:X}')\n",
    "# octal\n",
    "print(f'{valor6:o}')\n",
    "# binaria\n",
    "print(f'{valor6:b}')\n",
    "# cientifica\n",
    "print(f'{valor6:e}')"
   ]
  },
  {
   "cell_type": "markdown",
   "id": "11b3ef8c-12a8-4f37-85a4-bfb0af63ce29",
   "metadata": {},
   "source": [
    "# Fin: [Volver al contenido del curso](https://www.freecodingtour.com/cursos/espanol/programacion/programacion.html)"
   ]
  }
 ],
 "metadata": {
  "kernelspec": {
   "display_name": "Python 3 (ipykernel)",
   "language": "python",
   "name": "python3"
  },
  "language_info": {
   "codemirror_mode": {
    "name": "ipython",
    "version": 3
   },
   "file_extension": ".py",
   "mimetype": "text/x-python",
   "name": "python",
   "nbconvert_exporter": "python",
   "pygments_lexer": "ipython3",
   "version": "3.9.7"
  }
 },
 "nbformat": 4,
 "nbformat_minor": 5
}
