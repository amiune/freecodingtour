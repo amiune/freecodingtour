{
 "cells": [
  {
   "cell_type": "markdown",
   "id": "65c28033-60c7-407f-8f53-599b5ad53a47",
   "metadata": {},
   "source": [
    "# Para cada elemento de una lista"
   ]
  },
  {
   "cell_type": "markdown",
   "id": "25915067-405d-4fd4-9d20-636267aa8068",
   "metadata": {},
   "source": [
    "El bucle **for** **in** nos permite obtener uno a uno los valores de una lista desde el primero hasta el ultimo:"
   ]
  },
  {
   "cell_type": "code",
   "execution_count": null,
   "id": "9b395f58-dc9e-429d-9705-718c68dbbc9d",
   "metadata": {},
   "outputs": [],
   "source": [
    "mi_lista = [1,2,3,4,5]"
   ]
  },
  {
   "cell_type": "code",
   "execution_count": null,
   "id": "191cd653-cefd-4eb0-8d05-50d0d4e3d1a4",
   "metadata": {},
   "outputs": [],
   "source": [
    "for elemento in mi_lista:\n",
    "    print(elemento)"
   ]
  },
  {
   "cell_type": "markdown",
   "id": "a30acda2-ffca-4e16-9636-de778521991a",
   "metadata": {},
   "source": [
    "**for** en ingles quiere decir para e **in** en ingles significa en por lo que el bucle for lo que dice es \"para cada elemento en la lista:\""
   ]
  },
  {
   "cell_type": "markdown",
   "id": "f0501048-0f90-4ebe-964f-65bbb5d3ff23",
   "metadata": {},
   "source": [
    "Supongamos que queremos hacer la suma de todos los elementos de una lista. En este caso el bucle for sera muy util:"
   ]
  },
  {
   "cell_type": "code",
   "execution_count": null,
   "id": "4f82b0eb-b219-49cd-9b22-f256bfb9a41e",
   "metadata": {},
   "outputs": [],
   "source": [
    "suma_total = 0\n",
    "for elemento in mi_lista:\n",
    "    suma_total = suma_total + elemento\n",
    "print(suma_total)"
   ]
  },
  {
   "cell_type": "markdown",
   "id": "884ae4ed-94b6-4c25-a28e-030036fdc39b",
   "metadata": {},
   "source": [
    "### Ejercicio 1:\n",
    "\n",
    "Multiplicar todos los elementos de mi_lista. El resultado debe ser 1\\*2\\*3\\*4\\*5 = 120"
   ]
  },
  {
   "cell_type": "code",
   "execution_count": null,
   "id": "640a026f-c3b5-478a-9625-2efaa1f49539",
   "metadata": {},
   "outputs": [],
   "source": []
  },
  {
   "cell_type": "code",
   "execution_count": null,
   "id": "22cbad97-558f-4329-85a0-74c40e8bf25e",
   "metadata": {},
   "outputs": [],
   "source": [
    "#@title Solucion Ejercicio 1 {display-mode:\"form\"}\n",
    "\n",
    "m = 1\n",
    "for elemento in mi_lista:\n",
    "    m = m * elemento\n",
    "print(m)"
   ]
  },
  {
   "cell_type": "markdown",
   "id": "11d33ee9-ecec-448e-96c8-1ee8d0a55ec7",
   "metadata": {},
   "source": [
    "### Ejercicio 2:\n",
    "\n",
    "Crear una funcion contar_positivos(lista) que cuente cuantos elementos de una lista son positivos y que devuelva dicho numero. Ayuda: utilizar un if adentro del for."
   ]
  },
  {
   "cell_type": "code",
   "execution_count": null,
   "id": "22323bd7-1dc1-48e2-a8a4-0ddce7f88f59",
   "metadata": {},
   "outputs": [],
   "source": [
    "def contar_positivos(lista):\n",
    "    # Escribir aqui la solucion"
   ]
  },
  {
   "cell_type": "code",
   "execution_count": null,
   "id": "0bc3e565-b5b1-4538-91a5-0d22c579dc39",
   "metadata": {},
   "outputs": [],
   "source": [
    "# No modificar el siguiente codigo\n",
    "# Solo ejecutarlo para saber si la funcion creada pasa todos los tests\n",
    "assert contar_positivos([1,-3,4,-2,7,10,9]) == 5, \"Error en el Test 1\"\n",
    "assert contar_positivos([-10,-9,-8,-7]) == 0, \"Error en el Test 2\"\n",
    "assert contar_positivos([]) == 0, \"Error en el Test 3\"\n",
    "assert contar_positivos([1,2,3,4,5]) == 5, \"Error en el Test 4\"\n",
    "\"Felicitaciones todos los casos de prueba fueron pasados exitosamente!!\""
   ]
  },
  {
   "cell_type": "code",
   "execution_count": null,
   "id": "4fa5e8ed-10f3-4a42-ae48-15ff1e9b7053",
   "metadata": {},
   "outputs": [],
   "source": [
    "#@title Solucion Ejercicio 2 {display-mode:\"form\"}\n",
    "\n",
    "def contar_positivos(lista):\n",
    "    contador = 0\n",
    "    for elemento in lista:\n",
    "        if elemento >= 0:\n",
    "            contador = contador + 1\n",
    "    return contador"
   ]
  },
  {
   "cell_type": "markdown",
   "id": "dc9fb5fd-d63c-4823-b919-56c0e32b98c1",
   "metadata": {},
   "source": [
    "### Ejercicio 3:\n",
    "\n",
    "Crear una funcion llamada contar_pares(lista) que cuente cuantos elementos de una lista son pares y que devuelva dicho numero. Ayuda: este ejercicio es muy similar al anterior"
   ]
  },
  {
   "cell_type": "code",
   "execution_count": null,
   "id": "4b2f5ba1-5caf-4ca1-b803-d528d4045cf5",
   "metadata": {},
   "outputs": [],
   "source": [
    "def contar_pares(lista):\n",
    "    # Escribir aqui la solucion"
   ]
  },
  {
   "cell_type": "code",
   "execution_count": null,
   "id": "dd2f9a60-58f8-470b-8747-9df00855bb91",
   "metadata": {},
   "outputs": [],
   "source": [
    "# No modificar el siguiente codigo\n",
    "# Solo ejecutarlo para saber si la funcion creada pasa todos los tests\n",
    "assert contar_pares([2,4,6,8,10]) == 5, \"Error en el Test 1\"\n",
    "assert contar_pares([1,3,5,7,9]) == 0, \"Error en el Test 2\"\n",
    "assert contar_pares([]) == 0, \"Error en el Test 3\"\n",
    "assert contar_pares([1,2,3,4,5,6,7,8,9,10]) == 5, \"Error en el Test 4\"\n",
    "\"Felicitaciones todos los casos de prueba fueron pasados exitosamente!!\""
   ]
  },
  {
   "cell_type": "code",
   "execution_count": null,
   "id": "adce52d8-2382-4455-a38f-5c136f9fa25b",
   "metadata": {},
   "outputs": [],
   "source": [
    "#@title Solucion Ejercicio 3 {display-mode:\"form\"}\n",
    "\n",
    "def contar_pares(lista):\n",
    "    contador = 0\n",
    "    for elemento in lista:\n",
    "        if elemento % 2 == 0:\n",
    "            contador = contador + 1\n",
    "    return contador"
   ]
  },
  {
   "cell_type": "markdown",
   "id": "46c76372-f63b-4a15-b8fb-e73fd3bc698e",
   "metadata": {},
   "source": [
    "### Ejercicio 4:\n",
    "\n",
    "Crear una funcion sumar_pares(lista) que sume los elementos de una lista que son pares y que devuelva dicha suma. Ayuda: este ejercicio es muy similar al anterior"
   ]
  },
  {
   "cell_type": "code",
   "execution_count": null,
   "id": "49d1b493-30a7-42e4-8fb6-570bfbe63ce8",
   "metadata": {},
   "outputs": [],
   "source": [
    "def sumar_pares(lista):\n",
    "    # Escribir aqui la solucion"
   ]
  },
  {
   "cell_type": "code",
   "execution_count": null,
   "id": "9ba86aae-2f2d-429a-8f1f-8f55bb5feccc",
   "metadata": {},
   "outputs": [],
   "source": [
    "# No modificar el siguiente codigo\n",
    "# Solo ejecutarlo para saber si la funcion creada pasa todos los tests\n",
    "assert sumar_pares([2,4,6,8,10]) == 30, \"Error en el Test 1\"\n",
    "assert sumar_pares([1,3,5,7,9]) == 0, \"Error en el Test 2\"\n",
    "assert sumar_pares([]) == 0, \"Error en el Test 3\"\n",
    "assert sumar_pares([1,2,3,4,5,6,7,8,9,100]) == 120, \"Error en el Test 4\"\n",
    "\"Felicitaciones todos los casos de prueba fueron pasados exitosamente!!\""
   ]
  },
  {
   "cell_type": "code",
   "execution_count": null,
   "id": "a2f6dfaa-0705-47ce-8d7c-114686165049",
   "metadata": {},
   "outputs": [],
   "source": [
    "#@title Solucion Ejercicio 4 {display-mode:\"form\"}\n",
    "\n",
    "def sumar_pares(lista):\n",
    "    suma_total = 0\n",
    "    for elemento in lista:\n",
    "        if elemento % 2 == 0:\n",
    "            suma_total = suma_total + elemento\n",
    "    return suma_total"
   ]
  },
  {
   "cell_type": "markdown",
   "id": "a8b144bf-a78a-48b2-8d84-83dcb09794b0",
   "metadata": {},
   "source": [
    "## Salir del bucle for antes de tiempo\n",
    "\n",
    "La palabra **break** que significa romper en ingles nos permite salir del bucle for antes de tiempo si es necesario. Tambien sirve para el bucle **while**. Si bien a veces es util es una buena practica tratar de evitar usarla mucho."
   ]
  },
  {
   "cell_type": "markdown",
   "id": "d6e03301-9644-4b56-87a8-a0ecbef5ecd5",
   "metadata": {},
   "source": [
    "Supongamos que queremos contar cuantos numeros hay en una lista hasta el primer numero negativo:\n",
    "    \n",
    "Ejemplo: si tengo la lista [1,2,3,4,-5,6,7,8] tenemos 4 elementos antes del primer elemento negativo"
   ]
  },
  {
   "cell_type": "code",
   "execution_count": null,
   "id": "08e1fc46-d8ab-47e4-b998-fb8f7ad5cc3f",
   "metadata": {},
   "outputs": [],
   "source": [
    "def contar_positivos_hasta_negativo(lista):\n",
    "    contador = 0\n",
    "    for elemento in lista:\n",
    "        if elemento >= 0:\n",
    "            contador = contador + 1\n",
    "        else:\n",
    "            break\n",
    "    return contador"
   ]
  },
  {
   "cell_type": "code",
   "execution_count": null,
   "id": "0a7e88f7-75c5-4d92-92a8-c910dfb073e4",
   "metadata": {},
   "outputs": [],
   "source": [
    "contar_positivos_hasta_negativo([1,2,3,4,-5,6,7,8])"
   ]
  },
  {
   "cell_type": "markdown",
   "id": "0789e829-2a34-430f-bd85-a908a692ccf4",
   "metadata": {},
   "source": [
    "### Ejercicio 5:\n",
    "\n",
    "Crear una funcion sumar_pares_hasta_impar(lista) que sume los elementos de una lista que son pares hasta que aparezca un numero impar y que devuelva dicha suma."
   ]
  },
  {
   "cell_type": "code",
   "execution_count": null,
   "id": "d689e197-bfb5-49c5-a179-cf6d345b111e",
   "metadata": {},
   "outputs": [],
   "source": [
    "def sumar_pares_hasta_impar(lista):\n",
    "    # Escribir aqui la solucion"
   ]
  },
  {
   "cell_type": "code",
   "execution_count": null,
   "id": "c6af87b4-edfc-4be1-b9d1-b5760959e817",
   "metadata": {},
   "outputs": [],
   "source": [
    "# No modificar el siguiente codigo\n",
    "# Solo ejecutarlo para saber si la funcion creada pasa todos los tests\n",
    "assert sumar_pares_hasta_impar([2,4,6,7,10]) == 12, \"Error en el Test 1\"\n",
    "assert sumar_pares_hasta_impar([1,2,4,6,8]) == 0, \"Error en el Test 2\"\n",
    "assert sumar_pares_hasta_impar([]) == 0, \"Error en el Test 3\"\n",
    "assert sumar_pares_hasta_impar([2,4,6,8,10]) == 30, \"Error en el Test 4\"\n",
    "\"Felicitaciones todos los casos de prueba fueron pasados exitosamente!!\""
   ]
  },
  {
   "cell_type": "code",
   "execution_count": null,
   "id": "ebaee571-887f-45de-9b43-51960161152c",
   "metadata": {},
   "outputs": [],
   "source": [
    "#@title Solucion Ejercicio 5 {display-mode:\"form\"}\n",
    "\n",
    "def sumar_pares_hasta_impar(lista):\n",
    "    suma_total = 0\n",
    "    for elemento in lista:\n",
    "        if elemento % 2 == 0:\n",
    "            suma_total = suma_total + elemento\n",
    "        else:\n",
    "            break\n",
    "    return suma_total"
   ]
  },
  {
   "cell_type": "markdown",
   "id": "6478480d-08e0-439a-903d-2580d89e56fb",
   "metadata": {},
   "source": [
    "# Fin: [Volver al contenido del curso](https://www.freecodingtour.com/cursos/espanol/programacion/programacion.html)"
   ]
  }
 ],
 "metadata": {
  "kernelspec": {
   "display_name": "Python 3 (ipykernel)",
   "language": "python",
   "name": "python3"
  },
  "language_info": {
   "codemirror_mode": {
    "name": "ipython",
    "version": 3
   },
   "file_extension": ".py",
   "mimetype": "text/x-python",
   "name": "python",
   "nbconvert_exporter": "python",
   "pygments_lexer": "ipython3",
   "version": "3.9.7"
  }
 },
 "nbformat": 4,
 "nbformat_minor": 5
}
