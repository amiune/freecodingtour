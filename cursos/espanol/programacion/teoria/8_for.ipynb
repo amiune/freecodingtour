{
 "cells": [
  {
   "cell_type": "markdown",
   "id": "65c28033-60c7-407f-8f53-599b5ad53a47",
   "metadata": {},
   "source": [
    "# Para cada elemento de una lista"
   ]
  },
  {
   "cell_type": "markdown",
   "id": "25915067-405d-4fd4-9d20-636267aa8068",
   "metadata": {},
   "source": [
    "El bucle **for** **in** nos permite obtener uno a uno los valores de una lista desde el primero hasta el ultimo:"
   ]
  },
  {
   "cell_type": "code",
   "execution_count": null,
   "id": "9b395f58-dc9e-429d-9705-718c68dbbc9d",
   "metadata": {},
   "outputs": [],
   "source": [
    "mi_lista = [1,2,3,4,5]"
   ]
  },
  {
   "cell_type": "code",
   "execution_count": null,
   "id": "191cd653-cefd-4eb0-8d05-50d0d4e3d1a4",
   "metadata": {},
   "outputs": [],
   "source": [
    "for elemento in mi_lista:\n",
    "    print(elemento)"
   ]
  },
  {
   "cell_type": "markdown",
   "id": "a30acda2-ffca-4e16-9636-de778521991a",
   "metadata": {},
   "source": [
    "**for** en ingles quiere decir para e **in** en ingles significa en por lo que el bucle for lo que dice es \"para cada elemento en la lista:\""
   ]
  },
  {
   "cell_type": "markdown",
   "id": "f0501048-0f90-4ebe-964f-65bbb5d3ff23",
   "metadata": {},
   "source": [
    "Supongamos que queremos hacer la suma de todos los elementos de una lista. En este caso el bucle for sera muy util:"
   ]
  },
  {
   "cell_type": "code",
   "execution_count": null,
   "id": "4f82b0eb-b219-49cd-9b22-f256bfb9a41e",
   "metadata": {},
   "outputs": [],
   "source": [
    "suma_total = 0\n",
    "for elemento in mi_lista:\n",
    "    suma_total = suma_total + elemento\n",
    "print(suma_total)"
   ]
  },
  {
   "cell_type": "markdown",
   "id": "884ae4ed-94b6-4c25-a28e-030036fdc39b",
   "metadata": {},
   "source": [
    "### Ejercicio 1:\n",
    "\n",
    "Multiplicar todos los elementos de mi_lista. El resultado debe ser 1\\*2\\*3\\*4\\*5 = 120"
   ]
  },
  {
   "cell_type": "code",
   "execution_count": null,
   "id": "640a026f-c3b5-478a-9625-2efaa1f49539",
   "metadata": {},
   "outputs": [],
   "source": [
    "# Escribir aqui la solucion\n",
    "\n"
   ]
  },
  {
   "cell_type": "code",
   "execution_count": null,
   "id": "22cbad97-558f-4329-85a0-74c40e8bf25e",
   "metadata": {},
   "outputs": [],
   "source": [
    "#@title Solucion Ejercicio 1 {display-mode:\"form\"}\n",
    "\n",
    "m = 1\n",
    "for elemento in mi_lista:\n",
    "    m = m * elemento\n",
    "print(m)"
   ]
  },
  {
   "cell_type": "markdown",
   "id": "11d33ee9-ecec-448e-96c8-1ee8d0a55ec7",
   "metadata": {},
   "source": [
    "### Ejercicio 2:\n",
    "\n",
    "Crear una funcion contar_positivos(lista) que cuente cuantos elementos de una lista son positivos y que devuelva dicho numero. Ayuda: utilizar un if adentro del for."
   ]
  },
  {
   "cell_type": "code",
   "execution_count": null,
   "id": "22323bd7-1dc1-48e2-a8a4-0ddce7f88f59",
   "metadata": {},
   "outputs": [],
   "source": [
    "def contar_positivos(lista):\n",
    "    # Escribir aqui la solucion\n",
    "    \n",
    "    "
   ]
  },
  {
   "cell_type": "code",
   "execution_count": null,
   "id": "0bc3e565-b5b1-4538-91a5-0d22c579dc39",
   "metadata": {},
   "outputs": [],
   "source": [
    "# No modificar el siguiente codigo\n",
    "# Solo ejecutarlo para saber si la funcion creada pasa todos los tests\n",
    "assert contar_positivos([1,-3,4,-2,7,10,9]) == 5, \"Error en el Test 1\"\n",
    "assert contar_positivos([-10,-9,-8,-7]) == 0, \"Error en el Test 2\"\n",
    "assert contar_positivos([]) == 0, \"Error en el Test 3\"\n",
    "assert contar_positivos([1,2,3,4,5]) == 5, \"Error en el Test 4\"\n",
    "\"Felicitaciones todos los casos de prueba fueron pasados exitosamente!!\""
   ]
  },
  {
   "cell_type": "code",
   "execution_count": null,
   "id": "4fa5e8ed-10f3-4a42-ae48-15ff1e9b7053",
   "metadata": {},
   "outputs": [],
   "source": [
    "#@title Solucion Ejercicio 2 {display-mode:\"form\"}\n",
    "\n",
    "def contar_positivos(lista):\n",
    "    contador = 0\n",
    "    for elemento in lista:\n",
    "        if elemento >= 0:\n",
    "            contador = contador + 1\n",
    "    return contador"
   ]
  },
  {
   "cell_type": "markdown",
   "id": "dc9fb5fd-d63c-4823-b919-56c0e32b98c1",
   "metadata": {},
   "source": [
    "### Ejercicio 3:\n",
    "\n",
    "Crear una funcion llamada contar_pares(lista) que cuente cuantos elementos de una lista son pares y que devuelva dicho numero. Ayuda: este ejercicio es muy similar al anterior"
   ]
  },
  {
   "cell_type": "code",
   "execution_count": null,
   "id": "4b2f5ba1-5caf-4ca1-b803-d528d4045cf5",
   "metadata": {},
   "outputs": [],
   "source": [
    "def contar_pares(lista):\n",
    "    # Escribir aqui la solucion\n",
    "    \n",
    "    "
   ]
  },
  {
   "cell_type": "code",
   "execution_count": null,
   "id": "dd2f9a60-58f8-470b-8747-9df00855bb91",
   "metadata": {},
   "outputs": [],
   "source": [
    "# No modificar el siguiente codigo\n",
    "# Solo ejecutarlo para saber si la funcion creada pasa todos los tests\n",
    "assert contar_pares([2,4,6,8,10]) == 5, \"Error en el Test 1\"\n",
    "assert contar_pares([1,3,5,7,9]) == 0, \"Error en el Test 2\"\n",
    "assert contar_pares([]) == 0, \"Error en el Test 3\"\n",
    "assert contar_pares([1,2,3,4,5,6,7,8,9,10]) == 5, \"Error en el Test 4\"\n",
    "\"Felicitaciones todos los casos de prueba fueron pasados exitosamente!!\""
   ]
  },
  {
   "cell_type": "code",
   "execution_count": null,
   "id": "adce52d8-2382-4455-a38f-5c136f9fa25b",
   "metadata": {},
   "outputs": [],
   "source": [
    "#@title Solucion Ejercicio 3 {display-mode:\"form\"}\n",
    "\n",
    "def contar_pares(lista):\n",
    "    contador = 0\n",
    "    for elemento in lista:\n",
    "        if elemento % 2 == 0:\n",
    "            contador = contador + 1\n",
    "    return contador"
   ]
  },
  {
   "cell_type": "markdown",
   "id": "46c76372-f63b-4a15-b8fb-e73fd3bc698e",
   "metadata": {},
   "source": [
    "### Ejercicio 4:\n",
    "\n",
    "Crear una funcion sumar_pares(lista) que sume los elementos de una lista que son pares y que devuelva dicha suma. Ayuda: este ejercicio es muy similar al anterior"
   ]
  },
  {
   "cell_type": "code",
   "execution_count": null,
   "id": "49d1b493-30a7-42e4-8fb6-570bfbe63ce8",
   "metadata": {},
   "outputs": [],
   "source": [
    "def sumar_pares(lista):\n",
    "    # Escribir aqui la solucion\n",
    "    \n",
    "    "
   ]
  },
  {
   "cell_type": "code",
   "execution_count": null,
   "id": "9ba86aae-2f2d-429a-8f1f-8f55bb5feccc",
   "metadata": {},
   "outputs": [],
   "source": [
    "# No modificar el siguiente codigo\n",
    "# Solo ejecutarlo para saber si la funcion creada pasa todos los tests\n",
    "assert sumar_pares([2,4,6,8,10]) == 30, \"Error en el Test 1\"\n",
    "assert sumar_pares([1,3,5,7,9]) == 0, \"Error en el Test 2\"\n",
    "assert sumar_pares([]) == 0, \"Error en el Test 3\"\n",
    "assert sumar_pares([1,2,3,4,5,6,7,8,9,100]) == 120, \"Error en el Test 4\"\n",
    "\"Felicitaciones todos los casos de prueba fueron pasados exitosamente!!\""
   ]
  },
  {
   "cell_type": "code",
   "execution_count": null,
   "id": "a2f6dfaa-0705-47ce-8d7c-114686165049",
   "metadata": {},
   "outputs": [],
   "source": [
    "#@title Solucion Ejercicio 4 {display-mode:\"form\"}\n",
    "\n",
    "def sumar_pares(lista):\n",
    "    suma_total = 0\n",
    "    for elemento in lista:\n",
    "        if elemento % 2 == 0:\n",
    "            suma_total = suma_total + elemento\n",
    "    return suma_total"
   ]
  },
  {
   "cell_type": "markdown",
   "id": "b5709cf1-f7b3-4081-a2b4-5cf71acfcd29",
   "metadata": {},
   "source": [
    "## Combinando for y range()\n",
    "\n",
    "Ahora utilizaremos **for** en combinacion con la funcion **range()** para tener mas control sobre las listas que querramos utilizar. Recordemos que podemos acceder a los elementos de una lista utilizando los corchetes y el numero de la posicion de un elemento en la lista, por ejemplo usando **lista[2]** podemos acceder al tercer elemento ya que siempre comenzamos a contar desde cero."
   ]
  },
  {
   "cell_type": "code",
   "execution_count": null,
   "id": "d1a75fee-eff6-491a-8c5a-038f7bd08cb5",
   "metadata": {},
   "outputs": [],
   "source": [
    "lista = [10,20,30,40,50]"
   ]
  },
  {
   "cell_type": "code",
   "execution_count": null,
   "id": "836901b9-08c1-458b-b6f5-afc2bdb9ed43",
   "metadata": {},
   "outputs": [],
   "source": [
    "for posicion in [0,1,2,3,4]:\n",
    "    lista[posicion] = lista[posicion] + 1\n",
    "print(lista)"
   ]
  },
  {
   "cell_type": "markdown",
   "id": "0cca7d7d-2bc8-4de3-8575-f90b391a27a3",
   "metadata": {},
   "source": [
    "Notemos que utilizamos dos listas: una que contiene los valores que queremos modificar y una lista con los valores del 0 al 4 que son las posiciones de cada elemento de la lista que queremos modificar. Veamos ahora como modificar solamente los tres primeros valores:"
   ]
  },
  {
   "cell_type": "code",
   "execution_count": null,
   "id": "085de5c5-85d8-41cf-8876-5e820f9a0e87",
   "metadata": {},
   "outputs": [],
   "source": [
    "for posicion in [0,1,2]:\n",
    "    lista[posicion] = lista[posicion] + 500\n",
    "print(lista)"
   ]
  },
  {
   "cell_type": "markdown",
   "id": "1ff5b80e-c2cd-4d7d-a24f-6cc5332653c2",
   "metadata": {},
   "source": [
    "### Ejercicio 5:\n",
    "\n",
    "Crear una funcion **sumar_elementos(elementos, posiciones)** que reciba dos listas y que sume solamente los valores de la lista **elementos** que se encuentran en la lista **posiciones** y que devuelva dicha suma.\n",
    "\n",
    "**Ejemplo:** \n",
    "\n",
    "si la lista **elementos** es [10,20,30,40,50,60,70] \n",
    "\n",
    "y la lista **posiciones** es [1,3,6] \n",
    "\n",
    "entonces deberemos sumar **elementos[1] + elementos[3] + elementos[6]** \n",
    "\n",
    "esto seria igual a **20 + 40 + 70 = 130**"
   ]
  },
  {
   "cell_type": "code",
   "execution_count": null,
   "id": "978ceb58-d74e-4fe2-88cb-68ac6986cd2d",
   "metadata": {},
   "outputs": [],
   "source": [
    "def sumar_elementos(elementos, posiciones):\n",
    "    # Escribir aqui la solucion\n",
    "    \n",
    "    "
   ]
  },
  {
   "cell_type": "code",
   "execution_count": null,
   "id": "8c3d51e2-84d0-4c91-a472-b0a54fcf4abf",
   "metadata": {},
   "outputs": [],
   "source": [
    "# No modificar el siguiente codigo\n",
    "# Solo ejecutarlo para saber si la funcion creada pasa todos los tests\n",
    "assert sumar_elementos([10,20,30,40,50,60,70],[1,3,6]) == 130, \"Error en el Test 1\"\n",
    "assert sumar_elementos([10,20,30,40,50,60,70],[]) == 0, \"Error en el Test 2\"\n",
    "assert sumar_elementos([10,20,30,40,50,60,70],[0,6]) == 80, \"Error en el Test 3\"\n",
    "assert sumar_elementos([10,20,30,40,50,60,70],[4]) == 50, \"Error en el Test 4\"\n",
    "\"Felicitaciones todos los casos de prueba fueron pasados exitosamente!!\""
   ]
  },
  {
   "cell_type": "code",
   "execution_count": null,
   "id": "5f9fb1ef-6e70-4886-b09a-134e987231da",
   "metadata": {},
   "outputs": [],
   "source": [
    "#@title Solucion Ejercicio 5 {display-mode:\"form\"}\n",
    "\n",
    "def sumar_elementos(elementos, posiciones):\n",
    "    suma_total = 0\n",
    "    for p in posiciones:\n",
    "        suma_total = suma_total + elementos[p]\n",
    "    return suma_total"
   ]
  },
  {
   "cell_type": "markdown",
   "id": "e953f24c-1bc1-4f30-a47c-de945d3e55af",
   "metadata": {},
   "source": [
    "Ahora veamos como podemos hacer lo mismo utilizando la funcion range()"
   ]
  },
  {
   "cell_type": "code",
   "execution_count": null,
   "id": "14d6f313-c973-45a7-8e74-114a27ee9a90",
   "metadata": {},
   "outputs": [],
   "source": [
    "lista2 = [10,20,30,40,50]"
   ]
  },
  {
   "cell_type": "code",
   "execution_count": null,
   "id": "f867c8ab-4a60-46e5-b973-b3dd42f3de6c",
   "metadata": {},
   "outputs": [],
   "source": [
    "for posicion in range(5):\n",
    "    lista2[posicion] = lista2[posicion] + 1\n",
    "print(lista2)"
   ]
  },
  {
   "cell_type": "markdown",
   "id": "2aebf3e2-d8f2-4247-9283-8de60cb3b4b1",
   "metadata": {},
   "source": [
    "Notemos que cuando usamos la funcion range() luego del for in no hace falta convertir su resultado a lista"
   ]
  },
  {
   "cell_type": "code",
   "execution_count": null,
   "id": "7b18630d-38c3-4b27-a8ac-ce9e4729ec07",
   "metadata": {},
   "outputs": [],
   "source": [
    "for posicion in range(3):\n",
    "    lista2[posicion] = lista2[posicion] + 500\n",
    "print(lista2)"
   ]
  },
  {
   "cell_type": "markdown",
   "id": "b7b22d3d-6ff4-4edc-83a5-8553b14a1635",
   "metadata": {},
   "source": [
    "Por ultimo notemos que podemos usar **range()** en conbinacion con **len()** para acceder a todos los elementos de una lista mediante su posicion o indice:"
   ]
  },
  {
   "cell_type": "code",
   "execution_count": null,
   "id": "dc3da70a-a631-4171-ba9d-7bfb9c14023f",
   "metadata": {},
   "outputs": [],
   "source": [
    "lista3 = [10,20,30,40,50]"
   ]
  },
  {
   "cell_type": "code",
   "execution_count": null,
   "id": "5d1ff15f-8675-4575-9bf7-e28729b12390",
   "metadata": {},
   "outputs": [],
   "source": [
    "for posicion in range(len(lista3)):\n",
    "    lista3[posicion] = lista3[posicion] + 1000\n",
    "print(lista3)"
   ]
  },
  {
   "cell_type": "markdown",
   "id": "701603b7-8cd4-4b1c-9714-55e5183c2fc8",
   "metadata": {},
   "source": [
    "### Ejercicio 6:\n",
    "\n",
    "Crear una funcion **sumar_pos_pares(valores)** que reciba una lista y que sume solamente los valores de la lista que se encuentran en posiciones pares [0,2,4,...] y que devuelva dicha suma.\n",
    "\n",
    "**Ejemplo:** \n",
    "\n",
    "si la lista **valores** es [10,20,30,40,50,60,70] \n",
    "\n",
    "las posiciones pares son es [0,2,4,6] (pensar como utilizar la funcion range(inicio, fin, incremento) en combinacion con len(valores) para generar esta lista de posiciones pares)\n",
    "\n",
    "entonces deberemos sumar **elementos[0] + elementos[2] + elementos[4]  + elementos[6]** \n",
    "\n",
    "esto seria igual a **10 + 30 + 50 + 70 = 160**"
   ]
  },
  {
   "cell_type": "code",
   "execution_count": null,
   "id": "f0d25af3-2fef-41dc-ae60-8a2cad4ace3c",
   "metadata": {},
   "outputs": [],
   "source": [
    "def sumar_pos_pares(valores):\n",
    "    #@title Solucion Ejercicio 5 {display-mode:\"form\"}\n",
    "    \n",
    "    "
   ]
  },
  {
   "cell_type": "code",
   "execution_count": null,
   "id": "25f4086d-f5d5-44c0-b0ef-9615b4685ac4",
   "metadata": {},
   "outputs": [],
   "source": [
    "# No modificar el siguiente codigo\n",
    "# Solo ejecutarlo para saber si la funcion creada pasa todos los tests\n",
    "assert sumar_pos_pares([10,20,30,40,50,60,70]) == 160, \"Error en el Test 1\"\n",
    "assert sumar_pos_pares([1,2,3,4,5,6,7,8,9,10]) == 25, \"Error en el Test 2\"\n",
    "assert sumar_pos_pares([]) == 0, \"Error en el Test 3\"\n",
    "assert sumar_pos_pares([99]) == 99, \"Error en el Test 4\"\n",
    "\"Felicitaciones todos los casos de prueba fueron pasados exitosamente!!\""
   ]
  },
  {
   "cell_type": "code",
   "execution_count": null,
   "id": "1e41b13e-1a0f-48ea-99ae-84f7283ece88",
   "metadata": {},
   "outputs": [],
   "source": [
    "#@title Solucion Ejercicio 6 {display-mode:\"form\"}\n",
    "\n",
    "def sumar_pos_pares(valores):\n",
    "    suma_total = 0\n",
    "    for i in range(0,len(valores),2):\n",
    "        suma_total = suma_total + valores[i]\n",
    "    return suma_total"
   ]
  },
  {
   "cell_type": "markdown",
   "id": "a8b144bf-a78a-48b2-8d84-83dcb09794b0",
   "metadata": {},
   "source": [
    "## Salir del bucle for antes de tiempo\n",
    "\n",
    "La palabra **break** que significa romper en ingles nos permite salir del bucle for antes de tiempo si es necesario. Tambien sirve para el bucle **while**. Si bien a veces es util es una buena practica tratar de evitar usarla."
   ]
  },
  {
   "cell_type": "markdown",
   "id": "d6e03301-9644-4b56-87a8-a0ecbef5ecd5",
   "metadata": {},
   "source": [
    "Supongamos que queremos contar cuantos numeros hay en una lista hasta el primer numero negativo:\n",
    "    \n",
    "Ejemplo: si tengo la lista [1,2,3,4,-5,6,7,8] tenemos 4 elementos antes del primer elemento negativo"
   ]
  },
  {
   "cell_type": "code",
   "execution_count": null,
   "id": "08e1fc46-d8ab-47e4-b998-fb8f7ad5cc3f",
   "metadata": {},
   "outputs": [],
   "source": [
    "def contar_positivos_hasta_negativo(lista):\n",
    "    contador = 0\n",
    "    for elemento in lista:\n",
    "        if elemento >= 0:\n",
    "            contador = contador + 1\n",
    "        else:\n",
    "            break\n",
    "    return contador"
   ]
  },
  {
   "cell_type": "code",
   "execution_count": null,
   "id": "0a7e88f7-75c5-4d92-92a8-c910dfb073e4",
   "metadata": {},
   "outputs": [],
   "source": [
    "contar_positivos_hasta_negativo([1,2,3,4,-5,6,7,8])"
   ]
  },
  {
   "cell_type": "markdown",
   "id": "0789e829-2a34-430f-bd85-a908a692ccf4",
   "metadata": {},
   "source": [
    "### Ejercicio 7:\n",
    "\n",
    "Crear una funcion sumar_pares_hasta_impar(lista) que sume los elementos de una lista que son pares hasta que aparezca un numero impar y que devuelva dicha suma."
   ]
  },
  {
   "cell_type": "code",
   "execution_count": null,
   "id": "d689e197-bfb5-49c5-a179-cf6d345b111e",
   "metadata": {},
   "outputs": [],
   "source": [
    "def sumar_pares_hasta_impar(lista):\n",
    "    # Escribir aqui la solucion\n",
    "    \n",
    "    "
   ]
  },
  {
   "cell_type": "code",
   "execution_count": null,
   "id": "c6af87b4-edfc-4be1-b9d1-b5760959e817",
   "metadata": {},
   "outputs": [],
   "source": [
    "# No modificar el siguiente codigo\n",
    "# Solo ejecutarlo para saber si la funcion creada pasa todos los tests\n",
    "assert sumar_pares_hasta_impar([2,4,6,7,10]) == 12, \"Error en el Test 1\"\n",
    "assert sumar_pares_hasta_impar([1,2,4,6,8]) == 0, \"Error en el Test 2\"\n",
    "assert sumar_pares_hasta_impar([]) == 0, \"Error en el Test 3\"\n",
    "assert sumar_pares_hasta_impar([2,4,6,8,10]) == 30, \"Error en el Test 4\"\n",
    "\"Felicitaciones todos los casos de prueba fueron pasados exitosamente!!\""
   ]
  },
  {
   "cell_type": "code",
   "execution_count": null,
   "id": "ebaee571-887f-45de-9b43-51960161152c",
   "metadata": {},
   "outputs": [],
   "source": [
    "#@title Solucion Ejercicio 7 {display-mode:\"form\"}\n",
    "\n",
    "def sumar_pares_hasta_impar(lista):\n",
    "    suma_total = 0\n",
    "    for elemento in lista:\n",
    "        if elemento % 2 == 0:\n",
    "            suma_total = suma_total + elemento\n",
    "        else:\n",
    "            break\n",
    "    return suma_total"
   ]
  },
  {
   "cell_type": "markdown",
   "id": "6478480d-08e0-439a-903d-2580d89e56fb",
   "metadata": {},
   "source": [
    "# Fin: [Volver al contenido del curso](https://www.freecodingtour.com/cursos/espanol/programacion/programacion.html)"
   ]
  }
 ],
 "metadata": {
  "kernelspec": {
   "display_name": "Python 3 (ipykernel)",
   "language": "python",
   "name": "python3"
  },
  "language_info": {
   "codemirror_mode": {
    "name": "ipython",
    "version": 3
   },
   "file_extension": ".py",
   "mimetype": "text/x-python",
   "name": "python",
   "nbconvert_exporter": "python",
   "pygments_lexer": "ipython3",
   "version": "3.9.7"
  }
 },
 "nbformat": 4,
 "nbformat_minor": 5
}
