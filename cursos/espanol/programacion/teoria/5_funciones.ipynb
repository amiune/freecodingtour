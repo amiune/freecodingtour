{
 "cells": [
  {
   "cell_type": "markdown",
   "metadata": {
    "id": "_MYOl2Xi1P1Z"
   },
   "source": [
    "# Entrada -> Proceso -> Salida\n",
    "\n",
    "Todo programa de computacion consta de tres partes:\n",
    "\n",
    "1. La **entrada** que son los datos que le proveemos al programa\n",
    "2. El **procesamiento** de esos datos (el programa propiamente dicho)\n",
    "3. La **salida** que es el resultado que obtenemos luego de procesar los datos"
   ]
  },
  {
   "cell_type": "markdown",
   "metadata": {},
   "source": [
    "Un programa complejo esta compuesto de varios pequeños programas donde la salida de un programa puede ser la entrada de otro. A estos pequeños programas los podemos llamar tambien funciones y los podemos definir de la siguiente manera:"
   ]
  },
  {
   "cell_type": "code",
   "execution_count": 4,
   "metadata": {},
   "outputs": [],
   "source": [
    "def incrementar_en_uno(mi_numero_de_entrada):\n",
    "    salida = mi_numero_de_entrada + 1\n",
    "    return salida"
   ]
  },
  {
   "cell_type": "markdown",
   "metadata": {},
   "source": [
    "Acabamos de crear un pequeño programa que recibe una variable llamada **mi_numero_de_entrada**, procesa esta varible incrementando su valor en uno y devuelve el resultado utilizando la palabra **return** y a continuacion el valor del resultado a devolver. A este programa le hemos puesto el nombre de **incrementar_en_uno** utilizando la palabra **def** para definir su nombre. Ahora podremos usar este pequeño programa todas las veces que querramos de ahora en mas de la siguiente manera:"
   ]
  },
  {
   "cell_type": "code",
   "execution_count": 5,
   "metadata": {},
   "outputs": [
    {
     "data": {
      "text/plain": [
       "11"
      ]
     },
     "execution_count": 5,
     "metadata": {},
     "output_type": "execute_result"
    }
   ],
   "source": [
    "incrementar_en_uno(10)"
   ]
  },
  {
   "cell_type": "markdown",
   "metadata": {},
   "source": [
    "Otro ejemplo:"
   ]
  },
  {
   "cell_type": "code",
   "execution_count": 7,
   "metadata": {},
   "outputs": [
    {
     "data": {
      "text/plain": [
       "223"
      ]
     },
     "execution_count": 7,
     "metadata": {},
     "output_type": "execute_result"
    }
   ],
   "source": [
    "incrementar_en_uno(222)"
   ]
  },
  {
   "cell_type": "markdown",
   "metadata": {},
   "source": [
    "A los resultados de estas funciones los podemos guardar tambien en variables y luego utilizarlos.\n",
    "\n",
    "### Ejercicio: \n",
    "\n",
    "Adivina cual sera el valor de **z** en el siguiente ejemplo:"
   ]
  },
  {
   "cell_type": "code",
   "execution_count": 12,
   "metadata": {},
   "outputs": [],
   "source": [
    "x = incrementar_en_uno(3)\n",
    "y = incrementar_en_uno(4)\n",
    "z = x + y"
   ]
  },
  {
   "cell_type": "code",
   "execution_count": 13,
   "metadata": {},
   "outputs": [
    {
     "data": {
      "text/plain": [
       "9"
      ]
     },
     "execution_count": 13,
     "metadata": {},
     "output_type": "execute_result"
    }
   ],
   "source": [
    "z"
   ]
  },
  {
   "cell_type": "markdown",
   "metadata": {},
   "source": [
    "Las funciones pueden tener mas de una variable de entrada. Por ejemplo, la siguiente funcion recibe dos valores como entrada y solo devuelve el valor del mayor:"
   ]
  },
  {
   "cell_type": "code",
   "execution_count": 14,
   "metadata": {},
   "outputs": [],
   "source": [
    "def mayor(x,y):\n",
    "    if x > y:\n",
    "        salida = x\n",
    "    else:\n",
    "        salida = y\n",
    "    return salida"
   ]
  },
  {
   "cell_type": "markdown",
   "metadata": {},
   "source": [
    "Probemos ahora como funciona:"
   ]
  },
  {
   "cell_type": "code",
   "execution_count": 15,
   "metadata": {},
   "outputs": [
    {
     "data": {
      "text/plain": [
       "5"
      ]
     },
     "execution_count": 15,
     "metadata": {},
     "output_type": "execute_result"
    }
   ],
   "source": [
    "mayor(3,5)"
   ]
  },
  {
   "cell_type": "code",
   "execution_count": 16,
   "metadata": {},
   "outputs": [
    {
     "data": {
      "text/plain": [
       "20"
      ]
     },
     "execution_count": 16,
     "metadata": {},
     "output_type": "execute_result"
    }
   ],
   "source": [
    "mayor(20,11)"
   ]
  },
  {
   "cell_type": "code",
   "execution_count": 17,
   "metadata": {},
   "outputs": [
    {
     "data": {
      "text/plain": [
       "-10"
      ]
     },
     "execution_count": 17,
     "metadata": {},
     "output_type": "execute_result"
    }
   ],
   "source": [
    "mayor(-10,-30)"
   ]
  },
  {
   "cell_type": "markdown",
   "metadata": {},
   "source": [
    "## Ejercicio 1:\n",
    "\n",
    "Crear una funcion llamada menor que reciba como entrada dos valores y devuelva el valor del menor de los dos"
   ]
  },
  {
   "cell_type": "code",
   "execution_count": null,
   "metadata": {},
   "outputs": [],
   "source": []
  },
  {
   "cell_type": "markdown",
   "metadata": {},
   "source": [
    "Probemos ahora tu funcion:"
   ]
  },
  {
   "cell_type": "code",
   "execution_count": null,
   "metadata": {},
   "outputs": [],
   "source": [
    "menor(3,5)"
   ]
  },
  {
   "cell_type": "code",
   "execution_count": 21,
   "metadata": {},
   "outputs": [
    {
     "data": {
      "text/plain": [
       "11"
      ]
     },
     "execution_count": 21,
     "metadata": {},
     "output_type": "execute_result"
    }
   ],
   "source": [
    "menor(20,11)"
   ]
  },
  {
   "cell_type": "code",
   "execution_count": 22,
   "metadata": {},
   "outputs": [
    {
     "data": {
      "text/plain": [
       "-30"
      ]
     },
     "execution_count": 22,
     "metadata": {},
     "output_type": "execute_result"
    }
   ],
   "source": [
    "menor(-10,-30)"
   ]
  },
  {
   "cell_type": "code",
   "execution_count": 19,
   "metadata": {},
   "outputs": [],
   "source": [
    "#@title Solucion Ejercicio 1 {display-mode:\"form\"}\n",
    "\n",
    "def menor(x,y):\n",
    "    if x < y:\n",
    "        salida = x\n",
    "    else:\n",
    "        salida = y\n",
    "    return salida"
   ]
  },
  {
   "cell_type": "code",
   "execution_count": null,
   "metadata": {},
   "outputs": [],
   "source": []
  },
  {
   "cell_type": "code",
   "execution_count": null,
   "metadata": {},
   "outputs": [],
   "source": []
  },
  {
   "cell_type": "markdown",
   "metadata": {},
   "source": [
    "# Fin: [Volver al contenido del curso](https://www.freecodingtour.com/cursos/espanol/programacion/programacion.html)"
   ]
  }
 ],
 "metadata": {
  "colab": {
   "authorship_tag": "ABX9TyNJES05cvSsblmdLrrHWrVt",
   "provenance": []
  },
  "kernelspec": {
   "display_name": "Python 3 (ipykernel)",
   "language": "python",
   "name": "python3"
  },
  "language_info": {
   "codemirror_mode": {
    "name": "ipython",
    "version": 3
   },
   "file_extension": ".py",
   "mimetype": "text/x-python",
   "name": "python",
   "nbconvert_exporter": "python",
   "pygments_lexer": "ipython3",
   "version": "3.9.7"
  }
 },
 "nbformat": 4,
 "nbformat_minor": 4
}
