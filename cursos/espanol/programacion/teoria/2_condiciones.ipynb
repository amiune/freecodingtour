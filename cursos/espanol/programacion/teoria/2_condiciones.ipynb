{
 "cells": [
  {
   "cell_type": "markdown",
   "id": "87bfd527-e8b4-49b4-aef4-025b1fe0e143",
   "metadata": {},
   "source": [
    "# Condiciones\n",
    "\n",
    "Una condicion es una comparacion de dos elementos y su resultado puede ser verdadero o falso"
   ]
  },
  {
   "cell_type": "markdown",
   "id": "98870d51-8f12-4434-ac6f-55036d79b397",
   "metadata": {},
   "source": [
    "Ejemplo: comparemos si 2 es igual a 5. Para ello usaremos el simbolo == (doble igual)"
   ]
  },
  {
   "cell_type": "code",
   "execution_count": null,
   "id": "4e842f78-e9ab-4499-b881-8ebc077df5e5",
   "metadata": {},
   "outputs": [],
   "source": [
    "2 == 5"
   ]
  },
  {
   "cell_type": "markdown",
   "id": "ec935437-f7f2-4b56-8d77-73fdb5a98a8e",
   "metadata": {},
   "source": [
    "Ejemplo: comparemos si 5 es igual a 5. Para ello usaremos el simbolo == (doble igual)"
   ]
  },
  {
   "cell_type": "code",
   "execution_count": null,
   "id": "48d06c3e-f9e9-41b0-a65b-56c119a9f769",
   "metadata": {},
   "outputs": [],
   "source": [
    "5 == 5"
   ]
  },
  {
   "cell_type": "markdown",
   "id": "f039d875-bc90-46cc-8270-4bdd9493f9fb",
   "metadata": {},
   "source": [
    "**True** significa Verdadero en ingles y **False** significa Falso"
   ]
  },
  {
   "cell_type": "markdown",
   "id": "02027a10-a2a0-431e-acfb-71cdbabbac5d",
   "metadata": {},
   "source": [
    "### Ejercicio 1: \n",
    "\n",
    "Crear una variable x = 0 y una variable y = 2 luego comparar si son iguales"
   ]
  },
  {
   "cell_type": "code",
   "execution_count": null,
   "id": "cd07e3ab-505e-4deb-9e63-5b67fba7fde2",
   "metadata": {},
   "outputs": [],
   "source": []
  },
  {
   "cell_type": "code",
   "execution_count": null,
   "id": "3929c727-3f7a-49cc-a608-a602d8a1be28",
   "metadata": {},
   "outputs": [],
   "source": [
    "#@title Solucion Ejercicio 1 {display-mode:\"form\"}\n",
    "\n",
    "x = 0\n",
    "y = 2\n",
    "x == y"
   ]
  },
  {
   "cell_type": "markdown",
   "id": "ebbf6517-38b8-4d84-adc5-59df85df45e5",
   "metadata": {},
   "source": [
    "### Ejercicio 2: \n",
    "\n",
    "Modificar la variable x para que la comparacion de igualdad me de como resultado True"
   ]
  },
  {
   "cell_type": "code",
   "execution_count": null,
   "id": "db1d6bee-de58-4aa0-8b90-d090383d8f02",
   "metadata": {},
   "outputs": [],
   "source": []
  },
  {
   "cell_type": "code",
   "execution_count": null,
   "id": "fed1f9b1-8ab4-4af1-a6bd-c8f345af6be1",
   "metadata": {},
   "outputs": [],
   "source": [
    "#@title Solucion Ejercicio 2 {display-mode:\"form\"}\n",
    "\n",
    "x = 2\n",
    "x == y"
   ]
  },
  {
   "cell_type": "markdown",
   "id": "5d53ddfa-2983-4fe2-b3d7-bf0ff3ae9e5b",
   "metadata": {},
   "source": [
    "## Otros simbolos para comparar\n",
    "\n",
    "Veamos uno a uno:"
   ]
  },
  {
   "cell_type": "markdown",
   "id": "b89a3f46-a5c3-49b5-8bc8-7e7cd40f7e3a",
   "metadata": {},
   "source": [
    "- Para comparar si dos valores son distintos utilizamos !="
   ]
  },
  {
   "cell_type": "code",
   "execution_count": null,
   "id": "73c3f8bd-d307-4b78-930c-b8986712c9fc",
   "metadata": {},
   "outputs": [],
   "source": [
    "5 != 2"
   ]
  },
  {
   "cell_type": "code",
   "execution_count": null,
   "id": "38fe3e6a-f5d7-427e-b135-43c56680a261",
   "metadata": {},
   "outputs": [],
   "source": [
    "5 != 5"
   ]
  },
  {
   "cell_type": "markdown",
   "id": "660d5442-90b8-4116-a0f9-65d432cf5571",
   "metadata": {},
   "source": [
    "### Ejercicio 3: \n",
    "\n",
    "Comparar si las variables que creamos anteriormente son distintas"
   ]
  },
  {
   "cell_type": "code",
   "execution_count": null,
   "id": "153a9e49-4063-44e9-a8fb-7a89edeca679",
   "metadata": {},
   "outputs": [],
   "source": []
  },
  {
   "cell_type": "code",
   "execution_count": null,
   "id": "361ad834-d9d4-4071-ab64-8ec1c82976ed",
   "metadata": {},
   "outputs": [],
   "source": [
    "#@title Solucion Ejercicio 3 {display-mode:\"form\"}\n",
    "\n",
    "x != y"
   ]
  },
  {
   "cell_type": "markdown",
   "id": "f0de7d79-e3fd-4ef1-8dcd-9f36af2b20b3",
   "metadata": {},
   "source": [
    "- Para comparar si el primer valor es mayor al segundo utilizamos"
   ]
  },
  {
   "cell_type": "code",
   "execution_count": null,
   "id": "22b4ca30-0c98-414c-86cc-7ec8c4d7fd7d",
   "metadata": {},
   "outputs": [],
   "source": [
    "5 > 2"
   ]
  },
  {
   "cell_type": "code",
   "execution_count": null,
   "id": "db636064-1ad7-45d0-9527-ec1053bd59ed",
   "metadata": {},
   "outputs": [],
   "source": [
    "2 > 5"
   ]
  },
  {
   "cell_type": "code",
   "execution_count": null,
   "id": "7c99d801-4b04-4bfb-96c7-1d6cd7b7d324",
   "metadata": {},
   "outputs": [],
   "source": [
    "5 > 5"
   ]
  },
  {
   "cell_type": "markdown",
   "id": "9b9c1db3-7064-4d70-978c-33b9e4bceacf",
   "metadata": {},
   "source": [
    "### Ejercicio 4: \n",
    "\n",
    "Comparar si la variable y es mayor a la variable x"
   ]
  },
  {
   "cell_type": "code",
   "execution_count": null,
   "id": "8073793c-fd05-4e3a-9a24-f56341062f24",
   "metadata": {},
   "outputs": [],
   "source": []
  },
  {
   "cell_type": "code",
   "execution_count": null,
   "id": "dbca5ad6-450a-42a2-8c2e-5c5ba115cc2c",
   "metadata": {},
   "outputs": [],
   "source": [
    "#@title Solucion Ejercicio 4 {display-mode:\"form\"}\n",
    "y > x"
   ]
  },
  {
   "cell_type": "markdown",
   "id": "84bd32ab-c3da-4127-a422-92b45fac775c",
   "metadata": {},
   "source": [
    "### Ejercicio 5: \n",
    "\n",
    "Comparar si la variable y mas 3 es mayor a la variable x (utilizar parentesis y el simbolo de suma)"
   ]
  },
  {
   "cell_type": "code",
   "execution_count": null,
   "id": "df430648-bc0b-4776-8075-66eebca4e835",
   "metadata": {},
   "outputs": [],
   "source": []
  },
  {
   "cell_type": "code",
   "execution_count": null,
   "id": "800cb526-1e06-4b22-a40c-d34dda439317",
   "metadata": {},
   "outputs": [],
   "source": [
    "#@title Solucion Ejercicio 5 {display-mode:\"form\"}\n",
    "\n",
    "(y+3) > x"
   ]
  },
  {
   "cell_type": "markdown",
   "id": "25d2f2a7-d807-4c36-ab94-06b3fdf9f922",
   "metadata": {},
   "source": [
    "- Para comparar si el primer valor es menor al segundo utilizamos"
   ]
  },
  {
   "cell_type": "code",
   "execution_count": null,
   "id": "a7d3b382-a534-45c1-a82a-cde5715d21b2",
   "metadata": {},
   "outputs": [],
   "source": [
    "2 < 5"
   ]
  },
  {
   "cell_type": "markdown",
   "id": "97c99d0a-2f14-4712-8c78-f962995f09ab",
   "metadata": {},
   "source": [
    "- Para comparar si el primer valor es mayor o igual al segundo utilizamos"
   ]
  },
  {
   "cell_type": "code",
   "execution_count": null,
   "id": "6db78867-81ef-42af-b40c-edbd756210ec",
   "metadata": {},
   "outputs": [],
   "source": [
    "5 >= 5"
   ]
  },
  {
   "cell_type": "code",
   "execution_count": null,
   "id": "b20e8b93-4a01-4339-907b-9a21279e1101",
   "metadata": {},
   "outputs": [],
   "source": [
    "5 <= 5"
   ]
  },
  {
   "cell_type": "markdown",
   "id": "1596bb1a-2486-4d6b-8962-c619b8364f1b",
   "metadata": {},
   "source": [
    "- Para comparar si el primer valor es menor o igual al segundo utilizamos"
   ]
  },
  {
   "cell_type": "code",
   "execution_count": null,
   "id": "32412981-5424-4b74-ab43-84dd5ad06a64",
   "metadata": {},
   "outputs": [],
   "source": [
    "2 <= 5"
   ]
  },
  {
   "cell_type": "markdown",
   "id": "6dfa5063-6b31-48fe-96f3-06816628aef2",
   "metadata": {},
   "source": [
    "## Tambien podemos comparar texto!"
   ]
  },
  {
   "cell_type": "code",
   "execution_count": null,
   "id": "bf3554b8-cff3-4c3d-be8b-7d17186d4226",
   "metadata": {},
   "outputs": [],
   "source": [
    "frase1 = \"Hola\"\n",
    "frase2 = \"Adios\""
   ]
  },
  {
   "cell_type": "code",
   "execution_count": null,
   "id": "c811f280-1521-4378-a418-a9d4bd6a6505",
   "metadata": {},
   "outputs": [],
   "source": [
    "frase1 == frase2"
   ]
  },
  {
   "cell_type": "code",
   "execution_count": null,
   "id": "474eb5d3-1223-4faa-b34a-064752229626",
   "metadata": {},
   "outputs": [],
   "source": [
    "frase2 = \"Hola\"\n",
    "frase1 == frase2"
   ]
  },
  {
   "cell_type": "markdown",
   "id": "3db568fd-b965-4410-8ba4-0561c8e4d80b",
   "metadata": {},
   "source": [
    "### Resumen de simbolos\n",
    "\n",
    "Los simbolos que podemos utilizar para comparar son los siguientes:\n",
    "- **==** compara si dos valores son iguales\n",
    "- **!=** compara si dos valores son distintos (no se puede invertir =! esta mal)\n",
    "- **\\>** compara si el primer valor es mayor al segundo\n",
    "- **<**  compara si el primer valor es menor al segundo\n",
    "- **\\>=** compara si el primer valor es mayor o igual al segundo (no se puede invertir => esta mal)\n",
    "- **<=** compara si el primer valor es menor o igual al segundo (no se puede invertir =< esta mal)"
   ]
  },
  {
   "cell_type": "markdown",
   "id": "e0935488-83ea-4b93-8da8-2c4f527ed9f6",
   "metadata": {},
   "source": [
    "## and, or y parentesis"
   ]
  },
  {
   "cell_type": "markdown",
   "id": "0bb9a3a4-c1d0-4c78-a544-3976bc56c36f",
   "metadata": {},
   "source": [
    "**and** en ingles significa y\n",
    "\n",
    "**or** en ingles significa o\n",
    "\n",
    "Con estas palabras podemos comparar dos o mas condiciones a la vez"
   ]
  },
  {
   "cell_type": "markdown",
   "id": "6b604d0d-7a53-4f2b-8dea-dcc3813c24e2",
   "metadata": {},
   "source": [
    "Con **or** si cualquiera de las condiciones es verdadera entonces el resultado total sera verdadero"
   ]
  },
  {
   "cell_type": "code",
   "execution_count": null,
   "id": "cdd0abe0-7e86-4a51-a5b9-807ae3da280c",
   "metadata": {},
   "outputs": [],
   "source": [
    "(1 == 2) or (2 == 2)"
   ]
  },
  {
   "cell_type": "markdown",
   "id": "7e76e0f3-3782-4b12-952d-e46ed22cb8ee",
   "metadata": {},
   "source": [
    "Con **and** si cualquiera de las condiciones es falsa entonces el resultado total sera falso"
   ]
  },
  {
   "cell_type": "code",
   "execution_count": null,
   "id": "1204fbef-4e41-4cd3-8594-19ddf682f22e",
   "metadata": {},
   "outputs": [],
   "source": [
    "(1 == 2) and (2 == 2)"
   ]
  },
  {
   "cell_type": "markdown",
   "id": "7f673cf8-5651-438d-8397-6f20f641d8e2",
   "metadata": {},
   "source": [
    "### Ejercicio 6: \n",
    "\n",
    "Dada la variable edad = 20 comparar para saber si edad es mayor a 18 y menor a 90"
   ]
  },
  {
   "cell_type": "code",
   "execution_count": null,
   "id": "d52a7754-9c60-43ec-8dd1-c290cc06d3f8",
   "metadata": {},
   "outputs": [],
   "source": [
    "edad = 20\n"
   ]
  },
  {
   "cell_type": "code",
   "execution_count": null,
   "id": "5ddba940-714f-44df-9cb7-ff89262d2414",
   "metadata": {},
   "outputs": [],
   "source": [
    "#@title Solucion Ejercicio 6 {display-mode:\"form\"}\n",
    "\n",
    "edad = 20\n",
    "(edad > 18) and (edad < 90)"
   ]
  }
 ],
 "metadata": {
  "kernelspec": {
   "display_name": "Python 3 (ipykernel)",
   "language": "python",
   "name": "python3"
  },
  "language_info": {
   "codemirror_mode": {
    "name": "ipython",
    "version": 3
   },
   "file_extension": ".py",
   "mimetype": "text/x-python",
   "name": "python",
   "nbconvert_exporter": "python",
   "pygments_lexer": "ipython3",
   "version": "3.9.7"
  }
 },
 "nbformat": 4,
 "nbformat_minor": 5
}
