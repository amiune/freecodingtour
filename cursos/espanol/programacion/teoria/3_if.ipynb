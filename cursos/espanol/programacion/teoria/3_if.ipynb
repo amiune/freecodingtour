{
 "cells": [
  {
   "cell_type": "markdown",
   "metadata": {
    "id": "baTFKcSLliLb"
   },
   "source": [
    "## Si pasa algo entonces hacer algo\n",
    "\n"
   ]
  },
  {
   "cell_type": "code",
   "execution_count": null,
   "metadata": {
    "colab": {
     "base_uri": "https://localhost:8080/"
    },
    "executionInfo": {
     "elapsed": 7,
     "status": "ok",
     "timestamp": 1679506192266,
     "user": {
      "displayName": "Hernán Amiune",
      "userId": "11385806853064071251"
     },
     "user_tz": -60
    },
    "id": "nFU_hiuLX1_L",
    "outputId": "dcc6fbbb-e24f-4395-a1c6-b0a7e83fd70c"
   },
   "outputs": [
    {
     "data": {
      "text/plain": [
       "9"
      ]
     },
     "execution_count": 1,
     "metadata": {},
     "output_type": "execute_result"
    }
   ],
   "source": [
    "3 + 6"
   ]
  },
  {
   "cell_type": "code",
   "execution_count": null,
   "metadata": {
    "colab": {
     "base_uri": "https://localhost:8080/"
    },
    "executionInfo": {
     "elapsed": 4,
     "status": "ok",
     "timestamp": 1679506457874,
     "user": {
      "displayName": "Hernán Amiune",
      "userId": "11385806853064071251"
     },
     "user_tz": -60
    },
    "id": "jqmT2p-6X5B-",
    "outputId": "c78813f7-fe4e-40b2-92e4-2599de4a6815"
   },
   "outputs": [
    {
     "data": {
      "text/plain": [
       "37"
      ]
     },
     "execution_count": 3,
     "metadata": {},
     "output_type": "execute_result"
    }
   ],
   "source": [
    "#Esto es un comentario\n",
    "5 * 7 + 2\n",
    "#Esto es un comentario"
   ]
  },
  {
   "cell_type": "code",
   "execution_count": null,
   "metadata": {
    "colab": {
     "base_uri": "https://localhost:8080/"
    },
    "executionInfo": {
     "elapsed": 722,
     "status": "ok",
     "timestamp": 1679506475377,
     "user": {
      "displayName": "Hernán Amiune",
      "userId": "11385806853064071251"
     },
     "user_tz": -60
    },
    "id": "W1m93-0kYGyk",
    "outputId": "7a64facf-56c4-4246-c2bd-a2470934306d"
   },
   "outputs": [
    {
     "name": "stdout",
     "output_type": "stream",
     "text": [
      "12\n"
     ]
    },
    {
     "data": {
      "text/plain": [
       "13"
      ]
     },
     "execution_count": 4,
     "metadata": {},
     "output_type": "execute_result"
    }
   ],
   "source": [
    "#Mostrar las lineas que yo quiero\n",
    "3 + 5\n",
    "print(4 * 3)\n",
    "1 + 2\n",
    "6 + 7"
   ]
  },
  {
   "cell_type": "code",
   "execution_count": null,
   "metadata": {
    "colab": {
     "base_uri": "https://localhost:8080/",
     "height": 35
    },
    "executionInfo": {
     "elapsed": 473,
     "status": "ok",
     "timestamp": 1679506505621,
     "user": {
      "displayName": "Hernán Amiune",
      "userId": "11385806853064071251"
     },
     "user_tz": -60
    },
    "id": "5uzEKCByYgjS",
    "outputId": "cebdd97a-4b19-496e-e20d-c33b2539e1b6"
   },
   "outputs": [
    {
     "data": {
      "application/vnd.google.colaboratory.intrinsic+json": {
       "type": "string"
      },
      "text/plain": [
       "'Hola'"
      ]
     },
     "execution_count": 5,
     "metadata": {},
     "output_type": "execute_result"
    }
   ],
   "source": [
    "\"Hola\""
   ]
  },
  {
   "cell_type": "code",
   "execution_count": null,
   "metadata": {
    "colab": {
     "base_uri": "https://localhost:8080/",
     "height": 35
    },
    "executionInfo": {
     "elapsed": 6,
     "status": "ok",
     "timestamp": 1679506509046,
     "user": {
      "displayName": "Hernán Amiune",
      "userId": "11385806853064071251"
     },
     "user_tz": -60
    },
    "id": "PuCCzcLwjeSo",
    "outputId": "958c2e4f-59a1-47f0-d08b-a89c227d4257"
   },
   "outputs": [
    {
     "data": {
      "application/vnd.google.colaboratory.intrinsic+json": {
       "type": "string"
      },
      "text/plain": [
       "'Hola'"
      ]
     },
     "execution_count": 6,
     "metadata": {},
     "output_type": "execute_result"
    }
   ],
   "source": [
    "'Hola'"
   ]
  },
  {
   "cell_type": "code",
   "execution_count": null,
   "metadata": {
    "colab": {
     "base_uri": "https://localhost:8080/",
     "height": 35
    },
    "executionInfo": {
     "elapsed": 4,
     "status": "ok",
     "timestamp": 1679506526402,
     "user": {
      "displayName": "Hernán Amiune",
      "userId": "11385806853064071251"
     },
     "user_tz": -60
    },
    "id": "_-UZvBQMjhX0",
    "outputId": "8caec31e-9840-456e-a23f-4efea9021eb3"
   },
   "outputs": [
    {
     "data": {
      "application/vnd.google.colaboratory.intrinsic+json": {
       "type": "string"
      },
      "text/plain": [
       "\"Hernan's computer\""
      ]
     },
     "execution_count": 7,
     "metadata": {},
     "output_type": "execute_result"
    }
   ],
   "source": [
    "\"Hernan's computer\""
   ]
  },
  {
   "cell_type": "code",
   "execution_count": null,
   "metadata": {
    "colab": {
     "base_uri": "https://localhost:8080/",
     "height": 35
    },
    "executionInfo": {
     "elapsed": 960,
     "status": "ok",
     "timestamp": 1679506544791,
     "user": {
      "displayName": "Hernán Amiune",
      "userId": "11385806853064071251"
     },
     "user_tz": -60
    },
    "id": "qw14yfJAkIBj",
    "outputId": "4b289bf6-79ee-49ab-948c-7d74507de22c"
   },
   "outputs": [
    {
     "data": {
      "application/vnd.google.colaboratory.intrinsic+json": {
       "type": "string"
      },
      "text/plain": [
       "'\"Hola\"'"
      ]
     },
     "execution_count": 8,
     "metadata": {},
     "output_type": "execute_result"
    }
   ],
   "source": [
    "'\"Hola\"'"
   ]
  },
  {
   "cell_type": "code",
   "execution_count": null,
   "metadata": {
    "colab": {
     "base_uri": "https://localhost:8080/",
     "height": 166
    },
    "executionInfo": {
     "elapsed": 586,
     "status": "error",
     "timestamp": 1679506582198,
     "user": {
      "displayName": "Hernán Amiune",
      "userId": "11385806853064071251"
     },
     "user_tz": -60
    },
    "id": "Mo7kIu4EYVSz",
    "outputId": "52dce333-acfe-4c19-dc1f-bd3b8d180fb1"
   },
   "outputs": [
    {
     "ename": "NameError",
     "evalue": "ignored",
     "output_type": "error",
     "traceback": [
      "\u001b[0;31m---------------------------------------------------------------------------\u001b[0m",
      "\u001b[0;31mNameError\u001b[0m                                 Traceback (most recent call last)",
      "\u001b[0;32m<ipython-input-9-c8358c72121d>\u001b[0m in \u001b[0;36m<module>\u001b[0;34m\u001b[0m\n\u001b[0;32m----> 1\u001b[0;31m \u001b[0mHola\u001b[0m\u001b[0;34m\u001b[0m\u001b[0;34m\u001b[0m\u001b[0m\n\u001b[0m",
      "\u001b[0;31mNameError\u001b[0m: name 'Hola' is not defined"
     ]
    }
   ],
   "source": [
    "Hola"
   ]
  },
  {
   "cell_type": "code",
   "execution_count": null,
   "metadata": {
    "id": "ryrpzWzfYiZM"
   },
   "outputs": [],
   "source": [
    "hola = 3"
   ]
  },
  {
   "cell_type": "code",
   "execution_count": null,
   "metadata": {
    "colab": {
     "base_uri": "https://localhost:8080/",
     "height": 131
    },
    "executionInfo": {
     "elapsed": 352,
     "status": "error",
     "timestamp": 1679506626046,
     "user": {
      "displayName": "Hernán Amiune",
      "userId": "11385806853064071251"
     },
     "user_tz": -60
    },
    "id": "m9CViwz8lh07",
    "outputId": "9dfca5e2-b7e5-4c63-9886-132a7ec9745e"
   },
   "outputs": [
    {
     "ename": "SyntaxError",
     "evalue": "ignored",
     "output_type": "error",
     "traceback": [
      "\u001b[0;36m  File \u001b[0;32m\"<ipython-input-11-474dba19d051>\"\u001b[0;36m, line \u001b[0;32m1\u001b[0m\n\u001b[0;31m    3hola = 4\u001b[0m\n\u001b[0m     ^\u001b[0m\n\u001b[0;31mSyntaxError\u001b[0m\u001b[0;31m:\u001b[0m invalid syntax\n"
     ]
    }
   ],
   "source": [
    "3hola = 4"
   ]
  },
  {
   "cell_type": "code",
   "execution_count": null,
   "metadata": {
    "id": "G2JuBcgaljXu"
   },
   "outputs": [],
   "source": [
    "hola3 = 4"
   ]
  },
  {
   "cell_type": "code",
   "execution_count": null,
   "metadata": {
    "colab": {
     "base_uri": "https://localhost:8080/"
    },
    "executionInfo": {
     "elapsed": 546,
     "status": "ok",
     "timestamp": 1679506653807,
     "user": {
      "displayName": "Hernán Amiune",
      "userId": "11385806853064071251"
     },
     "user_tz": -60
    },
    "id": "-mA0-HgyYlfi",
    "outputId": "b98b4b3f-9a69-4979-f582-7898bd982741"
   },
   "outputs": [
    {
     "data": {
      "text/plain": [
       "3"
      ]
     },
     "execution_count": 13,
     "metadata": {},
     "output_type": "execute_result"
    }
   ],
   "source": [
    "hola"
   ]
  },
  {
   "cell_type": "code",
   "execution_count": null,
   "metadata": {
    "colab": {
     "base_uri": "https://localhost:8080/"
    },
    "executionInfo": {
     "elapsed": 432,
     "status": "ok",
     "timestamp": 1679506676426,
     "user": {
      "displayName": "Hernán Amiune",
      "userId": "11385806853064071251"
     },
     "user_tz": -60
    },
    "id": "4PvrCcoHYq-i",
    "outputId": "76d8486c-7491-4983-9836-4bd2956d9325"
   },
   "outputs": [
    {
     "data": {
      "text/plain": [
       "int"
      ]
     },
     "execution_count": 14,
     "metadata": {},
     "output_type": "execute_result"
    }
   ],
   "source": [
    "type(7)"
   ]
  },
  {
   "cell_type": "code",
   "execution_count": null,
   "metadata": {
    "colab": {
     "base_uri": "https://localhost:8080/"
    },
    "executionInfo": {
     "elapsed": 1336,
     "status": "ok",
     "timestamp": 1679506732956,
     "user": {
      "displayName": "Hernán Amiune",
      "userId": "11385806853064071251"
     },
     "user_tz": -60
    },
    "id": "zFPv6AF3YtpE",
    "outputId": "66ba665d-b96d-40c7-9121-dd560324583c"
   },
   "outputs": [
    {
     "name": "stdout",
     "output_type": "stream",
     "text": [
      "<class 'int'>\n",
      "<class 'float'>\n",
      "<class 'str'>\n",
      "<class 'int'>\n",
      "<class 'str'>\n",
      "<class 'bool'>\n"
     ]
    }
   ],
   "source": [
    "print(type(7))\n",
    "print(type(8.2))\n",
    "print(type(\"Hola\"))\n",
    "print(type(hola))\n",
    "print(type(\"45\"))\n",
    "print(type(True))"
   ]
  },
  {
   "cell_type": "code",
   "execution_count": null,
   "metadata": {
    "colab": {
     "base_uri": "https://localhost:8080/",
     "height": 166
    },
    "executionInfo": {
     "elapsed": 358,
     "status": "error",
     "timestamp": 1679506802302,
     "user": {
      "displayName": "Hernán Amiune",
      "userId": "11385806853064071251"
     },
     "user_tz": -60
    },
    "id": "i-F53oHdYzja",
    "outputId": "119ef4f9-7548-4bc0-d328-aef46b80c45e"
   },
   "outputs": [
    {
     "ename": "TypeError",
     "evalue": "ignored",
     "output_type": "error",
     "traceback": [
      "\u001b[0;31m---------------------------------------------------------------------------\u001b[0m",
      "\u001b[0;31mTypeError\u001b[0m                                 Traceback (most recent call last)",
      "\u001b[0;32m<ipython-input-16-d4e36ca990f8>\u001b[0m in \u001b[0;36m<module>\u001b[0;34m\u001b[0m\n\u001b[0;32m----> 1\u001b[0;31m \u001b[0;36m3\u001b[0m \u001b[0;34m+\u001b[0m \u001b[0;34m\"5\"\u001b[0m\u001b[0;34m\u001b[0m\u001b[0;34m\u001b[0m\u001b[0m\n\u001b[0m",
      "\u001b[0;31mTypeError\u001b[0m: unsupported operand type(s) for +: 'int' and 'str'"
     ]
    }
   ],
   "source": [
    "3 + \"5\""
   ]
  },
  {
   "cell_type": "code",
   "execution_count": null,
   "metadata": {
    "colab": {
     "base_uri": "https://localhost:8080/",
     "height": 35
    },
    "executionInfo": {
     "elapsed": 976,
     "status": "ok",
     "timestamp": 1679506831214,
     "user": {
      "displayName": "Hernán Amiune",
      "userId": "11385806853064071251"
     },
     "user_tz": -60
    },
    "id": "fP6fLswpZXqA",
    "outputId": "6a3a3ec9-65a3-4aea-d2d2-9d9131818572"
   },
   "outputs": [
    {
     "data": {
      "application/vnd.google.colaboratory.intrinsic+json": {
       "type": "string"
      },
      "text/plain": [
       "'351'"
      ]
     },
     "execution_count": 17,
     "metadata": {},
     "output_type": "execute_result"
    }
   ],
   "source": [
    "\"3\" + \"51\""
   ]
  },
  {
   "cell_type": "code",
   "execution_count": null,
   "metadata": {
    "colab": {
     "base_uri": "https://localhost:8080/",
     "height": 35
    },
    "executionInfo": {
     "elapsed": 7,
     "status": "ok",
     "timestamp": 1679506877810,
     "user": {
      "displayName": "Hernán Amiune",
      "userId": "11385806853064071251"
     },
     "user_tz": -60
    },
    "id": "HuPoN15-ZaY1",
    "outputId": "d5a4c323-aa15-45c6-dc38-cc7c2a9497e0"
   },
   "outputs": [
    {
     "data": {
      "application/vnd.google.colaboratory.intrinsic+json": {
       "type": "string"
      },
      "text/plain": [
       "'515151'"
      ]
     },
     "execution_count": 20,
     "metadata": {},
     "output_type": "execute_result"
    }
   ],
   "source": [
    "3 * \"51\""
   ]
  },
  {
   "cell_type": "code",
   "execution_count": null,
   "metadata": {
    "colab": {
     "base_uri": "https://localhost:8080/"
    },
    "executionInfo": {
     "elapsed": 7,
     "status": "ok",
     "timestamp": 1679506895710,
     "user": {
      "displayName": "Hernán Amiune",
      "userId": "11385806853064071251"
     },
     "user_tz": -60
    },
    "id": "b73W75vlZgW2",
    "outputId": "d99fbe4d-b51a-43c4-ab69-fcfcadfbd769"
   },
   "outputs": [
    {
     "name": "stdout",
     "output_type": "stream",
     "text": [
      "La suma de 3 mas 5 es 8\n"
     ]
    }
   ],
   "source": [
    "x = 3\n",
    "y = 5\n",
    "print(\"La suma de\", x, \"mas\", y, \"es\", x+y)"
   ]
  },
  {
   "cell_type": "code",
   "execution_count": null,
   "metadata": {
    "colab": {
     "base_uri": "https://localhost:8080/"
    },
    "executionInfo": {
     "elapsed": 5,
     "status": "ok",
     "timestamp": 1679506969869,
     "user": {
      "displayName": "Hernán Amiune",
      "userId": "11385806853064071251"
     },
     "user_tz": -60
    },
    "id": "XrhozIsGZ-_o",
    "outputId": "62cbc30c-eadf-46ea-8c27-92054335ed61"
   },
   "outputs": [
    {
     "name": "stdout",
     "output_type": "stream",
     "text": [
      "7 10\n"
     ]
    }
   ],
   "source": [
    "#Predecir el resultado\n",
    "x = 3 \n",
    "y = x + 2 \n",
    "y = 2 * y\n",
    "x = y - x\n",
    "print(x, y)"
   ]
  },
  {
   "cell_type": "code",
   "execution_count": null,
   "metadata": {
    "id": "HphMpx-U3MU7"
   },
   "outputs": [],
   "source": []
  },
  {
   "cell_type": "code",
   "execution_count": null,
   "metadata": {
    "colab": {
     "base_uri": "https://localhost:8080/"
    },
    "executionInfo": {
     "elapsed": 400,
     "status": "ok",
     "timestamp": 1679507013392,
     "user": {
      "displayName": "Hernán Amiune",
      "userId": "11385806853064071251"
     },
     "user_tz": -60
    },
    "id": "F0xPui379zFM",
    "outputId": "a276c086-ace9-4b90-9a20-a60b42870ef6"
   },
   "outputs": [
    {
     "name": "stdout",
     "output_type": "stream",
     "text": [
      "2 5\n"
     ]
    }
   ],
   "source": [
    "#Predecir el resultado\n",
    "x = 3 \n",
    "y = x + 2 # y = 3 + 2 = 5\n",
    "if x > 5:\n",
    "  y = 2 * y\n",
    "x = y - x # x = 5 - 3 = 2\n",
    "print(x, y)"
   ]
  },
  {
   "cell_type": "code",
   "execution_count": null,
   "metadata": {
    "colab": {
     "base_uri": "https://localhost:8080/"
    },
    "executionInfo": {
     "elapsed": 5,
     "status": "ok",
     "timestamp": 1679507497224,
     "user": {
      "displayName": "Hernán Amiune",
      "userId": "11385806853064071251"
     },
     "user_tz": -60
    },
    "id": "D6io27_Kd5xx",
    "outputId": "324b0fb3-a389-4585-cf9d-ba19de4a5cf2"
   },
   "outputs": [
    {
     "name": "stdout",
     "output_type": "stream",
     "text": [
      "10\n"
     ]
    }
   ],
   "source": [
    "acumulador = 0 # inicializo mi variable\n",
    "while acumulador < 10: # mientras no cumpla la condicion\n",
    "  acumulador = acumulador + 1 # modifico mi variable\n",
    "print(acumulador)"
   ]
  },
  {
   "cell_type": "code",
   "execution_count": null,
   "metadata": {
    "colab": {
     "base_uri": "https://localhost:8080/"
    },
    "executionInfo": {
     "elapsed": 402,
     "status": "ok",
     "timestamp": 1679507560757,
     "user": {
      "displayName": "Hernán Amiune",
      "userId": "11385806853064071251"
     },
     "user_tz": -60
    },
    "id": "trO6JFU1dfa0",
    "outputId": "ebbc6cc4-34e7-49f2-fc9d-96437a281164"
   },
   "outputs": [
    {
     "name": "stdout",
     "output_type": "stream",
     "text": [
      "0\n",
      "1\n",
      "2\n",
      "3\n",
      "4\n",
      "5\n",
      "6\n",
      "7\n",
      "8\n",
      "9\n",
      "10\n",
      "Terminado. Acumulador = 10\n"
     ]
    }
   ],
   "source": [
    "acumulador = 0\n",
    "print(acumulador)\n",
    "while acumulador < 10:\n",
    "  acumulador = acumulador + 1\n",
    "  print(acumulador)\n",
    "print(\"Terminado. Acumulador =\", acumulador)"
   ]
  },
  {
   "cell_type": "code",
   "execution_count": null,
   "metadata": {
    "colab": {
     "base_uri": "https://localhost:8080/"
    },
    "executionInfo": {
     "elapsed": 499,
     "status": "ok",
     "timestamp": 1679507762962,
     "user": {
      "displayName": "Hernán Amiune",
      "userId": "11385806853064071251"
     },
     "user_tz": -60
    },
    "id": "0WhPRahPbq9U",
    "outputId": "13a8a680-a92b-4a4f-ee97-b79cf8d020fe"
   },
   "outputs": [
    {
     "name": "stdout",
     "output_type": "stream",
     "text": [
      "4\n",
      "6\n",
      "8\n"
     ]
    }
   ],
   "source": [
    "i = 4\n",
    "while i < 9:\n",
    "    print(i)\n",
    "    i = i + 2"
   ]
  },
  {
   "cell_type": "code",
   "execution_count": null,
   "metadata": {
    "colab": {
     "base_uri": "https://localhost:8080/"
    },
    "executionInfo": {
     "elapsed": 4,
     "status": "ok",
     "timestamp": 1679507824333,
     "user": {
      "displayName": "Hernán Amiune",
      "userId": "11385806853064071251"
     },
     "user_tz": -60
    },
    "id": "hBM-Eme4cxdJ",
    "outputId": "5e260bb6-610a-485b-eb22-c17e3289b300"
   },
   "outputs": [
    {
     "name": "stdout",
     "output_type": "stream",
     "text": [
      "6\n",
      "8\n",
      "10\n"
     ]
    }
   ],
   "source": [
    "i = 4 \n",
    "while i < 9:\n",
    "    i = i + 2\n",
    "    print(i)"
   ]
  },
  {
   "cell_type": "code",
   "execution_count": null,
   "metadata": {
    "colab": {
     "base_uri": "https://localhost:8080/"
    },
    "executionInfo": {
     "elapsed": 11644,
     "status": "ok",
     "timestamp": 1679507882137,
     "user": {
      "displayName": "Hernán Amiune",
      "userId": "11385806853064071251"
     },
     "user_tz": -60
    },
    "id": "tTRzeHJLfH06",
    "outputId": "99128e5b-aefd-4906-cd7a-f1958fcae930"
   },
   "outputs": [
    {
     "name": "stdout",
     "output_type": "stream",
     "text": [
      "Ingrese un numero:1\n",
      "Ingrese un numero:2\n",
      "Ingrese un numero:3\n",
      "Ingrese un numero:-1\n",
      "La suma total es 6\n"
     ]
    }
   ],
   "source": [
    "suma_total = 0\n",
    "x = int(input(\"Ingrese un numero:\"))\n",
    "while x != -1:\n",
    "  suma_total = suma_total + x\n",
    "  x = int(input(\"Ingrese un numero:\"))\n",
    "print(\"La suma total es\",suma_total)"
   ]
  },
  {
   "cell_type": "code",
   "execution_count": null,
   "metadata": {
    "colab": {
     "base_uri": "https://localhost:8080/"
    },
    "executionInfo": {
     "elapsed": 10042,
     "status": "ok",
     "timestamp": 1679507968952,
     "user": {
      "displayName": "Hernán Amiune",
      "userId": "11385806853064071251"
     },
     "user_tz": -60
    },
    "id": "tQFCG6ZbfqcQ",
    "outputId": "1ee9bd60-8b03-46f9-b20c-9cc69d572d4d"
   },
   "outputs": [
    {
     "name": "stdout",
     "output_type": "stream",
     "text": [
      "Ingrese un numero:1\n",
      "Ingrese un numero:2\n",
      "Ingrese un numero:3\n",
      "Ingrese un numero:-1\n",
      "La suma total es 4\n"
     ]
    }
   ],
   "source": [
    "suma_total = 0\n",
    "x = int(input(\"Ingrese un numero:\")) # 1\n",
    "while x != -1:\n",
    "  x = int(input(\"Ingrese un numero:\")) # -1\n",
    "  suma_total = suma_total + x # 5 + (-1) = 4\n",
    "print(\"La suma total es\",suma_total)"
   ]
  },
  {
   "cell_type": "code",
   "execution_count": null,
   "metadata": {
    "colab": {
     "base_uri": "https://localhost:8080/"
    },
    "executionInfo": {
     "elapsed": 1332,
     "status": "ok",
     "timestamp": 1679508347999,
     "user": {
      "displayName": "Hernán Amiune",
      "userId": "11385806853064071251"
     },
     "user_tz": -60
    },
    "id": "_o97J22mhgcd",
    "outputId": "e5460d6e-61ae-4139-ce82-cf66a6828e8e"
   },
   "outputs": [
    {
     "name": "stdout",
     "output_type": "stream",
     "text": [
      "8 12\n"
     ]
    }
   ],
   "source": [
    "#Predecir el resultado \n",
    "#y decir si hay alguna linea \n",
    "#que no afecta el resultado y se puede eliminar\n",
    "x = 3 \n",
    "x = x + 1\n",
    "y = x + 2 \n",
    "y = 2 * y\n",
    "x = y - x\n",
    "print(x, y) #8 12"
   ]
  },
  {
   "cell_type": "code",
   "execution_count": null,
   "metadata": {
    "colab": {
     "base_uri": "https://localhost:8080/"
    },
    "executionInfo": {
     "elapsed": 2,
     "status": "ok",
     "timestamp": 1679508615401,
     "user": {
      "displayName": "Hernán Amiune",
      "userId": "11385806853064071251"
     },
     "user_tz": -60
    },
    "id": "E7XAD0QdhTSE",
    "outputId": "2d6b80f3-6d3a-4781-c526-073e22a12cca"
   },
   "outputs": [
    {
     "name": "stdout",
     "output_type": "stream",
     "text": [
      "10 20\n"
     ]
    }
   ],
   "source": [
    "#Predecir el resultado \n",
    "#y decir si hay alguna linea \n",
    "#que no afecta el resultado y se puede eliminar\n",
    "#x = 3 \n",
    "x = 3 + 7\n",
    "#y = x + 2 \n",
    "y = 2 * x\n",
    "x = y - x + 1\n",
    "print(x, y)"
   ]
  },
  {
   "cell_type": "code",
   "execution_count": null,
   "metadata": {
    "colab": {
     "base_uri": "https://localhost:8080/"
    },
    "executionInfo": {
     "elapsed": 3,
     "status": "ok",
     "timestamp": 1679510018706,
     "user": {
      "displayName": "Hernán Amiune",
      "userId": "11385806853064071251"
     },
     "user_tz": -60
    },
    "id": "WSfaAR5wmEY2",
    "outputId": "201cdf96-36c0-4dc1-9ec3-3b6737044fa0"
   },
   "outputs": [
    {
     "data": {
      "text/plain": [
       "True"
      ]
     },
     "execution_count": 48,
     "metadata": {},
     "output_type": "execute_result"
    }
   ],
   "source": [
    "5 not in [1,2,3,4]"
   ]
  },
  {
   "cell_type": "code",
   "execution_count": null,
   "metadata": {
    "colab": {
     "base_uri": "https://localhost:8080/"
    },
    "executionInfo": {
     "elapsed": 996,
     "status": "ok",
     "timestamp": 1679510621758,
     "user": {
      "displayName": "Hernán Amiune",
      "userId": "11385806853064071251"
     },
     "user_tz": -60
    },
    "id": "lX0o_6TdmW8S",
    "outputId": "fe5e45f5-3b45-41ce-9fe2-62edfeed329a"
   },
   "outputs": [
    {
     "data": {
      "text/plain": [
       "[2, 3]"
      ]
     },
     "execution_count": 68,
     "metadata": {},
     "output_type": "execute_result"
    }
   ],
   "source": [
    "x = [2,3,4,5]\n",
    "x[0:2]"
   ]
  },
  {
   "cell_type": "code",
   "execution_count": null,
   "metadata": {
    "colab": {
     "base_uri": "https://localhost:8080/"
    },
    "executionInfo": {
     "elapsed": 3,
     "status": "ok",
     "timestamp": 1679510299318,
     "user": {
      "displayName": "Hernán Amiune",
      "userId": "11385806853064071251"
     },
     "user_tz": -60
    },
    "id": "K1S3PfB-moWZ",
    "outputId": "bd9a2a72-b00f-47a1-bb72-23db887dfec2"
   },
   "outputs": [
    {
     "name": "stdout",
     "output_type": "stream",
     "text": [
      "2\n",
      "3\n",
      "4\n",
      "5\n"
     ]
    }
   ],
   "source": [
    "indice = 0\n",
    "while indice < 4:\n",
    "  print(x[indice])\n",
    "  indice = indice + 1"
   ]
  },
  {
   "cell_type": "code",
   "execution_count": null,
   "metadata": {
    "colab": {
     "base_uri": "https://localhost:8080/"
    },
    "executionInfo": {
     "elapsed": 5,
     "status": "ok",
     "timestamp": 1679510715159,
     "user": {
      "displayName": "Hernán Amiune",
      "userId": "11385806853064071251"
     },
     "user_tz": -60
    },
    "id": "0fmpgMT4nxxm",
    "outputId": "1b21b069-e5bd-475e-d223-9cde287844c9"
   },
   "outputs": [
    {
     "name": "stdout",
     "output_type": "stream",
     "text": [
      "3\n",
      "4\n",
      "5\n"
     ]
    }
   ],
   "source": [
    "\n",
    "for elemento in x[1:4]:\n",
    "  print(elemento)"
   ]
  },
  {
   "cell_type": "code",
   "execution_count": null,
   "metadata": {
    "id": "rIf0WMb3qo4k"
   },
   "outputs": [],
   "source": [
    "variable = 0\n",
    "while variable != 0:\n",
    "  print(1)\n"
   ]
  },
  {
   "cell_type": "code",
   "execution_count": null,
   "metadata": {
    "colab": {
     "base_uri": "https://localhost:8080/"
    },
    "executionInfo": {
     "elapsed": 3,
     "status": "ok",
     "timestamp": 1679511379132,
     "user": {
      "displayName": "Hernán Amiune",
      "userId": "11385806853064071251"
     },
     "user_tz": -60
    },
    "id": "Tz-Z54m3qy7a",
    "outputId": "f1e084eb-132e-4628-e659-b3df1219c5a5"
   },
   "outputs": [
    {
     "name": "stdout",
     "output_type": "stream",
     "text": [
      "1\n"
     ]
    }
   ],
   "source": [
    "variable = 0\n",
    "\n",
    "while True:\n",
    "  print(1)\n",
    "\n",
    "  if(variable == 0): break\n"
   ]
  },
  {
   "cell_type": "code",
   "execution_count": null,
   "metadata": {
    "colab": {
     "base_uri": "https://localhost:8080/"
    },
    "executionInfo": {
     "elapsed": 2,
     "status": "ok",
     "timestamp": 1679514825744,
     "user": {
      "displayName": "Hernán Amiune",
      "userId": "11385806853064071251"
     },
     "user_tz": -60
    },
    "id": "gXcLL4P73pNW",
    "outputId": "372d6d0f-4c74-4448-c8ca-56053f8fe3a2"
   },
   "outputs": [
    {
     "name": "stdout",
     "output_type": "stream",
     "text": [
      "Hola 0\n",
      "Hola 1\n",
      "Hola 2\n",
      "Hola 3\n",
      "Hola 4\n",
      "Hola 5\n",
      "Hola 6\n",
      "Hola 7\n",
      "Hola 8\n",
      "Hola 9\n"
     ]
    }
   ],
   "source": [
    "i = 0\n",
    "while i < 10:\n",
    "  print(\"Hola\", i)\n",
    "  i += 1"
   ]
  }
 ],
 "metadata": {
  "colab": {
   "authorship_tag": "ABX9TyPSt2dXYQ+qrTbXnGhQYIHD",
   "provenance": []
  },
  "kernelspec": {
   "display_name": "Python 3 (ipykernel)",
   "language": "python",
   "name": "python3"
  },
  "language_info": {
   "codemirror_mode": {
    "name": "ipython",
    "version": 3
   },
   "file_extension": ".py",
   "mimetype": "text/x-python",
   "name": "python",
   "nbconvert_exporter": "python",
   "pygments_lexer": "ipython3",
   "version": "3.9.7"
  }
 },
 "nbformat": 4,
 "nbformat_minor": 4
}
