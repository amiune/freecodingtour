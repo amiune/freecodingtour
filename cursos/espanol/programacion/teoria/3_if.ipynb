{
 "cells": [
  {
   "cell_type": "markdown",
   "metadata": {
    "id": "baTFKcSLliLb"
   },
   "source": [
    "# Si pasa algo entonces haz esto\n",
    "\n"
   ]
  },
  {
   "cell_type": "markdown",
   "metadata": {},
   "source": [
    "Aqui es donde le empezamos a decir a la computadora como queremos que se comporte.\n",
    "\n",
    "Prestemos atencion a como cambia el valor guardado en la variable c"
   ]
  },
  {
   "cell_type": "code",
   "execution_count": null,
   "metadata": {},
   "outputs": [],
   "source": [
    "a = 5\n",
    "b = 6\n",
    "c = \"Hola\""
   ]
  },
  {
   "cell_type": "code",
   "execution_count": null,
   "metadata": {},
   "outputs": [],
   "source": [
    "if a > b:\n",
    "    c = \"a es mayor a b\""
   ]
  },
  {
   "cell_type": "code",
   "execution_count": null,
   "metadata": {},
   "outputs": [],
   "source": [
    "c"
   ]
  },
  {
   "cell_type": "code",
   "execution_count": null,
   "metadata": {},
   "outputs": [],
   "source": [
    "if a < b:\n",
    "    c = \"a es menor a b\""
   ]
  },
  {
   "cell_type": "code",
   "execution_count": null,
   "metadata": {},
   "outputs": [],
   "source": [
    "c"
   ]
  },
  {
   "cell_type": "markdown",
   "metadata": {},
   "source": [
    "Solo cambia en valor cuando la condicion que aparece luego de if es verdadera (True).\n",
    "\n",
    "Notemos que la palabra if (si en ingles) esta seguida de una condicion y luego de dos puntos (:) y ademas el codigo que esta abajo esta indentado, es decir, esta movido cuatro espacios hacia la derecha. Esto significa que todo ese codigo que esta debajo del if e indentado a la derecha solo va a ser ejecutado si la condicion del if es verdadera."
   ]
  },
  {
   "cell_type": "markdown",
   "metadata": {},
   "source": [
    "### Ejercicio 1:\n",
    "\n",
    "Asignar un valor a la variable edad para que la variable mayor_de_edad obtenga el valor \"SI es mayor de edad\" "
   ]
  },
  {
   "cell_type": "code",
   "execution_count": null,
   "metadata": {},
   "outputs": [],
   "source": [
    "edad = \n",
    "mayor_de_edad = \"NO es mayor de edad\"\n",
    "if edad >= 18:\n",
    "    mayor_de_edad = \"SI es mayor de edad\""
   ]
  },
  {
   "cell_type": "code",
   "execution_count": null,
   "metadata": {},
   "outputs": [],
   "source": [
    "#@title Solucion Ejercicio 1 {display-mode:\"form\"}\n",
    "\n",
    "edad = 30 # cualquier edad mayor o igual a 18 seria correcta\n",
    "mayor_de_edad = \"NO es mayor de edad\"\n",
    "if edad >= 18:\n",
    "    mayor_de_edad = \"SI es mayor de edad\""
   ]
  },
  {
   "cell_type": "markdown",
   "metadata": {},
   "source": [
    "## Si es verdadera has esto sino has esto otro\n",
    "\n",
    "Es comun que querramos hacer algo si una condicion es verdadera y otra cosa si es falsa, para ello utilizamos la combinacion de palabras if: else: (en ingles si: sino:)\n"
   ]
  },
  {
   "cell_type": "markdown",
   "metadata": {},
   "source": [
    "En el siguiente ejemplo vemos como funcionan las palabras if else. Prueba modificar el valor de la variable mi_numero para ver como cambia el valor de la variable par_o_impar"
   ]
  },
  {
   "cell_type": "code",
   "execution_count": null,
   "metadata": {},
   "outputs": [],
   "source": [
    "mi_numero = 6\n",
    "par_o_impar = \"no se todavia\"\n",
    "if mi_numero % 2 == 0:\n",
    "    par_o_impar = \"es par\"\n",
    "else:\n",
    "    par_o_impar = \"es impar\""
   ]
  },
  {
   "cell_type": "code",
   "execution_count": null,
   "metadata": {},
   "outputs": [],
   "source": [
    "par_o_impar"
   ]
  },
  {
   "cell_type": "markdown",
   "metadata": {},
   "source": [
    "**Importante!** Notar que luego de **else** no hay una condicion. Nunca habra una condicion luego de else porque la condicion para que se ejecute lo que esta dentro de else es que haya fallado la condicion anterior del if, es decir, que la condicion del if sea falsa."
   ]
  },
  {
   "cell_type": "markdown",
   "metadata": {},
   "source": [
    "### Ejercicio 2: \n",
    "\n",
    "De forma similar al ejercicio anterior crear un **if else** que haga que la variable positivo_o_negativo tome el valor \"positivo\" o \"negativo\" dependiendo de si el valor de la variable mi_numero es mayor a cero o no."
   ]
  },
  {
   "cell_type": "code",
   "execution_count": null,
   "metadata": {},
   "outputs": [],
   "source": [
    "mi_numero = -22\n",
    "positivo_o_negativo = \"no se todavia\"\n",
    "# escribir a continuacion tu solucion"
   ]
  },
  {
   "cell_type": "markdown",
   "metadata": {},
   "source": [
    "## Varios if y un solo else\n",
    "\n",
    "Tambien a veces es util poner varios if else seguido cuando queres revisar mas de dos codiciones posibles. Por ejemplo supongamos que en el ejercicio anterior queremos saber si el numero de nuestra variable mi_numero es positivo, negativo o cero. En este caso tendremos tres posibilidades y utilizaremos la combinancion if elif else:\n"
   ]
  },
  {
   "cell_type": "code",
   "execution_count": null,
   "metadata": {},
   "outputs": [],
   "source": [
    "mi_numero = -22\n",
    "positivo_o_negativo = \"no se todavia\"\n",
    "if mi_numero == 0:\n",
    "    positivo_o_negativo = \"es cero\"\n",
    "elif mi_numero > 0:\n",
    "    positivo_o_negativo = \"es positivo\"\n",
    "else:\n",
    "    positivo_o_negativo = \"es negativo\""
   ]
  },
  {
   "cell_type": "code",
   "execution_count": null,
   "metadata": {},
   "outputs": [],
   "source": [
    "positivo_o_negativo"
   ]
  },
  {
   "cell_type": "markdown",
   "metadata": {},
   "source": [
    "### Ejercicio:\n",
    "\n",
    "Modificar los valores de la variable mi_numero en el ejemplo anterior y ver los distintos resultados. Utilizar el cero y numeros positivos y negativos como valores."
   ]
  },
  {
   "cell_type": "markdown",
   "metadata": {},
   "source": [
    "## Varias lineas de codigo dentro de los bloques de if elif else\n",
    "\n",
    "Ahora veremos ejemplos de que los bloques de lineas de codigo indentadas debajo de los if elif else pueden ser una o varias"
   ]
  },
  {
   "cell_type": "markdown",
   "metadata": {},
   "source": [
    "Veamos el ejemplo a continuacion. Como la condicion del if no se cumple, las lineas que estan dentro de el no se ejecutaran. Solo se ejecutaran las dos ultimas que estan afuera del bloque del if porque no estan indentadas"
   ]
  },
  {
   "cell_type": "code",
   "execution_count": null,
   "metadata": {},
   "outputs": [],
   "source": [
    "a = 0\n",
    "if a > 5:\n",
    "    a = a + 1\n",
    "    a = a + 1\n",
    "    a = a + 1\n",
    "a = a + 1\n",
    "a = a + 1"
   ]
  },
  {
   "cell_type": "code",
   "execution_count": null,
   "metadata": {},
   "outputs": [],
   "source": [
    "a"
   ]
  },
  {
   "cell_type": "markdown",
   "metadata": {},
   "source": [
    "En el siguiente ejemplo la condicion del if se cumple por lo que se ejecutaran todas las lineas"
   ]
  },
  {
   "cell_type": "code",
   "execution_count": null,
   "metadata": {},
   "outputs": [],
   "source": [
    "a = 10\n",
    "if a > 5:\n",
    "    a = a + 1\n",
    "    a = a + 1\n",
    "    a = a + 1\n",
    "a = a + 1\n",
    "a = a + 1"
   ]
  },
  {
   "cell_type": "code",
   "execution_count": null,
   "metadata": {},
   "outputs": [],
   "source": [
    "a"
   ]
  },
  {
   "cell_type": "markdown",
   "metadata": {},
   "source": [
    "### Ejercicios:\n",
    "\n",
    "Intentar adivinar el resultado de los siguientes ejemplos antes de ejecutarlos y ver su resultado correcto:"
   ]
  },
  {
   "cell_type": "markdown",
   "metadata": {},
   "source": [
    "***Ejemplo 1:***"
   ]
  },
  {
   "cell_type": "code",
   "execution_count": null,
   "metadata": {},
   "outputs": [],
   "source": [
    "a = 0\n",
    "if a > 0:\n",
    "    a = a + 1\n",
    "    a = a + 2\n",
    "a = a + 3\n",
    "a = a + 4"
   ]
  },
  {
   "cell_type": "code",
   "execution_count": null,
   "metadata": {},
   "outputs": [],
   "source": [
    "#intenta adivinar el valor\n",
    "a "
   ]
  },
  {
   "cell_type": "markdown",
   "metadata": {},
   "source": [
    "***Ejemplo 2:***"
   ]
  },
  {
   "cell_type": "code",
   "execution_count": null,
   "metadata": {},
   "outputs": [],
   "source": [
    "a = 0\n",
    "if a >= 0:\n",
    "    a = a + 1\n",
    "    a = a + 2\n",
    "a = a + 3\n",
    "a = a + 4"
   ]
  },
  {
   "cell_type": "code",
   "execution_count": null,
   "metadata": {},
   "outputs": [],
   "source": [
    "#intenta adivinar el valor\n",
    "a "
   ]
  },
  {
   "cell_type": "markdown",
   "metadata": {},
   "source": [
    "***Ejemplo 3:***"
   ]
  },
  {
   "cell_type": "code",
   "execution_count": null,
   "metadata": {},
   "outputs": [],
   "source": [
    "a = -10\n",
    "if a < 0:\n",
    "    a = a + 1\n",
    "    a = a + 2\n",
    "else:\n",
    "    a = a + 10\n",
    "    a = a + 20\n",
    "a = a + 1\n",
    "a = a + 1"
   ]
  },
  {
   "cell_type": "code",
   "execution_count": null,
   "metadata": {},
   "outputs": [],
   "source": [
    "#intenta adivinar el valor\n",
    "a "
   ]
  },
  {
   "cell_type": "markdown",
   "metadata": {},
   "source": [
    "***Ejemplo 4:***"
   ]
  },
  {
   "cell_type": "code",
   "execution_count": null,
   "metadata": {},
   "outputs": [],
   "source": [
    "a = 10\n",
    "if (a < 0) or (a > 20):\n",
    "    a = a + 1\n",
    "    a = a + 2\n",
    "else:\n",
    "    a = a + 10\n",
    "    a = a + 20\n",
    "a = a + 1\n",
    "a = a + 1"
   ]
  },
  {
   "cell_type": "code",
   "execution_count": null,
   "metadata": {},
   "outputs": [],
   "source": [
    "#intenta adivinar el valor\n",
    "a "
   ]
  },
  {
   "cell_type": "markdown",
   "metadata": {},
   "source": [
    "# Fin: [Volver al contenido del curso](https://www.freecodingtour.com/cursos/espanol/programacion/programacion.html)"
   ]
  }
 ],
 "metadata": {
  "colab": {
   "authorship_tag": "ABX9TyPSt2dXYQ+qrTbXnGhQYIHD",
   "provenance": []
  },
  "kernelspec": {
   "display_name": "Python 3 (ipykernel)",
   "language": "python",
   "name": "python3"
  },
  "language_info": {
   "codemirror_mode": {
    "name": "ipython",
    "version": 3
   },
   "file_extension": ".py",
   "mimetype": "text/x-python",
   "name": "python",
   "nbconvert_exporter": "python",
   "pygments_lexer": "ipython3",
   "version": "3.9.7"
  }
 },
 "nbformat": 4,
 "nbformat_minor": 4
}
