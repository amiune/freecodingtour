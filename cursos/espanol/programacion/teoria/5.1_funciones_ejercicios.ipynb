{
 "cells": [
  {
   "cell_type": "markdown",
   "id": "11e9205b-6851-407a-8d9b-faa1b7dad7b5",
   "metadata": {},
   "source": [
    "# Es tiempo de practicar\n",
    "\n",
    "Aqui resolveremos varios ejercicios para practicar lo aprendido"
   ]
  },
  {
   "cell_type": "markdown",
   "id": "f087dcbd-48f4-4ddd-835e-e5feab7ad154",
   "metadata": {},
   "source": [
    "### Ejercicio 1:\n",
    "\n",
    "Crear una funcion llamada **entre_100y999(x)** que reciba un numero y devuelva True si dicho numero esta entre 100 y 999"
   ]
  },
  {
   "cell_type": "code",
   "execution_count": null,
   "id": "467bd947-527b-4df5-ad4b-06897510e510",
   "metadata": {},
   "outputs": [],
   "source": [
    "def entre_100y999(x):\n",
    "    # Escribir aqui la solucion\n",
    "    \n",
    "    \n",
    "    "
   ]
  },
  {
   "cell_type": "code",
   "execution_count": 11,
   "id": "6bc3b778-6e18-4302-a27b-720cbacd8f2d",
   "metadata": {},
   "outputs": [
    {
     "data": {
      "text/plain": [
       "'Felicitaciones todos los casos de prueba fueron pasados exitosamente!!'"
      ]
     },
     "execution_count": 11,
     "metadata": {},
     "output_type": "execute_result"
    }
   ],
   "source": [
    "# No modificar el siguiente codigo\n",
    "# Solo ejecutarlo para saber si la funcion creada pasa todos los tests\n",
    "assert entre_100y999(10) == False, \"Error en el Test 1\"\n",
    "assert entre_100y999(-150) == False, \"Error en el Test 2\"\n",
    "assert entre_100y999(150) == True, \"Error en el Test 3\"\n",
    "assert entre_100y999(899) == True, \"Error en el Test 4\"\n",
    "\"Felicitaciones todos los casos de prueba fueron pasados exitosamente!!\""
   ]
  },
  {
   "cell_type": "code",
   "execution_count": 10,
   "id": "d3ba5abd-36c3-432b-915a-d9856e2c3033",
   "metadata": {},
   "outputs": [],
   "source": [
    "#@title Solucion Ejercicio 1 {display-mode:\"form\"}\n",
    "\n",
    "def entre_100y999(x):\n",
    "    if x >= 100 and x <= 999:\n",
    "        return True\n",
    "    return False"
   ]
  },
  {
   "cell_type": "markdown",
   "id": "2ec6ca7b-d94a-4867-b69e-e454605fa507",
   "metadata": {},
   "source": [
    "### Ejercicio 2: \n",
    "\n",
    "Crear una funcion llamada **division(x,y)** que reciba dos numeros y que devuelva como resultado su division. Si el segundo numero es cero que devuelva la frase \"No se puede dividir por cero\""
   ]
  },
  {
   "cell_type": "code",
   "execution_count": null,
   "id": "3618d2bf-c3f3-412b-b2a3-043827271f4c",
   "metadata": {},
   "outputs": [],
   "source": [
    "def division(x,y):\n",
    "    # Escribir aqui la solucion\n",
    "    \n",
    "    \n",
    "    "
   ]
  },
  {
   "cell_type": "code",
   "execution_count": 13,
   "id": "17a1ab2c-f67d-4a6b-9e31-64cbbd13fec8",
   "metadata": {},
   "outputs": [
    {
     "data": {
      "text/plain": [
       "'Felicitaciones todos los casos de prueba fueron pasados exitosamente!!'"
      ]
     },
     "execution_count": 13,
     "metadata": {},
     "output_type": "execute_result"
    }
   ],
   "source": [
    "# No modificar el siguiente codigo\n",
    "# Solo ejecutarlo para saber si la funcion creada pasa todos los tests\n",
    "assert division(10,2) == 5, \"Error en el Test 1\"\n",
    "assert division(-1,2) == -0.5, \"Error en el Test 2\"\n",
    "assert division(9999,9999) == 1, \"Error en el Test 3\"\n",
    "assert division(1,0) == \"No se puede dividir por cero\", \"Error en el Test 4\"\n",
    "\"Felicitaciones todos los casos de prueba fueron pasados exitosamente!!\""
   ]
  },
  {
   "cell_type": "code",
   "execution_count": 12,
   "id": "6a4fa34f-829c-43d4-a0e9-b1282481f100",
   "metadata": {},
   "outputs": [],
   "source": [
    "#@title Solucion Ejercicio 2 {display-mode:\"form\"}\n",
    "\n",
    "def division(x,y):\n",
    "    if y == 0:\n",
    "        return \"No se puede dividir por cero\"\n",
    "    return x/y"
   ]
  },
  {
   "cell_type": "markdown",
   "id": "e75a79d8-0906-411a-9f57-f9288e3b04f8",
   "metadata": {},
   "source": [
    "### Ejercicio 3:\n",
    "\n",
    "Crear una funcion llamada **divisiblex3y5(x)** que reciba un numero y que devuelva True si es divisible por 3 **y** por 5. Es decir el resto de dividir el numero por 3 es cero y el resto de dividirlo por 5 tambien debe ser cero."
   ]
  },
  {
   "cell_type": "code",
   "execution_count": null,
   "id": "4ed8128c-b3a7-40d2-aefb-762373876ef3",
   "metadata": {},
   "outputs": [],
   "source": [
    "def divisiblex3y5(x):\n",
    "    # Escribir aqui la solucion\n",
    "    \n",
    "    \n",
    "    "
   ]
  },
  {
   "cell_type": "code",
   "execution_count": 15,
   "id": "1f7876d4-de44-40b3-ba48-2c0570ad2e91",
   "metadata": {},
   "outputs": [
    {
     "data": {
      "text/plain": [
       "'Felicitaciones todos los casos de prueba fueron pasados exitosamente!!'"
      ]
     },
     "execution_count": 15,
     "metadata": {},
     "output_type": "execute_result"
    }
   ],
   "source": [
    "# No modificar el siguiente codigo\n",
    "# Solo ejecutarlo para saber si la funcion creada pasa todos los tests\n",
    "assert divisiblex3y5(15) == True, \"Error en el Test 1\"\n",
    "assert divisiblex3y5(23) == False, \"Error en el Test 2\"\n",
    "assert divisiblex3y5(-30) == True, \"Error en el Test 3\"\n",
    "assert divisiblex3y5(9) == False, \"Error en el Test 4\"\n",
    "\"Felicitaciones todos los casos de prueba fueron pasados exitosamente!!\""
   ]
  },
  {
   "cell_type": "code",
   "execution_count": 14,
   "id": "4e8ab3f2-6047-4ef2-8e7f-a49393e3bfe8",
   "metadata": {},
   "outputs": [],
   "source": [
    "#@title Solucion Ejercicio 3 {display-mode:\"form\"}\n",
    "\n",
    "def divisiblex3y5(x):\n",
    "    if x%3==0 and x%5==0:\n",
    "        return True\n",
    "    return False"
   ]
  },
  {
   "cell_type": "markdown",
   "id": "684178f3-c2b8-4146-a9aa-cb6793854356",
   "metadata": {},
   "source": [
    "### Ejercicio 4: \n",
    "\n",
    "Crear una funcion llamada **calcular_estrellas(porcentaje)** que reciba un numero de 0 a 100 que representa un porcentaje de votos positivos y que de acuerdo a la siguiente tabla devuelva el numero de estrellas que le corresponde:\n",
    "\n",
    " - Si porcentaje >  90% -> devolver el texto: \"5 estrellas\"\n",
    " - Si porcentaje >  80% -> devolver el texto: \"4 estrellas\"\n",
    " - Si porcentaje >  50% -> devolver el texto: \"3 estrellas\"\n",
    " - Si porcentaje >  20% -> devolver el texto: \"2 estrellas\"\n",
    " - Si porcentaje >=  0% -> devolver el texto: \"1 estrella\""
   ]
  },
  {
   "cell_type": "code",
   "execution_count": null,
   "id": "731ac151-0975-483e-b70c-0304ae3ad11f",
   "metadata": {},
   "outputs": [],
   "source": [
    "def calcular_estrellas(porcentaje):\n",
    "    # Escribir aqui la solucion\n",
    "    \n",
    "    \n",
    "    "
   ]
  },
  {
   "cell_type": "code",
   "execution_count": 17,
   "id": "e5d37b14-349b-4521-84ad-7524d9546d3e",
   "metadata": {},
   "outputs": [
    {
     "data": {
      "text/plain": [
       "'Felicitaciones todos los casos de prueba fueron pasados exitosamente!!'"
      ]
     },
     "execution_count": 17,
     "metadata": {},
     "output_type": "execute_result"
    }
   ],
   "source": [
    "# No modificar el siguiente codigo\n",
    "# Solo ejecutarlo para saber si la funcion creada pasa todos los tests\n",
    "assert calcular_estrellas(0) == \"1 estrella\", \"Error en el Test 1\"\n",
    "assert calcular_estrellas(25) == \"2 estrellas\", \"Error en el Test 2\"\n",
    "assert calcular_estrellas(51) == \"3 estrellas\", \"Error en el Test 3\"\n",
    "assert calcular_estrellas(90) == \"4 estrellas\", \"Error en el Test 4\"\n",
    "assert calcular_estrellas(91) == \"5 estrellas\", \"Error en el Test 5\"\n",
    "\"Felicitaciones todos los casos de prueba fueron pasados exitosamente!!\""
   ]
  },
  {
   "cell_type": "code",
   "execution_count": 16,
   "id": "2e013825-e410-4eb0-904c-2073e24e647d",
   "metadata": {},
   "outputs": [],
   "source": [
    "#@title Solucion Ejercicio 4 {display-mode:\"form\"}\n",
    "\n",
    "def calcular_estrellas(porcentaje):\n",
    "    if porcentaje > 90:\n",
    "        salida = \"5 estrellas\"\n",
    "    elif porcentaje > 80:\n",
    "        salida = \"4 estrellas\"\n",
    "    elif porcentaje > 50:\n",
    "        salida = \"3 estrellas\"\n",
    "    elif porcentaje > 20:\n",
    "        salida = \"2 estrellas\"\n",
    "    else:\n",
    "        salida = \"1 estrella\"\n",
    "    return salida"
   ]
  },
  {
   "cell_type": "markdown",
   "id": "1f8b967d-8115-48d3-b149-7f0ed51e3acc",
   "metadata": {},
   "source": [
    "### Ejercicio 5:\n",
    "\n",
    "Crear una funcion llamada **calcular_costo(unidades)** que reciba una variable numerica con la cantidad de unidades de gas consumidas y que calcule y devuelva el costo de la factura de gas dada la siguiente tabla:\n",
    "\n",
    "- Las primeras 50 unidades cuestan 0.60/unidad\n",
    "- Las siguientes 100 unidades cuestan 1.35/unidad\n",
    "- Luego de 150 unidades cuestan 2.25/unidad"
   ]
  },
  {
   "cell_type": "code",
   "execution_count": null,
   "id": "410226ea-ccd5-4892-acef-a8e1c660549e",
   "metadata": {},
   "outputs": [],
   "source": [
    "def calcular_costo(unidades):\n",
    "    # Escribir aqui la solucion\n",
    "    \n",
    "    \n",
    "    "
   ]
  },
  {
   "cell_type": "code",
   "execution_count": 75,
   "id": "0ec0ac22-b55d-4571-b86d-eada88d9444b",
   "metadata": {},
   "outputs": [
    {
     "data": {
      "text/plain": [
       "'Felicitaciones todos los casos de prueba fueron pasados exitosamente!!'"
      ]
     },
     "execution_count": 75,
     "metadata": {},
     "output_type": "execute_result"
    }
   ],
   "source": [
    "# No modificar el siguiente codigo\n",
    "# Solo ejecutarlo para saber si la funcion creada pasa todos los tests\n",
    "assert calcular_costo(0) == 0, \"Error en el Test 1\"\n",
    "assert calcular_costo(43) == 25.8, \"Error en el Test 2\"\n",
    "assert calcular_costo(67) == 52.95, \"Error en el Test 3\"\n",
    "assert calcular_costo(156) == 178.5, \"Error en el Test 4\"\n",
    "\"Felicitaciones todos los casos de prueba fueron pasados exitosamente!!\""
   ]
  },
  {
   "cell_type": "code",
   "execution_count": 74,
   "id": "0ad8317c-4998-4f77-b8c3-1c8e4fce5fd9",
   "metadata": {},
   "outputs": [],
   "source": [
    "#@title Solucion Ejercicio 4 {display-mode:\"form\"}\n",
    "\n",
    "def calcular_costo(unidades):\n",
    "    if unidades <= 50:\n",
    "        salida = unidades * 0.6\n",
    "    elif unidades <= 150:\n",
    "        salida = 50 * 0.6\n",
    "        unidades_restantes = unidades - 50\n",
    "        salida = salida + unidades_restantes * 1.35\n",
    "    else:\n",
    "        salida = 50 * 0.6\n",
    "        salida = salida + 100 * 1.35\n",
    "        unidades_restantes = unidades - 150\n",
    "        salida = salida + unidades_restantes * 2.25\n",
    "    return salida"
   ]
  },
  {
   "cell_type": "markdown",
   "id": "ad68bf26-a9e5-4688-bfa6-011cbb504044",
   "metadata": {},
   "source": [
    "# Fin: [Volver al contenido del curso](https://www.freecodingtour.com/cursos/espanol/programacion/programacion.html)"
   ]
  }
 ],
 "metadata": {
  "kernelspec": {
   "display_name": "Python 3 (ipykernel)",
   "language": "python",
   "name": "python3"
  },
  "language_info": {
   "codemirror_mode": {
    "name": "ipython",
    "version": 3
   },
   "file_extension": ".py",
   "mimetype": "text/x-python",
   "name": "python",
   "nbconvert_exporter": "python",
   "pygments_lexer": "ipython3",
   "version": "3.9.7"
  }
 },
 "nbformat": 4,
 "nbformat_minor": 5
}
