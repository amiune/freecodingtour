{
 "cells": [
  {
   "cell_type": "markdown",
   "id": "a11b3e00-e21b-4dcf-a5de-61f307676248",
   "metadata": {},
   "source": [
    "# Tuplas\n",
    "\n",
    "Las tuplas son muy similares a las listas. De hecho son como una lista de elementos que una vez creada no la podemos modificar, es decir, no podemos agregarle ni modificar ni eliminar elementos."
   ]
  },
  {
   "cell_type": "markdown",
   "id": "5b4f5433-628e-4b50-b558-ce65a117540d",
   "metadata": {},
   "source": [
    "## Creacion de tuplas\n",
    "\n",
    "Asi como las listas se pueden crear con los corchetes [], las tuplas se pueden crear usando los parentesis ()."
   ]
  },
  {
   "cell_type": "code",
   "execution_count": null,
   "id": "5f223d92-e29b-4b3f-a34b-937f9562712a",
   "metadata": {},
   "outputs": [],
   "source": [
    "tupla1 = (1,2,3,4)\n",
    "print(tupla1)"
   ]
  },
  {
   "cell_type": "markdown",
   "id": "e879ce80-4ca5-4f29-85e7-ee320580e75d",
   "metadata": {},
   "source": [
    "Para ver los elementos utilizamos los corchetes al igual que en las listas:"
   ]
  },
  {
   "cell_type": "code",
   "execution_count": null,
   "id": "75d00e97-d627-4407-bb91-448da0b4a649",
   "metadata": {},
   "outputs": [],
   "source": [
    "tupla1[2]"
   ]
  },
  {
   "cell_type": "markdown",
   "id": "a4947b15-fc26-41bd-aa07-f1f8bcb584ad",
   "metadata": {},
   "source": [
    "#### Si queremos modificar un elemento nos dara error"
   ]
  },
  {
   "cell_type": "code",
   "execution_count": null,
   "id": "0bd403ea-38f6-4a5b-afb7-a61573133f83",
   "metadata": {},
   "outputs": [],
   "source": [
    "tupla1[2] = 20 "
   ]
  },
  {
   "cell_type": "markdown",
   "id": "c3bbce5b-2c0a-4e43-b3f6-d0a8fa933c56",
   "metadata": {},
   "source": [
    "## Para que se usan entonces si con las listas puedo hacer lo mismo y mas?\n",
    "\n",
    "Es una buena pregunta y no hay una respuesta definitiva y clara pero podemos decir que en la practica se utilizan comunmente en los siguientes casos:\n",
    "\n",
    "1. Cuando queremos devolver mas de un elemento de una funcion.\n",
    "2. Cuando creamos una lista de elementos de distintos tipos, por ejemplo (\"Caramelos\",327,2.5)\n",
    "3. Cuando queremos usar mas de un elemento como clave de un diccionario.\n",
    "\n",
    "Los casos 2 y 3 los veremos en las siguientes unidades del curso.\n",
    "\n",
    "Veamos ahora el caso 1. Crearemos una funcion que recibe una lista de numeros y devuelve dos valores, el menor y el mayor de dicha lista:"
   ]
  },
  {
   "cell_type": "code",
   "execution_count": null,
   "id": "65736fdb-77d3-4ee9-aa37-d7093e7dc7bc",
   "metadata": {},
   "outputs": [],
   "source": [
    "def menor_y_mayor(lista):\n",
    "    menor = min(lista)\n",
    "    mayor = max(lista)\n",
    "    return (menor, mayor)"
   ]
  },
  {
   "cell_type": "markdown",
   "id": "01d2c8c7-2182-408f-b1ba-224984eea6b1",
   "metadata": {},
   "source": [
    "Veamos como funciona y que devuelve:"
   ]
  },
  {
   "cell_type": "code",
   "execution_count": null,
   "id": "2776a460-e1c4-481d-8828-ac043f2f0bd0",
   "metadata": {},
   "outputs": [],
   "source": [
    "x = menor_y_mayor([9,3,6,7,2,8,7])\n",
    "print(x)\n",
    "print(x[0])\n",
    "print(x[1])"
   ]
  },
  {
   "cell_type": "markdown",
   "id": "b37cb2a3-553c-4e54-96a7-a6b251f63c24",
   "metadata": {},
   "source": [
    "Hay una forma mas utilizada de utilizar los valores de una lista que se llama unpacking y permite copiar cada elemento de una tupla a una variable distinta, se utiliza de la siguiente forma:"
   ]
  },
  {
   "cell_type": "code",
   "execution_count": null,
   "id": "2a760c31-7db4-4c46-a8d7-ceb94877f6d4",
   "metadata": {},
   "outputs": [],
   "source": [
    "mi_tupla = (100, 200)\n",
    "elemento1, elemento2 = mi_tupla\n",
    "print(elemento1)\n",
    "print(elemento2)"
   ]
  },
  {
   "cell_type": "markdown",
   "id": "e4e3f797-cb72-4b3b-8a98-9916bccba829",
   "metadata": {},
   "source": [
    "Si bien el unpacking funciona tambien con listas es mas comun utilizarlo con tuplas."
   ]
  },
  {
   "cell_type": "markdown",
   "id": "87b911fd-dfa6-4052-a62f-9c8865257a83",
   "metadata": {},
   "source": [
    "### Ejercicio 1:\n",
    "\n",
    "Utilizar el unpacking con nuestra funcion que devuelve una tupla de dos elementos para copiar los valores de la tupla devuelta en dos variables, una que se llame menor y otra que se llame mayor. Mostrarlos utilizando print()"
   ]
  },
  {
   "cell_type": "code",
   "execution_count": null,
   "id": "e738b018-4bed-4f3f-90e6-256bc79656ce",
   "metadata": {},
   "outputs": [],
   "source": [
    "# Escribir aqui la solucion\n",
    "\n"
   ]
  },
  {
   "cell_type": "code",
   "execution_count": null,
   "id": "26726964-500e-4815-852c-d91e261f563a",
   "metadata": {},
   "outputs": [],
   "source": [
    "#@title Solucion Ejercicio 1 {display-mode:\"form\"}\n",
    "\n",
    "menor, mayor = menor_y_mayor([9,3,6,7,2,8,7])\n",
    "print(menor)\n",
    "print(mayor)"
   ]
  },
  {
   "cell_type": "markdown",
   "id": "31a2a2b9-fb0e-489b-b2f3-e4ec4f614d22",
   "metadata": {},
   "source": [
    "## Las funciones list() y tuple()\n",
    "Las funciones tuple() y list() me permitiran crear tuplas y listas vacias y tambien convertir una lista en tupla y una tupla en lista a traves de las palabras tuple y list:"
   ]
  },
  {
   "cell_type": "code",
   "execution_count": null,
   "id": "68cf2fd8-aa6b-4735-b7fc-bf522ed1794b",
   "metadata": {},
   "outputs": [],
   "source": [
    "tupla_vacia = tuple()\n",
    "print(tupla_vacia)\n",
    "\n",
    "lista_vacia = list()\n",
    "print(lista_vacia)"
   ]
  },
  {
   "cell_type": "code",
   "execution_count": null,
   "id": "c8682066-a7e2-498e-8cf1-6af31354ec8e",
   "metadata": {},
   "outputs": [],
   "source": [
    "# Convertir lista en tupla:\n",
    "tuple([1,2,3])"
   ]
  },
  {
   "cell_type": "code",
   "execution_count": null,
   "id": "37f56929-e849-4685-9d79-dc5b7e8faf4e",
   "metadata": {},
   "outputs": [],
   "source": [
    "# Convertir tupla en lista:\n",
    "list((1,2,3))"
   ]
  },
  {
   "cell_type": "markdown",
   "id": "89dd2bd3-c76a-43f3-a515-1e82c3899663",
   "metadata": {},
   "source": [
    "### Ejercicio 2:\n",
    "\n",
    "Crear una funcion **cuenta_y_suma(lista)** que reciba una lista de numeros y devuelva dos valores, el numero de elementos que contiene la lista y la suma de todos los elementos de dicha lista."
   ]
  },
  {
   "cell_type": "code",
   "execution_count": null,
   "id": "ebf3b66d-fb87-4a85-ad11-09978e880c60",
   "metadata": {},
   "outputs": [],
   "source": [
    "def cuenta_y_suma(lista):\n",
    "    # Escribir aqui la solucion\n",
    "\n"
   ]
  },
  {
   "cell_type": "code",
   "execution_count": null,
   "id": "08b3a462-7980-4349-9215-e55e11a89888",
   "metadata": {},
   "outputs": [],
   "source": [
    "# No modificar el siguiente codigo\n",
    "# Solo ejecutarlo para saber si la funcion creada pasa todos los tests\n",
    "assert cuenta_y_suma([-10,2000]) == (2,1990), \"Error en el test 1\"\n",
    "assert cuenta_y_suma([0,0,0,0,0,0,0,0,0,0]) == (10,0), \"Error en el test 2\"\n",
    "assert cuenta_y_suma([1,10]) == (2,11), \"Error en el test 3\"\n",
    "assert cuenta_y_suma(list(range(1,100))) == (99,99*100/2), \"Error en el test 4\"\n",
    "\"Felicitaciones todos los casos de prueba fueron pasados exitosamente!!\""
   ]
  },
  {
   "cell_type": "code",
   "execution_count": null,
   "id": "232aea3e-1709-4b44-9642-3a0b5c06c0e6",
   "metadata": {},
   "outputs": [],
   "source": [
    "#@title Solucion Ejercicio 2 {display-mode:\"form\"}\n",
    "\n",
    "def cuenta_y_suma(lista):\n",
    "    cuenta = len(lista)\n",
    "    suma = sum(lista)\n",
    "    return (cuenta, suma)"
   ]
  },
  {
   "cell_type": "markdown",
   "id": "df4ca1c2-c575-4e66-8319-3ee8280de8a1",
   "metadata": {},
   "source": [
    "### Ejercicio 3:\n",
    "\n",
    "Crear una funcion **obtener_dummies(lista)** que reciba una lista cuyos elementos son solamente las strings \"hombre\" o \"mujer\" y devuelva dos listas:\n",
    "- una que contenga unos en las posiciones que dice hombre y ceros en las demas \n",
    "- una que contenga unos en las posiciones que dice mujer y ceros en las demas. \n",
    "\n",
    "El resultado devuelto debe ser una tupla que contenga ambas listas.\n",
    "\n",
    "*Ejemplo:*\n",
    "\n",
    "*Input: lista=[\"hombre\", \"mujer\", \"mujer\", \"hombre\", \"mujer\"]* \n",
    "\n",
    "*Output: ([1,0,0,1,0],[0,1,1,0,1])*"
   ]
  },
  {
   "cell_type": "code",
   "execution_count": null,
   "id": "7b4e756d-c163-4c53-a3ca-2497d1efa019",
   "metadata": {},
   "outputs": [],
   "source": [
    "def obtener_dummies(lista):\n",
    "    # Escribir aqui la solucion\n",
    "    \n",
    "    "
   ]
  },
  {
   "cell_type": "code",
   "execution_count": null,
   "id": "2ee1b10b-4773-4b8f-ad75-c5f19973d54c",
   "metadata": {},
   "outputs": [],
   "source": [
    "# No modificar el siguiente codigo\n",
    "# Solo ejecutarlo para saber si la funcion creada pasa todos los tests\n",
    "h, m = obtener_dummies([\"hombre\", \"mujer\", \"mujer\", \"hombre\", \"mujer\"])\n",
    "assert h == [1,0,0,1,0] and m == [0,1,1,0,1], \"Error en el test 1\"\n",
    "h, m = obtener_dummies([\"mujer\", \"mujer\", \"mujer\", \"mujer\"])\n",
    "assert h == [0,0,0,0] and m == [1,1,1,1], \"Error en el test 2\"\n",
    "h, m = obtener_dummies([\"mujer\", \"mujer\", \"hombre\", \"mujer\"])\n",
    "assert h == [0,0,1,0] and m == [1,1,0,1], \"Error en el test 3\"\n",
    "\"Felicitaciones todos los casos de prueba fueron pasados exitosamente!!\""
   ]
  },
  {
   "cell_type": "code",
   "execution_count": null,
   "id": "78b701ce-2287-42d8-82eb-df2196ee4e10",
   "metadata": {},
   "outputs": [],
   "source": [
    "#@title Solucion Ejercicio 3 {display-mode:\"form\"}\n",
    "\n",
    "def obtener_dummies(lista):\n",
    "    lista_h = []\n",
    "    lista_m = []\n",
    "    for item in lista:\n",
    "    if item == \"hombre\":\n",
    "        lista_h.append(1)\n",
    "        lista_m.append(0)\n",
    "    else:\n",
    "        lista_h.append(0)\n",
    "        lista_m.append(1)\n",
    "    return (lista_h, lista_m)"
   ]
  },
  {
   "cell_type": "markdown",
   "id": "d5f7c4b8-5f2e-4e8d-b7c3-4b80328eb135",
   "metadata": {},
   "source": [
    "## La funcion zip()\n",
    "\n",
    "zip() es una funcion muy utilizada en python que recibe dos listas y genera una lista de tuplas con los valores que se encuentran en la misma posicion."
   ]
  },
  {
   "cell_type": "code",
   "execution_count": null,
   "id": "afd4f736-8d1b-4bec-bb67-2f89dd81486c",
   "metadata": {},
   "outputs": [],
   "source": [
    "lista1 = [\"a\",\"b\",\"c\"]\n",
    "lista2 = [1, 2, 3]\n",
    "list(zip(lista1, lista2))"
   ]
  },
  {
   "cell_type": "markdown",
   "id": "e7a8bf3d-f09a-4813-af02-434f1f54583c",
   "metadata": {},
   "source": [
    "#### Se puede usar en un for sin la funcion list()"
   ]
  },
  {
   "cell_type": "code",
   "execution_count": null,
   "id": "cd05b7a4-fc07-4e4b-9cb6-1207500fba39",
   "metadata": {},
   "outputs": [],
   "source": [
    "for tupla in zip(lista1,lista2):\n",
    "    print(tupla)"
   ]
  },
  {
   "cell_type": "markdown",
   "id": "e3928205-c18f-4ee5-9805-02f5f83c10dc",
   "metadata": {},
   "source": [
    "# Fin: [Volver al contenido del curso](https://www.freecodingtour.com/cursos/espanol/programacion/programacion.html)"
   ]
  }
 ],
 "metadata": {
  "kernelspec": {
   "display_name": "Python 3 (ipykernel)",
   "language": "python",
   "name": "python3"
  },
  "language_info": {
   "codemirror_mode": {
    "name": "ipython",
    "version": 3
   },
   "file_extension": ".py",
   "mimetype": "text/x-python",
   "name": "python",
   "nbconvert_exporter": "python",
   "pygments_lexer": "ipython3",
   "version": "3.9.7"
  }
 },
 "nbformat": 4,
 "nbformat_minor": 5
}
