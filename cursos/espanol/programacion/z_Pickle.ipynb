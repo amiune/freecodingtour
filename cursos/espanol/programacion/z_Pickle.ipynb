{
 "cells": [
  {
   "cell_type": "code",
   "execution_count": null,
   "id": "9a7e9401-a53e-408d-ae41-08a0b47e3ebc",
   "metadata": {
    "id": "9a7e9401-a53e-408d-ae41-08a0b47e3ebc"
   },
   "outputs": [],
   "source": [
    "import pickle"
   ]
  },
  {
   "cell_type": "code",
   "execution_count": null,
   "id": "4b9229a8-0062-4eb6-b11f-d0e72a627263",
   "metadata": {
    "id": "4b9229a8-0062-4eb6-b11f-d0e72a627263"
   },
   "outputs": [],
   "source": [
    "a = 42"
   ]
  },
  {
   "cell_type": "code",
   "execution_count": null,
   "id": "ff0fb1e4-01f1-4a3d-9edd-6796a9f0d6f7",
   "metadata": {
    "id": "ff0fb1e4-01f1-4a3d-9edd-6796a9f0d6f7"
   },
   "outputs": [],
   "source": [
    "pickle.dump(a, open(\"archivob.p\", \"wb\"))"
   ]
  },
  {
   "cell_type": "code",
   "execution_count": null,
   "id": "f6a5780e-e7e4-4174-b409-c7c23efa88b9",
   "metadata": {
    "id": "f6a5780e-e7e4-4174-b409-c7c23efa88b9"
   },
   "outputs": [],
   "source": [
    "a = 0"
   ]
  },
  {
   "cell_type": "code",
   "execution_count": null,
   "id": "85c18a82-c9e5-4dd2-bc00-86312034374c",
   "metadata": {
    "id": "85c18a82-c9e5-4dd2-bc00-86312034374c"
   },
   "outputs": [],
   "source": [
    "a = pickle.load(open(\"archivob.p\", \"rb\"))"
   ]
  },
  {
   "cell_type": "code",
   "execution_count": null,
   "id": "ae8d26cf-2987-4e3d-b6ed-73acea800df5",
   "metadata": {
    "id": "ae8d26cf-2987-4e3d-b6ed-73acea800df5"
   },
   "outputs": [],
   "source": [
    "a"
   ]
  },
  {
   "cell_type": "code",
   "execution_count": null,
   "id": "1829ab35-8e69-4319-b4d5-235282930918",
   "metadata": {
    "id": "1829ab35-8e69-4319-b4d5-235282930918"
   },
   "outputs": [],
   "source": [
    "class Persona:\n",
    "    nombre = \"\"\n",
    "    edad = 0\n",
    "\n",
    "    def __init__(self, nombre, edad):\n",
    "        self.nombre = nombre\n",
    "        self.edad = edad\n",
    "\n",
    "persona1 = Persona(\"Alicia\",29)\n",
    "persona2 = Persona(\"Bob\", 45)\n",
    "\n",
    "d = {\"P1\":persona1, \"P2\":persona2}"
   ]
  },
  {
   "cell_type": "code",
   "execution_count": null,
   "id": "2f6db0f8-1035-4b6b-8036-c092900cf1a4",
   "metadata": {
    "id": "2f6db0f8-1035-4b6b-8036-c092900cf1a4"
   },
   "outputs": [],
   "source": [
    "pickle.dump(d, open(\"archivob.p\", \"wb\"))"
   ]
  },
  {
   "cell_type": "code",
   "execution_count": null,
   "id": "7e29642e-8aca-4137-9d24-2f98fbefc9a2",
   "metadata": {
    "id": "7e29642e-8aca-4137-9d24-2f98fbefc9a2"
   },
   "outputs": [],
   "source": [
    "d = {}"
   ]
  },
  {
   "cell_type": "code",
   "execution_count": null,
   "id": "1f1265c0-4949-4e10-b081-3da89a58e9f7",
   "metadata": {
    "id": "1f1265c0-4949-4e10-b081-3da89a58e9f7"
   },
   "outputs": [],
   "source": [
    "d = pickle.load(open(\"archivob.p\", \"rb\"))"
   ]
  },
  {
   "cell_type": "code",
   "execution_count": null,
   "id": "6f784a65-b691-4f67-a67e-681fa608746b",
   "metadata": {
    "id": "6f784a65-b691-4f67-a67e-681fa608746b"
   },
   "outputs": [],
   "source": [
    "print(d)"
   ]
  },
  {
   "cell_type": "code",
   "execution_count": null,
   "id": "a7c1c34d-9d65-4fdb-89d2-4551b9cd18ed",
   "metadata": {
    "id": "a7c1c34d-9d65-4fdb-89d2-4551b9cd18ed"
   },
   "outputs": [],
   "source": [
    "for key in d:\n",
    "    print(d[key].nombre, d[key].edad)"
   ]
  },
  {
   "cell_type": "code",
   "execution_count": null,
   "id": "b6079c02-a9ce-439d-bd2b-869faa3e863f",
   "metadata": {
    "id": "b6079c02-a9ce-439d-bd2b-869faa3e863f"
   },
   "outputs": [],
   "source": [
    "#https://docs.python.org/3/library/time.html#epoch\n",
    "#https://es.wikipedia.org/wiki/Problema_del_a%C3%B1o_2038\n",
    "import time\n",
    "type(time.time())\n",
    "time.time()"
   ]
  },
  {
   "cell_type": "code",
   "execution_count": null,
   "id": "5bc2e350-8116-42e3-8d53-405807575ef5",
   "metadata": {
    "id": "5bc2e350-8116-42e3-8d53-405807575ef5"
   },
   "outputs": [],
   "source": [
    "b = 42\n",
    "start_time = time.time()\n",
    "for _ in range(1):\n",
    "    a = b\n",
    "end_time = time.time()\n",
    "end_time - start_time"
   ]
  },
  {
   "cell_type": "code",
   "execution_count": null,
   "id": "34cd55bd-3609-4037-81ab-0d910ddf68a3",
   "metadata": {
    "id": "34cd55bd-3609-4037-81ab-0d910ddf68a3"
   },
   "outputs": [],
   "source": [
    "pickle.dump(42, open(\"prueba_tiempo.p\", \"wb\"))\n",
    "start_time = time.time()\n",
    "for _ in range(1):\n",
    "    a = pickle.load(open(\"prueba_tiempo.p\", \"rb\"))\n",
    "end_time = time.time()\n",
    "end_time - start_time"
   ]
  },
  {
   "cell_type": "code",
   "execution_count": null,
   "id": "2e5484a6-c848-4d1a-bda9-b76f754c7e66",
   "metadata": {
    "id": "2e5484a6-c848-4d1a-bda9-b76f754c7e66"
   },
   "outputs": [],
   "source": []
  },
  {
   "cell_type": "code",
   "execution_count": null,
   "id": "7213b687-6ce4-4ab4-add7-95775c1843e5",
   "metadata": {
    "id": "7213b687-6ce4-4ab4-add7-95775c1843e5"
   },
   "outputs": [],
   "source": []
  }
 ],
 "metadata": {
  "colab": {
   "provenance": []
  },
  "kernelspec": {
   "display_name": "base",
   "language": "python",
   "name": "base"
  },
  "language_info": {
   "codemirror_mode": {
    "name": "ipython",
    "version": 3
   },
   "file_extension": ".py",
   "mimetype": "text/x-python",
   "name": "python",
   "nbconvert_exporter": "python",
   "pygments_lexer": "ipython3",
   "version": "3.9.7"
  }
 },
 "nbformat": 4,
 "nbformat_minor": 5
}
