{
 "cells": [
  {
   "cell_type": "markdown",
   "id": "d6bdf989-514e-44f7-a3f7-c4a10955489e",
   "metadata": {},
   "source": [
    "### Ejercicio 1: Poema formativo\n",
    "\n",
    "Enunciado:\n",
    "\n",
    "Pide al usuario los nombres de tres objetos y tres adjetivos. Luego, crea un poema utilizando f-strings con strings multilínea.\n",
    "\n",
    "Entrada de ejemplo:\n",
    "```\n",
    "Lámpara\n",
    "Mariposa\n",
    "Estrella\n",
    "Brillante\n",
    "Veloz\n",
    "Fugaz\n",
    "```\n",
    "Salida de ejemplo:\n",
    "```\n",
    "Una lámpara brillante en la mesa,\n",
    "Una mariposa veloz en el viento,\n",
    "Una estrella fugaz cruzando el cielo.\n",
    "```"
   ]
  },
  {
   "cell_type": "code",
   "execution_count": null,
   "id": "68148665-37f0-4336-92ba-fd4c280261e3",
   "metadata": {},
   "outputs": [],
   "source": []
  },
  {
   "cell_type": "markdown",
   "id": "6dfc8355-30ac-4fba-b713-d61f9165c868",
   "metadata": {},
   "source": [
    "### Ejercicio 2: Ficha de registro\n",
    "\n",
    "Enunciado:\n",
    "\n",
    "Solicita al usuario su nombre, apellido y fecha de nacimiento. Luego, muestra una ficha de registro usando caracteres de escape y f-strings.\n",
    "\n",
    "Entrada de ejemplo:\n",
    "```\n",
    "María\n",
    "Fernández\n",
    "15/02/1990\n",
    "```\n",
    "Salida de ejemplo:\n",
    "```\n",
    "--- Ficha de Registro ---\n",
    "Nombre:\\tMaría\n",
    "Apellido:\\tFernández\n",
    "Nacimiento:\\t15/02/1990\n",
    "-------------------------\n",
    "```"
   ]
  },
  {
   "cell_type": "code",
   "execution_count": null,
   "id": "fdd211e1-4aea-4381-92c4-ebff0f951518",
   "metadata": {},
   "outputs": [],
   "source": []
  },
  {
   "cell_type": "markdown",
   "id": "282ff7e0-3874-4d86-b8d4-a4b067b2ef78",
   "metadata": {},
   "source": [
    "### Ejercicio 3: Alineación de precios\n",
    "\n",
    "Enunciado:\n",
    "\n",
    "Pide al usuario tres productos y sus respectivos precios. Luego, muestra una lista con los productos alineados a la izquierda y los precios alineados a la derecha con un padding usando f-strings.\n",
    "\n",
    "Entrada de ejemplo:\n",
    "```\n",
    "Manzanas\n",
    "2.5\n",
    "Naranjas\n",
    "1.8\n",
    "Bananas\n",
    "0.9\n",
    "```\n",
    "Salida de ejemplo:\n",
    "```\n",
    "Manzanas      $2.50\n",
    "Naranjas      $1.80\n",
    "Bananas       $0.90\n",
    "```"
   ]
  },
  {
   "cell_type": "code",
   "execution_count": null,
   "id": "79dfef44-c979-46fc-b105-9e5f3d0d68dd",
   "metadata": {},
   "outputs": [],
   "source": []
  },
  {
   "cell_type": "markdown",
   "id": "9e10a3a1-4f39-486b-aaf0-2a16e2fdf9db",
   "metadata": {},
   "source": [
    "### Ejercicio 4: Fecha y hora actual\n",
    "\n",
    "Enunciado:\n",
    "\n",
    "Muestra la fecha y hora actual en un formato específico usando el módulo datetime y f-strings.\n",
    "\n",
    "Salida de ejemplo:\n",
    "```\n",
    "La fecha y hora actual es: 07/10/2023 15:30:45\n",
    "```"
   ]
  },
  {
   "cell_type": "code",
   "execution_count": null,
   "id": "58a52443-54c8-4e5a-a4d4-80ba1711e638",
   "metadata": {},
   "outputs": [],
   "source": []
  },
  {
   "cell_type": "markdown",
   "id": "8084adb7-ea38-4016-bcd1-4fc692b3fdc3",
   "metadata": {},
   "source": [
    "### Ejercicio 5: Formato de números\n",
    "\n",
    "Enunciado:\n",
    "\n",
    "Pide al usuario un número entero y un número flotante. Luego, muestra los números con diferentes formatos usando f-strings.\n",
    "\n",
    "Entrada de ejemplo:\n",
    "```\n",
    "12345\n",
    "12345.6789\n",
    "```\n",
    "Salida de ejemplo:\n",
    "```\n",
    "Número entero con comas: 12,345\n",
    "Número flotante con dos decimales: 12345.68\n",
    "Número flotante en notación científica: 1.23457e+04\n",
    "```"
   ]
  },
  {
   "cell_type": "code",
   "execution_count": null,
   "id": "1b3e44d3-5d13-45f2-a7df-cc7516c147b9",
   "metadata": {},
   "outputs": [],
   "source": []
  }
 ],
 "metadata": {
  "kernelspec": {
   "display_name": "Python 3 (ipykernel)",
   "language": "python",
   "name": "python3"
  },
  "language_info": {
   "codemirror_mode": {
    "name": "ipython",
    "version": 3
   },
   "file_extension": ".py",
   "mimetype": "text/x-python",
   "name": "python",
   "nbconvert_exporter": "python",
   "pygments_lexer": "ipython3",
   "version": "3.9.7"
  }
 },
 "nbformat": 4,
 "nbformat_minor": 5
}
