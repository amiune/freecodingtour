{
 "cells": [
  {
   "cell_type": "markdown",
   "metadata": {},
   "source": [
    "# Mas Patrones"
   ]
  },
  {
   "cell_type": "markdown",
   "metadata": {},
   "source": [
    "Primero que nada presionamos el icono ▶️ para ejecutar (se encuentra a la izquierda de cada celda que contiene nuestro codigo de programacion, aparece cuando posicionamos el raton o mouse encima de el)\n",
    "\n",
    "Ejecutar la siguiente celda para despertar a la tortuga y poder empezar a darle instrucciones (ten en cuenta que despertar a la tortuga puede tomar un par de minutos, ten paciencia):"
   ]
  },
  {
   "cell_type": "code",
   "execution_count": null,
   "metadata": {},
   "outputs": [],
   "source": [
    "# NO HACE FALTA ENTENDER ESTE CODIGO. \n",
    "# SOLO EJECUTARLO PARA EMPEZAR\n",
    "# PUEDE TARDAR UN PAR DE MINUTOS\n",
    "!pip install SeTeEscapoLaTortuga -U -q\n",
    "from SeTeEscapoLaTortuga.Turtle import *\n",
    "despertar_tortuga()"
   ]
  },
  {
   "cell_type": "markdown",
   "metadata": {},
   "source": [
    "## Veamos ahora otros patrones que podemos usar"
   ]
  },
  {
   "cell_type": "markdown",
   "metadata": {},
   "source": [
    "Los poligonos regulares como el triangulo y el cuadrado son figuras geometricas que tienen todos sus lados y angulos iguales como vemos en la siguiente figura:\n",
    "\n",
    "![poligonos](./img/angulos_poligonos.png)"
   ]
  },
  {
   "cell_type": "markdown",
   "metadata": {},
   "source": [
    "Para dibujarlos haremos que la tortuga dibuje un lado y luego gire el angulo correspondiente al poligono, si por ejemplo queremos dibujar un triangulo al tortuga debera girar 120 grados. Luego repetiremos este procedimiento hasta que la tortuga llegue al lugar de inicio. Para ello utilizaremos la instruccion `while`"
   ]
  },
  {
   "cell_type": "code",
   "execution_count": null,
   "metadata": {},
   "outputs": [],
   "source": [
    "ir_a_casa()\n",
    "borrar_todo()\n",
    "velocidad(10)\n",
    "\n",
    "angulo_externo = 90\n",
    "largo_lados = angulo_externo\n",
    "xy_inicial = (xcor(), ycor())\n",
    "\n",
    "adelante(largo_lados)\n",
    "derecha(angulo_externo)\n",
    "while xy_inicial != (xcor(),ycor()):\n",
    "    adelante(largo_lados)\n",
    "    derecha(angulo_externo)"
   ]
  },
  {
   "cell_type": "markdown",
   "metadata": {},
   "source": [
    "### Ejercicio 1:\n",
    "\n",
    "Cambiar el angulo para crear diferentes poligonos, por ejemplo un hexagono"
   ]
  },
  {
   "cell_type": "code",
   "execution_count": null,
   "metadata": {},
   "outputs": [],
   "source": [
    "# Modifica el siguiente codigo\n",
    "\n",
    "ir_a_casa()\n",
    "borrar_todo()\n",
    "velocidad(10)\n",
    "\n",
    "angulo_externo = 90\n",
    "largo_lados = angulo_externo\n",
    "xy_inicial = (xcor(), ycor())\n",
    "\n",
    "adelante(largo_lados)\n",
    "derecha(angulo_externo)\n",
    "while xy_inicial != (xcor(),ycor()):\n",
    "    adelante(largo_lados)\n",
    "    derecha(angulo_externo)"
   ]
  },
  {
   "cell_type": "code",
   "execution_count": null,
   "metadata": {},
   "outputs": [],
   "source": [
    "ir_a_casa()\n",
    "borrar_todo()\n",
    "velocidad(10)\n",
    "\n",
    "angulo_externo = 60\n",
    "largo_lados = angulo_externo\n",
    "xy_inicial = (xcor(), ycor())\n",
    "\n",
    "adelante(largo_lados)\n",
    "derecha(angulo_externo)\n",
    "while xy_inicial != (xcor(),ycor()):\n",
    "    adelante(largo_lados)\n",
    "    derecha(angulo_externo)"
   ]
  },
  {
   "cell_type": "markdown",
   "metadata": {},
   "source": [
    "## Crear nuestras propias instrucciones\n",
    "\n",
    "Si ponemos el codigo anterior dentro de una definicion (`def`) entonces podemos crear nuestra propia instruccion. Veamos como crear nuestra propia instruccion para crear hexagonos:"
   ]
  },
  {
   "cell_type": "code",
   "execution_count": null,
   "metadata": {},
   "outputs": [],
   "source": [
    "def hexagono():\n",
    "    angulo_externo = 60\n",
    "    largo_lados = angulo_externo\n",
    "    xy_inicial = (xcor(), ycor())\n",
    "\n",
    "    adelante(largo_lados)\n",
    "    derecha(angulo_externo)\n",
    "    while xy_inicial != (xcor(),ycor()):\n",
    "        adelante(largo_lados)\n",
    "        derecha(angulo_externo)"
   ]
  },
  {
   "cell_type": "markdown",
   "metadata": {},
   "source": [
    "Luego de ejecutar el codigo anterior ahora podemos usar nuestra nueva instruccion:"
   ]
  },
  {
   "cell_type": "code",
   "execution_count": null,
   "metadata": {},
   "outputs": [],
   "source": [
    "ir_a_casa()\n",
    "borrar_todo()\n",
    "velocidad(13)\n",
    "\n",
    "hexagono()"
   ]
  },
  {
   "cell_type": "markdown",
   "metadata": {},
   "source": [
    "Combinemosla con un `for` para crear varios hexagonos seguidos:"
   ]
  },
  {
   "cell_type": "code",
   "execution_count": null,
   "metadata": {},
   "outputs": [],
   "source": [
    "ir_a_casa()\n",
    "borrar_todo()\n",
    "velocidad(13)\n",
    "\n",
    "for x in range(5):\n",
    "    hexagono()\n",
    "    adelante(30)"
   ]
  },
  {
   "cell_type": "markdown",
   "metadata": {},
   "source": [
    "## Ejercicio 2: \n",
    "\n",
    "Usar el patron de los poligonos para generar un circulo"
   ]
  },
  {
   "cell_type": "code",
   "execution_count": null,
   "metadata": {},
   "outputs": [],
   "source": [
    "ir_a_casa()\n",
    "borrar_todo()\n",
    "velocidad(13)\n",
    "\n",
    "def circulo():\n",
    "    angulo_externo = 10\n",
    "    largo_lados = angulo_externo\n",
    "    xy_inicial = (xcor(), ycor())\n",
    "\n",
    "    adelante(largo_lados)\n",
    "    derecha(angulo_externo)\n",
    "    while xy_inicial != (xcor(),ycor()):\n",
    "        adelante(largo_lados)\n",
    "        derecha(angulo_externo)\n",
    "\n",
    "\n",
    "for x in range(5):\n",
    "    circulo()\n",
    "    adelante(30)"
   ]
  },
  {
   "cell_type": "markdown",
   "metadata": {},
   "source": [
    "Vimos en la unidad anterior que podemos utilizar `dibujar()` y `no_dibujar()` para dibujar una linea punteada:"
   ]
  },
  {
   "cell_type": "code",
   "execution_count": null,
   "metadata": {},
   "outputs": [],
   "source": [
    "ir_a_casa()\n",
    "borrar_todo()\n",
    "\n",
    "adelante(30)\n",
    "no_dibujar()\n",
    "\n",
    "adelante(30)\n",
    "dibujar()\n",
    "\n",
    "adelante(30)\n",
    "no_dibujar()\n",
    "\n",
    "adelante(30)\n",
    "dibujar()\n",
    "\n",
    "adelante(30)\n",
    "no_dibujar()\n",
    "\n",
    "adelante(30)\n",
    "dibujar()\n",
    "\n",
    "adelante(30)"
   ]
  },
  {
   "cell_type": "markdown",
   "metadata": {},
   "source": [
    "Ahora veamos como usar la instruccion `if` para poder repetir este patron. Utilizaremos una variable llamada z en el for para saber si esta es par o impar y si es par dibujamos y si no no."
   ]
  },
  {
   "cell_type": "code",
   "execution_count": null,
   "metadata": {},
   "outputs": [],
   "source": [
    "ir_a_casa()\n",
    "borrar_todo()\n",
    "\n",
    "for z in range(5):\n",
    "    if z % 2 == 0:\n",
    "        dibujar()\n",
    "    else:\n",
    "        no_dibujar()\n",
    "    adelante(30)"
   ]
  },
  {
   "cell_type": "markdown",
   "metadata": {},
   "source": [
    "### Ejercicio 3 (extremadamente dificil): \n",
    "\n",
    "Utiliza dos `for` uno adentro de otro para crear el cuadrado con bordes de linea de puntos:"
   ]
  },
  {
   "cell_type": "code",
   "execution_count": null,
   "metadata": {},
   "outputs": [],
   "source": [
    "# Escribe tus instrucciones a continuacion\n",
    "\n",
    "\n",
    "\n"
   ]
  },
  {
   "cell_type": "markdown",
   "metadata": {},
   "source": [
    "<details>\n",
    "<summary>Click aqui para ver la Solucion del Ejercicio 3</summary>\n",
    "<code>\n",
    "\n",
    "ir_a_casa()<br>\n",
    "borrar_todo()<br>\n",
    "<br>\n",
    "for x in range(4):<br>\n",
    "&nbsp;&nbsp;for z in range(5):<br>\n",
    "&nbsp;&nbsp;&nbsp;&nbsp;if z % 2 == 0:<br>\n",
    "&nbsp;&nbsp;&nbsp;&nbsp;&nbsp;&nbsp;dibujar()<br>\n",
    "&nbsp;&nbsp;&nbsp;&nbsp;else:<br>\n",
    "&nbsp;&nbsp;&nbsp;&nbsp;&nbsp;&nbsp;no_dibujar()<br>\n",
    "&nbsp;&nbsp;&nbsp;&nbsp;adelante(30)<br>\n",
    "&nbsp;&nbsp;derecha(90)<br>\n",
    "\n",
    "</code>\n",
    "</details>"
   ]
  },
  {
   "cell_type": "markdown",
   "metadata": {},
   "source": [
    "# Fin: [Volver al contenido del curso](https://www.freecodingtour.com/cursos/espanol/programacion_basico/programacion.html)"
   ]
  }
 ],
 "metadata": {
  "kernelspec": {
   "display_name": "Python 3 (ipykernel)",
   "language": "python",
   "name": "python3"
  },
  "language_info": {
   "codemirror_mode": {
    "name": "ipython",
    "version": 3
   },
   "file_extension": ".py",
   "mimetype": "text/x-python",
   "name": "python",
   "nbconvert_exporter": "python",
   "pygments_lexer": "ipython3",
   "version": "3.9.7"
  }
 },
 "nbformat": 4,
 "nbformat_minor": 4
}
