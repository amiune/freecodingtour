{
 "cells": [
  {
   "cell_type": "markdown",
   "metadata": {},
   "source": [
    "# El ordenador es muy tonto\n",
    "\n",
    "Programar es decirle al ordenador que queremos que haga.\n",
    "\n",
    "Hay que entender que el ordenador es muy tonto por lo que entiende solamente unas pocas palabras que llamamos intrucciones y utilizando esas pocas palabras vamos a decirle exactamente que debe hacer\n",
    "\n"
   ]
  },
  {
   "cell_type": "markdown",
   "metadata": {},
   "source": [
    "Primero que nada presionamos el icono ▶️ para ejecutar (se encuentra a la izquierda de cada celda que contiene nuestro codigo de programacion, aparece cuando posicionamos el mouse encima de el)\n",
    "\n",
    "Ejecutar la siguiente celda para despertar a la tortuga y poder empezar a darle instrucciones (ten en cuenta que despertar a la tortuga puede tomar un par de minutos, ten paciencia):"
   ]
  },
  {
   "cell_type": "code",
   "execution_count": null,
   "metadata": {},
   "outputs": [],
   "source": [
    "# NO HACE FALTA ENTENDER ESTE CODIGO. \n",
    "# SOLO EJECUTARLO PARA EMPEZAR\n",
    "# PUEDE TARDAR UN PAR DE MINUTOS\n",
    "!pip install SeTeEscapoLaTortuga -U -q\n",
    "from SeTeEscapoLaTortuga.Turtle import *\n",
    "despertar_tortuga()"
   ]
  },
  {
   "cell_type": "markdown",
   "metadata": {},
   "source": [
    "## Comencemos a darle instrucciones\n",
    "\n",
    "En este curso nuestro trabajo sera darle instrucciones a una tortuga para que haga los dibujos que nosotros querramos.\n",
    "\n",
    "Utilizaremos la palabra `adelante` para que la tortuga vaya hacia adelante y entre parentesis pondremos cuantos metros queremos que vaya hacia adelante, por ejemplo: `adelante(10)`"
   ]
  },
  {
   "cell_type": "code",
   "execution_count": null,
   "metadata": {},
   "outputs": [],
   "source": [
    "adelante(100)"
   ]
  },
  {
   "cell_type": "markdown",
   "metadata": {},
   "source": [
    "Utilizaremos la palabra `derecha` para que la tortuga doble hacia la derecha y entre parentesis pondremos el angulo que queremos que gire, por ejemplo: `derecha(90)`"
   ]
  },
  {
   "cell_type": "code",
   "execution_count": null,
   "metadata": {},
   "outputs": [],
   "source": [
    "derecha(90)"
   ]
  },
  {
   "cell_type": "markdown",
   "metadata": {},
   "source": [
    "Utilizaremos la palabra `ir_a_casa()` para que la tortuga vuelva a su posicion inicial"
   ]
  },
  {
   "cell_type": "code",
   "execution_count": null,
   "metadata": {},
   "outputs": [],
   "source": [
    "ir_a_casa()"
   ]
  },
  {
   "cell_type": "markdown",
   "metadata": {},
   "source": [
    "Utilizaremos la palabra `borrar_todo()` para se borre todo lo que la tortuga ha dibujado"
   ]
  },
  {
   "cell_type": "code",
   "execution_count": null,
   "metadata": {},
   "outputs": [],
   "source": [
    "borrar_todo()"
   ]
  },
  {
   "cell_type": "markdown",
   "metadata": {},
   "source": [
    "Ahora probemos escribir una instruccion abajo de otra para que las realice todas juntas y dibujemos un cuadrado de 100 metros de lado. Empecemos con borrar_todo e ir_a_casa para empezar de cero."
   ]
  },
  {
   "cell_type": "code",
   "execution_count": null,
   "metadata": {},
   "outputs": [],
   "source": [
    "ir_a_casa()\n",
    "borrar_todo()\n",
    "\n",
    "adelante(100)\n",
    "derecha(90)\n",
    "adelante(100)\n",
    "derecha(90)\n",
    "adelante(100)\n",
    "derecha(90)\n",
    "adelante(100)"
   ]
  },
  {
   "cell_type": "markdown",
   "metadata": {},
   "source": [
    "Si quieres ir haciendolo paso a paso debes escibir una instruccion en la celda y luego ejecutar con el icono ▶️ luego borrar todo lo que has escrito, escribir una nueva instruccion y volver a ejecutar, prueba con la siguiente celda: "
   ]
  },
  {
   "cell_type": "code",
   "execution_count": 1,
   "metadata": {},
   "outputs": [],
   "source": [
    "# 1. Escribe tu instruccion\n",
    "# 2. Ejecuta\n",
    "# 3. Borra la instruccion\n",
    "# 4. Repite los pasos\n",
    "\n",
    "\n"
   ]
  },
  {
   "cell_type": "markdown",
   "metadata": {},
   "source": [
    "### Ejercicio 1: \n",
    "\n",
    "Dibuja un cuadrado con sus lados de 200 metros"
   ]
  },
  {
   "cell_type": "code",
   "execution_count": null,
   "metadata": {},
   "outputs": [],
   "source": [
    "# Escribe a continuacion tus instrucciones\n",
    "\n",
    "\n",
    "\n"
   ]
  },
  {
   "cell_type": "markdown",
   "metadata": {},
   "source": [
    "<details>\n",
    "<summary>Click aqui para ver la Solucion del Ejercicio 1</summary>\n",
    "<code>\n",
    "\n",
    "ir_a_casa()\n",
    "    \n",
    "borrar_todo()\n",
    "    \n",
    "adelante(200)\n",
    "\n",
    "derecha(90)\n",
    "\n",
    "adelante(200)\n",
    "\n",
    "derecha(90)\n",
    "\n",
    "adelante(200)\n",
    "\n",
    "derecha(90)\n",
    "\n",
    "adelante(200)\n",
    "\n",
    "</code>\n",
    "</details>"
   ]
  },
  {
   "cell_type": "markdown",
   "metadata": {},
   "source": [
    "Utilicemos ahora la palabra `color` para cambiar el color con el que la tortuga dibuja y entre parentesis pondremos el color que queremos que gire, por ejemplo: `color('yellow')`. Como vemos en el ejemplo el color debe estar en ingles y entre comillas.\n",
    "\n",
    "La tortuga entiende los colores en ingles asi que aprenderemos los nombres de los colores basicos:\n",
    "- negro: black\n",
    "- blanco: white\n",
    "- gris: grey\n",
    "- amarillo: yellow\n",
    "- verde: green\n",
    "- azul: blue\n",
    "- rojo: red\n",
    "- naranja: orange\n",
    "- marron: brown\n",
    "- rosa: pink\n",
    "- celeste: lightblue\n"
   ]
  },
  {
   "cell_type": "code",
   "execution_count": null,
   "metadata": {},
   "outputs": [],
   "source": [
    "ir_a_casa()\n",
    "borrar_todo()\n",
    "\n",
    "color('yellow')\n",
    "adelante(100)\n"
   ]
  },
  {
   "cell_type": "markdown",
   "metadata": {},
   "source": [
    "### Ejercicio 2: \n",
    "\n",
    "Dibuja un cuadrado con sus lados de 100 metros y de cuatro colores diferentes: verde, azul, rojo y naranja"
   ]
  },
  {
   "cell_type": "code",
   "execution_count": null,
   "metadata": {},
   "outputs": [],
   "source": [
    "# Escribe a continuacion tus instrucciones\n",
    "\n",
    "\n",
    "\n"
   ]
  },
  {
   "cell_type": "markdown",
   "metadata": {},
   "source": [
    "<details>\n",
    "<summary>Click aqui para ver la Solucion del Ejercicio 2</summary>\n",
    "<code>\n",
    "\n",
    "ir_a_casa()\n",
    "    \n",
    "borrar_todo()\n",
    "\n",
    "color('green')\n",
    "\n",
    "adelante(100)\n",
    "\n",
    "derecha(90)\n",
    "\n",
    "color('blue')\n",
    "\n",
    "adelante(100)\n",
    "\n",
    "derecha(90)\n",
    "\n",
    "color('red')\n",
    "\n",
    "adelante(100)\n",
    "\n",
    "derecha(90)\n",
    "\n",
    "color('orange')\n",
    "\n",
    "adelante(100)\n",
    "\n",
    "</code>\n",
    "</details>"
   ]
  },
  {
   "cell_type": "markdown",
   "metadata": {},
   "source": [
    "### Ejercicio 3: \n",
    "\n",
    "Dibuja un cubo con sus lados de 100 metros"
   ]
  },
  {
   "cell_type": "code",
   "execution_count": null,
   "metadata": {},
   "outputs": [],
   "source": [
    "# Escribe a continuacion tus instrucciones\n",
    "\n",
    "\n",
    "\n"
   ]
  },
  {
   "cell_type": "markdown",
   "metadata": {},
   "source": [
    "<details>\n",
    "<summary>Click aqui para ver la Solucion del Ejercicio 3</summary>\n",
    "Esta es solo una de muchas soluciones posibles. \n",
    "Cualquier solucion que dibuje un cubo esta bien.\n",
    "<code>\n",
    "\n",
    "ir_a_casa()\n",
    "    \n",
    "borrar_todo()\n",
    "\n",
    "adelante(100)\n",
    "    \n",
    "derecha(90)\n",
    "    \n",
    "adelante(100)\n",
    "    \n",
    "derecha(90)\n",
    "    \n",
    "adelante(100)\n",
    "    \n",
    "derecha(90)\n",
    "    \n",
    "adelante(100)\n",
    "    \n",
    "derecha(45)\n",
    "    \n",
    "adelante(50)\n",
    "    \n",
    "derecha(45)\n",
    "    \n",
    "adelante(100)\n",
    "    \n",
    "derecha(90)\n",
    "    \n",
    "adelante(100)\n",
    "    \n",
    "derecha(45)\n",
    "    \n",
    "adelante(50)\n",
    "    \n",
    "derecha(135)\n",
    "    \n",
    "adelante(100)\n",
    "    \n",
    "derecha(45)\n",
    "    \n",
    "adelante(50)\n",
    "\n",
    "</code>\n",
    "</details>"
   ]
  },
  {
   "cell_type": "markdown",
   "metadata": {},
   "source": [
    "# Fin: [Volver al contenido del curso](https://www.freecodingtour.com/cursos/espanol/programacion_basico/programacion.html)"
   ]
  }
 ],
 "metadata": {
  "kernelspec": {
   "display_name": "Python 3 (ipykernel)",
   "language": "python",
   "name": "python3"
  },
  "language_info": {
   "codemirror_mode": {
    "name": "ipython",
    "version": 3
   },
   "file_extension": ".py",
   "mimetype": "text/x-python",
   "name": "python",
   "nbconvert_exporter": "python",
   "pygments_lexer": "ipython3",
   "version": "3.9.7"
  }
 },
 "nbformat": 4,
 "nbformat_minor": 4
}
