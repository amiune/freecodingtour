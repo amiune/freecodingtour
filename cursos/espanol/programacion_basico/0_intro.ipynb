{
 "cells": [
  {
   "cell_type": "markdown",
   "metadata": {
    "id": "UV1MnJvtQdW3"
   },
   "source": [
    "# El ordenador es muy tonto\n",
    "\n",
    "Programar es decirle al ordenador que queremos que haga.\n",
    "\n",
    "Hay que entender que el ordenador es muy tonto por lo que entiende solamente unas pocas palabras que llamamos intrucciones y utilizando esas pocas palabras vamos a decirle exactamente que debe hacer\n",
    "\n"
   ]
  },
  {
   "cell_type": "markdown",
   "metadata": {
    "id": "Ue6Tx0DKQdW4"
   },
   "source": [
    "Primero que nada presionamos el icono ▶️ para ejecutar (se encuentra a la izquierda de cada celda que contiene nuestro codigo de programacion, aparece cuando posicionamos el raton o mouse encima de el)\n",
    "\n",
    "Ejecutar la siguiente celda para despertar a la tortuga y poder empezar a darle instrucciones (ten en cuenta que despertar a la tortuga puede tomar un par de minutos, ten paciencia):"
   ]
  },
  {
   "cell_type": "code",
   "execution_count": null,
   "metadata": {
    "id": "8gdMqppiQdW4"
   },
   "outputs": [],
   "source": [
    "# NO HACE FALTA ENTENDER ESTE CODIGO.\n",
    "# SOLO EJECUTARLO PARA EMPEZAR\n",
    "# PUEDE TARDAR UN PAR DE MINUTOS\n",
    "!pip install SeTeEscapoLaTortuga -U -q\n",
    "from SeTeEscapoLaTortuga.Turtle import *\n",
    "despertar_tortuga()"
   ]
  },
  {
   "cell_type": "markdown",
   "metadata": {
    "id": "GdcYoENiQdW4"
   },
   "source": [
    "## Comencemos a darle instrucciones\n",
    "\n",
    "En este curso nuestro trabajo sera darle instrucciones a una tortuga para que haga los dibujos que nosotros querramos.\n",
    "\n",
    "Utilizaremos la palabra `adelante` para que la tortuga vaya hacia adelante y entre parentesis pondremos cuantos pixeles queremos que vaya hacia adelante, por ejemplo: `adelante(100)`"
   ]
  },
  {
   "cell_type": "code",
   "execution_count": null,
   "metadata": {
    "id": "WtkvOD7QQdW5"
   },
   "outputs": [],
   "source": [
    "adelante(100)"
   ]
  },
  {
   "cell_type": "markdown",
   "metadata": {
    "id": "ACczhEc3QdW5"
   },
   "source": [
    "Utilizaremos la palabra `derecha` para que la tortuga doble hacia la derecha y entre parentesis pondremos el angulo que queremos que gire, por ejemplo: `derecha(90)`"
   ]
  },
  {
   "cell_type": "code",
   "execution_count": null,
   "metadata": {
    "id": "2S3CvPJTQdW5"
   },
   "outputs": [],
   "source": [
    "derecha(90)"
   ]
  },
  {
   "cell_type": "markdown",
   "metadata": {
    "id": "D8bPVwpBQdW5"
   },
   "source": [
    "Utilizaremos la palabra `ir_a_casa()` para que la tortuga vuelva a su posicion inicial"
   ]
  },
  {
   "cell_type": "code",
   "execution_count": null,
   "metadata": {
    "id": "u9lK9E50QdW5"
   },
   "outputs": [],
   "source": [
    "ir_a_casa()"
   ]
  },
  {
   "cell_type": "markdown",
   "metadata": {
    "id": "-Jj4DTdEQdW5"
   },
   "source": [
    "Utilizaremos la palabra `borrar_todo()` para se borre todo lo que la tortuga ha dibujado"
   ]
  },
  {
   "cell_type": "code",
   "execution_count": null,
   "metadata": {
    "id": "lXipcQ0eQdW6"
   },
   "outputs": [],
   "source": [
    "borrar_todo()"
   ]
  },
  {
   "cell_type": "markdown",
   "metadata": {
    "id": "ojqV4CccQdW6"
   },
   "source": [
    "Ahora probemos escribir una instruccion abajo de otra para que las realice todas juntas y dibujemos un cuadrado de 100 pixeles de lado. Empecemos con borrar_todo e ir_a_casa para empezar de cero."
   ]
  },
  {
   "cell_type": "code",
   "execution_count": null,
   "metadata": {
    "id": "1lzafRT9QdW6"
   },
   "outputs": [],
   "source": [
    "ir_a_casa()\n",
    "borrar_todo()\n",
    "\n",
    "adelante(100)\n",
    "derecha(90)\n",
    "adelante(100)\n",
    "derecha(90)\n",
    "adelante(100)\n",
    "derecha(90)\n",
    "adelante(100)"
   ]
  },
  {
   "cell_type": "markdown",
   "metadata": {
    "id": "5KLlXskwQdW6"
   },
   "source": [
    "Si quieres ir haciendolo paso a paso debes:\n",
    "1. Escibir una instruccion en la celda.\n",
    "2. Ejecutar con el icono ▶️\n",
    "3. Borrar la instruccion que has escrito.\n",
    "4. Escribir una nueva instruccion y volver a ejecutar.\n",
    "\n",
    "Prueba con la siguiente celda (recuerda primero ir_a_casa y borrar_todo):"
   ]
  },
  {
   "cell_type": "code",
   "execution_count": 7,
   "metadata": {
    "id": "1HSAqKfBQdW6"
   },
   "outputs": [],
   "source": [
    "# 1. Escribe tu instruccion\n",
    "# 2. Ejecuta\n",
    "# 3. Borra la instruccion\n",
    "# 4. Repite los pasos\n",
    "\n",
    "\n"
   ]
  },
  {
   "cell_type": "markdown",
   "metadata": {
    "id": "S4kCqMygQdW6"
   },
   "source": [
    "### Ejercicio 1:\n",
    "\n",
    "Dibuja un cuadrado con sus lados de 200 pixeles"
   ]
  },
  {
   "cell_type": "code",
   "execution_count": null,
   "metadata": {
    "id": "oTgqiQw6QdW6"
   },
   "outputs": [],
   "source": [
    "# Escribe a continuacion tus instrucciones\n",
    "\n",
    "\n",
    "\n"
   ]
  },
  {
   "cell_type": "markdown",
   "metadata": {
    "id": "HnLZPC-iQdW6"
   },
   "source": [
    "<details>\n",
    "<summary>Click aqui para ver la Solucion del Ejercicio 1</summary>\n",
    "<code>\n",
    "\n",
    "ir_a_casa()<br>\n",
    "borrar_todo()<br>\n",
    "<br>\n",
    "adelante(200)<br>\n",
    "derecha(90)<br>\n",
    "adelante(200)<br>\n",
    "derecha(90)<br>\n",
    "adelante(200)<br>\n",
    "derecha(90)<br>\n",
    "adelante(200)<br>\n",
    "\n",
    "</code>\n",
    "</details>"
   ]
  },
  {
   "cell_type": "markdown",
   "metadata": {
    "id": "7F-bPu5OQdW6"
   },
   "source": [
    "Utilicemos ahora la palabra `color` para cambiar el color con el que la tortuga dibuja y entre parentesis pondremos el color que queremos que gire, por ejemplo: `color('yellow')`. Como vemos en el ejemplo el color debe estar en ingles y entre comillas.\n",
    "\n",
    "La tortuga entiende los colores en ingles asi que aprenderemos los nombres de los colores basicos:\n",
    "- negro: black\n",
    "- blanco: white\n",
    "- gris: grey\n",
    "- amarillo: yellow\n",
    "- verde: green\n",
    "- azul: blue\n",
    "- rojo: red\n",
    "- naranja: orange\n",
    "- marron: brown\n",
    "- rosa: pink\n",
    "- celeste: lightblue\n"
   ]
  },
  {
   "cell_type": "code",
   "execution_count": null,
   "metadata": {
    "id": "V-AFW6rlQdW6"
   },
   "outputs": [],
   "source": [
    "ir_a_casa()\n",
    "borrar_todo()\n",
    "\n",
    "color('yellow')\n",
    "adelante(100)\n"
   ]
  },
  {
   "cell_type": "markdown",
   "metadata": {
    "id": "bnxTkEFzQdW6"
   },
   "source": [
    "### Ejercicio 2:\n",
    "\n",
    "Dibuja un cuadrado con sus lados de 100 pixeles y de cuatro colores diferentes: verde, azul, rojo y naranja"
   ]
  },
  {
   "cell_type": "code",
   "execution_count": null,
   "metadata": {
    "id": "WHYWaKLaQdW6"
   },
   "outputs": [],
   "source": [
    "# Escribe a continuacion tus instrucciones\n",
    "\n",
    "\n",
    "\n"
   ]
  },
  {
   "cell_type": "markdown",
   "metadata": {
    "id": "cKBdrgSmQdW6"
   },
   "source": [
    "<details>\n",
    "<summary>Click aqui para ver la Solucion del Ejercicio 2</summary>\n",
    "<code>\n",
    "\n",
    "ir_a_casa()<br>\n",
    "borrar_todo()<br>\n",
    "<br>\n",
    "color('green')<br>\n",
    "adelante(100)<br>\n",
    "derecha(90)<br>\n",
    "color('blue')<br>\n",
    "adelante(100)<br>\n",
    "derecha(90)<br>\n",
    "color('red')<br>\n",
    "adelante(100)<br>\n",
    "derecha(90)<br>\n",
    "color('orange')<br>\n",
    "adelante(100)<br>\n",
    "\n",
    "</code>\n",
    "</details>"
   ]
  },
  {
   "cell_type": "markdown",
   "metadata": {
    "id": "Y86YjrD8QdW6"
   },
   "source": [
    "### Ejercicio 3:\n",
    "\n",
    "Dibujar un espiral como el que se ve a continuacion. Ayuda empezar con lados de 10 pixeles e ir aumentando de 10 en 10 hasta llegar a lados de 100 pixeles.\n",
    "\n",
    "![espiral](./img/espiral.png)"
   ]
  },
  {
   "cell_type": "code",
   "execution_count": null,
   "metadata": {
    "colab": {
     "base_uri": "https://localhost:8080/",
     "height": 521
    },
    "id": "ng_m_rxuQdW7",
    "outputId": "7a59ca6e-e798-4eb6-b2a6-dd20eef81c44",
    "tags": []
   },
   "outputs": [],
   "source": [
    "# Escribe a continuacion tus instrucciones\n",
    "\n",
    "\n",
    "\n"
   ]
  },
  {
   "cell_type": "markdown",
   "metadata": {
    "id": "YZ91iykeQdW7"
   },
   "source": [
    "<details>\n",
    "<summary>Click aqui para ver la Solucion del Ejercicio 3</summary>\n",
    "<code>\n",
    "\n",
    "ir_a_casa()<br>\n",
    "borrar_todo()<br>\n",
    "<br>\n",
    "velocidad(6)<br>\n",
    "color(\"white\")<br>\n",
    "<br>\n",
    "adelante(10)<br>\n",
    "derecha(90)<br>\n",
    "adelante(10)<br>\n",
    "derecha(90)<br>\n",
    "adelante(20)<br>\n",
    "derecha(90)<br>\n",
    "adelante(20)<br>\n",
    "derecha(90)<br>\n",
    "adelante(30)<br>\n",
    "derecha(90)<br>\n",
    "adelante(30)<br>\n",
    "derecha(90)<br>\n",
    "adelante(40)<br>\n",
    "derecha(90)<br>\n",
    "adelante(40)<br>\n",
    "derecha(90)<br>\n",
    "adelante(50)<br>\n",
    "derecha(90)<br>\n",
    "adelante(50)<br>\n",
    "derecha(90)<br>\n",
    "adelante(60)<br>\n",
    "derecha(90)<br>\n",
    "adelante(60)<br>\n",
    "derecha(90)<br>\n",
    "adelante(70)<br>\n",
    "derecha(90)<br>\n",
    "adelante(70)<br>\n",
    "derecha(90)<br>\n",
    "adelante(80)<br>\n",
    "derecha(90)<br>\n",
    "adelante(80)<br>\n",
    "derecha(90)<br>\n",
    "adelante(90)<br>\n",
    "derecha(90)<br>\n",
    "adelante(90)<br>\n",
    "derecha(90)<br>\n",
    "adelante(100)<br>\n",
    "derecha(90)<br>\n",
    "adelante(100)<br>\n",
    "derecha(90)<br>\n",
    "\n",
    "</code>\n",
    "</details>"
   ]
  },
  {
   "cell_type": "markdown",
   "metadata": {
    "id": "TOjryCd5QdW7"
   },
   "source": [
    "Asi como tenemos las instrucciones `adelante` y `derecha` tambien tenemos las instrucciones `atras` e `izquierda`.\n",
    "\n",
    "Utilizaremos la palabra `atras` para que la tortuga vaya hacia atras y entre parentesis pondremos cuantos pixeles queremos que vaya hacia atras, por ejemplo: `atras(100)`\n",
    "\n",
    "Utilizaremos la palabra `izquierda` para que la tortuga doble hacia la izquierda y entre parentesis pondremos el angulo que queremos que gire, por ejemplo: `izquierda(90)`\n",
    "\n",
    "Veamos que pasa si hacemos el cuadrado utilizando atras e izquierda:"
   ]
  },
  {
   "cell_type": "code",
   "execution_count": null,
   "metadata": {
    "id": "vBCrkRrMQdW7"
   },
   "outputs": [],
   "source": [
    "ir_a_casa()\n",
    "borrar_todo()\n",
    "\n",
    "atras(100)\n",
    "izquierda(90)\n",
    "atras(100)\n",
    "izquierda(90)\n",
    "atras(100)\n",
    "izquierda(90)\n",
    "atras(100)"
   ]
  },
  {
   "cell_type": "markdown",
   "metadata": {
    "id": "vXF9zPVvQdW7"
   },
   "source": [
    "Veamos como dibujar un zigzag utilizando la palabra izquierda y utilicemos otra instruccion para que la tortuga vaya mas rapido.\n",
    "\n",
    "Utilizaremos la palabra `velocidad` para que la tortuga vaya a la velocidad que querramos y entre parentesis pondremos la velocidad que queremos y que solo puede ser un numero entre 1 y 13, donde 1 es la velocidad mas lenta y 13 la mas rapida. Por ejemplo: `velocidad(6)`."
   ]
  },
  {
   "cell_type": "code",
   "execution_count": null,
   "metadata": {
    "id": "s5Iw_cztQdW7"
   },
   "outputs": [],
   "source": [
    "ir_a_casa()\n",
    "borrar_todo()\n",
    "\n",
    "velocidad(6)\n",
    "color(\"white\")\n",
    "\n",
    "derecha(45)\n",
    "adelante(30)\n",
    "izquierda(45)\n",
    "adelante(30)\n",
    "derecha(45)\n",
    "adelante(30)\n",
    "izquierda(45)\n",
    "adelante(30)\n",
    "derecha(45)\n",
    "adelante(30)\n",
    "izquierda(45)\n",
    "adelante(30)\n",
    "derecha(45)\n",
    "adelante(30)\n",
    "izquierda(45)\n",
    "adelante(30)"
   ]
  },
  {
   "cell_type": "markdown",
   "metadata": {
    "id": "oIkZYPWTQdW7"
   },
   "source": [
    "### Ejercicio 4:\n",
    "\n",
    "Dibujar una escalera que vaya hacia la izquierda y hacia arriba"
   ]
  },
  {
   "cell_type": "code",
   "execution_count": null,
   "metadata": {
    "id": "8eFfm4giQdW7"
   },
   "outputs": [],
   "source": [
    "# Escribe a continuacion tus instrucciones\n",
    "\n",
    "\n",
    "\n"
   ]
  },
  {
   "cell_type": "markdown",
   "metadata": {
    "id": "pGTAWAB6T6pg"
   },
   "source": [
    "<details>\n",
    "<summary>Click aqui para ver la Solucion del Ejercicio 4</summary>\n",
    "<code>\n",
    "\n",
    "ir_a_casa()<br>\n",
    "borrar_todo()<br>\n",
    "<br>\n",
    "velocidad(6)<br>\n",
    "color(\"white\")<br>\n",
    "<br>\n",
    "izquierda(90)<br>\n",
    "<br>\n",
    "adelante(30)<br>\n",
    "derecha(90)<br>\n",
    "adelante(30)<br>\n",
    "izquierda(90)<br>\n",
    "adelante(30)<br>\n",
    "derecha(90)<br>\n",
    "adelante(30)<br>\n",
    "izquierda(90)<br>\n",
    "adelante(30)<br>\n",
    "derecha(90)<br>\n",
    "adelante(30)<br>\n",
    "izquierda(90)<br>\n",
    "adelante(30)<br>\n",
    "derecha(90)<br>\n",
    "adelante(30)<br>\n",
    "izquierda(90)<br>\n",
    "adelante(30)<br>\n",
    "\n",
    "</code>\n",
    "</details>"
   ]
  },
  {
   "cell_type": "markdown",
   "metadata": {
    "id": "bL_v855jQdW7"
   },
   "source": [
    "### Ejercicio 5:\n",
    "\n",
    "Dibuja un cubo con sus lados de 100 pixeles"
   ]
  },
  {
   "cell_type": "code",
   "execution_count": null,
   "metadata": {
    "id": "iq4H7GIhQdW7"
   },
   "outputs": [],
   "source": [
    "# Escribe a continuacion tus instrucciones\n",
    "\n",
    "\n",
    "\n"
   ]
  },
  {
   "cell_type": "markdown",
   "metadata": {
    "id": "fDF2kMigQdW7"
   },
   "source": [
    "<details>\n",
    "<summary>Click aqui para ver la Solucion del Ejercicio 5</summary>\n",
    "Esta es solo una de muchas soluciones posibles.\n",
    "Cualquier solucion que dibuje un cubo esta bien.\n",
    "<code>\n",
    "\n",
    "ir_a_casa()<br>\n",
    "borrar_todo()<br>\n",
    "<br>\n",
    "adelante(100)<br>\n",
    "derecha(90)<br>\n",
    "adelante(100)<br>\n",
    "derecha(90)<br>\n",
    "adelante(100)<br>\n",
    "derecha(90)<br>\n",
    "adelante(100)<br>\n",
    "derecha(45)<br>\n",
    "adelante(50)<br>\n",
    "derecha(45)<br>\n",
    "adelante(100)<br>\n",
    "derecha(90)<br>\n",
    "adelante(100)<br>\n",
    "derecha(45)<br>\n",
    "adelante(50)<br>\n",
    "derecha(135)<br>\n",
    "adelante(100)<br>\n",
    "derecha(45)<br>\n",
    "adelante(50)<br>\n",
    "\n",
    "</code>\n",
    "</details>"
   ]
  },
  {
   "cell_type": "markdown",
   "metadata": {
    "id": "_6hIdh9xQdW7"
   },
   "source": [
    "# Fin: [Volver al contenido del curso](https://www.freecodingtour.com/cursos/espanol/programacion_basico/programacion.html)"
   ]
  }
 ],
 "metadata": {
  "colab": {
   "provenance": []
  },
  "kernelspec": {
   "display_name": "Python 3 (ipykernel)",
   "language": "python",
   "name": "python3"
  },
  "language_info": {
   "codemirror_mode": {
    "name": "ipython",
    "version": 3
   },
   "file_extension": ".py",
   "mimetype": "text/x-python",
   "name": "python",
   "nbconvert_exporter": "python",
   "pygments_lexer": "ipython3",
   "version": "3.9.18"
  }
 },
 "nbformat": 4,
 "nbformat_minor": 4
}
