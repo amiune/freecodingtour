{
 "cells": [
  {
   "cell_type": "markdown",
   "metadata": {},
   "source": [
    "# El ordenador es muy tonto\n",
    "\n",
    "Programar es decirle al ordenador que queremos que haga.\n",
    "\n",
    "Hay que entender que el ordenador es muy tonto por lo que entiende solamente unas pocas palabras que llamamos intrucciones y utilizando esas pocas palabras vamos a decirle exactamente que debe hacer\n",
    "\n"
   ]
  },
  {
   "cell_type": "markdown",
   "metadata": {},
   "source": [
    "Primero que nada presionamos el icono ▶️ para ejecutar (se encuentra a la izquierda de cada celda que contiene nuestro codigo de programacion, aparece cuando posicionamos el mouse encima de el)\n",
    "\n",
    "Ejutar la siguiente celda para despertar a la tortuga y poder empezar a darle instrucciones:"
   ]
  },
  {
   "cell_type": "code",
   "execution_count": null,
   "metadata": {},
   "outputs": [],
   "source": [
    "# NO HACE FALTA ENTENDER ESTE CODIGO. \n",
    "# SOLO EJECUTARLO PARA EMPEZAR\n",
    "!pip install SeTeEscapoLaTortuga -U -q\n",
    "from SeTeEscapoLaTortuga.Turtle import *\n",
    "despertar_tortuga()"
   ]
  },
  {
   "cell_type": "markdown",
   "metadata": {},
   "source": [
    "## Comencemos a darle instrucciones\n",
    "\n",
    "En este curso nuestro trabajo sera darle instrucciones a una tortuga para que haga los dibujos que nosotros querramos.\n",
    "\n",
    "Utilizaremos la palabra `adelante` para que la tortuga vaya hacia adelante y entre parentesis pondremos cuantos metros queremos que vaya hacia adelante, por ejemplo: `adelante(10)`"
   ]
  },
  {
   "cell_type": "code",
   "execution_count": null,
   "metadata": {},
   "outputs": [],
   "source": [
    "adelante(10)"
   ]
  },
  {
   "cell_type": "markdown",
   "metadata": {},
   "source": [
    "# Fin: [Volver al contenido del curso](https://www.freecodingtour.com/cursos/espanol/programacion_basico/programacion.html)"
   ]
  }
 ],
 "metadata": {
  "kernelspec": {
   "display_name": "Python 3 (ipykernel)",
   "language": "python",
   "name": "python3"
  },
  "language_info": {
   "codemirror_mode": {
    "name": "ipython",
    "version": 3
   },
   "file_extension": ".py",
   "mimetype": "text/x-python",
   "name": "python",
   "nbconvert_exporter": "python",
   "pygments_lexer": "ipython3",
   "version": "3.9.7"
  }
 },
 "nbformat": 4,
 "nbformat_minor": 4
}
