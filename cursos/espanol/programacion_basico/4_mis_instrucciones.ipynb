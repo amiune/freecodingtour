{
 "cells": [
  {
   "cell_type": "markdown",
   "metadata": {},
   "source": [
    "# Creando Mis Propias Instrucciones"
   ]
  },
  {
   "cell_type": "markdown",
   "metadata": {},
   "source": [
    "Primero que nada presionamos el icono ▶️ para ejecutar (se encuentra a la izquierda de cada celda que contiene nuestro codigo de programacion, aparece cuando posicionamos el raton o mouse encima de el)\n",
    "\n",
    "Ejecutar la siguiente celda para despertar a la tortuga y poder empezar a darle instrucciones (ten en cuenta que despertar a la tortuga puede tomar un par de minutos, ten paciencia):"
   ]
  },
  {
   "cell_type": "code",
   "execution_count": null,
   "metadata": {},
   "outputs": [],
   "source": [
    "# NO HACE FALTA ENTENDER ESTE CODIGO. \n",
    "# SOLO EJECUTARLO PARA EMPEZAR\n",
    "# PUEDE TARDAR UN PAR DE MINUTOS\n",
    "!pip install SeTeEscapoLaTortuga -U -q\n",
    "from SeTeEscapoLaTortuga.Turtle import *\n",
    "despertar_tortuga()"
   ]
  },
  {
   "cell_type": "markdown",
   "metadata": {},
   "source": [
    "## Mi primera instruccion propia"
   ]
  },
  {
   "cell_type": "markdown",
   "metadata": {},
   "source": [
    "Ya vimos que podemos crear un cuadrado utilizando las instrucciones que sabemos, para ello ejecutamos el siguiente codigo:"
   ]
  },
  {
   "cell_type": "code",
   "execution_count": null,
   "metadata": {},
   "outputs": [],
   "source": [
    "adelante(100)\n",
    "derecha(90)\n",
    "adelante(100)\n",
    "derecha(90)\n",
    "adelante(100)\n",
    "derecha(90)\n",
    "adelante(100)"
   ]
  },
  {
   "cell_type": "markdown",
   "metadata": {},
   "source": [
    "Tambien sabemos que si queremos hacer varios cuadrados debemos escribir esto varias veces, por ejemplo:"
   ]
  },
  {
   "cell_type": "code",
   "execution_count": null,
   "metadata": {},
   "outputs": [],
   "source": [
    "ir_a_casa()\n",
    "borrar_todo()\n",
    "\n",
    "adelante(100)\n",
    "derecha(90)\n",
    "adelante(100)\n",
    "derecha(90)\n",
    "adelante(100)\n",
    "derecha(90)\n",
    "adelante(100)\n",
    "\n",
    "no_dibujar()\n",
    "adelante(50)\n",
    "derecha(50)\n",
    "dibujar()\n",
    "\n",
    "adelante(100)\n",
    "derecha(90)\n",
    "adelante(100)\n",
    "derecha(90)\n",
    "adelante(100)\n",
    "derecha(90)\n",
    "adelante(100)\n",
    "\n",
    "no_dibujar()\n",
    "adelante(50)\n",
    "derecha(50)\n",
    "dibujar()\n",
    "\n",
    "adelante(100)\n",
    "derecha(90)\n",
    "adelante(100)\n",
    "derecha(90)\n",
    "adelante(100)\n",
    "derecha(90)\n",
    "adelante(100)"
   ]
  },
  {
   "cell_type": "markdown",
   "metadata": {},
   "source": [
    "Pero si creamos una nueva instruccion que sea para hacer cuadrados entonces el codigo se vuelve mas simple. Veamos a continuacion como crear una instruccion:"
   ]
  },
  {
   "cell_type": "code",
   "execution_count": null,
   "metadata": {},
   "outputs": [],
   "source": [
    "def dibujar_cuadrado():\n",
    "    adelante(100)\n",
    "    derecha(90)\n",
    "    adelante(100)\n",
    "    derecha(90)\n",
    "    adelante(100)\n",
    "    derecha(90)\n",
    "    adelante(100)"
   ]
  },
  {
   "cell_type": "markdown",
   "metadata": {},
   "source": [
    "Para crear una instruccion propia escribimos la palabra `def` luego le ponemos el nombre que querramos a la instruccion, en este caso `dibujar_cuadrado`, luego abrimos y cerramos parentesis y dos puntos. Finalmente lo que este abajo de esta definicion e indentado hacia la derecha sera lo que hara nuestra instruccion. La ejecutamos para que quede guardada en la memoria de la tortuga y veamos ahora como funciona:"
   ]
  },
  {
   "cell_type": "code",
   "execution_count": null,
   "metadata": {},
   "outputs": [],
   "source": [
    "ir_a_casa()\n",
    "borrar_todo()\n",
    "\n",
    "dibujar_cuadrado()"
   ]
  },
  {
   "cell_type": "markdown",
   "metadata": {},
   "source": [
    "Ahora volvamos a dibujar los tres cuadrados:"
   ]
  },
  {
   "cell_type": "code",
   "execution_count": null,
   "metadata": {},
   "outputs": [],
   "source": [
    "ir_a_casa()\n",
    "borrar_todo()\n",
    "\n",
    "dibujar_cuadrado()\n",
    "\n",
    "no_dibujar()\n",
    "adelante(50)\n",
    "derecha(50)\n",
    "dibujar()\n",
    "\n",
    "dibujar_cuadrado()\n",
    "\n",
    "no_dibujar()\n",
    "adelante(50)\n",
    "derecha(50)\n",
    "dibujar()\n",
    "\n",
    "dibujar_cuadrado()"
   ]
  },
  {
   "cell_type": "markdown",
   "metadata": {},
   "source": [
    "Nuestro codigo se ha vuelto mucho mas simple!"
   ]
  },
  {
   "cell_type": "markdown",
   "metadata": {},
   "source": [
    "A estas instrucciones definidas de esta manera se las conoce como **funciones**"
   ]
  },
  {
   "cell_type": "markdown",
   "metadata": {},
   "source": [
    "### Ejercicio 1: \n",
    "\n",
    "Utilizar la instruccion dibujar_cuadrado() para dibujar tres cuadrados uno a la izquierda del otro"
   ]
  },
  {
   "cell_type": "code",
   "execution_count": 2,
   "metadata": {},
   "outputs": [],
   "source": [
    "# Escribe tus instrucciones a continuacion\n",
    "\n",
    "\n",
    "\n"
   ]
  },
  {
   "cell_type": "markdown",
   "metadata": {},
   "source": [
    "<details>\n",
    "<summary>Click aqui para ver la Solucion del Ejercicio 1</summary>\n",
    "<code>\n",
    "\n",
    "ir_a_casa()<br>\n",
    "borrar_todo()<br>\n",
    "<br>\n",
    "dibujar_cuadrado()<br>\n",
    "<br>\n",
    "no_dibujar()<br>\n",
    "adelante(150)<br>\n",
    "derecha(90)<br>\n",
    "dibujar()<br>\n",
    "<br>\n",
    "dibujar_cuadrado()<br>\n",
    "<br>\n",
    "no_dibujar()<br>\n",
    "adelante(150)<br>\n",
    "derecha(90)<br>\n",
    "dibujar()<br>\n",
    "<br>\n",
    "dibujar_cuadrado()<br>\n",
    "\n",
    "</code>\n",
    "</details>"
   ]
  },
  {
   "cell_type": "markdown",
   "metadata": {},
   "source": [
    "## Instrucciones que pueden recibir valores\n",
    "\n",
    "Veamos ahora como podemos crear una instruccion que pueda dibujar cuadrados de distintos tamaños:"
   ]
  },
  {
   "cell_type": "code",
   "execution_count": 1,
   "metadata": {},
   "outputs": [],
   "source": [
    "def dibujar_cuadrado(largo_del_lado):\n",
    "    adelante(largo_del_lado)\n",
    "    derecha(90)\n",
    "    adelante(largo_del_lado)\n",
    "    derecha(90)\n",
    "    adelante(largo_del_lado)\n",
    "    derecha(90)\n",
    "    adelante(largo_del_lado)"
   ]
  },
  {
   "cell_type": "markdown",
   "metadata": {},
   "source": [
    "Ahora vemos que al usar esta nueva instruccion le podemos decir a la tortuga de que largo queremos que sea el largo de los lados del cuadrado"
   ]
  },
  {
   "cell_type": "code",
   "execution_count": null,
   "metadata": {},
   "outputs": [],
   "source": [
    "ir_a_casa()\n",
    "borrar_todo()\n",
    "\n",
    "dibujar_cuadrado(200)"
   ]
  },
  {
   "cell_type": "markdown",
   "metadata": {},
   "source": [
    "### Ejercicio 2: \n",
    "\n",
    "Utilizar la instruccion dibujar_cuadrado() para dibujar cuatro cuadrados de distintos tamaños"
   ]
  },
  {
   "cell_type": "code",
   "execution_count": null,
   "metadata": {},
   "outputs": [],
   "source": [
    "# Escribe tus instrucciones a continuacion\n",
    "\n",
    "\n",
    "\n"
   ]
  },
  {
   "cell_type": "markdown",
   "metadata": {},
   "source": [
    "<details>\n",
    "<summary>Click aqui para ver la Solucion del Ejercicio 2</summary>\n",
    "<code>\n",
    "\n",
    "ir_a_casa()<br>\n",
    "borrar_todo()<br>\n",
    "<br>\n",
    "dibujar_cuadrado(50)<br>\n",
    "dibujar_cuadrado(100)<br>\n",
    "dibujar_cuadrado(150)<br>\n",
    "dibujar_cuadrado(200)<br>\n",
    "\n",
    "\n",
    "</code>\n",
    "</details>"
   ]
  },
  {
   "cell_type": "markdown",
   "metadata": {},
   "source": [
    "Si queremos hacer una instruccion que dibuje un rectangulo deberemos recibir dos valores, uno para el alto y otro para el ancho. Ello lo podemos hacer con una coma que separe las variables que recibe mi instruccion de la siguiente manera:\n",
    "`def dibujar_rectangulo(alto, ancho):`"
   ]
  },
  {
   "cell_type": "markdown",
   "metadata": {},
   "source": [
    "### Ejercicio 3: \n",
    "\n",
    "Escribir el codigo de la instruccion dibujar_rectangulo(alto, ancho) para que dibuje un rectangulo con los respectivos alto y ancho."
   ]
  },
  {
   "cell_type": "code",
   "execution_count": null,
   "metadata": {},
   "outputs": [],
   "source": [
    "def dibujar_rectangulo(alto, ancho):\n",
    "    # Escribir aqui el codigo para dibujar el rectangulo\n",
    "    \n",
    "    \n",
    "    "
   ]
  },
  {
   "cell_type": "code",
   "execution_count": null,
   "metadata": {},
   "outputs": [],
   "source": [
    "# Con la siguiente linea de codigo probaremos nuestra funcion\n",
    "dibujar_rectangulo(100, 200)"
   ]
  },
  {
   "cell_type": "markdown",
   "metadata": {},
   "source": [
    "<details>\n",
    "<summary>Click aqui para ver la Solucion del Ejercicio 3</summary>\n",
    "<code>\n",
    "\n",
    "def dibujar_rectangulo(alto, ancho):<br>\n",
    "&nbsp;&nbsp;adelante(alto)<br>\n",
    "&nbsp;&nbsp;derecha(90)<br>\n",
    "&nbsp;&nbsp;adelante(ancho)<br>\n",
    "&nbsp;&nbsp;derecha(90)<br>\n",
    "&nbsp;&nbsp;adelante(alto)<br>\n",
    "&nbsp;&nbsp;derecha(90)<br>\n",
    "&nbsp;&nbsp;adelante(ancho)<br>\n",
    "&nbsp;&nbsp;derecha(90)<br>\n",
    "\n",
    "\n",
    "</code>\n",
    "</details>"
   ]
  },
  {
   "cell_type": "markdown",
   "metadata": {},
   "source": [
    "### Ejercicio 4: \n",
    "\n",
    "Crear una instruccion llamada dibujar_triangulo(color_elegido, largo_del_lado) que reciba dos valores, color_elegido y largo_del_lado los cuales usaremos para establecer el color del triangulo y el largo de sus lados."
   ]
  },
  {
   "cell_type": "code",
   "execution_count": null,
   "metadata": {},
   "outputs": [],
   "source": [
    "def dibujar_triangulo(color_elegido, largo_del_lado):\n",
    "    # Escribir aqui el codigo para dibujar el triangulo\n",
    "    \n",
    "    \n",
    "    "
   ]
  },
  {
   "cell_type": "code",
   "execution_count": null,
   "metadata": {},
   "outputs": [],
   "source": [
    "# Con la siguiente linea de codigo probaremos nuestra funcion\n",
    "dibujar_triangulo(\"yellow\", 150)"
   ]
  },
  {
   "cell_type": "markdown",
   "metadata": {},
   "source": [
    "<details>\n",
    "<summary>Click aqui para ver la Solucion del Ejercicio 4</summary>\n",
    "<code>\n",
    "\n",
    "def dibujar_triangulo(color_elegido, largo_del_lado):<br>\n",
    "&nbsp;&nbsp;color(color_elegido)<br>\n",
    "&nbsp;&nbsp;derecha(60)<br>\n",
    "&nbsp;&nbsp;adelante(largo_del_lado)<br>\n",
    "&nbsp;&nbsp;derecha(60)<br>\n",
    "&nbsp;&nbsp;adelante(largo_del_lado)<br>\n",
    "&nbsp;&nbsp;derecha(60)<br>\n",
    "&nbsp;&nbsp;adelante(largo_del_lado)<br>\n",
    "\n",
    "</code>\n",
    "</details>"
   ]
  },
  {
   "cell_type": "markdown",
   "metadata": {},
   "source": [
    "# Fin: [Volver al contenido del curso](https://www.freecodingtour.com/cursos/espanol/programacion_basico/programacion.html)"
   ]
  }
 ],
 "metadata": {
  "kernelspec": {
   "display_name": "Python 3 (ipykernel)",
   "language": "python",
   "name": "python3"
  },
  "language_info": {
   "codemirror_mode": {
    "name": "ipython",
    "version": 3
   },
   "file_extension": ".py",
   "mimetype": "text/x-python",
   "name": "python",
   "nbconvert_exporter": "python",
   "pygments_lexer": "ipython3",
   "version": "3.9.18"
  }
 },
 "nbformat": 4,
 "nbformat_minor": 4
}
