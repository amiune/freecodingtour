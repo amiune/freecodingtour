{
 "cells": [
  {
   "cell_type": "markdown",
   "id": "18b599dc-d7b1-4f85-b802-c34f71e01cce",
   "metadata": {},
   "source": [
    "# Salon del Arte\n",
    "\n",
    "Aqui podras ver los mejores dibujos creados por los alumnos. Ejecuta el codigo de cada uno para ver el dibujo que hace la tortuga."
   ]
  },
  {
   "cell_type": "code",
   "execution_count": null,
   "id": "cd127292-e853-47e9-9acb-6b68bf1dac8f",
   "metadata": {},
   "outputs": [],
   "source": [
    "# RECUERDA SIEMPRE DESPERTAR A LA TORTUGA\n",
    "!pip install SeTeEscapoLaTortuga -U -q\n",
    "from SeTeEscapoLaTortuga.Turtle import *\n",
    "despertar_tortuga()"
   ]
  },
  {
   "cell_type": "markdown",
   "id": "322483a4-ca97-4283-b31b-69573877c7d3",
   "metadata": {},
   "source": [
    "## El primero obra del Profe :)"
   ]
  },
  {
   "cell_type": "code",
   "execution_count": null,
   "id": "4130143c-0cad-4026-b6a1-c397a8df99bd",
   "metadata": {},
   "outputs": [],
   "source": [
    "ir_a_casa()\n",
    "borrar_todo()\n",
    "\n",
    "velocidad(13)\n",
    "ancho_linea(1)\n",
    "\n",
    "angulo = 92\n",
    "for x in range(250):\n",
    "    color((x,x,x))\n",
    "    adelante(x)\n",
    "    izquierda(angulo)"
   ]
  },
  {
   "cell_type": "code",
   "execution_count": null,
   "id": "83c26fd2-42d5-4e5f-8e88-93f94776886f",
   "metadata": {},
   "outputs": [],
   "source": [
    "### Envia tus dibujos a traves de esta"
   ]
  },
  {
   "cell_type": "markdown",
   "id": "486a4c4a-cd6e-4d96-9395-85f3fae1c094",
   "metadata": {},
   "source": [
    "# Fin: [Volver al contenido del curso](https://www.freecodingtour.com/cursos/espanol/programacion_basico/programacion.html)"
   ]
  }
 ],
 "metadata": {
  "kernelspec": {
   "display_name": "Python 3 (ipykernel)",
   "language": "python",
   "name": "python3"
  },
  "language_info": {
   "codemirror_mode": {
    "name": "ipython",
    "version": 3
   },
   "file_extension": ".py",
   "mimetype": "text/x-python",
   "name": "python",
   "nbconvert_exporter": "python",
   "pygments_lexer": "ipython3",
   "version": "3.9.7"
  }
 },
 "nbformat": 4,
 "nbformat_minor": 5
}
