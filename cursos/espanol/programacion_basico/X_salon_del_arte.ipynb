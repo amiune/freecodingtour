{
 "cells": [
  {
   "cell_type": "markdown",
   "id": "18b599dc-d7b1-4f85-b802-c34f71e01cce",
   "metadata": {},
   "source": [
    "# Salon del Arte\n",
    "\n",
    "Aqui podras ver los mejores dibujos creados por los alumnos. Ejecuta el codigo de cada uno para ver el dibujo que hace la tortuga."
   ]
  },
  {
   "cell_type": "code",
   "execution_count": null,
   "id": "cd127292-e853-47e9-9acb-6b68bf1dac8f",
   "metadata": {},
   "outputs": [],
   "source": [
    "#@title Ejecutar para despertar a la tortuga {display-mode:\"form\"}\n",
    "!pip install SeTeEscapoLaTortuga -U -q\n",
    "from SeTeEscapoLaTortuga.Turtle import *\n",
    "despertar_tortuga()"
   ]
  },
  {
   "cell_type": "code",
   "execution_count": null,
   "id": "4130143c-0cad-4026-b6a1-c397a8df99bd",
   "metadata": {},
   "outputs": [],
   "source": [
    "#@title Dibujo enviado por Hernan {display-mode:\"form\"}\n",
    "ir_a_casa()\n",
    "borrar_todo()\n",
    "\n",
    "velocidad(13)\n",
    "ancho_linea(2)\n",
    "\n",
    "angulo = 92\n",
    "for x in range(250):\n",
    "    color((x,x,x))\n",
    "    adelante(x)\n",
    "    izquierda(angulo)"
   ]
  },
  {
   "cell_type": "code",
   "execution_count": null,
   "id": "def6c81b-4d13-4d53-8710-e26bf5476436",
   "metadata": {},
   "outputs": [],
   "source": [
    "#@title Dibujo enviado por Flor {display-mode:\"form\"}\n",
    "ir_a_casa()\n",
    "borrar_todo()\n",
    "\n",
    "import math\n",
    "\n",
    "n, m = 11,8\n",
    "x_central, y_central = 300, 250\n",
    "\n",
    "def radius(n,m,theta):\n",
    "  return math.cos(theta * n/m)\n",
    "\n",
    "def polar_to_cartesian(r, theta):\n",
    "  x = r * math.cos(theta)\n",
    "  y = r * math.sin(theta)\n",
    "  return x, y\n",
    "\n",
    "velocidad(13)\n",
    "ancho_linea(2)\n",
    "\n",
    "radio_del_dibujo = 100\n",
    "n_angulos = 501\n",
    "for i in range(n_angulos):\n",
    "    theta = 16 * math.pi * i / (n_angulos - 1)\n",
    "    r = radius(n,m,theta)\n",
    "    x, y = polar_to_cartesian(r, theta)\n",
    "    ir_a_xy(x*radio_del_dibujo + x_central, y*radio_del_dibujo + y_central)"
   ]
  },
  {
   "cell_type": "markdown",
   "id": "486a4c4a-cd6e-4d96-9395-85f3fae1c094",
   "metadata": {},
   "source": [
    "# [Envia tus dibujos a traves de este enlace](https://www.freecodingtour.com/cursos/espanol/programacion_basico/programacion.html)"
   ]
  }
 ],
 "metadata": {
  "kernelspec": {
   "display_name": "Python 3 (ipykernel)",
   "language": "python",
   "name": "python3"
  },
  "language_info": {
   "codemirror_mode": {
    "name": "ipython",
    "version": 3
   },
   "file_extension": ".py",
   "mimetype": "text/x-python",
   "name": "python",
   "nbconvert_exporter": "python",
   "pygments_lexer": "ipython3",
   "version": "3.9.7"
  }
 },
 "nbformat": 4,
 "nbformat_minor": 5
}
