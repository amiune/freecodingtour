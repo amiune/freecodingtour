{
 "cells": [
  {
   "cell_type": "markdown",
   "metadata": {},
   "source": [
    "# Mas Instrucciones"
   ]
  },
  {
   "cell_type": "markdown",
   "metadata": {},
   "source": [
    "Primero que nada presionamos el icono ▶️ para ejecutar (se encuentra a la izquierda de cada celda que contiene nuestro codigo de programacion, aparece cuando posicionamos el raton o mouse encima de el)\n",
    "\n",
    "Ejecutar la siguiente celda para despertar a la tortuga y poder empezar a darle instrucciones (ten en cuenta que despertar a la tortuga puede tomar un par de minutos, ten paciencia):"
   ]
  },
  {
   "cell_type": "code",
   "execution_count": null,
   "metadata": {},
   "outputs": [],
   "source": [
    "# NO HACE FALTA ENTENDER ESTE CODIGO. \n",
    "# SOLO EJECUTARLO PARA EMPEZAR\n",
    "# PUEDE TARDAR UN PAR DE MINUTOS\n",
    "!pip install SeTeEscapoLaTortuga -U -q\n",
    "from SeTeEscapoLaTortuga.Turtle import *\n",
    "despertar_tortuga()"
   ]
  },
  {
   "cell_type": "markdown",
   "metadata": {},
   "source": [
    "## La Tortuga entiende mas instrucciones. Probemos ahora algunas de ellas."
   ]
  },
  {
   "cell_type": "markdown",
   "metadata": {},
   "source": [
    "Veamos como funcionan las instrucciones `dibujar()` y `no_dibujar()`. Intercalemos estas instrucciones para lograr una linea punteada:"
   ]
  },
  {
   "cell_type": "code",
   "execution_count": null,
   "metadata": {},
   "outputs": [],
   "source": [
    "ir_a_casa()\n",
    "borrar_todo()\n",
    "\n",
    "adelante(30)\n",
    "no_dibujar()\n",
    "\n",
    "adelante(30)\n",
    "dibujar()\n",
    "\n",
    "adelante(30)\n",
    "no_dibujar()\n",
    "\n",
    "adelante(30)\n",
    "dibujar()\n",
    "\n",
    "adelante(30)\n",
    "no_dibujar()\n",
    "\n",
    "adelante(30)\n",
    "dibujar()\n",
    "\n",
    "adelante(30)"
   ]
  },
  {
   "cell_type": "markdown",
   "metadata": {},
   "source": [
    "### Ejercicio 1: \n",
    "\n",
    "Utiliza el ejemplo anterior y la instruccion `for` para dibujar un cuadrado con lineas punteadas."
   ]
  },
  {
   "cell_type": "code",
   "execution_count": null,
   "metadata": {},
   "outputs": [],
   "source": [
    "# Escribe aqui tus instrucciones\n",
    "\n",
    "\n"
   ]
  },
  {
   "cell_type": "markdown",
   "metadata": {},
   "source": [
    "<details>\n",
    "<summary>Click aqui para ver la Solucion del Ejercicio 1</summary>\n",
    "<code>\n",
    "\n",
    "ir_a_casa()<br>\n",
    "borrar_todo()<br>\n",
    "<br>\n",
    "for x in range(4):<br>\n",
    "&nbsp;&nbsp;adelante(30)<br>\n",
    "&nbsp;&nbsp;no_dibujar()<br>\n",
    "&nbsp;&nbsp;adelante(30)<br>\n",
    "&nbsp;&nbsp;dibujar()<br>\n",
    "&nbsp;&nbsp;adelante(30)<br>\n",
    "&nbsp;&nbsp;no_dibujar()<br>\n",
    "&nbsp;&nbsp;adelante(30)<br>\n",
    "&nbsp;&nbsp;dibujar()<br>\n",
    "&nbsp;&nbsp;adelante(30)<br>\n",
    "&nbsp;&nbsp;no_dibujar()<br>\n",
    "&nbsp;&nbsp;adelante(30)<br>\n",
    "&nbsp;&nbsp;dibujar()<br>\n",
    "&nbsp;&nbsp;adelante(30)<br>\n",
    "&nbsp;&nbsp;derecha(90)<br>\n",
    "<br>\n",
    "\n",
    "</code>\n",
    "</details>"
   ]
  },
  {
   "cell_type": "markdown",
   "metadata": {},
   "source": [
    "Probemos ahora mas instrucciones para mover y darle direccion a la tortuga:\n",
    "\n",
    "- `mover_a_x(x)` -> Mueve la tortuga a una posicion en x, y queda igual.\n",
    "- `mover_a_y(y)` -> Mueve la tortuga a una posicion en y, x queda igual.\n",
    "- `ir_a_xy(x,y)` Mueve la tortuga a una posicion definida por x e y\n",
    "- `direccion(grados)` -> Gira la tortuga a un angulo definido por grados, donde 0 es hacia arriba.\n",
    "\n",
    "Veamoslas en funcionamiento:"
   ]
  },
  {
   "cell_type": "code",
   "execution_count": null,
   "metadata": {},
   "outputs": [],
   "source": [
    "ir_a_casa()\n",
    "borrar_todo()\n",
    "\n",
    "mover_a_x(0)"
   ]
  },
  {
   "cell_type": "markdown",
   "metadata": {},
   "source": [
    "Como vemos `mover_a_x(x)` mueve la tortuga solo horizontalmente (en el eje x) y el cero esta ubicado a la izquierda de la ventana."
   ]
  },
  {
   "cell_type": "code",
   "execution_count": null,
   "metadata": {},
   "outputs": [],
   "source": [
    "ir_a_casa()\n",
    "borrar_todo()\n",
    "\n",
    "mover_a_y(0)"
   ]
  },
  {
   "cell_type": "markdown",
   "metadata": {},
   "source": [
    "Como vemos `mover_a_y(y)` mueve la tortuga solo verticalmente (en el eje y) y el cero esta ubicado a en la parte de arriba de la ventana."
   ]
  },
  {
   "cell_type": "code",
   "execution_count": null,
   "metadata": {},
   "outputs": [],
   "source": [
    "ir_a_casa()\n",
    "borrar_todo()\n",
    "\n",
    "ir_a_xy(800,500)"
   ]
  },
  {
   "cell_type": "markdown",
   "metadata": {},
   "source": [
    "Como vemos `ir_a_y(y)` mueve a la tortuga a la posicion x,y. Tambien podemos ver que la ventana donde dibuja la tortuga tiene 800 pixeles de ancho (en x) y 500 pixeles de alto (en y).\n",
    "\n",
    "Podemos graficar las coordenadas (x,y) de la siguiente forma:\n",
    "```\n",
    " 0,0  ------------------------ 800,0\n",
    "    |                           |\n",
    "    |                           |\n",
    "    |                           |\n",
    "    |                           |\n",
    "    |                           |\n",
    "    |                           |\n",
    "0,500 ----------------------- 800,500\n",
    "```\n",
    "\n",
    "Y el centro se encontrara en x = 400, y = 250 que es donde esta la tortuga al inicio y cuando ejecutamos la instruccion `ir_a_casa()`"
   ]
  },
  {
   "cell_type": "code",
   "execution_count": null,
   "metadata": {},
   "outputs": [],
   "source": [
    "ir_a_casa()\n",
    "borrar_todo()\n",
    "\n",
    "ir_a_xy(400,250)"
   ]
  },
  {
   "cell_type": "markdown",
   "metadata": {},
   "source": [
    "La instruccion `direccion(grados)` sirve para definir la direccion de la tortuga independientemente de donde este apuntando en ese momento. Es decir `direccion(0)` siempre hara que apunte hacia la derecha y `direccion(90)` hara que siempre apunte hacia abajo.\n",
    "\n",
    "```\n",
    "                270grad    300grad\n",
    "                    |      /\n",
    "                    |     /\n",
    "                    |    /\n",
    "                    |   /\n",
    "                    |  /\n",
    "                    | /\n",
    " 180grad _ _ _ _ _ _|/_ _ _ _ _ _ _ _ 0grad o 360grad\n",
    "                    |\n",
    "                    |\n",
    "                    |\n",
    "                    |\n",
    "                    |\n",
    "                    |\n",
    "                    |\n",
    "                 90grad\n",
    " \n",
    "```"
   ]
  },
  {
   "cell_type": "code",
   "execution_count": null,
   "metadata": {},
   "outputs": [],
   "source": [
    "ir_a_casa()\n",
    "borrar_todo()\n",
    "\n",
    "direccion(0)\n",
    "adelante(100)"
   ]
  },
  {
   "cell_type": "code",
   "execution_count": null,
   "metadata": {},
   "outputs": [],
   "source": [
    "ir_a_casa()\n",
    "borrar_todo()\n",
    "\n",
    "direccion(90)\n",
    "adelante(100)"
   ]
  },
  {
   "cell_type": "code",
   "execution_count": null,
   "metadata": {},
   "outputs": [],
   "source": [
    "ir_a_casa()\n",
    "borrar_todo()\n",
    "\n",
    "direccion(300)\n",
    "adelante(100)"
   ]
  },
  {
   "cell_type": "markdown",
   "metadata": {},
   "source": [
    "Veamos que podemos hacer utilizando esto en combinacion con la instruccion for\n",
    "\n",
    "Para crear todos los angulos desde cero hasta 360 incrementando de 30 en 30 podemos usar la instruccion for:\n",
    "```\n",
    "for angulo in [0,30,60,90,120,150,180,210,240,270,300,330]:\n",
    "    ir_a_casa()\n",
    "    direccion(angulo)\n",
    "    adelante(100)\n",
    "```"
   ]
  },
  {
   "cell_type": "code",
   "execution_count": null,
   "metadata": {},
   "outputs": [],
   "source": [
    "ir_a_casa()\n",
    "borrar_todo()\n",
    "velocidad(13)\n",
    "\n",
    "for angulo in [0,30,60,90,120,150,180,210,240,270,300,330,360]:\n",
    "    ir_a_casa()\n",
    "    direccion(angulo)\n",
    "    adelante(100)"
   ]
  },
  {
   "cell_type": "markdown",
   "metadata": {},
   "source": [
    "Tambien podemos hacerlo utilizando range(inicio, fin, intervalo):\n",
    "```\n",
    "for angulo in range(0, 361, 30):\n",
    "    ir_a_casa()\n",
    "    direccion(angulo)\n",
    "    adelante(100)\n",
    "```"
   ]
  },
  {
   "cell_type": "code",
   "execution_count": null,
   "metadata": {},
   "outputs": [],
   "source": [
    "ir_a_casa()\n",
    "borrar_todo()\n",
    "velocidad(13)\n",
    "\n",
    "for angulo in range(0, 361, 30):\n",
    "    ir_a_casa()\n",
    "    direccion(angulo)\n",
    "    adelante(100)"
   ]
  },
  {
   "cell_type": "markdown",
   "metadata": {},
   "source": [
    "### Ejercicio 2: \n",
    "\n",
    "Cambia en range(inicio, fin, intervalo) el inicio, el fin y el intervalo para ver como funciona."
   ]
  },
  {
   "cell_type": "code",
   "execution_count": null,
   "metadata": {},
   "outputs": [],
   "source": [
    "ir_a_casa()\n",
    "borrar_todo()\n",
    "velocidad(13)\n",
    "\n",
    "for angulo in range(0, 361, 30):\n",
    "    ir_a_casa()\n",
    "    direccion(angulo)\n",
    "    adelante(100)"
   ]
  },
  {
   "cell_type": "markdown",
   "metadata": {},
   "source": [
    "<details>\n",
    "<summary>Click aqui para ver la Solucion del Ejercicio 2</summary>\n",
    "<code>\n",
    "\n",
    "ir_a_casa()<br>\n",
    "borrar_todo()<br>\n",
    "velocidad(13)<br>\n",
    "<br>\n",
    "for angulo in range(90, 181, 5):<br>\n",
    "&nbsp;&nbsp;ir_a_casa()<br>\n",
    "&nbsp;&nbsp;direccion(angulo)<br>\n",
    "&nbsp;&nbsp;adelante(100)<br>\n",
    "\n",
    "</code>\n",
    "</details>"
   ]
  },
  {
   "cell_type": "markdown",
   "metadata": {},
   "source": [
    "## Resumen de todas las instrucciones que entiende la Tortuga\n",
    "\n",
    "- `borrar_todo()` -> Borra todo lo que haya dibujado la tortuga.\n",
    "- `adelante(unidades)` -> Mueve la tortuga en la direccion que esta mirando .\n",
    "- `atras(unidades)` -> Mueve la tortuga en la direccion opuesta que esta mirando.\n",
    "- `derecha(grados)` -> Gira la tortuga hacia la derecha la cantidad de grados.\n",
    "- `izquierda(grados)` -> Gira la tortuga hacia la izquierda la cantidad de grados.\n",
    "- `no_dibujar()` -> La tortuga se movera sin dibujar luego de esta instruccion.\n",
    "- `dibujar()` -> La tortuga volvera a dibujar si no lo estaba haciendo.\n",
    "- `velocidad(s)` -> Define la velocidad de la tortuga. Debe ser un numero de 1 (mas lento) a 13 (mas rapido).\n",
    "- `mover_a_x(x)` -> Mueve la tortuga a una posicion en x, y queda igual.\n",
    "- `mover_a_y(y)` -> Mueve la tortuga a una posicion en y, x queda igual.\n",
    "- `ir_a_xy(x,y)` Mueve la tortuga a una posicion definida por x e y\n",
    "- `ir_a_casa()` -> Mueve la tortuga al centro y mirando al norte.\n",
    "- `direccion(grados)` -> Gira la tortuga a un angulo definido por grados, donde 0 es hacia arriba.\n",
    "- `xcor()` -> Devuelve la coordenada x de la tortuga.\n",
    "- `ycor()` -> Devuelve la coordenada y de la tortuga.\n",
    "- `posicion()` -> Devuelve las coordinadas x,y de la tortuga.\n",
    "- `obtener_direccion()` -> Devuelve hacia donde esta apuntando la tortuga en grados, donde 0 es hacia el norte.\n",
    "- `mostrar_tortuga()` -> Muestra la tortuga si estaba oculta.\n",
    "- `ocultar_tortuga()` -> Oculta la tortuga.\n",
    "- `es_visible()` -> Devulve True si la tortuga es visible o False si no.\n",
    "- `color_de_fondo(color_elegido)` -> Cambia el color de fondo.\n",
    "- `color_de_fondo(r,g,b)` -> Cambia el color de fondo.\n",
    "- `color(color_elegido)` -> Cambia el color con el que la tortuga dibuja.\n",
    "- `color(r,g,b)` -> Cambia el color con el que la tortuga dibuja.\n",
    "- `ancho_linea(w)` -> Cambia el gosor de la linea del dibujo.\n",
    "- `distancia(x,y)` -> Devuelve la distancia de la tortuga a la posicion x,y.\n",
    "- `ancho_de_la_ventana()` -> Devuelve el ancho de la ventana donde dibuja la tortuga.\n",
    "- `alto_de_la_ventana()` -> Devuelve el alto de la ventana donde dibuja la tortuga.\n",
    "\n",
    "### Intenta probar y jugar con algunas de estas instrucciones para crear tus propios dibujos."
   ]
  },
  {
   "cell_type": "markdown",
   "metadata": {},
   "source": [
    "# Fin: [Volver al contenido del curso](https://www.freecodingtour.com/cursos/espanol/programacion_basico/programacion.html)"
   ]
  }
 ],
 "metadata": {
  "kernelspec": {
   "display_name": "Python 3 (ipykernel)",
   "language": "python",
   "name": "python3"
  },
  "language_info": {
   "codemirror_mode": {
    "name": "ipython",
    "version": 3
   },
   "file_extension": ".py",
   "mimetype": "text/x-python",
   "name": "python",
   "nbconvert_exporter": "python",
   "pygments_lexer": "ipython3",
   "version": "3.9.7"
  }
 },
 "nbformat": 4,
 "nbformat_minor": 4
}
