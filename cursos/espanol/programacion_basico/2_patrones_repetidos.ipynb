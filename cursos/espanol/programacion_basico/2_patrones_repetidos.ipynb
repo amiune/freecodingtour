{
 "cells": [
  {
   "cell_type": "markdown",
   "metadata": {},
   "source": [
    "# Encontrando Patrones que se Repiten"
   ]
  },
  {
   "cell_type": "markdown",
   "metadata": {},
   "source": [
    "Primero que nada presionamos el icono ▶️ para ejecutar (se encuentra a la izquierda de cada celda que contiene nuestro codigo de programacion, aparece cuando posicionamos el raton o mouse encima de el)\n",
    "\n",
    "Ejecutar la siguiente celda para despertar a la tortuga y poder empezar a darle instrucciones (ten en cuenta que despertar a la tortuga puede tomar un par de minutos, ten paciencia):"
   ]
  },
  {
   "cell_type": "code",
   "execution_count": null,
   "metadata": {},
   "outputs": [],
   "source": [
    "# NO HACE FALTA ENTENDER ESTE CODIGO. \n",
    "# SOLO EJECUTARLO PARA EMPEZAR\n",
    "# PUEDE TARDAR UN PAR DE MINUTOS\n",
    "!pip install SeTeEscapoLaTortuga -U -q\n",
    "from SeTeEscapoLaTortuga.Turtle import *\n",
    "despertar_tortuga()"
   ]
  },
  {
   "cell_type": "markdown",
   "metadata": {},
   "source": [
    "## Comencemos a darle instrucciones\n",
    "\n",
    "Ya sabemos muy bien las instrucciones para hacer un cuadrado:"
   ]
  },
  {
   "cell_type": "code",
   "execution_count": null,
   "metadata": {},
   "outputs": [],
   "source": [
    "ir_a_casa()\n",
    "borrar_todo()\n",
    "\n",
    "adelante(100)\n",
    "derecha(90)\n",
    "\n",
    "adelante(100)\n",
    "derecha(90)\n",
    "\n",
    "adelante(100)\n",
    "derecha(90)\n",
    "\n",
    "adelante(100)\n",
    "derecha(90)"
   ]
  },
  {
   "cell_type": "markdown",
   "metadata": {},
   "source": [
    "Podemos ver que repetimos 4 veces el mismo patron:\n",
    "```\n",
    "adelante(100)\n",
    "derecha(90)\n",
    "```\n",
    "Cuando ocurre esto podemos utilizar una instruccion llamada `for` que le dice a la tortuga que repita el mismo patron una determinada cantidad de veces. \n",
    "\n",
    "Veamos el siguiente ejemplo:"
   ]
  },
  {
   "cell_type": "code",
   "execution_count": 1,
   "metadata": {},
   "outputs": [],
   "source": [
    "ir_a_casa()\n",
    "borrar_todo()\n",
    "\n",
    "for x in range(4):\n",
    "    adelante(100)\n",
    "    derecha(90)"
   ]
  },
  {
   "cell_type": "markdown",
   "metadata": {},
   "source": [
    "**Importante!!:** todo el patron que se repite por el uso de la instruccion for debe estar indentado hacia la derecha. Es decir debe estar movido hacia la derecha."
   ]
  },
  {
   "cell_type": "markdown",
   "metadata": {},
   "source": [
    "### Ejercicio 1: \n",
    "\n",
    "Recordemos las instrucciones para dibujar una escalera.\n",
    "\n",
    "Intenta resolverlo ahora encontrando el patron que se repite y usando la instruccion for:"
   ]
  },
  {
   "cell_type": "code",
   "execution_count": null,
   "metadata": {},
   "outputs": [],
   "source": [
    "# Modifica las instrucciones a continuacion\n",
    "\n",
    "ir_a_casa()\n",
    "borrar_todo()\n",
    "velocidad(6)\n",
    "izquierda(90)\n",
    "\n",
    "\n",
    "adelante(30)\n",
    "derecha(90)\n",
    "adelante(30)\n",
    "izquierda(90)\n",
    "adelante(30)\n",
    "derecha(90)\n",
    "adelante(30)\n",
    "izquierda(90)\n",
    "adelante(30)\n",
    "derecha(90)\n",
    "adelante(30)\n",
    "izquierda(90)\n",
    "adelante(30)\n"
   ]
  },
  {
   "cell_type": "markdown",
   "metadata": {},
   "source": [
    "<details>\n",
    "<summary>Click aqui para ver la Solucion del Ejercicio 1</summary>\n",
    "<code>\n",
    "\n",
    "ir_a_casa()<br>\n",
    "borrar_todo()<br>\n",
    "velocidad(6)<br>\n",
    "izquierda(90)<br>\n",
    "<br>\n",
    "for x in range(10):<br>\n",
    "&nbsp;&nbsp;adelante(30)<br>\n",
    "&nbsp;&nbsp;derecha(90)<br>\n",
    "&nbsp;&nbsp;adelante(30)<br>\n",
    "&nbsp;&nbsp;izquierda(90)<br>\n",
    "\n",
    "</code>\n",
    "</details>"
   ]
  },
  {
   "cell_type": "markdown",
   "metadata": {},
   "source": [
    "## Como funciona la variable x del for\n",
    "\n",
    "Como vimos la instrucciones for genera un bucle que repite las instrucciones que tiene adentro una cierta cantidad de veces. \n",
    "\n",
    "Por ejemplo:\n",
    "```\n",
    "for x in range(4):\n",
    "    adelante(10)\n",
    "    derecha(90)\n",
    "```\n",
    "Repetira 4 veces adelante y derecha generando un cuadrado.\n",
    "\n",
    "La primera vez que se repita `x` tendra el valor de `0 (cero)`\n",
    "\n",
    "La segunda vez que se repita `x` tendra el valor de `1 (uno)`\n",
    "\n",
    "La tercera vez que se repita `x` tendra el valor de `2 (dos)`\n",
    "\n",
    "Y asi sucesivamente."
   ]
  },
  {
   "cell_type": "markdown",
   "metadata": {},
   "source": [
    "Intentemos usar esta variable para dibujar un espiral:"
   ]
  },
  {
   "cell_type": "code",
   "execution_count": null,
   "metadata": {},
   "outputs": [],
   "source": [
    "ir_a_casa()\n",
    "borrar_todo()\n",
    "velocidad(10)\n",
    "\n",
    "for x in range(50):\n",
    "    adelante(10 * x)\n",
    "    derecha(90)\n",
    "    adelante(10 * x)\n",
    "    derecha(90)"
   ]
  },
  {
   "cell_type": "markdown",
   "metadata": {},
   "source": [
    "# Fin: [Volver al contenido del curso](https://www.freecodingtour.com/cursos/espanol/programacion_basico/programacion.html)"
   ]
  }
 ],
 "metadata": {
  "kernelspec": {
   "display_name": "Python 3 (ipykernel)",
   "language": "python",
   "name": "python3"
  },
  "language_info": {
   "codemirror_mode": {
    "name": "ipython",
    "version": 3
   },
   "file_extension": ".py",
   "mimetype": "text/x-python",
   "name": "python",
   "nbconvert_exporter": "python",
   "pygments_lexer": "ipython3",
   "version": "3.9.7"
  }
 },
 "nbformat": 4,
 "nbformat_minor": 4
}
