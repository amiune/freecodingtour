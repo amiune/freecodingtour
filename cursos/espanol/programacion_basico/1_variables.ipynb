{
 "cells": [
  {
   "cell_type": "markdown",
   "metadata": {
    "id": "UV1MnJvtQdW3"
   },
   "source": [
    "# La Tortuga tiene Memoria y sabe Matematicas\n",
    "\n",
    "Hoy veremos que la tortuga tiene memoria y puede hacer operaciones matematicas y como podemos usar eso para hacer nuestros programas mas simples.\n",
    "\n"
   ]
  },
  {
   "cell_type": "markdown",
   "metadata": {
    "id": "Ue6Tx0DKQdW4"
   },
   "source": [
    "Primero que nada presionamos el icono ▶️ para ejecutar (se encuentra a la izquierda de cada celda que contiene nuestro codigo de programacion, aparece cuando posicionamos el raton o mouse encima de el)\n",
    "\n",
    "Ejecutar la siguiente celda para despertar a la tortuga y poder empezar a darle instrucciones (ten en cuenta que despertar a la tortuga puede tomar un par de minutos, ten paciencia):"
   ]
  },
  {
   "cell_type": "code",
   "execution_count": null,
   "metadata": {
    "id": "8gdMqppiQdW4"
   },
   "outputs": [],
   "source": [
    "# NO HACE FALTA ENTENDER ESTE CODIGO.\n",
    "# SOLO EJECUTARLO PARA EMPEZAR\n",
    "# PUEDE TARDAR UN PAR DE MINUTOS\n",
    "!pip install SeTeEscapoLaTortuga -U -q\n",
    "from SeTeEscapoLaTortuga.Turtle import *\n",
    "despertar_tortuga()"
   ]
  },
  {
   "cell_type": "markdown",
   "metadata": {
    "id": "GdcYoENiQdW4"
   },
   "source": [
    "## Comencemos a darle instrucciones\n",
    "\n",
    "En la unidad anterior vimos como hacer un cuadrado:"
   ]
  },
  {
   "cell_type": "code",
   "execution_count": null,
   "metadata": {
    "id": "WtkvOD7QQdW5"
   },
   "outputs": [],
   "source": [
    "ir_a_casa()\n",
    "borrar_todo()\n",
    "\n",
    "adelante(100)\n",
    "derecha(90)\n",
    "adelante(100)\n",
    "derecha(90)\n",
    "adelante(100)\n",
    "derecha(90)\n",
    "adelante(100)"
   ]
  },
  {
   "cell_type": "markdown",
   "metadata": {
    "id": "ACczhEc3QdW5"
   },
   "source": [
    "Supongamos ahora que queremos hacer el cuadrado mas grande, por ejemplo de 300 de lado en vez de cien, para no tener que modificar cada una de las instrucciones podemos hacer uso de variables. Las variables son la memoria de la tortuga y alli podemos guardar valores como por ejemplo el largo de los lados del cuadrado:"
   ]
  },
  {
   "cell_type": "code",
   "execution_count": null,
   "metadata": {
    "id": "2S3CvPJTQdW5"
   },
   "outputs": [],
   "source": [
    "largo = 100\n",
    "\n",
    "ir_a_casa()\n",
    "borrar_todo()\n",
    "\n",
    "adelante(largo)\n",
    "derecha(90)\n",
    "adelante(largo)\n",
    "derecha(90)\n",
    "adelante(largo)\n",
    "derecha(90)\n",
    "adelante(largo)"
   ]
  },
  {
   "cell_type": "markdown",
   "metadata": {
    "id": "D8bPVwpBQdW5"
   },
   "source": [
    "Vemos que ahora solo tenemos que modificar el valor de la variable `largo` para que cambie el largo de todos los lados. Por ejemplo:"
   ]
  },
  {
   "cell_type": "code",
   "execution_count": null,
   "metadata": {},
   "outputs": [],
   "source": [
    "largo = 300\n",
    "\n",
    "ir_a_casa()\n",
    "borrar_todo()\n",
    "\n",
    "adelante(largo)\n",
    "derecha(90)\n",
    "adelante(largo)\n",
    "derecha(90)\n",
    "adelante(largo)\n",
    "derecha(90)\n",
    "adelante(largo)"
   ]
  },
  {
   "cell_type": "markdown",
   "metadata": {
    "id": "-Jj4DTdEQdW5"
   },
   "source": [
    "Modifica el valor de la variable `largo` de la celda anterior y vuelve a ejecutarla para ver los distintos resultados."
   ]
  },
  {
   "cell_type": "markdown",
   "metadata": {
    "id": "ojqV4CccQdW6"
   },
   "source": [
    "Ahora probemos escribir una instruccion abajo de otra para que las realice todas juntas y dibujemos un cuadrado de 100 centimetros de lado. Empecemos con borrar_todo e ir_a_casa para empezar de cero."
   ]
  },
  {
   "cell_type": "code",
   "execution_count": null,
   "metadata": {
    "id": "1lzafRT9QdW6"
   },
   "outputs": [],
   "source": [
    "largo = 50\n",
    "\n",
    "ir_a_casa()\n",
    "borrar_todo()\n",
    "\n",
    "adelante(largo)\n",
    "derecha(90)\n",
    "adelante(largo + largo + 10)\n",
    "derecha(90)\n",
    "adelante(largo + largo + 20)\n",
    "derecha(90)\n",
    "adelante(largo + 100)"
   ]
  },
  {
   "cell_type": "markdown",
   "metadata": {
    "id": "bnxTkEFzQdW6"
   },
   "source": [
    "### Ejercicio 1:\n",
    "\n",
    "Dibuja un espiral como el de la unidad anterior pero ahora utilizando una variable `largo=10` y la operacion de multiplicacion para ir aumentando el largo de los lados. Modifica el codigo a continuacion"
   ]
  },
  {
   "cell_type": "code",
   "execution_count": null,
   "metadata": {
    "id": "WHYWaKLaQdW6"
   },
   "outputs": [],
   "source": [
    "# Escribe a continuacion tus instrucciones\n",
    "\n",
    "largo = 10\n",
    "\n",
    "ir_a_casa()\n",
    "borrar_todo()\n",
    "\n",
    "velocidad(6)\n",
    "color(\"white\")\n",
    "\n",
    "adelante(10)\n",
    "derecha(90)\n",
    "adelante(10)\n",
    "derecha(90)\n",
    "adelante(20)\n",
    "derecha(90)\n",
    "adelante(20)\n",
    "derecha(90)\n",
    "adelante(30)\n",
    "derecha(90)\n",
    "adelante(30)\n",
    "derecha(90)\n",
    "adelante(40)\n",
    "derecha(90)\n",
    "adelante(40)\n",
    "derecha(90)\n",
    "adelante(50)\n",
    "derecha(90)\n",
    "adelante(50)\n"
   ]
  },
  {
   "cell_type": "markdown",
   "metadata": {
    "id": "cKBdrgSmQdW6"
   },
   "source": [
    "<details>\n",
    "<summary>Click aqui para ver la Solucion del Ejercicio 1</summary>\n",
    "<code>\n",
    "\n",
    "largo = 10<br>\n",
    "<br>\n",
    "ir_a_casa()<br>\n",
    "borrar_todo()<br>\n",
    "<br>\n",
    "velocidad(6)<br>\n",
    "color(\"white\")<br>\n",
    "<br>\n",
    "adelante(largo)<br>\n",
    "derecha(90)<br>\n",
    "adelante(largo)<br>\n",
    "derecha(90)<br>\n",
    "adelante(largo * 2)<br>\n",
    "derecha(90)<br>\n",
    "adelante(largo * 2)<br>\n",
    "derecha(90)<br>\n",
    "adelante(largo * 3)<br>\n",
    "derecha(90)<br>\n",
    "adelante(largo * 3)<br>\n",
    "derecha(90)<br>\n",
    "adelante(largo * 4)<br>\n",
    "derecha(90)<br>\n",
    "adelante(largo * 4)<br>\n",
    "derecha(90)<br>\n",
    "adelante(largo * 5)<br>\n",
    "derecha(90)<br>\n",
    "adelante(largo * 5)<br>\n",
    "\n",
    "\n",
    "</code>\n",
    "</details>"
   ]
  },
  {
   "cell_type": "markdown",
   "metadata": {
    "id": "_6hIdh9xQdW7"
   },
   "source": [
    "# Fin: [Volver al contenido del curso](https://www.freecodingtour.com/cursos/espanol/programacion_basico/programacion.html)"
   ]
  }
 ],
 "metadata": {
  "colab": {
   "provenance": []
  },
  "kernelspec": {
   "display_name": "Python 3 (ipykernel)",
   "language": "python",
   "name": "python3"
  },
  "language_info": {
   "codemirror_mode": {
    "name": "ipython",
    "version": 3
   },
   "file_extension": ".py",
   "mimetype": "text/x-python",
   "name": "python",
   "nbconvert_exporter": "python",
   "pygments_lexer": "ipython3",
   "version": "3.9.7"
  }
 },
 "nbformat": 4,
 "nbformat_minor": 4
}
